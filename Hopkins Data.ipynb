{
 "cells": [
  {
   "cell_type": "code",
   "execution_count": 1,
   "metadata": {
    "scrolled": true
   },
   "outputs": [
    {
     "name": "stdout",
     "output_type": "stream",
     "text": [
      "Collecting PyGithub\n",
      "  Downloading https://files.pythonhosted.org/packages/cf/f4/0dbe960b829266eb01034b6d82cb423b3e88291d35d901bc8504f2e7a4b9/PyGithub-1.46-py3-none-any.whl (205kB)\n",
      "Collecting pyjwt\n",
      "  Downloading https://files.pythonhosted.org/packages/87/8b/6a9f14b5f781697e51259d81657e6048fd31a113229cf346880bb7545565/PyJWT-1.7.1-py2.py3-none-any.whl\n",
      "Requirement already satisfied: requests>=2.14.0 in c:\\users\\brian\\anaconda3\\lib\\site-packages (from PyGithub) (2.22.0)\n",
      "Collecting deprecated\n",
      "  Downloading https://files.pythonhosted.org/packages/f6/89/62912e01f3cede11edcc0abf81298e3439d9c06c8dce644369380ed13f6d/Deprecated-1.2.7-py2.py3-none-any.whl\n",
      "Requirement already satisfied: urllib3!=1.25.0,!=1.25.1,<1.26,>=1.21.1 in c:\\users\\brian\\anaconda3\\lib\\site-packages (from requests>=2.14.0->PyGithub) (1.24.2)\n",
      "Requirement already satisfied: chardet<3.1.0,>=3.0.2 in c:\\users\\brian\\anaconda3\\lib\\site-packages (from requests>=2.14.0->PyGithub) (3.0.4)\n",
      "Requirement already satisfied: idna<2.9,>=2.5 in c:\\users\\brian\\anaconda3\\lib\\site-packages (from requests>=2.14.0->PyGithub) (2.8)\n",
      "Requirement already satisfied: certifi>=2017.4.17 in c:\\users\\brian\\anaconda3\\lib\\site-packages (from requests>=2.14.0->PyGithub) (2019.9.11)\n",
      "Requirement already satisfied: wrapt<2,>=1.10 in c:\\users\\brian\\anaconda3\\lib\\site-packages (from deprecated->PyGithub) (1.11.2)\n",
      "Installing collected packages: pyjwt, deprecated, PyGithub\n",
      "Successfully installed PyGithub-1.46 deprecated-1.2.7 pyjwt-1.7.1\n"
     ]
    }
   ],
   "source": [
    "!pip install PyGithub"
   ]
  },
  {
   "cell_type": "code",
   "execution_count": 1,
   "metadata": {},
   "outputs": [],
   "source": [
    "from github import Github\n",
    "import os\n",
    "import base64\n",
    "import pandas as pd\n",
    "import numpy as np\n",
    "import re\n",
    "import matplotlib.pyplot as plt\n",
    "import seaborn as sns\n",
    "import plotly.express as px\n",
    "from ipywidgets import interact\n",
    "import datetime as dt\n",
    "sns.set()"
   ]
  },
  {
   "cell_type": "code",
   "execution_count": 2,
   "metadata": {},
   "outputs": [],
   "source": [
    "with open(\"github.txt\") as myfile:\n",
    "    firstNlines=myfile.readlines()[0:2]\n",
    "myfile.close()"
   ]
  },
  {
   "cell_type": "code",
   "execution_count": 3,
   "metadata": {},
   "outputs": [],
   "source": [
    "g = Github(firstNlines[0].strip(), firstNlines[1])"
   ]
  },
  {
   "cell_type": "code",
   "execution_count": 4,
   "metadata": {},
   "outputs": [],
   "source": [
    "repo=g.get_repo('CSSEGISandData/COVID-19')"
   ]
  },
  {
   "cell_type": "code",
   "execution_count": 5,
   "metadata": {},
   "outputs": [],
   "source": [
    "contents = repo.get_contents(\"\")"
   ]
  },
  {
   "cell_type": "code",
   "execution_count": 6,
   "metadata": {},
   "outputs": [
    {
     "data": {
      "text/plain": [
       "ContentFile(path=\"csse_covid_19_data\")"
      ]
     },
     "execution_count": 6,
     "metadata": {},
     "output_type": "execute_result"
    }
   ],
   "source": [
    "contents[3]"
   ]
  },
  {
   "cell_type": "code",
   "execution_count": 7,
   "metadata": {},
   "outputs": [],
   "source": [
    "def get_sha_for_tag(repository, tag):\n",
    "    \"\"\"\n",
    "    Returns a commit PyGithub object for the specified repository and tag.\n",
    "    \"\"\"\n",
    "    branches = repository.get_branches()\n",
    "    matched_branches = [match for match in branches if match.name == tag]\n",
    "    if matched_branches:\n",
    "        return matched_branches[0].commit.sha\n",
    "\n",
    "    tags = repository.get_tags()\n",
    "    matched_tags = [match for match in tags if match.name == tag]\n",
    "    if not matched_tags:\n",
    "        raise ValueError('No Tag or Branch exists with that name')\n",
    "    return matched_tags[0].commit.sha"
   ]
  },
  {
   "cell_type": "code",
   "execution_count": 8,
   "metadata": {},
   "outputs": [],
   "source": [
    "def download_directory(repository, sha, server_path):\n",
    "    \"\"\"\n",
    "    Download all contents at server_path with commit tag sha in\n",
    "    the repository.\n",
    "    \"\"\"\n",
    "    contents = repository.get_contents(server_path, ref=sha)\n",
    "\n",
    "    for content in contents:\n",
    "        print(\"Processing %s\" % content.path)\n",
    "        if content.type == 'dir':\n",
    "            download_directory(repository, sha, content.path)\n",
    "        else:\n",
    "            try:\n",
    "                path = content.path\n",
    "                file_content = repository.get_contents(path, ref=sha)\n",
    "                file_data = base64.b64decode(file_content.content).decode('ascii')\n",
    "                file_out = open(content.name, \"w\")\n",
    "                file_out.write(file_data)\n",
    "                file_out.close()\n",
    "            except:\n",
    "                pass"
   ]
  },
  {
   "cell_type": "code",
   "execution_count": 9,
   "metadata": {},
   "outputs": [],
   "source": [
    "sha = get_sha_for_tag(repo, 'master')"
   ]
  },
  {
   "cell_type": "code",
   "execution_count": 10,
   "metadata": {},
   "outputs": [
    {
     "name": "stdout",
     "output_type": "stream",
     "text": [
      "Processing csse_covid_19_data/csse_covid_19_daily_reports/.gitignore\n",
      "Processing csse_covid_19_data/csse_covid_19_daily_reports/01-22-2020.csv\n",
      "Processing csse_covid_19_data/csse_covid_19_daily_reports/01-23-2020.csv\n",
      "Processing csse_covid_19_data/csse_covid_19_daily_reports/01-24-2020.csv\n",
      "Processing csse_covid_19_data/csse_covid_19_daily_reports/01-25-2020.csv\n",
      "Processing csse_covid_19_data/csse_covid_19_daily_reports/01-26-2020.csv\n",
      "Processing csse_covid_19_data/csse_covid_19_daily_reports/01-27-2020.csv\n",
      "Processing csse_covid_19_data/csse_covid_19_daily_reports/01-28-2020.csv\n",
      "Processing csse_covid_19_data/csse_covid_19_daily_reports/01-29-2020.csv\n",
      "Processing csse_covid_19_data/csse_covid_19_daily_reports/01-30-2020.csv\n",
      "Processing csse_covid_19_data/csse_covid_19_daily_reports/01-31-2020.csv\n",
      "Processing csse_covid_19_data/csse_covid_19_daily_reports/02-01-2020.csv\n",
      "Processing csse_covid_19_data/csse_covid_19_daily_reports/02-02-2020.csv\n",
      "Processing csse_covid_19_data/csse_covid_19_daily_reports/02-03-2020.csv\n",
      "Processing csse_covid_19_data/csse_covid_19_daily_reports/02-04-2020.csv\n",
      "Processing csse_covid_19_data/csse_covid_19_daily_reports/02-05-2020.csv\n",
      "Processing csse_covid_19_data/csse_covid_19_daily_reports/02-06-2020.csv\n",
      "Processing csse_covid_19_data/csse_covid_19_daily_reports/02-07-2020.csv\n",
      "Processing csse_covid_19_data/csse_covid_19_daily_reports/02-08-2020.csv\n",
      "Processing csse_covid_19_data/csse_covid_19_daily_reports/02-09-2020.csv\n",
      "Processing csse_covid_19_data/csse_covid_19_daily_reports/02-10-2020.csv\n",
      "Processing csse_covid_19_data/csse_covid_19_daily_reports/02-11-2020.csv\n",
      "Processing csse_covid_19_data/csse_covid_19_daily_reports/02-12-2020.csv\n",
      "Processing csse_covid_19_data/csse_covid_19_daily_reports/02-13-2020.csv\n",
      "Processing csse_covid_19_data/csse_covid_19_daily_reports/02-14-2020.csv\n",
      "Processing csse_covid_19_data/csse_covid_19_daily_reports/02-15-2020.csv\n",
      "Processing csse_covid_19_data/csse_covid_19_daily_reports/02-16-2020.csv\n",
      "Processing csse_covid_19_data/csse_covid_19_daily_reports/02-17-2020.csv\n",
      "Processing csse_covid_19_data/csse_covid_19_daily_reports/02-18-2020.csv\n",
      "Processing csse_covid_19_data/csse_covid_19_daily_reports/02-19-2020.csv\n",
      "Processing csse_covid_19_data/csse_covid_19_daily_reports/02-20-2020.csv\n",
      "Processing csse_covid_19_data/csse_covid_19_daily_reports/02-21-2020.csv\n",
      "Processing csse_covid_19_data/csse_covid_19_daily_reports/02-22-2020.csv\n",
      "Processing csse_covid_19_data/csse_covid_19_daily_reports/02-23-2020.csv\n",
      "Processing csse_covid_19_data/csse_covid_19_daily_reports/02-24-2020.csv\n",
      "Processing csse_covid_19_data/csse_covid_19_daily_reports/02-25-2020.csv\n",
      "Processing csse_covid_19_data/csse_covid_19_daily_reports/02-26-2020.csv\n",
      "Processing csse_covid_19_data/csse_covid_19_daily_reports/02-27-2020.csv\n",
      "Processing csse_covid_19_data/csse_covid_19_daily_reports/02-28-2020.csv\n",
      "Processing csse_covid_19_data/csse_covid_19_daily_reports/02-29-2020.csv\n",
      "Processing csse_covid_19_data/csse_covid_19_daily_reports/03-01-2020.csv\n",
      "Processing csse_covid_19_data/csse_covid_19_daily_reports/03-02-2020.csv\n",
      "Processing csse_covid_19_data/csse_covid_19_daily_reports/03-03-2020.csv\n",
      "Processing csse_covid_19_data/csse_covid_19_daily_reports/03-04-2020.csv\n",
      "Processing csse_covid_19_data/csse_covid_19_daily_reports/03-05-2020.csv\n",
      "Processing csse_covid_19_data/csse_covid_19_daily_reports/03-06-2020.csv\n",
      "Processing csse_covid_19_data/csse_covid_19_daily_reports/03-07-2020.csv\n",
      "Processing csse_covid_19_data/csse_covid_19_daily_reports/03-08-2020.csv\n",
      "Processing csse_covid_19_data/csse_covid_19_daily_reports/03-09-2020.csv\n",
      "Processing csse_covid_19_data/csse_covid_19_daily_reports/README.md\n"
     ]
    }
   ],
   "source": [
    "download_directory(repo, sha, 'csse_covid_19_data/csse_covid_19_daily_reports')"
   ]
  },
  {
   "cell_type": "code",
   "execution_count": 11,
   "metadata": {},
   "outputs": [],
   "source": [
    "df = pd.read_csv(r'C:\\Users\\brian\\projects\\COVID-19\\csse_daily_reports\\02-01-2020.csv')"
   ]
  },
  {
   "cell_type": "code",
   "execution_count": 12,
   "metadata": {},
   "outputs": [],
   "source": [
    "from os import listdir\n",
    "from os.path import isfile, join\n",
    "mypath = r'C:\\Users\\brian\\projects\\COVID-19\\csse_daily_reports\\\\'\n",
    "onlyfiles = [f for f in listdir(mypath) if isfile(join(mypath, f))]"
   ]
  },
  {
   "cell_type": "code",
   "execution_count": 13,
   "metadata": {},
   "outputs": [],
   "source": [
    "def is_non_zero_file(fpath):\n",
    "    return os.path.isfile(fpath) and os.path.getsize(fpath) > 0"
   ]
  },
  {
   "cell_type": "code",
   "execution_count": 14,
   "metadata": {},
   "outputs": [],
   "source": [
    "nonzero_files = []\n",
    "for file in onlyfiles:\n",
    "    if is_non_zero_file(mypath + file) and file[-3:]=='csv':\n",
    "        nonzero_files.append(mypath + file)"
   ]
  },
  {
   "cell_type": "code",
   "execution_count": 15,
   "metadata": {},
   "outputs": [
    {
     "data": {
      "text/plain": [
       "['C:\\\\Users\\\\brian\\\\projects\\\\COVID-19\\\\csse_daily_reports\\\\\\\\02-01-2020.csv',\n",
       " 'C:\\\\Users\\\\brian\\\\projects\\\\COVID-19\\\\csse_daily_reports\\\\\\\\02-02-2020.csv',\n",
       " 'C:\\\\Users\\\\brian\\\\projects\\\\COVID-19\\\\csse_daily_reports\\\\\\\\02-03-2020.csv',\n",
       " 'C:\\\\Users\\\\brian\\\\projects\\\\COVID-19\\\\csse_daily_reports\\\\\\\\02-04-2020.csv',\n",
       " 'C:\\\\Users\\\\brian\\\\projects\\\\COVID-19\\\\csse_daily_reports\\\\\\\\02-05-2020.csv',\n",
       " 'C:\\\\Users\\\\brian\\\\projects\\\\COVID-19\\\\csse_daily_reports\\\\\\\\02-06-2020.csv',\n",
       " 'C:\\\\Users\\\\brian\\\\projects\\\\COVID-19\\\\csse_daily_reports\\\\\\\\02-07-2020.csv',\n",
       " 'C:\\\\Users\\\\brian\\\\projects\\\\COVID-19\\\\csse_daily_reports\\\\\\\\02-08-2020.csv',\n",
       " 'C:\\\\Users\\\\brian\\\\projects\\\\COVID-19\\\\csse_daily_reports\\\\\\\\02-09-2020.csv',\n",
       " 'C:\\\\Users\\\\brian\\\\projects\\\\COVID-19\\\\csse_daily_reports\\\\\\\\02-10-2020.csv',\n",
       " 'C:\\\\Users\\\\brian\\\\projects\\\\COVID-19\\\\csse_daily_reports\\\\\\\\02-11-2020.csv',\n",
       " 'C:\\\\Users\\\\brian\\\\projects\\\\COVID-19\\\\csse_daily_reports\\\\\\\\02-12-2020.csv',\n",
       " 'C:\\\\Users\\\\brian\\\\projects\\\\COVID-19\\\\csse_daily_reports\\\\\\\\02-13-2020.csv',\n",
       " 'C:\\\\Users\\\\brian\\\\projects\\\\COVID-19\\\\csse_daily_reports\\\\\\\\02-14-2020.csv',\n",
       " 'C:\\\\Users\\\\brian\\\\projects\\\\COVID-19\\\\csse_daily_reports\\\\\\\\02-15-2020.csv',\n",
       " 'C:\\\\Users\\\\brian\\\\projects\\\\COVID-19\\\\csse_daily_reports\\\\\\\\02-16-2020.csv',\n",
       " 'C:\\\\Users\\\\brian\\\\projects\\\\COVID-19\\\\csse_daily_reports\\\\\\\\02-17-2020.csv',\n",
       " 'C:\\\\Users\\\\brian\\\\projects\\\\COVID-19\\\\csse_daily_reports\\\\\\\\02-18-2020.csv',\n",
       " 'C:\\\\Users\\\\brian\\\\projects\\\\COVID-19\\\\csse_daily_reports\\\\\\\\02-19-2020.csv',\n",
       " 'C:\\\\Users\\\\brian\\\\projects\\\\COVID-19\\\\csse_daily_reports\\\\\\\\02-20-2020.csv',\n",
       " 'C:\\\\Users\\\\brian\\\\projects\\\\COVID-19\\\\csse_daily_reports\\\\\\\\02-21-2020.csv',\n",
       " 'C:\\\\Users\\\\brian\\\\projects\\\\COVID-19\\\\csse_daily_reports\\\\\\\\02-22-2020.csv',\n",
       " 'C:\\\\Users\\\\brian\\\\projects\\\\COVID-19\\\\csse_daily_reports\\\\\\\\02-23-2020.csv',\n",
       " 'C:\\\\Users\\\\brian\\\\projects\\\\COVID-19\\\\csse_daily_reports\\\\\\\\02-24-2020.csv',\n",
       " 'C:\\\\Users\\\\brian\\\\projects\\\\COVID-19\\\\csse_daily_reports\\\\\\\\02-25-2020.csv',\n",
       " 'C:\\\\Users\\\\brian\\\\projects\\\\COVID-19\\\\csse_daily_reports\\\\\\\\02-26-2020.csv',\n",
       " 'C:\\\\Users\\\\brian\\\\projects\\\\COVID-19\\\\csse_daily_reports\\\\\\\\02-27-2020.csv',\n",
       " 'C:\\\\Users\\\\brian\\\\projects\\\\COVID-19\\\\csse_daily_reports\\\\\\\\02-28-2020.csv',\n",
       " 'C:\\\\Users\\\\brian\\\\projects\\\\COVID-19\\\\csse_daily_reports\\\\\\\\02-29-2020.csv',\n",
       " 'C:\\\\Users\\\\brian\\\\projects\\\\COVID-19\\\\csse_daily_reports\\\\\\\\03-01-2020.csv',\n",
       " 'C:\\\\Users\\\\brian\\\\projects\\\\COVID-19\\\\csse_daily_reports\\\\\\\\03-02-2020.csv',\n",
       " 'C:\\\\Users\\\\brian\\\\projects\\\\COVID-19\\\\csse_daily_reports\\\\\\\\03-03-2020.csv',\n",
       " 'C:\\\\Users\\\\brian\\\\projects\\\\COVID-19\\\\csse_daily_reports\\\\\\\\03-04-2020.csv',\n",
       " 'C:\\\\Users\\\\brian\\\\projects\\\\COVID-19\\\\csse_daily_reports\\\\\\\\03-05-2020.csv',\n",
       " 'C:\\\\Users\\\\brian\\\\projects\\\\COVID-19\\\\csse_daily_reports\\\\\\\\03-06-2020.csv',\n",
       " 'C:\\\\Users\\\\brian\\\\projects\\\\COVID-19\\\\csse_daily_reports\\\\\\\\03-07-2020.csv',\n",
       " 'C:\\\\Users\\\\brian\\\\projects\\\\COVID-19\\\\csse_daily_reports\\\\\\\\03-08-2020.csv',\n",
       " 'C:\\\\Users\\\\brian\\\\projects\\\\COVID-19\\\\csse_daily_reports\\\\\\\\03-09-2020.csv']"
      ]
     },
     "execution_count": 15,
     "metadata": {},
     "output_type": "execute_result"
    }
   ],
   "source": [
    "nonzero_files"
   ]
  },
  {
   "cell_type": "code",
   "execution_count": 16,
   "metadata": {},
   "outputs": [],
   "source": [
    "df_list = []\n",
    "for file in nonzero_files:\n",
    "    df_1 = pd.read_csv(file)\n",
    "    df_1['filename'] = file[-15:]\n",
    "    df_list.append(df_1)  "
   ]
  },
  {
   "cell_type": "code",
   "execution_count": 17,
   "metadata": {
    "scrolled": true
   },
   "outputs": [
    {
     "name": "stderr",
     "output_type": "stream",
     "text": [
      "C:\\Users\\brian\\Anaconda3\\lib\\site-packages\\ipykernel_launcher.py:1: FutureWarning:\n",
      "\n",
      "Sorting because non-concatenation axis is not aligned. A future version\n",
      "of pandas will change to not sort by default.\n",
      "\n",
      "To accept the future behavior, pass 'sort=False'.\n",
      "\n",
      "To retain the current behavior and silence the warning, pass 'sort=True'.\n",
      "\n",
      "\n"
     ]
    }
   ],
   "source": [
    "df = pd.concat(df_list, ignore_index=True)"
   ]
  },
  {
   "cell_type": "code",
   "execution_count": 18,
   "metadata": {},
   "outputs": [
    {
     "name": "stdout",
     "output_type": "stream",
     "text": [
      "<class 'pandas.core.frame.DataFrame'>\n",
      "RangeIndex: 4020 entries, 0 to 4019\n",
      "Data columns (total 9 columns):\n",
      "Confirmed         4020 non-null int64\n",
      "Country/Region    4020 non-null object\n",
      "Deaths            4020 non-null int64\n",
      "Last Update       4020 non-null object\n",
      "Latitude          1695 non-null float64\n",
      "Longitude         1695 non-null float64\n",
      "Province/State    2522 non-null object\n",
      "Recovered         4020 non-null int64\n",
      "filename          4020 non-null object\n",
      "dtypes: float64(2), int64(3), object(4)\n",
      "memory usage: 282.8+ KB\n"
     ]
    }
   ],
   "source": [
    "df.info()"
   ]
  },
  {
   "cell_type": "code",
   "execution_count": 19,
   "metadata": {},
   "outputs": [],
   "source": [
    "df['Date'] = pd.to_datetime(df['Last Update'])"
   ]
  },
  {
   "cell_type": "code",
   "execution_count": 20,
   "metadata": {},
   "outputs": [],
   "source": [
    "df.drop(columns=['Latitude', 'Longitude'], inplace=True)"
   ]
  },
  {
   "cell_type": "code",
   "execution_count": 21,
   "metadata": {},
   "outputs": [],
   "source": [
    "df['Diamond Princess'] = df['Province/State'].str.contains('Diamond Princess')"
   ]
  },
  {
   "cell_type": "code",
   "execution_count": 22,
   "metadata": {},
   "outputs": [
    {
     "data": {
      "text/html": [
       "<div>\n",
       "<style scoped>\n",
       "    .dataframe tbody tr th:only-of-type {\n",
       "        vertical-align: middle;\n",
       "    }\n",
       "\n",
       "    .dataframe tbody tr th {\n",
       "        vertical-align: top;\n",
       "    }\n",
       "\n",
       "    .dataframe thead th {\n",
       "        text-align: right;\n",
       "    }\n",
       "</style>\n",
       "<table border=\"1\" class=\"dataframe\">\n",
       "  <thead>\n",
       "    <tr style=\"text-align: right;\">\n",
       "      <th></th>\n",
       "      <th>Confirmed</th>\n",
       "      <th>Country/Region</th>\n",
       "      <th>Deaths</th>\n",
       "      <th>Last Update</th>\n",
       "      <th>Province/State</th>\n",
       "      <th>Recovered</th>\n",
       "      <th>filename</th>\n",
       "      <th>Date</th>\n",
       "      <th>Diamond Princess</th>\n",
       "    </tr>\n",
       "  </thead>\n",
       "  <tbody>\n",
       "    <tr>\n",
       "      <th>1499</th>\n",
       "      <td>4</td>\n",
       "      <td>Australia</td>\n",
       "      <td>0</td>\n",
       "      <td>2020-02-21T23:03:13</td>\n",
       "      <td>From Diamond Princess</td>\n",
       "      <td>0</td>\n",
       "      <td>\\02-21-2020.csv</td>\n",
       "      <td>2020-02-21 23:03:13</td>\n",
       "      <td>True</td>\n",
       "    </tr>\n",
       "    <tr>\n",
       "      <th>1518</th>\n",
       "      <td>1</td>\n",
       "      <td>Israel</td>\n",
       "      <td>0</td>\n",
       "      <td>2020-02-21T15:33:03</td>\n",
       "      <td>From Diamond Princess</td>\n",
       "      <td>0</td>\n",
       "      <td>\\02-21-2020.csv</td>\n",
       "      <td>2020-02-21 15:33:03</td>\n",
       "      <td>True</td>\n",
       "    </tr>\n",
       "    <tr>\n",
       "      <th>1580</th>\n",
       "      <td>7</td>\n",
       "      <td>Australia</td>\n",
       "      <td>0</td>\n",
       "      <td>2020-02-22T17:03:05</td>\n",
       "      <td>From Diamond Princess</td>\n",
       "      <td>0</td>\n",
       "      <td>\\02-22-2020.csv</td>\n",
       "      <td>2020-02-22 17:03:05</td>\n",
       "      <td>True</td>\n",
       "    </tr>\n",
       "    <tr>\n",
       "      <th>1602</th>\n",
       "      <td>1</td>\n",
       "      <td>Israel</td>\n",
       "      <td>0</td>\n",
       "      <td>2020-02-22T20:53:02</td>\n",
       "      <td>From Diamond Princess</td>\n",
       "      <td>0</td>\n",
       "      <td>\\02-22-2020.csv</td>\n",
       "      <td>2020-02-22 20:53:02</td>\n",
       "      <td>True</td>\n",
       "    </tr>\n",
       "    <tr>\n",
       "      <th>1664</th>\n",
       "      <td>7</td>\n",
       "      <td>Australia</td>\n",
       "      <td>0</td>\n",
       "      <td>2020-02-22T17:03:05</td>\n",
       "      <td>From Diamond Princess</td>\n",
       "      <td>0</td>\n",
       "      <td>\\02-23-2020.csv</td>\n",
       "      <td>2020-02-22 17:03:05</td>\n",
       "      <td>True</td>\n",
       "    </tr>\n",
       "    <tr>\n",
       "      <th>1686</th>\n",
       "      <td>1</td>\n",
       "      <td>Israel</td>\n",
       "      <td>0</td>\n",
       "      <td>2020-02-22T20:53:02</td>\n",
       "      <td>From Diamond Princess</td>\n",
       "      <td>0</td>\n",
       "      <td>\\02-23-2020.csv</td>\n",
       "      <td>2020-02-22 20:53:02</td>\n",
       "      <td>True</td>\n",
       "    </tr>\n",
       "    <tr>\n",
       "      <th>1749</th>\n",
       "      <td>7</td>\n",
       "      <td>Australia</td>\n",
       "      <td>0</td>\n",
       "      <td>2020-02-22T17:03:05</td>\n",
       "      <td>From Diamond Princess</td>\n",
       "      <td>0</td>\n",
       "      <td>\\02-24-2020.csv</td>\n",
       "      <td>2020-02-22 17:03:05</td>\n",
       "      <td>True</td>\n",
       "    </tr>\n",
       "    <tr>\n",
       "      <th>1773</th>\n",
       "      <td>1</td>\n",
       "      <td>Israel</td>\n",
       "      <td>0</td>\n",
       "      <td>2020-02-22T20:53:02</td>\n",
       "      <td>From Diamond Princess</td>\n",
       "      <td>0</td>\n",
       "      <td>\\02-24-2020.csv</td>\n",
       "      <td>2020-02-22 20:53:02</td>\n",
       "      <td>True</td>\n",
       "    </tr>\n",
       "    <tr>\n",
       "      <th>1841</th>\n",
       "      <td>7</td>\n",
       "      <td>Australia</td>\n",
       "      <td>0</td>\n",
       "      <td>2020-02-22T17:03:05</td>\n",
       "      <td>From Diamond Princess</td>\n",
       "      <td>0</td>\n",
       "      <td>\\02-25-2020.csv</td>\n",
       "      <td>2020-02-22 17:03:05</td>\n",
       "      <td>True</td>\n",
       "    </tr>\n",
       "    <tr>\n",
       "      <th>1867</th>\n",
       "      <td>1</td>\n",
       "      <td>Israel</td>\n",
       "      <td>0</td>\n",
       "      <td>2020-02-22T20:53:02</td>\n",
       "      <td>From Diamond Princess</td>\n",
       "      <td>0</td>\n",
       "      <td>\\02-25-2020.csv</td>\n",
       "      <td>2020-02-22 20:53:02</td>\n",
       "      <td>True</td>\n",
       "    </tr>\n",
       "    <tr>\n",
       "      <th>1936</th>\n",
       "      <td>7</td>\n",
       "      <td>Australia</td>\n",
       "      <td>0</td>\n",
       "      <td>2020-02-22T17:03:05</td>\n",
       "      <td>From Diamond Princess</td>\n",
       "      <td>0</td>\n",
       "      <td>\\02-26-2020.csv</td>\n",
       "      <td>2020-02-22 17:03:05</td>\n",
       "      <td>True</td>\n",
       "    </tr>\n",
       "    <tr>\n",
       "      <th>2037</th>\n",
       "      <td>8</td>\n",
       "      <td>Australia</td>\n",
       "      <td>0</td>\n",
       "      <td>2020-02-27T03:33:06</td>\n",
       "      <td>From Diamond Princess</td>\n",
       "      <td>0</td>\n",
       "      <td>\\02-27-2020.csv</td>\n",
       "      <td>2020-02-27 03:33:06</td>\n",
       "      <td>True</td>\n",
       "    </tr>\n",
       "    <tr>\n",
       "      <th>2142</th>\n",
       "      <td>8</td>\n",
       "      <td>Australia</td>\n",
       "      <td>0</td>\n",
       "      <td>2020-02-27T03:33:06</td>\n",
       "      <td>From Diamond Princess</td>\n",
       "      <td>0</td>\n",
       "      <td>\\02-28-2020.csv</td>\n",
       "      <td>2020-02-27 03:33:06</td>\n",
       "      <td>True</td>\n",
       "    </tr>\n",
       "    <tr>\n",
       "      <th>2321</th>\n",
       "      <td>0</td>\n",
       "      <td>Australia</td>\n",
       "      <td>0</td>\n",
       "      <td>2020-02-29T02:03:10</td>\n",
       "      <td>From Diamond Princess</td>\n",
       "      <td>0</td>\n",
       "      <td>\\02-29-2020.csv</td>\n",
       "      <td>2020-02-29 02:03:10</td>\n",
       "      <td>True</td>\n",
       "    </tr>\n",
       "    <tr>\n",
       "      <th>2446</th>\n",
       "      <td>0</td>\n",
       "      <td>Australia</td>\n",
       "      <td>0</td>\n",
       "      <td>2020-02-29T02:03:10</td>\n",
       "      <td>From Diamond Princess</td>\n",
       "      <td>0</td>\n",
       "      <td>\\03-01-2020.csv</td>\n",
       "      <td>2020-02-29 02:03:10</td>\n",
       "      <td>True</td>\n",
       "    </tr>\n",
       "    <tr>\n",
       "      <th>2587</th>\n",
       "      <td>0</td>\n",
       "      <td>Australia</td>\n",
       "      <td>0</td>\n",
       "      <td>2020-02-29T02:03:10</td>\n",
       "      <td>From Diamond Princess</td>\n",
       "      <td>0</td>\n",
       "      <td>\\03-02-2020.csv</td>\n",
       "      <td>2020-02-29 02:03:10</td>\n",
       "      <td>True</td>\n",
       "    </tr>\n",
       "    <tr>\n",
       "      <th>2738</th>\n",
       "      <td>0</td>\n",
       "      <td>Australia</td>\n",
       "      <td>0</td>\n",
       "      <td>2020-02-29T02:03:10</td>\n",
       "      <td>From Diamond Princess</td>\n",
       "      <td>0</td>\n",
       "      <td>\\03-03-2020.csv</td>\n",
       "      <td>2020-02-29 02:03:10</td>\n",
       "      <td>True</td>\n",
       "    </tr>\n",
       "    <tr>\n",
       "      <th>2898</th>\n",
       "      <td>0</td>\n",
       "      <td>Australia</td>\n",
       "      <td>0</td>\n",
       "      <td>2020-02-29T02:03:10</td>\n",
       "      <td>From Diamond Princess</td>\n",
       "      <td>0</td>\n",
       "      <td>\\03-04-2020.csv</td>\n",
       "      <td>2020-02-29 02:03:10</td>\n",
       "      <td>True</td>\n",
       "    </tr>\n",
       "    <tr>\n",
       "      <th>3071</th>\n",
       "      <td>0</td>\n",
       "      <td>Australia</td>\n",
       "      <td>0</td>\n",
       "      <td>2020-02-29T02:03:10</td>\n",
       "      <td>From Diamond Princess</td>\n",
       "      <td>0</td>\n",
       "      <td>\\03-05-2020.csv</td>\n",
       "      <td>2020-02-29 02:03:10</td>\n",
       "      <td>True</td>\n",
       "    </tr>\n",
       "    <tr>\n",
       "      <th>3269</th>\n",
       "      <td>0</td>\n",
       "      <td>Australia</td>\n",
       "      <td>0</td>\n",
       "      <td>2020-02-29T02:03:10</td>\n",
       "      <td>From Diamond Princess</td>\n",
       "      <td>0</td>\n",
       "      <td>\\03-06-2020.csv</td>\n",
       "      <td>2020-02-29 02:03:10</td>\n",
       "      <td>True</td>\n",
       "    </tr>\n",
       "    <tr>\n",
       "      <th>3493</th>\n",
       "      <td>0</td>\n",
       "      <td>Australia</td>\n",
       "      <td>0</td>\n",
       "      <td>2020-02-29T02:03:10</td>\n",
       "      <td>From Diamond Princess</td>\n",
       "      <td>0</td>\n",
       "      <td>\\03-07-2020.csv</td>\n",
       "      <td>2020-02-29 02:03:10</td>\n",
       "      <td>True</td>\n",
       "    </tr>\n",
       "    <tr>\n",
       "      <th>3748</th>\n",
       "      <td>0</td>\n",
       "      <td>Australia</td>\n",
       "      <td>0</td>\n",
       "      <td>2020-02-29T02:03:10</td>\n",
       "      <td>From Diamond Princess</td>\n",
       "      <td>0</td>\n",
       "      <td>\\03-08-2020.csv</td>\n",
       "      <td>2020-02-29 02:03:10</td>\n",
       "      <td>True</td>\n",
       "    </tr>\n",
       "    <tr>\n",
       "      <th>4014</th>\n",
       "      <td>0</td>\n",
       "      <td>Australia</td>\n",
       "      <td>0</td>\n",
       "      <td>2020-02-29T02:03:10</td>\n",
       "      <td>From Diamond Princess</td>\n",
       "      <td>0</td>\n",
       "      <td>\\03-09-2020.csv</td>\n",
       "      <td>2020-02-29 02:03:10</td>\n",
       "      <td>True</td>\n",
       "    </tr>\n",
       "  </tbody>\n",
       "</table>\n",
       "</div>"
      ],
      "text/plain": [
       "      Confirmed Country/Region  Deaths          Last Update  \\\n",
       "1499          4      Australia       0  2020-02-21T23:03:13   \n",
       "1518          1         Israel       0  2020-02-21T15:33:03   \n",
       "1580          7      Australia       0  2020-02-22T17:03:05   \n",
       "1602          1         Israel       0  2020-02-22T20:53:02   \n",
       "1664          7      Australia       0  2020-02-22T17:03:05   \n",
       "1686          1         Israel       0  2020-02-22T20:53:02   \n",
       "1749          7      Australia       0  2020-02-22T17:03:05   \n",
       "1773          1         Israel       0  2020-02-22T20:53:02   \n",
       "1841          7      Australia       0  2020-02-22T17:03:05   \n",
       "1867          1         Israel       0  2020-02-22T20:53:02   \n",
       "1936          7      Australia       0  2020-02-22T17:03:05   \n",
       "2037          8      Australia       0  2020-02-27T03:33:06   \n",
       "2142          8      Australia       0  2020-02-27T03:33:06   \n",
       "2321          0      Australia       0  2020-02-29T02:03:10   \n",
       "2446          0      Australia       0  2020-02-29T02:03:10   \n",
       "2587          0      Australia       0  2020-02-29T02:03:10   \n",
       "2738          0      Australia       0  2020-02-29T02:03:10   \n",
       "2898          0      Australia       0  2020-02-29T02:03:10   \n",
       "3071          0      Australia       0  2020-02-29T02:03:10   \n",
       "3269          0      Australia       0  2020-02-29T02:03:10   \n",
       "3493          0      Australia       0  2020-02-29T02:03:10   \n",
       "3748          0      Australia       0  2020-02-29T02:03:10   \n",
       "4014          0      Australia       0  2020-02-29T02:03:10   \n",
       "\n",
       "             Province/State  Recovered         filename                Date  \\\n",
       "1499  From Diamond Princess          0  \\02-21-2020.csv 2020-02-21 23:03:13   \n",
       "1518  From Diamond Princess          0  \\02-21-2020.csv 2020-02-21 15:33:03   \n",
       "1580  From Diamond Princess          0  \\02-22-2020.csv 2020-02-22 17:03:05   \n",
       "1602  From Diamond Princess          0  \\02-22-2020.csv 2020-02-22 20:53:02   \n",
       "1664  From Diamond Princess          0  \\02-23-2020.csv 2020-02-22 17:03:05   \n",
       "1686  From Diamond Princess          0  \\02-23-2020.csv 2020-02-22 20:53:02   \n",
       "1749  From Diamond Princess          0  \\02-24-2020.csv 2020-02-22 17:03:05   \n",
       "1773  From Diamond Princess          0  \\02-24-2020.csv 2020-02-22 20:53:02   \n",
       "1841  From Diamond Princess          0  \\02-25-2020.csv 2020-02-22 17:03:05   \n",
       "1867  From Diamond Princess          0  \\02-25-2020.csv 2020-02-22 20:53:02   \n",
       "1936  From Diamond Princess          0  \\02-26-2020.csv 2020-02-22 17:03:05   \n",
       "2037  From Diamond Princess          0  \\02-27-2020.csv 2020-02-27 03:33:06   \n",
       "2142  From Diamond Princess          0  \\02-28-2020.csv 2020-02-27 03:33:06   \n",
       "2321  From Diamond Princess          0  \\02-29-2020.csv 2020-02-29 02:03:10   \n",
       "2446  From Diamond Princess          0  \\03-01-2020.csv 2020-02-29 02:03:10   \n",
       "2587  From Diamond Princess          0  \\03-02-2020.csv 2020-02-29 02:03:10   \n",
       "2738  From Diamond Princess          0  \\03-03-2020.csv 2020-02-29 02:03:10   \n",
       "2898  From Diamond Princess          0  \\03-04-2020.csv 2020-02-29 02:03:10   \n",
       "3071  From Diamond Princess          0  \\03-05-2020.csv 2020-02-29 02:03:10   \n",
       "3269  From Diamond Princess          0  \\03-06-2020.csv 2020-02-29 02:03:10   \n",
       "3493  From Diamond Princess          0  \\03-07-2020.csv 2020-02-29 02:03:10   \n",
       "3748  From Diamond Princess          0  \\03-08-2020.csv 2020-02-29 02:03:10   \n",
       "4014  From Diamond Princess          0  \\03-09-2020.csv 2020-02-29 02:03:10   \n",
       "\n",
       "     Diamond Princess  \n",
       "1499             True  \n",
       "1518             True  \n",
       "1580             True  \n",
       "1602             True  \n",
       "1664             True  \n",
       "1686             True  \n",
       "1749             True  \n",
       "1773             True  \n",
       "1841             True  \n",
       "1867             True  \n",
       "1936             True  \n",
       "2037             True  \n",
       "2142             True  \n",
       "2321             True  \n",
       "2446             True  \n",
       "2587             True  \n",
       "2738             True  \n",
       "2898             True  \n",
       "3071             True  \n",
       "3269             True  \n",
       "3493             True  \n",
       "3748             True  \n",
       "4014             True  "
      ]
     },
     "execution_count": 22,
     "metadata": {},
     "output_type": "execute_result"
    }
   ],
   "source": [
    "df.loc[df['Province/State']=='From Diamond Princess']"
   ]
  },
  {
   "cell_type": "code",
   "execution_count": 23,
   "metadata": {},
   "outputs": [],
   "source": [
    "df.drop(columns=['filename'], inplace=True)"
   ]
  },
  {
   "cell_type": "code",
   "execution_count": 24,
   "metadata": {},
   "outputs": [],
   "source": [
    "df = df.drop_duplicates()"
   ]
  },
  {
   "cell_type": "code",
   "execution_count": 25,
   "metadata": {},
   "outputs": [
    {
     "name": "stdout",
     "output_type": "stream",
     "text": [
      "<class 'pandas.core.frame.DataFrame'>\n",
      "Int64Index: 2208 entries, 0 to 3999\n",
      "Data columns (total 8 columns):\n",
      "Confirmed           2208 non-null int64\n",
      "Country/Region      2208 non-null object\n",
      "Deaths              2208 non-null int64\n",
      "Last Update         2208 non-null object\n",
      "Province/State      1492 non-null object\n",
      "Recovered           2208 non-null int64\n",
      "Date                2208 non-null datetime64[ns]\n",
      "Diamond Princess    1492 non-null object\n",
      "dtypes: datetime64[ns](1), int64(3), object(4)\n",
      "memory usage: 155.2+ KB\n"
     ]
    }
   ],
   "source": [
    "df.info()"
   ]
  },
  {
   "cell_type": "code",
   "execution_count": 26,
   "metadata": {},
   "outputs": [],
   "source": [
    "df['Province/State'] = df['Province/State'].str.replace(' \\(From Diamond Princess\\)', '').replace('None', 'From Diamond Princess')"
   ]
  },
  {
   "cell_type": "code",
   "execution_count": 27,
   "metadata": {},
   "outputs": [
    {
     "data": {
      "text/html": [
       "<div>\n",
       "<style scoped>\n",
       "    .dataframe tbody tr th:only-of-type {\n",
       "        vertical-align: middle;\n",
       "    }\n",
       "\n",
       "    .dataframe tbody tr th {\n",
       "        vertical-align: top;\n",
       "    }\n",
       "\n",
       "    .dataframe thead th {\n",
       "        text-align: right;\n",
       "    }\n",
       "</style>\n",
       "<table border=\"1\" class=\"dataframe\">\n",
       "  <thead>\n",
       "    <tr style=\"text-align: right;\">\n",
       "      <th></th>\n",
       "      <th>Confirmed</th>\n",
       "      <th>Country/Region</th>\n",
       "      <th>Deaths</th>\n",
       "      <th>Last Update</th>\n",
       "      <th>Province/State</th>\n",
       "      <th>Recovered</th>\n",
       "      <th>Date</th>\n",
       "      <th>Diamond Princess</th>\n",
       "    </tr>\n",
       "  </thead>\n",
       "  <tbody>\n",
       "    <tr>\n",
       "      <th>0</th>\n",
       "      <td>7153</td>\n",
       "      <td>Mainland China</td>\n",
       "      <td>249</td>\n",
       "      <td>2/1/2020 11:53</td>\n",
       "      <td>Hubei</td>\n",
       "      <td>168</td>\n",
       "      <td>2020-02-01 11:53:00</td>\n",
       "      <td>False</td>\n",
       "    </tr>\n",
       "    <tr>\n",
       "      <th>1</th>\n",
       "      <td>599</td>\n",
       "      <td>Mainland China</td>\n",
       "      <td>0</td>\n",
       "      <td>2/1/2020 10:53</td>\n",
       "      <td>Zhejiang</td>\n",
       "      <td>21</td>\n",
       "      <td>2020-02-01 10:53:00</td>\n",
       "      <td>False</td>\n",
       "    </tr>\n",
       "    <tr>\n",
       "      <th>2</th>\n",
       "      <td>535</td>\n",
       "      <td>Mainland China</td>\n",
       "      <td>0</td>\n",
       "      <td>2/1/2020 14:23</td>\n",
       "      <td>Guangdong</td>\n",
       "      <td>14</td>\n",
       "      <td>2020-02-01 14:23:00</td>\n",
       "      <td>False</td>\n",
       "    </tr>\n",
       "    <tr>\n",
       "      <th>3</th>\n",
       "      <td>422</td>\n",
       "      <td>Mainland China</td>\n",
       "      <td>2</td>\n",
       "      <td>2/1/2020 1:52</td>\n",
       "      <td>Henan</td>\n",
       "      <td>3</td>\n",
       "      <td>2020-02-01 01:52:00</td>\n",
       "      <td>False</td>\n",
       "    </tr>\n",
       "    <tr>\n",
       "      <th>4</th>\n",
       "      <td>389</td>\n",
       "      <td>Mainland China</td>\n",
       "      <td>0</td>\n",
       "      <td>2/1/2020 11:03</td>\n",
       "      <td>Hunan</td>\n",
       "      <td>8</td>\n",
       "      <td>2020-02-01 11:03:00</td>\n",
       "      <td>False</td>\n",
       "    </tr>\n",
       "  </tbody>\n",
       "</table>\n",
       "</div>"
      ],
      "text/plain": [
       "   Confirmed  Country/Region  Deaths     Last Update Province/State  \\\n",
       "0       7153  Mainland China     249  2/1/2020 11:53          Hubei   \n",
       "1        599  Mainland China       0  2/1/2020 10:53       Zhejiang   \n",
       "2        535  Mainland China       0  2/1/2020 14:23      Guangdong   \n",
       "3        422  Mainland China       2   2/1/2020 1:52          Henan   \n",
       "4        389  Mainland China       0  2/1/2020 11:03          Hunan   \n",
       "\n",
       "   Recovered                Date Diamond Princess  \n",
       "0        168 2020-02-01 11:53:00            False  \n",
       "1         21 2020-02-01 10:53:00            False  \n",
       "2         14 2020-02-01 14:23:00            False  \n",
       "3          3 2020-02-01 01:52:00            False  \n",
       "4          8 2020-02-01 11:03:00            False  "
      ]
     },
     "execution_count": 27,
     "metadata": {},
     "output_type": "execute_result"
    }
   ],
   "source": [
    "df.head()"
   ]
  },
  {
   "cell_type": "code",
   "execution_count": 28,
   "metadata": {},
   "outputs": [],
   "source": [
    "df['DateTime'] = df['Date']"
   ]
  },
  {
   "cell_type": "code",
   "execution_count": 29,
   "metadata": {},
   "outputs": [],
   "source": [
    "df['Date'] = df['DateTime'].apply(lambda x: x.date())"
   ]
  },
  {
   "cell_type": "code",
   "execution_count": 55,
   "metadata": {},
   "outputs": [
    {
     "data": {
      "text/plain": [
       "0      2020-02-01\n",
       "1      2020-02-01\n",
       "2      2020-02-01\n",
       "3      2020-02-01\n",
       "4      2020-02-01\n",
       "          ...    \n",
       "3978   2020-03-09\n",
       "3980   2020-03-09\n",
       "3993   2020-03-09\n",
       "3997   2020-03-09\n",
       "3999   2020-03-09\n",
       "Name: Date, Length: 2208, dtype: datetime64[ns]"
      ]
     },
     "execution_count": 55,
     "metadata": {},
     "output_type": "execute_result"
    }
   ],
   "source": [
    "df['Date'] = df['Date'].apply(lambda x: pd.to_datetime(x))"
   ]
  },
  {
   "cell_type": "code",
   "execution_count": 30,
   "metadata": {},
   "outputs": [
    {
     "data": {
      "text/html": [
       "<div>\n",
       "<style scoped>\n",
       "    .dataframe tbody tr th:only-of-type {\n",
       "        vertical-align: middle;\n",
       "    }\n",
       "\n",
       "    .dataframe tbody tr th {\n",
       "        vertical-align: top;\n",
       "    }\n",
       "\n",
       "    .dataframe thead th {\n",
       "        text-align: right;\n",
       "    }\n",
       "</style>\n",
       "<table border=\"1\" class=\"dataframe\">\n",
       "  <thead>\n",
       "    <tr style=\"text-align: right;\">\n",
       "      <th></th>\n",
       "      <th>Confirmed</th>\n",
       "      <th>Country/Region</th>\n",
       "      <th>Deaths</th>\n",
       "      <th>Last Update</th>\n",
       "      <th>Province/State</th>\n",
       "      <th>Recovered</th>\n",
       "      <th>Date</th>\n",
       "      <th>Diamond Princess</th>\n",
       "      <th>DateTime</th>\n",
       "    </tr>\n",
       "  </thead>\n",
       "  <tbody>\n",
       "    <tr>\n",
       "      <th>0</th>\n",
       "      <td>7153</td>\n",
       "      <td>Mainland China</td>\n",
       "      <td>249</td>\n",
       "      <td>2/1/2020 11:53</td>\n",
       "      <td>Hubei</td>\n",
       "      <td>168</td>\n",
       "      <td>2020-02-01</td>\n",
       "      <td>False</td>\n",
       "      <td>2020-02-01 11:53:00</td>\n",
       "    </tr>\n",
       "    <tr>\n",
       "      <th>1</th>\n",
       "      <td>599</td>\n",
       "      <td>Mainland China</td>\n",
       "      <td>0</td>\n",
       "      <td>2/1/2020 10:53</td>\n",
       "      <td>Zhejiang</td>\n",
       "      <td>21</td>\n",
       "      <td>2020-02-01</td>\n",
       "      <td>False</td>\n",
       "      <td>2020-02-01 10:53:00</td>\n",
       "    </tr>\n",
       "    <tr>\n",
       "      <th>2</th>\n",
       "      <td>535</td>\n",
       "      <td>Mainland China</td>\n",
       "      <td>0</td>\n",
       "      <td>2/1/2020 14:23</td>\n",
       "      <td>Guangdong</td>\n",
       "      <td>14</td>\n",
       "      <td>2020-02-01</td>\n",
       "      <td>False</td>\n",
       "      <td>2020-02-01 14:23:00</td>\n",
       "    </tr>\n",
       "    <tr>\n",
       "      <th>3</th>\n",
       "      <td>422</td>\n",
       "      <td>Mainland China</td>\n",
       "      <td>2</td>\n",
       "      <td>2/1/2020 1:52</td>\n",
       "      <td>Henan</td>\n",
       "      <td>3</td>\n",
       "      <td>2020-02-01</td>\n",
       "      <td>False</td>\n",
       "      <td>2020-02-01 01:52:00</td>\n",
       "    </tr>\n",
       "    <tr>\n",
       "      <th>4</th>\n",
       "      <td>389</td>\n",
       "      <td>Mainland China</td>\n",
       "      <td>0</td>\n",
       "      <td>2/1/2020 11:03</td>\n",
       "      <td>Hunan</td>\n",
       "      <td>8</td>\n",
       "      <td>2020-02-01</td>\n",
       "      <td>False</td>\n",
       "      <td>2020-02-01 11:03:00</td>\n",
       "    </tr>\n",
       "  </tbody>\n",
       "</table>\n",
       "</div>"
      ],
      "text/plain": [
       "   Confirmed  Country/Region  Deaths     Last Update Province/State  \\\n",
       "0       7153  Mainland China     249  2/1/2020 11:53          Hubei   \n",
       "1        599  Mainland China       0  2/1/2020 10:53       Zhejiang   \n",
       "2        535  Mainland China       0  2/1/2020 14:23      Guangdong   \n",
       "3        422  Mainland China       2   2/1/2020 1:52          Henan   \n",
       "4        389  Mainland China       0  2/1/2020 11:03          Hunan   \n",
       "\n",
       "   Recovered        Date Diamond Princess            DateTime  \n",
       "0        168  2020-02-01            False 2020-02-01 11:53:00  \n",
       "1         21  2020-02-01            False 2020-02-01 10:53:00  \n",
       "2         14  2020-02-01            False 2020-02-01 14:23:00  \n",
       "3          3  2020-02-01            False 2020-02-01 01:52:00  \n",
       "4          8  2020-02-01            False 2020-02-01 11:03:00  "
      ]
     },
     "execution_count": 30,
     "metadata": {},
     "output_type": "execute_result"
    }
   ],
   "source": [
    "df.head()"
   ]
  },
  {
   "cell_type": "code",
   "execution_count": 31,
   "metadata": {},
   "outputs": [],
   "source": [
    "df['Active'] = df['Confirmed']-df['Deaths']-df['Recovered']"
   ]
  },
  {
   "cell_type": "code",
   "execution_count": 77,
   "metadata": {},
   "outputs": [
    {
     "data": {
      "text/html": [
       "<div>\n",
       "<style scoped>\n",
       "    .dataframe tbody tr th:only-of-type {\n",
       "        vertical-align: middle;\n",
       "    }\n",
       "\n",
       "    .dataframe tbody tr th {\n",
       "        vertical-align: top;\n",
       "    }\n",
       "\n",
       "    .dataframe thead th {\n",
       "        text-align: right;\n",
       "    }\n",
       "</style>\n",
       "<table border=\"1\" class=\"dataframe\">\n",
       "  <thead>\n",
       "    <tr style=\"text-align: right;\">\n",
       "      <th></th>\n",
       "      <th>Confirmed</th>\n",
       "      <th>Country/Region</th>\n",
       "      <th>Deaths</th>\n",
       "      <th>Last Update</th>\n",
       "      <th>Province/State</th>\n",
       "      <th>Recovered</th>\n",
       "      <th>Date</th>\n",
       "      <th>Diamond Princess</th>\n",
       "      <th>DateTime</th>\n",
       "      <th>Active</th>\n",
       "    </tr>\n",
       "  </thead>\n",
       "  <tbody>\n",
       "    <tr>\n",
       "      <th>3048</th>\n",
       "      <td>1</td>\n",
       "      <td>South Africa</td>\n",
       "      <td>0</td>\n",
       "      <td>2020-03-05T13:53:03</td>\n",
       "      <td>NaN</td>\n",
       "      <td>0</td>\n",
       "      <td>2020-03-05</td>\n",
       "      <td>NaN</td>\n",
       "      <td>2020-03-05 13:53:03</td>\n",
       "      <td>1</td>\n",
       "    </tr>\n",
       "    <tr>\n",
       "      <th>3236</th>\n",
       "      <td>1</td>\n",
       "      <td>South Africa</td>\n",
       "      <td>0</td>\n",
       "      <td>2020-03-06T15:43:02</td>\n",
       "      <td>NaN</td>\n",
       "      <td>0</td>\n",
       "      <td>2020-03-06</td>\n",
       "      <td>NaN</td>\n",
       "      <td>2020-03-06 15:43:02</td>\n",
       "      <td>1</td>\n",
       "    </tr>\n",
       "    <tr>\n",
       "      <th>3641</th>\n",
       "      <td>3</td>\n",
       "      <td>South Africa</td>\n",
       "      <td>0</td>\n",
       "      <td>2020-03-08T10:23:04</td>\n",
       "      <td>NaN</td>\n",
       "      <td>0</td>\n",
       "      <td>2020-03-08</td>\n",
       "      <td>NaN</td>\n",
       "      <td>2020-03-08 10:23:04</td>\n",
       "      <td>3</td>\n",
       "    </tr>\n",
       "  </tbody>\n",
       "</table>\n",
       "</div>"
      ],
      "text/plain": [
       "      Confirmed Country/Region  Deaths          Last Update Province/State  \\\n",
       "3048          1   South Africa       0  2020-03-05T13:53:03            NaN   \n",
       "3236          1   South Africa       0  2020-03-06T15:43:02            NaN   \n",
       "3641          3   South Africa       0  2020-03-08T10:23:04            NaN   \n",
       "\n",
       "      Recovered       Date Diamond Princess            DateTime  Active  \n",
       "3048          0 2020-03-05              NaN 2020-03-05 13:53:03       1  \n",
       "3236          0 2020-03-06              NaN 2020-03-06 15:43:02       1  \n",
       "3641          0 2020-03-08              NaN 2020-03-08 10:23:04       3  "
      ]
     },
     "execution_count": 77,
     "metadata": {},
     "output_type": "execute_result"
    }
   ],
   "source": [
    "df.loc[df['Country/Region']=='South Africa']"
   ]
  },
  {
   "cell_type": "code",
   "execution_count": 75,
   "metadata": {},
   "outputs": [
    {
     "data": {
      "application/vnd.jupyter.widget-view+json": {
       "model_id": "1ed5f3c8ad9f427895acd5fc30c9d322",
       "version_major": 2,
       "version_minor": 0
      },
      "text/plain": [
       "interactive(children=(Dropdown(description='Country', options=(' Azerbaijan', 'Afghanistan', 'Albania', 'Alger…"
      ]
     },
     "metadata": {},
     "output_type": "display_data"
    }
   ],
   "source": [
    "@interact(Country = df['Country/Region'].sort_values().unique(), Confirmed=True, Active=True, Recovered=True, Deaths=True)\n",
    "def viz(Country, Confirmed, Active, Recovered, Deaths):\n",
    "    fig = px.line(title='Cases Over Time')\n",
    "    if Confirmed:\n",
    "        country_df = pd.DataFrame(df.loc[df['Country/Region']==Country].groupby('Date')['Confirmed'].agg('sum'))\n",
    "        fig.add_scatter(x = country_df.index, y = country_df['Confirmed'], mode='lines', name='Confirmed Cases')\n",
    "    if Active:\n",
    "        country_df = pd.DataFrame(df.loc[df['Country/Region']==Country].groupby('Date')['Active'].agg('sum'))\n",
    "        fig.add_scatter(x = country_df.index, y = country_df['Active'], mode='lines', name='Active Cases')\n",
    "    if Recovered:\n",
    "        country_df = pd.DataFrame(df.loc[df['Country/Region']==Country].groupby('Date')['Recovered'].agg('sum'))\n",
    "        fig.add_scatter(x = country_df.index, y = country_df['Recovered'], mode='lines', name='Recovered Cases')\n",
    "    if Deaths:\n",
    "        country_df = pd.DataFrame(df.loc[df['Country/Region']==Country].groupby('Date')['Deaths'].agg('sum'))\n",
    "        fig.add_scatter(x = country_df.index, y = country_df['Deaths'], mode='lines', name='Deceased Cases')\n",
    "    fig.update_xaxes(title='Date', range=[dt.date(2020, 2, 1), dt.datetime.now()])\n",
    "    fig.show()"
   ]
  },
  {
   "cell_type": "code",
   "execution_count": 79,
   "metadata": {},
   "outputs": [
    {
     "data": {
      "application/vnd.jupyter.widget-view+json": {
       "model_id": "264e3b26298e4592974c8ca4f3275a02",
       "version_major": 2,
       "version_minor": 0
      },
      "text/plain": [
       "interactive(children=(Dropdown(description='Country', options=(' Azerbaijan', 'Afghanistan', 'Albania', 'Alger…"
      ]
     },
     "metadata": {},
     "output_type": "display_data"
    }
   ],
   "source": [
    "@interact(Country = df['Country/Region'].sort_values().unique())\n",
    "def viz(Country):\n",
    "    country_df = df.loc[df['Country/Region']==Country].groupby('Date')['Confirmed', 'Active', 'Recovered', 'Deaths'].agg('sum')\n",
    "    fig = px.line(title='Cases Over Time')\n",
    "    fig.add_scatter(x = country_df.index, y = country_df['Confirmed', 'Active', 'Recovered', 'Deaths'], mode='lines', name='Confirmed Cases')\n",
    "    fig.show()"
   ]
  },
  {
   "cell_type": "code",
   "execution_count": 80,
   "metadata": {},
   "outputs": [
    {
     "ename": "NameError",
     "evalue": "name 'Country' is not defined",
     "output_type": "error",
     "traceback": [
      "\u001b[1;31m---------------------------------------------------------------------------\u001b[0m",
      "\u001b[1;31mNameError\u001b[0m                                 Traceback (most recent call last)",
      "\u001b[1;32m<ipython-input-80-bf33611068fd>\u001b[0m in \u001b[0;36m<module>\u001b[1;34m\u001b[0m\n\u001b[1;32m----> 1\u001b[1;33m \u001b[0mdf\u001b[0m\u001b[1;33m.\u001b[0m\u001b[0mloc\u001b[0m\u001b[1;33m[\u001b[0m\u001b[0mdf\u001b[0m\u001b[1;33m[\u001b[0m\u001b[1;34m'Country/Region'\u001b[0m\u001b[1;33m]\u001b[0m\u001b[1;33m==\u001b[0m\u001b[0mCountry\u001b[0m\u001b[1;33m]\u001b[0m\u001b[1;33m.\u001b[0m\u001b[0mgroupby\u001b[0m\u001b[1;33m(\u001b[0m\u001b[1;34m'Date'\u001b[0m\u001b[1;33m)\u001b[0m\u001b[1;33m[\u001b[0m\u001b[1;34m'Confirmed'\u001b[0m\u001b[1;33m,\u001b[0m \u001b[1;34m'Active'\u001b[0m\u001b[1;33m,\u001b[0m \u001b[1;34m'Recovered'\u001b[0m\u001b[1;33m,\u001b[0m \u001b[1;34m'Deaths'\u001b[0m\u001b[1;33m]\u001b[0m\u001b[1;33m.\u001b[0m\u001b[0magg\u001b[0m\u001b[1;33m(\u001b[0m\u001b[1;34m'sum'\u001b[0m\u001b[1;33m)\u001b[0m\u001b[1;33m\u001b[0m\u001b[1;33m\u001b[0m\u001b[0m\n\u001b[0m",
      "\u001b[1;31mNameError\u001b[0m: name 'Country' is not defined"
     ]
    }
   ],
   "source": [
    "df.loc[df['Country/Region']==Country].groupby('Date')['Confirmed', 'Active', 'Recovered', 'Deaths'].agg('sum')"
   ]
  }
 ],
 "metadata": {
  "kernelspec": {
   "display_name": "Python 3",
   "language": "python",
   "name": "python3"
  },
  "language_info": {
   "codemirror_mode": {
    "name": "ipython",
    "version": 3
   },
   "file_extension": ".py",
   "mimetype": "text/x-python",
   "name": "python",
   "nbconvert_exporter": "python",
   "pygments_lexer": "ipython3",
   "version": "3.7.4"
  }
 },
 "nbformat": 4,
 "nbformat_minor": 2
}
