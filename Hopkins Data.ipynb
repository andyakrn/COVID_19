{
 "cells": [
  {
   "cell_type": "code",
   "execution_count": 1,
   "metadata": {
    "scrolled": true
   },
   "outputs": [
    {
     "name": "stdout",
     "output_type": "stream",
     "text": [
      "Collecting PyGithub\n",
      "  Downloading https://files.pythonhosted.org/packages/cf/f4/0dbe960b829266eb01034b6d82cb423b3e88291d35d901bc8504f2e7a4b9/PyGithub-1.46-py3-none-any.whl (205kB)\n",
      "Collecting pyjwt\n",
      "  Downloading https://files.pythonhosted.org/packages/87/8b/6a9f14b5f781697e51259d81657e6048fd31a113229cf346880bb7545565/PyJWT-1.7.1-py2.py3-none-any.whl\n",
      "Requirement already satisfied: requests>=2.14.0 in c:\\users\\brian\\anaconda3\\lib\\site-packages (from PyGithub) (2.22.0)\n",
      "Collecting deprecated\n",
      "  Downloading https://files.pythonhosted.org/packages/f6/89/62912e01f3cede11edcc0abf81298e3439d9c06c8dce644369380ed13f6d/Deprecated-1.2.7-py2.py3-none-any.whl\n",
      "Requirement already satisfied: urllib3!=1.25.0,!=1.25.1,<1.26,>=1.21.1 in c:\\users\\brian\\anaconda3\\lib\\site-packages (from requests>=2.14.0->PyGithub) (1.24.2)\n",
      "Requirement already satisfied: chardet<3.1.0,>=3.0.2 in c:\\users\\brian\\anaconda3\\lib\\site-packages (from requests>=2.14.0->PyGithub) (3.0.4)\n",
      "Requirement already satisfied: idna<2.9,>=2.5 in c:\\users\\brian\\anaconda3\\lib\\site-packages (from requests>=2.14.0->PyGithub) (2.8)\n",
      "Requirement already satisfied: certifi>=2017.4.17 in c:\\users\\brian\\anaconda3\\lib\\site-packages (from requests>=2.14.0->PyGithub) (2019.9.11)\n",
      "Requirement already satisfied: wrapt<2,>=1.10 in c:\\users\\brian\\anaconda3\\lib\\site-packages (from deprecated->PyGithub) (1.11.2)\n",
      "Installing collected packages: pyjwt, deprecated, PyGithub\n",
      "Successfully installed PyGithub-1.46 deprecated-1.2.7 pyjwt-1.7.1\n"
     ]
    }
   ],
   "source": [
    "!pip install PyGithub"
   ]
  },
  {
   "cell_type": "code",
   "execution_count": 1,
   "metadata": {},
   "outputs": [],
   "source": [
    "from github import Github\n",
    "import os\n",
    "import base64\n",
    "import pandas as pd\n",
    "import numpy as np\n",
    "import re\n",
    "import matplotlib.pyplot as plt\n",
    "import plotly.graph_objects as go\n",
    "import seaborn as sns\n",
    "import plotly.express as px\n",
    "from ipywidgets import interact\n",
    "import datetime as dt\n",
    "sns.set()"
   ]
  },
  {
   "cell_type": "code",
   "execution_count": 2,
   "metadata": {},
   "outputs": [],
   "source": [
    "with open(\"github.txt\") as myfile:\n",
    "    firstNlines=myfile.readlines()[0:2]\n",
    "myfile.close()"
   ]
  },
  {
   "cell_type": "code",
   "execution_count": 3,
   "metadata": {},
   "outputs": [],
   "source": [
    "g = Github(firstNlines[0].strip(), firstNlines[1])"
   ]
  },
  {
   "cell_type": "code",
   "execution_count": 4,
   "metadata": {},
   "outputs": [],
   "source": [
    "repo=g.get_repo('CSSEGISandData/COVID-19')"
   ]
  },
  {
   "cell_type": "code",
   "execution_count": 5,
   "metadata": {},
   "outputs": [],
   "source": [
    "contents = repo.get_contents(\"\")"
   ]
  },
  {
   "cell_type": "code",
   "execution_count": 6,
   "metadata": {},
   "outputs": [
    {
     "data": {
      "text/plain": [
       "ContentFile(path=\"csse_covid_19_data\")"
      ]
     },
     "execution_count": 6,
     "metadata": {},
     "output_type": "execute_result"
    }
   ],
   "source": [
    "contents[3]"
   ]
  },
  {
   "cell_type": "code",
   "execution_count": 7,
   "metadata": {},
   "outputs": [],
   "source": [
    "def get_sha_for_tag(repository, tag):\n",
    "    \"\"\"\n",
    "    Returns a commit PyGithub object for the specified repository and tag.\n",
    "    \"\"\"\n",
    "    branches = repository.get_branches()\n",
    "    matched_branches = [match for match in branches if match.name == tag]\n",
    "    if matched_branches:\n",
    "        return matched_branches[0].commit.sha\n",
    "\n",
    "    tags = repository.get_tags()\n",
    "    matched_tags = [match for match in tags if match.name == tag]\n",
    "    if not matched_tags:\n",
    "        raise ValueError('No Tag or Branch exists with that name')\n",
    "    return matched_tags[0].commit.sha"
   ]
  },
  {
   "cell_type": "code",
   "execution_count": 8,
   "metadata": {},
   "outputs": [],
   "source": [
    "def download_directory(repository, sha, server_path):\n",
    "    \"\"\"\n",
    "    Download all contents at server_path with commit tag sha in\n",
    "    the repository.\n",
    "    \"\"\"\n",
    "    contents = repository.get_contents(server_path, ref=sha)\n",
    "\n",
    "    for content in contents:\n",
    "        print(\"Processing %s\" % content.path)\n",
    "        if content.type == 'dir':\n",
    "            download_directory(repository, sha, content.path)\n",
    "        else:\n",
    "            try:\n",
    "                path = content.path\n",
    "                file_content = repository.get_contents(path, ref=sha)\n",
    "                file_data = base64.b64decode(file_content.content).decode('ascii')\n",
    "                file_out = open(content.name, \"w\")\n",
    "                file_out.write(file_data)\n",
    "                file_out.close()\n",
    "            except:\n",
    "                pass"
   ]
  },
  {
   "cell_type": "code",
   "execution_count": 9,
   "metadata": {},
   "outputs": [],
   "source": [
    "sha = get_sha_for_tag(repo, 'master')"
   ]
  },
  {
   "cell_type": "code",
   "execution_count": 10,
   "metadata": {},
   "outputs": [
    {
     "name": "stdout",
     "output_type": "stream",
     "text": [
      "Processing csse_covid_19_data/csse_covid_19_daily_reports/.gitignore\n",
      "Processing csse_covid_19_data/csse_covid_19_daily_reports/01-22-2020.csv\n",
      "Processing csse_covid_19_data/csse_covid_19_daily_reports/01-23-2020.csv\n",
      "Processing csse_covid_19_data/csse_covid_19_daily_reports/01-24-2020.csv\n",
      "Processing csse_covid_19_data/csse_covid_19_daily_reports/01-25-2020.csv\n",
      "Processing csse_covid_19_data/csse_covid_19_daily_reports/01-26-2020.csv\n",
      "Processing csse_covid_19_data/csse_covid_19_daily_reports/01-27-2020.csv\n",
      "Processing csse_covid_19_data/csse_covid_19_daily_reports/01-28-2020.csv\n",
      "Processing csse_covid_19_data/csse_covid_19_daily_reports/01-29-2020.csv\n",
      "Processing csse_covid_19_data/csse_covid_19_daily_reports/01-30-2020.csv\n",
      "Processing csse_covid_19_data/csse_covid_19_daily_reports/01-31-2020.csv\n",
      "Processing csse_covid_19_data/csse_covid_19_daily_reports/02-01-2020.csv\n",
      "Processing csse_covid_19_data/csse_covid_19_daily_reports/02-02-2020.csv\n",
      "Processing csse_covid_19_data/csse_covid_19_daily_reports/02-03-2020.csv\n",
      "Processing csse_covid_19_data/csse_covid_19_daily_reports/02-04-2020.csv\n",
      "Processing csse_covid_19_data/csse_covid_19_daily_reports/02-05-2020.csv\n",
      "Processing csse_covid_19_data/csse_covid_19_daily_reports/02-06-2020.csv\n",
      "Processing csse_covid_19_data/csse_covid_19_daily_reports/02-07-2020.csv\n",
      "Processing csse_covid_19_data/csse_covid_19_daily_reports/02-08-2020.csv\n",
      "Processing csse_covid_19_data/csse_covid_19_daily_reports/02-09-2020.csv\n",
      "Processing csse_covid_19_data/csse_covid_19_daily_reports/02-10-2020.csv\n",
      "Processing csse_covid_19_data/csse_covid_19_daily_reports/02-11-2020.csv\n",
      "Processing csse_covid_19_data/csse_covid_19_daily_reports/02-12-2020.csv\n",
      "Processing csse_covid_19_data/csse_covid_19_daily_reports/02-13-2020.csv\n",
      "Processing csse_covid_19_data/csse_covid_19_daily_reports/02-14-2020.csv\n",
      "Processing csse_covid_19_data/csse_covid_19_daily_reports/02-15-2020.csv\n",
      "Processing csse_covid_19_data/csse_covid_19_daily_reports/02-16-2020.csv\n",
      "Processing csse_covid_19_data/csse_covid_19_daily_reports/02-17-2020.csv\n",
      "Processing csse_covid_19_data/csse_covid_19_daily_reports/02-18-2020.csv\n",
      "Processing csse_covid_19_data/csse_covid_19_daily_reports/02-19-2020.csv\n",
      "Processing csse_covid_19_data/csse_covid_19_daily_reports/02-20-2020.csv\n",
      "Processing csse_covid_19_data/csse_covid_19_daily_reports/02-21-2020.csv\n",
      "Processing csse_covid_19_data/csse_covid_19_daily_reports/02-22-2020.csv\n",
      "Processing csse_covid_19_data/csse_covid_19_daily_reports/02-23-2020.csv\n",
      "Processing csse_covid_19_data/csse_covid_19_daily_reports/02-24-2020.csv\n",
      "Processing csse_covid_19_data/csse_covid_19_daily_reports/02-25-2020.csv\n",
      "Processing csse_covid_19_data/csse_covid_19_daily_reports/02-26-2020.csv\n",
      "Processing csse_covid_19_data/csse_covid_19_daily_reports/02-27-2020.csv\n",
      "Processing csse_covid_19_data/csse_covid_19_daily_reports/02-28-2020.csv\n",
      "Processing csse_covid_19_data/csse_covid_19_daily_reports/02-29-2020.csv\n",
      "Processing csse_covid_19_data/csse_covid_19_daily_reports/03-01-2020.csv\n",
      "Processing csse_covid_19_data/csse_covid_19_daily_reports/03-02-2020.csv\n",
      "Processing csse_covid_19_data/csse_covid_19_daily_reports/03-03-2020.csv\n",
      "Processing csse_covid_19_data/csse_covid_19_daily_reports/03-04-2020.csv\n",
      "Processing csse_covid_19_data/csse_covid_19_daily_reports/03-05-2020.csv\n",
      "Processing csse_covid_19_data/csse_covid_19_daily_reports/03-06-2020.csv\n",
      "Processing csse_covid_19_data/csse_covid_19_daily_reports/03-07-2020.csv\n",
      "Processing csse_covid_19_data/csse_covid_19_daily_reports/03-08-2020.csv\n",
      "Processing csse_covid_19_data/csse_covid_19_daily_reports/03-09-2020.csv\n",
      "Processing csse_covid_19_data/csse_covid_19_daily_reports/03-10-2020.csv\n",
      "Processing csse_covid_19_data/csse_covid_19_daily_reports/README.md\n"
     ]
    }
   ],
   "source": [
    "download_directory(repo, sha, 'csse_covid_19_data/csse_covid_19_daily_reports')"
   ]
  },
  {
   "cell_type": "code",
   "execution_count": 11,
   "metadata": {},
   "outputs": [],
   "source": [
    "df = pd.read_csv(r'C:\\Users\\brian\\projects\\COVID-19\\csse_daily_reports\\02-01-2020.csv')"
   ]
  },
  {
   "cell_type": "code",
   "execution_count": 12,
   "metadata": {},
   "outputs": [],
   "source": [
    "from os import listdir\n",
    "from os.path import isfile, join\n",
    "mypath = r'C:\\Users\\brian\\projects\\COVID-19\\csse_daily_reports\\\\'\n",
    "onlyfiles = [f for f in listdir(mypath) if isfile(join(mypath, f))]"
   ]
  },
  {
   "cell_type": "code",
   "execution_count": 13,
   "metadata": {},
   "outputs": [],
   "source": [
    "def is_non_zero_file(fpath):\n",
    "    return os.path.isfile(fpath) and os.path.getsize(fpath) > 0"
   ]
  },
  {
   "cell_type": "code",
   "execution_count": 14,
   "metadata": {},
   "outputs": [],
   "source": [
    "nonzero_files = []\n",
    "for file in onlyfiles:\n",
    "    if is_non_zero_file(mypath + file) and file[-3:]=='csv':\n",
    "        nonzero_files.append(mypath + file)"
   ]
  },
  {
   "cell_type": "code",
   "execution_count": 15,
   "metadata": {},
   "outputs": [
    {
     "data": {
      "text/plain": [
       "['C:\\\\Users\\\\brian\\\\projects\\\\COVID-19\\\\csse_daily_reports\\\\\\\\02-01-2020.csv',\n",
       " 'C:\\\\Users\\\\brian\\\\projects\\\\COVID-19\\\\csse_daily_reports\\\\\\\\02-02-2020.csv',\n",
       " 'C:\\\\Users\\\\brian\\\\projects\\\\COVID-19\\\\csse_daily_reports\\\\\\\\02-03-2020.csv',\n",
       " 'C:\\\\Users\\\\brian\\\\projects\\\\COVID-19\\\\csse_daily_reports\\\\\\\\02-04-2020.csv',\n",
       " 'C:\\\\Users\\\\brian\\\\projects\\\\COVID-19\\\\csse_daily_reports\\\\\\\\02-05-2020.csv',\n",
       " 'C:\\\\Users\\\\brian\\\\projects\\\\COVID-19\\\\csse_daily_reports\\\\\\\\02-06-2020.csv',\n",
       " 'C:\\\\Users\\\\brian\\\\projects\\\\COVID-19\\\\csse_daily_reports\\\\\\\\02-07-2020.csv',\n",
       " 'C:\\\\Users\\\\brian\\\\projects\\\\COVID-19\\\\csse_daily_reports\\\\\\\\02-08-2020.csv',\n",
       " 'C:\\\\Users\\\\brian\\\\projects\\\\COVID-19\\\\csse_daily_reports\\\\\\\\02-09-2020.csv',\n",
       " 'C:\\\\Users\\\\brian\\\\projects\\\\COVID-19\\\\csse_daily_reports\\\\\\\\02-10-2020.csv',\n",
       " 'C:\\\\Users\\\\brian\\\\projects\\\\COVID-19\\\\csse_daily_reports\\\\\\\\02-11-2020.csv',\n",
       " 'C:\\\\Users\\\\brian\\\\projects\\\\COVID-19\\\\csse_daily_reports\\\\\\\\02-12-2020.csv',\n",
       " 'C:\\\\Users\\\\brian\\\\projects\\\\COVID-19\\\\csse_daily_reports\\\\\\\\02-13-2020.csv',\n",
       " 'C:\\\\Users\\\\brian\\\\projects\\\\COVID-19\\\\csse_daily_reports\\\\\\\\02-14-2020.csv',\n",
       " 'C:\\\\Users\\\\brian\\\\projects\\\\COVID-19\\\\csse_daily_reports\\\\\\\\02-15-2020.csv',\n",
       " 'C:\\\\Users\\\\brian\\\\projects\\\\COVID-19\\\\csse_daily_reports\\\\\\\\02-16-2020.csv',\n",
       " 'C:\\\\Users\\\\brian\\\\projects\\\\COVID-19\\\\csse_daily_reports\\\\\\\\02-17-2020.csv',\n",
       " 'C:\\\\Users\\\\brian\\\\projects\\\\COVID-19\\\\csse_daily_reports\\\\\\\\02-18-2020.csv',\n",
       " 'C:\\\\Users\\\\brian\\\\projects\\\\COVID-19\\\\csse_daily_reports\\\\\\\\02-19-2020.csv',\n",
       " 'C:\\\\Users\\\\brian\\\\projects\\\\COVID-19\\\\csse_daily_reports\\\\\\\\02-20-2020.csv',\n",
       " 'C:\\\\Users\\\\brian\\\\projects\\\\COVID-19\\\\csse_daily_reports\\\\\\\\02-21-2020.csv',\n",
       " 'C:\\\\Users\\\\brian\\\\projects\\\\COVID-19\\\\csse_daily_reports\\\\\\\\02-22-2020.csv',\n",
       " 'C:\\\\Users\\\\brian\\\\projects\\\\COVID-19\\\\csse_daily_reports\\\\\\\\02-23-2020.csv',\n",
       " 'C:\\\\Users\\\\brian\\\\projects\\\\COVID-19\\\\csse_daily_reports\\\\\\\\02-24-2020.csv',\n",
       " 'C:\\\\Users\\\\brian\\\\projects\\\\COVID-19\\\\csse_daily_reports\\\\\\\\02-25-2020.csv',\n",
       " 'C:\\\\Users\\\\brian\\\\projects\\\\COVID-19\\\\csse_daily_reports\\\\\\\\02-26-2020.csv',\n",
       " 'C:\\\\Users\\\\brian\\\\projects\\\\COVID-19\\\\csse_daily_reports\\\\\\\\02-27-2020.csv',\n",
       " 'C:\\\\Users\\\\brian\\\\projects\\\\COVID-19\\\\csse_daily_reports\\\\\\\\02-28-2020.csv',\n",
       " 'C:\\\\Users\\\\brian\\\\projects\\\\COVID-19\\\\csse_daily_reports\\\\\\\\02-29-2020.csv',\n",
       " 'C:\\\\Users\\\\brian\\\\projects\\\\COVID-19\\\\csse_daily_reports\\\\\\\\03-01-2020.csv',\n",
       " 'C:\\\\Users\\\\brian\\\\projects\\\\COVID-19\\\\csse_daily_reports\\\\\\\\03-02-2020.csv',\n",
       " 'C:\\\\Users\\\\brian\\\\projects\\\\COVID-19\\\\csse_daily_reports\\\\\\\\03-03-2020.csv',\n",
       " 'C:\\\\Users\\\\brian\\\\projects\\\\COVID-19\\\\csse_daily_reports\\\\\\\\03-04-2020.csv',\n",
       " 'C:\\\\Users\\\\brian\\\\projects\\\\COVID-19\\\\csse_daily_reports\\\\\\\\03-05-2020.csv',\n",
       " 'C:\\\\Users\\\\brian\\\\projects\\\\COVID-19\\\\csse_daily_reports\\\\\\\\03-06-2020.csv',\n",
       " 'C:\\\\Users\\\\brian\\\\projects\\\\COVID-19\\\\csse_daily_reports\\\\\\\\03-07-2020.csv',\n",
       " 'C:\\\\Users\\\\brian\\\\projects\\\\COVID-19\\\\csse_daily_reports\\\\\\\\03-08-2020.csv',\n",
       " 'C:\\\\Users\\\\brian\\\\projects\\\\COVID-19\\\\csse_daily_reports\\\\\\\\03-09-2020.csv',\n",
       " 'C:\\\\Users\\\\brian\\\\projects\\\\COVID-19\\\\csse_daily_reports\\\\\\\\03-10-2020.csv']"
      ]
     },
     "execution_count": 15,
     "metadata": {},
     "output_type": "execute_result"
    }
   ],
   "source": [
    "nonzero_files"
   ]
  },
  {
   "cell_type": "code",
   "execution_count": 16,
   "metadata": {},
   "outputs": [],
   "source": [
    "df_list = []\n",
    "for file in nonzero_files:\n",
    "    df_1 = pd.read_csv(file)\n",
    "    df_1['filename'] = file[-15:]\n",
    "    df_list.append(df_1)  "
   ]
  },
  {
   "cell_type": "code",
   "execution_count": 17,
   "metadata": {
    "scrolled": true
   },
   "outputs": [
    {
     "name": "stderr",
     "output_type": "stream",
     "text": [
      "C:\\Users\\brian\\Anaconda3\\lib\\site-packages\\ipykernel_launcher.py:1: FutureWarning:\n",
      "\n",
      "Sorting because non-concatenation axis is not aligned. A future version\n",
      "of pandas will change to not sort by default.\n",
      "\n",
      "To accept the future behavior, pass 'sort=False'.\n",
      "\n",
      "To retain the current behavior and silence the warning, pass 'sort=True'.\n",
      "\n",
      "\n"
     ]
    }
   ],
   "source": [
    "df = pd.concat(df_list, ignore_index=True)"
   ]
  },
  {
   "cell_type": "code",
   "execution_count": 18,
   "metadata": {},
   "outputs": [
    {
     "name": "stdout",
     "output_type": "stream",
     "text": [
      "<class 'pandas.core.frame.DataFrame'>\n",
      "RangeIndex: 4226 entries, 0 to 4225\n",
      "Data columns (total 9 columns):\n",
      "Confirmed         4226 non-null int64\n",
      "Country/Region    4226 non-null object\n",
      "Deaths            4226 non-null int64\n",
      "Last Update       4226 non-null object\n",
      "Latitude          1901 non-null float64\n",
      "Longitude         1901 non-null float64\n",
      "Province/State    2621 non-null object\n",
      "Recovered         4226 non-null int64\n",
      "filename          4226 non-null object\n",
      "dtypes: float64(2), int64(3), object(4)\n",
      "memory usage: 297.3+ KB\n"
     ]
    }
   ],
   "source": [
    "df.info()"
   ]
  },
  {
   "cell_type": "code",
   "execution_count": 19,
   "metadata": {},
   "outputs": [],
   "source": [
    "df['Date'] = pd.to_datetime(df['Last Update'])"
   ]
  },
  {
   "cell_type": "code",
   "execution_count": 20,
   "metadata": {},
   "outputs": [],
   "source": [
    "df['Diamond Princess'] = df['Province/State'].str.contains('Diamond Princess')"
   ]
  },
  {
   "cell_type": "code",
   "execution_count": 21,
   "metadata": {},
   "outputs": [
    {
     "data": {
      "text/html": [
       "<div>\n",
       "<style scoped>\n",
       "    .dataframe tbody tr th:only-of-type {\n",
       "        vertical-align: middle;\n",
       "    }\n",
       "\n",
       "    .dataframe tbody tr th {\n",
       "        vertical-align: top;\n",
       "    }\n",
       "\n",
       "    .dataframe thead th {\n",
       "        text-align: right;\n",
       "    }\n",
       "</style>\n",
       "<table border=\"1\" class=\"dataframe\">\n",
       "  <thead>\n",
       "    <tr style=\"text-align: right;\">\n",
       "      <th></th>\n",
       "      <th>Confirmed</th>\n",
       "      <th>Country/Region</th>\n",
       "      <th>Deaths</th>\n",
       "      <th>Last Update</th>\n",
       "      <th>Latitude</th>\n",
       "      <th>Longitude</th>\n",
       "      <th>Province/State</th>\n",
       "      <th>Recovered</th>\n",
       "      <th>filename</th>\n",
       "      <th>Date</th>\n",
       "      <th>Diamond Princess</th>\n",
       "    </tr>\n",
       "  </thead>\n",
       "  <tbody>\n",
       "    <tr>\n",
       "      <th>1499</th>\n",
       "      <td>4</td>\n",
       "      <td>Australia</td>\n",
       "      <td>0</td>\n",
       "      <td>2020-02-21T23:03:13</td>\n",
       "      <td>NaN</td>\n",
       "      <td>NaN</td>\n",
       "      <td>From Diamond Princess</td>\n",
       "      <td>0</td>\n",
       "      <td>\\02-21-2020.csv</td>\n",
       "      <td>2020-02-21 23:03:13</td>\n",
       "      <td>True</td>\n",
       "    </tr>\n",
       "    <tr>\n",
       "      <th>1518</th>\n",
       "      <td>1</td>\n",
       "      <td>Israel</td>\n",
       "      <td>0</td>\n",
       "      <td>2020-02-21T15:33:03</td>\n",
       "      <td>NaN</td>\n",
       "      <td>NaN</td>\n",
       "      <td>From Diamond Princess</td>\n",
       "      <td>0</td>\n",
       "      <td>\\02-21-2020.csv</td>\n",
       "      <td>2020-02-21 15:33:03</td>\n",
       "      <td>True</td>\n",
       "    </tr>\n",
       "    <tr>\n",
       "      <th>1580</th>\n",
       "      <td>7</td>\n",
       "      <td>Australia</td>\n",
       "      <td>0</td>\n",
       "      <td>2020-02-22T17:03:05</td>\n",
       "      <td>NaN</td>\n",
       "      <td>NaN</td>\n",
       "      <td>From Diamond Princess</td>\n",
       "      <td>0</td>\n",
       "      <td>\\02-22-2020.csv</td>\n",
       "      <td>2020-02-22 17:03:05</td>\n",
       "      <td>True</td>\n",
       "    </tr>\n",
       "    <tr>\n",
       "      <th>1602</th>\n",
       "      <td>1</td>\n",
       "      <td>Israel</td>\n",
       "      <td>0</td>\n",
       "      <td>2020-02-22T20:53:02</td>\n",
       "      <td>NaN</td>\n",
       "      <td>NaN</td>\n",
       "      <td>From Diamond Princess</td>\n",
       "      <td>0</td>\n",
       "      <td>\\02-22-2020.csv</td>\n",
       "      <td>2020-02-22 20:53:02</td>\n",
       "      <td>True</td>\n",
       "    </tr>\n",
       "    <tr>\n",
       "      <th>1664</th>\n",
       "      <td>7</td>\n",
       "      <td>Australia</td>\n",
       "      <td>0</td>\n",
       "      <td>2020-02-22T17:03:05</td>\n",
       "      <td>NaN</td>\n",
       "      <td>NaN</td>\n",
       "      <td>From Diamond Princess</td>\n",
       "      <td>0</td>\n",
       "      <td>\\02-23-2020.csv</td>\n",
       "      <td>2020-02-22 17:03:05</td>\n",
       "      <td>True</td>\n",
       "    </tr>\n",
       "    <tr>\n",
       "      <th>1686</th>\n",
       "      <td>1</td>\n",
       "      <td>Israel</td>\n",
       "      <td>0</td>\n",
       "      <td>2020-02-22T20:53:02</td>\n",
       "      <td>NaN</td>\n",
       "      <td>NaN</td>\n",
       "      <td>From Diamond Princess</td>\n",
       "      <td>0</td>\n",
       "      <td>\\02-23-2020.csv</td>\n",
       "      <td>2020-02-22 20:53:02</td>\n",
       "      <td>True</td>\n",
       "    </tr>\n",
       "    <tr>\n",
       "      <th>1749</th>\n",
       "      <td>7</td>\n",
       "      <td>Australia</td>\n",
       "      <td>0</td>\n",
       "      <td>2020-02-22T17:03:05</td>\n",
       "      <td>NaN</td>\n",
       "      <td>NaN</td>\n",
       "      <td>From Diamond Princess</td>\n",
       "      <td>0</td>\n",
       "      <td>\\02-24-2020.csv</td>\n",
       "      <td>2020-02-22 17:03:05</td>\n",
       "      <td>True</td>\n",
       "    </tr>\n",
       "    <tr>\n",
       "      <th>1773</th>\n",
       "      <td>1</td>\n",
       "      <td>Israel</td>\n",
       "      <td>0</td>\n",
       "      <td>2020-02-22T20:53:02</td>\n",
       "      <td>NaN</td>\n",
       "      <td>NaN</td>\n",
       "      <td>From Diamond Princess</td>\n",
       "      <td>0</td>\n",
       "      <td>\\02-24-2020.csv</td>\n",
       "      <td>2020-02-22 20:53:02</td>\n",
       "      <td>True</td>\n",
       "    </tr>\n",
       "    <tr>\n",
       "      <th>1841</th>\n",
       "      <td>7</td>\n",
       "      <td>Australia</td>\n",
       "      <td>0</td>\n",
       "      <td>2020-02-22T17:03:05</td>\n",
       "      <td>NaN</td>\n",
       "      <td>NaN</td>\n",
       "      <td>From Diamond Princess</td>\n",
       "      <td>0</td>\n",
       "      <td>\\02-25-2020.csv</td>\n",
       "      <td>2020-02-22 17:03:05</td>\n",
       "      <td>True</td>\n",
       "    </tr>\n",
       "    <tr>\n",
       "      <th>1867</th>\n",
       "      <td>1</td>\n",
       "      <td>Israel</td>\n",
       "      <td>0</td>\n",
       "      <td>2020-02-22T20:53:02</td>\n",
       "      <td>NaN</td>\n",
       "      <td>NaN</td>\n",
       "      <td>From Diamond Princess</td>\n",
       "      <td>0</td>\n",
       "      <td>\\02-25-2020.csv</td>\n",
       "      <td>2020-02-22 20:53:02</td>\n",
       "      <td>True</td>\n",
       "    </tr>\n",
       "    <tr>\n",
       "      <th>1936</th>\n",
       "      <td>7</td>\n",
       "      <td>Australia</td>\n",
       "      <td>0</td>\n",
       "      <td>2020-02-22T17:03:05</td>\n",
       "      <td>NaN</td>\n",
       "      <td>NaN</td>\n",
       "      <td>From Diamond Princess</td>\n",
       "      <td>0</td>\n",
       "      <td>\\02-26-2020.csv</td>\n",
       "      <td>2020-02-22 17:03:05</td>\n",
       "      <td>True</td>\n",
       "    </tr>\n",
       "    <tr>\n",
       "      <th>2037</th>\n",
       "      <td>8</td>\n",
       "      <td>Australia</td>\n",
       "      <td>0</td>\n",
       "      <td>2020-02-27T03:33:06</td>\n",
       "      <td>NaN</td>\n",
       "      <td>NaN</td>\n",
       "      <td>From Diamond Princess</td>\n",
       "      <td>0</td>\n",
       "      <td>\\02-27-2020.csv</td>\n",
       "      <td>2020-02-27 03:33:06</td>\n",
       "      <td>True</td>\n",
       "    </tr>\n",
       "    <tr>\n",
       "      <th>2142</th>\n",
       "      <td>8</td>\n",
       "      <td>Australia</td>\n",
       "      <td>0</td>\n",
       "      <td>2020-02-27T03:33:06</td>\n",
       "      <td>NaN</td>\n",
       "      <td>NaN</td>\n",
       "      <td>From Diamond Princess</td>\n",
       "      <td>0</td>\n",
       "      <td>\\02-28-2020.csv</td>\n",
       "      <td>2020-02-27 03:33:06</td>\n",
       "      <td>True</td>\n",
       "    </tr>\n",
       "    <tr>\n",
       "      <th>2321</th>\n",
       "      <td>0</td>\n",
       "      <td>Australia</td>\n",
       "      <td>0</td>\n",
       "      <td>2020-02-29T02:03:10</td>\n",
       "      <td>NaN</td>\n",
       "      <td>NaN</td>\n",
       "      <td>From Diamond Princess</td>\n",
       "      <td>0</td>\n",
       "      <td>\\02-29-2020.csv</td>\n",
       "      <td>2020-02-29 02:03:10</td>\n",
       "      <td>True</td>\n",
       "    </tr>\n",
       "    <tr>\n",
       "      <th>2446</th>\n",
       "      <td>0</td>\n",
       "      <td>Australia</td>\n",
       "      <td>0</td>\n",
       "      <td>2020-02-29T02:03:10</td>\n",
       "      <td>35.4437</td>\n",
       "      <td>139.638</td>\n",
       "      <td>From Diamond Princess</td>\n",
       "      <td>0</td>\n",
       "      <td>\\03-01-2020.csv</td>\n",
       "      <td>2020-02-29 02:03:10</td>\n",
       "      <td>True</td>\n",
       "    </tr>\n",
       "    <tr>\n",
       "      <th>2587</th>\n",
       "      <td>0</td>\n",
       "      <td>Australia</td>\n",
       "      <td>0</td>\n",
       "      <td>2020-02-29T02:03:10</td>\n",
       "      <td>35.4437</td>\n",
       "      <td>139.638</td>\n",
       "      <td>From Diamond Princess</td>\n",
       "      <td>0</td>\n",
       "      <td>\\03-02-2020.csv</td>\n",
       "      <td>2020-02-29 02:03:10</td>\n",
       "      <td>True</td>\n",
       "    </tr>\n",
       "    <tr>\n",
       "      <th>2738</th>\n",
       "      <td>0</td>\n",
       "      <td>Australia</td>\n",
       "      <td>0</td>\n",
       "      <td>2020-02-29T02:03:10</td>\n",
       "      <td>35.4437</td>\n",
       "      <td>139.638</td>\n",
       "      <td>From Diamond Princess</td>\n",
       "      <td>0</td>\n",
       "      <td>\\03-03-2020.csv</td>\n",
       "      <td>2020-02-29 02:03:10</td>\n",
       "      <td>True</td>\n",
       "    </tr>\n",
       "    <tr>\n",
       "      <th>2898</th>\n",
       "      <td>0</td>\n",
       "      <td>Australia</td>\n",
       "      <td>0</td>\n",
       "      <td>2020-02-29T02:03:10</td>\n",
       "      <td>35.4437</td>\n",
       "      <td>139.638</td>\n",
       "      <td>From Diamond Princess</td>\n",
       "      <td>0</td>\n",
       "      <td>\\03-04-2020.csv</td>\n",
       "      <td>2020-02-29 02:03:10</td>\n",
       "      <td>True</td>\n",
       "    </tr>\n",
       "    <tr>\n",
       "      <th>3071</th>\n",
       "      <td>0</td>\n",
       "      <td>Australia</td>\n",
       "      <td>0</td>\n",
       "      <td>2020-02-29T02:03:10</td>\n",
       "      <td>35.4437</td>\n",
       "      <td>139.638</td>\n",
       "      <td>From Diamond Princess</td>\n",
       "      <td>0</td>\n",
       "      <td>\\03-05-2020.csv</td>\n",
       "      <td>2020-02-29 02:03:10</td>\n",
       "      <td>True</td>\n",
       "    </tr>\n",
       "    <tr>\n",
       "      <th>3269</th>\n",
       "      <td>0</td>\n",
       "      <td>Australia</td>\n",
       "      <td>0</td>\n",
       "      <td>2020-02-29T02:03:10</td>\n",
       "      <td>35.4437</td>\n",
       "      <td>139.638</td>\n",
       "      <td>From Diamond Princess</td>\n",
       "      <td>0</td>\n",
       "      <td>\\03-06-2020.csv</td>\n",
       "      <td>2020-02-29 02:03:10</td>\n",
       "      <td>True</td>\n",
       "    </tr>\n",
       "    <tr>\n",
       "      <th>3493</th>\n",
       "      <td>0</td>\n",
       "      <td>Australia</td>\n",
       "      <td>0</td>\n",
       "      <td>2020-02-29T02:03:10</td>\n",
       "      <td>35.4437</td>\n",
       "      <td>139.638</td>\n",
       "      <td>From Diamond Princess</td>\n",
       "      <td>0</td>\n",
       "      <td>\\03-07-2020.csv</td>\n",
       "      <td>2020-02-29 02:03:10</td>\n",
       "      <td>True</td>\n",
       "    </tr>\n",
       "    <tr>\n",
       "      <th>3748</th>\n",
       "      <td>0</td>\n",
       "      <td>Australia</td>\n",
       "      <td>0</td>\n",
       "      <td>2020-02-29T02:03:10</td>\n",
       "      <td>35.4437</td>\n",
       "      <td>139.638</td>\n",
       "      <td>From Diamond Princess</td>\n",
       "      <td>0</td>\n",
       "      <td>\\03-08-2020.csv</td>\n",
       "      <td>2020-02-29 02:03:10</td>\n",
       "      <td>True</td>\n",
       "    </tr>\n",
       "    <tr>\n",
       "      <th>4014</th>\n",
       "      <td>0</td>\n",
       "      <td>Australia</td>\n",
       "      <td>0</td>\n",
       "      <td>2020-02-29T02:03:10</td>\n",
       "      <td>35.4437</td>\n",
       "      <td>139.638</td>\n",
       "      <td>From Diamond Princess</td>\n",
       "      <td>0</td>\n",
       "      <td>\\03-09-2020.csv</td>\n",
       "      <td>2020-02-29 02:03:10</td>\n",
       "      <td>True</td>\n",
       "    </tr>\n",
       "    <tr>\n",
       "      <th>4212</th>\n",
       "      <td>0</td>\n",
       "      <td>Australia</td>\n",
       "      <td>0</td>\n",
       "      <td>2020-02-29T02:03:10</td>\n",
       "      <td>35.4437</td>\n",
       "      <td>139.638</td>\n",
       "      <td>From Diamond Princess</td>\n",
       "      <td>0</td>\n",
       "      <td>\\03-10-2020.csv</td>\n",
       "      <td>2020-02-29 02:03:10</td>\n",
       "      <td>True</td>\n",
       "    </tr>\n",
       "  </tbody>\n",
       "</table>\n",
       "</div>"
      ],
      "text/plain": [
       "      Confirmed Country/Region  Deaths          Last Update  Latitude  \\\n",
       "1499          4      Australia       0  2020-02-21T23:03:13       NaN   \n",
       "1518          1         Israel       0  2020-02-21T15:33:03       NaN   \n",
       "1580          7      Australia       0  2020-02-22T17:03:05       NaN   \n",
       "1602          1         Israel       0  2020-02-22T20:53:02       NaN   \n",
       "1664          7      Australia       0  2020-02-22T17:03:05       NaN   \n",
       "1686          1         Israel       0  2020-02-22T20:53:02       NaN   \n",
       "1749          7      Australia       0  2020-02-22T17:03:05       NaN   \n",
       "1773          1         Israel       0  2020-02-22T20:53:02       NaN   \n",
       "1841          7      Australia       0  2020-02-22T17:03:05       NaN   \n",
       "1867          1         Israel       0  2020-02-22T20:53:02       NaN   \n",
       "1936          7      Australia       0  2020-02-22T17:03:05       NaN   \n",
       "2037          8      Australia       0  2020-02-27T03:33:06       NaN   \n",
       "2142          8      Australia       0  2020-02-27T03:33:06       NaN   \n",
       "2321          0      Australia       0  2020-02-29T02:03:10       NaN   \n",
       "2446          0      Australia       0  2020-02-29T02:03:10   35.4437   \n",
       "2587          0      Australia       0  2020-02-29T02:03:10   35.4437   \n",
       "2738          0      Australia       0  2020-02-29T02:03:10   35.4437   \n",
       "2898          0      Australia       0  2020-02-29T02:03:10   35.4437   \n",
       "3071          0      Australia       0  2020-02-29T02:03:10   35.4437   \n",
       "3269          0      Australia       0  2020-02-29T02:03:10   35.4437   \n",
       "3493          0      Australia       0  2020-02-29T02:03:10   35.4437   \n",
       "3748          0      Australia       0  2020-02-29T02:03:10   35.4437   \n",
       "4014          0      Australia       0  2020-02-29T02:03:10   35.4437   \n",
       "4212          0      Australia       0  2020-02-29T02:03:10   35.4437   \n",
       "\n",
       "      Longitude         Province/State  Recovered         filename  \\\n",
       "1499        NaN  From Diamond Princess          0  \\02-21-2020.csv   \n",
       "1518        NaN  From Diamond Princess          0  \\02-21-2020.csv   \n",
       "1580        NaN  From Diamond Princess          0  \\02-22-2020.csv   \n",
       "1602        NaN  From Diamond Princess          0  \\02-22-2020.csv   \n",
       "1664        NaN  From Diamond Princess          0  \\02-23-2020.csv   \n",
       "1686        NaN  From Diamond Princess          0  \\02-23-2020.csv   \n",
       "1749        NaN  From Diamond Princess          0  \\02-24-2020.csv   \n",
       "1773        NaN  From Diamond Princess          0  \\02-24-2020.csv   \n",
       "1841        NaN  From Diamond Princess          0  \\02-25-2020.csv   \n",
       "1867        NaN  From Diamond Princess          0  \\02-25-2020.csv   \n",
       "1936        NaN  From Diamond Princess          0  \\02-26-2020.csv   \n",
       "2037        NaN  From Diamond Princess          0  \\02-27-2020.csv   \n",
       "2142        NaN  From Diamond Princess          0  \\02-28-2020.csv   \n",
       "2321        NaN  From Diamond Princess          0  \\02-29-2020.csv   \n",
       "2446    139.638  From Diamond Princess          0  \\03-01-2020.csv   \n",
       "2587    139.638  From Diamond Princess          0  \\03-02-2020.csv   \n",
       "2738    139.638  From Diamond Princess          0  \\03-03-2020.csv   \n",
       "2898    139.638  From Diamond Princess          0  \\03-04-2020.csv   \n",
       "3071    139.638  From Diamond Princess          0  \\03-05-2020.csv   \n",
       "3269    139.638  From Diamond Princess          0  \\03-06-2020.csv   \n",
       "3493    139.638  From Diamond Princess          0  \\03-07-2020.csv   \n",
       "3748    139.638  From Diamond Princess          0  \\03-08-2020.csv   \n",
       "4014    139.638  From Diamond Princess          0  \\03-09-2020.csv   \n",
       "4212    139.638  From Diamond Princess          0  \\03-10-2020.csv   \n",
       "\n",
       "                    Date Diamond Princess  \n",
       "1499 2020-02-21 23:03:13             True  \n",
       "1518 2020-02-21 15:33:03             True  \n",
       "1580 2020-02-22 17:03:05             True  \n",
       "1602 2020-02-22 20:53:02             True  \n",
       "1664 2020-02-22 17:03:05             True  \n",
       "1686 2020-02-22 20:53:02             True  \n",
       "1749 2020-02-22 17:03:05             True  \n",
       "1773 2020-02-22 20:53:02             True  \n",
       "1841 2020-02-22 17:03:05             True  \n",
       "1867 2020-02-22 20:53:02             True  \n",
       "1936 2020-02-22 17:03:05             True  \n",
       "2037 2020-02-27 03:33:06             True  \n",
       "2142 2020-02-27 03:33:06             True  \n",
       "2321 2020-02-29 02:03:10             True  \n",
       "2446 2020-02-29 02:03:10             True  \n",
       "2587 2020-02-29 02:03:10             True  \n",
       "2738 2020-02-29 02:03:10             True  \n",
       "2898 2020-02-29 02:03:10             True  \n",
       "3071 2020-02-29 02:03:10             True  \n",
       "3269 2020-02-29 02:03:10             True  \n",
       "3493 2020-02-29 02:03:10             True  \n",
       "3748 2020-02-29 02:03:10             True  \n",
       "4014 2020-02-29 02:03:10             True  \n",
       "4212 2020-02-29 02:03:10             True  "
      ]
     },
     "execution_count": 21,
     "metadata": {},
     "output_type": "execute_result"
    }
   ],
   "source": [
    "df.loc[df['Province/State']=='From Diamond Princess']"
   ]
  },
  {
   "cell_type": "code",
   "execution_count": 22,
   "metadata": {},
   "outputs": [],
   "source": [
    "df.drop(columns=['filename'], inplace=True)"
   ]
  },
  {
   "cell_type": "code",
   "execution_count": 23,
   "metadata": {},
   "outputs": [],
   "source": [
    "df = df.drop_duplicates()"
   ]
  },
  {
   "cell_type": "code",
   "execution_count": 24,
   "metadata": {},
   "outputs": [
    {
     "name": "stdout",
     "output_type": "stream",
     "text": [
      "<class 'pandas.core.frame.DataFrame'>\n",
      "Int64Index: 2421 entries, 0 to 4225\n",
      "Data columns (total 10 columns):\n",
      "Confirmed           2421 non-null int64\n",
      "Country/Region      2421 non-null object\n",
      "Deaths              2421 non-null int64\n",
      "Last Update         2421 non-null object\n",
      "Latitude            1118 non-null float64\n",
      "Longitude           1118 non-null float64\n",
      "Province/State      1602 non-null object\n",
      "Recovered           2421 non-null int64\n",
      "Date                2421 non-null datetime64[ns]\n",
      "Diamond Princess    1602 non-null object\n",
      "dtypes: datetime64[ns](1), float64(2), int64(3), object(4)\n",
      "memory usage: 208.1+ KB\n"
     ]
    }
   ],
   "source": [
    "df.info()"
   ]
  },
  {
   "cell_type": "code",
   "execution_count": 25,
   "metadata": {},
   "outputs": [],
   "source": [
    "df['Province/State'] = df['Province/State'].str.replace(' \\(From Diamond Princess\\)', '').replace('None', 'From Diamond Princess')"
   ]
  },
  {
   "cell_type": "code",
   "execution_count": 26,
   "metadata": {},
   "outputs": [
    {
     "data": {
      "text/html": [
       "<div>\n",
       "<style scoped>\n",
       "    .dataframe tbody tr th:only-of-type {\n",
       "        vertical-align: middle;\n",
       "    }\n",
       "\n",
       "    .dataframe tbody tr th {\n",
       "        vertical-align: top;\n",
       "    }\n",
       "\n",
       "    .dataframe thead th {\n",
       "        text-align: right;\n",
       "    }\n",
       "</style>\n",
       "<table border=\"1\" class=\"dataframe\">\n",
       "  <thead>\n",
       "    <tr style=\"text-align: right;\">\n",
       "      <th></th>\n",
       "      <th>Confirmed</th>\n",
       "      <th>Country/Region</th>\n",
       "      <th>Deaths</th>\n",
       "      <th>Last Update</th>\n",
       "      <th>Latitude</th>\n",
       "      <th>Longitude</th>\n",
       "      <th>Province/State</th>\n",
       "      <th>Recovered</th>\n",
       "      <th>Date</th>\n",
       "      <th>Diamond Princess</th>\n",
       "    </tr>\n",
       "  </thead>\n",
       "  <tbody>\n",
       "    <tr>\n",
       "      <th>0</th>\n",
       "      <td>7153</td>\n",
       "      <td>Mainland China</td>\n",
       "      <td>249</td>\n",
       "      <td>2/1/2020 11:53</td>\n",
       "      <td>NaN</td>\n",
       "      <td>NaN</td>\n",
       "      <td>Hubei</td>\n",
       "      <td>168</td>\n",
       "      <td>2020-02-01 11:53:00</td>\n",
       "      <td>False</td>\n",
       "    </tr>\n",
       "    <tr>\n",
       "      <th>1</th>\n",
       "      <td>599</td>\n",
       "      <td>Mainland China</td>\n",
       "      <td>0</td>\n",
       "      <td>2/1/2020 10:53</td>\n",
       "      <td>NaN</td>\n",
       "      <td>NaN</td>\n",
       "      <td>Zhejiang</td>\n",
       "      <td>21</td>\n",
       "      <td>2020-02-01 10:53:00</td>\n",
       "      <td>False</td>\n",
       "    </tr>\n",
       "    <tr>\n",
       "      <th>2</th>\n",
       "      <td>535</td>\n",
       "      <td>Mainland China</td>\n",
       "      <td>0</td>\n",
       "      <td>2/1/2020 14:23</td>\n",
       "      <td>NaN</td>\n",
       "      <td>NaN</td>\n",
       "      <td>Guangdong</td>\n",
       "      <td>14</td>\n",
       "      <td>2020-02-01 14:23:00</td>\n",
       "      <td>False</td>\n",
       "    </tr>\n",
       "    <tr>\n",
       "      <th>3</th>\n",
       "      <td>422</td>\n",
       "      <td>Mainland China</td>\n",
       "      <td>2</td>\n",
       "      <td>2/1/2020 1:52</td>\n",
       "      <td>NaN</td>\n",
       "      <td>NaN</td>\n",
       "      <td>Henan</td>\n",
       "      <td>3</td>\n",
       "      <td>2020-02-01 01:52:00</td>\n",
       "      <td>False</td>\n",
       "    </tr>\n",
       "    <tr>\n",
       "      <th>4</th>\n",
       "      <td>389</td>\n",
       "      <td>Mainland China</td>\n",
       "      <td>0</td>\n",
       "      <td>2/1/2020 11:03</td>\n",
       "      <td>NaN</td>\n",
       "      <td>NaN</td>\n",
       "      <td>Hunan</td>\n",
       "      <td>8</td>\n",
       "      <td>2020-02-01 11:03:00</td>\n",
       "      <td>False</td>\n",
       "    </tr>\n",
       "  </tbody>\n",
       "</table>\n",
       "</div>"
      ],
      "text/plain": [
       "   Confirmed  Country/Region  Deaths     Last Update  Latitude  Longitude  \\\n",
       "0       7153  Mainland China     249  2/1/2020 11:53       NaN        NaN   \n",
       "1        599  Mainland China       0  2/1/2020 10:53       NaN        NaN   \n",
       "2        535  Mainland China       0  2/1/2020 14:23       NaN        NaN   \n",
       "3        422  Mainland China       2   2/1/2020 1:52       NaN        NaN   \n",
       "4        389  Mainland China       0  2/1/2020 11:03       NaN        NaN   \n",
       "\n",
       "  Province/State  Recovered                Date Diamond Princess  \n",
       "0          Hubei        168 2020-02-01 11:53:00            False  \n",
       "1       Zhejiang         21 2020-02-01 10:53:00            False  \n",
       "2      Guangdong         14 2020-02-01 14:23:00            False  \n",
       "3          Henan          3 2020-02-01 01:52:00            False  \n",
       "4          Hunan          8 2020-02-01 11:03:00            False  "
      ]
     },
     "execution_count": 26,
     "metadata": {},
     "output_type": "execute_result"
    }
   ],
   "source": [
    "df.head()"
   ]
  },
  {
   "cell_type": "code",
   "execution_count": 27,
   "metadata": {},
   "outputs": [],
   "source": [
    "df['DateTime'] = df['Date']"
   ]
  },
  {
   "cell_type": "code",
   "execution_count": 28,
   "metadata": {},
   "outputs": [],
   "source": [
    "df['Date'] = df['DateTime'].apply(lambda x: x.date())"
   ]
  },
  {
   "cell_type": "code",
   "execution_count": 29,
   "metadata": {},
   "outputs": [],
   "source": [
    "df['Date'] = df['Date'].apply(lambda x: pd.to_datetime(x))"
   ]
  },
  {
   "cell_type": "code",
   "execution_count": 47,
   "metadata": {},
   "outputs": [],
   "source": [
    "df['Date'] = df['Date'].apply(lambda x: str(x))"
   ]
  },
  {
   "cell_type": "code",
   "execution_count": 78,
   "metadata": {},
   "outputs": [
    {
     "name": "stdout",
     "output_type": "stream",
     "text": [
      "<class 'pandas.core.frame.DataFrame'>\n",
      "Int64Index: 2421 entries, 0 to 4225\n",
      "Data columns (total 13 columns):\n",
      "Confirmed           2421 non-null int64\n",
      "Country/Region      2421 non-null object\n",
      "Deaths              2421 non-null int64\n",
      "Last Update         2421 non-null object\n",
      "Latitude            1118 non-null float64\n",
      "Longitude           1118 non-null float64\n",
      "Province/State      1602 non-null object\n",
      "Recovered           2421 non-null int64\n",
      "Date                2421 non-null object\n",
      "Diamond Princess    1602 non-null object\n",
      "DateTime            2421 non-null datetime64[ns]\n",
      "Active              2421 non-null int64\n",
      "Log Confirmed       2421 non-null float64\n",
      "dtypes: datetime64[ns](1), float64(3), int64(4), object(5)\n",
      "memory usage: 264.8+ KB\n"
     ]
    }
   ],
   "source": [
    "df.info()"
   ]
  },
  {
   "cell_type": "code",
   "execution_count": 30,
   "metadata": {},
   "outputs": [
    {
     "data": {
      "text/html": [
       "<div>\n",
       "<style scoped>\n",
       "    .dataframe tbody tr th:only-of-type {\n",
       "        vertical-align: middle;\n",
       "    }\n",
       "\n",
       "    .dataframe tbody tr th {\n",
       "        vertical-align: top;\n",
       "    }\n",
       "\n",
       "    .dataframe thead th {\n",
       "        text-align: right;\n",
       "    }\n",
       "</style>\n",
       "<table border=\"1\" class=\"dataframe\">\n",
       "  <thead>\n",
       "    <tr style=\"text-align: right;\">\n",
       "      <th></th>\n",
       "      <th>Confirmed</th>\n",
       "      <th>Country/Region</th>\n",
       "      <th>Deaths</th>\n",
       "      <th>Last Update</th>\n",
       "      <th>Latitude</th>\n",
       "      <th>Longitude</th>\n",
       "      <th>Province/State</th>\n",
       "      <th>Recovered</th>\n",
       "      <th>Date</th>\n",
       "      <th>Diamond Princess</th>\n",
       "      <th>DateTime</th>\n",
       "    </tr>\n",
       "  </thead>\n",
       "  <tbody>\n",
       "    <tr>\n",
       "      <th>0</th>\n",
       "      <td>7153</td>\n",
       "      <td>Mainland China</td>\n",
       "      <td>249</td>\n",
       "      <td>2/1/2020 11:53</td>\n",
       "      <td>NaN</td>\n",
       "      <td>NaN</td>\n",
       "      <td>Hubei</td>\n",
       "      <td>168</td>\n",
       "      <td>2020-02-01</td>\n",
       "      <td>False</td>\n",
       "      <td>2020-02-01 11:53:00</td>\n",
       "    </tr>\n",
       "    <tr>\n",
       "      <th>1</th>\n",
       "      <td>599</td>\n",
       "      <td>Mainland China</td>\n",
       "      <td>0</td>\n",
       "      <td>2/1/2020 10:53</td>\n",
       "      <td>NaN</td>\n",
       "      <td>NaN</td>\n",
       "      <td>Zhejiang</td>\n",
       "      <td>21</td>\n",
       "      <td>2020-02-01</td>\n",
       "      <td>False</td>\n",
       "      <td>2020-02-01 10:53:00</td>\n",
       "    </tr>\n",
       "    <tr>\n",
       "      <th>2</th>\n",
       "      <td>535</td>\n",
       "      <td>Mainland China</td>\n",
       "      <td>0</td>\n",
       "      <td>2/1/2020 14:23</td>\n",
       "      <td>NaN</td>\n",
       "      <td>NaN</td>\n",
       "      <td>Guangdong</td>\n",
       "      <td>14</td>\n",
       "      <td>2020-02-01</td>\n",
       "      <td>False</td>\n",
       "      <td>2020-02-01 14:23:00</td>\n",
       "    </tr>\n",
       "    <tr>\n",
       "      <th>3</th>\n",
       "      <td>422</td>\n",
       "      <td>Mainland China</td>\n",
       "      <td>2</td>\n",
       "      <td>2/1/2020 1:52</td>\n",
       "      <td>NaN</td>\n",
       "      <td>NaN</td>\n",
       "      <td>Henan</td>\n",
       "      <td>3</td>\n",
       "      <td>2020-02-01</td>\n",
       "      <td>False</td>\n",
       "      <td>2020-02-01 01:52:00</td>\n",
       "    </tr>\n",
       "    <tr>\n",
       "      <th>4</th>\n",
       "      <td>389</td>\n",
       "      <td>Mainland China</td>\n",
       "      <td>0</td>\n",
       "      <td>2/1/2020 11:03</td>\n",
       "      <td>NaN</td>\n",
       "      <td>NaN</td>\n",
       "      <td>Hunan</td>\n",
       "      <td>8</td>\n",
       "      <td>2020-02-01</td>\n",
       "      <td>False</td>\n",
       "      <td>2020-02-01 11:03:00</td>\n",
       "    </tr>\n",
       "  </tbody>\n",
       "</table>\n",
       "</div>"
      ],
      "text/plain": [
       "   Confirmed  Country/Region  Deaths     Last Update  Latitude  Longitude  \\\n",
       "0       7153  Mainland China     249  2/1/2020 11:53       NaN        NaN   \n",
       "1        599  Mainland China       0  2/1/2020 10:53       NaN        NaN   \n",
       "2        535  Mainland China       0  2/1/2020 14:23       NaN        NaN   \n",
       "3        422  Mainland China       2   2/1/2020 1:52       NaN        NaN   \n",
       "4        389  Mainland China       0  2/1/2020 11:03       NaN        NaN   \n",
       "\n",
       "  Province/State  Recovered       Date Diamond Princess            DateTime  \n",
       "0          Hubei        168 2020-02-01            False 2020-02-01 11:53:00  \n",
       "1       Zhejiang         21 2020-02-01            False 2020-02-01 10:53:00  \n",
       "2      Guangdong         14 2020-02-01            False 2020-02-01 14:23:00  \n",
       "3          Henan          3 2020-02-01            False 2020-02-01 01:52:00  \n",
       "4          Hunan          8 2020-02-01            False 2020-02-01 11:03:00  "
      ]
     },
     "execution_count": 30,
     "metadata": {},
     "output_type": "execute_result"
    }
   ],
   "source": [
    "df.head()"
   ]
  },
  {
   "cell_type": "code",
   "execution_count": 31,
   "metadata": {},
   "outputs": [],
   "source": [
    "df['Active'] = df['Confirmed']-df['Deaths']-df['Recovered']"
   ]
  },
  {
   "cell_type": "code",
   "execution_count": 32,
   "metadata": {},
   "outputs": [
    {
     "data": {
      "text/html": [
       "<div>\n",
       "<style scoped>\n",
       "    .dataframe tbody tr th:only-of-type {\n",
       "        vertical-align: middle;\n",
       "    }\n",
       "\n",
       "    .dataframe tbody tr th {\n",
       "        vertical-align: top;\n",
       "    }\n",
       "\n",
       "    .dataframe thead th {\n",
       "        text-align: right;\n",
       "    }\n",
       "</style>\n",
       "<table border=\"1\" class=\"dataframe\">\n",
       "  <thead>\n",
       "    <tr style=\"text-align: right;\">\n",
       "      <th></th>\n",
       "      <th>Confirmed</th>\n",
       "      <th>Country/Region</th>\n",
       "      <th>Deaths</th>\n",
       "      <th>Last Update</th>\n",
       "      <th>Latitude</th>\n",
       "      <th>Longitude</th>\n",
       "      <th>Province/State</th>\n",
       "      <th>Recovered</th>\n",
       "      <th>Date</th>\n",
       "      <th>Diamond Princess</th>\n",
       "      <th>DateTime</th>\n",
       "      <th>Active</th>\n",
       "    </tr>\n",
       "  </thead>\n",
       "  <tbody>\n",
       "    <tr>\n",
       "      <th>3048</th>\n",
       "      <td>1</td>\n",
       "      <td>South Africa</td>\n",
       "      <td>0</td>\n",
       "      <td>2020-03-05T13:53:03</td>\n",
       "      <td>-30.5595</td>\n",
       "      <td>22.9375</td>\n",
       "      <td>NaN</td>\n",
       "      <td>0</td>\n",
       "      <td>2020-03-05</td>\n",
       "      <td>NaN</td>\n",
       "      <td>2020-03-05 13:53:03</td>\n",
       "      <td>1</td>\n",
       "    </tr>\n",
       "    <tr>\n",
       "      <th>3236</th>\n",
       "      <td>1</td>\n",
       "      <td>South Africa</td>\n",
       "      <td>0</td>\n",
       "      <td>2020-03-06T15:43:02</td>\n",
       "      <td>-30.5595</td>\n",
       "      <td>22.9375</td>\n",
       "      <td>NaN</td>\n",
       "      <td>0</td>\n",
       "      <td>2020-03-06</td>\n",
       "      <td>NaN</td>\n",
       "      <td>2020-03-06 15:43:02</td>\n",
       "      <td>1</td>\n",
       "    </tr>\n",
       "    <tr>\n",
       "      <th>3641</th>\n",
       "      <td>3</td>\n",
       "      <td>South Africa</td>\n",
       "      <td>0</td>\n",
       "      <td>2020-03-08T10:23:04</td>\n",
       "      <td>-30.5595</td>\n",
       "      <td>22.9375</td>\n",
       "      <td>NaN</td>\n",
       "      <td>0</td>\n",
       "      <td>2020-03-08</td>\n",
       "      <td>NaN</td>\n",
       "      <td>2020-03-08 10:23:04</td>\n",
       "      <td>3</td>\n",
       "    </tr>\n",
       "    <tr>\n",
       "      <th>4140</th>\n",
       "      <td>7</td>\n",
       "      <td>South Africa</td>\n",
       "      <td>0</td>\n",
       "      <td>2020-03-10T05:13:07</td>\n",
       "      <td>-30.5595</td>\n",
       "      <td>22.9375</td>\n",
       "      <td>NaN</td>\n",
       "      <td>0</td>\n",
       "      <td>2020-03-10</td>\n",
       "      <td>NaN</td>\n",
       "      <td>2020-03-10 05:13:07</td>\n",
       "      <td>7</td>\n",
       "    </tr>\n",
       "  </tbody>\n",
       "</table>\n",
       "</div>"
      ],
      "text/plain": [
       "      Confirmed Country/Region  Deaths          Last Update  Latitude  \\\n",
       "3048          1   South Africa       0  2020-03-05T13:53:03  -30.5595   \n",
       "3236          1   South Africa       0  2020-03-06T15:43:02  -30.5595   \n",
       "3641          3   South Africa       0  2020-03-08T10:23:04  -30.5595   \n",
       "4140          7   South Africa       0  2020-03-10T05:13:07  -30.5595   \n",
       "\n",
       "      Longitude Province/State  Recovered       Date Diamond Princess  \\\n",
       "3048    22.9375            NaN          0 2020-03-05              NaN   \n",
       "3236    22.9375            NaN          0 2020-03-06              NaN   \n",
       "3641    22.9375            NaN          0 2020-03-08              NaN   \n",
       "4140    22.9375            NaN          0 2020-03-10              NaN   \n",
       "\n",
       "                DateTime  Active  \n",
       "3048 2020-03-05 13:53:03       1  \n",
       "3236 2020-03-06 15:43:02       1  \n",
       "3641 2020-03-08 10:23:04       3  \n",
       "4140 2020-03-10 05:13:07       7  "
      ]
     },
     "execution_count": 32,
     "metadata": {},
     "output_type": "execute_result"
    }
   ],
   "source": [
    "df.loc[df['Country/Region']=='South Africa']"
   ]
  },
  {
   "cell_type": "code",
   "execution_count": 43,
   "metadata": {},
   "outputs": [],
   "source": [
    "df['Log Confirmed'] = np.log(df['Confirmed']+1)"
   ]
  },
  {
   "cell_type": "code",
   "execution_count": 69,
   "metadata": {},
   "outputs": [],
   "source": [
    "grouped_df = df.groupby(['Date', 'Country/Region']).agg({'Confirmed': 'sum', 'Recovered': 'sum',\n",
    "                                                    'Active': 'sum', 'Deaths': 'sum'}).reset_index()"
   ]
  },
  {
   "cell_type": "code",
   "execution_count": 73,
   "metadata": {},
   "outputs": [],
   "source": [
    "grouped_df['Log Confirmed'] = np.log(grouped_df['Confirmed']+1)"
   ]
  },
  {
   "cell_type": "code",
   "execution_count": 71,
   "metadata": {},
   "outputs": [
    {
     "name": "stdout",
     "output_type": "stream",
     "text": [
      "<class 'pandas.core.frame.DataFrame'>\n",
      "RangeIndex: 990 entries, 0 to 989\n",
      "Data columns (total 6 columns):\n",
      "Date              990 non-null object\n",
      "Country/Region    990 non-null object\n",
      "Confirmed         990 non-null int64\n",
      "Recovered         990 non-null int64\n",
      "Active            990 non-null int64\n",
      "Deaths            990 non-null int64\n",
      "dtypes: int64(4), object(2)\n",
      "memory usage: 46.5+ KB\n"
     ]
    }
   ],
   "source": [
    "grouped_df.info()"
   ]
  },
  {
   "cell_type": "markdown",
   "metadata": {},
   "source": [
    "1. Check for each country if it has entries for every date\n",
    "2. If country is missing entry for that date, use most previous entry"
   ]
  },
  {
   "cell_type": "code",
   "execution_count": 89,
   "metadata": {},
   "outputs": [],
   "source": [
    "country_list = grouped_df['Country/Region'].unique()"
   ]
  },
  {
   "cell_type": "code",
   "execution_count": 165,
   "metadata": {},
   "outputs": [],
   "source": [
    "temp_dict = {}\n",
    "for country in country_list:\n",
    "    date_list = list(grouped_df[grouped_df['Country/Region']==country]['Date'])\n",
    "    missing_dates = list(set(china_dates)-set(date_list))\n",
    "    temp_dict[country]=missing_dates\n",
    "    \n",
    "#     df_temp = pd.DataFrame({'Country/Region':country, 'Date':missing_dates})\n",
    "#     grouped_df_2.append(df_temp, ignore_index=True)\n",
    "    "
   ]
  },
  {
   "cell_type": "code",
   "execution_count": 174,
   "metadata": {},
   "outputs": [],
   "source": [
    "missing_dates_df = pd.DataFrame.from_dict(temp_dict, orient='index')"
   ]
  },
  {
   "cell_type": "code",
   "execution_count": 175,
   "metadata": {},
   "outputs": [
    {
     "data": {
      "text/html": [
       "<div>\n",
       "<style scoped>\n",
       "    .dataframe tbody tr th:only-of-type {\n",
       "        vertical-align: middle;\n",
       "    }\n",
       "\n",
       "    .dataframe tbody tr th {\n",
       "        vertical-align: top;\n",
       "    }\n",
       "\n",
       "    .dataframe thead th {\n",
       "        text-align: right;\n",
       "    }\n",
       "</style>\n",
       "<table border=\"1\" class=\"dataframe\">\n",
       "  <thead>\n",
       "    <tr style=\"text-align: right;\">\n",
       "      <th></th>\n",
       "      <th>index</th>\n",
       "      <th>0</th>\n",
       "      <th>1</th>\n",
       "      <th>2</th>\n",
       "      <th>3</th>\n",
       "      <th>4</th>\n",
       "      <th>5</th>\n",
       "      <th>6</th>\n",
       "      <th>7</th>\n",
       "      <th>8</th>\n",
       "      <th>...</th>\n",
       "      <th>29</th>\n",
       "      <th>30</th>\n",
       "      <th>31</th>\n",
       "      <th>32</th>\n",
       "      <th>33</th>\n",
       "      <th>34</th>\n",
       "      <th>35</th>\n",
       "      <th>36</th>\n",
       "      <th>37</th>\n",
       "      <th>38</th>\n",
       "    </tr>\n",
       "  </thead>\n",
       "  <tbody>\n",
       "    <tr>\n",
       "      <th>0</th>\n",
       "      <td>Cambodia</td>\n",
       "      <td>2020-02-04 00:00:00</td>\n",
       "      <td>2020-02-11 00:00:00</td>\n",
       "      <td>2020-02-07 00:00:00</td>\n",
       "      <td>2020-02-01 00:00:00</td>\n",
       "      <td>2020-03-04 00:00:00</td>\n",
       "      <td>2020-02-03 00:00:00</td>\n",
       "      <td>2020-02-17 00:00:00</td>\n",
       "      <td>2020-03-02 00:00:00</td>\n",
       "      <td>2020-02-15 00:00:00</td>\n",
       "      <td>...</td>\n",
       "      <td>2020-02-05 00:00:00</td>\n",
       "      <td>2020-02-26 00:00:00</td>\n",
       "      <td>2020-02-28 00:00:00</td>\n",
       "      <td>2020-02-18 00:00:00</td>\n",
       "      <td>2020-03-03 00:00:00</td>\n",
       "      <td>2020-03-05 00:00:00</td>\n",
       "      <td>2020-02-02 00:00:00</td>\n",
       "      <td>2020-02-10 00:00:00</td>\n",
       "      <td>None</td>\n",
       "      <td>None</td>\n",
       "    </tr>\n",
       "    <tr>\n",
       "      <th>1</th>\n",
       "      <td>Finland</td>\n",
       "      <td>2020-02-04 00:00:00</td>\n",
       "      <td>2020-02-11 00:00:00</td>\n",
       "      <td>2020-02-07 00:00:00</td>\n",
       "      <td>2020-02-01 00:00:00</td>\n",
       "      <td>2020-03-04 00:00:00</td>\n",
       "      <td>2020-02-03 00:00:00</td>\n",
       "      <td>2020-02-17 00:00:00</td>\n",
       "      <td>2020-03-02 00:00:00</td>\n",
       "      <td>2020-02-15 00:00:00</td>\n",
       "      <td>...</td>\n",
       "      <td>2020-02-10 00:00:00</td>\n",
       "      <td>None</td>\n",
       "      <td>None</td>\n",
       "      <td>None</td>\n",
       "      <td>None</td>\n",
       "      <td>None</td>\n",
       "      <td>None</td>\n",
       "      <td>None</td>\n",
       "      <td>None</td>\n",
       "      <td>None</td>\n",
       "    </tr>\n",
       "    <tr>\n",
       "      <th>2</th>\n",
       "      <td>India</td>\n",
       "      <td>2020-02-04 00:00:00</td>\n",
       "      <td>2020-02-11 00:00:00</td>\n",
       "      <td>2020-02-07 00:00:00</td>\n",
       "      <td>2020-02-01 00:00:00</td>\n",
       "      <td>2020-02-17 00:00:00</td>\n",
       "      <td>2020-02-15 00:00:00</td>\n",
       "      <td>2020-03-01 00:00:00</td>\n",
       "      <td>2020-02-06 00:00:00</td>\n",
       "      <td>2020-02-22 00:00:00</td>\n",
       "      <td>...</td>\n",
       "      <td>None</td>\n",
       "      <td>None</td>\n",
       "      <td>None</td>\n",
       "      <td>None</td>\n",
       "      <td>None</td>\n",
       "      <td>None</td>\n",
       "      <td>None</td>\n",
       "      <td>None</td>\n",
       "      <td>None</td>\n",
       "      <td>None</td>\n",
       "    </tr>\n",
       "    <tr>\n",
       "      <th>3</th>\n",
       "      <td>Italy</td>\n",
       "      <td>2020-02-04 00:00:00</td>\n",
       "      <td>2020-02-11 00:00:00</td>\n",
       "      <td>2020-02-01 00:00:00</td>\n",
       "      <td>2020-02-03 00:00:00</td>\n",
       "      <td>2020-02-17 00:00:00</td>\n",
       "      <td>2020-02-15 00:00:00</td>\n",
       "      <td>2020-02-06 00:00:00</td>\n",
       "      <td>2020-02-14 00:00:00</td>\n",
       "      <td>2020-02-19 00:00:00</td>\n",
       "      <td>...</td>\n",
       "      <td>None</td>\n",
       "      <td>None</td>\n",
       "      <td>None</td>\n",
       "      <td>None</td>\n",
       "      <td>None</td>\n",
       "      <td>None</td>\n",
       "      <td>None</td>\n",
       "      <td>None</td>\n",
       "      <td>None</td>\n",
       "      <td>None</td>\n",
       "    </tr>\n",
       "    <tr>\n",
       "      <th>4</th>\n",
       "      <td>Macau</td>\n",
       "      <td>2020-02-11 00:00:00</td>\n",
       "      <td>2020-02-07 00:00:00</td>\n",
       "      <td>2020-02-01 00:00:00</td>\n",
       "      <td>2020-03-04 00:00:00</td>\n",
       "      <td>2020-02-03 00:00:00</td>\n",
       "      <td>2020-02-17 00:00:00</td>\n",
       "      <td>2020-03-02 00:00:00</td>\n",
       "      <td>2020-02-15 00:00:00</td>\n",
       "      <td>2020-03-01 00:00:00</td>\n",
       "      <td>...</td>\n",
       "      <td>None</td>\n",
       "      <td>None</td>\n",
       "      <td>None</td>\n",
       "      <td>None</td>\n",
       "      <td>None</td>\n",
       "      <td>None</td>\n",
       "      <td>None</td>\n",
       "      <td>None</td>\n",
       "      <td>None</td>\n",
       "      <td>None</td>\n",
       "    </tr>\n",
       "    <tr>\n",
       "      <th>...</th>\n",
       "      <td>...</td>\n",
       "      <td>...</td>\n",
       "      <td>...</td>\n",
       "      <td>...</td>\n",
       "      <td>...</td>\n",
       "      <td>...</td>\n",
       "      <td>...</td>\n",
       "      <td>...</td>\n",
       "      <td>...</td>\n",
       "      <td>...</td>\n",
       "      <td>...</td>\n",
       "      <td>...</td>\n",
       "      <td>...</td>\n",
       "      <td>...</td>\n",
       "      <td>...</td>\n",
       "      <td>...</td>\n",
       "      <td>...</td>\n",
       "      <td>...</td>\n",
       "      <td>...</td>\n",
       "      <td>...</td>\n",
       "      <td>...</td>\n",
       "    </tr>\n",
       "    <tr>\n",
       "      <th>124</th>\n",
       "      <td>Russian Federation</td>\n",
       "      <td>2020-02-04 00:00:00</td>\n",
       "      <td>2020-02-11 00:00:00</td>\n",
       "      <td>2020-02-07 00:00:00</td>\n",
       "      <td>2020-02-01 00:00:00</td>\n",
       "      <td>2020-03-04 00:00:00</td>\n",
       "      <td>2020-02-03 00:00:00</td>\n",
       "      <td>2020-02-17 00:00:00</td>\n",
       "      <td>2020-03-02 00:00:00</td>\n",
       "      <td>2020-02-15 00:00:00</td>\n",
       "      <td>...</td>\n",
       "      <td>2020-02-05 00:00:00</td>\n",
       "      <td>2020-01-31 00:00:00</td>\n",
       "      <td>2020-02-26 00:00:00</td>\n",
       "      <td>2020-02-28 00:00:00</td>\n",
       "      <td>2020-03-08 00:00:00</td>\n",
       "      <td>2020-02-18 00:00:00</td>\n",
       "      <td>2020-03-03 00:00:00</td>\n",
       "      <td>2020-03-05 00:00:00</td>\n",
       "      <td>2020-02-02 00:00:00</td>\n",
       "      <td>2020-02-10 00:00:00</td>\n",
       "    </tr>\n",
       "    <tr>\n",
       "      <th>125</th>\n",
       "      <td>Saint Martin</td>\n",
       "      <td>2020-02-04 00:00:00</td>\n",
       "      <td>2020-02-11 00:00:00</td>\n",
       "      <td>2020-02-07 00:00:00</td>\n",
       "      <td>2020-02-01 00:00:00</td>\n",
       "      <td>2020-03-04 00:00:00</td>\n",
       "      <td>2020-02-03 00:00:00</td>\n",
       "      <td>2020-02-17 00:00:00</td>\n",
       "      <td>2020-03-02 00:00:00</td>\n",
       "      <td>2020-02-15 00:00:00</td>\n",
       "      <td>...</td>\n",
       "      <td>2020-02-05 00:00:00</td>\n",
       "      <td>2020-01-31 00:00:00</td>\n",
       "      <td>2020-02-26 00:00:00</td>\n",
       "      <td>2020-02-28 00:00:00</td>\n",
       "      <td>2020-03-08 00:00:00</td>\n",
       "      <td>2020-02-18 00:00:00</td>\n",
       "      <td>2020-03-03 00:00:00</td>\n",
       "      <td>2020-03-05 00:00:00</td>\n",
       "      <td>2020-02-02 00:00:00</td>\n",
       "      <td>2020-02-10 00:00:00</td>\n",
       "    </tr>\n",
       "    <tr>\n",
       "      <th>126</th>\n",
       "      <td>Taipei and environs</td>\n",
       "      <td>2020-02-04 00:00:00</td>\n",
       "      <td>2020-02-11 00:00:00</td>\n",
       "      <td>2020-02-07 00:00:00</td>\n",
       "      <td>2020-02-01 00:00:00</td>\n",
       "      <td>2020-03-04 00:00:00</td>\n",
       "      <td>2020-02-03 00:00:00</td>\n",
       "      <td>2020-02-17 00:00:00</td>\n",
       "      <td>2020-03-02 00:00:00</td>\n",
       "      <td>2020-02-15 00:00:00</td>\n",
       "      <td>...</td>\n",
       "      <td>2020-02-05 00:00:00</td>\n",
       "      <td>2020-01-31 00:00:00</td>\n",
       "      <td>2020-02-26 00:00:00</td>\n",
       "      <td>2020-02-28 00:00:00</td>\n",
       "      <td>2020-03-08 00:00:00</td>\n",
       "      <td>2020-02-18 00:00:00</td>\n",
       "      <td>2020-03-03 00:00:00</td>\n",
       "      <td>2020-03-05 00:00:00</td>\n",
       "      <td>2020-02-02 00:00:00</td>\n",
       "      <td>2020-02-10 00:00:00</td>\n",
       "    </tr>\n",
       "    <tr>\n",
       "      <th>127</th>\n",
       "      <td>Viet Nam</td>\n",
       "      <td>2020-02-04 00:00:00</td>\n",
       "      <td>2020-02-11 00:00:00</td>\n",
       "      <td>2020-02-07 00:00:00</td>\n",
       "      <td>2020-02-01 00:00:00</td>\n",
       "      <td>2020-03-04 00:00:00</td>\n",
       "      <td>2020-02-03 00:00:00</td>\n",
       "      <td>2020-02-17 00:00:00</td>\n",
       "      <td>2020-03-02 00:00:00</td>\n",
       "      <td>2020-02-15 00:00:00</td>\n",
       "      <td>...</td>\n",
       "      <td>2020-02-05 00:00:00</td>\n",
       "      <td>2020-01-31 00:00:00</td>\n",
       "      <td>2020-02-26 00:00:00</td>\n",
       "      <td>2020-02-28 00:00:00</td>\n",
       "      <td>2020-03-08 00:00:00</td>\n",
       "      <td>2020-02-18 00:00:00</td>\n",
       "      <td>2020-03-03 00:00:00</td>\n",
       "      <td>2020-03-05 00:00:00</td>\n",
       "      <td>2020-02-02 00:00:00</td>\n",
       "      <td>2020-02-10 00:00:00</td>\n",
       "    </tr>\n",
       "    <tr>\n",
       "      <th>128</th>\n",
       "      <td>occupied Palestinian territory</td>\n",
       "      <td>None</td>\n",
       "      <td>None</td>\n",
       "      <td>None</td>\n",
       "      <td>None</td>\n",
       "      <td>None</td>\n",
       "      <td>None</td>\n",
       "      <td>None</td>\n",
       "      <td>None</td>\n",
       "      <td>None</td>\n",
       "      <td>...</td>\n",
       "      <td>None</td>\n",
       "      <td>None</td>\n",
       "      <td>None</td>\n",
       "      <td>None</td>\n",
       "      <td>None</td>\n",
       "      <td>None</td>\n",
       "      <td>None</td>\n",
       "      <td>None</td>\n",
       "      <td>None</td>\n",
       "      <td>None</td>\n",
       "    </tr>\n",
       "  </tbody>\n",
       "</table>\n",
       "<p>129 rows × 40 columns</p>\n",
       "</div>"
      ],
      "text/plain": [
       "                              index                    0                    1  \\\n",
       "0                          Cambodia  2020-02-04 00:00:00  2020-02-11 00:00:00   \n",
       "1                           Finland  2020-02-04 00:00:00  2020-02-11 00:00:00   \n",
       "2                             India  2020-02-04 00:00:00  2020-02-11 00:00:00   \n",
       "3                             Italy  2020-02-04 00:00:00  2020-02-11 00:00:00   \n",
       "4                             Macau  2020-02-11 00:00:00  2020-02-07 00:00:00   \n",
       "..                              ...                  ...                  ...   \n",
       "124              Russian Federation  2020-02-04 00:00:00  2020-02-11 00:00:00   \n",
       "125                    Saint Martin  2020-02-04 00:00:00  2020-02-11 00:00:00   \n",
       "126             Taipei and environs  2020-02-04 00:00:00  2020-02-11 00:00:00   \n",
       "127                        Viet Nam  2020-02-04 00:00:00  2020-02-11 00:00:00   \n",
       "128  occupied Palestinian territory                 None                 None   \n",
       "\n",
       "                       2                    3                    4  \\\n",
       "0    2020-02-07 00:00:00  2020-02-01 00:00:00  2020-03-04 00:00:00   \n",
       "1    2020-02-07 00:00:00  2020-02-01 00:00:00  2020-03-04 00:00:00   \n",
       "2    2020-02-07 00:00:00  2020-02-01 00:00:00  2020-02-17 00:00:00   \n",
       "3    2020-02-01 00:00:00  2020-02-03 00:00:00  2020-02-17 00:00:00   \n",
       "4    2020-02-01 00:00:00  2020-03-04 00:00:00  2020-02-03 00:00:00   \n",
       "..                   ...                  ...                  ...   \n",
       "124  2020-02-07 00:00:00  2020-02-01 00:00:00  2020-03-04 00:00:00   \n",
       "125  2020-02-07 00:00:00  2020-02-01 00:00:00  2020-03-04 00:00:00   \n",
       "126  2020-02-07 00:00:00  2020-02-01 00:00:00  2020-03-04 00:00:00   \n",
       "127  2020-02-07 00:00:00  2020-02-01 00:00:00  2020-03-04 00:00:00   \n",
       "128                 None                 None                 None   \n",
       "\n",
       "                       5                    6                    7  \\\n",
       "0    2020-02-03 00:00:00  2020-02-17 00:00:00  2020-03-02 00:00:00   \n",
       "1    2020-02-03 00:00:00  2020-02-17 00:00:00  2020-03-02 00:00:00   \n",
       "2    2020-02-15 00:00:00  2020-03-01 00:00:00  2020-02-06 00:00:00   \n",
       "3    2020-02-15 00:00:00  2020-02-06 00:00:00  2020-02-14 00:00:00   \n",
       "4    2020-02-17 00:00:00  2020-03-02 00:00:00  2020-02-15 00:00:00   \n",
       "..                   ...                  ...                  ...   \n",
       "124  2020-02-03 00:00:00  2020-02-17 00:00:00  2020-03-02 00:00:00   \n",
       "125  2020-02-03 00:00:00  2020-02-17 00:00:00  2020-03-02 00:00:00   \n",
       "126  2020-02-03 00:00:00  2020-02-17 00:00:00  2020-03-02 00:00:00   \n",
       "127  2020-02-03 00:00:00  2020-02-17 00:00:00  2020-03-02 00:00:00   \n",
       "128                 None                 None                 None   \n",
       "\n",
       "                       8  ...                   29                   30  \\\n",
       "0    2020-02-15 00:00:00  ...  2020-02-05 00:00:00  2020-02-26 00:00:00   \n",
       "1    2020-02-15 00:00:00  ...  2020-02-10 00:00:00                 None   \n",
       "2    2020-02-22 00:00:00  ...                 None                 None   \n",
       "3    2020-02-19 00:00:00  ...                 None                 None   \n",
       "4    2020-03-01 00:00:00  ...                 None                 None   \n",
       "..                   ...  ...                  ...                  ...   \n",
       "124  2020-02-15 00:00:00  ...  2020-02-05 00:00:00  2020-01-31 00:00:00   \n",
       "125  2020-02-15 00:00:00  ...  2020-02-05 00:00:00  2020-01-31 00:00:00   \n",
       "126  2020-02-15 00:00:00  ...  2020-02-05 00:00:00  2020-01-31 00:00:00   \n",
       "127  2020-02-15 00:00:00  ...  2020-02-05 00:00:00  2020-01-31 00:00:00   \n",
       "128                 None  ...                 None                 None   \n",
       "\n",
       "                      31                   32                   33  \\\n",
       "0    2020-02-28 00:00:00  2020-02-18 00:00:00  2020-03-03 00:00:00   \n",
       "1                   None                 None                 None   \n",
       "2                   None                 None                 None   \n",
       "3                   None                 None                 None   \n",
       "4                   None                 None                 None   \n",
       "..                   ...                  ...                  ...   \n",
       "124  2020-02-26 00:00:00  2020-02-28 00:00:00  2020-03-08 00:00:00   \n",
       "125  2020-02-26 00:00:00  2020-02-28 00:00:00  2020-03-08 00:00:00   \n",
       "126  2020-02-26 00:00:00  2020-02-28 00:00:00  2020-03-08 00:00:00   \n",
       "127  2020-02-26 00:00:00  2020-02-28 00:00:00  2020-03-08 00:00:00   \n",
       "128                 None                 None                 None   \n",
       "\n",
       "                      34                   35                   36  \\\n",
       "0    2020-03-05 00:00:00  2020-02-02 00:00:00  2020-02-10 00:00:00   \n",
       "1                   None                 None                 None   \n",
       "2                   None                 None                 None   \n",
       "3                   None                 None                 None   \n",
       "4                   None                 None                 None   \n",
       "..                   ...                  ...                  ...   \n",
       "124  2020-02-18 00:00:00  2020-03-03 00:00:00  2020-03-05 00:00:00   \n",
       "125  2020-02-18 00:00:00  2020-03-03 00:00:00  2020-03-05 00:00:00   \n",
       "126  2020-02-18 00:00:00  2020-03-03 00:00:00  2020-03-05 00:00:00   \n",
       "127  2020-02-18 00:00:00  2020-03-03 00:00:00  2020-03-05 00:00:00   \n",
       "128                 None                 None                 None   \n",
       "\n",
       "                      37                   38  \n",
       "0                   None                 None  \n",
       "1                   None                 None  \n",
       "2                   None                 None  \n",
       "3                   None                 None  \n",
       "4                   None                 None  \n",
       "..                   ...                  ...  \n",
       "124  2020-02-02 00:00:00  2020-02-10 00:00:00  \n",
       "125  2020-02-02 00:00:00  2020-02-10 00:00:00  \n",
       "126  2020-02-02 00:00:00  2020-02-10 00:00:00  \n",
       "127  2020-02-02 00:00:00  2020-02-10 00:00:00  \n",
       "128                 None                 None  \n",
       "\n",
       "[129 rows x 40 columns]"
      ]
     },
     "execution_count": 175,
     "metadata": {},
     "output_type": "execute_result"
    }
   ],
   "source": [
    "missing_dates_df.reset_index()"
   ]
  },
  {
   "cell_type": "code",
   "execution_count": 177,
   "metadata": {},
   "outputs": [
    {
     "ename": "KeyError",
     "evalue": "\"The following 'id_vars' are not present in the DataFrame: [' Azerbaijan', 'Afghanistan', 'Albania', 'Algeria', 'Andorra', 'Argentina', 'Armenia', 'Australia', 'Austria', 'Azerbaijan', 'Bahrain', 'Bangladesh', 'Belarus', 'Belgium', 'Bhutan', 'Bosnia and Herzegovina', 'Brazil', 'Brunei', 'Bulgaria', 'Burkina Faso', 'Cambodia', 'Cameroon', 'Canada', 'Channel Islands', 'Chile', 'Colombia', 'Costa Rica', 'Croatia', 'Cyprus', 'Czech Republic', 'Denmark', 'Dominican Republic', 'Ecuador', 'Egypt', 'Estonia', 'Faroe Islands', 'Finland', 'France', 'French Guiana', 'Georgia', 'Germany', 'Gibraltar', 'Greece', 'Holy See', 'Hong Kong', 'Hong Kong SAR', 'Hungary', 'Iceland', 'India', 'Indonesia', 'Iran', 'Iran (Islamic Republic of)', 'Iraq', 'Ireland', 'Israel', 'Italy', 'Japan', 'Jordan', 'Kuwait', 'Latvia', 'Lebanon', 'Liechtenstein', 'Lithuania', 'Luxembourg', 'Macao SAR', 'Macau', 'Mainland China', 'Malaysia', 'Maldives', 'Malta', 'Martinique', 'Mexico', 'Moldova', 'Monaco', 'Mongolia', 'Morocco', 'Nepal', 'Netherlands', 'New Zealand', 'Nigeria', 'North Ireland', 'North Macedonia', 'Norway', 'Oman', 'Others', 'Pakistan', 'Palestine', 'Panama', 'Paraguay', 'Peru', 'Philippines', 'Poland', 'Portugal', 'Qatar', 'Republic of Ireland', 'Republic of Korea', 'Republic of Moldova', 'Romania', 'Russia', 'Russian Federation', 'Saint Barthelemy', 'Saint Martin', 'San Marino', 'Saudi Arabia', 'Senegal', 'Serbia', 'Singapore', 'Slovakia', 'Slovenia', 'South Africa', 'South Korea', 'Spain', 'Sri Lanka', 'St. Martin', 'Sweden', 'Switzerland', 'Taipei and environs', 'Taiwan', 'Thailand', 'Togo', 'Tunisia', 'UK', 'US', 'Ukraine', 'United Arab Emirates', 'Vatican City', 'Viet Nam', 'Vietnam', 'occupied Palestinian territory']\"",
     "output_type": "error",
     "traceback": [
      "\u001b[1;31m---------------------------------------------------------------------------\u001b[0m",
      "\u001b[1;31mKeyError\u001b[0m                                  Traceback (most recent call last)",
      "\u001b[1;32m<ipython-input-177-e419fb336345>\u001b[0m in \u001b[0;36m<module>\u001b[1;34m\u001b[0m\n\u001b[1;32m----> 1\u001b[1;33m \u001b[0mpd\u001b[0m\u001b[1;33m.\u001b[0m\u001b[0mmelt\u001b[0m\u001b[1;33m(\u001b[0m\u001b[0mmissing_dates_df\u001b[0m\u001b[1;33m,\u001b[0m \u001b[0mid_vars\u001b[0m\u001b[1;33m=\u001b[0m\u001b[0mmissing_dates_df\u001b[0m\u001b[1;33m.\u001b[0m\u001b[0mindex\u001b[0m\u001b[1;33m,\u001b[0m \u001b[0mvalue_vars\u001b[0m\u001b[1;33m=\u001b[0m\u001b[0mmissing_dates_df\u001b[0m\u001b[1;33m.\u001b[0m\u001b[0mcolumns\u001b[0m\u001b[1;33m)\u001b[0m\u001b[1;33m\u001b[0m\u001b[1;33m\u001b[0m\u001b[0m\n\u001b[0m",
      "\u001b[1;32m~\\Anaconda3\\lib\\site-packages\\pandas\\core\\reshape\\melt.py\u001b[0m in \u001b[0;36mmelt\u001b[1;34m(frame, id_vars, value_vars, var_name, value_name, col_level)\u001b[0m\n\u001b[0;32m     50\u001b[0m                     \u001b[1;34m\"The following 'id_vars' are not present\"\u001b[0m\u001b[1;33m\u001b[0m\u001b[1;33m\u001b[0m\u001b[0m\n\u001b[0;32m     51\u001b[0m                     \u001b[1;34m\" in the DataFrame: {missing}\"\u001b[0m\u001b[1;33m\u001b[0m\u001b[1;33m\u001b[0m\u001b[0m\n\u001b[1;32m---> 52\u001b[1;33m                     \u001b[1;34m\"\"\u001b[0m\u001b[1;33m.\u001b[0m\u001b[0mformat\u001b[0m\u001b[1;33m(\u001b[0m\u001b[0mmissing\u001b[0m\u001b[1;33m=\u001b[0m\u001b[0mlist\u001b[0m\u001b[1;33m(\u001b[0m\u001b[0mmissing\u001b[0m\u001b[1;33m)\u001b[0m\u001b[1;33m)\u001b[0m\u001b[1;33m\u001b[0m\u001b[1;33m\u001b[0m\u001b[0m\n\u001b[0m\u001b[0;32m     53\u001b[0m                 )\n\u001b[0;32m     54\u001b[0m     \u001b[1;32melse\u001b[0m\u001b[1;33m:\u001b[0m\u001b[1;33m\u001b[0m\u001b[1;33m\u001b[0m\u001b[0m\n",
      "\u001b[1;31mKeyError\u001b[0m: \"The following 'id_vars' are not present in the DataFrame: [' Azerbaijan', 'Afghanistan', 'Albania', 'Algeria', 'Andorra', 'Argentina', 'Armenia', 'Australia', 'Austria', 'Azerbaijan', 'Bahrain', 'Bangladesh', 'Belarus', 'Belgium', 'Bhutan', 'Bosnia and Herzegovina', 'Brazil', 'Brunei', 'Bulgaria', 'Burkina Faso', 'Cambodia', 'Cameroon', 'Canada', 'Channel Islands', 'Chile', 'Colombia', 'Costa Rica', 'Croatia', 'Cyprus', 'Czech Republic', 'Denmark', 'Dominican Republic', 'Ecuador', 'Egypt', 'Estonia', 'Faroe Islands', 'Finland', 'France', 'French Guiana', 'Georgia', 'Germany', 'Gibraltar', 'Greece', 'Holy See', 'Hong Kong', 'Hong Kong SAR', 'Hungary', 'Iceland', 'India', 'Indonesia', 'Iran', 'Iran (Islamic Republic of)', 'Iraq', 'Ireland', 'Israel', 'Italy', 'Japan', 'Jordan', 'Kuwait', 'Latvia', 'Lebanon', 'Liechtenstein', 'Lithuania', 'Luxembourg', 'Macao SAR', 'Macau', 'Mainland China', 'Malaysia', 'Maldives', 'Malta', 'Martinique', 'Mexico', 'Moldova', 'Monaco', 'Mongolia', 'Morocco', 'Nepal', 'Netherlands', 'New Zealand', 'Nigeria', 'North Ireland', 'North Macedonia', 'Norway', 'Oman', 'Others', 'Pakistan', 'Palestine', 'Panama', 'Paraguay', 'Peru', 'Philippines', 'Poland', 'Portugal', 'Qatar', 'Republic of Ireland', 'Republic of Korea', 'Republic of Moldova', 'Romania', 'Russia', 'Russian Federation', 'Saint Barthelemy', 'Saint Martin', 'San Marino', 'Saudi Arabia', 'Senegal', 'Serbia', 'Singapore', 'Slovakia', 'Slovenia', 'South Africa', 'South Korea', 'Spain', 'Sri Lanka', 'St. Martin', 'Sweden', 'Switzerland', 'Taipei and environs', 'Taiwan', 'Thailand', 'Togo', 'Tunisia', 'UK', 'US', 'Ukraine', 'United Arab Emirates', 'Vatican City', 'Viet Nam', 'Vietnam', 'occupied Palestinian territory']\""
     ]
    }
   ],
   "source": [
    "pd.melt(missing_dates_df, id_vars=missing_dates_df.index, value_vars=missing_dates_df.columns)"
   ]
  },
  {
   "cell_type": "code",
   "execution_count": 163,
   "metadata": {},
   "outputs": [
    {
     "name": "stdout",
     "output_type": "stream",
     "text": [
      "<class 'pandas.core.frame.DataFrame'>\n",
      "Int64Index: 1029 entries, 0 to 1028\n",
      "Data columns (total 7 columns):\n",
      "Active            990 non-null float64\n",
      "Confirmed         990 non-null float64\n",
      "Country/Region    1029 non-null object\n",
      "Date              1029 non-null object\n",
      "Deaths            990 non-null float64\n",
      "Log Confirmed     990 non-null float64\n",
      "Recovered         990 non-null float64\n",
      "dtypes: float64(5), object(2)\n",
      "memory usage: 64.3+ KB\n"
     ]
    }
   ],
   "source": [
    "grouped_df_2.info()"
   ]
  },
  {
   "cell_type": "code",
   "execution_count": 140,
   "metadata": {},
   "outputs": [],
   "source": [
    "grouped_df = grouped_df_2"
   ]
  },
  {
   "cell_type": "code",
   "execution_count": 141,
   "metadata": {},
   "outputs": [],
   "source": [
    "grouped_df.sort_values(['Country/Region', 'Date'], inplace=True)"
   ]
  },
  {
   "cell_type": "code",
   "execution_count": 144,
   "metadata": {},
   "outputs": [
    {
     "data": {
      "text/html": [
       "<div>\n",
       "<style scoped>\n",
       "    .dataframe tbody tr th:only-of-type {\n",
       "        vertical-align: middle;\n",
       "    }\n",
       "\n",
       "    .dataframe tbody tr th {\n",
       "        vertical-align: top;\n",
       "    }\n",
       "\n",
       "    .dataframe thead th {\n",
       "        text-align: right;\n",
       "    }\n",
       "</style>\n",
       "<table border=\"1\" class=\"dataframe\">\n",
       "  <thead>\n",
       "    <tr style=\"text-align: right;\">\n",
       "      <th></th>\n",
       "      <th>Active</th>\n",
       "      <th>Confirmed</th>\n",
       "      <th>Country/Region</th>\n",
       "      <th>Date</th>\n",
       "      <th>Deaths</th>\n",
       "      <th>Log Confirmed</th>\n",
       "      <th>Recovered</th>\n",
       "    </tr>\n",
       "  </thead>\n",
       "  <tbody>\n",
       "    <tr>\n",
       "      <th>57</th>\n",
       "      <td>3.0</td>\n",
       "      <td>3.0</td>\n",
       "      <td>Azerbaijan</td>\n",
       "      <td>2020-03-01 00:00:00</td>\n",
       "      <td>0.0</td>\n",
       "      <td>1.386294</td>\n",
       "      <td>0.0</td>\n",
       "    </tr>\n",
       "    <tr>\n",
       "      <th>58</th>\n",
       "      <td>6.0</td>\n",
       "      <td>6.0</td>\n",
       "      <td>Azerbaijan</td>\n",
       "      <td>2020-03-05 00:00:00</td>\n",
       "      <td>0.0</td>\n",
       "      <td>1.945910</td>\n",
       "      <td>0.0</td>\n",
       "    </tr>\n",
       "    <tr>\n",
       "      <th>59</th>\n",
       "      <td>9.0</td>\n",
       "      <td>9.0</td>\n",
       "      <td>Azerbaijan</td>\n",
       "      <td>2020-03-07 00:00:00</td>\n",
       "      <td>0.0</td>\n",
       "      <td>2.302585</td>\n",
       "      <td>0.0</td>\n",
       "    </tr>\n",
       "    <tr>\n",
       "      <th>60</th>\n",
       "      <td>11.0</td>\n",
       "      <td>11.0</td>\n",
       "      <td>Azerbaijan</td>\n",
       "      <td>2020-03-10 00:00:00</td>\n",
       "      <td>0.0</td>\n",
       "      <td>2.484907</td>\n",
       "      <td>0.0</td>\n",
       "    </tr>\n",
       "  </tbody>\n",
       "</table>\n",
       "</div>"
      ],
      "text/plain": [
       "    Active  Confirmed Country/Region                 Date  Deaths  \\\n",
       "57     3.0        3.0     Azerbaijan  2020-03-01 00:00:00     0.0   \n",
       "58     6.0        6.0     Azerbaijan  2020-03-05 00:00:00     0.0   \n",
       "59     9.0        9.0     Azerbaijan  2020-03-07 00:00:00     0.0   \n",
       "60    11.0       11.0     Azerbaijan  2020-03-10 00:00:00     0.0   \n",
       "\n",
       "    Log Confirmed  Recovered  \n",
       "57       1.386294        0.0  \n",
       "58       1.945910        0.0  \n",
       "59       2.302585        0.0  \n",
       "60       2.484907        0.0  "
      ]
     },
     "execution_count": 144,
     "metadata": {},
     "output_type": "execute_result"
    }
   ],
   "source": [
    "grouped_df.loc[grouped_df['Country/Region']=='Azerbaijan']"
   ]
  },
  {
   "cell_type": "code",
   "execution_count": 95,
   "metadata": {},
   "outputs": [],
   "source": [
    "china_dates = list(grouped_df[grouped_df['Country/Region']=='Mainland China']['Date'])"
   ]
  },
  {
   "cell_type": "code",
   "execution_count": 33,
   "metadata": {},
   "outputs": [
    {
     "data": {
      "application/vnd.jupyter.widget-view+json": {
       "model_id": "ec46a5f12fe4401f8ecf90f5801657f1",
       "version_major": 2,
       "version_minor": 0
      },
      "text/plain": [
       "interactive(children=(Dropdown(description='Country', options=(' Azerbaijan', 'Afghanistan', 'Albania', 'Alger…"
      ]
     },
     "metadata": {},
     "output_type": "display_data"
    }
   ],
   "source": [
    "@interact(Country = df['Country/Region'].sort_values().unique(), Confirmed=True, Active=True, Recovered=True, Deaths=True)\n",
    "def viz(Country, Confirmed, Active, Recovered, Deaths):\n",
    "    fig = px.line(title='Cases Over Time')\n",
    "    if Confirmed:\n",
    "        country_df = pd.DataFrame(df.loc[df['Country/Region']==Country].groupby('Date')['Confirmed'].agg('sum'))\n",
    "        fig.add_scatter(x = country_df.index, y = country_df['Confirmed'], mode='lines', name='Confirmed Cases')\n",
    "    if Active:\n",
    "        country_df = pd.DataFrame(df.loc[df['Country/Region']==Country].groupby('Date')['Active'].agg('sum'))\n",
    "        fig.add_scatter(x = country_df.index, y = country_df['Active'], mode='lines', name='Active Cases')\n",
    "    if Recovered:\n",
    "        country_df = pd.DataFrame(df.loc[df['Country/Region']==Country].groupby('Date')['Recovered'].agg('sum'))\n",
    "        fig.add_scatter(x = country_df.index, y = country_df['Recovered'], mode='lines', name='Recovered Cases')\n",
    "    if Deaths:\n",
    "        country_df = pd.DataFrame(df.loc[df['Country/Region']==Country].groupby('Date')['Deaths'].agg('sum'))\n",
    "        fig.add_scatter(x = country_df.index, y = country_df['Deaths'], mode='lines', name='Deceased Cases')\n",
    "    fig.update_xaxes(title='Date', range=[dt.date(2020, 2, 1), dt.datetime.now()])\n",
    "    fig.show()"
   ]
  },
  {
   "cell_type": "code",
   "execution_count": 75,
   "metadata": {},
   "outputs": [
    {
     "data": {
      "application/vnd.plotly.v1+json": {
       "config": {
        "plotlyServerURL": "https://plot.ly"
       },
       "data": [
        {
         "geo": "geo",
         "hoverlabel": {
          "namelength": 0
         },
         "hovertemplate": "<b>%{hovertext}</b><br><br>Date=2020-01-31 00:00:00<br>Log Confirmed=%{marker.size}<br>Country/Region=%{location}",
         "hovertext": [
          "Cambodia",
          "Finland",
          "India",
          "Italy",
          "Macau",
          "Mainland China",
          "Malaysia",
          "Nepal",
          "Russia",
          "Sri Lanka",
          "Taiwan",
          "Thailand",
          "United Arab Emirates"
         ],
         "legendgroup": "",
         "locationmode": "country names",
         "locations": [
          "Cambodia",
          "Finland",
          "India",
          "Italy",
          "Macau",
          "Mainland China",
          "Malaysia",
          "Nepal",
          "Russia",
          "Sri Lanka",
          "Taiwan",
          "Thailand",
          "United Arab Emirates"
         ],
         "marker": {
          "color": "#636efa",
          "size": [
           1.0986122886681098,
           1.0986122886681098,
           0.6931471805599453,
           1.6094379124341003,
           2.0794415416798357,
           3.4011973816621555,
           2.833213344056216,
           1.0986122886681098,
           1.6094379124341003,
           1.0986122886681098,
           3.044522437723423,
           3.6635616461296463,
           1.6094379124341003
          ],
          "sizemode": "area",
          "sizeref": 0.028217319611682782
         },
         "name": "",
         "showlegend": false,
         "type": "scattergeo"
        }
       ],
       "frames": [
        {
         "data": [
          {
           "geo": "geo",
           "hoverlabel": {
            "namelength": 0
           },
           "hovertemplate": "<b>%{hovertext}</b><br><br>Date=2020-01-31 00:00:00<br>Log Confirmed=%{marker.size}<br>Country/Region=%{location}",
           "hovertext": [
            "Cambodia",
            "Finland",
            "India",
            "Italy",
            "Macau",
            "Mainland China",
            "Malaysia",
            "Nepal",
            "Russia",
            "Sri Lanka",
            "Taiwan",
            "Thailand",
            "United Arab Emirates"
           ],
           "legendgroup": "",
           "locationmode": "country names",
           "locations": [
            "Cambodia",
            "Finland",
            "India",
            "Italy",
            "Macau",
            "Mainland China",
            "Malaysia",
            "Nepal",
            "Russia",
            "Sri Lanka",
            "Taiwan",
            "Thailand",
            "United Arab Emirates"
           ],
           "marker": {
            "color": "#636efa",
            "size": [
             1.0986122886681098,
             1.0986122886681098,
             0.6931471805599453,
             1.6094379124341003,
             2.0794415416798357,
             3.4011973816621555,
             2.833213344056216,
             1.0986122886681098,
             1.6094379124341003,
             1.0986122886681098,
             3.044522437723423,
             3.6635616461296463,
             1.6094379124341003
            ],
            "sizemode": "area",
            "sizeref": 0.028217319611682782
           },
           "name": "",
           "showlegend": false,
           "type": "scattergeo"
          }
         ],
         "name": "2020-01-31 00:00:00"
        },
        {
         "data": [
          {
           "geo": "geo",
           "hoverlabel": {
            "namelength": 0
           },
           "hovertemplate": "<b>%{hovertext}</b><br><br>Date=2020-02-01 00:00:00<br>Log Confirmed=%{marker.size}<br>Country/Region=%{location}",
           "hovertext": [
            "Australia",
            "Canada",
            "France",
            "Germany",
            "Hong Kong",
            "Japan",
            "Mainland China",
            "Philippines",
            "Singapore",
            "South Korea",
            "Spain",
            "Sweden",
            "UK",
            "US",
            "Vietnam"
           ],
           "legendgroup": "",
           "locationmode": "country names",
           "locations": [
            "Australia",
            "Canada",
            "France",
            "Germany",
            "Hong Kong",
            "Japan",
            "Mainland China",
            "Philippines",
            "Singapore",
            "South Korea",
            "Spain",
            "Sweden",
            "UK",
            "US",
            "Vietnam"
           ],
           "marker": {
            "color": "#636efa",
            "size": [
             3.044522437723423,
             2.1972245773362196,
             2.5649493574615367,
             2.1972245773362196,
             2.6390573296152584,
             3.713572066704308,
             9.379576689221482,
             0.6931471805599453,
             2.833213344056216,
             2.5649493574615367,
             1.0986122886681098,
             1.0986122886681098,
             1.6094379124341003,
             2.9444389791664403,
             2.5649493574615367
            ],
            "sizemode": "area",
            "sizeref": 0.028217319611682782
           },
           "name": "",
           "showlegend": false,
           "type": "scattergeo"
          }
         ],
         "name": "2020-02-01 00:00:00"
        },
        {
         "data": [
          {
           "geo": "geo",
           "hoverlabel": {
            "namelength": 0
           },
           "hovertemplate": "<b>%{hovertext}</b><br><br>Date=2020-02-02 00:00:00<br>Log Confirmed=%{marker.size}<br>Country/Region=%{location}",
           "hovertext": [
            "Australia",
            "Germany",
            "Hong Kong",
            "India",
            "Macau",
            "Mainland China",
            "Philippines",
            "Singapore",
            "South Korea",
            "United Arab Emirates"
           ],
           "legendgroup": "",
           "locationmode": "country names",
           "locations": [
            "Australia",
            "Germany",
            "Hong Kong",
            "India",
            "Macau",
            "Mainland China",
            "Philippines",
            "Singapore",
            "South Korea",
            "United Arab Emirates"
           ],
           "marker": {
            "color": "#636efa",
            "size": [
             1.6094379124341003,
             2.3978952727983707,
             2.772588722239781,
             1.0986122886681098,
             2.1972245773362196,
             9.717579572206754,
             1.0986122886681098,
             2.9444389791664403,
             2.772588722239781,
             1.791759469228055
            ],
            "sizemode": "area",
            "sizeref": 0.028217319611682782
           },
           "name": "",
           "showlegend": false,
           "type": "scattergeo"
          }
         ],
         "name": "2020-02-02 00:00:00"
        },
        {
         "data": [
          {
           "geo": "geo",
           "hoverlabel": {
            "namelength": 0
           },
           "hovertemplate": "<b>%{hovertext}</b><br><br>Date=2020-02-03 00:00:00<br>Log Confirmed=%{marker.size}<br>Country/Region=%{location}",
           "hovertext": [
            "Germany",
            "India",
            "Mainland China",
            "US",
            "Vietnam"
           ],
           "legendgroup": "",
           "locationmode": "country names",
           "locations": [
            "Germany",
            "India",
            "Mainland China",
            "US",
            "Vietnam"
           ],
           "marker": {
            "color": "#636efa",
            "size": [
             2.5649493574615367,
             1.3862943611198906,
             9.888018521632196,
             1.9459101490553132,
             2.1972245773362196
            ],
            "sizemode": "area",
            "sizeref": 0.028217319611682782
           },
           "name": "",
           "showlegend": false,
           "type": "scattergeo"
          }
         ],
         "name": "2020-02-03 00:00:00"
        },
        {
         "data": [
          {
           "geo": "geo",
           "hoverlabel": {
            "namelength": 0
           },
           "hovertemplate": "<b>%{hovertext}</b><br><br>Date=2020-02-04 00:00:00<br>Log Confirmed=%{marker.size}<br>Country/Region=%{location}",
           "hovertext": [
            "Australia",
            "Belgium",
            "Canada",
            "Hong Kong",
            "Japan",
            "Macau",
            "Mainland China",
            "Malaysia",
            "Singapore",
            "South Korea",
            "Taiwan",
            "Thailand"
           ],
           "legendgroup": "",
           "locationmode": "country names",
           "locations": [
            "Australia",
            "Belgium",
            "Canada",
            "Hong Kong",
            "Japan",
            "Macau",
            "Mainland China",
            "Malaysia",
            "Singapore",
            "South Korea",
            "Taiwan",
            "Thailand"
           ],
           "marker": {
            "color": "#636efa",
            "size": [
             1.3862943611198906,
             0.6931471805599453,
             1.3862943611198906,
             2.8903717578961645,
             3.1354942159291497,
             2.3978952727983707,
             10.072386088997941,
             2.3978952727983707,
             3.2188758248682006,
             2.833213344056216,
             2.4849066497880004,
             3.258096538021482
            ],
            "sizemode": "area",
            "sizeref": 0.028217319611682782
           },
           "name": "",
           "showlegend": false,
           "type": "scattergeo"
          }
         ],
         "name": "2020-02-04 00:00:00"
        },
        {
         "data": [
          {
           "geo": "geo",
           "hoverlabel": {
            "namelength": 0
           },
           "hovertemplate": "<b>%{hovertext}</b><br><br>Date=2020-02-05 00:00:00<br>Log Confirmed=%{marker.size}<br>Country/Region=%{location}",
           "hovertext": [
            "Canada",
            "Hong Kong",
            "Mainland China",
            "Malaysia",
            "Singapore",
            "South Korea",
            "US"
           ],
           "legendgroup": "",
           "locationmode": "country names",
           "locations": [
            "Canada",
            "Hong Kong",
            "Mainland China",
            "Malaysia",
            "Singapore",
            "South Korea",
            "US"
           ],
           "marker": {
            "color": "#636efa",
            "size": [
             1.0986122886681098,
             3.091042453358316,
             10.217385467118802,
             2.5649493574615367,
             3.367295829986474,
             2.995732273553991,
             1.0986122886681098
            ],
            "sizemode": "area",
            "sizeref": 0.028217319611682782
           },
           "name": "",
           "showlegend": false,
           "type": "scattergeo"
          }
         ],
         "name": "2020-02-05 00:00:00"
        },
        {
         "data": [
          {
           "geo": "geo",
           "hoverlabel": {
            "namelength": 0
           },
           "hovertemplate": "<b>%{hovertext}</b><br><br>Date=2020-02-06 00:00:00<br>Log Confirmed=%{marker.size}<br>Country/Region=%{location}",
           "hovertext": [
            "Australia",
            "Hong Kong",
            "Japan",
            "Macau",
            "Mainland China",
            "South Korea",
            "Taiwan",
            "Vietnam"
           ],
           "legendgroup": "",
           "locationmode": "country names",
           "locations": [
            "Australia",
            "Hong Kong",
            "Japan",
            "Macau",
            "Mainland China",
            "South Korea",
            "Taiwan",
            "Vietnam"
           ],
           "marker": {
            "color": "#636efa",
            "size": [
             2.1972245773362196,
             3.2188758248682006,
             3.828641396489095,
             2.3978952727983707,
             10.32518683708304,
             3.1780538303479458,
             2.833213344056216,
             2.3978952727983707
            ],
            "sizemode": "area",
            "sizeref": 0.028217319611682782
           },
           "name": "",
           "showlegend": false,
           "type": "scattergeo"
          }
         ],
         "name": "2020-02-06 00:00:00"
        },
        {
         "data": [
          {
           "geo": "geo",
           "hoverlabel": {
            "namelength": 0
           },
           "hovertemplate": "<b>%{hovertext}</b><br><br>Date=2020-02-07 00:00:00<br>Log Confirmed=%{marker.size}<br>Country/Region=%{location}",
           "hovertext": [
            "Australia",
            "Canada",
            "Germany",
            "Hong Kong",
            "Italy",
            "Japan",
            "Mainland China",
            "Malaysia",
            "Others",
            "Philippines",
            "Singapore",
            "South Korea",
            "UK"
           ],
           "legendgroup": "",
           "locationmode": "country names",
           "locations": [
            "Australia",
            "Canada",
            "Germany",
            "Hong Kong",
            "Italy",
            "Japan",
            "Mainland China",
            "Malaysia",
            "Others",
            "Philippines",
            "Singapore",
            "South Korea",
            "UK"
           ],
           "marker": {
            "color": "#636efa",
            "size": [
             1.791759469228055,
             1.6094379124341003,
             2.6390573296152584,
             3.258096538021482,
             1.3862943611198906,
             3.258096538021482,
             10.435790870478348,
             2.5649493574615367,
             4.127134385045092,
             1.3862943611198906,
             3.4339872044851463,
             3.2188758248682006,
             1.3862943611198906
            ],
            "sizemode": "area",
            "sizeref": 0.028217319611682782
           },
           "name": "",
           "showlegend": false,
           "type": "scattergeo"
          }
         ],
         "name": "2020-02-07 00:00:00"
        },
        {
         "data": [
          {
           "geo": "geo",
           "hoverlabel": {
            "namelength": 0
           },
           "hovertemplate": "<b>%{hovertext}</b><br><br>Date=2020-02-08 00:00:00<br>Log Confirmed=%{marker.size}<br>Country/Region=%{location}",
           "hovertext": [
            "France",
            "Hong Kong",
            "Mainland China",
            "Malaysia",
            "Singapore",
            "Sri Lanka",
            "Taiwan",
            "Thailand",
            "United Arab Emirates",
            "Vietnam"
           ],
           "legendgroup": "",
           "locationmode": "country names",
           "locations": [
            "France",
            "Hong Kong",
            "Mainland China",
            "Malaysia",
            "Singapore",
            "Sri Lanka",
            "Taiwan",
            "Thailand",
            "United Arab Emirates",
            "Vietnam"
           ],
           "marker": {
            "color": "#636efa",
            "size": [
             2.4849066497880004,
             3.295836866004329,
             10.512165576469624,
             2.833213344056216,
             3.5263605246161616,
             1.0986122886681098,
             2.8903717578961645,
             3.4965075614664802,
             2.0794415416798357,
             2.6390573296152584
            ],
            "sizemode": "area",
            "sizeref": 0.028217319611682782
           },
           "name": "",
           "showlegend": false,
           "type": "scattergeo"
          }
         ],
         "name": "2020-02-08 00:00:00"
        },
        {
         "data": [
          {
           "geo": "geo",
           "hoverlabel": {
            "namelength": 0
           },
           "hovertemplate": "<b>%{hovertext}</b><br><br>Date=2020-02-09 00:00:00<br>Log Confirmed=%{marker.size}<br>Country/Region=%{location}",
           "hovertext": [
            "Australia",
            "Germany",
            "Hong Kong",
            "Japan",
            "Mainland China",
            "Others",
            "Singapore",
            "South Korea",
            "Spain",
            "Taiwan",
            "US"
           ],
           "legendgroup": "",
           "locationmode": "country names",
           "locations": [
            "Australia",
            "Germany",
            "Hong Kong",
            "Japan",
            "Mainland China",
            "Others",
            "Singapore",
            "South Korea",
            "Spain",
            "Taiwan",
            "US"
           ],
           "marker": {
            "color": "#636efa",
            "size": [
             1.791759469228055,
             2.70805020110221,
             3.4011973816621555,
             3.295836866004329,
             10.590918426099964,
             4.174387269895637,
             3.713572066704308,
             3.258096538021482,
             1.0986122886681098,
             2.9444389791664403,
             1.3862943611198906
            ],
            "sizemode": "area",
            "sizeref": 0.028217319611682782
           },
           "name": "",
           "showlegend": false,
           "type": "scattergeo"
          }
         ],
         "name": "2020-02-09 00:00:00"
        },
        {
         "data": [
          {
           "geo": "geo",
           "hoverlabel": {
            "namelength": 0
           },
           "hovertemplate": "<b>%{hovertext}</b><br><br>Date=2020-02-10 00:00:00<br>Log Confirmed=%{marker.size}<br>Country/Region=%{location}",
           "hovertext": [
            "Hong Kong",
            "Japan",
            "Mainland China",
            "Malaysia",
            "Others",
            "Singapore",
            "South Korea",
            "UK",
            "United Arab Emirates",
            "Vietnam"
           ],
           "legendgroup": "",
           "locationmode": "country names",
           "locations": [
            "Hong Kong",
            "Japan",
            "Mainland China",
            "Malaysia",
            "Others",
            "Singapore",
            "South Korea",
            "UK",
            "United Arab Emirates",
            "Vietnam"
           ],
           "marker": {
            "color": "#636efa",
            "size": [
             3.6635616461296463,
             3.295836866004329,
             10.649440632919003,
             2.9444389791664403,
             4.912654885736052,
             3.828641396489095,
             3.332204510175204,
             2.1972245773362196,
             2.1972245773362196,
             2.70805020110221
            ],
            "sizemode": "area",
            "sizeref": 0.028217319611682782
           },
           "name": "",
           "showlegend": false,
           "type": "scattergeo"
          }
         ],
         "name": "2020-02-10 00:00:00"
        },
        {
         "data": [
          {
           "geo": "geo",
           "hoverlabel": {
            "namelength": 0
           },
           "hovertemplate": "<b>%{hovertext}</b><br><br>Date=2020-02-11 00:00:00<br>Log Confirmed=%{marker.size}<br>Country/Region=%{location}",
           "hovertext": [
            "Germany",
            "Hong Kong",
            "Japan",
            "Mainland China",
            "Malaysia",
            "Singapore",
            "South Korea",
            "Thailand",
            "US",
            "Vietnam"
           ],
           "legendgroup": "",
           "locationmode": "country names",
           "locations": [
            "Germany",
            "Hong Kong",
            "Japan",
            "Mainland China",
            "Malaysia",
            "Singapore",
            "South Korea",
            "Thailand",
            "US",
            "Vietnam"
           ],
           "marker": {
            "color": "#636efa",
            "size": [
             2.833213344056216,
             3.912023005428146,
             3.295836866004329,
             10.698039936810567,
             2.9444389791664403,
             3.871201010907891,
             3.367295829986474,
             3.5263605246161616,
             0.6931471805599453,
             2.772588722239781
            ],
            "sizemode": "area",
            "sizeref": 0.028217319611682782
           },
           "name": "",
           "showlegend": false,
           "type": "scattergeo"
          }
         ],
         "name": "2020-02-11 00:00:00"
        },
        {
         "data": [
          {
           "geo": "geo",
           "hoverlabel": {
            "namelength": 0
           },
           "hovertemplate": "<b>%{hovertext}</b><br><br>Date=2020-02-12 00:00:00<br>Log Confirmed=%{marker.size}<br>Country/Region=%{location}",
           "hovertext": [
            "Cambodia",
            "Canada",
            "Finland",
            "France",
            "Hong Kong",
            "Japan",
            "Macau",
            "Mainland China",
            "Nepal",
            "Others",
            "Philippines",
            "Russia",
            "Singapore",
            "South Korea",
            "UK",
            "United Arab Emirates"
           ],
           "legendgroup": "",
           "locationmode": "country names",
           "locations": [
            "Cambodia",
            "Canada",
            "Finland",
            "France",
            "Hong Kong",
            "Japan",
            "Macau",
            "Mainland China",
            "Nepal",
            "Others",
            "Philippines",
            "Russia",
            "Singapore",
            "South Korea",
            "UK",
            "United Arab Emirates"
           ],
           "marker": {
            "color": "#636efa",
            "size": [
             1.0986122886681098,
             1.0986122886681098,
             0.6931471805599453,
             2.4849066497880004,
             3.9318256327243257,
             3.367295829986474,
             2.3978952727983707,
             10.707751151716078,
             1.0986122886681098,
             5.170483995038151,
             1.9459101490553132,
             1.6094379124341003,
             3.9318256327243257,
             3.367295829986474,
             2.302585092994046,
             2.1972245773362196
            ],
            "sizemode": "area",
            "sizeref": 0.028217319611682782
           },
           "name": "",
           "showlegend": false,
           "type": "scattergeo"
          }
         ],
         "name": "2020-02-12 00:00:00"
        },
        {
         "data": [
          {
           "geo": "geo",
           "hoverlabel": {
            "namelength": 0
           },
           "hovertemplate": "<b>%{hovertext}</b><br><br>Date=2020-02-13 00:00:00<br>Log Confirmed=%{marker.size}<br>Country/Region=%{location}",
           "hovertext": [
            "Australia",
            "Germany",
            "Hong Kong",
            "India",
            "Japan",
            "Macau",
            "Mainland China",
            "Malaysia",
            "Singapore",
            "Thailand",
            "US",
            "Vietnam"
           ],
           "legendgroup": "",
           "locationmode": "country names",
           "locations": [
            "Australia",
            "Germany",
            "Hong Kong",
            "India",
            "Japan",
            "Macau",
            "Mainland China",
            "Malaysia",
            "Singapore",
            "Thailand",
            "US",
            "Vietnam"
           ],
           "marker": {
            "color": "#636efa",
            "size": [
             2.1972245773362196,
             2.833213344056216,
             3.9889840465642745,
             1.3862943611198906,
             3.367295829986474,
             2.3978952727983707,
             10.999295913871503,
             2.995732273553991,
             4.07753744390572,
             3.5263605246161616,
             1.6094379124341003,
             2.833213344056216
            ],
            "sizemode": "area",
            "sizeref": 0.028217319611682782
           },
           "name": "",
           "showlegend": false,
           "type": "scattergeo"
          }
         ],
         "name": "2020-02-13 00:00:00"
        },
        {
         "data": [
          {
           "geo": "geo",
           "hoverlabel": {
            "namelength": 0
           },
           "hovertemplate": "<b>%{hovertext}</b><br><br>Date=2020-02-14 00:00:00<br>Log Confirmed=%{marker.size}<br>Country/Region=%{location}",
           "hovertext": [
            "Egypt",
            "Hong Kong",
            "Japan",
            "Mainland China",
            "Others",
            "Singapore",
            "Taiwan"
           ],
           "legendgroup": "",
           "locationmode": "country names",
           "locations": [
            "Egypt",
            "Hong Kong",
            "Japan",
            "Mainland China",
            "Others",
            "Singapore",
            "Taiwan"
           ],
           "marker": {
            "color": "#636efa",
            "size": [
             0.6931471805599453,
             4.04305126783455,
             3.4011973816621555,
             11.100194020870019,
             5.389071729816501,
             4.219507705176107,
             2.9444389791664403
            ],
            "sizemode": "area",
            "sizeref": 0.028217319611682782
           },
           "name": "",
           "showlegend": false,
           "type": "scattergeo"
          }
         ],
         "name": "2020-02-14 00:00:00"
        },
        {
         "data": [
          {
           "geo": "geo",
           "hoverlabel": {
            "namelength": 0
           },
           "hovertemplate": "<b>%{hovertext}</b><br><br>Date=2020-02-15 00:00:00<br>Log Confirmed=%{marker.size}<br>Country/Region=%{location}",
           "hovertext": [
            "France",
            "Japan",
            "Mainland China",
            "Malaysia",
            "Others",
            "Singapore",
            "South Korea",
            "Spain",
            "Taiwan",
            "United Arab Emirates"
           ],
           "legendgroup": "",
           "locationmode": "country names",
           "locations": [
            "France",
            "Japan",
            "Mainland China",
            "Malaysia",
            "Others",
            "Singapore",
            "South Korea",
            "Spain",
            "Taiwan",
            "United Arab Emirates"
           ],
           "marker": {
            "color": "#636efa",
            "size": [
             2.5649493574615367,
             3.784189633918261,
             11.132352949455102,
             3.1354942159291497,
             5.655991810819852,
             4.290459441148391,
             3.367295829986474,
             1.0986122886681098,
             2.9444389791664403,
             2.1972245773362196
            ],
            "sizemode": "area",
            "sizeref": 0.028217319611682782
           },
           "name": "",
           "showlegend": false,
           "type": "scattergeo"
          }
         ],
         "name": "2020-02-15 00:00:00"
        },
        {
         "data": [
          {
           "geo": "geo",
           "hoverlabel": {
            "namelength": 0
           },
           "hovertemplate": "<b>%{hovertext}</b><br><br>Date=2020-02-16 00:00:00<br>Log Confirmed=%{marker.size}<br>Country/Region=%{location}",
           "hovertext": [
            "Hong Kong",
            "India",
            "Japan",
            "Macau",
            "Mainland China",
            "Others",
            "Singapore",
            "South Korea",
            "Taiwan",
            "Thailand",
            "UK",
            "United Arab Emirates"
           ],
           "legendgroup": "",
           "locationmode": "country names",
           "locations": [
            "Hong Kong",
            "India",
            "Japan",
            "Macau",
            "Mainland China",
            "Others",
            "Singapore",
            "South Korea",
            "Taiwan",
            "Thailand",
            "UK",
            "United Arab Emirates"
           ],
           "marker": {
            "color": "#636efa",
            "size": [
             4.060443010546419,
             1.9459101490553132,
             4.0943445622221,
             2.3978952727983707,
             11.161351773205874,
             5.87493073085203,
             4.330733340286331,
             3.4011973816621555,
             3.044522437723423,
             3.5553480614894135,
             2.302585092994046,
             2.302585092994046
            ],
            "sizemode": "area",
            "sizeref": 0.028217319611682782
           },
           "name": "",
           "showlegend": false,
           "type": "scattergeo"
          }
         ],
         "name": "2020-02-16 00:00:00"
        },
        {
         "data": [
          {
           "geo": "geo",
           "hoverlabel": {
            "namelength": 0
           },
           "hovertemplate": "<b>%{hovertext}</b><br><br>Date=2020-02-17 00:00:00<br>Log Confirmed=%{marker.size}<br>Country/Region=%{location}",
           "hovertext": [
            "Australia",
            "Belgium",
            "Canada",
            "Hong Kong",
            "Japan",
            "Mainland China",
            "Others",
            "Singapore",
            "South Korea",
            "Taiwan",
            "Thailand"
           ],
           "legendgroup": "",
           "locationmode": "country names",
           "locations": [
            "Australia",
            "Belgium",
            "Canada",
            "Hong Kong",
            "Japan",
            "Mainland China",
            "Others",
            "Singapore",
            "South Korea",
            "Taiwan",
            "Thailand"
           ],
           "marker": {
            "color": "#636efa",
            "size": [
             1.0986122886681098,
             0.6931471805599453,
             1.791759469228055,
             4.110873864173311,
             4.204692619390966,
             11.189215443730982,
             6.12029741895095,
             4.356708826689592,
             3.4339872044851463,
             3.1354942159291497,
             3.58351893845611
            ],
            "sizemode": "area",
            "sizeref": 0.028217319611682782
           },
           "name": "",
           "showlegend": false,
           "type": "scattergeo"
          }
         ],
         "name": "2020-02-17 00:00:00"
        },
        {
         "data": [
          {
           "geo": "geo",
           "hoverlabel": {
            "namelength": 0
           },
           "hovertemplate": "<b>%{hovertext}</b><br><br>Date=2020-02-18 00:00:00<br>Log Confirmed=%{marker.size}<br>Country/Region=%{location}",
           "hovertext": [
            "Germany",
            "Hong Kong",
            "Japan",
            "Mainland China",
            "Malaysia",
            "Others",
            "Singapore",
            "South Korea"
           ],
           "legendgroup": "",
           "locationmode": "country names",
           "locations": [
            "Germany",
            "Hong Kong",
            "Japan",
            "Mainland China",
            "Malaysia",
            "Others",
            "Singapore",
            "South Korea"
           ],
           "marker": {
            "color": "#636efa",
            "size": [
             2.833213344056216,
             4.143134726391533,
             4.31748811353631,
             11.213696988618075,
             3.1354942159291497,
             6.297109319933935,
             4.406719247264253,
             3.4657359027997265
            ],
            "sizemode": "area",
            "sizeref": 0.028217319611682782
           },
           "name": "",
           "showlegend": false,
           "type": "scattergeo"
          }
         ],
         "name": "2020-02-18 00:00:00"
        },
        {
         "data": [
          {
           "geo": "geo",
           "hoverlabel": {
            "namelength": 0
           },
           "hovertemplate": "<b>%{hovertext}</b><br><br>Date=2020-02-19 00:00:00<br>Log Confirmed=%{marker.size}<br>Country/Region=%{location}",
           "hovertext": [
            "Hong Kong",
            "Iran",
            "Japan",
            "Mainland China",
            "Malaysia",
            "Others",
            "Singapore",
            "Taiwan"
           ],
           "legendgroup": "",
           "locationmode": "country names",
           "locations": [
            "Hong Kong",
            "Iran",
            "Japan",
            "Mainland China",
            "Malaysia",
            "Others",
            "Singapore",
            "Taiwan"
           ],
           "marker": {
            "color": "#636efa",
            "size": [
             4.1588830833596715,
             1.0986122886681098,
             4.442651256490317,
             11.219171663488467,
             3.1354942159291497,
             6.432940092739179,
             4.442651256490317,
             3.1780538303479458
            ],
            "sizemode": "area",
            "sizeref": 0.028217319611682782
           },
           "name": "",
           "showlegend": false,
           "type": "scattergeo"
          }
         ],
         "name": "2020-02-19 00:00:00"
        },
        {
         "data": [
          {
           "geo": "geo",
           "hoverlabel": {
            "namelength": 0
           },
           "hovertemplate": "<b>%{hovertext}</b><br><br>Date=2020-02-20 00:00:00<br>Log Confirmed=%{marker.size}<br>Country/Region=%{location}",
           "hovertext": [
            "Hong Kong",
            "Iran",
            "Japan",
            "Macau",
            "Mainland China",
            "Others",
            "South Korea",
            "Taiwan"
           ],
           "legendgroup": "",
           "locationmode": "country names",
           "locations": [
            "Hong Kong",
            "Iran",
            "Japan",
            "Macau",
            "Mainland China",
            "Others",
            "South Korea",
            "Taiwan"
           ],
           "marker": {
            "color": "#636efa",
            "size": [
             4.23410650459726,
             1.791759469228055,
             4.553876891600541,
             2.3978952727983707,
             11.224990027090804,
             6.453624998892692,
             4.653960350157523,
             3.2188758248682006
            ],
            "sizemode": "area",
            "sizeref": 0.028217319611682782
           },
           "name": "",
           "showlegend": false,
           "type": "scattergeo"
          }
         ],
         "name": "2020-02-20 00:00:00"
        },
        {
         "data": [
          {
           "geo": "geo",
           "hoverlabel": {
            "namelength": 0
           },
           "hovertemplate": "<b>%{hovertext}</b><br><br>Date=2020-02-21 00:00:00<br>Log Confirmed=%{marker.size}<br>Country/Region=%{location}",
           "hovertext": [
            "Australia",
            "Canada",
            "Egypt",
            "Germany",
            "Hong Kong",
            "Iran",
            "Israel",
            "Italy",
            "Japan",
            "Lebanon",
            "Mainland China",
            "Singapore",
            "South Korea",
            "Taiwan",
            "Thailand",
            "US",
            "Vietnam"
           ],
           "legendgroup": "",
           "locationmode": "country names",
           "locations": [
            "Australia",
            "Canada",
            "Egypt",
            "Germany",
            "Hong Kong",
            "Iran",
            "Israel",
            "Italy",
            "Japan",
            "Lebanon",
            "Mainland China",
            "Singapore",
            "South Korea",
            "Taiwan",
            "Thailand",
            "US",
            "Vietnam"
           ],
           "marker": {
            "color": "#636efa",
            "size": [
             2.302585092994046,
             2.1972245773362196,
             0.6931471805599453,
             2.833213344056216,
             4.23410650459726,
             2.9444389791664403,
             0.6931471805599453,
             3.044522437723423,
             4.663439094112067,
             0.6931471805599453,
             11.23175547613367,
             4.454347296253507,
             5.3230099791384085,
             3.295836866004329,
             3.58351893845611,
             3.332204510175204,
             2.833213344056216
            ],
            "sizemode": "area",
            "sizeref": 0.028217319611682782
           },
           "name": "",
           "showlegend": false,
           "type": "scattergeo"
          }
         ],
         "name": "2020-02-21 00:00:00"
        },
        {
         "data": [
          {
           "geo": "geo",
           "hoverlabel": {
            "namelength": 0
           },
           "hovertemplate": "<b>%{hovertext}</b><br><br>Date=2020-02-22 00:00:00<br>Log Confirmed=%{marker.size}<br>Country/Region=%{location}",
           "hovertext": [
            "Australia",
            "Hong Kong",
            "Iran",
            "Israel",
            "Italy",
            "Japan",
            "Lebanon",
            "Mainland China",
            "South Korea",
            "US",
            "United Arab Emirates"
           ],
           "legendgroup": "",
           "locationmode": "country names",
           "locations": [
            "Australia",
            "Hong Kong",
            "Iran",
            "Israel",
            "Italy",
            "Japan",
            "Lebanon",
            "Mainland China",
            "South Korea",
            "US",
            "United Arab Emirates"
           ],
           "marker": {
            "color": "#636efa",
            "size": [
             2.0794415416798357,
             4.248495242049359,
             3.367295829986474,
             0.6931471805599453,
             4.143134726391533,
             4.812184355372417,
             0.6931471805599453,
             11.24820442548896,
             6.073044534100405,
             2.9444389791664403,
             2.6390573296152584
            ],
            "sizemode": "area",
            "sizeref": 0.028217319611682782
           },
           "name": "",
           "showlegend": false,
           "type": "scattergeo"
          }
         ],
         "name": "2020-02-22 00:00:00"
        },
        {
         "data": [
          {
           "geo": "geo",
           "hoverlabel": {
            "namelength": 0
           },
           "hovertemplate": "<b>%{hovertext}</b><br><br>Date=2020-02-23 00:00:00<br>Log Confirmed=%{marker.size}<br>Country/Region=%{location}",
           "hovertext": [
            "Hong Kong",
            "Iran",
            "Iraq",
            "Italy",
            "Japan",
            "Mainland China",
            "Others",
            "Singapore",
            "South Korea",
            "Taiwan",
            "Thailand"
           ],
           "legendgroup": "",
           "locationmode": "country names",
           "locations": [
            "Hong Kong",
            "Iran",
            "Iraq",
            "Italy",
            "Japan",
            "Mainland China",
            "Others",
            "Singapore",
            "South Korea",
            "Taiwan",
            "Thailand"
           ],
           "marker": {
            "color": "#636efa",
            "size": [
             4.31748811353631,
             3.784189633918261,
             0,
             5.049856007249537,
             4.997212273764115,
             11.250521199702716,
             6.539585955617669,
             4.499809670330265,
             6.401917196727186,
             3.367295829986474,
             3.58351893845611
            ],
            "sizemode": "area",
            "sizeref": 0.028217319611682782
           },
           "name": "",
           "showlegend": false,
           "type": "scattergeo"
          }
         ],
         "name": "2020-02-23 00:00:00"
        },
        {
         "data": [
          {
           "geo": "geo",
           "hoverlabel": {
            "namelength": 0
           },
           "hovertemplate": "<b>%{hovertext}</b><br><br>Date=2020-02-24 00:00:00<br>Log Confirmed=%{marker.size}<br>Country/Region=%{location}",
           "hovertext": [
            "Afghanistan",
            "Bahrain",
            "Canada",
            "Hong Kong",
            "Iran",
            "Iraq",
            "Italy",
            "Japan",
            "Kuwait",
            "Mainland China",
            "Malaysia",
            "Oman",
            "South Korea",
            "Taiwan",
            "UK",
            "US"
           ],
           "legendgroup": "",
           "locationmode": "country names",
           "locations": [
            "Afghanistan",
            "Bahrain",
            "Canada",
            "Hong Kong",
            "Iran",
            "Iraq",
            "Italy",
            "Japan",
            "Kuwait",
            "Mainland China",
            "Malaysia",
            "Oman",
            "South Korea",
            "Taiwan",
            "UK",
            "US"
           ],
           "marker": {
            "color": "#636efa",
            "size": [
             1.0986122886681098,
             0.6931471805599453,
             1.3862943611198906,
             4.382026634673881,
             4.127134385045092,
             0.6931471805599453,
             5.438079308923196,
             5.075173815233827,
             0.6931471805599453,
             11.251404844535015,
             3.1354942159291497,
             1.0986122886681098,
             6.726233402358747,
             3.4339872044851463,
             2.6390573296152584,
             3.6109179126442243
            ],
            "sizemode": "area",
            "sizeref": 0.028217319611682782
           },
           "name": "",
           "showlegend": false,
           "type": "scattergeo"
          }
         ],
         "name": "2020-02-24 00:00:00"
        },
        {
         "data": [
          {
           "geo": "geo",
           "hoverlabel": {
            "namelength": 0
           },
           "hovertemplate": "<b>%{hovertext}</b><br><br>Date=2020-02-25 00:00:00<br>Log Confirmed=%{marker.size}<br>Country/Region=%{location}",
           "hovertext": [
            "Algeria",
            "Austria",
            "Bahrain",
            "Canada",
            "Croatia",
            "France",
            "Germany",
            "Hong Kong",
            "Iran",
            "Italy",
            "Japan",
            "Kuwait",
            "Macau",
            "Mainland China",
            "Oman",
            "Singapore",
            "South Korea",
            "Spain",
            "Switzerland",
            "Taiwan",
            "Thailand",
            "US",
            "Vietnam"
           ],
           "legendgroup": "",
           "locationmode": "country names",
           "locations": [
            "Algeria",
            "Austria",
            "Bahrain",
            "Canada",
            "Croatia",
            "France",
            "Germany",
            "Hong Kong",
            "Iran",
            "Italy",
            "Japan",
            "Kuwait",
            "Macau",
            "Mainland China",
            "Oman",
            "Singapore",
            "South Korea",
            "Spain",
            "Switzerland",
            "Taiwan",
            "Thailand",
            "US",
            "Vietnam"
           ],
           "marker": {
            "color": "#636efa",
            "size": [
             1.0986122886681098,
             1.0986122886681098,
             3.1780538303479458,
             2.0794415416798357,
             0.6931471805599453,
             2.70805020110221,
             2.8903717578961645,
             4.442651256490317,
             4.564348191467836,
             5.777652323222656,
             5.14166355650266,
             2.4849066497880004,
             2.3978952727983707,
             11.25771058265595,
             1.0986122886681098,
             4.5217885770490405,
             6.885509670034818,
             1.9459101490553132,
             0.6931471805599453,
             3.4657359027997265,
             3.6375861597263857,
             3.6635616461296463,
             3.4965075614664802
            ],
            "sizemode": "area",
            "sizeref": 0.028217319611682782
           },
           "name": "",
           "showlegend": false,
           "type": "scattergeo"
          }
         ],
         "name": "2020-02-25 00:00:00"
        },
        {
         "data": [
          {
           "geo": "geo",
           "hoverlabel": {
            "namelength": 0
           },
           "hovertemplate": "<b>%{hovertext}</b><br><br>Date=2020-02-26 00:00:00<br>Log Confirmed=%{marker.size}<br>Country/Region=%{location}",
           "hovertext": [
            "Austria",
            "Bahrain",
            "Brazil",
            "Croatia",
            "Finland",
            "France",
            "Georgia",
            "Germany",
            "Greece",
            "Hong Kong",
            "Iran",
            "Iraq",
            "Israel",
            "Italy",
            "Japan",
            "Kuwait",
            "Lebanon",
            "Mainland China",
            "North Macedonia",
            "Norway",
            "Oman",
            "Others",
            "Pakistan",
            "Romania",
            "Singapore",
            "South Korea",
            "Spain",
            "Sweden",
            "Taiwan",
            "Thailand",
            "US"
           ],
           "legendgroup": "",
           "locationmode": "country names",
           "locations": [
            "Austria",
            "Bahrain",
            "Brazil",
            "Croatia",
            "Finland",
            "France",
            "Georgia",
            "Germany",
            "Greece",
            "Hong Kong",
            "Iran",
            "Iraq",
            "Israel",
            "Italy",
            "Japan",
            "Kuwait",
            "Lebanon",
            "Mainland China",
            "North Macedonia",
            "Norway",
            "Oman",
            "Others",
            "Pakistan",
            "Romania",
            "Singapore",
            "South Korea",
            "Spain",
            "Sweden",
            "Taiwan",
            "Thailand",
            "US"
           ],
           "marker": {
            "color": "#636efa",
            "size": [
             1.0986122886681098,
             3.5263605246161616,
             0.6931471805599453,
             1.3862943611198906,
             1.0986122886681098,
             2.9444389791664403,
             0.6931471805599453,
             3.332204510175204,
             0.6931471805599453,
             4.5217885770490405,
             4.941642422609304,
             1.791759469228055,
             1.0986122886681098,
             6.118097198041348,
             5.247024072160486,
             3.295836866004329,
             1.0986122886681098,
             11.263194068746921,
             0.6931471805599453,
             0.6931471805599453,
             1.6094379124341003,
             6.559615237493242,
             1.0986122886681098,
             0.6931471805599453,
             4.543294782270004,
             7.140453043101158,
             2.6390573296152584,
             1.0986122886681098,
             3.4965075614664802,
             3.713572066704308,
             3.7612001156935624
            ],
            "sizemode": "area",
            "sizeref": 0.028217319611682782
           },
           "name": "",
           "showlegend": false,
           "type": "scattergeo"
          }
         ],
         "name": "2020-02-26 00:00:00"
        },
        {
         "data": [
          {
           "geo": "geo",
           "hoverlabel": {
            "namelength": 0
           },
           "hovertemplate": "<b>%{hovertext}</b><br><br>Date=2020-02-27 00:00:00<br>Log Confirmed=%{marker.size}<br>Country/Region=%{location}",
           "hovertext": [
            "Australia",
            "Austria",
            "Canada",
            "Denmark",
            "Estonia",
            "France",
            "Georgia",
            "Germany",
            "Greece",
            "Hong Kong",
            "Iran",
            "Iraq",
            "Israel",
            "Italy",
            "Japan",
            "Kuwait",
            "Macau",
            "Mainland China",
            "Malaysia",
            "Netherlands",
            "North Macedonia",
            "Norway",
            "Romania",
            "San Marino",
            "South Korea",
            "Spain",
            "Sweden",
            "Switzerland",
            "UK",
            "US"
           ],
           "legendgroup": "",
           "locationmode": "country names",
           "locations": [
            "Australia",
            "Austria",
            "Canada",
            "Denmark",
            "Estonia",
            "France",
            "Georgia",
            "Germany",
            "Greece",
            "Hong Kong",
            "Iran",
            "Iraq",
            "Israel",
            "Italy",
            "Japan",
            "Kuwait",
            "Macau",
            "Mainland China",
            "Malaysia",
            "Netherlands",
            "North Macedonia",
            "Norway",
            "Romania",
            "San Marino",
            "South Korea",
            "Spain",
            "Sweden",
            "Switzerland",
            "UK",
            "US"
           ],
           "marker": {
            "color": "#636efa",
            "size": [
             2.1972245773362196,
             1.3862943611198906,
             2.5649493574615367,
             0.6931471805599453,
             1.0986122886681098,
             3.6635616461296463,
             0.6931471805599453,
             3.8501476017100584,
             1.3862943611198906,
             4.532599493153256,
             5.5053315359323625,
             2.0794415416798357,
             1.3862943611198906,
             6.486160788944089,
             5.3706380281276624,
             3.784189633918261,
             3.044522437723423,
             11.271299664277132,
             3.1780538303479458,
             0.6931471805599453,
             1.0986122886681098,
             0.6931471805599453,
             0.6931471805599453,
             0.6931471805599453,
             7.4770384723196965,
             2.772588722239781,
             2.0794415416798357,
             2.1972245773362196,
             2.772588722239781,
             1.6094379124341003
            ],
            "sizemode": "area",
            "sizeref": 0.028217319611682782
           },
           "name": "",
           "showlegend": false,
           "type": "scattergeo"
          }
         ],
         "name": "2020-02-27 00:00:00"
        },
        {
         "data": [
          {
           "geo": "geo",
           "hoverlabel": {
            "namelength": 0
           },
           "hovertemplate": "<b>%{hovertext}</b><br><br>Date=2020-02-28 00:00:00<br>Log Confirmed=%{marker.size}<br>Country/Region=%{location}",
           "hovertext": [
            " Azerbaijan",
            "Bahrain",
            "Belarus",
            "Canada",
            "Croatia",
            "Egypt",
            "France",
            "Germany",
            "Greece",
            "Hong Kong",
            "Iceland",
            "Iran",
            "Israel",
            "Italy",
            "Japan",
            "Kuwait",
            "Lithuania",
            "Mainland China",
            "Mexico",
            "Netherlands",
            "New Zealand",
            "Nigeria",
            "North Ireland",
            "Norway",
            "Others",
            "Romania",
            "South Korea",
            "Spain",
            "Taiwan",
            "Thailand",
            "UK",
            "US",
            "United Arab Emirates"
           ],
           "legendgroup": "",
           "locationmode": "country names",
           "locations": [
            " Azerbaijan",
            "Bahrain",
            "Belarus",
            "Canada",
            "Croatia",
            "Egypt",
            "France",
            "Germany",
            "Greece",
            "Hong Kong",
            "Iceland",
            "Iran",
            "Israel",
            "Italy",
            "Japan",
            "Kuwait",
            "Lithuania",
            "Mainland China",
            "Mexico",
            "Netherlands",
            "New Zealand",
            "Nigeria",
            "North Ireland",
            "Norway",
            "Others",
            "Romania",
            "South Korea",
            "Spain",
            "Taiwan",
            "Thailand",
            "UK",
            "US",
            "United Arab Emirates"
           ],
           "marker": {
            "color": "#636efa",
            "size": [
             0.6931471805599453,
             3.6109179126442243,
             1.0986122886681098,
             1.0986122886681098,
             1.791759469228055,
             0.6931471805599453,
             4.060443010546419,
             3.8918202981106265,
             1.6094379124341003,
             4.553876891600541,
             0.6931471805599453,
             5.963579343618446,
             1.6094379124341003,
             6.790097235513905,
             5.43372200355424,
             4.51085950651685,
             1.0986122886681098,
             11.268698716780495,
             0.6931471805599453,
             0.6931471805599453,
             1.0986122886681098,
             1.0986122886681098,
             0.6931471805599453,
             1.9459101490553132,
             6.559615237493242,
             1.9459101490553132,
             7.757051142032013,
             3.4965075614664802,
             3.5553480614894135,
             3.7376696182833684,
             3.044522437723423,
             4.51085950651685,
             2.995732273553991
            ],
            "sizemode": "area",
            "sizeref": 0.028217319611682782
           },
           "name": "",
           "showlegend": false,
           "type": "scattergeo"
          }
         ],
         "name": "2020-02-28 00:00:00"
        },
        {
         "data": [
          {
           "geo": "geo",
           "hoverlabel": {
            "namelength": 0
           },
           "hovertemplate": "<b>%{hovertext}</b><br><br>Date=2020-02-29 00:00:00<br>Log Confirmed=%{marker.size}<br>Country/Region=%{location}",
           "hovertext": [
            "Australia",
            "Austria",
            "Bahrain",
            "Brazil",
            "Canada",
            "Croatia",
            "Denmark",
            "Finland",
            "France",
            "Germany",
            "Hong Kong",
            "Iceland",
            "Iran",
            "Iraq",
            "Ireland",
            "Israel",
            "Italy",
            "Japan",
            "Lebanon",
            "Luxembourg",
            "Mainland China",
            "Malaysia",
            "Mexico",
            "Monaco",
            "Netherlands",
            "Norway",
            "Oman",
            "Others",
            "Pakistan",
            "Qatar",
            "Singapore",
            "South Korea",
            "Spain",
            "Sweden",
            "Switzerland",
            "Taiwan",
            "Thailand",
            "UK",
            "US",
            "United Arab Emirates"
           ],
           "legendgroup": "",
           "locationmode": "country names",
           "locations": [
            "Australia",
            "Austria",
            "Bahrain",
            "Brazil",
            "Canada",
            "Croatia",
            "Denmark",
            "Finland",
            "France",
            "Germany",
            "Hong Kong",
            "Iceland",
            "Iran",
            "Iraq",
            "Ireland",
            "Israel",
            "Italy",
            "Japan",
            "Lebanon",
            "Luxembourg",
            "Mainland China",
            "Malaysia",
            "Mexico",
            "Monaco",
            "Netherlands",
            "Norway",
            "Oman",
            "Others",
            "Pakistan",
            "Qatar",
            "Singapore",
            "South Korea",
            "Spain",
            "Sweden",
            "Switzerland",
            "Taiwan",
            "Thailand",
            "UK",
            "US",
            "United Arab Emirates"
           ],
           "marker": {
            "color": "#636efa",
            "size": [
             3.713572066704308,
             2.302585092994046,
             3.7376696182833684,
             1.6094379124341003,
             3.295836866004329,
             1.9459101490553132,
             1.3862943611198906,
             1.3862943611198906,
             4.61512051684126,
             4.382026634673881,
             4.564348191467836,
             0.6931471805599453,
             6.386879319362645,
             2.6390573296152584,
             0.6931471805599453,
             2.0794415416798357,
             7.029087564149662,
             5.488937726156687,
             1.6094379124341003,
             0.6931471805599453,
             11.278076167963372,
             3.258096538021482,
             1.6094379124341003,
             1.0986122886681098,
             1.9459101490553132,
             2.772588722239781,
             2.5649493574615367,
             7.252053951852814,
             2.1972245773362196,
             0.6931471805599453,
             4.634728988229636,
             8.055475141757274,
             3.828641396489095,
             2.5649493574615367,
             2.9444389791664403,
             3.6888794541139363,
             3.7612001156935624,
             3.1780538303479458,
             2.772588722239781,
             3.7612001156935624
            ],
            "sizemode": "area",
            "sizeref": 0.028217319611682782
           },
           "name": "",
           "showlegend": false,
           "type": "scattergeo"
          }
         ],
         "name": "2020-02-29 00:00:00"
        },
        {
         "data": [
          {
           "geo": "geo",
           "hoverlabel": {
            "namelength": 0
           },
           "hovertemplate": "<b>%{hovertext}</b><br><br>Date=2020-03-01 00:00:00<br>Log Confirmed=%{marker.size}<br>Country/Region=%{location}",
           "hovertext": [
            "Armenia",
            "Australia",
            "Austria",
            "Azerbaijan",
            "Bahrain",
            "Belgium",
            "Canada",
            "Croatia",
            "Czech Republic",
            "Denmark",
            "Dominican Republic",
            "Ecuador",
            "Egypt",
            "Finland",
            "France",
            "Georgia",
            "Germany",
            "Greece",
            "Hong Kong",
            "Iceland",
            "Iran",
            "Iraq",
            "Ireland",
            "Israel",
            "Italy",
            "Japan",
            "Lebanon",
            "Luxembourg",
            "Mainland China",
            "Malaysia",
            "Mexico",
            "Netherlands",
            "Norway",
            "Qatar",
            "San Marino",
            "Singapore",
            "South Korea",
            "Spain",
            "Sweden",
            "Switzerland",
            "Taiwan",
            "Thailand",
            "UK",
            "US"
           ],
           "legendgroup": "",
           "locationmode": "country names",
           "locations": [
            "Armenia",
            "Australia",
            "Austria",
            "Azerbaijan",
            "Bahrain",
            "Belgium",
            "Canada",
            "Croatia",
            "Czech Republic",
            "Denmark",
            "Dominican Republic",
            "Ecuador",
            "Egypt",
            "Finland",
            "France",
            "Georgia",
            "Germany",
            "Greece",
            "Hong Kong",
            "Iceland",
            "Iran",
            "Iraq",
            "Ireland",
            "Israel",
            "Italy",
            "Japan",
            "Lebanon",
            "Luxembourg",
            "Mainland China",
            "Malaysia",
            "Mexico",
            "Netherlands",
            "Norway",
            "Qatar",
            "San Marino",
            "Singapore",
            "South Korea",
            "Spain",
            "Sweden",
            "Switzerland",
            "Taiwan",
            "Thailand",
            "UK",
            "US"
           ],
           "marker": {
            "color": "#636efa",
            "size": [
             0.6931471805599453,
             2.1972245773362196,
             2.70805020110221,
             1.3862943611198906,
             3.871201010907891,
             1.0986122886681098,
             2.70805020110221,
             2.0794415416798357,
             1.3862943611198906,
             1.6094379124341003,
             0.6931471805599453,
             1.9459101490553132,
             1.0986122886681098,
             1.9459101490553132,
             4.875197323201151,
             1.3862943611198906,
             4.875197323201151,
             2.0794415416798357,
             4.574710978503383,
             1.3862943611198906,
             6.88653164253051,
             2.995732273553991,
             0.6931471805599453,
             2.3978952727983707,
             7.43543801981455,
             5.54907608489522,
             2.3978952727983707,
             0.6931471805599453,
             11.284631171328451,
             3.4011973816621555,
             1.791759469228055,
             2.3978952727983707,
             2.995732273553991,
             1.3862943611198906,
             0.6931471805599453,
             4.672828834461906,
             8.226038429485484,
             4.442651256490317,
             2.70805020110221,
             3.332204510175204,
             3.713572066704308,
             3.7612001156935624,
             3.6109179126442243,
             2.772588722239781
            ],
            "sizemode": "area",
            "sizeref": 0.028217319611682782
           },
           "name": "",
           "showlegend": false,
           "type": "scattergeo"
          }
         ],
         "name": "2020-03-01 00:00:00"
        },
        {
         "data": [
          {
           "geo": "geo",
           "hoverlabel": {
            "namelength": 0
           },
           "hovertemplate": "<b>%{hovertext}</b><br><br>Date=2020-03-02 00:00:00<br>Log Confirmed=%{marker.size}<br>Country/Region=%{location}",
           "hovertext": [
            "Algeria",
            "Andorra",
            "Australia",
            "Austria",
            "Bahrain",
            "Belgium",
            "Canada",
            "Czech Republic",
            "Dominican Republic",
            "France",
            "Germany",
            "Hong Kong",
            "Iceland",
            "India",
            "Indonesia",
            "Iran",
            "Iraq",
            "Italy",
            "Japan",
            "Kuwait",
            "Latvia",
            "Lebanon",
            "Mainland China",
            "Morocco",
            "Netherlands",
            "Norway",
            "Others",
            "Portugal",
            "Russia",
            "San Marino",
            "Saudi Arabia",
            "Senegal",
            "Singapore",
            "South Korea",
            "Spain",
            "Sweden",
            "Switzerland",
            "Taiwan",
            "Thailand",
            "UK",
            "US"
           ],
           "legendgroup": "",
           "locationmode": "country names",
           "locations": [
            "Algeria",
            "Andorra",
            "Australia",
            "Austria",
            "Bahrain",
            "Belgium",
            "Canada",
            "Czech Republic",
            "Dominican Republic",
            "France",
            "Germany",
            "Hong Kong",
            "Iceland",
            "India",
            "Indonesia",
            "Iran",
            "Iraq",
            "Italy",
            "Japan",
            "Kuwait",
            "Latvia",
            "Lebanon",
            "Mainland China",
            "Morocco",
            "Netherlands",
            "Norway",
            "Others",
            "Portugal",
            "Russia",
            "San Marino",
            "Saudi Arabia",
            "Senegal",
            "Singapore",
            "South Korea",
            "Spain",
            "Sweden",
            "Switzerland",
            "Taiwan",
            "Thailand",
            "UK",
            "US"
           ],
           "marker": {
            "color": "#636efa",
            "size": [
             1.3862943611198906,
             0.6931471805599453,
             2.3978952727983707,
             2.9444389791664403,
             3.912023005428146,
             2.1972245773362196,
             2.8903717578961645,
             1.3862943611198906,
             0.6931471805599453,
             5.2574953720277815,
             5.075173815233827,
             4.61512051684126,
             1.9459101490553132,
             1.791759469228055,
             1.0986122886681098,
             7.31455283232408,
             3.295836866004329,
             7.619233416226805,
             5.616771097666572,
             4.04305126783455,
             0.6931471805599453,
             2.6390573296152584,
             11.286652020647091,
             0.6931471805599453,
             2.9444389791664403,
             3.258096538021482,
             6.559615237493242,
             1.0986122886681098,
             1.3862943611198906,
             2.1972245773362196,
             0.6931471805599453,
             0.6931471805599453,
             4.6913478822291435,
             8.374707543119483,
             4.795790545596741,
             2.772588722239781,
             3.7612001156935624,
             3.7376696182833684,
             3.784189633918261,
             3.713572066704308,
             4.48863636973214
            ],
            "sizemode": "area",
            "sizeref": 0.028217319611682782
           },
           "name": "",
           "showlegend": false,
           "type": "scattergeo"
          }
         ],
         "name": "2020-03-02 00:00:00"
        },
        {
         "data": [
          {
           "geo": "geo",
           "hoverlabel": {
            "namelength": 0
           },
           "hovertemplate": "<b>%{hovertext}</b><br><br>Date=2020-03-03 00:00:00<br>Log Confirmed=%{marker.size}<br>Country/Region=%{location}",
           "hovertext": [
            "Algeria",
            "Argentina",
            "Australia",
            "Austria",
            "Belgium",
            "Canada",
            "Chile",
            "Croatia",
            "Czech Republic",
            "Denmark",
            "Ecuador",
            "Estonia",
            "France",
            "Germany",
            "Hong Kong",
            "Iceland",
            "Iran",
            "Iraq",
            "Ireland",
            "Israel",
            "Italy",
            "Japan",
            "Jordan",
            "Luxembourg",
            "Macau",
            "Mainland China",
            "Malaysia",
            "Mexico",
            "Morocco",
            "Netherlands",
            "Norway",
            "Oman",
            "Others",
            "Pakistan",
            "Portugal",
            "Qatar",
            "Romania",
            "San Marino",
            "Senegal",
            "Singapore",
            "South Korea",
            "Spain",
            "Sweden",
            "Switzerland",
            "Taiwan",
            "UK",
            "US",
            "Ukraine",
            "United Arab Emirates"
           ],
           "legendgroup": "",
           "locationmode": "country names",
           "locations": [
            "Algeria",
            "Argentina",
            "Australia",
            "Austria",
            "Belgium",
            "Canada",
            "Chile",
            "Croatia",
            "Czech Republic",
            "Denmark",
            "Ecuador",
            "Estonia",
            "France",
            "Germany",
            "Hong Kong",
            "Iceland",
            "Iran",
            "Iraq",
            "Ireland",
            "Israel",
            "Italy",
            "Japan",
            "Jordan",
            "Luxembourg",
            "Macau",
            "Mainland China",
            "Malaysia",
            "Mexico",
            "Morocco",
            "Netherlands",
            "Norway",
            "Oman",
            "Others",
            "Pakistan",
            "Portugal",
            "Qatar",
            "Romania",
            "San Marino",
            "Senegal",
            "Singapore",
            "South Korea",
            "Spain",
            "Sweden",
            "Switzerland",
            "Taiwan",
            "UK",
            "US",
            "Ukraine",
            "United Arab Emirates"
           ],
           "marker": {
            "color": "#636efa",
            "size": [
             1.791759469228055,
             0.6931471805599453,
             3.2188758248682006,
             3.091042453358316,
             2.6390573296152584,
             3.367295829986474,
             0.6931471805599453,
             2.302585092994046,
             1.791759469228055,
             1.9459101490553132,
             2.0794415416798357,
             1.0986122886681098,
             5.3230099791384085,
             5.2832037287379885,
             4.61512051684126,
             2.4849066497880004,
             7.756623334538858,
             3.4965075614664802,
             1.0986122886681098,
             2.5649493574615367,
             7.8252452914317745,
             5.683579767338681,
             0.6931471805599453,
             0.6931471805599453,
             2.3978952727983707,
             11.284455252150293,
             3.6109179126442243,
             1.791759469228055,
             0.6931471805599453,
             3.2188758248682006,
             3.4965075614664802,
             2.5649493574615367,
             6.561030665896573,
             1.791759469228055,
             1.0986122886681098,
             2.0794415416798357,
             1.3862943611198906,
             2.3978952727983707,
             1.0986122886681098,
             4.709530201312334,
             8.553910774351401,
             5.111987788356544,
             3.091042453358316,
             4.04305126783455,
             3.7612001156935624,
             3.9512437185814275,
             4.007333185232471,
             0.6931471805599453,
             3.332204510175204
            ],
            "sizemode": "area",
            "sizeref": 0.028217319611682782
           },
           "name": "",
           "showlegend": false,
           "type": "scattergeo"
          }
         ],
         "name": "2020-03-03 00:00:00"
        },
        {
         "data": [
          {
           "geo": "geo",
           "hoverlabel": {
            "namelength": 0
           },
           "hovertemplate": "<b>%{hovertext}</b><br><br>Date=2020-03-04 00:00:00<br>Log Confirmed=%{marker.size}<br>Country/Region=%{location}",
           "hovertext": [
            "Algeria",
            "Argentina",
            "Australia",
            "Austria",
            "Bahrain",
            "Belarus",
            "Belgium",
            "Brazil",
            "Canada",
            "Chile",
            "Croatia",
            "Czech Republic",
            "Denmark",
            "Ecuador",
            "Faroe Islands",
            "France",
            "Germany",
            "Gibraltar",
            "Greece",
            "Hong Kong",
            "Hungary",
            "Iceland",
            "India",
            "Iran",
            "Iraq",
            "Ireland",
            "Israel",
            "Italy",
            "Japan",
            "Latvia",
            "Lebanon",
            "Liechtenstein",
            "Mainland China",
            "Malaysia",
            "Netherlands",
            "New Zealand",
            "Norway",
            "Oman",
            "Poland",
            "Portugal",
            "Qatar",
            "Romania",
            "Saint Barthelemy",
            "San Marino",
            "Senegal",
            "South Korea",
            "Spain",
            "Sweden",
            "Switzerland",
            "Tunisia",
            "UK",
            "US"
           ],
           "legendgroup": "",
           "locationmode": "country names",
           "locations": [
            "Algeria",
            "Argentina",
            "Australia",
            "Austria",
            "Bahrain",
            "Belarus",
            "Belgium",
            "Brazil",
            "Canada",
            "Chile",
            "Croatia",
            "Czech Republic",
            "Denmark",
            "Ecuador",
            "Faroe Islands",
            "France",
            "Germany",
            "Gibraltar",
            "Greece",
            "Hong Kong",
            "Hungary",
            "Iceland",
            "India",
            "Iran",
            "Iraq",
            "Ireland",
            "Israel",
            "Italy",
            "Japan",
            "Latvia",
            "Lebanon",
            "Liechtenstein",
            "Mainland China",
            "Malaysia",
            "Netherlands",
            "New Zealand",
            "Norway",
            "Oman",
            "Poland",
            "Portugal",
            "Qatar",
            "Romania",
            "Saint Barthelemy",
            "San Marino",
            "Senegal",
            "South Korea",
            "Spain",
            "Sweden",
            "Switzerland",
            "Tunisia",
            "UK",
            "US"
           ],
           "marker": {
            "color": "#636efa",
            "size": [
             2.5649493574615367,
             0.6931471805599453,
             3.6635616461296463,
             3.4011973816621555,
             3.970291913552122,
             1.9459101490553132,
             3.1780538303479458,
             1.6094379124341003,
             2.5649493574615367,
             0.6931471805599453,
             2.3978952727983707,
             2.1972245773362196,
             2.3978952727983707,
             2.3978952727983707,
             0.6931471805599453,
             5.655991810819852,
             5.572154032177765,
             0.6931471805599453,
             2.302585092994046,
             4.663439094112067,
             1.0986122886681098,
             3.295836866004329,
             3.367295829986474,
             7.980365765111246,
             3.58351893845611,
             1.9459101490553132,
             2.772588722239781,
             8.035926369891792,
             5.805134968916488,
             0.6931471805599453,
             2.6390573296152584,
             0.6931471805599453,
             11.284002746391979,
             3.9318256327243257,
             3.6635616461296463,
             1.3862943611198906,
             4.04305126783455,
             2.772588722239781,
             0.6931471805599453,
             1.791759469228055,
             2.1972245773362196,
             1.6094379124341003,
             1.3862943611198906,
             2.833213344056216,
             1.6094379124341003,
             8.634442751466477,
             5.407171771460119,
             3.58351893845611,
             4.51085950651685,
             0.6931471805599453,
             4.454347296253507,
             4.143134726391533
            ],
            "sizemode": "area",
            "sizeref": 0.028217319611682782
           },
           "name": "",
           "showlegend": false,
           "type": "scattergeo"
          }
         ],
         "name": "2020-03-04 00:00:00"
        },
        {
         "data": [
          {
           "geo": "geo",
           "hoverlabel": {
            "namelength": 0
           },
           "hovertemplate": "<b>%{hovertext}</b><br><br>Date=2020-03-05 00:00:00<br>Log Confirmed=%{marker.size}<br>Country/Region=%{location}",
           "hovertext": [
            "Australia",
            "Austria",
            "Azerbaijan",
            "Bahrain",
            "Belgium",
            "Bosnia and Herzegovina",
            "Canada",
            "Chile",
            "Czech Republic",
            "Ecuador",
            "Egypt",
            "Estonia",
            "Finland",
            "France",
            "Georgia",
            "Germany",
            "Greece",
            "Hong Kong",
            "Hungary",
            "Iceland",
            "India",
            "Iran",
            "Israel",
            "Italy",
            "Japan",
            "Kuwait",
            "Lebanon",
            "Mainland China",
            "Morocco",
            "Netherlands",
            "Norway",
            "Oman",
            "Palestine",
            "Portugal",
            "Romania",
            "Russia",
            "San Marino",
            "Saudi Arabia",
            "Singapore",
            "Slovenia",
            "South Africa",
            "South Korea",
            "Spain",
            "Sweden",
            "Switzerland",
            "Taiwan",
            "Thailand",
            "UK",
            "US",
            "United Arab Emirates"
           ],
           "legendgroup": "",
           "locationmode": "country names",
           "locations": [
            "Australia",
            "Austria",
            "Azerbaijan",
            "Bahrain",
            "Belgium",
            "Bosnia and Herzegovina",
            "Canada",
            "Chile",
            "Czech Republic",
            "Ecuador",
            "Egypt",
            "Estonia",
            "Finland",
            "France",
            "Georgia",
            "Germany",
            "Greece",
            "Hong Kong",
            "Hungary",
            "Iceland",
            "India",
            "Iran",
            "Israel",
            "Italy",
            "Japan",
            "Kuwait",
            "Lebanon",
            "Mainland China",
            "Morocco",
            "Netherlands",
            "Norway",
            "Oman",
            "Palestine",
            "Portugal",
            "Romania",
            "Russia",
            "San Marino",
            "Saudi Arabia",
            "Singapore",
            "Slovenia",
            "South Africa",
            "South Korea",
            "Spain",
            "Sweden",
            "Switzerland",
            "Taiwan",
            "Thailand",
            "UK",
            "US",
            "United Arab Emirates"
           ],
           "marker": {
            "color": "#636efa",
            "size": [
             3.295836866004329,
             3.7376696182833684,
             1.9459101490553132,
             4.02535169073515,
             3.9318256327243257,
             1.0986122886681098,
             3.6109179126442243,
             1.6094379124341003,
             2.5649493574615367,
             2.6390573296152584,
             1.3862943611198906,
             1.3862943611198906,
             2.5649493574615367,
             5.934894195619588,
             1.6094379124341003,
             6.180016653652572,
             3.4657359027997265,
             4.663439094112067,
             1.0986122886681098,
             3.5553480614894135,
             3.4339872044851463,
             8.164510268747042,
             2.833213344056216,
             8.258163361537619,
             5.8888779583328805,
             4.07753744390572,
             2.833213344056216,
             11.283084536208287,
             1.0986122886681098,
             4.418840607796598,
             4.477336814478207,
             2.833213344056216,
             1.6094379124341003,
             2.1972245773362196,
             1.9459101490553132,
             1.6094379124341003,
             3.091042453358316,
             1.791759469228055,
             4.770684624465665,
             1.0986122886681098,
             0.6931471805599453,
             8.714239143608575,
             5.560681631015528,
             4.553876891600541,
             4.74493212836325,
             3.8066624897703196,
             3.871201010907891,
             4.7535901911063645,
             4.962844630259907,
             3.4011973816621555
            ],
            "sizemode": "area",
            "sizeref": 0.028217319611682782
           },
           "name": "",
           "showlegend": false,
           "type": "scattergeo"
          }
         ],
         "name": "2020-03-05 00:00:00"
        },
        {
         "data": [
          {
           "geo": "geo",
           "hoverlabel": {
            "namelength": 0
           },
           "hovertemplate": "<b>%{hovertext}</b><br><br>Date=2020-03-06 00:00:00<br>Log Confirmed=%{marker.size}<br>Country/Region=%{location}",
           "hovertext": [
            "Algeria",
            "Argentina",
            "Australia",
            "Austria",
            "Bahrain",
            "Belgium",
            "Bhutan",
            "Brazil",
            "Cameroon",
            "Canada",
            "Colombia",
            "Costa Rica",
            "Croatia",
            "Czech Republic",
            "Denmark",
            "Dominican Republic",
            "Egypt",
            "Estonia",
            "Finland",
            "France",
            "Germany",
            "Greece",
            "Hong Kong",
            "Iceland",
            "India",
            "Indonesia",
            "Iran",
            "Iraq",
            "Ireland",
            "Israel",
            "Italy",
            "Japan",
            "Lebanon",
            "Luxembourg",
            "Macau",
            "Mainland China",
            "Malaysia",
            "Mexico",
            "Netherlands",
            "New Zealand",
            "North Macedonia",
            "Norway",
            "Others",
            "Pakistan",
            "Palestine",
            "Peru",
            "Philippines",
            "Poland",
            "Portugal",
            "Romania",
            "Russia",
            "Serbia",
            "Singapore",
            "Slovakia",
            "Slovenia",
            "South Africa",
            "South Korea",
            "Spain",
            "Sweden",
            "Switzerland",
            "Taiwan",
            "Thailand",
            "Togo",
            "UK",
            "US",
            "Vatican City"
           ],
           "legendgroup": "",
           "locationmode": "country names",
           "locations": [
            "Algeria",
            "Argentina",
            "Australia",
            "Austria",
            "Bahrain",
            "Belgium",
            "Bhutan",
            "Brazil",
            "Cameroon",
            "Canada",
            "Colombia",
            "Costa Rica",
            "Croatia",
            "Czech Republic",
            "Denmark",
            "Dominican Republic",
            "Egypt",
            "Estonia",
            "Finland",
            "France",
            "Germany",
            "Greece",
            "Hong Kong",
            "Iceland",
            "India",
            "Indonesia",
            "Iran",
            "Iraq",
            "Ireland",
            "Israel",
            "Italy",
            "Japan",
            "Lebanon",
            "Luxembourg",
            "Macau",
            "Mainland China",
            "Malaysia",
            "Mexico",
            "Netherlands",
            "New Zealand",
            "North Macedonia",
            "Norway",
            "Others",
            "Pakistan",
            "Palestine",
            "Peru",
            "Philippines",
            "Poland",
            "Portugal",
            "Romania",
            "Russia",
            "Serbia",
            "Singapore",
            "Slovakia",
            "Slovenia",
            "South Africa",
            "South Korea",
            "Spain",
            "Sweden",
            "Switzerland",
            "Taiwan",
            "Thailand",
            "Togo",
            "UK",
            "US",
            "Vatican City"
           ],
           "marker": {
            "color": "#636efa",
            "size": [
             2.8903717578961645,
             1.0986122886681098,
             3.5263605246161616,
             4.02535169073515,
             4.110873864173311,
             4.700480365792417,
             0.6931471805599453,
             2.6390573296152584,
             0.6931471805599453,
             3.8501476017100584,
             0.6931471805599453,
             0.6931471805599453,
             2.4849066497880004,
             2.9444389791664403,
             3.1780538303479458,
             1.0986122886681098,
             2.772588722239781,
             2.3978952727983707,
             2.772588722239781,
             6.483107351457199,
             6.508769136971682,
             3.828641396489095,
             4.68213122712422,
             3.784189633918261,
             3.4657359027997265,
             1.6094379124341003,
             8.465478755729558,
             3.713572066704308,
             2.9444389791664403,
             3.091042453358316,
             8.441822884391462,
             6.042632833682381,
             3.1354942159291497,
             1.0986122886681098,
             2.3978952727983707,
             11.286927844673112,
             4.430816798843313,
             1.9459101490553132,
             4.859812404361672,
             1.6094379124341003,
             1.3862943611198906,
             4.6913478822291435,
             6.546785410760524,
             1.9459101490553132,
             2.833213344056216,
             0.6931471805599453,
             1.791759469228055,
             1.791759469228055,
             2.6390573296152584,
             2.302585092994046,
             2.6390573296152584,
             0.6931471805599453,
             4.875197323201151,
             0.6931471805599453,
             2.0794415416798357,
             0.6931471805599453,
             8.793915423631676,
             5.993961427306569,
             4.624972813284271,
             5.3706380281276624,
             3.828641396489095,
             3.8918202981106265,
             0.6931471805599453,
             5.099866427824199,
             5.1298987149230735,
             0.6931471805599453
            ],
            "sizemode": "area",
            "sizeref": 0.028217319611682782
           },
           "name": "",
           "showlegend": false,
           "type": "scattergeo"
          }
         ],
         "name": "2020-03-06 00:00:00"
        },
        {
         "data": [
          {
           "geo": "geo",
           "hoverlabel": {
            "namelength": 0
           },
           "hovertemplate": "<b>%{hovertext}</b><br><br>Date=2020-03-07 00:00:00<br>Log Confirmed=%{marker.size}<br>Country/Region=%{location}",
           "hovertext": [
            "Argentina",
            "Australia",
            "Austria",
            "Azerbaijan",
            "Bahrain",
            "Belgium",
            "Bosnia and Herzegovina",
            "Canada",
            "Colombia",
            "Costa Rica",
            "Croatia",
            "Czech Republic",
            "France",
            "French Guiana",
            "Germany",
            "Greece",
            "Hong Kong",
            "Hungary",
            "Iceland",
            "India",
            "Iran",
            "Iraq",
            "Italy",
            "Japan",
            "Kuwait",
            "Mainland China",
            "Malaysia",
            "Malta",
            "Martinique",
            "Netherlands",
            "New Zealand",
            "Norway",
            "Palestine",
            "Philippines",
            "Portugal",
            "Romania",
            "San Marino",
            "Singapore",
            "South Korea",
            "Spain",
            "Sweden",
            "Switzerland",
            "Thailand",
            "Togo",
            "UK",
            "US",
            "United Arab Emirates",
            "Vietnam"
           ],
           "legendgroup": "",
           "locationmode": "country names",
           "locations": [
            "Argentina",
            "Australia",
            "Austria",
            "Azerbaijan",
            "Bahrain",
            "Belgium",
            "Bosnia and Herzegovina",
            "Canada",
            "Colombia",
            "Costa Rica",
            "Croatia",
            "Czech Republic",
            "France",
            "French Guiana",
            "Germany",
            "Greece",
            "Hong Kong",
            "Hungary",
            "Iceland",
            "India",
            "Iran",
            "Iraq",
            "Italy",
            "Japan",
            "Kuwait",
            "Mainland China",
            "Malaysia",
            "Malta",
            "Martinique",
            "Netherlands",
            "New Zealand",
            "Norway",
            "Palestine",
            "Philippines",
            "Portugal",
            "Romania",
            "San Marino",
            "Singapore",
            "South Korea",
            "Spain",
            "Sweden",
            "Switzerland",
            "Thailand",
            "Togo",
            "UK",
            "US",
            "United Arab Emirates",
            "Vietnam"
           ],
           "marker": {
            "color": "#636efa",
            "size": [
             2.1972245773362196,
             3.6888794541139363,
             4.382026634673881,
             2.302585092994046,
             4.454347296253507,
             5.135798437050262,
             1.3862943611198906,
             3.970291913552122,
             0.6931471805599453,
             0.6931471805599453,
             2.5649493574615367,
             2.995732273553991,
             6.856461984594587,
             1.791759469228055,
             6.684611727667927,
             3.8501476017100584,
             4.6913478822291435,
             1.6094379124341003,
             3.9318256327243257,
             3.5553480614894135,
             8.669742589876522,
             4.007333185232471,
             8.679992081721329,
             6.135564891081739,
             4.127134385045092,
             11.27238139897585,
             4.543294782270004,
             1.3862943611198906,
             1.0986122886681098,
             5.241747015059643,
             1.791759469228055,
             4.997212273764115,
             3.1354942159291497,
             1.9459101490553132,
             3.044522437723423,
             2.302585092994046,
             3.1780538303479458,
             4.9344739331306915,
             8.859647499714997,
             6.2166061010848646,
             5.087596335232384,
             5.594711379601839,
             3.9318256327243257,
             0.6931471805599453,
             5.332718793265369,
             5.7430031878094825,
             3.828641396489095,
             2.9444389791664403
            ],
            "sizemode": "area",
            "sizeref": 0.028217319611682782
           },
           "name": "",
           "showlegend": false,
           "type": "scattergeo"
          }
         ],
         "name": "2020-03-07 00:00:00"
        },
        {
         "data": [
          {
           "geo": "geo",
           "hoverlabel": {
            "namelength": 0
           },
           "hovertemplate": "<b>%{hovertext}</b><br><br>Date=2020-03-08 00:00:00<br>Log Confirmed=%{marker.size}<br>Country/Region=%{location}",
           "hovertext": [
            "Afghanistan",
            "Algeria",
            "Argentina",
            "Australia",
            "Austria",
            "Bangladesh",
            "Belgium",
            "Brazil",
            "Bulgaria",
            "Cambodia",
            "Cameroon",
            "Canada",
            "Chile",
            "Costa Rica",
            "Czech Republic",
            "Denmark",
            "Dominican Republic",
            "Ecuador",
            "Egypt",
            "Faroe Islands",
            "Finland",
            "France",
            "Georgia",
            "Germany",
            "Greece",
            "Hong Kong",
            "Hungary",
            "India",
            "Indonesia",
            "Iran",
            "Iraq",
            "Ireland",
            "Israel",
            "Italy",
            "Japan",
            "Kuwait",
            "Latvia",
            "Lebanon",
            "Luxembourg",
            "Mainland China",
            "Malaysia",
            "Maldives",
            "Malta",
            "Mexico",
            "Moldova",
            "Netherlands",
            "Norway",
            "Pakistan",
            "Paraguay",
            "Peru",
            "Philippines",
            "Poland",
            "Portugal",
            "Qatar",
            "Republic of Ireland",
            "Romania",
            "Russia",
            "San Marino",
            "Saudi Arabia",
            "Senegal",
            "Singapore",
            "Slovakia",
            "Slovenia",
            "South Africa",
            "South Korea",
            "Spain",
            "Sweden",
            "Switzerland",
            "Taiwan",
            "Tunisia",
            "UK",
            "US",
            "Vietnam"
           ],
           "legendgroup": "",
           "locationmode": "country names",
           "locations": [
            "Afghanistan",
            "Algeria",
            "Argentina",
            "Australia",
            "Austria",
            "Bangladesh",
            "Belgium",
            "Brazil",
            "Bulgaria",
            "Cambodia",
            "Cameroon",
            "Canada",
            "Chile",
            "Costa Rica",
            "Czech Republic",
            "Denmark",
            "Dominican Republic",
            "Ecuador",
            "Egypt",
            "Faroe Islands",
            "Finland",
            "France",
            "Georgia",
            "Germany",
            "Greece",
            "Hong Kong",
            "Hungary",
            "India",
            "Indonesia",
            "Iran",
            "Iraq",
            "Ireland",
            "Israel",
            "Italy",
            "Japan",
            "Kuwait",
            "Latvia",
            "Lebanon",
            "Luxembourg",
            "Mainland China",
            "Malaysia",
            "Maldives",
            "Malta",
            "Mexico",
            "Moldova",
            "Netherlands",
            "Norway",
            "Pakistan",
            "Paraguay",
            "Peru",
            "Philippines",
            "Poland",
            "Portugal",
            "Qatar",
            "Republic of Ireland",
            "Romania",
            "Russia",
            "San Marino",
            "Saudi Arabia",
            "Senegal",
            "Singapore",
            "Slovakia",
            "Slovenia",
            "South Africa",
            "South Korea",
            "Spain",
            "Sweden",
            "Switzerland",
            "Taiwan",
            "Tunisia",
            "UK",
            "US",
            "Vietnam"
           ],
           "marker": {
            "color": "#636efa",
            "size": [
             1.6094379124341003,
             2.995732273553991,
             2.5649493574615367,
             4.02535169073515,
             4.653960350157523,
             1.3862943611198906,
             5.303304908059076,
             3.044522437723423,
             1.6094379124341003,
             1.0986122886681098,
             1.0986122886681098,
             4.143134726391533,
             2.1972245773362196,
             1.791759469228055,
             3.4657359027997265,
             3.58351893845611,
             1.791759469228055,
             2.70805020110221,
             3.912023005428146,
             1.0986122886681098,
             3.1780538303479458,
             7.027314514039777,
             2.6390573296152584,
             6.947937068614969,
             4.30406509320417,
             4.74493212836325,
             2.0794415416798357,
             3.6888794541139363,
             1.9459101490553132,
             8.789812386190972,
             4.110873864173311,
             2.995732273553991,
             3.6888794541139363,
             8.90598676523643,
             6.220590170099739,
             4.174387269895637,
             1.0986122886681098,
             3.4965075614664802,
             1.3862943611198906,
             11.282958688307893,
             4.605170185988092,
             1.6094379124341003,
             1.3862943611198906,
             2.0794415416798357,
             0.6931471805599453,
             5.583496308781699,
             5.176149732573829,
             1.9459101490553132,
             0.6931471805599453,
             1.9459101490553132,
             2.3978952727983707,
             2.4849066497880004,
             3.4339872044851463,
             2.772588722239781,
             3.091042453358316,
             2.772588722239781,
             2.8903717578961645,
             3.6109179126442243,
             2.4849066497880004,
             1.6094379124341003,
             5.017279836814924,
             1.3862943611198906,
             2.833213344056216,
             1.3862943611198906,
             8.897682313454224,
             6.513230110912307,
             5.318119993844216,
             5.823045895483019,
             3.828641396489095,
             1.0986122886681098,
             5.6131281063880705,
             5.961005339623274,
             3.4339872044851463
            ],
            "sizemode": "area",
            "sizeref": 0.028217319611682782
           },
           "name": "",
           "showlegend": false,
           "type": "scattergeo"
          }
         ],
         "name": "2020-03-08 00:00:00"
        },
        {
         "data": [
          {
           "geo": "geo",
           "hoverlabel": {
            "namelength": 0
           },
           "hovertemplate": "<b>%{hovertext}</b><br><br>Date=2020-03-09 00:00:00<br>Log Confirmed=%{marker.size}<br>Country/Region=%{location}",
           "hovertext": [
            "Albania",
            "Algeria",
            "Australia",
            "Austria",
            "Bahrain",
            "Belarus",
            "Belgium",
            "Brazil",
            "Brunei",
            "Bulgaria",
            "Canada",
            "Costa Rica",
            "Cyprus",
            "Denmark",
            "Ecuador",
            "Egypt",
            "Finland",
            "France",
            "Georgia",
            "Germany",
            "Hong Kong",
            "Hungary",
            "Iceland",
            "India",
            "Indonesia",
            "Iran",
            "Iraq",
            "Ireland",
            "Italy",
            "Japan",
            "Latvia",
            "Mainland China",
            "Malaysia",
            "Moldova",
            "Netherlands",
            "Nigeria",
            "Norway",
            "Peru",
            "Philippines",
            "Poland",
            "Qatar",
            "Saint Barthelemy",
            "Saudi Arabia",
            "South Korea",
            "Spain",
            "St. Martin",
            "Sweden",
            "Switzerland",
            "Taiwan",
            "UK",
            "US"
           ],
           "legendgroup": "",
           "locationmode": "country names",
           "locations": [
            "Albania",
            "Algeria",
            "Australia",
            "Austria",
            "Bahrain",
            "Belarus",
            "Belgium",
            "Brazil",
            "Brunei",
            "Bulgaria",
            "Canada",
            "Costa Rica",
            "Cyprus",
            "Denmark",
            "Ecuador",
            "Egypt",
            "Finland",
            "France",
            "Georgia",
            "Germany",
            "Hong Kong",
            "Hungary",
            "Iceland",
            "India",
            "Indonesia",
            "Iran",
            "Iraq",
            "Ireland",
            "Italy",
            "Japan",
            "Latvia",
            "Mainland China",
            "Malaysia",
            "Moldova",
            "Netherlands",
            "Nigeria",
            "Norway",
            "Peru",
            "Philippines",
            "Poland",
            "Qatar",
            "Saint Barthelemy",
            "Saudi Arabia",
            "South Korea",
            "Spain",
            "St. Martin",
            "Sweden",
            "Switzerland",
            "Taiwan",
            "UK",
            "US"
           ],
           "marker": {
            "color": "#636efa",
            "size": [
             1.0986122886681098,
             3.044522437723423,
             4.219507705176107,
             4.882801922586371,
             4.564348191467836,
             1.9459101490553132,
             5.480638923341991,
             3.258096538021482,
             0.6931471805599453,
             1.6094379124341003,
             4.343805421853684,
             2.302585092994046,
             1.0986122886681098,
             4.51085950651685,
             2.772588722239781,
             4.02535169073515,
             3.4339872044851463,
             7.098375638590786,
             2.772588722239781,
             7.0707241072602764,
             4.7535901911063645,
             2.302585092994046,
             4.07753744390572,
             3.784189633918261,
             2.995732273553991,
             8.876544550558378,
             4.110873864173311,
             3.091042453358316,
             9.124019665509655,
             6.238324625039508,
             1.9459101490553132,
             11.25030016643631,
             4.770684624465665,
             0.6931471805599453,
             5.7745515455444085,
             1.0986122886681098,
             5.327876168789581,
             2.0794415416798357,
             3.044522437723423,
             2.833213344056216,
             2.9444389791664403,
             0.6931471805599453,
             2.772588722239781,
             8.919854372191667,
             6.97914527506881,
             1.0986122886681098,
             5.517452896464707,
             5.926926025970411,
             3.828641396489095,
             5.7745515455444085,
             5.318119993844216
            ],
            "sizemode": "area",
            "sizeref": 0.028217319611682782
           },
           "name": "",
           "showlegend": false,
           "type": "scattergeo"
          }
         ],
         "name": "2020-03-09 00:00:00"
        },
        {
         "data": [
          {
           "geo": "geo",
           "hoverlabel": {
            "namelength": 0
           },
           "hovertemplate": "<b>%{hovertext}</b><br><br>Date=2020-03-10 00:00:00<br>Log Confirmed=%{marker.size}<br>Country/Region=%{location}",
           "hovertext": [
            "Afghanistan",
            "Albania",
            "Argentina",
            "Australia",
            "Austria",
            "Azerbaijan",
            "Bahrain",
            "Bangladesh",
            "Belarus",
            "Belgium",
            "Bosnia and Herzegovina",
            "Brazil",
            "Brunei",
            "Burkina Faso",
            "Canada",
            "Channel Islands",
            "Chile",
            "Colombia",
            "Croatia",
            "Cyprus",
            "Czech Republic",
            "Denmark",
            "Egypt",
            "Estonia",
            "Finland",
            "France",
            "Germany",
            "Gibraltar",
            "Greece",
            "Holy See",
            "Hong Kong SAR",
            "Iceland",
            "India",
            "Indonesia",
            "Iran (Islamic Republic of)",
            "Iraq",
            "Ireland",
            "Israel",
            "Italy",
            "Japan",
            "Kuwait",
            "Latvia",
            "Lebanon",
            "Luxembourg",
            "Macao SAR",
            "Mainland China",
            "Malaysia",
            "Maldives",
            "Malta",
            "Mexico",
            "Mongolia",
            "Morocco",
            "Nepal",
            "Netherlands",
            "North Macedonia",
            "Norway",
            "Oman",
            "Pakistan",
            "Panama",
            "Peru",
            "Philippines",
            "Poland",
            "Portugal",
            "Qatar",
            "Republic of Korea",
            "Republic of Moldova",
            "Romania",
            "Russian Federation",
            "Saint Martin",
            "San Marino",
            "Saudi Arabia",
            "Serbia",
            "Singapore",
            "Slovakia",
            "Slovenia",
            "South Africa",
            "Spain",
            "Sri Lanka",
            "Sweden",
            "Switzerland",
            "Taipei and environs",
            "Thailand",
            "Tunisia",
            "UK",
            "US",
            "United Arab Emirates",
            "Viet Nam",
            "occupied Palestinian territory"
           ],
           "legendgroup": "",
           "locationmode": "country names",
           "locations": [
            "Afghanistan",
            "Albania",
            "Argentina",
            "Australia",
            "Austria",
            "Azerbaijan",
            "Bahrain",
            "Bangladesh",
            "Belarus",
            "Belgium",
            "Bosnia and Herzegovina",
            "Brazil",
            "Brunei",
            "Burkina Faso",
            "Canada",
            "Channel Islands",
            "Chile",
            "Colombia",
            "Croatia",
            "Cyprus",
            "Czech Republic",
            "Denmark",
            "Egypt",
            "Estonia",
            "Finland",
            "France",
            "Germany",
            "Gibraltar",
            "Greece",
            "Holy See",
            "Hong Kong SAR",
            "Iceland",
            "India",
            "Indonesia",
            "Iran (Islamic Republic of)",
            "Iraq",
            "Ireland",
            "Israel",
            "Italy",
            "Japan",
            "Kuwait",
            "Latvia",
            "Lebanon",
            "Luxembourg",
            "Macao SAR",
            "Mainland China",
            "Malaysia",
            "Maldives",
            "Malta",
            "Mexico",
            "Mongolia",
            "Morocco",
            "Nepal",
            "Netherlands",
            "North Macedonia",
            "Norway",
            "Oman",
            "Pakistan",
            "Panama",
            "Peru",
            "Philippines",
            "Poland",
            "Portugal",
            "Qatar",
            "Republic of Korea",
            "Republic of Moldova",
            "Romania",
            "Russian Federation",
            "Saint Martin",
            "San Marino",
            "Saudi Arabia",
            "Serbia",
            "Singapore",
            "Slovakia",
            "Slovenia",
            "South Africa",
            "Spain",
            "Sri Lanka",
            "Sweden",
            "Switzerland",
            "Taipei and environs",
            "Thailand",
            "Tunisia",
            "UK",
            "US",
            "United Arab Emirates",
            "Viet Nam",
            "occupied Palestinian territory"
           ],
           "marker": {
            "color": "#636efa",
            "size": [
             1.791759469228055,
             2.3978952727983707,
             2.8903717578961645,
             4.59511985013459,
             5.209486152841421,
             2.4849066497880004,
             4.709530201312334,
             1.3862943611198906,
             2.302585092994046,
             5.5909869805108565,
             1.791759469228055,
             3.4657359027997265,
             0.6931471805599453,
             0.6931471805599453,
             3.713572066704308,
             0.6931471805599453,
             2.6390573296152584,
             1.3862943611198906,
             2.70805020110221,
             1.3862943611198906,
             3.7376696182833684,
             5.572154032177765,
             4.0943445622221,
             2.5649493574615367,
             3.713572066704308,
             7.487173694213739,
             7.284820912568604,
             0.6931471805599453,
             4.499809670330265,
             0.6931471805599453,
             4.795790545596741,
             4.248495242049359,
             4.04305126783455,
             3.332204510175204,
             8.99255742690407,
             4.276666119016055,
             3.5553480614894135,
             4.07753744390572,
             9.225228984469933,
             6.366470447731438,
             4.248495242049359,
             2.1972245773362196,
             3.7376696182833684,
             1.791759469228055,
             2.3978952727983707,
             11.254180642413045,
             4.867534450455582,
             1.9459101490553132,
             1.791759469228055,
             2.0794415416798357,
             0.6931471805599453,
             1.3862943611198906,
             0.6931471805599453,
             5.948034989180646,
             2.0794415416798357,
             5.993961427306569,
             2.9444389791664403,
             2.833213344056216,
             0.6931471805599453,
             2.4849066497880004,
             3.5263605246161616,
             3.1354942159291497,
             3.7376696182833684,
             3.2188758248682006,
             8.924523226133914,
             1.3862943611198906,
             3.258096538021482,
             2.3978952727983707,
             1.0986122886681098,
             3.9512437185814275,
             3.044522437723423,
             1.791759469228055,
             5.081404364984463,
             2.0794415416798357,
             3.4657359027997265,
             2.0794415416798357,
             7.4360278163518485,
             0.6931471805599453,
             5.87493073085203,
             6.198478716492308,
             3.871201010907891,
             3.9889840465642745,
             1.791759469228055,
             5.948034989180646,
             6.866933284461882,
             4.31748811353631,
             3.4657359027997265,
             3.258096538021482
            ],
            "sizemode": "area",
            "sizeref": 0.028217319611682782
           },
           "name": "",
           "showlegend": false,
           "type": "scattergeo"
          }
         ],
         "name": "2020-03-10 00:00:00"
        }
       ],
       "layout": {
        "geo": {
         "center": {},
         "domain": {
          "x": [
           0,
           1
          ],
          "y": [
           0,
           1
          ]
         }
        },
        "legend": {
         "itemsizing": "constant",
         "tracegroupgap": 0
        },
        "margin": {
         "t": 60
        },
        "sliders": [
         {
          "active": 0,
          "currentvalue": {
           "prefix": "Date="
          },
          "len": 0.9,
          "pad": {
           "b": 10,
           "t": 60
          },
          "steps": [
           {
            "args": [
             [
              "2020-01-31 00:00:00"
             ],
             {
              "frame": {
               "duration": 0,
               "redraw": true
              },
              "fromcurrent": true,
              "mode": "immediate",
              "transition": {
               "duration": 0,
               "easing": "linear"
              }
             }
            ],
            "label": "2020-01-31 00:00:00",
            "method": "animate"
           },
           {
            "args": [
             [
              "2020-02-01 00:00:00"
             ],
             {
              "frame": {
               "duration": 0,
               "redraw": true
              },
              "fromcurrent": true,
              "mode": "immediate",
              "transition": {
               "duration": 0,
               "easing": "linear"
              }
             }
            ],
            "label": "2020-02-01 00:00:00",
            "method": "animate"
           },
           {
            "args": [
             [
              "2020-02-02 00:00:00"
             ],
             {
              "frame": {
               "duration": 0,
               "redraw": true
              },
              "fromcurrent": true,
              "mode": "immediate",
              "transition": {
               "duration": 0,
               "easing": "linear"
              }
             }
            ],
            "label": "2020-02-02 00:00:00",
            "method": "animate"
           },
           {
            "args": [
             [
              "2020-02-03 00:00:00"
             ],
             {
              "frame": {
               "duration": 0,
               "redraw": true
              },
              "fromcurrent": true,
              "mode": "immediate",
              "transition": {
               "duration": 0,
               "easing": "linear"
              }
             }
            ],
            "label": "2020-02-03 00:00:00",
            "method": "animate"
           },
           {
            "args": [
             [
              "2020-02-04 00:00:00"
             ],
             {
              "frame": {
               "duration": 0,
               "redraw": true
              },
              "fromcurrent": true,
              "mode": "immediate",
              "transition": {
               "duration": 0,
               "easing": "linear"
              }
             }
            ],
            "label": "2020-02-04 00:00:00",
            "method": "animate"
           },
           {
            "args": [
             [
              "2020-02-05 00:00:00"
             ],
             {
              "frame": {
               "duration": 0,
               "redraw": true
              },
              "fromcurrent": true,
              "mode": "immediate",
              "transition": {
               "duration": 0,
               "easing": "linear"
              }
             }
            ],
            "label": "2020-02-05 00:00:00",
            "method": "animate"
           },
           {
            "args": [
             [
              "2020-02-06 00:00:00"
             ],
             {
              "frame": {
               "duration": 0,
               "redraw": true
              },
              "fromcurrent": true,
              "mode": "immediate",
              "transition": {
               "duration": 0,
               "easing": "linear"
              }
             }
            ],
            "label": "2020-02-06 00:00:00",
            "method": "animate"
           },
           {
            "args": [
             [
              "2020-02-07 00:00:00"
             ],
             {
              "frame": {
               "duration": 0,
               "redraw": true
              },
              "fromcurrent": true,
              "mode": "immediate",
              "transition": {
               "duration": 0,
               "easing": "linear"
              }
             }
            ],
            "label": "2020-02-07 00:00:00",
            "method": "animate"
           },
           {
            "args": [
             [
              "2020-02-08 00:00:00"
             ],
             {
              "frame": {
               "duration": 0,
               "redraw": true
              },
              "fromcurrent": true,
              "mode": "immediate",
              "transition": {
               "duration": 0,
               "easing": "linear"
              }
             }
            ],
            "label": "2020-02-08 00:00:00",
            "method": "animate"
           },
           {
            "args": [
             [
              "2020-02-09 00:00:00"
             ],
             {
              "frame": {
               "duration": 0,
               "redraw": true
              },
              "fromcurrent": true,
              "mode": "immediate",
              "transition": {
               "duration": 0,
               "easing": "linear"
              }
             }
            ],
            "label": "2020-02-09 00:00:00",
            "method": "animate"
           },
           {
            "args": [
             [
              "2020-02-10 00:00:00"
             ],
             {
              "frame": {
               "duration": 0,
               "redraw": true
              },
              "fromcurrent": true,
              "mode": "immediate",
              "transition": {
               "duration": 0,
               "easing": "linear"
              }
             }
            ],
            "label": "2020-02-10 00:00:00",
            "method": "animate"
           },
           {
            "args": [
             [
              "2020-02-11 00:00:00"
             ],
             {
              "frame": {
               "duration": 0,
               "redraw": true
              },
              "fromcurrent": true,
              "mode": "immediate",
              "transition": {
               "duration": 0,
               "easing": "linear"
              }
             }
            ],
            "label": "2020-02-11 00:00:00",
            "method": "animate"
           },
           {
            "args": [
             [
              "2020-02-12 00:00:00"
             ],
             {
              "frame": {
               "duration": 0,
               "redraw": true
              },
              "fromcurrent": true,
              "mode": "immediate",
              "transition": {
               "duration": 0,
               "easing": "linear"
              }
             }
            ],
            "label": "2020-02-12 00:00:00",
            "method": "animate"
           },
           {
            "args": [
             [
              "2020-02-13 00:00:00"
             ],
             {
              "frame": {
               "duration": 0,
               "redraw": true
              },
              "fromcurrent": true,
              "mode": "immediate",
              "transition": {
               "duration": 0,
               "easing": "linear"
              }
             }
            ],
            "label": "2020-02-13 00:00:00",
            "method": "animate"
           },
           {
            "args": [
             [
              "2020-02-14 00:00:00"
             ],
             {
              "frame": {
               "duration": 0,
               "redraw": true
              },
              "fromcurrent": true,
              "mode": "immediate",
              "transition": {
               "duration": 0,
               "easing": "linear"
              }
             }
            ],
            "label": "2020-02-14 00:00:00",
            "method": "animate"
           },
           {
            "args": [
             [
              "2020-02-15 00:00:00"
             ],
             {
              "frame": {
               "duration": 0,
               "redraw": true
              },
              "fromcurrent": true,
              "mode": "immediate",
              "transition": {
               "duration": 0,
               "easing": "linear"
              }
             }
            ],
            "label": "2020-02-15 00:00:00",
            "method": "animate"
           },
           {
            "args": [
             [
              "2020-02-16 00:00:00"
             ],
             {
              "frame": {
               "duration": 0,
               "redraw": true
              },
              "fromcurrent": true,
              "mode": "immediate",
              "transition": {
               "duration": 0,
               "easing": "linear"
              }
             }
            ],
            "label": "2020-02-16 00:00:00",
            "method": "animate"
           },
           {
            "args": [
             [
              "2020-02-17 00:00:00"
             ],
             {
              "frame": {
               "duration": 0,
               "redraw": true
              },
              "fromcurrent": true,
              "mode": "immediate",
              "transition": {
               "duration": 0,
               "easing": "linear"
              }
             }
            ],
            "label": "2020-02-17 00:00:00",
            "method": "animate"
           },
           {
            "args": [
             [
              "2020-02-18 00:00:00"
             ],
             {
              "frame": {
               "duration": 0,
               "redraw": true
              },
              "fromcurrent": true,
              "mode": "immediate",
              "transition": {
               "duration": 0,
               "easing": "linear"
              }
             }
            ],
            "label": "2020-02-18 00:00:00",
            "method": "animate"
           },
           {
            "args": [
             [
              "2020-02-19 00:00:00"
             ],
             {
              "frame": {
               "duration": 0,
               "redraw": true
              },
              "fromcurrent": true,
              "mode": "immediate",
              "transition": {
               "duration": 0,
               "easing": "linear"
              }
             }
            ],
            "label": "2020-02-19 00:00:00",
            "method": "animate"
           },
           {
            "args": [
             [
              "2020-02-20 00:00:00"
             ],
             {
              "frame": {
               "duration": 0,
               "redraw": true
              },
              "fromcurrent": true,
              "mode": "immediate",
              "transition": {
               "duration": 0,
               "easing": "linear"
              }
             }
            ],
            "label": "2020-02-20 00:00:00",
            "method": "animate"
           },
           {
            "args": [
             [
              "2020-02-21 00:00:00"
             ],
             {
              "frame": {
               "duration": 0,
               "redraw": true
              },
              "fromcurrent": true,
              "mode": "immediate",
              "transition": {
               "duration": 0,
               "easing": "linear"
              }
             }
            ],
            "label": "2020-02-21 00:00:00",
            "method": "animate"
           },
           {
            "args": [
             [
              "2020-02-22 00:00:00"
             ],
             {
              "frame": {
               "duration": 0,
               "redraw": true
              },
              "fromcurrent": true,
              "mode": "immediate",
              "transition": {
               "duration": 0,
               "easing": "linear"
              }
             }
            ],
            "label": "2020-02-22 00:00:00",
            "method": "animate"
           },
           {
            "args": [
             [
              "2020-02-23 00:00:00"
             ],
             {
              "frame": {
               "duration": 0,
               "redraw": true
              },
              "fromcurrent": true,
              "mode": "immediate",
              "transition": {
               "duration": 0,
               "easing": "linear"
              }
             }
            ],
            "label": "2020-02-23 00:00:00",
            "method": "animate"
           },
           {
            "args": [
             [
              "2020-02-24 00:00:00"
             ],
             {
              "frame": {
               "duration": 0,
               "redraw": true
              },
              "fromcurrent": true,
              "mode": "immediate",
              "transition": {
               "duration": 0,
               "easing": "linear"
              }
             }
            ],
            "label": "2020-02-24 00:00:00",
            "method": "animate"
           },
           {
            "args": [
             [
              "2020-02-25 00:00:00"
             ],
             {
              "frame": {
               "duration": 0,
               "redraw": true
              },
              "fromcurrent": true,
              "mode": "immediate",
              "transition": {
               "duration": 0,
               "easing": "linear"
              }
             }
            ],
            "label": "2020-02-25 00:00:00",
            "method": "animate"
           },
           {
            "args": [
             [
              "2020-02-26 00:00:00"
             ],
             {
              "frame": {
               "duration": 0,
               "redraw": true
              },
              "fromcurrent": true,
              "mode": "immediate",
              "transition": {
               "duration": 0,
               "easing": "linear"
              }
             }
            ],
            "label": "2020-02-26 00:00:00",
            "method": "animate"
           },
           {
            "args": [
             [
              "2020-02-27 00:00:00"
             ],
             {
              "frame": {
               "duration": 0,
               "redraw": true
              },
              "fromcurrent": true,
              "mode": "immediate",
              "transition": {
               "duration": 0,
               "easing": "linear"
              }
             }
            ],
            "label": "2020-02-27 00:00:00",
            "method": "animate"
           },
           {
            "args": [
             [
              "2020-02-28 00:00:00"
             ],
             {
              "frame": {
               "duration": 0,
               "redraw": true
              },
              "fromcurrent": true,
              "mode": "immediate",
              "transition": {
               "duration": 0,
               "easing": "linear"
              }
             }
            ],
            "label": "2020-02-28 00:00:00",
            "method": "animate"
           },
           {
            "args": [
             [
              "2020-02-29 00:00:00"
             ],
             {
              "frame": {
               "duration": 0,
               "redraw": true
              },
              "fromcurrent": true,
              "mode": "immediate",
              "transition": {
               "duration": 0,
               "easing": "linear"
              }
             }
            ],
            "label": "2020-02-29 00:00:00",
            "method": "animate"
           },
           {
            "args": [
             [
              "2020-03-01 00:00:00"
             ],
             {
              "frame": {
               "duration": 0,
               "redraw": true
              },
              "fromcurrent": true,
              "mode": "immediate",
              "transition": {
               "duration": 0,
               "easing": "linear"
              }
             }
            ],
            "label": "2020-03-01 00:00:00",
            "method": "animate"
           },
           {
            "args": [
             [
              "2020-03-02 00:00:00"
             ],
             {
              "frame": {
               "duration": 0,
               "redraw": true
              },
              "fromcurrent": true,
              "mode": "immediate",
              "transition": {
               "duration": 0,
               "easing": "linear"
              }
             }
            ],
            "label": "2020-03-02 00:00:00",
            "method": "animate"
           },
           {
            "args": [
             [
              "2020-03-03 00:00:00"
             ],
             {
              "frame": {
               "duration": 0,
               "redraw": true
              },
              "fromcurrent": true,
              "mode": "immediate",
              "transition": {
               "duration": 0,
               "easing": "linear"
              }
             }
            ],
            "label": "2020-03-03 00:00:00",
            "method": "animate"
           },
           {
            "args": [
             [
              "2020-03-04 00:00:00"
             ],
             {
              "frame": {
               "duration": 0,
               "redraw": true
              },
              "fromcurrent": true,
              "mode": "immediate",
              "transition": {
               "duration": 0,
               "easing": "linear"
              }
             }
            ],
            "label": "2020-03-04 00:00:00",
            "method": "animate"
           },
           {
            "args": [
             [
              "2020-03-05 00:00:00"
             ],
             {
              "frame": {
               "duration": 0,
               "redraw": true
              },
              "fromcurrent": true,
              "mode": "immediate",
              "transition": {
               "duration": 0,
               "easing": "linear"
              }
             }
            ],
            "label": "2020-03-05 00:00:00",
            "method": "animate"
           },
           {
            "args": [
             [
              "2020-03-06 00:00:00"
             ],
             {
              "frame": {
               "duration": 0,
               "redraw": true
              },
              "fromcurrent": true,
              "mode": "immediate",
              "transition": {
               "duration": 0,
               "easing": "linear"
              }
             }
            ],
            "label": "2020-03-06 00:00:00",
            "method": "animate"
           },
           {
            "args": [
             [
              "2020-03-07 00:00:00"
             ],
             {
              "frame": {
               "duration": 0,
               "redraw": true
              },
              "fromcurrent": true,
              "mode": "immediate",
              "transition": {
               "duration": 0,
               "easing": "linear"
              }
             }
            ],
            "label": "2020-03-07 00:00:00",
            "method": "animate"
           },
           {
            "args": [
             [
              "2020-03-08 00:00:00"
             ],
             {
              "frame": {
               "duration": 0,
               "redraw": true
              },
              "fromcurrent": true,
              "mode": "immediate",
              "transition": {
               "duration": 0,
               "easing": "linear"
              }
             }
            ],
            "label": "2020-03-08 00:00:00",
            "method": "animate"
           },
           {
            "args": [
             [
              "2020-03-09 00:00:00"
             ],
             {
              "frame": {
               "duration": 0,
               "redraw": true
              },
              "fromcurrent": true,
              "mode": "immediate",
              "transition": {
               "duration": 0,
               "easing": "linear"
              }
             }
            ],
            "label": "2020-03-09 00:00:00",
            "method": "animate"
           },
           {
            "args": [
             [
              "2020-03-10 00:00:00"
             ],
             {
              "frame": {
               "duration": 0,
               "redraw": true
              },
              "fromcurrent": true,
              "mode": "immediate",
              "transition": {
               "duration": 0,
               "easing": "linear"
              }
             }
            ],
            "label": "2020-03-10 00:00:00",
            "method": "animate"
           }
          ],
          "x": 0.1,
          "xanchor": "left",
          "y": 0,
          "yanchor": "top"
         }
        ],
        "template": {
         "data": {
          "bar": [
           {
            "error_x": {
             "color": "#2a3f5f"
            },
            "error_y": {
             "color": "#2a3f5f"
            },
            "marker": {
             "line": {
              "color": "#E5ECF6",
              "width": 0.5
             }
            },
            "type": "bar"
           }
          ],
          "barpolar": [
           {
            "marker": {
             "line": {
              "color": "#E5ECF6",
              "width": 0.5
             }
            },
            "type": "barpolar"
           }
          ],
          "carpet": [
           {
            "aaxis": {
             "endlinecolor": "#2a3f5f",
             "gridcolor": "white",
             "linecolor": "white",
             "minorgridcolor": "white",
             "startlinecolor": "#2a3f5f"
            },
            "baxis": {
             "endlinecolor": "#2a3f5f",
             "gridcolor": "white",
             "linecolor": "white",
             "minorgridcolor": "white",
             "startlinecolor": "#2a3f5f"
            },
            "type": "carpet"
           }
          ],
          "choropleth": [
           {
            "colorbar": {
             "outlinewidth": 0,
             "ticks": ""
            },
            "type": "choropleth"
           }
          ],
          "contour": [
           {
            "colorbar": {
             "outlinewidth": 0,
             "ticks": ""
            },
            "colorscale": [
             [
              0,
              "#0d0887"
             ],
             [
              0.1111111111111111,
              "#46039f"
             ],
             [
              0.2222222222222222,
              "#7201a8"
             ],
             [
              0.3333333333333333,
              "#9c179e"
             ],
             [
              0.4444444444444444,
              "#bd3786"
             ],
             [
              0.5555555555555556,
              "#d8576b"
             ],
             [
              0.6666666666666666,
              "#ed7953"
             ],
             [
              0.7777777777777778,
              "#fb9f3a"
             ],
             [
              0.8888888888888888,
              "#fdca26"
             ],
             [
              1,
              "#f0f921"
             ]
            ],
            "type": "contour"
           }
          ],
          "contourcarpet": [
           {
            "colorbar": {
             "outlinewidth": 0,
             "ticks": ""
            },
            "type": "contourcarpet"
           }
          ],
          "heatmap": [
           {
            "colorbar": {
             "outlinewidth": 0,
             "ticks": ""
            },
            "colorscale": [
             [
              0,
              "#0d0887"
             ],
             [
              0.1111111111111111,
              "#46039f"
             ],
             [
              0.2222222222222222,
              "#7201a8"
             ],
             [
              0.3333333333333333,
              "#9c179e"
             ],
             [
              0.4444444444444444,
              "#bd3786"
             ],
             [
              0.5555555555555556,
              "#d8576b"
             ],
             [
              0.6666666666666666,
              "#ed7953"
             ],
             [
              0.7777777777777778,
              "#fb9f3a"
             ],
             [
              0.8888888888888888,
              "#fdca26"
             ],
             [
              1,
              "#f0f921"
             ]
            ],
            "type": "heatmap"
           }
          ],
          "heatmapgl": [
           {
            "colorbar": {
             "outlinewidth": 0,
             "ticks": ""
            },
            "colorscale": [
             [
              0,
              "#0d0887"
             ],
             [
              0.1111111111111111,
              "#46039f"
             ],
             [
              0.2222222222222222,
              "#7201a8"
             ],
             [
              0.3333333333333333,
              "#9c179e"
             ],
             [
              0.4444444444444444,
              "#bd3786"
             ],
             [
              0.5555555555555556,
              "#d8576b"
             ],
             [
              0.6666666666666666,
              "#ed7953"
             ],
             [
              0.7777777777777778,
              "#fb9f3a"
             ],
             [
              0.8888888888888888,
              "#fdca26"
             ],
             [
              1,
              "#f0f921"
             ]
            ],
            "type": "heatmapgl"
           }
          ],
          "histogram": [
           {
            "marker": {
             "colorbar": {
              "outlinewidth": 0,
              "ticks": ""
             }
            },
            "type": "histogram"
           }
          ],
          "histogram2d": [
           {
            "colorbar": {
             "outlinewidth": 0,
             "ticks": ""
            },
            "colorscale": [
             [
              0,
              "#0d0887"
             ],
             [
              0.1111111111111111,
              "#46039f"
             ],
             [
              0.2222222222222222,
              "#7201a8"
             ],
             [
              0.3333333333333333,
              "#9c179e"
             ],
             [
              0.4444444444444444,
              "#bd3786"
             ],
             [
              0.5555555555555556,
              "#d8576b"
             ],
             [
              0.6666666666666666,
              "#ed7953"
             ],
             [
              0.7777777777777778,
              "#fb9f3a"
             ],
             [
              0.8888888888888888,
              "#fdca26"
             ],
             [
              1,
              "#f0f921"
             ]
            ],
            "type": "histogram2d"
           }
          ],
          "histogram2dcontour": [
           {
            "colorbar": {
             "outlinewidth": 0,
             "ticks": ""
            },
            "colorscale": [
             [
              0,
              "#0d0887"
             ],
             [
              0.1111111111111111,
              "#46039f"
             ],
             [
              0.2222222222222222,
              "#7201a8"
             ],
             [
              0.3333333333333333,
              "#9c179e"
             ],
             [
              0.4444444444444444,
              "#bd3786"
             ],
             [
              0.5555555555555556,
              "#d8576b"
             ],
             [
              0.6666666666666666,
              "#ed7953"
             ],
             [
              0.7777777777777778,
              "#fb9f3a"
             ],
             [
              0.8888888888888888,
              "#fdca26"
             ],
             [
              1,
              "#f0f921"
             ]
            ],
            "type": "histogram2dcontour"
           }
          ],
          "mesh3d": [
           {
            "colorbar": {
             "outlinewidth": 0,
             "ticks": ""
            },
            "type": "mesh3d"
           }
          ],
          "parcoords": [
           {
            "line": {
             "colorbar": {
              "outlinewidth": 0,
              "ticks": ""
             }
            },
            "type": "parcoords"
           }
          ],
          "pie": [
           {
            "automargin": true,
            "type": "pie"
           }
          ],
          "scatter": [
           {
            "marker": {
             "colorbar": {
              "outlinewidth": 0,
              "ticks": ""
             }
            },
            "type": "scatter"
           }
          ],
          "scatter3d": [
           {
            "line": {
             "colorbar": {
              "outlinewidth": 0,
              "ticks": ""
             }
            },
            "marker": {
             "colorbar": {
              "outlinewidth": 0,
              "ticks": ""
             }
            },
            "type": "scatter3d"
           }
          ],
          "scattercarpet": [
           {
            "marker": {
             "colorbar": {
              "outlinewidth": 0,
              "ticks": ""
             }
            },
            "type": "scattercarpet"
           }
          ],
          "scattergeo": [
           {
            "marker": {
             "colorbar": {
              "outlinewidth": 0,
              "ticks": ""
             }
            },
            "type": "scattergeo"
           }
          ],
          "scattergl": [
           {
            "marker": {
             "colorbar": {
              "outlinewidth": 0,
              "ticks": ""
             }
            },
            "type": "scattergl"
           }
          ],
          "scattermapbox": [
           {
            "marker": {
             "colorbar": {
              "outlinewidth": 0,
              "ticks": ""
             }
            },
            "type": "scattermapbox"
           }
          ],
          "scatterpolar": [
           {
            "marker": {
             "colorbar": {
              "outlinewidth": 0,
              "ticks": ""
             }
            },
            "type": "scatterpolar"
           }
          ],
          "scatterpolargl": [
           {
            "marker": {
             "colorbar": {
              "outlinewidth": 0,
              "ticks": ""
             }
            },
            "type": "scatterpolargl"
           }
          ],
          "scatterternary": [
           {
            "marker": {
             "colorbar": {
              "outlinewidth": 0,
              "ticks": ""
             }
            },
            "type": "scatterternary"
           }
          ],
          "surface": [
           {
            "colorbar": {
             "outlinewidth": 0,
             "ticks": ""
            },
            "colorscale": [
             [
              0,
              "#0d0887"
             ],
             [
              0.1111111111111111,
              "#46039f"
             ],
             [
              0.2222222222222222,
              "#7201a8"
             ],
             [
              0.3333333333333333,
              "#9c179e"
             ],
             [
              0.4444444444444444,
              "#bd3786"
             ],
             [
              0.5555555555555556,
              "#d8576b"
             ],
             [
              0.6666666666666666,
              "#ed7953"
             ],
             [
              0.7777777777777778,
              "#fb9f3a"
             ],
             [
              0.8888888888888888,
              "#fdca26"
             ],
             [
              1,
              "#f0f921"
             ]
            ],
            "type": "surface"
           }
          ],
          "table": [
           {
            "cells": {
             "fill": {
              "color": "#EBF0F8"
             },
             "line": {
              "color": "white"
             }
            },
            "header": {
             "fill": {
              "color": "#C8D4E3"
             },
             "line": {
              "color": "white"
             }
            },
            "type": "table"
           }
          ]
         },
         "layout": {
          "annotationdefaults": {
           "arrowcolor": "#2a3f5f",
           "arrowhead": 0,
           "arrowwidth": 1
          },
          "coloraxis": {
           "colorbar": {
            "outlinewidth": 0,
            "ticks": ""
           }
          },
          "colorscale": {
           "diverging": [
            [
             0,
             "#8e0152"
            ],
            [
             0.1,
             "#c51b7d"
            ],
            [
             0.2,
             "#de77ae"
            ],
            [
             0.3,
             "#f1b6da"
            ],
            [
             0.4,
             "#fde0ef"
            ],
            [
             0.5,
             "#f7f7f7"
            ],
            [
             0.6,
             "#e6f5d0"
            ],
            [
             0.7,
             "#b8e186"
            ],
            [
             0.8,
             "#7fbc41"
            ],
            [
             0.9,
             "#4d9221"
            ],
            [
             1,
             "#276419"
            ]
           ],
           "sequential": [
            [
             0,
             "#0d0887"
            ],
            [
             0.1111111111111111,
             "#46039f"
            ],
            [
             0.2222222222222222,
             "#7201a8"
            ],
            [
             0.3333333333333333,
             "#9c179e"
            ],
            [
             0.4444444444444444,
             "#bd3786"
            ],
            [
             0.5555555555555556,
             "#d8576b"
            ],
            [
             0.6666666666666666,
             "#ed7953"
            ],
            [
             0.7777777777777778,
             "#fb9f3a"
            ],
            [
             0.8888888888888888,
             "#fdca26"
            ],
            [
             1,
             "#f0f921"
            ]
           ],
           "sequentialminus": [
            [
             0,
             "#0d0887"
            ],
            [
             0.1111111111111111,
             "#46039f"
            ],
            [
             0.2222222222222222,
             "#7201a8"
            ],
            [
             0.3333333333333333,
             "#9c179e"
            ],
            [
             0.4444444444444444,
             "#bd3786"
            ],
            [
             0.5555555555555556,
             "#d8576b"
            ],
            [
             0.6666666666666666,
             "#ed7953"
            ],
            [
             0.7777777777777778,
             "#fb9f3a"
            ],
            [
             0.8888888888888888,
             "#fdca26"
            ],
            [
             1,
             "#f0f921"
            ]
           ]
          },
          "colorway": [
           "#636efa",
           "#EF553B",
           "#00cc96",
           "#ab63fa",
           "#FFA15A",
           "#19d3f3",
           "#FF6692",
           "#B6E880",
           "#FF97FF",
           "#FECB52"
          ],
          "font": {
           "color": "#2a3f5f"
          },
          "geo": {
           "bgcolor": "white",
           "lakecolor": "white",
           "landcolor": "#E5ECF6",
           "showlakes": true,
           "showland": true,
           "subunitcolor": "white"
          },
          "hoverlabel": {
           "align": "left"
          },
          "hovermode": "closest",
          "mapbox": {
           "style": "light"
          },
          "paper_bgcolor": "white",
          "plot_bgcolor": "#E5ECF6",
          "polar": {
           "angularaxis": {
            "gridcolor": "white",
            "linecolor": "white",
            "ticks": ""
           },
           "bgcolor": "#E5ECF6",
           "radialaxis": {
            "gridcolor": "white",
            "linecolor": "white",
            "ticks": ""
           }
          },
          "scene": {
           "xaxis": {
            "backgroundcolor": "#E5ECF6",
            "gridcolor": "white",
            "gridwidth": 2,
            "linecolor": "white",
            "showbackground": true,
            "ticks": "",
            "zerolinecolor": "white"
           },
           "yaxis": {
            "backgroundcolor": "#E5ECF6",
            "gridcolor": "white",
            "gridwidth": 2,
            "linecolor": "white",
            "showbackground": true,
            "ticks": "",
            "zerolinecolor": "white"
           },
           "zaxis": {
            "backgroundcolor": "#E5ECF6",
            "gridcolor": "white",
            "gridwidth": 2,
            "linecolor": "white",
            "showbackground": true,
            "ticks": "",
            "zerolinecolor": "white"
           }
          },
          "shapedefaults": {
           "line": {
            "color": "#2a3f5f"
           }
          },
          "ternary": {
           "aaxis": {
            "gridcolor": "white",
            "linecolor": "white",
            "ticks": ""
           },
           "baxis": {
            "gridcolor": "white",
            "linecolor": "white",
            "ticks": ""
           },
           "bgcolor": "#E5ECF6",
           "caxis": {
            "gridcolor": "white",
            "linecolor": "white",
            "ticks": ""
           }
          },
          "title": {
           "x": 0.05
          },
          "xaxis": {
           "automargin": true,
           "gridcolor": "white",
           "linecolor": "white",
           "ticks": "",
           "title": {
            "standoff": 15
           },
           "zerolinecolor": "white",
           "zerolinewidth": 2
          },
          "yaxis": {
           "automargin": true,
           "gridcolor": "white",
           "linecolor": "white",
           "ticks": "",
           "title": {
            "standoff": 15
           },
           "zerolinecolor": "white",
           "zerolinewidth": 2
          }
         }
        },
        "updatemenus": [
         {
          "buttons": [
           {
            "args": [
             null,
             {
              "frame": {
               "duration": 500,
               "redraw": true
              },
              "fromcurrent": true,
              "mode": "immediate",
              "transition": {
               "duration": 500,
               "easing": "linear"
              }
             }
            ],
            "label": "&#9654;",
            "method": "animate"
           },
           {
            "args": [
             [
              null
             ],
             {
              "frame": {
               "duration": 0,
               "redraw": true
              },
              "fromcurrent": true,
              "mode": "immediate",
              "transition": {
               "duration": 0,
               "easing": "linear"
              }
             }
            ],
            "label": "&#9724;",
            "method": "animate"
           }
          ],
          "direction": "left",
          "pad": {
           "r": 10,
           "t": 70
          },
          "showactive": false,
          "type": "buttons",
          "x": 0.1,
          "xanchor": "right",
          "y": 0,
          "yanchor": "top"
         }
        ]
       }
      },
      "text/html": [
       "<div>\n",
       "        \n",
       "        \n",
       "            <div id=\"03fd79b2-eb95-4461-b758-d5a6143642c4\" class=\"plotly-graph-div\" style=\"height:525px; width:100%;\"></div>\n",
       "            <script type=\"text/javascript\">\n",
       "                require([\"plotly\"], function(Plotly) {\n",
       "                    window.PLOTLYENV=window.PLOTLYENV || {};\n",
       "                    \n",
       "                if (document.getElementById(\"03fd79b2-eb95-4461-b758-d5a6143642c4\")) {\n",
       "                    Plotly.newPlot(\n",
       "                        '03fd79b2-eb95-4461-b758-d5a6143642c4',\n",
       "                        [{\"geo\": \"geo\", \"hoverlabel\": {\"namelength\": 0}, \"hovertemplate\": \"<b>%{hovertext}</b><br><br>Date=2020-01-31 00:00:00<br>Log Confirmed=%{marker.size}<br>Country/Region=%{location}\", \"hovertext\": [\"Cambodia\", \"Finland\", \"India\", \"Italy\", \"Macau\", \"Mainland China\", \"Malaysia\", \"Nepal\", \"Russia\", \"Sri Lanka\", \"Taiwan\", \"Thailand\", \"United Arab Emirates\"], \"legendgroup\": \"\", \"locationmode\": \"country names\", \"locations\": [\"Cambodia\", \"Finland\", \"India\", \"Italy\", \"Macau\", \"Mainland China\", \"Malaysia\", \"Nepal\", \"Russia\", \"Sri Lanka\", \"Taiwan\", \"Thailand\", \"United Arab Emirates\"], \"marker\": {\"color\": \"#636efa\", \"size\": [1.0986122886681098, 1.0986122886681098, 0.6931471805599453, 1.6094379124341003, 2.0794415416798357, 3.4011973816621555, 2.833213344056216, 1.0986122886681098, 1.6094379124341003, 1.0986122886681098, 3.044522437723423, 3.6635616461296463, 1.6094379124341003], \"sizemode\": \"area\", \"sizeref\": 0.028217319611682782}, \"name\": \"\", \"showlegend\": false, \"type\": \"scattergeo\"}],\n",
       "                        {\"geo\": {\"center\": {}, \"domain\": {\"x\": [0.0, 1.0], \"y\": [0.0, 1.0]}}, \"legend\": {\"itemsizing\": \"constant\", \"tracegroupgap\": 0}, \"margin\": {\"t\": 60}, \"sliders\": [{\"active\": 0, \"currentvalue\": {\"prefix\": \"Date=\"}, \"len\": 0.9, \"pad\": {\"b\": 10, \"t\": 60}, \"steps\": [{\"args\": [[\"2020-01-31 00:00:00\"], {\"frame\": {\"duration\": 0, \"redraw\": true}, \"fromcurrent\": true, \"mode\": \"immediate\", \"transition\": {\"duration\": 0, \"easing\": \"linear\"}}], \"label\": \"2020-01-31 00:00:00\", \"method\": \"animate\"}, {\"args\": [[\"2020-02-01 00:00:00\"], {\"frame\": {\"duration\": 0, \"redraw\": true}, \"fromcurrent\": true, \"mode\": \"immediate\", \"transition\": {\"duration\": 0, \"easing\": \"linear\"}}], \"label\": \"2020-02-01 00:00:00\", \"method\": \"animate\"}, {\"args\": [[\"2020-02-02 00:00:00\"], {\"frame\": {\"duration\": 0, \"redraw\": true}, \"fromcurrent\": true, \"mode\": \"immediate\", \"transition\": {\"duration\": 0, \"easing\": \"linear\"}}], \"label\": \"2020-02-02 00:00:00\", \"method\": \"animate\"}, {\"args\": [[\"2020-02-03 00:00:00\"], {\"frame\": {\"duration\": 0, \"redraw\": true}, \"fromcurrent\": true, \"mode\": \"immediate\", \"transition\": {\"duration\": 0, \"easing\": \"linear\"}}], \"label\": \"2020-02-03 00:00:00\", \"method\": \"animate\"}, {\"args\": [[\"2020-02-04 00:00:00\"], {\"frame\": {\"duration\": 0, \"redraw\": true}, \"fromcurrent\": true, \"mode\": \"immediate\", \"transition\": {\"duration\": 0, \"easing\": \"linear\"}}], \"label\": \"2020-02-04 00:00:00\", \"method\": \"animate\"}, {\"args\": [[\"2020-02-05 00:00:00\"], {\"frame\": {\"duration\": 0, \"redraw\": true}, \"fromcurrent\": true, \"mode\": \"immediate\", \"transition\": {\"duration\": 0, \"easing\": \"linear\"}}], \"label\": \"2020-02-05 00:00:00\", \"method\": \"animate\"}, {\"args\": [[\"2020-02-06 00:00:00\"], {\"frame\": {\"duration\": 0, \"redraw\": true}, \"fromcurrent\": true, \"mode\": \"immediate\", \"transition\": {\"duration\": 0, \"easing\": \"linear\"}}], \"label\": \"2020-02-06 00:00:00\", \"method\": \"animate\"}, {\"args\": [[\"2020-02-07 00:00:00\"], {\"frame\": {\"duration\": 0, \"redraw\": true}, \"fromcurrent\": true, \"mode\": \"immediate\", \"transition\": {\"duration\": 0, \"easing\": \"linear\"}}], \"label\": \"2020-02-07 00:00:00\", \"method\": \"animate\"}, {\"args\": [[\"2020-02-08 00:00:00\"], {\"frame\": {\"duration\": 0, \"redraw\": true}, \"fromcurrent\": true, \"mode\": \"immediate\", \"transition\": {\"duration\": 0, \"easing\": \"linear\"}}], \"label\": \"2020-02-08 00:00:00\", \"method\": \"animate\"}, {\"args\": [[\"2020-02-09 00:00:00\"], {\"frame\": {\"duration\": 0, \"redraw\": true}, \"fromcurrent\": true, \"mode\": \"immediate\", \"transition\": {\"duration\": 0, \"easing\": \"linear\"}}], \"label\": \"2020-02-09 00:00:00\", \"method\": \"animate\"}, {\"args\": [[\"2020-02-10 00:00:00\"], {\"frame\": {\"duration\": 0, \"redraw\": true}, \"fromcurrent\": true, \"mode\": \"immediate\", \"transition\": {\"duration\": 0, \"easing\": \"linear\"}}], \"label\": \"2020-02-10 00:00:00\", \"method\": \"animate\"}, {\"args\": [[\"2020-02-11 00:00:00\"], {\"frame\": {\"duration\": 0, \"redraw\": true}, \"fromcurrent\": true, \"mode\": \"immediate\", \"transition\": {\"duration\": 0, \"easing\": \"linear\"}}], \"label\": \"2020-02-11 00:00:00\", \"method\": \"animate\"}, {\"args\": [[\"2020-02-12 00:00:00\"], {\"frame\": {\"duration\": 0, \"redraw\": true}, \"fromcurrent\": true, \"mode\": \"immediate\", \"transition\": {\"duration\": 0, \"easing\": \"linear\"}}], \"label\": \"2020-02-12 00:00:00\", \"method\": \"animate\"}, {\"args\": [[\"2020-02-13 00:00:00\"], {\"frame\": {\"duration\": 0, \"redraw\": true}, \"fromcurrent\": true, \"mode\": \"immediate\", \"transition\": {\"duration\": 0, \"easing\": \"linear\"}}], \"label\": \"2020-02-13 00:00:00\", \"method\": \"animate\"}, {\"args\": [[\"2020-02-14 00:00:00\"], {\"frame\": {\"duration\": 0, \"redraw\": true}, \"fromcurrent\": true, \"mode\": \"immediate\", \"transition\": {\"duration\": 0, \"easing\": \"linear\"}}], \"label\": \"2020-02-14 00:00:00\", \"method\": \"animate\"}, {\"args\": [[\"2020-02-15 00:00:00\"], {\"frame\": {\"duration\": 0, \"redraw\": true}, \"fromcurrent\": true, \"mode\": \"immediate\", \"transition\": {\"duration\": 0, \"easing\": \"linear\"}}], \"label\": \"2020-02-15 00:00:00\", \"method\": \"animate\"}, {\"args\": [[\"2020-02-16 00:00:00\"], {\"frame\": {\"duration\": 0, \"redraw\": true}, \"fromcurrent\": true, \"mode\": \"immediate\", \"transition\": {\"duration\": 0, \"easing\": \"linear\"}}], \"label\": \"2020-02-16 00:00:00\", \"method\": \"animate\"}, {\"args\": [[\"2020-02-17 00:00:00\"], {\"frame\": {\"duration\": 0, \"redraw\": true}, \"fromcurrent\": true, \"mode\": \"immediate\", \"transition\": {\"duration\": 0, \"easing\": \"linear\"}}], \"label\": \"2020-02-17 00:00:00\", \"method\": \"animate\"}, {\"args\": [[\"2020-02-18 00:00:00\"], {\"frame\": {\"duration\": 0, \"redraw\": true}, \"fromcurrent\": true, \"mode\": \"immediate\", \"transition\": {\"duration\": 0, \"easing\": \"linear\"}}], \"label\": \"2020-02-18 00:00:00\", \"method\": \"animate\"}, {\"args\": [[\"2020-02-19 00:00:00\"], {\"frame\": {\"duration\": 0, \"redraw\": true}, \"fromcurrent\": true, \"mode\": \"immediate\", \"transition\": {\"duration\": 0, \"easing\": \"linear\"}}], \"label\": \"2020-02-19 00:00:00\", \"method\": \"animate\"}, {\"args\": [[\"2020-02-20 00:00:00\"], {\"frame\": {\"duration\": 0, \"redraw\": true}, \"fromcurrent\": true, \"mode\": \"immediate\", \"transition\": {\"duration\": 0, \"easing\": \"linear\"}}], \"label\": \"2020-02-20 00:00:00\", \"method\": \"animate\"}, {\"args\": [[\"2020-02-21 00:00:00\"], {\"frame\": {\"duration\": 0, \"redraw\": true}, \"fromcurrent\": true, \"mode\": \"immediate\", \"transition\": {\"duration\": 0, \"easing\": \"linear\"}}], \"label\": \"2020-02-21 00:00:00\", \"method\": \"animate\"}, {\"args\": [[\"2020-02-22 00:00:00\"], {\"frame\": {\"duration\": 0, \"redraw\": true}, \"fromcurrent\": true, \"mode\": \"immediate\", \"transition\": {\"duration\": 0, \"easing\": \"linear\"}}], \"label\": \"2020-02-22 00:00:00\", \"method\": \"animate\"}, {\"args\": [[\"2020-02-23 00:00:00\"], {\"frame\": {\"duration\": 0, \"redraw\": true}, \"fromcurrent\": true, \"mode\": \"immediate\", \"transition\": {\"duration\": 0, \"easing\": \"linear\"}}], \"label\": \"2020-02-23 00:00:00\", \"method\": \"animate\"}, {\"args\": [[\"2020-02-24 00:00:00\"], {\"frame\": {\"duration\": 0, \"redraw\": true}, \"fromcurrent\": true, \"mode\": \"immediate\", \"transition\": {\"duration\": 0, \"easing\": \"linear\"}}], \"label\": \"2020-02-24 00:00:00\", \"method\": \"animate\"}, {\"args\": [[\"2020-02-25 00:00:00\"], {\"frame\": {\"duration\": 0, \"redraw\": true}, \"fromcurrent\": true, \"mode\": \"immediate\", \"transition\": {\"duration\": 0, \"easing\": \"linear\"}}], \"label\": \"2020-02-25 00:00:00\", \"method\": \"animate\"}, {\"args\": [[\"2020-02-26 00:00:00\"], {\"frame\": {\"duration\": 0, \"redraw\": true}, \"fromcurrent\": true, \"mode\": \"immediate\", \"transition\": {\"duration\": 0, \"easing\": \"linear\"}}], \"label\": \"2020-02-26 00:00:00\", \"method\": \"animate\"}, {\"args\": [[\"2020-02-27 00:00:00\"], {\"frame\": {\"duration\": 0, \"redraw\": true}, \"fromcurrent\": true, \"mode\": \"immediate\", \"transition\": {\"duration\": 0, \"easing\": \"linear\"}}], \"label\": \"2020-02-27 00:00:00\", \"method\": \"animate\"}, {\"args\": [[\"2020-02-28 00:00:00\"], {\"frame\": {\"duration\": 0, \"redraw\": true}, \"fromcurrent\": true, \"mode\": \"immediate\", \"transition\": {\"duration\": 0, \"easing\": \"linear\"}}], \"label\": \"2020-02-28 00:00:00\", \"method\": \"animate\"}, {\"args\": [[\"2020-02-29 00:00:00\"], {\"frame\": {\"duration\": 0, \"redraw\": true}, \"fromcurrent\": true, \"mode\": \"immediate\", \"transition\": {\"duration\": 0, \"easing\": \"linear\"}}], \"label\": \"2020-02-29 00:00:00\", \"method\": \"animate\"}, {\"args\": [[\"2020-03-01 00:00:00\"], {\"frame\": {\"duration\": 0, \"redraw\": true}, \"fromcurrent\": true, \"mode\": \"immediate\", \"transition\": {\"duration\": 0, \"easing\": \"linear\"}}], \"label\": \"2020-03-01 00:00:00\", \"method\": \"animate\"}, {\"args\": [[\"2020-03-02 00:00:00\"], {\"frame\": {\"duration\": 0, \"redraw\": true}, \"fromcurrent\": true, \"mode\": \"immediate\", \"transition\": {\"duration\": 0, \"easing\": \"linear\"}}], \"label\": \"2020-03-02 00:00:00\", \"method\": \"animate\"}, {\"args\": [[\"2020-03-03 00:00:00\"], {\"frame\": {\"duration\": 0, \"redraw\": true}, \"fromcurrent\": true, \"mode\": \"immediate\", \"transition\": {\"duration\": 0, \"easing\": \"linear\"}}], \"label\": \"2020-03-03 00:00:00\", \"method\": \"animate\"}, {\"args\": [[\"2020-03-04 00:00:00\"], {\"frame\": {\"duration\": 0, \"redraw\": true}, \"fromcurrent\": true, \"mode\": \"immediate\", \"transition\": {\"duration\": 0, \"easing\": \"linear\"}}], \"label\": \"2020-03-04 00:00:00\", \"method\": \"animate\"}, {\"args\": [[\"2020-03-05 00:00:00\"], {\"frame\": {\"duration\": 0, \"redraw\": true}, \"fromcurrent\": true, \"mode\": \"immediate\", \"transition\": {\"duration\": 0, \"easing\": \"linear\"}}], \"label\": \"2020-03-05 00:00:00\", \"method\": \"animate\"}, {\"args\": [[\"2020-03-06 00:00:00\"], {\"frame\": {\"duration\": 0, \"redraw\": true}, \"fromcurrent\": true, \"mode\": \"immediate\", \"transition\": {\"duration\": 0, \"easing\": \"linear\"}}], \"label\": \"2020-03-06 00:00:00\", \"method\": \"animate\"}, {\"args\": [[\"2020-03-07 00:00:00\"], {\"frame\": {\"duration\": 0, \"redraw\": true}, \"fromcurrent\": true, \"mode\": \"immediate\", \"transition\": {\"duration\": 0, \"easing\": \"linear\"}}], \"label\": \"2020-03-07 00:00:00\", \"method\": \"animate\"}, {\"args\": [[\"2020-03-08 00:00:00\"], {\"frame\": {\"duration\": 0, \"redraw\": true}, \"fromcurrent\": true, \"mode\": \"immediate\", \"transition\": {\"duration\": 0, \"easing\": \"linear\"}}], \"label\": \"2020-03-08 00:00:00\", \"method\": \"animate\"}, {\"args\": [[\"2020-03-09 00:00:00\"], {\"frame\": {\"duration\": 0, \"redraw\": true}, \"fromcurrent\": true, \"mode\": \"immediate\", \"transition\": {\"duration\": 0, \"easing\": \"linear\"}}], \"label\": \"2020-03-09 00:00:00\", \"method\": \"animate\"}, {\"args\": [[\"2020-03-10 00:00:00\"], {\"frame\": {\"duration\": 0, \"redraw\": true}, \"fromcurrent\": true, \"mode\": \"immediate\", \"transition\": {\"duration\": 0, \"easing\": \"linear\"}}], \"label\": \"2020-03-10 00:00:00\", \"method\": \"animate\"}], \"x\": 0.1, \"xanchor\": \"left\", \"y\": 0, \"yanchor\": \"top\"}], \"template\": {\"data\": {\"bar\": [{\"error_x\": {\"color\": \"#2a3f5f\"}, \"error_y\": {\"color\": \"#2a3f5f\"}, \"marker\": {\"line\": {\"color\": \"#E5ECF6\", \"width\": 0.5}}, \"type\": \"bar\"}], \"barpolar\": [{\"marker\": {\"line\": {\"color\": \"#E5ECF6\", \"width\": 0.5}}, \"type\": \"barpolar\"}], \"carpet\": [{\"aaxis\": {\"endlinecolor\": \"#2a3f5f\", \"gridcolor\": \"white\", \"linecolor\": \"white\", \"minorgridcolor\": \"white\", \"startlinecolor\": \"#2a3f5f\"}, \"baxis\": {\"endlinecolor\": \"#2a3f5f\", \"gridcolor\": \"white\", \"linecolor\": \"white\", \"minorgridcolor\": \"white\", \"startlinecolor\": \"#2a3f5f\"}, \"type\": \"carpet\"}], \"choropleth\": [{\"colorbar\": {\"outlinewidth\": 0, \"ticks\": \"\"}, \"type\": \"choropleth\"}], \"contour\": [{\"colorbar\": {\"outlinewidth\": 0, \"ticks\": \"\"}, \"colorscale\": [[0.0, \"#0d0887\"], [0.1111111111111111, \"#46039f\"], [0.2222222222222222, \"#7201a8\"], [0.3333333333333333, \"#9c179e\"], [0.4444444444444444, \"#bd3786\"], [0.5555555555555556, \"#d8576b\"], [0.6666666666666666, \"#ed7953\"], [0.7777777777777778, \"#fb9f3a\"], [0.8888888888888888, \"#fdca26\"], [1.0, \"#f0f921\"]], \"type\": \"contour\"}], \"contourcarpet\": [{\"colorbar\": {\"outlinewidth\": 0, \"ticks\": \"\"}, \"type\": \"contourcarpet\"}], \"heatmap\": [{\"colorbar\": {\"outlinewidth\": 0, \"ticks\": \"\"}, \"colorscale\": [[0.0, \"#0d0887\"], [0.1111111111111111, \"#46039f\"], [0.2222222222222222, \"#7201a8\"], [0.3333333333333333, \"#9c179e\"], [0.4444444444444444, \"#bd3786\"], [0.5555555555555556, \"#d8576b\"], [0.6666666666666666, \"#ed7953\"], [0.7777777777777778, \"#fb9f3a\"], [0.8888888888888888, \"#fdca26\"], [1.0, \"#f0f921\"]], \"type\": \"heatmap\"}], \"heatmapgl\": [{\"colorbar\": {\"outlinewidth\": 0, \"ticks\": \"\"}, \"colorscale\": [[0.0, \"#0d0887\"], [0.1111111111111111, \"#46039f\"], [0.2222222222222222, \"#7201a8\"], [0.3333333333333333, \"#9c179e\"], [0.4444444444444444, \"#bd3786\"], [0.5555555555555556, \"#d8576b\"], [0.6666666666666666, \"#ed7953\"], [0.7777777777777778, \"#fb9f3a\"], [0.8888888888888888, \"#fdca26\"], [1.0, \"#f0f921\"]], \"type\": \"heatmapgl\"}], \"histogram\": [{\"marker\": {\"colorbar\": {\"outlinewidth\": 0, \"ticks\": \"\"}}, \"type\": \"histogram\"}], \"histogram2d\": [{\"colorbar\": {\"outlinewidth\": 0, \"ticks\": \"\"}, \"colorscale\": [[0.0, \"#0d0887\"], [0.1111111111111111, \"#46039f\"], [0.2222222222222222, \"#7201a8\"], [0.3333333333333333, \"#9c179e\"], [0.4444444444444444, \"#bd3786\"], [0.5555555555555556, \"#d8576b\"], [0.6666666666666666, \"#ed7953\"], [0.7777777777777778, \"#fb9f3a\"], [0.8888888888888888, \"#fdca26\"], [1.0, \"#f0f921\"]], \"type\": \"histogram2d\"}], \"histogram2dcontour\": [{\"colorbar\": {\"outlinewidth\": 0, \"ticks\": \"\"}, \"colorscale\": [[0.0, \"#0d0887\"], [0.1111111111111111, \"#46039f\"], [0.2222222222222222, \"#7201a8\"], [0.3333333333333333, \"#9c179e\"], [0.4444444444444444, \"#bd3786\"], [0.5555555555555556, \"#d8576b\"], [0.6666666666666666, \"#ed7953\"], [0.7777777777777778, \"#fb9f3a\"], [0.8888888888888888, \"#fdca26\"], [1.0, \"#f0f921\"]], \"type\": \"histogram2dcontour\"}], \"mesh3d\": [{\"colorbar\": {\"outlinewidth\": 0, \"ticks\": \"\"}, \"type\": \"mesh3d\"}], \"parcoords\": [{\"line\": {\"colorbar\": {\"outlinewidth\": 0, \"ticks\": \"\"}}, \"type\": \"parcoords\"}], \"pie\": [{\"automargin\": true, \"type\": \"pie\"}], \"scatter\": [{\"marker\": {\"colorbar\": {\"outlinewidth\": 0, \"ticks\": \"\"}}, \"type\": \"scatter\"}], \"scatter3d\": [{\"line\": {\"colorbar\": {\"outlinewidth\": 0, \"ticks\": \"\"}}, \"marker\": {\"colorbar\": {\"outlinewidth\": 0, \"ticks\": \"\"}}, \"type\": \"scatter3d\"}], \"scattercarpet\": [{\"marker\": {\"colorbar\": {\"outlinewidth\": 0, \"ticks\": \"\"}}, \"type\": \"scattercarpet\"}], \"scattergeo\": [{\"marker\": {\"colorbar\": {\"outlinewidth\": 0, \"ticks\": \"\"}}, \"type\": \"scattergeo\"}], \"scattergl\": [{\"marker\": {\"colorbar\": {\"outlinewidth\": 0, \"ticks\": \"\"}}, \"type\": \"scattergl\"}], \"scattermapbox\": [{\"marker\": {\"colorbar\": {\"outlinewidth\": 0, \"ticks\": \"\"}}, \"type\": \"scattermapbox\"}], \"scatterpolar\": [{\"marker\": {\"colorbar\": {\"outlinewidth\": 0, \"ticks\": \"\"}}, \"type\": \"scatterpolar\"}], \"scatterpolargl\": [{\"marker\": {\"colorbar\": {\"outlinewidth\": 0, \"ticks\": \"\"}}, \"type\": \"scatterpolargl\"}], \"scatterternary\": [{\"marker\": {\"colorbar\": {\"outlinewidth\": 0, \"ticks\": \"\"}}, \"type\": \"scatterternary\"}], \"surface\": [{\"colorbar\": {\"outlinewidth\": 0, \"ticks\": \"\"}, \"colorscale\": [[0.0, \"#0d0887\"], [0.1111111111111111, \"#46039f\"], [0.2222222222222222, \"#7201a8\"], [0.3333333333333333, \"#9c179e\"], [0.4444444444444444, \"#bd3786\"], [0.5555555555555556, \"#d8576b\"], [0.6666666666666666, \"#ed7953\"], [0.7777777777777778, \"#fb9f3a\"], [0.8888888888888888, \"#fdca26\"], [1.0, \"#f0f921\"]], \"type\": \"surface\"}], \"table\": [{\"cells\": {\"fill\": {\"color\": \"#EBF0F8\"}, \"line\": {\"color\": \"white\"}}, \"header\": {\"fill\": {\"color\": \"#C8D4E3\"}, \"line\": {\"color\": \"white\"}}, \"type\": \"table\"}]}, \"layout\": {\"annotationdefaults\": {\"arrowcolor\": \"#2a3f5f\", \"arrowhead\": 0, \"arrowwidth\": 1}, \"coloraxis\": {\"colorbar\": {\"outlinewidth\": 0, \"ticks\": \"\"}}, \"colorscale\": {\"diverging\": [[0, \"#8e0152\"], [0.1, \"#c51b7d\"], [0.2, \"#de77ae\"], [0.3, \"#f1b6da\"], [0.4, \"#fde0ef\"], [0.5, \"#f7f7f7\"], [0.6, \"#e6f5d0\"], [0.7, \"#b8e186\"], [0.8, \"#7fbc41\"], [0.9, \"#4d9221\"], [1, \"#276419\"]], \"sequential\": [[0.0, \"#0d0887\"], [0.1111111111111111, \"#46039f\"], [0.2222222222222222, \"#7201a8\"], [0.3333333333333333, \"#9c179e\"], [0.4444444444444444, \"#bd3786\"], [0.5555555555555556, \"#d8576b\"], [0.6666666666666666, \"#ed7953\"], [0.7777777777777778, \"#fb9f3a\"], [0.8888888888888888, \"#fdca26\"], [1.0, \"#f0f921\"]], \"sequentialminus\": [[0.0, \"#0d0887\"], [0.1111111111111111, \"#46039f\"], [0.2222222222222222, \"#7201a8\"], [0.3333333333333333, \"#9c179e\"], [0.4444444444444444, \"#bd3786\"], [0.5555555555555556, \"#d8576b\"], [0.6666666666666666, \"#ed7953\"], [0.7777777777777778, \"#fb9f3a\"], [0.8888888888888888, \"#fdca26\"], [1.0, \"#f0f921\"]]}, \"colorway\": [\"#636efa\", \"#EF553B\", \"#00cc96\", \"#ab63fa\", \"#FFA15A\", \"#19d3f3\", \"#FF6692\", \"#B6E880\", \"#FF97FF\", \"#FECB52\"], \"font\": {\"color\": \"#2a3f5f\"}, \"geo\": {\"bgcolor\": \"white\", \"lakecolor\": \"white\", \"landcolor\": \"#E5ECF6\", \"showlakes\": true, \"showland\": true, \"subunitcolor\": \"white\"}, \"hoverlabel\": {\"align\": \"left\"}, \"hovermode\": \"closest\", \"mapbox\": {\"style\": \"light\"}, \"paper_bgcolor\": \"white\", \"plot_bgcolor\": \"#E5ECF6\", \"polar\": {\"angularaxis\": {\"gridcolor\": \"white\", \"linecolor\": \"white\", \"ticks\": \"\"}, \"bgcolor\": \"#E5ECF6\", \"radialaxis\": {\"gridcolor\": \"white\", \"linecolor\": \"white\", \"ticks\": \"\"}}, \"scene\": {\"xaxis\": {\"backgroundcolor\": \"#E5ECF6\", \"gridcolor\": \"white\", \"gridwidth\": 2, \"linecolor\": \"white\", \"showbackground\": true, \"ticks\": \"\", \"zerolinecolor\": \"white\"}, \"yaxis\": {\"backgroundcolor\": \"#E5ECF6\", \"gridcolor\": \"white\", \"gridwidth\": 2, \"linecolor\": \"white\", \"showbackground\": true, \"ticks\": \"\", \"zerolinecolor\": \"white\"}, \"zaxis\": {\"backgroundcolor\": \"#E5ECF6\", \"gridcolor\": \"white\", \"gridwidth\": 2, \"linecolor\": \"white\", \"showbackground\": true, \"ticks\": \"\", \"zerolinecolor\": \"white\"}}, \"shapedefaults\": {\"line\": {\"color\": \"#2a3f5f\"}}, \"ternary\": {\"aaxis\": {\"gridcolor\": \"white\", \"linecolor\": \"white\", \"ticks\": \"\"}, \"baxis\": {\"gridcolor\": \"white\", \"linecolor\": \"white\", \"ticks\": \"\"}, \"bgcolor\": \"#E5ECF6\", \"caxis\": {\"gridcolor\": \"white\", \"linecolor\": \"white\", \"ticks\": \"\"}}, \"title\": {\"x\": 0.05}, \"xaxis\": {\"automargin\": true, \"gridcolor\": \"white\", \"linecolor\": \"white\", \"ticks\": \"\", \"title\": {\"standoff\": 15}, \"zerolinecolor\": \"white\", \"zerolinewidth\": 2}, \"yaxis\": {\"automargin\": true, \"gridcolor\": \"white\", \"linecolor\": \"white\", \"ticks\": \"\", \"title\": {\"standoff\": 15}, \"zerolinecolor\": \"white\", \"zerolinewidth\": 2}}}, \"updatemenus\": [{\"buttons\": [{\"args\": [null, {\"frame\": {\"duration\": 500, \"redraw\": true}, \"fromcurrent\": true, \"mode\": \"immediate\", \"transition\": {\"duration\": 500, \"easing\": \"linear\"}}], \"label\": \"&#9654;\", \"method\": \"animate\"}, {\"args\": [[null], {\"frame\": {\"duration\": 0, \"redraw\": true}, \"fromcurrent\": true, \"mode\": \"immediate\", \"transition\": {\"duration\": 0, \"easing\": \"linear\"}}], \"label\": \"&#9724;\", \"method\": \"animate\"}], \"direction\": \"left\", \"pad\": {\"r\": 10, \"t\": 70}, \"showactive\": false, \"type\": \"buttons\", \"x\": 0.1, \"xanchor\": \"right\", \"y\": 0, \"yanchor\": \"top\"}]},\n",
       "                        {\"responsive\": true}\n",
       "                    ).then(function(){\n",
       "                            Plotly.addFrames('03fd79b2-eb95-4461-b758-d5a6143642c4', [{\"data\": [{\"geo\": \"geo\", \"hoverlabel\": {\"namelength\": 0}, \"hovertemplate\": \"<b>%{hovertext}</b><br><br>Date=2020-01-31 00:00:00<br>Log Confirmed=%{marker.size}<br>Country/Region=%{location}\", \"hovertext\": [\"Cambodia\", \"Finland\", \"India\", \"Italy\", \"Macau\", \"Mainland China\", \"Malaysia\", \"Nepal\", \"Russia\", \"Sri Lanka\", \"Taiwan\", \"Thailand\", \"United Arab Emirates\"], \"legendgroup\": \"\", \"locationmode\": \"country names\", \"locations\": [\"Cambodia\", \"Finland\", \"India\", \"Italy\", \"Macau\", \"Mainland China\", \"Malaysia\", \"Nepal\", \"Russia\", \"Sri Lanka\", \"Taiwan\", \"Thailand\", \"United Arab Emirates\"], \"marker\": {\"color\": \"#636efa\", \"size\": [1.0986122886681098, 1.0986122886681098, 0.6931471805599453, 1.6094379124341003, 2.0794415416798357, 3.4011973816621555, 2.833213344056216, 1.0986122886681098, 1.6094379124341003, 1.0986122886681098, 3.044522437723423, 3.6635616461296463, 1.6094379124341003], \"sizemode\": \"area\", \"sizeref\": 0.028217319611682782}, \"name\": \"\", \"showlegend\": false, \"type\": \"scattergeo\"}], \"name\": \"2020-01-31 00:00:00\"}, {\"data\": [{\"geo\": \"geo\", \"hoverlabel\": {\"namelength\": 0}, \"hovertemplate\": \"<b>%{hovertext}</b><br><br>Date=2020-02-01 00:00:00<br>Log Confirmed=%{marker.size}<br>Country/Region=%{location}\", \"hovertext\": [\"Australia\", \"Canada\", \"France\", \"Germany\", \"Hong Kong\", \"Japan\", \"Mainland China\", \"Philippines\", \"Singapore\", \"South Korea\", \"Spain\", \"Sweden\", \"UK\", \"US\", \"Vietnam\"], \"legendgroup\": \"\", \"locationmode\": \"country names\", \"locations\": [\"Australia\", \"Canada\", \"France\", \"Germany\", \"Hong Kong\", \"Japan\", \"Mainland China\", \"Philippines\", \"Singapore\", \"South Korea\", \"Spain\", \"Sweden\", \"UK\", \"US\", \"Vietnam\"], \"marker\": {\"color\": \"#636efa\", \"size\": [3.044522437723423, 2.1972245773362196, 2.5649493574615367, 2.1972245773362196, 2.6390573296152584, 3.713572066704308, 9.379576689221482, 0.6931471805599453, 2.833213344056216, 2.5649493574615367, 1.0986122886681098, 1.0986122886681098, 1.6094379124341003, 2.9444389791664403, 2.5649493574615367], \"sizemode\": \"area\", \"sizeref\": 0.028217319611682782}, \"name\": \"\", \"showlegend\": false, \"type\": \"scattergeo\"}], \"name\": \"2020-02-01 00:00:00\"}, {\"data\": [{\"geo\": \"geo\", \"hoverlabel\": {\"namelength\": 0}, \"hovertemplate\": \"<b>%{hovertext}</b><br><br>Date=2020-02-02 00:00:00<br>Log Confirmed=%{marker.size}<br>Country/Region=%{location}\", \"hovertext\": [\"Australia\", \"Germany\", \"Hong Kong\", \"India\", \"Macau\", \"Mainland China\", \"Philippines\", \"Singapore\", \"South Korea\", \"United Arab Emirates\"], \"legendgroup\": \"\", \"locationmode\": \"country names\", \"locations\": [\"Australia\", \"Germany\", \"Hong Kong\", \"India\", \"Macau\", \"Mainland China\", \"Philippines\", \"Singapore\", \"South Korea\", \"United Arab Emirates\"], \"marker\": {\"color\": \"#636efa\", \"size\": [1.6094379124341003, 2.3978952727983707, 2.772588722239781, 1.0986122886681098, 2.1972245773362196, 9.717579572206754, 1.0986122886681098, 2.9444389791664403, 2.772588722239781, 1.791759469228055], \"sizemode\": \"area\", \"sizeref\": 0.028217319611682782}, \"name\": \"\", \"showlegend\": false, \"type\": \"scattergeo\"}], \"name\": \"2020-02-02 00:00:00\"}, {\"data\": [{\"geo\": \"geo\", \"hoverlabel\": {\"namelength\": 0}, \"hovertemplate\": \"<b>%{hovertext}</b><br><br>Date=2020-02-03 00:00:00<br>Log Confirmed=%{marker.size}<br>Country/Region=%{location}\", \"hovertext\": [\"Germany\", \"India\", \"Mainland China\", \"US\", \"Vietnam\"], \"legendgroup\": \"\", \"locationmode\": \"country names\", \"locations\": [\"Germany\", \"India\", \"Mainland China\", \"US\", \"Vietnam\"], \"marker\": {\"color\": \"#636efa\", \"size\": [2.5649493574615367, 1.3862943611198906, 9.888018521632196, 1.9459101490553132, 2.1972245773362196], \"sizemode\": \"area\", \"sizeref\": 0.028217319611682782}, \"name\": \"\", \"showlegend\": false, \"type\": \"scattergeo\"}], \"name\": \"2020-02-03 00:00:00\"}, {\"data\": [{\"geo\": \"geo\", \"hoverlabel\": {\"namelength\": 0}, \"hovertemplate\": \"<b>%{hovertext}</b><br><br>Date=2020-02-04 00:00:00<br>Log Confirmed=%{marker.size}<br>Country/Region=%{location}\", \"hovertext\": [\"Australia\", \"Belgium\", \"Canada\", \"Hong Kong\", \"Japan\", \"Macau\", \"Mainland China\", \"Malaysia\", \"Singapore\", \"South Korea\", \"Taiwan\", \"Thailand\"], \"legendgroup\": \"\", \"locationmode\": \"country names\", \"locations\": [\"Australia\", \"Belgium\", \"Canada\", \"Hong Kong\", \"Japan\", \"Macau\", \"Mainland China\", \"Malaysia\", \"Singapore\", \"South Korea\", \"Taiwan\", \"Thailand\"], \"marker\": {\"color\": \"#636efa\", \"size\": [1.3862943611198906, 0.6931471805599453, 1.3862943611198906, 2.8903717578961645, 3.1354942159291497, 2.3978952727983707, 10.072386088997941, 2.3978952727983707, 3.2188758248682006, 2.833213344056216, 2.4849066497880004, 3.258096538021482], \"sizemode\": \"area\", \"sizeref\": 0.028217319611682782}, \"name\": \"\", \"showlegend\": false, \"type\": \"scattergeo\"}], \"name\": \"2020-02-04 00:00:00\"}, {\"data\": [{\"geo\": \"geo\", \"hoverlabel\": {\"namelength\": 0}, \"hovertemplate\": \"<b>%{hovertext}</b><br><br>Date=2020-02-05 00:00:00<br>Log Confirmed=%{marker.size}<br>Country/Region=%{location}\", \"hovertext\": [\"Canada\", \"Hong Kong\", \"Mainland China\", \"Malaysia\", \"Singapore\", \"South Korea\", \"US\"], \"legendgroup\": \"\", \"locationmode\": \"country names\", \"locations\": [\"Canada\", \"Hong Kong\", \"Mainland China\", \"Malaysia\", \"Singapore\", \"South Korea\", \"US\"], \"marker\": {\"color\": \"#636efa\", \"size\": [1.0986122886681098, 3.091042453358316, 10.217385467118802, 2.5649493574615367, 3.367295829986474, 2.995732273553991, 1.0986122886681098], \"sizemode\": \"area\", \"sizeref\": 0.028217319611682782}, \"name\": \"\", \"showlegend\": false, \"type\": \"scattergeo\"}], \"name\": \"2020-02-05 00:00:00\"}, {\"data\": [{\"geo\": \"geo\", \"hoverlabel\": {\"namelength\": 0}, \"hovertemplate\": \"<b>%{hovertext}</b><br><br>Date=2020-02-06 00:00:00<br>Log Confirmed=%{marker.size}<br>Country/Region=%{location}\", \"hovertext\": [\"Australia\", \"Hong Kong\", \"Japan\", \"Macau\", \"Mainland China\", \"South Korea\", \"Taiwan\", \"Vietnam\"], \"legendgroup\": \"\", \"locationmode\": \"country names\", \"locations\": [\"Australia\", \"Hong Kong\", \"Japan\", \"Macau\", \"Mainland China\", \"South Korea\", \"Taiwan\", \"Vietnam\"], \"marker\": {\"color\": \"#636efa\", \"size\": [2.1972245773362196, 3.2188758248682006, 3.828641396489095, 2.3978952727983707, 10.32518683708304, 3.1780538303479458, 2.833213344056216, 2.3978952727983707], \"sizemode\": \"area\", \"sizeref\": 0.028217319611682782}, \"name\": \"\", \"showlegend\": false, \"type\": \"scattergeo\"}], \"name\": \"2020-02-06 00:00:00\"}, {\"data\": [{\"geo\": \"geo\", \"hoverlabel\": {\"namelength\": 0}, \"hovertemplate\": \"<b>%{hovertext}</b><br><br>Date=2020-02-07 00:00:00<br>Log Confirmed=%{marker.size}<br>Country/Region=%{location}\", \"hovertext\": [\"Australia\", \"Canada\", \"Germany\", \"Hong Kong\", \"Italy\", \"Japan\", \"Mainland China\", \"Malaysia\", \"Others\", \"Philippines\", \"Singapore\", \"South Korea\", \"UK\"], \"legendgroup\": \"\", \"locationmode\": \"country names\", \"locations\": [\"Australia\", \"Canada\", \"Germany\", \"Hong Kong\", \"Italy\", \"Japan\", \"Mainland China\", \"Malaysia\", \"Others\", \"Philippines\", \"Singapore\", \"South Korea\", \"UK\"], \"marker\": {\"color\": \"#636efa\", \"size\": [1.791759469228055, 1.6094379124341003, 2.6390573296152584, 3.258096538021482, 1.3862943611198906, 3.258096538021482, 10.435790870478348, 2.5649493574615367, 4.127134385045092, 1.3862943611198906, 3.4339872044851463, 3.2188758248682006, 1.3862943611198906], \"sizemode\": \"area\", \"sizeref\": 0.028217319611682782}, \"name\": \"\", \"showlegend\": false, \"type\": \"scattergeo\"}], \"name\": \"2020-02-07 00:00:00\"}, {\"data\": [{\"geo\": \"geo\", \"hoverlabel\": {\"namelength\": 0}, \"hovertemplate\": \"<b>%{hovertext}</b><br><br>Date=2020-02-08 00:00:00<br>Log Confirmed=%{marker.size}<br>Country/Region=%{location}\", \"hovertext\": [\"France\", \"Hong Kong\", \"Mainland China\", \"Malaysia\", \"Singapore\", \"Sri Lanka\", \"Taiwan\", \"Thailand\", \"United Arab Emirates\", \"Vietnam\"], \"legendgroup\": \"\", \"locationmode\": \"country names\", \"locations\": [\"France\", \"Hong Kong\", \"Mainland China\", \"Malaysia\", \"Singapore\", \"Sri Lanka\", \"Taiwan\", \"Thailand\", \"United Arab Emirates\", \"Vietnam\"], \"marker\": {\"color\": \"#636efa\", \"size\": [2.4849066497880004, 3.295836866004329, 10.512165576469624, 2.833213344056216, 3.5263605246161616, 1.0986122886681098, 2.8903717578961645, 3.4965075614664802, 2.0794415416798357, 2.6390573296152584], \"sizemode\": \"area\", \"sizeref\": 0.028217319611682782}, \"name\": \"\", \"showlegend\": false, \"type\": \"scattergeo\"}], \"name\": \"2020-02-08 00:00:00\"}, {\"data\": [{\"geo\": \"geo\", \"hoverlabel\": {\"namelength\": 0}, \"hovertemplate\": \"<b>%{hovertext}</b><br><br>Date=2020-02-09 00:00:00<br>Log Confirmed=%{marker.size}<br>Country/Region=%{location}\", \"hovertext\": [\"Australia\", \"Germany\", \"Hong Kong\", \"Japan\", \"Mainland China\", \"Others\", \"Singapore\", \"South Korea\", \"Spain\", \"Taiwan\", \"US\"], \"legendgroup\": \"\", \"locationmode\": \"country names\", \"locations\": [\"Australia\", \"Germany\", \"Hong Kong\", \"Japan\", \"Mainland China\", \"Others\", \"Singapore\", \"South Korea\", \"Spain\", \"Taiwan\", \"US\"], \"marker\": {\"color\": \"#636efa\", \"size\": [1.791759469228055, 2.70805020110221, 3.4011973816621555, 3.295836866004329, 10.590918426099964, 4.174387269895637, 3.713572066704308, 3.258096538021482, 1.0986122886681098, 2.9444389791664403, 1.3862943611198906], \"sizemode\": \"area\", \"sizeref\": 0.028217319611682782}, \"name\": \"\", \"showlegend\": false, \"type\": \"scattergeo\"}], \"name\": \"2020-02-09 00:00:00\"}, {\"data\": [{\"geo\": \"geo\", \"hoverlabel\": {\"namelength\": 0}, \"hovertemplate\": \"<b>%{hovertext}</b><br><br>Date=2020-02-10 00:00:00<br>Log Confirmed=%{marker.size}<br>Country/Region=%{location}\", \"hovertext\": [\"Hong Kong\", \"Japan\", \"Mainland China\", \"Malaysia\", \"Others\", \"Singapore\", \"South Korea\", \"UK\", \"United Arab Emirates\", \"Vietnam\"], \"legendgroup\": \"\", \"locationmode\": \"country names\", \"locations\": [\"Hong Kong\", \"Japan\", \"Mainland China\", \"Malaysia\", \"Others\", \"Singapore\", \"South Korea\", \"UK\", \"United Arab Emirates\", \"Vietnam\"], \"marker\": {\"color\": \"#636efa\", \"size\": [3.6635616461296463, 3.295836866004329, 10.649440632919003, 2.9444389791664403, 4.912654885736052, 3.828641396489095, 3.332204510175204, 2.1972245773362196, 2.1972245773362196, 2.70805020110221], \"sizemode\": \"area\", \"sizeref\": 0.028217319611682782}, \"name\": \"\", \"showlegend\": false, \"type\": \"scattergeo\"}], \"name\": \"2020-02-10 00:00:00\"}, {\"data\": [{\"geo\": \"geo\", \"hoverlabel\": {\"namelength\": 0}, \"hovertemplate\": \"<b>%{hovertext}</b><br><br>Date=2020-02-11 00:00:00<br>Log Confirmed=%{marker.size}<br>Country/Region=%{location}\", \"hovertext\": [\"Germany\", \"Hong Kong\", \"Japan\", \"Mainland China\", \"Malaysia\", \"Singapore\", \"South Korea\", \"Thailand\", \"US\", \"Vietnam\"], \"legendgroup\": \"\", \"locationmode\": \"country names\", \"locations\": [\"Germany\", \"Hong Kong\", \"Japan\", \"Mainland China\", \"Malaysia\", \"Singapore\", \"South Korea\", \"Thailand\", \"US\", \"Vietnam\"], \"marker\": {\"color\": \"#636efa\", \"size\": [2.833213344056216, 3.912023005428146, 3.295836866004329, 10.698039936810567, 2.9444389791664403, 3.871201010907891, 3.367295829986474, 3.5263605246161616, 0.6931471805599453, 2.772588722239781], \"sizemode\": \"area\", \"sizeref\": 0.028217319611682782}, \"name\": \"\", \"showlegend\": false, \"type\": \"scattergeo\"}], \"name\": \"2020-02-11 00:00:00\"}, {\"data\": [{\"geo\": \"geo\", \"hoverlabel\": {\"namelength\": 0}, \"hovertemplate\": \"<b>%{hovertext}</b><br><br>Date=2020-02-12 00:00:00<br>Log Confirmed=%{marker.size}<br>Country/Region=%{location}\", \"hovertext\": [\"Cambodia\", \"Canada\", \"Finland\", \"France\", \"Hong Kong\", \"Japan\", \"Macau\", \"Mainland China\", \"Nepal\", \"Others\", \"Philippines\", \"Russia\", \"Singapore\", \"South Korea\", \"UK\", \"United Arab Emirates\"], \"legendgroup\": \"\", \"locationmode\": \"country names\", \"locations\": [\"Cambodia\", \"Canada\", \"Finland\", \"France\", \"Hong Kong\", \"Japan\", \"Macau\", \"Mainland China\", \"Nepal\", \"Others\", \"Philippines\", \"Russia\", \"Singapore\", \"South Korea\", \"UK\", \"United Arab Emirates\"], \"marker\": {\"color\": \"#636efa\", \"size\": [1.0986122886681098, 1.0986122886681098, 0.6931471805599453, 2.4849066497880004, 3.9318256327243257, 3.367295829986474, 2.3978952727983707, 10.707751151716078, 1.0986122886681098, 5.170483995038151, 1.9459101490553132, 1.6094379124341003, 3.9318256327243257, 3.367295829986474, 2.302585092994046, 2.1972245773362196], \"sizemode\": \"area\", \"sizeref\": 0.028217319611682782}, \"name\": \"\", \"showlegend\": false, \"type\": \"scattergeo\"}], \"name\": \"2020-02-12 00:00:00\"}, {\"data\": [{\"geo\": \"geo\", \"hoverlabel\": {\"namelength\": 0}, \"hovertemplate\": \"<b>%{hovertext}</b><br><br>Date=2020-02-13 00:00:00<br>Log Confirmed=%{marker.size}<br>Country/Region=%{location}\", \"hovertext\": [\"Australia\", \"Germany\", \"Hong Kong\", \"India\", \"Japan\", \"Macau\", \"Mainland China\", \"Malaysia\", \"Singapore\", \"Thailand\", \"US\", \"Vietnam\"], \"legendgroup\": \"\", \"locationmode\": \"country names\", \"locations\": [\"Australia\", \"Germany\", \"Hong Kong\", \"India\", \"Japan\", \"Macau\", \"Mainland China\", \"Malaysia\", \"Singapore\", \"Thailand\", \"US\", \"Vietnam\"], \"marker\": {\"color\": \"#636efa\", \"size\": [2.1972245773362196, 2.833213344056216, 3.9889840465642745, 1.3862943611198906, 3.367295829986474, 2.3978952727983707, 10.999295913871503, 2.995732273553991, 4.07753744390572, 3.5263605246161616, 1.6094379124341003, 2.833213344056216], \"sizemode\": \"area\", \"sizeref\": 0.028217319611682782}, \"name\": \"\", \"showlegend\": false, \"type\": \"scattergeo\"}], \"name\": \"2020-02-13 00:00:00\"}, {\"data\": [{\"geo\": \"geo\", \"hoverlabel\": {\"namelength\": 0}, \"hovertemplate\": \"<b>%{hovertext}</b><br><br>Date=2020-02-14 00:00:00<br>Log Confirmed=%{marker.size}<br>Country/Region=%{location}\", \"hovertext\": [\"Egypt\", \"Hong Kong\", \"Japan\", \"Mainland China\", \"Others\", \"Singapore\", \"Taiwan\"], \"legendgroup\": \"\", \"locationmode\": \"country names\", \"locations\": [\"Egypt\", \"Hong Kong\", \"Japan\", \"Mainland China\", \"Others\", \"Singapore\", \"Taiwan\"], \"marker\": {\"color\": \"#636efa\", \"size\": [0.6931471805599453, 4.04305126783455, 3.4011973816621555, 11.100194020870019, 5.389071729816501, 4.219507705176107, 2.9444389791664403], \"sizemode\": \"area\", \"sizeref\": 0.028217319611682782}, \"name\": \"\", \"showlegend\": false, \"type\": \"scattergeo\"}], \"name\": \"2020-02-14 00:00:00\"}, {\"data\": [{\"geo\": \"geo\", \"hoverlabel\": {\"namelength\": 0}, \"hovertemplate\": \"<b>%{hovertext}</b><br><br>Date=2020-02-15 00:00:00<br>Log Confirmed=%{marker.size}<br>Country/Region=%{location}\", \"hovertext\": [\"France\", \"Japan\", \"Mainland China\", \"Malaysia\", \"Others\", \"Singapore\", \"South Korea\", \"Spain\", \"Taiwan\", \"United Arab Emirates\"], \"legendgroup\": \"\", \"locationmode\": \"country names\", \"locations\": [\"France\", \"Japan\", \"Mainland China\", \"Malaysia\", \"Others\", \"Singapore\", \"South Korea\", \"Spain\", \"Taiwan\", \"United Arab Emirates\"], \"marker\": {\"color\": \"#636efa\", \"size\": [2.5649493574615367, 3.784189633918261, 11.132352949455102, 3.1354942159291497, 5.655991810819852, 4.290459441148391, 3.367295829986474, 1.0986122886681098, 2.9444389791664403, 2.1972245773362196], \"sizemode\": \"area\", \"sizeref\": 0.028217319611682782}, \"name\": \"\", \"showlegend\": false, \"type\": \"scattergeo\"}], \"name\": \"2020-02-15 00:00:00\"}, {\"data\": [{\"geo\": \"geo\", \"hoverlabel\": {\"namelength\": 0}, \"hovertemplate\": \"<b>%{hovertext}</b><br><br>Date=2020-02-16 00:00:00<br>Log Confirmed=%{marker.size}<br>Country/Region=%{location}\", \"hovertext\": [\"Hong Kong\", \"India\", \"Japan\", \"Macau\", \"Mainland China\", \"Others\", \"Singapore\", \"South Korea\", \"Taiwan\", \"Thailand\", \"UK\", \"United Arab Emirates\"], \"legendgroup\": \"\", \"locationmode\": \"country names\", \"locations\": [\"Hong Kong\", \"India\", \"Japan\", \"Macau\", \"Mainland China\", \"Others\", \"Singapore\", \"South Korea\", \"Taiwan\", \"Thailand\", \"UK\", \"United Arab Emirates\"], \"marker\": {\"color\": \"#636efa\", \"size\": [4.060443010546419, 1.9459101490553132, 4.0943445622221, 2.3978952727983707, 11.161351773205874, 5.87493073085203, 4.330733340286331, 3.4011973816621555, 3.044522437723423, 3.5553480614894135, 2.302585092994046, 2.302585092994046], \"sizemode\": \"area\", \"sizeref\": 0.028217319611682782}, \"name\": \"\", \"showlegend\": false, \"type\": \"scattergeo\"}], \"name\": \"2020-02-16 00:00:00\"}, {\"data\": [{\"geo\": \"geo\", \"hoverlabel\": {\"namelength\": 0}, \"hovertemplate\": \"<b>%{hovertext}</b><br><br>Date=2020-02-17 00:00:00<br>Log Confirmed=%{marker.size}<br>Country/Region=%{location}\", \"hovertext\": [\"Australia\", \"Belgium\", \"Canada\", \"Hong Kong\", \"Japan\", \"Mainland China\", \"Others\", \"Singapore\", \"South Korea\", \"Taiwan\", \"Thailand\"], \"legendgroup\": \"\", \"locationmode\": \"country names\", \"locations\": [\"Australia\", \"Belgium\", \"Canada\", \"Hong Kong\", \"Japan\", \"Mainland China\", \"Others\", \"Singapore\", \"South Korea\", \"Taiwan\", \"Thailand\"], \"marker\": {\"color\": \"#636efa\", \"size\": [1.0986122886681098, 0.6931471805599453, 1.791759469228055, 4.110873864173311, 4.204692619390966, 11.189215443730982, 6.12029741895095, 4.356708826689592, 3.4339872044851463, 3.1354942159291497, 3.58351893845611], \"sizemode\": \"area\", \"sizeref\": 0.028217319611682782}, \"name\": \"\", \"showlegend\": false, \"type\": \"scattergeo\"}], \"name\": \"2020-02-17 00:00:00\"}, {\"data\": [{\"geo\": \"geo\", \"hoverlabel\": {\"namelength\": 0}, \"hovertemplate\": \"<b>%{hovertext}</b><br><br>Date=2020-02-18 00:00:00<br>Log Confirmed=%{marker.size}<br>Country/Region=%{location}\", \"hovertext\": [\"Germany\", \"Hong Kong\", \"Japan\", \"Mainland China\", \"Malaysia\", \"Others\", \"Singapore\", \"South Korea\"], \"legendgroup\": \"\", \"locationmode\": \"country names\", \"locations\": [\"Germany\", \"Hong Kong\", \"Japan\", \"Mainland China\", \"Malaysia\", \"Others\", \"Singapore\", \"South Korea\"], \"marker\": {\"color\": \"#636efa\", \"size\": [2.833213344056216, 4.143134726391533, 4.31748811353631, 11.213696988618075, 3.1354942159291497, 6.297109319933935, 4.406719247264253, 3.4657359027997265], \"sizemode\": \"area\", \"sizeref\": 0.028217319611682782}, \"name\": \"\", \"showlegend\": false, \"type\": \"scattergeo\"}], \"name\": \"2020-02-18 00:00:00\"}, {\"data\": [{\"geo\": \"geo\", \"hoverlabel\": {\"namelength\": 0}, \"hovertemplate\": \"<b>%{hovertext}</b><br><br>Date=2020-02-19 00:00:00<br>Log Confirmed=%{marker.size}<br>Country/Region=%{location}\", \"hovertext\": [\"Hong Kong\", \"Iran\", \"Japan\", \"Mainland China\", \"Malaysia\", \"Others\", \"Singapore\", \"Taiwan\"], \"legendgroup\": \"\", \"locationmode\": \"country names\", \"locations\": [\"Hong Kong\", \"Iran\", \"Japan\", \"Mainland China\", \"Malaysia\", \"Others\", \"Singapore\", \"Taiwan\"], \"marker\": {\"color\": \"#636efa\", \"size\": [4.1588830833596715, 1.0986122886681098, 4.442651256490317, 11.219171663488467, 3.1354942159291497, 6.432940092739179, 4.442651256490317, 3.1780538303479458], \"sizemode\": \"area\", \"sizeref\": 0.028217319611682782}, \"name\": \"\", \"showlegend\": false, \"type\": \"scattergeo\"}], \"name\": \"2020-02-19 00:00:00\"}, {\"data\": [{\"geo\": \"geo\", \"hoverlabel\": {\"namelength\": 0}, \"hovertemplate\": \"<b>%{hovertext}</b><br><br>Date=2020-02-20 00:00:00<br>Log Confirmed=%{marker.size}<br>Country/Region=%{location}\", \"hovertext\": [\"Hong Kong\", \"Iran\", \"Japan\", \"Macau\", \"Mainland China\", \"Others\", \"South Korea\", \"Taiwan\"], \"legendgroup\": \"\", \"locationmode\": \"country names\", \"locations\": [\"Hong Kong\", \"Iran\", \"Japan\", \"Macau\", \"Mainland China\", \"Others\", \"South Korea\", \"Taiwan\"], \"marker\": {\"color\": \"#636efa\", \"size\": [4.23410650459726, 1.791759469228055, 4.553876891600541, 2.3978952727983707, 11.224990027090804, 6.453624998892692, 4.653960350157523, 3.2188758248682006], \"sizemode\": \"area\", \"sizeref\": 0.028217319611682782}, \"name\": \"\", \"showlegend\": false, \"type\": \"scattergeo\"}], \"name\": \"2020-02-20 00:00:00\"}, {\"data\": [{\"geo\": \"geo\", \"hoverlabel\": {\"namelength\": 0}, \"hovertemplate\": \"<b>%{hovertext}</b><br><br>Date=2020-02-21 00:00:00<br>Log Confirmed=%{marker.size}<br>Country/Region=%{location}\", \"hovertext\": [\"Australia\", \"Canada\", \"Egypt\", \"Germany\", \"Hong Kong\", \"Iran\", \"Israel\", \"Italy\", \"Japan\", \"Lebanon\", \"Mainland China\", \"Singapore\", \"South Korea\", \"Taiwan\", \"Thailand\", \"US\", \"Vietnam\"], \"legendgroup\": \"\", \"locationmode\": \"country names\", \"locations\": [\"Australia\", \"Canada\", \"Egypt\", \"Germany\", \"Hong Kong\", \"Iran\", \"Israel\", \"Italy\", \"Japan\", \"Lebanon\", \"Mainland China\", \"Singapore\", \"South Korea\", \"Taiwan\", \"Thailand\", \"US\", \"Vietnam\"], \"marker\": {\"color\": \"#636efa\", \"size\": [2.302585092994046, 2.1972245773362196, 0.6931471805599453, 2.833213344056216, 4.23410650459726, 2.9444389791664403, 0.6931471805599453, 3.044522437723423, 4.663439094112067, 0.6931471805599453, 11.23175547613367, 4.454347296253507, 5.3230099791384085, 3.295836866004329, 3.58351893845611, 3.332204510175204, 2.833213344056216], \"sizemode\": \"area\", \"sizeref\": 0.028217319611682782}, \"name\": \"\", \"showlegend\": false, \"type\": \"scattergeo\"}], \"name\": \"2020-02-21 00:00:00\"}, {\"data\": [{\"geo\": \"geo\", \"hoverlabel\": {\"namelength\": 0}, \"hovertemplate\": \"<b>%{hovertext}</b><br><br>Date=2020-02-22 00:00:00<br>Log Confirmed=%{marker.size}<br>Country/Region=%{location}\", \"hovertext\": [\"Australia\", \"Hong Kong\", \"Iran\", \"Israel\", \"Italy\", \"Japan\", \"Lebanon\", \"Mainland China\", \"South Korea\", \"US\", \"United Arab Emirates\"], \"legendgroup\": \"\", \"locationmode\": \"country names\", \"locations\": [\"Australia\", \"Hong Kong\", \"Iran\", \"Israel\", \"Italy\", \"Japan\", \"Lebanon\", \"Mainland China\", \"South Korea\", \"US\", \"United Arab Emirates\"], \"marker\": {\"color\": \"#636efa\", \"size\": [2.0794415416798357, 4.248495242049359, 3.367295829986474, 0.6931471805599453, 4.143134726391533, 4.812184355372417, 0.6931471805599453, 11.24820442548896, 6.073044534100405, 2.9444389791664403, 2.6390573296152584], \"sizemode\": \"area\", \"sizeref\": 0.028217319611682782}, \"name\": \"\", \"showlegend\": false, \"type\": \"scattergeo\"}], \"name\": \"2020-02-22 00:00:00\"}, {\"data\": [{\"geo\": \"geo\", \"hoverlabel\": {\"namelength\": 0}, \"hovertemplate\": \"<b>%{hovertext}</b><br><br>Date=2020-02-23 00:00:00<br>Log Confirmed=%{marker.size}<br>Country/Region=%{location}\", \"hovertext\": [\"Hong Kong\", \"Iran\", \"Iraq\", \"Italy\", \"Japan\", \"Mainland China\", \"Others\", \"Singapore\", \"South Korea\", \"Taiwan\", \"Thailand\"], \"legendgroup\": \"\", \"locationmode\": \"country names\", \"locations\": [\"Hong Kong\", \"Iran\", \"Iraq\", \"Italy\", \"Japan\", \"Mainland China\", \"Others\", \"Singapore\", \"South Korea\", \"Taiwan\", \"Thailand\"], \"marker\": {\"color\": \"#636efa\", \"size\": [4.31748811353631, 3.784189633918261, 0.0, 5.049856007249537, 4.997212273764115, 11.250521199702716, 6.539585955617669, 4.499809670330265, 6.401917196727186, 3.367295829986474, 3.58351893845611], \"sizemode\": \"area\", \"sizeref\": 0.028217319611682782}, \"name\": \"\", \"showlegend\": false, \"type\": \"scattergeo\"}], \"name\": \"2020-02-23 00:00:00\"}, {\"data\": [{\"geo\": \"geo\", \"hoverlabel\": {\"namelength\": 0}, \"hovertemplate\": \"<b>%{hovertext}</b><br><br>Date=2020-02-24 00:00:00<br>Log Confirmed=%{marker.size}<br>Country/Region=%{location}\", \"hovertext\": [\"Afghanistan\", \"Bahrain\", \"Canada\", \"Hong Kong\", \"Iran\", \"Iraq\", \"Italy\", \"Japan\", \"Kuwait\", \"Mainland China\", \"Malaysia\", \"Oman\", \"South Korea\", \"Taiwan\", \"UK\", \"US\"], \"legendgroup\": \"\", \"locationmode\": \"country names\", \"locations\": [\"Afghanistan\", \"Bahrain\", \"Canada\", \"Hong Kong\", \"Iran\", \"Iraq\", \"Italy\", \"Japan\", \"Kuwait\", \"Mainland China\", \"Malaysia\", \"Oman\", \"South Korea\", \"Taiwan\", \"UK\", \"US\"], \"marker\": {\"color\": \"#636efa\", \"size\": [1.0986122886681098, 0.6931471805599453, 1.3862943611198906, 4.382026634673881, 4.127134385045092, 0.6931471805599453, 5.438079308923196, 5.075173815233827, 0.6931471805599453, 11.251404844535015, 3.1354942159291497, 1.0986122886681098, 6.726233402358747, 3.4339872044851463, 2.6390573296152584, 3.6109179126442243], \"sizemode\": \"area\", \"sizeref\": 0.028217319611682782}, \"name\": \"\", \"showlegend\": false, \"type\": \"scattergeo\"}], \"name\": \"2020-02-24 00:00:00\"}, {\"data\": [{\"geo\": \"geo\", \"hoverlabel\": {\"namelength\": 0}, \"hovertemplate\": \"<b>%{hovertext}</b><br><br>Date=2020-02-25 00:00:00<br>Log Confirmed=%{marker.size}<br>Country/Region=%{location}\", \"hovertext\": [\"Algeria\", \"Austria\", \"Bahrain\", \"Canada\", \"Croatia\", \"France\", \"Germany\", \"Hong Kong\", \"Iran\", \"Italy\", \"Japan\", \"Kuwait\", \"Macau\", \"Mainland China\", \"Oman\", \"Singapore\", \"South Korea\", \"Spain\", \"Switzerland\", \"Taiwan\", \"Thailand\", \"US\", \"Vietnam\"], \"legendgroup\": \"\", \"locationmode\": \"country names\", \"locations\": [\"Algeria\", \"Austria\", \"Bahrain\", \"Canada\", \"Croatia\", \"France\", \"Germany\", \"Hong Kong\", \"Iran\", \"Italy\", \"Japan\", \"Kuwait\", \"Macau\", \"Mainland China\", \"Oman\", \"Singapore\", \"South Korea\", \"Spain\", \"Switzerland\", \"Taiwan\", \"Thailand\", \"US\", \"Vietnam\"], \"marker\": {\"color\": \"#636efa\", \"size\": [1.0986122886681098, 1.0986122886681098, 3.1780538303479458, 2.0794415416798357, 0.6931471805599453, 2.70805020110221, 2.8903717578961645, 4.442651256490317, 4.564348191467836, 5.777652323222656, 5.14166355650266, 2.4849066497880004, 2.3978952727983707, 11.25771058265595, 1.0986122886681098, 4.5217885770490405, 6.885509670034818, 1.9459101490553132, 0.6931471805599453, 3.4657359027997265, 3.6375861597263857, 3.6635616461296463, 3.4965075614664802], \"sizemode\": \"area\", \"sizeref\": 0.028217319611682782}, \"name\": \"\", \"showlegend\": false, \"type\": \"scattergeo\"}], \"name\": \"2020-02-25 00:00:00\"}, {\"data\": [{\"geo\": \"geo\", \"hoverlabel\": {\"namelength\": 0}, \"hovertemplate\": \"<b>%{hovertext}</b><br><br>Date=2020-02-26 00:00:00<br>Log Confirmed=%{marker.size}<br>Country/Region=%{location}\", \"hovertext\": [\"Austria\", \"Bahrain\", \"Brazil\", \"Croatia\", \"Finland\", \"France\", \"Georgia\", \"Germany\", \"Greece\", \"Hong Kong\", \"Iran\", \"Iraq\", \"Israel\", \"Italy\", \"Japan\", \"Kuwait\", \"Lebanon\", \"Mainland China\", \"North Macedonia\", \"Norway\", \"Oman\", \"Others\", \"Pakistan\", \"Romania\", \"Singapore\", \"South Korea\", \"Spain\", \"Sweden\", \"Taiwan\", \"Thailand\", \"US\"], \"legendgroup\": \"\", \"locationmode\": \"country names\", \"locations\": [\"Austria\", \"Bahrain\", \"Brazil\", \"Croatia\", \"Finland\", \"France\", \"Georgia\", \"Germany\", \"Greece\", \"Hong Kong\", \"Iran\", \"Iraq\", \"Israel\", \"Italy\", \"Japan\", \"Kuwait\", \"Lebanon\", \"Mainland China\", \"North Macedonia\", \"Norway\", \"Oman\", \"Others\", \"Pakistan\", \"Romania\", \"Singapore\", \"South Korea\", \"Spain\", \"Sweden\", \"Taiwan\", \"Thailand\", \"US\"], \"marker\": {\"color\": \"#636efa\", \"size\": [1.0986122886681098, 3.5263605246161616, 0.6931471805599453, 1.3862943611198906, 1.0986122886681098, 2.9444389791664403, 0.6931471805599453, 3.332204510175204, 0.6931471805599453, 4.5217885770490405, 4.941642422609304, 1.791759469228055, 1.0986122886681098, 6.118097198041348, 5.247024072160486, 3.295836866004329, 1.0986122886681098, 11.263194068746921, 0.6931471805599453, 0.6931471805599453, 1.6094379124341003, 6.559615237493242, 1.0986122886681098, 0.6931471805599453, 4.543294782270004, 7.140453043101158, 2.6390573296152584, 1.0986122886681098, 3.4965075614664802, 3.713572066704308, 3.7612001156935624], \"sizemode\": \"area\", \"sizeref\": 0.028217319611682782}, \"name\": \"\", \"showlegend\": false, \"type\": \"scattergeo\"}], \"name\": \"2020-02-26 00:00:00\"}, {\"data\": [{\"geo\": \"geo\", \"hoverlabel\": {\"namelength\": 0}, \"hovertemplate\": \"<b>%{hovertext}</b><br><br>Date=2020-02-27 00:00:00<br>Log Confirmed=%{marker.size}<br>Country/Region=%{location}\", \"hovertext\": [\"Australia\", \"Austria\", \"Canada\", \"Denmark\", \"Estonia\", \"France\", \"Georgia\", \"Germany\", \"Greece\", \"Hong Kong\", \"Iran\", \"Iraq\", \"Israel\", \"Italy\", \"Japan\", \"Kuwait\", \"Macau\", \"Mainland China\", \"Malaysia\", \"Netherlands\", \"North Macedonia\", \"Norway\", \"Romania\", \"San Marino\", \"South Korea\", \"Spain\", \"Sweden\", \"Switzerland\", \"UK\", \"US\"], \"legendgroup\": \"\", \"locationmode\": \"country names\", \"locations\": [\"Australia\", \"Austria\", \"Canada\", \"Denmark\", \"Estonia\", \"France\", \"Georgia\", \"Germany\", \"Greece\", \"Hong Kong\", \"Iran\", \"Iraq\", \"Israel\", \"Italy\", \"Japan\", \"Kuwait\", \"Macau\", \"Mainland China\", \"Malaysia\", \"Netherlands\", \"North Macedonia\", \"Norway\", \"Romania\", \"San Marino\", \"South Korea\", \"Spain\", \"Sweden\", \"Switzerland\", \"UK\", \"US\"], \"marker\": {\"color\": \"#636efa\", \"size\": [2.1972245773362196, 1.3862943611198906, 2.5649493574615367, 0.6931471805599453, 1.0986122886681098, 3.6635616461296463, 0.6931471805599453, 3.8501476017100584, 1.3862943611198906, 4.532599493153256, 5.5053315359323625, 2.0794415416798357, 1.3862943611198906, 6.486160788944089, 5.3706380281276624, 3.784189633918261, 3.044522437723423, 11.271299664277132, 3.1780538303479458, 0.6931471805599453, 1.0986122886681098, 0.6931471805599453, 0.6931471805599453, 0.6931471805599453, 7.4770384723196965, 2.772588722239781, 2.0794415416798357, 2.1972245773362196, 2.772588722239781, 1.6094379124341003], \"sizemode\": \"area\", \"sizeref\": 0.028217319611682782}, \"name\": \"\", \"showlegend\": false, \"type\": \"scattergeo\"}], \"name\": \"2020-02-27 00:00:00\"}, {\"data\": [{\"geo\": \"geo\", \"hoverlabel\": {\"namelength\": 0}, \"hovertemplate\": \"<b>%{hovertext}</b><br><br>Date=2020-02-28 00:00:00<br>Log Confirmed=%{marker.size}<br>Country/Region=%{location}\", \"hovertext\": [\" Azerbaijan\", \"Bahrain\", \"Belarus\", \"Canada\", \"Croatia\", \"Egypt\", \"France\", \"Germany\", \"Greece\", \"Hong Kong\", \"Iceland\", \"Iran\", \"Israel\", \"Italy\", \"Japan\", \"Kuwait\", \"Lithuania\", \"Mainland China\", \"Mexico\", \"Netherlands\", \"New Zealand\", \"Nigeria\", \"North Ireland\", \"Norway\", \"Others\", \"Romania\", \"South Korea\", \"Spain\", \"Taiwan\", \"Thailand\", \"UK\", \"US\", \"United Arab Emirates\"], \"legendgroup\": \"\", \"locationmode\": \"country names\", \"locations\": [\" Azerbaijan\", \"Bahrain\", \"Belarus\", \"Canada\", \"Croatia\", \"Egypt\", \"France\", \"Germany\", \"Greece\", \"Hong Kong\", \"Iceland\", \"Iran\", \"Israel\", \"Italy\", \"Japan\", \"Kuwait\", \"Lithuania\", \"Mainland China\", \"Mexico\", \"Netherlands\", \"New Zealand\", \"Nigeria\", \"North Ireland\", \"Norway\", \"Others\", \"Romania\", \"South Korea\", \"Spain\", \"Taiwan\", \"Thailand\", \"UK\", \"US\", \"United Arab Emirates\"], \"marker\": {\"color\": \"#636efa\", \"size\": [0.6931471805599453, 3.6109179126442243, 1.0986122886681098, 1.0986122886681098, 1.791759469228055, 0.6931471805599453, 4.060443010546419, 3.8918202981106265, 1.6094379124341003, 4.553876891600541, 0.6931471805599453, 5.963579343618446, 1.6094379124341003, 6.790097235513905, 5.43372200355424, 4.51085950651685, 1.0986122886681098, 11.268698716780495, 0.6931471805599453, 0.6931471805599453, 1.0986122886681098, 1.0986122886681098, 0.6931471805599453, 1.9459101490553132, 6.559615237493242, 1.9459101490553132, 7.757051142032013, 3.4965075614664802, 3.5553480614894135, 3.7376696182833684, 3.044522437723423, 4.51085950651685, 2.995732273553991], \"sizemode\": \"area\", \"sizeref\": 0.028217319611682782}, \"name\": \"\", \"showlegend\": false, \"type\": \"scattergeo\"}], \"name\": \"2020-02-28 00:00:00\"}, {\"data\": [{\"geo\": \"geo\", \"hoverlabel\": {\"namelength\": 0}, \"hovertemplate\": \"<b>%{hovertext}</b><br><br>Date=2020-02-29 00:00:00<br>Log Confirmed=%{marker.size}<br>Country/Region=%{location}\", \"hovertext\": [\"Australia\", \"Austria\", \"Bahrain\", \"Brazil\", \"Canada\", \"Croatia\", \"Denmark\", \"Finland\", \"France\", \"Germany\", \"Hong Kong\", \"Iceland\", \"Iran\", \"Iraq\", \"Ireland\", \"Israel\", \"Italy\", \"Japan\", \"Lebanon\", \"Luxembourg\", \"Mainland China\", \"Malaysia\", \"Mexico\", \"Monaco\", \"Netherlands\", \"Norway\", \"Oman\", \"Others\", \"Pakistan\", \"Qatar\", \"Singapore\", \"South Korea\", \"Spain\", \"Sweden\", \"Switzerland\", \"Taiwan\", \"Thailand\", \"UK\", \"US\", \"United Arab Emirates\"], \"legendgroup\": \"\", \"locationmode\": \"country names\", \"locations\": [\"Australia\", \"Austria\", \"Bahrain\", \"Brazil\", \"Canada\", \"Croatia\", \"Denmark\", \"Finland\", \"France\", \"Germany\", \"Hong Kong\", \"Iceland\", \"Iran\", \"Iraq\", \"Ireland\", \"Israel\", \"Italy\", \"Japan\", \"Lebanon\", \"Luxembourg\", \"Mainland China\", \"Malaysia\", \"Mexico\", \"Monaco\", \"Netherlands\", \"Norway\", \"Oman\", \"Others\", \"Pakistan\", \"Qatar\", \"Singapore\", \"South Korea\", \"Spain\", \"Sweden\", \"Switzerland\", \"Taiwan\", \"Thailand\", \"UK\", \"US\", \"United Arab Emirates\"], \"marker\": {\"color\": \"#636efa\", \"size\": [3.713572066704308, 2.302585092994046, 3.7376696182833684, 1.6094379124341003, 3.295836866004329, 1.9459101490553132, 1.3862943611198906, 1.3862943611198906, 4.61512051684126, 4.382026634673881, 4.564348191467836, 0.6931471805599453, 6.386879319362645, 2.6390573296152584, 0.6931471805599453, 2.0794415416798357, 7.029087564149662, 5.488937726156687, 1.6094379124341003, 0.6931471805599453, 11.278076167963372, 3.258096538021482, 1.6094379124341003, 1.0986122886681098, 1.9459101490553132, 2.772588722239781, 2.5649493574615367, 7.252053951852814, 2.1972245773362196, 0.6931471805599453, 4.634728988229636, 8.055475141757274, 3.828641396489095, 2.5649493574615367, 2.9444389791664403, 3.6888794541139363, 3.7612001156935624, 3.1780538303479458, 2.772588722239781, 3.7612001156935624], \"sizemode\": \"area\", \"sizeref\": 0.028217319611682782}, \"name\": \"\", \"showlegend\": false, \"type\": \"scattergeo\"}], \"name\": \"2020-02-29 00:00:00\"}, {\"data\": [{\"geo\": \"geo\", \"hoverlabel\": {\"namelength\": 0}, \"hovertemplate\": \"<b>%{hovertext}</b><br><br>Date=2020-03-01 00:00:00<br>Log Confirmed=%{marker.size}<br>Country/Region=%{location}\", \"hovertext\": [\"Armenia\", \"Australia\", \"Austria\", \"Azerbaijan\", \"Bahrain\", \"Belgium\", \"Canada\", \"Croatia\", \"Czech Republic\", \"Denmark\", \"Dominican Republic\", \"Ecuador\", \"Egypt\", \"Finland\", \"France\", \"Georgia\", \"Germany\", \"Greece\", \"Hong Kong\", \"Iceland\", \"Iran\", \"Iraq\", \"Ireland\", \"Israel\", \"Italy\", \"Japan\", \"Lebanon\", \"Luxembourg\", \"Mainland China\", \"Malaysia\", \"Mexico\", \"Netherlands\", \"Norway\", \"Qatar\", \"San Marino\", \"Singapore\", \"South Korea\", \"Spain\", \"Sweden\", \"Switzerland\", \"Taiwan\", \"Thailand\", \"UK\", \"US\"], \"legendgroup\": \"\", \"locationmode\": \"country names\", \"locations\": [\"Armenia\", \"Australia\", \"Austria\", \"Azerbaijan\", \"Bahrain\", \"Belgium\", \"Canada\", \"Croatia\", \"Czech Republic\", \"Denmark\", \"Dominican Republic\", \"Ecuador\", \"Egypt\", \"Finland\", \"France\", \"Georgia\", \"Germany\", \"Greece\", \"Hong Kong\", \"Iceland\", \"Iran\", \"Iraq\", \"Ireland\", \"Israel\", \"Italy\", \"Japan\", \"Lebanon\", \"Luxembourg\", \"Mainland China\", \"Malaysia\", \"Mexico\", \"Netherlands\", \"Norway\", \"Qatar\", \"San Marino\", \"Singapore\", \"South Korea\", \"Spain\", \"Sweden\", \"Switzerland\", \"Taiwan\", \"Thailand\", \"UK\", \"US\"], \"marker\": {\"color\": \"#636efa\", \"size\": [0.6931471805599453, 2.1972245773362196, 2.70805020110221, 1.3862943611198906, 3.871201010907891, 1.0986122886681098, 2.70805020110221, 2.0794415416798357, 1.3862943611198906, 1.6094379124341003, 0.6931471805599453, 1.9459101490553132, 1.0986122886681098, 1.9459101490553132, 4.875197323201151, 1.3862943611198906, 4.875197323201151, 2.0794415416798357, 4.574710978503383, 1.3862943611198906, 6.88653164253051, 2.995732273553991, 0.6931471805599453, 2.3978952727983707, 7.43543801981455, 5.54907608489522, 2.3978952727983707, 0.6931471805599453, 11.284631171328451, 3.4011973816621555, 1.791759469228055, 2.3978952727983707, 2.995732273553991, 1.3862943611198906, 0.6931471805599453, 4.672828834461906, 8.226038429485484, 4.442651256490317, 2.70805020110221, 3.332204510175204, 3.713572066704308, 3.7612001156935624, 3.6109179126442243, 2.772588722239781], \"sizemode\": \"area\", \"sizeref\": 0.028217319611682782}, \"name\": \"\", \"showlegend\": false, \"type\": \"scattergeo\"}], \"name\": \"2020-03-01 00:00:00\"}, {\"data\": [{\"geo\": \"geo\", \"hoverlabel\": {\"namelength\": 0}, \"hovertemplate\": \"<b>%{hovertext}</b><br><br>Date=2020-03-02 00:00:00<br>Log Confirmed=%{marker.size}<br>Country/Region=%{location}\", \"hovertext\": [\"Algeria\", \"Andorra\", \"Australia\", \"Austria\", \"Bahrain\", \"Belgium\", \"Canada\", \"Czech Republic\", \"Dominican Republic\", \"France\", \"Germany\", \"Hong Kong\", \"Iceland\", \"India\", \"Indonesia\", \"Iran\", \"Iraq\", \"Italy\", \"Japan\", \"Kuwait\", \"Latvia\", \"Lebanon\", \"Mainland China\", \"Morocco\", \"Netherlands\", \"Norway\", \"Others\", \"Portugal\", \"Russia\", \"San Marino\", \"Saudi Arabia\", \"Senegal\", \"Singapore\", \"South Korea\", \"Spain\", \"Sweden\", \"Switzerland\", \"Taiwan\", \"Thailand\", \"UK\", \"US\"], \"legendgroup\": \"\", \"locationmode\": \"country names\", \"locations\": [\"Algeria\", \"Andorra\", \"Australia\", \"Austria\", \"Bahrain\", \"Belgium\", \"Canada\", \"Czech Republic\", \"Dominican Republic\", \"France\", \"Germany\", \"Hong Kong\", \"Iceland\", \"India\", \"Indonesia\", \"Iran\", \"Iraq\", \"Italy\", \"Japan\", \"Kuwait\", \"Latvia\", \"Lebanon\", \"Mainland China\", \"Morocco\", \"Netherlands\", \"Norway\", \"Others\", \"Portugal\", \"Russia\", \"San Marino\", \"Saudi Arabia\", \"Senegal\", \"Singapore\", \"South Korea\", \"Spain\", \"Sweden\", \"Switzerland\", \"Taiwan\", \"Thailand\", \"UK\", \"US\"], \"marker\": {\"color\": \"#636efa\", \"size\": [1.3862943611198906, 0.6931471805599453, 2.3978952727983707, 2.9444389791664403, 3.912023005428146, 2.1972245773362196, 2.8903717578961645, 1.3862943611198906, 0.6931471805599453, 5.2574953720277815, 5.075173815233827, 4.61512051684126, 1.9459101490553132, 1.791759469228055, 1.0986122886681098, 7.31455283232408, 3.295836866004329, 7.619233416226805, 5.616771097666572, 4.04305126783455, 0.6931471805599453, 2.6390573296152584, 11.286652020647091, 0.6931471805599453, 2.9444389791664403, 3.258096538021482, 6.559615237493242, 1.0986122886681098, 1.3862943611198906, 2.1972245773362196, 0.6931471805599453, 0.6931471805599453, 4.6913478822291435, 8.374707543119483, 4.795790545596741, 2.772588722239781, 3.7612001156935624, 3.7376696182833684, 3.784189633918261, 3.713572066704308, 4.48863636973214], \"sizemode\": \"area\", \"sizeref\": 0.028217319611682782}, \"name\": \"\", \"showlegend\": false, \"type\": \"scattergeo\"}], \"name\": \"2020-03-02 00:00:00\"}, {\"data\": [{\"geo\": \"geo\", \"hoverlabel\": {\"namelength\": 0}, \"hovertemplate\": \"<b>%{hovertext}</b><br><br>Date=2020-03-03 00:00:00<br>Log Confirmed=%{marker.size}<br>Country/Region=%{location}\", \"hovertext\": [\"Algeria\", \"Argentina\", \"Australia\", \"Austria\", \"Belgium\", \"Canada\", \"Chile\", \"Croatia\", \"Czech Republic\", \"Denmark\", \"Ecuador\", \"Estonia\", \"France\", \"Germany\", \"Hong Kong\", \"Iceland\", \"Iran\", \"Iraq\", \"Ireland\", \"Israel\", \"Italy\", \"Japan\", \"Jordan\", \"Luxembourg\", \"Macau\", \"Mainland China\", \"Malaysia\", \"Mexico\", \"Morocco\", \"Netherlands\", \"Norway\", \"Oman\", \"Others\", \"Pakistan\", \"Portugal\", \"Qatar\", \"Romania\", \"San Marino\", \"Senegal\", \"Singapore\", \"South Korea\", \"Spain\", \"Sweden\", \"Switzerland\", \"Taiwan\", \"UK\", \"US\", \"Ukraine\", \"United Arab Emirates\"], \"legendgroup\": \"\", \"locationmode\": \"country names\", \"locations\": [\"Algeria\", \"Argentina\", \"Australia\", \"Austria\", \"Belgium\", \"Canada\", \"Chile\", \"Croatia\", \"Czech Republic\", \"Denmark\", \"Ecuador\", \"Estonia\", \"France\", \"Germany\", \"Hong Kong\", \"Iceland\", \"Iran\", \"Iraq\", \"Ireland\", \"Israel\", \"Italy\", \"Japan\", \"Jordan\", \"Luxembourg\", \"Macau\", \"Mainland China\", \"Malaysia\", \"Mexico\", \"Morocco\", \"Netherlands\", \"Norway\", \"Oman\", \"Others\", \"Pakistan\", \"Portugal\", \"Qatar\", \"Romania\", \"San Marino\", \"Senegal\", \"Singapore\", \"South Korea\", \"Spain\", \"Sweden\", \"Switzerland\", \"Taiwan\", \"UK\", \"US\", \"Ukraine\", \"United Arab Emirates\"], \"marker\": {\"color\": \"#636efa\", \"size\": [1.791759469228055, 0.6931471805599453, 3.2188758248682006, 3.091042453358316, 2.6390573296152584, 3.367295829986474, 0.6931471805599453, 2.302585092994046, 1.791759469228055, 1.9459101490553132, 2.0794415416798357, 1.0986122886681098, 5.3230099791384085, 5.2832037287379885, 4.61512051684126, 2.4849066497880004, 7.756623334538858, 3.4965075614664802, 1.0986122886681098, 2.5649493574615367, 7.8252452914317745, 5.683579767338681, 0.6931471805599453, 0.6931471805599453, 2.3978952727983707, 11.284455252150293, 3.6109179126442243, 1.791759469228055, 0.6931471805599453, 3.2188758248682006, 3.4965075614664802, 2.5649493574615367, 6.561030665896573, 1.791759469228055, 1.0986122886681098, 2.0794415416798357, 1.3862943611198906, 2.3978952727983707, 1.0986122886681098, 4.709530201312334, 8.553910774351401, 5.111987788356544, 3.091042453358316, 4.04305126783455, 3.7612001156935624, 3.9512437185814275, 4.007333185232471, 0.6931471805599453, 3.332204510175204], \"sizemode\": \"area\", \"sizeref\": 0.028217319611682782}, \"name\": \"\", \"showlegend\": false, \"type\": \"scattergeo\"}], \"name\": \"2020-03-03 00:00:00\"}, {\"data\": [{\"geo\": \"geo\", \"hoverlabel\": {\"namelength\": 0}, \"hovertemplate\": \"<b>%{hovertext}</b><br><br>Date=2020-03-04 00:00:00<br>Log Confirmed=%{marker.size}<br>Country/Region=%{location}\", \"hovertext\": [\"Algeria\", \"Argentina\", \"Australia\", \"Austria\", \"Bahrain\", \"Belarus\", \"Belgium\", \"Brazil\", \"Canada\", \"Chile\", \"Croatia\", \"Czech Republic\", \"Denmark\", \"Ecuador\", \"Faroe Islands\", \"France\", \"Germany\", \"Gibraltar\", \"Greece\", \"Hong Kong\", \"Hungary\", \"Iceland\", \"India\", \"Iran\", \"Iraq\", \"Ireland\", \"Israel\", \"Italy\", \"Japan\", \"Latvia\", \"Lebanon\", \"Liechtenstein\", \"Mainland China\", \"Malaysia\", \"Netherlands\", \"New Zealand\", \"Norway\", \"Oman\", \"Poland\", \"Portugal\", \"Qatar\", \"Romania\", \"Saint Barthelemy\", \"San Marino\", \"Senegal\", \"South Korea\", \"Spain\", \"Sweden\", \"Switzerland\", \"Tunisia\", \"UK\", \"US\"], \"legendgroup\": \"\", \"locationmode\": \"country names\", \"locations\": [\"Algeria\", \"Argentina\", \"Australia\", \"Austria\", \"Bahrain\", \"Belarus\", \"Belgium\", \"Brazil\", \"Canada\", \"Chile\", \"Croatia\", \"Czech Republic\", \"Denmark\", \"Ecuador\", \"Faroe Islands\", \"France\", \"Germany\", \"Gibraltar\", \"Greece\", \"Hong Kong\", \"Hungary\", \"Iceland\", \"India\", \"Iran\", \"Iraq\", \"Ireland\", \"Israel\", \"Italy\", \"Japan\", \"Latvia\", \"Lebanon\", \"Liechtenstein\", \"Mainland China\", \"Malaysia\", \"Netherlands\", \"New Zealand\", \"Norway\", \"Oman\", \"Poland\", \"Portugal\", \"Qatar\", \"Romania\", \"Saint Barthelemy\", \"San Marino\", \"Senegal\", \"South Korea\", \"Spain\", \"Sweden\", \"Switzerland\", \"Tunisia\", \"UK\", \"US\"], \"marker\": {\"color\": \"#636efa\", \"size\": [2.5649493574615367, 0.6931471805599453, 3.6635616461296463, 3.4011973816621555, 3.970291913552122, 1.9459101490553132, 3.1780538303479458, 1.6094379124341003, 2.5649493574615367, 0.6931471805599453, 2.3978952727983707, 2.1972245773362196, 2.3978952727983707, 2.3978952727983707, 0.6931471805599453, 5.655991810819852, 5.572154032177765, 0.6931471805599453, 2.302585092994046, 4.663439094112067, 1.0986122886681098, 3.295836866004329, 3.367295829986474, 7.980365765111246, 3.58351893845611, 1.9459101490553132, 2.772588722239781, 8.035926369891792, 5.805134968916488, 0.6931471805599453, 2.6390573296152584, 0.6931471805599453, 11.284002746391979, 3.9318256327243257, 3.6635616461296463, 1.3862943611198906, 4.04305126783455, 2.772588722239781, 0.6931471805599453, 1.791759469228055, 2.1972245773362196, 1.6094379124341003, 1.3862943611198906, 2.833213344056216, 1.6094379124341003, 8.634442751466477, 5.407171771460119, 3.58351893845611, 4.51085950651685, 0.6931471805599453, 4.454347296253507, 4.143134726391533], \"sizemode\": \"area\", \"sizeref\": 0.028217319611682782}, \"name\": \"\", \"showlegend\": false, \"type\": \"scattergeo\"}], \"name\": \"2020-03-04 00:00:00\"}, {\"data\": [{\"geo\": \"geo\", \"hoverlabel\": {\"namelength\": 0}, \"hovertemplate\": \"<b>%{hovertext}</b><br><br>Date=2020-03-05 00:00:00<br>Log Confirmed=%{marker.size}<br>Country/Region=%{location}\", \"hovertext\": [\"Australia\", \"Austria\", \"Azerbaijan\", \"Bahrain\", \"Belgium\", \"Bosnia and Herzegovina\", \"Canada\", \"Chile\", \"Czech Republic\", \"Ecuador\", \"Egypt\", \"Estonia\", \"Finland\", \"France\", \"Georgia\", \"Germany\", \"Greece\", \"Hong Kong\", \"Hungary\", \"Iceland\", \"India\", \"Iran\", \"Israel\", \"Italy\", \"Japan\", \"Kuwait\", \"Lebanon\", \"Mainland China\", \"Morocco\", \"Netherlands\", \"Norway\", \"Oman\", \"Palestine\", \"Portugal\", \"Romania\", \"Russia\", \"San Marino\", \"Saudi Arabia\", \"Singapore\", \"Slovenia\", \"South Africa\", \"South Korea\", \"Spain\", \"Sweden\", \"Switzerland\", \"Taiwan\", \"Thailand\", \"UK\", \"US\", \"United Arab Emirates\"], \"legendgroup\": \"\", \"locationmode\": \"country names\", \"locations\": [\"Australia\", \"Austria\", \"Azerbaijan\", \"Bahrain\", \"Belgium\", \"Bosnia and Herzegovina\", \"Canada\", \"Chile\", \"Czech Republic\", \"Ecuador\", \"Egypt\", \"Estonia\", \"Finland\", \"France\", \"Georgia\", \"Germany\", \"Greece\", \"Hong Kong\", \"Hungary\", \"Iceland\", \"India\", \"Iran\", \"Israel\", \"Italy\", \"Japan\", \"Kuwait\", \"Lebanon\", \"Mainland China\", \"Morocco\", \"Netherlands\", \"Norway\", \"Oman\", \"Palestine\", \"Portugal\", \"Romania\", \"Russia\", \"San Marino\", \"Saudi Arabia\", \"Singapore\", \"Slovenia\", \"South Africa\", \"South Korea\", \"Spain\", \"Sweden\", \"Switzerland\", \"Taiwan\", \"Thailand\", \"UK\", \"US\", \"United Arab Emirates\"], \"marker\": {\"color\": \"#636efa\", \"size\": [3.295836866004329, 3.7376696182833684, 1.9459101490553132, 4.02535169073515, 3.9318256327243257, 1.0986122886681098, 3.6109179126442243, 1.6094379124341003, 2.5649493574615367, 2.6390573296152584, 1.3862943611198906, 1.3862943611198906, 2.5649493574615367, 5.934894195619588, 1.6094379124341003, 6.180016653652572, 3.4657359027997265, 4.663439094112067, 1.0986122886681098, 3.5553480614894135, 3.4339872044851463, 8.164510268747042, 2.833213344056216, 8.258163361537619, 5.8888779583328805, 4.07753744390572, 2.833213344056216, 11.283084536208287, 1.0986122886681098, 4.418840607796598, 4.477336814478207, 2.833213344056216, 1.6094379124341003, 2.1972245773362196, 1.9459101490553132, 1.6094379124341003, 3.091042453358316, 1.791759469228055, 4.770684624465665, 1.0986122886681098, 0.6931471805599453, 8.714239143608575, 5.560681631015528, 4.553876891600541, 4.74493212836325, 3.8066624897703196, 3.871201010907891, 4.7535901911063645, 4.962844630259907, 3.4011973816621555], \"sizemode\": \"area\", \"sizeref\": 0.028217319611682782}, \"name\": \"\", \"showlegend\": false, \"type\": \"scattergeo\"}], \"name\": \"2020-03-05 00:00:00\"}, {\"data\": [{\"geo\": \"geo\", \"hoverlabel\": {\"namelength\": 0}, \"hovertemplate\": \"<b>%{hovertext}</b><br><br>Date=2020-03-06 00:00:00<br>Log Confirmed=%{marker.size}<br>Country/Region=%{location}\", \"hovertext\": [\"Algeria\", \"Argentina\", \"Australia\", \"Austria\", \"Bahrain\", \"Belgium\", \"Bhutan\", \"Brazil\", \"Cameroon\", \"Canada\", \"Colombia\", \"Costa Rica\", \"Croatia\", \"Czech Republic\", \"Denmark\", \"Dominican Republic\", \"Egypt\", \"Estonia\", \"Finland\", \"France\", \"Germany\", \"Greece\", \"Hong Kong\", \"Iceland\", \"India\", \"Indonesia\", \"Iran\", \"Iraq\", \"Ireland\", \"Israel\", \"Italy\", \"Japan\", \"Lebanon\", \"Luxembourg\", \"Macau\", \"Mainland China\", \"Malaysia\", \"Mexico\", \"Netherlands\", \"New Zealand\", \"North Macedonia\", \"Norway\", \"Others\", \"Pakistan\", \"Palestine\", \"Peru\", \"Philippines\", \"Poland\", \"Portugal\", \"Romania\", \"Russia\", \"Serbia\", \"Singapore\", \"Slovakia\", \"Slovenia\", \"South Africa\", \"South Korea\", \"Spain\", \"Sweden\", \"Switzerland\", \"Taiwan\", \"Thailand\", \"Togo\", \"UK\", \"US\", \"Vatican City\"], \"legendgroup\": \"\", \"locationmode\": \"country names\", \"locations\": [\"Algeria\", \"Argentina\", \"Australia\", \"Austria\", \"Bahrain\", \"Belgium\", \"Bhutan\", \"Brazil\", \"Cameroon\", \"Canada\", \"Colombia\", \"Costa Rica\", \"Croatia\", \"Czech Republic\", \"Denmark\", \"Dominican Republic\", \"Egypt\", \"Estonia\", \"Finland\", \"France\", \"Germany\", \"Greece\", \"Hong Kong\", \"Iceland\", \"India\", \"Indonesia\", \"Iran\", \"Iraq\", \"Ireland\", \"Israel\", \"Italy\", \"Japan\", \"Lebanon\", \"Luxembourg\", \"Macau\", \"Mainland China\", \"Malaysia\", \"Mexico\", \"Netherlands\", \"New Zealand\", \"North Macedonia\", \"Norway\", \"Others\", \"Pakistan\", \"Palestine\", \"Peru\", \"Philippines\", \"Poland\", \"Portugal\", \"Romania\", \"Russia\", \"Serbia\", \"Singapore\", \"Slovakia\", \"Slovenia\", \"South Africa\", \"South Korea\", \"Spain\", \"Sweden\", \"Switzerland\", \"Taiwan\", \"Thailand\", \"Togo\", \"UK\", \"US\", \"Vatican City\"], \"marker\": {\"color\": \"#636efa\", \"size\": [2.8903717578961645, 1.0986122886681098, 3.5263605246161616, 4.02535169073515, 4.110873864173311, 4.700480365792417, 0.6931471805599453, 2.6390573296152584, 0.6931471805599453, 3.8501476017100584, 0.6931471805599453, 0.6931471805599453, 2.4849066497880004, 2.9444389791664403, 3.1780538303479458, 1.0986122886681098, 2.772588722239781, 2.3978952727983707, 2.772588722239781, 6.483107351457199, 6.508769136971682, 3.828641396489095, 4.68213122712422, 3.784189633918261, 3.4657359027997265, 1.6094379124341003, 8.465478755729558, 3.713572066704308, 2.9444389791664403, 3.091042453358316, 8.441822884391462, 6.042632833682381, 3.1354942159291497, 1.0986122886681098, 2.3978952727983707, 11.286927844673112, 4.430816798843313, 1.9459101490553132, 4.859812404361672, 1.6094379124341003, 1.3862943611198906, 4.6913478822291435, 6.546785410760524, 1.9459101490553132, 2.833213344056216, 0.6931471805599453, 1.791759469228055, 1.791759469228055, 2.6390573296152584, 2.302585092994046, 2.6390573296152584, 0.6931471805599453, 4.875197323201151, 0.6931471805599453, 2.0794415416798357, 0.6931471805599453, 8.793915423631676, 5.993961427306569, 4.624972813284271, 5.3706380281276624, 3.828641396489095, 3.8918202981106265, 0.6931471805599453, 5.099866427824199, 5.1298987149230735, 0.6931471805599453], \"sizemode\": \"area\", \"sizeref\": 0.028217319611682782}, \"name\": \"\", \"showlegend\": false, \"type\": \"scattergeo\"}], \"name\": \"2020-03-06 00:00:00\"}, {\"data\": [{\"geo\": \"geo\", \"hoverlabel\": {\"namelength\": 0}, \"hovertemplate\": \"<b>%{hovertext}</b><br><br>Date=2020-03-07 00:00:00<br>Log Confirmed=%{marker.size}<br>Country/Region=%{location}\", \"hovertext\": [\"Argentina\", \"Australia\", \"Austria\", \"Azerbaijan\", \"Bahrain\", \"Belgium\", \"Bosnia and Herzegovina\", \"Canada\", \"Colombia\", \"Costa Rica\", \"Croatia\", \"Czech Republic\", \"France\", \"French Guiana\", \"Germany\", \"Greece\", \"Hong Kong\", \"Hungary\", \"Iceland\", \"India\", \"Iran\", \"Iraq\", \"Italy\", \"Japan\", \"Kuwait\", \"Mainland China\", \"Malaysia\", \"Malta\", \"Martinique\", \"Netherlands\", \"New Zealand\", \"Norway\", \"Palestine\", \"Philippines\", \"Portugal\", \"Romania\", \"San Marino\", \"Singapore\", \"South Korea\", \"Spain\", \"Sweden\", \"Switzerland\", \"Thailand\", \"Togo\", \"UK\", \"US\", \"United Arab Emirates\", \"Vietnam\"], \"legendgroup\": \"\", \"locationmode\": \"country names\", \"locations\": [\"Argentina\", \"Australia\", \"Austria\", \"Azerbaijan\", \"Bahrain\", \"Belgium\", \"Bosnia and Herzegovina\", \"Canada\", \"Colombia\", \"Costa Rica\", \"Croatia\", \"Czech Republic\", \"France\", \"French Guiana\", \"Germany\", \"Greece\", \"Hong Kong\", \"Hungary\", \"Iceland\", \"India\", \"Iran\", \"Iraq\", \"Italy\", \"Japan\", \"Kuwait\", \"Mainland China\", \"Malaysia\", \"Malta\", \"Martinique\", \"Netherlands\", \"New Zealand\", \"Norway\", \"Palestine\", \"Philippines\", \"Portugal\", \"Romania\", \"San Marino\", \"Singapore\", \"South Korea\", \"Spain\", \"Sweden\", \"Switzerland\", \"Thailand\", \"Togo\", \"UK\", \"US\", \"United Arab Emirates\", \"Vietnam\"], \"marker\": {\"color\": \"#636efa\", \"size\": [2.1972245773362196, 3.6888794541139363, 4.382026634673881, 2.302585092994046, 4.454347296253507, 5.135798437050262, 1.3862943611198906, 3.970291913552122, 0.6931471805599453, 0.6931471805599453, 2.5649493574615367, 2.995732273553991, 6.856461984594587, 1.791759469228055, 6.684611727667927, 3.8501476017100584, 4.6913478822291435, 1.6094379124341003, 3.9318256327243257, 3.5553480614894135, 8.669742589876522, 4.007333185232471, 8.679992081721329, 6.135564891081739, 4.127134385045092, 11.27238139897585, 4.543294782270004, 1.3862943611198906, 1.0986122886681098, 5.241747015059643, 1.791759469228055, 4.997212273764115, 3.1354942159291497, 1.9459101490553132, 3.044522437723423, 2.302585092994046, 3.1780538303479458, 4.9344739331306915, 8.859647499714997, 6.2166061010848646, 5.087596335232384, 5.594711379601839, 3.9318256327243257, 0.6931471805599453, 5.332718793265369, 5.7430031878094825, 3.828641396489095, 2.9444389791664403], \"sizemode\": \"area\", \"sizeref\": 0.028217319611682782}, \"name\": \"\", \"showlegend\": false, \"type\": \"scattergeo\"}], \"name\": \"2020-03-07 00:00:00\"}, {\"data\": [{\"geo\": \"geo\", \"hoverlabel\": {\"namelength\": 0}, \"hovertemplate\": \"<b>%{hovertext}</b><br><br>Date=2020-03-08 00:00:00<br>Log Confirmed=%{marker.size}<br>Country/Region=%{location}\", \"hovertext\": [\"Afghanistan\", \"Algeria\", \"Argentina\", \"Australia\", \"Austria\", \"Bangladesh\", \"Belgium\", \"Brazil\", \"Bulgaria\", \"Cambodia\", \"Cameroon\", \"Canada\", \"Chile\", \"Costa Rica\", \"Czech Republic\", \"Denmark\", \"Dominican Republic\", \"Ecuador\", \"Egypt\", \"Faroe Islands\", \"Finland\", \"France\", \"Georgia\", \"Germany\", \"Greece\", \"Hong Kong\", \"Hungary\", \"India\", \"Indonesia\", \"Iran\", \"Iraq\", \"Ireland\", \"Israel\", \"Italy\", \"Japan\", \"Kuwait\", \"Latvia\", \"Lebanon\", \"Luxembourg\", \"Mainland China\", \"Malaysia\", \"Maldives\", \"Malta\", \"Mexico\", \"Moldova\", \"Netherlands\", \"Norway\", \"Pakistan\", \"Paraguay\", \"Peru\", \"Philippines\", \"Poland\", \"Portugal\", \"Qatar\", \"Republic of Ireland\", \"Romania\", \"Russia\", \"San Marino\", \"Saudi Arabia\", \"Senegal\", \"Singapore\", \"Slovakia\", \"Slovenia\", \"South Africa\", \"South Korea\", \"Spain\", \"Sweden\", \"Switzerland\", \"Taiwan\", \"Tunisia\", \"UK\", \"US\", \"Vietnam\"], \"legendgroup\": \"\", \"locationmode\": \"country names\", \"locations\": [\"Afghanistan\", \"Algeria\", \"Argentina\", \"Australia\", \"Austria\", \"Bangladesh\", \"Belgium\", \"Brazil\", \"Bulgaria\", \"Cambodia\", \"Cameroon\", \"Canada\", \"Chile\", \"Costa Rica\", \"Czech Republic\", \"Denmark\", \"Dominican Republic\", \"Ecuador\", \"Egypt\", \"Faroe Islands\", \"Finland\", \"France\", \"Georgia\", \"Germany\", \"Greece\", \"Hong Kong\", \"Hungary\", \"India\", \"Indonesia\", \"Iran\", \"Iraq\", \"Ireland\", \"Israel\", \"Italy\", \"Japan\", \"Kuwait\", \"Latvia\", \"Lebanon\", \"Luxembourg\", \"Mainland China\", \"Malaysia\", \"Maldives\", \"Malta\", \"Mexico\", \"Moldova\", \"Netherlands\", \"Norway\", \"Pakistan\", \"Paraguay\", \"Peru\", \"Philippines\", \"Poland\", \"Portugal\", \"Qatar\", \"Republic of Ireland\", \"Romania\", \"Russia\", \"San Marino\", \"Saudi Arabia\", \"Senegal\", \"Singapore\", \"Slovakia\", \"Slovenia\", \"South Africa\", \"South Korea\", \"Spain\", \"Sweden\", \"Switzerland\", \"Taiwan\", \"Tunisia\", \"UK\", \"US\", \"Vietnam\"], \"marker\": {\"color\": \"#636efa\", \"size\": [1.6094379124341003, 2.995732273553991, 2.5649493574615367, 4.02535169073515, 4.653960350157523, 1.3862943611198906, 5.303304908059076, 3.044522437723423, 1.6094379124341003, 1.0986122886681098, 1.0986122886681098, 4.143134726391533, 2.1972245773362196, 1.791759469228055, 3.4657359027997265, 3.58351893845611, 1.791759469228055, 2.70805020110221, 3.912023005428146, 1.0986122886681098, 3.1780538303479458, 7.027314514039777, 2.6390573296152584, 6.947937068614969, 4.30406509320417, 4.74493212836325, 2.0794415416798357, 3.6888794541139363, 1.9459101490553132, 8.789812386190972, 4.110873864173311, 2.995732273553991, 3.6888794541139363, 8.90598676523643, 6.220590170099739, 4.174387269895637, 1.0986122886681098, 3.4965075614664802, 1.3862943611198906, 11.282958688307893, 4.605170185988092, 1.6094379124341003, 1.3862943611198906, 2.0794415416798357, 0.6931471805599453, 5.583496308781699, 5.176149732573829, 1.9459101490553132, 0.6931471805599453, 1.9459101490553132, 2.3978952727983707, 2.4849066497880004, 3.4339872044851463, 2.772588722239781, 3.091042453358316, 2.772588722239781, 2.8903717578961645, 3.6109179126442243, 2.4849066497880004, 1.6094379124341003, 5.017279836814924, 1.3862943611198906, 2.833213344056216, 1.3862943611198906, 8.897682313454224, 6.513230110912307, 5.318119993844216, 5.823045895483019, 3.828641396489095, 1.0986122886681098, 5.6131281063880705, 5.961005339623274, 3.4339872044851463], \"sizemode\": \"area\", \"sizeref\": 0.028217319611682782}, \"name\": \"\", \"showlegend\": false, \"type\": \"scattergeo\"}], \"name\": \"2020-03-08 00:00:00\"}, {\"data\": [{\"geo\": \"geo\", \"hoverlabel\": {\"namelength\": 0}, \"hovertemplate\": \"<b>%{hovertext}</b><br><br>Date=2020-03-09 00:00:00<br>Log Confirmed=%{marker.size}<br>Country/Region=%{location}\", \"hovertext\": [\"Albania\", \"Algeria\", \"Australia\", \"Austria\", \"Bahrain\", \"Belarus\", \"Belgium\", \"Brazil\", \"Brunei\", \"Bulgaria\", \"Canada\", \"Costa Rica\", \"Cyprus\", \"Denmark\", \"Ecuador\", \"Egypt\", \"Finland\", \"France\", \"Georgia\", \"Germany\", \"Hong Kong\", \"Hungary\", \"Iceland\", \"India\", \"Indonesia\", \"Iran\", \"Iraq\", \"Ireland\", \"Italy\", \"Japan\", \"Latvia\", \"Mainland China\", \"Malaysia\", \"Moldova\", \"Netherlands\", \"Nigeria\", \"Norway\", \"Peru\", \"Philippines\", \"Poland\", \"Qatar\", \"Saint Barthelemy\", \"Saudi Arabia\", \"South Korea\", \"Spain\", \"St. Martin\", \"Sweden\", \"Switzerland\", \"Taiwan\", \"UK\", \"US\"], \"legendgroup\": \"\", \"locationmode\": \"country names\", \"locations\": [\"Albania\", \"Algeria\", \"Australia\", \"Austria\", \"Bahrain\", \"Belarus\", \"Belgium\", \"Brazil\", \"Brunei\", \"Bulgaria\", \"Canada\", \"Costa Rica\", \"Cyprus\", \"Denmark\", \"Ecuador\", \"Egypt\", \"Finland\", \"France\", \"Georgia\", \"Germany\", \"Hong Kong\", \"Hungary\", \"Iceland\", \"India\", \"Indonesia\", \"Iran\", \"Iraq\", \"Ireland\", \"Italy\", \"Japan\", \"Latvia\", \"Mainland China\", \"Malaysia\", \"Moldova\", \"Netherlands\", \"Nigeria\", \"Norway\", \"Peru\", \"Philippines\", \"Poland\", \"Qatar\", \"Saint Barthelemy\", \"Saudi Arabia\", \"South Korea\", \"Spain\", \"St. Martin\", \"Sweden\", \"Switzerland\", \"Taiwan\", \"UK\", \"US\"], \"marker\": {\"color\": \"#636efa\", \"size\": [1.0986122886681098, 3.044522437723423, 4.219507705176107, 4.882801922586371, 4.564348191467836, 1.9459101490553132, 5.480638923341991, 3.258096538021482, 0.6931471805599453, 1.6094379124341003, 4.343805421853684, 2.302585092994046, 1.0986122886681098, 4.51085950651685, 2.772588722239781, 4.02535169073515, 3.4339872044851463, 7.098375638590786, 2.772588722239781, 7.0707241072602764, 4.7535901911063645, 2.302585092994046, 4.07753744390572, 3.784189633918261, 2.995732273553991, 8.876544550558378, 4.110873864173311, 3.091042453358316, 9.124019665509655, 6.238324625039508, 1.9459101490553132, 11.25030016643631, 4.770684624465665, 0.6931471805599453, 5.7745515455444085, 1.0986122886681098, 5.327876168789581, 2.0794415416798357, 3.044522437723423, 2.833213344056216, 2.9444389791664403, 0.6931471805599453, 2.772588722239781, 8.919854372191667, 6.97914527506881, 1.0986122886681098, 5.517452896464707, 5.926926025970411, 3.828641396489095, 5.7745515455444085, 5.318119993844216], \"sizemode\": \"area\", \"sizeref\": 0.028217319611682782}, \"name\": \"\", \"showlegend\": false, \"type\": \"scattergeo\"}], \"name\": \"2020-03-09 00:00:00\"}, {\"data\": [{\"geo\": \"geo\", \"hoverlabel\": {\"namelength\": 0}, \"hovertemplate\": \"<b>%{hovertext}</b><br><br>Date=2020-03-10 00:00:00<br>Log Confirmed=%{marker.size}<br>Country/Region=%{location}\", \"hovertext\": [\"Afghanistan\", \"Albania\", \"Argentina\", \"Australia\", \"Austria\", \"Azerbaijan\", \"Bahrain\", \"Bangladesh\", \"Belarus\", \"Belgium\", \"Bosnia and Herzegovina\", \"Brazil\", \"Brunei\", \"Burkina Faso\", \"Canada\", \"Channel Islands\", \"Chile\", \"Colombia\", \"Croatia\", \"Cyprus\", \"Czech Republic\", \"Denmark\", \"Egypt\", \"Estonia\", \"Finland\", \"France\", \"Germany\", \"Gibraltar\", \"Greece\", \"Holy See\", \"Hong Kong SAR\", \"Iceland\", \"India\", \"Indonesia\", \"Iran (Islamic Republic of)\", \"Iraq\", \"Ireland\", \"Israel\", \"Italy\", \"Japan\", \"Kuwait\", \"Latvia\", \"Lebanon\", \"Luxembourg\", \"Macao SAR\", \"Mainland China\", \"Malaysia\", \"Maldives\", \"Malta\", \"Mexico\", \"Mongolia\", \"Morocco\", \"Nepal\", \"Netherlands\", \"North Macedonia\", \"Norway\", \"Oman\", \"Pakistan\", \"Panama\", \"Peru\", \"Philippines\", \"Poland\", \"Portugal\", \"Qatar\", \"Republic of Korea\", \"Republic of Moldova\", \"Romania\", \"Russian Federation\", \"Saint Martin\", \"San Marino\", \"Saudi Arabia\", \"Serbia\", \"Singapore\", \"Slovakia\", \"Slovenia\", \"South Africa\", \"Spain\", \"Sri Lanka\", \"Sweden\", \"Switzerland\", \"Taipei and environs\", \"Thailand\", \"Tunisia\", \"UK\", \"US\", \"United Arab Emirates\", \"Viet Nam\", \"occupied Palestinian territory\"], \"legendgroup\": \"\", \"locationmode\": \"country names\", \"locations\": [\"Afghanistan\", \"Albania\", \"Argentina\", \"Australia\", \"Austria\", \"Azerbaijan\", \"Bahrain\", \"Bangladesh\", \"Belarus\", \"Belgium\", \"Bosnia and Herzegovina\", \"Brazil\", \"Brunei\", \"Burkina Faso\", \"Canada\", \"Channel Islands\", \"Chile\", \"Colombia\", \"Croatia\", \"Cyprus\", \"Czech Republic\", \"Denmark\", \"Egypt\", \"Estonia\", \"Finland\", \"France\", \"Germany\", \"Gibraltar\", \"Greece\", \"Holy See\", \"Hong Kong SAR\", \"Iceland\", \"India\", \"Indonesia\", \"Iran (Islamic Republic of)\", \"Iraq\", \"Ireland\", \"Israel\", \"Italy\", \"Japan\", \"Kuwait\", \"Latvia\", \"Lebanon\", \"Luxembourg\", \"Macao SAR\", \"Mainland China\", \"Malaysia\", \"Maldives\", \"Malta\", \"Mexico\", \"Mongolia\", \"Morocco\", \"Nepal\", \"Netherlands\", \"North Macedonia\", \"Norway\", \"Oman\", \"Pakistan\", \"Panama\", \"Peru\", \"Philippines\", \"Poland\", \"Portugal\", \"Qatar\", \"Republic of Korea\", \"Republic of Moldova\", \"Romania\", \"Russian Federation\", \"Saint Martin\", \"San Marino\", \"Saudi Arabia\", \"Serbia\", \"Singapore\", \"Slovakia\", \"Slovenia\", \"South Africa\", \"Spain\", \"Sri Lanka\", \"Sweden\", \"Switzerland\", \"Taipei and environs\", \"Thailand\", \"Tunisia\", \"UK\", \"US\", \"United Arab Emirates\", \"Viet Nam\", \"occupied Palestinian territory\"], \"marker\": {\"color\": \"#636efa\", \"size\": [1.791759469228055, 2.3978952727983707, 2.8903717578961645, 4.59511985013459, 5.209486152841421, 2.4849066497880004, 4.709530201312334, 1.3862943611198906, 2.302585092994046, 5.5909869805108565, 1.791759469228055, 3.4657359027997265, 0.6931471805599453, 0.6931471805599453, 3.713572066704308, 0.6931471805599453, 2.6390573296152584, 1.3862943611198906, 2.70805020110221, 1.3862943611198906, 3.7376696182833684, 5.572154032177765, 4.0943445622221, 2.5649493574615367, 3.713572066704308, 7.487173694213739, 7.284820912568604, 0.6931471805599453, 4.499809670330265, 0.6931471805599453, 4.795790545596741, 4.248495242049359, 4.04305126783455, 3.332204510175204, 8.99255742690407, 4.276666119016055, 3.5553480614894135, 4.07753744390572, 9.225228984469933, 6.366470447731438, 4.248495242049359, 2.1972245773362196, 3.7376696182833684, 1.791759469228055, 2.3978952727983707, 11.254180642413045, 4.867534450455582, 1.9459101490553132, 1.791759469228055, 2.0794415416798357, 0.6931471805599453, 1.3862943611198906, 0.6931471805599453, 5.948034989180646, 2.0794415416798357, 5.993961427306569, 2.9444389791664403, 2.833213344056216, 0.6931471805599453, 2.4849066497880004, 3.5263605246161616, 3.1354942159291497, 3.7376696182833684, 3.2188758248682006, 8.924523226133914, 1.3862943611198906, 3.258096538021482, 2.3978952727983707, 1.0986122886681098, 3.9512437185814275, 3.044522437723423, 1.791759469228055, 5.081404364984463, 2.0794415416798357, 3.4657359027997265, 2.0794415416798357, 7.4360278163518485, 0.6931471805599453, 5.87493073085203, 6.198478716492308, 3.871201010907891, 3.9889840465642745, 1.791759469228055, 5.948034989180646, 6.866933284461882, 4.31748811353631, 3.4657359027997265, 3.258096538021482], \"sizemode\": \"area\", \"sizeref\": 0.028217319611682782}, \"name\": \"\", \"showlegend\": false, \"type\": \"scattergeo\"}], \"name\": \"2020-03-10 00:00:00\"}]);\n",
       "                        }).then(function(){\n",
       "                            \n",
       "var gd = document.getElementById('03fd79b2-eb95-4461-b758-d5a6143642c4');\n",
       "var x = new MutationObserver(function (mutations, observer) {{\n",
       "        var display = window.getComputedStyle(gd).display;\n",
       "        if (!display || display === 'none') {{\n",
       "            console.log([gd, 'removed!']);\n",
       "            Plotly.purge(gd);\n",
       "            observer.disconnect();\n",
       "        }}\n",
       "}});\n",
       "\n",
       "// Listen for the removal of the full notebook cells\n",
       "var notebookContainer = gd.closest('#notebook-container');\n",
       "if (notebookContainer) {{\n",
       "    x.observe(notebookContainer, {childList: true});\n",
       "}}\n",
       "\n",
       "// Listen for the clearing of the current output cell\n",
       "var outputEl = gd.closest('.output');\n",
       "if (outputEl) {{\n",
       "    x.observe(outputEl, {childList: true});\n",
       "}}\n",
       "\n",
       "                        })\n",
       "                };\n",
       "                });\n",
       "            </script>\n",
       "        </div>"
      ]
     },
     "metadata": {},
     "output_type": "display_data"
    }
   ],
   "source": [
    "fig = px.scatter_geo(grouped_df, locations='Country/Region', locationmode='country names', hover_name='Country/Region',\n",
    "                     size='Log Confirmed', animation_frame='Date')\n",
    "fig.show()"
   ]
  }
 ],
 "metadata": {
  "kernelspec": {
   "display_name": "Python 3",
   "language": "python",
   "name": "python3"
  },
  "language_info": {
   "codemirror_mode": {
    "name": "ipython",
    "version": 3
   },
   "file_extension": ".py",
   "mimetype": "text/x-python",
   "name": "python",
   "nbconvert_exporter": "python",
   "pygments_lexer": "ipython3",
   "version": "3.7.4"
  }
 },
 "nbformat": 4,
 "nbformat_minor": 2
}
