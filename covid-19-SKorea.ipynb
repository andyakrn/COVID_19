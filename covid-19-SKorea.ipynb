{
 "cells": [
  {
   "cell_type": "code",
   "execution_count": 184,
   "metadata": {},
   "outputs": [],
   "source": [
    "from zipfile import ZipFile\n",
    "import pandas as pd\n",
    "import kaggle\n",
    "import seaborn as sns\n",
    "import matplotlib.pyplot as plt\n",
    "sns.set()"
   ]
  },
  {
   "cell_type": "code",
   "execution_count": 209,
   "metadata": {},
   "outputs": [],
   "source": [
    "# https://www.kaggle.com/kimjihoo/coronavirusdataset\n",
    "kaggle.api.authenticate()\n",
    "kg_url='kimjihoo/coronavirusdataset'\n",
    "files=['patient.csv','route.csv','time.csv']"
   ]
  },
  {
   "cell_type": "code",
   "execution_count": 210,
   "metadata": {},
   "outputs": [],
   "source": [
    "for file in files:\n",
    "    kaggle.api.dataset_download_file(kg_url,file,force=True, path='data')#force =Trure rewrites file if excist\n"
   ]
  },
  {
   "cell_type": "code",
   "execution_count": 218,
   "metadata": {},
   "outputs": [],
   "source": [
    "df_patient = pd.read_csv('data/'+files[0])\n",
    "df_route = pd.read_csv('data/'+files[1])\n",
    "df_time = pd.read_csv('data/'+files[2])\n",
    "#df_time =df_time.reset_index()"
   ]
  },
  {
   "cell_type": "code",
   "execution_count": 219,
   "metadata": {},
   "outputs": [
    {
     "name": "stdout",
     "output_type": "stream",
     "text": [
      "<class 'pandas.core.frame.DataFrame'>\n",
      "RangeIndex: 51 entries, 0 to 50\n",
      "Data columns (total 24 columns):\n",
      " #   Column             Non-Null Count  Dtype \n",
      "---  ------             --------------  ----- \n",
      " 0   date               51 non-null     object\n",
      " 1   time               51 non-null     int64 \n",
      " 2   test               51 non-null     int64 \n",
      " 3   negative           51 non-null     int64 \n",
      " 4   confirmed          51 non-null     int64 \n",
      " 5   released           51 non-null     int64 \n",
      " 6   deceased           51 non-null     int64 \n",
      " 7   Seoul              51 non-null     int64 \n",
      " 8   Busan              51 non-null     int64 \n",
      " 9   Daegu              51 non-null     int64 \n",
      " 10  Incheon            51 non-null     int64 \n",
      " 11  Gwangju            51 non-null     int64 \n",
      " 12  Daejeon            51 non-null     int64 \n",
      " 13  Ulsan              51 non-null     int64 \n",
      " 14  Sejong             51 non-null     int64 \n",
      " 15  Gyeonggi-do        51 non-null     int64 \n",
      " 16  Gangwon-do         51 non-null     int64 \n",
      " 17  Chungcheongbuk-do  51 non-null     int64 \n",
      " 18  Chungcheongnam-do  51 non-null     int64 \n",
      " 19  Jeollabuk-do       51 non-null     int64 \n",
      " 20  Jeollanam-do       51 non-null     int64 \n",
      " 21  Gyeongsangbuk-do   51 non-null     int64 \n",
      " 22  Gyeongsangnam-do   51 non-null     int64 \n",
      " 23  Jeju-do            51 non-null     int64 \n",
      "dtypes: int64(23), object(1)\n",
      "memory usage: 9.7+ KB\n"
     ]
    }
   ],
   "source": [
    "df_time.info()"
   ]
  },
  {
   "cell_type": "code",
   "execution_count": 220,
   "metadata": {},
   "outputs": [],
   "source": [
    "#df_time.rename(columns={'176':'Date'},inplace=True)\n",
    "df_time['date']=pd.to_datetime(df_time['date'])"
   ]
  },
  {
   "cell_type": "code",
   "execution_count": 221,
   "metadata": {},
   "outputs": [
    {
     "data": {
      "text/plain": [
       "(7513, (7513, 15))"
      ]
     },
     "execution_count": 221,
     "metadata": {},
     "output_type": "execute_result"
    }
   ],
   "source": [
    "df_patient['id'].nunique(), df_patient.shape"
   ]
  },
  {
   "cell_type": "code",
   "execution_count": 222,
   "metadata": {},
   "outputs": [
    {
     "data": {
      "text/plain": [
       "(55, (212, 7))"
      ]
     },
     "execution_count": 222,
     "metadata": {},
     "output_type": "execute_result"
    }
   ],
   "source": [
    "df_route['id'].nunique(), df_route.shape"
   ]
  },
  {
   "cell_type": "code",
   "execution_count": 223,
   "metadata": {},
   "outputs": [
    {
     "name": "stdout",
     "output_type": "stream",
     "text": [
      "<class 'pandas.core.frame.DataFrame'>\n",
      "RangeIndex: 7513 entries, 0 to 7512\n",
      "Data columns (total 15 columns):\n",
      " #   Column            Non-Null Count  Dtype  \n",
      "---  ------            --------------  -----  \n",
      " 0   id                7513 non-null   int64  \n",
      " 1   sex               662 non-null    object \n",
      " 2   birth_year        649 non-null    float64\n",
      " 3   country           7513 non-null   object \n",
      " 4   region            421 non-null    object \n",
      " 5   disease           28 non-null     float64\n",
      " 6   group             82 non-null     object \n",
      " 7   infection_reason  144 non-null    object \n",
      " 8   infection_order   35 non-null     float64\n",
      " 9   infected_by       70 non-null     float64\n",
      " 10  contact_number    50 non-null     float64\n",
      " 11  confirmed_date    7513 non-null   object \n",
      " 12  released_date     55 non-null     object \n",
      " 13  deceased_date     36 non-null     object \n",
      " 14  state             7513 non-null   object \n",
      "dtypes: float64(5), int64(1), object(9)\n",
      "memory usage: 880.6+ KB\n"
     ]
    }
   ],
   "source": [
    "df_patient.info()"
   ]
  },
  {
   "cell_type": "code",
   "execution_count": 224,
   "metadata": {},
   "outputs": [],
   "source": [
    "date_clm = ['confirmed_date','released_date','deceased_date']\n",
    "for clm in date_clm:\n",
    "    df_patient[clm]=pd.to_datetime(df_patient[clm])"
   ]
  },
  {
   "cell_type": "code",
   "execution_count": 225,
   "metadata": {},
   "outputs": [],
   "source": [
    "df_patient['duration']=df_patient['released_date']-df_patient['confirmed_date']\n",
    "df_patient['duration_death']=df_patient['deceased_date']-df_patient['confirmed_date']\n",
    "df_patient['age'] =2019- df_patient['birth_year']"
   ]
  },
  {
   "cell_type": "code",
   "execution_count": 226,
   "metadata": {},
   "outputs": [
    {
     "data": {
      "text/plain": [
       "Text(0.5, 0, 'age')"
      ]
     },
     "execution_count": 226,
     "metadata": {},
     "output_type": "execute_result"
    },
    {
     "data": {
      "image/png": "[encoded data removed]",
      "text/plain": [
       "<Figure size 432x288 with 1 Axes>"
      ]
     },
     "metadata": {},
     "output_type": "display_data"
    }
   ],
   "source": [
    "df_patient['age'].hist(bins=20)\n",
    "plt.xlabel('age')"
   ]
  },
  {
   "cell_type": "code",
   "execution_count": 227,
   "metadata": {},
   "outputs": [
    {
     "data": {
      "image/png": "[encoded data removed]",
      "text/plain": [
       "<Figure size 432x288 with 1 Axes>"
      ]
     },
     "metadata": {},
     "output_type": "display_data"
    }
   ],
   "source": [
    "df_patient['duration'].astype('timedelta64[D]').plot.hist(label='Recovered')\n",
    "df_patient['duration_death'].astype('timedelta64[D]').plot.hist(label='Deseased')\n",
    "plt.xlabel('days')\n",
    "plt.legend()\n",
    "plt.title('Duration of disease')\n",
    "plt.show()"
   ]
  },
  {
   "cell_type": "code",
   "execution_count": 228,
   "metadata": {},
   "outputs": [
    {
     "data": {
      "image/png": "[encoded data removed]",
      "text/plain": [
       "<Figure size 432x288 with 1 Axes>"
      ]
     },
     "metadata": {},
     "output_type": "display_data"
    }
   ],
   "source": [
    "df_patient[df_patient['state']=='deceased']['age'].hist(bins=20,alpha=0.5,label='decesed')\n",
    "df_patient[df_patient['state']=='released']['age'].hist(bins=20,alpha=0.5,label='released')\n",
    "plt.xlabel('age')\n",
    "plt.title('Patient age distribution')\n",
    "plt.legend();"
   ]
  },
  {
   "cell_type": "code",
   "execution_count": 229,
   "metadata": {},
   "outputs": [],
   "source": [
    "df_time=df_time.set_index('date')\n"
   ]
  },
  {
   "cell_type": "code",
   "execution_count": 232,
   "metadata": {},
   "outputs": [
    {
     "data": {
      "text/plain": [
       "<matplotlib.legend.Legend at 0x183a0c66d88>"
      ]
     },
     "execution_count": 232,
     "metadata": {},
     "output_type": "execute_result"
    },
    {
     "data": {
      "image/png": "[encoded data removed]",
      "text/plain": [
       "<Figure size 432x288 with 1 Axes>"
      ]
     },
     "metadata": {},
     "output_type": "display_data"
    }
   ],
   "source": [
    "df_time['test'].plot(label='Tested')\n",
    "df_time['confirmed'].plot(label='Confirmed')\n",
    "df_time['released'].plot(label='Released')\n",
    "plt.legend()\n"
   ]
  },
  {
   "cell_type": "code",
   "execution_count": null,
   "metadata": {},
   "outputs": [],
   "source": []
  }
 ],
 "metadata": {
  "kernelspec": {
   "display_name": "Python 3",
   "language": "python",
   "name": "python3"
  },
  "language_info": {
   "codemirror_mode": {
    "name": "ipython",
    "version": 3
   },
   "file_extension": ".py",
   "mimetype": "text/x-python",
   "name": "python",
   "nbconvert_exporter": "python",
   "pygments_lexer": "ipython3",
   "version": "3.7.5"
  }
 },
 "nbformat": 4,
 "nbformat_minor": 4
}
