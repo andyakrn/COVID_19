{
 "cells": [
  {
   "cell_type": "code",
   "execution_count": 24,
   "metadata": {},
   "outputs": [],
   "source": [
    "from zipfile import ZipFile\n",
    "import pandas as pd\n",
    "import kaggle\n",
    "import seaborn as sns\n",
    "import matplotlib.pyplot as plt"
   ]
  },
  {
   "cell_type": "code",
   "execution_count": 13,
   "metadata": {},
   "outputs": [],
   "source": [
    "# https://www.kaggle.com/kimjihoo/coronavirusdataset\n",
    "kaggle.api.authenticate()\n",
    "kg_url='kimjihoo/coronavirusdataset'\n",
    "files=['patient.csv','route.csv','time.csv']"
   ]
  },
  {
   "cell_type": "code",
   "execution_count": 156,
   "metadata": {},
   "outputs": [],
   "source": [
    "for file in files:\n",
    "    kaggle.api.dataset_download_file(kg_url,file,force=True, path='data')#force =Trure rewrites file if excist\n"
   ]
  },
  {
   "cell_type": "code",
   "execution_count": 158,
   "metadata": {},
   "outputs": [],
   "source": [
    "df_patient = pd.read_csv('data/'+files[0])\n",
    "df_route = pd.read_csv('data/'+files[1])\n",
    "df_time = pd.read_csv('data/'+files[2])"
   ]
  },
  {
   "cell_type": "code",
   "execution_count": 154,
   "metadata": {},
   "outputs": [],
   "source": [
    "df_time.rename(columns={'176':'Date'},inplace=True)\n",
    "df_time['Date']=pd.to_datetime(df_time['Date'])"
   ]
  },
  {
   "cell_type": "code",
   "execution_count": 152,
   "metadata": {},
   "outputs": [
    {
     "data": {
      "text/plain": [
       "(6284, (6285, 14))"
      ]
     },
     "execution_count": 152,
     "metadata": {},
     "output_type": "execute_result"
    }
   ],
   "source": [
    "df_patient['id'].nunique(), df_patient.shape"
   ]
  },
  {
   "cell_type": "code",
   "execution_count": 23,
   "metadata": {},
   "outputs": [
    {
     "data": {
      "text/plain": [
       "(20, (102, 7))"
      ]
     },
     "execution_count": 23,
     "metadata": {},
     "output_type": "execute_result"
    }
   ],
   "source": [
    "df_route['id'].nunique(), df_route.shape"
   ]
  },
  {
   "cell_type": "code",
   "execution_count": 28,
   "metadata": {},
   "outputs": [
    {
     "name": "stdout",
     "output_type": "stream",
     "text": [
      "<class 'pandas.core.frame.DataFrame'>\n",
      "RangeIndex: 6285 entries, 0 to 6284\n",
      "Data columns (total 14 columns):\n",
      " #   Column            Non-Null Count  Dtype  \n",
      "---  ------            --------------  -----  \n",
      " 0   id                6284 non-null   float64\n",
      " 1   sex               421 non-null    object \n",
      " 2   birth_year        408 non-null    float64\n",
      " 3   country           6283 non-null   object \n",
      " 4   region            409 non-null    object \n",
      " 5   group             83 non-null     object \n",
      " 6   infection_reason  146 non-null    object \n",
      " 7   infection_order   35 non-null     float64\n",
      " 8   infected_by       70 non-null     float64\n",
      " 9   contact_number    50 non-null     float64\n",
      " 10  confirmed_date    6284 non-null   object \n",
      " 11  released_date     38 non-null     object \n",
      " 12  deceased_date     23 non-null     object \n",
      " 13  state             6284 non-null   object \n",
      "dtypes: float64(5), object(9)\n",
      "memory usage: 687.5+ KB\n"
     ]
    }
   ],
   "source": [
    "df_patient.info()"
   ]
  },
  {
   "cell_type": "code",
   "execution_count": 35,
   "metadata": {},
   "outputs": [],
   "source": [
    "date_clm = ['confirmed_date','released_date','deceased_date']\n",
    "for clm in date_clm:\n",
    "    df_patient[clm]=pd.to_datetime(df_patient[clm])"
   ]
  },
  {
   "cell_type": "code",
   "execution_count": 80,
   "metadata": {},
   "outputs": [],
   "source": [
    "df_patient['duration']=df_patient['released_date']-df_patient['confirmed_date']\n",
    "df_patient['duration_death']=df_patient['deceased_date']-df_patient['confirmed_date']\n",
    "df_patient['age'] =2019- df_patient['birth_year']"
   ]
  },
  {
   "cell_type": "code",
   "execution_count": 81,
   "metadata": {},
   "outputs": [
    {
     "data": {
      "text/plain": [
       "<matplotlib.axes._subplots.AxesSubplot at 0x18398112448>"
      ]
     },
     "execution_count": 81,
     "metadata": {},
     "output_type": "execute_result"
    },
    {
     "data": {
      "image/png": "[encoded data removed]",
      "text/plain": [
       "<Figure size 432x288 with 1 Axes>"
      ]
     },
     "metadata": {
      "needs_background": "light"
     },
     "output_type": "display_data"
    }
   ],
   "source": [
    "df_patient['age'].hist(bins=20)"
   ]
  },
  {
   "cell_type": "code",
   "execution_count": 138,
   "metadata": {},
   "outputs": [
    {
     "data": {
      "image/png": "[encoded data removed]",
      "text/plain": [
       "<Figure size 432x288 with 1 Axes>"
      ]
     },
     "metadata": {
      "needs_background": "light"
     },
     "output_type": "display_data"
    }
   ],
   "source": [
    "df_patient['duration'].astype('timedelta64[D]').plot.hist(label='Recovered')\n",
    "df_patient['duration_death'].astype('timedelta64[D]').plot.hist(label='Deseased')\n",
    "plt.xlabel('days')\n",
    "plt.legend()\n",
    "plt.title('Duration of disease')\n",
    "plt.show()"
   ]
  },
  {
   "cell_type": "code",
   "execution_count": 140,
   "metadata": {},
   "outputs": [
    {
     "data": {
      "image/png": "[encoded data removed]",
      "text/plain": [
       "<Figure size 432x288 with 1 Axes>"
      ]
     },
     "metadata": {
      "needs_background": "light"
     },
     "output_type": "display_data"
    }
   ],
   "source": [
    "df_patient[df_patient['state']=='deceased']['age'].hist(bins=20,alpha=0.5,label='decesed')\n",
    "df_patient[df_patient['state']=='released']['age'].hist(bins=20,alpha=0.5,label='released')\n",
    "plt.xlabel('age')\n",
    "plt.title('Patient age distribution')\n",
    "plt.legend();"
   ]
  },
  {
   "cell_type": "code",
   "execution_count": 143,
   "metadata": {},
   "outputs": [
    {
     "data": {
      "text/plain": [
       "(46, 11)"
      ]
     },
     "execution_count": 143,
     "metadata": {},
     "output_type": "execute_result"
    }
   ],
   "source": [
    "df_time.shape"
   ]
  },
  {
   "cell_type": "code",
   "execution_count": 146,
   "metadata": {},
   "outputs": [
    {
     "data": {
      "text/plain": [
       "46"
      ]
     },
     "execution_count": 146,
     "metadata": {},
     "output_type": "execute_result"
    }
   ],
   "source": []
  },
  {
   "cell_type": "code",
   "execution_count": null,
   "metadata": {},
   "outputs": [],
   "source": []
  }
 ],
 "metadata": {
  "kernelspec": {
   "display_name": "Python 3",
   "language": "python",
   "name": "python3"
  },
  "language_info": {
   "codemirror_mode": {
    "name": "ipython",
    "version": 3
   },
   "file_extension": ".py",
   "mimetype": "text/x-python",
   "name": "python",
   "nbconvert_exporter": "python",
   "pygments_lexer": "ipython3",
   "version": "3.7.5"
  }
 },
 "nbformat": 4,
 "nbformat_minor": 4
}
