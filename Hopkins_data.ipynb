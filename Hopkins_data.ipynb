{
 "cells": [
  {
   "cell_type": "code",
   "execution_count": 1,
   "metadata": {
    "scrolled": true
   },
   "outputs": [
    {
     "name": "stdout",
     "output_type": "stream",
     "text": [
      "Requirement already satisfied: PyGithub in c:\\users\\brian\\anaconda3\\lib\\site-packages (1.46)\n",
      "Requirement already satisfied: deprecated in c:\\users\\brian\\anaconda3\\lib\\site-packages (from PyGithub) (1.2.7)\n",
      "Requirement already satisfied: pyjwt in c:\\users\\brian\\anaconda3\\lib\\site-packages (from PyGithub) (1.7.1)\n",
      "Requirement already satisfied: requests>=2.14.0 in c:\\users\\brian\\anaconda3\\lib\\site-packages (from PyGithub) (2.22.0)\n",
      "Requirement already satisfied: wrapt<2,>=1.10 in c:\\users\\brian\\anaconda3\\lib\\site-packages (from deprecated->PyGithub) (1.11.2)\n",
      "Requirement already satisfied: certifi>=2017.4.17 in c:\\users\\brian\\anaconda3\\lib\\site-packages (from requests>=2.14.0->PyGithub) (2019.9.11)\n",
      "Requirement already satisfied: urllib3!=1.25.0,!=1.25.1,<1.26,>=1.21.1 in c:\\users\\brian\\anaconda3\\lib\\site-packages (from requests>=2.14.0->PyGithub) (1.24.2)\n",
      "Requirement already satisfied: chardet<3.1.0,>=3.0.2 in c:\\users\\brian\\anaconda3\\lib\\site-packages (from requests>=2.14.0->PyGithub) (3.0.4)\n",
      "Requirement already satisfied: idna<2.9,>=2.5 in c:\\users\\brian\\anaconda3\\lib\\site-packages (from requests>=2.14.0->PyGithub) (2.8)\n"
     ]
    }
   ],
   "source": [
    "!pip install PyGithub"
   ]
  },
  {
   "cell_type": "code",
   "execution_count": 2,
   "metadata": {},
   "outputs": [],
   "source": [
    "from github import Github\n",
    "import os\n",
    "import pickle\n",
    "import base64\n",
    "import pandas as pd\n",
    "import numpy as np\n",
    "import re\n",
    "import matplotlib.pyplot as plt\n",
    "import plotly.graph_objects as go\n",
    "import seaborn as sns\n",
    "import plotly.express as px\n",
    "from ipywidgets import interact\n",
    "import datetime as dt\n",
    "sns.set()"
   ]
  },
  {
   "cell_type": "code",
   "execution_count": 3,
   "metadata": {},
   "outputs": [],
   "source": [
    "with open(\"github.txt\") as myfile:\n",
    "    firstNlines=myfile.readlines()[0:2]\n",
    "myfile.close()\n",
    "g = Github(firstNlines[0].strip(), firstNlines[1])"
   ]
  },
  {
   "cell_type": "code",
   "execution_count": 4,
   "metadata": {},
   "outputs": [],
   "source": [
    "repo=g.get_repo('CSSEGISandData/COVID-19')\n",
    "contents = repo.get_contents(\"\")"
   ]
  },
  {
   "cell_type": "code",
   "execution_count": 5,
   "metadata": {},
   "outputs": [],
   "source": [
    "def get_sha_for_tag(repository, tag):\n",
    "    \"\"\"\n",
    "    Returns a commit PyGithub object for the specified repository and tag.\n",
    "    \"\"\"\n",
    "    branches = repository.get_branches()\n",
    "    matched_branches = [match for match in branches if match.name == tag]\n",
    "    if matched_branches:\n",
    "        return matched_branches[0].commit.sha\n",
    "\n",
    "    tags = repository.get_tags()\n",
    "    matched_tags = [match for match in tags if match.name == tag]\n",
    "    if not matched_tags:\n",
    "        raise ValueError('No Tag or Branch exists with that name')\n",
    "    return matched_tags[0].commit.sha"
   ]
  },
  {
   "cell_type": "code",
   "execution_count": 6,
   "metadata": {},
   "outputs": [],
   "source": [
    "def download_directory(repository, sha, server_path, local_path='data_csse/'):\n",
    "    \"\"\"\n",
    "    Download all contents at server_path with commit tag sha in\n",
    "    the repository.\n",
    "    \"\"\"\n",
    "    contents = repository.get_contents(server_path, ref=sha)\n",
    "    if not os.path.exists(local_path):\n",
    "        os.makedirs(local_path)\n",
    "    for content in contents:\n",
    "        #print(\"Processing %s\" % content.path)\n",
    "        if content.type == 'dir':\n",
    "            download_directory(repository, sha, content.path)\n",
    "        else:\n",
    "            try:\n",
    "                path = content.path\n",
    "                file_content = repository.get_contents(path, ref=sha)\n",
    "                file_data = base64.b64decode(file_content.content).decode('ascii')\n",
    "                file_out = open(local_path+content.name, \"w\")\n",
    "                file_out.write(local_path+file_data)\n",
    "                file_out.close()\n",
    "            except:\n",
    "                pass"
   ]
  },
  {
   "cell_type": "code",
   "execution_count": 7,
   "metadata": {},
   "outputs": [],
   "source": [
    "sha = get_sha_for_tag(repo, 'master')"
   ]
  },
  {
   "cell_type": "code",
   "execution_count": 8,
   "metadata": {},
   "outputs": [],
   "source": [
    "download_directory(repo, sha, 'csse_covid_19_data/csse_covid_19_time_series/')"
   ]
  },
  {
   "cell_type": "code",
   "execution_count": 9,
   "metadata": {},
   "outputs": [],
   "source": [
    "df = pd.read_csv('data_csse/02-01-2020.csv')"
   ]
  },
  {
   "cell_type": "code",
   "execution_count": 10,
   "metadata": {},
   "outputs": [],
   "source": [
    "from os import listdir\n",
    "from os.path import isfile, join\n",
    "mypath = 'data_csse/'\n",
    "onlyfiles = [f for f in listdir(mypath) if isfile(join(mypath, f))]"
   ]
  },
  {
   "cell_type": "code",
   "execution_count": 11,
   "metadata": {
    "scrolled": true
   },
   "outputs": [
    {
     "data": {
      "text/plain": [
       "['.gitignore',\n",
       " '02-01-2020.csv',\n",
       " '02-02-2020.csv',\n",
       " '02-03-2020.csv',\n",
       " '02-04-2020.csv',\n",
       " '02-05-2020.csv',\n",
       " '02-06-2020.csv',\n",
       " '02-07-2020.csv',\n",
       " '02-08-2020.csv',\n",
       " '02-09-2020.csv',\n",
       " '02-10-2020.csv',\n",
       " '02-11-2020.csv',\n",
       " '02-12-2020.csv',\n",
       " '02-13-2020.csv',\n",
       " '02-14-2020.csv',\n",
       " '02-15-2020.csv',\n",
       " '02-16-2020.csv',\n",
       " '02-17-2020.csv',\n",
       " '02-18-2020.csv',\n",
       " '02-19-2020.csv',\n",
       " '02-20-2020.csv',\n",
       " '02-21-2020.csv',\n",
       " '02-22-2020.csv',\n",
       " '02-23-2020.csv',\n",
       " '02-24-2020.csv',\n",
       " '02-25-2020.csv',\n",
       " '02-26-2020.csv',\n",
       " '02-27-2020.csv',\n",
       " '02-28-2020.csv',\n",
       " '02-29-2020.csv',\n",
       " '03-01-2020.csv',\n",
       " '03-02-2020.csv',\n",
       " '03-03-2020.csv',\n",
       " '03-04-2020.csv',\n",
       " '03-05-2020.csv',\n",
       " '03-06-2020.csv',\n",
       " '03-07-2020.csv',\n",
       " '03-08-2020.csv',\n",
       " '03-09-2020.csv',\n",
       " '03-10-2020.csv',\n",
       " '03-11-2020.csv',\n",
       " '03-12-2020.csv',\n",
       " '03-14-2020.csv',\n",
       " '03-15-2020.csv',\n",
       " '03-16-2020.csv',\n",
       " '03-17-2020.csv',\n",
       " '03-18-2020.csv',\n",
       " '03-19-2020.csv',\n",
       " 'README.md',\n",
       " 'time_series_19-covid-Confirmed.csv',\n",
       " 'time_series_19-covid-Deaths.csv',\n",
       " 'time_series_19-covid-Recovered.csv']"
      ]
     },
     "execution_count": 11,
     "metadata": {},
     "output_type": "execute_result"
    }
   ],
   "source": [
    "onlyfiles"
   ]
  },
  {
   "cell_type": "code",
   "execution_count": 12,
   "metadata": {},
   "outputs": [],
   "source": [
    "def is_non_zero_file(fpath):\n",
    "    return os.path.isfile(fpath) and os.path.getsize(fpath) > 0"
   ]
  },
  {
   "cell_type": "code",
   "execution_count": 13,
   "metadata": {},
   "outputs": [],
   "source": [
    "timeseries_files = []\n",
    "for file in onlyfiles:\n",
    "    if is_non_zero_file(mypath + file) and file[:14]=='time_series_19':\n",
    "        timeseries_files.append(mypath + file)"
   ]
  },
  {
   "cell_type": "code",
   "execution_count": 14,
   "metadata": {},
   "outputs": [
    {
     "data": {
      "text/plain": [
       "['data_csse/time_series_19-covid-Confirmed.csv',\n",
       " 'data_csse/time_series_19-covid-Deaths.csv',\n",
       " 'data_csse/time_series_19-covid-Recovered.csv']"
      ]
     },
     "execution_count": 14,
     "metadata": {},
     "output_type": "execute_result"
    }
   ],
   "source": [
    "timeseries_files"
   ]
  },
  {
   "cell_type": "code",
   "execution_count": 15,
   "metadata": {},
   "outputs": [],
   "source": [
    "def preprocess_df(df, name):\n",
    "    df.drop(columns=['data_csse/Province/State', 'Lat', 'Long'], inplace=True)\n",
    "    df = df.groupby(['Country/Region']).agg('sum')\n",
    "    df = df.transpose().reset_index()\n",
    "    country_list = list(df.columns)[1:]\n",
    "    df = pd.melt(df, id_vars='index', value_vars=country_list)\n",
    "    df = df.rename(columns={'index':'Date', 'value':name})\n",
    "    return df"
   ]
  },
  {
   "cell_type": "code",
   "execution_count": 16,
   "metadata": {},
   "outputs": [],
   "source": [
    "confirmed_df = pd.read_csv('data_csse/time_series_19-covid-Confirmed.csv')\n",
    "deaths_df = pd.read_csv('data_csse/time_series_19-covid-Deaths.csv')\n",
    "recovered_df = pd.read_csv('data_csse/time_series_19-covid-Recovered.csv')"
   ]
  },
  {
   "cell_type": "code",
   "execution_count": 17,
   "metadata": {},
   "outputs": [],
   "source": [
    "confirmed_df = preprocess_df(confirmed_df, 'Confirmed')\n",
    "deaths_df = preprocess_df(deaths_df, 'Deaths')\n",
    "recovered_df = preprocess_df(recovered_df, 'Recovered')"
   ]
  },
  {
   "cell_type": "code",
   "execution_count": 18,
   "metadata": {},
   "outputs": [
    {
     "data": {
      "text/html": [
       "<div>\n",
       "<style scoped>\n",
       "    .dataframe tbody tr th:only-of-type {\n",
       "        vertical-align: middle;\n",
       "    }\n",
       "\n",
       "    .dataframe tbody tr th {\n",
       "        vertical-align: top;\n",
       "    }\n",
       "\n",
       "    .dataframe thead th {\n",
       "        text-align: right;\n",
       "    }\n",
       "</style>\n",
       "<table border=\"1\" class=\"dataframe\">\n",
       "  <thead>\n",
       "    <tr style=\"text-align: right;\">\n",
       "      <th></th>\n",
       "      <th>Date</th>\n",
       "      <th>Country/Region</th>\n",
       "      <th>Confirmed</th>\n",
       "    </tr>\n",
       "  </thead>\n",
       "  <tbody>\n",
       "    <tr>\n",
       "      <th>0</th>\n",
       "      <td>1/22/20</td>\n",
       "      <td>Afghanistan</td>\n",
       "      <td>0</td>\n",
       "    </tr>\n",
       "    <tr>\n",
       "      <th>1</th>\n",
       "      <td>1/23/20</td>\n",
       "      <td>Afghanistan</td>\n",
       "      <td>0</td>\n",
       "    </tr>\n",
       "    <tr>\n",
       "      <th>2</th>\n",
       "      <td>1/24/20</td>\n",
       "      <td>Afghanistan</td>\n",
       "      <td>0</td>\n",
       "    </tr>\n",
       "    <tr>\n",
       "      <th>3</th>\n",
       "      <td>1/25/20</td>\n",
       "      <td>Afghanistan</td>\n",
       "      <td>0</td>\n",
       "    </tr>\n",
       "    <tr>\n",
       "      <th>4</th>\n",
       "      <td>1/26/20</td>\n",
       "      <td>Afghanistan</td>\n",
       "      <td>0</td>\n",
       "    </tr>\n",
       "    <tr>\n",
       "      <th>...</th>\n",
       "      <td>...</td>\n",
       "      <td>...</td>\n",
       "      <td>...</td>\n",
       "    </tr>\n",
       "    <tr>\n",
       "      <th>8985</th>\n",
       "      <td>3/15/20</td>\n",
       "      <td>Zambia</td>\n",
       "      <td>0</td>\n",
       "    </tr>\n",
       "    <tr>\n",
       "      <th>8986</th>\n",
       "      <td>3/16/20</td>\n",
       "      <td>Zambia</td>\n",
       "      <td>0</td>\n",
       "    </tr>\n",
       "    <tr>\n",
       "      <th>8987</th>\n",
       "      <td>3/17/20</td>\n",
       "      <td>Zambia</td>\n",
       "      <td>0</td>\n",
       "    </tr>\n",
       "    <tr>\n",
       "      <th>8988</th>\n",
       "      <td>3/18/20</td>\n",
       "      <td>Zambia</td>\n",
       "      <td>2</td>\n",
       "    </tr>\n",
       "    <tr>\n",
       "      <th>8989</th>\n",
       "      <td>3/19/20</td>\n",
       "      <td>Zambia</td>\n",
       "      <td>2</td>\n",
       "    </tr>\n",
       "  </tbody>\n",
       "</table>\n",
       "<p>8990 rows × 3 columns</p>\n",
       "</div>"
      ],
      "text/plain": [
       "         Date Country/Region  Confirmed\n",
       "0     1/22/20    Afghanistan          0\n",
       "1     1/23/20    Afghanistan          0\n",
       "2     1/24/20    Afghanistan          0\n",
       "3     1/25/20    Afghanistan          0\n",
       "4     1/26/20    Afghanistan          0\n",
       "...       ...            ...        ...\n",
       "8985  3/15/20         Zambia          0\n",
       "8986  3/16/20         Zambia          0\n",
       "8987  3/17/20         Zambia          0\n",
       "8988  3/18/20         Zambia          2\n",
       "8989  3/19/20         Zambia          2\n",
       "\n",
       "[8990 rows x 3 columns]"
      ]
     },
     "execution_count": 18,
     "metadata": {},
     "output_type": "execute_result"
    }
   ],
   "source": [
    "confirmed_df"
   ]
  },
  {
   "cell_type": "code",
   "execution_count": 19,
   "metadata": {
    "scrolled": true
   },
   "outputs": [],
   "source": [
    "confirmed_and_deaths = pd.merge(confirmed_df, deaths_df, how='inner', on=['Date', 'Country/Region'])\n"
   ]
  },
  {
   "cell_type": "code",
   "execution_count": 20,
   "metadata": {},
   "outputs": [],
   "source": [
    "grouped_df = pd.merge(confirmed_and_deaths, recovered_df, how='inner', on=['Date', 'Country/Region'])"
   ]
  },
  {
   "cell_type": "code",
   "execution_count": 21,
   "metadata": {},
   "outputs": [
    {
     "name": "stdout",
     "output_type": "stream",
     "text": [
      "<class 'pandas.core.frame.DataFrame'>\n",
      "Int64Index: 8990 entries, 0 to 8989\n",
      "Data columns (total 5 columns):\n",
      "Date              8990 non-null object\n",
      "Country/Region    8990 non-null object\n",
      "Confirmed         8990 non-null int64\n",
      "Deaths            8990 non-null int64\n",
      "Recovered         8990 non-null int64\n",
      "dtypes: int64(3), object(2)\n",
      "memory usage: 421.4+ KB\n"
     ]
    }
   ],
   "source": [
    "grouped_df.info()"
   ]
  },
  {
   "cell_type": "code",
   "execution_count": 22,
   "metadata": {},
   "outputs": [],
   "source": [
    "grouped_df['Active'] = grouped_df['Confirmed']-grouped_df['Deaths']-grouped_df['Recovered']"
   ]
  },
  {
   "cell_type": "code",
   "execution_count": 23,
   "metadata": {},
   "outputs": [],
   "source": [
    "grouped_df['Date'] = grouped_df['Date'].apply(lambda x: pd.to_datetime(x))"
   ]
  },
  {
   "cell_type": "code",
   "execution_count": 24,
   "metadata": {},
   "outputs": [],
   "source": [
    "pop_df = pd.read_csv('pop_df.csv')"
   ]
  },
  {
   "cell_type": "code",
   "execution_count": 25,
   "metadata": {},
   "outputs": [],
   "source": [
    "pop_df['Country/Region'] = pop_df['Country/Region'].apply(lambda x: x.replace('Mainland China', 'China'))"
   ]
  },
  {
   "cell_type": "code",
   "execution_count": 26,
   "metadata": {},
   "outputs": [],
   "source": [
    "pop_df.drop(columns=['Unnamed: 0'], inplace=True)"
   ]
  },
  {
   "cell_type": "code",
   "execution_count": 27,
   "metadata": {},
   "outputs": [],
   "source": [
    "grouped_df = pd.merge(grouped_df, pop_df, on='Country/Region')"
   ]
  },
  {
   "cell_type": "code",
   "execution_count": 28,
   "metadata": {},
   "outputs": [],
   "source": [
    "grouped_df['Confirmed Cases Per 1K'] = grouped_df['Confirmed']/grouped_df['PopTotal']"
   ]
  },
  {
   "cell_type": "code",
   "execution_count": 36,
   "metadata": {},
   "outputs": [
    {
     "data": {
      "text/html": [
       "<div>\n",
       "<style scoped>\n",
       "    .dataframe tbody tr th:only-of-type {\n",
       "        vertical-align: middle;\n",
       "    }\n",
       "\n",
       "    .dataframe tbody tr th {\n",
       "        vertical-align: top;\n",
       "    }\n",
       "\n",
       "    .dataframe thead th {\n",
       "        text-align: right;\n",
       "    }\n",
       "</style>\n",
       "<table border=\"1\" class=\"dataframe\">\n",
       "  <thead>\n",
       "    <tr style=\"text-align: right;\">\n",
       "      <th></th>\n",
       "      <th>Date</th>\n",
       "      <th>Country/Region</th>\n",
       "      <th>Confirmed</th>\n",
       "      <th>Deaths</th>\n",
       "      <th>Recovered</th>\n",
       "      <th>Active</th>\n",
       "      <th>PopTotal</th>\n",
       "      <th>Confirmed Cases Per 1K</th>\n",
       "    </tr>\n",
       "  </thead>\n",
       "  <tbody>\n",
       "    <tr>\n",
       "      <th>1392</th>\n",
       "      <td>2020-01-22 00:00:00</td>\n",
       "      <td>China</td>\n",
       "      <td>548</td>\n",
       "      <td>17</td>\n",
       "      <td>28</td>\n",
       "      <td>503</td>\n",
       "      <td>1439323.774</td>\n",
       "      <td>0.000381</td>\n",
       "    </tr>\n",
       "    <tr>\n",
       "      <th>1393</th>\n",
       "      <td>2020-01-23 00:00:00</td>\n",
       "      <td>China</td>\n",
       "      <td>643</td>\n",
       "      <td>18</td>\n",
       "      <td>30</td>\n",
       "      <td>595</td>\n",
       "      <td>1439323.774</td>\n",
       "      <td>0.000447</td>\n",
       "    </tr>\n",
       "    <tr>\n",
       "      <th>1394</th>\n",
       "      <td>2020-01-24 00:00:00</td>\n",
       "      <td>China</td>\n",
       "      <td>920</td>\n",
       "      <td>26</td>\n",
       "      <td>36</td>\n",
       "      <td>858</td>\n",
       "      <td>1439323.774</td>\n",
       "      <td>0.000639</td>\n",
       "    </tr>\n",
       "    <tr>\n",
       "      <th>1395</th>\n",
       "      <td>2020-01-25 00:00:00</td>\n",
       "      <td>China</td>\n",
       "      <td>1406</td>\n",
       "      <td>42</td>\n",
       "      <td>39</td>\n",
       "      <td>1325</td>\n",
       "      <td>1439323.774</td>\n",
       "      <td>0.000977</td>\n",
       "    </tr>\n",
       "    <tr>\n",
       "      <th>1396</th>\n",
       "      <td>2020-01-26 00:00:00</td>\n",
       "      <td>China</td>\n",
       "      <td>2075</td>\n",
       "      <td>56</td>\n",
       "      <td>49</td>\n",
       "      <td>1970</td>\n",
       "      <td>1439323.774</td>\n",
       "      <td>0.001442</td>\n",
       "    </tr>\n",
       "    <tr>\n",
       "      <th>1397</th>\n",
       "      <td>2020-01-27 00:00:00</td>\n",
       "      <td>China</td>\n",
       "      <td>2877</td>\n",
       "      <td>82</td>\n",
       "      <td>58</td>\n",
       "      <td>2737</td>\n",
       "      <td>1439323.774</td>\n",
       "      <td>0.001999</td>\n",
       "    </tr>\n",
       "    <tr>\n",
       "      <th>1398</th>\n",
       "      <td>2020-01-28 00:00:00</td>\n",
       "      <td>China</td>\n",
       "      <td>5509</td>\n",
       "      <td>131</td>\n",
       "      <td>101</td>\n",
       "      <td>5277</td>\n",
       "      <td>1439323.774</td>\n",
       "      <td>0.003827</td>\n",
       "    </tr>\n",
       "    <tr>\n",
       "      <th>1399</th>\n",
       "      <td>2020-01-29 00:00:00</td>\n",
       "      <td>China</td>\n",
       "      <td>6087</td>\n",
       "      <td>133</td>\n",
       "      <td>120</td>\n",
       "      <td>5834</td>\n",
       "      <td>1439323.774</td>\n",
       "      <td>0.004229</td>\n",
       "    </tr>\n",
       "    <tr>\n",
       "      <th>1400</th>\n",
       "      <td>2020-01-30 00:00:00</td>\n",
       "      <td>China</td>\n",
       "      <td>8141</td>\n",
       "      <td>171</td>\n",
       "      <td>135</td>\n",
       "      <td>7835</td>\n",
       "      <td>1439323.774</td>\n",
       "      <td>0.005656</td>\n",
       "    </tr>\n",
       "    <tr>\n",
       "      <th>1401</th>\n",
       "      <td>2020-01-31 00:00:00</td>\n",
       "      <td>China</td>\n",
       "      <td>9802</td>\n",
       "      <td>213</td>\n",
       "      <td>214</td>\n",
       "      <td>9375</td>\n",
       "      <td>1439323.774</td>\n",
       "      <td>0.006810</td>\n",
       "    </tr>\n",
       "    <tr>\n",
       "      <th>1402</th>\n",
       "      <td>2020-02-01 00:00:00</td>\n",
       "      <td>China</td>\n",
       "      <td>11891</td>\n",
       "      <td>259</td>\n",
       "      <td>275</td>\n",
       "      <td>11357</td>\n",
       "      <td>1439323.774</td>\n",
       "      <td>0.008262</td>\n",
       "    </tr>\n",
       "    <tr>\n",
       "      <th>1403</th>\n",
       "      <td>2020-02-02 00:00:00</td>\n",
       "      <td>China</td>\n",
       "      <td>16630</td>\n",
       "      <td>361</td>\n",
       "      <td>463</td>\n",
       "      <td>15806</td>\n",
       "      <td>1439323.774</td>\n",
       "      <td>0.011554</td>\n",
       "    </tr>\n",
       "    <tr>\n",
       "      <th>1404</th>\n",
       "      <td>2020-02-03 00:00:00</td>\n",
       "      <td>China</td>\n",
       "      <td>19716</td>\n",
       "      <td>425</td>\n",
       "      <td>614</td>\n",
       "      <td>18677</td>\n",
       "      <td>1439323.774</td>\n",
       "      <td>0.013698</td>\n",
       "    </tr>\n",
       "    <tr>\n",
       "      <th>1405</th>\n",
       "      <td>2020-02-04 00:00:00</td>\n",
       "      <td>China</td>\n",
       "      <td>23707</td>\n",
       "      <td>491</td>\n",
       "      <td>843</td>\n",
       "      <td>22373</td>\n",
       "      <td>1439323.774</td>\n",
       "      <td>0.016471</td>\n",
       "    </tr>\n",
       "    <tr>\n",
       "      <th>1406</th>\n",
       "      <td>2020-02-05 00:00:00</td>\n",
       "      <td>China</td>\n",
       "      <td>27440</td>\n",
       "      <td>563</td>\n",
       "      <td>1115</td>\n",
       "      <td>25762</td>\n",
       "      <td>1439323.774</td>\n",
       "      <td>0.019065</td>\n",
       "    </tr>\n",
       "    <tr>\n",
       "      <th>1407</th>\n",
       "      <td>2020-02-06 00:00:00</td>\n",
       "      <td>China</td>\n",
       "      <td>30587</td>\n",
       "      <td>633</td>\n",
       "      <td>1477</td>\n",
       "      <td>28477</td>\n",
       "      <td>1439323.774</td>\n",
       "      <td>0.021251</td>\n",
       "    </tr>\n",
       "    <tr>\n",
       "      <th>1408</th>\n",
       "      <td>2020-02-07 00:00:00</td>\n",
       "      <td>China</td>\n",
       "      <td>34110</td>\n",
       "      <td>718</td>\n",
       "      <td>1999</td>\n",
       "      <td>31393</td>\n",
       "      <td>1439323.774</td>\n",
       "      <td>0.023699</td>\n",
       "    </tr>\n",
       "    <tr>\n",
       "      <th>1409</th>\n",
       "      <td>2020-02-08 00:00:00</td>\n",
       "      <td>China</td>\n",
       "      <td>36814</td>\n",
       "      <td>805</td>\n",
       "      <td>2596</td>\n",
       "      <td>33413</td>\n",
       "      <td>1439323.774</td>\n",
       "      <td>0.025577</td>\n",
       "    </tr>\n",
       "    <tr>\n",
       "      <th>1410</th>\n",
       "      <td>2020-02-09 00:00:00</td>\n",
       "      <td>China</td>\n",
       "      <td>39829</td>\n",
       "      <td>905</td>\n",
       "      <td>3219</td>\n",
       "      <td>35705</td>\n",
       "      <td>1439323.774</td>\n",
       "      <td>0.027672</td>\n",
       "    </tr>\n",
       "    <tr>\n",
       "      <th>1411</th>\n",
       "      <td>2020-02-10 00:00:00</td>\n",
       "      <td>China</td>\n",
       "      <td>42354</td>\n",
       "      <td>1012</td>\n",
       "      <td>3918</td>\n",
       "      <td>37424</td>\n",
       "      <td>1439323.774</td>\n",
       "      <td>0.029426</td>\n",
       "    </tr>\n",
       "    <tr>\n",
       "      <th>1412</th>\n",
       "      <td>2020-02-11 00:00:00</td>\n",
       "      <td>China</td>\n",
       "      <td>44386</td>\n",
       "      <td>1112</td>\n",
       "      <td>4636</td>\n",
       "      <td>38638</td>\n",
       "      <td>1439323.774</td>\n",
       "      <td>0.030838</td>\n",
       "    </tr>\n",
       "    <tr>\n",
       "      <th>1413</th>\n",
       "      <td>2020-02-12 00:00:00</td>\n",
       "      <td>China</td>\n",
       "      <td>44759</td>\n",
       "      <td>1117</td>\n",
       "      <td>5082</td>\n",
       "      <td>38560</td>\n",
       "      <td>1439323.774</td>\n",
       "      <td>0.031097</td>\n",
       "    </tr>\n",
       "    <tr>\n",
       "      <th>1414</th>\n",
       "      <td>2020-02-13 00:00:00</td>\n",
       "      <td>China</td>\n",
       "      <td>59895</td>\n",
       "      <td>1369</td>\n",
       "      <td>6217</td>\n",
       "      <td>52309</td>\n",
       "      <td>1439323.774</td>\n",
       "      <td>0.041613</td>\n",
       "    </tr>\n",
       "    <tr>\n",
       "      <th>1415</th>\n",
       "      <td>2020-02-14 00:00:00</td>\n",
       "      <td>China</td>\n",
       "      <td>66358</td>\n",
       "      <td>1521</td>\n",
       "      <td>7977</td>\n",
       "      <td>56860</td>\n",
       "      <td>1439323.774</td>\n",
       "      <td>0.046104</td>\n",
       "    </tr>\n",
       "    <tr>\n",
       "      <th>1416</th>\n",
       "      <td>2020-02-15 00:00:00</td>\n",
       "      <td>China</td>\n",
       "      <td>68413</td>\n",
       "      <td>1663</td>\n",
       "      <td>9298</td>\n",
       "      <td>57452</td>\n",
       "      <td>1439323.774</td>\n",
       "      <td>0.047531</td>\n",
       "    </tr>\n",
       "    <tr>\n",
       "      <th>1417</th>\n",
       "      <td>2020-02-16 00:00:00</td>\n",
       "      <td>China</td>\n",
       "      <td>70513</td>\n",
       "      <td>1766</td>\n",
       "      <td>10755</td>\n",
       "      <td>57992</td>\n",
       "      <td>1439323.774</td>\n",
       "      <td>0.048990</td>\n",
       "    </tr>\n",
       "    <tr>\n",
       "      <th>1418</th>\n",
       "      <td>2020-02-17 00:00:00</td>\n",
       "      <td>China</td>\n",
       "      <td>72434</td>\n",
       "      <td>1864</td>\n",
       "      <td>12462</td>\n",
       "      <td>58108</td>\n",
       "      <td>1439323.774</td>\n",
       "      <td>0.050325</td>\n",
       "    </tr>\n",
       "    <tr>\n",
       "      <th>1419</th>\n",
       "      <td>2020-02-18 00:00:00</td>\n",
       "      <td>China</td>\n",
       "      <td>74211</td>\n",
       "      <td>2003</td>\n",
       "      <td>14206</td>\n",
       "      <td>58002</td>\n",
       "      <td>1439323.774</td>\n",
       "      <td>0.051560</td>\n",
       "    </tr>\n",
       "    <tr>\n",
       "      <th>1420</th>\n",
       "      <td>2020-02-19 00:00:00</td>\n",
       "      <td>China</td>\n",
       "      <td>74619</td>\n",
       "      <td>2116</td>\n",
       "      <td>15962</td>\n",
       "      <td>56541</td>\n",
       "      <td>1439323.774</td>\n",
       "      <td>0.051843</td>\n",
       "    </tr>\n",
       "    <tr>\n",
       "      <th>1421</th>\n",
       "      <td>2020-02-20 00:00:00</td>\n",
       "      <td>China</td>\n",
       "      <td>75077</td>\n",
       "      <td>2238</td>\n",
       "      <td>18014</td>\n",
       "      <td>54825</td>\n",
       "      <td>1439323.774</td>\n",
       "      <td>0.052161</td>\n",
       "    </tr>\n",
       "    <tr>\n",
       "      <th>1422</th>\n",
       "      <td>2020-02-21 00:00:00</td>\n",
       "      <td>China</td>\n",
       "      <td>75550</td>\n",
       "      <td>2238</td>\n",
       "      <td>18704</td>\n",
       "      <td>54608</td>\n",
       "      <td>1439323.774</td>\n",
       "      <td>0.052490</td>\n",
       "    </tr>\n",
       "    <tr>\n",
       "      <th>1423</th>\n",
       "      <td>2020-02-22 00:00:00</td>\n",
       "      <td>China</td>\n",
       "      <td>77001</td>\n",
       "      <td>2443</td>\n",
       "      <td>22699</td>\n",
       "      <td>51859</td>\n",
       "      <td>1439323.774</td>\n",
       "      <td>0.053498</td>\n",
       "    </tr>\n",
       "    <tr>\n",
       "      <th>1424</th>\n",
       "      <td>2020-02-23 00:00:00</td>\n",
       "      <td>China</td>\n",
       "      <td>77022</td>\n",
       "      <td>2445</td>\n",
       "      <td>23187</td>\n",
       "      <td>51390</td>\n",
       "      <td>1439323.774</td>\n",
       "      <td>0.053513</td>\n",
       "    </tr>\n",
       "    <tr>\n",
       "      <th>1425</th>\n",
       "      <td>2020-02-24 00:00:00</td>\n",
       "      <td>China</td>\n",
       "      <td>77241</td>\n",
       "      <td>2595</td>\n",
       "      <td>25015</td>\n",
       "      <td>49631</td>\n",
       "      <td>1439323.774</td>\n",
       "      <td>0.053665</td>\n",
       "    </tr>\n",
       "    <tr>\n",
       "      <th>1426</th>\n",
       "      <td>2020-02-25 00:00:00</td>\n",
       "      <td>China</td>\n",
       "      <td>77754</td>\n",
       "      <td>2665</td>\n",
       "      <td>27676</td>\n",
       "      <td>47413</td>\n",
       "      <td>1439323.774</td>\n",
       "      <td>0.054021</td>\n",
       "    </tr>\n",
       "    <tr>\n",
       "      <th>1427</th>\n",
       "      <td>2020-02-26 00:00:00</td>\n",
       "      <td>China</td>\n",
       "      <td>78166</td>\n",
       "      <td>2717</td>\n",
       "      <td>30084</td>\n",
       "      <td>45365</td>\n",
       "      <td>1439323.774</td>\n",
       "      <td>0.054307</td>\n",
       "    </tr>\n",
       "    <tr>\n",
       "      <th>1428</th>\n",
       "      <td>2020-02-27 00:00:00</td>\n",
       "      <td>China</td>\n",
       "      <td>78600</td>\n",
       "      <td>2746</td>\n",
       "      <td>32930</td>\n",
       "      <td>42924</td>\n",
       "      <td>1439323.774</td>\n",
       "      <td>0.054609</td>\n",
       "    </tr>\n",
       "    <tr>\n",
       "      <th>1429</th>\n",
       "      <td>2020-02-28 00:00:00</td>\n",
       "      <td>China</td>\n",
       "      <td>78928</td>\n",
       "      <td>2790</td>\n",
       "      <td>36329</td>\n",
       "      <td>39809</td>\n",
       "      <td>1439323.774</td>\n",
       "      <td>0.054837</td>\n",
       "    </tr>\n",
       "    <tr>\n",
       "      <th>1430</th>\n",
       "      <td>2020-02-29 00:00:00</td>\n",
       "      <td>China</td>\n",
       "      <td>79356</td>\n",
       "      <td>2837</td>\n",
       "      <td>39320</td>\n",
       "      <td>37199</td>\n",
       "      <td>1439323.774</td>\n",
       "      <td>0.055134</td>\n",
       "    </tr>\n",
       "    <tr>\n",
       "      <th>1431</th>\n",
       "      <td>2020-03-01 00:00:00</td>\n",
       "      <td>China</td>\n",
       "      <td>79932</td>\n",
       "      <td>2872</td>\n",
       "      <td>42162</td>\n",
       "      <td>34898</td>\n",
       "      <td>1439323.774</td>\n",
       "      <td>0.055534</td>\n",
       "    </tr>\n",
       "    <tr>\n",
       "      <th>1432</th>\n",
       "      <td>2020-03-02 00:00:00</td>\n",
       "      <td>China</td>\n",
       "      <td>80136</td>\n",
       "      <td>2914</td>\n",
       "      <td>44854</td>\n",
       "      <td>32368</td>\n",
       "      <td>1439323.774</td>\n",
       "      <td>0.055676</td>\n",
       "    </tr>\n",
       "    <tr>\n",
       "      <th>1433</th>\n",
       "      <td>2020-03-03 00:00:00</td>\n",
       "      <td>China</td>\n",
       "      <td>80261</td>\n",
       "      <td>2947</td>\n",
       "      <td>47450</td>\n",
       "      <td>29864</td>\n",
       "      <td>1439323.774</td>\n",
       "      <td>0.055763</td>\n",
       "    </tr>\n",
       "    <tr>\n",
       "      <th>1434</th>\n",
       "      <td>2020-03-04 00:00:00</td>\n",
       "      <td>China</td>\n",
       "      <td>80386</td>\n",
       "      <td>2983</td>\n",
       "      <td>50001</td>\n",
       "      <td>27402</td>\n",
       "      <td>1439323.774</td>\n",
       "      <td>0.055850</td>\n",
       "    </tr>\n",
       "    <tr>\n",
       "      <th>1435</th>\n",
       "      <td>2020-03-05 00:00:00</td>\n",
       "      <td>China</td>\n",
       "      <td>80537</td>\n",
       "      <td>3015</td>\n",
       "      <td>52292</td>\n",
       "      <td>25230</td>\n",
       "      <td>1439323.774</td>\n",
       "      <td>0.055955</td>\n",
       "    </tr>\n",
       "    <tr>\n",
       "      <th>1436</th>\n",
       "      <td>2020-03-06 00:00:00</td>\n",
       "      <td>China</td>\n",
       "      <td>80690</td>\n",
       "      <td>3044</td>\n",
       "      <td>53944</td>\n",
       "      <td>23702</td>\n",
       "      <td>1439323.774</td>\n",
       "      <td>0.056061</td>\n",
       "    </tr>\n",
       "    <tr>\n",
       "      <th>1437</th>\n",
       "      <td>2020-03-07 00:00:00</td>\n",
       "      <td>China</td>\n",
       "      <td>80770</td>\n",
       "      <td>3072</td>\n",
       "      <td>55539</td>\n",
       "      <td>22159</td>\n",
       "      <td>1439323.774</td>\n",
       "      <td>0.056117</td>\n",
       "    </tr>\n",
       "    <tr>\n",
       "      <th>1438</th>\n",
       "      <td>2020-03-08 00:00:00</td>\n",
       "      <td>China</td>\n",
       "      <td>80823</td>\n",
       "      <td>3100</td>\n",
       "      <td>57388</td>\n",
       "      <td>20335</td>\n",
       "      <td>1439323.774</td>\n",
       "      <td>0.056153</td>\n",
       "    </tr>\n",
       "    <tr>\n",
       "      <th>1439</th>\n",
       "      <td>2020-03-09 00:00:00</td>\n",
       "      <td>China</td>\n",
       "      <td>80860</td>\n",
       "      <td>3123</td>\n",
       "      <td>58804</td>\n",
       "      <td>18933</td>\n",
       "      <td>1439323.774</td>\n",
       "      <td>0.056179</td>\n",
       "    </tr>\n",
       "    <tr>\n",
       "      <th>1440</th>\n",
       "      <td>2020-03-10 00:00:00</td>\n",
       "      <td>China</td>\n",
       "      <td>80887</td>\n",
       "      <td>3139</td>\n",
       "      <td>60181</td>\n",
       "      <td>17567</td>\n",
       "      <td>1439323.774</td>\n",
       "      <td>0.056198</td>\n",
       "    </tr>\n",
       "    <tr>\n",
       "      <th>1441</th>\n",
       "      <td>2020-03-11 00:00:00</td>\n",
       "      <td>China</td>\n",
       "      <td>80921</td>\n",
       "      <td>3161</td>\n",
       "      <td>61644</td>\n",
       "      <td>16116</td>\n",
       "      <td>1439323.774</td>\n",
       "      <td>0.056222</td>\n",
       "    </tr>\n",
       "    <tr>\n",
       "      <th>1442</th>\n",
       "      <td>2020-03-12 00:00:00</td>\n",
       "      <td>China</td>\n",
       "      <td>80932</td>\n",
       "      <td>3172</td>\n",
       "      <td>62901</td>\n",
       "      <td>14859</td>\n",
       "      <td>1439323.774</td>\n",
       "      <td>0.056229</td>\n",
       "    </tr>\n",
       "    <tr>\n",
       "      <th>1443</th>\n",
       "      <td>2020-03-13 00:00:00</td>\n",
       "      <td>China</td>\n",
       "      <td>80945</td>\n",
       "      <td>3180</td>\n",
       "      <td>64196</td>\n",
       "      <td>13569</td>\n",
       "      <td>1439323.774</td>\n",
       "      <td>0.056238</td>\n",
       "    </tr>\n",
       "    <tr>\n",
       "      <th>1444</th>\n",
       "      <td>2020-03-14 00:00:00</td>\n",
       "      <td>China</td>\n",
       "      <td>80977</td>\n",
       "      <td>3193</td>\n",
       "      <td>65660</td>\n",
       "      <td>12124</td>\n",
       "      <td>1439323.774</td>\n",
       "      <td>0.056260</td>\n",
       "    </tr>\n",
       "    <tr>\n",
       "      <th>1445</th>\n",
       "      <td>2020-03-15 00:00:00</td>\n",
       "      <td>China</td>\n",
       "      <td>81003</td>\n",
       "      <td>3203</td>\n",
       "      <td>67017</td>\n",
       "      <td>10783</td>\n",
       "      <td>1439323.774</td>\n",
       "      <td>0.056279</td>\n",
       "    </tr>\n",
       "    <tr>\n",
       "      <th>1446</th>\n",
       "      <td>2020-03-16 00:00:00</td>\n",
       "      <td>China</td>\n",
       "      <td>81033</td>\n",
       "      <td>3217</td>\n",
       "      <td>67910</td>\n",
       "      <td>9906</td>\n",
       "      <td>1439323.774</td>\n",
       "      <td>0.056299</td>\n",
       "    </tr>\n",
       "    <tr>\n",
       "      <th>1447</th>\n",
       "      <td>2020-03-17 00:00:00</td>\n",
       "      <td>China</td>\n",
       "      <td>81058</td>\n",
       "      <td>3230</td>\n",
       "      <td>68798</td>\n",
       "      <td>9030</td>\n",
       "      <td>1439323.774</td>\n",
       "      <td>0.056317</td>\n",
       "    </tr>\n",
       "    <tr>\n",
       "      <th>1448</th>\n",
       "      <td>2020-03-18 00:00:00</td>\n",
       "      <td>China</td>\n",
       "      <td>81102</td>\n",
       "      <td>3241</td>\n",
       "      <td>69755</td>\n",
       "      <td>8106</td>\n",
       "      <td>1439323.774</td>\n",
       "      <td>0.056347</td>\n",
       "    </tr>\n",
       "    <tr>\n",
       "      <th>1449</th>\n",
       "      <td>2020-03-19 00:00:00</td>\n",
       "      <td>China</td>\n",
       "      <td>81156</td>\n",
       "      <td>3249</td>\n",
       "      <td>70535</td>\n",
       "      <td>7372</td>\n",
       "      <td>1439323.774</td>\n",
       "      <td>0.056385</td>\n",
       "    </tr>\n",
       "  </tbody>\n",
       "</table>\n",
       "</div>"
      ],
      "text/plain": [
       "                     Date Country/Region  Confirmed  Deaths  Recovered  \\\n",
       "1392  2020-01-22 00:00:00          China        548      17         28   \n",
       "1393  2020-01-23 00:00:00          China        643      18         30   \n",
       "1394  2020-01-24 00:00:00          China        920      26         36   \n",
       "1395  2020-01-25 00:00:00          China       1406      42         39   \n",
       "1396  2020-01-26 00:00:00          China       2075      56         49   \n",
       "1397  2020-01-27 00:00:00          China       2877      82         58   \n",
       "1398  2020-01-28 00:00:00          China       5509     131        101   \n",
       "1399  2020-01-29 00:00:00          China       6087     133        120   \n",
       "1400  2020-01-30 00:00:00          China       8141     171        135   \n",
       "1401  2020-01-31 00:00:00          China       9802     213        214   \n",
       "1402  2020-02-01 00:00:00          China      11891     259        275   \n",
       "1403  2020-02-02 00:00:00          China      16630     361        463   \n",
       "1404  2020-02-03 00:00:00          China      19716     425        614   \n",
       "1405  2020-02-04 00:00:00          China      23707     491        843   \n",
       "1406  2020-02-05 00:00:00          China      27440     563       1115   \n",
       "1407  2020-02-06 00:00:00          China      30587     633       1477   \n",
       "1408  2020-02-07 00:00:00          China      34110     718       1999   \n",
       "1409  2020-02-08 00:00:00          China      36814     805       2596   \n",
       "1410  2020-02-09 00:00:00          China      39829     905       3219   \n",
       "1411  2020-02-10 00:00:00          China      42354    1012       3918   \n",
       "1412  2020-02-11 00:00:00          China      44386    1112       4636   \n",
       "1413  2020-02-12 00:00:00          China      44759    1117       5082   \n",
       "1414  2020-02-13 00:00:00          China      59895    1369       6217   \n",
       "1415  2020-02-14 00:00:00          China      66358    1521       7977   \n",
       "1416  2020-02-15 00:00:00          China      68413    1663       9298   \n",
       "1417  2020-02-16 00:00:00          China      70513    1766      10755   \n",
       "1418  2020-02-17 00:00:00          China      72434    1864      12462   \n",
       "1419  2020-02-18 00:00:00          China      74211    2003      14206   \n",
       "1420  2020-02-19 00:00:00          China      74619    2116      15962   \n",
       "1421  2020-02-20 00:00:00          China      75077    2238      18014   \n",
       "1422  2020-02-21 00:00:00          China      75550    2238      18704   \n",
       "1423  2020-02-22 00:00:00          China      77001    2443      22699   \n",
       "1424  2020-02-23 00:00:00          China      77022    2445      23187   \n",
       "1425  2020-02-24 00:00:00          China      77241    2595      25015   \n",
       "1426  2020-02-25 00:00:00          China      77754    2665      27676   \n",
       "1427  2020-02-26 00:00:00          China      78166    2717      30084   \n",
       "1428  2020-02-27 00:00:00          China      78600    2746      32930   \n",
       "1429  2020-02-28 00:00:00          China      78928    2790      36329   \n",
       "1430  2020-02-29 00:00:00          China      79356    2837      39320   \n",
       "1431  2020-03-01 00:00:00          China      79932    2872      42162   \n",
       "1432  2020-03-02 00:00:00          China      80136    2914      44854   \n",
       "1433  2020-03-03 00:00:00          China      80261    2947      47450   \n",
       "1434  2020-03-04 00:00:00          China      80386    2983      50001   \n",
       "1435  2020-03-05 00:00:00          China      80537    3015      52292   \n",
       "1436  2020-03-06 00:00:00          China      80690    3044      53944   \n",
       "1437  2020-03-07 00:00:00          China      80770    3072      55539   \n",
       "1438  2020-03-08 00:00:00          China      80823    3100      57388   \n",
       "1439  2020-03-09 00:00:00          China      80860    3123      58804   \n",
       "1440  2020-03-10 00:00:00          China      80887    3139      60181   \n",
       "1441  2020-03-11 00:00:00          China      80921    3161      61644   \n",
       "1442  2020-03-12 00:00:00          China      80932    3172      62901   \n",
       "1443  2020-03-13 00:00:00          China      80945    3180      64196   \n",
       "1444  2020-03-14 00:00:00          China      80977    3193      65660   \n",
       "1445  2020-03-15 00:00:00          China      81003    3203      67017   \n",
       "1446  2020-03-16 00:00:00          China      81033    3217      67910   \n",
       "1447  2020-03-17 00:00:00          China      81058    3230      68798   \n",
       "1448  2020-03-18 00:00:00          China      81102    3241      69755   \n",
       "1449  2020-03-19 00:00:00          China      81156    3249      70535   \n",
       "\n",
       "      Active     PopTotal  Confirmed Cases Per 1K  \n",
       "1392     503  1439323.774                0.000381  \n",
       "1393     595  1439323.774                0.000447  \n",
       "1394     858  1439323.774                0.000639  \n",
       "1395    1325  1439323.774                0.000977  \n",
       "1396    1970  1439323.774                0.001442  \n",
       "1397    2737  1439323.774                0.001999  \n",
       "1398    5277  1439323.774                0.003827  \n",
       "1399    5834  1439323.774                0.004229  \n",
       "1400    7835  1439323.774                0.005656  \n",
       "1401    9375  1439323.774                0.006810  \n",
       "1402   11357  1439323.774                0.008262  \n",
       "1403   15806  1439323.774                0.011554  \n",
       "1404   18677  1439323.774                0.013698  \n",
       "1405   22373  1439323.774                0.016471  \n",
       "1406   25762  1439323.774                0.019065  \n",
       "1407   28477  1439323.774                0.021251  \n",
       "1408   31393  1439323.774                0.023699  \n",
       "1409   33413  1439323.774                0.025577  \n",
       "1410   35705  1439323.774                0.027672  \n",
       "1411   37424  1439323.774                0.029426  \n",
       "1412   38638  1439323.774                0.030838  \n",
       "1413   38560  1439323.774                0.031097  \n",
       "1414   52309  1439323.774                0.041613  \n",
       "1415   56860  1439323.774                0.046104  \n",
       "1416   57452  1439323.774                0.047531  \n",
       "1417   57992  1439323.774                0.048990  \n",
       "1418   58108  1439323.774                0.050325  \n",
       "1419   58002  1439323.774                0.051560  \n",
       "1420   56541  1439323.774                0.051843  \n",
       "1421   54825  1439323.774                0.052161  \n",
       "1422   54608  1439323.774                0.052490  \n",
       "1423   51859  1439323.774                0.053498  \n",
       "1424   51390  1439323.774                0.053513  \n",
       "1425   49631  1439323.774                0.053665  \n",
       "1426   47413  1439323.774                0.054021  \n",
       "1427   45365  1439323.774                0.054307  \n",
       "1428   42924  1439323.774                0.054609  \n",
       "1429   39809  1439323.774                0.054837  \n",
       "1430   37199  1439323.774                0.055134  \n",
       "1431   34898  1439323.774                0.055534  \n",
       "1432   32368  1439323.774                0.055676  \n",
       "1433   29864  1439323.774                0.055763  \n",
       "1434   27402  1439323.774                0.055850  \n",
       "1435   25230  1439323.774                0.055955  \n",
       "1436   23702  1439323.774                0.056061  \n",
       "1437   22159  1439323.774                0.056117  \n",
       "1438   20335  1439323.774                0.056153  \n",
       "1439   18933  1439323.774                0.056179  \n",
       "1440   17567  1439323.774                0.056198  \n",
       "1441   16116  1439323.774                0.056222  \n",
       "1442   14859  1439323.774                0.056229  \n",
       "1443   13569  1439323.774                0.056238  \n",
       "1444   12124  1439323.774                0.056260  \n",
       "1445   10783  1439323.774                0.056279  \n",
       "1446    9906  1439323.774                0.056299  \n",
       "1447    9030  1439323.774                0.056317  \n",
       "1448    8106  1439323.774                0.056347  \n",
       "1449    7372  1439323.774                0.056385  "
      ]
     },
     "execution_count": 36,
     "metadata": {},
     "output_type": "execute_result"
    }
   ],
   "source": [
    "grouped_df.loc[grouped_df['Country/Region']=='China']"
   ]
  },
  {
   "cell_type": "code",
   "execution_count": 29,
   "metadata": {},
   "outputs": [
    {
     "data": {
      "text/plain": [
       "array(['Afghanistan', 'Albania', 'Algeria', 'Andorra', 'Argentina',\n",
       "       'Armenia', 'Australia', 'Austria', 'Azerbaijan', 'Bahrain',\n",
       "       'Bangladesh', 'Belarus', 'Belgium', 'Bhutan', 'Bolivia',\n",
       "       'Bosnia and Herzegovina', 'Brazil', 'Brunei', 'Bulgaria',\n",
       "       'Burkina Faso', 'Cambodia', 'Cameroon', 'Canada', 'Chile', 'China',\n",
       "       'Colombia', 'Congo (Kinshasa)', 'Costa Rica', \"Cote d'Ivoire\",\n",
       "       'Croatia', 'Cruise Ship', 'Cuba', 'Cyprus', 'Denmark',\n",
       "       'Dominican Republic', 'Ecuador', 'Egypt', 'Estonia', 'Finland',\n",
       "       'France', 'Georgia', 'Germany', 'Greece', 'Guyana', 'Honduras',\n",
       "       'Hungary', 'Iceland', 'India', 'Indonesia', 'Iran', 'Iraq',\n",
       "       'Ireland', 'Israel', 'Italy', 'Jamaica', 'Japan', 'Jordan',\n",
       "       'Kuwait', 'Latvia', 'Lebanon', 'Liechtenstein', 'Lithuania',\n",
       "       'Luxembourg', 'Malaysia', 'Maldives', 'Malta', 'Martinique',\n",
       "       'Mexico', 'Moldova', 'Monaco', 'Mongolia', 'Morocco', 'Nepal',\n",
       "       'Netherlands', 'New Zealand', 'Nigeria', 'North Macedonia',\n",
       "       'Norway', 'Oman', 'Pakistan', 'Panama', 'Paraguay', 'Peru',\n",
       "       'Philippines', 'Poland', 'Portugal', 'Qatar', 'Romania', 'Russia',\n",
       "       'San Marino', 'Saudi Arabia', 'Senegal', 'Serbia', 'Singapore',\n",
       "       'Slovakia', 'Slovenia', 'South Africa', 'Spain', 'Sri Lanka',\n",
       "       'Sweden', 'Switzerland', 'Thailand', 'Togo', 'Tunisia', 'Turkey',\n",
       "       'US', 'Ukraine', 'United Arab Emirates', 'Vietnam'], dtype=object)"
      ]
     },
     "execution_count": 29,
     "metadata": {},
     "output_type": "execute_result"
    }
   ],
   "source": [
    "grouped_df['Country/Region'].unique()"
   ]
  },
  {
   "cell_type": "code",
   "execution_count": 30,
   "metadata": {},
   "outputs": [
    {
     "data": {
      "text/html": [
       "<div>\n",
       "<style scoped>\n",
       "    .dataframe tbody tr th:only-of-type {\n",
       "        vertical-align: middle;\n",
       "    }\n",
       "\n",
       "    .dataframe tbody tr th {\n",
       "        vertical-align: top;\n",
       "    }\n",
       "\n",
       "    .dataframe thead th {\n",
       "        text-align: right;\n",
       "    }\n",
       "</style>\n",
       "<table border=\"1\" class=\"dataframe\">\n",
       "  <thead>\n",
       "    <tr style=\"text-align: right;\">\n",
       "      <th></th>\n",
       "      <th>Date</th>\n",
       "      <th>Country/Region</th>\n",
       "      <th>Confirmed</th>\n",
       "      <th>Deaths</th>\n",
       "      <th>Recovered</th>\n",
       "      <th>Active</th>\n",
       "      <th>PopTotal</th>\n",
       "      <th>Confirmed Cases Per 1K</th>\n",
       "    </tr>\n",
       "  </thead>\n",
       "  <tbody>\n",
       "    <tr>\n",
       "      <th>1392</th>\n",
       "      <td>2020-01-22</td>\n",
       "      <td>China</td>\n",
       "      <td>548</td>\n",
       "      <td>17</td>\n",
       "      <td>28</td>\n",
       "      <td>503</td>\n",
       "      <td>1439323.774</td>\n",
       "      <td>0.000381</td>\n",
       "    </tr>\n",
       "    <tr>\n",
       "      <th>1393</th>\n",
       "      <td>2020-01-23</td>\n",
       "      <td>China</td>\n",
       "      <td>643</td>\n",
       "      <td>18</td>\n",
       "      <td>30</td>\n",
       "      <td>595</td>\n",
       "      <td>1439323.774</td>\n",
       "      <td>0.000447</td>\n",
       "    </tr>\n",
       "    <tr>\n",
       "      <th>1394</th>\n",
       "      <td>2020-01-24</td>\n",
       "      <td>China</td>\n",
       "      <td>920</td>\n",
       "      <td>26</td>\n",
       "      <td>36</td>\n",
       "      <td>858</td>\n",
       "      <td>1439323.774</td>\n",
       "      <td>0.000639</td>\n",
       "    </tr>\n",
       "    <tr>\n",
       "      <th>1395</th>\n",
       "      <td>2020-01-25</td>\n",
       "      <td>China</td>\n",
       "      <td>1406</td>\n",
       "      <td>42</td>\n",
       "      <td>39</td>\n",
       "      <td>1325</td>\n",
       "      <td>1439323.774</td>\n",
       "      <td>0.000977</td>\n",
       "    </tr>\n",
       "    <tr>\n",
       "      <th>1396</th>\n",
       "      <td>2020-01-26</td>\n",
       "      <td>China</td>\n",
       "      <td>2075</td>\n",
       "      <td>56</td>\n",
       "      <td>49</td>\n",
       "      <td>1970</td>\n",
       "      <td>1439323.774</td>\n",
       "      <td>0.001442</td>\n",
       "    </tr>\n",
       "    <tr>\n",
       "      <th>1397</th>\n",
       "      <td>2020-01-27</td>\n",
       "      <td>China</td>\n",
       "      <td>2877</td>\n",
       "      <td>82</td>\n",
       "      <td>58</td>\n",
       "      <td>2737</td>\n",
       "      <td>1439323.774</td>\n",
       "      <td>0.001999</td>\n",
       "    </tr>\n",
       "    <tr>\n",
       "      <th>1398</th>\n",
       "      <td>2020-01-28</td>\n",
       "      <td>China</td>\n",
       "      <td>5509</td>\n",
       "      <td>131</td>\n",
       "      <td>101</td>\n",
       "      <td>5277</td>\n",
       "      <td>1439323.774</td>\n",
       "      <td>0.003827</td>\n",
       "    </tr>\n",
       "    <tr>\n",
       "      <th>1399</th>\n",
       "      <td>2020-01-29</td>\n",
       "      <td>China</td>\n",
       "      <td>6087</td>\n",
       "      <td>133</td>\n",
       "      <td>120</td>\n",
       "      <td>5834</td>\n",
       "      <td>1439323.774</td>\n",
       "      <td>0.004229</td>\n",
       "    </tr>\n",
       "    <tr>\n",
       "      <th>1400</th>\n",
       "      <td>2020-01-30</td>\n",
       "      <td>China</td>\n",
       "      <td>8141</td>\n",
       "      <td>171</td>\n",
       "      <td>135</td>\n",
       "      <td>7835</td>\n",
       "      <td>1439323.774</td>\n",
       "      <td>0.005656</td>\n",
       "    </tr>\n",
       "    <tr>\n",
       "      <th>1401</th>\n",
       "      <td>2020-01-31</td>\n",
       "      <td>China</td>\n",
       "      <td>9802</td>\n",
       "      <td>213</td>\n",
       "      <td>214</td>\n",
       "      <td>9375</td>\n",
       "      <td>1439323.774</td>\n",
       "      <td>0.006810</td>\n",
       "    </tr>\n",
       "    <tr>\n",
       "      <th>1402</th>\n",
       "      <td>2020-02-01</td>\n",
       "      <td>China</td>\n",
       "      <td>11891</td>\n",
       "      <td>259</td>\n",
       "      <td>275</td>\n",
       "      <td>11357</td>\n",
       "      <td>1439323.774</td>\n",
       "      <td>0.008262</td>\n",
       "    </tr>\n",
       "    <tr>\n",
       "      <th>1403</th>\n",
       "      <td>2020-02-02</td>\n",
       "      <td>China</td>\n",
       "      <td>16630</td>\n",
       "      <td>361</td>\n",
       "      <td>463</td>\n",
       "      <td>15806</td>\n",
       "      <td>1439323.774</td>\n",
       "      <td>0.011554</td>\n",
       "    </tr>\n",
       "    <tr>\n",
       "      <th>1404</th>\n",
       "      <td>2020-02-03</td>\n",
       "      <td>China</td>\n",
       "      <td>19716</td>\n",
       "      <td>425</td>\n",
       "      <td>614</td>\n",
       "      <td>18677</td>\n",
       "      <td>1439323.774</td>\n",
       "      <td>0.013698</td>\n",
       "    </tr>\n",
       "    <tr>\n",
       "      <th>1405</th>\n",
       "      <td>2020-02-04</td>\n",
       "      <td>China</td>\n",
       "      <td>23707</td>\n",
       "      <td>491</td>\n",
       "      <td>843</td>\n",
       "      <td>22373</td>\n",
       "      <td>1439323.774</td>\n",
       "      <td>0.016471</td>\n",
       "    </tr>\n",
       "    <tr>\n",
       "      <th>1406</th>\n",
       "      <td>2020-02-05</td>\n",
       "      <td>China</td>\n",
       "      <td>27440</td>\n",
       "      <td>563</td>\n",
       "      <td>1115</td>\n",
       "      <td>25762</td>\n",
       "      <td>1439323.774</td>\n",
       "      <td>0.019065</td>\n",
       "    </tr>\n",
       "    <tr>\n",
       "      <th>1407</th>\n",
       "      <td>2020-02-06</td>\n",
       "      <td>China</td>\n",
       "      <td>30587</td>\n",
       "      <td>633</td>\n",
       "      <td>1477</td>\n",
       "      <td>28477</td>\n",
       "      <td>1439323.774</td>\n",
       "      <td>0.021251</td>\n",
       "    </tr>\n",
       "    <tr>\n",
       "      <th>1408</th>\n",
       "      <td>2020-02-07</td>\n",
       "      <td>China</td>\n",
       "      <td>34110</td>\n",
       "      <td>718</td>\n",
       "      <td>1999</td>\n",
       "      <td>31393</td>\n",
       "      <td>1439323.774</td>\n",
       "      <td>0.023699</td>\n",
       "    </tr>\n",
       "    <tr>\n",
       "      <th>1409</th>\n",
       "      <td>2020-02-08</td>\n",
       "      <td>China</td>\n",
       "      <td>36814</td>\n",
       "      <td>805</td>\n",
       "      <td>2596</td>\n",
       "      <td>33413</td>\n",
       "      <td>1439323.774</td>\n",
       "      <td>0.025577</td>\n",
       "    </tr>\n",
       "    <tr>\n",
       "      <th>1410</th>\n",
       "      <td>2020-02-09</td>\n",
       "      <td>China</td>\n",
       "      <td>39829</td>\n",
       "      <td>905</td>\n",
       "      <td>3219</td>\n",
       "      <td>35705</td>\n",
       "      <td>1439323.774</td>\n",
       "      <td>0.027672</td>\n",
       "    </tr>\n",
       "    <tr>\n",
       "      <th>1411</th>\n",
       "      <td>2020-02-10</td>\n",
       "      <td>China</td>\n",
       "      <td>42354</td>\n",
       "      <td>1012</td>\n",
       "      <td>3918</td>\n",
       "      <td>37424</td>\n",
       "      <td>1439323.774</td>\n",
       "      <td>0.029426</td>\n",
       "    </tr>\n",
       "    <tr>\n",
       "      <th>1412</th>\n",
       "      <td>2020-02-11</td>\n",
       "      <td>China</td>\n",
       "      <td>44386</td>\n",
       "      <td>1112</td>\n",
       "      <td>4636</td>\n",
       "      <td>38638</td>\n",
       "      <td>1439323.774</td>\n",
       "      <td>0.030838</td>\n",
       "    </tr>\n",
       "    <tr>\n",
       "      <th>1413</th>\n",
       "      <td>2020-02-12</td>\n",
       "      <td>China</td>\n",
       "      <td>44759</td>\n",
       "      <td>1117</td>\n",
       "      <td>5082</td>\n",
       "      <td>38560</td>\n",
       "      <td>1439323.774</td>\n",
       "      <td>0.031097</td>\n",
       "    </tr>\n",
       "    <tr>\n",
       "      <th>1414</th>\n",
       "      <td>2020-02-13</td>\n",
       "      <td>China</td>\n",
       "      <td>59895</td>\n",
       "      <td>1369</td>\n",
       "      <td>6217</td>\n",
       "      <td>52309</td>\n",
       "      <td>1439323.774</td>\n",
       "      <td>0.041613</td>\n",
       "    </tr>\n",
       "    <tr>\n",
       "      <th>1415</th>\n",
       "      <td>2020-02-14</td>\n",
       "      <td>China</td>\n",
       "      <td>66358</td>\n",
       "      <td>1521</td>\n",
       "      <td>7977</td>\n",
       "      <td>56860</td>\n",
       "      <td>1439323.774</td>\n",
       "      <td>0.046104</td>\n",
       "    </tr>\n",
       "    <tr>\n",
       "      <th>1416</th>\n",
       "      <td>2020-02-15</td>\n",
       "      <td>China</td>\n",
       "      <td>68413</td>\n",
       "      <td>1663</td>\n",
       "      <td>9298</td>\n",
       "      <td>57452</td>\n",
       "      <td>1439323.774</td>\n",
       "      <td>0.047531</td>\n",
       "    </tr>\n",
       "    <tr>\n",
       "      <th>1417</th>\n",
       "      <td>2020-02-16</td>\n",
       "      <td>China</td>\n",
       "      <td>70513</td>\n",
       "      <td>1766</td>\n",
       "      <td>10755</td>\n",
       "      <td>57992</td>\n",
       "      <td>1439323.774</td>\n",
       "      <td>0.048990</td>\n",
       "    </tr>\n",
       "    <tr>\n",
       "      <th>1418</th>\n",
       "      <td>2020-02-17</td>\n",
       "      <td>China</td>\n",
       "      <td>72434</td>\n",
       "      <td>1864</td>\n",
       "      <td>12462</td>\n",
       "      <td>58108</td>\n",
       "      <td>1439323.774</td>\n",
       "      <td>0.050325</td>\n",
       "    </tr>\n",
       "    <tr>\n",
       "      <th>1419</th>\n",
       "      <td>2020-02-18</td>\n",
       "      <td>China</td>\n",
       "      <td>74211</td>\n",
       "      <td>2003</td>\n",
       "      <td>14206</td>\n",
       "      <td>58002</td>\n",
       "      <td>1439323.774</td>\n",
       "      <td>0.051560</td>\n",
       "    </tr>\n",
       "    <tr>\n",
       "      <th>1420</th>\n",
       "      <td>2020-02-19</td>\n",
       "      <td>China</td>\n",
       "      <td>74619</td>\n",
       "      <td>2116</td>\n",
       "      <td>15962</td>\n",
       "      <td>56541</td>\n",
       "      <td>1439323.774</td>\n",
       "      <td>0.051843</td>\n",
       "    </tr>\n",
       "    <tr>\n",
       "      <th>1421</th>\n",
       "      <td>2020-02-20</td>\n",
       "      <td>China</td>\n",
       "      <td>75077</td>\n",
       "      <td>2238</td>\n",
       "      <td>18014</td>\n",
       "      <td>54825</td>\n",
       "      <td>1439323.774</td>\n",
       "      <td>0.052161</td>\n",
       "    </tr>\n",
       "    <tr>\n",
       "      <th>1422</th>\n",
       "      <td>2020-02-21</td>\n",
       "      <td>China</td>\n",
       "      <td>75550</td>\n",
       "      <td>2238</td>\n",
       "      <td>18704</td>\n",
       "      <td>54608</td>\n",
       "      <td>1439323.774</td>\n",
       "      <td>0.052490</td>\n",
       "    </tr>\n",
       "    <tr>\n",
       "      <th>1423</th>\n",
       "      <td>2020-02-22</td>\n",
       "      <td>China</td>\n",
       "      <td>77001</td>\n",
       "      <td>2443</td>\n",
       "      <td>22699</td>\n",
       "      <td>51859</td>\n",
       "      <td>1439323.774</td>\n",
       "      <td>0.053498</td>\n",
       "    </tr>\n",
       "    <tr>\n",
       "      <th>1424</th>\n",
       "      <td>2020-02-23</td>\n",
       "      <td>China</td>\n",
       "      <td>77022</td>\n",
       "      <td>2445</td>\n",
       "      <td>23187</td>\n",
       "      <td>51390</td>\n",
       "      <td>1439323.774</td>\n",
       "      <td>0.053513</td>\n",
       "    </tr>\n",
       "    <tr>\n",
       "      <th>1425</th>\n",
       "      <td>2020-02-24</td>\n",
       "      <td>China</td>\n",
       "      <td>77241</td>\n",
       "      <td>2595</td>\n",
       "      <td>25015</td>\n",
       "      <td>49631</td>\n",
       "      <td>1439323.774</td>\n",
       "      <td>0.053665</td>\n",
       "    </tr>\n",
       "    <tr>\n",
       "      <th>1426</th>\n",
       "      <td>2020-02-25</td>\n",
       "      <td>China</td>\n",
       "      <td>77754</td>\n",
       "      <td>2665</td>\n",
       "      <td>27676</td>\n",
       "      <td>47413</td>\n",
       "      <td>1439323.774</td>\n",
       "      <td>0.054021</td>\n",
       "    </tr>\n",
       "    <tr>\n",
       "      <th>1427</th>\n",
       "      <td>2020-02-26</td>\n",
       "      <td>China</td>\n",
       "      <td>78166</td>\n",
       "      <td>2717</td>\n",
       "      <td>30084</td>\n",
       "      <td>45365</td>\n",
       "      <td>1439323.774</td>\n",
       "      <td>0.054307</td>\n",
       "    </tr>\n",
       "    <tr>\n",
       "      <th>1428</th>\n",
       "      <td>2020-02-27</td>\n",
       "      <td>China</td>\n",
       "      <td>78600</td>\n",
       "      <td>2746</td>\n",
       "      <td>32930</td>\n",
       "      <td>42924</td>\n",
       "      <td>1439323.774</td>\n",
       "      <td>0.054609</td>\n",
       "    </tr>\n",
       "    <tr>\n",
       "      <th>1429</th>\n",
       "      <td>2020-02-28</td>\n",
       "      <td>China</td>\n",
       "      <td>78928</td>\n",
       "      <td>2790</td>\n",
       "      <td>36329</td>\n",
       "      <td>39809</td>\n",
       "      <td>1439323.774</td>\n",
       "      <td>0.054837</td>\n",
       "    </tr>\n",
       "    <tr>\n",
       "      <th>1430</th>\n",
       "      <td>2020-02-29</td>\n",
       "      <td>China</td>\n",
       "      <td>79356</td>\n",
       "      <td>2837</td>\n",
       "      <td>39320</td>\n",
       "      <td>37199</td>\n",
       "      <td>1439323.774</td>\n",
       "      <td>0.055134</td>\n",
       "    </tr>\n",
       "    <tr>\n",
       "      <th>1431</th>\n",
       "      <td>2020-03-01</td>\n",
       "      <td>China</td>\n",
       "      <td>79932</td>\n",
       "      <td>2872</td>\n",
       "      <td>42162</td>\n",
       "      <td>34898</td>\n",
       "      <td>1439323.774</td>\n",
       "      <td>0.055534</td>\n",
       "    </tr>\n",
       "    <tr>\n",
       "      <th>1432</th>\n",
       "      <td>2020-03-02</td>\n",
       "      <td>China</td>\n",
       "      <td>80136</td>\n",
       "      <td>2914</td>\n",
       "      <td>44854</td>\n",
       "      <td>32368</td>\n",
       "      <td>1439323.774</td>\n",
       "      <td>0.055676</td>\n",
       "    </tr>\n",
       "    <tr>\n",
       "      <th>1433</th>\n",
       "      <td>2020-03-03</td>\n",
       "      <td>China</td>\n",
       "      <td>80261</td>\n",
       "      <td>2947</td>\n",
       "      <td>47450</td>\n",
       "      <td>29864</td>\n",
       "      <td>1439323.774</td>\n",
       "      <td>0.055763</td>\n",
       "    </tr>\n",
       "    <tr>\n",
       "      <th>1434</th>\n",
       "      <td>2020-03-04</td>\n",
       "      <td>China</td>\n",
       "      <td>80386</td>\n",
       "      <td>2983</td>\n",
       "      <td>50001</td>\n",
       "      <td>27402</td>\n",
       "      <td>1439323.774</td>\n",
       "      <td>0.055850</td>\n",
       "    </tr>\n",
       "    <tr>\n",
       "      <th>1435</th>\n",
       "      <td>2020-03-05</td>\n",
       "      <td>China</td>\n",
       "      <td>80537</td>\n",
       "      <td>3015</td>\n",
       "      <td>52292</td>\n",
       "      <td>25230</td>\n",
       "      <td>1439323.774</td>\n",
       "      <td>0.055955</td>\n",
       "    </tr>\n",
       "    <tr>\n",
       "      <th>1436</th>\n",
       "      <td>2020-03-06</td>\n",
       "      <td>China</td>\n",
       "      <td>80690</td>\n",
       "      <td>3044</td>\n",
       "      <td>53944</td>\n",
       "      <td>23702</td>\n",
       "      <td>1439323.774</td>\n",
       "      <td>0.056061</td>\n",
       "    </tr>\n",
       "    <tr>\n",
       "      <th>1437</th>\n",
       "      <td>2020-03-07</td>\n",
       "      <td>China</td>\n",
       "      <td>80770</td>\n",
       "      <td>3072</td>\n",
       "      <td>55539</td>\n",
       "      <td>22159</td>\n",
       "      <td>1439323.774</td>\n",
       "      <td>0.056117</td>\n",
       "    </tr>\n",
       "    <tr>\n",
       "      <th>1438</th>\n",
       "      <td>2020-03-08</td>\n",
       "      <td>China</td>\n",
       "      <td>80823</td>\n",
       "      <td>3100</td>\n",
       "      <td>57388</td>\n",
       "      <td>20335</td>\n",
       "      <td>1439323.774</td>\n",
       "      <td>0.056153</td>\n",
       "    </tr>\n",
       "    <tr>\n",
       "      <th>1439</th>\n",
       "      <td>2020-03-09</td>\n",
       "      <td>China</td>\n",
       "      <td>80860</td>\n",
       "      <td>3123</td>\n",
       "      <td>58804</td>\n",
       "      <td>18933</td>\n",
       "      <td>1439323.774</td>\n",
       "      <td>0.056179</td>\n",
       "    </tr>\n",
       "    <tr>\n",
       "      <th>1440</th>\n",
       "      <td>2020-03-10</td>\n",
       "      <td>China</td>\n",
       "      <td>80887</td>\n",
       "      <td>3139</td>\n",
       "      <td>60181</td>\n",
       "      <td>17567</td>\n",
       "      <td>1439323.774</td>\n",
       "      <td>0.056198</td>\n",
       "    </tr>\n",
       "    <tr>\n",
       "      <th>1441</th>\n",
       "      <td>2020-03-11</td>\n",
       "      <td>China</td>\n",
       "      <td>80921</td>\n",
       "      <td>3161</td>\n",
       "      <td>61644</td>\n",
       "      <td>16116</td>\n",
       "      <td>1439323.774</td>\n",
       "      <td>0.056222</td>\n",
       "    </tr>\n",
       "    <tr>\n",
       "      <th>1442</th>\n",
       "      <td>2020-03-12</td>\n",
       "      <td>China</td>\n",
       "      <td>80932</td>\n",
       "      <td>3172</td>\n",
       "      <td>62901</td>\n",
       "      <td>14859</td>\n",
       "      <td>1439323.774</td>\n",
       "      <td>0.056229</td>\n",
       "    </tr>\n",
       "    <tr>\n",
       "      <th>1443</th>\n",
       "      <td>2020-03-13</td>\n",
       "      <td>China</td>\n",
       "      <td>80945</td>\n",
       "      <td>3180</td>\n",
       "      <td>64196</td>\n",
       "      <td>13569</td>\n",
       "      <td>1439323.774</td>\n",
       "      <td>0.056238</td>\n",
       "    </tr>\n",
       "    <tr>\n",
       "      <th>1444</th>\n",
       "      <td>2020-03-14</td>\n",
       "      <td>China</td>\n",
       "      <td>80977</td>\n",
       "      <td>3193</td>\n",
       "      <td>65660</td>\n",
       "      <td>12124</td>\n",
       "      <td>1439323.774</td>\n",
       "      <td>0.056260</td>\n",
       "    </tr>\n",
       "    <tr>\n",
       "      <th>1445</th>\n",
       "      <td>2020-03-15</td>\n",
       "      <td>China</td>\n",
       "      <td>81003</td>\n",
       "      <td>3203</td>\n",
       "      <td>67017</td>\n",
       "      <td>10783</td>\n",
       "      <td>1439323.774</td>\n",
       "      <td>0.056279</td>\n",
       "    </tr>\n",
       "    <tr>\n",
       "      <th>1446</th>\n",
       "      <td>2020-03-16</td>\n",
       "      <td>China</td>\n",
       "      <td>81033</td>\n",
       "      <td>3217</td>\n",
       "      <td>67910</td>\n",
       "      <td>9906</td>\n",
       "      <td>1439323.774</td>\n",
       "      <td>0.056299</td>\n",
       "    </tr>\n",
       "    <tr>\n",
       "      <th>1447</th>\n",
       "      <td>2020-03-17</td>\n",
       "      <td>China</td>\n",
       "      <td>81058</td>\n",
       "      <td>3230</td>\n",
       "      <td>68798</td>\n",
       "      <td>9030</td>\n",
       "      <td>1439323.774</td>\n",
       "      <td>0.056317</td>\n",
       "    </tr>\n",
       "    <tr>\n",
       "      <th>1448</th>\n",
       "      <td>2020-03-18</td>\n",
       "      <td>China</td>\n",
       "      <td>81102</td>\n",
       "      <td>3241</td>\n",
       "      <td>69755</td>\n",
       "      <td>8106</td>\n",
       "      <td>1439323.774</td>\n",
       "      <td>0.056347</td>\n",
       "    </tr>\n",
       "    <tr>\n",
       "      <th>1449</th>\n",
       "      <td>2020-03-19</td>\n",
       "      <td>China</td>\n",
       "      <td>81156</td>\n",
       "      <td>3249</td>\n",
       "      <td>70535</td>\n",
       "      <td>7372</td>\n",
       "      <td>1439323.774</td>\n",
       "      <td>0.056385</td>\n",
       "    </tr>\n",
       "  </tbody>\n",
       "</table>\n",
       "</div>"
      ],
      "text/plain": [
       "           Date Country/Region  Confirmed  Deaths  Recovered  Active  \\\n",
       "1392 2020-01-22          China        548      17         28     503   \n",
       "1393 2020-01-23          China        643      18         30     595   \n",
       "1394 2020-01-24          China        920      26         36     858   \n",
       "1395 2020-01-25          China       1406      42         39    1325   \n",
       "1396 2020-01-26          China       2075      56         49    1970   \n",
       "1397 2020-01-27          China       2877      82         58    2737   \n",
       "1398 2020-01-28          China       5509     131        101    5277   \n",
       "1399 2020-01-29          China       6087     133        120    5834   \n",
       "1400 2020-01-30          China       8141     171        135    7835   \n",
       "1401 2020-01-31          China       9802     213        214    9375   \n",
       "1402 2020-02-01          China      11891     259        275   11357   \n",
       "1403 2020-02-02          China      16630     361        463   15806   \n",
       "1404 2020-02-03          China      19716     425        614   18677   \n",
       "1405 2020-02-04          China      23707     491        843   22373   \n",
       "1406 2020-02-05          China      27440     563       1115   25762   \n",
       "1407 2020-02-06          China      30587     633       1477   28477   \n",
       "1408 2020-02-07          China      34110     718       1999   31393   \n",
       "1409 2020-02-08          China      36814     805       2596   33413   \n",
       "1410 2020-02-09          China      39829     905       3219   35705   \n",
       "1411 2020-02-10          China      42354    1012       3918   37424   \n",
       "1412 2020-02-11          China      44386    1112       4636   38638   \n",
       "1413 2020-02-12          China      44759    1117       5082   38560   \n",
       "1414 2020-02-13          China      59895    1369       6217   52309   \n",
       "1415 2020-02-14          China      66358    1521       7977   56860   \n",
       "1416 2020-02-15          China      68413    1663       9298   57452   \n",
       "1417 2020-02-16          China      70513    1766      10755   57992   \n",
       "1418 2020-02-17          China      72434    1864      12462   58108   \n",
       "1419 2020-02-18          China      74211    2003      14206   58002   \n",
       "1420 2020-02-19          China      74619    2116      15962   56541   \n",
       "1421 2020-02-20          China      75077    2238      18014   54825   \n",
       "1422 2020-02-21          China      75550    2238      18704   54608   \n",
       "1423 2020-02-22          China      77001    2443      22699   51859   \n",
       "1424 2020-02-23          China      77022    2445      23187   51390   \n",
       "1425 2020-02-24          China      77241    2595      25015   49631   \n",
       "1426 2020-02-25          China      77754    2665      27676   47413   \n",
       "1427 2020-02-26          China      78166    2717      30084   45365   \n",
       "1428 2020-02-27          China      78600    2746      32930   42924   \n",
       "1429 2020-02-28          China      78928    2790      36329   39809   \n",
       "1430 2020-02-29          China      79356    2837      39320   37199   \n",
       "1431 2020-03-01          China      79932    2872      42162   34898   \n",
       "1432 2020-03-02          China      80136    2914      44854   32368   \n",
       "1433 2020-03-03          China      80261    2947      47450   29864   \n",
       "1434 2020-03-04          China      80386    2983      50001   27402   \n",
       "1435 2020-03-05          China      80537    3015      52292   25230   \n",
       "1436 2020-03-06          China      80690    3044      53944   23702   \n",
       "1437 2020-03-07          China      80770    3072      55539   22159   \n",
       "1438 2020-03-08          China      80823    3100      57388   20335   \n",
       "1439 2020-03-09          China      80860    3123      58804   18933   \n",
       "1440 2020-03-10          China      80887    3139      60181   17567   \n",
       "1441 2020-03-11          China      80921    3161      61644   16116   \n",
       "1442 2020-03-12          China      80932    3172      62901   14859   \n",
       "1443 2020-03-13          China      80945    3180      64196   13569   \n",
       "1444 2020-03-14          China      80977    3193      65660   12124   \n",
       "1445 2020-03-15          China      81003    3203      67017   10783   \n",
       "1446 2020-03-16          China      81033    3217      67910    9906   \n",
       "1447 2020-03-17          China      81058    3230      68798    9030   \n",
       "1448 2020-03-18          China      81102    3241      69755    8106   \n",
       "1449 2020-03-19          China      81156    3249      70535    7372   \n",
       "\n",
       "         PopTotal  Confirmed Cases Per 1K  \n",
       "1392  1439323.774                0.000381  \n",
       "1393  1439323.774                0.000447  \n",
       "1394  1439323.774                0.000639  \n",
       "1395  1439323.774                0.000977  \n",
       "1396  1439323.774                0.001442  \n",
       "1397  1439323.774                0.001999  \n",
       "1398  1439323.774                0.003827  \n",
       "1399  1439323.774                0.004229  \n",
       "1400  1439323.774                0.005656  \n",
       "1401  1439323.774                0.006810  \n",
       "1402  1439323.774                0.008262  \n",
       "1403  1439323.774                0.011554  \n",
       "1404  1439323.774                0.013698  \n",
       "1405  1439323.774                0.016471  \n",
       "1406  1439323.774                0.019065  \n",
       "1407  1439323.774                0.021251  \n",
       "1408  1439323.774                0.023699  \n",
       "1409  1439323.774                0.025577  \n",
       "1410  1439323.774                0.027672  \n",
       "1411  1439323.774                0.029426  \n",
       "1412  1439323.774                0.030838  \n",
       "1413  1439323.774                0.031097  \n",
       "1414  1439323.774                0.041613  \n",
       "1415  1439323.774                0.046104  \n",
       "1416  1439323.774                0.047531  \n",
       "1417  1439323.774                0.048990  \n",
       "1418  1439323.774                0.050325  \n",
       "1419  1439323.774                0.051560  \n",
       "1420  1439323.774                0.051843  \n",
       "1421  1439323.774                0.052161  \n",
       "1422  1439323.774                0.052490  \n",
       "1423  1439323.774                0.053498  \n",
       "1424  1439323.774                0.053513  \n",
       "1425  1439323.774                0.053665  \n",
       "1426  1439323.774                0.054021  \n",
       "1427  1439323.774                0.054307  \n",
       "1428  1439323.774                0.054609  \n",
       "1429  1439323.774                0.054837  \n",
       "1430  1439323.774                0.055134  \n",
       "1431  1439323.774                0.055534  \n",
       "1432  1439323.774                0.055676  \n",
       "1433  1439323.774                0.055763  \n",
       "1434  1439323.774                0.055850  \n",
       "1435  1439323.774                0.055955  \n",
       "1436  1439323.774                0.056061  \n",
       "1437  1439323.774                0.056117  \n",
       "1438  1439323.774                0.056153  \n",
       "1439  1439323.774                0.056179  \n",
       "1440  1439323.774                0.056198  \n",
       "1441  1439323.774                0.056222  \n",
       "1442  1439323.774                0.056229  \n",
       "1443  1439323.774                0.056238  \n",
       "1444  1439323.774                0.056260  \n",
       "1445  1439323.774                0.056279  \n",
       "1446  1439323.774                0.056299  \n",
       "1447  1439323.774                0.056317  \n",
       "1448  1439323.774                0.056347  \n",
       "1449  1439323.774                0.056385  "
      ]
     },
     "execution_count": 30,
     "metadata": {},
     "output_type": "execute_result"
    }
   ],
   "source": [
    "grouped_df.loc[grouped_df['Country/Region']=='China']"
   ]
  },
  {
   "cell_type": "code",
   "execution_count": 31,
   "metadata": {},
   "outputs": [
    {
     "data": {
      "application/vnd.jupyter.widget-view+json": {
       "model_id": "5cda23aab6a442d3941015f94fbdeec5",
       "version_major": 2,
       "version_minor": 0
      },
      "text/plain": [
       "interactive(children=(Dropdown(description='Country', options=('Afghanistan', 'Albania', 'Algeria', 'Andorra',…"
      ]
     },
     "metadata": {},
     "output_type": "display_data"
    }
   ],
   "source": [
    "@interact(Country = grouped_df['Country/Region'].sort_values().unique(), Confirmed=True, Active=True, Recovered=True, Deaths=True)\n",
    "def viz(Country, Confirmed, Active, Recovered, Deaths):\n",
    "    fig = px.line(title='Cases Over Time')\n",
    "    if Confirmed:\n",
    "        country_df = pd.DataFrame(grouped_df.loc[grouped_df['Country/Region']==Country].groupby('Date')['Confirmed'].agg('sum'))\n",
    "        fig.add_scatter(x = country_df.index, y = country_df['Confirmed'], mode='lines', name='Confirmed Cases')\n",
    "    if Active:\n",
    "        country_df = pd.DataFrame(grouped_df.loc[grouped_df['Country/Region']==Country].groupby('Date')['Active'].agg('sum'))\n",
    "        fig.add_scatter(x = country_df.index, y = country_df['Active'], mode='lines', name='Active Cases')\n",
    "    if Recovered:\n",
    "        country_df = pd.DataFrame(grouped_df.loc[grouped_df['Country/Region']==Country].groupby('Date')['Recovered'].agg('sum'))\n",
    "        fig.add_scatter(x = country_df.index, y = country_df['Recovered'], mode='lines', name='Recovered Cases')\n",
    "    if Deaths:\n",
    "        country_df = pd.DataFrame(grouped_df.loc[grouped_df['Country/Region']==Country].groupby('Date')['Deaths'].agg('sum'))\n",
    "        fig.add_scatter(x = country_df.index, y = country_df['Deaths'], mode='lines', name='Deceased Cases')\n",
    "    fig.update_xaxes(title='Date', range=[dt.date(2020, 1, 22), dt.datetime.now()])\n",
    "    fig.show()"
   ]
  },
  {
   "cell_type": "code",
   "execution_count": 32,
   "metadata": {},
   "outputs": [],
   "source": [
    "grouped_df['Date'] = grouped_df['Date'].apply(lambda x: str(x))"
   ]
  },
  {
   "cell_type": "code",
   "execution_count": 33,
   "metadata": {
    "scrolled": true
   },
   "outputs": [
    {
     "data": {
      "application/vnd.plotly.v1+json": {
       "config": {
        "plotlyServerURL": "https://plot.ly"
       },
       "data": [
        {
         "customdata": [
          [
           0
          ],
          [
           0
          ],
          [
           0
          ],
          [
           0
          ],
          [
           0
          ],
          [
           0
          ],
          [
           0
          ],
          [
           0
          ],
          [
           0
          ],
          [
           0
          ],
          [
           0
          ],
          [
           0
          ],
          [
           0
          ],
          [
           0
          ],
          [
           0
          ],
          [
           0
          ],
          [
           0
          ],
          [
           0
          ],
          [
           0
          ],
          [
           0
          ],
          [
           0
          ],
          [
           0
          ],
          [
           0
          ],
          [
           0
          ],
          [
           548
          ],
          [
           0
          ],
          [
           0
          ],
          [
           0
          ],
          [
           0
          ],
          [
           0
          ],
          [
           0
          ],
          [
           0
          ],
          [
           0
          ],
          [
           0
          ],
          [
           0
          ],
          [
           0
          ],
          [
           0
          ],
          [
           0
          ],
          [
           0
          ],
          [
           0
          ],
          [
           0
          ],
          [
           0
          ],
          [
           0
          ],
          [
           0
          ],
          [
           0
          ],
          [
           0
          ],
          [
           0
          ],
          [
           0
          ],
          [
           0
          ],
          [
           0
          ],
          [
           0
          ],
          [
           0
          ],
          [
           0
          ],
          [
           0
          ],
          [
           0
          ],
          [
           2
          ],
          [
           0
          ],
          [
           0
          ],
          [
           0
          ],
          [
           0
          ],
          [
           0
          ],
          [
           0
          ],
          [
           0
          ],
          [
           0
          ],
          [
           0
          ],
          [
           0
          ],
          [
           0
          ],
          [
           0
          ],
          [
           0
          ],
          [
           0
          ],
          [
           0
          ],
          [
           0
          ],
          [
           0
          ],
          [
           0
          ],
          [
           0
          ],
          [
           0
          ],
          [
           0
          ],
          [
           0
          ],
          [
           0
          ],
          [
           0
          ],
          [
           0
          ],
          [
           0
          ],
          [
           0
          ],
          [
           0
          ],
          [
           0
          ],
          [
           0
          ],
          [
           0
          ],
          [
           0
          ],
          [
           0
          ],
          [
           0
          ],
          [
           0
          ],
          [
           0
          ],
          [
           0
          ],
          [
           0
          ],
          [
           0
          ],
          [
           0
          ],
          [
           0
          ],
          [
           0
          ],
          [
           0
          ],
          [
           0
          ],
          [
           0
          ],
          [
           2
          ],
          [
           0
          ],
          [
           0
          ],
          [
           0
          ],
          [
           1
          ],
          [
           0
          ],
          [
           0
          ],
          [
           0
          ]
         ],
         "geo": "geo",
         "hoverlabel": {
          "namelength": 0
         },
         "hovertemplate": "Date=2020-01-22 00:00:00<br>Confirmed=%{customdata[0]}<br>Country/Region=%{location}",
         "legendgroup": "",
         "locationmode": "country names",
         "locations": [
          "Afghanistan",
          "Albania",
          "Algeria",
          "Andorra",
          "Argentina",
          "Armenia",
          "Australia",
          "Austria",
          "Azerbaijan",
          "Bahrain",
          "Bangladesh",
          "Belarus",
          "Belgium",
          "Bhutan",
          "Bolivia",
          "Bosnia and Herzegovina",
          "Brazil",
          "Brunei",
          "Bulgaria",
          "Burkina Faso",
          "Cambodia",
          "Cameroon",
          "Canada",
          "Chile",
          "China",
          "Colombia",
          "Congo (Kinshasa)",
          "Costa Rica",
          "Cote d'Ivoire",
          "Croatia",
          "Cruise Ship",
          "Cuba",
          "Cyprus",
          "Denmark",
          "Dominican Republic",
          "Ecuador",
          "Egypt",
          "Estonia",
          "Finland",
          "France",
          "Georgia",
          "Germany",
          "Greece",
          "Guyana",
          "Honduras",
          "Hungary",
          "Iceland",
          "India",
          "Indonesia",
          "Iran",
          "Iraq",
          "Ireland",
          "Israel",
          "Italy",
          "Jamaica",
          "Japan",
          "Jordan",
          "Kuwait",
          "Latvia",
          "Lebanon",
          "Liechtenstein",
          "Lithuania",
          "Luxembourg",
          "Malaysia",
          "Maldives",
          "Malta",
          "Martinique",
          "Mexico",
          "Moldova",
          "Monaco",
          "Mongolia",
          "Morocco",
          "Nepal",
          "Netherlands",
          "New Zealand",
          "Nigeria",
          "North Macedonia",
          "Norway",
          "Oman",
          "Pakistan",
          "Panama",
          "Paraguay",
          "Peru",
          "Philippines",
          "Poland",
          "Portugal",
          "Qatar",
          "Romania",
          "Russia",
          "San Marino",
          "Saudi Arabia",
          "Senegal",
          "Serbia",
          "Singapore",
          "Slovakia",
          "Slovenia",
          "South Africa",
          "Spain",
          "Sri Lanka",
          "Sweden",
          "Switzerland",
          "Thailand",
          "Togo",
          "Tunisia",
          "Turkey",
          "US",
          "Ukraine",
          "United Arab Emirates",
          "Vietnam"
         ],
         "marker": {
          "color": "#636efa",
          "size": [
           0,
           0,
           0,
           0,
           0,
           0,
           0,
           0,
           0,
           0,
           0,
           0,
           0,
           0,
           0,
           0,
           0,
           0,
           0,
           0,
           0,
           0,
           0,
           0,
           548,
           0,
           0,
           0,
           0,
           0,
           0,
           0,
           0,
           0,
           0,
           0,
           0,
           0,
           0,
           0,
           0,
           0,
           0,
           0,
           0,
           0,
           0,
           0,
           0,
           0,
           0,
           0,
           0,
           0,
           0,
           2,
           0,
           0,
           0,
           0,
           0,
           0,
           0,
           0,
           0,
           0,
           0,
           0,
           0,
           0,
           0,
           0,
           0,
           0,
           0,
           0,
           0,
           0,
           0,
           0,
           0,
           0,
           0,
           0,
           0,
           0,
           0,
           0,
           0,
           0,
           0,
           0,
           0,
           0,
           0,
           0,
           0,
           0,
           0,
           0,
           0,
           2,
           0,
           0,
           0,
           1,
           0,
           0,
           0
          ],
          "sizemode": "area",
          "sizeref": 202.89
         },
         "name": "",
         "showlegend": false,
         "type": "scattergeo"
        }
       ],
       "frames": [
        {
         "data": [
          {
           "customdata": [
            [
             0
            ],
            [
             0
            ],
            [
             0
            ],
            [
             0
            ],
            [
             0
            ],
            [
             0
            ],
            [
             0
            ],
            [
             0
            ],
            [
             0
            ],
            [
             0
            ],
            [
             0
            ],
            [
             0
            ],
            [
             0
            ],
            [
             0
            ],
            [
             0
            ],
            [
             0
            ],
            [
             0
            ],
            [
             0
            ],
            [
             0
            ],
            [
             0
            ],
            [
             0
            ],
            [
             0
            ],
            [
             0
            ],
            [
             0
            ],
            [
             548
            ],
            [
             0
            ],
            [
             0
            ],
            [
             0
            ],
            [
             0
            ],
            [
             0
            ],
            [
             0
            ],
            [
             0
            ],
            [
             0
            ],
            [
             0
            ],
            [
             0
            ],
            [
             0
            ],
            [
             0
            ],
            [
             0
            ],
            [
             0
            ],
            [
             0
            ],
            [
             0
            ],
            [
             0
            ],
            [
             0
            ],
            [
             0
            ],
            [
             0
            ],
            [
             0
            ],
            [
             0
            ],
            [
             0
            ],
            [
             0
            ],
            [
             0
            ],
            [
             0
            ],
            [
             0
            ],
            [
             0
            ],
            [
             0
            ],
            [
             0
            ],
            [
             2
            ],
            [
             0
            ],
            [
             0
            ],
            [
             0
            ],
            [
             0
            ],
            [
             0
            ],
            [
             0
            ],
            [
             0
            ],
            [
             0
            ],
            [
             0
            ],
            [
             0
            ],
            [
             0
            ],
            [
             0
            ],
            [
             0
            ],
            [
             0
            ],
            [
             0
            ],
            [
             0
            ],
            [
             0
            ],
            [
             0
            ],
            [
             0
            ],
            [
             0
            ],
            [
             0
            ],
            [
             0
            ],
            [
             0
            ],
            [
             0
            ],
            [
             0
            ],
            [
             0
            ],
            [
             0
            ],
            [
             0
            ],
            [
             0
            ],
            [
             0
            ],
            [
             0
            ],
            [
             0
            ],
            [
             0
            ],
            [
             0
            ],
            [
             0
            ],
            [
             0
            ],
            [
             0
            ],
            [
             0
            ],
            [
             0
            ],
            [
             0
            ],
            [
             0
            ],
            [
             0
            ],
            [
             0
            ],
            [
             0
            ],
            [
             0
            ],
            [
             2
            ],
            [
             0
            ],
            [
             0
            ],
            [
             0
            ],
            [
             1
            ],
            [
             0
            ],
            [
             0
            ],
            [
             0
            ]
           ],
           "geo": "geo",
           "hoverlabel": {
            "namelength": 0
           },
           "hovertemplate": "Date=2020-01-22 00:00:00<br>Confirmed=%{customdata[0]}<br>Country/Region=%{location}",
           "legendgroup": "",
           "locationmode": "country names",
           "locations": [
            "Afghanistan",
            "Albania",
            "Algeria",
            "Andorra",
            "Argentina",
            "Armenia",
            "Australia",
            "Austria",
            "Azerbaijan",
            "Bahrain",
            "Bangladesh",
            "Belarus",
            "Belgium",
            "Bhutan",
            "Bolivia",
            "Bosnia and Herzegovina",
            "Brazil",
            "Brunei",
            "Bulgaria",
            "Burkina Faso",
            "Cambodia",
            "Cameroon",
            "Canada",
            "Chile",
            "China",
            "Colombia",
            "Congo (Kinshasa)",
            "Costa Rica",
            "Cote d'Ivoire",
            "Croatia",
            "Cruise Ship",
            "Cuba",
            "Cyprus",
            "Denmark",
            "Dominican Republic",
            "Ecuador",
            "Egypt",
            "Estonia",
            "Finland",
            "France",
            "Georgia",
            "Germany",
            "Greece",
            "Guyana",
            "Honduras",
            "Hungary",
            "Iceland",
            "India",
            "Indonesia",
            "Iran",
            "Iraq",
            "Ireland",
            "Israel",
            "Italy",
            "Jamaica",
            "Japan",
            "Jordan",
            "Kuwait",
            "Latvia",
            "Lebanon",
            "Liechtenstein",
            "Lithuania",
            "Luxembourg",
            "Malaysia",
            "Maldives",
            "Malta",
            "Martinique",
            "Mexico",
            "Moldova",
            "Monaco",
            "Mongolia",
            "Morocco",
            "Nepal",
            "Netherlands",
            "New Zealand",
            "Nigeria",
            "North Macedonia",
            "Norway",
            "Oman",
            "Pakistan",
            "Panama",
            "Paraguay",
            "Peru",
            "Philippines",
            "Poland",
            "Portugal",
            "Qatar",
            "Romania",
            "Russia",
            "San Marino",
            "Saudi Arabia",
            "Senegal",
            "Serbia",
            "Singapore",
            "Slovakia",
            "Slovenia",
            "South Africa",
            "Spain",
            "Sri Lanka",
            "Sweden",
            "Switzerland",
            "Thailand",
            "Togo",
            "Tunisia",
            "Turkey",
            "US",
            "Ukraine",
            "United Arab Emirates",
            "Vietnam"
           ],
           "marker": {
            "color": "#636efa",
            "size": [
             0,
             0,
             0,
             0,
             0,
             0,
             0,
             0,
             0,
             0,
             0,
             0,
             0,
             0,
             0,
             0,
             0,
             0,
             0,
             0,
             0,
             0,
             0,
             0,
             548,
             0,
             0,
             0,
             0,
             0,
             0,
             0,
             0,
             0,
             0,
             0,
             0,
             0,
             0,
             0,
             0,
             0,
             0,
             0,
             0,
             0,
             0,
             0,
             0,
             0,
             0,
             0,
             0,
             0,
             0,
             2,
             0,
             0,
             0,
             0,
             0,
             0,
             0,
             0,
             0,
             0,
             0,
             0,
             0,
             0,
             0,
             0,
             0,
             0,
             0,
             0,
             0,
             0,
             0,
             0,
             0,
             0,
             0,
             0,
             0,
             0,
             0,
             0,
             0,
             0,
             0,
             0,
             0,
             0,
             0,
             0,
             0,
             0,
             0,
             0,
             0,
             2,
             0,
             0,
             0,
             1,
             0,
             0,
             0
            ],
            "sizemode": "area",
            "sizeref": 202.89
           },
           "name": "",
           "showlegend": false,
           "type": "scattergeo"
          }
         ],
         "name": "2020-01-22 00:00:00"
        },
        {
         "data": [
          {
           "customdata": [
            [
             0
            ],
            [
             0
            ],
            [
             0
            ],
            [
             0
            ],
            [
             0
            ],
            [
             0
            ],
            [
             0
            ],
            [
             0
            ],
            [
             0
            ],
            [
             0
            ],
            [
             0
            ],
            [
             0
            ],
            [
             0
            ],
            [
             0
            ],
            [
             0
            ],
            [
             0
            ],
            [
             0
            ],
            [
             0
            ],
            [
             0
            ],
            [
             0
            ],
            [
             0
            ],
            [
             0
            ],
            [
             0
            ],
            [
             0
            ],
            [
             643
            ],
            [
             0
            ],
            [
             0
            ],
            [
             0
            ],
            [
             0
            ],
            [
             0
            ],
            [
             0
            ],
            [
             0
            ],
            [
             0
            ],
            [
             0
            ],
            [
             0
            ],
            [
             0
            ],
            [
             0
            ],
            [
             0
            ],
            [
             0
            ],
            [
             0
            ],
            [
             0
            ],
            [
             0
            ],
            [
             0
            ],
            [
             0
            ],
            [
             0
            ],
            [
             0
            ],
            [
             0
            ],
            [
             0
            ],
            [
             0
            ],
            [
             0
            ],
            [
             0
            ],
            [
             0
            ],
            [
             0
            ],
            [
             0
            ],
            [
             0
            ],
            [
             1
            ],
            [
             0
            ],
            [
             0
            ],
            [
             0
            ],
            [
             0
            ],
            [
             0
            ],
            [
             0
            ],
            [
             0
            ],
            [
             0
            ],
            [
             0
            ],
            [
             0
            ],
            [
             0
            ],
            [
             0
            ],
            [
             0
            ],
            [
             0
            ],
            [
             0
            ],
            [
             0
            ],
            [
             0
            ],
            [
             0
            ],
            [
             0
            ],
            [
             0
            ],
            [
             0
            ],
            [
             0
            ],
            [
             0
            ],
            [
             0
            ],
            [
             0
            ],
            [
             0
            ],
            [
             0
            ],
            [
             0
            ],
            [
             0
            ],
            [
             0
            ],
            [
             0
            ],
            [
             0
            ],
            [
             0
            ],
            [
             0
            ],
            [
             0
            ],
            [
             0
            ],
            [
             0
            ],
            [
             1
            ],
            [
             0
            ],
            [
             0
            ],
            [
             0
            ],
            [
             0
            ],
            [
             0
            ],
            [
             0
            ],
            [
             0
            ],
            [
             3
            ],
            [
             0
            ],
            [
             0
            ],
            [
             0
            ],
            [
             1
            ],
            [
             0
            ],
            [
             0
            ],
            [
             2
            ]
           ],
           "geo": "geo",
           "hoverlabel": {
            "namelength": 0
           },
           "hovertemplate": "Date=2020-01-23 00:00:00<br>Confirmed=%{customdata[0]}<br>Country/Region=%{location}",
           "legendgroup": "",
           "locationmode": "country names",
           "locations": [
            "Afghanistan",
            "Albania",
            "Algeria",
            "Andorra",
            "Argentina",
            "Armenia",
            "Australia",
            "Austria",
            "Azerbaijan",
            "Bahrain",
            "Bangladesh",
            "Belarus",
            "Belgium",
            "Bhutan",
            "Bolivia",
            "Bosnia and Herzegovina",
            "Brazil",
            "Brunei",
            "Bulgaria",
            "Burkina Faso",
            "Cambodia",
            "Cameroon",
            "Canada",
            "Chile",
            "China",
            "Colombia",
            "Congo (Kinshasa)",
            "Costa Rica",
            "Cote d'Ivoire",
            "Croatia",
            "Cruise Ship",
            "Cuba",
            "Cyprus",
            "Denmark",
            "Dominican Republic",
            "Ecuador",
            "Egypt",
            "Estonia",
            "Finland",
            "France",
            "Georgia",
            "Germany",
            "Greece",
            "Guyana",
            "Honduras",
            "Hungary",
            "Iceland",
            "India",
            "Indonesia",
            "Iran",
            "Iraq",
            "Ireland",
            "Israel",
            "Italy",
            "Jamaica",
            "Japan",
            "Jordan",
            "Kuwait",
            "Latvia",
            "Lebanon",
            "Liechtenstein",
            "Lithuania",
            "Luxembourg",
            "Malaysia",
            "Maldives",
            "Malta",
            "Martinique",
            "Mexico",
            "Moldova",
            "Monaco",
            "Mongolia",
            "Morocco",
            "Nepal",
            "Netherlands",
            "New Zealand",
            "Nigeria",
            "North Macedonia",
            "Norway",
            "Oman",
            "Pakistan",
            "Panama",
            "Paraguay",
            "Peru",
            "Philippines",
            "Poland",
            "Portugal",
            "Qatar",
            "Romania",
            "Russia",
            "San Marino",
            "Saudi Arabia",
            "Senegal",
            "Serbia",
            "Singapore",
            "Slovakia",
            "Slovenia",
            "South Africa",
            "Spain",
            "Sri Lanka",
            "Sweden",
            "Switzerland",
            "Thailand",
            "Togo",
            "Tunisia",
            "Turkey",
            "US",
            "Ukraine",
            "United Arab Emirates",
            "Vietnam"
           ],
           "marker": {
            "color": "#636efa",
            "size": [
             0,
             0,
             0,
             0,
             0,
             0,
             0,
             0,
             0,
             0,
             0,
             0,
             0,
             0,
             0,
             0,
             0,
             0,
             0,
             0,
             0,
             0,
             0,
             0,
             643,
             0,
             0,
             0,
             0,
             0,
             0,
             0,
             0,
             0,
             0,
             0,
             0,
             0,
             0,
             0,
             0,
             0,
             0,
             0,
             0,
             0,
             0,
             0,
             0,
             0,
             0,
             0,
             0,
             0,
             0,
             1,
             0,
             0,
             0,
             0,
             0,
             0,
             0,
             0,
             0,
             0,
             0,
             0,
             0,
             0,
             0,
             0,
             0,
             0,
             0,
             0,
             0,
             0,
             0,
             0,
             0,
             0,
             0,
             0,
             0,
             0,
             0,
             0,
             0,
             0,
             0,
             0,
             0,
             1,
             0,
             0,
             0,
             0,
             0,
             0,
             0,
             3,
             0,
             0,
             0,
             1,
             0,
             0,
             2
            ],
            "sizemode": "area",
            "sizeref": 202.89
           },
           "name": "",
           "showlegend": false,
           "type": "scattergeo"
          }
         ],
         "name": "2020-01-23 00:00:00"
        },
        {
         "data": [
          {
           "customdata": [
            [
             0
            ],
            [
             0
            ],
            [
             0
            ],
            [
             0
            ],
            [
             0
            ],
            [
             0
            ],
            [
             0
            ],
            [
             0
            ],
            [
             0
            ],
            [
             0
            ],
            [
             0
            ],
            [
             0
            ],
            [
             0
            ],
            [
             0
            ],
            [
             0
            ],
            [
             0
            ],
            [
             0
            ],
            [
             0
            ],
            [
             0
            ],
            [
             0
            ],
            [
             0
            ],
            [
             0
            ],
            [
             0
            ],
            [
             0
            ],
            [
             920
            ],
            [
             0
            ],
            [
             0
            ],
            [
             0
            ],
            [
             0
            ],
            [
             0
            ],
            [
             0
            ],
            [
             0
            ],
            [
             0
            ],
            [
             0
            ],
            [
             0
            ],
            [
             0
            ],
            [
             0
            ],
            [
             0
            ],
            [
             0
            ],
            [
             2
            ],
            [
             0
            ],
            [
             0
            ],
            [
             0
            ],
            [
             0
            ],
            [
             0
            ],
            [
             0
            ],
            [
             0
            ],
            [
             0
            ],
            [
             0
            ],
            [
             0
            ],
            [
             0
            ],
            [
             0
            ],
            [
             0
            ],
            [
             0
            ],
            [
             0
            ],
            [
             2
            ],
            [
             0
            ],
            [
             0
            ],
            [
             0
            ],
            [
             0
            ],
            [
             0
            ],
            [
             0
            ],
            [
             0
            ],
            [
             0
            ],
            [
             0
            ],
            [
             0
            ],
            [
             0
            ],
            [
             0
            ],
            [
             0
            ],
            [
             0
            ],
            [
             0
            ],
            [
             0
            ],
            [
             0
            ],
            [
             0
            ],
            [
             0
            ],
            [
             0
            ],
            [
             0
            ],
            [
             0
            ],
            [
             0
            ],
            [
             0
            ],
            [
             0
            ],
            [
             0
            ],
            [
             0
            ],
            [
             0
            ],
            [
             0
            ],
            [
             0
            ],
            [
             0
            ],
            [
             0
            ],
            [
             0
            ],
            [
             0
            ],
            [
             0
            ],
            [
             0
            ],
            [
             0
            ],
            [
             3
            ],
            [
             0
            ],
            [
             0
            ],
            [
             0
            ],
            [
             0
            ],
            [
             0
            ],
            [
             0
            ],
            [
             0
            ],
            [
             5
            ],
            [
             0
            ],
            [
             0
            ],
            [
             0
            ],
            [
             2
            ],
            [
             0
            ],
            [
             0
            ],
            [
             2
            ]
           ],
           "geo": "geo",
           "hoverlabel": {
            "namelength": 0
           },
           "hovertemplate": "Date=2020-01-24 00:00:00<br>Confirmed=%{customdata[0]}<br>Country/Region=%{location}",
           "legendgroup": "",
           "locationmode": "country names",
           "locations": [
            "Afghanistan",
            "Albania",
            "Algeria",
            "Andorra",
            "Argentina",
            "Armenia",
            "Australia",
            "Austria",
            "Azerbaijan",
            "Bahrain",
            "Bangladesh",
            "Belarus",
            "Belgium",
            "Bhutan",
            "Bolivia",
            "Bosnia and Herzegovina",
            "Brazil",
            "Brunei",
            "Bulgaria",
            "Burkina Faso",
            "Cambodia",
            "Cameroon",
            "Canada",
            "Chile",
            "China",
            "Colombia",
            "Congo (Kinshasa)",
            "Costa Rica",
            "Cote d'Ivoire",
            "Croatia",
            "Cruise Ship",
            "Cuba",
            "Cyprus",
            "Denmark",
            "Dominican Republic",
            "Ecuador",
            "Egypt",
            "Estonia",
            "Finland",
            "France",
            "Georgia",
            "Germany",
            "Greece",
            "Guyana",
            "Honduras",
            "Hungary",
            "Iceland",
            "India",
            "Indonesia",
            "Iran",
            "Iraq",
            "Ireland",
            "Israel",
            "Italy",
            "Jamaica",
            "Japan",
            "Jordan",
            "Kuwait",
            "Latvia",
            "Lebanon",
            "Liechtenstein",
            "Lithuania",
            "Luxembourg",
            "Malaysia",
            "Maldives",
            "Malta",
            "Martinique",
            "Mexico",
            "Moldova",
            "Monaco",
            "Mongolia",
            "Morocco",
            "Nepal",
            "Netherlands",
            "New Zealand",
            "Nigeria",
            "North Macedonia",
            "Norway",
            "Oman",
            "Pakistan",
            "Panama",
            "Paraguay",
            "Peru",
            "Philippines",
            "Poland",
            "Portugal",
            "Qatar",
            "Romania",
            "Russia",
            "San Marino",
            "Saudi Arabia",
            "Senegal",
            "Serbia",
            "Singapore",
            "Slovakia",
            "Slovenia",
            "South Africa",
            "Spain",
            "Sri Lanka",
            "Sweden",
            "Switzerland",
            "Thailand",
            "Togo",
            "Tunisia",
            "Turkey",
            "US",
            "Ukraine",
            "United Arab Emirates",
            "Vietnam"
           ],
           "marker": {
            "color": "#636efa",
            "size": [
             0,
             0,
             0,
             0,
             0,
             0,
             0,
             0,
             0,
             0,
             0,
             0,
             0,
             0,
             0,
             0,
             0,
             0,
             0,
             0,
             0,
             0,
             0,
             0,
             920,
             0,
             0,
             0,
             0,
             0,
             0,
             0,
             0,
             0,
             0,
             0,
             0,
             0,
             0,
             2,
             0,
             0,
             0,
             0,
             0,
             0,
             0,
             0,
             0,
             0,
             0,
             0,
             0,
             0,
             0,
             2,
             0,
             0,
             0,
             0,
             0,
             0,
             0,
             0,
             0,
             0,
             0,
             0,
             0,
             0,
             0,
             0,
             0,
             0,
             0,
             0,
             0,
             0,
             0,
             0,
             0,
             0,
             0,
             0,
             0,
             0,
             0,
             0,
             0,
             0,
             0,
             0,
             0,
             3,
             0,
             0,
             0,
             0,
             0,
             0,
             0,
             5,
             0,
             0,
             0,
             2,
             0,
             0,
             2
            ],
            "sizemode": "area",
            "sizeref": 202.89
           },
           "name": "",
           "showlegend": false,
           "type": "scattergeo"
          }
         ],
         "name": "2020-01-24 00:00:00"
        },
        {
         "data": [
          {
           "customdata": [
            [
             0
            ],
            [
             0
            ],
            [
             0
            ],
            [
             0
            ],
            [
             0
            ],
            [
             0
            ],
            [
             0
            ],
            [
             0
            ],
            [
             0
            ],
            [
             0
            ],
            [
             0
            ],
            [
             0
            ],
            [
             0
            ],
            [
             0
            ],
            [
             0
            ],
            [
             0
            ],
            [
             0
            ],
            [
             0
            ],
            [
             0
            ],
            [
             0
            ],
            [
             0
            ],
            [
             0
            ],
            [
             0
            ],
            [
             0
            ],
            [
             1406
            ],
            [
             0
            ],
            [
             0
            ],
            [
             0
            ],
            [
             0
            ],
            [
             0
            ],
            [
             0
            ],
            [
             0
            ],
            [
             0
            ],
            [
             0
            ],
            [
             0
            ],
            [
             0
            ],
            [
             0
            ],
            [
             0
            ],
            [
             0
            ],
            [
             3
            ],
            [
             0
            ],
            [
             0
            ],
            [
             0
            ],
            [
             0
            ],
            [
             0
            ],
            [
             0
            ],
            [
             0
            ],
            [
             0
            ],
            [
             0
            ],
            [
             0
            ],
            [
             0
            ],
            [
             0
            ],
            [
             0
            ],
            [
             0
            ],
            [
             0
            ],
            [
             2
            ],
            [
             0
            ],
            [
             0
            ],
            [
             0
            ],
            [
             0
            ],
            [
             0
            ],
            [
             0
            ],
            [
             0
            ],
            [
             3
            ],
            [
             0
            ],
            [
             0
            ],
            [
             0
            ],
            [
             0
            ],
            [
             0
            ],
            [
             0
            ],
            [
             0
            ],
            [
             0
            ],
            [
             1
            ],
            [
             0
            ],
            [
             0
            ],
            [
             0
            ],
            [
             0
            ],
            [
             0
            ],
            [
             0
            ],
            [
             0
            ],
            [
             0
            ],
            [
             0
            ],
            [
             0
            ],
            [
             0
            ],
            [
             0
            ],
            [
             0
            ],
            [
             0
            ],
            [
             0
            ],
            [
             0
            ],
            [
             0
            ],
            [
             0
            ],
            [
             0
            ],
            [
             0
            ],
            [
             3
            ],
            [
             0
            ],
            [
             0
            ],
            [
             0
            ],
            [
             0
            ],
            [
             0
            ],
            [
             0
            ],
            [
             0
            ],
            [
             7
            ],
            [
             0
            ],
            [
             0
            ],
            [
             0
            ],
            [
             2
            ],
            [
             0
            ],
            [
             0
            ],
            [
             2
            ]
           ],
           "geo": "geo",
           "hoverlabel": {
            "namelength": 0
           },
           "hovertemplate": "Date=2020-01-25 00:00:00<br>Confirmed=%{customdata[0]}<br>Country/Region=%{location}",
           "legendgroup": "",
           "locationmode": "country names",
           "locations": [
            "Afghanistan",
            "Albania",
            "Algeria",
            "Andorra",
            "Argentina",
            "Armenia",
            "Australia",
            "Austria",
            "Azerbaijan",
            "Bahrain",
            "Bangladesh",
            "Belarus",
            "Belgium",
            "Bhutan",
            "Bolivia",
            "Bosnia and Herzegovina",
            "Brazil",
            "Brunei",
            "Bulgaria",
            "Burkina Faso",
            "Cambodia",
            "Cameroon",
            "Canada",
            "Chile",
            "China",
            "Colombia",
            "Congo (Kinshasa)",
            "Costa Rica",
            "Cote d'Ivoire",
            "Croatia",
            "Cruise Ship",
            "Cuba",
            "Cyprus",
            "Denmark",
            "Dominican Republic",
            "Ecuador",
            "Egypt",
            "Estonia",
            "Finland",
            "France",
            "Georgia",
            "Germany",
            "Greece",
            "Guyana",
            "Honduras",
            "Hungary",
            "Iceland",
            "India",
            "Indonesia",
            "Iran",
            "Iraq",
            "Ireland",
            "Israel",
            "Italy",
            "Jamaica",
            "Japan",
            "Jordan",
            "Kuwait",
            "Latvia",
            "Lebanon",
            "Liechtenstein",
            "Lithuania",
            "Luxembourg",
            "Malaysia",
            "Maldives",
            "Malta",
            "Martinique",
            "Mexico",
            "Moldova",
            "Monaco",
            "Mongolia",
            "Morocco",
            "Nepal",
            "Netherlands",
            "New Zealand",
            "Nigeria",
            "North Macedonia",
            "Norway",
            "Oman",
            "Pakistan",
            "Panama",
            "Paraguay",
            "Peru",
            "Philippines",
            "Poland",
            "Portugal",
            "Qatar",
            "Romania",
            "Russia",
            "San Marino",
            "Saudi Arabia",
            "Senegal",
            "Serbia",
            "Singapore",
            "Slovakia",
            "Slovenia",
            "South Africa",
            "Spain",
            "Sri Lanka",
            "Sweden",
            "Switzerland",
            "Thailand",
            "Togo",
            "Tunisia",
            "Turkey",
            "US",
            "Ukraine",
            "United Arab Emirates",
            "Vietnam"
           ],
           "marker": {
            "color": "#636efa",
            "size": [
             0,
             0,
             0,
             0,
             0,
             0,
             0,
             0,
             0,
             0,
             0,
             0,
             0,
             0,
             0,
             0,
             0,
             0,
             0,
             0,
             0,
             0,
             0,
             0,
             1406,
             0,
             0,
             0,
             0,
             0,
             0,
             0,
             0,
             0,
             0,
             0,
             0,
             0,
             0,
             3,
             0,
             0,
             0,
             0,
             0,
             0,
             0,
             0,
             0,
             0,
             0,
             0,
             0,
             0,
             0,
             2,
             0,
             0,
             0,
             0,
             0,
             0,
             0,
             3,
             0,
             0,
             0,
             0,
             0,
             0,
             0,
             0,
             1,
             0,
             0,
             0,
             0,
             0,
             0,
             0,
             0,
             0,
             0,
             0,
             0,
             0,
             0,
             0,
             0,
             0,
             0,
             0,
             0,
             3,
             0,
             0,
             0,
             0,
             0,
             0,
             0,
             7,
             0,
             0,
             0,
             2,
             0,
             0,
             2
            ],
            "sizemode": "area",
            "sizeref": 202.89
           },
           "name": "",
           "showlegend": false,
           "type": "scattergeo"
          }
         ],
         "name": "2020-01-25 00:00:00"
        },
        {
         "data": [
          {
           "customdata": [
            [
             0
            ],
            [
             0
            ],
            [
             0
            ],
            [
             0
            ],
            [
             0
            ],
            [
             0
            ],
            [
             4
            ],
            [
             0
            ],
            [
             0
            ],
            [
             0
            ],
            [
             0
            ],
            [
             0
            ],
            [
             0
            ],
            [
             0
            ],
            [
             0
            ],
            [
             0
            ],
            [
             0
            ],
            [
             0
            ],
            [
             0
            ],
            [
             0
            ],
            [
             0
            ],
            [
             0
            ],
            [
             1
            ],
            [
             0
            ],
            [
             2075
            ],
            [
             0
            ],
            [
             0
            ],
            [
             0
            ],
            [
             0
            ],
            [
             0
            ],
            [
             0
            ],
            [
             0
            ],
            [
             0
            ],
            [
             0
            ],
            [
             0
            ],
            [
             0
            ],
            [
             0
            ],
            [
             0
            ],
            [
             0
            ],
            [
             3
            ],
            [
             0
            ],
            [
             0
            ],
            [
             0
            ],
            [
             0
            ],
            [
             0
            ],
            [
             0
            ],
            [
             0
            ],
            [
             0
            ],
            [
             0
            ],
            [
             0
            ],
            [
             0
            ],
            [
             0
            ],
            [
             0
            ],
            [
             0
            ],
            [
             0
            ],
            [
             4
            ],
            [
             0
            ],
            [
             0
            ],
            [
             0
            ],
            [
             0
            ],
            [
             0
            ],
            [
             0
            ],
            [
             0
            ],
            [
             4
            ],
            [
             0
            ],
            [
             0
            ],
            [
             0
            ],
            [
             0
            ],
            [
             0
            ],
            [
             0
            ],
            [
             0
            ],
            [
             0
            ],
            [
             1
            ],
            [
             0
            ],
            [
             0
            ],
            [
             0
            ],
            [
             0
            ],
            [
             0
            ],
            [
             0
            ],
            [
             0
            ],
            [
             0
            ],
            [
             0
            ],
            [
             0
            ],
            [
             0
            ],
            [
             0
            ],
            [
             0
            ],
            [
             0
            ],
            [
             0
            ],
            [
             0
            ],
            [
             0
            ],
            [
             0
            ],
            [
             0
            ],
            [
             0
            ],
            [
             4
            ],
            [
             0
            ],
            [
             0
            ],
            [
             0
            ],
            [
             0
            ],
            [
             0
            ],
            [
             0
            ],
            [
             0
            ],
            [
             8
            ],
            [
             0
            ],
            [
             0
            ],
            [
             0
            ],
            [
             5
            ],
            [
             0
            ],
            [
             0
            ],
            [
             2
            ]
           ],
           "geo": "geo",
           "hoverlabel": {
            "namelength": 0
           },
           "hovertemplate": "Date=2020-01-26 00:00:00<br>Confirmed=%{customdata[0]}<br>Country/Region=%{location}",
           "legendgroup": "",
           "locationmode": "country names",
           "locations": [
            "Afghanistan",
            "Albania",
            "Algeria",
            "Andorra",
            "Argentina",
            "Armenia",
            "Australia",
            "Austria",
            "Azerbaijan",
            "Bahrain",
            "Bangladesh",
            "Belarus",
            "Belgium",
            "Bhutan",
            "Bolivia",
            "Bosnia and Herzegovina",
            "Brazil",
            "Brunei",
            "Bulgaria",
            "Burkina Faso",
            "Cambodia",
            "Cameroon",
            "Canada",
            "Chile",
            "China",
            "Colombia",
            "Congo (Kinshasa)",
            "Costa Rica",
            "Cote d'Ivoire",
            "Croatia",
            "Cruise Ship",
            "Cuba",
            "Cyprus",
            "Denmark",
            "Dominican Republic",
            "Ecuador",
            "Egypt",
            "Estonia",
            "Finland",
            "France",
            "Georgia",
            "Germany",
            "Greece",
            "Guyana",
            "Honduras",
            "Hungary",
            "Iceland",
            "India",
            "Indonesia",
            "Iran",
            "Iraq",
            "Ireland",
            "Israel",
            "Italy",
            "Jamaica",
            "Japan",
            "Jordan",
            "Kuwait",
            "Latvia",
            "Lebanon",
            "Liechtenstein",
            "Lithuania",
            "Luxembourg",
            "Malaysia",
            "Maldives",
            "Malta",
            "Martinique",
            "Mexico",
            "Moldova",
            "Monaco",
            "Mongolia",
            "Morocco",
            "Nepal",
            "Netherlands",
            "New Zealand",
            "Nigeria",
            "North Macedonia",
            "Norway",
            "Oman",
            "Pakistan",
            "Panama",
            "Paraguay",
            "Peru",
            "Philippines",
            "Poland",
            "Portugal",
            "Qatar",
            "Romania",
            "Russia",
            "San Marino",
            "Saudi Arabia",
            "Senegal",
            "Serbia",
            "Singapore",
            "Slovakia",
            "Slovenia",
            "South Africa",
            "Spain",
            "Sri Lanka",
            "Sweden",
            "Switzerland",
            "Thailand",
            "Togo",
            "Tunisia",
            "Turkey",
            "US",
            "Ukraine",
            "United Arab Emirates",
            "Vietnam"
           ],
           "marker": {
            "color": "#636efa",
            "size": [
             0,
             0,
             0,
             0,
             0,
             0,
             4,
             0,
             0,
             0,
             0,
             0,
             0,
             0,
             0,
             0,
             0,
             0,
             0,
             0,
             0,
             0,
             1,
             0,
             2075,
             0,
             0,
             0,
             0,
             0,
             0,
             0,
             0,
             0,
             0,
             0,
             0,
             0,
             0,
             3,
             0,
             0,
             0,
             0,
             0,
             0,
             0,
             0,
             0,
             0,
             0,
             0,
             0,
             0,
             0,
             4,
             0,
             0,
             0,
             0,
             0,
             0,
             0,
             4,
             0,
             0,
             0,
             0,
             0,
             0,
             0,
             0,
             1,
             0,
             0,
             0,
             0,
             0,
             0,
             0,
             0,
             0,
             0,
             0,
             0,
             0,
             0,
             0,
             0,
             0,
             0,
             0,
             0,
             4,
             0,
             0,
             0,
             0,
             0,
             0,
             0,
             8,
             0,
             0,
             0,
             5,
             0,
             0,
             2
            ],
            "sizemode": "area",
            "sizeref": 202.89
           },
           "name": "",
           "showlegend": false,
           "type": "scattergeo"
          }
         ],
         "name": "2020-01-26 00:00:00"
        },
        {
         "data": [
          {
           "customdata": [
            [
             0
            ],
            [
             0
            ],
            [
             0
            ],
            [
             0
            ],
            [
             0
            ],
            [
             0
            ],
            [
             5
            ],
            [
             0
            ],
            [
             0
            ],
            [
             0
            ],
            [
             0
            ],
            [
             0
            ],
            [
             0
            ],
            [
             0
            ],
            [
             0
            ],
            [
             0
            ],
            [
             0
            ],
            [
             0
            ],
            [
             0
            ],
            [
             0
            ],
            [
             1
            ],
            [
             0
            ],
            [
             1
            ],
            [
             0
            ],
            [
             2877
            ],
            [
             0
            ],
            [
             0
            ],
            [
             0
            ],
            [
             0
            ],
            [
             0
            ],
            [
             0
            ],
            [
             0
            ],
            [
             0
            ],
            [
             0
            ],
            [
             0
            ],
            [
             0
            ],
            [
             0
            ],
            [
             0
            ],
            [
             0
            ],
            [
             3
            ],
            [
             0
            ],
            [
             1
            ],
            [
             0
            ],
            [
             0
            ],
            [
             0
            ],
            [
             0
            ],
            [
             0
            ],
            [
             0
            ],
            [
             0
            ],
            [
             0
            ],
            [
             0
            ],
            [
             0
            ],
            [
             0
            ],
            [
             0
            ],
            [
             0
            ],
            [
             4
            ],
            [
             0
            ],
            [
             0
            ],
            [
             0
            ],
            [
             0
            ],
            [
             0
            ],
            [
             0
            ],
            [
             0
            ],
            [
             4
            ],
            [
             0
            ],
            [
             0
            ],
            [
             0
            ],
            [
             0
            ],
            [
             0
            ],
            [
             0
            ],
            [
             0
            ],
            [
             0
            ],
            [
             1
            ],
            [
             0
            ],
            [
             0
            ],
            [
             0
            ],
            [
             0
            ],
            [
             0
            ],
            [
             0
            ],
            [
             0
            ],
            [
             0
            ],
            [
             0
            ],
            [
             0
            ],
            [
             0
            ],
            [
             0
            ],
            [
             0
            ],
            [
             0
            ],
            [
             0
            ],
            [
             0
            ],
            [
             0
            ],
            [
             0
            ],
            [
             0
            ],
            [
             0
            ],
            [
             5
            ],
            [
             0
            ],
            [
             0
            ],
            [
             0
            ],
            [
             0
            ],
            [
             1
            ],
            [
             0
            ],
            [
             0
            ],
            [
             8
            ],
            [
             0
            ],
            [
             0
            ],
            [
             0
            ],
            [
             5
            ],
            [
             0
            ],
            [
             0
            ],
            [
             2
            ]
           ],
           "geo": "geo",
           "hoverlabel": {
            "namelength": 0
           },
           "hovertemplate": "Date=2020-01-27 00:00:00<br>Confirmed=%{customdata[0]}<br>Country/Region=%{location}",
           "legendgroup": "",
           "locationmode": "country names",
           "locations": [
            "Afghanistan",
            "Albania",
            "Algeria",
            "Andorra",
            "Argentina",
            "Armenia",
            "Australia",
            "Austria",
            "Azerbaijan",
            "Bahrain",
            "Bangladesh",
            "Belarus",
            "Belgium",
            "Bhutan",
            "Bolivia",
            "Bosnia and Herzegovina",
            "Brazil",
            "Brunei",
            "Bulgaria",
            "Burkina Faso",
            "Cambodia",
            "Cameroon",
            "Canada",
            "Chile",
            "China",
            "Colombia",
            "Congo (Kinshasa)",
            "Costa Rica",
            "Cote d'Ivoire",
            "Croatia",
            "Cruise Ship",
            "Cuba",
            "Cyprus",
            "Denmark",
            "Dominican Republic",
            "Ecuador",
            "Egypt",
            "Estonia",
            "Finland",
            "France",
            "Georgia",
            "Germany",
            "Greece",
            "Guyana",
            "Honduras",
            "Hungary",
            "Iceland",
            "India",
            "Indonesia",
            "Iran",
            "Iraq",
            "Ireland",
            "Israel",
            "Italy",
            "Jamaica",
            "Japan",
            "Jordan",
            "Kuwait",
            "Latvia",
            "Lebanon",
            "Liechtenstein",
            "Lithuania",
            "Luxembourg",
            "Malaysia",
            "Maldives",
            "Malta",
            "Martinique",
            "Mexico",
            "Moldova",
            "Monaco",
            "Mongolia",
            "Morocco",
            "Nepal",
            "Netherlands",
            "New Zealand",
            "Nigeria",
            "North Macedonia",
            "Norway",
            "Oman",
            "Pakistan",
            "Panama",
            "Paraguay",
            "Peru",
            "Philippines",
            "Poland",
            "Portugal",
            "Qatar",
            "Romania",
            "Russia",
            "San Marino",
            "Saudi Arabia",
            "Senegal",
            "Serbia",
            "Singapore",
            "Slovakia",
            "Slovenia",
            "South Africa",
            "Spain",
            "Sri Lanka",
            "Sweden",
            "Switzerland",
            "Thailand",
            "Togo",
            "Tunisia",
            "Turkey",
            "US",
            "Ukraine",
            "United Arab Emirates",
            "Vietnam"
           ],
           "marker": {
            "color": "#636efa",
            "size": [
             0,
             0,
             0,
             0,
             0,
             0,
             5,
             0,
             0,
             0,
             0,
             0,
             0,
             0,
             0,
             0,
             0,
             0,
             0,
             0,
             1,
             0,
             1,
             0,
             2877,
             0,
             0,
             0,
             0,
             0,
             0,
             0,
             0,
             0,
             0,
             0,
             0,
             0,
             0,
             3,
             0,
             1,
             0,
             0,
             0,
             0,
             0,
             0,
             0,
             0,
             0,
             0,
             0,
             0,
             0,
             4,
             0,
             0,
             0,
             0,
             0,
             0,
             0,
             4,
             0,
             0,
             0,
             0,
             0,
             0,
             0,
             0,
             1,
             0,
             0,
             0,
             0,
             0,
             0,
             0,
             0,
             0,
             0,
             0,
             0,
             0,
             0,
             0,
             0,
             0,
             0,
             0,
             0,
             5,
             0,
             0,
             0,
             0,
             1,
             0,
             0,
             8,
             0,
             0,
             0,
             5,
             0,
             0,
             2
            ],
            "sizemode": "area",
            "sizeref": 202.89
           },
           "name": "",
           "showlegend": false,
           "type": "scattergeo"
          }
         ],
         "name": "2020-01-27 00:00:00"
        },
        {
         "data": [
          {
           "customdata": [
            [
             0
            ],
            [
             0
            ],
            [
             0
            ],
            [
             0
            ],
            [
             0
            ],
            [
             0
            ],
            [
             5
            ],
            [
             0
            ],
            [
             0
            ],
            [
             0
            ],
            [
             0
            ],
            [
             0
            ],
            [
             0
            ],
            [
             0
            ],
            [
             0
            ],
            [
             0
            ],
            [
             0
            ],
            [
             0
            ],
            [
             0
            ],
            [
             0
            ],
            [
             1
            ],
            [
             0
            ],
            [
             2
            ],
            [
             0
            ],
            [
             5509
            ],
            [
             0
            ],
            [
             0
            ],
            [
             0
            ],
            [
             0
            ],
            [
             0
            ],
            [
             0
            ],
            [
             0
            ],
            [
             0
            ],
            [
             0
            ],
            [
             0
            ],
            [
             0
            ],
            [
             0
            ],
            [
             0
            ],
            [
             0
            ],
            [
             4
            ],
            [
             0
            ],
            [
             4
            ],
            [
             0
            ],
            [
             0
            ],
            [
             0
            ],
            [
             0
            ],
            [
             0
            ],
            [
             0
            ],
            [
             0
            ],
            [
             0
            ],
            [
             0
            ],
            [
             0
            ],
            [
             0
            ],
            [
             0
            ],
            [
             0
            ],
            [
             7
            ],
            [
             0
            ],
            [
             0
            ],
            [
             0
            ],
            [
             0
            ],
            [
             0
            ],
            [
             0
            ],
            [
             0
            ],
            [
             4
            ],
            [
             0
            ],
            [
             0
            ],
            [
             0
            ],
            [
             0
            ],
            [
             0
            ],
            [
             0
            ],
            [
             0
            ],
            [
             0
            ],
            [
             1
            ],
            [
             0
            ],
            [
             0
            ],
            [
             0
            ],
            [
             0
            ],
            [
             0
            ],
            [
             0
            ],
            [
             0
            ],
            [
             0
            ],
            [
             0
            ],
            [
             0
            ],
            [
             0
            ],
            [
             0
            ],
            [
             0
            ],
            [
             0
            ],
            [
             0
            ],
            [
             0
            ],
            [
             0
            ],
            [
             0
            ],
            [
             0
            ],
            [
             0
            ],
            [
             7
            ],
            [
             0
            ],
            [
             0
            ],
            [
             0
            ],
            [
             0
            ],
            [
             1
            ],
            [
             0
            ],
            [
             0
            ],
            [
             14
            ],
            [
             0
            ],
            [
             0
            ],
            [
             0
            ],
            [
             5
            ],
            [
             0
            ],
            [
             0
            ],
            [
             2
            ]
           ],
           "geo": "geo",
           "hoverlabel": {
            "namelength": 0
           },
           "hovertemplate": "Date=2020-01-28 00:00:00<br>Confirmed=%{customdata[0]}<br>Country/Region=%{location}",
           "legendgroup": "",
           "locationmode": "country names",
           "locations": [
            "Afghanistan",
            "Albania",
            "Algeria",
            "Andorra",
            "Argentina",
            "Armenia",
            "Australia",
            "Austria",
            "Azerbaijan",
            "Bahrain",
            "Bangladesh",
            "Belarus",
            "Belgium",
            "Bhutan",
            "Bolivia",
            "Bosnia and Herzegovina",
            "Brazil",
            "Brunei",
            "Bulgaria",
            "Burkina Faso",
            "Cambodia",
            "Cameroon",
            "Canada",
            "Chile",
            "China",
            "Colombia",
            "Congo (Kinshasa)",
            "Costa Rica",
            "Cote d'Ivoire",
            "Croatia",
            "Cruise Ship",
            "Cuba",
            "Cyprus",
            "Denmark",
            "Dominican Republic",
            "Ecuador",
            "Egypt",
            "Estonia",
            "Finland",
            "France",
            "Georgia",
            "Germany",
            "Greece",
            "Guyana",
            "Honduras",
            "Hungary",
            "Iceland",
            "India",
            "Indonesia",
            "Iran",
            "Iraq",
            "Ireland",
            "Israel",
            "Italy",
            "Jamaica",
            "Japan",
            "Jordan",
            "Kuwait",
            "Latvia",
            "Lebanon",
            "Liechtenstein",
            "Lithuania",
            "Luxembourg",
            "Malaysia",
            "Maldives",
            "Malta",
            "Martinique",
            "Mexico",
            "Moldova",
            "Monaco",
            "Mongolia",
            "Morocco",
            "Nepal",
            "Netherlands",
            "New Zealand",
            "Nigeria",
            "North Macedonia",
            "Norway",
            "Oman",
            "Pakistan",
            "Panama",
            "Paraguay",
            "Peru",
            "Philippines",
            "Poland",
            "Portugal",
            "Qatar",
            "Romania",
            "Russia",
            "San Marino",
            "Saudi Arabia",
            "Senegal",
            "Serbia",
            "Singapore",
            "Slovakia",
            "Slovenia",
            "South Africa",
            "Spain",
            "Sri Lanka",
            "Sweden",
            "Switzerland",
            "Thailand",
            "Togo",
            "Tunisia",
            "Turkey",
            "US",
            "Ukraine",
            "United Arab Emirates",
            "Vietnam"
           ],
           "marker": {
            "color": "#636efa",
            "size": [
             0,
             0,
             0,
             0,
             0,
             0,
             5,
             0,
             0,
             0,
             0,
             0,
             0,
             0,
             0,
             0,
             0,
             0,
             0,
             0,
             1,
             0,
             2,
             0,
             5509,
             0,
             0,
             0,
             0,
             0,
             0,
             0,
             0,
             0,
             0,
             0,
             0,
             0,
             0,
             4,
             0,
             4,
             0,
             0,
             0,
             0,
             0,
             0,
             0,
             0,
             0,
             0,
             0,
             0,
             0,
             7,
             0,
             0,
             0,
             0,
             0,
             0,
             0,
             4,
             0,
             0,
             0,
             0,
             0,
             0,
             0,
             0,
             1,
             0,
             0,
             0,
             0,
             0,
             0,
             0,
             0,
             0,
             0,
             0,
             0,
             0,
             0,
             0,
             0,
             0,
             0,
             0,
             0,
             7,
             0,
             0,
             0,
             0,
             1,
             0,
             0,
             14,
             0,
             0,
             0,
             5,
             0,
             0,
             2
            ],
            "sizemode": "area",
            "sizeref": 202.89
           },
           "name": "",
           "showlegend": false,
           "type": "scattergeo"
          }
         ],
         "name": "2020-01-28 00:00:00"
        },
        {
         "data": [
          {
           "customdata": [
            [
             0
            ],
            [
             0
            ],
            [
             0
            ],
            [
             0
            ],
            [
             0
            ],
            [
             0
            ],
            [
             6
            ],
            [
             0
            ],
            [
             0
            ],
            [
             0
            ],
            [
             0
            ],
            [
             0
            ],
            [
             0
            ],
            [
             0
            ],
            [
             0
            ],
            [
             0
            ],
            [
             0
            ],
            [
             0
            ],
            [
             0
            ],
            [
             0
            ],
            [
             1
            ],
            [
             0
            ],
            [
             2
            ],
            [
             0
            ],
            [
             6087
            ],
            [
             0
            ],
            [
             0
            ],
            [
             0
            ],
            [
             0
            ],
            [
             0
            ],
            [
             0
            ],
            [
             0
            ],
            [
             0
            ],
            [
             0
            ],
            [
             0
            ],
            [
             0
            ],
            [
             0
            ],
            [
             0
            ],
            [
             1
            ],
            [
             5
            ],
            [
             0
            ],
            [
             4
            ],
            [
             0
            ],
            [
             0
            ],
            [
             0
            ],
            [
             0
            ],
            [
             0
            ],
            [
             0
            ],
            [
             0
            ],
            [
             0
            ],
            [
             0
            ],
            [
             0
            ],
            [
             0
            ],
            [
             0
            ],
            [
             0
            ],
            [
             7
            ],
            [
             0
            ],
            [
             0
            ],
            [
             0
            ],
            [
             0
            ],
            [
             0
            ],
            [
             0
            ],
            [
             0
            ],
            [
             7
            ],
            [
             0
            ],
            [
             0
            ],
            [
             0
            ],
            [
             0
            ],
            [
             0
            ],
            [
             0
            ],
            [
             0
            ],
            [
             0
            ],
            [
             1
            ],
            [
             0
            ],
            [
             0
            ],
            [
             0
            ],
            [
             0
            ],
            [
             0
            ],
            [
             0
            ],
            [
             0
            ],
            [
             0
            ],
            [
             0
            ],
            [
             0
            ],
            [
             0
            ],
            [
             0
            ],
            [
             0
            ],
            [
             0
            ],
            [
             0
            ],
            [
             0
            ],
            [
             0
            ],
            [
             0
            ],
            [
             0
            ],
            [
             0
            ],
            [
             7
            ],
            [
             0
            ],
            [
             0
            ],
            [
             0
            ],
            [
             0
            ],
            [
             1
            ],
            [
             0
            ],
            [
             0
            ],
            [
             14
            ],
            [
             0
            ],
            [
             0
            ],
            [
             0
            ],
            [
             5
            ],
            [
             0
            ],
            [
             4
            ],
            [
             2
            ]
           ],
           "geo": "geo",
           "hoverlabel": {
            "namelength": 0
           },
           "hovertemplate": "Date=2020-01-29 00:00:00<br>Confirmed=%{customdata[0]}<br>Country/Region=%{location}",
           "legendgroup": "",
           "locationmode": "country names",
           "locations": [
            "Afghanistan",
            "Albania",
            "Algeria",
            "Andorra",
            "Argentina",
            "Armenia",
            "Australia",
            "Austria",
            "Azerbaijan",
            "Bahrain",
            "Bangladesh",
            "Belarus",
            "Belgium",
            "Bhutan",
            "Bolivia",
            "Bosnia and Herzegovina",
            "Brazil",
            "Brunei",
            "Bulgaria",
            "Burkina Faso",
            "Cambodia",
            "Cameroon",
            "Canada",
            "Chile",
            "China",
            "Colombia",
            "Congo (Kinshasa)",
            "Costa Rica",
            "Cote d'Ivoire",
            "Croatia",
            "Cruise Ship",
            "Cuba",
            "Cyprus",
            "Denmark",
            "Dominican Republic",
            "Ecuador",
            "Egypt",
            "Estonia",
            "Finland",
            "France",
            "Georgia",
            "Germany",
            "Greece",
            "Guyana",
            "Honduras",
            "Hungary",
            "Iceland",
            "India",
            "Indonesia",
            "Iran",
            "Iraq",
            "Ireland",
            "Israel",
            "Italy",
            "Jamaica",
            "Japan",
            "Jordan",
            "Kuwait",
            "Latvia",
            "Lebanon",
            "Liechtenstein",
            "Lithuania",
            "Luxembourg",
            "Malaysia",
            "Maldives",
            "Malta",
            "Martinique",
            "Mexico",
            "Moldova",
            "Monaco",
            "Mongolia",
            "Morocco",
            "Nepal",
            "Netherlands",
            "New Zealand",
            "Nigeria",
            "North Macedonia",
            "Norway",
            "Oman",
            "Pakistan",
            "Panama",
            "Paraguay",
            "Peru",
            "Philippines",
            "Poland",
            "Portugal",
            "Qatar",
            "Romania",
            "Russia",
            "San Marino",
            "Saudi Arabia",
            "Senegal",
            "Serbia",
            "Singapore",
            "Slovakia",
            "Slovenia",
            "South Africa",
            "Spain",
            "Sri Lanka",
            "Sweden",
            "Switzerland",
            "Thailand",
            "Togo",
            "Tunisia",
            "Turkey",
            "US",
            "Ukraine",
            "United Arab Emirates",
            "Vietnam"
           ],
           "marker": {
            "color": "#636efa",
            "size": [
             0,
             0,
             0,
             0,
             0,
             0,
             6,
             0,
             0,
             0,
             0,
             0,
             0,
             0,
             0,
             0,
             0,
             0,
             0,
             0,
             1,
             0,
             2,
             0,
             6087,
             0,
             0,
             0,
             0,
             0,
             0,
             0,
             0,
             0,
             0,
             0,
             0,
             0,
             1,
             5,
             0,
             4,
             0,
             0,
             0,
             0,
             0,
             0,
             0,
             0,
             0,
             0,
             0,
             0,
             0,
             7,
             0,
             0,
             0,
             0,
             0,
             0,
             0,
             7,
             0,
             0,
             0,
             0,
             0,
             0,
             0,
             0,
             1,
             0,
             0,
             0,
             0,
             0,
             0,
             0,
             0,
             0,
             0,
             0,
             0,
             0,
             0,
             0,
             0,
             0,
             0,
             0,
             0,
             7,
             0,
             0,
             0,
             0,
             1,
             0,
             0,
             14,
             0,
             0,
             0,
             5,
             0,
             4,
             2
            ],
            "sizemode": "area",
            "sizeref": 202.89
           },
           "name": "",
           "showlegend": false,
           "type": "scattergeo"
          }
         ],
         "name": "2020-01-29 00:00:00"
        },
        {
         "data": [
          {
           "customdata": [
            [
             0
            ],
            [
             0
            ],
            [
             0
            ],
            [
             0
            ],
            [
             0
            ],
            [
             0
            ],
            [
             9
            ],
            [
             0
            ],
            [
             0
            ],
            [
             0
            ],
            [
             0
            ],
            [
             0
            ],
            [
             0
            ],
            [
             0
            ],
            [
             0
            ],
            [
             0
            ],
            [
             0
            ],
            [
             0
            ],
            [
             0
            ],
            [
             0
            ],
            [
             1
            ],
            [
             0
            ],
            [
             2
            ],
            [
             0
            ],
            [
             8141
            ],
            [
             0
            ],
            [
             0
            ],
            [
             0
            ],
            [
             0
            ],
            [
             0
            ],
            [
             0
            ],
            [
             0
            ],
            [
             0
            ],
            [
             0
            ],
            [
             0
            ],
            [
             0
            ],
            [
             0
            ],
            [
             0
            ],
            [
             1
            ],
            [
             5
            ],
            [
             0
            ],
            [
             4
            ],
            [
             0
            ],
            [
             0
            ],
            [
             0
            ],
            [
             0
            ],
            [
             0
            ],
            [
             1
            ],
            [
             0
            ],
            [
             0
            ],
            [
             0
            ],
            [
             0
            ],
            [
             0
            ],
            [
             0
            ],
            [
             0
            ],
            [
             11
            ],
            [
             0
            ],
            [
             0
            ],
            [
             0
            ],
            [
             0
            ],
            [
             0
            ],
            [
             0
            ],
            [
             0
            ],
            [
             8
            ],
            [
             0
            ],
            [
             0
            ],
            [
             0
            ],
            [
             0
            ],
            [
             0
            ],
            [
             0
            ],
            [
             0
            ],
            [
             0
            ],
            [
             1
            ],
            [
             0
            ],
            [
             0
            ],
            [
             0
            ],
            [
             0
            ],
            [
             0
            ],
            [
             0
            ],
            [
             0
            ],
            [
             0
            ],
            [
             0
            ],
            [
             0
            ],
            [
             1
            ],
            [
             0
            ],
            [
             0
            ],
            [
             0
            ],
            [
             0
            ],
            [
             0
            ],
            [
             0
            ],
            [
             0
            ],
            [
             0
            ],
            [
             0
            ],
            [
             10
            ],
            [
             0
            ],
            [
             0
            ],
            [
             0
            ],
            [
             0
            ],
            [
             1
            ],
            [
             0
            ],
            [
             0
            ],
            [
             14
            ],
            [
             0
            ],
            [
             0
            ],
            [
             0
            ],
            [
             5
            ],
            [
             0
            ],
            [
             4
            ],
            [
             2
            ]
           ],
           "geo": "geo",
           "hoverlabel": {
            "namelength": 0
           },
           "hovertemplate": "Date=2020-01-30 00:00:00<br>Confirmed=%{customdata[0]}<br>Country/Region=%{location}",
           "legendgroup": "",
           "locationmode": "country names",
           "locations": [
            "Afghanistan",
            "Albania",
            "Algeria",
            "Andorra",
            "Argentina",
            "Armenia",
            "Australia",
            "Austria",
            "Azerbaijan",
            "Bahrain",
            "Bangladesh",
            "Belarus",
            "Belgium",
            "Bhutan",
            "Bolivia",
            "Bosnia and Herzegovina",
            "Brazil",
            "Brunei",
            "Bulgaria",
            "Burkina Faso",
            "Cambodia",
            "Cameroon",
            "Canada",
            "Chile",
            "China",
            "Colombia",
            "Congo (Kinshasa)",
            "Costa Rica",
            "Cote d'Ivoire",
            "Croatia",
            "Cruise Ship",
            "Cuba",
            "Cyprus",
            "Denmark",
            "Dominican Republic",
            "Ecuador",
            "Egypt",
            "Estonia",
            "Finland",
            "France",
            "Georgia",
            "Germany",
            "Greece",
            "Guyana",
            "Honduras",
            "Hungary",
            "Iceland",
            "India",
            "Indonesia",
            "Iran",
            "Iraq",
            "Ireland",
            "Israel",
            "Italy",
            "Jamaica",
            "Japan",
            "Jordan",
            "Kuwait",
            "Latvia",
            "Lebanon",
            "Liechtenstein",
            "Lithuania",
            "Luxembourg",
            "Malaysia",
            "Maldives",
            "Malta",
            "Martinique",
            "Mexico",
            "Moldova",
            "Monaco",
            "Mongolia",
            "Morocco",
            "Nepal",
            "Netherlands",
            "New Zealand",
            "Nigeria",
            "North Macedonia",
            "Norway",
            "Oman",
            "Pakistan",
            "Panama",
            "Paraguay",
            "Peru",
            "Philippines",
            "Poland",
            "Portugal",
            "Qatar",
            "Romania",
            "Russia",
            "San Marino",
            "Saudi Arabia",
            "Senegal",
            "Serbia",
            "Singapore",
            "Slovakia",
            "Slovenia",
            "South Africa",
            "Spain",
            "Sri Lanka",
            "Sweden",
            "Switzerland",
            "Thailand",
            "Togo",
            "Tunisia",
            "Turkey",
            "US",
            "Ukraine",
            "United Arab Emirates",
            "Vietnam"
           ],
           "marker": {
            "color": "#636efa",
            "size": [
             0,
             0,
             0,
             0,
             0,
             0,
             9,
             0,
             0,
             0,
             0,
             0,
             0,
             0,
             0,
             0,
             0,
             0,
             0,
             0,
             1,
             0,
             2,
             0,
             8141,
             0,
             0,
             0,
             0,
             0,
             0,
             0,
             0,
             0,
             0,
             0,
             0,
             0,
             1,
             5,
             0,
             4,
             0,
             0,
             0,
             0,
             0,
             1,
             0,
             0,
             0,
             0,
             0,
             0,
             0,
             11,
             0,
             0,
             0,
             0,
             0,
             0,
             0,
             8,
             0,
             0,
             0,
             0,
             0,
             0,
             0,
             0,
             1,
             0,
             0,
             0,
             0,
             0,
             0,
             0,
             0,
             0,
             0,
             1,
             0,
             0,
             0,
             0,
             0,
             0,
             0,
             0,
             0,
             10,
             0,
             0,
             0,
             0,
             1,
             0,
             0,
             14,
             0,
             0,
             0,
             5,
             0,
             4,
             2
            ],
            "sizemode": "area",
            "sizeref": 202.89
           },
           "name": "",
           "showlegend": false,
           "type": "scattergeo"
          }
         ],
         "name": "2020-01-30 00:00:00"
        },
        {
         "data": [
          {
           "customdata": [
            [
             0
            ],
            [
             0
            ],
            [
             0
            ],
            [
             0
            ],
            [
             0
            ],
            [
             0
            ],
            [
             9
            ],
            [
             0
            ],
            [
             0
            ],
            [
             0
            ],
            [
             0
            ],
            [
             0
            ],
            [
             0
            ],
            [
             0
            ],
            [
             0
            ],
            [
             0
            ],
            [
             0
            ],
            [
             0
            ],
            [
             0
            ],
            [
             0
            ],
            [
             1
            ],
            [
             0
            ],
            [
             4
            ],
            [
             0
            ],
            [
             9802
            ],
            [
             0
            ],
            [
             0
            ],
            [
             0
            ],
            [
             0
            ],
            [
             0
            ],
            [
             0
            ],
            [
             0
            ],
            [
             0
            ],
            [
             0
            ],
            [
             0
            ],
            [
             0
            ],
            [
             0
            ],
            [
             0
            ],
            [
             1
            ],
            [
             5
            ],
            [
             0
            ],
            [
             5
            ],
            [
             0
            ],
            [
             0
            ],
            [
             0
            ],
            [
             0
            ],
            [
             0
            ],
            [
             1
            ],
            [
             0
            ],
            [
             0
            ],
            [
             0
            ],
            [
             0
            ],
            [
             0
            ],
            [
             2
            ],
            [
             0
            ],
            [
             15
            ],
            [
             0
            ],
            [
             0
            ],
            [
             0
            ],
            [
             0
            ],
            [
             0
            ],
            [
             0
            ],
            [
             0
            ],
            [
             8
            ],
            [
             0
            ],
            [
             0
            ],
            [
             0
            ],
            [
             0
            ],
            [
             0
            ],
            [
             0
            ],
            [
             0
            ],
            [
             0
            ],
            [
             1
            ],
            [
             0
            ],
            [
             0
            ],
            [
             0
            ],
            [
             0
            ],
            [
             0
            ],
            [
             0
            ],
            [
             0
            ],
            [
             0
            ],
            [
             0
            ],
            [
             0
            ],
            [
             1
            ],
            [
             0
            ],
            [
             0
            ],
            [
             0
            ],
            [
             0
            ],
            [
             2
            ],
            [
             0
            ],
            [
             0
            ],
            [
             0
            ],
            [
             0
            ],
            [
             13
            ],
            [
             0
            ],
            [
             0
            ],
            [
             0
            ],
            [
             0
            ],
            [
             1
            ],
            [
             1
            ],
            [
             0
            ],
            [
             19
            ],
            [
             0
            ],
            [
             0
            ],
            [
             0
            ],
            [
             7
            ],
            [
             0
            ],
            [
             4
            ],
            [
             2
            ]
           ],
           "geo": "geo",
           "hoverlabel": {
            "namelength": 0
           },
           "hovertemplate": "Date=2020-01-31 00:00:00<br>Confirmed=%{customdata[0]}<br>Country/Region=%{location}",
           "legendgroup": "",
           "locationmode": "country names",
           "locations": [
            "Afghanistan",
            "Albania",
            "Algeria",
            "Andorra",
            "Argentina",
            "Armenia",
            "Australia",
            "Austria",
            "Azerbaijan",
            "Bahrain",
            "Bangladesh",
            "Belarus",
            "Belgium",
            "Bhutan",
            "Bolivia",
            "Bosnia and Herzegovina",
            "Brazil",
            "Brunei",
            "Bulgaria",
            "Burkina Faso",
            "Cambodia",
            "Cameroon",
            "Canada",
            "Chile",
            "China",
            "Colombia",
            "Congo (Kinshasa)",
            "Costa Rica",
            "Cote d'Ivoire",
            "Croatia",
            "Cruise Ship",
            "Cuba",
            "Cyprus",
            "Denmark",
            "Dominican Republic",
            "Ecuador",
            "Egypt",
            "Estonia",
            "Finland",
            "France",
            "Georgia",
            "Germany",
            "Greece",
            "Guyana",
            "Honduras",
            "Hungary",
            "Iceland",
            "India",
            "Indonesia",
            "Iran",
            "Iraq",
            "Ireland",
            "Israel",
            "Italy",
            "Jamaica",
            "Japan",
            "Jordan",
            "Kuwait",
            "Latvia",
            "Lebanon",
            "Liechtenstein",
            "Lithuania",
            "Luxembourg",
            "Malaysia",
            "Maldives",
            "Malta",
            "Martinique",
            "Mexico",
            "Moldova",
            "Monaco",
            "Mongolia",
            "Morocco",
            "Nepal",
            "Netherlands",
            "New Zealand",
            "Nigeria",
            "North Macedonia",
            "Norway",
            "Oman",
            "Pakistan",
            "Panama",
            "Paraguay",
            "Peru",
            "Philippines",
            "Poland",
            "Portugal",
            "Qatar",
            "Romania",
            "Russia",
            "San Marino",
            "Saudi Arabia",
            "Senegal",
            "Serbia",
            "Singapore",
            "Slovakia",
            "Slovenia",
            "South Africa",
            "Spain",
            "Sri Lanka",
            "Sweden",
            "Switzerland",
            "Thailand",
            "Togo",
            "Tunisia",
            "Turkey",
            "US",
            "Ukraine",
            "United Arab Emirates",
            "Vietnam"
           ],
           "marker": {
            "color": "#636efa",
            "size": [
             0,
             0,
             0,
             0,
             0,
             0,
             9,
             0,
             0,
             0,
             0,
             0,
             0,
             0,
             0,
             0,
             0,
             0,
             0,
             0,
             1,
             0,
             4,
             0,
             9802,
             0,
             0,
             0,
             0,
             0,
             0,
             0,
             0,
             0,
             0,
             0,
             0,
             0,
             1,
             5,
             0,
             5,
             0,
             0,
             0,
             0,
             0,
             1,
             0,
             0,
             0,
             0,
             0,
             2,
             0,
             15,
             0,
             0,
             0,
             0,
             0,
             0,
             0,
             8,
             0,
             0,
             0,
             0,
             0,
             0,
             0,
             0,
             1,
             0,
             0,
             0,
             0,
             0,
             0,
             0,
             0,
             0,
             0,
             1,
             0,
             0,
             0,
             0,
             2,
             0,
             0,
             0,
             0,
             13,
             0,
             0,
             0,
             0,
             1,
             1,
             0,
             19,
             0,
             0,
             0,
             7,
             0,
             4,
             2
            ],
            "sizemode": "area",
            "sizeref": 202.89
           },
           "name": "",
           "showlegend": false,
           "type": "scattergeo"
          }
         ],
         "name": "2020-01-31 00:00:00"
        },
        {
         "data": [
          {
           "customdata": [
            [
             0
            ],
            [
             0
            ],
            [
             0
            ],
            [
             0
            ],
            [
             0
            ],
            [
             0
            ],
            [
             12
            ],
            [
             0
            ],
            [
             0
            ],
            [
             0
            ],
            [
             0
            ],
            [
             0
            ],
            [
             0
            ],
            [
             0
            ],
            [
             0
            ],
            [
             0
            ],
            [
             0
            ],
            [
             0
            ],
            [
             0
            ],
            [
             0
            ],
            [
             1
            ],
            [
             0
            ],
            [
             4
            ],
            [
             0
            ],
            [
             11891
            ],
            [
             0
            ],
            [
             0
            ],
            [
             0
            ],
            [
             0
            ],
            [
             0
            ],
            [
             0
            ],
            [
             0
            ],
            [
             0
            ],
            [
             0
            ],
            [
             0
            ],
            [
             0
            ],
            [
             0
            ],
            [
             0
            ],
            [
             1
            ],
            [
             6
            ],
            [
             0
            ],
            [
             8
            ],
            [
             0
            ],
            [
             0
            ],
            [
             0
            ],
            [
             0
            ],
            [
             0
            ],
            [
             1
            ],
            [
             0
            ],
            [
             0
            ],
            [
             0
            ],
            [
             0
            ],
            [
             0
            ],
            [
             2
            ],
            [
             0
            ],
            [
             20
            ],
            [
             0
            ],
            [
             0
            ],
            [
             0
            ],
            [
             0
            ],
            [
             0
            ],
            [
             0
            ],
            [
             0
            ],
            [
             8
            ],
            [
             0
            ],
            [
             0
            ],
            [
             0
            ],
            [
             0
            ],
            [
             0
            ],
            [
             0
            ],
            [
             0
            ],
            [
             0
            ],
            [
             1
            ],
            [
             0
            ],
            [
             0
            ],
            [
             0
            ],
            [
             0
            ],
            [
             0
            ],
            [
             0
            ],
            [
             0
            ],
            [
             0
            ],
            [
             0
            ],
            [
             0
            ],
            [
             1
            ],
            [
             0
            ],
            [
             0
            ],
            [
             0
            ],
            [
             0
            ],
            [
             2
            ],
            [
             0
            ],
            [
             0
            ],
            [
             0
            ],
            [
             0
            ],
            [
             16
            ],
            [
             0
            ],
            [
             0
            ],
            [
             0
            ],
            [
             1
            ],
            [
             1
            ],
            [
             1
            ],
            [
             0
            ],
            [
             19
            ],
            [
             0
            ],
            [
             0
            ],
            [
             0
            ],
            [
             8
            ],
            [
             0
            ],
            [
             4
            ],
            [
             6
            ]
           ],
           "geo": "geo",
           "hoverlabel": {
            "namelength": 0
           },
           "hovertemplate": "Date=2020-02-01 00:00:00<br>Confirmed=%{customdata[0]}<br>Country/Region=%{location}",
           "legendgroup": "",
           "locationmode": "country names",
           "locations": [
            "Afghanistan",
            "Albania",
            "Algeria",
            "Andorra",
            "Argentina",
            "Armenia",
            "Australia",
            "Austria",
            "Azerbaijan",
            "Bahrain",
            "Bangladesh",
            "Belarus",
            "Belgium",
            "Bhutan",
            "Bolivia",
            "Bosnia and Herzegovina",
            "Brazil",
            "Brunei",
            "Bulgaria",
            "Burkina Faso",
            "Cambodia",
            "Cameroon",
            "Canada",
            "Chile",
            "China",
            "Colombia",
            "Congo (Kinshasa)",
            "Costa Rica",
            "Cote d'Ivoire",
            "Croatia",
            "Cruise Ship",
            "Cuba",
            "Cyprus",
            "Denmark",
            "Dominican Republic",
            "Ecuador",
            "Egypt",
            "Estonia",
            "Finland",
            "France",
            "Georgia",
            "Germany",
            "Greece",
            "Guyana",
            "Honduras",
            "Hungary",
            "Iceland",
            "India",
            "Indonesia",
            "Iran",
            "Iraq",
            "Ireland",
            "Israel",
            "Italy",
            "Jamaica",
            "Japan",
            "Jordan",
            "Kuwait",
            "Latvia",
            "Lebanon",
            "Liechtenstein",
            "Lithuania",
            "Luxembourg",
            "Malaysia",
            "Maldives",
            "Malta",
            "Martinique",
            "Mexico",
            "Moldova",
            "Monaco",
            "Mongolia",
            "Morocco",
            "Nepal",
            "Netherlands",
            "New Zealand",
            "Nigeria",
            "North Macedonia",
            "Norway",
            "Oman",
            "Pakistan",
            "Panama",
            "Paraguay",
            "Peru",
            "Philippines",
            "Poland",
            "Portugal",
            "Qatar",
            "Romania",
            "Russia",
            "San Marino",
            "Saudi Arabia",
            "Senegal",
            "Serbia",
            "Singapore",
            "Slovakia",
            "Slovenia",
            "South Africa",
            "Spain",
            "Sri Lanka",
            "Sweden",
            "Switzerland",
            "Thailand",
            "Togo",
            "Tunisia",
            "Turkey",
            "US",
            "Ukraine",
            "United Arab Emirates",
            "Vietnam"
           ],
           "marker": {
            "color": "#636efa",
            "size": [
             0,
             0,
             0,
             0,
             0,
             0,
             12,
             0,
             0,
             0,
             0,
             0,
             0,
             0,
             0,
             0,
             0,
             0,
             0,
             0,
             1,
             0,
             4,
             0,
             11891,
             0,
             0,
             0,
             0,
             0,
             0,
             0,
             0,
             0,
             0,
             0,
             0,
             0,
             1,
             6,
             0,
             8,
             0,
             0,
             0,
             0,
             0,
             1,
             0,
             0,
             0,
             0,
             0,
             2,
             0,
             20,
             0,
             0,
             0,
             0,
             0,
             0,
             0,
             8,
             0,
             0,
             0,
             0,
             0,
             0,
             0,
             0,
             1,
             0,
             0,
             0,
             0,
             0,
             0,
             0,
             0,
             0,
             0,
             1,
             0,
             0,
             0,
             0,
             2,
             0,
             0,
             0,
             0,
             16,
             0,
             0,
             0,
             1,
             1,
             1,
             0,
             19,
             0,
             0,
             0,
             8,
             0,
             4,
             6
            ],
            "sizemode": "area",
            "sizeref": 202.89
           },
           "name": "",
           "showlegend": false,
           "type": "scattergeo"
          }
         ],
         "name": "2020-02-01 00:00:00"
        },
        {
         "data": [
          {
           "customdata": [
            [
             0
            ],
            [
             0
            ],
            [
             0
            ],
            [
             0
            ],
            [
             0
            ],
            [
             0
            ],
            [
             12
            ],
            [
             0
            ],
            [
             0
            ],
            [
             0
            ],
            [
             0
            ],
            [
             0
            ],
            [
             0
            ],
            [
             0
            ],
            [
             0
            ],
            [
             0
            ],
            [
             0
            ],
            [
             0
            ],
            [
             0
            ],
            [
             0
            ],
            [
             1
            ],
            [
             0
            ],
            [
             4
            ],
            [
             0
            ],
            [
             16630
            ],
            [
             0
            ],
            [
             0
            ],
            [
             0
            ],
            [
             0
            ],
            [
             0
            ],
            [
             0
            ],
            [
             0
            ],
            [
             0
            ],
            [
             0
            ],
            [
             0
            ],
            [
             0
            ],
            [
             0
            ],
            [
             0
            ],
            [
             1
            ],
            [
             6
            ],
            [
             0
            ],
            [
             10
            ],
            [
             0
            ],
            [
             0
            ],
            [
             0
            ],
            [
             0
            ],
            [
             0
            ],
            [
             2
            ],
            [
             0
            ],
            [
             0
            ],
            [
             0
            ],
            [
             0
            ],
            [
             0
            ],
            [
             2
            ],
            [
             0
            ],
            [
             20
            ],
            [
             0
            ],
            [
             0
            ],
            [
             0
            ],
            [
             0
            ],
            [
             0
            ],
            [
             0
            ],
            [
             0
            ],
            [
             8
            ],
            [
             0
            ],
            [
             0
            ],
            [
             0
            ],
            [
             0
            ],
            [
             0
            ],
            [
             0
            ],
            [
             0
            ],
            [
             0
            ],
            [
             1
            ],
            [
             0
            ],
            [
             0
            ],
            [
             0
            ],
            [
             0
            ],
            [
             0
            ],
            [
             0
            ],
            [
             0
            ],
            [
             0
            ],
            [
             0
            ],
            [
             0
            ],
            [
             2
            ],
            [
             0
            ],
            [
             0
            ],
            [
             0
            ],
            [
             0
            ],
            [
             2
            ],
            [
             0
            ],
            [
             0
            ],
            [
             0
            ],
            [
             0
            ],
            [
             18
            ],
            [
             0
            ],
            [
             0
            ],
            [
             0
            ],
            [
             1
            ],
            [
             1
            ],
            [
             1
            ],
            [
             0
            ],
            [
             19
            ],
            [
             0
            ],
            [
             0
            ],
            [
             0
            ],
            [
             8
            ],
            [
             0
            ],
            [
             5
            ],
            [
             6
            ]
           ],
           "geo": "geo",
           "hoverlabel": {
            "namelength": 0
           },
           "hovertemplate": "Date=2020-02-02 00:00:00<br>Confirmed=%{customdata[0]}<br>Country/Region=%{location}",
           "legendgroup": "",
           "locationmode": "country names",
           "locations": [
            "Afghanistan",
            "Albania",
            "Algeria",
            "Andorra",
            "Argentina",
            "Armenia",
            "Australia",
            "Austria",
            "Azerbaijan",
            "Bahrain",
            "Bangladesh",
            "Belarus",
            "Belgium",
            "Bhutan",
            "Bolivia",
            "Bosnia and Herzegovina",
            "Brazil",
            "Brunei",
            "Bulgaria",
            "Burkina Faso",
            "Cambodia",
            "Cameroon",
            "Canada",
            "Chile",
            "China",
            "Colombia",
            "Congo (Kinshasa)",
            "Costa Rica",
            "Cote d'Ivoire",
            "Croatia",
            "Cruise Ship",
            "Cuba",
            "Cyprus",
            "Denmark",
            "Dominican Republic",
            "Ecuador",
            "Egypt",
            "Estonia",
            "Finland",
            "France",
            "Georgia",
            "Germany",
            "Greece",
            "Guyana",
            "Honduras",
            "Hungary",
            "Iceland",
            "India",
            "Indonesia",
            "Iran",
            "Iraq",
            "Ireland",
            "Israel",
            "Italy",
            "Jamaica",
            "Japan",
            "Jordan",
            "Kuwait",
            "Latvia",
            "Lebanon",
            "Liechtenstein",
            "Lithuania",
            "Luxembourg",
            "Malaysia",
            "Maldives",
            "Malta",
            "Martinique",
            "Mexico",
            "Moldova",
            "Monaco",
            "Mongolia",
            "Morocco",
            "Nepal",
            "Netherlands",
            "New Zealand",
            "Nigeria",
            "North Macedonia",
            "Norway",
            "Oman",
            "Pakistan",
            "Panama",
            "Paraguay",
            "Peru",
            "Philippines",
            "Poland",
            "Portugal",
            "Qatar",
            "Romania",
            "Russia",
            "San Marino",
            "Saudi Arabia",
            "Senegal",
            "Serbia",
            "Singapore",
            "Slovakia",
            "Slovenia",
            "South Africa",
            "Spain",
            "Sri Lanka",
            "Sweden",
            "Switzerland",
            "Thailand",
            "Togo",
            "Tunisia",
            "Turkey",
            "US",
            "Ukraine",
            "United Arab Emirates",
            "Vietnam"
           ],
           "marker": {
            "color": "#636efa",
            "size": [
             0,
             0,
             0,
             0,
             0,
             0,
             12,
             0,
             0,
             0,
             0,
             0,
             0,
             0,
             0,
             0,
             0,
             0,
             0,
             0,
             1,
             0,
             4,
             0,
             16630,
             0,
             0,
             0,
             0,
             0,
             0,
             0,
             0,
             0,
             0,
             0,
             0,
             0,
             1,
             6,
             0,
             10,
             0,
             0,
             0,
             0,
             0,
             2,
             0,
             0,
             0,
             0,
             0,
             2,
             0,
             20,
             0,
             0,
             0,
             0,
             0,
             0,
             0,
             8,
             0,
             0,
             0,
             0,
             0,
             0,
             0,
             0,
             1,
             0,
             0,
             0,
             0,
             0,
             0,
             0,
             0,
             0,
             0,
             2,
             0,
             0,
             0,
             0,
             2,
             0,
             0,
             0,
             0,
             18,
             0,
             0,
             0,
             1,
             1,
             1,
             0,
             19,
             0,
             0,
             0,
             8,
             0,
             5,
             6
            ],
            "sizemode": "area",
            "sizeref": 202.89
           },
           "name": "",
           "showlegend": false,
           "type": "scattergeo"
          }
         ],
         "name": "2020-02-02 00:00:00"
        },
        {
         "data": [
          {
           "customdata": [
            [
             0
            ],
            [
             0
            ],
            [
             0
            ],
            [
             0
            ],
            [
             0
            ],
            [
             0
            ],
            [
             12
            ],
            [
             0
            ],
            [
             0
            ],
            [
             0
            ],
            [
             0
            ],
            [
             0
            ],
            [
             0
            ],
            [
             0
            ],
            [
             0
            ],
            [
             0
            ],
            [
             0
            ],
            [
             0
            ],
            [
             0
            ],
            [
             0
            ],
            [
             1
            ],
            [
             0
            ],
            [
             4
            ],
            [
             0
            ],
            [
             19716
            ],
            [
             0
            ],
            [
             0
            ],
            [
             0
            ],
            [
             0
            ],
            [
             0
            ],
            [
             0
            ],
            [
             0
            ],
            [
             0
            ],
            [
             0
            ],
            [
             0
            ],
            [
             0
            ],
            [
             0
            ],
            [
             0
            ],
            [
             1
            ],
            [
             6
            ],
            [
             0
            ],
            [
             12
            ],
            [
             0
            ],
            [
             0
            ],
            [
             0
            ],
            [
             0
            ],
            [
             0
            ],
            [
             3
            ],
            [
             0
            ],
            [
             0
            ],
            [
             0
            ],
            [
             0
            ],
            [
             0
            ],
            [
             2
            ],
            [
             0
            ],
            [
             20
            ],
            [
             0
            ],
            [
             0
            ],
            [
             0
            ],
            [
             0
            ],
            [
             0
            ],
            [
             0
            ],
            [
             0
            ],
            [
             8
            ],
            [
             0
            ],
            [
             0
            ],
            [
             0
            ],
            [
             0
            ],
            [
             0
            ],
            [
             0
            ],
            [
             0
            ],
            [
             0
            ],
            [
             1
            ],
            [
             0
            ],
            [
             0
            ],
            [
             0
            ],
            [
             0
            ],
            [
             0
            ],
            [
             0
            ],
            [
             0
            ],
            [
             0
            ],
            [
             0
            ],
            [
             0
            ],
            [
             2
            ],
            [
             0
            ],
            [
             0
            ],
            [
             0
            ],
            [
             0
            ],
            [
             2
            ],
            [
             0
            ],
            [
             0
            ],
            [
             0
            ],
            [
             0
            ],
            [
             18
            ],
            [
             0
            ],
            [
             0
            ],
            [
             0
            ],
            [
             1
            ],
            [
             1
            ],
            [
             1
            ],
            [
             0
            ],
            [
             19
            ],
            [
             0
            ],
            [
             0
            ],
            [
             0
            ],
            [
             11
            ],
            [
             0
            ],
            [
             5
            ],
            [
             8
            ]
           ],
           "geo": "geo",
           "hoverlabel": {
            "namelength": 0
           },
           "hovertemplate": "Date=2020-02-03 00:00:00<br>Confirmed=%{customdata[0]}<br>Country/Region=%{location}",
           "legendgroup": "",
           "locationmode": "country names",
           "locations": [
            "Afghanistan",
            "Albania",
            "Algeria",
            "Andorra",
            "Argentina",
            "Armenia",
            "Australia",
            "Austria",
            "Azerbaijan",
            "Bahrain",
            "Bangladesh",
            "Belarus",
            "Belgium",
            "Bhutan",
            "Bolivia",
            "Bosnia and Herzegovina",
            "Brazil",
            "Brunei",
            "Bulgaria",
            "Burkina Faso",
            "Cambodia",
            "Cameroon",
            "Canada",
            "Chile",
            "China",
            "Colombia",
            "Congo (Kinshasa)",
            "Costa Rica",
            "Cote d'Ivoire",
            "Croatia",
            "Cruise Ship",
            "Cuba",
            "Cyprus",
            "Denmark",
            "Dominican Republic",
            "Ecuador",
            "Egypt",
            "Estonia",
            "Finland",
            "France",
            "Georgia",
            "Germany",
            "Greece",
            "Guyana",
            "Honduras",
            "Hungary",
            "Iceland",
            "India",
            "Indonesia",
            "Iran",
            "Iraq",
            "Ireland",
            "Israel",
            "Italy",
            "Jamaica",
            "Japan",
            "Jordan",
            "Kuwait",
            "Latvia",
            "Lebanon",
            "Liechtenstein",
            "Lithuania",
            "Luxembourg",
            "Malaysia",
            "Maldives",
            "Malta",
            "Martinique",
            "Mexico",
            "Moldova",
            "Monaco",
            "Mongolia",
            "Morocco",
            "Nepal",
            "Netherlands",
            "New Zealand",
            "Nigeria",
            "North Macedonia",
            "Norway",
            "Oman",
            "Pakistan",
            "Panama",
            "Paraguay",
            "Peru",
            "Philippines",
            "Poland",
            "Portugal",
            "Qatar",
            "Romania",
            "Russia",
            "San Marino",
            "Saudi Arabia",
            "Senegal",
            "Serbia",
            "Singapore",
            "Slovakia",
            "Slovenia",
            "South Africa",
            "Spain",
            "Sri Lanka",
            "Sweden",
            "Switzerland",
            "Thailand",
            "Togo",
            "Tunisia",
            "Turkey",
            "US",
            "Ukraine",
            "United Arab Emirates",
            "Vietnam"
           ],
           "marker": {
            "color": "#636efa",
            "size": [
             0,
             0,
             0,
             0,
             0,
             0,
             12,
             0,
             0,
             0,
             0,
             0,
             0,
             0,
             0,
             0,
             0,
             0,
             0,
             0,
             1,
             0,
             4,
             0,
             19716,
             0,
             0,
             0,
             0,
             0,
             0,
             0,
             0,
             0,
             0,
             0,
             0,
             0,
             1,
             6,
             0,
             12,
             0,
             0,
             0,
             0,
             0,
             3,
             0,
             0,
             0,
             0,
             0,
             2,
             0,
             20,
             0,
             0,
             0,
             0,
             0,
             0,
             0,
             8,
             0,
             0,
             0,
             0,
             0,
             0,
             0,
             0,
             1,
             0,
             0,
             0,
             0,
             0,
             0,
             0,
             0,
             0,
             0,
             2,
             0,
             0,
             0,
             0,
             2,
             0,
             0,
             0,
             0,
             18,
             0,
             0,
             0,
             1,
             1,
             1,
             0,
             19,
             0,
             0,
             0,
             11,
             0,
             5,
             8
            ],
            "sizemode": "area",
            "sizeref": 202.89
           },
           "name": "",
           "showlegend": false,
           "type": "scattergeo"
          }
         ],
         "name": "2020-02-03 00:00:00"
        },
        {
         "data": [
          {
           "customdata": [
            [
             0
            ],
            [
             0
            ],
            [
             0
            ],
            [
             0
            ],
            [
             0
            ],
            [
             0
            ],
            [
             13
            ],
            [
             0
            ],
            [
             0
            ],
            [
             0
            ],
            [
             0
            ],
            [
             0
            ],
            [
             1
            ],
            [
             0
            ],
            [
             0
            ],
            [
             0
            ],
            [
             0
            ],
            [
             0
            ],
            [
             0
            ],
            [
             0
            ],
            [
             1
            ],
            [
             0
            ],
            [
             4
            ],
            [
             0
            ],
            [
             23707
            ],
            [
             0
            ],
            [
             0
            ],
            [
             0
            ],
            [
             0
            ],
            [
             0
            ],
            [
             0
            ],
            [
             0
            ],
            [
             0
            ],
            [
             0
            ],
            [
             0
            ],
            [
             0
            ],
            [
             0
            ],
            [
             0
            ],
            [
             1
            ],
            [
             6
            ],
            [
             0
            ],
            [
             12
            ],
            [
             0
            ],
            [
             0
            ],
            [
             0
            ],
            [
             0
            ],
            [
             0
            ],
            [
             3
            ],
            [
             0
            ],
            [
             0
            ],
            [
             0
            ],
            [
             0
            ],
            [
             0
            ],
            [
             2
            ],
            [
             0
            ],
            [
             22
            ],
            [
             0
            ],
            [
             0
            ],
            [
             0
            ],
            [
             0
            ],
            [
             0
            ],
            [
             0
            ],
            [
             0
            ],
            [
             10
            ],
            [
             0
            ],
            [
             0
            ],
            [
             0
            ],
            [
             0
            ],
            [
             0
            ],
            [
             0
            ],
            [
             0
            ],
            [
             0
            ],
            [
             1
            ],
            [
             0
            ],
            [
             0
            ],
            [
             0
            ],
            [
             0
            ],
            [
             0
            ],
            [
             0
            ],
            [
             0
            ],
            [
             0
            ],
            [
             0
            ],
            [
             0
            ],
            [
             2
            ],
            [
             0
            ],
            [
             0
            ],
            [
             0
            ],
            [
             0
            ],
            [
             2
            ],
            [
             0
            ],
            [
             0
            ],
            [
             0
            ],
            [
             0
            ],
            [
             24
            ],
            [
             0
            ],
            [
             0
            ],
            [
             0
            ],
            [
             1
            ],
            [
             1
            ],
            [
             1
            ],
            [
             0
            ],
            [
             25
            ],
            [
             0
            ],
            [
             0
            ],
            [
             0
            ],
            [
             11
            ],
            [
             0
            ],
            [
             5
            ],
            [
             8
            ]
           ],
           "geo": "geo",
           "hoverlabel": {
            "namelength": 0
           },
           "hovertemplate": "Date=2020-02-04 00:00:00<br>Confirmed=%{customdata[0]}<br>Country/Region=%{location}",
           "legendgroup": "",
           "locationmode": "country names",
           "locations": [
            "Afghanistan",
            "Albania",
            "Algeria",
            "Andorra",
            "Argentina",
            "Armenia",
            "Australia",
            "Austria",
            "Azerbaijan",
            "Bahrain",
            "Bangladesh",
            "Belarus",
            "Belgium",
            "Bhutan",
            "Bolivia",
            "Bosnia and Herzegovina",
            "Brazil",
            "Brunei",
            "Bulgaria",
            "Burkina Faso",
            "Cambodia",
            "Cameroon",
            "Canada",
            "Chile",
            "China",
            "Colombia",
            "Congo (Kinshasa)",
            "Costa Rica",
            "Cote d'Ivoire",
            "Croatia",
            "Cruise Ship",
            "Cuba",
            "Cyprus",
            "Denmark",
            "Dominican Republic",
            "Ecuador",
            "Egypt",
            "Estonia",
            "Finland",
            "France",
            "Georgia",
            "Germany",
            "Greece",
            "Guyana",
            "Honduras",
            "Hungary",
            "Iceland",
            "India",
            "Indonesia",
            "Iran",
            "Iraq",
            "Ireland",
            "Israel",
            "Italy",
            "Jamaica",
            "Japan",
            "Jordan",
            "Kuwait",
            "Latvia",
            "Lebanon",
            "Liechtenstein",
            "Lithuania",
            "Luxembourg",
            "Malaysia",
            "Maldives",
            "Malta",
            "Martinique",
            "Mexico",
            "Moldova",
            "Monaco",
            "Mongolia",
            "Morocco",
            "Nepal",
            "Netherlands",
            "New Zealand",
            "Nigeria",
            "North Macedonia",
            "Norway",
            "Oman",
            "Pakistan",
            "Panama",
            "Paraguay",
            "Peru",
            "Philippines",
            "Poland",
            "Portugal",
            "Qatar",
            "Romania",
            "Russia",
            "San Marino",
            "Saudi Arabia",
            "Senegal",
            "Serbia",
            "Singapore",
            "Slovakia",
            "Slovenia",
            "South Africa",
            "Spain",
            "Sri Lanka",
            "Sweden",
            "Switzerland",
            "Thailand",
            "Togo",
            "Tunisia",
            "Turkey",
            "US",
            "Ukraine",
            "United Arab Emirates",
            "Vietnam"
           ],
           "marker": {
            "color": "#636efa",
            "size": [
             0,
             0,
             0,
             0,
             0,
             0,
             13,
             0,
             0,
             0,
             0,
             0,
             1,
             0,
             0,
             0,
             0,
             0,
             0,
             0,
             1,
             0,
             4,
             0,
             23707,
             0,
             0,
             0,
             0,
             0,
             0,
             0,
             0,
             0,
             0,
             0,
             0,
             0,
             1,
             6,
             0,
             12,
             0,
             0,
             0,
             0,
             0,
             3,
             0,
             0,
             0,
             0,
             0,
             2,
             0,
             22,
             0,
             0,
             0,
             0,
             0,
             0,
             0,
             10,
             0,
             0,
             0,
             0,
             0,
             0,
             0,
             0,
             1,
             0,
             0,
             0,
             0,
             0,
             0,
             0,
             0,
             0,
             0,
             2,
             0,
             0,
             0,
             0,
             2,
             0,
             0,
             0,
             0,
             24,
             0,
             0,
             0,
             1,
             1,
             1,
             0,
             25,
             0,
             0,
             0,
             11,
             0,
             5,
             8
            ],
            "sizemode": "area",
            "sizeref": 202.89
           },
           "name": "",
           "showlegend": false,
           "type": "scattergeo"
          }
         ],
         "name": "2020-02-04 00:00:00"
        },
        {
         "data": [
          {
           "customdata": [
            [
             0
            ],
            [
             0
            ],
            [
             0
            ],
            [
             0
            ],
            [
             0
            ],
            [
             0
            ],
            [
             13
            ],
            [
             0
            ],
            [
             0
            ],
            [
             0
            ],
            [
             0
            ],
            [
             0
            ],
            [
             1
            ],
            [
             0
            ],
            [
             0
            ],
            [
             0
            ],
            [
             0
            ],
            [
             0
            ],
            [
             0
            ],
            [
             0
            ],
            [
             1
            ],
            [
             0
            ],
            [
             5
            ],
            [
             0
            ],
            [
             27440
            ],
            [
             0
            ],
            [
             0
            ],
            [
             0
            ],
            [
             0
            ],
            [
             0
            ],
            [
             0
            ],
            [
             0
            ],
            [
             0
            ],
            [
             0
            ],
            [
             0
            ],
            [
             0
            ],
            [
             0
            ],
            [
             0
            ],
            [
             1
            ],
            [
             6
            ],
            [
             0
            ],
            [
             12
            ],
            [
             0
            ],
            [
             0
            ],
            [
             0
            ],
            [
             0
            ],
            [
             0
            ],
            [
             3
            ],
            [
             0
            ],
            [
             0
            ],
            [
             0
            ],
            [
             0
            ],
            [
             0
            ],
            [
             2
            ],
            [
             0
            ],
            [
             22
            ],
            [
             0
            ],
            [
             0
            ],
            [
             0
            ],
            [
             0
            ],
            [
             0
            ],
            [
             0
            ],
            [
             0
            ],
            [
             12
            ],
            [
             0
            ],
            [
             0
            ],
            [
             0
            ],
            [
             0
            ],
            [
             0
            ],
            [
             0
            ],
            [
             0
            ],
            [
             0
            ],
            [
             1
            ],
            [
             0
            ],
            [
             0
            ],
            [
             0
            ],
            [
             0
            ],
            [
             0
            ],
            [
             0
            ],
            [
             0
            ],
            [
             0
            ],
            [
             0
            ],
            [
             0
            ],
            [
             2
            ],
            [
             0
            ],
            [
             0
            ],
            [
             0
            ],
            [
             0
            ],
            [
             2
            ],
            [
             0
            ],
            [
             0
            ],
            [
             0
            ],
            [
             0
            ],
            [
             28
            ],
            [
             0
            ],
            [
             0
            ],
            [
             0
            ],
            [
             1
            ],
            [
             1
            ],
            [
             1
            ],
            [
             0
            ],
            [
             25
            ],
            [
             0
            ],
            [
             0
            ],
            [
             0
            ],
            [
             11
            ],
            [
             0
            ],
            [
             5
            ],
            [
             8
            ]
           ],
           "geo": "geo",
           "hoverlabel": {
            "namelength": 0
           },
           "hovertemplate": "Date=2020-02-05 00:00:00<br>Confirmed=%{customdata[0]}<br>Country/Region=%{location}",
           "legendgroup": "",
           "locationmode": "country names",
           "locations": [
            "Afghanistan",
            "Albania",
            "Algeria",
            "Andorra",
            "Argentina",
            "Armenia",
            "Australia",
            "Austria",
            "Azerbaijan",
            "Bahrain",
            "Bangladesh",
            "Belarus",
            "Belgium",
            "Bhutan",
            "Bolivia",
            "Bosnia and Herzegovina",
            "Brazil",
            "Brunei",
            "Bulgaria",
            "Burkina Faso",
            "Cambodia",
            "Cameroon",
            "Canada",
            "Chile",
            "China",
            "Colombia",
            "Congo (Kinshasa)",
            "Costa Rica",
            "Cote d'Ivoire",
            "Croatia",
            "Cruise Ship",
            "Cuba",
            "Cyprus",
            "Denmark",
            "Dominican Republic",
            "Ecuador",
            "Egypt",
            "Estonia",
            "Finland",
            "France",
            "Georgia",
            "Germany",
            "Greece",
            "Guyana",
            "Honduras",
            "Hungary",
            "Iceland",
            "India",
            "Indonesia",
            "Iran",
            "Iraq",
            "Ireland",
            "Israel",
            "Italy",
            "Jamaica",
            "Japan",
            "Jordan",
            "Kuwait",
            "Latvia",
            "Lebanon",
            "Liechtenstein",
            "Lithuania",
            "Luxembourg",
            "Malaysia",
            "Maldives",
            "Malta",
            "Martinique",
            "Mexico",
            "Moldova",
            "Monaco",
            "Mongolia",
            "Morocco",
            "Nepal",
            "Netherlands",
            "New Zealand",
            "Nigeria",
            "North Macedonia",
            "Norway",
            "Oman",
            "Pakistan",
            "Panama",
            "Paraguay",
            "Peru",
            "Philippines",
            "Poland",
            "Portugal",
            "Qatar",
            "Romania",
            "Russia",
            "San Marino",
            "Saudi Arabia",
            "Senegal",
            "Serbia",
            "Singapore",
            "Slovakia",
            "Slovenia",
            "South Africa",
            "Spain",
            "Sri Lanka",
            "Sweden",
            "Switzerland",
            "Thailand",
            "Togo",
            "Tunisia",
            "Turkey",
            "US",
            "Ukraine",
            "United Arab Emirates",
            "Vietnam"
           ],
           "marker": {
            "color": "#636efa",
            "size": [
             0,
             0,
             0,
             0,
             0,
             0,
             13,
             0,
             0,
             0,
             0,
             0,
             1,
             0,
             0,
             0,
             0,
             0,
             0,
             0,
             1,
             0,
             5,
             0,
             27440,
             0,
             0,
             0,
             0,
             0,
             0,
             0,
             0,
             0,
             0,
             0,
             0,
             0,
             1,
             6,
             0,
             12,
             0,
             0,
             0,
             0,
             0,
             3,
             0,
             0,
             0,
             0,
             0,
             2,
             0,
             22,
             0,
             0,
             0,
             0,
             0,
             0,
             0,
             12,
             0,
             0,
             0,
             0,
             0,
             0,
             0,
             0,
             1,
             0,
             0,
             0,
             0,
             0,
             0,
             0,
             0,
             0,
             0,
             2,
             0,
             0,
             0,
             0,
             2,
             0,
             0,
             0,
             0,
             28,
             0,
             0,
             0,
             1,
             1,
             1,
             0,
             25,
             0,
             0,
             0,
             11,
             0,
             5,
             8
            ],
            "sizemode": "area",
            "sizeref": 202.89
           },
           "name": "",
           "showlegend": false,
           "type": "scattergeo"
          }
         ],
         "name": "2020-02-05 00:00:00"
        },
        {
         "data": [
          {
           "customdata": [
            [
             0
            ],
            [
             0
            ],
            [
             0
            ],
            [
             0
            ],
            [
             0
            ],
            [
             0
            ],
            [
             14
            ],
            [
             0
            ],
            [
             0
            ],
            [
             0
            ],
            [
             0
            ],
            [
             0
            ],
            [
             1
            ],
            [
             0
            ],
            [
             0
            ],
            [
             0
            ],
            [
             0
            ],
            [
             0
            ],
            [
             0
            ],
            [
             0
            ],
            [
             1
            ],
            [
             0
            ],
            [
             5
            ],
            [
             0
            ],
            [
             30587
            ],
            [
             0
            ],
            [
             0
            ],
            [
             0
            ],
            [
             0
            ],
            [
             0
            ],
            [
             0
            ],
            [
             0
            ],
            [
             0
            ],
            [
             0
            ],
            [
             0
            ],
            [
             0
            ],
            [
             0
            ],
            [
             0
            ],
            [
             1
            ],
            [
             6
            ],
            [
             0
            ],
            [
             12
            ],
            [
             0
            ],
            [
             0
            ],
            [
             0
            ],
            [
             0
            ],
            [
             0
            ],
            [
             3
            ],
            [
             0
            ],
            [
             0
            ],
            [
             0
            ],
            [
             0
            ],
            [
             0
            ],
            [
             2
            ],
            [
             0
            ],
            [
             45
            ],
            [
             0
            ],
            [
             0
            ],
            [
             0
            ],
            [
             0
            ],
            [
             0
            ],
            [
             0
            ],
            [
             0
            ],
            [
             12
            ],
            [
             0
            ],
            [
             0
            ],
            [
             0
            ],
            [
             0
            ],
            [
             0
            ],
            [
             0
            ],
            [
             0
            ],
            [
             0
            ],
            [
             1
            ],
            [
             0
            ],
            [
             0
            ],
            [
             0
            ],
            [
             0
            ],
            [
             0
            ],
            [
             0
            ],
            [
             0
            ],
            [
             0
            ],
            [
             0
            ],
            [
             0
            ],
            [
             2
            ],
            [
             0
            ],
            [
             0
            ],
            [
             0
            ],
            [
             0
            ],
            [
             2
            ],
            [
             0
            ],
            [
             0
            ],
            [
             0
            ],
            [
             0
            ],
            [
             28
            ],
            [
             0
            ],
            [
             0
            ],
            [
             0
            ],
            [
             1
            ],
            [
             1
            ],
            [
             1
            ],
            [
             0
            ],
            [
             25
            ],
            [
             0
            ],
            [
             0
            ],
            [
             0
            ],
            [
             11
            ],
            [
             0
            ],
            [
             5
            ],
            [
             10
            ]
           ],
           "geo": "geo",
           "hoverlabel": {
            "namelength": 0
           },
           "hovertemplate": "Date=2020-02-06 00:00:00<br>Confirmed=%{customdata[0]}<br>Country/Region=%{location}",
           "legendgroup": "",
           "locationmode": "country names",
           "locations": [
            "Afghanistan",
            "Albania",
            "Algeria",
            "Andorra",
            "Argentina",
            "Armenia",
            "Australia",
            "Austria",
            "Azerbaijan",
            "Bahrain",
            "Bangladesh",
            "Belarus",
            "Belgium",
            "Bhutan",
            "Bolivia",
            "Bosnia and Herzegovina",
            "Brazil",
            "Brunei",
            "Bulgaria",
            "Burkina Faso",
            "Cambodia",
            "Cameroon",
            "Canada",
            "Chile",
            "China",
            "Colombia",
            "Congo (Kinshasa)",
            "Costa Rica",
            "Cote d'Ivoire",
            "Croatia",
            "Cruise Ship",
            "Cuba",
            "Cyprus",
            "Denmark",
            "Dominican Republic",
            "Ecuador",
            "Egypt",
            "Estonia",
            "Finland",
            "France",
            "Georgia",
            "Germany",
            "Greece",
            "Guyana",
            "Honduras",
            "Hungary",
            "Iceland",
            "India",
            "Indonesia",
            "Iran",
            "Iraq",
            "Ireland",
            "Israel",
            "Italy",
            "Jamaica",
            "Japan",
            "Jordan",
            "Kuwait",
            "Latvia",
            "Lebanon",
            "Liechtenstein",
            "Lithuania",
            "Luxembourg",
            "Malaysia",
            "Maldives",
            "Malta",
            "Martinique",
            "Mexico",
            "Moldova",
            "Monaco",
            "Mongolia",
            "Morocco",
            "Nepal",
            "Netherlands",
            "New Zealand",
            "Nigeria",
            "North Macedonia",
            "Norway",
            "Oman",
            "Pakistan",
            "Panama",
            "Paraguay",
            "Peru",
            "Philippines",
            "Poland",
            "Portugal",
            "Qatar",
            "Romania",
            "Russia",
            "San Marino",
            "Saudi Arabia",
            "Senegal",
            "Serbia",
            "Singapore",
            "Slovakia",
            "Slovenia",
            "South Africa",
            "Spain",
            "Sri Lanka",
            "Sweden",
            "Switzerland",
            "Thailand",
            "Togo",
            "Tunisia",
            "Turkey",
            "US",
            "Ukraine",
            "United Arab Emirates",
            "Vietnam"
           ],
           "marker": {
            "color": "#636efa",
            "size": [
             0,
             0,
             0,
             0,
             0,
             0,
             14,
             0,
             0,
             0,
             0,
             0,
             1,
             0,
             0,
             0,
             0,
             0,
             0,
             0,
             1,
             0,
             5,
             0,
             30587,
             0,
             0,
             0,
             0,
             0,
             0,
             0,
             0,
             0,
             0,
             0,
             0,
             0,
             1,
             6,
             0,
             12,
             0,
             0,
             0,
             0,
             0,
             3,
             0,
             0,
             0,
             0,
             0,
             2,
             0,
             45,
             0,
             0,
             0,
             0,
             0,
             0,
             0,
             12,
             0,
             0,
             0,
             0,
             0,
             0,
             0,
             0,
             1,
             0,
             0,
             0,
             0,
             0,
             0,
             0,
             0,
             0,
             0,
             2,
             0,
             0,
             0,
             0,
             2,
             0,
             0,
             0,
             0,
             28,
             0,
             0,
             0,
             1,
             1,
             1,
             0,
             25,
             0,
             0,
             0,
             11,
             0,
             5,
             10
            ],
            "sizemode": "area",
            "sizeref": 202.89
           },
           "name": "",
           "showlegend": false,
           "type": "scattergeo"
          }
         ],
         "name": "2020-02-06 00:00:00"
        },
        {
         "data": [
          {
           "customdata": [
            [
             0
            ],
            [
             0
            ],
            [
             0
            ],
            [
             0
            ],
            [
             0
            ],
            [
             0
            ],
            [
             15
            ],
            [
             0
            ],
            [
             0
            ],
            [
             0
            ],
            [
             0
            ],
            [
             0
            ],
            [
             1
            ],
            [
             0
            ],
            [
             0
            ],
            [
             0
            ],
            [
             0
            ],
            [
             0
            ],
            [
             0
            ],
            [
             0
            ],
            [
             1
            ],
            [
             0
            ],
            [
             7
            ],
            [
             0
            ],
            [
             34110
            ],
            [
             0
            ],
            [
             0
            ],
            [
             0
            ],
            [
             0
            ],
            [
             0
            ],
            [
             61
            ],
            [
             0
            ],
            [
             0
            ],
            [
             0
            ],
            [
             0
            ],
            [
             0
            ],
            [
             0
            ],
            [
             0
            ],
            [
             1
            ],
            [
             6
            ],
            [
             0
            ],
            [
             13
            ],
            [
             0
            ],
            [
             0
            ],
            [
             0
            ],
            [
             0
            ],
            [
             0
            ],
            [
             3
            ],
            [
             0
            ],
            [
             0
            ],
            [
             0
            ],
            [
             0
            ],
            [
             0
            ],
            [
             3
            ],
            [
             0
            ],
            [
             25
            ],
            [
             0
            ],
            [
             0
            ],
            [
             0
            ],
            [
             0
            ],
            [
             0
            ],
            [
             0
            ],
            [
             0
            ],
            [
             12
            ],
            [
             0
            ],
            [
             0
            ],
            [
             0
            ],
            [
             0
            ],
            [
             0
            ],
            [
             0
            ],
            [
             0
            ],
            [
             0
            ],
            [
             1
            ],
            [
             0
            ],
            [
             0
            ],
            [
             0
            ],
            [
             0
            ],
            [
             0
            ],
            [
             0
            ],
            [
             0
            ],
            [
             0
            ],
            [
             0
            ],
            [
             0
            ],
            [
             3
            ],
            [
             0
            ],
            [
             0
            ],
            [
             0
            ],
            [
             0
            ],
            [
             2
            ],
            [
             0
            ],
            [
             0
            ],
            [
             0
            ],
            [
             0
            ],
            [
             30
            ],
            [
             0
            ],
            [
             0
            ],
            [
             0
            ],
            [
             1
            ],
            [
             1
            ],
            [
             1
            ],
            [
             0
            ],
            [
             25
            ],
            [
             0
            ],
            [
             0
            ],
            [
             0
            ],
            [
             11
            ],
            [
             0
            ],
            [
             5
            ],
            [
             10
            ]
           ],
           "geo": "geo",
           "hoverlabel": {
            "namelength": 0
           },
           "hovertemplate": "Date=2020-02-07 00:00:00<br>Confirmed=%{customdata[0]}<br>Country/Region=%{location}",
           "legendgroup": "",
           "locationmode": "country names",
           "locations": [
            "Afghanistan",
            "Albania",
            "Algeria",
            "Andorra",
            "Argentina",
            "Armenia",
            "Australia",
            "Austria",
            "Azerbaijan",
            "Bahrain",
            "Bangladesh",
            "Belarus",
            "Belgium",
            "Bhutan",
            "Bolivia",
            "Bosnia and Herzegovina",
            "Brazil",
            "Brunei",
            "Bulgaria",
            "Burkina Faso",
            "Cambodia",
            "Cameroon",
            "Canada",
            "Chile",
            "China",
            "Colombia",
            "Congo (Kinshasa)",
            "Costa Rica",
            "Cote d'Ivoire",
            "Croatia",
            "Cruise Ship",
            "Cuba",
            "Cyprus",
            "Denmark",
            "Dominican Republic",
            "Ecuador",
            "Egypt",
            "Estonia",
            "Finland",
            "France",
            "Georgia",
            "Germany",
            "Greece",
            "Guyana",
            "Honduras",
            "Hungary",
            "Iceland",
            "India",
            "Indonesia",
            "Iran",
            "Iraq",
            "Ireland",
            "Israel",
            "Italy",
            "Jamaica",
            "Japan",
            "Jordan",
            "Kuwait",
            "Latvia",
            "Lebanon",
            "Liechtenstein",
            "Lithuania",
            "Luxembourg",
            "Malaysia",
            "Maldives",
            "Malta",
            "Martinique",
            "Mexico",
            "Moldova",
            "Monaco",
            "Mongolia",
            "Morocco",
            "Nepal",
            "Netherlands",
            "New Zealand",
            "Nigeria",
            "North Macedonia",
            "Norway",
            "Oman",
            "Pakistan",
            "Panama",
            "Paraguay",
            "Peru",
            "Philippines",
            "Poland",
            "Portugal",
            "Qatar",
            "Romania",
            "Russia",
            "San Marino",
            "Saudi Arabia",
            "Senegal",
            "Serbia",
            "Singapore",
            "Slovakia",
            "Slovenia",
            "South Africa",
            "Spain",
            "Sri Lanka",
            "Sweden",
            "Switzerland",
            "Thailand",
            "Togo",
            "Tunisia",
            "Turkey",
            "US",
            "Ukraine",
            "United Arab Emirates",
            "Vietnam"
           ],
           "marker": {
            "color": "#636efa",
            "size": [
             0,
             0,
             0,
             0,
             0,
             0,
             15,
             0,
             0,
             0,
             0,
             0,
             1,
             0,
             0,
             0,
             0,
             0,
             0,
             0,
             1,
             0,
             7,
             0,
             34110,
             0,
             0,
             0,
             0,
             0,
             61,
             0,
             0,
             0,
             0,
             0,
             0,
             0,
             1,
             6,
             0,
             13,
             0,
             0,
             0,
             0,
             0,
             3,
             0,
             0,
             0,
             0,
             0,
             3,
             0,
             25,
             0,
             0,
             0,
             0,
             0,
             0,
             0,
             12,
             0,
             0,
             0,
             0,
             0,
             0,
             0,
             0,
             1,
             0,
             0,
             0,
             0,
             0,
             0,
             0,
             0,
             0,
             0,
             3,
             0,
             0,
             0,
             0,
             2,
             0,
             0,
             0,
             0,
             30,
             0,
             0,
             0,
             1,
             1,
             1,
             0,
             25,
             0,
             0,
             0,
             11,
             0,
             5,
             10
            ],
            "sizemode": "area",
            "sizeref": 202.89
           },
           "name": "",
           "showlegend": false,
           "type": "scattergeo"
          }
         ],
         "name": "2020-02-07 00:00:00"
        },
        {
         "data": [
          {
           "customdata": [
            [
             0
            ],
            [
             0
            ],
            [
             0
            ],
            [
             0
            ],
            [
             0
            ],
            [
             0
            ],
            [
             15
            ],
            [
             0
            ],
            [
             0
            ],
            [
             0
            ],
            [
             0
            ],
            [
             0
            ],
            [
             1
            ],
            [
             0
            ],
            [
             0
            ],
            [
             0
            ],
            [
             0
            ],
            [
             0
            ],
            [
             0
            ],
            [
             0
            ],
            [
             1
            ],
            [
             0
            ],
            [
             7
            ],
            [
             0
            ],
            [
             36814
            ],
            [
             0
            ],
            [
             0
            ],
            [
             0
            ],
            [
             0
            ],
            [
             0
            ],
            [
             61
            ],
            [
             0
            ],
            [
             0
            ],
            [
             0
            ],
            [
             0
            ],
            [
             0
            ],
            [
             0
            ],
            [
             0
            ],
            [
             1
            ],
            [
             11
            ],
            [
             0
            ],
            [
             13
            ],
            [
             0
            ],
            [
             0
            ],
            [
             0
            ],
            [
             0
            ],
            [
             0
            ],
            [
             3
            ],
            [
             0
            ],
            [
             0
            ],
            [
             0
            ],
            [
             0
            ],
            [
             0
            ],
            [
             3
            ],
            [
             0
            ],
            [
             25
            ],
            [
             0
            ],
            [
             0
            ],
            [
             0
            ],
            [
             0
            ],
            [
             0
            ],
            [
             0
            ],
            [
             0
            ],
            [
             16
            ],
            [
             0
            ],
            [
             0
            ],
            [
             0
            ],
            [
             0
            ],
            [
             0
            ],
            [
             0
            ],
            [
             0
            ],
            [
             0
            ],
            [
             1
            ],
            [
             0
            ],
            [
             0
            ],
            [
             0
            ],
            [
             0
            ],
            [
             0
            ],
            [
             0
            ],
            [
             0
            ],
            [
             0
            ],
            [
             0
            ],
            [
             0
            ],
            [
             3
            ],
            [
             0
            ],
            [
             0
            ],
            [
             0
            ],
            [
             0
            ],
            [
             2
            ],
            [
             0
            ],
            [
             0
            ],
            [
             0
            ],
            [
             0
            ],
            [
             33
            ],
            [
             0
            ],
            [
             0
            ],
            [
             0
            ],
            [
             1
            ],
            [
             1
            ],
            [
             1
            ],
            [
             0
            ],
            [
             32
            ],
            [
             0
            ],
            [
             0
            ],
            [
             0
            ],
            [
             11
            ],
            [
             0
            ],
            [
             7
            ],
            [
             13
            ]
           ],
           "geo": "geo",
           "hoverlabel": {
            "namelength": 0
           },
           "hovertemplate": "Date=2020-02-08 00:00:00<br>Confirmed=%{customdata[0]}<br>Country/Region=%{location}",
           "legendgroup": "",
           "locationmode": "country names",
           "locations": [
            "Afghanistan",
            "Albania",
            "Algeria",
            "Andorra",
            "Argentina",
            "Armenia",
            "Australia",
            "Austria",
            "Azerbaijan",
            "Bahrain",
            "Bangladesh",
            "Belarus",
            "Belgium",
            "Bhutan",
            "Bolivia",
            "Bosnia and Herzegovina",
            "Brazil",
            "Brunei",
            "Bulgaria",
            "Burkina Faso",
            "Cambodia",
            "Cameroon",
            "Canada",
            "Chile",
            "China",
            "Colombia",
            "Congo (Kinshasa)",
            "Costa Rica",
            "Cote d'Ivoire",
            "Croatia",
            "Cruise Ship",
            "Cuba",
            "Cyprus",
            "Denmark",
            "Dominican Republic",
            "Ecuador",
            "Egypt",
            "Estonia",
            "Finland",
            "France",
            "Georgia",
            "Germany",
            "Greece",
            "Guyana",
            "Honduras",
            "Hungary",
            "Iceland",
            "India",
            "Indonesia",
            "Iran",
            "Iraq",
            "Ireland",
            "Israel",
            "Italy",
            "Jamaica",
            "Japan",
            "Jordan",
            "Kuwait",
            "Latvia",
            "Lebanon",
            "Liechtenstein",
            "Lithuania",
            "Luxembourg",
            "Malaysia",
            "Maldives",
            "Malta",
            "Martinique",
            "Mexico",
            "Moldova",
            "Monaco",
            "Mongolia",
            "Morocco",
            "Nepal",
            "Netherlands",
            "New Zealand",
            "Nigeria",
            "North Macedonia",
            "Norway",
            "Oman",
            "Pakistan",
            "Panama",
            "Paraguay",
            "Peru",
            "Philippines",
            "Poland",
            "Portugal",
            "Qatar",
            "Romania",
            "Russia",
            "San Marino",
            "Saudi Arabia",
            "Senegal",
            "Serbia",
            "Singapore",
            "Slovakia",
            "Slovenia",
            "South Africa",
            "Spain",
            "Sri Lanka",
            "Sweden",
            "Switzerland",
            "Thailand",
            "Togo",
            "Tunisia",
            "Turkey",
            "US",
            "Ukraine",
            "United Arab Emirates",
            "Vietnam"
           ],
           "marker": {
            "color": "#636efa",
            "size": [
             0,
             0,
             0,
             0,
             0,
             0,
             15,
             0,
             0,
             0,
             0,
             0,
             1,
             0,
             0,
             0,
             0,
             0,
             0,
             0,
             1,
             0,
             7,
             0,
             36814,
             0,
             0,
             0,
             0,
             0,
             61,
             0,
             0,
             0,
             0,
             0,
             0,
             0,
             1,
             11,
             0,
             13,
             0,
             0,
             0,
             0,
             0,
             3,
             0,
             0,
             0,
             0,
             0,
             3,
             0,
             25,
             0,
             0,
             0,
             0,
             0,
             0,
             0,
             16,
             0,
             0,
             0,
             0,
             0,
             0,
             0,
             0,
             1,
             0,
             0,
             0,
             0,
             0,
             0,
             0,
             0,
             0,
             0,
             3,
             0,
             0,
             0,
             0,
             2,
             0,
             0,
             0,
             0,
             33,
             0,
             0,
             0,
             1,
             1,
             1,
             0,
             32,
             0,
             0,
             0,
             11,
             0,
             7,
             13
            ],
            "sizemode": "area",
            "sizeref": 202.89
           },
           "name": "",
           "showlegend": false,
           "type": "scattergeo"
          }
         ],
         "name": "2020-02-08 00:00:00"
        },
        {
         "data": [
          {
           "customdata": [
            [
             0
            ],
            [
             0
            ],
            [
             0
            ],
            [
             0
            ],
            [
             0
            ],
            [
             0
            ],
            [
             15
            ],
            [
             0
            ],
            [
             0
            ],
            [
             0
            ],
            [
             0
            ],
            [
             0
            ],
            [
             1
            ],
            [
             0
            ],
            [
             0
            ],
            [
             0
            ],
            [
             0
            ],
            [
             0
            ],
            [
             0
            ],
            [
             0
            ],
            [
             1
            ],
            [
             0
            ],
            [
             7
            ],
            [
             0
            ],
            [
             39829
            ],
            [
             0
            ],
            [
             0
            ],
            [
             0
            ],
            [
             0
            ],
            [
             0
            ],
            [
             64
            ],
            [
             0
            ],
            [
             0
            ],
            [
             0
            ],
            [
             0
            ],
            [
             0
            ],
            [
             0
            ],
            [
             0
            ],
            [
             1
            ],
            [
             11
            ],
            [
             0
            ],
            [
             14
            ],
            [
             0
            ],
            [
             0
            ],
            [
             0
            ],
            [
             0
            ],
            [
             0
            ],
            [
             3
            ],
            [
             0
            ],
            [
             0
            ],
            [
             0
            ],
            [
             0
            ],
            [
             0
            ],
            [
             3
            ],
            [
             0
            ],
            [
             26
            ],
            [
             0
            ],
            [
             0
            ],
            [
             0
            ],
            [
             0
            ],
            [
             0
            ],
            [
             0
            ],
            [
             0
            ],
            [
             16
            ],
            [
             0
            ],
            [
             0
            ],
            [
             0
            ],
            [
             0
            ],
            [
             0
            ],
            [
             0
            ],
            [
             0
            ],
            [
             0
            ],
            [
             1
            ],
            [
             0
            ],
            [
             0
            ],
            [
             0
            ],
            [
             0
            ],
            [
             0
            ],
            [
             0
            ],
            [
             0
            ],
            [
             0
            ],
            [
             0
            ],
            [
             0
            ],
            [
             3
            ],
            [
             0
            ],
            [
             0
            ],
            [
             0
            ],
            [
             0
            ],
            [
             2
            ],
            [
             0
            ],
            [
             0
            ],
            [
             0
            ],
            [
             0
            ],
            [
             40
            ],
            [
             0
            ],
            [
             0
            ],
            [
             0
            ],
            [
             2
            ],
            [
             1
            ],
            [
             1
            ],
            [
             0
            ],
            [
             32
            ],
            [
             0
            ],
            [
             0
            ],
            [
             0
            ],
            [
             11
            ],
            [
             0
            ],
            [
             7
            ],
            [
             13
            ]
           ],
           "geo": "geo",
           "hoverlabel": {
            "namelength": 0
           },
           "hovertemplate": "Date=2020-02-09 00:00:00<br>Confirmed=%{customdata[0]}<br>Country/Region=%{location}",
           "legendgroup": "",
           "locationmode": "country names",
           "locations": [
            "Afghanistan",
            "Albania",
            "Algeria",
            "Andorra",
            "Argentina",
            "Armenia",
            "Australia",
            "Austria",
            "Azerbaijan",
            "Bahrain",
            "Bangladesh",
            "Belarus",
            "Belgium",
            "Bhutan",
            "Bolivia",
            "Bosnia and Herzegovina",
            "Brazil",
            "Brunei",
            "Bulgaria",
            "Burkina Faso",
            "Cambodia",
            "Cameroon",
            "Canada",
            "Chile",
            "China",
            "Colombia",
            "Congo (Kinshasa)",
            "Costa Rica",
            "Cote d'Ivoire",
            "Croatia",
            "Cruise Ship",
            "Cuba",
            "Cyprus",
            "Denmark",
            "Dominican Republic",
            "Ecuador",
            "Egypt",
            "Estonia",
            "Finland",
            "France",
            "Georgia",
            "Germany",
            "Greece",
            "Guyana",
            "Honduras",
            "Hungary",
            "Iceland",
            "India",
            "Indonesia",
            "Iran",
            "Iraq",
            "Ireland",
            "Israel",
            "Italy",
            "Jamaica",
            "Japan",
            "Jordan",
            "Kuwait",
            "Latvia",
            "Lebanon",
            "Liechtenstein",
            "Lithuania",
            "Luxembourg",
            "Malaysia",
            "Maldives",
            "Malta",
            "Martinique",
            "Mexico",
            "Moldova",
            "Monaco",
            "Mongolia",
            "Morocco",
            "Nepal",
            "Netherlands",
            "New Zealand",
            "Nigeria",
            "North Macedonia",
            "Norway",
            "Oman",
            "Pakistan",
            "Panama",
            "Paraguay",
            "Peru",
            "Philippines",
            "Poland",
            "Portugal",
            "Qatar",
            "Romania",
            "Russia",
            "San Marino",
            "Saudi Arabia",
            "Senegal",
            "Serbia",
            "Singapore",
            "Slovakia",
            "Slovenia",
            "South Africa",
            "Spain",
            "Sri Lanka",
            "Sweden",
            "Switzerland",
            "Thailand",
            "Togo",
            "Tunisia",
            "Turkey",
            "US",
            "Ukraine",
            "United Arab Emirates",
            "Vietnam"
           ],
           "marker": {
            "color": "#636efa",
            "size": [
             0,
             0,
             0,
             0,
             0,
             0,
             15,
             0,
             0,
             0,
             0,
             0,
             1,
             0,
             0,
             0,
             0,
             0,
             0,
             0,
             1,
             0,
             7,
             0,
             39829,
             0,
             0,
             0,
             0,
             0,
             64,
             0,
             0,
             0,
             0,
             0,
             0,
             0,
             1,
             11,
             0,
             14,
             0,
             0,
             0,
             0,
             0,
             3,
             0,
             0,
             0,
             0,
             0,
             3,
             0,
             26,
             0,
             0,
             0,
             0,
             0,
             0,
             0,
             16,
             0,
             0,
             0,
             0,
             0,
             0,
             0,
             0,
             1,
             0,
             0,
             0,
             0,
             0,
             0,
             0,
             0,
             0,
             0,
             3,
             0,
             0,
             0,
             0,
             2,
             0,
             0,
             0,
             0,
             40,
             0,
             0,
             0,
             2,
             1,
             1,
             0,
             32,
             0,
             0,
             0,
             11,
             0,
             7,
             13
            ],
            "sizemode": "area",
            "sizeref": 202.89
           },
           "name": "",
           "showlegend": false,
           "type": "scattergeo"
          }
         ],
         "name": "2020-02-09 00:00:00"
        },
        {
         "data": [
          {
           "customdata": [
            [
             0
            ],
            [
             0
            ],
            [
             0
            ],
            [
             0
            ],
            [
             0
            ],
            [
             0
            ],
            [
             15
            ],
            [
             0
            ],
            [
             0
            ],
            [
             0
            ],
            [
             0
            ],
            [
             0
            ],
            [
             1
            ],
            [
             0
            ],
            [
             0
            ],
            [
             0
            ],
            [
             0
            ],
            [
             0
            ],
            [
             0
            ],
            [
             0
            ],
            [
             1
            ],
            [
             0
            ],
            [
             7
            ],
            [
             0
            ],
            [
             42354
            ],
            [
             0
            ],
            [
             0
            ],
            [
             0
            ],
            [
             0
            ],
            [
             0
            ],
            [
             135
            ],
            [
             0
            ],
            [
             0
            ],
            [
             0
            ],
            [
             0
            ],
            [
             0
            ],
            [
             0
            ],
            [
             0
            ],
            [
             1
            ],
            [
             11
            ],
            [
             0
            ],
            [
             14
            ],
            [
             0
            ],
            [
             0
            ],
            [
             0
            ],
            [
             0
            ],
            [
             0
            ],
            [
             3
            ],
            [
             0
            ],
            [
             0
            ],
            [
             0
            ],
            [
             0
            ],
            [
             0
            ],
            [
             3
            ],
            [
             0
            ],
            [
             26
            ],
            [
             0
            ],
            [
             0
            ],
            [
             0
            ],
            [
             0
            ],
            [
             0
            ],
            [
             0
            ],
            [
             0
            ],
            [
             18
            ],
            [
             0
            ],
            [
             0
            ],
            [
             0
            ],
            [
             0
            ],
            [
             0
            ],
            [
             0
            ],
            [
             0
            ],
            [
             0
            ],
            [
             1
            ],
            [
             0
            ],
            [
             0
            ],
            [
             0
            ],
            [
             0
            ],
            [
             0
            ],
            [
             0
            ],
            [
             0
            ],
            [
             0
            ],
            [
             0
            ],
            [
             0
            ],
            [
             3
            ],
            [
             0
            ],
            [
             0
            ],
            [
             0
            ],
            [
             0
            ],
            [
             2
            ],
            [
             0
            ],
            [
             0
            ],
            [
             0
            ],
            [
             0
            ],
            [
             45
            ],
            [
             0
            ],
            [
             0
            ],
            [
             0
            ],
            [
             2
            ],
            [
             1
            ],
            [
             1
            ],
            [
             0
            ],
            [
             32
            ],
            [
             0
            ],
            [
             0
            ],
            [
             0
            ],
            [
             11
            ],
            [
             0
            ],
            [
             8
            ],
            [
             14
            ]
           ],
           "geo": "geo",
           "hoverlabel": {
            "namelength": 0
           },
           "hovertemplate": "Date=2020-02-10 00:00:00<br>Confirmed=%{customdata[0]}<br>Country/Region=%{location}",
           "legendgroup": "",
           "locationmode": "country names",
           "locations": [
            "Afghanistan",
            "Albania",
            "Algeria",
            "Andorra",
            "Argentina",
            "Armenia",
            "Australia",
            "Austria",
            "Azerbaijan",
            "Bahrain",
            "Bangladesh",
            "Belarus",
            "Belgium",
            "Bhutan",
            "Bolivia",
            "Bosnia and Herzegovina",
            "Brazil",
            "Brunei",
            "Bulgaria",
            "Burkina Faso",
            "Cambodia",
            "Cameroon",
            "Canada",
            "Chile",
            "China",
            "Colombia",
            "Congo (Kinshasa)",
            "Costa Rica",
            "Cote d'Ivoire",
            "Croatia",
            "Cruise Ship",
            "Cuba",
            "Cyprus",
            "Denmark",
            "Dominican Republic",
            "Ecuador",
            "Egypt",
            "Estonia",
            "Finland",
            "France",
            "Georgia",
            "Germany",
            "Greece",
            "Guyana",
            "Honduras",
            "Hungary",
            "Iceland",
            "India",
            "Indonesia",
            "Iran",
            "Iraq",
            "Ireland",
            "Israel",
            "Italy",
            "Jamaica",
            "Japan",
            "Jordan",
            "Kuwait",
            "Latvia",
            "Lebanon",
            "Liechtenstein",
            "Lithuania",
            "Luxembourg",
            "Malaysia",
            "Maldives",
            "Malta",
            "Martinique",
            "Mexico",
            "Moldova",
            "Monaco",
            "Mongolia",
            "Morocco",
            "Nepal",
            "Netherlands",
            "New Zealand",
            "Nigeria",
            "North Macedonia",
            "Norway",
            "Oman",
            "Pakistan",
            "Panama",
            "Paraguay",
            "Peru",
            "Philippines",
            "Poland",
            "Portugal",
            "Qatar",
            "Romania",
            "Russia",
            "San Marino",
            "Saudi Arabia",
            "Senegal",
            "Serbia",
            "Singapore",
            "Slovakia",
            "Slovenia",
            "South Africa",
            "Spain",
            "Sri Lanka",
            "Sweden",
            "Switzerland",
            "Thailand",
            "Togo",
            "Tunisia",
            "Turkey",
            "US",
            "Ukraine",
            "United Arab Emirates",
            "Vietnam"
           ],
           "marker": {
            "color": "#636efa",
            "size": [
             0,
             0,
             0,
             0,
             0,
             0,
             15,
             0,
             0,
             0,
             0,
             0,
             1,
             0,
             0,
             0,
             0,
             0,
             0,
             0,
             1,
             0,
             7,
             0,
             42354,
             0,
             0,
             0,
             0,
             0,
             135,
             0,
             0,
             0,
             0,
             0,
             0,
             0,
             1,
             11,
             0,
             14,
             0,
             0,
             0,
             0,
             0,
             3,
             0,
             0,
             0,
             0,
             0,
             3,
             0,
             26,
             0,
             0,
             0,
             0,
             0,
             0,
             0,
             18,
             0,
             0,
             0,
             0,
             0,
             0,
             0,
             0,
             1,
             0,
             0,
             0,
             0,
             0,
             0,
             0,
             0,
             0,
             0,
             3,
             0,
             0,
             0,
             0,
             2,
             0,
             0,
             0,
             0,
             45,
             0,
             0,
             0,
             2,
             1,
             1,
             0,
             32,
             0,
             0,
             0,
             11,
             0,
             8,
             14
            ],
            "sizemode": "area",
            "sizeref": 202.89
           },
           "name": "",
           "showlegend": false,
           "type": "scattergeo"
          }
         ],
         "name": "2020-02-10 00:00:00"
        },
        {
         "data": [
          {
           "customdata": [
            [
             0
            ],
            [
             0
            ],
            [
             0
            ],
            [
             0
            ],
            [
             0
            ],
            [
             0
            ],
            [
             15
            ],
            [
             0
            ],
            [
             0
            ],
            [
             0
            ],
            [
             0
            ],
            [
             0
            ],
            [
             1
            ],
            [
             0
            ],
            [
             0
            ],
            [
             0
            ],
            [
             0
            ],
            [
             0
            ],
            [
             0
            ],
            [
             0
            ],
            [
             1
            ],
            [
             0
            ],
            [
             7
            ],
            [
             0
            ],
            [
             44386
            ],
            [
             0
            ],
            [
             0
            ],
            [
             0
            ],
            [
             0
            ],
            [
             0
            ],
            [
             135
            ],
            [
             0
            ],
            [
             0
            ],
            [
             0
            ],
            [
             0
            ],
            [
             0
            ],
            [
             0
            ],
            [
             0
            ],
            [
             1
            ],
            [
             11
            ],
            [
             0
            ],
            [
             16
            ],
            [
             0
            ],
            [
             0
            ],
            [
             0
            ],
            [
             0
            ],
            [
             0
            ],
            [
             3
            ],
            [
             0
            ],
            [
             0
            ],
            [
             0
            ],
            [
             0
            ],
            [
             0
            ],
            [
             3
            ],
            [
             0
            ],
            [
             26
            ],
            [
             0
            ],
            [
             0
            ],
            [
             0
            ],
            [
             0
            ],
            [
             0
            ],
            [
             0
            ],
            [
             0
            ],
            [
             18
            ],
            [
             0
            ],
            [
             0
            ],
            [
             0
            ],
            [
             0
            ],
            [
             0
            ],
            [
             0
            ],
            [
             0
            ],
            [
             0
            ],
            [
             1
            ],
            [
             0
            ],
            [
             0
            ],
            [
             0
            ],
            [
             0
            ],
            [
             0
            ],
            [
             0
            ],
            [
             0
            ],
            [
             0
            ],
            [
             0
            ],
            [
             0
            ],
            [
             3
            ],
            [
             0
            ],
            [
             0
            ],
            [
             0
            ],
            [
             0
            ],
            [
             2
            ],
            [
             0
            ],
            [
             0
            ],
            [
             0
            ],
            [
             0
            ],
            [
             47
            ],
            [
             0
            ],
            [
             0
            ],
            [
             0
            ],
            [
             2
            ],
            [
             1
            ],
            [
             1
            ],
            [
             0
            ],
            [
             33
            ],
            [
             0
            ],
            [
             0
            ],
            [
             0
            ],
            [
             12
            ],
            [
             0
            ],
            [
             8
            ],
            [
             15
            ]
           ],
           "geo": "geo",
           "hoverlabel": {
            "namelength": 0
           },
           "hovertemplate": "Date=2020-02-11 00:00:00<br>Confirmed=%{customdata[0]}<br>Country/Region=%{location}",
           "legendgroup": "",
           "locationmode": "country names",
           "locations": [
            "Afghanistan",
            "Albania",
            "Algeria",
            "Andorra",
            "Argentina",
            "Armenia",
            "Australia",
            "Austria",
            "Azerbaijan",
            "Bahrain",
            "Bangladesh",
            "Belarus",
            "Belgium",
            "Bhutan",
            "Bolivia",
            "Bosnia and Herzegovina",
            "Brazil",
            "Brunei",
            "Bulgaria",
            "Burkina Faso",
            "Cambodia",
            "Cameroon",
            "Canada",
            "Chile",
            "China",
            "Colombia",
            "Congo (Kinshasa)",
            "Costa Rica",
            "Cote d'Ivoire",
            "Croatia",
            "Cruise Ship",
            "Cuba",
            "Cyprus",
            "Denmark",
            "Dominican Republic",
            "Ecuador",
            "Egypt",
            "Estonia",
            "Finland",
            "France",
            "Georgia",
            "Germany",
            "Greece",
            "Guyana",
            "Honduras",
            "Hungary",
            "Iceland",
            "India",
            "Indonesia",
            "Iran",
            "Iraq",
            "Ireland",
            "Israel",
            "Italy",
            "Jamaica",
            "Japan",
            "Jordan",
            "Kuwait",
            "Latvia",
            "Lebanon",
            "Liechtenstein",
            "Lithuania",
            "Luxembourg",
            "Malaysia",
            "Maldives",
            "Malta",
            "Martinique",
            "Mexico",
            "Moldova",
            "Monaco",
            "Mongolia",
            "Morocco",
            "Nepal",
            "Netherlands",
            "New Zealand",
            "Nigeria",
            "North Macedonia",
            "Norway",
            "Oman",
            "Pakistan",
            "Panama",
            "Paraguay",
            "Peru",
            "Philippines",
            "Poland",
            "Portugal",
            "Qatar",
            "Romania",
            "Russia",
            "San Marino",
            "Saudi Arabia",
            "Senegal",
            "Serbia",
            "Singapore",
            "Slovakia",
            "Slovenia",
            "South Africa",
            "Spain",
            "Sri Lanka",
            "Sweden",
            "Switzerland",
            "Thailand",
            "Togo",
            "Tunisia",
            "Turkey",
            "US",
            "Ukraine",
            "United Arab Emirates",
            "Vietnam"
           ],
           "marker": {
            "color": "#636efa",
            "size": [
             0,
             0,
             0,
             0,
             0,
             0,
             15,
             0,
             0,
             0,
             0,
             0,
             1,
             0,
             0,
             0,
             0,
             0,
             0,
             0,
             1,
             0,
             7,
             0,
             44386,
             0,
             0,
             0,
             0,
             0,
             135,
             0,
             0,
             0,
             0,
             0,
             0,
             0,
             1,
             11,
             0,
             16,
             0,
             0,
             0,
             0,
             0,
             3,
             0,
             0,
             0,
             0,
             0,
             3,
             0,
             26,
             0,
             0,
             0,
             0,
             0,
             0,
             0,
             18,
             0,
             0,
             0,
             0,
             0,
             0,
             0,
             0,
             1,
             0,
             0,
             0,
             0,
             0,
             0,
             0,
             0,
             0,
             0,
             3,
             0,
             0,
             0,
             0,
             2,
             0,
             0,
             0,
             0,
             47,
             0,
             0,
             0,
             2,
             1,
             1,
             0,
             33,
             0,
             0,
             0,
             12,
             0,
             8,
             15
            ],
            "sizemode": "area",
            "sizeref": 202.89
           },
           "name": "",
           "showlegend": false,
           "type": "scattergeo"
          }
         ],
         "name": "2020-02-11 00:00:00"
        },
        {
         "data": [
          {
           "customdata": [
            [
             0
            ],
            [
             0
            ],
            [
             0
            ],
            [
             0
            ],
            [
             0
            ],
            [
             0
            ],
            [
             15
            ],
            [
             0
            ],
            [
             0
            ],
            [
             0
            ],
            [
             0
            ],
            [
             0
            ],
            [
             1
            ],
            [
             0
            ],
            [
             0
            ],
            [
             0
            ],
            [
             0
            ],
            [
             0
            ],
            [
             0
            ],
            [
             0
            ],
            [
             1
            ],
            [
             0
            ],
            [
             7
            ],
            [
             0
            ],
            [
             44759
            ],
            [
             0
            ],
            [
             0
            ],
            [
             0
            ],
            [
             0
            ],
            [
             0
            ],
            [
             175
            ],
            [
             0
            ],
            [
             0
            ],
            [
             0
            ],
            [
             0
            ],
            [
             0
            ],
            [
             0
            ],
            [
             0
            ],
            [
             1
            ],
            [
             11
            ],
            [
             0
            ],
            [
             16
            ],
            [
             0
            ],
            [
             0
            ],
            [
             0
            ],
            [
             0
            ],
            [
             0
            ],
            [
             3
            ],
            [
             0
            ],
            [
             0
            ],
            [
             0
            ],
            [
             0
            ],
            [
             0
            ],
            [
             3
            ],
            [
             0
            ],
            [
             28
            ],
            [
             0
            ],
            [
             0
            ],
            [
             0
            ],
            [
             0
            ],
            [
             0
            ],
            [
             0
            ],
            [
             0
            ],
            [
             18
            ],
            [
             0
            ],
            [
             0
            ],
            [
             0
            ],
            [
             0
            ],
            [
             0
            ],
            [
             0
            ],
            [
             0
            ],
            [
             0
            ],
            [
             1
            ],
            [
             0
            ],
            [
             0
            ],
            [
             0
            ],
            [
             0
            ],
            [
             0
            ],
            [
             0
            ],
            [
             0
            ],
            [
             0
            ],
            [
             0
            ],
            [
             0
            ],
            [
             3
            ],
            [
             0
            ],
            [
             0
            ],
            [
             0
            ],
            [
             0
            ],
            [
             2
            ],
            [
             0
            ],
            [
             0
            ],
            [
             0
            ],
            [
             0
            ],
            [
             50
            ],
            [
             0
            ],
            [
             0
            ],
            [
             0
            ],
            [
             2
            ],
            [
             1
            ],
            [
             1
            ],
            [
             0
            ],
            [
             33
            ],
            [
             0
            ],
            [
             0
            ],
            [
             0
            ],
            [
             12
            ],
            [
             0
            ],
            [
             8
            ],
            [
             15
            ]
           ],
           "geo": "geo",
           "hoverlabel": {
            "namelength": 0
           },
           "hovertemplate": "Date=2020-02-12 00:00:00<br>Confirmed=%{customdata[0]}<br>Country/Region=%{location}",
           "legendgroup": "",
           "locationmode": "country names",
           "locations": [
            "Afghanistan",
            "Albania",
            "Algeria",
            "Andorra",
            "Argentina",
            "Armenia",
            "Australia",
            "Austria",
            "Azerbaijan",
            "Bahrain",
            "Bangladesh",
            "Belarus",
            "Belgium",
            "Bhutan",
            "Bolivia",
            "Bosnia and Herzegovina",
            "Brazil",
            "Brunei",
            "Bulgaria",
            "Burkina Faso",
            "Cambodia",
            "Cameroon",
            "Canada",
            "Chile",
            "China",
            "Colombia",
            "Congo (Kinshasa)",
            "Costa Rica",
            "Cote d'Ivoire",
            "Croatia",
            "Cruise Ship",
            "Cuba",
            "Cyprus",
            "Denmark",
            "Dominican Republic",
            "Ecuador",
            "Egypt",
            "Estonia",
            "Finland",
            "France",
            "Georgia",
            "Germany",
            "Greece",
            "Guyana",
            "Honduras",
            "Hungary",
            "Iceland",
            "India",
            "Indonesia",
            "Iran",
            "Iraq",
            "Ireland",
            "Israel",
            "Italy",
            "Jamaica",
            "Japan",
            "Jordan",
            "Kuwait",
            "Latvia",
            "Lebanon",
            "Liechtenstein",
            "Lithuania",
            "Luxembourg",
            "Malaysia",
            "Maldives",
            "Malta",
            "Martinique",
            "Mexico",
            "Moldova",
            "Monaco",
            "Mongolia",
            "Morocco",
            "Nepal",
            "Netherlands",
            "New Zealand",
            "Nigeria",
            "North Macedonia",
            "Norway",
            "Oman",
            "Pakistan",
            "Panama",
            "Paraguay",
            "Peru",
            "Philippines",
            "Poland",
            "Portugal",
            "Qatar",
            "Romania",
            "Russia",
            "San Marino",
            "Saudi Arabia",
            "Senegal",
            "Serbia",
            "Singapore",
            "Slovakia",
            "Slovenia",
            "South Africa",
            "Spain",
            "Sri Lanka",
            "Sweden",
            "Switzerland",
            "Thailand",
            "Togo",
            "Tunisia",
            "Turkey",
            "US",
            "Ukraine",
            "United Arab Emirates",
            "Vietnam"
           ],
           "marker": {
            "color": "#636efa",
            "size": [
             0,
             0,
             0,
             0,
             0,
             0,
             15,
             0,
             0,
             0,
             0,
             0,
             1,
             0,
             0,
             0,
             0,
             0,
             0,
             0,
             1,
             0,
             7,
             0,
             44759,
             0,
             0,
             0,
             0,
             0,
             175,
             0,
             0,
             0,
             0,
             0,
             0,
             0,
             1,
             11,
             0,
             16,
             0,
             0,
             0,
             0,
             0,
             3,
             0,
             0,
             0,
             0,
             0,
             3,
             0,
             28,
             0,
             0,
             0,
             0,
             0,
             0,
             0,
             18,
             0,
             0,
             0,
             0,
             0,
             0,
             0,
             0,
             1,
             0,
             0,
             0,
             0,
             0,
             0,
             0,
             0,
             0,
             0,
             3,
             0,
             0,
             0,
             0,
             2,
             0,
             0,
             0,
             0,
             50,
             0,
             0,
             0,
             2,
             1,
             1,
             0,
             33,
             0,
             0,
             0,
             12,
             0,
             8,
             15
            ],
            "sizemode": "area",
            "sizeref": 202.89
           },
           "name": "",
           "showlegend": false,
           "type": "scattergeo"
          }
         ],
         "name": "2020-02-12 00:00:00"
        },
        {
         "data": [
          {
           "customdata": [
            [
             0
            ],
            [
             0
            ],
            [
             0
            ],
            [
             0
            ],
            [
             0
            ],
            [
             0
            ],
            [
             15
            ],
            [
             0
            ],
            [
             0
            ],
            [
             0
            ],
            [
             0
            ],
            [
             0
            ],
            [
             1
            ],
            [
             0
            ],
            [
             0
            ],
            [
             0
            ],
            [
             0
            ],
            [
             0
            ],
            [
             0
            ],
            [
             0
            ],
            [
             1
            ],
            [
             0
            ],
            [
             7
            ],
            [
             0
            ],
            [
             59895
            ],
            [
             0
            ],
            [
             0
            ],
            [
             0
            ],
            [
             0
            ],
            [
             0
            ],
            [
             175
            ],
            [
             0
            ],
            [
             0
            ],
            [
             0
            ],
            [
             0
            ],
            [
             0
            ],
            [
             0
            ],
            [
             0
            ],
            [
             1
            ],
            [
             11
            ],
            [
             0
            ],
            [
             16
            ],
            [
             0
            ],
            [
             0
            ],
            [
             0
            ],
            [
             0
            ],
            [
             0
            ],
            [
             3
            ],
            [
             0
            ],
            [
             0
            ],
            [
             0
            ],
            [
             0
            ],
            [
             0
            ],
            [
             3
            ],
            [
             0
            ],
            [
             28
            ],
            [
             0
            ],
            [
             0
            ],
            [
             0
            ],
            [
             0
            ],
            [
             0
            ],
            [
             0
            ],
            [
             0
            ],
            [
             19
            ],
            [
             0
            ],
            [
             0
            ],
            [
             0
            ],
            [
             0
            ],
            [
             0
            ],
            [
             0
            ],
            [
             0
            ],
            [
             0
            ],
            [
             1
            ],
            [
             0
            ],
            [
             0
            ],
            [
             0
            ],
            [
             0
            ],
            [
             0
            ],
            [
             0
            ],
            [
             0
            ],
            [
             0
            ],
            [
             0
            ],
            [
             0
            ],
            [
             3
            ],
            [
             0
            ],
            [
             0
            ],
            [
             0
            ],
            [
             0
            ],
            [
             2
            ],
            [
             0
            ],
            [
             0
            ],
            [
             0
            ],
            [
             0
            ],
            [
             58
            ],
            [
             0
            ],
            [
             0
            ],
            [
             0
            ],
            [
             2
            ],
            [
             1
            ],
            [
             1
            ],
            [
             0
            ],
            [
             33
            ],
            [
             0
            ],
            [
             0
            ],
            [
             0
            ],
            [
             13
            ],
            [
             0
            ],
            [
             8
            ],
            [
             16
            ]
           ],
           "geo": "geo",
           "hoverlabel": {
            "namelength": 0
           },
           "hovertemplate": "Date=2020-02-13 00:00:00<br>Confirmed=%{customdata[0]}<br>Country/Region=%{location}",
           "legendgroup": "",
           "locationmode": "country names",
           "locations": [
            "Afghanistan",
            "Albania",
            "Algeria",
            "Andorra",
            "Argentina",
            "Armenia",
            "Australia",
            "Austria",
            "Azerbaijan",
            "Bahrain",
            "Bangladesh",
            "Belarus",
            "Belgium",
            "Bhutan",
            "Bolivia",
            "Bosnia and Herzegovina",
            "Brazil",
            "Brunei",
            "Bulgaria",
            "Burkina Faso",
            "Cambodia",
            "Cameroon",
            "Canada",
            "Chile",
            "China",
            "Colombia",
            "Congo (Kinshasa)",
            "Costa Rica",
            "Cote d'Ivoire",
            "Croatia",
            "Cruise Ship",
            "Cuba",
            "Cyprus",
            "Denmark",
            "Dominican Republic",
            "Ecuador",
            "Egypt",
            "Estonia",
            "Finland",
            "France",
            "Georgia",
            "Germany",
            "Greece",
            "Guyana",
            "Honduras",
            "Hungary",
            "Iceland",
            "India",
            "Indonesia",
            "Iran",
            "Iraq",
            "Ireland",
            "Israel",
            "Italy",
            "Jamaica",
            "Japan",
            "Jordan",
            "Kuwait",
            "Latvia",
            "Lebanon",
            "Liechtenstein",
            "Lithuania",
            "Luxembourg",
            "Malaysia",
            "Maldives",
            "Malta",
            "Martinique",
            "Mexico",
            "Moldova",
            "Monaco",
            "Mongolia",
            "Morocco",
            "Nepal",
            "Netherlands",
            "New Zealand",
            "Nigeria",
            "North Macedonia",
            "Norway",
            "Oman",
            "Pakistan",
            "Panama",
            "Paraguay",
            "Peru",
            "Philippines",
            "Poland",
            "Portugal",
            "Qatar",
            "Romania",
            "Russia",
            "San Marino",
            "Saudi Arabia",
            "Senegal",
            "Serbia",
            "Singapore",
            "Slovakia",
            "Slovenia",
            "South Africa",
            "Spain",
            "Sri Lanka",
            "Sweden",
            "Switzerland",
            "Thailand",
            "Togo",
            "Tunisia",
            "Turkey",
            "US",
            "Ukraine",
            "United Arab Emirates",
            "Vietnam"
           ],
           "marker": {
            "color": "#636efa",
            "size": [
             0,
             0,
             0,
             0,
             0,
             0,
             15,
             0,
             0,
             0,
             0,
             0,
             1,
             0,
             0,
             0,
             0,
             0,
             0,
             0,
             1,
             0,
             7,
             0,
             59895,
             0,
             0,
             0,
             0,
             0,
             175,
             0,
             0,
             0,
             0,
             0,
             0,
             0,
             1,
             11,
             0,
             16,
             0,
             0,
             0,
             0,
             0,
             3,
             0,
             0,
             0,
             0,
             0,
             3,
             0,
             28,
             0,
             0,
             0,
             0,
             0,
             0,
             0,
             19,
             0,
             0,
             0,
             0,
             0,
             0,
             0,
             0,
             1,
             0,
             0,
             0,
             0,
             0,
             0,
             0,
             0,
             0,
             0,
             3,
             0,
             0,
             0,
             0,
             2,
             0,
             0,
             0,
             0,
             58,
             0,
             0,
             0,
             2,
             1,
             1,
             0,
             33,
             0,
             0,
             0,
             13,
             0,
             8,
             16
            ],
            "sizemode": "area",
            "sizeref": 202.89
           },
           "name": "",
           "showlegend": false,
           "type": "scattergeo"
          }
         ],
         "name": "2020-02-13 00:00:00"
        },
        {
         "data": [
          {
           "customdata": [
            [
             0
            ],
            [
             0
            ],
            [
             0
            ],
            [
             0
            ],
            [
             0
            ],
            [
             0
            ],
            [
             15
            ],
            [
             0
            ],
            [
             0
            ],
            [
             0
            ],
            [
             0
            ],
            [
             0
            ],
            [
             1
            ],
            [
             0
            ],
            [
             0
            ],
            [
             0
            ],
            [
             0
            ],
            [
             0
            ],
            [
             0
            ],
            [
             0
            ],
            [
             1
            ],
            [
             0
            ],
            [
             7
            ],
            [
             0
            ],
            [
             66358
            ],
            [
             0
            ],
            [
             0
            ],
            [
             0
            ],
            [
             0
            ],
            [
             0
            ],
            [
             218
            ],
            [
             0
            ],
            [
             0
            ],
            [
             0
            ],
            [
             0
            ],
            [
             0
            ],
            [
             1
            ],
            [
             0
            ],
            [
             1
            ],
            [
             11
            ],
            [
             0
            ],
            [
             16
            ],
            [
             0
            ],
            [
             0
            ],
            [
             0
            ],
            [
             0
            ],
            [
             0
            ],
            [
             3
            ],
            [
             0
            ],
            [
             0
            ],
            [
             0
            ],
            [
             0
            ],
            [
             0
            ],
            [
             3
            ],
            [
             0
            ],
            [
             29
            ],
            [
             0
            ],
            [
             0
            ],
            [
             0
            ],
            [
             0
            ],
            [
             0
            ],
            [
             0
            ],
            [
             0
            ],
            [
             19
            ],
            [
             0
            ],
            [
             0
            ],
            [
             0
            ],
            [
             0
            ],
            [
             0
            ],
            [
             0
            ],
            [
             0
            ],
            [
             0
            ],
            [
             1
            ],
            [
             0
            ],
            [
             0
            ],
            [
             0
            ],
            [
             0
            ],
            [
             0
            ],
            [
             0
            ],
            [
             0
            ],
            [
             0
            ],
            [
             0
            ],
            [
             0
            ],
            [
             3
            ],
            [
             0
            ],
            [
             0
            ],
            [
             0
            ],
            [
             0
            ],
            [
             2
            ],
            [
             0
            ],
            [
             0
            ],
            [
             0
            ],
            [
             0
            ],
            [
             67
            ],
            [
             0
            ],
            [
             0
            ],
            [
             0
            ],
            [
             2
            ],
            [
             1
            ],
            [
             1
            ],
            [
             0
            ],
            [
             33
            ],
            [
             0
            ],
            [
             0
            ],
            [
             0
            ],
            [
             13
            ],
            [
             0
            ],
            [
             8
            ],
            [
             16
            ]
           ],
           "geo": "geo",
           "hoverlabel": {
            "namelength": 0
           },
           "hovertemplate": "Date=2020-02-14 00:00:00<br>Confirmed=%{customdata[0]}<br>Country/Region=%{location}",
           "legendgroup": "",
           "locationmode": "country names",
           "locations": [
            "Afghanistan",
            "Albania",
            "Algeria",
            "Andorra",
            "Argentina",
            "Armenia",
            "Australia",
            "Austria",
            "Azerbaijan",
            "Bahrain",
            "Bangladesh",
            "Belarus",
            "Belgium",
            "Bhutan",
            "Bolivia",
            "Bosnia and Herzegovina",
            "Brazil",
            "Brunei",
            "Bulgaria",
            "Burkina Faso",
            "Cambodia",
            "Cameroon",
            "Canada",
            "Chile",
            "China",
            "Colombia",
            "Congo (Kinshasa)",
            "Costa Rica",
            "Cote d'Ivoire",
            "Croatia",
            "Cruise Ship",
            "Cuba",
            "Cyprus",
            "Denmark",
            "Dominican Republic",
            "Ecuador",
            "Egypt",
            "Estonia",
            "Finland",
            "France",
            "Georgia",
            "Germany",
            "Greece",
            "Guyana",
            "Honduras",
            "Hungary",
            "Iceland",
            "India",
            "Indonesia",
            "Iran",
            "Iraq",
            "Ireland",
            "Israel",
            "Italy",
            "Jamaica",
            "Japan",
            "Jordan",
            "Kuwait",
            "Latvia",
            "Lebanon",
            "Liechtenstein",
            "Lithuania",
            "Luxembourg",
            "Malaysia",
            "Maldives",
            "Malta",
            "Martinique",
            "Mexico",
            "Moldova",
            "Monaco",
            "Mongolia",
            "Morocco",
            "Nepal",
            "Netherlands",
            "New Zealand",
            "Nigeria",
            "North Macedonia",
            "Norway",
            "Oman",
            "Pakistan",
            "Panama",
            "Paraguay",
            "Peru",
            "Philippines",
            "Poland",
            "Portugal",
            "Qatar",
            "Romania",
            "Russia",
            "San Marino",
            "Saudi Arabia",
            "Senegal",
            "Serbia",
            "Singapore",
            "Slovakia",
            "Slovenia",
            "South Africa",
            "Spain",
            "Sri Lanka",
            "Sweden",
            "Switzerland",
            "Thailand",
            "Togo",
            "Tunisia",
            "Turkey",
            "US",
            "Ukraine",
            "United Arab Emirates",
            "Vietnam"
           ],
           "marker": {
            "color": "#636efa",
            "size": [
             0,
             0,
             0,
             0,
             0,
             0,
             15,
             0,
             0,
             0,
             0,
             0,
             1,
             0,
             0,
             0,
             0,
             0,
             0,
             0,
             1,
             0,
             7,
             0,
             66358,
             0,
             0,
             0,
             0,
             0,
             218,
             0,
             0,
             0,
             0,
             0,
             1,
             0,
             1,
             11,
             0,
             16,
             0,
             0,
             0,
             0,
             0,
             3,
             0,
             0,
             0,
             0,
             0,
             3,
             0,
             29,
             0,
             0,
             0,
             0,
             0,
             0,
             0,
             19,
             0,
             0,
             0,
             0,
             0,
             0,
             0,
             0,
             1,
             0,
             0,
             0,
             0,
             0,
             0,
             0,
             0,
             0,
             0,
             3,
             0,
             0,
             0,
             0,
             2,
             0,
             0,
             0,
             0,
             67,
             0,
             0,
             0,
             2,
             1,
             1,
             0,
             33,
             0,
             0,
             0,
             13,
             0,
             8,
             16
            ],
            "sizemode": "area",
            "sizeref": 202.89
           },
           "name": "",
           "showlegend": false,
           "type": "scattergeo"
          }
         ],
         "name": "2020-02-14 00:00:00"
        },
        {
         "data": [
          {
           "customdata": [
            [
             0
            ],
            [
             0
            ],
            [
             0
            ],
            [
             0
            ],
            [
             0
            ],
            [
             0
            ],
            [
             15
            ],
            [
             0
            ],
            [
             0
            ],
            [
             0
            ],
            [
             0
            ],
            [
             0
            ],
            [
             1
            ],
            [
             0
            ],
            [
             0
            ],
            [
             0
            ],
            [
             0
            ],
            [
             0
            ],
            [
             0
            ],
            [
             0
            ],
            [
             1
            ],
            [
             0
            ],
            [
             7
            ],
            [
             0
            ],
            [
             68413
            ],
            [
             0
            ],
            [
             0
            ],
            [
             0
            ],
            [
             0
            ],
            [
             0
            ],
            [
             285
            ],
            [
             0
            ],
            [
             0
            ],
            [
             0
            ],
            [
             0
            ],
            [
             0
            ],
            [
             1
            ],
            [
             0
            ],
            [
             1
            ],
            [
             12
            ],
            [
             0
            ],
            [
             16
            ],
            [
             0
            ],
            [
             0
            ],
            [
             0
            ],
            [
             0
            ],
            [
             0
            ],
            [
             3
            ],
            [
             0
            ],
            [
             0
            ],
            [
             0
            ],
            [
             0
            ],
            [
             0
            ],
            [
             3
            ],
            [
             0
            ],
            [
             43
            ],
            [
             0
            ],
            [
             0
            ],
            [
             0
            ],
            [
             0
            ],
            [
             0
            ],
            [
             0
            ],
            [
             0
            ],
            [
             22
            ],
            [
             0
            ],
            [
             0
            ],
            [
             0
            ],
            [
             0
            ],
            [
             0
            ],
            [
             0
            ],
            [
             0
            ],
            [
             0
            ],
            [
             1
            ],
            [
             0
            ],
            [
             0
            ],
            [
             0
            ],
            [
             0
            ],
            [
             0
            ],
            [
             0
            ],
            [
             0
            ],
            [
             0
            ],
            [
             0
            ],
            [
             0
            ],
            [
             3
            ],
            [
             0
            ],
            [
             0
            ],
            [
             0
            ],
            [
             0
            ],
            [
             2
            ],
            [
             0
            ],
            [
             0
            ],
            [
             0
            ],
            [
             0
            ],
            [
             72
            ],
            [
             0
            ],
            [
             0
            ],
            [
             0
            ],
            [
             2
            ],
            [
             1
            ],
            [
             1
            ],
            [
             0
            ],
            [
             33
            ],
            [
             0
            ],
            [
             0
            ],
            [
             0
            ],
            [
             13
            ],
            [
             0
            ],
            [
             8
            ],
            [
             16
            ]
           ],
           "geo": "geo",
           "hoverlabel": {
            "namelength": 0
           },
           "hovertemplate": "Date=2020-02-15 00:00:00<br>Confirmed=%{customdata[0]}<br>Country/Region=%{location}",
           "legendgroup": "",
           "locationmode": "country names",
           "locations": [
            "Afghanistan",
            "Albania",
            "Algeria",
            "Andorra",
            "Argentina",
            "Armenia",
            "Australia",
            "Austria",
            "Azerbaijan",
            "Bahrain",
            "Bangladesh",
            "Belarus",
            "Belgium",
            "Bhutan",
            "Bolivia",
            "Bosnia and Herzegovina",
            "Brazil",
            "Brunei",
            "Bulgaria",
            "Burkina Faso",
            "Cambodia",
            "Cameroon",
            "Canada",
            "Chile",
            "China",
            "Colombia",
            "Congo (Kinshasa)",
            "Costa Rica",
            "Cote d'Ivoire",
            "Croatia",
            "Cruise Ship",
            "Cuba",
            "Cyprus",
            "Denmark",
            "Dominican Republic",
            "Ecuador",
            "Egypt",
            "Estonia",
            "Finland",
            "France",
            "Georgia",
            "Germany",
            "Greece",
            "Guyana",
            "Honduras",
            "Hungary",
            "Iceland",
            "India",
            "Indonesia",
            "Iran",
            "Iraq",
            "Ireland",
            "Israel",
            "Italy",
            "Jamaica",
            "Japan",
            "Jordan",
            "Kuwait",
            "Latvia",
            "Lebanon",
            "Liechtenstein",
            "Lithuania",
            "Luxembourg",
            "Malaysia",
            "Maldives",
            "Malta",
            "Martinique",
            "Mexico",
            "Moldova",
            "Monaco",
            "Mongolia",
            "Morocco",
            "Nepal",
            "Netherlands",
            "New Zealand",
            "Nigeria",
            "North Macedonia",
            "Norway",
            "Oman",
            "Pakistan",
            "Panama",
            "Paraguay",
            "Peru",
            "Philippines",
            "Poland",
            "Portugal",
            "Qatar",
            "Romania",
            "Russia",
            "San Marino",
            "Saudi Arabia",
            "Senegal",
            "Serbia",
            "Singapore",
            "Slovakia",
            "Slovenia",
            "South Africa",
            "Spain",
            "Sri Lanka",
            "Sweden",
            "Switzerland",
            "Thailand",
            "Togo",
            "Tunisia",
            "Turkey",
            "US",
            "Ukraine",
            "United Arab Emirates",
            "Vietnam"
           ],
           "marker": {
            "color": "#636efa",
            "size": [
             0,
             0,
             0,
             0,
             0,
             0,
             15,
             0,
             0,
             0,
             0,
             0,
             1,
             0,
             0,
             0,
             0,
             0,
             0,
             0,
             1,
             0,
             7,
             0,
             68413,
             0,
             0,
             0,
             0,
             0,
             285,
             0,
             0,
             0,
             0,
             0,
             1,
             0,
             1,
             12,
             0,
             16,
             0,
             0,
             0,
             0,
             0,
             3,
             0,
             0,
             0,
             0,
             0,
             3,
             0,
             43,
             0,
             0,
             0,
             0,
             0,
             0,
             0,
             22,
             0,
             0,
             0,
             0,
             0,
             0,
             0,
             0,
             1,
             0,
             0,
             0,
             0,
             0,
             0,
             0,
             0,
             0,
             0,
             3,
             0,
             0,
             0,
             0,
             2,
             0,
             0,
             0,
             0,
             72,
             0,
             0,
             0,
             2,
             1,
             1,
             0,
             33,
             0,
             0,
             0,
             13,
             0,
             8,
             16
            ],
            "sizemode": "area",
            "sizeref": 202.89
           },
           "name": "",
           "showlegend": false,
           "type": "scattergeo"
          }
         ],
         "name": "2020-02-15 00:00:00"
        },
        {
         "data": [
          {
           "customdata": [
            [
             0
            ],
            [
             0
            ],
            [
             0
            ],
            [
             0
            ],
            [
             0
            ],
            [
             0
            ],
            [
             15
            ],
            [
             0
            ],
            [
             0
            ],
            [
             0
            ],
            [
             0
            ],
            [
             0
            ],
            [
             1
            ],
            [
             0
            ],
            [
             0
            ],
            [
             0
            ],
            [
             0
            ],
            [
             0
            ],
            [
             0
            ],
            [
             0
            ],
            [
             1
            ],
            [
             0
            ],
            [
             7
            ],
            [
             0
            ],
            [
             70513
            ],
            [
             0
            ],
            [
             0
            ],
            [
             0
            ],
            [
             0
            ],
            [
             0
            ],
            [
             355
            ],
            [
             0
            ],
            [
             0
            ],
            [
             0
            ],
            [
             0
            ],
            [
             0
            ],
            [
             1
            ],
            [
             0
            ],
            [
             1
            ],
            [
             12
            ],
            [
             0
            ],
            [
             16
            ],
            [
             0
            ],
            [
             0
            ],
            [
             0
            ],
            [
             0
            ],
            [
             0
            ],
            [
             3
            ],
            [
             0
            ],
            [
             0
            ],
            [
             0
            ],
            [
             0
            ],
            [
             0
            ],
            [
             3
            ],
            [
             0
            ],
            [
             59
            ],
            [
             0
            ],
            [
             0
            ],
            [
             0
            ],
            [
             0
            ],
            [
             0
            ],
            [
             0
            ],
            [
             0
            ],
            [
             22
            ],
            [
             0
            ],
            [
             0
            ],
            [
             0
            ],
            [
             0
            ],
            [
             0
            ],
            [
             0
            ],
            [
             0
            ],
            [
             0
            ],
            [
             1
            ],
            [
             0
            ],
            [
             0
            ],
            [
             0
            ],
            [
             0
            ],
            [
             0
            ],
            [
             0
            ],
            [
             0
            ],
            [
             0
            ],
            [
             0
            ],
            [
             0
            ],
            [
             3
            ],
            [
             0
            ],
            [
             0
            ],
            [
             0
            ],
            [
             0
            ],
            [
             2
            ],
            [
             0
            ],
            [
             0
            ],
            [
             0
            ],
            [
             0
            ],
            [
             75
            ],
            [
             0
            ],
            [
             0
            ],
            [
             0
            ],
            [
             2
            ],
            [
             1
            ],
            [
             1
            ],
            [
             0
            ],
            [
             34
            ],
            [
             0
            ],
            [
             0
            ],
            [
             0
            ],
            [
             13
            ],
            [
             0
            ],
            [
             9
            ],
            [
             16
            ]
           ],
           "geo": "geo",
           "hoverlabel": {
            "namelength": 0
           },
           "hovertemplate": "Date=2020-02-16 00:00:00<br>Confirmed=%{customdata[0]}<br>Country/Region=%{location}",
           "legendgroup": "",
           "locationmode": "country names",
           "locations": [
            "Afghanistan",
            "Albania",
            "Algeria",
            "Andorra",
            "Argentina",
            "Armenia",
            "Australia",
            "Austria",
            "Azerbaijan",
            "Bahrain",
            "Bangladesh",
            "Belarus",
            "Belgium",
            "Bhutan",
            "Bolivia",
            "Bosnia and Herzegovina",
            "Brazil",
            "Brunei",
            "Bulgaria",
            "Burkina Faso",
            "Cambodia",
            "Cameroon",
            "Canada",
            "Chile",
            "China",
            "Colombia",
            "Congo (Kinshasa)",
            "Costa Rica",
            "Cote d'Ivoire",
            "Croatia",
            "Cruise Ship",
            "Cuba",
            "Cyprus",
            "Denmark",
            "Dominican Republic",
            "Ecuador",
            "Egypt",
            "Estonia",
            "Finland",
            "France",
            "Georgia",
            "Germany",
            "Greece",
            "Guyana",
            "Honduras",
            "Hungary",
            "Iceland",
            "India",
            "Indonesia",
            "Iran",
            "Iraq",
            "Ireland",
            "Israel",
            "Italy",
            "Jamaica",
            "Japan",
            "Jordan",
            "Kuwait",
            "Latvia",
            "Lebanon",
            "Liechtenstein",
            "Lithuania",
            "Luxembourg",
            "Malaysia",
            "Maldives",
            "Malta",
            "Martinique",
            "Mexico",
            "Moldova",
            "Monaco",
            "Mongolia",
            "Morocco",
            "Nepal",
            "Netherlands",
            "New Zealand",
            "Nigeria",
            "North Macedonia",
            "Norway",
            "Oman",
            "Pakistan",
            "Panama",
            "Paraguay",
            "Peru",
            "Philippines",
            "Poland",
            "Portugal",
            "Qatar",
            "Romania",
            "Russia",
            "San Marino",
            "Saudi Arabia",
            "Senegal",
            "Serbia",
            "Singapore",
            "Slovakia",
            "Slovenia",
            "South Africa",
            "Spain",
            "Sri Lanka",
            "Sweden",
            "Switzerland",
            "Thailand",
            "Togo",
            "Tunisia",
            "Turkey",
            "US",
            "Ukraine",
            "United Arab Emirates",
            "Vietnam"
           ],
           "marker": {
            "color": "#636efa",
            "size": [
             0,
             0,
             0,
             0,
             0,
             0,
             15,
             0,
             0,
             0,
             0,
             0,
             1,
             0,
             0,
             0,
             0,
             0,
             0,
             0,
             1,
             0,
             7,
             0,
             70513,
             0,
             0,
             0,
             0,
             0,
             355,
             0,
             0,
             0,
             0,
             0,
             1,
             0,
             1,
             12,
             0,
             16,
             0,
             0,
             0,
             0,
             0,
             3,
             0,
             0,
             0,
             0,
             0,
             3,
             0,
             59,
             0,
             0,
             0,
             0,
             0,
             0,
             0,
             22,
             0,
             0,
             0,
             0,
             0,
             0,
             0,
             0,
             1,
             0,
             0,
             0,
             0,
             0,
             0,
             0,
             0,
             0,
             0,
             3,
             0,
             0,
             0,
             0,
             2,
             0,
             0,
             0,
             0,
             75,
             0,
             0,
             0,
             2,
             1,
             1,
             0,
             34,
             0,
             0,
             0,
             13,
             0,
             9,
             16
            ],
            "sizemode": "area",
            "sizeref": 202.89
           },
           "name": "",
           "showlegend": false,
           "type": "scattergeo"
          }
         ],
         "name": "2020-02-16 00:00:00"
        },
        {
         "data": [
          {
           "customdata": [
            [
             0
            ],
            [
             0
            ],
            [
             0
            ],
            [
             0
            ],
            [
             0
            ],
            [
             0
            ],
            [
             15
            ],
            [
             0
            ],
            [
             0
            ],
            [
             0
            ],
            [
             0
            ],
            [
             0
            ],
            [
             1
            ],
            [
             0
            ],
            [
             0
            ],
            [
             0
            ],
            [
             0
            ],
            [
             0
            ],
            [
             0
            ],
            [
             0
            ],
            [
             1
            ],
            [
             0
            ],
            [
             8
            ],
            [
             0
            ],
            [
             72434
            ],
            [
             0
            ],
            [
             0
            ],
            [
             0
            ],
            [
             0
            ],
            [
             0
            ],
            [
             454
            ],
            [
             0
            ],
            [
             0
            ],
            [
             0
            ],
            [
             0
            ],
            [
             0
            ],
            [
             1
            ],
            [
             0
            ],
            [
             1
            ],
            [
             12
            ],
            [
             0
            ],
            [
             16
            ],
            [
             0
            ],
            [
             0
            ],
            [
             0
            ],
            [
             0
            ],
            [
             0
            ],
            [
             3
            ],
            [
             0
            ],
            [
             0
            ],
            [
             0
            ],
            [
             0
            ],
            [
             0
            ],
            [
             3
            ],
            [
             0
            ],
            [
             66
            ],
            [
             0
            ],
            [
             0
            ],
            [
             0
            ],
            [
             0
            ],
            [
             0
            ],
            [
             0
            ],
            [
             0
            ],
            [
             22
            ],
            [
             0
            ],
            [
             0
            ],
            [
             0
            ],
            [
             0
            ],
            [
             0
            ],
            [
             0
            ],
            [
             0
            ],
            [
             0
            ],
            [
             1
            ],
            [
             0
            ],
            [
             0
            ],
            [
             0
            ],
            [
             0
            ],
            [
             0
            ],
            [
             0
            ],
            [
             0
            ],
            [
             0
            ],
            [
             0
            ],
            [
             0
            ],
            [
             3
            ],
            [
             0
            ],
            [
             0
            ],
            [
             0
            ],
            [
             0
            ],
            [
             2
            ],
            [
             0
            ],
            [
             0
            ],
            [
             0
            ],
            [
             0
            ],
            [
             77
            ],
            [
             0
            ],
            [
             0
            ],
            [
             0
            ],
            [
             2
            ],
            [
             1
            ],
            [
             1
            ],
            [
             0
            ],
            [
             35
            ],
            [
             0
            ],
            [
             0
            ],
            [
             0
            ],
            [
             13
            ],
            [
             0
            ],
            [
             9
            ],
            [
             16
            ]
           ],
           "geo": "geo",
           "hoverlabel": {
            "namelength": 0
           },
           "hovertemplate": "Date=2020-02-17 00:00:00<br>Confirmed=%{customdata[0]}<br>Country/Region=%{location}",
           "legendgroup": "",
           "locationmode": "country names",
           "locations": [
            "Afghanistan",
            "Albania",
            "Algeria",
            "Andorra",
            "Argentina",
            "Armenia",
            "Australia",
            "Austria",
            "Azerbaijan",
            "Bahrain",
            "Bangladesh",
            "Belarus",
            "Belgium",
            "Bhutan",
            "Bolivia",
            "Bosnia and Herzegovina",
            "Brazil",
            "Brunei",
            "Bulgaria",
            "Burkina Faso",
            "Cambodia",
            "Cameroon",
            "Canada",
            "Chile",
            "China",
            "Colombia",
            "Congo (Kinshasa)",
            "Costa Rica",
            "Cote d'Ivoire",
            "Croatia",
            "Cruise Ship",
            "Cuba",
            "Cyprus",
            "Denmark",
            "Dominican Republic",
            "Ecuador",
            "Egypt",
            "Estonia",
            "Finland",
            "France",
            "Georgia",
            "Germany",
            "Greece",
            "Guyana",
            "Honduras",
            "Hungary",
            "Iceland",
            "India",
            "Indonesia",
            "Iran",
            "Iraq",
            "Ireland",
            "Israel",
            "Italy",
            "Jamaica",
            "Japan",
            "Jordan",
            "Kuwait",
            "Latvia",
            "Lebanon",
            "Liechtenstein",
            "Lithuania",
            "Luxembourg",
            "Malaysia",
            "Maldives",
            "Malta",
            "Martinique",
            "Mexico",
            "Moldova",
            "Monaco",
            "Mongolia",
            "Morocco",
            "Nepal",
            "Netherlands",
            "New Zealand",
            "Nigeria",
            "North Macedonia",
            "Norway",
            "Oman",
            "Pakistan",
            "Panama",
            "Paraguay",
            "Peru",
            "Philippines",
            "Poland",
            "Portugal",
            "Qatar",
            "Romania",
            "Russia",
            "San Marino",
            "Saudi Arabia",
            "Senegal",
            "Serbia",
            "Singapore",
            "Slovakia",
            "Slovenia",
            "South Africa",
            "Spain",
            "Sri Lanka",
            "Sweden",
            "Switzerland",
            "Thailand",
            "Togo",
            "Tunisia",
            "Turkey",
            "US",
            "Ukraine",
            "United Arab Emirates",
            "Vietnam"
           ],
           "marker": {
            "color": "#636efa",
            "size": [
             0,
             0,
             0,
             0,
             0,
             0,
             15,
             0,
             0,
             0,
             0,
             0,
             1,
             0,
             0,
             0,
             0,
             0,
             0,
             0,
             1,
             0,
             8,
             0,
             72434,
             0,
             0,
             0,
             0,
             0,
             454,
             0,
             0,
             0,
             0,
             0,
             1,
             0,
             1,
             12,
             0,
             16,
             0,
             0,
             0,
             0,
             0,
             3,
             0,
             0,
             0,
             0,
             0,
             3,
             0,
             66,
             0,
             0,
             0,
             0,
             0,
             0,
             0,
             22,
             0,
             0,
             0,
             0,
             0,
             0,
             0,
             0,
             1,
             0,
             0,
             0,
             0,
             0,
             0,
             0,
             0,
             0,
             0,
             3,
             0,
             0,
             0,
             0,
             2,
             0,
             0,
             0,
             0,
             77,
             0,
             0,
             0,
             2,
             1,
             1,
             0,
             35,
             0,
             0,
             0,
             13,
             0,
             9,
             16
            ],
            "sizemode": "area",
            "sizeref": 202.89
           },
           "name": "",
           "showlegend": false,
           "type": "scattergeo"
          }
         ],
         "name": "2020-02-17 00:00:00"
        },
        {
         "data": [
          {
           "customdata": [
            [
             0
            ],
            [
             0
            ],
            [
             0
            ],
            [
             0
            ],
            [
             0
            ],
            [
             0
            ],
            [
             15
            ],
            [
             0
            ],
            [
             0
            ],
            [
             0
            ],
            [
             0
            ],
            [
             0
            ],
            [
             1
            ],
            [
             0
            ],
            [
             0
            ],
            [
             0
            ],
            [
             0
            ],
            [
             0
            ],
            [
             0
            ],
            [
             0
            ],
            [
             1
            ],
            [
             0
            ],
            [
             8
            ],
            [
             0
            ],
            [
             74211
            ],
            [
             0
            ],
            [
             0
            ],
            [
             0
            ],
            [
             0
            ],
            [
             0
            ],
            [
             542
            ],
            [
             0
            ],
            [
             0
            ],
            [
             0
            ],
            [
             0
            ],
            [
             0
            ],
            [
             1
            ],
            [
             0
            ],
            [
             1
            ],
            [
             12
            ],
            [
             0
            ],
            [
             16
            ],
            [
             0
            ],
            [
             0
            ],
            [
             0
            ],
            [
             0
            ],
            [
             0
            ],
            [
             3
            ],
            [
             0
            ],
            [
             0
            ],
            [
             0
            ],
            [
             0
            ],
            [
             0
            ],
            [
             3
            ],
            [
             0
            ],
            [
             74
            ],
            [
             0
            ],
            [
             0
            ],
            [
             0
            ],
            [
             0
            ],
            [
             0
            ],
            [
             0
            ],
            [
             0
            ],
            [
             22
            ],
            [
             0
            ],
            [
             0
            ],
            [
             0
            ],
            [
             0
            ],
            [
             0
            ],
            [
             0
            ],
            [
             0
            ],
            [
             0
            ],
            [
             1
            ],
            [
             0
            ],
            [
             0
            ],
            [
             0
            ],
            [
             0
            ],
            [
             0
            ],
            [
             0
            ],
            [
             0
            ],
            [
             0
            ],
            [
             0
            ],
            [
             0
            ],
            [
             3
            ],
            [
             0
            ],
            [
             0
            ],
            [
             0
            ],
            [
             0
            ],
            [
             2
            ],
            [
             0
            ],
            [
             0
            ],
            [
             0
            ],
            [
             0
            ],
            [
             81
            ],
            [
             0
            ],
            [
             0
            ],
            [
             0
            ],
            [
             2
            ],
            [
             1
            ],
            [
             1
            ],
            [
             0
            ],
            [
             35
            ],
            [
             0
            ],
            [
             0
            ],
            [
             0
            ],
            [
             13
            ],
            [
             0
            ],
            [
             9
            ],
            [
             16
            ]
           ],
           "geo": "geo",
           "hoverlabel": {
            "namelength": 0
           },
           "hovertemplate": "Date=2020-02-18 00:00:00<br>Confirmed=%{customdata[0]}<br>Country/Region=%{location}",
           "legendgroup": "",
           "locationmode": "country names",
           "locations": [
            "Afghanistan",
            "Albania",
            "Algeria",
            "Andorra",
            "Argentina",
            "Armenia",
            "Australia",
            "Austria",
            "Azerbaijan",
            "Bahrain",
            "Bangladesh",
            "Belarus",
            "Belgium",
            "Bhutan",
            "Bolivia",
            "Bosnia and Herzegovina",
            "Brazil",
            "Brunei",
            "Bulgaria",
            "Burkina Faso",
            "Cambodia",
            "Cameroon",
            "Canada",
            "Chile",
            "China",
            "Colombia",
            "Congo (Kinshasa)",
            "Costa Rica",
            "Cote d'Ivoire",
            "Croatia",
            "Cruise Ship",
            "Cuba",
            "Cyprus",
            "Denmark",
            "Dominican Republic",
            "Ecuador",
            "Egypt",
            "Estonia",
            "Finland",
            "France",
            "Georgia",
            "Germany",
            "Greece",
            "Guyana",
            "Honduras",
            "Hungary",
            "Iceland",
            "India",
            "Indonesia",
            "Iran",
            "Iraq",
            "Ireland",
            "Israel",
            "Italy",
            "Jamaica",
            "Japan",
            "Jordan",
            "Kuwait",
            "Latvia",
            "Lebanon",
            "Liechtenstein",
            "Lithuania",
            "Luxembourg",
            "Malaysia",
            "Maldives",
            "Malta",
            "Martinique",
            "Mexico",
            "Moldova",
            "Monaco",
            "Mongolia",
            "Morocco",
            "Nepal",
            "Netherlands",
            "New Zealand",
            "Nigeria",
            "North Macedonia",
            "Norway",
            "Oman",
            "Pakistan",
            "Panama",
            "Paraguay",
            "Peru",
            "Philippines",
            "Poland",
            "Portugal",
            "Qatar",
            "Romania",
            "Russia",
            "San Marino",
            "Saudi Arabia",
            "Senegal",
            "Serbia",
            "Singapore",
            "Slovakia",
            "Slovenia",
            "South Africa",
            "Spain",
            "Sri Lanka",
            "Sweden",
            "Switzerland",
            "Thailand",
            "Togo",
            "Tunisia",
            "Turkey",
            "US",
            "Ukraine",
            "United Arab Emirates",
            "Vietnam"
           ],
           "marker": {
            "color": "#636efa",
            "size": [
             0,
             0,
             0,
             0,
             0,
             0,
             15,
             0,
             0,
             0,
             0,
             0,
             1,
             0,
             0,
             0,
             0,
             0,
             0,
             0,
             1,
             0,
             8,
             0,
             74211,
             0,
             0,
             0,
             0,
             0,
             542,
             0,
             0,
             0,
             0,
             0,
             1,
             0,
             1,
             12,
             0,
             16,
             0,
             0,
             0,
             0,
             0,
             3,
             0,
             0,
             0,
             0,
             0,
             3,
             0,
             74,
             0,
             0,
             0,
             0,
             0,
             0,
             0,
             22,
             0,
             0,
             0,
             0,
             0,
             0,
             0,
             0,
             1,
             0,
             0,
             0,
             0,
             0,
             0,
             0,
             0,
             0,
             0,
             3,
             0,
             0,
             0,
             0,
             2,
             0,
             0,
             0,
             0,
             81,
             0,
             0,
             0,
             2,
             1,
             1,
             0,
             35,
             0,
             0,
             0,
             13,
             0,
             9,
             16
            ],
            "sizemode": "area",
            "sizeref": 202.89
           },
           "name": "",
           "showlegend": false,
           "type": "scattergeo"
          }
         ],
         "name": "2020-02-18 00:00:00"
        },
        {
         "data": [
          {
           "customdata": [
            [
             0
            ],
            [
             0
            ],
            [
             0
            ],
            [
             0
            ],
            [
             0
            ],
            [
             0
            ],
            [
             15
            ],
            [
             0
            ],
            [
             0
            ],
            [
             0
            ],
            [
             0
            ],
            [
             0
            ],
            [
             1
            ],
            [
             0
            ],
            [
             0
            ],
            [
             0
            ],
            [
             0
            ],
            [
             0
            ],
            [
             0
            ],
            [
             0
            ],
            [
             1
            ],
            [
             0
            ],
            [
             8
            ],
            [
             0
            ],
            [
             74619
            ],
            [
             0
            ],
            [
             0
            ],
            [
             0
            ],
            [
             0
            ],
            [
             0
            ],
            [
             621
            ],
            [
             0
            ],
            [
             0
            ],
            [
             0
            ],
            [
             0
            ],
            [
             0
            ],
            [
             1
            ],
            [
             0
            ],
            [
             1
            ],
            [
             12
            ],
            [
             0
            ],
            [
             16
            ],
            [
             0
            ],
            [
             0
            ],
            [
             0
            ],
            [
             0
            ],
            [
             0
            ],
            [
             3
            ],
            [
             0
            ],
            [
             2
            ],
            [
             0
            ],
            [
             0
            ],
            [
             0
            ],
            [
             3
            ],
            [
             0
            ],
            [
             84
            ],
            [
             0
            ],
            [
             0
            ],
            [
             0
            ],
            [
             0
            ],
            [
             0
            ],
            [
             0
            ],
            [
             0
            ],
            [
             22
            ],
            [
             0
            ],
            [
             0
            ],
            [
             0
            ],
            [
             0
            ],
            [
             0
            ],
            [
             0
            ],
            [
             0
            ],
            [
             0
            ],
            [
             1
            ],
            [
             0
            ],
            [
             0
            ],
            [
             0
            ],
            [
             0
            ],
            [
             0
            ],
            [
             0
            ],
            [
             0
            ],
            [
             0
            ],
            [
             0
            ],
            [
             0
            ],
            [
             3
            ],
            [
             0
            ],
            [
             0
            ],
            [
             0
            ],
            [
             0
            ],
            [
             2
            ],
            [
             0
            ],
            [
             0
            ],
            [
             0
            ],
            [
             0
            ],
            [
             84
            ],
            [
             0
            ],
            [
             0
            ],
            [
             0
            ],
            [
             2
            ],
            [
             1
            ],
            [
             1
            ],
            [
             0
            ],
            [
             35
            ],
            [
             0
            ],
            [
             0
            ],
            [
             0
            ],
            [
             13
            ],
            [
             0
            ],
            [
             9
            ],
            [
             16
            ]
           ],
           "geo": "geo",
           "hoverlabel": {
            "namelength": 0
           },
           "hovertemplate": "Date=2020-02-19 00:00:00<br>Confirmed=%{customdata[0]}<br>Country/Region=%{location}",
           "legendgroup": "",
           "locationmode": "country names",
           "locations": [
            "Afghanistan",
            "Albania",
            "Algeria",
            "Andorra",
            "Argentina",
            "Armenia",
            "Australia",
            "Austria",
            "Azerbaijan",
            "Bahrain",
            "Bangladesh",
            "Belarus",
            "Belgium",
            "Bhutan",
            "Bolivia",
            "Bosnia and Herzegovina",
            "Brazil",
            "Brunei",
            "Bulgaria",
            "Burkina Faso",
            "Cambodia",
            "Cameroon",
            "Canada",
            "Chile",
            "China",
            "Colombia",
            "Congo (Kinshasa)",
            "Costa Rica",
            "Cote d'Ivoire",
            "Croatia",
            "Cruise Ship",
            "Cuba",
            "Cyprus",
            "Denmark",
            "Dominican Republic",
            "Ecuador",
            "Egypt",
            "Estonia",
            "Finland",
            "France",
            "Georgia",
            "Germany",
            "Greece",
            "Guyana",
            "Honduras",
            "Hungary",
            "Iceland",
            "India",
            "Indonesia",
            "Iran",
            "Iraq",
            "Ireland",
            "Israel",
            "Italy",
            "Jamaica",
            "Japan",
            "Jordan",
            "Kuwait",
            "Latvia",
            "Lebanon",
            "Liechtenstein",
            "Lithuania",
            "Luxembourg",
            "Malaysia",
            "Maldives",
            "Malta",
            "Martinique",
            "Mexico",
            "Moldova",
            "Monaco",
            "Mongolia",
            "Morocco",
            "Nepal",
            "Netherlands",
            "New Zealand",
            "Nigeria",
            "North Macedonia",
            "Norway",
            "Oman",
            "Pakistan",
            "Panama",
            "Paraguay",
            "Peru",
            "Philippines",
            "Poland",
            "Portugal",
            "Qatar",
            "Romania",
            "Russia",
            "San Marino",
            "Saudi Arabia",
            "Senegal",
            "Serbia",
            "Singapore",
            "Slovakia",
            "Slovenia",
            "South Africa",
            "Spain",
            "Sri Lanka",
            "Sweden",
            "Switzerland",
            "Thailand",
            "Togo",
            "Tunisia",
            "Turkey",
            "US",
            "Ukraine",
            "United Arab Emirates",
            "Vietnam"
           ],
           "marker": {
            "color": "#636efa",
            "size": [
             0,
             0,
             0,
             0,
             0,
             0,
             15,
             0,
             0,
             0,
             0,
             0,
             1,
             0,
             0,
             0,
             0,
             0,
             0,
             0,
             1,
             0,
             8,
             0,
             74619,
             0,
             0,
             0,
             0,
             0,
             621,
             0,
             0,
             0,
             0,
             0,
             1,
             0,
             1,
             12,
             0,
             16,
             0,
             0,
             0,
             0,
             0,
             3,
             0,
             2,
             0,
             0,
             0,
             3,
             0,
             84,
             0,
             0,
             0,
             0,
             0,
             0,
             0,
             22,
             0,
             0,
             0,
             0,
             0,
             0,
             0,
             0,
             1,
             0,
             0,
             0,
             0,
             0,
             0,
             0,
             0,
             0,
             0,
             3,
             0,
             0,
             0,
             0,
             2,
             0,
             0,
             0,
             0,
             84,
             0,
             0,
             0,
             2,
             1,
             1,
             0,
             35,
             0,
             0,
             0,
             13,
             0,
             9,
             16
            ],
            "sizemode": "area",
            "sizeref": 202.89
           },
           "name": "",
           "showlegend": false,
           "type": "scattergeo"
          }
         ],
         "name": "2020-02-19 00:00:00"
        },
        {
         "data": [
          {
           "customdata": [
            [
             0
            ],
            [
             0
            ],
            [
             0
            ],
            [
             0
            ],
            [
             0
            ],
            [
             0
            ],
            [
             15
            ],
            [
             0
            ],
            [
             0
            ],
            [
             0
            ],
            [
             0
            ],
            [
             0
            ],
            [
             1
            ],
            [
             0
            ],
            [
             0
            ],
            [
             0
            ],
            [
             0
            ],
            [
             0
            ],
            [
             0
            ],
            [
             0
            ],
            [
             1
            ],
            [
             0
            ],
            [
             8
            ],
            [
             0
            ],
            [
             75077
            ],
            [
             0
            ],
            [
             0
            ],
            [
             0
            ],
            [
             0
            ],
            [
             0
            ],
            [
             634
            ],
            [
             0
            ],
            [
             0
            ],
            [
             0
            ],
            [
             0
            ],
            [
             0
            ],
            [
             1
            ],
            [
             0
            ],
            [
             1
            ],
            [
             12
            ],
            [
             0
            ],
            [
             16
            ],
            [
             0
            ],
            [
             0
            ],
            [
             0
            ],
            [
             0
            ],
            [
             0
            ],
            [
             3
            ],
            [
             0
            ],
            [
             5
            ],
            [
             0
            ],
            [
             0
            ],
            [
             0
            ],
            [
             3
            ],
            [
             0
            ],
            [
             94
            ],
            [
             0
            ],
            [
             0
            ],
            [
             0
            ],
            [
             0
            ],
            [
             0
            ],
            [
             0
            ],
            [
             0
            ],
            [
             22
            ],
            [
             0
            ],
            [
             0
            ],
            [
             0
            ],
            [
             0
            ],
            [
             0
            ],
            [
             0
            ],
            [
             0
            ],
            [
             0
            ],
            [
             1
            ],
            [
             0
            ],
            [
             0
            ],
            [
             0
            ],
            [
             0
            ],
            [
             0
            ],
            [
             0
            ],
            [
             0
            ],
            [
             0
            ],
            [
             0
            ],
            [
             0
            ],
            [
             3
            ],
            [
             0
            ],
            [
             0
            ],
            [
             0
            ],
            [
             0
            ],
            [
             2
            ],
            [
             0
            ],
            [
             0
            ],
            [
             0
            ],
            [
             0
            ],
            [
             84
            ],
            [
             0
            ],
            [
             0
            ],
            [
             0
            ],
            [
             2
            ],
            [
             1
            ],
            [
             1
            ],
            [
             0
            ],
            [
             35
            ],
            [
             0
            ],
            [
             0
            ],
            [
             0
            ],
            [
             13
            ],
            [
             0
            ],
            [
             9
            ],
            [
             16
            ]
           ],
           "geo": "geo",
           "hoverlabel": {
            "namelength": 0
           },
           "hovertemplate": "Date=2020-02-20 00:00:00<br>Confirmed=%{customdata[0]}<br>Country/Region=%{location}",
           "legendgroup": "",
           "locationmode": "country names",
           "locations": [
            "Afghanistan",
            "Albania",
            "Algeria",
            "Andorra",
            "Argentina",
            "Armenia",
            "Australia",
            "Austria",
            "Azerbaijan",
            "Bahrain",
            "Bangladesh",
            "Belarus",
            "Belgium",
            "Bhutan",
            "Bolivia",
            "Bosnia and Herzegovina",
            "Brazil",
            "Brunei",
            "Bulgaria",
            "Burkina Faso",
            "Cambodia",
            "Cameroon",
            "Canada",
            "Chile",
            "China",
            "Colombia",
            "Congo (Kinshasa)",
            "Costa Rica",
            "Cote d'Ivoire",
            "Croatia",
            "Cruise Ship",
            "Cuba",
            "Cyprus",
            "Denmark",
            "Dominican Republic",
            "Ecuador",
            "Egypt",
            "Estonia",
            "Finland",
            "France",
            "Georgia",
            "Germany",
            "Greece",
            "Guyana",
            "Honduras",
            "Hungary",
            "Iceland",
            "India",
            "Indonesia",
            "Iran",
            "Iraq",
            "Ireland",
            "Israel",
            "Italy",
            "Jamaica",
            "Japan",
            "Jordan",
            "Kuwait",
            "Latvia",
            "Lebanon",
            "Liechtenstein",
            "Lithuania",
            "Luxembourg",
            "Malaysia",
            "Maldives",
            "Malta",
            "Martinique",
            "Mexico",
            "Moldova",
            "Monaco",
            "Mongolia",
            "Morocco",
            "Nepal",
            "Netherlands",
            "New Zealand",
            "Nigeria",
            "North Macedonia",
            "Norway",
            "Oman",
            "Pakistan",
            "Panama",
            "Paraguay",
            "Peru",
            "Philippines",
            "Poland",
            "Portugal",
            "Qatar",
            "Romania",
            "Russia",
            "San Marino",
            "Saudi Arabia",
            "Senegal",
            "Serbia",
            "Singapore",
            "Slovakia",
            "Slovenia",
            "South Africa",
            "Spain",
            "Sri Lanka",
            "Sweden",
            "Switzerland",
            "Thailand",
            "Togo",
            "Tunisia",
            "Turkey",
            "US",
            "Ukraine",
            "United Arab Emirates",
            "Vietnam"
           ],
           "marker": {
            "color": "#636efa",
            "size": [
             0,
             0,
             0,
             0,
             0,
             0,
             15,
             0,
             0,
             0,
             0,
             0,
             1,
             0,
             0,
             0,
             0,
             0,
             0,
             0,
             1,
             0,
             8,
             0,
             75077,
             0,
             0,
             0,
             0,
             0,
             634,
             0,
             0,
             0,
             0,
             0,
             1,
             0,
             1,
             12,
             0,
             16,
             0,
             0,
             0,
             0,
             0,
             3,
             0,
             5,
             0,
             0,
             0,
             3,
             0,
             94,
             0,
             0,
             0,
             0,
             0,
             0,
             0,
             22,
             0,
             0,
             0,
             0,
             0,
             0,
             0,
             0,
             1,
             0,
             0,
             0,
             0,
             0,
             0,
             0,
             0,
             0,
             0,
             3,
             0,
             0,
             0,
             0,
             2,
             0,
             0,
             0,
             0,
             84,
             0,
             0,
             0,
             2,
             1,
             1,
             0,
             35,
             0,
             0,
             0,
             13,
             0,
             9,
             16
            ],
            "sizemode": "area",
            "sizeref": 202.89
           },
           "name": "",
           "showlegend": false,
           "type": "scattergeo"
          }
         ],
         "name": "2020-02-20 00:00:00"
        },
        {
         "data": [
          {
           "customdata": [
            [
             0
            ],
            [
             0
            ],
            [
             0
            ],
            [
             0
            ],
            [
             0
            ],
            [
             0
            ],
            [
             19
            ],
            [
             0
            ],
            [
             0
            ],
            [
             0
            ],
            [
             0
            ],
            [
             0
            ],
            [
             1
            ],
            [
             0
            ],
            [
             0
            ],
            [
             0
            ],
            [
             0
            ],
            [
             0
            ],
            [
             0
            ],
            [
             0
            ],
            [
             1
            ],
            [
             0
            ],
            [
             9
            ],
            [
             0
            ],
            [
             75550
            ],
            [
             0
            ],
            [
             0
            ],
            [
             0
            ],
            [
             0
            ],
            [
             0
            ],
            [
             634
            ],
            [
             0
            ],
            [
             0
            ],
            [
             0
            ],
            [
             0
            ],
            [
             0
            ],
            [
             1
            ],
            [
             0
            ],
            [
             1
            ],
            [
             12
            ],
            [
             0
            ],
            [
             16
            ],
            [
             0
            ],
            [
             0
            ],
            [
             0
            ],
            [
             0
            ],
            [
             0
            ],
            [
             3
            ],
            [
             0
            ],
            [
             18
            ],
            [
             0
            ],
            [
             0
            ],
            [
             1
            ],
            [
             20
            ],
            [
             0
            ],
            [
             105
            ],
            [
             0
            ],
            [
             0
            ],
            [
             0
            ],
            [
             1
            ],
            [
             0
            ],
            [
             0
            ],
            [
             0
            ],
            [
             22
            ],
            [
             0
            ],
            [
             0
            ],
            [
             0
            ],
            [
             0
            ],
            [
             0
            ],
            [
             0
            ],
            [
             0
            ],
            [
             0
            ],
            [
             1
            ],
            [
             0
            ],
            [
             0
            ],
            [
             0
            ],
            [
             0
            ],
            [
             0
            ],
            [
             0
            ],
            [
             0
            ],
            [
             0
            ],
            [
             0
            ],
            [
             0
            ],
            [
             3
            ],
            [
             0
            ],
            [
             0
            ],
            [
             0
            ],
            [
             0
            ],
            [
             2
            ],
            [
             0
            ],
            [
             0
            ],
            [
             0
            ],
            [
             0
            ],
            [
             85
            ],
            [
             0
            ],
            [
             0
            ],
            [
             0
            ],
            [
             2
            ],
            [
             1
            ],
            [
             1
            ],
            [
             0
            ],
            [
             35
            ],
            [
             0
            ],
            [
             0
            ],
            [
             0
            ],
            [
             15
            ],
            [
             0
            ],
            [
             9
            ],
            [
             16
            ]
           ],
           "geo": "geo",
           "hoverlabel": {
            "namelength": 0
           },
           "hovertemplate": "Date=2020-02-21 00:00:00<br>Confirmed=%{customdata[0]}<br>Country/Region=%{location}",
           "legendgroup": "",
           "locationmode": "country names",
           "locations": [
            "Afghanistan",
            "Albania",
            "Algeria",
            "Andorra",
            "Argentina",
            "Armenia",
            "Australia",
            "Austria",
            "Azerbaijan",
            "Bahrain",
            "Bangladesh",
            "Belarus",
            "Belgium",
            "Bhutan",
            "Bolivia",
            "Bosnia and Herzegovina",
            "Brazil",
            "Brunei",
            "Bulgaria",
            "Burkina Faso",
            "Cambodia",
            "Cameroon",
            "Canada",
            "Chile",
            "China",
            "Colombia",
            "Congo (Kinshasa)",
            "Costa Rica",
            "Cote d'Ivoire",
            "Croatia",
            "Cruise Ship",
            "Cuba",
            "Cyprus",
            "Denmark",
            "Dominican Republic",
            "Ecuador",
            "Egypt",
            "Estonia",
            "Finland",
            "France",
            "Georgia",
            "Germany",
            "Greece",
            "Guyana",
            "Honduras",
            "Hungary",
            "Iceland",
            "India",
            "Indonesia",
            "Iran",
            "Iraq",
            "Ireland",
            "Israel",
            "Italy",
            "Jamaica",
            "Japan",
            "Jordan",
            "Kuwait",
            "Latvia",
            "Lebanon",
            "Liechtenstein",
            "Lithuania",
            "Luxembourg",
            "Malaysia",
            "Maldives",
            "Malta",
            "Martinique",
            "Mexico",
            "Moldova",
            "Monaco",
            "Mongolia",
            "Morocco",
            "Nepal",
            "Netherlands",
            "New Zealand",
            "Nigeria",
            "North Macedonia",
            "Norway",
            "Oman",
            "Pakistan",
            "Panama",
            "Paraguay",
            "Peru",
            "Philippines",
            "Poland",
            "Portugal",
            "Qatar",
            "Romania",
            "Russia",
            "San Marino",
            "Saudi Arabia",
            "Senegal",
            "Serbia",
            "Singapore",
            "Slovakia",
            "Slovenia",
            "South Africa",
            "Spain",
            "Sri Lanka",
            "Sweden",
            "Switzerland",
            "Thailand",
            "Togo",
            "Tunisia",
            "Turkey",
            "US",
            "Ukraine",
            "United Arab Emirates",
            "Vietnam"
           ],
           "marker": {
            "color": "#636efa",
            "size": [
             0,
             0,
             0,
             0,
             0,
             0,
             19,
             0,
             0,
             0,
             0,
             0,
             1,
             0,
             0,
             0,
             0,
             0,
             0,
             0,
             1,
             0,
             9,
             0,
             75550,
             0,
             0,
             0,
             0,
             0,
             634,
             0,
             0,
             0,
             0,
             0,
             1,
             0,
             1,
             12,
             0,
             16,
             0,
             0,
             0,
             0,
             0,
             3,
             0,
             18,
             0,
             0,
             1,
             20,
             0,
             105,
             0,
             0,
             0,
             1,
             0,
             0,
             0,
             22,
             0,
             0,
             0,
             0,
             0,
             0,
             0,
             0,
             1,
             0,
             0,
             0,
             0,
             0,
             0,
             0,
             0,
             0,
             0,
             3,
             0,
             0,
             0,
             0,
             2,
             0,
             0,
             0,
             0,
             85,
             0,
             0,
             0,
             2,
             1,
             1,
             0,
             35,
             0,
             0,
             0,
             15,
             0,
             9,
             16
            ],
            "sizemode": "area",
            "sizeref": 202.89
           },
           "name": "",
           "showlegend": false,
           "type": "scattergeo"
          }
         ],
         "name": "2020-02-21 00:00:00"
        },
        {
         "data": [
          {
           "customdata": [
            [
             0
            ],
            [
             0
            ],
            [
             0
            ],
            [
             0
            ],
            [
             0
            ],
            [
             0
            ],
            [
             22
            ],
            [
             0
            ],
            [
             0
            ],
            [
             0
            ],
            [
             0
            ],
            [
             0
            ],
            [
             1
            ],
            [
             0
            ],
            [
             0
            ],
            [
             0
            ],
            [
             0
            ],
            [
             0
            ],
            [
             0
            ],
            [
             0
            ],
            [
             1
            ],
            [
             0
            ],
            [
             9
            ],
            [
             0
            ],
            [
             77001
            ],
            [
             0
            ],
            [
             0
            ],
            [
             0
            ],
            [
             0
            ],
            [
             0
            ],
            [
             634
            ],
            [
             0
            ],
            [
             0
            ],
            [
             0
            ],
            [
             0
            ],
            [
             0
            ],
            [
             1
            ],
            [
             0
            ],
            [
             1
            ],
            [
             12
            ],
            [
             0
            ],
            [
             16
            ],
            [
             0
            ],
            [
             0
            ],
            [
             0
            ],
            [
             0
            ],
            [
             0
            ],
            [
             3
            ],
            [
             0
            ],
            [
             28
            ],
            [
             0
            ],
            [
             0
            ],
            [
             1
            ],
            [
             62
            ],
            [
             0
            ],
            [
             122
            ],
            [
             0
            ],
            [
             0
            ],
            [
             0
            ],
            [
             1
            ],
            [
             0
            ],
            [
             0
            ],
            [
             0
            ],
            [
             22
            ],
            [
             0
            ],
            [
             0
            ],
            [
             0
            ],
            [
             0
            ],
            [
             0
            ],
            [
             0
            ],
            [
             0
            ],
            [
             0
            ],
            [
             1
            ],
            [
             0
            ],
            [
             0
            ],
            [
             0
            ],
            [
             0
            ],
            [
             0
            ],
            [
             0
            ],
            [
             0
            ],
            [
             0
            ],
            [
             0
            ],
            [
             0
            ],
            [
             3
            ],
            [
             0
            ],
            [
             0
            ],
            [
             0
            ],
            [
             0
            ],
            [
             2
            ],
            [
             0
            ],
            [
             0
            ],
            [
             0
            ],
            [
             0
            ],
            [
             85
            ],
            [
             0
            ],
            [
             0
            ],
            [
             0
            ],
            [
             2
            ],
            [
             1
            ],
            [
             1
            ],
            [
             0
            ],
            [
             35
            ],
            [
             0
            ],
            [
             0
            ],
            [
             0
            ],
            [
             15
            ],
            [
             0
            ],
            [
             13
            ],
            [
             16
            ]
           ],
           "geo": "geo",
           "hoverlabel": {
            "namelength": 0
           },
           "hovertemplate": "Date=2020-02-22 00:00:00<br>Confirmed=%{customdata[0]}<br>Country/Region=%{location}",
           "legendgroup": "",
           "locationmode": "country names",
           "locations": [
            "Afghanistan",
            "Albania",
            "Algeria",
            "Andorra",
            "Argentina",
            "Armenia",
            "Australia",
            "Austria",
            "Azerbaijan",
            "Bahrain",
            "Bangladesh",
            "Belarus",
            "Belgium",
            "Bhutan",
            "Bolivia",
            "Bosnia and Herzegovina",
            "Brazil",
            "Brunei",
            "Bulgaria",
            "Burkina Faso",
            "Cambodia",
            "Cameroon",
            "Canada",
            "Chile",
            "China",
            "Colombia",
            "Congo (Kinshasa)",
            "Costa Rica",
            "Cote d'Ivoire",
            "Croatia",
            "Cruise Ship",
            "Cuba",
            "Cyprus",
            "Denmark",
            "Dominican Republic",
            "Ecuador",
            "Egypt",
            "Estonia",
            "Finland",
            "France",
            "Georgia",
            "Germany",
            "Greece",
            "Guyana",
            "Honduras",
            "Hungary",
            "Iceland",
            "India",
            "Indonesia",
            "Iran",
            "Iraq",
            "Ireland",
            "Israel",
            "Italy",
            "Jamaica",
            "Japan",
            "Jordan",
            "Kuwait",
            "Latvia",
            "Lebanon",
            "Liechtenstein",
            "Lithuania",
            "Luxembourg",
            "Malaysia",
            "Maldives",
            "Malta",
            "Martinique",
            "Mexico",
            "Moldova",
            "Monaco",
            "Mongolia",
            "Morocco",
            "Nepal",
            "Netherlands",
            "New Zealand",
            "Nigeria",
            "North Macedonia",
            "Norway",
            "Oman",
            "Pakistan",
            "Panama",
            "Paraguay",
            "Peru",
            "Philippines",
            "Poland",
            "Portugal",
            "Qatar",
            "Romania",
            "Russia",
            "San Marino",
            "Saudi Arabia",
            "Senegal",
            "Serbia",
            "Singapore",
            "Slovakia",
            "Slovenia",
            "South Africa",
            "Spain",
            "Sri Lanka",
            "Sweden",
            "Switzerland",
            "Thailand",
            "Togo",
            "Tunisia",
            "Turkey",
            "US",
            "Ukraine",
            "United Arab Emirates",
            "Vietnam"
           ],
           "marker": {
            "color": "#636efa",
            "size": [
             0,
             0,
             0,
             0,
             0,
             0,
             22,
             0,
             0,
             0,
             0,
             0,
             1,
             0,
             0,
             0,
             0,
             0,
             0,
             0,
             1,
             0,
             9,
             0,
             77001,
             0,
             0,
             0,
             0,
             0,
             634,
             0,
             0,
             0,
             0,
             0,
             1,
             0,
             1,
             12,
             0,
             16,
             0,
             0,
             0,
             0,
             0,
             3,
             0,
             28,
             0,
             0,
             1,
             62,
             0,
             122,
             0,
             0,
             0,
             1,
             0,
             0,
             0,
             22,
             0,
             0,
             0,
             0,
             0,
             0,
             0,
             0,
             1,
             0,
             0,
             0,
             0,
             0,
             0,
             0,
             0,
             0,
             0,
             3,
             0,
             0,
             0,
             0,
             2,
             0,
             0,
             0,
             0,
             85,
             0,
             0,
             0,
             2,
             1,
             1,
             0,
             35,
             0,
             0,
             0,
             15,
             0,
             13,
             16
            ],
            "sizemode": "area",
            "sizeref": 202.89
           },
           "name": "",
           "showlegend": false,
           "type": "scattergeo"
          }
         ],
         "name": "2020-02-22 00:00:00"
        },
        {
         "data": [
          {
           "customdata": [
            [
             0
            ],
            [
             0
            ],
            [
             0
            ],
            [
             0
            ],
            [
             0
            ],
            [
             0
            ],
            [
             22
            ],
            [
             0
            ],
            [
             0
            ],
            [
             0
            ],
            [
             0
            ],
            [
             0
            ],
            [
             1
            ],
            [
             0
            ],
            [
             0
            ],
            [
             0
            ],
            [
             0
            ],
            [
             0
            ],
            [
             0
            ],
            [
             0
            ],
            [
             1
            ],
            [
             0
            ],
            [
             9
            ],
            [
             0
            ],
            [
             77022
            ],
            [
             0
            ],
            [
             0
            ],
            [
             0
            ],
            [
             0
            ],
            [
             0
            ],
            [
             691
            ],
            [
             0
            ],
            [
             0
            ],
            [
             0
            ],
            [
             0
            ],
            [
             0
            ],
            [
             1
            ],
            [
             0
            ],
            [
             1
            ],
            [
             12
            ],
            [
             0
            ],
            [
             16
            ],
            [
             0
            ],
            [
             0
            ],
            [
             0
            ],
            [
             0
            ],
            [
             0
            ],
            [
             3
            ],
            [
             0
            ],
            [
             43
            ],
            [
             0
            ],
            [
             0
            ],
            [
             1
            ],
            [
             155
            ],
            [
             0
            ],
            [
             147
            ],
            [
             0
            ],
            [
             0
            ],
            [
             0
            ],
            [
             1
            ],
            [
             0
            ],
            [
             0
            ],
            [
             0
            ],
            [
             22
            ],
            [
             0
            ],
            [
             0
            ],
            [
             0
            ],
            [
             0
            ],
            [
             0
            ],
            [
             0
            ],
            [
             0
            ],
            [
             0
            ],
            [
             1
            ],
            [
             0
            ],
            [
             0
            ],
            [
             0
            ],
            [
             0
            ],
            [
             0
            ],
            [
             0
            ],
            [
             0
            ],
            [
             0
            ],
            [
             0
            ],
            [
             0
            ],
            [
             3
            ],
            [
             0
            ],
            [
             0
            ],
            [
             0
            ],
            [
             0
            ],
            [
             2
            ],
            [
             0
            ],
            [
             0
            ],
            [
             0
            ],
            [
             0
            ],
            [
             89
            ],
            [
             0
            ],
            [
             0
            ],
            [
             0
            ],
            [
             2
            ],
            [
             1
            ],
            [
             1
            ],
            [
             0
            ],
            [
             35
            ],
            [
             0
            ],
            [
             0
            ],
            [
             0
            ],
            [
             15
            ],
            [
             0
            ],
            [
             13
            ],
            [
             16
            ]
           ],
           "geo": "geo",
           "hoverlabel": {
            "namelength": 0
           },
           "hovertemplate": "Date=2020-02-23 00:00:00<br>Confirmed=%{customdata[0]}<br>Country/Region=%{location}",
           "legendgroup": "",
           "locationmode": "country names",
           "locations": [
            "Afghanistan",
            "Albania",
            "Algeria",
            "Andorra",
            "Argentina",
            "Armenia",
            "Australia",
            "Austria",
            "Azerbaijan",
            "Bahrain",
            "Bangladesh",
            "Belarus",
            "Belgium",
            "Bhutan",
            "Bolivia",
            "Bosnia and Herzegovina",
            "Brazil",
            "Brunei",
            "Bulgaria",
            "Burkina Faso",
            "Cambodia",
            "Cameroon",
            "Canada",
            "Chile",
            "China",
            "Colombia",
            "Congo (Kinshasa)",
            "Costa Rica",
            "Cote d'Ivoire",
            "Croatia",
            "Cruise Ship",
            "Cuba",
            "Cyprus",
            "Denmark",
            "Dominican Republic",
            "Ecuador",
            "Egypt",
            "Estonia",
            "Finland",
            "France",
            "Georgia",
            "Germany",
            "Greece",
            "Guyana",
            "Honduras",
            "Hungary",
            "Iceland",
            "India",
            "Indonesia",
            "Iran",
            "Iraq",
            "Ireland",
            "Israel",
            "Italy",
            "Jamaica",
            "Japan",
            "Jordan",
            "Kuwait",
            "Latvia",
            "Lebanon",
            "Liechtenstein",
            "Lithuania",
            "Luxembourg",
            "Malaysia",
            "Maldives",
            "Malta",
            "Martinique",
            "Mexico",
            "Moldova",
            "Monaco",
            "Mongolia",
            "Morocco",
            "Nepal",
            "Netherlands",
            "New Zealand",
            "Nigeria",
            "North Macedonia",
            "Norway",
            "Oman",
            "Pakistan",
            "Panama",
            "Paraguay",
            "Peru",
            "Philippines",
            "Poland",
            "Portugal",
            "Qatar",
            "Romania",
            "Russia",
            "San Marino",
            "Saudi Arabia",
            "Senegal",
            "Serbia",
            "Singapore",
            "Slovakia",
            "Slovenia",
            "South Africa",
            "Spain",
            "Sri Lanka",
            "Sweden",
            "Switzerland",
            "Thailand",
            "Togo",
            "Tunisia",
            "Turkey",
            "US",
            "Ukraine",
            "United Arab Emirates",
            "Vietnam"
           ],
           "marker": {
            "color": "#636efa",
            "size": [
             0,
             0,
             0,
             0,
             0,
             0,
             22,
             0,
             0,
             0,
             0,
             0,
             1,
             0,
             0,
             0,
             0,
             0,
             0,
             0,
             1,
             0,
             9,
             0,
             77022,
             0,
             0,
             0,
             0,
             0,
             691,
             0,
             0,
             0,
             0,
             0,
             1,
             0,
             1,
             12,
             0,
             16,
             0,
             0,
             0,
             0,
             0,
             3,
             0,
             43,
             0,
             0,
             1,
             155,
             0,
             147,
             0,
             0,
             0,
             1,
             0,
             0,
             0,
             22,
             0,
             0,
             0,
             0,
             0,
             0,
             0,
             0,
             1,
             0,
             0,
             0,
             0,
             0,
             0,
             0,
             0,
             0,
             0,
             3,
             0,
             0,
             0,
             0,
             2,
             0,
             0,
             0,
             0,
             89,
             0,
             0,
             0,
             2,
             1,
             1,
             0,
             35,
             0,
             0,
             0,
             15,
             0,
             13,
             16
            ],
            "sizemode": "area",
            "sizeref": 202.89
           },
           "name": "",
           "showlegend": false,
           "type": "scattergeo"
          }
         ],
         "name": "2020-02-23 00:00:00"
        },
        {
         "data": [
          {
           "customdata": [
            [
             1
            ],
            [
             0
            ],
            [
             0
            ],
            [
             0
            ],
            [
             0
            ],
            [
             0
            ],
            [
             22
            ],
            [
             0
            ],
            [
             0
            ],
            [
             1
            ],
            [
             0
            ],
            [
             0
            ],
            [
             1
            ],
            [
             0
            ],
            [
             0
            ],
            [
             0
            ],
            [
             0
            ],
            [
             0
            ],
            [
             0
            ],
            [
             0
            ],
            [
             1
            ],
            [
             0
            ],
            [
             10
            ],
            [
             0
            ],
            [
             77241
            ],
            [
             0
            ],
            [
             0
            ],
            [
             0
            ],
            [
             0
            ],
            [
             0
            ],
            [
             691
            ],
            [
             0
            ],
            [
             0
            ],
            [
             0
            ],
            [
             0
            ],
            [
             0
            ],
            [
             1
            ],
            [
             0
            ],
            [
             1
            ],
            [
             12
            ],
            [
             0
            ],
            [
             16
            ],
            [
             0
            ],
            [
             0
            ],
            [
             0
            ],
            [
             0
            ],
            [
             0
            ],
            [
             3
            ],
            [
             0
            ],
            [
             61
            ],
            [
             1
            ],
            [
             0
            ],
            [
             1
            ],
            [
             229
            ],
            [
             0
            ],
            [
             159
            ],
            [
             0
            ],
            [
             1
            ],
            [
             0
            ],
            [
             1
            ],
            [
             0
            ],
            [
             0
            ],
            [
             0
            ],
            [
             22
            ],
            [
             0
            ],
            [
             0
            ],
            [
             0
            ],
            [
             0
            ],
            [
             0
            ],
            [
             0
            ],
            [
             0
            ],
            [
             0
            ],
            [
             1
            ],
            [
             0
            ],
            [
             0
            ],
            [
             0
            ],
            [
             0
            ],
            [
             0
            ],
            [
             2
            ],
            [
             0
            ],
            [
             0
            ],
            [
             0
            ],
            [
             0
            ],
            [
             3
            ],
            [
             0
            ],
            [
             0
            ],
            [
             0
            ],
            [
             0
            ],
            [
             2
            ],
            [
             0
            ],
            [
             0
            ],
            [
             0
            ],
            [
             0
            ],
            [
             89
            ],
            [
             0
            ],
            [
             0
            ],
            [
             0
            ],
            [
             2
            ],
            [
             1
            ],
            [
             1
            ],
            [
             0
            ],
            [
             35
            ],
            [
             0
            ],
            [
             0
            ],
            [
             0
            ],
            [
             51
            ],
            [
             0
            ],
            [
             13
            ],
            [
             16
            ]
           ],
           "geo": "geo",
           "hoverlabel": {
            "namelength": 0
           },
           "hovertemplate": "Date=2020-02-24 00:00:00<br>Confirmed=%{customdata[0]}<br>Country/Region=%{location}",
           "legendgroup": "",
           "locationmode": "country names",
           "locations": [
            "Afghanistan",
            "Albania",
            "Algeria",
            "Andorra",
            "Argentina",
            "Armenia",
            "Australia",
            "Austria",
            "Azerbaijan",
            "Bahrain",
            "Bangladesh",
            "Belarus",
            "Belgium",
            "Bhutan",
            "Bolivia",
            "Bosnia and Herzegovina",
            "Brazil",
            "Brunei",
            "Bulgaria",
            "Burkina Faso",
            "Cambodia",
            "Cameroon",
            "Canada",
            "Chile",
            "China",
            "Colombia",
            "Congo (Kinshasa)",
            "Costa Rica",
            "Cote d'Ivoire",
            "Croatia",
            "Cruise Ship",
            "Cuba",
            "Cyprus",
            "Denmark",
            "Dominican Republic",
            "Ecuador",
            "Egypt",
            "Estonia",
            "Finland",
            "France",
            "Georgia",
            "Germany",
            "Greece",
            "Guyana",
            "Honduras",
            "Hungary",
            "Iceland",
            "India",
            "Indonesia",
            "Iran",
            "Iraq",
            "Ireland",
            "Israel",
            "Italy",
            "Jamaica",
            "Japan",
            "Jordan",
            "Kuwait",
            "Latvia",
            "Lebanon",
            "Liechtenstein",
            "Lithuania",
            "Luxembourg",
            "Malaysia",
            "Maldives",
            "Malta",
            "Martinique",
            "Mexico",
            "Moldova",
            "Monaco",
            "Mongolia",
            "Morocco",
            "Nepal",
            "Netherlands",
            "New Zealand",
            "Nigeria",
            "North Macedonia",
            "Norway",
            "Oman",
            "Pakistan",
            "Panama",
            "Paraguay",
            "Peru",
            "Philippines",
            "Poland",
            "Portugal",
            "Qatar",
            "Romania",
            "Russia",
            "San Marino",
            "Saudi Arabia",
            "Senegal",
            "Serbia",
            "Singapore",
            "Slovakia",
            "Slovenia",
            "South Africa",
            "Spain",
            "Sri Lanka",
            "Sweden",
            "Switzerland",
            "Thailand",
            "Togo",
            "Tunisia",
            "Turkey",
            "US",
            "Ukraine",
            "United Arab Emirates",
            "Vietnam"
           ],
           "marker": {
            "color": "#636efa",
            "size": [
             1,
             0,
             0,
             0,
             0,
             0,
             22,
             0,
             0,
             1,
             0,
             0,
             1,
             0,
             0,
             0,
             0,
             0,
             0,
             0,
             1,
             0,
             10,
             0,
             77241,
             0,
             0,
             0,
             0,
             0,
             691,
             0,
             0,
             0,
             0,
             0,
             1,
             0,
             1,
             12,
             0,
             16,
             0,
             0,
             0,
             0,
             0,
             3,
             0,
             61,
             1,
             0,
             1,
             229,
             0,
             159,
             0,
             1,
             0,
             1,
             0,
             0,
             0,
             22,
             0,
             0,
             0,
             0,
             0,
             0,
             0,
             0,
             1,
             0,
             0,
             0,
             0,
             0,
             2,
             0,
             0,
             0,
             0,
             3,
             0,
             0,
             0,
             0,
             2,
             0,
             0,
             0,
             0,
             89,
             0,
             0,
             0,
             2,
             1,
             1,
             0,
             35,
             0,
             0,
             0,
             51,
             0,
             13,
             16
            ],
            "sizemode": "area",
            "sizeref": 202.89
           },
           "name": "",
           "showlegend": false,
           "type": "scattergeo"
          }
         ],
         "name": "2020-02-24 00:00:00"
        },
        {
         "data": [
          {
           "customdata": [
            [
             1
            ],
            [
             0
            ],
            [
             1
            ],
            [
             0
            ],
            [
             0
            ],
            [
             0
            ],
            [
             22
            ],
            [
             2
            ],
            [
             0
            ],
            [
             23
            ],
            [
             0
            ],
            [
             0
            ],
            [
             1
            ],
            [
             0
            ],
            [
             0
            ],
            [
             0
            ],
            [
             0
            ],
            [
             0
            ],
            [
             0
            ],
            [
             0
            ],
            [
             1
            ],
            [
             0
            ],
            [
             11
            ],
            [
             0
            ],
            [
             77754
            ],
            [
             0
            ],
            [
             0
            ],
            [
             0
            ],
            [
             0
            ],
            [
             1
            ],
            [
             691
            ],
            [
             0
            ],
            [
             0
            ],
            [
             0
            ],
            [
             0
            ],
            [
             0
            ],
            [
             1
            ],
            [
             0
            ],
            [
             1
            ],
            [
             14
            ],
            [
             0
            ],
            [
             17
            ],
            [
             0
            ],
            [
             0
            ],
            [
             0
            ],
            [
             0
            ],
            [
             0
            ],
            [
             3
            ],
            [
             0
            ],
            [
             95
            ],
            [
             1
            ],
            [
             0
            ],
            [
             1
            ],
            [
             322
            ],
            [
             0
            ],
            [
             170
            ],
            [
             0
            ],
            [
             11
            ],
            [
             0
            ],
            [
             1
            ],
            [
             0
            ],
            [
             0
            ],
            [
             0
            ],
            [
             22
            ],
            [
             0
            ],
            [
             0
            ],
            [
             0
            ],
            [
             0
            ],
            [
             0
            ],
            [
             0
            ],
            [
             0
            ],
            [
             0
            ],
            [
             1
            ],
            [
             0
            ],
            [
             0
            ],
            [
             0
            ],
            [
             0
            ],
            [
             0
            ],
            [
             2
            ],
            [
             0
            ],
            [
             0
            ],
            [
             0
            ],
            [
             0
            ],
            [
             3
            ],
            [
             0
            ],
            [
             0
            ],
            [
             0
            ],
            [
             0
            ],
            [
             2
            ],
            [
             0
            ],
            [
             0
            ],
            [
             0
            ],
            [
             0
            ],
            [
             91
            ],
            [
             0
            ],
            [
             0
            ],
            [
             0
            ],
            [
             6
            ],
            [
             1
            ],
            [
             1
            ],
            [
             1
            ],
            [
             37
            ],
            [
             0
            ],
            [
             0
            ],
            [
             0
            ],
            [
             51
            ],
            [
             0
            ],
            [
             13
            ],
            [
             16
            ]
           ],
           "geo": "geo",
           "hoverlabel": {
            "namelength": 0
           },
           "hovertemplate": "Date=2020-02-25 00:00:00<br>Confirmed=%{customdata[0]}<br>Country/Region=%{location}",
           "legendgroup": "",
           "locationmode": "country names",
           "locations": [
            "Afghanistan",
            "Albania",
            "Algeria",
            "Andorra",
            "Argentina",
            "Armenia",
            "Australia",
            "Austria",
            "Azerbaijan",
            "Bahrain",
            "Bangladesh",
            "Belarus",
            "Belgium",
            "Bhutan",
            "Bolivia",
            "Bosnia and Herzegovina",
            "Brazil",
            "Brunei",
            "Bulgaria",
            "Burkina Faso",
            "Cambodia",
            "Cameroon",
            "Canada",
            "Chile",
            "China",
            "Colombia",
            "Congo (Kinshasa)",
            "Costa Rica",
            "Cote d'Ivoire",
            "Croatia",
            "Cruise Ship",
            "Cuba",
            "Cyprus",
            "Denmark",
            "Dominican Republic",
            "Ecuador",
            "Egypt",
            "Estonia",
            "Finland",
            "France",
            "Georgia",
            "Germany",
            "Greece",
            "Guyana",
            "Honduras",
            "Hungary",
            "Iceland",
            "India",
            "Indonesia",
            "Iran",
            "Iraq",
            "Ireland",
            "Israel",
            "Italy",
            "Jamaica",
            "Japan",
            "Jordan",
            "Kuwait",
            "Latvia",
            "Lebanon",
            "Liechtenstein",
            "Lithuania",
            "Luxembourg",
            "Malaysia",
            "Maldives",
            "Malta",
            "Martinique",
            "Mexico",
            "Moldova",
            "Monaco",
            "Mongolia",
            "Morocco",
            "Nepal",
            "Netherlands",
            "New Zealand",
            "Nigeria",
            "North Macedonia",
            "Norway",
            "Oman",
            "Pakistan",
            "Panama",
            "Paraguay",
            "Peru",
            "Philippines",
            "Poland",
            "Portugal",
            "Qatar",
            "Romania",
            "Russia",
            "San Marino",
            "Saudi Arabia",
            "Senegal",
            "Serbia",
            "Singapore",
            "Slovakia",
            "Slovenia",
            "South Africa",
            "Spain",
            "Sri Lanka",
            "Sweden",
            "Switzerland",
            "Thailand",
            "Togo",
            "Tunisia",
            "Turkey",
            "US",
            "Ukraine",
            "United Arab Emirates",
            "Vietnam"
           ],
           "marker": {
            "color": "#636efa",
            "size": [
             1,
             0,
             1,
             0,
             0,
             0,
             22,
             2,
             0,
             23,
             0,
             0,
             1,
             0,
             0,
             0,
             0,
             0,
             0,
             0,
             1,
             0,
             11,
             0,
             77754,
             0,
             0,
             0,
             0,
             1,
             691,
             0,
             0,
             0,
             0,
             0,
             1,
             0,
             1,
             14,
             0,
             17,
             0,
             0,
             0,
             0,
             0,
             3,
             0,
             95,
             1,
             0,
             1,
             322,
             0,
             170,
             0,
             11,
             0,
             1,
             0,
             0,
             0,
             22,
             0,
             0,
             0,
             0,
             0,
             0,
             0,
             0,
             1,
             0,
             0,
             0,
             0,
             0,
             2,
             0,
             0,
             0,
             0,
             3,
             0,
             0,
             0,
             0,
             2,
             0,
             0,
             0,
             0,
             91,
             0,
             0,
             0,
             6,
             1,
             1,
             1,
             37,
             0,
             0,
             0,
             51,
             0,
             13,
             16
            ],
            "sizemode": "area",
            "sizeref": 202.89
           },
           "name": "",
           "showlegend": false,
           "type": "scattergeo"
          }
         ],
         "name": "2020-02-25 00:00:00"
        },
        {
         "data": [
          {
           "customdata": [
            [
             1
            ],
            [
             0
            ],
            [
             1
            ],
            [
             0
            ],
            [
             0
            ],
            [
             0
            ],
            [
             22
            ],
            [
             2
            ],
            [
             0
            ],
            [
             33
            ],
            [
             0
            ],
            [
             0
            ],
            [
             1
            ],
            [
             0
            ],
            [
             0
            ],
            [
             0
            ],
            [
             1
            ],
            [
             0
            ],
            [
             0
            ],
            [
             0
            ],
            [
             1
            ],
            [
             0
            ],
            [
             11
            ],
            [
             0
            ],
            [
             78166
            ],
            [
             0
            ],
            [
             0
            ],
            [
             0
            ],
            [
             0
            ],
            [
             3
            ],
            [
             705
            ],
            [
             0
            ],
            [
             0
            ],
            [
             0
            ],
            [
             0
            ],
            [
             0
            ],
            [
             1
            ],
            [
             0
            ],
            [
             2
            ],
            [
             18
            ],
            [
             1
            ],
            [
             27
            ],
            [
             1
            ],
            [
             0
            ],
            [
             0
            ],
            [
             0
            ],
            [
             0
            ],
            [
             3
            ],
            [
             0
            ],
            [
             139
            ],
            [
             5
            ],
            [
             0
            ],
            [
             2
            ],
            [
             453
            ],
            [
             0
            ],
            [
             189
            ],
            [
             0
            ],
            [
             26
            ],
            [
             0
            ],
            [
             2
            ],
            [
             0
            ],
            [
             0
            ],
            [
             0
            ],
            [
             22
            ],
            [
             0
            ],
            [
             0
            ],
            [
             0
            ],
            [
             0
            ],
            [
             0
            ],
            [
             0
            ],
            [
             0
            ],
            [
             0
            ],
            [
             1
            ],
            [
             0
            ],
            [
             0
            ],
            [
             0
            ],
            [
             1
            ],
            [
             1
            ],
            [
             4
            ],
            [
             2
            ],
            [
             0
            ],
            [
             0
            ],
            [
             0
            ],
            [
             3
            ],
            [
             0
            ],
            [
             0
            ],
            [
             0
            ],
            [
             1
            ],
            [
             2
            ],
            [
             0
            ],
            [
             0
            ],
            [
             0
            ],
            [
             0
            ],
            [
             93
            ],
            [
             0
            ],
            [
             0
            ],
            [
             0
            ],
            [
             13
            ],
            [
             1
            ],
            [
             2
            ],
            [
             1
            ],
            [
             40
            ],
            [
             0
            ],
            [
             0
            ],
            [
             0
            ],
            [
             57
            ],
            [
             0
            ],
            [
             13
            ],
            [
             16
            ]
           ],
           "geo": "geo",
           "hoverlabel": {
            "namelength": 0
           },
           "hovertemplate": "Date=2020-02-26 00:00:00<br>Confirmed=%{customdata[0]}<br>Country/Region=%{location}",
           "legendgroup": "",
           "locationmode": "country names",
           "locations": [
            "Afghanistan",
            "Albania",
            "Algeria",
            "Andorra",
            "Argentina",
            "Armenia",
            "Australia",
            "Austria",
            "Azerbaijan",
            "Bahrain",
            "Bangladesh",
            "Belarus",
            "Belgium",
            "Bhutan",
            "Bolivia",
            "Bosnia and Herzegovina",
            "Brazil",
            "Brunei",
            "Bulgaria",
            "Burkina Faso",
            "Cambodia",
            "Cameroon",
            "Canada",
            "Chile",
            "China",
            "Colombia",
            "Congo (Kinshasa)",
            "Costa Rica",
            "Cote d'Ivoire",
            "Croatia",
            "Cruise Ship",
            "Cuba",
            "Cyprus",
            "Denmark",
            "Dominican Republic",
            "Ecuador",
            "Egypt",
            "Estonia",
            "Finland",
            "France",
            "Georgia",
            "Germany",
            "Greece",
            "Guyana",
            "Honduras",
            "Hungary",
            "Iceland",
            "India",
            "Indonesia",
            "Iran",
            "Iraq",
            "Ireland",
            "Israel",
            "Italy",
            "Jamaica",
            "Japan",
            "Jordan",
            "Kuwait",
            "Latvia",
            "Lebanon",
            "Liechtenstein",
            "Lithuania",
            "Luxembourg",
            "Malaysia",
            "Maldives",
            "Malta",
            "Martinique",
            "Mexico",
            "Moldova",
            "Monaco",
            "Mongolia",
            "Morocco",
            "Nepal",
            "Netherlands",
            "New Zealand",
            "Nigeria",
            "North Macedonia",
            "Norway",
            "Oman",
            "Pakistan",
            "Panama",
            "Paraguay",
            "Peru",
            "Philippines",
            "Poland",
            "Portugal",
            "Qatar",
            "Romania",
            "Russia",
            "San Marino",
            "Saudi Arabia",
            "Senegal",
            "Serbia",
            "Singapore",
            "Slovakia",
            "Slovenia",
            "South Africa",
            "Spain",
            "Sri Lanka",
            "Sweden",
            "Switzerland",
            "Thailand",
            "Togo",
            "Tunisia",
            "Turkey",
            "US",
            "Ukraine",
            "United Arab Emirates",
            "Vietnam"
           ],
           "marker": {
            "color": "#636efa",
            "size": [
             1,
             0,
             1,
             0,
             0,
             0,
             22,
             2,
             0,
             33,
             0,
             0,
             1,
             0,
             0,
             0,
             1,
             0,
             0,
             0,
             1,
             0,
             11,
             0,
             78166,
             0,
             0,
             0,
             0,
             3,
             705,
             0,
             0,
             0,
             0,
             0,
             1,
             0,
             2,
             18,
             1,
             27,
             1,
             0,
             0,
             0,
             0,
             3,
             0,
             139,
             5,
             0,
             2,
             453,
             0,
             189,
             0,
             26,
             0,
             2,
             0,
             0,
             0,
             22,
             0,
             0,
             0,
             0,
             0,
             0,
             0,
             0,
             1,
             0,
             0,
             0,
             1,
             1,
             4,
             2,
             0,
             0,
             0,
             3,
             0,
             0,
             0,
             1,
             2,
             0,
             0,
             0,
             0,
             93,
             0,
             0,
             0,
             13,
             1,
             2,
             1,
             40,
             0,
             0,
             0,
             57,
             0,
             13,
             16
            ],
            "sizemode": "area",
            "sizeref": 202.89
           },
           "name": "",
           "showlegend": false,
           "type": "scattergeo"
          }
         ],
         "name": "2020-02-26 00:00:00"
        },
        {
         "data": [
          {
           "customdata": [
            [
             1
            ],
            [
             0
            ],
            [
             1
            ],
            [
             0
            ],
            [
             0
            ],
            [
             0
            ],
            [
             23
            ],
            [
             3
            ],
            [
             0
            ],
            [
             33
            ],
            [
             0
            ],
            [
             0
            ],
            [
             1
            ],
            [
             0
            ],
            [
             0
            ],
            [
             0
            ],
            [
             1
            ],
            [
             0
            ],
            [
             0
            ],
            [
             0
            ],
            [
             1
            ],
            [
             0
            ],
            [
             13
            ],
            [
             0
            ],
            [
             78600
            ],
            [
             0
            ],
            [
             0
            ],
            [
             0
            ],
            [
             0
            ],
            [
             3
            ],
            [
             705
            ],
            [
             0
            ],
            [
             0
            ],
            [
             1
            ],
            [
             0
            ],
            [
             0
            ],
            [
             1
            ],
            [
             1
            ],
            [
             2
            ],
            [
             38
            ],
            [
             1
            ],
            [
             46
            ],
            [
             3
            ],
            [
             0
            ],
            [
             0
            ],
            [
             0
            ],
            [
             0
            ],
            [
             3
            ],
            [
             0
            ],
            [
             245
            ],
            [
             7
            ],
            [
             0
            ],
            [
             3
            ],
            [
             655
            ],
            [
             0
            ],
            [
             214
            ],
            [
             0
            ],
            [
             43
            ],
            [
             0
            ],
            [
             2
            ],
            [
             0
            ],
            [
             0
            ],
            [
             0
            ],
            [
             23
            ],
            [
             0
            ],
            [
             0
            ],
            [
             0
            ],
            [
             0
            ],
            [
             0
            ],
            [
             0
            ],
            [
             0
            ],
            [
             0
            ],
            [
             1
            ],
            [
             1
            ],
            [
             0
            ],
            [
             0
            ],
            [
             1
            ],
            [
             1
            ],
            [
             4
            ],
            [
             2
            ],
            [
             0
            ],
            [
             0
            ],
            [
             0
            ],
            [
             3
            ],
            [
             0
            ],
            [
             0
            ],
            [
             0
            ],
            [
             1
            ],
            [
             2
            ],
            [
             1
            ],
            [
             0
            ],
            [
             0
            ],
            [
             0
            ],
            [
             93
            ],
            [
             0
            ],
            [
             0
            ],
            [
             0
            ],
            [
             15
            ],
            [
             1
            ],
            [
             7
            ],
            [
             8
            ],
            [
             40
            ],
            [
             0
            ],
            [
             0
            ],
            [
             0
            ],
            [
             58
            ],
            [
             0
            ],
            [
             13
            ],
            [
             16
            ]
           ],
           "geo": "geo",
           "hoverlabel": {
            "namelength": 0
           },
           "hovertemplate": "Date=2020-02-27 00:00:00<br>Confirmed=%{customdata[0]}<br>Country/Region=%{location}",
           "legendgroup": "",
           "locationmode": "country names",
           "locations": [
            "Afghanistan",
            "Albania",
            "Algeria",
            "Andorra",
            "Argentina",
            "Armenia",
            "Australia",
            "Austria",
            "Azerbaijan",
            "Bahrain",
            "Bangladesh",
            "Belarus",
            "Belgium",
            "Bhutan",
            "Bolivia",
            "Bosnia and Herzegovina",
            "Brazil",
            "Brunei",
            "Bulgaria",
            "Burkina Faso",
            "Cambodia",
            "Cameroon",
            "Canada",
            "Chile",
            "China",
            "Colombia",
            "Congo (Kinshasa)",
            "Costa Rica",
            "Cote d'Ivoire",
            "Croatia",
            "Cruise Ship",
            "Cuba",
            "Cyprus",
            "Denmark",
            "Dominican Republic",
            "Ecuador",
            "Egypt",
            "Estonia",
            "Finland",
            "France",
            "Georgia",
            "Germany",
            "Greece",
            "Guyana",
            "Honduras",
            "Hungary",
            "Iceland",
            "India",
            "Indonesia",
            "Iran",
            "Iraq",
            "Ireland",
            "Israel",
            "Italy",
            "Jamaica",
            "Japan",
            "Jordan",
            "Kuwait",
            "Latvia",
            "Lebanon",
            "Liechtenstein",
            "Lithuania",
            "Luxembourg",
            "Malaysia",
            "Maldives",
            "Malta",
            "Martinique",
            "Mexico",
            "Moldova",
            "Monaco",
            "Mongolia",
            "Morocco",
            "Nepal",
            "Netherlands",
            "New Zealand",
            "Nigeria",
            "North Macedonia",
            "Norway",
            "Oman",
            "Pakistan",
            "Panama",
            "Paraguay",
            "Peru",
            "Philippines",
            "Poland",
            "Portugal",
            "Qatar",
            "Romania",
            "Russia",
            "San Marino",
            "Saudi Arabia",
            "Senegal",
            "Serbia",
            "Singapore",
            "Slovakia",
            "Slovenia",
            "South Africa",
            "Spain",
            "Sri Lanka",
            "Sweden",
            "Switzerland",
            "Thailand",
            "Togo",
            "Tunisia",
            "Turkey",
            "US",
            "Ukraine",
            "United Arab Emirates",
            "Vietnam"
           ],
           "marker": {
            "color": "#636efa",
            "size": [
             1,
             0,
             1,
             0,
             0,
             0,
             23,
             3,
             0,
             33,
             0,
             0,
             1,
             0,
             0,
             0,
             1,
             0,
             0,
             0,
             1,
             0,
             13,
             0,
             78600,
             0,
             0,
             0,
             0,
             3,
             705,
             0,
             0,
             1,
             0,
             0,
             1,
             1,
             2,
             38,
             1,
             46,
             3,
             0,
             0,
             0,
             0,
             3,
             0,
             245,
             7,
             0,
             3,
             655,
             0,
             214,
             0,
             43,
             0,
             2,
             0,
             0,
             0,
             23,
             0,
             0,
             0,
             0,
             0,
             0,
             0,
             0,
             1,
             1,
             0,
             0,
             1,
             1,
             4,
             2,
             0,
             0,
             0,
             3,
             0,
             0,
             0,
             1,
             2,
             1,
             0,
             0,
             0,
             93,
             0,
             0,
             0,
             15,
             1,
             7,
             8,
             40,
             0,
             0,
             0,
             58,
             0,
             13,
             16
            ],
            "sizemode": "area",
            "sizeref": 202.89
           },
           "name": "",
           "showlegend": false,
           "type": "scattergeo"
          }
         ],
         "name": "2020-02-27 00:00:00"
        },
        {
         "data": [
          {
           "customdata": [
            [
             1
            ],
            [
             0
            ],
            [
             1
            ],
            [
             0
            ],
            [
             0
            ],
            [
             0
            ],
            [
             23
            ],
            [
             3
            ],
            [
             0
            ],
            [
             36
            ],
            [
             0
            ],
            [
             1
            ],
            [
             1
            ],
            [
             0
            ],
            [
             0
            ],
            [
             0
            ],
            [
             1
            ],
            [
             0
            ],
            [
             0
            ],
            [
             0
            ],
            [
             1
            ],
            [
             0
            ],
            [
             14
            ],
            [
             0
            ],
            [
             78928
            ],
            [
             0
            ],
            [
             0
            ],
            [
             0
            ],
            [
             0
            ],
            [
             5
            ],
            [
             705
            ],
            [
             0
            ],
            [
             0
            ],
            [
             1
            ],
            [
             0
            ],
            [
             0
            ],
            [
             1
            ],
            [
             1
            ],
            [
             2
            ],
            [
             57
            ],
            [
             1
            ],
            [
             48
            ],
            [
             4
            ],
            [
             0
            ],
            [
             0
            ],
            [
             0
            ],
            [
             1
            ],
            [
             3
            ],
            [
             0
            ],
            [
             388
            ],
            [
             7
            ],
            [
             0
            ],
            [
             4
            ],
            [
             888
            ],
            [
             0
            ],
            [
             228
            ],
            [
             0
            ],
            [
             45
            ],
            [
             0
            ],
            [
             2
            ],
            [
             0
            ],
            [
             1
            ],
            [
             0
            ],
            [
             23
            ],
            [
             0
            ],
            [
             0
            ],
            [
             0
            ],
            [
             1
            ],
            [
             0
            ],
            [
             0
            ],
            [
             0
            ],
            [
             0
            ],
            [
             1
            ],
            [
             1
            ],
            [
             1
            ],
            [
             1
            ],
            [
             1
            ],
            [
             6
            ],
            [
             4
            ],
            [
             2
            ],
            [
             0
            ],
            [
             0
            ],
            [
             0
            ],
            [
             3
            ],
            [
             0
            ],
            [
             0
            ],
            [
             0
            ],
            [
             3
            ],
            [
             2
            ],
            [
             1
            ],
            [
             0
            ],
            [
             0
            ],
            [
             0
            ],
            [
             93
            ],
            [
             0
            ],
            [
             0
            ],
            [
             0
            ],
            [
             32
            ],
            [
             1
            ],
            [
             7
            ],
            [
             8
            ],
            [
             41
            ],
            [
             0
            ],
            [
             0
            ],
            [
             0
            ],
            [
             60
            ],
            [
             0
            ],
            [
             19
            ],
            [
             16
            ]
           ],
           "geo": "geo",
           "hoverlabel": {
            "namelength": 0
           },
           "hovertemplate": "Date=2020-02-28 00:00:00<br>Confirmed=%{customdata[0]}<br>Country/Region=%{location}",
           "legendgroup": "",
           "locationmode": "country names",
           "locations": [
            "Afghanistan",
            "Albania",
            "Algeria",
            "Andorra",
            "Argentina",
            "Armenia",
            "Australia",
            "Austria",
            "Azerbaijan",
            "Bahrain",
            "Bangladesh",
            "Belarus",
            "Belgium",
            "Bhutan",
            "Bolivia",
            "Bosnia and Herzegovina",
            "Brazil",
            "Brunei",
            "Bulgaria",
            "Burkina Faso",
            "Cambodia",
            "Cameroon",
            "Canada",
            "Chile",
            "China",
            "Colombia",
            "Congo (Kinshasa)",
            "Costa Rica",
            "Cote d'Ivoire",
            "Croatia",
            "Cruise Ship",
            "Cuba",
            "Cyprus",
            "Denmark",
            "Dominican Republic",
            "Ecuador",
            "Egypt",
            "Estonia",
            "Finland",
            "France",
            "Georgia",
            "Germany",
            "Greece",
            "Guyana",
            "Honduras",
            "Hungary",
            "Iceland",
            "India",
            "Indonesia",
            "Iran",
            "Iraq",
            "Ireland",
            "Israel",
            "Italy",
            "Jamaica",
            "Japan",
            "Jordan",
            "Kuwait",
            "Latvia",
            "Lebanon",
            "Liechtenstein",
            "Lithuania",
            "Luxembourg",
            "Malaysia",
            "Maldives",
            "Malta",
            "Martinique",
            "Mexico",
            "Moldova",
            "Monaco",
            "Mongolia",
            "Morocco",
            "Nepal",
            "Netherlands",
            "New Zealand",
            "Nigeria",
            "North Macedonia",
            "Norway",
            "Oman",
            "Pakistan",
            "Panama",
            "Paraguay",
            "Peru",
            "Philippines",
            "Poland",
            "Portugal",
            "Qatar",
            "Romania",
            "Russia",
            "San Marino",
            "Saudi Arabia",
            "Senegal",
            "Serbia",
            "Singapore",
            "Slovakia",
            "Slovenia",
            "South Africa",
            "Spain",
            "Sri Lanka",
            "Sweden",
            "Switzerland",
            "Thailand",
            "Togo",
            "Tunisia",
            "Turkey",
            "US",
            "Ukraine",
            "United Arab Emirates",
            "Vietnam"
           ],
           "marker": {
            "color": "#636efa",
            "size": [
             1,
             0,
             1,
             0,
             0,
             0,
             23,
             3,
             0,
             36,
             0,
             1,
             1,
             0,
             0,
             0,
             1,
             0,
             0,
             0,
             1,
             0,
             14,
             0,
             78928,
             0,
             0,
             0,
             0,
             5,
             705,
             0,
             0,
             1,
             0,
             0,
             1,
             1,
             2,
             57,
             1,
             48,
             4,
             0,
             0,
             0,
             1,
             3,
             0,
             388,
             7,
             0,
             4,
             888,
             0,
             228,
             0,
             45,
             0,
             2,
             0,
             1,
             0,
             23,
             0,
             0,
             0,
             1,
             0,
             0,
             0,
             0,
             1,
             1,
             1,
             1,
             1,
             6,
             4,
             2,
             0,
             0,
             0,
             3,
             0,
             0,
             0,
             3,
             2,
             1,
             0,
             0,
             0,
             93,
             0,
             0,
             0,
             32,
             1,
             7,
             8,
             41,
             0,
             0,
             0,
             60,
             0,
             19,
             16
            ],
            "sizemode": "area",
            "sizeref": 202.89
           },
           "name": "",
           "showlegend": false,
           "type": "scattergeo"
          }
         ],
         "name": "2020-02-28 00:00:00"
        },
        {
         "data": [
          {
           "customdata": [
            [
             1
            ],
            [
             0
            ],
            [
             1
            ],
            [
             0
            ],
            [
             0
            ],
            [
             0
            ],
            [
             25
            ],
            [
             9
            ],
            [
             0
            ],
            [
             41
            ],
            [
             0
            ],
            [
             1
            ],
            [
             1
            ],
            [
             0
            ],
            [
             0
            ],
            [
             0
            ],
            [
             2
            ],
            [
             0
            ],
            [
             0
            ],
            [
             0
            ],
            [
             1
            ],
            [
             0
            ],
            [
             20
            ],
            [
             0
            ],
            [
             79356
            ],
            [
             0
            ],
            [
             0
            ],
            [
             0
            ],
            [
             0
            ],
            [
             6
            ],
            [
             705
            ],
            [
             0
            ],
            [
             0
            ],
            [
             3
            ],
            [
             0
            ],
            [
             0
            ],
            [
             1
            ],
            [
             1
            ],
            [
             3
            ],
            [
             100
            ],
            [
             1
            ],
            [
             79
            ],
            [
             4
            ],
            [
             0
            ],
            [
             0
            ],
            [
             0
            ],
            [
             1
            ],
            [
             3
            ],
            [
             0
            ],
            [
             593
            ],
            [
             13
            ],
            [
             1
            ],
            [
             7
            ],
            [
             1128
            ],
            [
             0
            ],
            [
             241
            ],
            [
             0
            ],
            [
             45
            ],
            [
             0
            ],
            [
             4
            ],
            [
             0
            ],
            [
             1
            ],
            [
             1
            ],
            [
             25
            ],
            [
             0
            ],
            [
             0
            ],
            [
             0
            ],
            [
             4
            ],
            [
             0
            ],
            [
             1
            ],
            [
             0
            ],
            [
             0
            ],
            [
             1
            ],
            [
             6
            ],
            [
             1
            ],
            [
             1
            ],
            [
             1
            ],
            [
             15
            ],
            [
             6
            ],
            [
             4
            ],
            [
             0
            ],
            [
             0
            ],
            [
             0
            ],
            [
             3
            ],
            [
             0
            ],
            [
             0
            ],
            [
             1
            ],
            [
             3
            ],
            [
             2
            ],
            [
             1
            ],
            [
             0
            ],
            [
             0
            ],
            [
             0
            ],
            [
             102
            ],
            [
             0
            ],
            [
             0
            ],
            [
             0
            ],
            [
             45
            ],
            [
             1
            ],
            [
             12
            ],
            [
             18
            ],
            [
             42
            ],
            [
             0
            ],
            [
             0
            ],
            [
             0
            ],
            [
             68
            ],
            [
             0
            ],
            [
             21
            ],
            [
             16
            ]
           ],
           "geo": "geo",
           "hoverlabel": {
            "namelength": 0
           },
           "hovertemplate": "Date=2020-02-29 00:00:00<br>Confirmed=%{customdata[0]}<br>Country/Region=%{location}",
           "legendgroup": "",
           "locationmode": "country names",
           "locations": [
            "Afghanistan",
            "Albania",
            "Algeria",
            "Andorra",
            "Argentina",
            "Armenia",
            "Australia",
            "Austria",
            "Azerbaijan",
            "Bahrain",
            "Bangladesh",
            "Belarus",
            "Belgium",
            "Bhutan",
            "Bolivia",
            "Bosnia and Herzegovina",
            "Brazil",
            "Brunei",
            "Bulgaria",
            "Burkina Faso",
            "Cambodia",
            "Cameroon",
            "Canada",
            "Chile",
            "China",
            "Colombia",
            "Congo (Kinshasa)",
            "Costa Rica",
            "Cote d'Ivoire",
            "Croatia",
            "Cruise Ship",
            "Cuba",
            "Cyprus",
            "Denmark",
            "Dominican Republic",
            "Ecuador",
            "Egypt",
            "Estonia",
            "Finland",
            "France",
            "Georgia",
            "Germany",
            "Greece",
            "Guyana",
            "Honduras",
            "Hungary",
            "Iceland",
            "India",
            "Indonesia",
            "Iran",
            "Iraq",
            "Ireland",
            "Israel",
            "Italy",
            "Jamaica",
            "Japan",
            "Jordan",
            "Kuwait",
            "Latvia",
            "Lebanon",
            "Liechtenstein",
            "Lithuania",
            "Luxembourg",
            "Malaysia",
            "Maldives",
            "Malta",
            "Martinique",
            "Mexico",
            "Moldova",
            "Monaco",
            "Mongolia",
            "Morocco",
            "Nepal",
            "Netherlands",
            "New Zealand",
            "Nigeria",
            "North Macedonia",
            "Norway",
            "Oman",
            "Pakistan",
            "Panama",
            "Paraguay",
            "Peru",
            "Philippines",
            "Poland",
            "Portugal",
            "Qatar",
            "Romania",
            "Russia",
            "San Marino",
            "Saudi Arabia",
            "Senegal",
            "Serbia",
            "Singapore",
            "Slovakia",
            "Slovenia",
            "South Africa",
            "Spain",
            "Sri Lanka",
            "Sweden",
            "Switzerland",
            "Thailand",
            "Togo",
            "Tunisia",
            "Turkey",
            "US",
            "Ukraine",
            "United Arab Emirates",
            "Vietnam"
           ],
           "marker": {
            "color": "#636efa",
            "size": [
             1,
             0,
             1,
             0,
             0,
             0,
             25,
             9,
             0,
             41,
             0,
             1,
             1,
             0,
             0,
             0,
             2,
             0,
             0,
             0,
             1,
             0,
             20,
             0,
             79356,
             0,
             0,
             0,
             0,
             6,
             705,
             0,
             0,
             3,
             0,
             0,
             1,
             1,
             3,
             100,
             1,
             79,
             4,
             0,
             0,
             0,
             1,
             3,
             0,
             593,
             13,
             1,
             7,
             1128,
             0,
             241,
             0,
             45,
             0,
             4,
             0,
             1,
             1,
             25,
             0,
             0,
             0,
             4,
             0,
             1,
             0,
             0,
             1,
             6,
             1,
             1,
             1,
             15,
             6,
             4,
             0,
             0,
             0,
             3,
             0,
             0,
             1,
             3,
             2,
             1,
             0,
             0,
             0,
             102,
             0,
             0,
             0,
             45,
             1,
             12,
             18,
             42,
             0,
             0,
             0,
             68,
             0,
             21,
             16
            ],
            "sizemode": "area",
            "sizeref": 202.89
           },
           "name": "",
           "showlegend": false,
           "type": "scattergeo"
          }
         ],
         "name": "2020-02-29 00:00:00"
        },
        {
         "data": [
          {
           "customdata": [
            [
             1
            ],
            [
             0
            ],
            [
             1
            ],
            [
             0
            ],
            [
             0
            ],
            [
             1
            ],
            [
             27
            ],
            [
             14
            ],
            [
             3
            ],
            [
             47
            ],
            [
             0
            ],
            [
             1
            ],
            [
             2
            ],
            [
             0
            ],
            [
             0
            ],
            [
             0
            ],
            [
             2
            ],
            [
             0
            ],
            [
             0
            ],
            [
             0
            ],
            [
             1
            ],
            [
             0
            ],
            [
             24
            ],
            [
             0
            ],
            [
             79932
            ],
            [
             0
            ],
            [
             0
            ],
            [
             0
            ],
            [
             0
            ],
            [
             7
            ],
            [
             705
            ],
            [
             0
            ],
            [
             0
            ],
            [
             4
            ],
            [
             1
            ],
            [
             6
            ],
            [
             2
            ],
            [
             1
            ],
            [
             6
            ],
            [
             130
            ],
            [
             3
            ],
            [
             130
            ],
            [
             7
            ],
            [
             0
            ],
            [
             0
            ],
            [
             0
            ],
            [
             3
            ],
            [
             3
            ],
            [
             0
            ],
            [
             978
            ],
            [
             19
            ],
            [
             1
            ],
            [
             10
            ],
            [
             1694
            ],
            [
             0
            ],
            [
             256
            ],
            [
             0
            ],
            [
             45
            ],
            [
             0
            ],
            [
             10
            ],
            [
             0
            ],
            [
             1
            ],
            [
             1
            ],
            [
             29
            ],
            [
             0
            ],
            [
             0
            ],
            [
             0
            ],
            [
             5
            ],
            [
             0
            ],
            [
             1
            ],
            [
             0
            ],
            [
             0
            ],
            [
             1
            ],
            [
             10
            ],
            [
             1
            ],
            [
             1
            ],
            [
             1
            ],
            [
             19
            ],
            [
             6
            ],
            [
             4
            ],
            [
             0
            ],
            [
             0
            ],
            [
             0
            ],
            [
             3
            ],
            [
             0
            ],
            [
             0
            ],
            [
             3
            ],
            [
             3
            ],
            [
             2
            ],
            [
             1
            ],
            [
             0
            ],
            [
             0
            ],
            [
             0
            ],
            [
             106
            ],
            [
             0
            ],
            [
             0
            ],
            [
             0
            ],
            [
             84
            ],
            [
             1
            ],
            [
             14
            ],
            [
             27
            ],
            [
             42
            ],
            [
             0
            ],
            [
             0
            ],
            [
             0
            ],
            [
             74
            ],
            [
             0
            ],
            [
             21
            ],
            [
             16
            ]
           ],
           "geo": "geo",
           "hoverlabel": {
            "namelength": 0
           },
           "hovertemplate": "Date=2020-03-01 00:00:00<br>Confirmed=%{customdata[0]}<br>Country/Region=%{location}",
           "legendgroup": "",
           "locationmode": "country names",
           "locations": [
            "Afghanistan",
            "Albania",
            "Algeria",
            "Andorra",
            "Argentina",
            "Armenia",
            "Australia",
            "Austria",
            "Azerbaijan",
            "Bahrain",
            "Bangladesh",
            "Belarus",
            "Belgium",
            "Bhutan",
            "Bolivia",
            "Bosnia and Herzegovina",
            "Brazil",
            "Brunei",
            "Bulgaria",
            "Burkina Faso",
            "Cambodia",
            "Cameroon",
            "Canada",
            "Chile",
            "China",
            "Colombia",
            "Congo (Kinshasa)",
            "Costa Rica",
            "Cote d'Ivoire",
            "Croatia",
            "Cruise Ship",
            "Cuba",
            "Cyprus",
            "Denmark",
            "Dominican Republic",
            "Ecuador",
            "Egypt",
            "Estonia",
            "Finland",
            "France",
            "Georgia",
            "Germany",
            "Greece",
            "Guyana",
            "Honduras",
            "Hungary",
            "Iceland",
            "India",
            "Indonesia",
            "Iran",
            "Iraq",
            "Ireland",
            "Israel",
            "Italy",
            "Jamaica",
            "Japan",
            "Jordan",
            "Kuwait",
            "Latvia",
            "Lebanon",
            "Liechtenstein",
            "Lithuania",
            "Luxembourg",
            "Malaysia",
            "Maldives",
            "Malta",
            "Martinique",
            "Mexico",
            "Moldova",
            "Monaco",
            "Mongolia",
            "Morocco",
            "Nepal",
            "Netherlands",
            "New Zealand",
            "Nigeria",
            "North Macedonia",
            "Norway",
            "Oman",
            "Pakistan",
            "Panama",
            "Paraguay",
            "Peru",
            "Philippines",
            "Poland",
            "Portugal",
            "Qatar",
            "Romania",
            "Russia",
            "San Marino",
            "Saudi Arabia",
            "Senegal",
            "Serbia",
            "Singapore",
            "Slovakia",
            "Slovenia",
            "South Africa",
            "Spain",
            "Sri Lanka",
            "Sweden",
            "Switzerland",
            "Thailand",
            "Togo",
            "Tunisia",
            "Turkey",
            "US",
            "Ukraine",
            "United Arab Emirates",
            "Vietnam"
           ],
           "marker": {
            "color": "#636efa",
            "size": [
             1,
             0,
             1,
             0,
             0,
             1,
             27,
             14,
             3,
             47,
             0,
             1,
             2,
             0,
             0,
             0,
             2,
             0,
             0,
             0,
             1,
             0,
             24,
             0,
             79932,
             0,
             0,
             0,
             0,
             7,
             705,
             0,
             0,
             4,
             1,
             6,
             2,
             1,
             6,
             130,
             3,
             130,
             7,
             0,
             0,
             0,
             3,
             3,
             0,
             978,
             19,
             1,
             10,
             1694,
             0,
             256,
             0,
             45,
             0,
             10,
             0,
             1,
             1,
             29,
             0,
             0,
             0,
             5,
             0,
             1,
             0,
             0,
             1,
             10,
             1,
             1,
             1,
             19,
             6,
             4,
             0,
             0,
             0,
             3,
             0,
             0,
             3,
             3,
             2,
             1,
             0,
             0,
             0,
             106,
             0,
             0,
             0,
             84,
             1,
             14,
             27,
             42,
             0,
             0,
             0,
             74,
             0,
             21,
             16
            ],
            "sizemode": "area",
            "sizeref": 202.89
           },
           "name": "",
           "showlegend": false,
           "type": "scattergeo"
          }
         ],
         "name": "2020-03-01 00:00:00"
        },
        {
         "data": [
          {
           "customdata": [
            [
             1
            ],
            [
             0
            ],
            [
             3
            ],
            [
             1
            ],
            [
             0
            ],
            [
             1
            ],
            [
             30
            ],
            [
             18
            ],
            [
             3
            ],
            [
             49
            ],
            [
             0
            ],
            [
             1
            ],
            [
             8
            ],
            [
             0
            ],
            [
             0
            ],
            [
             0
            ],
            [
             2
            ],
            [
             0
            ],
            [
             0
            ],
            [
             0
            ],
            [
             1
            ],
            [
             0
            ],
            [
             27
            ],
            [
             0
            ],
            [
             80136
            ],
            [
             0
            ],
            [
             0
            ],
            [
             0
            ],
            [
             0
            ],
            [
             7
            ],
            [
             705
            ],
            [
             0
            ],
            [
             0
            ],
            [
             4
            ],
            [
             1
            ],
            [
             6
            ],
            [
             2
            ],
            [
             1
            ],
            [
             6
            ],
            [
             191
            ],
            [
             3
            ],
            [
             159
            ],
            [
             7
            ],
            [
             0
            ],
            [
             0
            ],
            [
             0
            ],
            [
             6
            ],
            [
             5
            ],
            [
             2
            ],
            [
             1501
            ],
            [
             26
            ],
            [
             1
            ],
            [
             10
            ],
            [
             2036
            ],
            [
             0
            ],
            [
             274
            ],
            [
             0
            ],
            [
             56
            ],
            [
             1
            ],
            [
             13
            ],
            [
             0
            ],
            [
             1
            ],
            [
             1
            ],
            [
             29
            ],
            [
             0
            ],
            [
             0
            ],
            [
             0
            ],
            [
             5
            ],
            [
             0
            ],
            [
             1
            ],
            [
             0
            ],
            [
             1
            ],
            [
             1
            ],
            [
             18
            ],
            [
             1
            ],
            [
             1
            ],
            [
             1
            ],
            [
             25
            ],
            [
             6
            ],
            [
             4
            ],
            [
             0
            ],
            [
             0
            ],
            [
             0
            ],
            [
             3
            ],
            [
             0
            ],
            [
             2
            ],
            [
             3
            ],
            [
             3
            ],
            [
             3
            ],
            [
             8
            ],
            [
             1
            ],
            [
             1
            ],
            [
             0
            ],
            [
             108
            ],
            [
             0
            ],
            [
             0
            ],
            [
             0
            ],
            [
             120
            ],
            [
             1
            ],
            [
             15
            ],
            [
             42
            ],
            [
             43
            ],
            [
             0
            ],
            [
             0
            ],
            [
             0
            ],
            [
             98
            ],
            [
             0
            ],
            [
             21
            ],
            [
             16
            ]
           ],
           "geo": "geo",
           "hoverlabel": {
            "namelength": 0
           },
           "hovertemplate": "Date=2020-03-02 00:00:00<br>Confirmed=%{customdata[0]}<br>Country/Region=%{location}",
           "legendgroup": "",
           "locationmode": "country names",
           "locations": [
            "Afghanistan",
            "Albania",
            "Algeria",
            "Andorra",
            "Argentina",
            "Armenia",
            "Australia",
            "Austria",
            "Azerbaijan",
            "Bahrain",
            "Bangladesh",
            "Belarus",
            "Belgium",
            "Bhutan",
            "Bolivia",
            "Bosnia and Herzegovina",
            "Brazil",
            "Brunei",
            "Bulgaria",
            "Burkina Faso",
            "Cambodia",
            "Cameroon",
            "Canada",
            "Chile",
            "China",
            "Colombia",
            "Congo (Kinshasa)",
            "Costa Rica",
            "Cote d'Ivoire",
            "Croatia",
            "Cruise Ship",
            "Cuba",
            "Cyprus",
            "Denmark",
            "Dominican Republic",
            "Ecuador",
            "Egypt",
            "Estonia",
            "Finland",
            "France",
            "Georgia",
            "Germany",
            "Greece",
            "Guyana",
            "Honduras",
            "Hungary",
            "Iceland",
            "India",
            "Indonesia",
            "Iran",
            "Iraq",
            "Ireland",
            "Israel",
            "Italy",
            "Jamaica",
            "Japan",
            "Jordan",
            "Kuwait",
            "Latvia",
            "Lebanon",
            "Liechtenstein",
            "Lithuania",
            "Luxembourg",
            "Malaysia",
            "Maldives",
            "Malta",
            "Martinique",
            "Mexico",
            "Moldova",
            "Monaco",
            "Mongolia",
            "Morocco",
            "Nepal",
            "Netherlands",
            "New Zealand",
            "Nigeria",
            "North Macedonia",
            "Norway",
            "Oman",
            "Pakistan",
            "Panama",
            "Paraguay",
            "Peru",
            "Philippines",
            "Poland",
            "Portugal",
            "Qatar",
            "Romania",
            "Russia",
            "San Marino",
            "Saudi Arabia",
            "Senegal",
            "Serbia",
            "Singapore",
            "Slovakia",
            "Slovenia",
            "South Africa",
            "Spain",
            "Sri Lanka",
            "Sweden",
            "Switzerland",
            "Thailand",
            "Togo",
            "Tunisia",
            "Turkey",
            "US",
            "Ukraine",
            "United Arab Emirates",
            "Vietnam"
           ],
           "marker": {
            "color": "#636efa",
            "size": [
             1,
             0,
             3,
             1,
             0,
             1,
             30,
             18,
             3,
             49,
             0,
             1,
             8,
             0,
             0,
             0,
             2,
             0,
             0,
             0,
             1,
             0,
             27,
             0,
             80136,
             0,
             0,
             0,
             0,
             7,
             705,
             0,
             0,
             4,
             1,
             6,
             2,
             1,
             6,
             191,
             3,
             159,
             7,
             0,
             0,
             0,
             6,
             5,
             2,
             1501,
             26,
             1,
             10,
             2036,
             0,
             274,
             0,
             56,
             1,
             13,
             0,
             1,
             1,
             29,
             0,
             0,
             0,
             5,
             0,
             1,
             0,
             1,
             1,
             18,
             1,
             1,
             1,
             25,
             6,
             4,
             0,
             0,
             0,
             3,
             0,
             2,
             3,
             3,
             3,
             8,
             1,
             1,
             0,
             108,
             0,
             0,
             0,
             120,
             1,
             15,
             42,
             43,
             0,
             0,
             0,
             98,
             0,
             21,
             16
            ],
            "sizemode": "area",
            "sizeref": 202.89
           },
           "name": "",
           "showlegend": false,
           "type": "scattergeo"
          }
         ],
         "name": "2020-03-02 00:00:00"
        },
        {
         "data": [
          {
           "customdata": [
            [
             1
            ],
            [
             0
            ],
            [
             5
            ],
            [
             1
            ],
            [
             1
            ],
            [
             1
            ],
            [
             39
            ],
            [
             21
            ],
            [
             3
            ],
            [
             49
            ],
            [
             0
            ],
            [
             1
            ],
            [
             13
            ],
            [
             0
            ],
            [
             0
            ],
            [
             0
            ],
            [
             2
            ],
            [
             0
            ],
            [
             0
            ],
            [
             0
            ],
            [
             1
            ],
            [
             0
            ],
            [
             30
            ],
            [
             1
            ],
            [
             80261
            ],
            [
             0
            ],
            [
             0
            ],
            [
             0
            ],
            [
             0
            ],
            [
             9
            ],
            [
             706
            ],
            [
             0
            ],
            [
             0
            ],
            [
             6
            ],
            [
             1
            ],
            [
             7
            ],
            [
             2
            ],
            [
             2
            ],
            [
             6
            ],
            [
             204
            ],
            [
             3
            ],
            [
             196
            ],
            [
             7
            ],
            [
             0
            ],
            [
             0
            ],
            [
             0
            ],
            [
             11
            ],
            [
             5
            ],
            [
             2
            ],
            [
             2336
            ],
            [
             32
            ],
            [
             2
            ],
            [
             12
            ],
            [
             2502
            ],
            [
             0
            ],
            [
             293
            ],
            [
             1
            ],
            [
             56
            ],
            [
             1
            ],
            [
             13
            ],
            [
             0
            ],
            [
             1
            ],
            [
             1
            ],
            [
             36
            ],
            [
             0
            ],
            [
             0
            ],
            [
             0
            ],
            [
             5
            ],
            [
             0
            ],
            [
             1
            ],
            [
             0
            ],
            [
             1
            ],
            [
             1
            ],
            [
             24
            ],
            [
             1
            ],
            [
             1
            ],
            [
             1
            ],
            [
             32
            ],
            [
             12
            ],
            [
             5
            ],
            [
             0
            ],
            [
             0
            ],
            [
             0
            ],
            [
             3
            ],
            [
             0
            ],
            [
             2
            ],
            [
             7
            ],
            [
             3
            ],
            [
             3
            ],
            [
             10
            ],
            [
             1
            ],
            [
             2
            ],
            [
             0
            ],
            [
             110
            ],
            [
             0
            ],
            [
             0
            ],
            [
             0
            ],
            [
             165
            ],
            [
             1
            ],
            [
             21
            ],
            [
             56
            ],
            [
             43
            ],
            [
             0
            ],
            [
             0
            ],
            [
             0
            ],
            [
             118
            ],
            [
             1
            ],
            [
             27
            ],
            [
             16
            ]
           ],
           "geo": "geo",
           "hoverlabel": {
            "namelength": 0
           },
           "hovertemplate": "Date=2020-03-03 00:00:00<br>Confirmed=%{customdata[0]}<br>Country/Region=%{location}",
           "legendgroup": "",
           "locationmode": "country names",
           "locations": [
            "Afghanistan",
            "Albania",
            "Algeria",
            "Andorra",
            "Argentina",
            "Armenia",
            "Australia",
            "Austria",
            "Azerbaijan",
            "Bahrain",
            "Bangladesh",
            "Belarus",
            "Belgium",
            "Bhutan",
            "Bolivia",
            "Bosnia and Herzegovina",
            "Brazil",
            "Brunei",
            "Bulgaria",
            "Burkina Faso",
            "Cambodia",
            "Cameroon",
            "Canada",
            "Chile",
            "China",
            "Colombia",
            "Congo (Kinshasa)",
            "Costa Rica",
            "Cote d'Ivoire",
            "Croatia",
            "Cruise Ship",
            "Cuba",
            "Cyprus",
            "Denmark",
            "Dominican Republic",
            "Ecuador",
            "Egypt",
            "Estonia",
            "Finland",
            "France",
            "Georgia",
            "Germany",
            "Greece",
            "Guyana",
            "Honduras",
            "Hungary",
            "Iceland",
            "India",
            "Indonesia",
            "Iran",
            "Iraq",
            "Ireland",
            "Israel",
            "Italy",
            "Jamaica",
            "Japan",
            "Jordan",
            "Kuwait",
            "Latvia",
            "Lebanon",
            "Liechtenstein",
            "Lithuania",
            "Luxembourg",
            "Malaysia",
            "Maldives",
            "Malta",
            "Martinique",
            "Mexico",
            "Moldova",
            "Monaco",
            "Mongolia",
            "Morocco",
            "Nepal",
            "Netherlands",
            "New Zealand",
            "Nigeria",
            "North Macedonia",
            "Norway",
            "Oman",
            "Pakistan",
            "Panama",
            "Paraguay",
            "Peru",
            "Philippines",
            "Poland",
            "Portugal",
            "Qatar",
            "Romania",
            "Russia",
            "San Marino",
            "Saudi Arabia",
            "Senegal",
            "Serbia",
            "Singapore",
            "Slovakia",
            "Slovenia",
            "South Africa",
            "Spain",
            "Sri Lanka",
            "Sweden",
            "Switzerland",
            "Thailand",
            "Togo",
            "Tunisia",
            "Turkey",
            "US",
            "Ukraine",
            "United Arab Emirates",
            "Vietnam"
           ],
           "marker": {
            "color": "#636efa",
            "size": [
             1,
             0,
             5,
             1,
             1,
             1,
             39,
             21,
             3,
             49,
             0,
             1,
             13,
             0,
             0,
             0,
             2,
             0,
             0,
             0,
             1,
             0,
             30,
             1,
             80261,
             0,
             0,
             0,
             0,
             9,
             706,
             0,
             0,
             6,
             1,
             7,
             2,
             2,
             6,
             204,
             3,
             196,
             7,
             0,
             0,
             0,
             11,
             5,
             2,
             2336,
             32,
             2,
             12,
             2502,
             0,
             293,
             1,
             56,
             1,
             13,
             0,
             1,
             1,
             36,
             0,
             0,
             0,
             5,
             0,
             1,
             0,
             1,
             1,
             24,
             1,
             1,
             1,
             32,
             12,
             5,
             0,
             0,
             0,
             3,
             0,
             2,
             7,
             3,
             3,
             10,
             1,
             2,
             0,
             110,
             0,
             0,
             0,
             165,
             1,
             21,
             56,
             43,
             0,
             0,
             0,
             118,
             1,
             27,
             16
            ],
            "sizemode": "area",
            "sizeref": 202.89
           },
           "name": "",
           "showlegend": false,
           "type": "scattergeo"
          }
         ],
         "name": "2020-03-03 00:00:00"
        },
        {
         "data": [
          {
           "customdata": [
            [
             1
            ],
            [
             0
            ],
            [
             12
            ],
            [
             1
            ],
            [
             1
            ],
            [
             1
            ],
            [
             52
            ],
            [
             29
            ],
            [
             3
            ],
            [
             52
            ],
            [
             0
            ],
            [
             6
            ],
            [
             23
            ],
            [
             0
            ],
            [
             0
            ],
            [
             0
            ],
            [
             4
            ],
            [
             0
            ],
            [
             0
            ],
            [
             0
            ],
            [
             1
            ],
            [
             0
            ],
            [
             33
            ],
            [
             1
            ],
            [
             80386
            ],
            [
             0
            ],
            [
             0
            ],
            [
             0
            ],
            [
             0
            ],
            [
             10
            ],
            [
             706
            ],
            [
             0
            ],
            [
             0
            ],
            [
             11
            ],
            [
             1
            ],
            [
             10
            ],
            [
             2
            ],
            [
             2
            ],
            [
             6
            ],
            [
             288
            ],
            [
             3
            ],
            [
             262
            ],
            [
             9
            ],
            [
             0
            ],
            [
             0
            ],
            [
             2
            ],
            [
             26
            ],
            [
             28
            ],
            [
             2
            ],
            [
             2922
            ],
            [
             35
            ],
            [
             6
            ],
            [
             15
            ],
            [
             3089
            ],
            [
             0
            ],
            [
             331
            ],
            [
             1
            ],
            [
             56
            ],
            [
             1
            ],
            [
             13
            ],
            [
             1
            ],
            [
             1
            ],
            [
             1
            ],
            [
             50
            ],
            [
             0
            ],
            [
             0
            ],
            [
             0
            ],
            [
             5
            ],
            [
             0
            ],
            [
             1
            ],
            [
             0
            ],
            [
             1
            ],
            [
             1
            ],
            [
             38
            ],
            [
             3
            ],
            [
             1
            ],
            [
             1
            ],
            [
             56
            ],
            [
             15
            ],
            [
             5
            ],
            [
             0
            ],
            [
             0
            ],
            [
             0
            ],
            [
             3
            ],
            [
             1
            ],
            [
             5
            ],
            [
             8
            ],
            [
             4
            ],
            [
             3
            ],
            [
             16
            ],
            [
             1
            ],
            [
             4
            ],
            [
             0
            ],
            [
             110
            ],
            [
             0
            ],
            [
             0
            ],
            [
             0
            ],
            [
             222
            ],
            [
             1
            ],
            [
             35
            ],
            [
             90
            ],
            [
             43
            ],
            [
             0
            ],
            [
             1
            ],
            [
             0
            ],
            [
             149
            ],
            [
             1
            ],
            [
             27
            ],
            [
             16
            ]
           ],
           "geo": "geo",
           "hoverlabel": {
            "namelength": 0
           },
           "hovertemplate": "Date=2020-03-04 00:00:00<br>Confirmed=%{customdata[0]}<br>Country/Region=%{location}",
           "legendgroup": "",
           "locationmode": "country names",
           "locations": [
            "Afghanistan",
            "Albania",
            "Algeria",
            "Andorra",
            "Argentina",
            "Armenia",
            "Australia",
            "Austria",
            "Azerbaijan",
            "Bahrain",
            "Bangladesh",
            "Belarus",
            "Belgium",
            "Bhutan",
            "Bolivia",
            "Bosnia and Herzegovina",
            "Brazil",
            "Brunei",
            "Bulgaria",
            "Burkina Faso",
            "Cambodia",
            "Cameroon",
            "Canada",
            "Chile",
            "China",
            "Colombia",
            "Congo (Kinshasa)",
            "Costa Rica",
            "Cote d'Ivoire",
            "Croatia",
            "Cruise Ship",
            "Cuba",
            "Cyprus",
            "Denmark",
            "Dominican Republic",
            "Ecuador",
            "Egypt",
            "Estonia",
            "Finland",
            "France",
            "Georgia",
            "Germany",
            "Greece",
            "Guyana",
            "Honduras",
            "Hungary",
            "Iceland",
            "India",
            "Indonesia",
            "Iran",
            "Iraq",
            "Ireland",
            "Israel",
            "Italy",
            "Jamaica",
            "Japan",
            "Jordan",
            "Kuwait",
            "Latvia",
            "Lebanon",
            "Liechtenstein",
            "Lithuania",
            "Luxembourg",
            "Malaysia",
            "Maldives",
            "Malta",
            "Martinique",
            "Mexico",
            "Moldova",
            "Monaco",
            "Mongolia",
            "Morocco",
            "Nepal",
            "Netherlands",
            "New Zealand",
            "Nigeria",
            "North Macedonia",
            "Norway",
            "Oman",
            "Pakistan",
            "Panama",
            "Paraguay",
            "Peru",
            "Philippines",
            "Poland",
            "Portugal",
            "Qatar",
            "Romania",
            "Russia",
            "San Marino",
            "Saudi Arabia",
            "Senegal",
            "Serbia",
            "Singapore",
            "Slovakia",
            "Slovenia",
            "South Africa",
            "Spain",
            "Sri Lanka",
            "Sweden",
            "Switzerland",
            "Thailand",
            "Togo",
            "Tunisia",
            "Turkey",
            "US",
            "Ukraine",
            "United Arab Emirates",
            "Vietnam"
           ],
           "marker": {
            "color": "#636efa",
            "size": [
             1,
             0,
             12,
             1,
             1,
             1,
             52,
             29,
             3,
             52,
             0,
             6,
             23,
             0,
             0,
             0,
             4,
             0,
             0,
             0,
             1,
             0,
             33,
             1,
             80386,
             0,
             0,
             0,
             0,
             10,
             706,
             0,
             0,
             11,
             1,
             10,
             2,
             2,
             6,
             288,
             3,
             262,
             9,
             0,
             0,
             2,
             26,
             28,
             2,
             2922,
             35,
             6,
             15,
             3089,
             0,
             331,
             1,
             56,
             1,
             13,
             1,
             1,
             1,
             50,
             0,
             0,
             0,
             5,
             0,
             1,
             0,
             1,
             1,
             38,
             3,
             1,
             1,
             56,
             15,
             5,
             0,
             0,
             0,
             3,
             1,
             5,
             8,
             4,
             3,
             16,
             1,
             4,
             0,
             110,
             0,
             0,
             0,
             222,
             1,
             35,
             90,
             43,
             0,
             1,
             0,
             149,
             1,
             27,
             16
            ],
            "sizemode": "area",
            "sizeref": 202.89
           },
           "name": "",
           "showlegend": false,
           "type": "scattergeo"
          }
         ],
         "name": "2020-03-04 00:00:00"
        },
        {
         "data": [
          {
           "customdata": [
            [
             1
            ],
            [
             0
            ],
            [
             12
            ],
            [
             1
            ],
            [
             1
            ],
            [
             1
            ],
            [
             55
            ],
            [
             41
            ],
            [
             6
            ],
            [
             55
            ],
            [
             0
            ],
            [
             6
            ],
            [
             50
            ],
            [
             0
            ],
            [
             0
            ],
            [
             2
            ],
            [
             4
            ],
            [
             0
            ],
            [
             0
            ],
            [
             0
            ],
            [
             1
            ],
            [
             0
            ],
            [
             37
            ],
            [
             4
            ],
            [
             80537
            ],
            [
             0
            ],
            [
             0
            ],
            [
             0
            ],
            [
             0
            ],
            [
             10
            ],
            [
             706
            ],
            [
             0
            ],
            [
             0
            ],
            [
             11
            ],
            [
             1
            ],
            [
             13
            ],
            [
             3
            ],
            [
             3
            ],
            [
             12
            ],
            [
             380
            ],
            [
             4
            ],
            [
             482
            ],
            [
             31
            ],
            [
             0
            ],
            [
             0
            ],
            [
             2
            ],
            [
             34
            ],
            [
             30
            ],
            [
             2
            ],
            [
             3513
            ],
            [
             35
            ],
            [
             6
            ],
            [
             20
            ],
            [
             3858
            ],
            [
             0
            ],
            [
             360
            ],
            [
             1
            ],
            [
             58
            ],
            [
             1
            ],
            [
             16
            ],
            [
             1
            ],
            [
             1
            ],
            [
             1
            ],
            [
             50
            ],
            [
             0
            ],
            [
             0
            ],
            [
             0
            ],
            [
             5
            ],
            [
             0
            ],
            [
             1
            ],
            [
             0
            ],
            [
             2
            ],
            [
             1
            ],
            [
             82
            ],
            [
             3
            ],
            [
             1
            ],
            [
             1
            ],
            [
             87
            ],
            [
             16
            ],
            [
             5
            ],
            [
             0
            ],
            [
             0
            ],
            [
             0
            ],
            [
             3
            ],
            [
             1
            ],
            [
             8
            ],
            [
             8
            ],
            [
             6
            ],
            [
             4
            ],
            [
             21
            ],
            [
             5
            ],
            [
             4
            ],
            [
             0
            ],
            [
             117
            ],
            [
             0
            ],
            [
             2
            ],
            [
             1
            ],
            [
             259
            ],
            [
             1
            ],
            [
             94
            ],
            [
             114
            ],
            [
             47
            ],
            [
             0
            ],
            [
             1
            ],
            [
             0
            ],
            [
             217
            ],
            [
             1
            ],
            [
             29
            ],
            [
             16
            ]
           ],
           "geo": "geo",
           "hoverlabel": {
            "namelength": 0
           },
           "hovertemplate": "Date=2020-03-05 00:00:00<br>Confirmed=%{customdata[0]}<br>Country/Region=%{location}",
           "legendgroup": "",
           "locationmode": "country names",
           "locations": [
            "Afghanistan",
            "Albania",
            "Algeria",
            "Andorra",
            "Argentina",
            "Armenia",
            "Australia",
            "Austria",
            "Azerbaijan",
            "Bahrain",
            "Bangladesh",
            "Belarus",
            "Belgium",
            "Bhutan",
            "Bolivia",
            "Bosnia and Herzegovina",
            "Brazil",
            "Brunei",
            "Bulgaria",
            "Burkina Faso",
            "Cambodia",
            "Cameroon",
            "Canada",
            "Chile",
            "China",
            "Colombia",
            "Congo (Kinshasa)",
            "Costa Rica",
            "Cote d'Ivoire",
            "Croatia",
            "Cruise Ship",
            "Cuba",
            "Cyprus",
            "Denmark",
            "Dominican Republic",
            "Ecuador",
            "Egypt",
            "Estonia",
            "Finland",
            "France",
            "Georgia",
            "Germany",
            "Greece",
            "Guyana",
            "Honduras",
            "Hungary",
            "Iceland",
            "India",
            "Indonesia",
            "Iran",
            "Iraq",
            "Ireland",
            "Israel",
            "Italy",
            "Jamaica",
            "Japan",
            "Jordan",
            "Kuwait",
            "Latvia",
            "Lebanon",
            "Liechtenstein",
            "Lithuania",
            "Luxembourg",
            "Malaysia",
            "Maldives",
            "Malta",
            "Martinique",
            "Mexico",
            "Moldova",
            "Monaco",
            "Mongolia",
            "Morocco",
            "Nepal",
            "Netherlands",
            "New Zealand",
            "Nigeria",
            "North Macedonia",
            "Norway",
            "Oman",
            "Pakistan",
            "Panama",
            "Paraguay",
            "Peru",
            "Philippines",
            "Poland",
            "Portugal",
            "Qatar",
            "Romania",
            "Russia",
            "San Marino",
            "Saudi Arabia",
            "Senegal",
            "Serbia",
            "Singapore",
            "Slovakia",
            "Slovenia",
            "South Africa",
            "Spain",
            "Sri Lanka",
            "Sweden",
            "Switzerland",
            "Thailand",
            "Togo",
            "Tunisia",
            "Turkey",
            "US",
            "Ukraine",
            "United Arab Emirates",
            "Vietnam"
           ],
           "marker": {
            "color": "#636efa",
            "size": [
             1,
             0,
             12,
             1,
             1,
             1,
             55,
             41,
             6,
             55,
             0,
             6,
             50,
             0,
             0,
             2,
             4,
             0,
             0,
             0,
             1,
             0,
             37,
             4,
             80537,
             0,
             0,
             0,
             0,
             10,
             706,
             0,
             0,
             11,
             1,
             13,
             3,
             3,
             12,
             380,
             4,
             482,
             31,
             0,
             0,
             2,
             34,
             30,
             2,
             3513,
             35,
             6,
             20,
             3858,
             0,
             360,
             1,
             58,
             1,
             16,
             1,
             1,
             1,
             50,
             0,
             0,
             0,
             5,
             0,
             1,
             0,
             2,
             1,
             82,
             3,
             1,
             1,
             87,
             16,
             5,
             0,
             0,
             0,
             3,
             1,
             8,
             8,
             6,
             4,
             21,
             5,
             4,
             0,
             117,
             0,
             2,
             1,
             259,
             1,
             94,
             114,
             47,
             0,
             1,
             0,
             217,
             1,
             29,
             16
            ],
            "sizemode": "area",
            "sizeref": 202.89
           },
           "name": "",
           "showlegend": false,
           "type": "scattergeo"
          }
         ],
         "name": "2020-03-05 00:00:00"
        },
        {
         "data": [
          {
           "customdata": [
            [
             1
            ],
            [
             0
            ],
            [
             17
            ],
            [
             1
            ],
            [
             2
            ],
            [
             1
            ],
            [
             60
            ],
            [
             55
            ],
            [
             6
            ],
            [
             60
            ],
            [
             0
            ],
            [
             6
            ],
            [
             109
            ],
            [
             1
            ],
            [
             0
            ],
            [
             2
            ],
            [
             13
            ],
            [
             0
            ],
            [
             0
            ],
            [
             0
            ],
            [
             1
            ],
            [
             1
            ],
            [
             49
            ],
            [
             4
            ],
            [
             80690
            ],
            [
             1
            ],
            [
             0
            ],
            [
             1
            ],
            [
             0
            ],
            [
             11
            ],
            [
             696
            ],
            [
             0
            ],
            [
             0
            ],
            [
             24
            ],
            [
             2
            ],
            [
             13
            ],
            [
             15
            ],
            [
             10
            ],
            [
             15
            ],
            [
             656
            ],
            [
             4
            ],
            [
             670
            ],
            [
             45
            ],
            [
             0
            ],
            [
             0
            ],
            [
             2
            ],
            [
             43
            ],
            [
             31
            ],
            [
             4
            ],
            [
             4747
            ],
            [
             40
            ],
            [
             18
            ],
            [
             37
            ],
            [
             4636
            ],
            [
             0
            ],
            [
             420
            ],
            [
             1
            ],
            [
             58
            ],
            [
             1
            ],
            [
             22
            ],
            [
             1
            ],
            [
             1
            ],
            [
             2
            ],
            [
             83
            ],
            [
             0
            ],
            [
             0
            ],
            [
             0
            ],
            [
             6
            ],
            [
             0
            ],
            [
             1
            ],
            [
             0
            ],
            [
             2
            ],
            [
             1
            ],
            [
             128
            ],
            [
             4
            ],
            [
             1
            ],
            [
             3
            ],
            [
             108
            ],
            [
             16
            ],
            [
             6
            ],
            [
             0
            ],
            [
             0
            ],
            [
             1
            ],
            [
             5
            ],
            [
             5
            ],
            [
             13
            ],
            [
             8
            ],
            [
             9
            ],
            [
             13
            ],
            [
             21
            ],
            [
             5
            ],
            [
             4
            ],
            [
             1
            ],
            [
             130
            ],
            [
             1
            ],
            [
             7
            ],
            [
             1
            ],
            [
             400
            ],
            [
             1
            ],
            [
             101
            ],
            [
             214
            ],
            [
             48
            ],
            [
             1
            ],
            [
             1
            ],
            [
             0
            ],
            [
             262
            ],
            [
             1
            ],
            [
             29
            ],
            [
             16
            ]
           ],
           "geo": "geo",
           "hoverlabel": {
            "namelength": 0
           },
           "hovertemplate": "Date=2020-03-06 00:00:00<br>Confirmed=%{customdata[0]}<br>Country/Region=%{location}",
           "legendgroup": "",
           "locationmode": "country names",
           "locations": [
            "Afghanistan",
            "Albania",
            "Algeria",
            "Andorra",
            "Argentina",
            "Armenia",
            "Australia",
            "Austria",
            "Azerbaijan",
            "Bahrain",
            "Bangladesh",
            "Belarus",
            "Belgium",
            "Bhutan",
            "Bolivia",
            "Bosnia and Herzegovina",
            "Brazil",
            "Brunei",
            "Bulgaria",
            "Burkina Faso",
            "Cambodia",
            "Cameroon",
            "Canada",
            "Chile",
            "China",
            "Colombia",
            "Congo (Kinshasa)",
            "Costa Rica",
            "Cote d'Ivoire",
            "Croatia",
            "Cruise Ship",
            "Cuba",
            "Cyprus",
            "Denmark",
            "Dominican Republic",
            "Ecuador",
            "Egypt",
            "Estonia",
            "Finland",
            "France",
            "Georgia",
            "Germany",
            "Greece",
            "Guyana",
            "Honduras",
            "Hungary",
            "Iceland",
            "India",
            "Indonesia",
            "Iran",
            "Iraq",
            "Ireland",
            "Israel",
            "Italy",
            "Jamaica",
            "Japan",
            "Jordan",
            "Kuwait",
            "Latvia",
            "Lebanon",
            "Liechtenstein",
            "Lithuania",
            "Luxembourg",
            "Malaysia",
            "Maldives",
            "Malta",
            "Martinique",
            "Mexico",
            "Moldova",
            "Monaco",
            "Mongolia",
            "Morocco",
            "Nepal",
            "Netherlands",
            "New Zealand",
            "Nigeria",
            "North Macedonia",
            "Norway",
            "Oman",
            "Pakistan",
            "Panama",
            "Paraguay",
            "Peru",
            "Philippines",
            "Poland",
            "Portugal",
            "Qatar",
            "Romania",
            "Russia",
            "San Marino",
            "Saudi Arabia",
            "Senegal",
            "Serbia",
            "Singapore",
            "Slovakia",
            "Slovenia",
            "South Africa",
            "Spain",
            "Sri Lanka",
            "Sweden",
            "Switzerland",
            "Thailand",
            "Togo",
            "Tunisia",
            "Turkey",
            "US",
            "Ukraine",
            "United Arab Emirates",
            "Vietnam"
           ],
           "marker": {
            "color": "#636efa",
            "size": [
             1,
             0,
             17,
             1,
             2,
             1,
             60,
             55,
             6,
             60,
             0,
             6,
             109,
             1,
             0,
             2,
             13,
             0,
             0,
             0,
             1,
             1,
             49,
             4,
             80690,
             1,
             0,
             1,
             0,
             11,
             696,
             0,
             0,
             24,
             2,
             13,
             15,
             10,
             15,
             656,
             4,
             670,
             45,
             0,
             0,
             2,
             43,
             31,
             4,
             4747,
             40,
             18,
             37,
             4636,
             0,
             420,
             1,
             58,
             1,
             22,
             1,
             1,
             2,
             83,
             0,
             0,
             0,
             6,
             0,
             1,
             0,
             2,
             1,
             128,
             4,
             1,
             3,
             108,
             16,
             6,
             0,
             0,
             1,
             5,
             5,
             13,
             8,
             9,
             13,
             21,
             5,
             4,
             1,
             130,
             1,
             7,
             1,
             400,
             1,
             101,
             214,
             48,
             1,
             1,
             0,
             262,
             1,
             29,
             16
            ],
            "sizemode": "area",
            "sizeref": 202.89
           },
           "name": "",
           "showlegend": false,
           "type": "scattergeo"
          }
         ],
         "name": "2020-03-06 00:00:00"
        },
        {
         "data": [
          {
           "customdata": [
            [
             1
            ],
            [
             0
            ],
            [
             17
            ],
            [
             1
            ],
            [
             8
            ],
            [
             1
            ],
            [
             63
            ],
            [
             79
            ],
            [
             9
            ],
            [
             85
            ],
            [
             0
            ],
            [
             6
            ],
            [
             169
            ],
            [
             1
            ],
            [
             0
            ],
            [
             3
            ],
            [
             13
            ],
            [
             0
            ],
            [
             0
            ],
            [
             0
            ],
            [
             1
            ],
            [
             1
            ],
            [
             54
            ],
            [
             4
            ],
            [
             80770
            ],
            [
             1
            ],
            [
             0
            ],
            [
             1
            ],
            [
             0
            ],
            [
             12
            ],
            [
             696
            ],
            [
             0
            ],
            [
             0
            ],
            [
             24
            ],
            [
             2
            ],
            [
             13
            ],
            [
             15
            ],
            [
             10
            ],
            [
             15
            ],
            [
             957
            ],
            [
             4
            ],
            [
             799
            ],
            [
             46
            ],
            [
             0
            ],
            [
             0
            ],
            [
             4
            ],
            [
             50
            ],
            [
             34
            ],
            [
             4
            ],
            [
             5823
            ],
            [
             54
            ],
            [
             18
            ],
            [
             43
            ],
            [
             5883
            ],
            [
             0
            ],
            [
             461
            ],
            [
             1
            ],
            [
             61
            ],
            [
             1
            ],
            [
             22
            ],
            [
             1
            ],
            [
             1
            ],
            [
             2
            ],
            [
             93
            ],
            [
             0
            ],
            [
             3
            ],
            [
             2
            ],
            [
             6
            ],
            [
             0
            ],
            [
             1
            ],
            [
             0
            ],
            [
             2
            ],
            [
             1
            ],
            [
             188
            ],
            [
             5
            ],
            [
             1
            ],
            [
             3
            ],
            [
             147
            ],
            [
             16
            ],
            [
             6
            ],
            [
             0
            ],
            [
             0
            ],
            [
             1
            ],
            [
             6
            ],
            [
             5
            ],
            [
             20
            ],
            [
             8
            ],
            [
             9
            ],
            [
             13
            ],
            [
             23
            ],
            [
             5
            ],
            [
             4
            ],
            [
             1
            ],
            [
             138
            ],
            [
             1
            ],
            [
             7
            ],
            [
             1
            ],
            [
             500
            ],
            [
             1
            ],
            [
             161
            ],
            [
             268
            ],
            [
             50
            ],
            [
             1
            ],
            [
             1
            ],
            [
             0
            ],
            [
             402
            ],
            [
             1
            ],
            [
             45
            ],
            [
             18
            ]
           ],
           "geo": "geo",
           "hoverlabel": {
            "namelength": 0
           },
           "hovertemplate": "Date=2020-03-07 00:00:00<br>Confirmed=%{customdata[0]}<br>Country/Region=%{location}",
           "legendgroup": "",
           "locationmode": "country names",
           "locations": [
            "Afghanistan",
            "Albania",
            "Algeria",
            "Andorra",
            "Argentina",
            "Armenia",
            "Australia",
            "Austria",
            "Azerbaijan",
            "Bahrain",
            "Bangladesh",
            "Belarus",
            "Belgium",
            "Bhutan",
            "Bolivia",
            "Bosnia and Herzegovina",
            "Brazil",
            "Brunei",
            "Bulgaria",
            "Burkina Faso",
            "Cambodia",
            "Cameroon",
            "Canada",
            "Chile",
            "China",
            "Colombia",
            "Congo (Kinshasa)",
            "Costa Rica",
            "Cote d'Ivoire",
            "Croatia",
            "Cruise Ship",
            "Cuba",
            "Cyprus",
            "Denmark",
            "Dominican Republic",
            "Ecuador",
            "Egypt",
            "Estonia",
            "Finland",
            "France",
            "Georgia",
            "Germany",
            "Greece",
            "Guyana",
            "Honduras",
            "Hungary",
            "Iceland",
            "India",
            "Indonesia",
            "Iran",
            "Iraq",
            "Ireland",
            "Israel",
            "Italy",
            "Jamaica",
            "Japan",
            "Jordan",
            "Kuwait",
            "Latvia",
            "Lebanon",
            "Liechtenstein",
            "Lithuania",
            "Luxembourg",
            "Malaysia",
            "Maldives",
            "Malta",
            "Martinique",
            "Mexico",
            "Moldova",
            "Monaco",
            "Mongolia",
            "Morocco",
            "Nepal",
            "Netherlands",
            "New Zealand",
            "Nigeria",
            "North Macedonia",
            "Norway",
            "Oman",
            "Pakistan",
            "Panama",
            "Paraguay",
            "Peru",
            "Philippines",
            "Poland",
            "Portugal",
            "Qatar",
            "Romania",
            "Russia",
            "San Marino",
            "Saudi Arabia",
            "Senegal",
            "Serbia",
            "Singapore",
            "Slovakia",
            "Slovenia",
            "South Africa",
            "Spain",
            "Sri Lanka",
            "Sweden",
            "Switzerland",
            "Thailand",
            "Togo",
            "Tunisia",
            "Turkey",
            "US",
            "Ukraine",
            "United Arab Emirates",
            "Vietnam"
           ],
           "marker": {
            "color": "#636efa",
            "size": [
             1,
             0,
             17,
             1,
             8,
             1,
             63,
             79,
             9,
             85,
             0,
             6,
             169,
             1,
             0,
             3,
             13,
             0,
             0,
             0,
             1,
             1,
             54,
             4,
             80770,
             1,
             0,
             1,
             0,
             12,
             696,
             0,
             0,
             24,
             2,
             13,
             15,
             10,
             15,
             957,
             4,
             799,
             46,
             0,
             0,
             4,
             50,
             34,
             4,
             5823,
             54,
             18,
             43,
             5883,
             0,
             461,
             1,
             61,
             1,
             22,
             1,
             1,
             2,
             93,
             0,
             3,
             2,
             6,
             0,
             1,
             0,
             2,
             1,
             188,
             5,
             1,
             3,
             147,
             16,
             6,
             0,
             0,
             1,
             6,
             5,
             20,
             8,
             9,
             13,
             23,
             5,
             4,
             1,
             138,
             1,
             7,
             1,
             500,
             1,
             161,
             268,
             50,
             1,
             1,
             0,
             402,
             1,
             45,
             18
            ],
            "sizemode": "area",
            "sizeref": 202.89
           },
           "name": "",
           "showlegend": false,
           "type": "scattergeo"
          }
         ],
         "name": "2020-03-07 00:00:00"
        },
        {
         "data": [
          {
           "customdata": [
            [
             4
            ],
            [
             0
            ],
            [
             19
            ],
            [
             1
            ],
            [
             12
            ],
            [
             1
            ],
            [
             76
            ],
            [
             104
            ],
            [
             9
            ],
            [
             85
            ],
            [
             3
            ],
            [
             6
            ],
            [
             200
            ],
            [
             1
            ],
            [
             0
            ],
            [
             3
            ],
            [
             20
            ],
            [
             0
            ],
            [
             4
            ],
            [
             0
            ],
            [
             2
            ],
            [
             2
            ],
            [
             64
            ],
            [
             8
            ],
            [
             80823
            ],
            [
             1
            ],
            [
             0
            ],
            [
             5
            ],
            [
             0
            ],
            [
             12
            ],
            [
             696
            ],
            [
             0
            ],
            [
             0
            ],
            [
             37
            ],
            [
             5
            ],
            [
             14
            ],
            [
             49
            ],
            [
             10
            ],
            [
             23
            ],
            [
             1134
            ],
            [
             13
            ],
            [
             1040
            ],
            [
             73
            ],
            [
             0
            ],
            [
             0
            ],
            [
             7
            ],
            [
             50
            ],
            [
             39
            ],
            [
             6
            ],
            [
             6566
            ],
            [
             60
            ],
            [
             19
            ],
            [
             61
            ],
            [
             7375
            ],
            [
             0
            ],
            [
             502
            ],
            [
             1
            ],
            [
             64
            ],
            [
             2
            ],
            [
             32
            ],
            [
             1
            ],
            [
             1
            ],
            [
             3
            ],
            [
             99
            ],
            [
             4
            ],
            [
             3
            ],
            [
             2
            ],
            [
             7
            ],
            [
             1
            ],
            [
             1
            ],
            [
             0
            ],
            [
             2
            ],
            [
             1
            ],
            [
             265
            ],
            [
             5
            ],
            [
             1
            ],
            [
             3
            ],
            [
             176
            ],
            [
             16
            ],
            [
             6
            ],
            [
             0
            ],
            [
             1
            ],
            [
             6
            ],
            [
             10
            ],
            [
             11
            ],
            [
             30
            ],
            [
             15
            ],
            [
             15
            ],
            [
             17
            ],
            [
             36
            ],
            [
             11
            ],
            [
             4
            ],
            [
             1
            ],
            [
             150
            ],
            [
             3
            ],
            [
             16
            ],
            [
             3
            ],
            [
             673
            ],
            [
             1
            ],
            [
             203
            ],
            [
             337
            ],
            [
             50
            ],
            [
             1
            ],
            [
             2
            ],
            [
             0
            ],
            [
             518
            ],
            [
             1
            ],
            [
             45
            ],
            [
             30
            ]
           ],
           "geo": "geo",
           "hoverlabel": {
            "namelength": 0
           },
           "hovertemplate": "Date=2020-03-08 00:00:00<br>Confirmed=%{customdata[0]}<br>Country/Region=%{location}",
           "legendgroup": "",
           "locationmode": "country names",
           "locations": [
            "Afghanistan",
            "Albania",
            "Algeria",
            "Andorra",
            "Argentina",
            "Armenia",
            "Australia",
            "Austria",
            "Azerbaijan",
            "Bahrain",
            "Bangladesh",
            "Belarus",
            "Belgium",
            "Bhutan",
            "Bolivia",
            "Bosnia and Herzegovina",
            "Brazil",
            "Brunei",
            "Bulgaria",
            "Burkina Faso",
            "Cambodia",
            "Cameroon",
            "Canada",
            "Chile",
            "China",
            "Colombia",
            "Congo (Kinshasa)",
            "Costa Rica",
            "Cote d'Ivoire",
            "Croatia",
            "Cruise Ship",
            "Cuba",
            "Cyprus",
            "Denmark",
            "Dominican Republic",
            "Ecuador",
            "Egypt",
            "Estonia",
            "Finland",
            "France",
            "Georgia",
            "Germany",
            "Greece",
            "Guyana",
            "Honduras",
            "Hungary",
            "Iceland",
            "India",
            "Indonesia",
            "Iran",
            "Iraq",
            "Ireland",
            "Israel",
            "Italy",
            "Jamaica",
            "Japan",
            "Jordan",
            "Kuwait",
            "Latvia",
            "Lebanon",
            "Liechtenstein",
            "Lithuania",
            "Luxembourg",
            "Malaysia",
            "Maldives",
            "Malta",
            "Martinique",
            "Mexico",
            "Moldova",
            "Monaco",
            "Mongolia",
            "Morocco",
            "Nepal",
            "Netherlands",
            "New Zealand",
            "Nigeria",
            "North Macedonia",
            "Norway",
            "Oman",
            "Pakistan",
            "Panama",
            "Paraguay",
            "Peru",
            "Philippines",
            "Poland",
            "Portugal",
            "Qatar",
            "Romania",
            "Russia",
            "San Marino",
            "Saudi Arabia",
            "Senegal",
            "Serbia",
            "Singapore",
            "Slovakia",
            "Slovenia",
            "South Africa",
            "Spain",
            "Sri Lanka",
            "Sweden",
            "Switzerland",
            "Thailand",
            "Togo",
            "Tunisia",
            "Turkey",
            "US",
            "Ukraine",
            "United Arab Emirates",
            "Vietnam"
           ],
           "marker": {
            "color": "#636efa",
            "size": [
             4,
             0,
             19,
             1,
             12,
             1,
             76,
             104,
             9,
             85,
             3,
             6,
             200,
             1,
             0,
             3,
             20,
             0,
             4,
             0,
             2,
             2,
             64,
             8,
             80823,
             1,
             0,
             5,
             0,
             12,
             696,
             0,
             0,
             37,
             5,
             14,
             49,
             10,
             23,
             1134,
             13,
             1040,
             73,
             0,
             0,
             7,
             50,
             39,
             6,
             6566,
             60,
             19,
             61,
             7375,
             0,
             502,
             1,
             64,
             2,
             32,
             1,
             1,
             3,
             99,
             4,
             3,
             2,
             7,
             1,
             1,
             0,
             2,
             1,
             265,
             5,
             1,
             3,
             176,
             16,
             6,
             0,
             1,
             6,
             10,
             11,
             30,
             15,
             15,
             17,
             36,
             11,
             4,
             1,
             150,
             3,
             16,
             3,
             673,
             1,
             203,
             337,
             50,
             1,
             2,
             0,
             518,
             1,
             45,
             30
            ],
            "sizemode": "area",
            "sizeref": 202.89
           },
           "name": "",
           "showlegend": false,
           "type": "scattergeo"
          }
         ],
         "name": "2020-03-08 00:00:00"
        },
        {
         "data": [
          {
           "customdata": [
            [
             4
            ],
            [
             2
            ],
            [
             20
            ],
            [
             1
            ],
            [
             12
            ],
            [
             1
            ],
            [
             91
            ],
            [
             131
            ],
            [
             9
            ],
            [
             95
            ],
            [
             3
            ],
            [
             6
            ],
            [
             239
            ],
            [
             1
            ],
            [
             0
            ],
            [
             3
            ],
            [
             25
            ],
            [
             1
            ],
            [
             4
            ],
            [
             0
            ],
            [
             2
            ],
            [
             2
            ],
            [
             77
            ],
            [
             8
            ],
            [
             80860
            ],
            [
             1
            ],
            [
             0
            ],
            [
             9
            ],
            [
             0
            ],
            [
             12
            ],
            [
             696
            ],
            [
             0
            ],
            [
             2
            ],
            [
             92
            ],
            [
             5
            ],
            [
             15
            ],
            [
             55
            ],
            [
             10
            ],
            [
             30
            ],
            [
             1217
            ],
            [
             15
            ],
            [
             1176
            ],
            [
             73
            ],
            [
             0
            ],
            [
             0
            ],
            [
             9
            ],
            [
             58
            ],
            [
             43
            ],
            [
             19
            ],
            [
             7161
            ],
            [
             60
            ],
            [
             21
            ],
            [
             61
            ],
            [
             9172
            ],
            [
             0
            ],
            [
             511
            ],
            [
             1
            ],
            [
             64
            ],
            [
             6
            ],
            [
             32
            ],
            [
             1
            ],
            [
             1
            ],
            [
             3
            ],
            [
             117
            ],
            [
             4
            ],
            [
             3
            ],
            [
             2
            ],
            [
             7
            ],
            [
             1
            ],
            [
             1
            ],
            [
             0
            ],
            [
             2
            ],
            [
             1
            ],
            [
             321
            ],
            [
             5
            ],
            [
             2
            ],
            [
             3
            ],
            [
             205
            ],
            [
             16
            ],
            [
             6
            ],
            [
             0
            ],
            [
             1
            ],
            [
             7
            ],
            [
             20
            ],
            [
             16
            ],
            [
             30
            ],
            [
             18
            ],
            [
             15
            ],
            [
             17
            ],
            [
             36
            ],
            [
             15
            ],
            [
             4
            ],
            [
             1
            ],
            [
             150
            ],
            [
             3
            ],
            [
             16
            ],
            [
             3
            ],
            [
             1073
            ],
            [
             1
            ],
            [
             248
            ],
            [
             374
            ],
            [
             50
            ],
            [
             1
            ],
            [
             2
            ],
            [
             0
            ],
            [
             583
            ],
            [
             1
            ],
            [
             45
            ],
            [
             30
            ]
           ],
           "geo": "geo",
           "hoverlabel": {
            "namelength": 0
           },
           "hovertemplate": "Date=2020-03-09 00:00:00<br>Confirmed=%{customdata[0]}<br>Country/Region=%{location}",
           "legendgroup": "",
           "locationmode": "country names",
           "locations": [
            "Afghanistan",
            "Albania",
            "Algeria",
            "Andorra",
            "Argentina",
            "Armenia",
            "Australia",
            "Austria",
            "Azerbaijan",
            "Bahrain",
            "Bangladesh",
            "Belarus",
            "Belgium",
            "Bhutan",
            "Bolivia",
            "Bosnia and Herzegovina",
            "Brazil",
            "Brunei",
            "Bulgaria",
            "Burkina Faso",
            "Cambodia",
            "Cameroon",
            "Canada",
            "Chile",
            "China",
            "Colombia",
            "Congo (Kinshasa)",
            "Costa Rica",
            "Cote d'Ivoire",
            "Croatia",
            "Cruise Ship",
            "Cuba",
            "Cyprus",
            "Denmark",
            "Dominican Republic",
            "Ecuador",
            "Egypt",
            "Estonia",
            "Finland",
            "France",
            "Georgia",
            "Germany",
            "Greece",
            "Guyana",
            "Honduras",
            "Hungary",
            "Iceland",
            "India",
            "Indonesia",
            "Iran",
            "Iraq",
            "Ireland",
            "Israel",
            "Italy",
            "Jamaica",
            "Japan",
            "Jordan",
            "Kuwait",
            "Latvia",
            "Lebanon",
            "Liechtenstein",
            "Lithuania",
            "Luxembourg",
            "Malaysia",
            "Maldives",
            "Malta",
            "Martinique",
            "Mexico",
            "Moldova",
            "Monaco",
            "Mongolia",
            "Morocco",
            "Nepal",
            "Netherlands",
            "New Zealand",
            "Nigeria",
            "North Macedonia",
            "Norway",
            "Oman",
            "Pakistan",
            "Panama",
            "Paraguay",
            "Peru",
            "Philippines",
            "Poland",
            "Portugal",
            "Qatar",
            "Romania",
            "Russia",
            "San Marino",
            "Saudi Arabia",
            "Senegal",
            "Serbia",
            "Singapore",
            "Slovakia",
            "Slovenia",
            "South Africa",
            "Spain",
            "Sri Lanka",
            "Sweden",
            "Switzerland",
            "Thailand",
            "Togo",
            "Tunisia",
            "Turkey",
            "US",
            "Ukraine",
            "United Arab Emirates",
            "Vietnam"
           ],
           "marker": {
            "color": "#636efa",
            "size": [
             4,
             2,
             20,
             1,
             12,
             1,
             91,
             131,
             9,
             95,
             3,
             6,
             239,
             1,
             0,
             3,
             25,
             1,
             4,
             0,
             2,
             2,
             77,
             8,
             80860,
             1,
             0,
             9,
             0,
             12,
             696,
             0,
             2,
             92,
             5,
             15,
             55,
             10,
             30,
             1217,
             15,
             1176,
             73,
             0,
             0,
             9,
             58,
             43,
             19,
             7161,
             60,
             21,
             61,
             9172,
             0,
             511,
             1,
             64,
             6,
             32,
             1,
             1,
             3,
             117,
             4,
             3,
             2,
             7,
             1,
             1,
             0,
             2,
             1,
             321,
             5,
             2,
             3,
             205,
             16,
             6,
             0,
             1,
             7,
             20,
             16,
             30,
             18,
             15,
             17,
             36,
             15,
             4,
             1,
             150,
             3,
             16,
             3,
             1073,
             1,
             248,
             374,
             50,
             1,
             2,
             0,
             583,
             1,
             45,
             30
            ],
            "sizemode": "area",
            "sizeref": 202.89
           },
           "name": "",
           "showlegend": false,
           "type": "scattergeo"
          }
         ],
         "name": "2020-03-09 00:00:00"
        },
        {
         "data": [
          {
           "customdata": [
            [
             5
            ],
            [
             10
            ],
            [
             20
            ],
            [
             1
            ],
            [
             17
            ],
            [
             1
            ],
            [
             107
            ],
            [
             182
            ],
            [
             11
            ],
            [
             110
            ],
            [
             3
            ],
            [
             9
            ],
            [
             267
            ],
            [
             1
            ],
            [
             0
            ],
            [
             5
            ],
            [
             31
            ],
            [
             1
            ],
            [
             4
            ],
            [
             1
            ],
            [
             2
            ],
            [
             2
            ],
            [
             79
            ],
            [
             13
            ],
            [
             80887
            ],
            [
             3
            ],
            [
             0
            ],
            [
             9
            ],
            [
             0
            ],
            [
             14
            ],
            [
             696
            ],
            [
             0
            ],
            [
             3
            ],
            [
             264
            ],
            [
             5
            ],
            [
             15
            ],
            [
             59
            ],
            [
             12
            ],
            [
             40
            ],
            [
             1792
            ],
            [
             15
            ],
            [
             1457
            ],
            [
             89
            ],
            [
             0
            ],
            [
             0
            ],
            [
             9
            ],
            [
             69
            ],
            [
             56
            ],
            [
             27
            ],
            [
             8042
            ],
            [
             71
            ],
            [
             34
            ],
            [
             83
            ],
            [
             10149
            ],
            [
             0
            ],
            [
             581
            ],
            [
             1
            ],
            [
             69
            ],
            [
             8
            ],
            [
             41
            ],
            [
             1
            ],
            [
             1
            ],
            [
             5
            ],
            [
             129
            ],
            [
             6
            ],
            [
             5
            ],
            [
             2
            ],
            [
             7
            ],
            [
             3
            ],
            [
             1
            ],
            [
             1
            ],
            [
             3
            ],
            [
             1
            ],
            [
             382
            ],
            [
             5
            ],
            [
             2
            ],
            [
             7
            ],
            [
             400
            ],
            [
             18
            ],
            [
             16
            ],
            [
             1
            ],
            [
             1
            ],
            [
             11
            ],
            [
             33
            ],
            [
             22
            ],
            [
             41
            ],
            [
             24
            ],
            [
             25
            ],
            [
             20
            ],
            [
             51
            ],
            [
             20
            ],
            [
             4
            ],
            [
             5
            ],
            [
             160
            ],
            [
             7
            ],
            [
             31
            ],
            [
             7
            ],
            [
             1695
            ],
            [
             1
            ],
            [
             355
            ],
            [
             491
            ],
            [
             53
            ],
            [
             1
            ],
            [
             5
            ],
            [
             0
            ],
            [
             959
            ],
            [
             1
            ],
            [
             74
            ],
            [
             31
            ]
           ],
           "geo": "geo",
           "hoverlabel": {
            "namelength": 0
           },
           "hovertemplate": "Date=2020-03-10 00:00:00<br>Confirmed=%{customdata[0]}<br>Country/Region=%{location}",
           "legendgroup": "",
           "locationmode": "country names",
           "locations": [
            "Afghanistan",
            "Albania",
            "Algeria",
            "Andorra",
            "Argentina",
            "Armenia",
            "Australia",
            "Austria",
            "Azerbaijan",
            "Bahrain",
            "Bangladesh",
            "Belarus",
            "Belgium",
            "Bhutan",
            "Bolivia",
            "Bosnia and Herzegovina",
            "Brazil",
            "Brunei",
            "Bulgaria",
            "Burkina Faso",
            "Cambodia",
            "Cameroon",
            "Canada",
            "Chile",
            "China",
            "Colombia",
            "Congo (Kinshasa)",
            "Costa Rica",
            "Cote d'Ivoire",
            "Croatia",
            "Cruise Ship",
            "Cuba",
            "Cyprus",
            "Denmark",
            "Dominican Republic",
            "Ecuador",
            "Egypt",
            "Estonia",
            "Finland",
            "France",
            "Georgia",
            "Germany",
            "Greece",
            "Guyana",
            "Honduras",
            "Hungary",
            "Iceland",
            "India",
            "Indonesia",
            "Iran",
            "Iraq",
            "Ireland",
            "Israel",
            "Italy",
            "Jamaica",
            "Japan",
            "Jordan",
            "Kuwait",
            "Latvia",
            "Lebanon",
            "Liechtenstein",
            "Lithuania",
            "Luxembourg",
            "Malaysia",
            "Maldives",
            "Malta",
            "Martinique",
            "Mexico",
            "Moldova",
            "Monaco",
            "Mongolia",
            "Morocco",
            "Nepal",
            "Netherlands",
            "New Zealand",
            "Nigeria",
            "North Macedonia",
            "Norway",
            "Oman",
            "Pakistan",
            "Panama",
            "Paraguay",
            "Peru",
            "Philippines",
            "Poland",
            "Portugal",
            "Qatar",
            "Romania",
            "Russia",
            "San Marino",
            "Saudi Arabia",
            "Senegal",
            "Serbia",
            "Singapore",
            "Slovakia",
            "Slovenia",
            "South Africa",
            "Spain",
            "Sri Lanka",
            "Sweden",
            "Switzerland",
            "Thailand",
            "Togo",
            "Tunisia",
            "Turkey",
            "US",
            "Ukraine",
            "United Arab Emirates",
            "Vietnam"
           ],
           "marker": {
            "color": "#636efa",
            "size": [
             5,
             10,
             20,
             1,
             17,
             1,
             107,
             182,
             11,
             110,
             3,
             9,
             267,
             1,
             0,
             5,
             31,
             1,
             4,
             1,
             2,
             2,
             79,
             13,
             80887,
             3,
             0,
             9,
             0,
             14,
             696,
             0,
             3,
             264,
             5,
             15,
             59,
             12,
             40,
             1792,
             15,
             1457,
             89,
             0,
             0,
             9,
             69,
             56,
             27,
             8042,
             71,
             34,
             83,
             10149,
             0,
             581,
             1,
             69,
             8,
             41,
             1,
             1,
             5,
             129,
             6,
             5,
             2,
             7,
             3,
             1,
             1,
             3,
             1,
             382,
             5,
             2,
             7,
             400,
             18,
             16,
             1,
             1,
             11,
             33,
             22,
             41,
             24,
             25,
             20,
             51,
             20,
             4,
             5,
             160,
             7,
             31,
             7,
             1695,
             1,
             355,
             491,
             53,
             1,
             5,
             0,
             959,
             1,
             74,
             31
            ],
            "sizemode": "area",
            "sizeref": 202.89
           },
           "name": "",
           "showlegend": false,
           "type": "scattergeo"
          }
         ],
         "name": "2020-03-10 00:00:00"
        },
        {
         "data": [
          {
           "customdata": [
            [
             7
            ],
            [
             12
            ],
            [
             20
            ],
            [
             1
            ],
            [
             19
            ],
            [
             1
            ],
            [
             128
            ],
            [
             246
            ],
            [
             11
            ],
            [
             195
            ],
            [
             3
            ],
            [
             9
            ],
            [
             314
            ],
            [
             1
            ],
            [
             2
            ],
            [
             7
            ],
            [
             38
            ],
            [
             11
            ],
            [
             7
            ],
            [
             2
            ],
            [
             3
            ],
            [
             2
            ],
            [
             108
            ],
            [
             23
            ],
            [
             80921
            ],
            [
             9
            ],
            [
             1
            ],
            [
             13
            ],
            [
             1
            ],
            [
             19
            ],
            [
             696
            ],
            [
             0
            ],
            [
             6
            ],
            [
             444
            ],
            [
             5
            ],
            [
             17
            ],
            [
             60
            ],
            [
             16
            ],
            [
             59
            ],
            [
             2290
            ],
            [
             24
            ],
            [
             1908
            ],
            [
             99
            ],
            [
             0
            ],
            [
             2
            ],
            [
             13
            ],
            [
             85
            ],
            [
             62
            ],
            [
             34
            ],
            [
             9000
            ],
            [
             71
            ],
            [
             43
            ],
            [
             109
            ],
            [
             12462
            ],
            [
             1
            ],
            [
             639
            ],
            [
             1
            ],
            [
             72
            ],
            [
             10
            ],
            [
             61
            ],
            [
             1
            ],
            [
             3
            ],
            [
             7
            ],
            [
             149
            ],
            [
             8
            ],
            [
             6
            ],
            [
             3
            ],
            [
             8
            ],
            [
             3
            ],
            [
             1
            ],
            [
             1
            ],
            [
             5
            ],
            [
             1
            ],
            [
             503
            ],
            [
             5
            ],
            [
             2
            ],
            [
             7
            ],
            [
             598
            ],
            [
             18
            ],
            [
             19
            ],
            [
             8
            ],
            [
             5
            ],
            [
             11
            ],
            [
             49
            ],
            [
             31
            ],
            [
             59
            ],
            [
             262
            ],
            [
             45
            ],
            [
             20
            ],
            [
             62
            ],
            [
             21
            ],
            [
             4
            ],
            [
             12
            ],
            [
             178
            ],
            [
             10
            ],
            [
             57
            ],
            [
             13
            ],
            [
             2277
            ],
            [
             2
            ],
            [
             500
            ],
            [
             652
            ],
            [
             59
            ],
            [
             1
            ],
            [
             7
            ],
            [
             1
            ],
            [
             1281
            ],
            [
             1
            ],
            [
             74
            ],
            [
             38
            ]
           ],
           "geo": "geo",
           "hoverlabel": {
            "namelength": 0
           },
           "hovertemplate": "Date=2020-03-11 00:00:00<br>Confirmed=%{customdata[0]}<br>Country/Region=%{location}",
           "legendgroup": "",
           "locationmode": "country names",
           "locations": [
            "Afghanistan",
            "Albania",
            "Algeria",
            "Andorra",
            "Argentina",
            "Armenia",
            "Australia",
            "Austria",
            "Azerbaijan",
            "Bahrain",
            "Bangladesh",
            "Belarus",
            "Belgium",
            "Bhutan",
            "Bolivia",
            "Bosnia and Herzegovina",
            "Brazil",
            "Brunei",
            "Bulgaria",
            "Burkina Faso",
            "Cambodia",
            "Cameroon",
            "Canada",
            "Chile",
            "China",
            "Colombia",
            "Congo (Kinshasa)",
            "Costa Rica",
            "Cote d'Ivoire",
            "Croatia",
            "Cruise Ship",
            "Cuba",
            "Cyprus",
            "Denmark",
            "Dominican Republic",
            "Ecuador",
            "Egypt",
            "Estonia",
            "Finland",
            "France",
            "Georgia",
            "Germany",
            "Greece",
            "Guyana",
            "Honduras",
            "Hungary",
            "Iceland",
            "India",
            "Indonesia",
            "Iran",
            "Iraq",
            "Ireland",
            "Israel",
            "Italy",
            "Jamaica",
            "Japan",
            "Jordan",
            "Kuwait",
            "Latvia",
            "Lebanon",
            "Liechtenstein",
            "Lithuania",
            "Luxembourg",
            "Malaysia",
            "Maldives",
            "Malta",
            "Martinique",
            "Mexico",
            "Moldova",
            "Monaco",
            "Mongolia",
            "Morocco",
            "Nepal",
            "Netherlands",
            "New Zealand",
            "Nigeria",
            "North Macedonia",
            "Norway",
            "Oman",
            "Pakistan",
            "Panama",
            "Paraguay",
            "Peru",
            "Philippines",
            "Poland",
            "Portugal",
            "Qatar",
            "Romania",
            "Russia",
            "San Marino",
            "Saudi Arabia",
            "Senegal",
            "Serbia",
            "Singapore",
            "Slovakia",
            "Slovenia",
            "South Africa",
            "Spain",
            "Sri Lanka",
            "Sweden",
            "Switzerland",
            "Thailand",
            "Togo",
            "Tunisia",
            "Turkey",
            "US",
            "Ukraine",
            "United Arab Emirates",
            "Vietnam"
           ],
           "marker": {
            "color": "#636efa",
            "size": [
             7,
             12,
             20,
             1,
             19,
             1,
             128,
             246,
             11,
             195,
             3,
             9,
             314,
             1,
             2,
             7,
             38,
             11,
             7,
             2,
             3,
             2,
             108,
             23,
             80921,
             9,
             1,
             13,
             1,
             19,
             696,
             0,
             6,
             444,
             5,
             17,
             60,
             16,
             59,
             2290,
             24,
             1908,
             99,
             0,
             2,
             13,
             85,
             62,
             34,
             9000,
             71,
             43,
             109,
             12462,
             1,
             639,
             1,
             72,
             10,
             61,
             1,
             3,
             7,
             149,
             8,
             6,
             3,
             8,
             3,
             1,
             1,
             5,
             1,
             503,
             5,
             2,
             7,
             598,
             18,
             19,
             8,
             5,
             11,
             49,
             31,
             59,
             262,
             45,
             20,
             62,
             21,
             4,
             12,
             178,
             10,
             57,
             13,
             2277,
             2,
             500,
             652,
             59,
             1,
             7,
             1,
             1281,
             1,
             74,
             38
            ],
            "sizemode": "area",
            "sizeref": 202.89
           },
           "name": "",
           "showlegend": false,
           "type": "scattergeo"
          }
         ],
         "name": "2020-03-11 00:00:00"
        },
        {
         "data": [
          {
           "customdata": [
            [
             7
            ],
            [
             23
            ],
            [
             24
            ],
            [
             1
            ],
            [
             19
            ],
            [
             4
            ],
            [
             128
            ],
            [
             302
            ],
            [
             11
            ],
            [
             195
            ],
            [
             3
            ],
            [
             12
            ],
            [
             314
            ],
            [
             1
            ],
            [
             2
            ],
            [
             11
            ],
            [
             52
            ],
            [
             11
            ],
            [
             7
            ],
            [
             2
            ],
            [
             3
            ],
            [
             2
            ],
            [
             117
            ],
            [
             23
            ],
            [
             80932
            ],
            [
             9
            ],
            [
             1
            ],
            [
             22
            ],
            [
             1
            ],
            [
             19
            ],
            [
             696
            ],
            [
             3
            ],
            [
             6
            ],
            [
             617
            ],
            [
             5
            ],
            [
             17
            ],
            [
             67
            ],
            [
             16
            ],
            [
             59
            ],
            [
             2290
            ],
            [
             24
            ],
            [
             2078
            ],
            [
             99
            ],
            [
             1
            ],
            [
             2
            ],
            [
             13
            ],
            [
             103
            ],
            [
             73
            ],
            [
             34
            ],
            [
             10075
            ],
            [
             71
            ],
            [
             43
            ],
            [
             131
            ],
            [
             12462
            ],
            [
             2
            ],
            [
             639
            ],
            [
             1
            ],
            [
             80
            ],
            [
             10
            ],
            [
             61
            ],
            [
             1
            ],
            [
             3
            ],
            [
             19
            ],
            [
             149
            ],
            [
             8
            ],
            [
             6
            ],
            [
             3
            ],
            [
             12
            ],
            [
             3
            ],
            [
             2
            ],
            [
             1
            ],
            [
             6
            ],
            [
             1
            ],
            [
             503
            ],
            [
             5
            ],
            [
             2
            ],
            [
             7
            ],
            [
             702
            ],
            [
             18
            ],
            [
             20
            ],
            [
             11
            ],
            [
             5
            ],
            [
             15
            ],
            [
             52
            ],
            [
             49
            ],
            [
             59
            ],
            [
             262
            ],
            [
             49
            ],
            [
             28
            ],
            [
             69
            ],
            [
             45
            ],
            [
             4
            ],
            [
             19
            ],
            [
             178
            ],
            [
             16
            ],
            [
             89
            ],
            [
             17
            ],
            [
             2277
            ],
            [
             2
            ],
            [
             599
            ],
            [
             652
            ],
            [
             70
            ],
            [
             1
            ],
            [
             7
            ],
            [
             1
            ],
            [
             1663
            ],
            [
             1
            ],
            [
             85
            ],
            [
             39
            ]
           ],
           "geo": "geo",
           "hoverlabel": {
            "namelength": 0
           },
           "hovertemplate": "Date=2020-03-12 00:00:00<br>Confirmed=%{customdata[0]}<br>Country/Region=%{location}",
           "legendgroup": "",
           "locationmode": "country names",
           "locations": [
            "Afghanistan",
            "Albania",
            "Algeria",
            "Andorra",
            "Argentina",
            "Armenia",
            "Australia",
            "Austria",
            "Azerbaijan",
            "Bahrain",
            "Bangladesh",
            "Belarus",
            "Belgium",
            "Bhutan",
            "Bolivia",
            "Bosnia and Herzegovina",
            "Brazil",
            "Brunei",
            "Bulgaria",
            "Burkina Faso",
            "Cambodia",
            "Cameroon",
            "Canada",
            "Chile",
            "China",
            "Colombia",
            "Congo (Kinshasa)",
            "Costa Rica",
            "Cote d'Ivoire",
            "Croatia",
            "Cruise Ship",
            "Cuba",
            "Cyprus",
            "Denmark",
            "Dominican Republic",
            "Ecuador",
            "Egypt",
            "Estonia",
            "Finland",
            "France",
            "Georgia",
            "Germany",
            "Greece",
            "Guyana",
            "Honduras",
            "Hungary",
            "Iceland",
            "India",
            "Indonesia",
            "Iran",
            "Iraq",
            "Ireland",
            "Israel",
            "Italy",
            "Jamaica",
            "Japan",
            "Jordan",
            "Kuwait",
            "Latvia",
            "Lebanon",
            "Liechtenstein",
            "Lithuania",
            "Luxembourg",
            "Malaysia",
            "Maldives",
            "Malta",
            "Martinique",
            "Mexico",
            "Moldova",
            "Monaco",
            "Mongolia",
            "Morocco",
            "Nepal",
            "Netherlands",
            "New Zealand",
            "Nigeria",
            "North Macedonia",
            "Norway",
            "Oman",
            "Pakistan",
            "Panama",
            "Paraguay",
            "Peru",
            "Philippines",
            "Poland",
            "Portugal",
            "Qatar",
            "Romania",
            "Russia",
            "San Marino",
            "Saudi Arabia",
            "Senegal",
            "Serbia",
            "Singapore",
            "Slovakia",
            "Slovenia",
            "South Africa",
            "Spain",
            "Sri Lanka",
            "Sweden",
            "Switzerland",
            "Thailand",
            "Togo",
            "Tunisia",
            "Turkey",
            "US",
            "Ukraine",
            "United Arab Emirates",
            "Vietnam"
           ],
           "marker": {
            "color": "#636efa",
            "size": [
             7,
             23,
             24,
             1,
             19,
             4,
             128,
             302,
             11,
             195,
             3,
             12,
             314,
             1,
             2,
             11,
             52,
             11,
             7,
             2,
             3,
             2,
             117,
             23,
             80932,
             9,
             1,
             22,
             1,
             19,
             696,
             3,
             6,
             617,
             5,
             17,
             67,
             16,
             59,
             2290,
             24,
             2078,
             99,
             1,
             2,
             13,
             103,
             73,
             34,
             10075,
             71,
             43,
             131,
             12462,
             2,
             639,
             1,
             80,
             10,
             61,
             1,
             3,
             19,
             149,
             8,
             6,
             3,
             12,
             3,
             2,
             1,
             6,
             1,
             503,
             5,
             2,
             7,
             702,
             18,
             20,
             11,
             5,
             15,
             52,
             49,
             59,
             262,
             49,
             28,
             69,
             45,
             4,
             19,
             178,
             16,
             89,
             17,
             2277,
             2,
             599,
             652,
             70,
             1,
             7,
             1,
             1663,
             1,
             85,
             39
            ],
            "sizemode": "area",
            "sizeref": 202.89
           },
           "name": "",
           "showlegend": false,
           "type": "scattergeo"
          }
         ],
         "name": "2020-03-12 00:00:00"
        },
        {
         "data": [
          {
           "customdata": [
            [
             7
            ],
            [
             33
            ],
            [
             26
            ],
            [
             1
            ],
            [
             31
            ],
            [
             8
            ],
            [
             200
            ],
            [
             504
            ],
            [
             15
            ],
            [
             189
            ],
            [
             3
            ],
            [
             27
            ],
            [
             559
            ],
            [
             1
            ],
            [
             3
            ],
            [
             13
            ],
            [
             151
            ],
            [
             37
            ],
            [
             23
            ],
            [
             2
            ],
            [
             5
            ],
            [
             2
            ],
            [
             193
            ],
            [
             43
            ],
            [
             80945
            ],
            [
             13
            ],
            [
             2
            ],
            [
             23
            ],
            [
             1
            ],
            [
             32
            ],
            [
             696
            ],
            [
             4
            ],
            [
             14
            ],
            [
             804
            ],
            [
             5
            ],
            [
             17
            ],
            [
             80
            ],
            [
             79
            ],
            [
             155
            ],
            [
             3678
            ],
            [
             25
            ],
            [
             3675
            ],
            [
             190
            ],
            [
             1
            ],
            [
             2
            ],
            [
             19
            ],
            [
             134
            ],
            [
             82
            ],
            [
             69
            ],
            [
             11364
            ],
            [
             101
            ],
            [
             90
            ],
            [
             161
            ],
            [
             17660
            ],
            [
             8
            ],
            [
             701
            ],
            [
             1
            ],
            [
             80
            ],
            [
             17
            ],
            [
             77
            ],
            [
             1
            ],
            [
             6
            ],
            [
             34
            ],
            [
             197
            ],
            [
             9
            ],
            [
             12
            ],
            [
             3
            ],
            [
             12
            ],
            [
             6
            ],
            [
             2
            ],
            [
             1
            ],
            [
             7
            ],
            [
             1
            ],
            [
             806
            ],
            [
             5
            ],
            [
             2
            ],
            [
             14
            ],
            [
             996
            ],
            [
             19
            ],
            [
             28
            ],
            [
             27
            ],
            [
             6
            ],
            [
             28
            ],
            [
             64
            ],
            [
             68
            ],
            [
             112
            ],
            [
             320
            ],
            [
             89
            ],
            [
             45
            ],
            [
             80
            ],
            [
             86
            ],
            [
             10
            ],
            [
             35
            ],
            [
             200
            ],
            [
             32
            ],
            [
             141
            ],
            [
             24
            ],
            [
             5232
            ],
            [
             6
            ],
            [
             814
            ],
            [
             1139
            ],
            [
             75
            ],
            [
             1
            ],
            [
             16
            ],
            [
             5
            ],
            [
             2179
            ],
            [
             3
            ],
            [
             85
            ],
            [
             47
            ]
           ],
           "geo": "geo",
           "hoverlabel": {
            "namelength": 0
           },
           "hovertemplate": "Date=2020-03-13 00:00:00<br>Confirmed=%{customdata[0]}<br>Country/Region=%{location}",
           "legendgroup": "",
           "locationmode": "country names",
           "locations": [
            "Afghanistan",
            "Albania",
            "Algeria",
            "Andorra",
            "Argentina",
            "Armenia",
            "Australia",
            "Austria",
            "Azerbaijan",
            "Bahrain",
            "Bangladesh",
            "Belarus",
            "Belgium",
            "Bhutan",
            "Bolivia",
            "Bosnia and Herzegovina",
            "Brazil",
            "Brunei",
            "Bulgaria",
            "Burkina Faso",
            "Cambodia",
            "Cameroon",
            "Canada",
            "Chile",
            "China",
            "Colombia",
            "Congo (Kinshasa)",
            "Costa Rica",
            "Cote d'Ivoire",
            "Croatia",
            "Cruise Ship",
            "Cuba",
            "Cyprus",
            "Denmark",
            "Dominican Republic",
            "Ecuador",
            "Egypt",
            "Estonia",
            "Finland",
            "France",
            "Georgia",
            "Germany",
            "Greece",
            "Guyana",
            "Honduras",
            "Hungary",
            "Iceland",
            "India",
            "Indonesia",
            "Iran",
            "Iraq",
            "Ireland",
            "Israel",
            "Italy",
            "Jamaica",
            "Japan",
            "Jordan",
            "Kuwait",
            "Latvia",
            "Lebanon",
            "Liechtenstein",
            "Lithuania",
            "Luxembourg",
            "Malaysia",
            "Maldives",
            "Malta",
            "Martinique",
            "Mexico",
            "Moldova",
            "Monaco",
            "Mongolia",
            "Morocco",
            "Nepal",
            "Netherlands",
            "New Zealand",
            "Nigeria",
            "North Macedonia",
            "Norway",
            "Oman",
            "Pakistan",
            "Panama",
            "Paraguay",
            "Peru",
            "Philippines",
            "Poland",
            "Portugal",
            "Qatar",
            "Romania",
            "Russia",
            "San Marino",
            "Saudi Arabia",
            "Senegal",
            "Serbia",
            "Singapore",
            "Slovakia",
            "Slovenia",
            "South Africa",
            "Spain",
            "Sri Lanka",
            "Sweden",
            "Switzerland",
            "Thailand",
            "Togo",
            "Tunisia",
            "Turkey",
            "US",
            "Ukraine",
            "United Arab Emirates",
            "Vietnam"
           ],
           "marker": {
            "color": "#636efa",
            "size": [
             7,
             33,
             26,
             1,
             31,
             8,
             200,
             504,
             15,
             189,
             3,
             27,
             559,
             1,
             3,
             13,
             151,
             37,
             23,
             2,
             5,
             2,
             193,
             43,
             80945,
             13,
             2,
             23,
             1,
             32,
             696,
             4,
             14,
             804,
             5,
             17,
             80,
             79,
             155,
             3678,
             25,
             3675,
             190,
             1,
             2,
             19,
             134,
             82,
             69,
             11364,
             101,
             90,
             161,
             17660,
             8,
             701,
             1,
             80,
             17,
             77,
             1,
             6,
             34,
             197,
             9,
             12,
             3,
             12,
             6,
             2,
             1,
             7,
             1,
             806,
             5,
             2,
             14,
             996,
             19,
             28,
             27,
             6,
             28,
             64,
             68,
             112,
             320,
             89,
             45,
             80,
             86,
             10,
             35,
             200,
             32,
             141,
             24,
             5232,
             6,
             814,
             1139,
             75,
             1,
             16,
             5,
             2179,
             3,
             85,
             47
            ],
            "sizemode": "area",
            "sizeref": 202.89
           },
           "name": "",
           "showlegend": false,
           "type": "scattergeo"
          }
         ],
         "name": "2020-03-13 00:00:00"
        },
        {
         "data": [
          {
           "customdata": [
            [
             11
            ],
            [
             38
            ],
            [
             37
            ],
            [
             1
            ],
            [
             34
            ],
            [
             18
            ],
            [
             250
            ],
            [
             655
            ],
            [
             15
            ],
            [
             210
            ],
            [
             3
            ],
            [
             27
            ],
            [
             689
            ],
            [
             1
            ],
            [
             10
            ],
            [
             18
            ],
            [
             151
            ],
            [
             40
            ],
            [
             41
            ],
            [
             2
            ],
            [
             7
            ],
            [
             2
            ],
            [
             198
            ],
            [
             61
            ],
            [
             80977
            ],
            [
             22
            ],
            [
             2
            ],
            [
             26
            ],
            [
             1
            ],
            [
             38
            ],
            [
             696
            ],
            [
             4
            ],
            [
             26
            ],
            [
             836
            ],
            [
             11
            ],
            [
             28
            ],
            [
             109
            ],
            [
             115
            ],
            [
             225
            ],
            [
             4487
            ],
            [
             30
            ],
            [
             4585
            ],
            [
             228
            ],
            [
             1
            ],
            [
             2
            ],
            [
             30
            ],
            [
             156
            ],
            [
             102
            ],
            [
             96
            ],
            [
             12729
            ],
            [
             110
            ],
            [
             129
            ],
            [
             193
            ],
            [
             21157
            ],
            [
             8
            ],
            [
             773
            ],
            [
             1
            ],
            [
             104
            ],
            [
             26
            ],
            [
             93
            ],
            [
             4
            ],
            [
             8
            ],
            [
             51
            ],
            [
             238
            ],
            [
             10
            ],
            [
             18
            ],
            [
             9
            ],
            [
             26
            ],
            [
             12
            ],
            [
             2
            ],
            [
             1
            ],
            [
             17
            ],
            [
             1
            ],
            [
             962
            ],
            [
             6
            ],
            [
             2
            ],
            [
             14
            ],
            [
             1090
            ],
            [
             19
            ],
            [
             31
            ],
            [
             36
            ],
            [
             6
            ],
            [
             38
            ],
            [
             111
            ],
            [
             103
            ],
            [
             169
            ],
            [
             337
            ],
            [
             123
            ],
            [
             59
            ],
            [
             80
            ],
            [
             103
            ],
            [
             10
            ],
            [
             46
            ],
            [
             212
            ],
            [
             44
            ],
            [
             181
            ],
            [
             38
            ],
            [
             6391
            ],
            [
             10
            ],
            [
             961
            ],
            [
             1359
            ],
            [
             82
            ],
            [
             1
            ],
            [
             18
            ],
            [
             5
            ],
            [
             2727
            ],
            [
             3
            ],
            [
             85
            ],
            [
             53
            ]
           ],
           "geo": "geo",
           "hoverlabel": {
            "namelength": 0
           },
           "hovertemplate": "Date=2020-03-14 00:00:00<br>Confirmed=%{customdata[0]}<br>Country/Region=%{location}",
           "legendgroup": "",
           "locationmode": "country names",
           "locations": [
            "Afghanistan",
            "Albania",
            "Algeria",
            "Andorra",
            "Argentina",
            "Armenia",
            "Australia",
            "Austria",
            "Azerbaijan",
            "Bahrain",
            "Bangladesh",
            "Belarus",
            "Belgium",
            "Bhutan",
            "Bolivia",
            "Bosnia and Herzegovina",
            "Brazil",
            "Brunei",
            "Bulgaria",
            "Burkina Faso",
            "Cambodia",
            "Cameroon",
            "Canada",
            "Chile",
            "China",
            "Colombia",
            "Congo (Kinshasa)",
            "Costa Rica",
            "Cote d'Ivoire",
            "Croatia",
            "Cruise Ship",
            "Cuba",
            "Cyprus",
            "Denmark",
            "Dominican Republic",
            "Ecuador",
            "Egypt",
            "Estonia",
            "Finland",
            "France",
            "Georgia",
            "Germany",
            "Greece",
            "Guyana",
            "Honduras",
            "Hungary",
            "Iceland",
            "India",
            "Indonesia",
            "Iran",
            "Iraq",
            "Ireland",
            "Israel",
            "Italy",
            "Jamaica",
            "Japan",
            "Jordan",
            "Kuwait",
            "Latvia",
            "Lebanon",
            "Liechtenstein",
            "Lithuania",
            "Luxembourg",
            "Malaysia",
            "Maldives",
            "Malta",
            "Martinique",
            "Mexico",
            "Moldova",
            "Monaco",
            "Mongolia",
            "Morocco",
            "Nepal",
            "Netherlands",
            "New Zealand",
            "Nigeria",
            "North Macedonia",
            "Norway",
            "Oman",
            "Pakistan",
            "Panama",
            "Paraguay",
            "Peru",
            "Philippines",
            "Poland",
            "Portugal",
            "Qatar",
            "Romania",
            "Russia",
            "San Marino",
            "Saudi Arabia",
            "Senegal",
            "Serbia",
            "Singapore",
            "Slovakia",
            "Slovenia",
            "South Africa",
            "Spain",
            "Sri Lanka",
            "Sweden",
            "Switzerland",
            "Thailand",
            "Togo",
            "Tunisia",
            "Turkey",
            "US",
            "Ukraine",
            "United Arab Emirates",
            "Vietnam"
           ],
           "marker": {
            "color": "#636efa",
            "size": [
             11,
             38,
             37,
             1,
             34,
             18,
             250,
             655,
             15,
             210,
             3,
             27,
             689,
             1,
             10,
             18,
             151,
             40,
             41,
             2,
             7,
             2,
             198,
             61,
             80977,
             22,
             2,
             26,
             1,
             38,
             696,
             4,
             26,
             836,
             11,
             28,
             109,
             115,
             225,
             4487,
             30,
             4585,
             228,
             1,
             2,
             30,
             156,
             102,
             96,
             12729,
             110,
             129,
             193,
             21157,
             8,
             773,
             1,
             104,
             26,
             93,
             4,
             8,
             51,
             238,
             10,
             18,
             9,
             26,
             12,
             2,
             1,
             17,
             1,
             962,
             6,
             2,
             14,
             1090,
             19,
             31,
             36,
             6,
             38,
             111,
             103,
             169,
             337,
             123,
             59,
             80,
             103,
             10,
             46,
             212,
             44,
             181,
             38,
             6391,
             10,
             961,
             1359,
             82,
             1,
             18,
             5,
             2727,
             3,
             85,
             53
            ],
            "sizemode": "area",
            "sizeref": 202.89
           },
           "name": "",
           "showlegend": false,
           "type": "scattergeo"
          }
         ],
         "name": "2020-03-14 00:00:00"
        },
        {
         "data": [
          {
           "customdata": [
            [
             16
            ],
            [
             42
            ],
            [
             48
            ],
            [
             1
            ],
            [
             45
            ],
            [
             26
            ],
            [
             297
            ],
            [
             860
            ],
            [
             23
            ],
            [
             214
            ],
            [
             5
            ],
            [
             27
            ],
            [
             886
            ],
            [
             1
            ],
            [
             10
            ],
            [
             24
            ],
            [
             162
            ],
            [
             50
            ],
            [
             51
            ],
            [
             3
            ],
            [
             7
            ],
            [
             2
            ],
            [
             252
            ],
            [
             74
            ],
            [
             81003
            ],
            [
             34
            ],
            [
             2
            ],
            [
             27
            ],
            [
             1
            ],
            [
             49
            ],
            [
             696
            ],
            [
             4
            ],
            [
             26
            ],
            [
             875
            ],
            [
             11
            ],
            [
             28
            ],
            [
             110
            ],
            [
             171
            ],
            [
             244
            ],
            [
             4523
            ],
            [
             33
            ],
            [
             5795
            ],
            [
             331
            ],
            [
             4
            ],
            [
             3
            ],
            [
             32
            ],
            [
             171
            ],
            [
             113
            ],
            [
             117
            ],
            [
             13938
            ],
            [
             116
            ],
            [
             129
            ],
            [
             251
            ],
            [
             24747
            ],
            [
             10
            ],
            [
             839
            ],
            [
             8
            ],
            [
             112
            ],
            [
             30
            ],
            [
             110
            ],
            [
             4
            ],
            [
             12
            ],
            [
             59
            ],
            [
             428
            ],
            [
             13
            ],
            [
             21
            ],
            [
             9
            ],
            [
             41
            ],
            [
             23
            ],
            [
             2
            ],
            [
             1
            ],
            [
             28
            ],
            [
             1
            ],
            [
             1138
            ],
            [
             8
            ],
            [
             2
            ],
            [
             14
            ],
            [
             1221
            ],
            [
             22
            ],
            [
             53
            ],
            [
             43
            ],
            [
             6
            ],
            [
             43
            ],
            [
             140
            ],
            [
             119
            ],
            [
             245
            ],
            [
             401
            ],
            [
             131
            ],
            [
             63
            ],
            [
             101
            ],
            [
             103
            ],
            [
             24
            ],
            [
             48
            ],
            [
             226
            ],
            [
             54
            ],
            [
             219
            ],
            [
             51
            ],
            [
             7798
            ],
            [
             18
            ],
            [
             1022
            ],
            [
             2200
            ],
            [
             114
            ],
            [
             1
            ],
            [
             18
            ],
            [
             6
            ],
            [
             3499
            ],
            [
             3
            ],
            [
             98
            ],
            [
             56
            ]
           ],
           "geo": "geo",
           "hoverlabel": {
            "namelength": 0
           },
           "hovertemplate": "Date=2020-03-15 00:00:00<br>Confirmed=%{customdata[0]}<br>Country/Region=%{location}",
           "legendgroup": "",
           "locationmode": "country names",
           "locations": [
            "Afghanistan",
            "Albania",
            "Algeria",
            "Andorra",
            "Argentina",
            "Armenia",
            "Australia",
            "Austria",
            "Azerbaijan",
            "Bahrain",
            "Bangladesh",
            "Belarus",
            "Belgium",
            "Bhutan",
            "Bolivia",
            "Bosnia and Herzegovina",
            "Brazil",
            "Brunei",
            "Bulgaria",
            "Burkina Faso",
            "Cambodia",
            "Cameroon",
            "Canada",
            "Chile",
            "China",
            "Colombia",
            "Congo (Kinshasa)",
            "Costa Rica",
            "Cote d'Ivoire",
            "Croatia",
            "Cruise Ship",
            "Cuba",
            "Cyprus",
            "Denmark",
            "Dominican Republic",
            "Ecuador",
            "Egypt",
            "Estonia",
            "Finland",
            "France",
            "Georgia",
            "Germany",
            "Greece",
            "Guyana",
            "Honduras",
            "Hungary",
            "Iceland",
            "India",
            "Indonesia",
            "Iran",
            "Iraq",
            "Ireland",
            "Israel",
            "Italy",
            "Jamaica",
            "Japan",
            "Jordan",
            "Kuwait",
            "Latvia",
            "Lebanon",
            "Liechtenstein",
            "Lithuania",
            "Luxembourg",
            "Malaysia",
            "Maldives",
            "Malta",
            "Martinique",
            "Mexico",
            "Moldova",
            "Monaco",
            "Mongolia",
            "Morocco",
            "Nepal",
            "Netherlands",
            "New Zealand",
            "Nigeria",
            "North Macedonia",
            "Norway",
            "Oman",
            "Pakistan",
            "Panama",
            "Paraguay",
            "Peru",
            "Philippines",
            "Poland",
            "Portugal",
            "Qatar",
            "Romania",
            "Russia",
            "San Marino",
            "Saudi Arabia",
            "Senegal",
            "Serbia",
            "Singapore",
            "Slovakia",
            "Slovenia",
            "South Africa",
            "Spain",
            "Sri Lanka",
            "Sweden",
            "Switzerland",
            "Thailand",
            "Togo",
            "Tunisia",
            "Turkey",
            "US",
            "Ukraine",
            "United Arab Emirates",
            "Vietnam"
           ],
           "marker": {
            "color": "#636efa",
            "size": [
             16,
             42,
             48,
             1,
             45,
             26,
             297,
             860,
             23,
             214,
             5,
             27,
             886,
             1,
             10,
             24,
             162,
             50,
             51,
             3,
             7,
             2,
             252,
             74,
             81003,
             34,
             2,
             27,
             1,
             49,
             696,
             4,
             26,
             875,
             11,
             28,
             110,
             171,
             244,
             4523,
             33,
             5795,
             331,
             4,
             3,
             32,
             171,
             113,
             117,
             13938,
             116,
             129,
             251,
             24747,
             10,
             839,
             8,
             112,
             30,
             110,
             4,
             12,
             59,
             428,
             13,
             21,
             9,
             41,
             23,
             2,
             1,
             28,
             1,
             1138,
             8,
             2,
             14,
             1221,
             22,
             53,
             43,
             6,
             43,
             140,
             119,
             245,
             401,
             131,
             63,
             101,
             103,
             24,
             48,
             226,
             54,
             219,
             51,
             7798,
             18,
             1022,
             2200,
             114,
             1,
             18,
             6,
             3499,
             3,
             98,
             56
            ],
            "sizemode": "area",
            "sizeref": 202.89
           },
           "name": "",
           "showlegend": false,
           "type": "scattergeo"
          }
         ],
         "name": "2020-03-15 00:00:00"
        },
        {
         "data": [
          {
           "customdata": [
            [
             21
            ],
            [
             51
            ],
            [
             54
            ],
            [
             2
            ],
            [
             56
            ],
            [
             52
            ],
            [
             377
            ],
            [
             1018
            ],
            [
             15
            ],
            [
             214
            ],
            [
             8
            ],
            [
             36
            ],
            [
             1058
            ],
            [
             1
            ],
            [
             11
            ],
            [
             25
            ],
            [
             200
            ],
            [
             54
            ],
            [
             52
            ],
            [
             15
            ],
            [
             7
            ],
            [
             4
            ],
            [
             415
            ],
            [
             155
            ],
            [
             81033
            ],
            [
             54
            ],
            [
             2
            ],
            [
             35
            ],
            [
             1
            ],
            [
             57
            ],
            [
             696
            ],
            [
             4
            ],
            [
             33
            ],
            [
             933
            ],
            [
             11
            ],
            [
             37
            ],
            [
             150
            ],
            [
             205
            ],
            [
             277
            ],
            [
             6668
            ],
            [
             33
            ],
            [
             7272
            ],
            [
             331
            ],
            [
             4
            ],
            [
             6
            ],
            [
             39
            ],
            [
             180
            ],
            [
             119
            ],
            [
             134
            ],
            [
             14991
            ],
            [
             124
            ],
            [
             169
            ],
            [
             255
            ],
            [
             27980
            ],
            [
             10
            ],
            [
             825
            ],
            [
             17
            ],
            [
             123
            ],
            [
             34
            ],
            [
             99
            ],
            [
             4
            ],
            [
             17
            ],
            [
             77
            ],
            [
             566
            ],
            [
             13
            ],
            [
             30
            ],
            [
             15
            ],
            [
             53
            ],
            [
             23
            ],
            [
             7
            ],
            [
             1
            ],
            [
             29
            ],
            [
             1
            ],
            [
             1416
            ],
            [
             8
            ],
            [
             2
            ],
            [
             18
            ],
            [
             1333
            ],
            [
             22
            ],
            [
             136
            ],
            [
             55
            ],
            [
             8
            ],
            [
             86
            ],
            [
             142
            ],
            [
             177
            ],
            [
             331
            ],
            [
             439
            ],
            [
             158
            ],
            [
             90
            ],
            [
             109
            ],
            [
             118
            ],
            [
             24
            ],
            [
             55
            ],
            [
             243
            ],
            [
             63
            ],
            [
             253
            ],
            [
             62
            ],
            [
             9942
            ],
            [
             28
            ],
            [
             1103
            ],
            [
             2200
            ],
            [
             147
            ],
            [
             1
            ],
            [
             20
            ],
            [
             18
            ],
            [
             4632
            ],
            [
             7
            ],
            [
             98
            ],
            [
             61
            ]
           ],
           "geo": "geo",
           "hoverlabel": {
            "namelength": 0
           },
           "hovertemplate": "Date=2020-03-16 00:00:00<br>Confirmed=%{customdata[0]}<br>Country/Region=%{location}",
           "legendgroup": "",
           "locationmode": "country names",
           "locations": [
            "Afghanistan",
            "Albania",
            "Algeria",
            "Andorra",
            "Argentina",
            "Armenia",
            "Australia",
            "Austria",
            "Azerbaijan",
            "Bahrain",
            "Bangladesh",
            "Belarus",
            "Belgium",
            "Bhutan",
            "Bolivia",
            "Bosnia and Herzegovina",
            "Brazil",
            "Brunei",
            "Bulgaria",
            "Burkina Faso",
            "Cambodia",
            "Cameroon",
            "Canada",
            "Chile",
            "China",
            "Colombia",
            "Congo (Kinshasa)",
            "Costa Rica",
            "Cote d'Ivoire",
            "Croatia",
            "Cruise Ship",
            "Cuba",
            "Cyprus",
            "Denmark",
            "Dominican Republic",
            "Ecuador",
            "Egypt",
            "Estonia",
            "Finland",
            "France",
            "Georgia",
            "Germany",
            "Greece",
            "Guyana",
            "Honduras",
            "Hungary",
            "Iceland",
            "India",
            "Indonesia",
            "Iran",
            "Iraq",
            "Ireland",
            "Israel",
            "Italy",
            "Jamaica",
            "Japan",
            "Jordan",
            "Kuwait",
            "Latvia",
            "Lebanon",
            "Liechtenstein",
            "Lithuania",
            "Luxembourg",
            "Malaysia",
            "Maldives",
            "Malta",
            "Martinique",
            "Mexico",
            "Moldova",
            "Monaco",
            "Mongolia",
            "Morocco",
            "Nepal",
            "Netherlands",
            "New Zealand",
            "Nigeria",
            "North Macedonia",
            "Norway",
            "Oman",
            "Pakistan",
            "Panama",
            "Paraguay",
            "Peru",
            "Philippines",
            "Poland",
            "Portugal",
            "Qatar",
            "Romania",
            "Russia",
            "San Marino",
            "Saudi Arabia",
            "Senegal",
            "Serbia",
            "Singapore",
            "Slovakia",
            "Slovenia",
            "South Africa",
            "Spain",
            "Sri Lanka",
            "Sweden",
            "Switzerland",
            "Thailand",
            "Togo",
            "Tunisia",
            "Turkey",
            "US",
            "Ukraine",
            "United Arab Emirates",
            "Vietnam"
           ],
           "marker": {
            "color": "#636efa",
            "size": [
             21,
             51,
             54,
             2,
             56,
             52,
             377,
             1018,
             15,
             214,
             8,
             36,
             1058,
             1,
             11,
             25,
             200,
             54,
             52,
             15,
             7,
             4,
             415,
             155,
             81033,
             54,
             2,
             35,
             1,
             57,
             696,
             4,
             33,
             933,
             11,
             37,
             150,
             205,
             277,
             6668,
             33,
             7272,
             331,
             4,
             6,
             39,
             180,
             119,
             134,
             14991,
             124,
             169,
             255,
             27980,
             10,
             825,
             17,
             123,
             34,
             99,
             4,
             17,
             77,
             566,
             13,
             30,
             15,
             53,
             23,
             7,
             1,
             29,
             1,
             1416,
             8,
             2,
             18,
             1333,
             22,
             136,
             55,
             8,
             86,
             142,
             177,
             331,
             439,
             158,
             90,
             109,
             118,
             24,
             55,
             243,
             63,
             253,
             62,
             9942,
             28,
             1103,
             2200,
             147,
             1,
             20,
             18,
             4632,
             7,
             98,
             61
            ],
            "sizemode": "area",
            "sizeref": 202.89
           },
           "name": "",
           "showlegend": false,
           "type": "scattergeo"
          }
         ],
         "name": "2020-03-16 00:00:00"
        },
        {
         "data": [
          {
           "customdata": [
            [
             22
            ],
            [
             55
            ],
            [
             60
            ],
            [
             39
            ],
            [
             68
            ],
            [
             78
            ],
            [
             452
            ],
            [
             1332
            ],
            [
             28
            ],
            [
             228
            ],
            [
             10
            ],
            [
             36
            ],
            [
             1243
            ],
            [
             1
            ],
            [
             11
            ],
            [
             26
            ],
            [
             321
            ],
            [
             56
            ],
            [
             67
            ],
            [
             15
            ],
            [
             33
            ],
            [
             10
            ],
            [
             478
            ],
            [
             201
            ],
            [
             81058
            ],
            [
             65
            ],
            [
             3
            ],
            [
             41
            ],
            [
             5
            ],
            [
             65
            ],
            [
             696
            ],
            [
             5
            ],
            [
             46
            ],
            [
             1025
            ],
            [
             21
            ],
            [
             58
            ],
            [
             196
            ],
            [
             225
            ],
            [
             321
            ],
            [
             7699
            ],
            [
             34
            ],
            [
             9257
            ],
            [
             387
            ],
            [
             7
            ],
            [
             8
            ],
            [
             50
            ],
            [
             220
            ],
            [
             142
            ],
            [
             172
            ],
            [
             16169
            ],
            [
             154
            ],
            [
             223
            ],
            [
             337
            ],
            [
             31506
            ],
            [
             12
            ],
            [
             878
            ],
            [
             34
            ],
            [
             130
            ],
            [
             49
            ],
            [
             120
            ],
            [
             7
            ],
            [
             25
            ],
            [
             140
            ],
            [
             673
            ],
            [
             13
            ],
            [
             38
            ],
            [
             16
            ],
            [
             82
            ],
            [
             30
            ],
            [
             7
            ],
            [
             5
            ],
            [
             38
            ],
            [
             1
            ],
            [
             1711
            ],
            [
             12
            ],
            [
             3
            ],
            [
             26
            ],
            [
             1463
            ],
            [
             24
            ],
            [
             236
            ],
            [
             69
            ],
            [
             9
            ],
            [
             117
            ],
            [
             187
            ],
            [
             238
            ],
            [
             448
            ],
            [
             439
            ],
            [
             184
            ],
            [
             114
            ],
            [
             109
            ],
            [
             171
            ],
            [
             26
            ],
            [
             65
            ],
            [
             266
            ],
            [
             72
            ],
            [
             275
            ],
            [
             62
            ],
            [
             11748
            ],
            [
             44
            ],
            [
             1190
            ],
            [
             2700
            ],
            [
             177
            ],
            [
             1
            ],
            [
             24
            ],
            [
             47
            ],
            [
             6421
            ],
            [
             14
            ],
            [
             98
            ],
            [
             66
            ]
           ],
           "geo": "geo",
           "hoverlabel": {
            "namelength": 0
           },
           "hovertemplate": "Date=2020-03-17 00:00:00<br>Confirmed=%{customdata[0]}<br>Country/Region=%{location}",
           "legendgroup": "",
           "locationmode": "country names",
           "locations": [
            "Afghanistan",
            "Albania",
            "Algeria",
            "Andorra",
            "Argentina",
            "Armenia",
            "Australia",
            "Austria",
            "Azerbaijan",
            "Bahrain",
            "Bangladesh",
            "Belarus",
            "Belgium",
            "Bhutan",
            "Bolivia",
            "Bosnia and Herzegovina",
            "Brazil",
            "Brunei",
            "Bulgaria",
            "Burkina Faso",
            "Cambodia",
            "Cameroon",
            "Canada",
            "Chile",
            "China",
            "Colombia",
            "Congo (Kinshasa)",
            "Costa Rica",
            "Cote d'Ivoire",
            "Croatia",
            "Cruise Ship",
            "Cuba",
            "Cyprus",
            "Denmark",
            "Dominican Republic",
            "Ecuador",
            "Egypt",
            "Estonia",
            "Finland",
            "France",
            "Georgia",
            "Germany",
            "Greece",
            "Guyana",
            "Honduras",
            "Hungary",
            "Iceland",
            "India",
            "Indonesia",
            "Iran",
            "Iraq",
            "Ireland",
            "Israel",
            "Italy",
            "Jamaica",
            "Japan",
            "Jordan",
            "Kuwait",
            "Latvia",
            "Lebanon",
            "Liechtenstein",
            "Lithuania",
            "Luxembourg",
            "Malaysia",
            "Maldives",
            "Malta",
            "Martinique",
            "Mexico",
            "Moldova",
            "Monaco",
            "Mongolia",
            "Morocco",
            "Nepal",
            "Netherlands",
            "New Zealand",
            "Nigeria",
            "North Macedonia",
            "Norway",
            "Oman",
            "Pakistan",
            "Panama",
            "Paraguay",
            "Peru",
            "Philippines",
            "Poland",
            "Portugal",
            "Qatar",
            "Romania",
            "Russia",
            "San Marino",
            "Saudi Arabia",
            "Senegal",
            "Serbia",
            "Singapore",
            "Slovakia",
            "Slovenia",
            "South Africa",
            "Spain",
            "Sri Lanka",
            "Sweden",
            "Switzerland",
            "Thailand",
            "Togo",
            "Tunisia",
            "Turkey",
            "US",
            "Ukraine",
            "United Arab Emirates",
            "Vietnam"
           ],
           "marker": {
            "color": "#636efa",
            "size": [
             22,
             55,
             60,
             39,
             68,
             78,
             452,
             1332,
             28,
             228,
             10,
             36,
             1243,
             1,
             11,
             26,
             321,
             56,
             67,
             15,
             33,
             10,
             478,
             201,
             81058,
             65,
             3,
             41,
             5,
             65,
             696,
             5,
             46,
             1025,
             21,
             58,
             196,
             225,
             321,
             7699,
             34,
             9257,
             387,
             7,
             8,
             50,
             220,
             142,
             172,
             16169,
             154,
             223,
             337,
             31506,
             12,
             878,
             34,
             130,
             49,
             120,
             7,
             25,
             140,
             673,
             13,
             38,
             16,
             82,
             30,
             7,
             5,
             38,
             1,
             1711,
             12,
             3,
             26,
             1463,
             24,
             236,
             69,
             9,
             117,
             187,
             238,
             448,
             439,
             184,
             114,
             109,
             171,
             26,
             65,
             266,
             72,
             275,
             62,
             11748,
             44,
             1190,
             2700,
             177,
             1,
             24,
             47,
             6421,
             14,
             98,
             66
            ],
            "sizemode": "area",
            "sizeref": 202.89
           },
           "name": "",
           "showlegend": false,
           "type": "scattergeo"
          }
         ],
         "name": "2020-03-17 00:00:00"
        },
        {
         "data": [
          {
           "customdata": [
            [
             22
            ],
            [
             59
            ],
            [
             74
            ],
            [
             39
            ],
            [
             79
            ],
            [
             84
            ],
            [
             568
            ],
            [
             1646
            ],
            [
             28
            ],
            [
             256
            ],
            [
             14
            ],
            [
             51
            ],
            [
             1486
            ],
            [
             1
            ],
            [
             12
            ],
            [
             38
            ],
            [
             372
            ],
            [
             68
            ],
            [
             92
            ],
            [
             20
            ],
            [
             35
            ],
            [
             10
            ],
            [
             657
            ],
            [
             238
            ],
            [
             81102
            ],
            [
             93
            ],
            [
             4
            ],
            [
             50
            ],
            [
             6
            ],
            [
             81
            ],
            [
             712
            ],
            [
             7
            ],
            [
             49
            ],
            [
             1116
            ],
            [
             21
            ],
            [
             111
            ],
            [
             196
            ],
            [
             258
            ],
            [
             336
            ],
            [
             9105
            ],
            [
             38
            ],
            [
             12327
            ],
            [
             418
            ],
            [
             7
            ],
            [
             9
            ],
            [
             58
            ],
            [
             250
            ],
            [
             156
            ],
            [
             227
            ],
            [
             17361
            ],
            [
             164
            ],
            [
             292
            ],
            [
             433
            ],
            [
             35713
            ],
            [
             13
            ],
            [
             889
            ],
            [
             52
            ],
            [
             142
            ],
            [
             71
            ],
            [
             133
            ],
            [
             28
            ],
            [
             27
            ],
            [
             203
            ],
            [
             790
            ],
            [
             13
            ],
            [
             38
            ],
            [
             19
            ],
            [
             93
            ],
            [
             30
            ],
            [
             7
            ],
            [
             6
            ],
            [
             49
            ],
            [
             1
            ],
            [
             2058
            ],
            [
             20
            ],
            [
             8
            ],
            [
             35
            ],
            [
             1550
            ],
            [
             39
            ],
            [
             299
            ],
            [
             86
            ],
            [
             11
            ],
            [
             145
            ],
            [
             202
            ],
            [
             251
            ],
            [
             448
            ],
            [
             452
            ],
            [
             260
            ],
            [
             147
            ],
            [
             119
            ],
            [
             171
            ],
            [
             31
            ],
            [
             83
            ],
            [
             313
            ],
            [
             105
            ],
            [
             275
            ],
            [
             116
            ],
            [
             13910
            ],
            [
             51
            ],
            [
             1279
            ],
            [
             3028
            ],
            [
             212
            ],
            [
             1
            ],
            [
             29
            ],
            [
             98
            ],
            [
             7783
            ],
            [
             14
            ],
            [
             113
            ],
            [
             75
            ]
           ],
           "geo": "geo",
           "hoverlabel": {
            "namelength": 0
           },
           "hovertemplate": "Date=2020-03-18 00:00:00<br>Confirmed=%{customdata[0]}<br>Country/Region=%{location}",
           "legendgroup": "",
           "locationmode": "country names",
           "locations": [
            "Afghanistan",
            "Albania",
            "Algeria",
            "Andorra",
            "Argentina",
            "Armenia",
            "Australia",
            "Austria",
            "Azerbaijan",
            "Bahrain",
            "Bangladesh",
            "Belarus",
            "Belgium",
            "Bhutan",
            "Bolivia",
            "Bosnia and Herzegovina",
            "Brazil",
            "Brunei",
            "Bulgaria",
            "Burkina Faso",
            "Cambodia",
            "Cameroon",
            "Canada",
            "Chile",
            "China",
            "Colombia",
            "Congo (Kinshasa)",
            "Costa Rica",
            "Cote d'Ivoire",
            "Croatia",
            "Cruise Ship",
            "Cuba",
            "Cyprus",
            "Denmark",
            "Dominican Republic",
            "Ecuador",
            "Egypt",
            "Estonia",
            "Finland",
            "France",
            "Georgia",
            "Germany",
            "Greece",
            "Guyana",
            "Honduras",
            "Hungary",
            "Iceland",
            "India",
            "Indonesia",
            "Iran",
            "Iraq",
            "Ireland",
            "Israel",
            "Italy",
            "Jamaica",
            "Japan",
            "Jordan",
            "Kuwait",
            "Latvia",
            "Lebanon",
            "Liechtenstein",
            "Lithuania",
            "Luxembourg",
            "Malaysia",
            "Maldives",
            "Malta",
            "Martinique",
            "Mexico",
            "Moldova",
            "Monaco",
            "Mongolia",
            "Morocco",
            "Nepal",
            "Netherlands",
            "New Zealand",
            "Nigeria",
            "North Macedonia",
            "Norway",
            "Oman",
            "Pakistan",
            "Panama",
            "Paraguay",
            "Peru",
            "Philippines",
            "Poland",
            "Portugal",
            "Qatar",
            "Romania",
            "Russia",
            "San Marino",
            "Saudi Arabia",
            "Senegal",
            "Serbia",
            "Singapore",
            "Slovakia",
            "Slovenia",
            "South Africa",
            "Spain",
            "Sri Lanka",
            "Sweden",
            "Switzerland",
            "Thailand",
            "Togo",
            "Tunisia",
            "Turkey",
            "US",
            "Ukraine",
            "United Arab Emirates",
            "Vietnam"
           ],
           "marker": {
            "color": "#636efa",
            "size": [
             22,
             59,
             74,
             39,
             79,
             84,
             568,
             1646,
             28,
             256,
             14,
             51,
             1486,
             1,
             12,
             38,
             372,
             68,
             92,
             20,
             35,
             10,
             657,
             238,
             81102,
             93,
             4,
             50,
             6,
             81,
             712,
             7,
             49,
             1116,
             21,
             111,
             196,
             258,
             336,
             9105,
             38,
             12327,
             418,
             7,
             9,
             58,
             250,
             156,
             227,
             17361,
             164,
             292,
             433,
             35713,
             13,
             889,
             52,
             142,
             71,
             133,
             28,
             27,
             203,
             790,
             13,
             38,
             19,
             93,
             30,
             7,
             6,
             49,
             1,
             2058,
             20,
             8,
             35,
             1550,
             39,
             299,
             86,
             11,
             145,
             202,
             251,
             448,
             452,
             260,
             147,
             119,
             171,
             31,
             83,
             313,
             105,
             275,
             116,
             13910,
             51,
             1279,
             3028,
             212,
             1,
             29,
             98,
             7783,
             14,
             113,
             75
            ],
            "sizemode": "area",
            "sizeref": 202.89
           },
           "name": "",
           "showlegend": false,
           "type": "scattergeo"
          }
         ],
         "name": "2020-03-18 00:00:00"
        },
        {
         "data": [
          {
           "customdata": [
            [
             22
            ],
            [
             64
            ],
            [
             87
            ],
            [
             53
            ],
            [
             97
            ],
            [
             115
            ],
            [
             681
            ],
            [
             2013
            ],
            [
             44
            ],
            [
             278
            ],
            [
             17
            ],
            [
             51
            ],
            [
             1795
            ],
            [
             1
            ],
            [
             12
            ],
            [
             63
            ],
            [
             621
            ],
            [
             75
            ],
            [
             94
            ],
            [
             33
            ],
            [
             37
            ],
            [
             13
            ],
            [
             800
            ],
            [
             238
            ],
            [
             81156
            ],
            [
             102
            ],
            [
             14
            ],
            [
             69
            ],
            [
             9
            ],
            [
             105
            ],
            [
             712
            ],
            [
             11
            ],
            [
             67
            ],
            [
             1225
            ],
            [
             34
            ],
            [
             199
            ],
            [
             256
            ],
            [
             267
            ],
            [
             400
            ],
            [
             10947
            ],
            [
             40
            ],
            [
             15320
            ],
            [
             418
            ],
            [
             7
            ],
            [
             12
            ],
            [
             73
            ],
            [
             330
            ],
            [
             194
            ],
            [
             311
            ],
            [
             18407
            ],
            [
             192
            ],
            [
             557
            ],
            [
             677
            ],
            [
             41035
            ],
            [
             15
            ],
            [
             924
            ],
            [
             69
            ],
            [
             148
            ],
            [
             86
            ],
            [
             157
            ],
            [
             28
            ],
            [
             36
            ],
            [
             335
            ],
            [
             900
            ],
            [
             13
            ],
            [
             53
            ],
            [
             23
            ],
            [
             118
            ],
            [
             49
            ],
            [
             7
            ],
            [
             6
            ],
            [
             63
            ],
            [
             1
            ],
            [
             2467
            ],
            [
             28
            ],
            [
             8
            ],
            [
             48
            ],
            [
             1746
            ],
            [
             48
            ],
            [
             454
            ],
            [
             109
            ],
            [
             11
            ],
            [
             234
            ],
            [
             217
            ],
            [
             355
            ],
            [
             785
            ],
            [
             460
            ],
            [
             277
            ],
            [
             199
            ],
            [
             119
            ],
            [
             274
            ],
            [
             31
            ],
            [
             103
            ],
            [
             345
            ],
            [
             123
            ],
            [
             286
            ],
            [
             150
            ],
            [
             17963
            ],
            [
             60
            ],
            [
             1439
            ],
            [
             4075
            ],
            [
             272
            ],
            [
             1
            ],
            [
             39
            ],
            [
             192
            ],
            [
             13677
            ],
            [
             16
            ],
            [
             140
            ],
            [
             85
            ]
           ],
           "geo": "geo",
           "hoverlabel": {
            "namelength": 0
           },
           "hovertemplate": "Date=2020-03-19 00:00:00<br>Confirmed=%{customdata[0]}<br>Country/Region=%{location}",
           "legendgroup": "",
           "locationmode": "country names",
           "locations": [
            "Afghanistan",
            "Albania",
            "Algeria",
            "Andorra",
            "Argentina",
            "Armenia",
            "Australia",
            "Austria",
            "Azerbaijan",
            "Bahrain",
            "Bangladesh",
            "Belarus",
            "Belgium",
            "Bhutan",
            "Bolivia",
            "Bosnia and Herzegovina",
            "Brazil",
            "Brunei",
            "Bulgaria",
            "Burkina Faso",
            "Cambodia",
            "Cameroon",
            "Canada",
            "Chile",
            "China",
            "Colombia",
            "Congo (Kinshasa)",
            "Costa Rica",
            "Cote d'Ivoire",
            "Croatia",
            "Cruise Ship",
            "Cuba",
            "Cyprus",
            "Denmark",
            "Dominican Republic",
            "Ecuador",
            "Egypt",
            "Estonia",
            "Finland",
            "France",
            "Georgia",
            "Germany",
            "Greece",
            "Guyana",
            "Honduras",
            "Hungary",
            "Iceland",
            "India",
            "Indonesia",
            "Iran",
            "Iraq",
            "Ireland",
            "Israel",
            "Italy",
            "Jamaica",
            "Japan",
            "Jordan",
            "Kuwait",
            "Latvia",
            "Lebanon",
            "Liechtenstein",
            "Lithuania",
            "Luxembourg",
            "Malaysia",
            "Maldives",
            "Malta",
            "Martinique",
            "Mexico",
            "Moldova",
            "Monaco",
            "Mongolia",
            "Morocco",
            "Nepal",
            "Netherlands",
            "New Zealand",
            "Nigeria",
            "North Macedonia",
            "Norway",
            "Oman",
            "Pakistan",
            "Panama",
            "Paraguay",
            "Peru",
            "Philippines",
            "Poland",
            "Portugal",
            "Qatar",
            "Romania",
            "Russia",
            "San Marino",
            "Saudi Arabia",
            "Senegal",
            "Serbia",
            "Singapore",
            "Slovakia",
            "Slovenia",
            "South Africa",
            "Spain",
            "Sri Lanka",
            "Sweden",
            "Switzerland",
            "Thailand",
            "Togo",
            "Tunisia",
            "Turkey",
            "US",
            "Ukraine",
            "United Arab Emirates",
            "Vietnam"
           ],
           "marker": {
            "color": "#636efa",
            "size": [
             22,
             64,
             87,
             53,
             97,
             115,
             681,
             2013,
             44,
             278,
             17,
             51,
             1795,
             1,
             12,
             63,
             621,
             75,
             94,
             33,
             37,
             13,
             800,
             238,
             81156,
             102,
             14,
             69,
             9,
             105,
             712,
             11,
             67,
             1225,
             34,
             199,
             256,
             267,
             400,
             10947,
             40,
             15320,
             418,
             7,
             12,
             73,
             330,
             194,
             311,
             18407,
             192,
             557,
             677,
             41035,
             15,
             924,
             69,
             148,
             86,
             157,
             28,
             36,
             335,
             900,
             13,
             53,
             23,
             118,
             49,
             7,
             6,
             63,
             1,
             2467,
             28,
             8,
             48,
             1746,
             48,
             454,
             109,
             11,
             234,
             217,
             355,
             785,
             460,
             277,
             199,
             119,
             274,
             31,
             103,
             345,
             123,
             286,
             150,
             17963,
             60,
             1439,
             4075,
             272,
             1,
             39,
             192,
             13677,
             16,
             140,
             85
            ],
            "sizemode": "area",
            "sizeref": 202.89
           },
           "name": "",
           "showlegend": false,
           "type": "scattergeo"
          }
         ],
         "name": "2020-03-19 00:00:00"
        }
       ],
       "layout": {
        "geo": {
         "center": {},
         "domain": {
          "x": [
           0,
           1
          ],
          "y": [
           0,
           1
          ]
         }
        },
        "legend": {
         "itemsizing": "constant",
         "tracegroupgap": 0
        },
        "margin": {
         "t": 60
        },
        "sliders": [
         {
          "active": 0,
          "currentvalue": {
           "prefix": "Date="
          },
          "len": 0.9,
          "pad": {
           "b": 10,
           "t": 60
          },
          "steps": [
           {
            "args": [
             [
              "2020-01-22 00:00:00"
             ],
             {
              "frame": {
               "duration": 0,
               "redraw": true
              },
              "fromcurrent": true,
              "mode": "immediate",
              "transition": {
               "duration": 0,
               "easing": "linear"
              }
             }
            ],
            "label": "2020-01-22 00:00:00",
            "method": "animate"
           },
           {
            "args": [
             [
              "2020-01-23 00:00:00"
             ],
             {
              "frame": {
               "duration": 0,
               "redraw": true
              },
              "fromcurrent": true,
              "mode": "immediate",
              "transition": {
               "duration": 0,
               "easing": "linear"
              }
             }
            ],
            "label": "2020-01-23 00:00:00",
            "method": "animate"
           },
           {
            "args": [
             [
              "2020-01-24 00:00:00"
             ],
             {
              "frame": {
               "duration": 0,
               "redraw": true
              },
              "fromcurrent": true,
              "mode": "immediate",
              "transition": {
               "duration": 0,
               "easing": "linear"
              }
             }
            ],
            "label": "2020-01-24 00:00:00",
            "method": "animate"
           },
           {
            "args": [
             [
              "2020-01-25 00:00:00"
             ],
             {
              "frame": {
               "duration": 0,
               "redraw": true
              },
              "fromcurrent": true,
              "mode": "immediate",
              "transition": {
               "duration": 0,
               "easing": "linear"
              }
             }
            ],
            "label": "2020-01-25 00:00:00",
            "method": "animate"
           },
           {
            "args": [
             [
              "2020-01-26 00:00:00"
             ],
             {
              "frame": {
               "duration": 0,
               "redraw": true
              },
              "fromcurrent": true,
              "mode": "immediate",
              "transition": {
               "duration": 0,
               "easing": "linear"
              }
             }
            ],
            "label": "2020-01-26 00:00:00",
            "method": "animate"
           },
           {
            "args": [
             [
              "2020-01-27 00:00:00"
             ],
             {
              "frame": {
               "duration": 0,
               "redraw": true
              },
              "fromcurrent": true,
              "mode": "immediate",
              "transition": {
               "duration": 0,
               "easing": "linear"
              }
             }
            ],
            "label": "2020-01-27 00:00:00",
            "method": "animate"
           },
           {
            "args": [
             [
              "2020-01-28 00:00:00"
             ],
             {
              "frame": {
               "duration": 0,
               "redraw": true
              },
              "fromcurrent": true,
              "mode": "immediate",
              "transition": {
               "duration": 0,
               "easing": "linear"
              }
             }
            ],
            "label": "2020-01-28 00:00:00",
            "method": "animate"
           },
           {
            "args": [
             [
              "2020-01-29 00:00:00"
             ],
             {
              "frame": {
               "duration": 0,
               "redraw": true
              },
              "fromcurrent": true,
              "mode": "immediate",
              "transition": {
               "duration": 0,
               "easing": "linear"
              }
             }
            ],
            "label": "2020-01-29 00:00:00",
            "method": "animate"
           },
           {
            "args": [
             [
              "2020-01-30 00:00:00"
             ],
             {
              "frame": {
               "duration": 0,
               "redraw": true
              },
              "fromcurrent": true,
              "mode": "immediate",
              "transition": {
               "duration": 0,
               "easing": "linear"
              }
             }
            ],
            "label": "2020-01-30 00:00:00",
            "method": "animate"
           },
           {
            "args": [
             [
              "2020-01-31 00:00:00"
             ],
             {
              "frame": {
               "duration": 0,
               "redraw": true
              },
              "fromcurrent": true,
              "mode": "immediate",
              "transition": {
               "duration": 0,
               "easing": "linear"
              }
             }
            ],
            "label": "2020-01-31 00:00:00",
            "method": "animate"
           },
           {
            "args": [
             [
              "2020-02-01 00:00:00"
             ],
             {
              "frame": {
               "duration": 0,
               "redraw": true
              },
              "fromcurrent": true,
              "mode": "immediate",
              "transition": {
               "duration": 0,
               "easing": "linear"
              }
             }
            ],
            "label": "2020-02-01 00:00:00",
            "method": "animate"
           },
           {
            "args": [
             [
              "2020-02-02 00:00:00"
             ],
             {
              "frame": {
               "duration": 0,
               "redraw": true
              },
              "fromcurrent": true,
              "mode": "immediate",
              "transition": {
               "duration": 0,
               "easing": "linear"
              }
             }
            ],
            "label": "2020-02-02 00:00:00",
            "method": "animate"
           },
           {
            "args": [
             [
              "2020-02-03 00:00:00"
             ],
             {
              "frame": {
               "duration": 0,
               "redraw": true
              },
              "fromcurrent": true,
              "mode": "immediate",
              "transition": {
               "duration": 0,
               "easing": "linear"
              }
             }
            ],
            "label": "2020-02-03 00:00:00",
            "method": "animate"
           },
           {
            "args": [
             [
              "2020-02-04 00:00:00"
             ],
             {
              "frame": {
               "duration": 0,
               "redraw": true
              },
              "fromcurrent": true,
              "mode": "immediate",
              "transition": {
               "duration": 0,
               "easing": "linear"
              }
             }
            ],
            "label": "2020-02-04 00:00:00",
            "method": "animate"
           },
           {
            "args": [
             [
              "2020-02-05 00:00:00"
             ],
             {
              "frame": {
               "duration": 0,
               "redraw": true
              },
              "fromcurrent": true,
              "mode": "immediate",
              "transition": {
               "duration": 0,
               "easing": "linear"
              }
             }
            ],
            "label": "2020-02-05 00:00:00",
            "method": "animate"
           },
           {
            "args": [
             [
              "2020-02-06 00:00:00"
             ],
             {
              "frame": {
               "duration": 0,
               "redraw": true
              },
              "fromcurrent": true,
              "mode": "immediate",
              "transition": {
               "duration": 0,
               "easing": "linear"
              }
             }
            ],
            "label": "2020-02-06 00:00:00",
            "method": "animate"
           },
           {
            "args": [
             [
              "2020-02-07 00:00:00"
             ],
             {
              "frame": {
               "duration": 0,
               "redraw": true
              },
              "fromcurrent": true,
              "mode": "immediate",
              "transition": {
               "duration": 0,
               "easing": "linear"
              }
             }
            ],
            "label": "2020-02-07 00:00:00",
            "method": "animate"
           },
           {
            "args": [
             [
              "2020-02-08 00:00:00"
             ],
             {
              "frame": {
               "duration": 0,
               "redraw": true
              },
              "fromcurrent": true,
              "mode": "immediate",
              "transition": {
               "duration": 0,
               "easing": "linear"
              }
             }
            ],
            "label": "2020-02-08 00:00:00",
            "method": "animate"
           },
           {
            "args": [
             [
              "2020-02-09 00:00:00"
             ],
             {
              "frame": {
               "duration": 0,
               "redraw": true
              },
              "fromcurrent": true,
              "mode": "immediate",
              "transition": {
               "duration": 0,
               "easing": "linear"
              }
             }
            ],
            "label": "2020-02-09 00:00:00",
            "method": "animate"
           },
           {
            "args": [
             [
              "2020-02-10 00:00:00"
             ],
             {
              "frame": {
               "duration": 0,
               "redraw": true
              },
              "fromcurrent": true,
              "mode": "immediate",
              "transition": {
               "duration": 0,
               "easing": "linear"
              }
             }
            ],
            "label": "2020-02-10 00:00:00",
            "method": "animate"
           },
           {
            "args": [
             [
              "2020-02-11 00:00:00"
             ],
             {
              "frame": {
               "duration": 0,
               "redraw": true
              },
              "fromcurrent": true,
              "mode": "immediate",
              "transition": {
               "duration": 0,
               "easing": "linear"
              }
             }
            ],
            "label": "2020-02-11 00:00:00",
            "method": "animate"
           },
           {
            "args": [
             [
              "2020-02-12 00:00:00"
             ],
             {
              "frame": {
               "duration": 0,
               "redraw": true
              },
              "fromcurrent": true,
              "mode": "immediate",
              "transition": {
               "duration": 0,
               "easing": "linear"
              }
             }
            ],
            "label": "2020-02-12 00:00:00",
            "method": "animate"
           },
           {
            "args": [
             [
              "2020-02-13 00:00:00"
             ],
             {
              "frame": {
               "duration": 0,
               "redraw": true
              },
              "fromcurrent": true,
              "mode": "immediate",
              "transition": {
               "duration": 0,
               "easing": "linear"
              }
             }
            ],
            "label": "2020-02-13 00:00:00",
            "method": "animate"
           },
           {
            "args": [
             [
              "2020-02-14 00:00:00"
             ],
             {
              "frame": {
               "duration": 0,
               "redraw": true
              },
              "fromcurrent": true,
              "mode": "immediate",
              "transition": {
               "duration": 0,
               "easing": "linear"
              }
             }
            ],
            "label": "2020-02-14 00:00:00",
            "method": "animate"
           },
           {
            "args": [
             [
              "2020-02-15 00:00:00"
             ],
             {
              "frame": {
               "duration": 0,
               "redraw": true
              },
              "fromcurrent": true,
              "mode": "immediate",
              "transition": {
               "duration": 0,
               "easing": "linear"
              }
             }
            ],
            "label": "2020-02-15 00:00:00",
            "method": "animate"
           },
           {
            "args": [
             [
              "2020-02-16 00:00:00"
             ],
             {
              "frame": {
               "duration": 0,
               "redraw": true
              },
              "fromcurrent": true,
              "mode": "immediate",
              "transition": {
               "duration": 0,
               "easing": "linear"
              }
             }
            ],
            "label": "2020-02-16 00:00:00",
            "method": "animate"
           },
           {
            "args": [
             [
              "2020-02-17 00:00:00"
             ],
             {
              "frame": {
               "duration": 0,
               "redraw": true
              },
              "fromcurrent": true,
              "mode": "immediate",
              "transition": {
               "duration": 0,
               "easing": "linear"
              }
             }
            ],
            "label": "2020-02-17 00:00:00",
            "method": "animate"
           },
           {
            "args": [
             [
              "2020-02-18 00:00:00"
             ],
             {
              "frame": {
               "duration": 0,
               "redraw": true
              },
              "fromcurrent": true,
              "mode": "immediate",
              "transition": {
               "duration": 0,
               "easing": "linear"
              }
             }
            ],
            "label": "2020-02-18 00:00:00",
            "method": "animate"
           },
           {
            "args": [
             [
              "2020-02-19 00:00:00"
             ],
             {
              "frame": {
               "duration": 0,
               "redraw": true
              },
              "fromcurrent": true,
              "mode": "immediate",
              "transition": {
               "duration": 0,
               "easing": "linear"
              }
             }
            ],
            "label": "2020-02-19 00:00:00",
            "method": "animate"
           },
           {
            "args": [
             [
              "2020-02-20 00:00:00"
             ],
             {
              "frame": {
               "duration": 0,
               "redraw": true
              },
              "fromcurrent": true,
              "mode": "immediate",
              "transition": {
               "duration": 0,
               "easing": "linear"
              }
             }
            ],
            "label": "2020-02-20 00:00:00",
            "method": "animate"
           },
           {
            "args": [
             [
              "2020-02-21 00:00:00"
             ],
             {
              "frame": {
               "duration": 0,
               "redraw": true
              },
              "fromcurrent": true,
              "mode": "immediate",
              "transition": {
               "duration": 0,
               "easing": "linear"
              }
             }
            ],
            "label": "2020-02-21 00:00:00",
            "method": "animate"
           },
           {
            "args": [
             [
              "2020-02-22 00:00:00"
             ],
             {
              "frame": {
               "duration": 0,
               "redraw": true
              },
              "fromcurrent": true,
              "mode": "immediate",
              "transition": {
               "duration": 0,
               "easing": "linear"
              }
             }
            ],
            "label": "2020-02-22 00:00:00",
            "method": "animate"
           },
           {
            "args": [
             [
              "2020-02-23 00:00:00"
             ],
             {
              "frame": {
               "duration": 0,
               "redraw": true
              },
              "fromcurrent": true,
              "mode": "immediate",
              "transition": {
               "duration": 0,
               "easing": "linear"
              }
             }
            ],
            "label": "2020-02-23 00:00:00",
            "method": "animate"
           },
           {
            "args": [
             [
              "2020-02-24 00:00:00"
             ],
             {
              "frame": {
               "duration": 0,
               "redraw": true
              },
              "fromcurrent": true,
              "mode": "immediate",
              "transition": {
               "duration": 0,
               "easing": "linear"
              }
             }
            ],
            "label": "2020-02-24 00:00:00",
            "method": "animate"
           },
           {
            "args": [
             [
              "2020-02-25 00:00:00"
             ],
             {
              "frame": {
               "duration": 0,
               "redraw": true
              },
              "fromcurrent": true,
              "mode": "immediate",
              "transition": {
               "duration": 0,
               "easing": "linear"
              }
             }
            ],
            "label": "2020-02-25 00:00:00",
            "method": "animate"
           },
           {
            "args": [
             [
              "2020-02-26 00:00:00"
             ],
             {
              "frame": {
               "duration": 0,
               "redraw": true
              },
              "fromcurrent": true,
              "mode": "immediate",
              "transition": {
               "duration": 0,
               "easing": "linear"
              }
             }
            ],
            "label": "2020-02-26 00:00:00",
            "method": "animate"
           },
           {
            "args": [
             [
              "2020-02-27 00:00:00"
             ],
             {
              "frame": {
               "duration": 0,
               "redraw": true
              },
              "fromcurrent": true,
              "mode": "immediate",
              "transition": {
               "duration": 0,
               "easing": "linear"
              }
             }
            ],
            "label": "2020-02-27 00:00:00",
            "method": "animate"
           },
           {
            "args": [
             [
              "2020-02-28 00:00:00"
             ],
             {
              "frame": {
               "duration": 0,
               "redraw": true
              },
              "fromcurrent": true,
              "mode": "immediate",
              "transition": {
               "duration": 0,
               "easing": "linear"
              }
             }
            ],
            "label": "2020-02-28 00:00:00",
            "method": "animate"
           },
           {
            "args": [
             [
              "2020-02-29 00:00:00"
             ],
             {
              "frame": {
               "duration": 0,
               "redraw": true
              },
              "fromcurrent": true,
              "mode": "immediate",
              "transition": {
               "duration": 0,
               "easing": "linear"
              }
             }
            ],
            "label": "2020-02-29 00:00:00",
            "method": "animate"
           },
           {
            "args": [
             [
              "2020-03-01 00:00:00"
             ],
             {
              "frame": {
               "duration": 0,
               "redraw": true
              },
              "fromcurrent": true,
              "mode": "immediate",
              "transition": {
               "duration": 0,
               "easing": "linear"
              }
             }
            ],
            "label": "2020-03-01 00:00:00",
            "method": "animate"
           },
           {
            "args": [
             [
              "2020-03-02 00:00:00"
             ],
             {
              "frame": {
               "duration": 0,
               "redraw": true
              },
              "fromcurrent": true,
              "mode": "immediate",
              "transition": {
               "duration": 0,
               "easing": "linear"
              }
             }
            ],
            "label": "2020-03-02 00:00:00",
            "method": "animate"
           },
           {
            "args": [
             [
              "2020-03-03 00:00:00"
             ],
             {
              "frame": {
               "duration": 0,
               "redraw": true
              },
              "fromcurrent": true,
              "mode": "immediate",
              "transition": {
               "duration": 0,
               "easing": "linear"
              }
             }
            ],
            "label": "2020-03-03 00:00:00",
            "method": "animate"
           },
           {
            "args": [
             [
              "2020-03-04 00:00:00"
             ],
             {
              "frame": {
               "duration": 0,
               "redraw": true
              },
              "fromcurrent": true,
              "mode": "immediate",
              "transition": {
               "duration": 0,
               "easing": "linear"
              }
             }
            ],
            "label": "2020-03-04 00:00:00",
            "method": "animate"
           },
           {
            "args": [
             [
              "2020-03-05 00:00:00"
             ],
             {
              "frame": {
               "duration": 0,
               "redraw": true
              },
              "fromcurrent": true,
              "mode": "immediate",
              "transition": {
               "duration": 0,
               "easing": "linear"
              }
             }
            ],
            "label": "2020-03-05 00:00:00",
            "method": "animate"
           },
           {
            "args": [
             [
              "2020-03-06 00:00:00"
             ],
             {
              "frame": {
               "duration": 0,
               "redraw": true
              },
              "fromcurrent": true,
              "mode": "immediate",
              "transition": {
               "duration": 0,
               "easing": "linear"
              }
             }
            ],
            "label": "2020-03-06 00:00:00",
            "method": "animate"
           },
           {
            "args": [
             [
              "2020-03-07 00:00:00"
             ],
             {
              "frame": {
               "duration": 0,
               "redraw": true
              },
              "fromcurrent": true,
              "mode": "immediate",
              "transition": {
               "duration": 0,
               "easing": "linear"
              }
             }
            ],
            "label": "2020-03-07 00:00:00",
            "method": "animate"
           },
           {
            "args": [
             [
              "2020-03-08 00:00:00"
             ],
             {
              "frame": {
               "duration": 0,
               "redraw": true
              },
              "fromcurrent": true,
              "mode": "immediate",
              "transition": {
               "duration": 0,
               "easing": "linear"
              }
             }
            ],
            "label": "2020-03-08 00:00:00",
            "method": "animate"
           },
           {
            "args": [
             [
              "2020-03-09 00:00:00"
             ],
             {
              "frame": {
               "duration": 0,
               "redraw": true
              },
              "fromcurrent": true,
              "mode": "immediate",
              "transition": {
               "duration": 0,
               "easing": "linear"
              }
             }
            ],
            "label": "2020-03-09 00:00:00",
            "method": "animate"
           },
           {
            "args": [
             [
              "2020-03-10 00:00:00"
             ],
             {
              "frame": {
               "duration": 0,
               "redraw": true
              },
              "fromcurrent": true,
              "mode": "immediate",
              "transition": {
               "duration": 0,
               "easing": "linear"
              }
             }
            ],
            "label": "2020-03-10 00:00:00",
            "method": "animate"
           },
           {
            "args": [
             [
              "2020-03-11 00:00:00"
             ],
             {
              "frame": {
               "duration": 0,
               "redraw": true
              },
              "fromcurrent": true,
              "mode": "immediate",
              "transition": {
               "duration": 0,
               "easing": "linear"
              }
             }
            ],
            "label": "2020-03-11 00:00:00",
            "method": "animate"
           },
           {
            "args": [
             [
              "2020-03-12 00:00:00"
             ],
             {
              "frame": {
               "duration": 0,
               "redraw": true
              },
              "fromcurrent": true,
              "mode": "immediate",
              "transition": {
               "duration": 0,
               "easing": "linear"
              }
             }
            ],
            "label": "2020-03-12 00:00:00",
            "method": "animate"
           },
           {
            "args": [
             [
              "2020-03-13 00:00:00"
             ],
             {
              "frame": {
               "duration": 0,
               "redraw": true
              },
              "fromcurrent": true,
              "mode": "immediate",
              "transition": {
               "duration": 0,
               "easing": "linear"
              }
             }
            ],
            "label": "2020-03-13 00:00:00",
            "method": "animate"
           },
           {
            "args": [
             [
              "2020-03-14 00:00:00"
             ],
             {
              "frame": {
               "duration": 0,
               "redraw": true
              },
              "fromcurrent": true,
              "mode": "immediate",
              "transition": {
               "duration": 0,
               "easing": "linear"
              }
             }
            ],
            "label": "2020-03-14 00:00:00",
            "method": "animate"
           },
           {
            "args": [
             [
              "2020-03-15 00:00:00"
             ],
             {
              "frame": {
               "duration": 0,
               "redraw": true
              },
              "fromcurrent": true,
              "mode": "immediate",
              "transition": {
               "duration": 0,
               "easing": "linear"
              }
             }
            ],
            "label": "2020-03-15 00:00:00",
            "method": "animate"
           },
           {
            "args": [
             [
              "2020-03-16 00:00:00"
             ],
             {
              "frame": {
               "duration": 0,
               "redraw": true
              },
              "fromcurrent": true,
              "mode": "immediate",
              "transition": {
               "duration": 0,
               "easing": "linear"
              }
             }
            ],
            "label": "2020-03-16 00:00:00",
            "method": "animate"
           },
           {
            "args": [
             [
              "2020-03-17 00:00:00"
             ],
             {
              "frame": {
               "duration": 0,
               "redraw": true
              },
              "fromcurrent": true,
              "mode": "immediate",
              "transition": {
               "duration": 0,
               "easing": "linear"
              }
             }
            ],
            "label": "2020-03-17 00:00:00",
            "method": "animate"
           },
           {
            "args": [
             [
              "2020-03-18 00:00:00"
             ],
             {
              "frame": {
               "duration": 0,
               "redraw": true
              },
              "fromcurrent": true,
              "mode": "immediate",
              "transition": {
               "duration": 0,
               "easing": "linear"
              }
             }
            ],
            "label": "2020-03-18 00:00:00",
            "method": "animate"
           },
           {
            "args": [
             [
              "2020-03-19 00:00:00"
             ],
             {
              "frame": {
               "duration": 0,
               "redraw": true
              },
              "fromcurrent": true,
              "mode": "immediate",
              "transition": {
               "duration": 0,
               "easing": "linear"
              }
             }
            ],
            "label": "2020-03-19 00:00:00",
            "method": "animate"
           }
          ],
          "x": 0.1,
          "xanchor": "left",
          "y": 0,
          "yanchor": "top"
         }
        ],
        "template": {
         "data": {
          "bar": [
           {
            "error_x": {
             "color": "#2a3f5f"
            },
            "error_y": {
             "color": "#2a3f5f"
            },
            "marker": {
             "line": {
              "color": "#E5ECF6",
              "width": 0.5
             }
            },
            "type": "bar"
           }
          ],
          "barpolar": [
           {
            "marker": {
             "line": {
              "color": "#E5ECF6",
              "width": 0.5
             }
            },
            "type": "barpolar"
           }
          ],
          "carpet": [
           {
            "aaxis": {
             "endlinecolor": "#2a3f5f",
             "gridcolor": "white",
             "linecolor": "white",
             "minorgridcolor": "white",
             "startlinecolor": "#2a3f5f"
            },
            "baxis": {
             "endlinecolor": "#2a3f5f",
             "gridcolor": "white",
             "linecolor": "white",
             "minorgridcolor": "white",
             "startlinecolor": "#2a3f5f"
            },
            "type": "carpet"
           }
          ],
          "choropleth": [
           {
            "colorbar": {
             "outlinewidth": 0,
             "ticks": ""
            },
            "type": "choropleth"
           }
          ],
          "contour": [
           {
            "colorbar": {
             "outlinewidth": 0,
             "ticks": ""
            },
            "colorscale": [
             [
              0,
              "#0d0887"
             ],
             [
              0.1111111111111111,
              "#46039f"
             ],
             [
              0.2222222222222222,
              "#7201a8"
             ],
             [
              0.3333333333333333,
              "#9c179e"
             ],
             [
              0.4444444444444444,
              "#bd3786"
             ],
             [
              0.5555555555555556,
              "#d8576b"
             ],
             [
              0.6666666666666666,
              "#ed7953"
             ],
             [
              0.7777777777777778,
              "#fb9f3a"
             ],
             [
              0.8888888888888888,
              "#fdca26"
             ],
             [
              1,
              "#f0f921"
             ]
            ],
            "type": "contour"
           }
          ],
          "contourcarpet": [
           {
            "colorbar": {
             "outlinewidth": 0,
             "ticks": ""
            },
            "type": "contourcarpet"
           }
          ],
          "heatmap": [
           {
            "colorbar": {
             "outlinewidth": 0,
             "ticks": ""
            },
            "colorscale": [
             [
              0,
              "#0d0887"
             ],
             [
              0.1111111111111111,
              "#46039f"
             ],
             [
              0.2222222222222222,
              "#7201a8"
             ],
             [
              0.3333333333333333,
              "#9c179e"
             ],
             [
              0.4444444444444444,
              "#bd3786"
             ],
             [
              0.5555555555555556,
              "#d8576b"
             ],
             [
              0.6666666666666666,
              "#ed7953"
             ],
             [
              0.7777777777777778,
              "#fb9f3a"
             ],
             [
              0.8888888888888888,
              "#fdca26"
             ],
             [
              1,
              "#f0f921"
             ]
            ],
            "type": "heatmap"
           }
          ],
          "heatmapgl": [
           {
            "colorbar": {
             "outlinewidth": 0,
             "ticks": ""
            },
            "colorscale": [
             [
              0,
              "#0d0887"
             ],
             [
              0.1111111111111111,
              "#46039f"
             ],
             [
              0.2222222222222222,
              "#7201a8"
             ],
             [
              0.3333333333333333,
              "#9c179e"
             ],
             [
              0.4444444444444444,
              "#bd3786"
             ],
             [
              0.5555555555555556,
              "#d8576b"
             ],
             [
              0.6666666666666666,
              "#ed7953"
             ],
             [
              0.7777777777777778,
              "#fb9f3a"
             ],
             [
              0.8888888888888888,
              "#fdca26"
             ],
             [
              1,
              "#f0f921"
             ]
            ],
            "type": "heatmapgl"
           }
          ],
          "histogram": [
           {
            "marker": {
             "colorbar": {
              "outlinewidth": 0,
              "ticks": ""
             }
            },
            "type": "histogram"
           }
          ],
          "histogram2d": [
           {
            "colorbar": {
             "outlinewidth": 0,
             "ticks": ""
            },
            "colorscale": [
             [
              0,
              "#0d0887"
             ],
             [
              0.1111111111111111,
              "#46039f"
             ],
             [
              0.2222222222222222,
              "#7201a8"
             ],
             [
              0.3333333333333333,
              "#9c179e"
             ],
             [
              0.4444444444444444,
              "#bd3786"
             ],
             [
              0.5555555555555556,
              "#d8576b"
             ],
             [
              0.6666666666666666,
              "#ed7953"
             ],
             [
              0.7777777777777778,
              "#fb9f3a"
             ],
             [
              0.8888888888888888,
              "#fdca26"
             ],
             [
              1,
              "#f0f921"
             ]
            ],
            "type": "histogram2d"
           }
          ],
          "histogram2dcontour": [
           {
            "colorbar": {
             "outlinewidth": 0,
             "ticks": ""
            },
            "colorscale": [
             [
              0,
              "#0d0887"
             ],
             [
              0.1111111111111111,
              "#46039f"
             ],
             [
              0.2222222222222222,
              "#7201a8"
             ],
             [
              0.3333333333333333,
              "#9c179e"
             ],
             [
              0.4444444444444444,
              "#bd3786"
             ],
             [
              0.5555555555555556,
              "#d8576b"
             ],
             [
              0.6666666666666666,
              "#ed7953"
             ],
             [
              0.7777777777777778,
              "#fb9f3a"
             ],
             [
              0.8888888888888888,
              "#fdca26"
             ],
             [
              1,
              "#f0f921"
             ]
            ],
            "type": "histogram2dcontour"
           }
          ],
          "mesh3d": [
           {
            "colorbar": {
             "outlinewidth": 0,
             "ticks": ""
            },
            "type": "mesh3d"
           }
          ],
          "parcoords": [
           {
            "line": {
             "colorbar": {
              "outlinewidth": 0,
              "ticks": ""
             }
            },
            "type": "parcoords"
           }
          ],
          "pie": [
           {
            "automargin": true,
            "type": "pie"
           }
          ],
          "scatter": [
           {
            "marker": {
             "colorbar": {
              "outlinewidth": 0,
              "ticks": ""
             }
            },
            "type": "scatter"
           }
          ],
          "scatter3d": [
           {
            "line": {
             "colorbar": {
              "outlinewidth": 0,
              "ticks": ""
             }
            },
            "marker": {
             "colorbar": {
              "outlinewidth": 0,
              "ticks": ""
             }
            },
            "type": "scatter3d"
           }
          ],
          "scattercarpet": [
           {
            "marker": {
             "colorbar": {
              "outlinewidth": 0,
              "ticks": ""
             }
            },
            "type": "scattercarpet"
           }
          ],
          "scattergeo": [
           {
            "marker": {
             "colorbar": {
              "outlinewidth": 0,
              "ticks": ""
             }
            },
            "type": "scattergeo"
           }
          ],
          "scattergl": [
           {
            "marker": {
             "colorbar": {
              "outlinewidth": 0,
              "ticks": ""
             }
            },
            "type": "scattergl"
           }
          ],
          "scattermapbox": [
           {
            "marker": {
             "colorbar": {
              "outlinewidth": 0,
              "ticks": ""
             }
            },
            "type": "scattermapbox"
           }
          ],
          "scatterpolar": [
           {
            "marker": {
             "colorbar": {
              "outlinewidth": 0,
              "ticks": ""
             }
            },
            "type": "scatterpolar"
           }
          ],
          "scatterpolargl": [
           {
            "marker": {
             "colorbar": {
              "outlinewidth": 0,
              "ticks": ""
             }
            },
            "type": "scatterpolargl"
           }
          ],
          "scatterternary": [
           {
            "marker": {
             "colorbar": {
              "outlinewidth": 0,
              "ticks": ""
             }
            },
            "type": "scatterternary"
           }
          ],
          "surface": [
           {
            "colorbar": {
             "outlinewidth": 0,
             "ticks": ""
            },
            "colorscale": [
             [
              0,
              "#0d0887"
             ],
             [
              0.1111111111111111,
              "#46039f"
             ],
             [
              0.2222222222222222,
              "#7201a8"
             ],
             [
              0.3333333333333333,
              "#9c179e"
             ],
             [
              0.4444444444444444,
              "#bd3786"
             ],
             [
              0.5555555555555556,
              "#d8576b"
             ],
             [
              0.6666666666666666,
              "#ed7953"
             ],
             [
              0.7777777777777778,
              "#fb9f3a"
             ],
             [
              0.8888888888888888,
              "#fdca26"
             ],
             [
              1,
              "#f0f921"
             ]
            ],
            "type": "surface"
           }
          ],
          "table": [
           {
            "cells": {
             "fill": {
              "color": "#EBF0F8"
             },
             "line": {
              "color": "white"
             }
            },
            "header": {
             "fill": {
              "color": "#C8D4E3"
             },
             "line": {
              "color": "white"
             }
            },
            "type": "table"
           }
          ]
         },
         "layout": {
          "annotationdefaults": {
           "arrowcolor": "#2a3f5f",
           "arrowhead": 0,
           "arrowwidth": 1
          },
          "coloraxis": {
           "colorbar": {
            "outlinewidth": 0,
            "ticks": ""
           }
          },
          "colorscale": {
           "diverging": [
            [
             0,
             "#8e0152"
            ],
            [
             0.1,
             "#c51b7d"
            ],
            [
             0.2,
             "#de77ae"
            ],
            [
             0.3,
             "#f1b6da"
            ],
            [
             0.4,
             "#fde0ef"
            ],
            [
             0.5,
             "#f7f7f7"
            ],
            [
             0.6,
             "#e6f5d0"
            ],
            [
             0.7,
             "#b8e186"
            ],
            [
             0.8,
             "#7fbc41"
            ],
            [
             0.9,
             "#4d9221"
            ],
            [
             1,
             "#276419"
            ]
           ],
           "sequential": [
            [
             0,
             "#0d0887"
            ],
            [
             0.1111111111111111,
             "#46039f"
            ],
            [
             0.2222222222222222,
             "#7201a8"
            ],
            [
             0.3333333333333333,
             "#9c179e"
            ],
            [
             0.4444444444444444,
             "#bd3786"
            ],
            [
             0.5555555555555556,
             "#d8576b"
            ],
            [
             0.6666666666666666,
             "#ed7953"
            ],
            [
             0.7777777777777778,
             "#fb9f3a"
            ],
            [
             0.8888888888888888,
             "#fdca26"
            ],
            [
             1,
             "#f0f921"
            ]
           ],
           "sequentialminus": [
            [
             0,
             "#0d0887"
            ],
            [
             0.1111111111111111,
             "#46039f"
            ],
            [
             0.2222222222222222,
             "#7201a8"
            ],
            [
             0.3333333333333333,
             "#9c179e"
            ],
            [
             0.4444444444444444,
             "#bd3786"
            ],
            [
             0.5555555555555556,
             "#d8576b"
            ],
            [
             0.6666666666666666,
             "#ed7953"
            ],
            [
             0.7777777777777778,
             "#fb9f3a"
            ],
            [
             0.8888888888888888,
             "#fdca26"
            ],
            [
             1,
             "#f0f921"
            ]
           ]
          },
          "colorway": [
           "#636efa",
           "#EF553B",
           "#00cc96",
           "#ab63fa",
           "#FFA15A",
           "#19d3f3",
           "#FF6692",
           "#B6E880",
           "#FF97FF",
           "#FECB52"
          ],
          "font": {
           "color": "#2a3f5f"
          },
          "geo": {
           "bgcolor": "white",
           "lakecolor": "white",
           "landcolor": "#E5ECF6",
           "showlakes": true,
           "showland": true,
           "subunitcolor": "white"
          },
          "hoverlabel": {
           "align": "left"
          },
          "hovermode": "closest",
          "mapbox": {
           "style": "light"
          },
          "paper_bgcolor": "white",
          "plot_bgcolor": "#E5ECF6",
          "polar": {
           "angularaxis": {
            "gridcolor": "white",
            "linecolor": "white",
            "ticks": ""
           },
           "bgcolor": "#E5ECF6",
           "radialaxis": {
            "gridcolor": "white",
            "linecolor": "white",
            "ticks": ""
           }
          },
          "scene": {
           "xaxis": {
            "backgroundcolor": "#E5ECF6",
            "gridcolor": "white",
            "gridwidth": 2,
            "linecolor": "white",
            "showbackground": true,
            "ticks": "",
            "zerolinecolor": "white"
           },
           "yaxis": {
            "backgroundcolor": "#E5ECF6",
            "gridcolor": "white",
            "gridwidth": 2,
            "linecolor": "white",
            "showbackground": true,
            "ticks": "",
            "zerolinecolor": "white"
           },
           "zaxis": {
            "backgroundcolor": "#E5ECF6",
            "gridcolor": "white",
            "gridwidth": 2,
            "linecolor": "white",
            "showbackground": true,
            "ticks": "",
            "zerolinecolor": "white"
           }
          },
          "shapedefaults": {
           "line": {
            "color": "#2a3f5f"
           }
          },
          "ternary": {
           "aaxis": {
            "gridcolor": "white",
            "linecolor": "white",
            "ticks": ""
           },
           "baxis": {
            "gridcolor": "white",
            "linecolor": "white",
            "ticks": ""
           },
           "bgcolor": "#E5ECF6",
           "caxis": {
            "gridcolor": "white",
            "linecolor": "white",
            "ticks": ""
           }
          },
          "title": {
           "x": 0.05
          },
          "xaxis": {
           "automargin": true,
           "gridcolor": "white",
           "linecolor": "white",
           "ticks": "",
           "title": {
            "standoff": 15
           },
           "zerolinecolor": "white",
           "zerolinewidth": 2
          },
          "yaxis": {
           "automargin": true,
           "gridcolor": "white",
           "linecolor": "white",
           "ticks": "",
           "title": {
            "standoff": 15
           },
           "zerolinecolor": "white",
           "zerolinewidth": 2
          }
         }
        },
        "updatemenus": [
         {
          "buttons": [
           {
            "args": [
             null,
             {
              "frame": {
               "duration": 500,
               "redraw": true
              },
              "fromcurrent": true,
              "mode": "immediate",
              "transition": {
               "duration": 500,
               "easing": "linear"
              }
             }
            ],
            "label": "&#9654;",
            "method": "animate"
           },
           {
            "args": [
             [
              null
             ],
             {
              "frame": {
               "duration": 0,
               "redraw": true
              },
              "fromcurrent": true,
              "mode": "immediate",
              "transition": {
               "duration": 0,
               "easing": "linear"
              }
             }
            ],
            "label": "&#9724;",
            "method": "animate"
           }
          ],
          "direction": "left",
          "pad": {
           "r": 10,
           "t": 70
          },
          "showactive": false,
          "type": "buttons",
          "x": 0.1,
          "xanchor": "right",
          "y": 0,
          "yanchor": "top"
         }
        ]
       }
      },
      "text/html": [
       "<div>\n",
       "        \n",
       "        \n",
       "            <div id=\"0d36c9b2-32be-4333-a192-bdf580729878\" class=\"plotly-graph-div\" style=\"height:525px; width:100%;\"></div>\n",
       "            <script type=\"text/javascript\">\n",
       "                require([\"plotly\"], function(Plotly) {\n",
       "                    window.PLOTLYENV=window.PLOTLYENV || {};\n",
       "                    \n",
       "                if (document.getElementById(\"0d36c9b2-32be-4333-a192-bdf580729878\")) {\n",
       "                    Plotly.newPlot(\n",
       "                        '0d36c9b2-32be-4333-a192-bdf580729878',\n",
       "                        [{\"customdata\": [[0], [0], [0], [0], [0], [0], [0], [0], [0], [0], [0], [0], [0], [0], [0], [0], [0], [0], [0], [0], [0], [0], [0], [0], [548], [0], [0], [0], [0], [0], [0], [0], [0], [0], [0], [0], [0], [0], [0], [0], [0], [0], [0], [0], [0], [0], [0], [0], [0], [0], [0], [0], [0], [0], [0], [2], [0], [0], [0], [0], [0], [0], [0], [0], [0], [0], [0], [0], [0], [0], [0], [0], [0], [0], [0], [0], [0], [0], [0], [0], [0], [0], [0], [0], [0], [0], [0], [0], [0], [0], [0], [0], [0], [0], [0], [0], [0], [0], [0], [0], [0], [2], [0], [0], [0], [1], [0], [0], [0]], \"geo\": \"geo\", \"hoverlabel\": {\"namelength\": 0}, \"hovertemplate\": \"Date=2020-01-22 00:00:00<br>Confirmed=%{customdata[0]}<br>Country/Region=%{location}\", \"legendgroup\": \"\", \"locationmode\": \"country names\", \"locations\": [\"Afghanistan\", \"Albania\", \"Algeria\", \"Andorra\", \"Argentina\", \"Armenia\", \"Australia\", \"Austria\", \"Azerbaijan\", \"Bahrain\", \"Bangladesh\", \"Belarus\", \"Belgium\", \"Bhutan\", \"Bolivia\", \"Bosnia and Herzegovina\", \"Brazil\", \"Brunei\", \"Bulgaria\", \"Burkina Faso\", \"Cambodia\", \"Cameroon\", \"Canada\", \"Chile\", \"China\", \"Colombia\", \"Congo (Kinshasa)\", \"Costa Rica\", \"Cote d'Ivoire\", \"Croatia\", \"Cruise Ship\", \"Cuba\", \"Cyprus\", \"Denmark\", \"Dominican Republic\", \"Ecuador\", \"Egypt\", \"Estonia\", \"Finland\", \"France\", \"Georgia\", \"Germany\", \"Greece\", \"Guyana\", \"Honduras\", \"Hungary\", \"Iceland\", \"India\", \"Indonesia\", \"Iran\", \"Iraq\", \"Ireland\", \"Israel\", \"Italy\", \"Jamaica\", \"Japan\", \"Jordan\", \"Kuwait\", \"Latvia\", \"Lebanon\", \"Liechtenstein\", \"Lithuania\", \"Luxembourg\", \"Malaysia\", \"Maldives\", \"Malta\", \"Martinique\", \"Mexico\", \"Moldova\", \"Monaco\", \"Mongolia\", \"Morocco\", \"Nepal\", \"Netherlands\", \"New Zealand\", \"Nigeria\", \"North Macedonia\", \"Norway\", \"Oman\", \"Pakistan\", \"Panama\", \"Paraguay\", \"Peru\", \"Philippines\", \"Poland\", \"Portugal\", \"Qatar\", \"Romania\", \"Russia\", \"San Marino\", \"Saudi Arabia\", \"Senegal\", \"Serbia\", \"Singapore\", \"Slovakia\", \"Slovenia\", \"South Africa\", \"Spain\", \"Sri Lanka\", \"Sweden\", \"Switzerland\", \"Thailand\", \"Togo\", \"Tunisia\", \"Turkey\", \"US\", \"Ukraine\", \"United Arab Emirates\", \"Vietnam\"], \"marker\": {\"color\": \"#636efa\", \"size\": [0, 0, 0, 0, 0, 0, 0, 0, 0, 0, 0, 0, 0, 0, 0, 0, 0, 0, 0, 0, 0, 0, 0, 0, 548, 0, 0, 0, 0, 0, 0, 0, 0, 0, 0, 0, 0, 0, 0, 0, 0, 0, 0, 0, 0, 0, 0, 0, 0, 0, 0, 0, 0, 0, 0, 2, 0, 0, 0, 0, 0, 0, 0, 0, 0, 0, 0, 0, 0, 0, 0, 0, 0, 0, 0, 0, 0, 0, 0, 0, 0, 0, 0, 0, 0, 0, 0, 0, 0, 0, 0, 0, 0, 0, 0, 0, 0, 0, 0, 0, 0, 2, 0, 0, 0, 1, 0, 0, 0], \"sizemode\": \"area\", \"sizeref\": 202.89}, \"name\": \"\", \"showlegend\": false, \"type\": \"scattergeo\"}],\n",
       "                        {\"geo\": {\"center\": {}, \"domain\": {\"x\": [0.0, 1.0], \"y\": [0.0, 1.0]}}, \"legend\": {\"itemsizing\": \"constant\", \"tracegroupgap\": 0}, \"margin\": {\"t\": 60}, \"sliders\": [{\"active\": 0, \"currentvalue\": {\"prefix\": \"Date=\"}, \"len\": 0.9, \"pad\": {\"b\": 10, \"t\": 60}, \"steps\": [{\"args\": [[\"2020-01-22 00:00:00\"], {\"frame\": {\"duration\": 0, \"redraw\": true}, \"fromcurrent\": true, \"mode\": \"immediate\", \"transition\": {\"duration\": 0, \"easing\": \"linear\"}}], \"label\": \"2020-01-22 00:00:00\", \"method\": \"animate\"}, {\"args\": [[\"2020-01-23 00:00:00\"], {\"frame\": {\"duration\": 0, \"redraw\": true}, \"fromcurrent\": true, \"mode\": \"immediate\", \"transition\": {\"duration\": 0, \"easing\": \"linear\"}}], \"label\": \"2020-01-23 00:00:00\", \"method\": \"animate\"}, {\"args\": [[\"2020-01-24 00:00:00\"], {\"frame\": {\"duration\": 0, \"redraw\": true}, \"fromcurrent\": true, \"mode\": \"immediate\", \"transition\": {\"duration\": 0, \"easing\": \"linear\"}}], \"label\": \"2020-01-24 00:00:00\", \"method\": \"animate\"}, {\"args\": [[\"2020-01-25 00:00:00\"], {\"frame\": {\"duration\": 0, \"redraw\": true}, \"fromcurrent\": true, \"mode\": \"immediate\", \"transition\": {\"duration\": 0, \"easing\": \"linear\"}}], \"label\": \"2020-01-25 00:00:00\", \"method\": \"animate\"}, {\"args\": [[\"2020-01-26 00:00:00\"], {\"frame\": {\"duration\": 0, \"redraw\": true}, \"fromcurrent\": true, \"mode\": \"immediate\", \"transition\": {\"duration\": 0, \"easing\": \"linear\"}}], \"label\": \"2020-01-26 00:00:00\", \"method\": \"animate\"}, {\"args\": [[\"2020-01-27 00:00:00\"], {\"frame\": {\"duration\": 0, \"redraw\": true}, \"fromcurrent\": true, \"mode\": \"immediate\", \"transition\": {\"duration\": 0, \"easing\": \"linear\"}}], \"label\": \"2020-01-27 00:00:00\", \"method\": \"animate\"}, {\"args\": [[\"2020-01-28 00:00:00\"], {\"frame\": {\"duration\": 0, \"redraw\": true}, \"fromcurrent\": true, \"mode\": \"immediate\", \"transition\": {\"duration\": 0, \"easing\": \"linear\"}}], \"label\": \"2020-01-28 00:00:00\", \"method\": \"animate\"}, {\"args\": [[\"2020-01-29 00:00:00\"], {\"frame\": {\"duration\": 0, \"redraw\": true}, \"fromcurrent\": true, \"mode\": \"immediate\", \"transition\": {\"duration\": 0, \"easing\": \"linear\"}}], \"label\": \"2020-01-29 00:00:00\", \"method\": \"animate\"}, {\"args\": [[\"2020-01-30 00:00:00\"], {\"frame\": {\"duration\": 0, \"redraw\": true}, \"fromcurrent\": true, \"mode\": \"immediate\", \"transition\": {\"duration\": 0, \"easing\": \"linear\"}}], \"label\": \"2020-01-30 00:00:00\", \"method\": \"animate\"}, {\"args\": [[\"2020-01-31 00:00:00\"], {\"frame\": {\"duration\": 0, \"redraw\": true}, \"fromcurrent\": true, \"mode\": \"immediate\", \"transition\": {\"duration\": 0, \"easing\": \"linear\"}}], \"label\": \"2020-01-31 00:00:00\", \"method\": \"animate\"}, {\"args\": [[\"2020-02-01 00:00:00\"], {\"frame\": {\"duration\": 0, \"redraw\": true}, \"fromcurrent\": true, \"mode\": \"immediate\", \"transition\": {\"duration\": 0, \"easing\": \"linear\"}}], \"label\": \"2020-02-01 00:00:00\", \"method\": \"animate\"}, {\"args\": [[\"2020-02-02 00:00:00\"], {\"frame\": {\"duration\": 0, \"redraw\": true}, \"fromcurrent\": true, \"mode\": \"immediate\", \"transition\": {\"duration\": 0, \"easing\": \"linear\"}}], \"label\": \"2020-02-02 00:00:00\", \"method\": \"animate\"}, {\"args\": [[\"2020-02-03 00:00:00\"], {\"frame\": {\"duration\": 0, \"redraw\": true}, \"fromcurrent\": true, \"mode\": \"immediate\", \"transition\": {\"duration\": 0, \"easing\": \"linear\"}}], \"label\": \"2020-02-03 00:00:00\", \"method\": \"animate\"}, {\"args\": [[\"2020-02-04 00:00:00\"], {\"frame\": {\"duration\": 0, \"redraw\": true}, \"fromcurrent\": true, \"mode\": \"immediate\", \"transition\": {\"duration\": 0, \"easing\": \"linear\"}}], \"label\": \"2020-02-04 00:00:00\", \"method\": \"animate\"}, {\"args\": [[\"2020-02-05 00:00:00\"], {\"frame\": {\"duration\": 0, \"redraw\": true}, \"fromcurrent\": true, \"mode\": \"immediate\", \"transition\": {\"duration\": 0, \"easing\": \"linear\"}}], \"label\": \"2020-02-05 00:00:00\", \"method\": \"animate\"}, {\"args\": [[\"2020-02-06 00:00:00\"], {\"frame\": {\"duration\": 0, \"redraw\": true}, \"fromcurrent\": true, \"mode\": \"immediate\", \"transition\": {\"duration\": 0, \"easing\": \"linear\"}}], \"label\": \"2020-02-06 00:00:00\", \"method\": \"animate\"}, {\"args\": [[\"2020-02-07 00:00:00\"], {\"frame\": {\"duration\": 0, \"redraw\": true}, \"fromcurrent\": true, \"mode\": \"immediate\", \"transition\": {\"duration\": 0, \"easing\": \"linear\"}}], \"label\": \"2020-02-07 00:00:00\", \"method\": \"animate\"}, {\"args\": [[\"2020-02-08 00:00:00\"], {\"frame\": {\"duration\": 0, \"redraw\": true}, \"fromcurrent\": true, \"mode\": \"immediate\", \"transition\": {\"duration\": 0, \"easing\": \"linear\"}}], \"label\": \"2020-02-08 00:00:00\", \"method\": \"animate\"}, {\"args\": [[\"2020-02-09 00:00:00\"], {\"frame\": {\"duration\": 0, \"redraw\": true}, \"fromcurrent\": true, \"mode\": \"immediate\", \"transition\": {\"duration\": 0, \"easing\": \"linear\"}}], \"label\": \"2020-02-09 00:00:00\", \"method\": \"animate\"}, {\"args\": [[\"2020-02-10 00:00:00\"], {\"frame\": {\"duration\": 0, \"redraw\": true}, \"fromcurrent\": true, \"mode\": \"immediate\", \"transition\": {\"duration\": 0, \"easing\": \"linear\"}}], \"label\": \"2020-02-10 00:00:00\", \"method\": \"animate\"}, {\"args\": [[\"2020-02-11 00:00:00\"], {\"frame\": {\"duration\": 0, \"redraw\": true}, \"fromcurrent\": true, \"mode\": \"immediate\", \"transition\": {\"duration\": 0, \"easing\": \"linear\"}}], \"label\": \"2020-02-11 00:00:00\", \"method\": \"animate\"}, {\"args\": [[\"2020-02-12 00:00:00\"], {\"frame\": {\"duration\": 0, \"redraw\": true}, \"fromcurrent\": true, \"mode\": \"immediate\", \"transition\": {\"duration\": 0, \"easing\": \"linear\"}}], \"label\": \"2020-02-12 00:00:00\", \"method\": \"animate\"}, {\"args\": [[\"2020-02-13 00:00:00\"], {\"frame\": {\"duration\": 0, \"redraw\": true}, \"fromcurrent\": true, \"mode\": \"immediate\", \"transition\": {\"duration\": 0, \"easing\": \"linear\"}}], \"label\": \"2020-02-13 00:00:00\", \"method\": \"animate\"}, {\"args\": [[\"2020-02-14 00:00:00\"], {\"frame\": {\"duration\": 0, \"redraw\": true}, \"fromcurrent\": true, \"mode\": \"immediate\", \"transition\": {\"duration\": 0, \"easing\": \"linear\"}}], \"label\": \"2020-02-14 00:00:00\", \"method\": \"animate\"}, {\"args\": [[\"2020-02-15 00:00:00\"], {\"frame\": {\"duration\": 0, \"redraw\": true}, \"fromcurrent\": true, \"mode\": \"immediate\", \"transition\": {\"duration\": 0, \"easing\": \"linear\"}}], \"label\": \"2020-02-15 00:00:00\", \"method\": \"animate\"}, {\"args\": [[\"2020-02-16 00:00:00\"], {\"frame\": {\"duration\": 0, \"redraw\": true}, \"fromcurrent\": true, \"mode\": \"immediate\", \"transition\": {\"duration\": 0, \"easing\": \"linear\"}}], \"label\": \"2020-02-16 00:00:00\", \"method\": \"animate\"}, {\"args\": [[\"2020-02-17 00:00:00\"], {\"frame\": {\"duration\": 0, \"redraw\": true}, \"fromcurrent\": true, \"mode\": \"immediate\", \"transition\": {\"duration\": 0, \"easing\": \"linear\"}}], \"label\": \"2020-02-17 00:00:00\", \"method\": \"animate\"}, {\"args\": [[\"2020-02-18 00:00:00\"], {\"frame\": {\"duration\": 0, \"redraw\": true}, \"fromcurrent\": true, \"mode\": \"immediate\", \"transition\": {\"duration\": 0, \"easing\": \"linear\"}}], \"label\": \"2020-02-18 00:00:00\", \"method\": \"animate\"}, {\"args\": [[\"2020-02-19 00:00:00\"], {\"frame\": {\"duration\": 0, \"redraw\": true}, \"fromcurrent\": true, \"mode\": \"immediate\", \"transition\": {\"duration\": 0, \"easing\": \"linear\"}}], \"label\": \"2020-02-19 00:00:00\", \"method\": \"animate\"}, {\"args\": [[\"2020-02-20 00:00:00\"], {\"frame\": {\"duration\": 0, \"redraw\": true}, \"fromcurrent\": true, \"mode\": \"immediate\", \"transition\": {\"duration\": 0, \"easing\": \"linear\"}}], \"label\": \"2020-02-20 00:00:00\", \"method\": \"animate\"}, {\"args\": [[\"2020-02-21 00:00:00\"], {\"frame\": {\"duration\": 0, \"redraw\": true}, \"fromcurrent\": true, \"mode\": \"immediate\", \"transition\": {\"duration\": 0, \"easing\": \"linear\"}}], \"label\": \"2020-02-21 00:00:00\", \"method\": \"animate\"}, {\"args\": [[\"2020-02-22 00:00:00\"], {\"frame\": {\"duration\": 0, \"redraw\": true}, \"fromcurrent\": true, \"mode\": \"immediate\", \"transition\": {\"duration\": 0, \"easing\": \"linear\"}}], \"label\": \"2020-02-22 00:00:00\", \"method\": \"animate\"}, {\"args\": [[\"2020-02-23 00:00:00\"], {\"frame\": {\"duration\": 0, \"redraw\": true}, \"fromcurrent\": true, \"mode\": \"immediate\", \"transition\": {\"duration\": 0, \"easing\": \"linear\"}}], \"label\": \"2020-02-23 00:00:00\", \"method\": \"animate\"}, {\"args\": [[\"2020-02-24 00:00:00\"], {\"frame\": {\"duration\": 0, \"redraw\": true}, \"fromcurrent\": true, \"mode\": \"immediate\", \"transition\": {\"duration\": 0, \"easing\": \"linear\"}}], \"label\": \"2020-02-24 00:00:00\", \"method\": \"animate\"}, {\"args\": [[\"2020-02-25 00:00:00\"], {\"frame\": {\"duration\": 0, \"redraw\": true}, \"fromcurrent\": true, \"mode\": \"immediate\", \"transition\": {\"duration\": 0, \"easing\": \"linear\"}}], \"label\": \"2020-02-25 00:00:00\", \"method\": \"animate\"}, {\"args\": [[\"2020-02-26 00:00:00\"], {\"frame\": {\"duration\": 0, \"redraw\": true}, \"fromcurrent\": true, \"mode\": \"immediate\", \"transition\": {\"duration\": 0, \"easing\": \"linear\"}}], \"label\": \"2020-02-26 00:00:00\", \"method\": \"animate\"}, {\"args\": [[\"2020-02-27 00:00:00\"], {\"frame\": {\"duration\": 0, \"redraw\": true}, \"fromcurrent\": true, \"mode\": \"immediate\", \"transition\": {\"duration\": 0, \"easing\": \"linear\"}}], \"label\": \"2020-02-27 00:00:00\", \"method\": \"animate\"}, {\"args\": [[\"2020-02-28 00:00:00\"], {\"frame\": {\"duration\": 0, \"redraw\": true}, \"fromcurrent\": true, \"mode\": \"immediate\", \"transition\": {\"duration\": 0, \"easing\": \"linear\"}}], \"label\": \"2020-02-28 00:00:00\", \"method\": \"animate\"}, {\"args\": [[\"2020-02-29 00:00:00\"], {\"frame\": {\"duration\": 0, \"redraw\": true}, \"fromcurrent\": true, \"mode\": \"immediate\", \"transition\": {\"duration\": 0, \"easing\": \"linear\"}}], \"label\": \"2020-02-29 00:00:00\", \"method\": \"animate\"}, {\"args\": [[\"2020-03-01 00:00:00\"], {\"frame\": {\"duration\": 0, \"redraw\": true}, \"fromcurrent\": true, \"mode\": \"immediate\", \"transition\": {\"duration\": 0, \"easing\": \"linear\"}}], \"label\": \"2020-03-01 00:00:00\", \"method\": \"animate\"}, {\"args\": [[\"2020-03-02 00:00:00\"], {\"frame\": {\"duration\": 0, \"redraw\": true}, \"fromcurrent\": true, \"mode\": \"immediate\", \"transition\": {\"duration\": 0, \"easing\": \"linear\"}}], \"label\": \"2020-03-02 00:00:00\", \"method\": \"animate\"}, {\"args\": [[\"2020-03-03 00:00:00\"], {\"frame\": {\"duration\": 0, \"redraw\": true}, \"fromcurrent\": true, \"mode\": \"immediate\", \"transition\": {\"duration\": 0, \"easing\": \"linear\"}}], \"label\": \"2020-03-03 00:00:00\", \"method\": \"animate\"}, {\"args\": [[\"2020-03-04 00:00:00\"], {\"frame\": {\"duration\": 0, \"redraw\": true}, \"fromcurrent\": true, \"mode\": \"immediate\", \"transition\": {\"duration\": 0, \"easing\": \"linear\"}}], \"label\": \"2020-03-04 00:00:00\", \"method\": \"animate\"}, {\"args\": [[\"2020-03-05 00:00:00\"], {\"frame\": {\"duration\": 0, \"redraw\": true}, \"fromcurrent\": true, \"mode\": \"immediate\", \"transition\": {\"duration\": 0, \"easing\": \"linear\"}}], \"label\": \"2020-03-05 00:00:00\", \"method\": \"animate\"}, {\"args\": [[\"2020-03-06 00:00:00\"], {\"frame\": {\"duration\": 0, \"redraw\": true}, \"fromcurrent\": true, \"mode\": \"immediate\", \"transition\": {\"duration\": 0, \"easing\": \"linear\"}}], \"label\": \"2020-03-06 00:00:00\", \"method\": \"animate\"}, {\"args\": [[\"2020-03-07 00:00:00\"], {\"frame\": {\"duration\": 0, \"redraw\": true}, \"fromcurrent\": true, \"mode\": \"immediate\", \"transition\": {\"duration\": 0, \"easing\": \"linear\"}}], \"label\": \"2020-03-07 00:00:00\", \"method\": \"animate\"}, {\"args\": [[\"2020-03-08 00:00:00\"], {\"frame\": {\"duration\": 0, \"redraw\": true}, \"fromcurrent\": true, \"mode\": \"immediate\", \"transition\": {\"duration\": 0, \"easing\": \"linear\"}}], \"label\": \"2020-03-08 00:00:00\", \"method\": \"animate\"}, {\"args\": [[\"2020-03-09 00:00:00\"], {\"frame\": {\"duration\": 0, \"redraw\": true}, \"fromcurrent\": true, \"mode\": \"immediate\", \"transition\": {\"duration\": 0, \"easing\": \"linear\"}}], \"label\": \"2020-03-09 00:00:00\", \"method\": \"animate\"}, {\"args\": [[\"2020-03-10 00:00:00\"], {\"frame\": {\"duration\": 0, \"redraw\": true}, \"fromcurrent\": true, \"mode\": \"immediate\", \"transition\": {\"duration\": 0, \"easing\": \"linear\"}}], \"label\": \"2020-03-10 00:00:00\", \"method\": \"animate\"}, {\"args\": [[\"2020-03-11 00:00:00\"], {\"frame\": {\"duration\": 0, \"redraw\": true}, \"fromcurrent\": true, \"mode\": \"immediate\", \"transition\": {\"duration\": 0, \"easing\": \"linear\"}}], \"label\": \"2020-03-11 00:00:00\", \"method\": \"animate\"}, {\"args\": [[\"2020-03-12 00:00:00\"], {\"frame\": {\"duration\": 0, \"redraw\": true}, \"fromcurrent\": true, \"mode\": \"immediate\", \"transition\": {\"duration\": 0, \"easing\": \"linear\"}}], \"label\": \"2020-03-12 00:00:00\", \"method\": \"animate\"}, {\"args\": [[\"2020-03-13 00:00:00\"], {\"frame\": {\"duration\": 0, \"redraw\": true}, \"fromcurrent\": true, \"mode\": \"immediate\", \"transition\": {\"duration\": 0, \"easing\": \"linear\"}}], \"label\": \"2020-03-13 00:00:00\", \"method\": \"animate\"}, {\"args\": [[\"2020-03-14 00:00:00\"], {\"frame\": {\"duration\": 0, \"redraw\": true}, \"fromcurrent\": true, \"mode\": \"immediate\", \"transition\": {\"duration\": 0, \"easing\": \"linear\"}}], \"label\": \"2020-03-14 00:00:00\", \"method\": \"animate\"}, {\"args\": [[\"2020-03-15 00:00:00\"], {\"frame\": {\"duration\": 0, \"redraw\": true}, \"fromcurrent\": true, \"mode\": \"immediate\", \"transition\": {\"duration\": 0, \"easing\": \"linear\"}}], \"label\": \"2020-03-15 00:00:00\", \"method\": \"animate\"}, {\"args\": [[\"2020-03-16 00:00:00\"], {\"frame\": {\"duration\": 0, \"redraw\": true}, \"fromcurrent\": true, \"mode\": \"immediate\", \"transition\": {\"duration\": 0, \"easing\": \"linear\"}}], \"label\": \"2020-03-16 00:00:00\", \"method\": \"animate\"}, {\"args\": [[\"2020-03-17 00:00:00\"], {\"frame\": {\"duration\": 0, \"redraw\": true}, \"fromcurrent\": true, \"mode\": \"immediate\", \"transition\": {\"duration\": 0, \"easing\": \"linear\"}}], \"label\": \"2020-03-17 00:00:00\", \"method\": \"animate\"}, {\"args\": [[\"2020-03-18 00:00:00\"], {\"frame\": {\"duration\": 0, \"redraw\": true}, \"fromcurrent\": true, \"mode\": \"immediate\", \"transition\": {\"duration\": 0, \"easing\": \"linear\"}}], \"label\": \"2020-03-18 00:00:00\", \"method\": \"animate\"}, {\"args\": [[\"2020-03-19 00:00:00\"], {\"frame\": {\"duration\": 0, \"redraw\": true}, \"fromcurrent\": true, \"mode\": \"immediate\", \"transition\": {\"duration\": 0, \"easing\": \"linear\"}}], \"label\": \"2020-03-19 00:00:00\", \"method\": \"animate\"}], \"x\": 0.1, \"xanchor\": \"left\", \"y\": 0, \"yanchor\": \"top\"}], \"template\": {\"data\": {\"bar\": [{\"error_x\": {\"color\": \"#2a3f5f\"}, \"error_y\": {\"color\": \"#2a3f5f\"}, \"marker\": {\"line\": {\"color\": \"#E5ECF6\", \"width\": 0.5}}, \"type\": \"bar\"}], \"barpolar\": [{\"marker\": {\"line\": {\"color\": \"#E5ECF6\", \"width\": 0.5}}, \"type\": \"barpolar\"}], \"carpet\": [{\"aaxis\": {\"endlinecolor\": \"#2a3f5f\", \"gridcolor\": \"white\", \"linecolor\": \"white\", \"minorgridcolor\": \"white\", \"startlinecolor\": \"#2a3f5f\"}, \"baxis\": {\"endlinecolor\": \"#2a3f5f\", \"gridcolor\": \"white\", \"linecolor\": \"white\", \"minorgridcolor\": \"white\", \"startlinecolor\": \"#2a3f5f\"}, \"type\": \"carpet\"}], \"choropleth\": [{\"colorbar\": {\"outlinewidth\": 0, \"ticks\": \"\"}, \"type\": \"choropleth\"}], \"contour\": [{\"colorbar\": {\"outlinewidth\": 0, \"ticks\": \"\"}, \"colorscale\": [[0.0, \"#0d0887\"], [0.1111111111111111, \"#46039f\"], [0.2222222222222222, \"#7201a8\"], [0.3333333333333333, \"#9c179e\"], [0.4444444444444444, \"#bd3786\"], [0.5555555555555556, \"#d8576b\"], [0.6666666666666666, \"#ed7953\"], [0.7777777777777778, \"#fb9f3a\"], [0.8888888888888888, \"#fdca26\"], [1.0, \"#f0f921\"]], \"type\": \"contour\"}], \"contourcarpet\": [{\"colorbar\": {\"outlinewidth\": 0, \"ticks\": \"\"}, \"type\": \"contourcarpet\"}], \"heatmap\": [{\"colorbar\": {\"outlinewidth\": 0, \"ticks\": \"\"}, \"colorscale\": [[0.0, \"#0d0887\"], [0.1111111111111111, \"#46039f\"], [0.2222222222222222, \"#7201a8\"], [0.3333333333333333, \"#9c179e\"], [0.4444444444444444, \"#bd3786\"], [0.5555555555555556, \"#d8576b\"], [0.6666666666666666, \"#ed7953\"], [0.7777777777777778, \"#fb9f3a\"], [0.8888888888888888, \"#fdca26\"], [1.0, \"#f0f921\"]], \"type\": \"heatmap\"}], \"heatmapgl\": [{\"colorbar\": {\"outlinewidth\": 0, \"ticks\": \"\"}, \"colorscale\": [[0.0, \"#0d0887\"], [0.1111111111111111, \"#46039f\"], [0.2222222222222222, \"#7201a8\"], [0.3333333333333333, \"#9c179e\"], [0.4444444444444444, \"#bd3786\"], [0.5555555555555556, \"#d8576b\"], [0.6666666666666666, \"#ed7953\"], [0.7777777777777778, \"#fb9f3a\"], [0.8888888888888888, \"#fdca26\"], [1.0, \"#f0f921\"]], \"type\": \"heatmapgl\"}], \"histogram\": [{\"marker\": {\"colorbar\": {\"outlinewidth\": 0, \"ticks\": \"\"}}, \"type\": \"histogram\"}], \"histogram2d\": [{\"colorbar\": {\"outlinewidth\": 0, \"ticks\": \"\"}, \"colorscale\": [[0.0, \"#0d0887\"], [0.1111111111111111, \"#46039f\"], [0.2222222222222222, \"#7201a8\"], [0.3333333333333333, \"#9c179e\"], [0.4444444444444444, \"#bd3786\"], [0.5555555555555556, \"#d8576b\"], [0.6666666666666666, \"#ed7953\"], [0.7777777777777778, \"#fb9f3a\"], [0.8888888888888888, \"#fdca26\"], [1.0, \"#f0f921\"]], \"type\": \"histogram2d\"}], \"histogram2dcontour\": [{\"colorbar\": {\"outlinewidth\": 0, \"ticks\": \"\"}, \"colorscale\": [[0.0, \"#0d0887\"], [0.1111111111111111, \"#46039f\"], [0.2222222222222222, \"#7201a8\"], [0.3333333333333333, \"#9c179e\"], [0.4444444444444444, \"#bd3786\"], [0.5555555555555556, \"#d8576b\"], [0.6666666666666666, \"#ed7953\"], [0.7777777777777778, \"#fb9f3a\"], [0.8888888888888888, \"#fdca26\"], [1.0, \"#f0f921\"]], \"type\": \"histogram2dcontour\"}], \"mesh3d\": [{\"colorbar\": {\"outlinewidth\": 0, \"ticks\": \"\"}, \"type\": \"mesh3d\"}], \"parcoords\": [{\"line\": {\"colorbar\": {\"outlinewidth\": 0, \"ticks\": \"\"}}, \"type\": \"parcoords\"}], \"pie\": [{\"automargin\": true, \"type\": \"pie\"}], \"scatter\": [{\"marker\": {\"colorbar\": {\"outlinewidth\": 0, \"ticks\": \"\"}}, \"type\": \"scatter\"}], \"scatter3d\": [{\"line\": {\"colorbar\": {\"outlinewidth\": 0, \"ticks\": \"\"}}, \"marker\": {\"colorbar\": {\"outlinewidth\": 0, \"ticks\": \"\"}}, \"type\": \"scatter3d\"}], \"scattercarpet\": [{\"marker\": {\"colorbar\": {\"outlinewidth\": 0, \"ticks\": \"\"}}, \"type\": \"scattercarpet\"}], \"scattergeo\": [{\"marker\": {\"colorbar\": {\"outlinewidth\": 0, \"ticks\": \"\"}}, \"type\": \"scattergeo\"}], \"scattergl\": [{\"marker\": {\"colorbar\": {\"outlinewidth\": 0, \"ticks\": \"\"}}, \"type\": \"scattergl\"}], \"scattermapbox\": [{\"marker\": {\"colorbar\": {\"outlinewidth\": 0, \"ticks\": \"\"}}, \"type\": \"scattermapbox\"}], \"scatterpolar\": [{\"marker\": {\"colorbar\": {\"outlinewidth\": 0, \"ticks\": \"\"}}, \"type\": \"scatterpolar\"}], \"scatterpolargl\": [{\"marker\": {\"colorbar\": {\"outlinewidth\": 0, \"ticks\": \"\"}}, \"type\": \"scatterpolargl\"}], \"scatterternary\": [{\"marker\": {\"colorbar\": {\"outlinewidth\": 0, \"ticks\": \"\"}}, \"type\": \"scatterternary\"}], \"surface\": [{\"colorbar\": {\"outlinewidth\": 0, \"ticks\": \"\"}, \"colorscale\": [[0.0, \"#0d0887\"], [0.1111111111111111, \"#46039f\"], [0.2222222222222222, \"#7201a8\"], [0.3333333333333333, \"#9c179e\"], [0.4444444444444444, \"#bd3786\"], [0.5555555555555556, \"#d8576b\"], [0.6666666666666666, \"#ed7953\"], [0.7777777777777778, \"#fb9f3a\"], [0.8888888888888888, \"#fdca26\"], [1.0, \"#f0f921\"]], \"type\": \"surface\"}], \"table\": [{\"cells\": {\"fill\": {\"color\": \"#EBF0F8\"}, \"line\": {\"color\": \"white\"}}, \"header\": {\"fill\": {\"color\": \"#C8D4E3\"}, \"line\": {\"color\": \"white\"}}, \"type\": \"table\"}]}, \"layout\": {\"annotationdefaults\": {\"arrowcolor\": \"#2a3f5f\", \"arrowhead\": 0, \"arrowwidth\": 1}, \"coloraxis\": {\"colorbar\": {\"outlinewidth\": 0, \"ticks\": \"\"}}, \"colorscale\": {\"diverging\": [[0, \"#8e0152\"], [0.1, \"#c51b7d\"], [0.2, \"#de77ae\"], [0.3, \"#f1b6da\"], [0.4, \"#fde0ef\"], [0.5, \"#f7f7f7\"], [0.6, \"#e6f5d0\"], [0.7, \"#b8e186\"], [0.8, \"#7fbc41\"], [0.9, \"#4d9221\"], [1, \"#276419\"]], \"sequential\": [[0.0, \"#0d0887\"], [0.1111111111111111, \"#46039f\"], [0.2222222222222222, \"#7201a8\"], [0.3333333333333333, \"#9c179e\"], [0.4444444444444444, \"#bd3786\"], [0.5555555555555556, \"#d8576b\"], [0.6666666666666666, \"#ed7953\"], [0.7777777777777778, \"#fb9f3a\"], [0.8888888888888888, \"#fdca26\"], [1.0, \"#f0f921\"]], \"sequentialminus\": [[0.0, \"#0d0887\"], [0.1111111111111111, \"#46039f\"], [0.2222222222222222, \"#7201a8\"], [0.3333333333333333, \"#9c179e\"], [0.4444444444444444, \"#bd3786\"], [0.5555555555555556, \"#d8576b\"], [0.6666666666666666, \"#ed7953\"], [0.7777777777777778, \"#fb9f3a\"], [0.8888888888888888, \"#fdca26\"], [1.0, \"#f0f921\"]]}, \"colorway\": [\"#636efa\", \"#EF553B\", \"#00cc96\", \"#ab63fa\", \"#FFA15A\", \"#19d3f3\", \"#FF6692\", \"#B6E880\", \"#FF97FF\", \"#FECB52\"], \"font\": {\"color\": \"#2a3f5f\"}, \"geo\": {\"bgcolor\": \"white\", \"lakecolor\": \"white\", \"landcolor\": \"#E5ECF6\", \"showlakes\": true, \"showland\": true, \"subunitcolor\": \"white\"}, \"hoverlabel\": {\"align\": \"left\"}, \"hovermode\": \"closest\", \"mapbox\": {\"style\": \"light\"}, \"paper_bgcolor\": \"white\", \"plot_bgcolor\": \"#E5ECF6\", \"polar\": {\"angularaxis\": {\"gridcolor\": \"white\", \"linecolor\": \"white\", \"ticks\": \"\"}, \"bgcolor\": \"#E5ECF6\", \"radialaxis\": {\"gridcolor\": \"white\", \"linecolor\": \"white\", \"ticks\": \"\"}}, \"scene\": {\"xaxis\": {\"backgroundcolor\": \"#E5ECF6\", \"gridcolor\": \"white\", \"gridwidth\": 2, \"linecolor\": \"white\", \"showbackground\": true, \"ticks\": \"\", \"zerolinecolor\": \"white\"}, \"yaxis\": {\"backgroundcolor\": \"#E5ECF6\", \"gridcolor\": \"white\", \"gridwidth\": 2, \"linecolor\": \"white\", \"showbackground\": true, \"ticks\": \"\", \"zerolinecolor\": \"white\"}, \"zaxis\": {\"backgroundcolor\": \"#E5ECF6\", \"gridcolor\": \"white\", \"gridwidth\": 2, \"linecolor\": \"white\", \"showbackground\": true, \"ticks\": \"\", \"zerolinecolor\": \"white\"}}, \"shapedefaults\": {\"line\": {\"color\": \"#2a3f5f\"}}, \"ternary\": {\"aaxis\": {\"gridcolor\": \"white\", \"linecolor\": \"white\", \"ticks\": \"\"}, \"baxis\": {\"gridcolor\": \"white\", \"linecolor\": \"white\", \"ticks\": \"\"}, \"bgcolor\": \"#E5ECF6\", \"caxis\": {\"gridcolor\": \"white\", \"linecolor\": \"white\", \"ticks\": \"\"}}, \"title\": {\"x\": 0.05}, \"xaxis\": {\"automargin\": true, \"gridcolor\": \"white\", \"linecolor\": \"white\", \"ticks\": \"\", \"title\": {\"standoff\": 15}, \"zerolinecolor\": \"white\", \"zerolinewidth\": 2}, \"yaxis\": {\"automargin\": true, \"gridcolor\": \"white\", \"linecolor\": \"white\", \"ticks\": \"\", \"title\": {\"standoff\": 15}, \"zerolinecolor\": \"white\", \"zerolinewidth\": 2}}}, \"updatemenus\": [{\"buttons\": [{\"args\": [null, {\"frame\": {\"duration\": 500, \"redraw\": true}, \"fromcurrent\": true, \"mode\": \"immediate\", \"transition\": {\"duration\": 500, \"easing\": \"linear\"}}], \"label\": \"&#9654;\", \"method\": \"animate\"}, {\"args\": [[null], {\"frame\": {\"duration\": 0, \"redraw\": true}, \"fromcurrent\": true, \"mode\": \"immediate\", \"transition\": {\"duration\": 0, \"easing\": \"linear\"}}], \"label\": \"&#9724;\", \"method\": \"animate\"}], \"direction\": \"left\", \"pad\": {\"r\": 10, \"t\": 70}, \"showactive\": false, \"type\": \"buttons\", \"x\": 0.1, \"xanchor\": \"right\", \"y\": 0, \"yanchor\": \"top\"}]},\n",
       "                        {\"responsive\": true}\n",
       "                    ).then(function(){\n",
       "                            Plotly.addFrames('0d36c9b2-32be-4333-a192-bdf580729878', [{\"data\": [{\"customdata\": [[0], [0], [0], [0], [0], [0], [0], [0], [0], [0], [0], [0], [0], [0], [0], [0], [0], [0], [0], [0], [0], [0], [0], [0], [548], [0], [0], [0], [0], [0], [0], [0], [0], [0], [0], [0], [0], [0], [0], [0], [0], [0], [0], [0], [0], [0], [0], [0], [0], [0], [0], [0], [0], [0], [0], [2], [0], [0], [0], [0], [0], [0], [0], [0], [0], [0], [0], [0], [0], [0], [0], [0], [0], [0], [0], [0], [0], [0], [0], [0], [0], [0], [0], [0], [0], [0], [0], [0], [0], [0], [0], [0], [0], [0], [0], [0], [0], [0], [0], [0], [0], [2], [0], [0], [0], [1], [0], [0], [0]], \"geo\": \"geo\", \"hoverlabel\": {\"namelength\": 0}, \"hovertemplate\": \"Date=2020-01-22 00:00:00<br>Confirmed=%{customdata[0]}<br>Country/Region=%{location}\", \"legendgroup\": \"\", \"locationmode\": \"country names\", \"locations\": [\"Afghanistan\", \"Albania\", \"Algeria\", \"Andorra\", \"Argentina\", \"Armenia\", \"Australia\", \"Austria\", \"Azerbaijan\", \"Bahrain\", \"Bangladesh\", \"Belarus\", \"Belgium\", \"Bhutan\", \"Bolivia\", \"Bosnia and Herzegovina\", \"Brazil\", \"Brunei\", \"Bulgaria\", \"Burkina Faso\", \"Cambodia\", \"Cameroon\", \"Canada\", \"Chile\", \"China\", \"Colombia\", \"Congo (Kinshasa)\", \"Costa Rica\", \"Cote d'Ivoire\", \"Croatia\", \"Cruise Ship\", \"Cuba\", \"Cyprus\", \"Denmark\", \"Dominican Republic\", \"Ecuador\", \"Egypt\", \"Estonia\", \"Finland\", \"France\", \"Georgia\", \"Germany\", \"Greece\", \"Guyana\", \"Honduras\", \"Hungary\", \"Iceland\", \"India\", \"Indonesia\", \"Iran\", \"Iraq\", \"Ireland\", \"Israel\", \"Italy\", \"Jamaica\", \"Japan\", \"Jordan\", \"Kuwait\", \"Latvia\", \"Lebanon\", \"Liechtenstein\", \"Lithuania\", \"Luxembourg\", \"Malaysia\", \"Maldives\", \"Malta\", \"Martinique\", \"Mexico\", \"Moldova\", \"Monaco\", \"Mongolia\", \"Morocco\", \"Nepal\", \"Netherlands\", \"New Zealand\", \"Nigeria\", \"North Macedonia\", \"Norway\", \"Oman\", \"Pakistan\", \"Panama\", \"Paraguay\", \"Peru\", \"Philippines\", \"Poland\", \"Portugal\", \"Qatar\", \"Romania\", \"Russia\", \"San Marino\", \"Saudi Arabia\", \"Senegal\", \"Serbia\", \"Singapore\", \"Slovakia\", \"Slovenia\", \"South Africa\", \"Spain\", \"Sri Lanka\", \"Sweden\", \"Switzerland\", \"Thailand\", \"Togo\", \"Tunisia\", \"Turkey\", \"US\", \"Ukraine\", \"United Arab Emirates\", \"Vietnam\"], \"marker\": {\"color\": \"#636efa\", \"size\": [0, 0, 0, 0, 0, 0, 0, 0, 0, 0, 0, 0, 0, 0, 0, 0, 0, 0, 0, 0, 0, 0, 0, 0, 548, 0, 0, 0, 0, 0, 0, 0, 0, 0, 0, 0, 0, 0, 0, 0, 0, 0, 0, 0, 0, 0, 0, 0, 0, 0, 0, 0, 0, 0, 0, 2, 0, 0, 0, 0, 0, 0, 0, 0, 0, 0, 0, 0, 0, 0, 0, 0, 0, 0, 0, 0, 0, 0, 0, 0, 0, 0, 0, 0, 0, 0, 0, 0, 0, 0, 0, 0, 0, 0, 0, 0, 0, 0, 0, 0, 0, 2, 0, 0, 0, 1, 0, 0, 0], \"sizemode\": \"area\", \"sizeref\": 202.89}, \"name\": \"\", \"showlegend\": false, \"type\": \"scattergeo\"}], \"name\": \"2020-01-22 00:00:00\"}, {\"data\": [{\"customdata\": [[0], [0], [0], [0], [0], [0], [0], [0], [0], [0], [0], [0], [0], [0], [0], [0], [0], [0], [0], [0], [0], [0], [0], [0], [643], [0], [0], [0], [0], [0], [0], [0], [0], [0], [0], [0], [0], [0], [0], [0], [0], [0], [0], [0], [0], [0], [0], [0], [0], [0], [0], [0], [0], [0], [0], [1], [0], [0], [0], [0], [0], [0], [0], [0], [0], [0], [0], [0], [0], [0], [0], [0], [0], [0], [0], [0], [0], [0], [0], [0], [0], [0], [0], [0], [0], [0], [0], [0], [0], [0], [0], [0], [0], [1], [0], [0], [0], [0], [0], [0], [0], [3], [0], [0], [0], [1], [0], [0], [2]], \"geo\": \"geo\", \"hoverlabel\": {\"namelength\": 0}, \"hovertemplate\": \"Date=2020-01-23 00:00:00<br>Confirmed=%{customdata[0]}<br>Country/Region=%{location}\", \"legendgroup\": \"\", \"locationmode\": \"country names\", \"locations\": [\"Afghanistan\", \"Albania\", \"Algeria\", \"Andorra\", \"Argentina\", \"Armenia\", \"Australia\", \"Austria\", \"Azerbaijan\", \"Bahrain\", \"Bangladesh\", \"Belarus\", \"Belgium\", \"Bhutan\", \"Bolivia\", \"Bosnia and Herzegovina\", \"Brazil\", \"Brunei\", \"Bulgaria\", \"Burkina Faso\", \"Cambodia\", \"Cameroon\", \"Canada\", \"Chile\", \"China\", \"Colombia\", \"Congo (Kinshasa)\", \"Costa Rica\", \"Cote d'Ivoire\", \"Croatia\", \"Cruise Ship\", \"Cuba\", \"Cyprus\", \"Denmark\", \"Dominican Republic\", \"Ecuador\", \"Egypt\", \"Estonia\", \"Finland\", \"France\", \"Georgia\", \"Germany\", \"Greece\", \"Guyana\", \"Honduras\", \"Hungary\", \"Iceland\", \"India\", \"Indonesia\", \"Iran\", \"Iraq\", \"Ireland\", \"Israel\", \"Italy\", \"Jamaica\", \"Japan\", \"Jordan\", \"Kuwait\", \"Latvia\", \"Lebanon\", \"Liechtenstein\", \"Lithuania\", \"Luxembourg\", \"Malaysia\", \"Maldives\", \"Malta\", \"Martinique\", \"Mexico\", \"Moldova\", \"Monaco\", \"Mongolia\", \"Morocco\", \"Nepal\", \"Netherlands\", \"New Zealand\", \"Nigeria\", \"North Macedonia\", \"Norway\", \"Oman\", \"Pakistan\", \"Panama\", \"Paraguay\", \"Peru\", \"Philippines\", \"Poland\", \"Portugal\", \"Qatar\", \"Romania\", \"Russia\", \"San Marino\", \"Saudi Arabia\", \"Senegal\", \"Serbia\", \"Singapore\", \"Slovakia\", \"Slovenia\", \"South Africa\", \"Spain\", \"Sri Lanka\", \"Sweden\", \"Switzerland\", \"Thailand\", \"Togo\", \"Tunisia\", \"Turkey\", \"US\", \"Ukraine\", \"United Arab Emirates\", \"Vietnam\"], \"marker\": {\"color\": \"#636efa\", \"size\": [0, 0, 0, 0, 0, 0, 0, 0, 0, 0, 0, 0, 0, 0, 0, 0, 0, 0, 0, 0, 0, 0, 0, 0, 643, 0, 0, 0, 0, 0, 0, 0, 0, 0, 0, 0, 0, 0, 0, 0, 0, 0, 0, 0, 0, 0, 0, 0, 0, 0, 0, 0, 0, 0, 0, 1, 0, 0, 0, 0, 0, 0, 0, 0, 0, 0, 0, 0, 0, 0, 0, 0, 0, 0, 0, 0, 0, 0, 0, 0, 0, 0, 0, 0, 0, 0, 0, 0, 0, 0, 0, 0, 0, 1, 0, 0, 0, 0, 0, 0, 0, 3, 0, 0, 0, 1, 0, 0, 2], \"sizemode\": \"area\", \"sizeref\": 202.89}, \"name\": \"\", \"showlegend\": false, \"type\": \"scattergeo\"}], \"name\": \"2020-01-23 00:00:00\"}, {\"data\": [{\"customdata\": [[0], [0], [0], [0], [0], [0], [0], [0], [0], [0], [0], [0], [0], [0], [0], [0], [0], [0], [0], [0], [0], [0], [0], [0], [920], [0], [0], [0], [0], [0], [0], [0], [0], [0], [0], [0], [0], [0], [0], [2], [0], [0], [0], [0], [0], [0], [0], [0], [0], [0], [0], [0], [0], [0], [0], [2], [0], [0], [0], [0], [0], [0], [0], [0], [0], [0], [0], [0], [0], [0], [0], [0], [0], [0], [0], [0], [0], [0], [0], [0], [0], [0], [0], [0], [0], [0], [0], [0], [0], [0], [0], [0], [0], [3], [0], [0], [0], [0], [0], [0], [0], [5], [0], [0], [0], [2], [0], [0], [2]], \"geo\": \"geo\", \"hoverlabel\": {\"namelength\": 0}, \"hovertemplate\": \"Date=2020-01-24 00:00:00<br>Confirmed=%{customdata[0]}<br>Country/Region=%{location}\", \"legendgroup\": \"\", \"locationmode\": \"country names\", \"locations\": [\"Afghanistan\", \"Albania\", \"Algeria\", \"Andorra\", \"Argentina\", \"Armenia\", \"Australia\", \"Austria\", \"Azerbaijan\", \"Bahrain\", \"Bangladesh\", \"Belarus\", \"Belgium\", \"Bhutan\", \"Bolivia\", \"Bosnia and Herzegovina\", \"Brazil\", \"Brunei\", \"Bulgaria\", \"Burkina Faso\", \"Cambodia\", \"Cameroon\", \"Canada\", \"Chile\", \"China\", \"Colombia\", \"Congo (Kinshasa)\", \"Costa Rica\", \"Cote d'Ivoire\", \"Croatia\", \"Cruise Ship\", \"Cuba\", \"Cyprus\", \"Denmark\", \"Dominican Republic\", \"Ecuador\", \"Egypt\", \"Estonia\", \"Finland\", \"France\", \"Georgia\", \"Germany\", \"Greece\", \"Guyana\", \"Honduras\", \"Hungary\", \"Iceland\", \"India\", \"Indonesia\", \"Iran\", \"Iraq\", \"Ireland\", \"Israel\", \"Italy\", \"Jamaica\", \"Japan\", \"Jordan\", \"Kuwait\", \"Latvia\", \"Lebanon\", \"Liechtenstein\", \"Lithuania\", \"Luxembourg\", \"Malaysia\", \"Maldives\", \"Malta\", \"Martinique\", \"Mexico\", \"Moldova\", \"Monaco\", \"Mongolia\", \"Morocco\", \"Nepal\", \"Netherlands\", \"New Zealand\", \"Nigeria\", \"North Macedonia\", \"Norway\", \"Oman\", \"Pakistan\", \"Panama\", \"Paraguay\", \"Peru\", \"Philippines\", \"Poland\", \"Portugal\", \"Qatar\", \"Romania\", \"Russia\", \"San Marino\", \"Saudi Arabia\", \"Senegal\", \"Serbia\", \"Singapore\", \"Slovakia\", \"Slovenia\", \"South Africa\", \"Spain\", \"Sri Lanka\", \"Sweden\", \"Switzerland\", \"Thailand\", \"Togo\", \"Tunisia\", \"Turkey\", \"US\", \"Ukraine\", \"United Arab Emirates\", \"Vietnam\"], \"marker\": {\"color\": \"#636efa\", \"size\": [0, 0, 0, 0, 0, 0, 0, 0, 0, 0, 0, 0, 0, 0, 0, 0, 0, 0, 0, 0, 0, 0, 0, 0, 920, 0, 0, 0, 0, 0, 0, 0, 0, 0, 0, 0, 0, 0, 0, 2, 0, 0, 0, 0, 0, 0, 0, 0, 0, 0, 0, 0, 0, 0, 0, 2, 0, 0, 0, 0, 0, 0, 0, 0, 0, 0, 0, 0, 0, 0, 0, 0, 0, 0, 0, 0, 0, 0, 0, 0, 0, 0, 0, 0, 0, 0, 0, 0, 0, 0, 0, 0, 0, 3, 0, 0, 0, 0, 0, 0, 0, 5, 0, 0, 0, 2, 0, 0, 2], \"sizemode\": \"area\", \"sizeref\": 202.89}, \"name\": \"\", \"showlegend\": false, \"type\": \"scattergeo\"}], \"name\": \"2020-01-24 00:00:00\"}, {\"data\": [{\"customdata\": [[0], [0], [0], [0], [0], [0], [0], [0], [0], [0], [0], [0], [0], [0], [0], [0], [0], [0], [0], [0], [0], [0], [0], [0], [1406], [0], [0], [0], [0], [0], [0], [0], [0], [0], [0], [0], [0], [0], [0], [3], [0], [0], [0], [0], [0], [0], [0], [0], [0], [0], [0], [0], [0], [0], [0], [2], [0], [0], [0], [0], [0], [0], [0], [3], [0], [0], [0], [0], [0], [0], [0], [0], [1], [0], [0], [0], [0], [0], [0], [0], [0], [0], [0], [0], [0], [0], [0], [0], [0], [0], [0], [0], [0], [3], [0], [0], [0], [0], [0], [0], [0], [7], [0], [0], [0], [2], [0], [0], [2]], \"geo\": \"geo\", \"hoverlabel\": {\"namelength\": 0}, \"hovertemplate\": \"Date=2020-01-25 00:00:00<br>Confirmed=%{customdata[0]}<br>Country/Region=%{location}\", \"legendgroup\": \"\", \"locationmode\": \"country names\", \"locations\": [\"Afghanistan\", \"Albania\", \"Algeria\", \"Andorra\", \"Argentina\", \"Armenia\", \"Australia\", \"Austria\", \"Azerbaijan\", \"Bahrain\", \"Bangladesh\", \"Belarus\", \"Belgium\", \"Bhutan\", \"Bolivia\", \"Bosnia and Herzegovina\", \"Brazil\", \"Brunei\", \"Bulgaria\", \"Burkina Faso\", \"Cambodia\", \"Cameroon\", \"Canada\", \"Chile\", \"China\", \"Colombia\", \"Congo (Kinshasa)\", \"Costa Rica\", \"Cote d'Ivoire\", \"Croatia\", \"Cruise Ship\", \"Cuba\", \"Cyprus\", \"Denmark\", \"Dominican Republic\", \"Ecuador\", \"Egypt\", \"Estonia\", \"Finland\", \"France\", \"Georgia\", \"Germany\", \"Greece\", \"Guyana\", \"Honduras\", \"Hungary\", \"Iceland\", \"India\", \"Indonesia\", \"Iran\", \"Iraq\", \"Ireland\", \"Israel\", \"Italy\", \"Jamaica\", \"Japan\", \"Jordan\", \"Kuwait\", \"Latvia\", \"Lebanon\", \"Liechtenstein\", \"Lithuania\", \"Luxembourg\", \"Malaysia\", \"Maldives\", \"Malta\", \"Martinique\", \"Mexico\", \"Moldova\", \"Monaco\", \"Mongolia\", \"Morocco\", \"Nepal\", \"Netherlands\", \"New Zealand\", \"Nigeria\", \"North Macedonia\", \"Norway\", \"Oman\", \"Pakistan\", \"Panama\", \"Paraguay\", \"Peru\", \"Philippines\", \"Poland\", \"Portugal\", \"Qatar\", \"Romania\", \"Russia\", \"San Marino\", \"Saudi Arabia\", \"Senegal\", \"Serbia\", \"Singapore\", \"Slovakia\", \"Slovenia\", \"South Africa\", \"Spain\", \"Sri Lanka\", \"Sweden\", \"Switzerland\", \"Thailand\", \"Togo\", \"Tunisia\", \"Turkey\", \"US\", \"Ukraine\", \"United Arab Emirates\", \"Vietnam\"], \"marker\": {\"color\": \"#636efa\", \"size\": [0, 0, 0, 0, 0, 0, 0, 0, 0, 0, 0, 0, 0, 0, 0, 0, 0, 0, 0, 0, 0, 0, 0, 0, 1406, 0, 0, 0, 0, 0, 0, 0, 0, 0, 0, 0, 0, 0, 0, 3, 0, 0, 0, 0, 0, 0, 0, 0, 0, 0, 0, 0, 0, 0, 0, 2, 0, 0, 0, 0, 0, 0, 0, 3, 0, 0, 0, 0, 0, 0, 0, 0, 1, 0, 0, 0, 0, 0, 0, 0, 0, 0, 0, 0, 0, 0, 0, 0, 0, 0, 0, 0, 0, 3, 0, 0, 0, 0, 0, 0, 0, 7, 0, 0, 0, 2, 0, 0, 2], \"sizemode\": \"area\", \"sizeref\": 202.89}, \"name\": \"\", \"showlegend\": false, \"type\": \"scattergeo\"}], \"name\": \"2020-01-25 00:00:00\"}, {\"data\": [{\"customdata\": [[0], [0], [0], [0], [0], [0], [4], [0], [0], [0], [0], [0], [0], [0], [0], [0], [0], [0], [0], [0], [0], [0], [1], [0], [2075], [0], [0], [0], [0], [0], [0], [0], [0], [0], [0], [0], [0], [0], [0], [3], [0], [0], [0], [0], [0], [0], [0], [0], [0], [0], [0], [0], [0], [0], [0], [4], [0], [0], [0], [0], [0], [0], [0], [4], [0], [0], [0], [0], [0], [0], [0], [0], [1], [0], [0], [0], [0], [0], [0], [0], [0], [0], [0], [0], [0], [0], [0], [0], [0], [0], [0], [0], [0], [4], [0], [0], [0], [0], [0], [0], [0], [8], [0], [0], [0], [5], [0], [0], [2]], \"geo\": \"geo\", \"hoverlabel\": {\"namelength\": 0}, \"hovertemplate\": \"Date=2020-01-26 00:00:00<br>Confirmed=%{customdata[0]}<br>Country/Region=%{location}\", \"legendgroup\": \"\", \"locationmode\": \"country names\", \"locations\": [\"Afghanistan\", \"Albania\", \"Algeria\", \"Andorra\", \"Argentina\", \"Armenia\", \"Australia\", \"Austria\", \"Azerbaijan\", \"Bahrain\", \"Bangladesh\", \"Belarus\", \"Belgium\", \"Bhutan\", \"Bolivia\", \"Bosnia and Herzegovina\", \"Brazil\", \"Brunei\", \"Bulgaria\", \"Burkina Faso\", \"Cambodia\", \"Cameroon\", \"Canada\", \"Chile\", \"China\", \"Colombia\", \"Congo (Kinshasa)\", \"Costa Rica\", \"Cote d'Ivoire\", \"Croatia\", \"Cruise Ship\", \"Cuba\", \"Cyprus\", \"Denmark\", \"Dominican Republic\", \"Ecuador\", \"Egypt\", \"Estonia\", \"Finland\", \"France\", \"Georgia\", \"Germany\", \"Greece\", \"Guyana\", \"Honduras\", \"Hungary\", \"Iceland\", \"India\", \"Indonesia\", \"Iran\", \"Iraq\", \"Ireland\", \"Israel\", \"Italy\", \"Jamaica\", \"Japan\", \"Jordan\", \"Kuwait\", \"Latvia\", \"Lebanon\", \"Liechtenstein\", \"Lithuania\", \"Luxembourg\", \"Malaysia\", \"Maldives\", \"Malta\", \"Martinique\", \"Mexico\", \"Moldova\", \"Monaco\", \"Mongolia\", \"Morocco\", \"Nepal\", \"Netherlands\", \"New Zealand\", \"Nigeria\", \"North Macedonia\", \"Norway\", \"Oman\", \"Pakistan\", \"Panama\", \"Paraguay\", \"Peru\", \"Philippines\", \"Poland\", \"Portugal\", \"Qatar\", \"Romania\", \"Russia\", \"San Marino\", \"Saudi Arabia\", \"Senegal\", \"Serbia\", \"Singapore\", \"Slovakia\", \"Slovenia\", \"South Africa\", \"Spain\", \"Sri Lanka\", \"Sweden\", \"Switzerland\", \"Thailand\", \"Togo\", \"Tunisia\", \"Turkey\", \"US\", \"Ukraine\", \"United Arab Emirates\", \"Vietnam\"], \"marker\": {\"color\": \"#636efa\", \"size\": [0, 0, 0, 0, 0, 0, 4, 0, 0, 0, 0, 0, 0, 0, 0, 0, 0, 0, 0, 0, 0, 0, 1, 0, 2075, 0, 0, 0, 0, 0, 0, 0, 0, 0, 0, 0, 0, 0, 0, 3, 0, 0, 0, 0, 0, 0, 0, 0, 0, 0, 0, 0, 0, 0, 0, 4, 0, 0, 0, 0, 0, 0, 0, 4, 0, 0, 0, 0, 0, 0, 0, 0, 1, 0, 0, 0, 0, 0, 0, 0, 0, 0, 0, 0, 0, 0, 0, 0, 0, 0, 0, 0, 0, 4, 0, 0, 0, 0, 0, 0, 0, 8, 0, 0, 0, 5, 0, 0, 2], \"sizemode\": \"area\", \"sizeref\": 202.89}, \"name\": \"\", \"showlegend\": false, \"type\": \"scattergeo\"}], \"name\": \"2020-01-26 00:00:00\"}, {\"data\": [{\"customdata\": [[0], [0], [0], [0], [0], [0], [5], [0], [0], [0], [0], [0], [0], [0], [0], [0], [0], [0], [0], [0], [1], [0], [1], [0], [2877], [0], [0], [0], [0], [0], [0], [0], [0], [0], [0], [0], [0], [0], [0], [3], [0], [1], [0], [0], [0], [0], [0], [0], [0], [0], [0], [0], [0], [0], [0], [4], [0], [0], [0], [0], [0], [0], [0], [4], [0], [0], [0], [0], [0], [0], [0], [0], [1], [0], [0], [0], [0], [0], [0], [0], [0], [0], [0], [0], [0], [0], [0], [0], [0], [0], [0], [0], [0], [5], [0], [0], [0], [0], [1], [0], [0], [8], [0], [0], [0], [5], [0], [0], [2]], \"geo\": \"geo\", \"hoverlabel\": {\"namelength\": 0}, \"hovertemplate\": \"Date=2020-01-27 00:00:00<br>Confirmed=%{customdata[0]}<br>Country/Region=%{location}\", \"legendgroup\": \"\", \"locationmode\": \"country names\", \"locations\": [\"Afghanistan\", \"Albania\", \"Algeria\", \"Andorra\", \"Argentina\", \"Armenia\", \"Australia\", \"Austria\", \"Azerbaijan\", \"Bahrain\", \"Bangladesh\", \"Belarus\", \"Belgium\", \"Bhutan\", \"Bolivia\", \"Bosnia and Herzegovina\", \"Brazil\", \"Brunei\", \"Bulgaria\", \"Burkina Faso\", \"Cambodia\", \"Cameroon\", \"Canada\", \"Chile\", \"China\", \"Colombia\", \"Congo (Kinshasa)\", \"Costa Rica\", \"Cote d'Ivoire\", \"Croatia\", \"Cruise Ship\", \"Cuba\", \"Cyprus\", \"Denmark\", \"Dominican Republic\", \"Ecuador\", \"Egypt\", \"Estonia\", \"Finland\", \"France\", \"Georgia\", \"Germany\", \"Greece\", \"Guyana\", \"Honduras\", \"Hungary\", \"Iceland\", \"India\", \"Indonesia\", \"Iran\", \"Iraq\", \"Ireland\", \"Israel\", \"Italy\", \"Jamaica\", \"Japan\", \"Jordan\", \"Kuwait\", \"Latvia\", \"Lebanon\", \"Liechtenstein\", \"Lithuania\", \"Luxembourg\", \"Malaysia\", \"Maldives\", \"Malta\", \"Martinique\", \"Mexico\", \"Moldova\", \"Monaco\", \"Mongolia\", \"Morocco\", \"Nepal\", \"Netherlands\", \"New Zealand\", \"Nigeria\", \"North Macedonia\", \"Norway\", \"Oman\", \"Pakistan\", \"Panama\", \"Paraguay\", \"Peru\", \"Philippines\", \"Poland\", \"Portugal\", \"Qatar\", \"Romania\", \"Russia\", \"San Marino\", \"Saudi Arabia\", \"Senegal\", \"Serbia\", \"Singapore\", \"Slovakia\", \"Slovenia\", \"South Africa\", \"Spain\", \"Sri Lanka\", \"Sweden\", \"Switzerland\", \"Thailand\", \"Togo\", \"Tunisia\", \"Turkey\", \"US\", \"Ukraine\", \"United Arab Emirates\", \"Vietnam\"], \"marker\": {\"color\": \"#636efa\", \"size\": [0, 0, 0, 0, 0, 0, 5, 0, 0, 0, 0, 0, 0, 0, 0, 0, 0, 0, 0, 0, 1, 0, 1, 0, 2877, 0, 0, 0, 0, 0, 0, 0, 0, 0, 0, 0, 0, 0, 0, 3, 0, 1, 0, 0, 0, 0, 0, 0, 0, 0, 0, 0, 0, 0, 0, 4, 0, 0, 0, 0, 0, 0, 0, 4, 0, 0, 0, 0, 0, 0, 0, 0, 1, 0, 0, 0, 0, 0, 0, 0, 0, 0, 0, 0, 0, 0, 0, 0, 0, 0, 0, 0, 0, 5, 0, 0, 0, 0, 1, 0, 0, 8, 0, 0, 0, 5, 0, 0, 2], \"sizemode\": \"area\", \"sizeref\": 202.89}, \"name\": \"\", \"showlegend\": false, \"type\": \"scattergeo\"}], \"name\": \"2020-01-27 00:00:00\"}, {\"data\": [{\"customdata\": [[0], [0], [0], [0], [0], [0], [5], [0], [0], [0], [0], [0], [0], [0], [0], [0], [0], [0], [0], [0], [1], [0], [2], [0], [5509], [0], [0], [0], [0], [0], [0], [0], [0], [0], [0], [0], [0], [0], [0], [4], [0], [4], [0], [0], [0], [0], [0], [0], [0], [0], [0], [0], [0], [0], [0], [7], [0], [0], [0], [0], [0], [0], [0], [4], [0], [0], [0], [0], [0], [0], [0], [0], [1], [0], [0], [0], [0], [0], [0], [0], [0], [0], [0], [0], [0], [0], [0], [0], [0], [0], [0], [0], [0], [7], [0], [0], [0], [0], [1], [0], [0], [14], [0], [0], [0], [5], [0], [0], [2]], \"geo\": \"geo\", \"hoverlabel\": {\"namelength\": 0}, \"hovertemplate\": \"Date=2020-01-28 00:00:00<br>Confirmed=%{customdata[0]}<br>Country/Region=%{location}\", \"legendgroup\": \"\", \"locationmode\": \"country names\", \"locations\": [\"Afghanistan\", \"Albania\", \"Algeria\", \"Andorra\", \"Argentina\", \"Armenia\", \"Australia\", \"Austria\", \"Azerbaijan\", \"Bahrain\", \"Bangladesh\", \"Belarus\", \"Belgium\", \"Bhutan\", \"Bolivia\", \"Bosnia and Herzegovina\", \"Brazil\", \"Brunei\", \"Bulgaria\", \"Burkina Faso\", \"Cambodia\", \"Cameroon\", \"Canada\", \"Chile\", \"China\", \"Colombia\", \"Congo (Kinshasa)\", \"Costa Rica\", \"Cote d'Ivoire\", \"Croatia\", \"Cruise Ship\", \"Cuba\", \"Cyprus\", \"Denmark\", \"Dominican Republic\", \"Ecuador\", \"Egypt\", \"Estonia\", \"Finland\", \"France\", \"Georgia\", \"Germany\", \"Greece\", \"Guyana\", \"Honduras\", \"Hungary\", \"Iceland\", \"India\", \"Indonesia\", \"Iran\", \"Iraq\", \"Ireland\", \"Israel\", \"Italy\", \"Jamaica\", \"Japan\", \"Jordan\", \"Kuwait\", \"Latvia\", \"Lebanon\", \"Liechtenstein\", \"Lithuania\", \"Luxembourg\", \"Malaysia\", \"Maldives\", \"Malta\", \"Martinique\", \"Mexico\", \"Moldova\", \"Monaco\", \"Mongolia\", \"Morocco\", \"Nepal\", \"Netherlands\", \"New Zealand\", \"Nigeria\", \"North Macedonia\", \"Norway\", \"Oman\", \"Pakistan\", \"Panama\", \"Paraguay\", \"Peru\", \"Philippines\", \"Poland\", \"Portugal\", \"Qatar\", \"Romania\", \"Russia\", \"San Marino\", \"Saudi Arabia\", \"Senegal\", \"Serbia\", \"Singapore\", \"Slovakia\", \"Slovenia\", \"South Africa\", \"Spain\", \"Sri Lanka\", \"Sweden\", \"Switzerland\", \"Thailand\", \"Togo\", \"Tunisia\", \"Turkey\", \"US\", \"Ukraine\", \"United Arab Emirates\", \"Vietnam\"], \"marker\": {\"color\": \"#636efa\", \"size\": [0, 0, 0, 0, 0, 0, 5, 0, 0, 0, 0, 0, 0, 0, 0, 0, 0, 0, 0, 0, 1, 0, 2, 0, 5509, 0, 0, 0, 0, 0, 0, 0, 0, 0, 0, 0, 0, 0, 0, 4, 0, 4, 0, 0, 0, 0, 0, 0, 0, 0, 0, 0, 0, 0, 0, 7, 0, 0, 0, 0, 0, 0, 0, 4, 0, 0, 0, 0, 0, 0, 0, 0, 1, 0, 0, 0, 0, 0, 0, 0, 0, 0, 0, 0, 0, 0, 0, 0, 0, 0, 0, 0, 0, 7, 0, 0, 0, 0, 1, 0, 0, 14, 0, 0, 0, 5, 0, 0, 2], \"sizemode\": \"area\", \"sizeref\": 202.89}, \"name\": \"\", \"showlegend\": false, \"type\": \"scattergeo\"}], \"name\": \"2020-01-28 00:00:00\"}, {\"data\": [{\"customdata\": [[0], [0], [0], [0], [0], [0], [6], [0], [0], [0], [0], [0], [0], [0], [0], [0], [0], [0], [0], [0], [1], [0], [2], [0], [6087], [0], [0], [0], [0], [0], [0], [0], [0], [0], [0], [0], [0], [0], [1], [5], [0], [4], [0], [0], [0], [0], [0], [0], [0], [0], [0], [0], [0], [0], [0], [7], [0], [0], [0], [0], [0], [0], [0], [7], [0], [0], [0], [0], [0], [0], [0], [0], [1], [0], [0], [0], [0], [0], [0], [0], [0], [0], [0], [0], [0], [0], [0], [0], [0], [0], [0], [0], [0], [7], [0], [0], [0], [0], [1], [0], [0], [14], [0], [0], [0], [5], [0], [4], [2]], \"geo\": \"geo\", \"hoverlabel\": {\"namelength\": 0}, \"hovertemplate\": \"Date=2020-01-29 00:00:00<br>Confirmed=%{customdata[0]}<br>Country/Region=%{location}\", \"legendgroup\": \"\", \"locationmode\": \"country names\", \"locations\": [\"Afghanistan\", \"Albania\", \"Algeria\", \"Andorra\", \"Argentina\", \"Armenia\", \"Australia\", \"Austria\", \"Azerbaijan\", \"Bahrain\", \"Bangladesh\", \"Belarus\", \"Belgium\", \"Bhutan\", \"Bolivia\", \"Bosnia and Herzegovina\", \"Brazil\", \"Brunei\", \"Bulgaria\", \"Burkina Faso\", \"Cambodia\", \"Cameroon\", \"Canada\", \"Chile\", \"China\", \"Colombia\", \"Congo (Kinshasa)\", \"Costa Rica\", \"Cote d'Ivoire\", \"Croatia\", \"Cruise Ship\", \"Cuba\", \"Cyprus\", \"Denmark\", \"Dominican Republic\", \"Ecuador\", \"Egypt\", \"Estonia\", \"Finland\", \"France\", \"Georgia\", \"Germany\", \"Greece\", \"Guyana\", \"Honduras\", \"Hungary\", \"Iceland\", \"India\", \"Indonesia\", \"Iran\", \"Iraq\", \"Ireland\", \"Israel\", \"Italy\", \"Jamaica\", \"Japan\", \"Jordan\", \"Kuwait\", \"Latvia\", \"Lebanon\", \"Liechtenstein\", \"Lithuania\", \"Luxembourg\", \"Malaysia\", \"Maldives\", \"Malta\", \"Martinique\", \"Mexico\", \"Moldova\", \"Monaco\", \"Mongolia\", \"Morocco\", \"Nepal\", \"Netherlands\", \"New Zealand\", \"Nigeria\", \"North Macedonia\", \"Norway\", \"Oman\", \"Pakistan\", \"Panama\", \"Paraguay\", \"Peru\", \"Philippines\", \"Poland\", \"Portugal\", \"Qatar\", \"Romania\", \"Russia\", \"San Marino\", \"Saudi Arabia\", \"Senegal\", \"Serbia\", \"Singapore\", \"Slovakia\", \"Slovenia\", \"South Africa\", \"Spain\", \"Sri Lanka\", \"Sweden\", \"Switzerland\", \"Thailand\", \"Togo\", \"Tunisia\", \"Turkey\", \"US\", \"Ukraine\", \"United Arab Emirates\", \"Vietnam\"], \"marker\": {\"color\": \"#636efa\", \"size\": [0, 0, 0, 0, 0, 0, 6, 0, 0, 0, 0, 0, 0, 0, 0, 0, 0, 0, 0, 0, 1, 0, 2, 0, 6087, 0, 0, 0, 0, 0, 0, 0, 0, 0, 0, 0, 0, 0, 1, 5, 0, 4, 0, 0, 0, 0, 0, 0, 0, 0, 0, 0, 0, 0, 0, 7, 0, 0, 0, 0, 0, 0, 0, 7, 0, 0, 0, 0, 0, 0, 0, 0, 1, 0, 0, 0, 0, 0, 0, 0, 0, 0, 0, 0, 0, 0, 0, 0, 0, 0, 0, 0, 0, 7, 0, 0, 0, 0, 1, 0, 0, 14, 0, 0, 0, 5, 0, 4, 2], \"sizemode\": \"area\", \"sizeref\": 202.89}, \"name\": \"\", \"showlegend\": false, \"type\": \"scattergeo\"}], \"name\": \"2020-01-29 00:00:00\"}, {\"data\": [{\"customdata\": [[0], [0], [0], [0], [0], [0], [9], [0], [0], [0], [0], [0], [0], [0], [0], [0], [0], [0], [0], [0], [1], [0], [2], [0], [8141], [0], [0], [0], [0], [0], [0], [0], [0], [0], [0], [0], [0], [0], [1], [5], [0], [4], [0], [0], [0], [0], [0], [1], [0], [0], [0], [0], [0], [0], [0], [11], [0], [0], [0], [0], [0], [0], [0], [8], [0], [0], [0], [0], [0], [0], [0], [0], [1], [0], [0], [0], [0], [0], [0], [0], [0], [0], [0], [1], [0], [0], [0], [0], [0], [0], [0], [0], [0], [10], [0], [0], [0], [0], [1], [0], [0], [14], [0], [0], [0], [5], [0], [4], [2]], \"geo\": \"geo\", \"hoverlabel\": {\"namelength\": 0}, \"hovertemplate\": \"Date=2020-01-30 00:00:00<br>Confirmed=%{customdata[0]}<br>Country/Region=%{location}\", \"legendgroup\": \"\", \"locationmode\": \"country names\", \"locations\": [\"Afghanistan\", \"Albania\", \"Algeria\", \"Andorra\", \"Argentina\", \"Armenia\", \"Australia\", \"Austria\", \"Azerbaijan\", \"Bahrain\", \"Bangladesh\", \"Belarus\", \"Belgium\", \"Bhutan\", \"Bolivia\", \"Bosnia and Herzegovina\", \"Brazil\", \"Brunei\", \"Bulgaria\", \"Burkina Faso\", \"Cambodia\", \"Cameroon\", \"Canada\", \"Chile\", \"China\", \"Colombia\", \"Congo (Kinshasa)\", \"Costa Rica\", \"Cote d'Ivoire\", \"Croatia\", \"Cruise Ship\", \"Cuba\", \"Cyprus\", \"Denmark\", \"Dominican Republic\", \"Ecuador\", \"Egypt\", \"Estonia\", \"Finland\", \"France\", \"Georgia\", \"Germany\", \"Greece\", \"Guyana\", \"Honduras\", \"Hungary\", \"Iceland\", \"India\", \"Indonesia\", \"Iran\", \"Iraq\", \"Ireland\", \"Israel\", \"Italy\", \"Jamaica\", \"Japan\", \"Jordan\", \"Kuwait\", \"Latvia\", \"Lebanon\", \"Liechtenstein\", \"Lithuania\", \"Luxembourg\", \"Malaysia\", \"Maldives\", \"Malta\", \"Martinique\", \"Mexico\", \"Moldova\", \"Monaco\", \"Mongolia\", \"Morocco\", \"Nepal\", \"Netherlands\", \"New Zealand\", \"Nigeria\", \"North Macedonia\", \"Norway\", \"Oman\", \"Pakistan\", \"Panama\", \"Paraguay\", \"Peru\", \"Philippines\", \"Poland\", \"Portugal\", \"Qatar\", \"Romania\", \"Russia\", \"San Marino\", \"Saudi Arabia\", \"Senegal\", \"Serbia\", \"Singapore\", \"Slovakia\", \"Slovenia\", \"South Africa\", \"Spain\", \"Sri Lanka\", \"Sweden\", \"Switzerland\", \"Thailand\", \"Togo\", \"Tunisia\", \"Turkey\", \"US\", \"Ukraine\", \"United Arab Emirates\", \"Vietnam\"], \"marker\": {\"color\": \"#636efa\", \"size\": [0, 0, 0, 0, 0, 0, 9, 0, 0, 0, 0, 0, 0, 0, 0, 0, 0, 0, 0, 0, 1, 0, 2, 0, 8141, 0, 0, 0, 0, 0, 0, 0, 0, 0, 0, 0, 0, 0, 1, 5, 0, 4, 0, 0, 0, 0, 0, 1, 0, 0, 0, 0, 0, 0, 0, 11, 0, 0, 0, 0, 0, 0, 0, 8, 0, 0, 0, 0, 0, 0, 0, 0, 1, 0, 0, 0, 0, 0, 0, 0, 0, 0, 0, 1, 0, 0, 0, 0, 0, 0, 0, 0, 0, 10, 0, 0, 0, 0, 1, 0, 0, 14, 0, 0, 0, 5, 0, 4, 2], \"sizemode\": \"area\", \"sizeref\": 202.89}, \"name\": \"\", \"showlegend\": false, \"type\": \"scattergeo\"}], \"name\": \"2020-01-30 00:00:00\"}, {\"data\": [{\"customdata\": [[0], [0], [0], [0], [0], [0], [9], [0], [0], [0], [0], [0], [0], [0], [0], [0], [0], [0], [0], [0], [1], [0], [4], [0], [9802], [0], [0], [0], [0], [0], [0], [0], [0], [0], [0], [0], [0], [0], [1], [5], [0], [5], [0], [0], [0], [0], [0], [1], [0], [0], [0], [0], [0], [2], [0], [15], [0], [0], [0], [0], [0], [0], [0], [8], [0], [0], [0], [0], [0], [0], [0], [0], [1], [0], [0], [0], [0], [0], [0], [0], [0], [0], [0], [1], [0], [0], [0], [0], [2], [0], [0], [0], [0], [13], [0], [0], [0], [0], [1], [1], [0], [19], [0], [0], [0], [7], [0], [4], [2]], \"geo\": \"geo\", \"hoverlabel\": {\"namelength\": 0}, \"hovertemplate\": \"Date=2020-01-31 00:00:00<br>Confirmed=%{customdata[0]}<br>Country/Region=%{location}\", \"legendgroup\": \"\", \"locationmode\": \"country names\", \"locations\": [\"Afghanistan\", \"Albania\", \"Algeria\", \"Andorra\", \"Argentina\", \"Armenia\", \"Australia\", \"Austria\", \"Azerbaijan\", \"Bahrain\", \"Bangladesh\", \"Belarus\", \"Belgium\", \"Bhutan\", \"Bolivia\", \"Bosnia and Herzegovina\", \"Brazil\", \"Brunei\", \"Bulgaria\", \"Burkina Faso\", \"Cambodia\", \"Cameroon\", \"Canada\", \"Chile\", \"China\", \"Colombia\", \"Congo (Kinshasa)\", \"Costa Rica\", \"Cote d'Ivoire\", \"Croatia\", \"Cruise Ship\", \"Cuba\", \"Cyprus\", \"Denmark\", \"Dominican Republic\", \"Ecuador\", \"Egypt\", \"Estonia\", \"Finland\", \"France\", \"Georgia\", \"Germany\", \"Greece\", \"Guyana\", \"Honduras\", \"Hungary\", \"Iceland\", \"India\", \"Indonesia\", \"Iran\", \"Iraq\", \"Ireland\", \"Israel\", \"Italy\", \"Jamaica\", \"Japan\", \"Jordan\", \"Kuwait\", \"Latvia\", \"Lebanon\", \"Liechtenstein\", \"Lithuania\", \"Luxembourg\", \"Malaysia\", \"Maldives\", \"Malta\", \"Martinique\", \"Mexico\", \"Moldova\", \"Monaco\", \"Mongolia\", \"Morocco\", \"Nepal\", \"Netherlands\", \"New Zealand\", \"Nigeria\", \"North Macedonia\", \"Norway\", \"Oman\", \"Pakistan\", \"Panama\", \"Paraguay\", \"Peru\", \"Philippines\", \"Poland\", \"Portugal\", \"Qatar\", \"Romania\", \"Russia\", \"San Marino\", \"Saudi Arabia\", \"Senegal\", \"Serbia\", \"Singapore\", \"Slovakia\", \"Slovenia\", \"South Africa\", \"Spain\", \"Sri Lanka\", \"Sweden\", \"Switzerland\", \"Thailand\", \"Togo\", \"Tunisia\", \"Turkey\", \"US\", \"Ukraine\", \"United Arab Emirates\", \"Vietnam\"], \"marker\": {\"color\": \"#636efa\", \"size\": [0, 0, 0, 0, 0, 0, 9, 0, 0, 0, 0, 0, 0, 0, 0, 0, 0, 0, 0, 0, 1, 0, 4, 0, 9802, 0, 0, 0, 0, 0, 0, 0, 0, 0, 0, 0, 0, 0, 1, 5, 0, 5, 0, 0, 0, 0, 0, 1, 0, 0, 0, 0, 0, 2, 0, 15, 0, 0, 0, 0, 0, 0, 0, 8, 0, 0, 0, 0, 0, 0, 0, 0, 1, 0, 0, 0, 0, 0, 0, 0, 0, 0, 0, 1, 0, 0, 0, 0, 2, 0, 0, 0, 0, 13, 0, 0, 0, 0, 1, 1, 0, 19, 0, 0, 0, 7, 0, 4, 2], \"sizemode\": \"area\", \"sizeref\": 202.89}, \"name\": \"\", \"showlegend\": false, \"type\": \"scattergeo\"}], \"name\": \"2020-01-31 00:00:00\"}, {\"data\": [{\"customdata\": [[0], [0], [0], [0], [0], [0], [12], [0], [0], [0], [0], [0], [0], [0], [0], [0], [0], [0], [0], [0], [1], [0], [4], [0], [11891], [0], [0], [0], [0], [0], [0], [0], [0], [0], [0], [0], [0], [0], [1], [6], [0], [8], [0], [0], [0], [0], [0], [1], [0], [0], [0], [0], [0], [2], [0], [20], [0], [0], [0], [0], [0], [0], [0], [8], [0], [0], [0], [0], [0], [0], [0], [0], [1], [0], [0], [0], [0], [0], [0], [0], [0], [0], [0], [1], [0], [0], [0], [0], [2], [0], [0], [0], [0], [16], [0], [0], [0], [1], [1], [1], [0], [19], [0], [0], [0], [8], [0], [4], [6]], \"geo\": \"geo\", \"hoverlabel\": {\"namelength\": 0}, \"hovertemplate\": \"Date=2020-02-01 00:00:00<br>Confirmed=%{customdata[0]}<br>Country/Region=%{location}\", \"legendgroup\": \"\", \"locationmode\": \"country names\", \"locations\": [\"Afghanistan\", \"Albania\", \"Algeria\", \"Andorra\", \"Argentina\", \"Armenia\", \"Australia\", \"Austria\", \"Azerbaijan\", \"Bahrain\", \"Bangladesh\", \"Belarus\", \"Belgium\", \"Bhutan\", \"Bolivia\", \"Bosnia and Herzegovina\", \"Brazil\", \"Brunei\", \"Bulgaria\", \"Burkina Faso\", \"Cambodia\", \"Cameroon\", \"Canada\", \"Chile\", \"China\", \"Colombia\", \"Congo (Kinshasa)\", \"Costa Rica\", \"Cote d'Ivoire\", \"Croatia\", \"Cruise Ship\", \"Cuba\", \"Cyprus\", \"Denmark\", \"Dominican Republic\", \"Ecuador\", \"Egypt\", \"Estonia\", \"Finland\", \"France\", \"Georgia\", \"Germany\", \"Greece\", \"Guyana\", \"Honduras\", \"Hungary\", \"Iceland\", \"India\", \"Indonesia\", \"Iran\", \"Iraq\", \"Ireland\", \"Israel\", \"Italy\", \"Jamaica\", \"Japan\", \"Jordan\", \"Kuwait\", \"Latvia\", \"Lebanon\", \"Liechtenstein\", \"Lithuania\", \"Luxembourg\", \"Malaysia\", \"Maldives\", \"Malta\", \"Martinique\", \"Mexico\", \"Moldova\", \"Monaco\", \"Mongolia\", \"Morocco\", \"Nepal\", \"Netherlands\", \"New Zealand\", \"Nigeria\", \"North Macedonia\", \"Norway\", \"Oman\", \"Pakistan\", \"Panama\", \"Paraguay\", \"Peru\", \"Philippines\", \"Poland\", \"Portugal\", \"Qatar\", \"Romania\", \"Russia\", \"San Marino\", \"Saudi Arabia\", \"Senegal\", \"Serbia\", \"Singapore\", \"Slovakia\", \"Slovenia\", \"South Africa\", \"Spain\", \"Sri Lanka\", \"Sweden\", \"Switzerland\", \"Thailand\", \"Togo\", \"Tunisia\", \"Turkey\", \"US\", \"Ukraine\", \"United Arab Emirates\", \"Vietnam\"], \"marker\": {\"color\": \"#636efa\", \"size\": [0, 0, 0, 0, 0, 0, 12, 0, 0, 0, 0, 0, 0, 0, 0, 0, 0, 0, 0, 0, 1, 0, 4, 0, 11891, 0, 0, 0, 0, 0, 0, 0, 0, 0, 0, 0, 0, 0, 1, 6, 0, 8, 0, 0, 0, 0, 0, 1, 0, 0, 0, 0, 0, 2, 0, 20, 0, 0, 0, 0, 0, 0, 0, 8, 0, 0, 0, 0, 0, 0, 0, 0, 1, 0, 0, 0, 0, 0, 0, 0, 0, 0, 0, 1, 0, 0, 0, 0, 2, 0, 0, 0, 0, 16, 0, 0, 0, 1, 1, 1, 0, 19, 0, 0, 0, 8, 0, 4, 6], \"sizemode\": \"area\", \"sizeref\": 202.89}, \"name\": \"\", \"showlegend\": false, \"type\": \"scattergeo\"}], \"name\": \"2020-02-01 00:00:00\"}, {\"data\": [{\"customdata\": [[0], [0], [0], [0], [0], [0], [12], [0], [0], [0], [0], [0], [0], [0], [0], [0], [0], [0], [0], [0], [1], [0], [4], [0], [16630], [0], [0], [0], [0], [0], [0], [0], [0], [0], [0], [0], [0], [0], [1], [6], [0], [10], [0], [0], [0], [0], [0], [2], [0], [0], [0], [0], [0], [2], [0], [20], [0], [0], [0], [0], [0], [0], [0], [8], [0], [0], [0], [0], [0], [0], [0], [0], [1], [0], [0], [0], [0], [0], [0], [0], [0], [0], [0], [2], [0], [0], [0], [0], [2], [0], [0], [0], [0], [18], [0], [0], [0], [1], [1], [1], [0], [19], [0], [0], [0], [8], [0], [5], [6]], \"geo\": \"geo\", \"hoverlabel\": {\"namelength\": 0}, \"hovertemplate\": \"Date=2020-02-02 00:00:00<br>Confirmed=%{customdata[0]}<br>Country/Region=%{location}\", \"legendgroup\": \"\", \"locationmode\": \"country names\", \"locations\": [\"Afghanistan\", \"Albania\", \"Algeria\", \"Andorra\", \"Argentina\", \"Armenia\", \"Australia\", \"Austria\", \"Azerbaijan\", \"Bahrain\", \"Bangladesh\", \"Belarus\", \"Belgium\", \"Bhutan\", \"Bolivia\", \"Bosnia and Herzegovina\", \"Brazil\", \"Brunei\", \"Bulgaria\", \"Burkina Faso\", \"Cambodia\", \"Cameroon\", \"Canada\", \"Chile\", \"China\", \"Colombia\", \"Congo (Kinshasa)\", \"Costa Rica\", \"Cote d'Ivoire\", \"Croatia\", \"Cruise Ship\", \"Cuba\", \"Cyprus\", \"Denmark\", \"Dominican Republic\", \"Ecuador\", \"Egypt\", \"Estonia\", \"Finland\", \"France\", \"Georgia\", \"Germany\", \"Greece\", \"Guyana\", \"Honduras\", \"Hungary\", \"Iceland\", \"India\", \"Indonesia\", \"Iran\", \"Iraq\", \"Ireland\", \"Israel\", \"Italy\", \"Jamaica\", \"Japan\", \"Jordan\", \"Kuwait\", \"Latvia\", \"Lebanon\", \"Liechtenstein\", \"Lithuania\", \"Luxembourg\", \"Malaysia\", \"Maldives\", \"Malta\", \"Martinique\", \"Mexico\", \"Moldova\", \"Monaco\", \"Mongolia\", \"Morocco\", \"Nepal\", \"Netherlands\", \"New Zealand\", \"Nigeria\", \"North Macedonia\", \"Norway\", \"Oman\", \"Pakistan\", \"Panama\", \"Paraguay\", \"Peru\", \"Philippines\", \"Poland\", \"Portugal\", \"Qatar\", \"Romania\", \"Russia\", \"San Marino\", \"Saudi Arabia\", \"Senegal\", \"Serbia\", \"Singapore\", \"Slovakia\", \"Slovenia\", \"South Africa\", \"Spain\", \"Sri Lanka\", \"Sweden\", \"Switzerland\", \"Thailand\", \"Togo\", \"Tunisia\", \"Turkey\", \"US\", \"Ukraine\", \"United Arab Emirates\", \"Vietnam\"], \"marker\": {\"color\": \"#636efa\", \"size\": [0, 0, 0, 0, 0, 0, 12, 0, 0, 0, 0, 0, 0, 0, 0, 0, 0, 0, 0, 0, 1, 0, 4, 0, 16630, 0, 0, 0, 0, 0, 0, 0, 0, 0, 0, 0, 0, 0, 1, 6, 0, 10, 0, 0, 0, 0, 0, 2, 0, 0, 0, 0, 0, 2, 0, 20, 0, 0, 0, 0, 0, 0, 0, 8, 0, 0, 0, 0, 0, 0, 0, 0, 1, 0, 0, 0, 0, 0, 0, 0, 0, 0, 0, 2, 0, 0, 0, 0, 2, 0, 0, 0, 0, 18, 0, 0, 0, 1, 1, 1, 0, 19, 0, 0, 0, 8, 0, 5, 6], \"sizemode\": \"area\", \"sizeref\": 202.89}, \"name\": \"\", \"showlegend\": false, \"type\": \"scattergeo\"}], \"name\": \"2020-02-02 00:00:00\"}, {\"data\": [{\"customdata\": [[0], [0], [0], [0], [0], [0], [12], [0], [0], [0], [0], [0], [0], [0], [0], [0], [0], [0], [0], [0], [1], [0], [4], [0], [19716], [0], [0], [0], [0], [0], [0], [0], [0], [0], [0], [0], [0], [0], [1], [6], [0], [12], [0], [0], [0], [0], [0], [3], [0], [0], [0], [0], [0], [2], [0], [20], [0], [0], [0], [0], [0], [0], [0], [8], [0], [0], [0], [0], [0], [0], [0], [0], [1], [0], [0], [0], [0], [0], [0], [0], [0], [0], [0], [2], [0], [0], [0], [0], [2], [0], [0], [0], [0], [18], [0], [0], [0], [1], [1], [1], [0], [19], [0], [0], [0], [11], [0], [5], [8]], \"geo\": \"geo\", \"hoverlabel\": {\"namelength\": 0}, \"hovertemplate\": \"Date=2020-02-03 00:00:00<br>Confirmed=%{customdata[0]}<br>Country/Region=%{location}\", \"legendgroup\": \"\", \"locationmode\": \"country names\", \"locations\": [\"Afghanistan\", \"Albania\", \"Algeria\", \"Andorra\", \"Argentina\", \"Armenia\", \"Australia\", \"Austria\", \"Azerbaijan\", \"Bahrain\", \"Bangladesh\", \"Belarus\", \"Belgium\", \"Bhutan\", \"Bolivia\", \"Bosnia and Herzegovina\", \"Brazil\", \"Brunei\", \"Bulgaria\", \"Burkina Faso\", \"Cambodia\", \"Cameroon\", \"Canada\", \"Chile\", \"China\", \"Colombia\", \"Congo (Kinshasa)\", \"Costa Rica\", \"Cote d'Ivoire\", \"Croatia\", \"Cruise Ship\", \"Cuba\", \"Cyprus\", \"Denmark\", \"Dominican Republic\", \"Ecuador\", \"Egypt\", \"Estonia\", \"Finland\", \"France\", \"Georgia\", \"Germany\", \"Greece\", \"Guyana\", \"Honduras\", \"Hungary\", \"Iceland\", \"India\", \"Indonesia\", \"Iran\", \"Iraq\", \"Ireland\", \"Israel\", \"Italy\", \"Jamaica\", \"Japan\", \"Jordan\", \"Kuwait\", \"Latvia\", \"Lebanon\", \"Liechtenstein\", \"Lithuania\", \"Luxembourg\", \"Malaysia\", \"Maldives\", \"Malta\", \"Martinique\", \"Mexico\", \"Moldova\", \"Monaco\", \"Mongolia\", \"Morocco\", \"Nepal\", \"Netherlands\", \"New Zealand\", \"Nigeria\", \"North Macedonia\", \"Norway\", \"Oman\", \"Pakistan\", \"Panama\", \"Paraguay\", \"Peru\", \"Philippines\", \"Poland\", \"Portugal\", \"Qatar\", \"Romania\", \"Russia\", \"San Marino\", \"Saudi Arabia\", \"Senegal\", \"Serbia\", \"Singapore\", \"Slovakia\", \"Slovenia\", \"South Africa\", \"Spain\", \"Sri Lanka\", \"Sweden\", \"Switzerland\", \"Thailand\", \"Togo\", \"Tunisia\", \"Turkey\", \"US\", \"Ukraine\", \"United Arab Emirates\", \"Vietnam\"], \"marker\": {\"color\": \"#636efa\", \"size\": [0, 0, 0, 0, 0, 0, 12, 0, 0, 0, 0, 0, 0, 0, 0, 0, 0, 0, 0, 0, 1, 0, 4, 0, 19716, 0, 0, 0, 0, 0, 0, 0, 0, 0, 0, 0, 0, 0, 1, 6, 0, 12, 0, 0, 0, 0, 0, 3, 0, 0, 0, 0, 0, 2, 0, 20, 0, 0, 0, 0, 0, 0, 0, 8, 0, 0, 0, 0, 0, 0, 0, 0, 1, 0, 0, 0, 0, 0, 0, 0, 0, 0, 0, 2, 0, 0, 0, 0, 2, 0, 0, 0, 0, 18, 0, 0, 0, 1, 1, 1, 0, 19, 0, 0, 0, 11, 0, 5, 8], \"sizemode\": \"area\", \"sizeref\": 202.89}, \"name\": \"\", \"showlegend\": false, \"type\": \"scattergeo\"}], \"name\": \"2020-02-03 00:00:00\"}, {\"data\": [{\"customdata\": [[0], [0], [0], [0], [0], [0], [13], [0], [0], [0], [0], [0], [1], [0], [0], [0], [0], [0], [0], [0], [1], [0], [4], [0], [23707], [0], [0], [0], [0], [0], [0], [0], [0], [0], [0], [0], [0], [0], [1], [6], [0], [12], [0], [0], [0], [0], [0], [3], [0], [0], [0], [0], [0], [2], [0], [22], [0], [0], [0], [0], [0], [0], [0], [10], [0], [0], [0], [0], [0], [0], [0], [0], [1], [0], [0], [0], [0], [0], [0], [0], [0], [0], [0], [2], [0], [0], [0], [0], [2], [0], [0], [0], [0], [24], [0], [0], [0], [1], [1], [1], [0], [25], [0], [0], [0], [11], [0], [5], [8]], \"geo\": \"geo\", \"hoverlabel\": {\"namelength\": 0}, \"hovertemplate\": \"Date=2020-02-04 00:00:00<br>Confirmed=%{customdata[0]}<br>Country/Region=%{location}\", \"legendgroup\": \"\", \"locationmode\": \"country names\", \"locations\": [\"Afghanistan\", \"Albania\", \"Algeria\", \"Andorra\", \"Argentina\", \"Armenia\", \"Australia\", \"Austria\", \"Azerbaijan\", \"Bahrain\", \"Bangladesh\", \"Belarus\", \"Belgium\", \"Bhutan\", \"Bolivia\", \"Bosnia and Herzegovina\", \"Brazil\", \"Brunei\", \"Bulgaria\", \"Burkina Faso\", \"Cambodia\", \"Cameroon\", \"Canada\", \"Chile\", \"China\", \"Colombia\", \"Congo (Kinshasa)\", \"Costa Rica\", \"Cote d'Ivoire\", \"Croatia\", \"Cruise Ship\", \"Cuba\", \"Cyprus\", \"Denmark\", \"Dominican Republic\", \"Ecuador\", \"Egypt\", \"Estonia\", \"Finland\", \"France\", \"Georgia\", \"Germany\", \"Greece\", \"Guyana\", \"Honduras\", \"Hungary\", \"Iceland\", \"India\", \"Indonesia\", \"Iran\", \"Iraq\", \"Ireland\", \"Israel\", \"Italy\", \"Jamaica\", \"Japan\", \"Jordan\", \"Kuwait\", \"Latvia\", \"Lebanon\", \"Liechtenstein\", \"Lithuania\", \"Luxembourg\", \"Malaysia\", \"Maldives\", \"Malta\", \"Martinique\", \"Mexico\", \"Moldova\", \"Monaco\", \"Mongolia\", \"Morocco\", \"Nepal\", \"Netherlands\", \"New Zealand\", \"Nigeria\", \"North Macedonia\", \"Norway\", \"Oman\", \"Pakistan\", \"Panama\", \"Paraguay\", \"Peru\", \"Philippines\", \"Poland\", \"Portugal\", \"Qatar\", \"Romania\", \"Russia\", \"San Marino\", \"Saudi Arabia\", \"Senegal\", \"Serbia\", \"Singapore\", \"Slovakia\", \"Slovenia\", \"South Africa\", \"Spain\", \"Sri Lanka\", \"Sweden\", \"Switzerland\", \"Thailand\", \"Togo\", \"Tunisia\", \"Turkey\", \"US\", \"Ukraine\", \"United Arab Emirates\", \"Vietnam\"], \"marker\": {\"color\": \"#636efa\", \"size\": [0, 0, 0, 0, 0, 0, 13, 0, 0, 0, 0, 0, 1, 0, 0, 0, 0, 0, 0, 0, 1, 0, 4, 0, 23707, 0, 0, 0, 0, 0, 0, 0, 0, 0, 0, 0, 0, 0, 1, 6, 0, 12, 0, 0, 0, 0, 0, 3, 0, 0, 0, 0, 0, 2, 0, 22, 0, 0, 0, 0, 0, 0, 0, 10, 0, 0, 0, 0, 0, 0, 0, 0, 1, 0, 0, 0, 0, 0, 0, 0, 0, 0, 0, 2, 0, 0, 0, 0, 2, 0, 0, 0, 0, 24, 0, 0, 0, 1, 1, 1, 0, 25, 0, 0, 0, 11, 0, 5, 8], \"sizemode\": \"area\", \"sizeref\": 202.89}, \"name\": \"\", \"showlegend\": false, \"type\": \"scattergeo\"}], \"name\": \"2020-02-04 00:00:00\"}, {\"data\": [{\"customdata\": [[0], [0], [0], [0], [0], [0], [13], [0], [0], [0], [0], [0], [1], [0], [0], [0], [0], [0], [0], [0], [1], [0], [5], [0], [27440], [0], [0], [0], [0], [0], [0], [0], [0], [0], [0], [0], [0], [0], [1], [6], [0], [12], [0], [0], [0], [0], [0], [3], [0], [0], [0], [0], [0], [2], [0], [22], [0], [0], [0], [0], [0], [0], [0], [12], [0], [0], [0], [0], [0], [0], [0], [0], [1], [0], [0], [0], [0], [0], [0], [0], [0], [0], [0], [2], [0], [0], [0], [0], [2], [0], [0], [0], [0], [28], [0], [0], [0], [1], [1], [1], [0], [25], [0], [0], [0], [11], [0], [5], [8]], \"geo\": \"geo\", \"hoverlabel\": {\"namelength\": 0}, \"hovertemplate\": \"Date=2020-02-05 00:00:00<br>Confirmed=%{customdata[0]}<br>Country/Region=%{location}\", \"legendgroup\": \"\", \"locationmode\": \"country names\", \"locations\": [\"Afghanistan\", \"Albania\", \"Algeria\", \"Andorra\", \"Argentina\", \"Armenia\", \"Australia\", \"Austria\", \"Azerbaijan\", \"Bahrain\", \"Bangladesh\", \"Belarus\", \"Belgium\", \"Bhutan\", \"Bolivia\", \"Bosnia and Herzegovina\", \"Brazil\", \"Brunei\", \"Bulgaria\", \"Burkina Faso\", \"Cambodia\", \"Cameroon\", \"Canada\", \"Chile\", \"China\", \"Colombia\", \"Congo (Kinshasa)\", \"Costa Rica\", \"Cote d'Ivoire\", \"Croatia\", \"Cruise Ship\", \"Cuba\", \"Cyprus\", \"Denmark\", \"Dominican Republic\", \"Ecuador\", \"Egypt\", \"Estonia\", \"Finland\", \"France\", \"Georgia\", \"Germany\", \"Greece\", \"Guyana\", \"Honduras\", \"Hungary\", \"Iceland\", \"India\", \"Indonesia\", \"Iran\", \"Iraq\", \"Ireland\", \"Israel\", \"Italy\", \"Jamaica\", \"Japan\", \"Jordan\", \"Kuwait\", \"Latvia\", \"Lebanon\", \"Liechtenstein\", \"Lithuania\", \"Luxembourg\", \"Malaysia\", \"Maldives\", \"Malta\", \"Martinique\", \"Mexico\", \"Moldova\", \"Monaco\", \"Mongolia\", \"Morocco\", \"Nepal\", \"Netherlands\", \"New Zealand\", \"Nigeria\", \"North Macedonia\", \"Norway\", \"Oman\", \"Pakistan\", \"Panama\", \"Paraguay\", \"Peru\", \"Philippines\", \"Poland\", \"Portugal\", \"Qatar\", \"Romania\", \"Russia\", \"San Marino\", \"Saudi Arabia\", \"Senegal\", \"Serbia\", \"Singapore\", \"Slovakia\", \"Slovenia\", \"South Africa\", \"Spain\", \"Sri Lanka\", \"Sweden\", \"Switzerland\", \"Thailand\", \"Togo\", \"Tunisia\", \"Turkey\", \"US\", \"Ukraine\", \"United Arab Emirates\", \"Vietnam\"], \"marker\": {\"color\": \"#636efa\", \"size\": [0, 0, 0, 0, 0, 0, 13, 0, 0, 0, 0, 0, 1, 0, 0, 0, 0, 0, 0, 0, 1, 0, 5, 0, 27440, 0, 0, 0, 0, 0, 0, 0, 0, 0, 0, 0, 0, 0, 1, 6, 0, 12, 0, 0, 0, 0, 0, 3, 0, 0, 0, 0, 0, 2, 0, 22, 0, 0, 0, 0, 0, 0, 0, 12, 0, 0, 0, 0, 0, 0, 0, 0, 1, 0, 0, 0, 0, 0, 0, 0, 0, 0, 0, 2, 0, 0, 0, 0, 2, 0, 0, 0, 0, 28, 0, 0, 0, 1, 1, 1, 0, 25, 0, 0, 0, 11, 0, 5, 8], \"sizemode\": \"area\", \"sizeref\": 202.89}, \"name\": \"\", \"showlegend\": false, \"type\": \"scattergeo\"}], \"name\": \"2020-02-05 00:00:00\"}, {\"data\": [{\"customdata\": [[0], [0], [0], [0], [0], [0], [14], [0], [0], [0], [0], [0], [1], [0], [0], [0], [0], [0], [0], [0], [1], [0], [5], [0], [30587], [0], [0], [0], [0], [0], [0], [0], [0], [0], [0], [0], [0], [0], [1], [6], [0], [12], [0], [0], [0], [0], [0], [3], [0], [0], [0], [0], [0], [2], [0], [45], [0], [0], [0], [0], [0], [0], [0], [12], [0], [0], [0], [0], [0], [0], [0], [0], [1], [0], [0], [0], [0], [0], [0], [0], [0], [0], [0], [2], [0], [0], [0], [0], [2], [0], [0], [0], [0], [28], [0], [0], [0], [1], [1], [1], [0], [25], [0], [0], [0], [11], [0], [5], [10]], \"geo\": \"geo\", \"hoverlabel\": {\"namelength\": 0}, \"hovertemplate\": \"Date=2020-02-06 00:00:00<br>Confirmed=%{customdata[0]}<br>Country/Region=%{location}\", \"legendgroup\": \"\", \"locationmode\": \"country names\", \"locations\": [\"Afghanistan\", \"Albania\", \"Algeria\", \"Andorra\", \"Argentina\", \"Armenia\", \"Australia\", \"Austria\", \"Azerbaijan\", \"Bahrain\", \"Bangladesh\", \"Belarus\", \"Belgium\", \"Bhutan\", \"Bolivia\", \"Bosnia and Herzegovina\", \"Brazil\", \"Brunei\", \"Bulgaria\", \"Burkina Faso\", \"Cambodia\", \"Cameroon\", \"Canada\", \"Chile\", \"China\", \"Colombia\", \"Congo (Kinshasa)\", \"Costa Rica\", \"Cote d'Ivoire\", \"Croatia\", \"Cruise Ship\", \"Cuba\", \"Cyprus\", \"Denmark\", \"Dominican Republic\", \"Ecuador\", \"Egypt\", \"Estonia\", \"Finland\", \"France\", \"Georgia\", \"Germany\", \"Greece\", \"Guyana\", \"Honduras\", \"Hungary\", \"Iceland\", \"India\", \"Indonesia\", \"Iran\", \"Iraq\", \"Ireland\", \"Israel\", \"Italy\", \"Jamaica\", \"Japan\", \"Jordan\", \"Kuwait\", \"Latvia\", \"Lebanon\", \"Liechtenstein\", \"Lithuania\", \"Luxembourg\", \"Malaysia\", \"Maldives\", \"Malta\", \"Martinique\", \"Mexico\", \"Moldova\", \"Monaco\", \"Mongolia\", \"Morocco\", \"Nepal\", \"Netherlands\", \"New Zealand\", \"Nigeria\", \"North Macedonia\", \"Norway\", \"Oman\", \"Pakistan\", \"Panama\", \"Paraguay\", \"Peru\", \"Philippines\", \"Poland\", \"Portugal\", \"Qatar\", \"Romania\", \"Russia\", \"San Marino\", \"Saudi Arabia\", \"Senegal\", \"Serbia\", \"Singapore\", \"Slovakia\", \"Slovenia\", \"South Africa\", \"Spain\", \"Sri Lanka\", \"Sweden\", \"Switzerland\", \"Thailand\", \"Togo\", \"Tunisia\", \"Turkey\", \"US\", \"Ukraine\", \"United Arab Emirates\", \"Vietnam\"], \"marker\": {\"color\": \"#636efa\", \"size\": [0, 0, 0, 0, 0, 0, 14, 0, 0, 0, 0, 0, 1, 0, 0, 0, 0, 0, 0, 0, 1, 0, 5, 0, 30587, 0, 0, 0, 0, 0, 0, 0, 0, 0, 0, 0, 0, 0, 1, 6, 0, 12, 0, 0, 0, 0, 0, 3, 0, 0, 0, 0, 0, 2, 0, 45, 0, 0, 0, 0, 0, 0, 0, 12, 0, 0, 0, 0, 0, 0, 0, 0, 1, 0, 0, 0, 0, 0, 0, 0, 0, 0, 0, 2, 0, 0, 0, 0, 2, 0, 0, 0, 0, 28, 0, 0, 0, 1, 1, 1, 0, 25, 0, 0, 0, 11, 0, 5, 10], \"sizemode\": \"area\", \"sizeref\": 202.89}, \"name\": \"\", \"showlegend\": false, \"type\": \"scattergeo\"}], \"name\": \"2020-02-06 00:00:00\"}, {\"data\": [{\"customdata\": [[0], [0], [0], [0], [0], [0], [15], [0], [0], [0], [0], [0], [1], [0], [0], [0], [0], [0], [0], [0], [1], [0], [7], [0], [34110], [0], [0], [0], [0], [0], [61], [0], [0], [0], [0], [0], [0], [0], [1], [6], [0], [13], [0], [0], [0], [0], [0], [3], [0], [0], [0], [0], [0], [3], [0], [25], [0], [0], [0], [0], [0], [0], [0], [12], [0], [0], [0], [0], [0], [0], [0], [0], [1], [0], [0], [0], [0], [0], [0], [0], [0], [0], [0], [3], [0], [0], [0], [0], [2], [0], [0], [0], [0], [30], [0], [0], [0], [1], [1], [1], [0], [25], [0], [0], [0], [11], [0], [5], [10]], \"geo\": \"geo\", \"hoverlabel\": {\"namelength\": 0}, \"hovertemplate\": \"Date=2020-02-07 00:00:00<br>Confirmed=%{customdata[0]}<br>Country/Region=%{location}\", \"legendgroup\": \"\", \"locationmode\": \"country names\", \"locations\": [\"Afghanistan\", \"Albania\", \"Algeria\", \"Andorra\", \"Argentina\", \"Armenia\", \"Australia\", \"Austria\", \"Azerbaijan\", \"Bahrain\", \"Bangladesh\", \"Belarus\", \"Belgium\", \"Bhutan\", \"Bolivia\", \"Bosnia and Herzegovina\", \"Brazil\", \"Brunei\", \"Bulgaria\", \"Burkina Faso\", \"Cambodia\", \"Cameroon\", \"Canada\", \"Chile\", \"China\", \"Colombia\", \"Congo (Kinshasa)\", \"Costa Rica\", \"Cote d'Ivoire\", \"Croatia\", \"Cruise Ship\", \"Cuba\", \"Cyprus\", \"Denmark\", \"Dominican Republic\", \"Ecuador\", \"Egypt\", \"Estonia\", \"Finland\", \"France\", \"Georgia\", \"Germany\", \"Greece\", \"Guyana\", \"Honduras\", \"Hungary\", \"Iceland\", \"India\", \"Indonesia\", \"Iran\", \"Iraq\", \"Ireland\", \"Israel\", \"Italy\", \"Jamaica\", \"Japan\", \"Jordan\", \"Kuwait\", \"Latvia\", \"Lebanon\", \"Liechtenstein\", \"Lithuania\", \"Luxembourg\", \"Malaysia\", \"Maldives\", \"Malta\", \"Martinique\", \"Mexico\", \"Moldova\", \"Monaco\", \"Mongolia\", \"Morocco\", \"Nepal\", \"Netherlands\", \"New Zealand\", \"Nigeria\", \"North Macedonia\", \"Norway\", \"Oman\", \"Pakistan\", \"Panama\", \"Paraguay\", \"Peru\", \"Philippines\", \"Poland\", \"Portugal\", \"Qatar\", \"Romania\", \"Russia\", \"San Marino\", \"Saudi Arabia\", \"Senegal\", \"Serbia\", \"Singapore\", \"Slovakia\", \"Slovenia\", \"South Africa\", \"Spain\", \"Sri Lanka\", \"Sweden\", \"Switzerland\", \"Thailand\", \"Togo\", \"Tunisia\", \"Turkey\", \"US\", \"Ukraine\", \"United Arab Emirates\", \"Vietnam\"], \"marker\": {\"color\": \"#636efa\", \"size\": [0, 0, 0, 0, 0, 0, 15, 0, 0, 0, 0, 0, 1, 0, 0, 0, 0, 0, 0, 0, 1, 0, 7, 0, 34110, 0, 0, 0, 0, 0, 61, 0, 0, 0, 0, 0, 0, 0, 1, 6, 0, 13, 0, 0, 0, 0, 0, 3, 0, 0, 0, 0, 0, 3, 0, 25, 0, 0, 0, 0, 0, 0, 0, 12, 0, 0, 0, 0, 0, 0, 0, 0, 1, 0, 0, 0, 0, 0, 0, 0, 0, 0, 0, 3, 0, 0, 0, 0, 2, 0, 0, 0, 0, 30, 0, 0, 0, 1, 1, 1, 0, 25, 0, 0, 0, 11, 0, 5, 10], \"sizemode\": \"area\", \"sizeref\": 202.89}, \"name\": \"\", \"showlegend\": false, \"type\": \"scattergeo\"}], \"name\": \"2020-02-07 00:00:00\"}, {\"data\": [{\"customdata\": [[0], [0], [0], [0], [0], [0], [15], [0], [0], [0], [0], [0], [1], [0], [0], [0], [0], [0], [0], [0], [1], [0], [7], [0], [36814], [0], [0], [0], [0], [0], [61], [0], [0], [0], [0], [0], [0], [0], [1], [11], [0], [13], [0], [0], [0], [0], [0], [3], [0], [0], [0], [0], [0], [3], [0], [25], [0], [0], [0], [0], [0], [0], [0], [16], [0], [0], [0], [0], [0], [0], [0], [0], [1], [0], [0], [0], [0], [0], [0], [0], [0], [0], [0], [3], [0], [0], [0], [0], [2], [0], [0], [0], [0], [33], [0], [0], [0], [1], [1], [1], [0], [32], [0], [0], [0], [11], [0], [7], [13]], \"geo\": \"geo\", \"hoverlabel\": {\"namelength\": 0}, \"hovertemplate\": \"Date=2020-02-08 00:00:00<br>Confirmed=%{customdata[0]}<br>Country/Region=%{location}\", \"legendgroup\": \"\", \"locationmode\": \"country names\", \"locations\": [\"Afghanistan\", \"Albania\", \"Algeria\", \"Andorra\", \"Argentina\", \"Armenia\", \"Australia\", \"Austria\", \"Azerbaijan\", \"Bahrain\", \"Bangladesh\", \"Belarus\", \"Belgium\", \"Bhutan\", \"Bolivia\", \"Bosnia and Herzegovina\", \"Brazil\", \"Brunei\", \"Bulgaria\", \"Burkina Faso\", \"Cambodia\", \"Cameroon\", \"Canada\", \"Chile\", \"China\", \"Colombia\", \"Congo (Kinshasa)\", \"Costa Rica\", \"Cote d'Ivoire\", \"Croatia\", \"Cruise Ship\", \"Cuba\", \"Cyprus\", \"Denmark\", \"Dominican Republic\", \"Ecuador\", \"Egypt\", \"Estonia\", \"Finland\", \"France\", \"Georgia\", \"Germany\", \"Greece\", \"Guyana\", \"Honduras\", \"Hungary\", \"Iceland\", \"India\", \"Indonesia\", \"Iran\", \"Iraq\", \"Ireland\", \"Israel\", \"Italy\", \"Jamaica\", \"Japan\", \"Jordan\", \"Kuwait\", \"Latvia\", \"Lebanon\", \"Liechtenstein\", \"Lithuania\", \"Luxembourg\", \"Malaysia\", \"Maldives\", \"Malta\", \"Martinique\", \"Mexico\", \"Moldova\", \"Monaco\", \"Mongolia\", \"Morocco\", \"Nepal\", \"Netherlands\", \"New Zealand\", \"Nigeria\", \"North Macedonia\", \"Norway\", \"Oman\", \"Pakistan\", \"Panama\", \"Paraguay\", \"Peru\", \"Philippines\", \"Poland\", \"Portugal\", \"Qatar\", \"Romania\", \"Russia\", \"San Marino\", \"Saudi Arabia\", \"Senegal\", \"Serbia\", \"Singapore\", \"Slovakia\", \"Slovenia\", \"South Africa\", \"Spain\", \"Sri Lanka\", \"Sweden\", \"Switzerland\", \"Thailand\", \"Togo\", \"Tunisia\", \"Turkey\", \"US\", \"Ukraine\", \"United Arab Emirates\", \"Vietnam\"], \"marker\": {\"color\": \"#636efa\", \"size\": [0, 0, 0, 0, 0, 0, 15, 0, 0, 0, 0, 0, 1, 0, 0, 0, 0, 0, 0, 0, 1, 0, 7, 0, 36814, 0, 0, 0, 0, 0, 61, 0, 0, 0, 0, 0, 0, 0, 1, 11, 0, 13, 0, 0, 0, 0, 0, 3, 0, 0, 0, 0, 0, 3, 0, 25, 0, 0, 0, 0, 0, 0, 0, 16, 0, 0, 0, 0, 0, 0, 0, 0, 1, 0, 0, 0, 0, 0, 0, 0, 0, 0, 0, 3, 0, 0, 0, 0, 2, 0, 0, 0, 0, 33, 0, 0, 0, 1, 1, 1, 0, 32, 0, 0, 0, 11, 0, 7, 13], \"sizemode\": \"area\", \"sizeref\": 202.89}, \"name\": \"\", \"showlegend\": false, \"type\": \"scattergeo\"}], \"name\": \"2020-02-08 00:00:00\"}, {\"data\": [{\"customdata\": [[0], [0], [0], [0], [0], [0], [15], [0], [0], [0], [0], [0], [1], [0], [0], [0], [0], [0], [0], [0], [1], [0], [7], [0], [39829], [0], [0], [0], [0], [0], [64], [0], [0], [0], [0], [0], [0], [0], [1], [11], [0], [14], [0], [0], [0], [0], [0], [3], [0], [0], [0], [0], [0], [3], [0], [26], [0], [0], [0], [0], [0], [0], [0], [16], [0], [0], [0], [0], [0], [0], [0], [0], [1], [0], [0], [0], [0], [0], [0], [0], [0], [0], [0], [3], [0], [0], [0], [0], [2], [0], [0], [0], [0], [40], [0], [0], [0], [2], [1], [1], [0], [32], [0], [0], [0], [11], [0], [7], [13]], \"geo\": \"geo\", \"hoverlabel\": {\"namelength\": 0}, \"hovertemplate\": \"Date=2020-02-09 00:00:00<br>Confirmed=%{customdata[0]}<br>Country/Region=%{location}\", \"legendgroup\": \"\", \"locationmode\": \"country names\", \"locations\": [\"Afghanistan\", \"Albania\", \"Algeria\", \"Andorra\", \"Argentina\", \"Armenia\", \"Australia\", \"Austria\", \"Azerbaijan\", \"Bahrain\", \"Bangladesh\", \"Belarus\", \"Belgium\", \"Bhutan\", \"Bolivia\", \"Bosnia and Herzegovina\", \"Brazil\", \"Brunei\", \"Bulgaria\", \"Burkina Faso\", \"Cambodia\", \"Cameroon\", \"Canada\", \"Chile\", \"China\", \"Colombia\", \"Congo (Kinshasa)\", \"Costa Rica\", \"Cote d'Ivoire\", \"Croatia\", \"Cruise Ship\", \"Cuba\", \"Cyprus\", \"Denmark\", \"Dominican Republic\", \"Ecuador\", \"Egypt\", \"Estonia\", \"Finland\", \"France\", \"Georgia\", \"Germany\", \"Greece\", \"Guyana\", \"Honduras\", \"Hungary\", \"Iceland\", \"India\", \"Indonesia\", \"Iran\", \"Iraq\", \"Ireland\", \"Israel\", \"Italy\", \"Jamaica\", \"Japan\", \"Jordan\", \"Kuwait\", \"Latvia\", \"Lebanon\", \"Liechtenstein\", \"Lithuania\", \"Luxembourg\", \"Malaysia\", \"Maldives\", \"Malta\", \"Martinique\", \"Mexico\", \"Moldova\", \"Monaco\", \"Mongolia\", \"Morocco\", \"Nepal\", \"Netherlands\", \"New Zealand\", \"Nigeria\", \"North Macedonia\", \"Norway\", \"Oman\", \"Pakistan\", \"Panama\", \"Paraguay\", \"Peru\", \"Philippines\", \"Poland\", \"Portugal\", \"Qatar\", \"Romania\", \"Russia\", \"San Marino\", \"Saudi Arabia\", \"Senegal\", \"Serbia\", \"Singapore\", \"Slovakia\", \"Slovenia\", \"South Africa\", \"Spain\", \"Sri Lanka\", \"Sweden\", \"Switzerland\", \"Thailand\", \"Togo\", \"Tunisia\", \"Turkey\", \"US\", \"Ukraine\", \"United Arab Emirates\", \"Vietnam\"], \"marker\": {\"color\": \"#636efa\", \"size\": [0, 0, 0, 0, 0, 0, 15, 0, 0, 0, 0, 0, 1, 0, 0, 0, 0, 0, 0, 0, 1, 0, 7, 0, 39829, 0, 0, 0, 0, 0, 64, 0, 0, 0, 0, 0, 0, 0, 1, 11, 0, 14, 0, 0, 0, 0, 0, 3, 0, 0, 0, 0, 0, 3, 0, 26, 0, 0, 0, 0, 0, 0, 0, 16, 0, 0, 0, 0, 0, 0, 0, 0, 1, 0, 0, 0, 0, 0, 0, 0, 0, 0, 0, 3, 0, 0, 0, 0, 2, 0, 0, 0, 0, 40, 0, 0, 0, 2, 1, 1, 0, 32, 0, 0, 0, 11, 0, 7, 13], \"sizemode\": \"area\", \"sizeref\": 202.89}, \"name\": \"\", \"showlegend\": false, \"type\": \"scattergeo\"}], \"name\": \"2020-02-09 00:00:00\"}, {\"data\": [{\"customdata\": [[0], [0], [0], [0], [0], [0], [15], [0], [0], [0], [0], [0], [1], [0], [0], [0], [0], [0], [0], [0], [1], [0], [7], [0], [42354], [0], [0], [0], [0], [0], [135], [0], [0], [0], [0], [0], [0], [0], [1], [11], [0], [14], [0], [0], [0], [0], [0], [3], [0], [0], [0], [0], [0], [3], [0], [26], [0], [0], [0], [0], [0], [0], [0], [18], [0], [0], [0], [0], [0], [0], [0], [0], [1], [0], [0], [0], [0], [0], [0], [0], [0], [0], [0], [3], [0], [0], [0], [0], [2], [0], [0], [0], [0], [45], [0], [0], [0], [2], [1], [1], [0], [32], [0], [0], [0], [11], [0], [8], [14]], \"geo\": \"geo\", \"hoverlabel\": {\"namelength\": 0}, \"hovertemplate\": \"Date=2020-02-10 00:00:00<br>Confirmed=%{customdata[0]}<br>Country/Region=%{location}\", \"legendgroup\": \"\", \"locationmode\": \"country names\", \"locations\": [\"Afghanistan\", \"Albania\", \"Algeria\", \"Andorra\", \"Argentina\", \"Armenia\", \"Australia\", \"Austria\", \"Azerbaijan\", \"Bahrain\", \"Bangladesh\", \"Belarus\", \"Belgium\", \"Bhutan\", \"Bolivia\", \"Bosnia and Herzegovina\", \"Brazil\", \"Brunei\", \"Bulgaria\", \"Burkina Faso\", \"Cambodia\", \"Cameroon\", \"Canada\", \"Chile\", \"China\", \"Colombia\", \"Congo (Kinshasa)\", \"Costa Rica\", \"Cote d'Ivoire\", \"Croatia\", \"Cruise Ship\", \"Cuba\", \"Cyprus\", \"Denmark\", \"Dominican Republic\", \"Ecuador\", \"Egypt\", \"Estonia\", \"Finland\", \"France\", \"Georgia\", \"Germany\", \"Greece\", \"Guyana\", \"Honduras\", \"Hungary\", \"Iceland\", \"India\", \"Indonesia\", \"Iran\", \"Iraq\", \"Ireland\", \"Israel\", \"Italy\", \"Jamaica\", \"Japan\", \"Jordan\", \"Kuwait\", \"Latvia\", \"Lebanon\", \"Liechtenstein\", \"Lithuania\", \"Luxembourg\", \"Malaysia\", \"Maldives\", \"Malta\", \"Martinique\", \"Mexico\", \"Moldova\", \"Monaco\", \"Mongolia\", \"Morocco\", \"Nepal\", \"Netherlands\", \"New Zealand\", \"Nigeria\", \"North Macedonia\", \"Norway\", \"Oman\", \"Pakistan\", \"Panama\", \"Paraguay\", \"Peru\", \"Philippines\", \"Poland\", \"Portugal\", \"Qatar\", \"Romania\", \"Russia\", \"San Marino\", \"Saudi Arabia\", \"Senegal\", \"Serbia\", \"Singapore\", \"Slovakia\", \"Slovenia\", \"South Africa\", \"Spain\", \"Sri Lanka\", \"Sweden\", \"Switzerland\", \"Thailand\", \"Togo\", \"Tunisia\", \"Turkey\", \"US\", \"Ukraine\", \"United Arab Emirates\", \"Vietnam\"], \"marker\": {\"color\": \"#636efa\", \"size\": [0, 0, 0, 0, 0, 0, 15, 0, 0, 0, 0, 0, 1, 0, 0, 0, 0, 0, 0, 0, 1, 0, 7, 0, 42354, 0, 0, 0, 0, 0, 135, 0, 0, 0, 0, 0, 0, 0, 1, 11, 0, 14, 0, 0, 0, 0, 0, 3, 0, 0, 0, 0, 0, 3, 0, 26, 0, 0, 0, 0, 0, 0, 0, 18, 0, 0, 0, 0, 0, 0, 0, 0, 1, 0, 0, 0, 0, 0, 0, 0, 0, 0, 0, 3, 0, 0, 0, 0, 2, 0, 0, 0, 0, 45, 0, 0, 0, 2, 1, 1, 0, 32, 0, 0, 0, 11, 0, 8, 14], \"sizemode\": \"area\", \"sizeref\": 202.89}, \"name\": \"\", \"showlegend\": false, \"type\": \"scattergeo\"}], \"name\": \"2020-02-10 00:00:00\"}, {\"data\": [{\"customdata\": [[0], [0], [0], [0], [0], [0], [15], [0], [0], [0], [0], [0], [1], [0], [0], [0], [0], [0], [0], [0], [1], [0], [7], [0], [44386], [0], [0], [0], [0], [0], [135], [0], [0], [0], [0], [0], [0], [0], [1], [11], [0], [16], [0], [0], [0], [0], [0], [3], [0], [0], [0], [0], [0], [3], [0], [26], [0], [0], [0], [0], [0], [0], [0], [18], [0], [0], [0], [0], [0], [0], [0], [0], [1], [0], [0], [0], [0], [0], [0], [0], [0], [0], [0], [3], [0], [0], [0], [0], [2], [0], [0], [0], [0], [47], [0], [0], [0], [2], [1], [1], [0], [33], [0], [0], [0], [12], [0], [8], [15]], \"geo\": \"geo\", \"hoverlabel\": {\"namelength\": 0}, \"hovertemplate\": \"Date=2020-02-11 00:00:00<br>Confirmed=%{customdata[0]}<br>Country/Region=%{location}\", \"legendgroup\": \"\", \"locationmode\": \"country names\", \"locations\": [\"Afghanistan\", \"Albania\", \"Algeria\", \"Andorra\", \"Argentina\", \"Armenia\", \"Australia\", \"Austria\", \"Azerbaijan\", \"Bahrain\", \"Bangladesh\", \"Belarus\", \"Belgium\", \"Bhutan\", \"Bolivia\", \"Bosnia and Herzegovina\", \"Brazil\", \"Brunei\", \"Bulgaria\", \"Burkina Faso\", \"Cambodia\", \"Cameroon\", \"Canada\", \"Chile\", \"China\", \"Colombia\", \"Congo (Kinshasa)\", \"Costa Rica\", \"Cote d'Ivoire\", \"Croatia\", \"Cruise Ship\", \"Cuba\", \"Cyprus\", \"Denmark\", \"Dominican Republic\", \"Ecuador\", \"Egypt\", \"Estonia\", \"Finland\", \"France\", \"Georgia\", \"Germany\", \"Greece\", \"Guyana\", \"Honduras\", \"Hungary\", \"Iceland\", \"India\", \"Indonesia\", \"Iran\", \"Iraq\", \"Ireland\", \"Israel\", \"Italy\", \"Jamaica\", \"Japan\", \"Jordan\", \"Kuwait\", \"Latvia\", \"Lebanon\", \"Liechtenstein\", \"Lithuania\", \"Luxembourg\", \"Malaysia\", \"Maldives\", \"Malta\", \"Martinique\", \"Mexico\", \"Moldova\", \"Monaco\", \"Mongolia\", \"Morocco\", \"Nepal\", \"Netherlands\", \"New Zealand\", \"Nigeria\", \"North Macedonia\", \"Norway\", \"Oman\", \"Pakistan\", \"Panama\", \"Paraguay\", \"Peru\", \"Philippines\", \"Poland\", \"Portugal\", \"Qatar\", \"Romania\", \"Russia\", \"San Marino\", \"Saudi Arabia\", \"Senegal\", \"Serbia\", \"Singapore\", \"Slovakia\", \"Slovenia\", \"South Africa\", \"Spain\", \"Sri Lanka\", \"Sweden\", \"Switzerland\", \"Thailand\", \"Togo\", \"Tunisia\", \"Turkey\", \"US\", \"Ukraine\", \"United Arab Emirates\", \"Vietnam\"], \"marker\": {\"color\": \"#636efa\", \"size\": [0, 0, 0, 0, 0, 0, 15, 0, 0, 0, 0, 0, 1, 0, 0, 0, 0, 0, 0, 0, 1, 0, 7, 0, 44386, 0, 0, 0, 0, 0, 135, 0, 0, 0, 0, 0, 0, 0, 1, 11, 0, 16, 0, 0, 0, 0, 0, 3, 0, 0, 0, 0, 0, 3, 0, 26, 0, 0, 0, 0, 0, 0, 0, 18, 0, 0, 0, 0, 0, 0, 0, 0, 1, 0, 0, 0, 0, 0, 0, 0, 0, 0, 0, 3, 0, 0, 0, 0, 2, 0, 0, 0, 0, 47, 0, 0, 0, 2, 1, 1, 0, 33, 0, 0, 0, 12, 0, 8, 15], \"sizemode\": \"area\", \"sizeref\": 202.89}, \"name\": \"\", \"showlegend\": false, \"type\": \"scattergeo\"}], \"name\": \"2020-02-11 00:00:00\"}, {\"data\": [{\"customdata\": [[0], [0], [0], [0], [0], [0], [15], [0], [0], [0], [0], [0], [1], [0], [0], [0], [0], [0], [0], [0], [1], [0], [7], [0], [44759], [0], [0], [0], [0], [0], [175], [0], [0], [0], [0], [0], [0], [0], [1], [11], [0], [16], [0], [0], [0], [0], [0], [3], [0], [0], [0], [0], [0], [3], [0], [28], [0], [0], [0], [0], [0], [0], [0], [18], [0], [0], [0], [0], [0], [0], [0], [0], [1], [0], [0], [0], [0], [0], [0], [0], [0], [0], [0], [3], [0], [0], [0], [0], [2], [0], [0], [0], [0], [50], [0], [0], [0], [2], [1], [1], [0], [33], [0], [0], [0], [12], [0], [8], [15]], \"geo\": \"geo\", \"hoverlabel\": {\"namelength\": 0}, \"hovertemplate\": \"Date=2020-02-12 00:00:00<br>Confirmed=%{customdata[0]}<br>Country/Region=%{location}\", \"legendgroup\": \"\", \"locationmode\": \"country names\", \"locations\": [\"Afghanistan\", \"Albania\", \"Algeria\", \"Andorra\", \"Argentina\", \"Armenia\", \"Australia\", \"Austria\", \"Azerbaijan\", \"Bahrain\", \"Bangladesh\", \"Belarus\", \"Belgium\", \"Bhutan\", \"Bolivia\", \"Bosnia and Herzegovina\", \"Brazil\", \"Brunei\", \"Bulgaria\", \"Burkina Faso\", \"Cambodia\", \"Cameroon\", \"Canada\", \"Chile\", \"China\", \"Colombia\", \"Congo (Kinshasa)\", \"Costa Rica\", \"Cote d'Ivoire\", \"Croatia\", \"Cruise Ship\", \"Cuba\", \"Cyprus\", \"Denmark\", \"Dominican Republic\", \"Ecuador\", \"Egypt\", \"Estonia\", \"Finland\", \"France\", \"Georgia\", \"Germany\", \"Greece\", \"Guyana\", \"Honduras\", \"Hungary\", \"Iceland\", \"India\", \"Indonesia\", \"Iran\", \"Iraq\", \"Ireland\", \"Israel\", \"Italy\", \"Jamaica\", \"Japan\", \"Jordan\", \"Kuwait\", \"Latvia\", \"Lebanon\", \"Liechtenstein\", \"Lithuania\", \"Luxembourg\", \"Malaysia\", \"Maldives\", \"Malta\", \"Martinique\", \"Mexico\", \"Moldova\", \"Monaco\", \"Mongolia\", \"Morocco\", \"Nepal\", \"Netherlands\", \"New Zealand\", \"Nigeria\", \"North Macedonia\", \"Norway\", \"Oman\", \"Pakistan\", \"Panama\", \"Paraguay\", \"Peru\", \"Philippines\", \"Poland\", \"Portugal\", \"Qatar\", \"Romania\", \"Russia\", \"San Marino\", \"Saudi Arabia\", \"Senegal\", \"Serbia\", \"Singapore\", \"Slovakia\", \"Slovenia\", \"South Africa\", \"Spain\", \"Sri Lanka\", \"Sweden\", \"Switzerland\", \"Thailand\", \"Togo\", \"Tunisia\", \"Turkey\", \"US\", \"Ukraine\", \"United Arab Emirates\", \"Vietnam\"], \"marker\": {\"color\": \"#636efa\", \"size\": [0, 0, 0, 0, 0, 0, 15, 0, 0, 0, 0, 0, 1, 0, 0, 0, 0, 0, 0, 0, 1, 0, 7, 0, 44759, 0, 0, 0, 0, 0, 175, 0, 0, 0, 0, 0, 0, 0, 1, 11, 0, 16, 0, 0, 0, 0, 0, 3, 0, 0, 0, 0, 0, 3, 0, 28, 0, 0, 0, 0, 0, 0, 0, 18, 0, 0, 0, 0, 0, 0, 0, 0, 1, 0, 0, 0, 0, 0, 0, 0, 0, 0, 0, 3, 0, 0, 0, 0, 2, 0, 0, 0, 0, 50, 0, 0, 0, 2, 1, 1, 0, 33, 0, 0, 0, 12, 0, 8, 15], \"sizemode\": \"area\", \"sizeref\": 202.89}, \"name\": \"\", \"showlegend\": false, \"type\": \"scattergeo\"}], \"name\": \"2020-02-12 00:00:00\"}, {\"data\": [{\"customdata\": [[0], [0], [0], [0], [0], [0], [15], [0], [0], [0], [0], [0], [1], [0], [0], [0], [0], [0], [0], [0], [1], [0], [7], [0], [59895], [0], [0], [0], [0], [0], [175], [0], [0], [0], [0], [0], [0], [0], [1], [11], [0], [16], [0], [0], [0], [0], [0], [3], [0], [0], [0], [0], [0], [3], [0], [28], [0], [0], [0], [0], [0], [0], [0], [19], [0], [0], [0], [0], [0], [0], [0], [0], [1], [0], [0], [0], [0], [0], [0], [0], [0], [0], [0], [3], [0], [0], [0], [0], [2], [0], [0], [0], [0], [58], [0], [0], [0], [2], [1], [1], [0], [33], [0], [0], [0], [13], [0], [8], [16]], \"geo\": \"geo\", \"hoverlabel\": {\"namelength\": 0}, \"hovertemplate\": \"Date=2020-02-13 00:00:00<br>Confirmed=%{customdata[0]}<br>Country/Region=%{location}\", \"legendgroup\": \"\", \"locationmode\": \"country names\", \"locations\": [\"Afghanistan\", \"Albania\", \"Algeria\", \"Andorra\", \"Argentina\", \"Armenia\", \"Australia\", \"Austria\", \"Azerbaijan\", \"Bahrain\", \"Bangladesh\", \"Belarus\", \"Belgium\", \"Bhutan\", \"Bolivia\", \"Bosnia and Herzegovina\", \"Brazil\", \"Brunei\", \"Bulgaria\", \"Burkina Faso\", \"Cambodia\", \"Cameroon\", \"Canada\", \"Chile\", \"China\", \"Colombia\", \"Congo (Kinshasa)\", \"Costa Rica\", \"Cote d'Ivoire\", \"Croatia\", \"Cruise Ship\", \"Cuba\", \"Cyprus\", \"Denmark\", \"Dominican Republic\", \"Ecuador\", \"Egypt\", \"Estonia\", \"Finland\", \"France\", \"Georgia\", \"Germany\", \"Greece\", \"Guyana\", \"Honduras\", \"Hungary\", \"Iceland\", \"India\", \"Indonesia\", \"Iran\", \"Iraq\", \"Ireland\", \"Israel\", \"Italy\", \"Jamaica\", \"Japan\", \"Jordan\", \"Kuwait\", \"Latvia\", \"Lebanon\", \"Liechtenstein\", \"Lithuania\", \"Luxembourg\", \"Malaysia\", \"Maldives\", \"Malta\", \"Martinique\", \"Mexico\", \"Moldova\", \"Monaco\", \"Mongolia\", \"Morocco\", \"Nepal\", \"Netherlands\", \"New Zealand\", \"Nigeria\", \"North Macedonia\", \"Norway\", \"Oman\", \"Pakistan\", \"Panama\", \"Paraguay\", \"Peru\", \"Philippines\", \"Poland\", \"Portugal\", \"Qatar\", \"Romania\", \"Russia\", \"San Marino\", \"Saudi Arabia\", \"Senegal\", \"Serbia\", \"Singapore\", \"Slovakia\", \"Slovenia\", \"South Africa\", \"Spain\", \"Sri Lanka\", \"Sweden\", \"Switzerland\", \"Thailand\", \"Togo\", \"Tunisia\", \"Turkey\", \"US\", \"Ukraine\", \"United Arab Emirates\", \"Vietnam\"], \"marker\": {\"color\": \"#636efa\", \"size\": [0, 0, 0, 0, 0, 0, 15, 0, 0, 0, 0, 0, 1, 0, 0, 0, 0, 0, 0, 0, 1, 0, 7, 0, 59895, 0, 0, 0, 0, 0, 175, 0, 0, 0, 0, 0, 0, 0, 1, 11, 0, 16, 0, 0, 0, 0, 0, 3, 0, 0, 0, 0, 0, 3, 0, 28, 0, 0, 0, 0, 0, 0, 0, 19, 0, 0, 0, 0, 0, 0, 0, 0, 1, 0, 0, 0, 0, 0, 0, 0, 0, 0, 0, 3, 0, 0, 0, 0, 2, 0, 0, 0, 0, 58, 0, 0, 0, 2, 1, 1, 0, 33, 0, 0, 0, 13, 0, 8, 16], \"sizemode\": \"area\", \"sizeref\": 202.89}, \"name\": \"\", \"showlegend\": false, \"type\": \"scattergeo\"}], \"name\": \"2020-02-13 00:00:00\"}, {\"data\": [{\"customdata\": [[0], [0], [0], [0], [0], [0], [15], [0], [0], [0], [0], [0], [1], [0], [0], [0], [0], [0], [0], [0], [1], [0], [7], [0], [66358], [0], [0], [0], [0], [0], [218], [0], [0], [0], [0], [0], [1], [0], [1], [11], [0], [16], [0], [0], [0], [0], [0], [3], [0], [0], [0], [0], [0], [3], [0], [29], [0], [0], [0], [0], [0], [0], [0], [19], [0], [0], [0], [0], [0], [0], [0], [0], [1], [0], [0], [0], [0], [0], [0], [0], [0], [0], [0], [3], [0], [0], [0], [0], [2], [0], [0], [0], [0], [67], [0], [0], [0], [2], [1], [1], [0], [33], [0], [0], [0], [13], [0], [8], [16]], \"geo\": \"geo\", \"hoverlabel\": {\"namelength\": 0}, \"hovertemplate\": \"Date=2020-02-14 00:00:00<br>Confirmed=%{customdata[0]}<br>Country/Region=%{location}\", \"legendgroup\": \"\", \"locationmode\": \"country names\", \"locations\": [\"Afghanistan\", \"Albania\", \"Algeria\", \"Andorra\", \"Argentina\", \"Armenia\", \"Australia\", \"Austria\", \"Azerbaijan\", \"Bahrain\", \"Bangladesh\", \"Belarus\", \"Belgium\", \"Bhutan\", \"Bolivia\", \"Bosnia and Herzegovina\", \"Brazil\", \"Brunei\", \"Bulgaria\", \"Burkina Faso\", \"Cambodia\", \"Cameroon\", \"Canada\", \"Chile\", \"China\", \"Colombia\", \"Congo (Kinshasa)\", \"Costa Rica\", \"Cote d'Ivoire\", \"Croatia\", \"Cruise Ship\", \"Cuba\", \"Cyprus\", \"Denmark\", \"Dominican Republic\", \"Ecuador\", \"Egypt\", \"Estonia\", \"Finland\", \"France\", \"Georgia\", \"Germany\", \"Greece\", \"Guyana\", \"Honduras\", \"Hungary\", \"Iceland\", \"India\", \"Indonesia\", \"Iran\", \"Iraq\", \"Ireland\", \"Israel\", \"Italy\", \"Jamaica\", \"Japan\", \"Jordan\", \"Kuwait\", \"Latvia\", \"Lebanon\", \"Liechtenstein\", \"Lithuania\", \"Luxembourg\", \"Malaysia\", \"Maldives\", \"Malta\", \"Martinique\", \"Mexico\", \"Moldova\", \"Monaco\", \"Mongolia\", \"Morocco\", \"Nepal\", \"Netherlands\", \"New Zealand\", \"Nigeria\", \"North Macedonia\", \"Norway\", \"Oman\", \"Pakistan\", \"Panama\", \"Paraguay\", \"Peru\", \"Philippines\", \"Poland\", \"Portugal\", \"Qatar\", \"Romania\", \"Russia\", \"San Marino\", \"Saudi Arabia\", \"Senegal\", \"Serbia\", \"Singapore\", \"Slovakia\", \"Slovenia\", \"South Africa\", \"Spain\", \"Sri Lanka\", \"Sweden\", \"Switzerland\", \"Thailand\", \"Togo\", \"Tunisia\", \"Turkey\", \"US\", \"Ukraine\", \"United Arab Emirates\", \"Vietnam\"], \"marker\": {\"color\": \"#636efa\", \"size\": [0, 0, 0, 0, 0, 0, 15, 0, 0, 0, 0, 0, 1, 0, 0, 0, 0, 0, 0, 0, 1, 0, 7, 0, 66358, 0, 0, 0, 0, 0, 218, 0, 0, 0, 0, 0, 1, 0, 1, 11, 0, 16, 0, 0, 0, 0, 0, 3, 0, 0, 0, 0, 0, 3, 0, 29, 0, 0, 0, 0, 0, 0, 0, 19, 0, 0, 0, 0, 0, 0, 0, 0, 1, 0, 0, 0, 0, 0, 0, 0, 0, 0, 0, 3, 0, 0, 0, 0, 2, 0, 0, 0, 0, 67, 0, 0, 0, 2, 1, 1, 0, 33, 0, 0, 0, 13, 0, 8, 16], \"sizemode\": \"area\", \"sizeref\": 202.89}, \"name\": \"\", \"showlegend\": false, \"type\": \"scattergeo\"}], \"name\": \"2020-02-14 00:00:00\"}, {\"data\": [{\"customdata\": [[0], [0], [0], [0], [0], [0], [15], [0], [0], [0], [0], [0], [1], [0], [0], [0], [0], [0], [0], [0], [1], [0], [7], [0], [68413], [0], [0], [0], [0], [0], [285], [0], [0], [0], [0], [0], [1], [0], [1], [12], [0], [16], [0], [0], [0], [0], [0], [3], [0], [0], [0], [0], [0], [3], [0], [43], [0], [0], [0], [0], [0], [0], [0], [22], [0], [0], [0], [0], [0], [0], [0], [0], [1], [0], [0], [0], [0], [0], [0], [0], [0], [0], [0], [3], [0], [0], [0], [0], [2], [0], [0], [0], [0], [72], [0], [0], [0], [2], [1], [1], [0], [33], [0], [0], [0], [13], [0], [8], [16]], \"geo\": \"geo\", \"hoverlabel\": {\"namelength\": 0}, \"hovertemplate\": \"Date=2020-02-15 00:00:00<br>Confirmed=%{customdata[0]}<br>Country/Region=%{location}\", \"legendgroup\": \"\", \"locationmode\": \"country names\", \"locations\": [\"Afghanistan\", \"Albania\", \"Algeria\", \"Andorra\", \"Argentina\", \"Armenia\", \"Australia\", \"Austria\", \"Azerbaijan\", \"Bahrain\", \"Bangladesh\", \"Belarus\", \"Belgium\", \"Bhutan\", \"Bolivia\", \"Bosnia and Herzegovina\", \"Brazil\", \"Brunei\", \"Bulgaria\", \"Burkina Faso\", \"Cambodia\", \"Cameroon\", \"Canada\", \"Chile\", \"China\", \"Colombia\", \"Congo (Kinshasa)\", \"Costa Rica\", \"Cote d'Ivoire\", \"Croatia\", \"Cruise Ship\", \"Cuba\", \"Cyprus\", \"Denmark\", \"Dominican Republic\", \"Ecuador\", \"Egypt\", \"Estonia\", \"Finland\", \"France\", \"Georgia\", \"Germany\", \"Greece\", \"Guyana\", \"Honduras\", \"Hungary\", \"Iceland\", \"India\", \"Indonesia\", \"Iran\", \"Iraq\", \"Ireland\", \"Israel\", \"Italy\", \"Jamaica\", \"Japan\", \"Jordan\", \"Kuwait\", \"Latvia\", \"Lebanon\", \"Liechtenstein\", \"Lithuania\", \"Luxembourg\", \"Malaysia\", \"Maldives\", \"Malta\", \"Martinique\", \"Mexico\", \"Moldova\", \"Monaco\", \"Mongolia\", \"Morocco\", \"Nepal\", \"Netherlands\", \"New Zealand\", \"Nigeria\", \"North Macedonia\", \"Norway\", \"Oman\", \"Pakistan\", \"Panama\", \"Paraguay\", \"Peru\", \"Philippines\", \"Poland\", \"Portugal\", \"Qatar\", \"Romania\", \"Russia\", \"San Marino\", \"Saudi Arabia\", \"Senegal\", \"Serbia\", \"Singapore\", \"Slovakia\", \"Slovenia\", \"South Africa\", \"Spain\", \"Sri Lanka\", \"Sweden\", \"Switzerland\", \"Thailand\", \"Togo\", \"Tunisia\", \"Turkey\", \"US\", \"Ukraine\", \"United Arab Emirates\", \"Vietnam\"], \"marker\": {\"color\": \"#636efa\", \"size\": [0, 0, 0, 0, 0, 0, 15, 0, 0, 0, 0, 0, 1, 0, 0, 0, 0, 0, 0, 0, 1, 0, 7, 0, 68413, 0, 0, 0, 0, 0, 285, 0, 0, 0, 0, 0, 1, 0, 1, 12, 0, 16, 0, 0, 0, 0, 0, 3, 0, 0, 0, 0, 0, 3, 0, 43, 0, 0, 0, 0, 0, 0, 0, 22, 0, 0, 0, 0, 0, 0, 0, 0, 1, 0, 0, 0, 0, 0, 0, 0, 0, 0, 0, 3, 0, 0, 0, 0, 2, 0, 0, 0, 0, 72, 0, 0, 0, 2, 1, 1, 0, 33, 0, 0, 0, 13, 0, 8, 16], \"sizemode\": \"area\", \"sizeref\": 202.89}, \"name\": \"\", \"showlegend\": false, \"type\": \"scattergeo\"}], \"name\": \"2020-02-15 00:00:00\"}, {\"data\": [{\"customdata\": [[0], [0], [0], [0], [0], [0], [15], [0], [0], [0], [0], [0], [1], [0], [0], [0], [0], [0], [0], [0], [1], [0], [7], [0], [70513], [0], [0], [0], [0], [0], [355], [0], [0], [0], [0], [0], [1], [0], [1], [12], [0], [16], [0], [0], [0], [0], [0], [3], [0], [0], [0], [0], [0], [3], [0], [59], [0], [0], [0], [0], [0], [0], [0], [22], [0], [0], [0], [0], [0], [0], [0], [0], [1], [0], [0], [0], [0], [0], [0], [0], [0], [0], [0], [3], [0], [0], [0], [0], [2], [0], [0], [0], [0], [75], [0], [0], [0], [2], [1], [1], [0], [34], [0], [0], [0], [13], [0], [9], [16]], \"geo\": \"geo\", \"hoverlabel\": {\"namelength\": 0}, \"hovertemplate\": \"Date=2020-02-16 00:00:00<br>Confirmed=%{customdata[0]}<br>Country/Region=%{location}\", \"legendgroup\": \"\", \"locationmode\": \"country names\", \"locations\": [\"Afghanistan\", \"Albania\", \"Algeria\", \"Andorra\", \"Argentina\", \"Armenia\", \"Australia\", \"Austria\", \"Azerbaijan\", \"Bahrain\", \"Bangladesh\", \"Belarus\", \"Belgium\", \"Bhutan\", \"Bolivia\", \"Bosnia and Herzegovina\", \"Brazil\", \"Brunei\", \"Bulgaria\", \"Burkina Faso\", \"Cambodia\", \"Cameroon\", \"Canada\", \"Chile\", \"China\", \"Colombia\", \"Congo (Kinshasa)\", \"Costa Rica\", \"Cote d'Ivoire\", \"Croatia\", \"Cruise Ship\", \"Cuba\", \"Cyprus\", \"Denmark\", \"Dominican Republic\", \"Ecuador\", \"Egypt\", \"Estonia\", \"Finland\", \"France\", \"Georgia\", \"Germany\", \"Greece\", \"Guyana\", \"Honduras\", \"Hungary\", \"Iceland\", \"India\", \"Indonesia\", \"Iran\", \"Iraq\", \"Ireland\", \"Israel\", \"Italy\", \"Jamaica\", \"Japan\", \"Jordan\", \"Kuwait\", \"Latvia\", \"Lebanon\", \"Liechtenstein\", \"Lithuania\", \"Luxembourg\", \"Malaysia\", \"Maldives\", \"Malta\", \"Martinique\", \"Mexico\", \"Moldova\", \"Monaco\", \"Mongolia\", \"Morocco\", \"Nepal\", \"Netherlands\", \"New Zealand\", \"Nigeria\", \"North Macedonia\", \"Norway\", \"Oman\", \"Pakistan\", \"Panama\", \"Paraguay\", \"Peru\", \"Philippines\", \"Poland\", \"Portugal\", \"Qatar\", \"Romania\", \"Russia\", \"San Marino\", \"Saudi Arabia\", \"Senegal\", \"Serbia\", \"Singapore\", \"Slovakia\", \"Slovenia\", \"South Africa\", \"Spain\", \"Sri Lanka\", \"Sweden\", \"Switzerland\", \"Thailand\", \"Togo\", \"Tunisia\", \"Turkey\", \"US\", \"Ukraine\", \"United Arab Emirates\", \"Vietnam\"], \"marker\": {\"color\": \"#636efa\", \"size\": [0, 0, 0, 0, 0, 0, 15, 0, 0, 0, 0, 0, 1, 0, 0, 0, 0, 0, 0, 0, 1, 0, 7, 0, 70513, 0, 0, 0, 0, 0, 355, 0, 0, 0, 0, 0, 1, 0, 1, 12, 0, 16, 0, 0, 0, 0, 0, 3, 0, 0, 0, 0, 0, 3, 0, 59, 0, 0, 0, 0, 0, 0, 0, 22, 0, 0, 0, 0, 0, 0, 0, 0, 1, 0, 0, 0, 0, 0, 0, 0, 0, 0, 0, 3, 0, 0, 0, 0, 2, 0, 0, 0, 0, 75, 0, 0, 0, 2, 1, 1, 0, 34, 0, 0, 0, 13, 0, 9, 16], \"sizemode\": \"area\", \"sizeref\": 202.89}, \"name\": \"\", \"showlegend\": false, \"type\": \"scattergeo\"}], \"name\": \"2020-02-16 00:00:00\"}, {\"data\": [{\"customdata\": [[0], [0], [0], [0], [0], [0], [15], [0], [0], [0], [0], [0], [1], [0], [0], [0], [0], [0], [0], [0], [1], [0], [8], [0], [72434], [0], [0], [0], [0], [0], [454], [0], [0], [0], [0], [0], [1], [0], [1], [12], [0], [16], [0], [0], [0], [0], [0], [3], [0], [0], [0], [0], [0], [3], [0], [66], [0], [0], [0], [0], [0], [0], [0], [22], [0], [0], [0], [0], [0], [0], [0], [0], [1], [0], [0], [0], [0], [0], [0], [0], [0], [0], [0], [3], [0], [0], [0], [0], [2], [0], [0], [0], [0], [77], [0], [0], [0], [2], [1], [1], [0], [35], [0], [0], [0], [13], [0], [9], [16]], \"geo\": \"geo\", \"hoverlabel\": {\"namelength\": 0}, \"hovertemplate\": \"Date=2020-02-17 00:00:00<br>Confirmed=%{customdata[0]}<br>Country/Region=%{location}\", \"legendgroup\": \"\", \"locationmode\": \"country names\", \"locations\": [\"Afghanistan\", \"Albania\", \"Algeria\", \"Andorra\", \"Argentina\", \"Armenia\", \"Australia\", \"Austria\", \"Azerbaijan\", \"Bahrain\", \"Bangladesh\", \"Belarus\", \"Belgium\", \"Bhutan\", \"Bolivia\", \"Bosnia and Herzegovina\", \"Brazil\", \"Brunei\", \"Bulgaria\", \"Burkina Faso\", \"Cambodia\", \"Cameroon\", \"Canada\", \"Chile\", \"China\", \"Colombia\", \"Congo (Kinshasa)\", \"Costa Rica\", \"Cote d'Ivoire\", \"Croatia\", \"Cruise Ship\", \"Cuba\", \"Cyprus\", \"Denmark\", \"Dominican Republic\", \"Ecuador\", \"Egypt\", \"Estonia\", \"Finland\", \"France\", \"Georgia\", \"Germany\", \"Greece\", \"Guyana\", \"Honduras\", \"Hungary\", \"Iceland\", \"India\", \"Indonesia\", \"Iran\", \"Iraq\", \"Ireland\", \"Israel\", \"Italy\", \"Jamaica\", \"Japan\", \"Jordan\", \"Kuwait\", \"Latvia\", \"Lebanon\", \"Liechtenstein\", \"Lithuania\", \"Luxembourg\", \"Malaysia\", \"Maldives\", \"Malta\", \"Martinique\", \"Mexico\", \"Moldova\", \"Monaco\", \"Mongolia\", \"Morocco\", \"Nepal\", \"Netherlands\", \"New Zealand\", \"Nigeria\", \"North Macedonia\", \"Norway\", \"Oman\", \"Pakistan\", \"Panama\", \"Paraguay\", \"Peru\", \"Philippines\", \"Poland\", \"Portugal\", \"Qatar\", \"Romania\", \"Russia\", \"San Marino\", \"Saudi Arabia\", \"Senegal\", \"Serbia\", \"Singapore\", \"Slovakia\", \"Slovenia\", \"South Africa\", \"Spain\", \"Sri Lanka\", \"Sweden\", \"Switzerland\", \"Thailand\", \"Togo\", \"Tunisia\", \"Turkey\", \"US\", \"Ukraine\", \"United Arab Emirates\", \"Vietnam\"], \"marker\": {\"color\": \"#636efa\", \"size\": [0, 0, 0, 0, 0, 0, 15, 0, 0, 0, 0, 0, 1, 0, 0, 0, 0, 0, 0, 0, 1, 0, 8, 0, 72434, 0, 0, 0, 0, 0, 454, 0, 0, 0, 0, 0, 1, 0, 1, 12, 0, 16, 0, 0, 0, 0, 0, 3, 0, 0, 0, 0, 0, 3, 0, 66, 0, 0, 0, 0, 0, 0, 0, 22, 0, 0, 0, 0, 0, 0, 0, 0, 1, 0, 0, 0, 0, 0, 0, 0, 0, 0, 0, 3, 0, 0, 0, 0, 2, 0, 0, 0, 0, 77, 0, 0, 0, 2, 1, 1, 0, 35, 0, 0, 0, 13, 0, 9, 16], \"sizemode\": \"area\", \"sizeref\": 202.89}, \"name\": \"\", \"showlegend\": false, \"type\": \"scattergeo\"}], \"name\": \"2020-02-17 00:00:00\"}, {\"data\": [{\"customdata\": [[0], [0], [0], [0], [0], [0], [15], [0], [0], [0], [0], [0], [1], [0], [0], [0], [0], [0], [0], [0], [1], [0], [8], [0], [74211], [0], [0], [0], [0], [0], [542], [0], [0], [0], [0], [0], [1], [0], [1], [12], [0], [16], [0], [0], [0], [0], [0], [3], [0], [0], [0], [0], [0], [3], [0], [74], [0], [0], [0], [0], [0], [0], [0], [22], [0], [0], [0], [0], [0], [0], [0], [0], [1], [0], [0], [0], [0], [0], [0], [0], [0], [0], [0], [3], [0], [0], [0], [0], [2], [0], [0], [0], [0], [81], [0], [0], [0], [2], [1], [1], [0], [35], [0], [0], [0], [13], [0], [9], [16]], \"geo\": \"geo\", \"hoverlabel\": {\"namelength\": 0}, \"hovertemplate\": \"Date=2020-02-18 00:00:00<br>Confirmed=%{customdata[0]}<br>Country/Region=%{location}\", \"legendgroup\": \"\", \"locationmode\": \"country names\", \"locations\": [\"Afghanistan\", \"Albania\", \"Algeria\", \"Andorra\", \"Argentina\", \"Armenia\", \"Australia\", \"Austria\", \"Azerbaijan\", \"Bahrain\", \"Bangladesh\", \"Belarus\", \"Belgium\", \"Bhutan\", \"Bolivia\", \"Bosnia and Herzegovina\", \"Brazil\", \"Brunei\", \"Bulgaria\", \"Burkina Faso\", \"Cambodia\", \"Cameroon\", \"Canada\", \"Chile\", \"China\", \"Colombia\", \"Congo (Kinshasa)\", \"Costa Rica\", \"Cote d'Ivoire\", \"Croatia\", \"Cruise Ship\", \"Cuba\", \"Cyprus\", \"Denmark\", \"Dominican Republic\", \"Ecuador\", \"Egypt\", \"Estonia\", \"Finland\", \"France\", \"Georgia\", \"Germany\", \"Greece\", \"Guyana\", \"Honduras\", \"Hungary\", \"Iceland\", \"India\", \"Indonesia\", \"Iran\", \"Iraq\", \"Ireland\", \"Israel\", \"Italy\", \"Jamaica\", \"Japan\", \"Jordan\", \"Kuwait\", \"Latvia\", \"Lebanon\", \"Liechtenstein\", \"Lithuania\", \"Luxembourg\", \"Malaysia\", \"Maldives\", \"Malta\", \"Martinique\", \"Mexico\", \"Moldova\", \"Monaco\", \"Mongolia\", \"Morocco\", \"Nepal\", \"Netherlands\", \"New Zealand\", \"Nigeria\", \"North Macedonia\", \"Norway\", \"Oman\", \"Pakistan\", \"Panama\", \"Paraguay\", \"Peru\", \"Philippines\", \"Poland\", \"Portugal\", \"Qatar\", \"Romania\", \"Russia\", \"San Marino\", \"Saudi Arabia\", \"Senegal\", \"Serbia\", \"Singapore\", \"Slovakia\", \"Slovenia\", \"South Africa\", \"Spain\", \"Sri Lanka\", \"Sweden\", \"Switzerland\", \"Thailand\", \"Togo\", \"Tunisia\", \"Turkey\", \"US\", \"Ukraine\", \"United Arab Emirates\", \"Vietnam\"], \"marker\": {\"color\": \"#636efa\", \"size\": [0, 0, 0, 0, 0, 0, 15, 0, 0, 0, 0, 0, 1, 0, 0, 0, 0, 0, 0, 0, 1, 0, 8, 0, 74211, 0, 0, 0, 0, 0, 542, 0, 0, 0, 0, 0, 1, 0, 1, 12, 0, 16, 0, 0, 0, 0, 0, 3, 0, 0, 0, 0, 0, 3, 0, 74, 0, 0, 0, 0, 0, 0, 0, 22, 0, 0, 0, 0, 0, 0, 0, 0, 1, 0, 0, 0, 0, 0, 0, 0, 0, 0, 0, 3, 0, 0, 0, 0, 2, 0, 0, 0, 0, 81, 0, 0, 0, 2, 1, 1, 0, 35, 0, 0, 0, 13, 0, 9, 16], \"sizemode\": \"area\", \"sizeref\": 202.89}, \"name\": \"\", \"showlegend\": false, \"type\": \"scattergeo\"}], \"name\": \"2020-02-18 00:00:00\"}, {\"data\": [{\"customdata\": [[0], [0], [0], [0], [0], [0], [15], [0], [0], [0], [0], [0], [1], [0], [0], [0], [0], [0], [0], [0], [1], [0], [8], [0], [74619], [0], [0], [0], [0], [0], [621], [0], [0], [0], [0], [0], [1], [0], [1], [12], [0], [16], [0], [0], [0], [0], [0], [3], [0], [2], [0], [0], [0], [3], [0], [84], [0], [0], [0], [0], [0], [0], [0], [22], [0], [0], [0], [0], [0], [0], [0], [0], [1], [0], [0], [0], [0], [0], [0], [0], [0], [0], [0], [3], [0], [0], [0], [0], [2], [0], [0], [0], [0], [84], [0], [0], [0], [2], [1], [1], [0], [35], [0], [0], [0], [13], [0], [9], [16]], \"geo\": \"geo\", \"hoverlabel\": {\"namelength\": 0}, \"hovertemplate\": \"Date=2020-02-19 00:00:00<br>Confirmed=%{customdata[0]}<br>Country/Region=%{location}\", \"legendgroup\": \"\", \"locationmode\": \"country names\", \"locations\": [\"Afghanistan\", \"Albania\", \"Algeria\", \"Andorra\", \"Argentina\", \"Armenia\", \"Australia\", \"Austria\", \"Azerbaijan\", \"Bahrain\", \"Bangladesh\", \"Belarus\", \"Belgium\", \"Bhutan\", \"Bolivia\", \"Bosnia and Herzegovina\", \"Brazil\", \"Brunei\", \"Bulgaria\", \"Burkina Faso\", \"Cambodia\", \"Cameroon\", \"Canada\", \"Chile\", \"China\", \"Colombia\", \"Congo (Kinshasa)\", \"Costa Rica\", \"Cote d'Ivoire\", \"Croatia\", \"Cruise Ship\", \"Cuba\", \"Cyprus\", \"Denmark\", \"Dominican Republic\", \"Ecuador\", \"Egypt\", \"Estonia\", \"Finland\", \"France\", \"Georgia\", \"Germany\", \"Greece\", \"Guyana\", \"Honduras\", \"Hungary\", \"Iceland\", \"India\", \"Indonesia\", \"Iran\", \"Iraq\", \"Ireland\", \"Israel\", \"Italy\", \"Jamaica\", \"Japan\", \"Jordan\", \"Kuwait\", \"Latvia\", \"Lebanon\", \"Liechtenstein\", \"Lithuania\", \"Luxembourg\", \"Malaysia\", \"Maldives\", \"Malta\", \"Martinique\", \"Mexico\", \"Moldova\", \"Monaco\", \"Mongolia\", \"Morocco\", \"Nepal\", \"Netherlands\", \"New Zealand\", \"Nigeria\", \"North Macedonia\", \"Norway\", \"Oman\", \"Pakistan\", \"Panama\", \"Paraguay\", \"Peru\", \"Philippines\", \"Poland\", \"Portugal\", \"Qatar\", \"Romania\", \"Russia\", \"San Marino\", \"Saudi Arabia\", \"Senegal\", \"Serbia\", \"Singapore\", \"Slovakia\", \"Slovenia\", \"South Africa\", \"Spain\", \"Sri Lanka\", \"Sweden\", \"Switzerland\", \"Thailand\", \"Togo\", \"Tunisia\", \"Turkey\", \"US\", \"Ukraine\", \"United Arab Emirates\", \"Vietnam\"], \"marker\": {\"color\": \"#636efa\", \"size\": [0, 0, 0, 0, 0, 0, 15, 0, 0, 0, 0, 0, 1, 0, 0, 0, 0, 0, 0, 0, 1, 0, 8, 0, 74619, 0, 0, 0, 0, 0, 621, 0, 0, 0, 0, 0, 1, 0, 1, 12, 0, 16, 0, 0, 0, 0, 0, 3, 0, 2, 0, 0, 0, 3, 0, 84, 0, 0, 0, 0, 0, 0, 0, 22, 0, 0, 0, 0, 0, 0, 0, 0, 1, 0, 0, 0, 0, 0, 0, 0, 0, 0, 0, 3, 0, 0, 0, 0, 2, 0, 0, 0, 0, 84, 0, 0, 0, 2, 1, 1, 0, 35, 0, 0, 0, 13, 0, 9, 16], \"sizemode\": \"area\", \"sizeref\": 202.89}, \"name\": \"\", \"showlegend\": false, \"type\": \"scattergeo\"}], \"name\": \"2020-02-19 00:00:00\"}, {\"data\": [{\"customdata\": [[0], [0], [0], [0], [0], [0], [15], [0], [0], [0], [0], [0], [1], [0], [0], [0], [0], [0], [0], [0], [1], [0], [8], [0], [75077], [0], [0], [0], [0], [0], [634], [0], [0], [0], [0], [0], [1], [0], [1], [12], [0], [16], [0], [0], [0], [0], [0], [3], [0], [5], [0], [0], [0], [3], [0], [94], [0], [0], [0], [0], [0], [0], [0], [22], [0], [0], [0], [0], [0], [0], [0], [0], [1], [0], [0], [0], [0], [0], [0], [0], [0], [0], [0], [3], [0], [0], [0], [0], [2], [0], [0], [0], [0], [84], [0], [0], [0], [2], [1], [1], [0], [35], [0], [0], [0], [13], [0], [9], [16]], \"geo\": \"geo\", \"hoverlabel\": {\"namelength\": 0}, \"hovertemplate\": \"Date=2020-02-20 00:00:00<br>Confirmed=%{customdata[0]}<br>Country/Region=%{location}\", \"legendgroup\": \"\", \"locationmode\": \"country names\", \"locations\": [\"Afghanistan\", \"Albania\", \"Algeria\", \"Andorra\", \"Argentina\", \"Armenia\", \"Australia\", \"Austria\", \"Azerbaijan\", \"Bahrain\", \"Bangladesh\", \"Belarus\", \"Belgium\", \"Bhutan\", \"Bolivia\", \"Bosnia and Herzegovina\", \"Brazil\", \"Brunei\", \"Bulgaria\", \"Burkina Faso\", \"Cambodia\", \"Cameroon\", \"Canada\", \"Chile\", \"China\", \"Colombia\", \"Congo (Kinshasa)\", \"Costa Rica\", \"Cote d'Ivoire\", \"Croatia\", \"Cruise Ship\", \"Cuba\", \"Cyprus\", \"Denmark\", \"Dominican Republic\", \"Ecuador\", \"Egypt\", \"Estonia\", \"Finland\", \"France\", \"Georgia\", \"Germany\", \"Greece\", \"Guyana\", \"Honduras\", \"Hungary\", \"Iceland\", \"India\", \"Indonesia\", \"Iran\", \"Iraq\", \"Ireland\", \"Israel\", \"Italy\", \"Jamaica\", \"Japan\", \"Jordan\", \"Kuwait\", \"Latvia\", \"Lebanon\", \"Liechtenstein\", \"Lithuania\", \"Luxembourg\", \"Malaysia\", \"Maldives\", \"Malta\", \"Martinique\", \"Mexico\", \"Moldova\", \"Monaco\", \"Mongolia\", \"Morocco\", \"Nepal\", \"Netherlands\", \"New Zealand\", \"Nigeria\", \"North Macedonia\", \"Norway\", \"Oman\", \"Pakistan\", \"Panama\", \"Paraguay\", \"Peru\", \"Philippines\", \"Poland\", \"Portugal\", \"Qatar\", \"Romania\", \"Russia\", \"San Marino\", \"Saudi Arabia\", \"Senegal\", \"Serbia\", \"Singapore\", \"Slovakia\", \"Slovenia\", \"South Africa\", \"Spain\", \"Sri Lanka\", \"Sweden\", \"Switzerland\", \"Thailand\", \"Togo\", \"Tunisia\", \"Turkey\", \"US\", \"Ukraine\", \"United Arab Emirates\", \"Vietnam\"], \"marker\": {\"color\": \"#636efa\", \"size\": [0, 0, 0, 0, 0, 0, 15, 0, 0, 0, 0, 0, 1, 0, 0, 0, 0, 0, 0, 0, 1, 0, 8, 0, 75077, 0, 0, 0, 0, 0, 634, 0, 0, 0, 0, 0, 1, 0, 1, 12, 0, 16, 0, 0, 0, 0, 0, 3, 0, 5, 0, 0, 0, 3, 0, 94, 0, 0, 0, 0, 0, 0, 0, 22, 0, 0, 0, 0, 0, 0, 0, 0, 1, 0, 0, 0, 0, 0, 0, 0, 0, 0, 0, 3, 0, 0, 0, 0, 2, 0, 0, 0, 0, 84, 0, 0, 0, 2, 1, 1, 0, 35, 0, 0, 0, 13, 0, 9, 16], \"sizemode\": \"area\", \"sizeref\": 202.89}, \"name\": \"\", \"showlegend\": false, \"type\": \"scattergeo\"}], \"name\": \"2020-02-20 00:00:00\"}, {\"data\": [{\"customdata\": [[0], [0], [0], [0], [0], [0], [19], [0], [0], [0], [0], [0], [1], [0], [0], [0], [0], [0], [0], [0], [1], [0], [9], [0], [75550], [0], [0], [0], [0], [0], [634], [0], [0], [0], [0], [0], [1], [0], [1], [12], [0], [16], [0], [0], [0], [0], [0], [3], [0], [18], [0], [0], [1], [20], [0], [105], [0], [0], [0], [1], [0], [0], [0], [22], [0], [0], [0], [0], [0], [0], [0], [0], [1], [0], [0], [0], [0], [0], [0], [0], [0], [0], [0], [3], [0], [0], [0], [0], [2], [0], [0], [0], [0], [85], [0], [0], [0], [2], [1], [1], [0], [35], [0], [0], [0], [15], [0], [9], [16]], \"geo\": \"geo\", \"hoverlabel\": {\"namelength\": 0}, \"hovertemplate\": \"Date=2020-02-21 00:00:00<br>Confirmed=%{customdata[0]}<br>Country/Region=%{location}\", \"legendgroup\": \"\", \"locationmode\": \"country names\", \"locations\": [\"Afghanistan\", \"Albania\", \"Algeria\", \"Andorra\", \"Argentina\", \"Armenia\", \"Australia\", \"Austria\", \"Azerbaijan\", \"Bahrain\", \"Bangladesh\", \"Belarus\", \"Belgium\", \"Bhutan\", \"Bolivia\", \"Bosnia and Herzegovina\", \"Brazil\", \"Brunei\", \"Bulgaria\", \"Burkina Faso\", \"Cambodia\", \"Cameroon\", \"Canada\", \"Chile\", \"China\", \"Colombia\", \"Congo (Kinshasa)\", \"Costa Rica\", \"Cote d'Ivoire\", \"Croatia\", \"Cruise Ship\", \"Cuba\", \"Cyprus\", \"Denmark\", \"Dominican Republic\", \"Ecuador\", \"Egypt\", \"Estonia\", \"Finland\", \"France\", \"Georgia\", \"Germany\", \"Greece\", \"Guyana\", \"Honduras\", \"Hungary\", \"Iceland\", \"India\", \"Indonesia\", \"Iran\", \"Iraq\", \"Ireland\", \"Israel\", \"Italy\", \"Jamaica\", \"Japan\", \"Jordan\", \"Kuwait\", \"Latvia\", \"Lebanon\", \"Liechtenstein\", \"Lithuania\", \"Luxembourg\", \"Malaysia\", \"Maldives\", \"Malta\", \"Martinique\", \"Mexico\", \"Moldova\", \"Monaco\", \"Mongolia\", \"Morocco\", \"Nepal\", \"Netherlands\", \"New Zealand\", \"Nigeria\", \"North Macedonia\", \"Norway\", \"Oman\", \"Pakistan\", \"Panama\", \"Paraguay\", \"Peru\", \"Philippines\", \"Poland\", \"Portugal\", \"Qatar\", \"Romania\", \"Russia\", \"San Marino\", \"Saudi Arabia\", \"Senegal\", \"Serbia\", \"Singapore\", \"Slovakia\", \"Slovenia\", \"South Africa\", \"Spain\", \"Sri Lanka\", \"Sweden\", \"Switzerland\", \"Thailand\", \"Togo\", \"Tunisia\", \"Turkey\", \"US\", \"Ukraine\", \"United Arab Emirates\", \"Vietnam\"], \"marker\": {\"color\": \"#636efa\", \"size\": [0, 0, 0, 0, 0, 0, 19, 0, 0, 0, 0, 0, 1, 0, 0, 0, 0, 0, 0, 0, 1, 0, 9, 0, 75550, 0, 0, 0, 0, 0, 634, 0, 0, 0, 0, 0, 1, 0, 1, 12, 0, 16, 0, 0, 0, 0, 0, 3, 0, 18, 0, 0, 1, 20, 0, 105, 0, 0, 0, 1, 0, 0, 0, 22, 0, 0, 0, 0, 0, 0, 0, 0, 1, 0, 0, 0, 0, 0, 0, 0, 0, 0, 0, 3, 0, 0, 0, 0, 2, 0, 0, 0, 0, 85, 0, 0, 0, 2, 1, 1, 0, 35, 0, 0, 0, 15, 0, 9, 16], \"sizemode\": \"area\", \"sizeref\": 202.89}, \"name\": \"\", \"showlegend\": false, \"type\": \"scattergeo\"}], \"name\": \"2020-02-21 00:00:00\"}, {\"data\": [{\"customdata\": [[0], [0], [0], [0], [0], [0], [22], [0], [0], [0], [0], [0], [1], [0], [0], [0], [0], [0], [0], [0], [1], [0], [9], [0], [77001], [0], [0], [0], [0], [0], [634], [0], [0], [0], [0], [0], [1], [0], [1], [12], [0], [16], [0], [0], [0], [0], [0], [3], [0], [28], [0], [0], [1], [62], [0], [122], [0], [0], [0], [1], [0], [0], [0], [22], [0], [0], [0], [0], [0], [0], [0], [0], [1], [0], [0], [0], [0], [0], [0], [0], [0], [0], [0], [3], [0], [0], [0], [0], [2], [0], [0], [0], [0], [85], [0], [0], [0], [2], [1], [1], [0], [35], [0], [0], [0], [15], [0], [13], [16]], \"geo\": \"geo\", \"hoverlabel\": {\"namelength\": 0}, \"hovertemplate\": \"Date=2020-02-22 00:00:00<br>Confirmed=%{customdata[0]}<br>Country/Region=%{location}\", \"legendgroup\": \"\", \"locationmode\": \"country names\", \"locations\": [\"Afghanistan\", \"Albania\", \"Algeria\", \"Andorra\", \"Argentina\", \"Armenia\", \"Australia\", \"Austria\", \"Azerbaijan\", \"Bahrain\", \"Bangladesh\", \"Belarus\", \"Belgium\", \"Bhutan\", \"Bolivia\", \"Bosnia and Herzegovina\", \"Brazil\", \"Brunei\", \"Bulgaria\", \"Burkina Faso\", \"Cambodia\", \"Cameroon\", \"Canada\", \"Chile\", \"China\", \"Colombia\", \"Congo (Kinshasa)\", \"Costa Rica\", \"Cote d'Ivoire\", \"Croatia\", \"Cruise Ship\", \"Cuba\", \"Cyprus\", \"Denmark\", \"Dominican Republic\", \"Ecuador\", \"Egypt\", \"Estonia\", \"Finland\", \"France\", \"Georgia\", \"Germany\", \"Greece\", \"Guyana\", \"Honduras\", \"Hungary\", \"Iceland\", \"India\", \"Indonesia\", \"Iran\", \"Iraq\", \"Ireland\", \"Israel\", \"Italy\", \"Jamaica\", \"Japan\", \"Jordan\", \"Kuwait\", \"Latvia\", \"Lebanon\", \"Liechtenstein\", \"Lithuania\", \"Luxembourg\", \"Malaysia\", \"Maldives\", \"Malta\", \"Martinique\", \"Mexico\", \"Moldova\", \"Monaco\", \"Mongolia\", \"Morocco\", \"Nepal\", \"Netherlands\", \"New Zealand\", \"Nigeria\", \"North Macedonia\", \"Norway\", \"Oman\", \"Pakistan\", \"Panama\", \"Paraguay\", \"Peru\", \"Philippines\", \"Poland\", \"Portugal\", \"Qatar\", \"Romania\", \"Russia\", \"San Marino\", \"Saudi Arabia\", \"Senegal\", \"Serbia\", \"Singapore\", \"Slovakia\", \"Slovenia\", \"South Africa\", \"Spain\", \"Sri Lanka\", \"Sweden\", \"Switzerland\", \"Thailand\", \"Togo\", \"Tunisia\", \"Turkey\", \"US\", \"Ukraine\", \"United Arab Emirates\", \"Vietnam\"], \"marker\": {\"color\": \"#636efa\", \"size\": [0, 0, 0, 0, 0, 0, 22, 0, 0, 0, 0, 0, 1, 0, 0, 0, 0, 0, 0, 0, 1, 0, 9, 0, 77001, 0, 0, 0, 0, 0, 634, 0, 0, 0, 0, 0, 1, 0, 1, 12, 0, 16, 0, 0, 0, 0, 0, 3, 0, 28, 0, 0, 1, 62, 0, 122, 0, 0, 0, 1, 0, 0, 0, 22, 0, 0, 0, 0, 0, 0, 0, 0, 1, 0, 0, 0, 0, 0, 0, 0, 0, 0, 0, 3, 0, 0, 0, 0, 2, 0, 0, 0, 0, 85, 0, 0, 0, 2, 1, 1, 0, 35, 0, 0, 0, 15, 0, 13, 16], \"sizemode\": \"area\", \"sizeref\": 202.89}, \"name\": \"\", \"showlegend\": false, \"type\": \"scattergeo\"}], \"name\": \"2020-02-22 00:00:00\"}, {\"data\": [{\"customdata\": [[0], [0], [0], [0], [0], [0], [22], [0], [0], [0], [0], [0], [1], [0], [0], [0], [0], [0], [0], [0], [1], [0], [9], [0], [77022], [0], [0], [0], [0], [0], [691], [0], [0], [0], [0], [0], [1], [0], [1], [12], [0], [16], [0], [0], [0], [0], [0], [3], [0], [43], [0], [0], [1], [155], [0], [147], [0], [0], [0], [1], [0], [0], [0], [22], [0], [0], [0], [0], [0], [0], [0], [0], [1], [0], [0], [0], [0], [0], [0], [0], [0], [0], [0], [3], [0], [0], [0], [0], [2], [0], [0], [0], [0], [89], [0], [0], [0], [2], [1], [1], [0], [35], [0], [0], [0], [15], [0], [13], [16]], \"geo\": \"geo\", \"hoverlabel\": {\"namelength\": 0}, \"hovertemplate\": \"Date=2020-02-23 00:00:00<br>Confirmed=%{customdata[0]}<br>Country/Region=%{location}\", \"legendgroup\": \"\", \"locationmode\": \"country names\", \"locations\": [\"Afghanistan\", \"Albania\", \"Algeria\", \"Andorra\", \"Argentina\", \"Armenia\", \"Australia\", \"Austria\", \"Azerbaijan\", \"Bahrain\", \"Bangladesh\", \"Belarus\", \"Belgium\", \"Bhutan\", \"Bolivia\", \"Bosnia and Herzegovina\", \"Brazil\", \"Brunei\", \"Bulgaria\", \"Burkina Faso\", \"Cambodia\", \"Cameroon\", \"Canada\", \"Chile\", \"China\", \"Colombia\", \"Congo (Kinshasa)\", \"Costa Rica\", \"Cote d'Ivoire\", \"Croatia\", \"Cruise Ship\", \"Cuba\", \"Cyprus\", \"Denmark\", \"Dominican Republic\", \"Ecuador\", \"Egypt\", \"Estonia\", \"Finland\", \"France\", \"Georgia\", \"Germany\", \"Greece\", \"Guyana\", \"Honduras\", \"Hungary\", \"Iceland\", \"India\", \"Indonesia\", \"Iran\", \"Iraq\", \"Ireland\", \"Israel\", \"Italy\", \"Jamaica\", \"Japan\", \"Jordan\", \"Kuwait\", \"Latvia\", \"Lebanon\", \"Liechtenstein\", \"Lithuania\", \"Luxembourg\", \"Malaysia\", \"Maldives\", \"Malta\", \"Martinique\", \"Mexico\", \"Moldova\", \"Monaco\", \"Mongolia\", \"Morocco\", \"Nepal\", \"Netherlands\", \"New Zealand\", \"Nigeria\", \"North Macedonia\", \"Norway\", \"Oman\", \"Pakistan\", \"Panama\", \"Paraguay\", \"Peru\", \"Philippines\", \"Poland\", \"Portugal\", \"Qatar\", \"Romania\", \"Russia\", \"San Marino\", \"Saudi Arabia\", \"Senegal\", \"Serbia\", \"Singapore\", \"Slovakia\", \"Slovenia\", \"South Africa\", \"Spain\", \"Sri Lanka\", \"Sweden\", \"Switzerland\", \"Thailand\", \"Togo\", \"Tunisia\", \"Turkey\", \"US\", \"Ukraine\", \"United Arab Emirates\", \"Vietnam\"], \"marker\": {\"color\": \"#636efa\", \"size\": [0, 0, 0, 0, 0, 0, 22, 0, 0, 0, 0, 0, 1, 0, 0, 0, 0, 0, 0, 0, 1, 0, 9, 0, 77022, 0, 0, 0, 0, 0, 691, 0, 0, 0, 0, 0, 1, 0, 1, 12, 0, 16, 0, 0, 0, 0, 0, 3, 0, 43, 0, 0, 1, 155, 0, 147, 0, 0, 0, 1, 0, 0, 0, 22, 0, 0, 0, 0, 0, 0, 0, 0, 1, 0, 0, 0, 0, 0, 0, 0, 0, 0, 0, 3, 0, 0, 0, 0, 2, 0, 0, 0, 0, 89, 0, 0, 0, 2, 1, 1, 0, 35, 0, 0, 0, 15, 0, 13, 16], \"sizemode\": \"area\", \"sizeref\": 202.89}, \"name\": \"\", \"showlegend\": false, \"type\": \"scattergeo\"}], \"name\": \"2020-02-23 00:00:00\"}, {\"data\": [{\"customdata\": [[1], [0], [0], [0], [0], [0], [22], [0], [0], [1], [0], [0], [1], [0], [0], [0], [0], [0], [0], [0], [1], [0], [10], [0], [77241], [0], [0], [0], [0], [0], [691], [0], [0], [0], [0], [0], [1], [0], [1], [12], [0], [16], [0], [0], [0], [0], [0], [3], [0], [61], [1], [0], [1], [229], [0], [159], [0], [1], [0], [1], [0], [0], [0], [22], [0], [0], [0], [0], [0], [0], [0], [0], [1], [0], [0], [0], [0], [0], [2], [0], [0], [0], [0], [3], [0], [0], [0], [0], [2], [0], [0], [0], [0], [89], [0], [0], [0], [2], [1], [1], [0], [35], [0], [0], [0], [51], [0], [13], [16]], \"geo\": \"geo\", \"hoverlabel\": {\"namelength\": 0}, \"hovertemplate\": \"Date=2020-02-24 00:00:00<br>Confirmed=%{customdata[0]}<br>Country/Region=%{location}\", \"legendgroup\": \"\", \"locationmode\": \"country names\", \"locations\": [\"Afghanistan\", \"Albania\", \"Algeria\", \"Andorra\", \"Argentina\", \"Armenia\", \"Australia\", \"Austria\", \"Azerbaijan\", \"Bahrain\", \"Bangladesh\", \"Belarus\", \"Belgium\", \"Bhutan\", \"Bolivia\", \"Bosnia and Herzegovina\", \"Brazil\", \"Brunei\", \"Bulgaria\", \"Burkina Faso\", \"Cambodia\", \"Cameroon\", \"Canada\", \"Chile\", \"China\", \"Colombia\", \"Congo (Kinshasa)\", \"Costa Rica\", \"Cote d'Ivoire\", \"Croatia\", \"Cruise Ship\", \"Cuba\", \"Cyprus\", \"Denmark\", \"Dominican Republic\", \"Ecuador\", \"Egypt\", \"Estonia\", \"Finland\", \"France\", \"Georgia\", \"Germany\", \"Greece\", \"Guyana\", \"Honduras\", \"Hungary\", \"Iceland\", \"India\", \"Indonesia\", \"Iran\", \"Iraq\", \"Ireland\", \"Israel\", \"Italy\", \"Jamaica\", \"Japan\", \"Jordan\", \"Kuwait\", \"Latvia\", \"Lebanon\", \"Liechtenstein\", \"Lithuania\", \"Luxembourg\", \"Malaysia\", \"Maldives\", \"Malta\", \"Martinique\", \"Mexico\", \"Moldova\", \"Monaco\", \"Mongolia\", \"Morocco\", \"Nepal\", \"Netherlands\", \"New Zealand\", \"Nigeria\", \"North Macedonia\", \"Norway\", \"Oman\", \"Pakistan\", \"Panama\", \"Paraguay\", \"Peru\", \"Philippines\", \"Poland\", \"Portugal\", \"Qatar\", \"Romania\", \"Russia\", \"San Marino\", \"Saudi Arabia\", \"Senegal\", \"Serbia\", \"Singapore\", \"Slovakia\", \"Slovenia\", \"South Africa\", \"Spain\", \"Sri Lanka\", \"Sweden\", \"Switzerland\", \"Thailand\", \"Togo\", \"Tunisia\", \"Turkey\", \"US\", \"Ukraine\", \"United Arab Emirates\", \"Vietnam\"], \"marker\": {\"color\": \"#636efa\", \"size\": [1, 0, 0, 0, 0, 0, 22, 0, 0, 1, 0, 0, 1, 0, 0, 0, 0, 0, 0, 0, 1, 0, 10, 0, 77241, 0, 0, 0, 0, 0, 691, 0, 0, 0, 0, 0, 1, 0, 1, 12, 0, 16, 0, 0, 0, 0, 0, 3, 0, 61, 1, 0, 1, 229, 0, 159, 0, 1, 0, 1, 0, 0, 0, 22, 0, 0, 0, 0, 0, 0, 0, 0, 1, 0, 0, 0, 0, 0, 2, 0, 0, 0, 0, 3, 0, 0, 0, 0, 2, 0, 0, 0, 0, 89, 0, 0, 0, 2, 1, 1, 0, 35, 0, 0, 0, 51, 0, 13, 16], \"sizemode\": \"area\", \"sizeref\": 202.89}, \"name\": \"\", \"showlegend\": false, \"type\": \"scattergeo\"}], \"name\": \"2020-02-24 00:00:00\"}, {\"data\": [{\"customdata\": [[1], [0], [1], [0], [0], [0], [22], [2], [0], [23], [0], [0], [1], [0], [0], [0], [0], [0], [0], [0], [1], [0], [11], [0], [77754], [0], [0], [0], [0], [1], [691], [0], [0], [0], [0], [0], [1], [0], [1], [14], [0], [17], [0], [0], [0], [0], [0], [3], [0], [95], [1], [0], [1], [322], [0], [170], [0], [11], [0], [1], [0], [0], [0], [22], [0], [0], [0], [0], [0], [0], [0], [0], [1], [0], [0], [0], [0], [0], [2], [0], [0], [0], [0], [3], [0], [0], [0], [0], [2], [0], [0], [0], [0], [91], [0], [0], [0], [6], [1], [1], [1], [37], [0], [0], [0], [51], [0], [13], [16]], \"geo\": \"geo\", \"hoverlabel\": {\"namelength\": 0}, \"hovertemplate\": \"Date=2020-02-25 00:00:00<br>Confirmed=%{customdata[0]}<br>Country/Region=%{location}\", \"legendgroup\": \"\", \"locationmode\": \"country names\", \"locations\": [\"Afghanistan\", \"Albania\", \"Algeria\", \"Andorra\", \"Argentina\", \"Armenia\", \"Australia\", \"Austria\", \"Azerbaijan\", \"Bahrain\", \"Bangladesh\", \"Belarus\", \"Belgium\", \"Bhutan\", \"Bolivia\", \"Bosnia and Herzegovina\", \"Brazil\", \"Brunei\", \"Bulgaria\", \"Burkina Faso\", \"Cambodia\", \"Cameroon\", \"Canada\", \"Chile\", \"China\", \"Colombia\", \"Congo (Kinshasa)\", \"Costa Rica\", \"Cote d'Ivoire\", \"Croatia\", \"Cruise Ship\", \"Cuba\", \"Cyprus\", \"Denmark\", \"Dominican Republic\", \"Ecuador\", \"Egypt\", \"Estonia\", \"Finland\", \"France\", \"Georgia\", \"Germany\", \"Greece\", \"Guyana\", \"Honduras\", \"Hungary\", \"Iceland\", \"India\", \"Indonesia\", \"Iran\", \"Iraq\", \"Ireland\", \"Israel\", \"Italy\", \"Jamaica\", \"Japan\", \"Jordan\", \"Kuwait\", \"Latvia\", \"Lebanon\", \"Liechtenstein\", \"Lithuania\", \"Luxembourg\", \"Malaysia\", \"Maldives\", \"Malta\", \"Martinique\", \"Mexico\", \"Moldova\", \"Monaco\", \"Mongolia\", \"Morocco\", \"Nepal\", \"Netherlands\", \"New Zealand\", \"Nigeria\", \"North Macedonia\", \"Norway\", \"Oman\", \"Pakistan\", \"Panama\", \"Paraguay\", \"Peru\", \"Philippines\", \"Poland\", \"Portugal\", \"Qatar\", \"Romania\", \"Russia\", \"San Marino\", \"Saudi Arabia\", \"Senegal\", \"Serbia\", \"Singapore\", \"Slovakia\", \"Slovenia\", \"South Africa\", \"Spain\", \"Sri Lanka\", \"Sweden\", \"Switzerland\", \"Thailand\", \"Togo\", \"Tunisia\", \"Turkey\", \"US\", \"Ukraine\", \"United Arab Emirates\", \"Vietnam\"], \"marker\": {\"color\": \"#636efa\", \"size\": [1, 0, 1, 0, 0, 0, 22, 2, 0, 23, 0, 0, 1, 0, 0, 0, 0, 0, 0, 0, 1, 0, 11, 0, 77754, 0, 0, 0, 0, 1, 691, 0, 0, 0, 0, 0, 1, 0, 1, 14, 0, 17, 0, 0, 0, 0, 0, 3, 0, 95, 1, 0, 1, 322, 0, 170, 0, 11, 0, 1, 0, 0, 0, 22, 0, 0, 0, 0, 0, 0, 0, 0, 1, 0, 0, 0, 0, 0, 2, 0, 0, 0, 0, 3, 0, 0, 0, 0, 2, 0, 0, 0, 0, 91, 0, 0, 0, 6, 1, 1, 1, 37, 0, 0, 0, 51, 0, 13, 16], \"sizemode\": \"area\", \"sizeref\": 202.89}, \"name\": \"\", \"showlegend\": false, \"type\": \"scattergeo\"}], \"name\": \"2020-02-25 00:00:00\"}, {\"data\": [{\"customdata\": [[1], [0], [1], [0], [0], [0], [22], [2], [0], [33], [0], [0], [1], [0], [0], [0], [1], [0], [0], [0], [1], [0], [11], [0], [78166], [0], [0], [0], [0], [3], [705], [0], [0], [0], [0], [0], [1], [0], [2], [18], [1], [27], [1], [0], [0], [0], [0], [3], [0], [139], [5], [0], [2], [453], [0], [189], [0], [26], [0], [2], [0], [0], [0], [22], [0], [0], [0], [0], [0], [0], [0], [0], [1], [0], [0], [0], [1], [1], [4], [2], [0], [0], [0], [3], [0], [0], [0], [1], [2], [0], [0], [0], [0], [93], [0], [0], [0], [13], [1], [2], [1], [40], [0], [0], [0], [57], [0], [13], [16]], \"geo\": \"geo\", \"hoverlabel\": {\"namelength\": 0}, \"hovertemplate\": \"Date=2020-02-26 00:00:00<br>Confirmed=%{customdata[0]}<br>Country/Region=%{location}\", \"legendgroup\": \"\", \"locationmode\": \"country names\", \"locations\": [\"Afghanistan\", \"Albania\", \"Algeria\", \"Andorra\", \"Argentina\", \"Armenia\", \"Australia\", \"Austria\", \"Azerbaijan\", \"Bahrain\", \"Bangladesh\", \"Belarus\", \"Belgium\", \"Bhutan\", \"Bolivia\", \"Bosnia and Herzegovina\", \"Brazil\", \"Brunei\", \"Bulgaria\", \"Burkina Faso\", \"Cambodia\", \"Cameroon\", \"Canada\", \"Chile\", \"China\", \"Colombia\", \"Congo (Kinshasa)\", \"Costa Rica\", \"Cote d'Ivoire\", \"Croatia\", \"Cruise Ship\", \"Cuba\", \"Cyprus\", \"Denmark\", \"Dominican Republic\", \"Ecuador\", \"Egypt\", \"Estonia\", \"Finland\", \"France\", \"Georgia\", \"Germany\", \"Greece\", \"Guyana\", \"Honduras\", \"Hungary\", \"Iceland\", \"India\", \"Indonesia\", \"Iran\", \"Iraq\", \"Ireland\", \"Israel\", \"Italy\", \"Jamaica\", \"Japan\", \"Jordan\", \"Kuwait\", \"Latvia\", \"Lebanon\", \"Liechtenstein\", \"Lithuania\", \"Luxembourg\", \"Malaysia\", \"Maldives\", \"Malta\", \"Martinique\", \"Mexico\", \"Moldova\", \"Monaco\", \"Mongolia\", \"Morocco\", \"Nepal\", \"Netherlands\", \"New Zealand\", \"Nigeria\", \"North Macedonia\", \"Norway\", \"Oman\", \"Pakistan\", \"Panama\", \"Paraguay\", \"Peru\", \"Philippines\", \"Poland\", \"Portugal\", \"Qatar\", \"Romania\", \"Russia\", \"San Marino\", \"Saudi Arabia\", \"Senegal\", \"Serbia\", \"Singapore\", \"Slovakia\", \"Slovenia\", \"South Africa\", \"Spain\", \"Sri Lanka\", \"Sweden\", \"Switzerland\", \"Thailand\", \"Togo\", \"Tunisia\", \"Turkey\", \"US\", \"Ukraine\", \"United Arab Emirates\", \"Vietnam\"], \"marker\": {\"color\": \"#636efa\", \"size\": [1, 0, 1, 0, 0, 0, 22, 2, 0, 33, 0, 0, 1, 0, 0, 0, 1, 0, 0, 0, 1, 0, 11, 0, 78166, 0, 0, 0, 0, 3, 705, 0, 0, 0, 0, 0, 1, 0, 2, 18, 1, 27, 1, 0, 0, 0, 0, 3, 0, 139, 5, 0, 2, 453, 0, 189, 0, 26, 0, 2, 0, 0, 0, 22, 0, 0, 0, 0, 0, 0, 0, 0, 1, 0, 0, 0, 1, 1, 4, 2, 0, 0, 0, 3, 0, 0, 0, 1, 2, 0, 0, 0, 0, 93, 0, 0, 0, 13, 1, 2, 1, 40, 0, 0, 0, 57, 0, 13, 16], \"sizemode\": \"area\", \"sizeref\": 202.89}, \"name\": \"\", \"showlegend\": false, \"type\": \"scattergeo\"}], \"name\": \"2020-02-26 00:00:00\"}, {\"data\": [{\"customdata\": [[1], [0], [1], [0], [0], [0], [23], [3], [0], [33], [0], [0], [1], [0], [0], [0], [1], [0], [0], [0], [1], [0], [13], [0], [78600], [0], [0], [0], [0], [3], [705], [0], [0], [1], [0], [0], [1], [1], [2], [38], [1], [46], [3], [0], [0], [0], [0], [3], [0], [245], [7], [0], [3], [655], [0], [214], [0], [43], [0], [2], [0], [0], [0], [23], [0], [0], [0], [0], [0], [0], [0], [0], [1], [1], [0], [0], [1], [1], [4], [2], [0], [0], [0], [3], [0], [0], [0], [1], [2], [1], [0], [0], [0], [93], [0], [0], [0], [15], [1], [7], [8], [40], [0], [0], [0], [58], [0], [13], [16]], \"geo\": \"geo\", \"hoverlabel\": {\"namelength\": 0}, \"hovertemplate\": \"Date=2020-02-27 00:00:00<br>Confirmed=%{customdata[0]}<br>Country/Region=%{location}\", \"legendgroup\": \"\", \"locationmode\": \"country names\", \"locations\": [\"Afghanistan\", \"Albania\", \"Algeria\", \"Andorra\", \"Argentina\", \"Armenia\", \"Australia\", \"Austria\", \"Azerbaijan\", \"Bahrain\", \"Bangladesh\", \"Belarus\", \"Belgium\", \"Bhutan\", \"Bolivia\", \"Bosnia and Herzegovina\", \"Brazil\", \"Brunei\", \"Bulgaria\", \"Burkina Faso\", \"Cambodia\", \"Cameroon\", \"Canada\", \"Chile\", \"China\", \"Colombia\", \"Congo (Kinshasa)\", \"Costa Rica\", \"Cote d'Ivoire\", \"Croatia\", \"Cruise Ship\", \"Cuba\", \"Cyprus\", \"Denmark\", \"Dominican Republic\", \"Ecuador\", \"Egypt\", \"Estonia\", \"Finland\", \"France\", \"Georgia\", \"Germany\", \"Greece\", \"Guyana\", \"Honduras\", \"Hungary\", \"Iceland\", \"India\", \"Indonesia\", \"Iran\", \"Iraq\", \"Ireland\", \"Israel\", \"Italy\", \"Jamaica\", \"Japan\", \"Jordan\", \"Kuwait\", \"Latvia\", \"Lebanon\", \"Liechtenstein\", \"Lithuania\", \"Luxembourg\", \"Malaysia\", \"Maldives\", \"Malta\", \"Martinique\", \"Mexico\", \"Moldova\", \"Monaco\", \"Mongolia\", \"Morocco\", \"Nepal\", \"Netherlands\", \"New Zealand\", \"Nigeria\", \"North Macedonia\", \"Norway\", \"Oman\", \"Pakistan\", \"Panama\", \"Paraguay\", \"Peru\", \"Philippines\", \"Poland\", \"Portugal\", \"Qatar\", \"Romania\", \"Russia\", \"San Marino\", \"Saudi Arabia\", \"Senegal\", \"Serbia\", \"Singapore\", \"Slovakia\", \"Slovenia\", \"South Africa\", \"Spain\", \"Sri Lanka\", \"Sweden\", \"Switzerland\", \"Thailand\", \"Togo\", \"Tunisia\", \"Turkey\", \"US\", \"Ukraine\", \"United Arab Emirates\", \"Vietnam\"], \"marker\": {\"color\": \"#636efa\", \"size\": [1, 0, 1, 0, 0, 0, 23, 3, 0, 33, 0, 0, 1, 0, 0, 0, 1, 0, 0, 0, 1, 0, 13, 0, 78600, 0, 0, 0, 0, 3, 705, 0, 0, 1, 0, 0, 1, 1, 2, 38, 1, 46, 3, 0, 0, 0, 0, 3, 0, 245, 7, 0, 3, 655, 0, 214, 0, 43, 0, 2, 0, 0, 0, 23, 0, 0, 0, 0, 0, 0, 0, 0, 1, 1, 0, 0, 1, 1, 4, 2, 0, 0, 0, 3, 0, 0, 0, 1, 2, 1, 0, 0, 0, 93, 0, 0, 0, 15, 1, 7, 8, 40, 0, 0, 0, 58, 0, 13, 16], \"sizemode\": \"area\", \"sizeref\": 202.89}, \"name\": \"\", \"showlegend\": false, \"type\": \"scattergeo\"}], \"name\": \"2020-02-27 00:00:00\"}, {\"data\": [{\"customdata\": [[1], [0], [1], [0], [0], [0], [23], [3], [0], [36], [0], [1], [1], [0], [0], [0], [1], [0], [0], [0], [1], [0], [14], [0], [78928], [0], [0], [0], [0], [5], [705], [0], [0], [1], [0], [0], [1], [1], [2], [57], [1], [48], [4], [0], [0], [0], [1], [3], [0], [388], [7], [0], [4], [888], [0], [228], [0], [45], [0], [2], [0], [1], [0], [23], [0], [0], [0], [1], [0], [0], [0], [0], [1], [1], [1], [1], [1], [6], [4], [2], [0], [0], [0], [3], [0], [0], [0], [3], [2], [1], [0], [0], [0], [93], [0], [0], [0], [32], [1], [7], [8], [41], [0], [0], [0], [60], [0], [19], [16]], \"geo\": \"geo\", \"hoverlabel\": {\"namelength\": 0}, \"hovertemplate\": \"Date=2020-02-28 00:00:00<br>Confirmed=%{customdata[0]}<br>Country/Region=%{location}\", \"legendgroup\": \"\", \"locationmode\": \"country names\", \"locations\": [\"Afghanistan\", \"Albania\", \"Algeria\", \"Andorra\", \"Argentina\", \"Armenia\", \"Australia\", \"Austria\", \"Azerbaijan\", \"Bahrain\", \"Bangladesh\", \"Belarus\", \"Belgium\", \"Bhutan\", \"Bolivia\", \"Bosnia and Herzegovina\", \"Brazil\", \"Brunei\", \"Bulgaria\", \"Burkina Faso\", \"Cambodia\", \"Cameroon\", \"Canada\", \"Chile\", \"China\", \"Colombia\", \"Congo (Kinshasa)\", \"Costa Rica\", \"Cote d'Ivoire\", \"Croatia\", \"Cruise Ship\", \"Cuba\", \"Cyprus\", \"Denmark\", \"Dominican Republic\", \"Ecuador\", \"Egypt\", \"Estonia\", \"Finland\", \"France\", \"Georgia\", \"Germany\", \"Greece\", \"Guyana\", \"Honduras\", \"Hungary\", \"Iceland\", \"India\", \"Indonesia\", \"Iran\", \"Iraq\", \"Ireland\", \"Israel\", \"Italy\", \"Jamaica\", \"Japan\", \"Jordan\", \"Kuwait\", \"Latvia\", \"Lebanon\", \"Liechtenstein\", \"Lithuania\", \"Luxembourg\", \"Malaysia\", \"Maldives\", \"Malta\", \"Martinique\", \"Mexico\", \"Moldova\", \"Monaco\", \"Mongolia\", \"Morocco\", \"Nepal\", \"Netherlands\", \"New Zealand\", \"Nigeria\", \"North Macedonia\", \"Norway\", \"Oman\", \"Pakistan\", \"Panama\", \"Paraguay\", \"Peru\", \"Philippines\", \"Poland\", \"Portugal\", \"Qatar\", \"Romania\", \"Russia\", \"San Marino\", \"Saudi Arabia\", \"Senegal\", \"Serbia\", \"Singapore\", \"Slovakia\", \"Slovenia\", \"South Africa\", \"Spain\", \"Sri Lanka\", \"Sweden\", \"Switzerland\", \"Thailand\", \"Togo\", \"Tunisia\", \"Turkey\", \"US\", \"Ukraine\", \"United Arab Emirates\", \"Vietnam\"], \"marker\": {\"color\": \"#636efa\", \"size\": [1, 0, 1, 0, 0, 0, 23, 3, 0, 36, 0, 1, 1, 0, 0, 0, 1, 0, 0, 0, 1, 0, 14, 0, 78928, 0, 0, 0, 0, 5, 705, 0, 0, 1, 0, 0, 1, 1, 2, 57, 1, 48, 4, 0, 0, 0, 1, 3, 0, 388, 7, 0, 4, 888, 0, 228, 0, 45, 0, 2, 0, 1, 0, 23, 0, 0, 0, 1, 0, 0, 0, 0, 1, 1, 1, 1, 1, 6, 4, 2, 0, 0, 0, 3, 0, 0, 0, 3, 2, 1, 0, 0, 0, 93, 0, 0, 0, 32, 1, 7, 8, 41, 0, 0, 0, 60, 0, 19, 16], \"sizemode\": \"area\", \"sizeref\": 202.89}, \"name\": \"\", \"showlegend\": false, \"type\": \"scattergeo\"}], \"name\": \"2020-02-28 00:00:00\"}, {\"data\": [{\"customdata\": [[1], [0], [1], [0], [0], [0], [25], [9], [0], [41], [0], [1], [1], [0], [0], [0], [2], [0], [0], [0], [1], [0], [20], [0], [79356], [0], [0], [0], [0], [6], [705], [0], [0], [3], [0], [0], [1], [1], [3], [100], [1], [79], [4], [0], [0], [0], [1], [3], [0], [593], [13], [1], [7], [1128], [0], [241], [0], [45], [0], [4], [0], [1], [1], [25], [0], [0], [0], [4], [0], [1], [0], [0], [1], [6], [1], [1], [1], [15], [6], [4], [0], [0], [0], [3], [0], [0], [1], [3], [2], [1], [0], [0], [0], [102], [0], [0], [0], [45], [1], [12], [18], [42], [0], [0], [0], [68], [0], [21], [16]], \"geo\": \"geo\", \"hoverlabel\": {\"namelength\": 0}, \"hovertemplate\": \"Date=2020-02-29 00:00:00<br>Confirmed=%{customdata[0]}<br>Country/Region=%{location}\", \"legendgroup\": \"\", \"locationmode\": \"country names\", \"locations\": [\"Afghanistan\", \"Albania\", \"Algeria\", \"Andorra\", \"Argentina\", \"Armenia\", \"Australia\", \"Austria\", \"Azerbaijan\", \"Bahrain\", \"Bangladesh\", \"Belarus\", \"Belgium\", \"Bhutan\", \"Bolivia\", \"Bosnia and Herzegovina\", \"Brazil\", \"Brunei\", \"Bulgaria\", \"Burkina Faso\", \"Cambodia\", \"Cameroon\", \"Canada\", \"Chile\", \"China\", \"Colombia\", \"Congo (Kinshasa)\", \"Costa Rica\", \"Cote d'Ivoire\", \"Croatia\", \"Cruise Ship\", \"Cuba\", \"Cyprus\", \"Denmark\", \"Dominican Republic\", \"Ecuador\", \"Egypt\", \"Estonia\", \"Finland\", \"France\", \"Georgia\", \"Germany\", \"Greece\", \"Guyana\", \"Honduras\", \"Hungary\", \"Iceland\", \"India\", \"Indonesia\", \"Iran\", \"Iraq\", \"Ireland\", \"Israel\", \"Italy\", \"Jamaica\", \"Japan\", \"Jordan\", \"Kuwait\", \"Latvia\", \"Lebanon\", \"Liechtenstein\", \"Lithuania\", \"Luxembourg\", \"Malaysia\", \"Maldives\", \"Malta\", \"Martinique\", \"Mexico\", \"Moldova\", \"Monaco\", \"Mongolia\", \"Morocco\", \"Nepal\", \"Netherlands\", \"New Zealand\", \"Nigeria\", \"North Macedonia\", \"Norway\", \"Oman\", \"Pakistan\", \"Panama\", \"Paraguay\", \"Peru\", \"Philippines\", \"Poland\", \"Portugal\", \"Qatar\", \"Romania\", \"Russia\", \"San Marino\", \"Saudi Arabia\", \"Senegal\", \"Serbia\", \"Singapore\", \"Slovakia\", \"Slovenia\", \"South Africa\", \"Spain\", \"Sri Lanka\", \"Sweden\", \"Switzerland\", \"Thailand\", \"Togo\", \"Tunisia\", \"Turkey\", \"US\", \"Ukraine\", \"United Arab Emirates\", \"Vietnam\"], \"marker\": {\"color\": \"#636efa\", \"size\": [1, 0, 1, 0, 0, 0, 25, 9, 0, 41, 0, 1, 1, 0, 0, 0, 2, 0, 0, 0, 1, 0, 20, 0, 79356, 0, 0, 0, 0, 6, 705, 0, 0, 3, 0, 0, 1, 1, 3, 100, 1, 79, 4, 0, 0, 0, 1, 3, 0, 593, 13, 1, 7, 1128, 0, 241, 0, 45, 0, 4, 0, 1, 1, 25, 0, 0, 0, 4, 0, 1, 0, 0, 1, 6, 1, 1, 1, 15, 6, 4, 0, 0, 0, 3, 0, 0, 1, 3, 2, 1, 0, 0, 0, 102, 0, 0, 0, 45, 1, 12, 18, 42, 0, 0, 0, 68, 0, 21, 16], \"sizemode\": \"area\", \"sizeref\": 202.89}, \"name\": \"\", \"showlegend\": false, \"type\": \"scattergeo\"}], \"name\": \"2020-02-29 00:00:00\"}, {\"data\": [{\"customdata\": [[1], [0], [1], [0], [0], [1], [27], [14], [3], [47], [0], [1], [2], [0], [0], [0], [2], [0], [0], [0], [1], [0], [24], [0], [79932], [0], [0], [0], [0], [7], [705], [0], [0], [4], [1], [6], [2], [1], [6], [130], [3], [130], [7], [0], [0], [0], [3], [3], [0], [978], [19], [1], [10], [1694], [0], [256], [0], [45], [0], [10], [0], [1], [1], [29], [0], [0], [0], [5], [0], [1], [0], [0], [1], [10], [1], [1], [1], [19], [6], [4], [0], [0], [0], [3], [0], [0], [3], [3], [2], [1], [0], [0], [0], [106], [0], [0], [0], [84], [1], [14], [27], [42], [0], [0], [0], [74], [0], [21], [16]], \"geo\": \"geo\", \"hoverlabel\": {\"namelength\": 0}, \"hovertemplate\": \"Date=2020-03-01 00:00:00<br>Confirmed=%{customdata[0]}<br>Country/Region=%{location}\", \"legendgroup\": \"\", \"locationmode\": \"country names\", \"locations\": [\"Afghanistan\", \"Albania\", \"Algeria\", \"Andorra\", \"Argentina\", \"Armenia\", \"Australia\", \"Austria\", \"Azerbaijan\", \"Bahrain\", \"Bangladesh\", \"Belarus\", \"Belgium\", \"Bhutan\", \"Bolivia\", \"Bosnia and Herzegovina\", \"Brazil\", \"Brunei\", \"Bulgaria\", \"Burkina Faso\", \"Cambodia\", \"Cameroon\", \"Canada\", \"Chile\", \"China\", \"Colombia\", \"Congo (Kinshasa)\", \"Costa Rica\", \"Cote d'Ivoire\", \"Croatia\", \"Cruise Ship\", \"Cuba\", \"Cyprus\", \"Denmark\", \"Dominican Republic\", \"Ecuador\", \"Egypt\", \"Estonia\", \"Finland\", \"France\", \"Georgia\", \"Germany\", \"Greece\", \"Guyana\", \"Honduras\", \"Hungary\", \"Iceland\", \"India\", \"Indonesia\", \"Iran\", \"Iraq\", \"Ireland\", \"Israel\", \"Italy\", \"Jamaica\", \"Japan\", \"Jordan\", \"Kuwait\", \"Latvia\", \"Lebanon\", \"Liechtenstein\", \"Lithuania\", \"Luxembourg\", \"Malaysia\", \"Maldives\", \"Malta\", \"Martinique\", \"Mexico\", \"Moldova\", \"Monaco\", \"Mongolia\", \"Morocco\", \"Nepal\", \"Netherlands\", \"New Zealand\", \"Nigeria\", \"North Macedonia\", \"Norway\", \"Oman\", \"Pakistan\", \"Panama\", \"Paraguay\", \"Peru\", \"Philippines\", \"Poland\", \"Portugal\", \"Qatar\", \"Romania\", \"Russia\", \"San Marino\", \"Saudi Arabia\", \"Senegal\", \"Serbia\", \"Singapore\", \"Slovakia\", \"Slovenia\", \"South Africa\", \"Spain\", \"Sri Lanka\", \"Sweden\", \"Switzerland\", \"Thailand\", \"Togo\", \"Tunisia\", \"Turkey\", \"US\", \"Ukraine\", \"United Arab Emirates\", \"Vietnam\"], \"marker\": {\"color\": \"#636efa\", \"size\": [1, 0, 1, 0, 0, 1, 27, 14, 3, 47, 0, 1, 2, 0, 0, 0, 2, 0, 0, 0, 1, 0, 24, 0, 79932, 0, 0, 0, 0, 7, 705, 0, 0, 4, 1, 6, 2, 1, 6, 130, 3, 130, 7, 0, 0, 0, 3, 3, 0, 978, 19, 1, 10, 1694, 0, 256, 0, 45, 0, 10, 0, 1, 1, 29, 0, 0, 0, 5, 0, 1, 0, 0, 1, 10, 1, 1, 1, 19, 6, 4, 0, 0, 0, 3, 0, 0, 3, 3, 2, 1, 0, 0, 0, 106, 0, 0, 0, 84, 1, 14, 27, 42, 0, 0, 0, 74, 0, 21, 16], \"sizemode\": \"area\", \"sizeref\": 202.89}, \"name\": \"\", \"showlegend\": false, \"type\": \"scattergeo\"}], \"name\": \"2020-03-01 00:00:00\"}, {\"data\": [{\"customdata\": [[1], [0], [3], [1], [0], [1], [30], [18], [3], [49], [0], [1], [8], [0], [0], [0], [2], [0], [0], [0], [1], [0], [27], [0], [80136], [0], [0], [0], [0], [7], [705], [0], [0], [4], [1], [6], [2], [1], [6], [191], [3], [159], [7], [0], [0], [0], [6], [5], [2], [1501], [26], [1], [10], [2036], [0], [274], [0], [56], [1], [13], [0], [1], [1], [29], [0], [0], [0], [5], [0], [1], [0], [1], [1], [18], [1], [1], [1], [25], [6], [4], [0], [0], [0], [3], [0], [2], [3], [3], [3], [8], [1], [1], [0], [108], [0], [0], [0], [120], [1], [15], [42], [43], [0], [0], [0], [98], [0], [21], [16]], \"geo\": \"geo\", \"hoverlabel\": {\"namelength\": 0}, \"hovertemplate\": \"Date=2020-03-02 00:00:00<br>Confirmed=%{customdata[0]}<br>Country/Region=%{location}\", \"legendgroup\": \"\", \"locationmode\": \"country names\", \"locations\": [\"Afghanistan\", \"Albania\", \"Algeria\", \"Andorra\", \"Argentina\", \"Armenia\", \"Australia\", \"Austria\", \"Azerbaijan\", \"Bahrain\", \"Bangladesh\", \"Belarus\", \"Belgium\", \"Bhutan\", \"Bolivia\", \"Bosnia and Herzegovina\", \"Brazil\", \"Brunei\", \"Bulgaria\", \"Burkina Faso\", \"Cambodia\", \"Cameroon\", \"Canada\", \"Chile\", \"China\", \"Colombia\", \"Congo (Kinshasa)\", \"Costa Rica\", \"Cote d'Ivoire\", \"Croatia\", \"Cruise Ship\", \"Cuba\", \"Cyprus\", \"Denmark\", \"Dominican Republic\", \"Ecuador\", \"Egypt\", \"Estonia\", \"Finland\", \"France\", \"Georgia\", \"Germany\", \"Greece\", \"Guyana\", \"Honduras\", \"Hungary\", \"Iceland\", \"India\", \"Indonesia\", \"Iran\", \"Iraq\", \"Ireland\", \"Israel\", \"Italy\", \"Jamaica\", \"Japan\", \"Jordan\", \"Kuwait\", \"Latvia\", \"Lebanon\", \"Liechtenstein\", \"Lithuania\", \"Luxembourg\", \"Malaysia\", \"Maldives\", \"Malta\", \"Martinique\", \"Mexico\", \"Moldova\", \"Monaco\", \"Mongolia\", \"Morocco\", \"Nepal\", \"Netherlands\", \"New Zealand\", \"Nigeria\", \"North Macedonia\", \"Norway\", \"Oman\", \"Pakistan\", \"Panama\", \"Paraguay\", \"Peru\", \"Philippines\", \"Poland\", \"Portugal\", \"Qatar\", \"Romania\", \"Russia\", \"San Marino\", \"Saudi Arabia\", \"Senegal\", \"Serbia\", \"Singapore\", \"Slovakia\", \"Slovenia\", \"South Africa\", \"Spain\", \"Sri Lanka\", \"Sweden\", \"Switzerland\", \"Thailand\", \"Togo\", \"Tunisia\", \"Turkey\", \"US\", \"Ukraine\", \"United Arab Emirates\", \"Vietnam\"], \"marker\": {\"color\": \"#636efa\", \"size\": [1, 0, 3, 1, 0, 1, 30, 18, 3, 49, 0, 1, 8, 0, 0, 0, 2, 0, 0, 0, 1, 0, 27, 0, 80136, 0, 0, 0, 0, 7, 705, 0, 0, 4, 1, 6, 2, 1, 6, 191, 3, 159, 7, 0, 0, 0, 6, 5, 2, 1501, 26, 1, 10, 2036, 0, 274, 0, 56, 1, 13, 0, 1, 1, 29, 0, 0, 0, 5, 0, 1, 0, 1, 1, 18, 1, 1, 1, 25, 6, 4, 0, 0, 0, 3, 0, 2, 3, 3, 3, 8, 1, 1, 0, 108, 0, 0, 0, 120, 1, 15, 42, 43, 0, 0, 0, 98, 0, 21, 16], \"sizemode\": \"area\", \"sizeref\": 202.89}, \"name\": \"\", \"showlegend\": false, \"type\": \"scattergeo\"}], \"name\": \"2020-03-02 00:00:00\"}, {\"data\": [{\"customdata\": [[1], [0], [5], [1], [1], [1], [39], [21], [3], [49], [0], [1], [13], [0], [0], [0], [2], [0], [0], [0], [1], [0], [30], [1], [80261], [0], [0], [0], [0], [9], [706], [0], [0], [6], [1], [7], [2], [2], [6], [204], [3], [196], [7], [0], [0], [0], [11], [5], [2], [2336], [32], [2], [12], [2502], [0], [293], [1], [56], [1], [13], [0], [1], [1], [36], [0], [0], [0], [5], [0], [1], [0], [1], [1], [24], [1], [1], [1], [32], [12], [5], [0], [0], [0], [3], [0], [2], [7], [3], [3], [10], [1], [2], [0], [110], [0], [0], [0], [165], [1], [21], [56], [43], [0], [0], [0], [118], [1], [27], [16]], \"geo\": \"geo\", \"hoverlabel\": {\"namelength\": 0}, \"hovertemplate\": \"Date=2020-03-03 00:00:00<br>Confirmed=%{customdata[0]}<br>Country/Region=%{location}\", \"legendgroup\": \"\", \"locationmode\": \"country names\", \"locations\": [\"Afghanistan\", \"Albania\", \"Algeria\", \"Andorra\", \"Argentina\", \"Armenia\", \"Australia\", \"Austria\", \"Azerbaijan\", \"Bahrain\", \"Bangladesh\", \"Belarus\", \"Belgium\", \"Bhutan\", \"Bolivia\", \"Bosnia and Herzegovina\", \"Brazil\", \"Brunei\", \"Bulgaria\", \"Burkina Faso\", \"Cambodia\", \"Cameroon\", \"Canada\", \"Chile\", \"China\", \"Colombia\", \"Congo (Kinshasa)\", \"Costa Rica\", \"Cote d'Ivoire\", \"Croatia\", \"Cruise Ship\", \"Cuba\", \"Cyprus\", \"Denmark\", \"Dominican Republic\", \"Ecuador\", \"Egypt\", \"Estonia\", \"Finland\", \"France\", \"Georgia\", \"Germany\", \"Greece\", \"Guyana\", \"Honduras\", \"Hungary\", \"Iceland\", \"India\", \"Indonesia\", \"Iran\", \"Iraq\", \"Ireland\", \"Israel\", \"Italy\", \"Jamaica\", \"Japan\", \"Jordan\", \"Kuwait\", \"Latvia\", \"Lebanon\", \"Liechtenstein\", \"Lithuania\", \"Luxembourg\", \"Malaysia\", \"Maldives\", \"Malta\", \"Martinique\", \"Mexico\", \"Moldova\", \"Monaco\", \"Mongolia\", \"Morocco\", \"Nepal\", \"Netherlands\", \"New Zealand\", \"Nigeria\", \"North Macedonia\", \"Norway\", \"Oman\", \"Pakistan\", \"Panama\", \"Paraguay\", \"Peru\", \"Philippines\", \"Poland\", \"Portugal\", \"Qatar\", \"Romania\", \"Russia\", \"San Marino\", \"Saudi Arabia\", \"Senegal\", \"Serbia\", \"Singapore\", \"Slovakia\", \"Slovenia\", \"South Africa\", \"Spain\", \"Sri Lanka\", \"Sweden\", \"Switzerland\", \"Thailand\", \"Togo\", \"Tunisia\", \"Turkey\", \"US\", \"Ukraine\", \"United Arab Emirates\", \"Vietnam\"], \"marker\": {\"color\": \"#636efa\", \"size\": [1, 0, 5, 1, 1, 1, 39, 21, 3, 49, 0, 1, 13, 0, 0, 0, 2, 0, 0, 0, 1, 0, 30, 1, 80261, 0, 0, 0, 0, 9, 706, 0, 0, 6, 1, 7, 2, 2, 6, 204, 3, 196, 7, 0, 0, 0, 11, 5, 2, 2336, 32, 2, 12, 2502, 0, 293, 1, 56, 1, 13, 0, 1, 1, 36, 0, 0, 0, 5, 0, 1, 0, 1, 1, 24, 1, 1, 1, 32, 12, 5, 0, 0, 0, 3, 0, 2, 7, 3, 3, 10, 1, 2, 0, 110, 0, 0, 0, 165, 1, 21, 56, 43, 0, 0, 0, 118, 1, 27, 16], \"sizemode\": \"area\", \"sizeref\": 202.89}, \"name\": \"\", \"showlegend\": false, \"type\": \"scattergeo\"}], \"name\": \"2020-03-03 00:00:00\"}, {\"data\": [{\"customdata\": [[1], [0], [12], [1], [1], [1], [52], [29], [3], [52], [0], [6], [23], [0], [0], [0], [4], [0], [0], [0], [1], [0], [33], [1], [80386], [0], [0], [0], [0], [10], [706], [0], [0], [11], [1], [10], [2], [2], [6], [288], [3], [262], [9], [0], [0], [2], [26], [28], [2], [2922], [35], [6], [15], [3089], [0], [331], [1], [56], [1], [13], [1], [1], [1], [50], [0], [0], [0], [5], [0], [1], [0], [1], [1], [38], [3], [1], [1], [56], [15], [5], [0], [0], [0], [3], [1], [5], [8], [4], [3], [16], [1], [4], [0], [110], [0], [0], [0], [222], [1], [35], [90], [43], [0], [1], [0], [149], [1], [27], [16]], \"geo\": \"geo\", \"hoverlabel\": {\"namelength\": 0}, \"hovertemplate\": \"Date=2020-03-04 00:00:00<br>Confirmed=%{customdata[0]}<br>Country/Region=%{location}\", \"legendgroup\": \"\", \"locationmode\": \"country names\", \"locations\": [\"Afghanistan\", \"Albania\", \"Algeria\", \"Andorra\", \"Argentina\", \"Armenia\", \"Australia\", \"Austria\", \"Azerbaijan\", \"Bahrain\", \"Bangladesh\", \"Belarus\", \"Belgium\", \"Bhutan\", \"Bolivia\", \"Bosnia and Herzegovina\", \"Brazil\", \"Brunei\", \"Bulgaria\", \"Burkina Faso\", \"Cambodia\", \"Cameroon\", \"Canada\", \"Chile\", \"China\", \"Colombia\", \"Congo (Kinshasa)\", \"Costa Rica\", \"Cote d'Ivoire\", \"Croatia\", \"Cruise Ship\", \"Cuba\", \"Cyprus\", \"Denmark\", \"Dominican Republic\", \"Ecuador\", \"Egypt\", \"Estonia\", \"Finland\", \"France\", \"Georgia\", \"Germany\", \"Greece\", \"Guyana\", \"Honduras\", \"Hungary\", \"Iceland\", \"India\", \"Indonesia\", \"Iran\", \"Iraq\", \"Ireland\", \"Israel\", \"Italy\", \"Jamaica\", \"Japan\", \"Jordan\", \"Kuwait\", \"Latvia\", \"Lebanon\", \"Liechtenstein\", \"Lithuania\", \"Luxembourg\", \"Malaysia\", \"Maldives\", \"Malta\", \"Martinique\", \"Mexico\", \"Moldova\", \"Monaco\", \"Mongolia\", \"Morocco\", \"Nepal\", \"Netherlands\", \"New Zealand\", \"Nigeria\", \"North Macedonia\", \"Norway\", \"Oman\", \"Pakistan\", \"Panama\", \"Paraguay\", \"Peru\", \"Philippines\", \"Poland\", \"Portugal\", \"Qatar\", \"Romania\", \"Russia\", \"San Marino\", \"Saudi Arabia\", \"Senegal\", \"Serbia\", \"Singapore\", \"Slovakia\", \"Slovenia\", \"South Africa\", \"Spain\", \"Sri Lanka\", \"Sweden\", \"Switzerland\", \"Thailand\", \"Togo\", \"Tunisia\", \"Turkey\", \"US\", \"Ukraine\", \"United Arab Emirates\", \"Vietnam\"], \"marker\": {\"color\": \"#636efa\", \"size\": [1, 0, 12, 1, 1, 1, 52, 29, 3, 52, 0, 6, 23, 0, 0, 0, 4, 0, 0, 0, 1, 0, 33, 1, 80386, 0, 0, 0, 0, 10, 706, 0, 0, 11, 1, 10, 2, 2, 6, 288, 3, 262, 9, 0, 0, 2, 26, 28, 2, 2922, 35, 6, 15, 3089, 0, 331, 1, 56, 1, 13, 1, 1, 1, 50, 0, 0, 0, 5, 0, 1, 0, 1, 1, 38, 3, 1, 1, 56, 15, 5, 0, 0, 0, 3, 1, 5, 8, 4, 3, 16, 1, 4, 0, 110, 0, 0, 0, 222, 1, 35, 90, 43, 0, 1, 0, 149, 1, 27, 16], \"sizemode\": \"area\", \"sizeref\": 202.89}, \"name\": \"\", \"showlegend\": false, \"type\": \"scattergeo\"}], \"name\": \"2020-03-04 00:00:00\"}, {\"data\": [{\"customdata\": [[1], [0], [12], [1], [1], [1], [55], [41], [6], [55], [0], [6], [50], [0], [0], [2], [4], [0], [0], [0], [1], [0], [37], [4], [80537], [0], [0], [0], [0], [10], [706], [0], [0], [11], [1], [13], [3], [3], [12], [380], [4], [482], [31], [0], [0], [2], [34], [30], [2], [3513], [35], [6], [20], [3858], [0], [360], [1], [58], [1], [16], [1], [1], [1], [50], [0], [0], [0], [5], [0], [1], [0], [2], [1], [82], [3], [1], [1], [87], [16], [5], [0], [0], [0], [3], [1], [8], [8], [6], [4], [21], [5], [4], [0], [117], [0], [2], [1], [259], [1], [94], [114], [47], [0], [1], [0], [217], [1], [29], [16]], \"geo\": \"geo\", \"hoverlabel\": {\"namelength\": 0}, \"hovertemplate\": \"Date=2020-03-05 00:00:00<br>Confirmed=%{customdata[0]}<br>Country/Region=%{location}\", \"legendgroup\": \"\", \"locationmode\": \"country names\", \"locations\": [\"Afghanistan\", \"Albania\", \"Algeria\", \"Andorra\", \"Argentina\", \"Armenia\", \"Australia\", \"Austria\", \"Azerbaijan\", \"Bahrain\", \"Bangladesh\", \"Belarus\", \"Belgium\", \"Bhutan\", \"Bolivia\", \"Bosnia and Herzegovina\", \"Brazil\", \"Brunei\", \"Bulgaria\", \"Burkina Faso\", \"Cambodia\", \"Cameroon\", \"Canada\", \"Chile\", \"China\", \"Colombia\", \"Congo (Kinshasa)\", \"Costa Rica\", \"Cote d'Ivoire\", \"Croatia\", \"Cruise Ship\", \"Cuba\", \"Cyprus\", \"Denmark\", \"Dominican Republic\", \"Ecuador\", \"Egypt\", \"Estonia\", \"Finland\", \"France\", \"Georgia\", \"Germany\", \"Greece\", \"Guyana\", \"Honduras\", \"Hungary\", \"Iceland\", \"India\", \"Indonesia\", \"Iran\", \"Iraq\", \"Ireland\", \"Israel\", \"Italy\", \"Jamaica\", \"Japan\", \"Jordan\", \"Kuwait\", \"Latvia\", \"Lebanon\", \"Liechtenstein\", \"Lithuania\", \"Luxembourg\", \"Malaysia\", \"Maldives\", \"Malta\", \"Martinique\", \"Mexico\", \"Moldova\", \"Monaco\", \"Mongolia\", \"Morocco\", \"Nepal\", \"Netherlands\", \"New Zealand\", \"Nigeria\", \"North Macedonia\", \"Norway\", \"Oman\", \"Pakistan\", \"Panama\", \"Paraguay\", \"Peru\", \"Philippines\", \"Poland\", \"Portugal\", \"Qatar\", \"Romania\", \"Russia\", \"San Marino\", \"Saudi Arabia\", \"Senegal\", \"Serbia\", \"Singapore\", \"Slovakia\", \"Slovenia\", \"South Africa\", \"Spain\", \"Sri Lanka\", \"Sweden\", \"Switzerland\", \"Thailand\", \"Togo\", \"Tunisia\", \"Turkey\", \"US\", \"Ukraine\", \"United Arab Emirates\", \"Vietnam\"], \"marker\": {\"color\": \"#636efa\", \"size\": [1, 0, 12, 1, 1, 1, 55, 41, 6, 55, 0, 6, 50, 0, 0, 2, 4, 0, 0, 0, 1, 0, 37, 4, 80537, 0, 0, 0, 0, 10, 706, 0, 0, 11, 1, 13, 3, 3, 12, 380, 4, 482, 31, 0, 0, 2, 34, 30, 2, 3513, 35, 6, 20, 3858, 0, 360, 1, 58, 1, 16, 1, 1, 1, 50, 0, 0, 0, 5, 0, 1, 0, 2, 1, 82, 3, 1, 1, 87, 16, 5, 0, 0, 0, 3, 1, 8, 8, 6, 4, 21, 5, 4, 0, 117, 0, 2, 1, 259, 1, 94, 114, 47, 0, 1, 0, 217, 1, 29, 16], \"sizemode\": \"area\", \"sizeref\": 202.89}, \"name\": \"\", \"showlegend\": false, \"type\": \"scattergeo\"}], \"name\": \"2020-03-05 00:00:00\"}, {\"data\": [{\"customdata\": [[1], [0], [17], [1], [2], [1], [60], [55], [6], [60], [0], [6], [109], [1], [0], [2], [13], [0], [0], [0], [1], [1], [49], [4], [80690], [1], [0], [1], [0], [11], [696], [0], [0], [24], [2], [13], [15], [10], [15], [656], [4], [670], [45], [0], [0], [2], [43], [31], [4], [4747], [40], [18], [37], [4636], [0], [420], [1], [58], [1], [22], [1], [1], [2], [83], [0], [0], [0], [6], [0], [1], [0], [2], [1], [128], [4], [1], [3], [108], [16], [6], [0], [0], [1], [5], [5], [13], [8], [9], [13], [21], [5], [4], [1], [130], [1], [7], [1], [400], [1], [101], [214], [48], [1], [1], [0], [262], [1], [29], [16]], \"geo\": \"geo\", \"hoverlabel\": {\"namelength\": 0}, \"hovertemplate\": \"Date=2020-03-06 00:00:00<br>Confirmed=%{customdata[0]}<br>Country/Region=%{location}\", \"legendgroup\": \"\", \"locationmode\": \"country names\", \"locations\": [\"Afghanistan\", \"Albania\", \"Algeria\", \"Andorra\", \"Argentina\", \"Armenia\", \"Australia\", \"Austria\", \"Azerbaijan\", \"Bahrain\", \"Bangladesh\", \"Belarus\", \"Belgium\", \"Bhutan\", \"Bolivia\", \"Bosnia and Herzegovina\", \"Brazil\", \"Brunei\", \"Bulgaria\", \"Burkina Faso\", \"Cambodia\", \"Cameroon\", \"Canada\", \"Chile\", \"China\", \"Colombia\", \"Congo (Kinshasa)\", \"Costa Rica\", \"Cote d'Ivoire\", \"Croatia\", \"Cruise Ship\", \"Cuba\", \"Cyprus\", \"Denmark\", \"Dominican Republic\", \"Ecuador\", \"Egypt\", \"Estonia\", \"Finland\", \"France\", \"Georgia\", \"Germany\", \"Greece\", \"Guyana\", \"Honduras\", \"Hungary\", \"Iceland\", \"India\", \"Indonesia\", \"Iran\", \"Iraq\", \"Ireland\", \"Israel\", \"Italy\", \"Jamaica\", \"Japan\", \"Jordan\", \"Kuwait\", \"Latvia\", \"Lebanon\", \"Liechtenstein\", \"Lithuania\", \"Luxembourg\", \"Malaysia\", \"Maldives\", \"Malta\", \"Martinique\", \"Mexico\", \"Moldova\", \"Monaco\", \"Mongolia\", \"Morocco\", \"Nepal\", \"Netherlands\", \"New Zealand\", \"Nigeria\", \"North Macedonia\", \"Norway\", \"Oman\", \"Pakistan\", \"Panama\", \"Paraguay\", \"Peru\", \"Philippines\", \"Poland\", \"Portugal\", \"Qatar\", \"Romania\", \"Russia\", \"San Marino\", \"Saudi Arabia\", \"Senegal\", \"Serbia\", \"Singapore\", \"Slovakia\", \"Slovenia\", \"South Africa\", \"Spain\", \"Sri Lanka\", \"Sweden\", \"Switzerland\", \"Thailand\", \"Togo\", \"Tunisia\", \"Turkey\", \"US\", \"Ukraine\", \"United Arab Emirates\", \"Vietnam\"], \"marker\": {\"color\": \"#636efa\", \"size\": [1, 0, 17, 1, 2, 1, 60, 55, 6, 60, 0, 6, 109, 1, 0, 2, 13, 0, 0, 0, 1, 1, 49, 4, 80690, 1, 0, 1, 0, 11, 696, 0, 0, 24, 2, 13, 15, 10, 15, 656, 4, 670, 45, 0, 0, 2, 43, 31, 4, 4747, 40, 18, 37, 4636, 0, 420, 1, 58, 1, 22, 1, 1, 2, 83, 0, 0, 0, 6, 0, 1, 0, 2, 1, 128, 4, 1, 3, 108, 16, 6, 0, 0, 1, 5, 5, 13, 8, 9, 13, 21, 5, 4, 1, 130, 1, 7, 1, 400, 1, 101, 214, 48, 1, 1, 0, 262, 1, 29, 16], \"sizemode\": \"area\", \"sizeref\": 202.89}, \"name\": \"\", \"showlegend\": false, \"type\": \"scattergeo\"}], \"name\": \"2020-03-06 00:00:00\"}, {\"data\": [{\"customdata\": [[1], [0], [17], [1], [8], [1], [63], [79], [9], [85], [0], [6], [169], [1], [0], [3], [13], [0], [0], [0], [1], [1], [54], [4], [80770], [1], [0], [1], [0], [12], [696], [0], [0], [24], [2], [13], [15], [10], [15], [957], [4], [799], [46], [0], [0], [4], [50], [34], [4], [5823], [54], [18], [43], [5883], [0], [461], [1], [61], [1], [22], [1], [1], [2], [93], [0], [3], [2], [6], [0], [1], [0], [2], [1], [188], [5], [1], [3], [147], [16], [6], [0], [0], [1], [6], [5], [20], [8], [9], [13], [23], [5], [4], [1], [138], [1], [7], [1], [500], [1], [161], [268], [50], [1], [1], [0], [402], [1], [45], [18]], \"geo\": \"geo\", \"hoverlabel\": {\"namelength\": 0}, \"hovertemplate\": \"Date=2020-03-07 00:00:00<br>Confirmed=%{customdata[0]}<br>Country/Region=%{location}\", \"legendgroup\": \"\", \"locationmode\": \"country names\", \"locations\": [\"Afghanistan\", \"Albania\", \"Algeria\", \"Andorra\", \"Argentina\", \"Armenia\", \"Australia\", \"Austria\", \"Azerbaijan\", \"Bahrain\", \"Bangladesh\", \"Belarus\", \"Belgium\", \"Bhutan\", \"Bolivia\", \"Bosnia and Herzegovina\", \"Brazil\", \"Brunei\", \"Bulgaria\", \"Burkina Faso\", \"Cambodia\", \"Cameroon\", \"Canada\", \"Chile\", \"China\", \"Colombia\", \"Congo (Kinshasa)\", \"Costa Rica\", \"Cote d'Ivoire\", \"Croatia\", \"Cruise Ship\", \"Cuba\", \"Cyprus\", \"Denmark\", \"Dominican Republic\", \"Ecuador\", \"Egypt\", \"Estonia\", \"Finland\", \"France\", \"Georgia\", \"Germany\", \"Greece\", \"Guyana\", \"Honduras\", \"Hungary\", \"Iceland\", \"India\", \"Indonesia\", \"Iran\", \"Iraq\", \"Ireland\", \"Israel\", \"Italy\", \"Jamaica\", \"Japan\", \"Jordan\", \"Kuwait\", \"Latvia\", \"Lebanon\", \"Liechtenstein\", \"Lithuania\", \"Luxembourg\", \"Malaysia\", \"Maldives\", \"Malta\", \"Martinique\", \"Mexico\", \"Moldova\", \"Monaco\", \"Mongolia\", \"Morocco\", \"Nepal\", \"Netherlands\", \"New Zealand\", \"Nigeria\", \"North Macedonia\", \"Norway\", \"Oman\", \"Pakistan\", \"Panama\", \"Paraguay\", \"Peru\", \"Philippines\", \"Poland\", \"Portugal\", \"Qatar\", \"Romania\", \"Russia\", \"San Marino\", \"Saudi Arabia\", \"Senegal\", \"Serbia\", \"Singapore\", \"Slovakia\", \"Slovenia\", \"South Africa\", \"Spain\", \"Sri Lanka\", \"Sweden\", \"Switzerland\", \"Thailand\", \"Togo\", \"Tunisia\", \"Turkey\", \"US\", \"Ukraine\", \"United Arab Emirates\", \"Vietnam\"], \"marker\": {\"color\": \"#636efa\", \"size\": [1, 0, 17, 1, 8, 1, 63, 79, 9, 85, 0, 6, 169, 1, 0, 3, 13, 0, 0, 0, 1, 1, 54, 4, 80770, 1, 0, 1, 0, 12, 696, 0, 0, 24, 2, 13, 15, 10, 15, 957, 4, 799, 46, 0, 0, 4, 50, 34, 4, 5823, 54, 18, 43, 5883, 0, 461, 1, 61, 1, 22, 1, 1, 2, 93, 0, 3, 2, 6, 0, 1, 0, 2, 1, 188, 5, 1, 3, 147, 16, 6, 0, 0, 1, 6, 5, 20, 8, 9, 13, 23, 5, 4, 1, 138, 1, 7, 1, 500, 1, 161, 268, 50, 1, 1, 0, 402, 1, 45, 18], \"sizemode\": \"area\", \"sizeref\": 202.89}, \"name\": \"\", \"showlegend\": false, \"type\": \"scattergeo\"}], \"name\": \"2020-03-07 00:00:00\"}, {\"data\": [{\"customdata\": [[4], [0], [19], [1], [12], [1], [76], [104], [9], [85], [3], [6], [200], [1], [0], [3], [20], [0], [4], [0], [2], [2], [64], [8], [80823], [1], [0], [5], [0], [12], [696], [0], [0], [37], [5], [14], [49], [10], [23], [1134], [13], [1040], [73], [0], [0], [7], [50], [39], [6], [6566], [60], [19], [61], [7375], [0], [502], [1], [64], [2], [32], [1], [1], [3], [99], [4], [3], [2], [7], [1], [1], [0], [2], [1], [265], [5], [1], [3], [176], [16], [6], [0], [1], [6], [10], [11], [30], [15], [15], [17], [36], [11], [4], [1], [150], [3], [16], [3], [673], [1], [203], [337], [50], [1], [2], [0], [518], [1], [45], [30]], \"geo\": \"geo\", \"hoverlabel\": {\"namelength\": 0}, \"hovertemplate\": \"Date=2020-03-08 00:00:00<br>Confirmed=%{customdata[0]}<br>Country/Region=%{location}\", \"legendgroup\": \"\", \"locationmode\": \"country names\", \"locations\": [\"Afghanistan\", \"Albania\", \"Algeria\", \"Andorra\", \"Argentina\", \"Armenia\", \"Australia\", \"Austria\", \"Azerbaijan\", \"Bahrain\", \"Bangladesh\", \"Belarus\", \"Belgium\", \"Bhutan\", \"Bolivia\", \"Bosnia and Herzegovina\", \"Brazil\", \"Brunei\", \"Bulgaria\", \"Burkina Faso\", \"Cambodia\", \"Cameroon\", \"Canada\", \"Chile\", \"China\", \"Colombia\", \"Congo (Kinshasa)\", \"Costa Rica\", \"Cote d'Ivoire\", \"Croatia\", \"Cruise Ship\", \"Cuba\", \"Cyprus\", \"Denmark\", \"Dominican Republic\", \"Ecuador\", \"Egypt\", \"Estonia\", \"Finland\", \"France\", \"Georgia\", \"Germany\", \"Greece\", \"Guyana\", \"Honduras\", \"Hungary\", \"Iceland\", \"India\", \"Indonesia\", \"Iran\", \"Iraq\", \"Ireland\", \"Israel\", \"Italy\", \"Jamaica\", \"Japan\", \"Jordan\", \"Kuwait\", \"Latvia\", \"Lebanon\", \"Liechtenstein\", \"Lithuania\", \"Luxembourg\", \"Malaysia\", \"Maldives\", \"Malta\", \"Martinique\", \"Mexico\", \"Moldova\", \"Monaco\", \"Mongolia\", \"Morocco\", \"Nepal\", \"Netherlands\", \"New Zealand\", \"Nigeria\", \"North Macedonia\", \"Norway\", \"Oman\", \"Pakistan\", \"Panama\", \"Paraguay\", \"Peru\", \"Philippines\", \"Poland\", \"Portugal\", \"Qatar\", \"Romania\", \"Russia\", \"San Marino\", \"Saudi Arabia\", \"Senegal\", \"Serbia\", \"Singapore\", \"Slovakia\", \"Slovenia\", \"South Africa\", \"Spain\", \"Sri Lanka\", \"Sweden\", \"Switzerland\", \"Thailand\", \"Togo\", \"Tunisia\", \"Turkey\", \"US\", \"Ukraine\", \"United Arab Emirates\", \"Vietnam\"], \"marker\": {\"color\": \"#636efa\", \"size\": [4, 0, 19, 1, 12, 1, 76, 104, 9, 85, 3, 6, 200, 1, 0, 3, 20, 0, 4, 0, 2, 2, 64, 8, 80823, 1, 0, 5, 0, 12, 696, 0, 0, 37, 5, 14, 49, 10, 23, 1134, 13, 1040, 73, 0, 0, 7, 50, 39, 6, 6566, 60, 19, 61, 7375, 0, 502, 1, 64, 2, 32, 1, 1, 3, 99, 4, 3, 2, 7, 1, 1, 0, 2, 1, 265, 5, 1, 3, 176, 16, 6, 0, 1, 6, 10, 11, 30, 15, 15, 17, 36, 11, 4, 1, 150, 3, 16, 3, 673, 1, 203, 337, 50, 1, 2, 0, 518, 1, 45, 30], \"sizemode\": \"area\", \"sizeref\": 202.89}, \"name\": \"\", \"showlegend\": false, \"type\": \"scattergeo\"}], \"name\": \"2020-03-08 00:00:00\"}, {\"data\": [{\"customdata\": [[4], [2], [20], [1], [12], [1], [91], [131], [9], [95], [3], [6], [239], [1], [0], [3], [25], [1], [4], [0], [2], [2], [77], [8], [80860], [1], [0], [9], [0], [12], [696], [0], [2], [92], [5], [15], [55], [10], [30], [1217], [15], [1176], [73], [0], [0], [9], [58], [43], [19], [7161], [60], [21], [61], [9172], [0], [511], [1], [64], [6], [32], [1], [1], [3], [117], [4], [3], [2], [7], [1], [1], [0], [2], [1], [321], [5], [2], [3], [205], [16], [6], [0], [1], [7], [20], [16], [30], [18], [15], [17], [36], [15], [4], [1], [150], [3], [16], [3], [1073], [1], [248], [374], [50], [1], [2], [0], [583], [1], [45], [30]], \"geo\": \"geo\", \"hoverlabel\": {\"namelength\": 0}, \"hovertemplate\": \"Date=2020-03-09 00:00:00<br>Confirmed=%{customdata[0]}<br>Country/Region=%{location}\", \"legendgroup\": \"\", \"locationmode\": \"country names\", \"locations\": [\"Afghanistan\", \"Albania\", \"Algeria\", \"Andorra\", \"Argentina\", \"Armenia\", \"Australia\", \"Austria\", \"Azerbaijan\", \"Bahrain\", \"Bangladesh\", \"Belarus\", \"Belgium\", \"Bhutan\", \"Bolivia\", \"Bosnia and Herzegovina\", \"Brazil\", \"Brunei\", \"Bulgaria\", \"Burkina Faso\", \"Cambodia\", \"Cameroon\", \"Canada\", \"Chile\", \"China\", \"Colombia\", \"Congo (Kinshasa)\", \"Costa Rica\", \"Cote d'Ivoire\", \"Croatia\", \"Cruise Ship\", \"Cuba\", \"Cyprus\", \"Denmark\", \"Dominican Republic\", \"Ecuador\", \"Egypt\", \"Estonia\", \"Finland\", \"France\", \"Georgia\", \"Germany\", \"Greece\", \"Guyana\", \"Honduras\", \"Hungary\", \"Iceland\", \"India\", \"Indonesia\", \"Iran\", \"Iraq\", \"Ireland\", \"Israel\", \"Italy\", \"Jamaica\", \"Japan\", \"Jordan\", \"Kuwait\", \"Latvia\", \"Lebanon\", \"Liechtenstein\", \"Lithuania\", \"Luxembourg\", \"Malaysia\", \"Maldives\", \"Malta\", \"Martinique\", \"Mexico\", \"Moldova\", \"Monaco\", \"Mongolia\", \"Morocco\", \"Nepal\", \"Netherlands\", \"New Zealand\", \"Nigeria\", \"North Macedonia\", \"Norway\", \"Oman\", \"Pakistan\", \"Panama\", \"Paraguay\", \"Peru\", \"Philippines\", \"Poland\", \"Portugal\", \"Qatar\", \"Romania\", \"Russia\", \"San Marino\", \"Saudi Arabia\", \"Senegal\", \"Serbia\", \"Singapore\", \"Slovakia\", \"Slovenia\", \"South Africa\", \"Spain\", \"Sri Lanka\", \"Sweden\", \"Switzerland\", \"Thailand\", \"Togo\", \"Tunisia\", \"Turkey\", \"US\", \"Ukraine\", \"United Arab Emirates\", \"Vietnam\"], \"marker\": {\"color\": \"#636efa\", \"size\": [4, 2, 20, 1, 12, 1, 91, 131, 9, 95, 3, 6, 239, 1, 0, 3, 25, 1, 4, 0, 2, 2, 77, 8, 80860, 1, 0, 9, 0, 12, 696, 0, 2, 92, 5, 15, 55, 10, 30, 1217, 15, 1176, 73, 0, 0, 9, 58, 43, 19, 7161, 60, 21, 61, 9172, 0, 511, 1, 64, 6, 32, 1, 1, 3, 117, 4, 3, 2, 7, 1, 1, 0, 2, 1, 321, 5, 2, 3, 205, 16, 6, 0, 1, 7, 20, 16, 30, 18, 15, 17, 36, 15, 4, 1, 150, 3, 16, 3, 1073, 1, 248, 374, 50, 1, 2, 0, 583, 1, 45, 30], \"sizemode\": \"area\", \"sizeref\": 202.89}, \"name\": \"\", \"showlegend\": false, \"type\": \"scattergeo\"}], \"name\": \"2020-03-09 00:00:00\"}, {\"data\": [{\"customdata\": [[5], [10], [20], [1], [17], [1], [107], [182], [11], [110], [3], [9], [267], [1], [0], [5], [31], [1], [4], [1], [2], [2], [79], [13], [80887], [3], [0], [9], [0], [14], [696], [0], [3], [264], [5], [15], [59], [12], [40], [1792], [15], [1457], [89], [0], [0], [9], [69], [56], [27], [8042], [71], [34], [83], [10149], [0], [581], [1], [69], [8], [41], [1], [1], [5], [129], [6], [5], [2], [7], [3], [1], [1], [3], [1], [382], [5], [2], [7], [400], [18], [16], [1], [1], [11], [33], [22], [41], [24], [25], [20], [51], [20], [4], [5], [160], [7], [31], [7], [1695], [1], [355], [491], [53], [1], [5], [0], [959], [1], [74], [31]], \"geo\": \"geo\", \"hoverlabel\": {\"namelength\": 0}, \"hovertemplate\": \"Date=2020-03-10 00:00:00<br>Confirmed=%{customdata[0]}<br>Country/Region=%{location}\", \"legendgroup\": \"\", \"locationmode\": \"country names\", \"locations\": [\"Afghanistan\", \"Albania\", \"Algeria\", \"Andorra\", \"Argentina\", \"Armenia\", \"Australia\", \"Austria\", \"Azerbaijan\", \"Bahrain\", \"Bangladesh\", \"Belarus\", \"Belgium\", \"Bhutan\", \"Bolivia\", \"Bosnia and Herzegovina\", \"Brazil\", \"Brunei\", \"Bulgaria\", \"Burkina Faso\", \"Cambodia\", \"Cameroon\", \"Canada\", \"Chile\", \"China\", \"Colombia\", \"Congo (Kinshasa)\", \"Costa Rica\", \"Cote d'Ivoire\", \"Croatia\", \"Cruise Ship\", \"Cuba\", \"Cyprus\", \"Denmark\", \"Dominican Republic\", \"Ecuador\", \"Egypt\", \"Estonia\", \"Finland\", \"France\", \"Georgia\", \"Germany\", \"Greece\", \"Guyana\", \"Honduras\", \"Hungary\", \"Iceland\", \"India\", \"Indonesia\", \"Iran\", \"Iraq\", \"Ireland\", \"Israel\", \"Italy\", \"Jamaica\", \"Japan\", \"Jordan\", \"Kuwait\", \"Latvia\", \"Lebanon\", \"Liechtenstein\", \"Lithuania\", \"Luxembourg\", \"Malaysia\", \"Maldives\", \"Malta\", \"Martinique\", \"Mexico\", \"Moldova\", \"Monaco\", \"Mongolia\", \"Morocco\", \"Nepal\", \"Netherlands\", \"New Zealand\", \"Nigeria\", \"North Macedonia\", \"Norway\", \"Oman\", \"Pakistan\", \"Panama\", \"Paraguay\", \"Peru\", \"Philippines\", \"Poland\", \"Portugal\", \"Qatar\", \"Romania\", \"Russia\", \"San Marino\", \"Saudi Arabia\", \"Senegal\", \"Serbia\", \"Singapore\", \"Slovakia\", \"Slovenia\", \"South Africa\", \"Spain\", \"Sri Lanka\", \"Sweden\", \"Switzerland\", \"Thailand\", \"Togo\", \"Tunisia\", \"Turkey\", \"US\", \"Ukraine\", \"United Arab Emirates\", \"Vietnam\"], \"marker\": {\"color\": \"#636efa\", \"size\": [5, 10, 20, 1, 17, 1, 107, 182, 11, 110, 3, 9, 267, 1, 0, 5, 31, 1, 4, 1, 2, 2, 79, 13, 80887, 3, 0, 9, 0, 14, 696, 0, 3, 264, 5, 15, 59, 12, 40, 1792, 15, 1457, 89, 0, 0, 9, 69, 56, 27, 8042, 71, 34, 83, 10149, 0, 581, 1, 69, 8, 41, 1, 1, 5, 129, 6, 5, 2, 7, 3, 1, 1, 3, 1, 382, 5, 2, 7, 400, 18, 16, 1, 1, 11, 33, 22, 41, 24, 25, 20, 51, 20, 4, 5, 160, 7, 31, 7, 1695, 1, 355, 491, 53, 1, 5, 0, 959, 1, 74, 31], \"sizemode\": \"area\", \"sizeref\": 202.89}, \"name\": \"\", \"showlegend\": false, \"type\": \"scattergeo\"}], \"name\": \"2020-03-10 00:00:00\"}, {\"data\": [{\"customdata\": [[7], [12], [20], [1], [19], [1], [128], [246], [11], [195], [3], [9], [314], [1], [2], [7], [38], [11], [7], [2], [3], [2], [108], [23], [80921], [9], [1], [13], [1], [19], [696], [0], [6], [444], [5], [17], [60], [16], [59], [2290], [24], [1908], [99], [0], [2], [13], [85], [62], [34], [9000], [71], [43], [109], [12462], [1], [639], [1], [72], [10], [61], [1], [3], [7], [149], [8], [6], [3], [8], [3], [1], [1], [5], [1], [503], [5], [2], [7], [598], [18], [19], [8], [5], [11], [49], [31], [59], [262], [45], [20], [62], [21], [4], [12], [178], [10], [57], [13], [2277], [2], [500], [652], [59], [1], [7], [1], [1281], [1], [74], [38]], \"geo\": \"geo\", \"hoverlabel\": {\"namelength\": 0}, \"hovertemplate\": \"Date=2020-03-11 00:00:00<br>Confirmed=%{customdata[0]}<br>Country/Region=%{location}\", \"legendgroup\": \"\", \"locationmode\": \"country names\", \"locations\": [\"Afghanistan\", \"Albania\", \"Algeria\", \"Andorra\", \"Argentina\", \"Armenia\", \"Australia\", \"Austria\", \"Azerbaijan\", \"Bahrain\", \"Bangladesh\", \"Belarus\", \"Belgium\", \"Bhutan\", \"Bolivia\", \"Bosnia and Herzegovina\", \"Brazil\", \"Brunei\", \"Bulgaria\", \"Burkina Faso\", \"Cambodia\", \"Cameroon\", \"Canada\", \"Chile\", \"China\", \"Colombia\", \"Congo (Kinshasa)\", \"Costa Rica\", \"Cote d'Ivoire\", \"Croatia\", \"Cruise Ship\", \"Cuba\", \"Cyprus\", \"Denmark\", \"Dominican Republic\", \"Ecuador\", \"Egypt\", \"Estonia\", \"Finland\", \"France\", \"Georgia\", \"Germany\", \"Greece\", \"Guyana\", \"Honduras\", \"Hungary\", \"Iceland\", \"India\", \"Indonesia\", \"Iran\", \"Iraq\", \"Ireland\", \"Israel\", \"Italy\", \"Jamaica\", \"Japan\", \"Jordan\", \"Kuwait\", \"Latvia\", \"Lebanon\", \"Liechtenstein\", \"Lithuania\", \"Luxembourg\", \"Malaysia\", \"Maldives\", \"Malta\", \"Martinique\", \"Mexico\", \"Moldova\", \"Monaco\", \"Mongolia\", \"Morocco\", \"Nepal\", \"Netherlands\", \"New Zealand\", \"Nigeria\", \"North Macedonia\", \"Norway\", \"Oman\", \"Pakistan\", \"Panama\", \"Paraguay\", \"Peru\", \"Philippines\", \"Poland\", \"Portugal\", \"Qatar\", \"Romania\", \"Russia\", \"San Marino\", \"Saudi Arabia\", \"Senegal\", \"Serbia\", \"Singapore\", \"Slovakia\", \"Slovenia\", \"South Africa\", \"Spain\", \"Sri Lanka\", \"Sweden\", \"Switzerland\", \"Thailand\", \"Togo\", \"Tunisia\", \"Turkey\", \"US\", \"Ukraine\", \"United Arab Emirates\", \"Vietnam\"], \"marker\": {\"color\": \"#636efa\", \"size\": [7, 12, 20, 1, 19, 1, 128, 246, 11, 195, 3, 9, 314, 1, 2, 7, 38, 11, 7, 2, 3, 2, 108, 23, 80921, 9, 1, 13, 1, 19, 696, 0, 6, 444, 5, 17, 60, 16, 59, 2290, 24, 1908, 99, 0, 2, 13, 85, 62, 34, 9000, 71, 43, 109, 12462, 1, 639, 1, 72, 10, 61, 1, 3, 7, 149, 8, 6, 3, 8, 3, 1, 1, 5, 1, 503, 5, 2, 7, 598, 18, 19, 8, 5, 11, 49, 31, 59, 262, 45, 20, 62, 21, 4, 12, 178, 10, 57, 13, 2277, 2, 500, 652, 59, 1, 7, 1, 1281, 1, 74, 38], \"sizemode\": \"area\", \"sizeref\": 202.89}, \"name\": \"\", \"showlegend\": false, \"type\": \"scattergeo\"}], \"name\": \"2020-03-11 00:00:00\"}, {\"data\": [{\"customdata\": [[7], [23], [24], [1], [19], [4], [128], [302], [11], [195], [3], [12], [314], [1], [2], [11], [52], [11], [7], [2], [3], [2], [117], [23], [80932], [9], [1], [22], [1], [19], [696], [3], [6], [617], [5], [17], [67], [16], [59], [2290], [24], [2078], [99], [1], [2], [13], [103], [73], [34], [10075], [71], [43], [131], [12462], [2], [639], [1], [80], [10], [61], [1], [3], [19], [149], [8], [6], [3], [12], [3], [2], [1], [6], [1], [503], [5], [2], [7], [702], [18], [20], [11], [5], [15], [52], [49], [59], [262], [49], [28], [69], [45], [4], [19], [178], [16], [89], [17], [2277], [2], [599], [652], [70], [1], [7], [1], [1663], [1], [85], [39]], \"geo\": \"geo\", \"hoverlabel\": {\"namelength\": 0}, \"hovertemplate\": \"Date=2020-03-12 00:00:00<br>Confirmed=%{customdata[0]}<br>Country/Region=%{location}\", \"legendgroup\": \"\", \"locationmode\": \"country names\", \"locations\": [\"Afghanistan\", \"Albania\", \"Algeria\", \"Andorra\", \"Argentina\", \"Armenia\", \"Australia\", \"Austria\", \"Azerbaijan\", \"Bahrain\", \"Bangladesh\", \"Belarus\", \"Belgium\", \"Bhutan\", \"Bolivia\", \"Bosnia and Herzegovina\", \"Brazil\", \"Brunei\", \"Bulgaria\", \"Burkina Faso\", \"Cambodia\", \"Cameroon\", \"Canada\", \"Chile\", \"China\", \"Colombia\", \"Congo (Kinshasa)\", \"Costa Rica\", \"Cote d'Ivoire\", \"Croatia\", \"Cruise Ship\", \"Cuba\", \"Cyprus\", \"Denmark\", \"Dominican Republic\", \"Ecuador\", \"Egypt\", \"Estonia\", \"Finland\", \"France\", \"Georgia\", \"Germany\", \"Greece\", \"Guyana\", \"Honduras\", \"Hungary\", \"Iceland\", \"India\", \"Indonesia\", \"Iran\", \"Iraq\", \"Ireland\", \"Israel\", \"Italy\", \"Jamaica\", \"Japan\", \"Jordan\", \"Kuwait\", \"Latvia\", \"Lebanon\", \"Liechtenstein\", \"Lithuania\", \"Luxembourg\", \"Malaysia\", \"Maldives\", \"Malta\", \"Martinique\", \"Mexico\", \"Moldova\", \"Monaco\", \"Mongolia\", \"Morocco\", \"Nepal\", \"Netherlands\", \"New Zealand\", \"Nigeria\", \"North Macedonia\", \"Norway\", \"Oman\", \"Pakistan\", \"Panama\", \"Paraguay\", \"Peru\", \"Philippines\", \"Poland\", \"Portugal\", \"Qatar\", \"Romania\", \"Russia\", \"San Marino\", \"Saudi Arabia\", \"Senegal\", \"Serbia\", \"Singapore\", \"Slovakia\", \"Slovenia\", \"South Africa\", \"Spain\", \"Sri Lanka\", \"Sweden\", \"Switzerland\", \"Thailand\", \"Togo\", \"Tunisia\", \"Turkey\", \"US\", \"Ukraine\", \"United Arab Emirates\", \"Vietnam\"], \"marker\": {\"color\": \"#636efa\", \"size\": [7, 23, 24, 1, 19, 4, 128, 302, 11, 195, 3, 12, 314, 1, 2, 11, 52, 11, 7, 2, 3, 2, 117, 23, 80932, 9, 1, 22, 1, 19, 696, 3, 6, 617, 5, 17, 67, 16, 59, 2290, 24, 2078, 99, 1, 2, 13, 103, 73, 34, 10075, 71, 43, 131, 12462, 2, 639, 1, 80, 10, 61, 1, 3, 19, 149, 8, 6, 3, 12, 3, 2, 1, 6, 1, 503, 5, 2, 7, 702, 18, 20, 11, 5, 15, 52, 49, 59, 262, 49, 28, 69, 45, 4, 19, 178, 16, 89, 17, 2277, 2, 599, 652, 70, 1, 7, 1, 1663, 1, 85, 39], \"sizemode\": \"area\", \"sizeref\": 202.89}, \"name\": \"\", \"showlegend\": false, \"type\": \"scattergeo\"}], \"name\": \"2020-03-12 00:00:00\"}, {\"data\": [{\"customdata\": [[7], [33], [26], [1], [31], [8], [200], [504], [15], [189], [3], [27], [559], [1], [3], [13], [151], [37], [23], [2], [5], [2], [193], [43], [80945], [13], [2], [23], [1], [32], [696], [4], [14], [804], [5], [17], [80], [79], [155], [3678], [25], [3675], [190], [1], [2], [19], [134], [82], [69], [11364], [101], [90], [161], [17660], [8], [701], [1], [80], [17], [77], [1], [6], [34], [197], [9], [12], [3], [12], [6], [2], [1], [7], [1], [806], [5], [2], [14], [996], [19], [28], [27], [6], [28], [64], [68], [112], [320], [89], [45], [80], [86], [10], [35], [200], [32], [141], [24], [5232], [6], [814], [1139], [75], [1], [16], [5], [2179], [3], [85], [47]], \"geo\": \"geo\", \"hoverlabel\": {\"namelength\": 0}, \"hovertemplate\": \"Date=2020-03-13 00:00:00<br>Confirmed=%{customdata[0]}<br>Country/Region=%{location}\", \"legendgroup\": \"\", \"locationmode\": \"country names\", \"locations\": [\"Afghanistan\", \"Albania\", \"Algeria\", \"Andorra\", \"Argentina\", \"Armenia\", \"Australia\", \"Austria\", \"Azerbaijan\", \"Bahrain\", \"Bangladesh\", \"Belarus\", \"Belgium\", \"Bhutan\", \"Bolivia\", \"Bosnia and Herzegovina\", \"Brazil\", \"Brunei\", \"Bulgaria\", \"Burkina Faso\", \"Cambodia\", \"Cameroon\", \"Canada\", \"Chile\", \"China\", \"Colombia\", \"Congo (Kinshasa)\", \"Costa Rica\", \"Cote d'Ivoire\", \"Croatia\", \"Cruise Ship\", \"Cuba\", \"Cyprus\", \"Denmark\", \"Dominican Republic\", \"Ecuador\", \"Egypt\", \"Estonia\", \"Finland\", \"France\", \"Georgia\", \"Germany\", \"Greece\", \"Guyana\", \"Honduras\", \"Hungary\", \"Iceland\", \"India\", \"Indonesia\", \"Iran\", \"Iraq\", \"Ireland\", \"Israel\", \"Italy\", \"Jamaica\", \"Japan\", \"Jordan\", \"Kuwait\", \"Latvia\", \"Lebanon\", \"Liechtenstein\", \"Lithuania\", \"Luxembourg\", \"Malaysia\", \"Maldives\", \"Malta\", \"Martinique\", \"Mexico\", \"Moldova\", \"Monaco\", \"Mongolia\", \"Morocco\", \"Nepal\", \"Netherlands\", \"New Zealand\", \"Nigeria\", \"North Macedonia\", \"Norway\", \"Oman\", \"Pakistan\", \"Panama\", \"Paraguay\", \"Peru\", \"Philippines\", \"Poland\", \"Portugal\", \"Qatar\", \"Romania\", \"Russia\", \"San Marino\", \"Saudi Arabia\", \"Senegal\", \"Serbia\", \"Singapore\", \"Slovakia\", \"Slovenia\", \"South Africa\", \"Spain\", \"Sri Lanka\", \"Sweden\", \"Switzerland\", \"Thailand\", \"Togo\", \"Tunisia\", \"Turkey\", \"US\", \"Ukraine\", \"United Arab Emirates\", \"Vietnam\"], \"marker\": {\"color\": \"#636efa\", \"size\": [7, 33, 26, 1, 31, 8, 200, 504, 15, 189, 3, 27, 559, 1, 3, 13, 151, 37, 23, 2, 5, 2, 193, 43, 80945, 13, 2, 23, 1, 32, 696, 4, 14, 804, 5, 17, 80, 79, 155, 3678, 25, 3675, 190, 1, 2, 19, 134, 82, 69, 11364, 101, 90, 161, 17660, 8, 701, 1, 80, 17, 77, 1, 6, 34, 197, 9, 12, 3, 12, 6, 2, 1, 7, 1, 806, 5, 2, 14, 996, 19, 28, 27, 6, 28, 64, 68, 112, 320, 89, 45, 80, 86, 10, 35, 200, 32, 141, 24, 5232, 6, 814, 1139, 75, 1, 16, 5, 2179, 3, 85, 47], \"sizemode\": \"area\", \"sizeref\": 202.89}, \"name\": \"\", \"showlegend\": false, \"type\": \"scattergeo\"}], \"name\": \"2020-03-13 00:00:00\"}, {\"data\": [{\"customdata\": [[11], [38], [37], [1], [34], [18], [250], [655], [15], [210], [3], [27], [689], [1], [10], [18], [151], [40], [41], [2], [7], [2], [198], [61], [80977], [22], [2], [26], [1], [38], [696], [4], [26], [836], [11], [28], [109], [115], [225], [4487], [30], [4585], [228], [1], [2], [30], [156], [102], [96], [12729], [110], [129], [193], [21157], [8], [773], [1], [104], [26], [93], [4], [8], [51], [238], [10], [18], [9], [26], [12], [2], [1], [17], [1], [962], [6], [2], [14], [1090], [19], [31], [36], [6], [38], [111], [103], [169], [337], [123], [59], [80], [103], [10], [46], [212], [44], [181], [38], [6391], [10], [961], [1359], [82], [1], [18], [5], [2727], [3], [85], [53]], \"geo\": \"geo\", \"hoverlabel\": {\"namelength\": 0}, \"hovertemplate\": \"Date=2020-03-14 00:00:00<br>Confirmed=%{customdata[0]}<br>Country/Region=%{location}\", \"legendgroup\": \"\", \"locationmode\": \"country names\", \"locations\": [\"Afghanistan\", \"Albania\", \"Algeria\", \"Andorra\", \"Argentina\", \"Armenia\", \"Australia\", \"Austria\", \"Azerbaijan\", \"Bahrain\", \"Bangladesh\", \"Belarus\", \"Belgium\", \"Bhutan\", \"Bolivia\", \"Bosnia and Herzegovina\", \"Brazil\", \"Brunei\", \"Bulgaria\", \"Burkina Faso\", \"Cambodia\", \"Cameroon\", \"Canada\", \"Chile\", \"China\", \"Colombia\", \"Congo (Kinshasa)\", \"Costa Rica\", \"Cote d'Ivoire\", \"Croatia\", \"Cruise Ship\", \"Cuba\", \"Cyprus\", \"Denmark\", \"Dominican Republic\", \"Ecuador\", \"Egypt\", \"Estonia\", \"Finland\", \"France\", \"Georgia\", \"Germany\", \"Greece\", \"Guyana\", \"Honduras\", \"Hungary\", \"Iceland\", \"India\", \"Indonesia\", \"Iran\", \"Iraq\", \"Ireland\", \"Israel\", \"Italy\", \"Jamaica\", \"Japan\", \"Jordan\", \"Kuwait\", \"Latvia\", \"Lebanon\", \"Liechtenstein\", \"Lithuania\", \"Luxembourg\", \"Malaysia\", \"Maldives\", \"Malta\", \"Martinique\", \"Mexico\", \"Moldova\", \"Monaco\", \"Mongolia\", \"Morocco\", \"Nepal\", \"Netherlands\", \"New Zealand\", \"Nigeria\", \"North Macedonia\", \"Norway\", \"Oman\", \"Pakistan\", \"Panama\", \"Paraguay\", \"Peru\", \"Philippines\", \"Poland\", \"Portugal\", \"Qatar\", \"Romania\", \"Russia\", \"San Marino\", \"Saudi Arabia\", \"Senegal\", \"Serbia\", \"Singapore\", \"Slovakia\", \"Slovenia\", \"South Africa\", \"Spain\", \"Sri Lanka\", \"Sweden\", \"Switzerland\", \"Thailand\", \"Togo\", \"Tunisia\", \"Turkey\", \"US\", \"Ukraine\", \"United Arab Emirates\", \"Vietnam\"], \"marker\": {\"color\": \"#636efa\", \"size\": [11, 38, 37, 1, 34, 18, 250, 655, 15, 210, 3, 27, 689, 1, 10, 18, 151, 40, 41, 2, 7, 2, 198, 61, 80977, 22, 2, 26, 1, 38, 696, 4, 26, 836, 11, 28, 109, 115, 225, 4487, 30, 4585, 228, 1, 2, 30, 156, 102, 96, 12729, 110, 129, 193, 21157, 8, 773, 1, 104, 26, 93, 4, 8, 51, 238, 10, 18, 9, 26, 12, 2, 1, 17, 1, 962, 6, 2, 14, 1090, 19, 31, 36, 6, 38, 111, 103, 169, 337, 123, 59, 80, 103, 10, 46, 212, 44, 181, 38, 6391, 10, 961, 1359, 82, 1, 18, 5, 2727, 3, 85, 53], \"sizemode\": \"area\", \"sizeref\": 202.89}, \"name\": \"\", \"showlegend\": false, \"type\": \"scattergeo\"}], \"name\": \"2020-03-14 00:00:00\"}, {\"data\": [{\"customdata\": [[16], [42], [48], [1], [45], [26], [297], [860], [23], [214], [5], [27], [886], [1], [10], [24], [162], [50], [51], [3], [7], [2], [252], [74], [81003], [34], [2], [27], [1], [49], [696], [4], [26], [875], [11], [28], [110], [171], [244], [4523], [33], [5795], [331], [4], [3], [32], [171], [113], [117], [13938], [116], [129], [251], [24747], [10], [839], [8], [112], [30], [110], [4], [12], [59], [428], [13], [21], [9], [41], [23], [2], [1], [28], [1], [1138], [8], [2], [14], [1221], [22], [53], [43], [6], [43], [140], [119], [245], [401], [131], [63], [101], [103], [24], [48], [226], [54], [219], [51], [7798], [18], [1022], [2200], [114], [1], [18], [6], [3499], [3], [98], [56]], \"geo\": \"geo\", \"hoverlabel\": {\"namelength\": 0}, \"hovertemplate\": \"Date=2020-03-15 00:00:00<br>Confirmed=%{customdata[0]}<br>Country/Region=%{location}\", \"legendgroup\": \"\", \"locationmode\": \"country names\", \"locations\": [\"Afghanistan\", \"Albania\", \"Algeria\", \"Andorra\", \"Argentina\", \"Armenia\", \"Australia\", \"Austria\", \"Azerbaijan\", \"Bahrain\", \"Bangladesh\", \"Belarus\", \"Belgium\", \"Bhutan\", \"Bolivia\", \"Bosnia and Herzegovina\", \"Brazil\", \"Brunei\", \"Bulgaria\", \"Burkina Faso\", \"Cambodia\", \"Cameroon\", \"Canada\", \"Chile\", \"China\", \"Colombia\", \"Congo (Kinshasa)\", \"Costa Rica\", \"Cote d'Ivoire\", \"Croatia\", \"Cruise Ship\", \"Cuba\", \"Cyprus\", \"Denmark\", \"Dominican Republic\", \"Ecuador\", \"Egypt\", \"Estonia\", \"Finland\", \"France\", \"Georgia\", \"Germany\", \"Greece\", \"Guyana\", \"Honduras\", \"Hungary\", \"Iceland\", \"India\", \"Indonesia\", \"Iran\", \"Iraq\", \"Ireland\", \"Israel\", \"Italy\", \"Jamaica\", \"Japan\", \"Jordan\", \"Kuwait\", \"Latvia\", \"Lebanon\", \"Liechtenstein\", \"Lithuania\", \"Luxembourg\", \"Malaysia\", \"Maldives\", \"Malta\", \"Martinique\", \"Mexico\", \"Moldova\", \"Monaco\", \"Mongolia\", \"Morocco\", \"Nepal\", \"Netherlands\", \"New Zealand\", \"Nigeria\", \"North Macedonia\", \"Norway\", \"Oman\", \"Pakistan\", \"Panama\", \"Paraguay\", \"Peru\", \"Philippines\", \"Poland\", \"Portugal\", \"Qatar\", \"Romania\", \"Russia\", \"San Marino\", \"Saudi Arabia\", \"Senegal\", \"Serbia\", \"Singapore\", \"Slovakia\", \"Slovenia\", \"South Africa\", \"Spain\", \"Sri Lanka\", \"Sweden\", \"Switzerland\", \"Thailand\", \"Togo\", \"Tunisia\", \"Turkey\", \"US\", \"Ukraine\", \"United Arab Emirates\", \"Vietnam\"], \"marker\": {\"color\": \"#636efa\", \"size\": [16, 42, 48, 1, 45, 26, 297, 860, 23, 214, 5, 27, 886, 1, 10, 24, 162, 50, 51, 3, 7, 2, 252, 74, 81003, 34, 2, 27, 1, 49, 696, 4, 26, 875, 11, 28, 110, 171, 244, 4523, 33, 5795, 331, 4, 3, 32, 171, 113, 117, 13938, 116, 129, 251, 24747, 10, 839, 8, 112, 30, 110, 4, 12, 59, 428, 13, 21, 9, 41, 23, 2, 1, 28, 1, 1138, 8, 2, 14, 1221, 22, 53, 43, 6, 43, 140, 119, 245, 401, 131, 63, 101, 103, 24, 48, 226, 54, 219, 51, 7798, 18, 1022, 2200, 114, 1, 18, 6, 3499, 3, 98, 56], \"sizemode\": \"area\", \"sizeref\": 202.89}, \"name\": \"\", \"showlegend\": false, \"type\": \"scattergeo\"}], \"name\": \"2020-03-15 00:00:00\"}, {\"data\": [{\"customdata\": [[21], [51], [54], [2], [56], [52], [377], [1018], [15], [214], [8], [36], [1058], [1], [11], [25], [200], [54], [52], [15], [7], [4], [415], [155], [81033], [54], [2], [35], [1], [57], [696], [4], [33], [933], [11], [37], [150], [205], [277], [6668], [33], [7272], [331], [4], [6], [39], [180], [119], [134], [14991], [124], [169], [255], [27980], [10], [825], [17], [123], [34], [99], [4], [17], [77], [566], [13], [30], [15], [53], [23], [7], [1], [29], [1], [1416], [8], [2], [18], [1333], [22], [136], [55], [8], [86], [142], [177], [331], [439], [158], [90], [109], [118], [24], [55], [243], [63], [253], [62], [9942], [28], [1103], [2200], [147], [1], [20], [18], [4632], [7], [98], [61]], \"geo\": \"geo\", \"hoverlabel\": {\"namelength\": 0}, \"hovertemplate\": \"Date=2020-03-16 00:00:00<br>Confirmed=%{customdata[0]}<br>Country/Region=%{location}\", \"legendgroup\": \"\", \"locationmode\": \"country names\", \"locations\": [\"Afghanistan\", \"Albania\", \"Algeria\", \"Andorra\", \"Argentina\", \"Armenia\", \"Australia\", \"Austria\", \"Azerbaijan\", \"Bahrain\", \"Bangladesh\", \"Belarus\", \"Belgium\", \"Bhutan\", \"Bolivia\", \"Bosnia and Herzegovina\", \"Brazil\", \"Brunei\", \"Bulgaria\", \"Burkina Faso\", \"Cambodia\", \"Cameroon\", \"Canada\", \"Chile\", \"China\", \"Colombia\", \"Congo (Kinshasa)\", \"Costa Rica\", \"Cote d'Ivoire\", \"Croatia\", \"Cruise Ship\", \"Cuba\", \"Cyprus\", \"Denmark\", \"Dominican Republic\", \"Ecuador\", \"Egypt\", \"Estonia\", \"Finland\", \"France\", \"Georgia\", \"Germany\", \"Greece\", \"Guyana\", \"Honduras\", \"Hungary\", \"Iceland\", \"India\", \"Indonesia\", \"Iran\", \"Iraq\", \"Ireland\", \"Israel\", \"Italy\", \"Jamaica\", \"Japan\", \"Jordan\", \"Kuwait\", \"Latvia\", \"Lebanon\", \"Liechtenstein\", \"Lithuania\", \"Luxembourg\", \"Malaysia\", \"Maldives\", \"Malta\", \"Martinique\", \"Mexico\", \"Moldova\", \"Monaco\", \"Mongolia\", \"Morocco\", \"Nepal\", \"Netherlands\", \"New Zealand\", \"Nigeria\", \"North Macedonia\", \"Norway\", \"Oman\", \"Pakistan\", \"Panama\", \"Paraguay\", \"Peru\", \"Philippines\", \"Poland\", \"Portugal\", \"Qatar\", \"Romania\", \"Russia\", \"San Marino\", \"Saudi Arabia\", \"Senegal\", \"Serbia\", \"Singapore\", \"Slovakia\", \"Slovenia\", \"South Africa\", \"Spain\", \"Sri Lanka\", \"Sweden\", \"Switzerland\", \"Thailand\", \"Togo\", \"Tunisia\", \"Turkey\", \"US\", \"Ukraine\", \"United Arab Emirates\", \"Vietnam\"], \"marker\": {\"color\": \"#636efa\", \"size\": [21, 51, 54, 2, 56, 52, 377, 1018, 15, 214, 8, 36, 1058, 1, 11, 25, 200, 54, 52, 15, 7, 4, 415, 155, 81033, 54, 2, 35, 1, 57, 696, 4, 33, 933, 11, 37, 150, 205, 277, 6668, 33, 7272, 331, 4, 6, 39, 180, 119, 134, 14991, 124, 169, 255, 27980, 10, 825, 17, 123, 34, 99, 4, 17, 77, 566, 13, 30, 15, 53, 23, 7, 1, 29, 1, 1416, 8, 2, 18, 1333, 22, 136, 55, 8, 86, 142, 177, 331, 439, 158, 90, 109, 118, 24, 55, 243, 63, 253, 62, 9942, 28, 1103, 2200, 147, 1, 20, 18, 4632, 7, 98, 61], \"sizemode\": \"area\", \"sizeref\": 202.89}, \"name\": \"\", \"showlegend\": false, \"type\": \"scattergeo\"}], \"name\": \"2020-03-16 00:00:00\"}, {\"data\": [{\"customdata\": [[22], [55], [60], [39], [68], [78], [452], [1332], [28], [228], [10], [36], [1243], [1], [11], [26], [321], [56], [67], [15], [33], [10], [478], [201], [81058], [65], [3], [41], [5], [65], [696], [5], [46], [1025], [21], [58], [196], [225], [321], [7699], [34], [9257], [387], [7], [8], [50], [220], [142], [172], [16169], [154], [223], [337], [31506], [12], [878], [34], [130], [49], [120], [7], [25], [140], [673], [13], [38], [16], [82], [30], [7], [5], [38], [1], [1711], [12], [3], [26], [1463], [24], [236], [69], [9], [117], [187], [238], [448], [439], [184], [114], [109], [171], [26], [65], [266], [72], [275], [62], [11748], [44], [1190], [2700], [177], [1], [24], [47], [6421], [14], [98], [66]], \"geo\": \"geo\", \"hoverlabel\": {\"namelength\": 0}, \"hovertemplate\": \"Date=2020-03-17 00:00:00<br>Confirmed=%{customdata[0]}<br>Country/Region=%{location}\", \"legendgroup\": \"\", \"locationmode\": \"country names\", \"locations\": [\"Afghanistan\", \"Albania\", \"Algeria\", \"Andorra\", \"Argentina\", \"Armenia\", \"Australia\", \"Austria\", \"Azerbaijan\", \"Bahrain\", \"Bangladesh\", \"Belarus\", \"Belgium\", \"Bhutan\", \"Bolivia\", \"Bosnia and Herzegovina\", \"Brazil\", \"Brunei\", \"Bulgaria\", \"Burkina Faso\", \"Cambodia\", \"Cameroon\", \"Canada\", \"Chile\", \"China\", \"Colombia\", \"Congo (Kinshasa)\", \"Costa Rica\", \"Cote d'Ivoire\", \"Croatia\", \"Cruise Ship\", \"Cuba\", \"Cyprus\", \"Denmark\", \"Dominican Republic\", \"Ecuador\", \"Egypt\", \"Estonia\", \"Finland\", \"France\", \"Georgia\", \"Germany\", \"Greece\", \"Guyana\", \"Honduras\", \"Hungary\", \"Iceland\", \"India\", \"Indonesia\", \"Iran\", \"Iraq\", \"Ireland\", \"Israel\", \"Italy\", \"Jamaica\", \"Japan\", \"Jordan\", \"Kuwait\", \"Latvia\", \"Lebanon\", \"Liechtenstein\", \"Lithuania\", \"Luxembourg\", \"Malaysia\", \"Maldives\", \"Malta\", \"Martinique\", \"Mexico\", \"Moldova\", \"Monaco\", \"Mongolia\", \"Morocco\", \"Nepal\", \"Netherlands\", \"New Zealand\", \"Nigeria\", \"North Macedonia\", \"Norway\", \"Oman\", \"Pakistan\", \"Panama\", \"Paraguay\", \"Peru\", \"Philippines\", \"Poland\", \"Portugal\", \"Qatar\", \"Romania\", \"Russia\", \"San Marino\", \"Saudi Arabia\", \"Senegal\", \"Serbia\", \"Singapore\", \"Slovakia\", \"Slovenia\", \"South Africa\", \"Spain\", \"Sri Lanka\", \"Sweden\", \"Switzerland\", \"Thailand\", \"Togo\", \"Tunisia\", \"Turkey\", \"US\", \"Ukraine\", \"United Arab Emirates\", \"Vietnam\"], \"marker\": {\"color\": \"#636efa\", \"size\": [22, 55, 60, 39, 68, 78, 452, 1332, 28, 228, 10, 36, 1243, 1, 11, 26, 321, 56, 67, 15, 33, 10, 478, 201, 81058, 65, 3, 41, 5, 65, 696, 5, 46, 1025, 21, 58, 196, 225, 321, 7699, 34, 9257, 387, 7, 8, 50, 220, 142, 172, 16169, 154, 223, 337, 31506, 12, 878, 34, 130, 49, 120, 7, 25, 140, 673, 13, 38, 16, 82, 30, 7, 5, 38, 1, 1711, 12, 3, 26, 1463, 24, 236, 69, 9, 117, 187, 238, 448, 439, 184, 114, 109, 171, 26, 65, 266, 72, 275, 62, 11748, 44, 1190, 2700, 177, 1, 24, 47, 6421, 14, 98, 66], \"sizemode\": \"area\", \"sizeref\": 202.89}, \"name\": \"\", \"showlegend\": false, \"type\": \"scattergeo\"}], \"name\": \"2020-03-17 00:00:00\"}, {\"data\": [{\"customdata\": [[22], [59], [74], [39], [79], [84], [568], [1646], [28], [256], [14], [51], [1486], [1], [12], [38], [372], [68], [92], [20], [35], [10], [657], [238], [81102], [93], [4], [50], [6], [81], [712], [7], [49], [1116], [21], [111], [196], [258], [336], [9105], [38], [12327], [418], [7], [9], [58], [250], [156], [227], [17361], [164], [292], [433], [35713], [13], [889], [52], [142], [71], [133], [28], [27], [203], [790], [13], [38], [19], [93], [30], [7], [6], [49], [1], [2058], [20], [8], [35], [1550], [39], [299], [86], [11], [145], [202], [251], [448], [452], [260], [147], [119], [171], [31], [83], [313], [105], [275], [116], [13910], [51], [1279], [3028], [212], [1], [29], [98], [7783], [14], [113], [75]], \"geo\": \"geo\", \"hoverlabel\": {\"namelength\": 0}, \"hovertemplate\": \"Date=2020-03-18 00:00:00<br>Confirmed=%{customdata[0]}<br>Country/Region=%{location}\", \"legendgroup\": \"\", \"locationmode\": \"country names\", \"locations\": [\"Afghanistan\", \"Albania\", \"Algeria\", \"Andorra\", \"Argentina\", \"Armenia\", \"Australia\", \"Austria\", \"Azerbaijan\", \"Bahrain\", \"Bangladesh\", \"Belarus\", \"Belgium\", \"Bhutan\", \"Bolivia\", \"Bosnia and Herzegovina\", \"Brazil\", \"Brunei\", \"Bulgaria\", \"Burkina Faso\", \"Cambodia\", \"Cameroon\", \"Canada\", \"Chile\", \"China\", \"Colombia\", \"Congo (Kinshasa)\", \"Costa Rica\", \"Cote d'Ivoire\", \"Croatia\", \"Cruise Ship\", \"Cuba\", \"Cyprus\", \"Denmark\", \"Dominican Republic\", \"Ecuador\", \"Egypt\", \"Estonia\", \"Finland\", \"France\", \"Georgia\", \"Germany\", \"Greece\", \"Guyana\", \"Honduras\", \"Hungary\", \"Iceland\", \"India\", \"Indonesia\", \"Iran\", \"Iraq\", \"Ireland\", \"Israel\", \"Italy\", \"Jamaica\", \"Japan\", \"Jordan\", \"Kuwait\", \"Latvia\", \"Lebanon\", \"Liechtenstein\", \"Lithuania\", \"Luxembourg\", \"Malaysia\", \"Maldives\", \"Malta\", \"Martinique\", \"Mexico\", \"Moldova\", \"Monaco\", \"Mongolia\", \"Morocco\", \"Nepal\", \"Netherlands\", \"New Zealand\", \"Nigeria\", \"North Macedonia\", \"Norway\", \"Oman\", \"Pakistan\", \"Panama\", \"Paraguay\", \"Peru\", \"Philippines\", \"Poland\", \"Portugal\", \"Qatar\", \"Romania\", \"Russia\", \"San Marino\", \"Saudi Arabia\", \"Senegal\", \"Serbia\", \"Singapore\", \"Slovakia\", \"Slovenia\", \"South Africa\", \"Spain\", \"Sri Lanka\", \"Sweden\", \"Switzerland\", \"Thailand\", \"Togo\", \"Tunisia\", \"Turkey\", \"US\", \"Ukraine\", \"United Arab Emirates\", \"Vietnam\"], \"marker\": {\"color\": \"#636efa\", \"size\": [22, 59, 74, 39, 79, 84, 568, 1646, 28, 256, 14, 51, 1486, 1, 12, 38, 372, 68, 92, 20, 35, 10, 657, 238, 81102, 93, 4, 50, 6, 81, 712, 7, 49, 1116, 21, 111, 196, 258, 336, 9105, 38, 12327, 418, 7, 9, 58, 250, 156, 227, 17361, 164, 292, 433, 35713, 13, 889, 52, 142, 71, 133, 28, 27, 203, 790, 13, 38, 19, 93, 30, 7, 6, 49, 1, 2058, 20, 8, 35, 1550, 39, 299, 86, 11, 145, 202, 251, 448, 452, 260, 147, 119, 171, 31, 83, 313, 105, 275, 116, 13910, 51, 1279, 3028, 212, 1, 29, 98, 7783, 14, 113, 75], \"sizemode\": \"area\", \"sizeref\": 202.89}, \"name\": \"\", \"showlegend\": false, \"type\": \"scattergeo\"}], \"name\": \"2020-03-18 00:00:00\"}, {\"data\": [{\"customdata\": [[22], [64], [87], [53], [97], [115], [681], [2013], [44], [278], [17], [51], [1795], [1], [12], [63], [621], [75], [94], [33], [37], [13], [800], [238], [81156], [102], [14], [69], [9], [105], [712], [11], [67], [1225], [34], [199], [256], [267], [400], [10947], [40], [15320], [418], [7], [12], [73], [330], [194], [311], [18407], [192], [557], [677], [41035], [15], [924], [69], [148], [86], [157], [28], [36], [335], [900], [13], [53], [23], [118], [49], [7], [6], [63], [1], [2467], [28], [8], [48], [1746], [48], [454], [109], [11], [234], [217], [355], [785], [460], [277], [199], [119], [274], [31], [103], [345], [123], [286], [150], [17963], [60], [1439], [4075], [272], [1], [39], [192], [13677], [16], [140], [85]], \"geo\": \"geo\", \"hoverlabel\": {\"namelength\": 0}, \"hovertemplate\": \"Date=2020-03-19 00:00:00<br>Confirmed=%{customdata[0]}<br>Country/Region=%{location}\", \"legendgroup\": \"\", \"locationmode\": \"country names\", \"locations\": [\"Afghanistan\", \"Albania\", \"Algeria\", \"Andorra\", \"Argentina\", \"Armenia\", \"Australia\", \"Austria\", \"Azerbaijan\", \"Bahrain\", \"Bangladesh\", \"Belarus\", \"Belgium\", \"Bhutan\", \"Bolivia\", \"Bosnia and Herzegovina\", \"Brazil\", \"Brunei\", \"Bulgaria\", \"Burkina Faso\", \"Cambodia\", \"Cameroon\", \"Canada\", \"Chile\", \"China\", \"Colombia\", \"Congo (Kinshasa)\", \"Costa Rica\", \"Cote d'Ivoire\", \"Croatia\", \"Cruise Ship\", \"Cuba\", \"Cyprus\", \"Denmark\", \"Dominican Republic\", \"Ecuador\", \"Egypt\", \"Estonia\", \"Finland\", \"France\", \"Georgia\", \"Germany\", \"Greece\", \"Guyana\", \"Honduras\", \"Hungary\", \"Iceland\", \"India\", \"Indonesia\", \"Iran\", \"Iraq\", \"Ireland\", \"Israel\", \"Italy\", \"Jamaica\", \"Japan\", \"Jordan\", \"Kuwait\", \"Latvia\", \"Lebanon\", \"Liechtenstein\", \"Lithuania\", \"Luxembourg\", \"Malaysia\", \"Maldives\", \"Malta\", \"Martinique\", \"Mexico\", \"Moldova\", \"Monaco\", \"Mongolia\", \"Morocco\", \"Nepal\", \"Netherlands\", \"New Zealand\", \"Nigeria\", \"North Macedonia\", \"Norway\", \"Oman\", \"Pakistan\", \"Panama\", \"Paraguay\", \"Peru\", \"Philippines\", \"Poland\", \"Portugal\", \"Qatar\", \"Romania\", \"Russia\", \"San Marino\", \"Saudi Arabia\", \"Senegal\", \"Serbia\", \"Singapore\", \"Slovakia\", \"Slovenia\", \"South Africa\", \"Spain\", \"Sri Lanka\", \"Sweden\", \"Switzerland\", \"Thailand\", \"Togo\", \"Tunisia\", \"Turkey\", \"US\", \"Ukraine\", \"United Arab Emirates\", \"Vietnam\"], \"marker\": {\"color\": \"#636efa\", \"size\": [22, 64, 87, 53, 97, 115, 681, 2013, 44, 278, 17, 51, 1795, 1, 12, 63, 621, 75, 94, 33, 37, 13, 800, 238, 81156, 102, 14, 69, 9, 105, 712, 11, 67, 1225, 34, 199, 256, 267, 400, 10947, 40, 15320, 418, 7, 12, 73, 330, 194, 311, 18407, 192, 557, 677, 41035, 15, 924, 69, 148, 86, 157, 28, 36, 335, 900, 13, 53, 23, 118, 49, 7, 6, 63, 1, 2467, 28, 8, 48, 1746, 48, 454, 109, 11, 234, 217, 355, 785, 460, 277, 199, 119, 274, 31, 103, 345, 123, 286, 150, 17963, 60, 1439, 4075, 272, 1, 39, 192, 13677, 16, 140, 85], \"sizemode\": \"area\", \"sizeref\": 202.89}, \"name\": \"\", \"showlegend\": false, \"type\": \"scattergeo\"}], \"name\": \"2020-03-19 00:00:00\"}]);\n",
       "                        }).then(function(){\n",
       "                            \n",
       "var gd = document.getElementById('0d36c9b2-32be-4333-a192-bdf580729878');\n",
       "var x = new MutationObserver(function (mutations, observer) {{\n",
       "        var display = window.getComputedStyle(gd).display;\n",
       "        if (!display || display === 'none') {{\n",
       "            console.log([gd, 'removed!']);\n",
       "            Plotly.purge(gd);\n",
       "            observer.disconnect();\n",
       "        }}\n",
       "}});\n",
       "\n",
       "// Listen for the removal of the full notebook cells\n",
       "var notebookContainer = gd.closest('#notebook-container');\n",
       "if (notebookContainer) {{\n",
       "    x.observe(notebookContainer, {childList: true});\n",
       "}}\n",
       "\n",
       "// Listen for the clearing of the current output cell\n",
       "var outputEl = gd.closest('.output');\n",
       "if (outputEl) {{\n",
       "    x.observe(outputEl, {childList: true});\n",
       "}}\n",
       "\n",
       "                        })\n",
       "                };\n",
       "                });\n",
       "            </script>\n",
       "        </div>"
      ]
     },
     "metadata": {},
     "output_type": "display_data"
    }
   ],
   "source": [
    "fig = px.scatter_geo(grouped_df, locations='Country/Region', locationmode='country names',\n",
    "                     hover_data=['Confirmed'], size='Confirmed', animation_frame='Date')\n",
    "fig.show()"
   ]
  },
  {
   "cell_type": "code",
   "execution_count": 34,
   "metadata": {},
   "outputs": [],
   "source": [
    "pickle_out = open('COVID_Hopkins_df.pickle', 'wb')\n",
    "pickle.dump(grouped_df, pickle_out)\n",
    "pickle_out.close()"
   ]
  }
 ],
 "metadata": {
  "kernelspec": {
   "display_name": "Python 3",
   "language": "python",
   "name": "python3"
  },
  "language_info": {
   "codemirror_mode": {
    "name": "ipython",
    "version": 3
   },
   "file_extension": ".py",
   "mimetype": "text/x-python",
   "name": "python",
   "nbconvert_exporter": "python",
   "pygments_lexer": "ipython3",
   "version": "3.7.4"
  }
 },
 "nbformat": 4,
 "nbformat_minor": 2
}
