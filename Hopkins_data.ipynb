{
 "cells": [
  {
   "cell_type": "code",
   "execution_count": 1,

   "metadata": {},
   "outputs": [],
   "source": [
    "from github import Github\n",
    "import os\n",
    "\n",
    "from os import listdir\n",
    "from os.path import isfile, join\n",
    "\n",
    "import base64\n",
    "import pandas as pd\n",
    "import numpy as np\n",
    "import re\n",
    "import matplotlib.pyplot as plt\n",
    "import plotly.graph_objects as go\n",
    "import seaborn as sns\n",
    "import plotly.express as px\n",
    "from ipywidgets import interact\n",
    "import datetime as dt\n",
    "sns.set()"
   ]
  },
  {
   "cell_type": "code",
   "execution_count": 2,
   "metadata": {},
   "outputs": [],
   "source": [
    "with open(\"github.txt\") as myfile:\n",
    "    firstNlines=myfile.readlines()[0:2]\n",
    "myfile.close()"
   ]
  },
  {
   "cell_type": "code",
   "execution_count": 33,
   "metadata": {},
   "outputs": [],
   "source": [
    "with open(\"data_path.txt\") as myfile:\n",
    "    mypath=myfile.readlines()[0]\n",
    "myfile.close()"
   ]
  },
  {
   "cell_type": "code",
   "execution_count": 7,
   "metadata": {},
   "outputs": [],
   "source": [
    "g = Github(firstNlines[0].strip(), firstNlines[1])\n",
    "repo=g.get_repo('CSSEGISandData/COVID-19')\n",
    "contents = repo.get_contents(\"\")"
   ]
  },
  {
   "cell_type": "code",
   "execution_count": 28,
   "metadata": {},
   "outputs": [],
   "source": [
    "def get_sha_for_tag(repository, tag):\n",
    "    \"\"\"\n",
    "    Returns a commit PyGithub object for the specified repository and tag.\n",
    "    \"\"\"\n",
    "    branches = repository.get_branches()\n",
    "    matched_branches = [match for match in branches if match.name == tag]\n",
    "    if matched_branches:\n",
    "        return matched_branches[0].commit.sha\n",
    "\n",
    "    tags = repository.get_tags()\n",
    "    matched_tags = [match for match in tags if match.name == tag]\n",
    "    if not matched_tags:\n",
    "        raise ValueError('No Tag or Branch exists with that name')\n",
    "    return matched_tags[0].commit.sha"
   ]
  },
  {
   "cell_type": "code",
   "execution_count": 29,
   "metadata": {},
   "outputs": [],
   "source": [
    "def download_directory(repository, sha, server_path, local_path=mypath):\n",
    "    \"\"\"\n",
    "    Download all contents at server_path with commit tag sha in\n",
    "    the repository.\n",
    "    \"\"\"\n",
    "    contents = repository.get_contents(server_path, ref=sha)\n",
    "    if not os.path.exists(local_path):\n",
    "        os.makedirs(local_path)\n",
    "    \n",
    "    for content in contents:\n",
    "        #print(\"Processing %s\" % content.path)\n",
    "        if content.type == 'dir':\n",
    "            download_directory(repository, sha, content.path)\n",
    "        else:\n",
    "            try:\n",
    "                path = content.path\n",
    "                file_content = repository.get_contents(path, ref=sha)\n",
    "                file_data = base64.b64decode(file_content.content).decode('ascii')\n",
    "                file_out = open(local_path+content.name, \"w\")\n",
    "                file_out.write(local_path+file_data)\n",
    "                file_out.close()\n",
    "            except:\n",
    "                pass"
   ]
  },
  {
   "cell_type": "code",
   "execution_count": 30,
   "metadata": {},
   "outputs": [],
   "source": [
    "sha = get_sha_for_tag(repo, 'master')\n",
    "download_directory(repo, sha, 'csse_covid_19_data/csse_covid_19_daily_reports');"
   ]
  },
  {
   "cell_type": "code",
   "execution_count": 20,
   "metadata": {},
   "outputs": [],
   "source": [
    "def is_non_zero_file(fpath):\n",
    "    return os.path.isfile(fpath) and os.path.getsize(fpath) > 0\n"
   ]
  },
  {
   "cell_type": "code",
   "execution_count": 31,
   "metadata": {},
   "outputs": [],
   "source": [
    "onlyfiles = [f for f in listdir(mypath) if isfile(join(mypath, f))]\n",
    "\n",
    "nonzero_files = []\n",
    "for file in onlyfiles:\n",
    "    if is_non_zero_file(mypath + file) and file[-3:]=='csv':\n",
    "        nonzero_files.append(mypath + file)\n",
    "\n",
    "df_list = []\n",
    "for file in nonzero_files:\n",
    "    df_1 = pd.read_csv(file)\n",
    "    df_1['filename'] = file[-15:]\n",
    "    df_list.append(df_1)  \n",
    "df = pd.concat(df_list, ignore_index=True)"
   ]
  },
  {
   "cell_type": "code",
   "execution_count": 32,
   "metadata": {},
   "outputs": [],
   "source": [
    "df['Country/Region'] = df['Country/Region'].str.replace('Mainland China', 'China')"
   ]
  },
  {
   "cell_type": "code",
   "execution_count": 19,
   "metadata": {},
   "outputs": [
    {
     "name": "stdout",
     "output_type": "stream",
     "text": [
      "<class 'pandas.core.frame.DataFrame'>\n",
      "RangeIndex: 4660 entries, 0 to 4659\n",
      "Data columns (total 9 columns):\n",
      " #   Column                    Non-Null Count  Dtype  \n",
      "---  ------                    --------------  -----  \n",
      " 0   data_csse/Province/State  2839 non-null   object \n",
      " 1   Country/Region            4660 non-null   object \n",
      " 2   Last Update               4660 non-null   object \n",
      " 3   Confirmed                 4660 non-null   int64  \n",
      " 4   Deaths                    4660 non-null   int64  \n",
      " 5   Recovered                 4660 non-null   int64  \n",
      " 6   filename                  4660 non-null   object \n",
      " 7   Latitude                  2335 non-null   float64\n",
      " 8   Longitude                 2335 non-null   float64\n",
      "dtypes: float64(2), int64(3), object(4)\n",
      "memory usage: 327.8+ KB\n"
     ]
    }
   ],
   "source": [
    "df.info()"
   ]
  },
  {
   "cell_type": "code",
   "execution_count": 23,
   "metadata": {},
   "outputs": [],
   "source": [
    "df['Date'] = pd.to_datetime(df['Last Update'])"
   ]
  },
  {
   "cell_type": "code",
   "execution_count": 24,
   "metadata": {},
   "outputs": [],
   "source": [
    "df['Diamond Princess'] = df['Province/State'].str.contains('Diamond Princess')"
   ]
  },
  {
   "cell_type": "code",
   "execution_count": 25,
   "metadata": {},
   "outputs": [
    {
     "data": {
      "text/html": [
       "<div>\n",
       "<style scoped>\n",
       "    .dataframe tbody tr th:only-of-type {\n",
       "        vertical-align: middle;\n",
       "    }\n",
       "\n",
       "    .dataframe tbody tr th {\n",
       "        vertical-align: top;\n",
       "    }\n",
       "\n",
       "    .dataframe thead th {\n",
       "        text-align: right;\n",
       "    }\n",
       "</style>\n",
       "<table border=\"1\" class=\"dataframe\">\n",
       "  <thead>\n",
       "    <tr style=\"text-align: right;\">\n",
       "      <th></th>\n",
       "      <th>Confirmed</th>\n",
       "      <th>Country/Region</th>\n",
       "      <th>Deaths</th>\n",
       "      <th>Last Update</th>\n",
       "      <th>Latitude</th>\n",
       "      <th>Longitude</th>\n",
       "      <th>Province/State</th>\n",
       "      <th>Recovered</th>\n",
       "      <th>filename</th>\n",
       "      <th>Date</th>\n",
       "      <th>Diamond Princess</th>\n",
       "    </tr>\n",
       "  </thead>\n",
       "  <tbody>\n",
       "    <tr>\n",
       "      <th>1499</th>\n",
       "      <td>4</td>\n",
       "      <td>Australia</td>\n",
       "      <td>0</td>\n",
       "      <td>2020-02-21T23:03:13</td>\n",
       "      <td>NaN</td>\n",
       "      <td>NaN</td>\n",
       "      <td>From Diamond Princess</td>\n",
       "      <td>0</td>\n",
       "      <td>\\02-21-2020.csv</td>\n",
       "      <td>2020-02-21 23:03:13</td>\n",
       "      <td>True</td>\n",
       "    </tr>\n",
       "    <tr>\n",
       "      <th>1518</th>\n",
       "      <td>1</td>\n",
       "      <td>Israel</td>\n",
       "      <td>0</td>\n",
       "      <td>2020-02-21T15:33:03</td>\n",
       "      <td>NaN</td>\n",
       "      <td>NaN</td>\n",
       "      <td>From Diamond Princess</td>\n",
       "      <td>0</td>\n",
       "      <td>\\02-21-2020.csv</td>\n",
       "      <td>2020-02-21 15:33:03</td>\n",
       "      <td>True</td>\n",
       "    </tr>\n",
       "    <tr>\n",
       "      <th>1580</th>\n",
       "      <td>7</td>\n",
       "      <td>Australia</td>\n",
       "      <td>0</td>\n",
       "      <td>2020-02-22T17:03:05</td>\n",
       "      <td>NaN</td>\n",
       "      <td>NaN</td>\n",
       "      <td>From Diamond Princess</td>\n",
       "      <td>0</td>\n",
       "      <td>\\02-22-2020.csv</td>\n",
       "      <td>2020-02-22 17:03:05</td>\n",
       "      <td>True</td>\n",
       "    </tr>\n",
       "    <tr>\n",
       "      <th>1602</th>\n",
       "      <td>1</td>\n",
       "      <td>Israel</td>\n",
       "      <td>0</td>\n",
       "      <td>2020-02-22T20:53:02</td>\n",
       "      <td>NaN</td>\n",
       "      <td>NaN</td>\n",
       "      <td>From Diamond Princess</td>\n",
       "      <td>0</td>\n",
       "      <td>\\02-22-2020.csv</td>\n",
       "      <td>2020-02-22 20:53:02</td>\n",
       "      <td>True</td>\n",
       "    </tr>\n",
       "    <tr>\n",
       "      <th>1664</th>\n",
       "      <td>7</td>\n",
       "      <td>Australia</td>\n",
       "      <td>0</td>\n",
       "      <td>2020-02-22T17:03:05</td>\n",
       "      <td>NaN</td>\n",
       "      <td>NaN</td>\n",
       "      <td>From Diamond Princess</td>\n",
       "      <td>0</td>\n",
       "      <td>\\02-23-2020.csv</td>\n",
       "      <td>2020-02-22 17:03:05</td>\n",
       "      <td>True</td>\n",
       "    </tr>\n",
       "    <tr>\n",
       "      <th>1686</th>\n",
       "      <td>1</td>\n",
       "      <td>Israel</td>\n",
       "      <td>0</td>\n",
       "      <td>2020-02-22T20:53:02</td>\n",
       "      <td>NaN</td>\n",
       "      <td>NaN</td>\n",
       "      <td>From Diamond Princess</td>\n",
       "      <td>0</td>\n",
       "      <td>\\02-23-2020.csv</td>\n",
       "      <td>2020-02-22 20:53:02</td>\n",
       "      <td>True</td>\n",
       "    </tr>\n",
       "    <tr>\n",
       "      <th>1749</th>\n",
       "      <td>7</td>\n",
       "      <td>Australia</td>\n",
       "      <td>0</td>\n",
       "      <td>2020-02-22T17:03:05</td>\n",
       "      <td>NaN</td>\n",
       "      <td>NaN</td>\n",
       "      <td>From Diamond Princess</td>\n",
       "      <td>0</td>\n",
       "      <td>\\02-24-2020.csv</td>\n",
       "      <td>2020-02-22 17:03:05</td>\n",
       "      <td>True</td>\n",
       "    </tr>\n",
       "    <tr>\n",
       "      <th>1773</th>\n",
       "      <td>1</td>\n",
       "      <td>Israel</td>\n",
       "      <td>0</td>\n",
       "      <td>2020-02-22T20:53:02</td>\n",
       "      <td>NaN</td>\n",
       "      <td>NaN</td>\n",
       "      <td>From Diamond Princess</td>\n",
       "      <td>0</td>\n",
       "      <td>\\02-24-2020.csv</td>\n",
       "      <td>2020-02-22 20:53:02</td>\n",
       "      <td>True</td>\n",
       "    </tr>\n",
       "    <tr>\n",
       "      <th>1841</th>\n",
       "      <td>7</td>\n",
       "      <td>Australia</td>\n",
       "      <td>0</td>\n",
       "      <td>2020-02-22T17:03:05</td>\n",
       "      <td>NaN</td>\n",
       "      <td>NaN</td>\n",
       "      <td>From Diamond Princess</td>\n",
       "      <td>0</td>\n",
       "      <td>\\02-25-2020.csv</td>\n",
       "      <td>2020-02-22 17:03:05</td>\n",
       "      <td>True</td>\n",
       "    </tr>\n",
       "    <tr>\n",
       "      <th>1867</th>\n",
       "      <td>1</td>\n",
       "      <td>Israel</td>\n",
       "      <td>0</td>\n",
       "      <td>2020-02-22T20:53:02</td>\n",
       "      <td>NaN</td>\n",
       "      <td>NaN</td>\n",
       "      <td>From Diamond Princess</td>\n",
       "      <td>0</td>\n",
       "      <td>\\02-25-2020.csv</td>\n",
       "      <td>2020-02-22 20:53:02</td>\n",
       "      <td>True</td>\n",
       "    </tr>\n",
       "    <tr>\n",
       "      <th>1936</th>\n",
       "      <td>7</td>\n",
       "      <td>Australia</td>\n",
       "      <td>0</td>\n",
       "      <td>2020-02-22T17:03:05</td>\n",
       "      <td>NaN</td>\n",
       "      <td>NaN</td>\n",
       "      <td>From Diamond Princess</td>\n",
       "      <td>0</td>\n",
       "      <td>\\02-26-2020.csv</td>\n",
       "      <td>2020-02-22 17:03:05</td>\n",
       "      <td>True</td>\n",
       "    </tr>\n",
       "    <tr>\n",
       "      <th>2037</th>\n",
       "      <td>8</td>\n",
       "      <td>Australia</td>\n",
       "      <td>0</td>\n",
       "      <td>2020-02-27T03:33:06</td>\n",
       "      <td>NaN</td>\n",
       "      <td>NaN</td>\n",
       "      <td>From Diamond Princess</td>\n",
       "      <td>0</td>\n",
       "      <td>\\02-27-2020.csv</td>\n",
       "      <td>2020-02-27 03:33:06</td>\n",
       "      <td>True</td>\n",
       "    </tr>\n",
       "    <tr>\n",
       "      <th>2142</th>\n",
       "      <td>8</td>\n",
       "      <td>Australia</td>\n",
       "      <td>0</td>\n",
       "      <td>2020-02-27T03:33:06</td>\n",
       "      <td>NaN</td>\n",
       "      <td>NaN</td>\n",
       "      <td>From Diamond Princess</td>\n",
       "      <td>0</td>\n",
       "      <td>\\02-28-2020.csv</td>\n",
       "      <td>2020-02-27 03:33:06</td>\n",
       "      <td>True</td>\n",
       "    </tr>\n",
       "    <tr>\n",
       "      <th>2321</th>\n",
       "      <td>0</td>\n",
       "      <td>Australia</td>\n",
       "      <td>0</td>\n",
       "      <td>2020-02-29T02:03:10</td>\n",
       "      <td>NaN</td>\n",
       "      <td>NaN</td>\n",
       "      <td>From Diamond Princess</td>\n",
       "      <td>0</td>\n",
       "      <td>\\02-29-2020.csv</td>\n",
       "      <td>2020-02-29 02:03:10</td>\n",
       "      <td>True</td>\n",
       "    </tr>\n",
       "    <tr>\n",
       "      <th>2446</th>\n",
       "      <td>0</td>\n",
       "      <td>Australia</td>\n",
       "      <td>0</td>\n",
       "      <td>2020-02-29T02:03:10</td>\n",
       "      <td>35.4437</td>\n",
       "      <td>139.638</td>\n",
       "      <td>From Diamond Princess</td>\n",
       "      <td>0</td>\n",
       "      <td>\\03-01-2020.csv</td>\n",
       "      <td>2020-02-29 02:03:10</td>\n",
       "      <td>True</td>\n",
       "    </tr>\n",
       "    <tr>\n",
       "      <th>2587</th>\n",
       "      <td>0</td>\n",
       "      <td>Australia</td>\n",
       "      <td>0</td>\n",
       "      <td>2020-02-29T02:03:10</td>\n",
       "      <td>35.4437</td>\n",
       "      <td>139.638</td>\n",
       "      <td>From Diamond Princess</td>\n",
       "      <td>0</td>\n",
       "      <td>\\03-02-2020.csv</td>\n",
       "      <td>2020-02-29 02:03:10</td>\n",
       "      <td>True</td>\n",
       "    </tr>\n",
       "    <tr>\n",
       "      <th>2738</th>\n",
       "      <td>0</td>\n",
       "      <td>Australia</td>\n",
       "      <td>0</td>\n",
       "      <td>2020-02-29T02:03:10</td>\n",
       "      <td>35.4437</td>\n",
       "      <td>139.638</td>\n",
       "      <td>From Diamond Princess</td>\n",
       "      <td>0</td>\n",
       "      <td>\\03-03-2020.csv</td>\n",
       "      <td>2020-02-29 02:03:10</td>\n",
       "      <td>True</td>\n",
       "    </tr>\n",
       "    <tr>\n",
       "      <th>2898</th>\n",
       "      <td>0</td>\n",
       "      <td>Australia</td>\n",
       "      <td>0</td>\n",
       "      <td>2020-02-29T02:03:10</td>\n",
       "      <td>35.4437</td>\n",
       "      <td>139.638</td>\n",
       "      <td>From Diamond Princess</td>\n",
       "      <td>0</td>\n",
       "      <td>\\03-04-2020.csv</td>\n",
       "      <td>2020-02-29 02:03:10</td>\n",
       "      <td>True</td>\n",
       "    </tr>\n",
       "    <tr>\n",
       "      <th>3071</th>\n",
       "      <td>0</td>\n",
       "      <td>Australia</td>\n",
       "      <td>0</td>\n",
       "      <td>2020-02-29T02:03:10</td>\n",
       "      <td>35.4437</td>\n",
       "      <td>139.638</td>\n",
       "      <td>From Diamond Princess</td>\n",
       "      <td>0</td>\n",
       "      <td>\\03-05-2020.csv</td>\n",
       "      <td>2020-02-29 02:03:10</td>\n",
       "      <td>True</td>\n",
       "    </tr>\n",
       "    <tr>\n",
       "      <th>3269</th>\n",
       "      <td>0</td>\n",
       "      <td>Australia</td>\n",
       "      <td>0</td>\n",
       "      <td>2020-02-29T02:03:10</td>\n",
       "      <td>35.4437</td>\n",
       "      <td>139.638</td>\n",
       "      <td>From Diamond Princess</td>\n",
       "      <td>0</td>\n",
       "      <td>\\03-06-2020.csv</td>\n",
       "      <td>2020-02-29 02:03:10</td>\n",
       "      <td>True</td>\n",
       "    </tr>\n",
       "    <tr>\n",
       "      <th>3493</th>\n",
       "      <td>0</td>\n",
       "      <td>Australia</td>\n",
       "      <td>0</td>\n",
       "      <td>2020-02-29T02:03:10</td>\n",
       "      <td>35.4437</td>\n",
       "      <td>139.638</td>\n",
       "      <td>From Diamond Princess</td>\n",
       "      <td>0</td>\n",
       "      <td>\\03-07-2020.csv</td>\n",
       "      <td>2020-02-29 02:03:10</td>\n",
       "      <td>True</td>\n",
       "    </tr>\n",
       "    <tr>\n",
       "      <th>3748</th>\n",
       "      <td>0</td>\n",
       "      <td>Australia</td>\n",
       "      <td>0</td>\n",
       "      <td>2020-02-29T02:03:10</td>\n",
       "      <td>35.4437</td>\n",
       "      <td>139.638</td>\n",
       "      <td>From Diamond Princess</td>\n",
       "      <td>0</td>\n",
       "      <td>\\03-08-2020.csv</td>\n",
       "      <td>2020-02-29 02:03:10</td>\n",
       "      <td>True</td>\n",
       "    </tr>\n",
       "    <tr>\n",
       "      <th>4014</th>\n",
       "      <td>0</td>\n",
       "      <td>Australia</td>\n",
       "      <td>0</td>\n",
       "      <td>2020-02-29T02:03:10</td>\n",
       "      <td>35.4437</td>\n",
       "      <td>139.638</td>\n",
       "      <td>From Diamond Princess</td>\n",
       "      <td>0</td>\n",
       "      <td>\\03-09-2020.csv</td>\n",
       "      <td>2020-02-29 02:03:10</td>\n",
       "      <td>True</td>\n",
       "    </tr>\n",
       "    <tr>\n",
       "      <th>4212</th>\n",
       "      <td>0</td>\n",
       "      <td>Australia</td>\n",
       "      <td>0</td>\n",
       "      <td>2020-02-29T02:03:10</td>\n",
       "      <td>35.4437</td>\n",
       "      <td>139.638</td>\n",
       "      <td>From Diamond Princess</td>\n",
       "      <td>0</td>\n",
       "      <td>\\03-10-2020.csv</td>\n",
       "      <td>2020-02-29 02:03:10</td>\n",
       "      <td>True</td>\n",
       "    </tr>\n",
       "  </tbody>\n",
       "</table>\n",
       "</div>"
      ],
      "text/plain": [
       "      Confirmed Country/Region  Deaths          Last Update  Latitude  \\\n",
       "1499          4      Australia       0  2020-02-21T23:03:13       NaN   \n",
       "1518          1         Israel       0  2020-02-21T15:33:03       NaN   \n",
       "1580          7      Australia       0  2020-02-22T17:03:05       NaN   \n",
       "1602          1         Israel       0  2020-02-22T20:53:02       NaN   \n",
       "1664          7      Australia       0  2020-02-22T17:03:05       NaN   \n",
       "1686          1         Israel       0  2020-02-22T20:53:02       NaN   \n",
       "1749          7      Australia       0  2020-02-22T17:03:05       NaN   \n",
       "1773          1         Israel       0  2020-02-22T20:53:02       NaN   \n",
       "1841          7      Australia       0  2020-02-22T17:03:05       NaN   \n",
       "1867          1         Israel       0  2020-02-22T20:53:02       NaN   \n",
       "1936          7      Australia       0  2020-02-22T17:03:05       NaN   \n",
       "2037          8      Australia       0  2020-02-27T03:33:06       NaN   \n",
       "2142          8      Australia       0  2020-02-27T03:33:06       NaN   \n",
       "2321          0      Australia       0  2020-02-29T02:03:10       NaN   \n",
       "2446          0      Australia       0  2020-02-29T02:03:10   35.4437   \n",
       "2587          0      Australia       0  2020-02-29T02:03:10   35.4437   \n",
       "2738          0      Australia       0  2020-02-29T02:03:10   35.4437   \n",
       "2898          0      Australia       0  2020-02-29T02:03:10   35.4437   \n",
       "3071          0      Australia       0  2020-02-29T02:03:10   35.4437   \n",
       "3269          0      Australia       0  2020-02-29T02:03:10   35.4437   \n",
       "3493          0      Australia       0  2020-02-29T02:03:10   35.4437   \n",
       "3748          0      Australia       0  2020-02-29T02:03:10   35.4437   \n",
       "4014          0      Australia       0  2020-02-29T02:03:10   35.4437   \n",
       "4212          0      Australia       0  2020-02-29T02:03:10   35.4437   \n",
       "\n",
       "      Longitude         Province/State  Recovered         filename  \\\n",
       "1499        NaN  From Diamond Princess          0  \\02-21-2020.csv   \n",
       "1518        NaN  From Diamond Princess          0  \\02-21-2020.csv   \n",
       "1580        NaN  From Diamond Princess          0  \\02-22-2020.csv   \n",
       "1602        NaN  From Diamond Princess          0  \\02-22-2020.csv   \n",
       "1664        NaN  From Diamond Princess          0  \\02-23-2020.csv   \n",
       "1686        NaN  From Diamond Princess          0  \\02-23-2020.csv   \n",
       "1749        NaN  From Diamond Princess          0  \\02-24-2020.csv   \n",
       "1773        NaN  From Diamond Princess          0  \\02-24-2020.csv   \n",
       "1841        NaN  From Diamond Princess          0  \\02-25-2020.csv   \n",
       "1867        NaN  From Diamond Princess          0  \\02-25-2020.csv   \n",
       "1936        NaN  From Diamond Princess          0  \\02-26-2020.csv   \n",
       "2037        NaN  From Diamond Princess          0  \\02-27-2020.csv   \n",
       "2142        NaN  From Diamond Princess          0  \\02-28-2020.csv   \n",
       "2321        NaN  From Diamond Princess          0  \\02-29-2020.csv   \n",
       "2446    139.638  From Diamond Princess          0  \\03-01-2020.csv   \n",
       "2587    139.638  From Diamond Princess          0  \\03-02-2020.csv   \n",
       "2738    139.638  From Diamond Princess          0  \\03-03-2020.csv   \n",
       "2898    139.638  From Diamond Princess          0  \\03-04-2020.csv   \n",
       "3071    139.638  From Diamond Princess          0  \\03-05-2020.csv   \n",
       "3269    139.638  From Diamond Princess          0  \\03-06-2020.csv   \n",
       "3493    139.638  From Diamond Princess          0  \\03-07-2020.csv   \n",
       "3748    139.638  From Diamond Princess          0  \\03-08-2020.csv   \n",
       "4014    139.638  From Diamond Princess          0  \\03-09-2020.csv   \n",
       "4212    139.638  From Diamond Princess          0  \\03-10-2020.csv   \n",
       "\n",
       "                    Date Diamond Princess  \n",
       "1499 2020-02-21 23:03:13             True  \n",
       "1518 2020-02-21 15:33:03             True  \n",
       "1580 2020-02-22 17:03:05             True  \n",
       "1602 2020-02-22 20:53:02             True  \n",
       "1664 2020-02-22 17:03:05             True  \n",
       "1686 2020-02-22 20:53:02             True  \n",
       "1749 2020-02-22 17:03:05             True  \n",
       "1773 2020-02-22 20:53:02             True  \n",
       "1841 2020-02-22 17:03:05             True  \n",
       "1867 2020-02-22 20:53:02             True  \n",
       "1936 2020-02-22 17:03:05             True  \n",
       "2037 2020-02-27 03:33:06             True  \n",
       "2142 2020-02-27 03:33:06             True  \n",
       "2321 2020-02-29 02:03:10             True  \n",
       "2446 2020-02-29 02:03:10             True  \n",
       "2587 2020-02-29 02:03:10             True  \n",
       "2738 2020-02-29 02:03:10             True  \n",
       "2898 2020-02-29 02:03:10             True  \n",
       "3071 2020-02-29 02:03:10             True  \n",
       "3269 2020-02-29 02:03:10             True  \n",
       "3493 2020-02-29 02:03:10             True  \n",
       "3748 2020-02-29 02:03:10             True  \n",
       "4014 2020-02-29 02:03:10             True  \n",
       "4212 2020-02-29 02:03:10             True  "
      ]
     },
     "execution_count": 25,
     "metadata": {},
     "output_type": "execute_result"
    }
   ],
   "source": [
    "df.loc[df['Province/State']=='From Diamond Princess']"
   ]
  },
  {
   "cell_type": "code",
   "execution_count": 26,
   "metadata": {},
   "outputs": [],
   "source": [
    "df.drop(columns=['filename'], inplace=True)"
   ]
  },
  {
   "cell_type": "code",
   "execution_count": 27,
   "metadata": {},
   "outputs": [],
   "source": [
    "df = df.drop_duplicates()"
   ]
  },
  {
   "cell_type": "code",
   "execution_count": 28,
   "metadata": {},
   "outputs": [
    {
     "name": "stdout",
     "output_type": "stream",
     "text": [
      "<class 'pandas.core.frame.DataFrame'>\n",
      "Int64Index: 2421 entries, 0 to 4225\n",
      "Data columns (total 10 columns):\n",
      "Confirmed           2421 non-null int64\n",
      "Country/Region      2421 non-null object\n",
      "Deaths              2421 non-null int64\n",
      "Last Update         2421 non-null object\n",
      "Latitude            1118 non-null float64\n",
      "Longitude           1118 non-null float64\n",
      "Province/State      1602 non-null object\n",
      "Recovered           2421 non-null int64\n",
      "Date                2421 non-null datetime64[ns]\n",
      "Diamond Princess    1602 non-null object\n",
      "dtypes: datetime64[ns](1), float64(2), int64(3), object(4)\n",
      "memory usage: 208.1+ KB\n"
     ]
    }
   ],
   "source": [
    "df.info()"
   ]
  },
  {
   "cell_type": "code",
   "execution_count": 29,
   "metadata": {},
   "outputs": [],
   "source": [
    "df['Province/State'] = df['Province/State'].str.replace(' \\(From Diamond Princess\\)', '').replace('None', 'From Diamond Princess')"
   ]
  },
  {
   "cell_type": "code",
   "execution_count": 30,
   "metadata": {},
   "outputs": [
    {
     "data": {
      "text/html": [
       "<div>\n",
       "<style scoped>\n",
       "    .dataframe tbody tr th:only-of-type {\n",
       "        vertical-align: middle;\n",
       "    }\n",
       "\n",
       "    .dataframe tbody tr th {\n",
       "        vertical-align: top;\n",
       "    }\n",
       "\n",
       "    .dataframe thead th {\n",
       "        text-align: right;\n",
       "    }\n",
       "</style>\n",
       "<table border=\"1\" class=\"dataframe\">\n",
       "  <thead>\n",
       "    <tr style=\"text-align: right;\">\n",
       "      <th></th>\n",
       "      <th>Confirmed</th>\n",
       "      <th>Country/Region</th>\n",
       "      <th>Deaths</th>\n",
       "      <th>Last Update</th>\n",
       "      <th>Latitude</th>\n",
       "      <th>Longitude</th>\n",
       "      <th>Province/State</th>\n",
       "      <th>Recovered</th>\n",
       "      <th>Date</th>\n",
       "      <th>Diamond Princess</th>\n",
       "    </tr>\n",
       "  </thead>\n",
       "  <tbody>\n",
       "    <tr>\n",
       "      <th>0</th>\n",
       "      <td>7153</td>\n",
       "      <td>China</td>\n",
       "      <td>249</td>\n",
       "      <td>2/1/2020 11:53</td>\n",
       "      <td>NaN</td>\n",
       "      <td>NaN</td>\n",
       "      <td>Hubei</td>\n",
       "      <td>168</td>\n",
       "      <td>2020-02-01 11:53:00</td>\n",
       "      <td>False</td>\n",
       "    </tr>\n",
       "    <tr>\n",
       "      <th>1</th>\n",
       "      <td>599</td>\n",
       "      <td>China</td>\n",
       "      <td>0</td>\n",
       "      <td>2/1/2020 10:53</td>\n",
       "      <td>NaN</td>\n",
       "      <td>NaN</td>\n",
       "      <td>Zhejiang</td>\n",
       "      <td>21</td>\n",
       "      <td>2020-02-01 10:53:00</td>\n",
       "      <td>False</td>\n",
       "    </tr>\n",
       "    <tr>\n",
       "      <th>2</th>\n",
       "      <td>535</td>\n",
       "      <td>China</td>\n",
       "      <td>0</td>\n",
       "      <td>2/1/2020 14:23</td>\n",
       "      <td>NaN</td>\n",
       "      <td>NaN</td>\n",
       "      <td>Guangdong</td>\n",
       "      <td>14</td>\n",
       "      <td>2020-02-01 14:23:00</td>\n",
       "      <td>False</td>\n",
       "    </tr>\n",
       "    <tr>\n",
       "      <th>3</th>\n",
       "      <td>422</td>\n",
       "      <td>China</td>\n",
       "      <td>2</td>\n",
       "      <td>2/1/2020 1:52</td>\n",
       "      <td>NaN</td>\n",
       "      <td>NaN</td>\n",
       "      <td>Henan</td>\n",
       "      <td>3</td>\n",
       "      <td>2020-02-01 01:52:00</td>\n",
       "      <td>False</td>\n",
       "    </tr>\n",
       "    <tr>\n",
       "      <th>4</th>\n",
       "      <td>389</td>\n",
       "      <td>China</td>\n",
       "      <td>0</td>\n",
       "      <td>2/1/2020 11:03</td>\n",
       "      <td>NaN</td>\n",
       "      <td>NaN</td>\n",
       "      <td>Hunan</td>\n",
       "      <td>8</td>\n",
       "      <td>2020-02-01 11:03:00</td>\n",
       "      <td>False</td>\n",
       "    </tr>\n",
       "  </tbody>\n",
       "</table>\n",
       "</div>"
      ],
      "text/plain": [
       "   Confirmed Country/Region  Deaths     Last Update  Latitude  Longitude  \\\n",
       "0       7153          China     249  2/1/2020 11:53       NaN        NaN   \n",
       "1        599          China       0  2/1/2020 10:53       NaN        NaN   \n",
       "2        535          China       0  2/1/2020 14:23       NaN        NaN   \n",
       "3        422          China       2   2/1/2020 1:52       NaN        NaN   \n",
       "4        389          China       0  2/1/2020 11:03       NaN        NaN   \n",
       "\n",
       "  Province/State  Recovered                Date Diamond Princess  \n",
       "0          Hubei        168 2020-02-01 11:53:00            False  \n",
       "1       Zhejiang         21 2020-02-01 10:53:00            False  \n",
       "2      Guangdong         14 2020-02-01 14:23:00            False  \n",
       "3          Henan          3 2020-02-01 01:52:00            False  \n",
       "4          Hunan          8 2020-02-01 11:03:00            False  "
      ]
     },
     "execution_count": 30,
     "metadata": {},
     "output_type": "execute_result"
    }
   ],
   "source": [
    "df.head()"
   ]
  },
  {
   "cell_type": "code",
   "execution_count": 31,
   "metadata": {},
   "outputs": [],
   "source": [
    "df['DateTime'] = df['Date']"
   ]
  },
  {
   "cell_type": "code",
   "execution_count": 32,
   "metadata": {},
   "outputs": [],
   "source": [
    "df['Date'] = df['DateTime'].apply(lambda x: x.date())"
   ]
  },
  {
   "cell_type": "code",
   "execution_count": 33,
   "metadata": {},
   "outputs": [],
   "source": [
    "df['Date'] = df['Date'].apply(lambda x: pd.to_datetime(x))"
   ]
  },
  {
   "cell_type": "code",

   "metadata": {},
   "outputs": [],
   "source": [
    "df['Date'] = df['Date'].apply(lambda x: str(x))"
   ]
  },
  {
   "cell_type": "code",

   "metadata": {},
   "outputs": [
    {
     "name": "stdout",
     "output_type": "stream",
     "text": [
      "<class 'pandas.core.frame.DataFrame'>\n",

     ]
    }
   ],
   "source": [
    "df.info()"
   ]
  },
  {
   "cell_type": "code",

   "metadata": {},
   "outputs": [
    {
     "data": {
      "text/html": [
       "<div>\n",
       "<style scoped>\n",
       "    .dataframe tbody tr th:only-of-type {\n",
       "        vertical-align: middle;\n",
       "    }\n",
       "\n",
       "    .dataframe tbody tr th {\n",
       "        vertical-align: top;\n",
       "    }\n",
       "\n",
       "    .dataframe thead th {\n",
       "        text-align: right;\n",
       "    }\n",
       "</style>\n",
       "<table border=\"1\" class=\"dataframe\">\n",
       "  <thead>\n",
       "    <tr style=\"text-align: right;\">\n",
       "      <th></th>\n",
       "      <th>Confirmed</th>\n",
       "      <th>Country/Region</th>\n",
       "      <th>Deaths</th>\n",
       "      <th>Last Update</th>\n",
       "      <th>Latitude</th>\n",
       "      <th>Longitude</th>\n",
       "      <th>Province/State</th>\n",
       "      <th>Recovered</th>\n",
       "      <th>Date</th>\n",
       "      <th>Diamond Princess</th>\n",
       "      <th>DateTime</th>\n",
       "      <th>Active</th>\n",
       "      <th>Log Confirmed</th>\n",
       "    </tr>\n",
       "  </thead>\n",
       "  <tbody>\n",
       "    <tr>\n",
       "      <th>0</th>\n",
       "      <td>7153</td>\n",
       "      <td>China</td>\n",
       "      <td>249</td>\n",
       "      <td>2/1/2020 11:53</td>\n",
       "      <td>NaN</td>\n",
       "      <td>NaN</td>\n",
       "      <td>Hubei</td>\n",
       "      <td>168</td>\n",
       "      <td>2020-02-01</td>\n",
       "      <td>False</td>\n",
       "      <td>2020-02-01 11:53:00</td>\n",
       "      <td>6736</td>\n",
       "      <td>3.854549</td>\n",
       "    </tr>\n",
       "    <tr>\n",
       "      <th>1</th>\n",
       "      <td>599</td>\n",
       "      <td>China</td>\n",
       "      <td>0</td>\n",
       "      <td>2/1/2020 10:53</td>\n",
       "      <td>NaN</td>\n",
       "      <td>NaN</td>\n",
       "      <td>Zhejiang</td>\n",
       "      <td>21</td>\n",
       "      <td>2020-02-01</td>\n",
       "      <td>False</td>\n",
       "      <td>2020-02-01 10:53:00</td>\n",
       "      <td>578</td>\n",
       "      <td>2.778151</td>\n",
       "    </tr>\n",
       "    <tr>\n",
       "      <th>2</th>\n",
       "      <td>535</td>\n",
       "      <td>China</td>\n",
       "      <td>0</td>\n",
       "      <td>2/1/2020 14:23</td>\n",
       "      <td>NaN</td>\n",
       "      <td>NaN</td>\n",
       "      <td>Guangdong</td>\n",
       "      <td>14</td>\n",
       "      <td>2020-02-01</td>\n",
       "      <td>False</td>\n",
       "      <td>2020-02-01 14:23:00</td>\n",
       "      <td>521</td>\n",
       "      <td>2.729165</td>\n",
       "    </tr>\n",
       "    <tr>\n",
       "      <th>3</th>\n",
       "      <td>422</td>\n",
       "      <td>China</td>\n",
       "      <td>2</td>\n",
       "      <td>2/1/2020 1:52</td>\n",
       "      <td>NaN</td>\n",
       "      <td>NaN</td>\n",
       "      <td>Henan</td>\n",
       "      <td>3</td>\n",
       "      <td>2020-02-01</td>\n",
       "      <td>False</td>\n",
       "      <td>2020-02-01 01:52:00</td>\n",
       "      <td>417</td>\n",
       "      <td>2.626340</td>\n",
       "    </tr>\n",
       "    <tr>\n",
       "      <th>4</th>\n",
       "      <td>389</td>\n",
       "      <td>China</td>\n",
       "      <td>0</td>\n",
       "      <td>2/1/2020 11:03</td>\n",
       "      <td>NaN</td>\n",
       "      <td>NaN</td>\n",
       "      <td>Hunan</td>\n",
       "      <td>8</td>\n",
       "      <td>2020-02-01</td>\n",
       "      <td>False</td>\n",
       "      <td>2020-02-01 11:03:00</td>\n",
       "      <td>381</td>\n",
       "      <td>2.591065</td>\n",
       "    </tr>\n",
       "  </tbody>\n",
       "</table>\n",
       "</div>"
      ],
      "text/plain": [
       "   Confirmed Country/Region  Deaths     Last Update  Latitude  Longitude  \\\n",
       "0       7153          China     249  2/1/2020 11:53       NaN        NaN   \n",
       "1        599          China       0  2/1/2020 10:53       NaN        NaN   \n",
       "2        535          China       0  2/1/2020 14:23       NaN        NaN   \n",
       "3        422          China       2   2/1/2020 1:52       NaN        NaN   \n",
       "4        389          China       0  2/1/2020 11:03       NaN        NaN   \n",
       "\n",

     "metadata": {},
     "output_type": "execute_result"
    }
   ],
   "source": [
    "df.head()"
   ]
  },
  {
   "cell_type": "code",

   "metadata": {},
   "outputs": [],
   "source": [
    "df['Active'] = df['Confirmed']-df['Deaths']-df['Recovered']"
   ]
  },
  {
   "cell_type": "code",

   "metadata": {},
   "outputs": [
    {
     "data": {
      "text/html": [
       "<div>\n",
       "<style scoped>\n",
       "    .dataframe tbody tr th:only-of-type {\n",
       "        vertical-align: middle;\n",
       "    }\n",
       "\n",
       "    .dataframe tbody tr th {\n",
       "        vertical-align: top;\n",
       "    }\n",
       "\n",
       "    .dataframe thead th {\n",
       "        text-align: right;\n",
       "    }\n",
       "</style>\n",
       "<table border=\"1\" class=\"dataframe\">\n",
       "  <thead>\n",
       "    <tr style=\"text-align: right;\">\n",
       "      <th></th>\n",
       "      <th>Confirmed</th>\n",
       "      <th>Country/Region</th>\n",
       "      <th>Deaths</th>\n",
       "      <th>Last Update</th>\n",
       "      <th>Latitude</th>\n",
       "      <th>Longitude</th>\n",
       "      <th>Province/State</th>\n",
       "      <th>Recovered</th>\n",
       "      <th>Date</th>\n",
       "      <th>Diamond Princess</th>\n",
       "      <th>DateTime</th>\n",
       "      <th>Active</th>\n",
       "      <th>Log Confirmed</th>\n",
       "    </tr>\n",
       "  </thead>\n",
       "  <tbody>\n",
       "    <tr>\n",
       "      <th>3048</th>\n",
       "      <td>1</td>\n",
       "      <td>South Africa</td>\n",
       "      <td>0</td>\n",
       "      <td>2020-03-05T13:53:03</td>\n",
       "      <td>-30.5595</td>\n",
       "      <td>22.9375</td>\n",
       "      <td>NaN</td>\n",
       "      <td>0</td>\n",
       "      <td>2020-03-05</td>\n",
       "      <td>NaN</td>\n",
       "      <td>2020-03-05 13:53:03</td>\n",
       "      <td>1</td>\n",
       "      <td>0.301030</td>\n",
       "    </tr>\n",
       "    <tr>\n",
       "      <th>3236</th>\n",
       "      <td>1</td>\n",
       "      <td>South Africa</td>\n",
       "      <td>0</td>\n",
       "      <td>2020-03-06T15:43:02</td>\n",
       "      <td>-30.5595</td>\n",
       "      <td>22.9375</td>\n",
       "      <td>NaN</td>\n",
       "      <td>0</td>\n",
       "      <td>2020-03-06</td>\n",
       "      <td>NaN</td>\n",
       "      <td>2020-03-06 15:43:02</td>\n",
       "      <td>1</td>\n",
       "      <td>0.301030</td>\n",
       "    </tr>\n",
       "    <tr>\n",
       "      <th>3641</th>\n",
       "      <td>3</td>\n",
       "      <td>South Africa</td>\n",
       "      <td>0</td>\n",
       "      <td>2020-03-08T10:23:04</td>\n",
       "      <td>-30.5595</td>\n",
       "      <td>22.9375</td>\n",
       "      <td>NaN</td>\n",
       "      <td>0</td>\n",
       "      <td>2020-03-08</td>\n",
       "      <td>NaN</td>\n",
       "      <td>2020-03-08 10:23:04</td>\n",
       "      <td>3</td>\n",
       "      <td>0.602060</td>\n",
       "    </tr>\n",
       "    <tr>\n",
       "      <th>4140</th>\n",
       "      <td>7</td>\n",
       "      <td>South Africa</td>\n",
       "      <td>0</td>\n",
       "      <td>2020-03-10T05:13:07</td>\n",
       "      <td>-30.5595</td>\n",
       "      <td>22.9375</td>\n",
       "      <td>NaN</td>\n",
       "      <td>0</td>\n",
       "      <td>2020-03-10</td>\n",
       "      <td>NaN</td>\n",
       "      <td>2020-03-10 05:13:07</td>\n",
       "      <td>7</td>\n",
       "      <td>0.903090</td>\n",
       "    </tr>\n",

       "  </tbody>\n",
       "</table>\n",
       "</div>"
      ],
      "text/plain": [
       "      Confirmed Country/Region  Deaths          Last Update  Latitude  \\\n",
       "3048          1   South Africa       0  2020-03-05T13:53:03  -30.5595   \n",
       "3236          1   South Africa       0  2020-03-06T15:43:02  -30.5595   \n",
       "3641          3   South Africa       0  2020-03-08T10:23:04  -30.5595   \n",
       "4140          7   South Africa       0  2020-03-10T05:13:07  -30.5595   \n",
       "\n",
       "      Longitude Province/State  Recovered       Date Diamond Princess  \\\n",
       "3048    22.9375            NaN          0 2020-03-05              NaN   \n",
       "3236    22.9375            NaN          0 2020-03-06              NaN   \n",
       "3641    22.9375            NaN          0 2020-03-08              NaN   \n",
       "4140    22.9375            NaN          0 2020-03-10              NaN   \n",
       "\n",

     "metadata": {},
     "output_type": "execute_result"
    }
   ],
   "source": [
    "df.loc[df['Country/Region']=='South Africa']"
   ]
  },
  {
   "cell_type": "code",

   "metadata": {},
   "outputs": [],
   "source": [
    "df['Log Confirmed'] = np.log10(df['Confirmed']+1)"
   ]
  },
  {
   "cell_type": "code",

   "metadata": {},
   "outputs": [],
   "source": [
    "grouped_df = df.groupby(['Date', 'Country/Region']).agg({'Confirmed': 'sum', 'Recovered': 'sum',\n",
    "                                                    'Active': 'sum', 'Deaths': 'sum'}).reset_index()"
   ]
  },
  {
   "cell_type": "code",

   "metadata": {},
   "outputs": [],
   "source": [
    "grouped_df['Log Confirmed'] = np.log10(grouped_df['Confirmed']+1)"
   ]
  },
  {
   "cell_type": "code",

   "metadata": {},
   "outputs": [
    {
     "name": "stdout",
     "output_type": "stream",
     "text": [
      "<class 'pandas.core.frame.DataFrame'>\n",

     ]
    }
   ],
   "source": [
    "grouped_df.info()"
   ]
  },
  {
   "cell_type": "markdown",
   "metadata": {},
   "source": [
    "1. Check for each country if it has entries for every date\n",
    "2. If country is missing entry for that date, use most previous entry"
   ]
  },
  {
   "cell_type": "code",

   "metadata": {},
   "outputs": [],
   "source": [
    "country_list = grouped_df['Country/Region'].unique()"
   ]
  },
  {
   "cell_type": "code",

   "metadata": {},
   "outputs": [],
   "source": [
    "temp_dict = {}\n",
    "for country in country_list:\n",
    "    date_list = list(grouped_df[grouped_df['Country/Region']==country]['Date'])\n",
    "    missing_dates = list(set(total_dates)-set(date_list))\n",
    "    temp_dict[country]=missing_dates\n",
    "    \n",
    "#     df_temp = pd.DataFrame({'Country/Region':country, 'Date':missing_dates})\n",
    "#     grouped_df_2.append(df_temp, ignore_index=True)\n",
    "    "
   ]
  },
  {
   "cell_type": "code",

   "metadata": {},
   "outputs": [],
   "source": [
    "missing_dates_df = pd.DataFrame.from_dict(temp_dict, orient='index')"
   ]
  },
  {
   "cell_type": "code",

   "metadata": {},
   "outputs": [
    {
     "data": {
      "text/html": [
       "<div>\n",
       "<style scoped>\n",
       "    .dataframe tbody tr th:only-of-type {\n",
       "        vertical-align: middle;\n",
       "    }\n",
       "\n",
       "    .dataframe tbody tr th {\n",
       "        vertical-align: top;\n",
       "    }\n",
       "\n",
       "    .dataframe thead th {\n",
       "        text-align: right;\n",
       "    }\n",
       "</style>\n",
       "<table border=\"1\" class=\"dataframe\">\n",
       "  <thead>\n",
       "    <tr style=\"text-align: right;\">\n",
       "      <th></th>\n",
       "      <th>index</th>\n",
       "      <th>0</th>\n",
       "      <th>1</th>\n",
       "      <th>2</th>\n",
       "      <th>3</th>\n",
       "      <th>4</th>\n",
       "      <th>5</th>\n",
       "      <th>6</th>\n",
       "      <th>7</th>\n",
       "      <th>8</th>\n",
       "      <th>...</th>\n",

       "      <th>30</th>\n",
       "      <th>31</th>\n",
       "      <th>32</th>\n",
       "      <th>33</th>\n",
       "      <th>34</th>\n",
       "      <th>35</th>\n",
       "      <th>36</th>\n",
       "      <th>37</th>\n",
       "      <th>38</th>\n",

       "    </tr>\n",
       "  </thead>\n",
       "  <tbody>\n",
       "    <tr>\n",
       "      <th>0</th>\n",

       "      <td>None</td>\n",
       "      <td>None</td>\n",
       "    </tr>\n",
       "    <tr>\n",
       "      <th>1</th>\n",

       "      <td>...</td>\n",
       "      <td>2020-02-10 00:00:00</td>\n",
       "      <td>None</td>\n",
       "      <td>None</td>\n",
       "      <td>None</td>\n",
       "      <td>None</td>\n",
       "      <td>None</td>\n",
       "      <td>None</td>\n",
       "      <td>None</td>\n",
       "      <td>None</td>\n",
       "      <td>None</td>\n",
       "    </tr>\n",
       "    <tr>\n",
       "      <th>2</th>\n",

       "      <td>None</td>\n",
       "      <td>None</td>\n",
       "      <td>None</td>\n",
       "      <td>None</td>\n",
       "      <td>None</td>\n",
       "      <td>None</td>\n",
       "      <td>None</td>\n",
       "      <td>None</td>\n",
       "      <td>None</td>\n",

       "      <td>...</td>\n",
       "      <td>None</td>\n",
       "      <td>None</td>\n",
       "      <td>None</td>\n",
       "      <td>None</td>\n",
       "      <td>None</td>\n",
       "      <td>None</td>\n",
       "      <td>None</td>\n",
       "      <td>None</td>\n",
       "      <td>None</td>\n",
       "      <td>None</td>\n",
       "    </tr>\n",
       "    <tr>\n",

       "      <td>...</td>\n",
       "      <td>None</td>\n",
       "      <td>None</td>\n",
       "      <td>None</td>\n",
       "      <td>None</td>\n",
       "      <td>None</td>\n",
       "      <td>None</td>\n",
       "      <td>None</td>\n",
       "      <td>None</td>\n",
       "      <td>None</td>\n",
       "      <td>None</td>\n",
       "    </tr>\n",
       "    <tr>\n",

       "      <td>None</td>\n",
       "      <td>None</td>\n",
       "      <td>None</td>\n",
       "      <td>None</td>\n",
       "      <td>None</td>\n",
       "      <td>None</td>\n",
       "      <td>None</td>\n",
       "      <td>None</td>\n",
       "      <td>None</td>\n",
       "      <td>None</td>\n",
       "    </tr>\n",
       "  </tbody>\n",
       "</table>\n",

     "metadata": {},
     "output_type": "execute_result"
    }
   ],
   "source": [
    "missing_dates_df.head()"
   ]
  },
  {
   "cell_type": "code",

   ]
  },
  {
   "cell_type": "code",
   "execution_count": 93,
   "metadata": {},
   "outputs": [
    {
     "data": {
      "text/html": [
       "<div>\n",
       "<style scoped>\n",
       "    .dataframe tbody tr th:only-of-type {\n",
       "        vertical-align: middle;\n",
       "    }\n",
       "\n",
       "    .dataframe tbody tr th {\n",
       "        vertical-align: top;\n",
       "    }\n",
       "\n",
       "    .dataframe thead th {\n",
       "        text-align: right;\n",
       "    }\n",
       "</style>\n",
       "<table border=\"1\" class=\"dataframe\">\n",
       "  <thead>\n",
       "    <tr style=\"text-align: right;\">\n",
       "      <th></th>\n",
       "      <th>index</th>\n",
       "      <th>value</th>\n",
       "    </tr>\n",
       "  </thead>\n",
       "  <tbody>\n",
       "    <tr>\n",
       "      <th>0</th>\n",
       "      <td>Australia</td>\n",
       "      <td>2020-02-26 00:00:00</td>\n",
       "    </tr>\n",
       "    <tr>\n",
       "      <th>1</th>\n",
       "      <td>Canada</td>\n",
       "      <td>2020-02-06 00:00:00</td>\n",
       "    </tr>\n",
       "    <tr>\n",
       "      <th>2</th>\n",
       "      <td>China</td>\n",
       "      <td>None</td>\n",
       "    </tr>\n",
       "    <tr>\n",
       "      <th>3</th>\n",
       "      <td>France</td>\n",
       "      <td>2020-02-07 00:00:00</td>\n",
       "    </tr>\n",
       "    <tr>\n",
       "      <th>4</th>\n",
       "      <td>Germany</td>\n",
       "      <td>2020-02-06 00:00:00</td>\n",
       "    </tr>\n",
       "    <tr>\n",
       "      <th>...</th>\n",
       "      <td>...</td>\n",
       "      <td>...</td>\n",
       "    </tr>\n",
       "    <tr>\n",
       "      <th>5715</th>\n",
       "      <td>Taiwan*</td>\n",
       "      <td>None</td>\n",
       "    </tr>\n",
       "    <tr>\n",
       "      <th>5716</th>\n",
       "      <td>Turkey</td>\n",
       "      <td>2020-02-24 00:00:00</td>\n",
       "    </tr>\n",
       "    <tr>\n",
       "      <th>5717</th>\n",
       "      <td>United Kingdom</td>\n",
       "      <td>2020-02-24 00:00:00</td>\n",
       "    </tr>\n",
       "    <tr>\n",
       "      <th>5718</th>\n",
       "      <td>Cuba</td>\n",
       "      <td>2020-02-24 00:00:00</td>\n",
       "    </tr>\n",
       "    <tr>\n",
       "      <th>5719</th>\n",
       "      <td>Guyana</td>\n",
       "      <td>2020-02-24 00:00:00</td>\n",
       "    </tr>\n",
       "  </tbody>\n",
       "</table>\n",
       "<p>5720 rows × 2 columns</p>\n",
       "</div>"
      ],
      "text/plain": [
       "               index                value\n",
       "0          Australia  2020-02-26 00:00:00\n",
       "1             Canada  2020-02-06 00:00:00\n",
       "2              China                 None\n",
       "3             France  2020-02-07 00:00:00\n",
       "4            Germany  2020-02-06 00:00:00\n",
       "...              ...                  ...\n",
       "5715         Taiwan*                 None\n",
       "5716          Turkey  2020-02-24 00:00:00\n",
       "5717  United Kingdom  2020-02-24 00:00:00\n",
       "5718            Cuba  2020-02-24 00:00:00\n",
       "5719          Guyana  2020-02-24 00:00:00\n",
       "\n",
       "[5720 rows x 2 columns]"
      ]
     },
     "execution_count": 93,
     "metadata": {},
     "output_type": "execute_result"
    }
   ],
   "source": [
    "missing_dates_df"
   ]
  },
  {
   "cell_type": "code",
   "execution_count": 94,
   "metadata": {},
   "outputs": [],
   "source": [
    "missing_dates_df = missing_dates_df.rename(columns={'index': 'Country/Region', 'value': 'Date'})"
   ]
  },
  {
   "cell_type": "code",
   "execution_count": 95,
   "metadata": {},
   "outputs": [
    {
     "data": {
      "text/html": [
       "<div>\n",
       "<style scoped>\n",
       "    .dataframe tbody tr th:only-of-type {\n",
       "        vertical-align: middle;\n",
       "    }\n",
       "\n",
       "    .dataframe tbody tr th {\n",
       "        vertical-align: top;\n",
       "    }\n",
       "\n",
       "    .dataframe thead th {\n",
       "        text-align: right;\n",
       "    }\n",
       "</style>\n",
       "<table border=\"1\" class=\"dataframe\">\n",
       "  <thead>\n",
       "    <tr style=\"text-align: right;\">\n",
       "      <th></th>\n",
       "      <th>Country/Region</th>\n",
       "      <th>Date</th>\n",
       "    </tr>\n",
       "  </thead>\n",
       "  <tbody>\n",
       "    <tr>\n",
       "      <th>2</th>\n",
       "      <td>China</td>\n",
       "      <td>None</td>\n",
       "    </tr>\n",
       "    <tr>\n",
       "      <th>145</th>\n",
       "      <td>China</td>\n",
       "      <td>None</td>\n",
       "    </tr>\n",
       "    <tr>\n",
       "      <th>288</th>\n",
       "      <td>China</td>\n",
       "      <td>None</td>\n",
       "    </tr>\n",
       "    <tr>\n",
       "      <th>431</th>\n",
       "      <td>China</td>\n",
       "      <td>None</td>\n",
       "    </tr>\n",
       "    <tr>\n",
       "      <th>574</th>\n",
       "      <td>China</td>\n",
       "      <td>None</td>\n",
       "    </tr>\n",
       "    <tr>\n",
       "      <th>717</th>\n",
       "      <td>China</td>\n",
       "      <td>None</td>\n",
       "    </tr>\n",
       "    <tr>\n",
       "      <th>860</th>\n",
       "      <td>China</td>\n",
       "      <td>None</td>\n",
       "    </tr>\n",
       "    <tr>\n",
       "      <th>1003</th>\n",
       "      <td>China</td>\n",
       "      <td>None</td>\n",
       "    </tr>\n",
       "    <tr>\n",
       "      <th>1146</th>\n",
       "      <td>China</td>\n",
       "      <td>None</td>\n",
       "    </tr>\n",
       "    <tr>\n",
       "      <th>1289</th>\n",
       "      <td>China</td>\n",
       "      <td>None</td>\n",
       "    </tr>\n",
       "    <tr>\n",
       "      <th>1432</th>\n",
       "      <td>China</td>\n",
       "      <td>None</td>\n",
       "    </tr>\n",
       "    <tr>\n",
       "      <th>1575</th>\n",
       "      <td>China</td>\n",
       "      <td>None</td>\n",
       "    </tr>\n",
       "    <tr>\n",
       "      <th>1718</th>\n",
       "      <td>China</td>\n",
       "      <td>None</td>\n",
       "    </tr>\n",
       "    <tr>\n",
       "      <th>1861</th>\n",
       "      <td>China</td>\n",
       "      <td>None</td>\n",
       "    </tr>\n",
       "    <tr>\n",
       "      <th>2004</th>\n",
       "      <td>China</td>\n",
       "      <td>None</td>\n",
       "    </tr>\n",
       "    <tr>\n",
       "      <th>2147</th>\n",
       "      <td>China</td>\n",
       "      <td>None</td>\n",
       "    </tr>\n",
       "    <tr>\n",
       "      <th>2290</th>\n",
       "      <td>China</td>\n",
       "      <td>None</td>\n",
       "    </tr>\n",
       "    <tr>\n",
       "      <th>2433</th>\n",
       "      <td>China</td>\n",
       "      <td>None</td>\n",
       "    </tr>\n",
       "    <tr>\n",
       "      <th>2576</th>\n",
       "      <td>China</td>\n",
       "      <td>None</td>\n",
       "    </tr>\n",
       "    <tr>\n",
       "      <th>2719</th>\n",
       "      <td>China</td>\n",
       "      <td>None</td>\n",
       "    </tr>\n",
       "    <tr>\n",
       "      <th>2862</th>\n",
       "      <td>China</td>\n",
       "      <td>None</td>\n",
       "    </tr>\n",
       "    <tr>\n",
       "      <th>3005</th>\n",
       "      <td>China</td>\n",
       "      <td>None</td>\n",
       "    </tr>\n",
       "    <tr>\n",
       "      <th>3148</th>\n",
       "      <td>China</td>\n",
       "      <td>None</td>\n",
       "    </tr>\n",
       "    <tr>\n",
       "      <th>3291</th>\n",
       "      <td>China</td>\n",
       "      <td>None</td>\n",
       "    </tr>\n",
       "    <tr>\n",
       "      <th>3434</th>\n",
       "      <td>China</td>\n",
       "      <td>None</td>\n",
       "    </tr>\n",
       "    <tr>\n",
       "      <th>3577</th>\n",
       "      <td>China</td>\n",
       "      <td>None</td>\n",
       "    </tr>\n",
       "    <tr>\n",
       "      <th>3720</th>\n",
       "      <td>China</td>\n",
       "      <td>None</td>\n",
       "    </tr>\n",
       "    <tr>\n",
       "      <th>3863</th>\n",
       "      <td>China</td>\n",
       "      <td>None</td>\n",
       "    </tr>\n",
       "    <tr>\n",
       "      <th>4006</th>\n",
       "      <td>China</td>\n",
       "      <td>None</td>\n",
       "    </tr>\n",
       "    <tr>\n",
       "      <th>4149</th>\n",
       "      <td>China</td>\n",
       "      <td>None</td>\n",
       "    </tr>\n",
       "    <tr>\n",
       "      <th>4292</th>\n",
       "      <td>China</td>\n",
       "      <td>None</td>\n",
       "    </tr>\n",
       "    <tr>\n",
       "      <th>4435</th>\n",
       "      <td>China</td>\n",
       "      <td>None</td>\n",
       "    </tr>\n",
       "    <tr>\n",
       "      <th>4578</th>\n",
       "      <td>China</td>\n",
       "      <td>None</td>\n",
       "    </tr>\n",
       "    <tr>\n",
       "      <th>4721</th>\n",
       "      <td>China</td>\n",
       "      <td>None</td>\n",
       "    </tr>\n",
       "    <tr>\n",
       "      <th>4864</th>\n",
       "      <td>China</td>\n",
       "      <td>None</td>\n",
       "    </tr>\n",
       "    <tr>\n",
       "      <th>5007</th>\n",
       "      <td>China</td>\n",
       "      <td>None</td>\n",
       "    </tr>\n",
       "    <tr>\n",
       "      <th>5150</th>\n",
       "      <td>China</td>\n",
       "      <td>None</td>\n",
       "    </tr>\n",
       "    <tr>\n",
       "      <th>5293</th>\n",
       "      <td>China</td>\n",
       "      <td>None</td>\n",
       "    </tr>\n",
       "    <tr>\n",
       "      <th>5436</th>\n",
       "      <td>China</td>\n",
       "      <td>None</td>\n",
       "    </tr>\n",
       "    <tr>\n",
       "      <th>5579</th>\n",
       "      <td>China</td>\n",
       "      <td>None</td>\n",
       "    </tr>\n",
       "  </tbody>\n",
       "</table>\n",
       "</div>"
      ],
      "text/plain": [
       "     Country/Region  Date\n",
       "2             China  None\n",
       "145           China  None\n",
       "288           China  None\n",
       "431           China  None\n",
       "574           China  None\n",
       "717           China  None\n",
       "860           China  None\n",
       "1003          China  None\n",
       "1146          China  None\n",
       "1289          China  None\n",
       "1432          China  None\n",
       "1575          China  None\n",
       "1718          China  None\n",
       "1861          China  None\n",
       "2004          China  None\n",
       "2147          China  None\n",
       "2290          China  None\n",
       "2433          China  None\n",
       "2576          China  None\n",
       "2719          China  None\n",
       "2862          China  None\n",
       "3005          China  None\n",
       "3148          China  None\n",
       "3291          China  None\n",
       "3434          China  None\n",
       "3577          China  None\n",
       "3720          China  None\n",
       "3863          China  None\n",
       "4006          China  None\n",
       "4149          China  None\n",
       "4292          China  None\n",
       "4435          China  None\n",
       "4578          China  None\n",
       "4721          China  None\n",
       "4864          China  None\n",
       "5007          China  None\n",
       "5150          China  None\n",
       "5293          China  None\n",
       "5436          China  None\n",
       "5579          China  None"
      ]
     },
     "execution_count": 95,
     "metadata": {},
     "output_type": "execute_result"
    }
   ],
   "source": [
    "missing_dates_df.loc[missing_dates_df['Country/Region']=='China']"
   ]
  },
  {
   "cell_type": "code",

   "metadata": {},
   "outputs": [
    {
     "name": "stderr",
     "output_type": "stream",
     "text": [
      "C:\\Users\\brian\\Anaconda3\\lib\\site-packages\\ipykernel_launcher.py:1: FutureWarning:\n",
      "\n",
      "Sorting because non-concatenation axis is not aligned. A future version\n",
      "of pandas will change to not sort by default.\n",
      "\n",
      "To accept the future behavior, pass 'sort=False'.\n",
      "\n",
      "To retain the current behavior and silence the warning, pass 'sort=True'.\n",
      "\n",
      "\n"
     ]
    }
   ],
   "source": [
    "grouped_df = pd.concat([grouped_df, missing_dates_df], ignore_index=True)"
   ]
  },
  {
   "cell_type": "code",
   "execution_count": 97,
   "metadata": {},
   "outputs": [],
   "source": [
    "grouped_df = grouped_df.sort_values(by=['Country/Region', 'Date'])"
   ]
  },
  {
   "cell_type": "code",
   "execution_count": 98,
   "metadata": {},
   "outputs": [],
   "source": [
    "mask = grouped_df['Date']=='2020-02-01 00:00:00'\n",
    "grouped_df = grouped_df.mask(mask, grouped_df.fillna(0))"
   ]
  },
  {
   "cell_type": "code",
   "execution_count": 99,
   "metadata": {},
   "outputs": [
    {
     "data": {
      "text/html": [
       "<div>\n",
       "<style scoped>\n",
       "    .dataframe tbody tr th:only-of-type {\n",
       "        vertical-align: middle;\n",
       "    }\n",
       "\n",
       "    .dataframe tbody tr th {\n",
       "        vertical-align: top;\n",
       "    }\n",
       "\n",
       "    .dataframe thead th {\n",
       "        text-align: right;\n",
       "    }\n",
       "</style>\n",
       "<table border=\"1\" class=\"dataframe\">\n",
       "  <thead>\n",
       "    <tr style=\"text-align: right;\">\n",
       "      <th></th>\n",
       "      <th>Active</th>\n",
       "      <th>Confirmed</th>\n",
       "      <th>Country/Region</th>\n",
       "      <th>Date</th>\n",
       "      <th>Deaths</th>\n",
       "      <th>Log Confirmed</th>\n",
       "      <th>Recovered</th>\n",
       "    </tr>\n",
       "  </thead>\n",
       "  <tbody>\n",
       "    <tr>\n",
       "      <th>4464</th>\n",
       "      <td>0.0</td>\n",
       "      <td>0.0</td>\n",
       "      <td>Azerbaijan</td>\n",
       "      <td>2020-02-01 00:00:00</td>\n",
       "      <td>0.0</td>\n",
       "      <td>0.0</td>\n",
       "      <td>0.0</td>\n",
       "    </tr>\n",
       "    <tr>\n",
       "      <th>4750</th>\n",
       "      <td>NaN</td>\n",
       "      <td>NaN</td>\n",
       "      <td>Azerbaijan</td>\n",
       "      <td>2020-02-02 00:00:00</td>\n",
       "      <td>NaN</td>\n",
       "      <td>NaN</td>\n",
       "      <td>NaN</td>\n",
       "    </tr>\n",
       "    <tr>\n",
       "      <th>5465</th>\n",
       "      <td>NaN</td>\n",
       "      <td>NaN</td>\n",
       "      <td>Azerbaijan</td>\n",
       "      <td>2020-02-03 00:00:00</td>\n",
       "      <td>NaN</td>\n",
       "      <td>NaN</td>\n",
       "      <td>NaN</td>\n",
       "    </tr>\n",
       "    <tr>\n",
       "      <th>1890</th>\n",
       "      <td>NaN</td>\n",
       "      <td>NaN</td>\n",
       "      <td>Azerbaijan</td>\n",
       "      <td>2020-02-04 00:00:00</td>\n",
       "      <td>NaN</td>\n",
       "      <td>NaN</td>\n",
       "      <td>NaN</td>\n",
       "    </tr>\n",
       "    <tr>\n",
       "      <th>2748</th>\n",
       "      <td>NaN</td>\n",
       "      <td>NaN</td>\n",
       "      <td>Azerbaijan</td>\n",
       "      <td>2020-02-05 00:00:00</td>\n",
       "      <td>NaN</td>\n",
       "      <td>NaN</td>\n",
       "      <td>NaN</td>\n",
       "    </tr>\n",
       "  </tbody>\n",
       "</table>\n",
       "</div>"
      ],
      "text/plain": [
       "      Active  Confirmed Country/Region                 Date  Deaths  \\\n",
       "4464     0.0        0.0     Azerbaijan  2020-02-01 00:00:00     0.0   \n",
       "4750     NaN        NaN     Azerbaijan  2020-02-02 00:00:00     NaN   \n",
       "5465     NaN        NaN     Azerbaijan  2020-02-03 00:00:00     NaN   \n",
       "1890     NaN        NaN     Azerbaijan  2020-02-04 00:00:00     NaN   \n",
       "2748     NaN        NaN     Azerbaijan  2020-02-05 00:00:00     NaN   \n",
       "\n",
       "      Log Confirmed  Recovered  \n",
       "4464            0.0        0.0  \n",
       "4750            NaN        NaN  \n",
       "5465            NaN        NaN  \n",
       "1890            NaN        NaN  \n",
       "2748            NaN        NaN  "
      ]
     },
     "execution_count": 99,
     "metadata": {},
     "output_type": "execute_result"
    }
   ],
   "source": [
    "grouped_df.head()"
   ]
  },
  {
   "cell_type": "code",
   "execution_count": 100,
   "metadata": {},
   "outputs": [],
   "source": [
    "grouped_df = grouped_df.ffill()"
   ]
  },
  {
   "cell_type": "code",
   "execution_count": 101,
   "metadata": {},
   "outputs": [],
   "source": [
    "grouped_df = grouped_df.drop_duplicates()"
   ]
  },
  {
   "cell_type": "code",
   "execution_count": 102,
   "metadata": {},
   "outputs": [
    {
     "data": {
      "text/html": [
       "<div>\n",
       "<style scoped>\n",
       "    .dataframe tbody tr th:only-of-type {\n",
       "        vertical-align: middle;\n",
       "    }\n",
       "\n",
       "    .dataframe tbody tr th {\n",
       "        vertical-align: top;\n",
       "    }\n",
       "\n",
       "    .dataframe thead th {\n",
       "        text-align: right;\n",
       "    }\n",
       "</style>\n",
       "<table border=\"1\" class=\"dataframe\">\n",
       "  <thead>\n",
       "    <tr style=\"text-align: right;\">\n",
       "      <th></th>\n",
       "      <th>Active</th>\n",
       "      <th>Confirmed</th>\n",
       "      <th>Deaths</th>\n",
       "      <th>Log Confirmed</th>\n",
       "      <th>Recovered</th>\n",
       "    </tr>\n",
       "  </thead>\n",
       "  <tbody>\n",
       "    <tr>\n",
       "      <th>count</th>\n",
       "      <td>41.000000</td>\n",
       "      <td>41.000000</td>\n",
       "      <td>41.000000</td>\n",
       "      <td>41.000000</td>\n",
       "      <td>41.000000</td>\n",
       "    </tr>\n",
       "    <tr>\n",
       "      <th>mean</th>\n",
       "      <td>36338.048780</td>\n",
       "      <td>62882.268293</td>\n",
       "      <td>2016.268293</td>\n",
       "      <td>4.756990</td>\n",
       "      <td>24527.951220</td>\n",
       "    </tr>\n",
       "    <tr>\n",
       "      <th>std</th>\n",
       "      <td>14742.157023</td>\n",
       "      <td>21966.021732</td>\n",
       "      <td>980.186080</td>\n",
       "      <td>0.218567</td>\n",
       "      <td>21039.109995</td>\n",
       "    </tr>\n",
       "    <tr>\n",
       "      <th>min</th>\n",
       "      <td>11311.000000</td>\n",
       "      <td>11843.000000</td>\n",
       "      <td>259.000000</td>\n",
       "      <td>4.073498</td>\n",
       "      <td>273.000000</td>\n",
       "    </tr>\n",
       "    <tr>\n",
       "      <th>25%</th>\n",
       "      <td>23570.000000</td>\n",
       "      <td>44268.000000</td>\n",
       "      <td>1111.000000</td>\n",
       "      <td>4.646100</td>\n",
       "      <td>4630.000000</td>\n",
       "    </tr>\n",
       "    <tr>\n",
       "      <th>50%</th>\n",
       "      <td>35652.000000</td>\n",
       "      <td>75489.000000</td>\n",
       "      <td>2236.000000</td>\n",
       "      <td>4.877889</td>\n",
       "      <td>18710.000000</td>\n",
       "    </tr>\n",
       "    <tr>\n",
       "      <th>75%</th>\n",
       "      <td>51325.000000</td>\n",
       "      <td>78534.000000</td>\n",
       "      <td>2908.000000</td>\n",
       "      <td>4.895063</td>\n",
       "      <td>44577.000000</td>\n",
       "    </tr>\n",
       "    <tr>\n",
       "      <th>max</th>\n",
       "      <td>58041.000000</td>\n",
       "      <td>80921.000000</td>\n",
       "      <td>3161.000000</td>\n",
       "      <td>4.908067</td>\n",
       "      <td>61644.000000</td>\n",
       "    </tr>\n",
       "  </tbody>\n",
       "</table>\n",
       "</div>"
      ],
      "text/plain": [
       "             Active     Confirmed       Deaths  Log Confirmed     Recovered\n",
       "count     41.000000     41.000000    41.000000      41.000000     41.000000\n",
       "mean   36338.048780  62882.268293  2016.268293       4.756990  24527.951220\n",
       "std    14742.157023  21966.021732   980.186080       0.218567  21039.109995\n",
       "min    11311.000000  11843.000000   259.000000       4.073498    273.000000\n",
       "25%    23570.000000  44268.000000  1111.000000       4.646100   4630.000000\n",
       "50%    35652.000000  75489.000000  2236.000000       4.877889  18710.000000\n",
       "75%    51325.000000  78534.000000  2908.000000       4.895063  44577.000000\n",
       "max    58041.000000  80921.000000  3161.000000       4.908067  61644.000000"
      ]
     },
     "execution_count": 102,
     "metadata": {},
     "output_type": "execute_result"
    }
   ],
   "source": [
    "grouped_df.loc[grouped_df['Country/Region']=='China'].describe()"
   ]
  },
  {
   "cell_type": "code",
   "execution_count": 103,
   "metadata": {},
   "outputs": [
    {
     "data": {
      "text/html": [
       "<div>\n",
       "<style scoped>\n",
       "    .dataframe tbody tr th:only-of-type {\n",
       "        vertical-align: middle;\n",
       "    }\n",
       "\n",
       "    .dataframe tbody tr th {\n",
       "        vertical-align: top;\n",
       "    }\n",
       "\n",
       "    .dataframe thead th {\n",
       "        text-align: right;\n",
       "    }\n",
       "</style>\n",
       "<table border=\"1\" class=\"dataframe\">\n",
       "  <thead>\n",
       "    <tr style=\"text-align: right;\">\n",
       "      <th></th>\n",
       "      <th>Active</th>\n",
       "      <th>Confirmed</th>\n",
       "      <th>Country/Region</th>\n",
       "      <th>Date</th>\n",
       "      <th>Deaths</th>\n",
       "      <th>Log Confirmed</th>\n",
       "      <th>Recovered</th>\n",
       "    </tr>\n",
       "  </thead>\n",
       "  <tbody>\n",
       "    <tr>\n",
       "      <th>4464</th>\n",
       "      <td>0.0</td>\n",
       "      <td>0.0</td>\n",
       "      <td>Azerbaijan</td>\n",
       "      <td>2020-02-01 00:00:00</td>\n",
       "      <td>0.0</td>\n",
       "      <td>0.0</td>\n",
       "      <td>0.0</td>\n",
       "    </tr>\n",
       "    <tr>\n",
       "      <th>4750</th>\n",
       "      <td>0.0</td>\n",
       "      <td>0.0</td>\n",
       "      <td>Azerbaijan</td>\n",
       "      <td>2020-02-02 00:00:00</td>\n",
       "      <td>0.0</td>\n",
       "      <td>0.0</td>\n",
       "      <td>0.0</td>\n",
       "    </tr>\n",
       "    <tr>\n",
       "      <th>5465</th>\n",
       "      <td>0.0</td>\n",
       "      <td>0.0</td>\n",
       "      <td>Azerbaijan</td>\n",
       "      <td>2020-02-03 00:00:00</td>\n",
       "      <td>0.0</td>\n",
       "      <td>0.0</td>\n",
       "      <td>0.0</td>\n",
       "    </tr>\n",
       "    <tr>\n",
       "      <th>1890</th>\n",
       "      <td>0.0</td>\n",
       "      <td>0.0</td>\n",
       "      <td>Azerbaijan</td>\n",
       "      <td>2020-02-04 00:00:00</td>\n",
       "      <td>0.0</td>\n",
       "      <td>0.0</td>\n",
       "      <td>0.0</td>\n",
       "    </tr>\n",
       "    <tr>\n",
       "      <th>2748</th>\n",
       "      <td>0.0</td>\n",
       "      <td>0.0</td>\n",
       "      <td>Azerbaijan</td>\n",
       "      <td>2020-02-05 00:00:00</td>\n",
       "      <td>0.0</td>\n",
       "      <td>0.0</td>\n",
       "      <td>0.0</td>\n",
       "    </tr>\n",
       "  </tbody>\n",
       "</table>\n",
       "</div>"
      ],
      "text/plain": [
       "      Active  Confirmed Country/Region                 Date  Deaths  \\\n",
       "4464     0.0        0.0     Azerbaijan  2020-02-01 00:00:00     0.0   \n",
       "4750     0.0        0.0     Azerbaijan  2020-02-02 00:00:00     0.0   \n",
       "5465     0.0        0.0     Azerbaijan  2020-02-03 00:00:00     0.0   \n",
       "1890     0.0        0.0     Azerbaijan  2020-02-04 00:00:00     0.0   \n",
       "2748     0.0        0.0     Azerbaijan  2020-02-05 00:00:00     0.0   \n",
       "\n",
       "      Log Confirmed  Recovered  \n",
       "4464            0.0        0.0  \n",
       "4750            0.0        0.0  \n",
       "5465            0.0        0.0  \n",
       "1890            0.0        0.0  \n",
       "2748            0.0        0.0  "
      ]
     },
     "execution_count": 103,
     "metadata": {},
     "output_type": "execute_result"
    }
   ],
   "source": [
    "grouped_df.head()"
   ]
  },
  {
   "cell_type": "code",
   "execution_count": 104,
   "metadata": {},
   "outputs": [],
   "source": [
    "grouped_df.sort_values(['Country/Region', 'Date'], inplace=True)"
   ]
  },
  {
   "cell_type": "code",
   "execution_count": 115,
   "metadata": {},
   "outputs": [
    {
     "data": {
      "text/html": [
       "<div>\n",
       "<style scoped>\n",
       "    .dataframe tbody tr th:only-of-type {\n",
       "        vertical-align: middle;\n",
       "    }\n",
       "\n",
       "    .dataframe tbody tr th {\n",
       "        vertical-align: top;\n",
       "    }\n",
       "\n",
       "    .dataframe thead th {\n",
       "        text-align: right;\n",
       "    }\n",
       "</style>\n",
       "<table border=\"1\" class=\"dataframe\">\n",
       "  <thead>\n",
       "    <tr style=\"text-align: right;\">\n",
       "      <th></th>\n",
       "      <th>Active</th>\n",
       "      <th>Confirmed</th>\n",
       "      <th>Deaths</th>\n",
       "      <th>Log Confirmed</th>\n",
       "      <th>Recovered</th>\n",
       "    </tr>\n",
       "  </thead>\n",
       "  <tbody>\n",
       "    <tr>\n",
       "      <th>count</th>\n",
       "      <td>143.000000</td>\n",
       "      <td>143.000000</td>\n",
       "      <td>143.000000</td>\n",
       "      <td>143.000000</td>\n",
       "      <td>143.000000</td>\n",
       "    </tr>\n",
       "    <tr>\n",
       "      <th>mean</th>\n",
       "      <td>531.132867</td>\n",
       "      <td>1046.811189</td>\n",
       "      <td>35.664336</td>\n",
       "      <td>1.446214</td>\n",
       "      <td>480.013986</td>\n",
       "    </tr>\n",
       "    <tr>\n",
       "      <th>std</th>\n",
       "      <td>1952.507637</td>\n",
       "      <td>6721.769612</td>\n",
       "      <td>273.430887</td>\n",
       "      <td>1.000645</td>\n",
       "      <td>5013.460462</td>\n",
       "    </tr>\n",
       "    <tr>\n",
       "      <th>min</th>\n",
       "      <td>0.000000</td>\n",
       "      <td>0.000000</td>\n",
       "      <td>0.000000</td>\n",
       "      <td>0.000000</td>\n",
       "      <td>0.000000</td>\n",
       "    </tr>\n",
       "    <tr>\n",
       "      <th>25%</th>\n",
       "      <td>3.000000</td>\n",
       "      <td>3.000000</td>\n",
       "      <td>0.000000</td>\n",
       "      <td>0.602060</td>\n",
       "      <td>0.000000</td>\n",
       "    </tr>\n",
       "    <tr>\n",
       "      <th>50%</th>\n",
       "      <td>17.000000</td>\n",
       "      <td>19.000000</td>\n",
       "      <td>0.000000</td>\n",
       "      <td>1.301030</td>\n",
       "      <td>0.000000</td>\n",
       "    </tr>\n",
       "    <tr>\n",
       "      <th>75%</th>\n",
       "      <td>68.000000</td>\n",
       "      <td>87.000000</td>\n",
       "      <td>1.000000</td>\n",
       "      <td>1.944370</td>\n",
       "      <td>7.000000</td>\n",
       "    </tr>\n",
       "    <tr>\n",
       "      <th>max</th>\n",
       "      <td>14812.000000</td>\n",
       "      <td>77817.000000</td>\n",
       "      <td>3135.000000</td>\n",
       "      <td>4.891080</td>\n",
       "      <td>59870.000000</td>\n",
       "    </tr>\n",
       "  </tbody>\n",
       "</table>\n",
       "</div>"
      ],
      "text/plain": [
       "             Active     Confirmed       Deaths  Log Confirmed     Recovered\n",
       "count    143.000000    143.000000   143.000000     143.000000    143.000000\n",
       "mean     531.132867   1046.811189    35.664336       1.446214    480.013986\n",
       "std     1952.507637   6721.769612   273.430887       1.000645   5013.460462\n",
       "min        0.000000      0.000000     0.000000       0.000000      0.000000\n",
       "25%        3.000000      3.000000     0.000000       0.602060      0.000000\n",
       "50%       17.000000     19.000000     0.000000       1.301030      0.000000\n",
       "75%       68.000000     87.000000     1.000000       1.944370      7.000000\n",
       "max    14812.000000  77817.000000  3135.000000       4.891080  59870.000000"
      ]
     },
     "execution_count": 115,
     "metadata": {},
     "output_type": "execute_result"
    }
   ],
   "source": [
    "grouped_df.loc[grouped_df['Date']=='2020-03-12 00:00:00'].describe()"
   ]
  },
  {
   "cell_type": "code",
   "execution_count": 116,
   "metadata": {},
   "outputs": [
    {
     "data": {
      "text/plain": [
       "14812.0"
      ]
     },
     "execution_count": 116,
     "metadata": {},
     "output_type": "execute_result"
    }
   ],
   "source": [
    "grouped_df.loc[grouped_df['Date']=='2020-03-12 00:00:00'].describe()['Active']['max']"
   ]
  },
  {
   "cell_type": "code",
   "execution_count": 112,
   "metadata": {},
   "outputs": [
    {
     "data": {
      "text/plain": [
       "3.0"
      ]
     },
     "execution_count": 112,
     "metadata": {},
     "output_type": "execute_result"
    }
   ],
   "source": [
    "def assign_bins(df):\n",
    "    first_quartile = _df.loc[df['Date']==date].describe()['Active']['25%']\n",
    "    second_quartile = df.loc[df['Date']==date].describe()['Active']['50%']\n",
    "    third_quartile = df.loc[df['Date']==date].describe()['Active']['75%']\n",
    "    fourth_quartile = df.loc[grouped_df['Date']==date].describe()['Active']['max']\n",
    "for date in total_dates:\n",
    "    first_quartile = grouped_df.loc[grouped_df['Date']==date].describe()['Active']['25%']\n",
    "    second_quartile = grouped_df.loc[grouped_df['Date']==date].describe()['Active']['50%']\n",
    "    third_quartile = grouped_df.loc[grouped_df['Date']==date].describe()['Active']['75%']\n",
    "    fourth_quartile = grouped_df.loc[grouped_df['Date']==date].describe()['Active']['max']\n",
    "    if 0<cases<first_quartile:\n",
    "        bins=1\n",
    "    elif first_quartile<cases<second_quartile:\n",
    "        bins=2\n",
    "    elif second_quartile<cases<third_quartile:\n",
    "        bins=3\n",
    "    elif third_quartile<cases<=fourth_quartile:\n",
    "        bins=4"
   ]
  },
  {
   "cell_type": "code",
   "execution_count": 106,
   "metadata": {},
   "outputs": [
    {
     "name": "stdout",
     "output_type": "stream",
     "text": [
      "2020-02-26 00:00:00 77900.0\n",
      "2020-02-07 00:00:00 34056.0\n",
      "2020-03-07 00:00:00 78619.0\n",
      "2020-03-09 00:00:00 76902.0\n",
      "2020-03-12 00:00:00 77817.0\n",
      "2020-02-04 00:00:00 23679.0\n",
      "2020-03-02 00:00:00 79749.0\n",
      "2020-03-11 00:00:00 80921.0\n",
      "2020-02-29 00:00:00 79068.0\n",
      "2020-02-18 00:00:00 74138.0\n",
      "2020-02-05 00:00:00 27374.0\n",
      "2020-03-08 00:00:00 79455.0\n",
      "2020-02-08 00:00:00 36759.0\n",
      "2020-02-27 00:00:00 78534.0\n",
      "2020-03-05 00:00:00 79465.0\n",
      "2020-02-12 00:00:00 44700.0\n",
      "2020-02-15 00:00:00 68346.0\n",
      "2020-02-19 00:00:00 74545.0\n",
      "2020-03-01 00:00:00 79588.0\n",
      "2020-02-24 00:00:00 76987.0\n",
      "2020-03-03 00:00:00 79574.0\n",
      "2020-03-04 00:00:00 79538.0\n",
      "2020-02-28 00:00:00 78330.0\n",
      "2020-03-10 00:00:00 77201.0\n",
      "2020-02-01 00:00:00 11843.0\n",
      "2020-02-06 00:00:00 30490.0\n",
      "2020-02-02 00:00:00 16606.0\n",
      "2020-02-10 00:00:00 42168.0\n",
      "2020-02-20 00:00:00 74980.0\n",
      "2020-02-13 00:00:00 59831.0\n",
      "2020-02-22 00:00:00 76741.0\n",
      "2020-02-03 00:00:00 19692.0\n",
      "2020-02-17 00:00:00 72345.0\n",
      "2020-02-09 00:00:00 39771.0\n",
      "2020-02-16 00:00:00 70357.0\n",
      "2020-02-11 00:00:00 44268.0\n",
      "2020-02-21 00:00:00 75489.0\n",
      "2020-02-25 00:00:00 77474.0\n",
      "2020-02-23 00:00:00 76919.0\n",
      "2020-03-06 00:00:00 79771.0\n",
      "2020-02-14 00:00:00 66183.0\n"
     ]
    }
   ],
   "source": [
    "for date in total_dates:\n",
    "    max_confirmed = grouped_df.loc[grouped_df['Date']==date]['Confirmed'].max()\n",
    "    print(date, max_confirmed)"
   ]
  },
  {
   "cell_type": "code",
   "execution_count": null,
   "metadata": {},
   "outputs": [],
   "source": [
    "def bins_percentage(max_confirmed):"
   ]
  },
  {
   "cell_type": "code",
   "execution_count": 107,
   "metadata": {},
   "outputs": [
    {
     "data": {
      "application/vnd.jupyter.widget-view+json": {
       "model_id": "cb41287a030146a8bfd90ccd0da64890",
       "version_major": 2,
       "version_minor": 0
      },
      "text/plain": [
       "interactive(children=(Dropdown(description='Country', options=(' Azerbaijan', 'Afghanistan', 'Albania', 'Alger…"
      ]
     },
     "metadata": {},
     "output_type": "display_data"
    }
   ],
   "source": [
    "@interact(Country = grouped_df['Country/Region'].sort_values().unique(), Confirmed=True, Active=True, Recovered=True, Deaths=True)\n",
    "def viz(Country, Confirmed, Active, Recovered, Deaths):\n",
    "    fig = px.line(title='Cases Over Time')\n",
    "    if Confirmed:\n",
    "        country_df = pd.DataFrame(grouped_df.loc[grouped_df['Country/Region']==Country].groupby('Date')['Confirmed'].agg('sum'))\n",
    "        fig.add_scatter(x = country_df.index, y = country_df['Confirmed'], mode='lines', name='Confirmed Cases')\n",
    "    if Active:\n",
    "        country_df = pd.DataFrame(grouped_df.loc[grouped_df['Country/Region']==Country].groupby('Date')['Active'].agg('sum'))\n",
    "        fig.add_scatter(x = country_df.index, y = country_df['Active'], mode='lines', name='Active Cases')\n",
    "    if Recovered:\n",
    "        country_df = pd.DataFrame(grouped_df.loc[grouped_df['Country/Region']==Country].groupby('Date')['Recovered'].agg('sum'))\n",
    "        fig.add_scatter(x = country_df.index, y = country_df['Recovered'], mode='lines', name='Recovered Cases')\n",
    "    if Deaths:\n",
    "        country_df = pd.DataFrame(grouped_df.loc[grouped_df['Country/Region']==Country].groupby('Date')['Deaths'].agg('sum'))\n",
    "        fig.add_scatter(x = country_df.index, y = country_df['Deaths'], mode='lines', name='Deceased Cases')\n",
    "    fig.update_xaxes(title='Date', range=[dt.date(2020, 2, 1), dt.datetime.now()])\n",
    "    fig.show()"
   ]
  },
  {
   "cell_type": "code",
   "execution_count": 108,
   "metadata": {},
   "outputs": [
    {
     "data": {
      "application/vnd.plotly.v1+json": {
       "config": {
        "plotlyServerURL": "https://plot.ly"
       },
       "data": [
        {
         "customdata": [
          [
           0
          ],
          [
           0
          ],
          [
           0
          ],
          [
           0
          ],
          [
           0
          ],
          [
           0
          ],
          [
           0
          ],
          [
           20
          ],
          [
           0
          ],
          [
           0
          ],
          [
           0
          ],
          [
           0
          ],
          [
           0
          ],
          [
           0
          ],
          [
           0
          ],
          [
           0
          ],
          [
           0
          ],
          [
           0
          ],
          [
           0
          ],
          [
           0
          ],
          [
           0
          ],
          [
           0
          ],
          [
           0
          ],
          [
           8
          ],
          [
           0
          ],
          [
           0
          ],
          [
           11843
          ],
          [
           0
          ],
          [
           0
          ],
          [
           0
          ],
          [
           0
          ],
          [
           0
          ],
          [
           0
          ],
          [
           0
          ],
          [
           0
          ],
          [
           0
          ],
          [
           0
          ],
          [
           0
          ],
          [
           0
          ],
          [
           0
          ],
          [
           0
          ],
          [
           0
          ],
          [
           0
          ],
          [
           0
          ],
          [
           12
          ],
          [
           0
          ],
          [
           0
          ],
          [
           8
          ],
          [
           0
          ],
          [
           0
          ],
          [
           0
          ],
          [
           0
          ],
          [
           0
          ],
          [
           13
          ],
          [
           0
          ],
          [
           0
          ],
          [
           0
          ],
          [
           0
          ],
          [
           0
          ],
          [
           0
          ],
          [
           0
          ],
          [
           0
          ],
          [
           0
          ],
          [
           0
          ],
          [
           0
          ],
          [
           0
          ],
          [
           40
          ],
          [
           0
          ],
          [
           0
          ],
          [
           0
          ],
          [
           0
          ],
          [
           0
          ],
          [
           0
          ],
          [
           0
          ],
          [
           0
          ],
          [
           0
          ],
          [
           0
          ],
          [
           0
          ],
          [
           0
          ],
          [
           0
          ],
          [
           0
          ],
          [
           0
          ],
          [
           0
          ],
          [
           0
          ],
          [
           0
          ],
          [
           0
          ],
          [
           0
          ],
          [
           0
          ],
          [
           0
          ],
          [
           0
          ],
          [
           0
          ],
          [
           0
          ],
          [
           0
          ],
          [
           0
          ],
          [
           0
          ],
          [
           0
          ],
          [
           0
          ],
          [
           0
          ],
          [
           0
          ],
          [
           0
          ],
          [
           1
          ],
          [
           0
          ],
          [
           0
          ],
          [
           0
          ],
          [
           0
          ],
          [
           0
          ],
          [
           0
          ],
          [
           0
          ],
          [
           0
          ],
          [
           0
          ],
          [
           0
          ],
          [
           0
          ],
          [
           0
          ],
          [
           0
          ],
          [
           0
          ],
          [
           0
          ],
          [
           0
          ],
          [
           16
          ],
          [
           0
          ],
          [
           0
          ],
          [
           0
          ],
          [
           12
          ],
          [
           2
          ],
          [
           0
          ],
          [
           0
          ],
          [
           2
          ],
          [
           0
          ],
          [
           0
          ],
          [
           0
          ],
          [
           0
          ],
          [
           0
          ],
          [
           0
          ],
          [
           0
          ],
          [
           0
          ],
          [
           4
          ],
          [
           18
          ],
          [
           0
          ],
          [
           0
          ],
          [
           0
          ],
          [
           0
          ],
          [
           0
          ],
          [
           12
          ],
          [
           0
          ]
         ],
         "geo": "geo",
         "hoverlabel": {
          "namelength": 0
         },
         "hovertemplate": "Date=2020-02-01 00:00:00<br>Log Confirmed=%{marker.size}<br>Confirmed=%{customdata[0]}<br>Country/Region=%{location}",
         "legendgroup": "",
         "locationmode": "country names",
         "locations": [
          " Azerbaijan",
          "Afghanistan",
          "Albania",
          "Algeria",
          "Andorra",
          "Argentina",
          "Armenia",
          "Australia",
          "Austria",
          "Azerbaijan",
          "Bahrain",
          "Bangladesh",
          "Belarus",
          "Belgium",
          "Bhutan",
          "Bolivia",
          "Bosnia and Herzegovina",
          "Brazil",
          "Brunei",
          "Bulgaria",
          "Burkina Faso",
          "Cambodia",
          "Cameroon",
          "Canada",
          "Channel Islands",
          "Chile",
          "China",
          "Colombia",
          "Congo (Kinshasa)",
          "Costa Rica",
          "Cote d'Ivoire",
          "Croatia",
          "Cruise Ship",
          "Cuba",
          "Cyprus",
          "Czech Republic",
          "Czechia",
          "Denmark",
          "Dominican Republic",
          "Ecuador",
          "Egypt",
          "Estonia",
          "Faroe Islands",
          "Finland",
          "France",
          "French Guiana",
          "Georgia",
          "Germany",
          "Gibraltar",
          "Greece",
          "Guyana",
          "Holy See",
          "Honduras",
          "Hong Kong",
          "Hong Kong SAR",
          "Hungary",
          "Iceland",
          "India",
          "Indonesia",
          "Iran",
          "Iran (Islamic Republic of)",
          "Iraq",
          "Ireland",
          "Israel",
          "Italy",
          "Jamaica",
          "Japan",
          "Jordan",
          "Korea, South",
          "Kuwait",
          "Latvia",
          "Lebanon",
          "Liechtenstein",
          "Lithuania",
          "Luxembourg",
          "Macao SAR",
          "Macau",
          "Malaysia",
          "Maldives",
          "Malta",
          "Martinique",
          "Mexico",
          "Moldova",
          "Monaco",
          "Mongolia",
          "Morocco",
          "Nepal",
          "Netherlands",
          "New Zealand",
          "Nigeria",
          "North Ireland",
          "North Macedonia",
          "Norway",
          "Oman",
          "Others",
          "Pakistan",
          "Palestine",
          "Panama",
          "Paraguay",
          "Peru",
          "Philippines",
          "Poland",
          "Portugal",
          "Qatar",
          "Republic of Ireland",
          "Republic of Korea",
          "Republic of Moldova",
          "Reunion",
          "Romania",
          "Russia",
          "Russian Federation",
          "Saint Barthelemy",
          "Saint Martin",
          "San Marino",
          "Saudi Arabia",
          "Senegal",
          "Serbia",
          "Singapore",
          "Slovakia",
          "Slovenia",
          "South Africa",
          "South Korea",
          "Spain",
          "Sri Lanka",
          "St. Martin",
          "Sweden",
          "Switzerland",
          "Taipei and environs",
          "Taiwan",
          "Taiwan*",
          "Thailand",
          "Togo",
          "Tunisia",
          "Turkey",
          "UK",
          "US",
          "Ukraine",
          "United Arab Emirates",
          "United Kingdom",
          "Vatican City",
          "Viet Nam",
          "Vietnam",
          "occupied Palestinian territory"
         ],
         "marker": {
          "color": "#636efa",
          "size": [
           0,
           0,
           0,
           0,
           0,
           0,
           0,
           1.3222192947339193,
           0,
           0,
           0,
           0,
           0,
           0,
           0,
           0,
           0,
           0,
           0,
           0,
           0,
           0,
           0,
           0.9542425094393249,
           0,
           0,
           4.073498398717262,
           0,
           0,
           0,
           0,
           0,
           0,
           0,
           0,
           0,
           0,
           0,
           0,
           0,
           0,
           0,
           0,
           0,
           1.1139433523068367,
           0,
           0,
           0.9542425094393249,
           0,
           0,
           0,
           0,
           0,
           1.146128035678238,
           0,
           0,
           0,
           0,
           0,
           0,
           0,
           0,
           0,
           0,
           0,
           0,
           1.6127838567197355,
           0,
           0,
           0,
           0,
           0,
           0,
           0,
           0,
           0,
           0,
           0,
           0,
           0,
           0,
           0,
           0,
           0,
           0,
           0,
           0,
           0,
           0,
           0,
           0,
           0,
           0,
           0,
           0,
           0,
           0,
           0,
           0,
           0,
           0.3010299956639812,
           0,
           0,
           0,
           0,
           0,
           0,
           0,
           0,
           0,
           0,
           0,
           0,
           0,
           0,
           0,
           0,
           1.2304489213782739,
           0,
           0,
           0,
           1.1139433523068367,
           0.47712125471966244,
           0,
           0,
           0.47712125471966244,
           0,
           0,
           0,
           0,
           0,
           0,
           0,
           0,
           0.6989700043360189,
           1.2787536009528289,
           0,
           0,
           0,
           0,
           0,
           1.1139433523068367,
           0
          ],
          "sizemode": "area",
          "sizeref": 0.012270166519720165
         },
         "name": "",
         "showlegend": false,
         "type": "scattergeo"
        }
       ],
       "frames": [
        {
         "data": [
          {
           "customdata": [
            [
             0
            ],
            [
             0
            ],
            [
             0
            ],
            [
             0
            ],
            [
             0
            ],
            [
             0
            ],
            [
             0
            ],
            [
             20
            ],
            [
             0
            ],
            [
             0
            ],
            [
             0
            ],
            [
             0
            ],
            [
             0
            ],
            [
             0
            ],
            [
             0
            ],
            [
             0
            ],
            [
             0
            ],
            [
             0
            ],
            [
             0
            ],
            [
             0
            ],
            [
             0
            ],
            [
             0
            ],
            [
             0
            ],
            [
             8
            ],
            [
             0
            ],
            [
             0
            ],
            [
             11843
            ],
            [
             0
            ],
            [
             0
            ],
            [
             0
            ],
            [
             0
            ],
            [
             0
            ],
            [
             0
            ],
            [
             0
            ],
            [
             0
            ],
            [
             0
            ],
            [
             0
            ],
            [
             0
            ],
            [
             0
            ],
            [
             0
            ],
            [
             0
            ],
            [
             0
            ],
            [
             0
            ],
            [
             0
            ],
            [
             12
            ],
            [
             0
            ],
            [
             0
            ],
            [
             8
            ],
            [
             0
            ],
            [
             0
            ],
            [
             0
            ],
            [
             0
            ],
            [
             0
            ],
            [
             13
            ],
            [
             0
            ],
            [
             0
            ],
            [
             0
            ],
            [
             0
            ],
            [
             0
            ],
            [
             0
            ],
            [
             0
            ],
            [
             0
            ],
            [
             0
            ],
            [
             0
            ],
            [
             0
            ],
            [
             0
            ],
            [
             40
            ],
            [
             0
            ],
            [
             0
            ],
            [
             0
            ],
            [
             0
            ],
            [
             0
            ],
            [
             0
            ],
            [
             0
            ],
            [
             0
            ],
            [
             0
            ],
            [
             0
            ],
            [
             0
            ],
            [
             0
            ],
            [
             0
            ],
            [
             0
            ],
            [
             0
            ],
            [
             0
            ],
            [
             0
            ],
            [
             0
            ],
            [
             0
            ],
            [
             0
            ],
            [
             0
            ],
            [
             0
            ],
            [
             0
            ],
            [
             0
            ],
            [
             0
            ],
            [
             0
            ],
            [
             0
            ],
            [
             0
            ],
            [
             0
            ],
            [
             0
            ],
            [
             0
            ],
            [
             0
            ],
            [
             0
            ],
            [
             1
            ],
            [
             0
            ],
            [
             0
            ],
            [
             0
            ],
            [
             0
            ],
            [
             0
            ],
            [
             0
            ],
            [
             0
            ],
            [
             0
            ],
            [
             0
            ],
            [
             0
            ],
            [
             0
            ],
            [
             0
            ],
            [
             0
            ],
            [
             0
            ],
            [
             0
            ],
            [
             0
            ],
            [
             16
            ],
            [
             0
            ],
            [
             0
            ],
            [
             0
            ],
            [
             12
            ],
            [
             2
            ],
            [
             0
            ],
            [
             0
            ],
            [
             2
            ],
            [
             0
            ],
            [
             0
            ],
            [
             0
            ],
            [
             0
            ],
            [
             0
            ],
            [
             0
            ],
            [
             0
            ],
            [
             0
            ],
            [
             4
            ],
            [
             18
            ],
            [
             0
            ],
            [
             0
            ],
            [
             0
            ],
            [
             0
            ],
            [
             0
            ],
            [
             12
            ],
            [
             0
            ]
           ],
           "geo": "geo",
           "hoverlabel": {
            "namelength": 0
           },
           "hovertemplate": "Date=2020-02-01 00:00:00<br>Log Confirmed=%{marker.size}<br>Confirmed=%{customdata[0]}<br>Country/Region=%{location}",
           "legendgroup": "",
           "locationmode": "country names",
           "locations": [
            " Azerbaijan",
            "Afghanistan",
            "Albania",
            "Algeria",
            "Andorra",
            "Argentina",
            "Armenia",
            "Australia",
            "Austria",
            "Azerbaijan",
            "Bahrain",
            "Bangladesh",
            "Belarus",
            "Belgium",
            "Bhutan",
            "Bolivia",
            "Bosnia and Herzegovina",
            "Brazil",
            "Brunei",
            "Bulgaria",
            "Burkina Faso",
            "Cambodia",
            "Cameroon",
            "Canada",
            "Channel Islands",
            "Chile",
            "China",
            "Colombia",
            "Congo (Kinshasa)",
            "Costa Rica",
            "Cote d'Ivoire",
            "Croatia",
            "Cruise Ship",
            "Cuba",
            "Cyprus",
            "Czech Republic",
            "Czechia",
            "Denmark",
            "Dominican Republic",
            "Ecuador",
            "Egypt",
            "Estonia",
            "Faroe Islands",
            "Finland",
            "France",
            "French Guiana",
            "Georgia",
            "Germany",
            "Gibraltar",
            "Greece",
            "Guyana",
            "Holy See",
            "Honduras",
            "Hong Kong",
            "Hong Kong SAR",
            "Hungary",
            "Iceland",
            "India",
            "Indonesia",
            "Iran",
            "Iran (Islamic Republic of)",
            "Iraq",
            "Ireland",
            "Israel",
            "Italy",
            "Jamaica",
            "Japan",
            "Jordan",
            "Korea, South",
            "Kuwait",
            "Latvia",
            "Lebanon",
            "Liechtenstein",
            "Lithuania",
            "Luxembourg",
            "Macao SAR",
            "Macau",
            "Malaysia",
            "Maldives",
            "Malta",
            "Martinique",
            "Mexico",
            "Moldova",
            "Monaco",
            "Mongolia",
            "Morocco",
            "Nepal",
            "Netherlands",
            "New Zealand",
            "Nigeria",
            "North Ireland",
            "North Macedonia",
            "Norway",
            "Oman",
            "Others",
            "Pakistan",
            "Palestine",
            "Panama",
            "Paraguay",
            "Peru",
            "Philippines",
            "Poland",
            "Portugal",
            "Qatar",
            "Republic of Ireland",
            "Republic of Korea",
            "Republic of Moldova",
            "Reunion",
            "Romania",
            "Russia",
            "Russian Federation",
            "Saint Barthelemy",
            "Saint Martin",
            "San Marino",
            "Saudi Arabia",
            "Senegal",
            "Serbia",
            "Singapore",
            "Slovakia",
            "Slovenia",
            "South Africa",
            "South Korea",
            "Spain",
            "Sri Lanka",
            "St. Martin",
            "Sweden",
            "Switzerland",
            "Taipei and environs",
            "Taiwan",
            "Taiwan*",
            "Thailand",
            "Togo",
            "Tunisia",
            "Turkey",
            "UK",
            "US",
            "Ukraine",
            "United Arab Emirates",
            "United Kingdom",
            "Vatican City",
            "Viet Nam",
            "Vietnam",
            "occupied Palestinian territory"
           ],
           "marker": {
            "color": "#636efa",
            "size": [
             0,
             0,
             0,
             0,
             0,
             0,
             0,
             1.3222192947339193,
             0,
             0,
             0,
             0,
             0,
             0,
             0,
             0,
             0,
             0,
             0,
             0,
             0,
             0,
             0,
             0.9542425094393249,
             0,
             0,
             4.073498398717262,
             0,
             0,
             0,
             0,
             0,
             0,
             0,
             0,
             0,
             0,
             0,
             0,
             0,
             0,
             0,
             0,
             0,
             1.1139433523068367,
             0,
             0,
             0.9542425094393249,
             0,
             0,
             0,
             0,
             0,
             1.146128035678238,
             0,
             0,
             0,
             0,
             0,
             0,
             0,
             0,
             0,
             0,
             0,
             0,
             1.6127838567197355,
             0,
             0,
             0,
             0,
             0,
             0,
             0,
             0,
             0,
             0,
             0,
             0,
             0,
             0,
             0,
             0,
             0,
             0,
             0,
             0,
             0,
             0,
             0,
             0,
             0,
             0,
             0,
             0,
             0,
             0,
             0,
             0,
             0,
             0.3010299956639812,
             0,
             0,
             0,
             0,
             0,
             0,
             0,
             0,
             0,
             0,
             0,
             0,
             0,
             0,
             0,
             0,
             1.2304489213782739,
             0,
             0,
             0,
             1.1139433523068367,
             0.47712125471966244,
             0,
             0,
             0.47712125471966244,
             0,
             0,
             0,
             0,
             0,
             0,
             0,
             0,
             0.6989700043360189,
             1.2787536009528289,
             0,
             0,
             0,
             0,
             0,
             1.1139433523068367,
             0
            ],
            "sizemode": "area",
            "sizeref": 0.012270166519720165
           },
           "name": "",
           "showlegend": false,
           "type": "scattergeo"
          }
         ],
         "name": "2020-02-01 00:00:00"
        },
        {
         "data": [
          {
           "customdata": [
            [
             0
            ],
            [
             0
            ],
            [
             0
            ],
            [
             0
            ],
            [
             0
            ],
            [
             0
            ],
            [
             0
            ],
            [
             4
            ],
            [
             0
            ],
            [
             0
            ],
            [
             0
            ],
            [
             0
            ],
            [
             0
            ],
            [
             0
            ],
            [
             0
            ],
            [
             0
            ],
            [
             0
            ],
            [
             0
            ],
            [
             0
            ],
            [
             0
            ],
            [
             0
            ],
            [
             0
            ],
            [
             0
            ],
            [
             8
            ],
            [
             0
            ],
            [
             0
            ],
            [
             16606
            ],
            [
             0
            ],
            [
             0
            ],
            [
             0
            ],
            [
             0
            ],
            [
             0
            ],
            [
             0
            ],
            [
             0
            ],
            [
             0
            ],
            [
             0
            ],
            [
             0
            ],
            [
             0
            ],
            [
             0
            ],
            [
             0
            ],
            [
             0
            ],
            [
             0
            ],
            [
             0
            ],
            [
             0
            ],
            [
             12
            ],
            [
             0
            ],
            [
             0
            ],
            [
             10
            ],
            [
             0
            ],
            [
             0
            ],
            [
             0
            ],
            [
             0
            ],
            [
             0
            ],
            [
             15
            ],
            [
             0
            ],
            [
             0
            ],
            [
             0
            ],
            [
             2
            ],
            [
             0
            ],
            [
             0
            ],
            [
             0
            ],
            [
             0
            ],
            [
             0
            ],
            [
             0
            ],
            [
             0
            ],
            [
             0
            ],
            [
             40
            ],
            [
             0
            ],
            [
             0
            ],
            [
             0
            ],
            [
             0
            ],
            [
             0
            ],
            [
             0
            ],
            [
             0
            ],
            [
             0
            ],
            [
             0
            ],
            [
             8
            ],
            [
             0
            ],
            [
             0
            ],
            [
             0
            ],
            [
             0
            ],
            [
             0
            ],
            [
             0
            ],
            [
             0
            ],
            [
             0
            ],
            [
             0
            ],
            [
             0
            ],
            [
             0
            ],
            [
             0
            ],
            [
             0
            ],
            [
             0
            ],
            [
             0
            ],
            [
             0
            ],
            [
             0
            ],
            [
             0
            ],
            [
             0
            ],
            [
             0
            ],
            [
             0
            ],
            [
             0
            ],
            [
             0
            ],
            [
             2
            ],
            [
             0
            ],
            [
             0
            ],
            [
             0
            ],
            [
             0
            ],
            [
             0
            ],
            [
             0
            ],
            [
             0
            ],
            [
             0
            ],
            [
             0
            ],
            [
             0
            ],
            [
             0
            ],
            [
             0
            ],
            [
             0
            ],
            [
             0
            ],
            [
             0
            ],
            [
             0
            ],
            [
             18
            ],
            [
             0
            ],
            [
             0
            ],
            [
             0
            ],
            [
             15
            ],
            [
             2
            ],
            [
             0
            ],
            [
             0
            ],
            [
             2
            ],
            [
             0
            ],
            [
             0
            ],
            [
             0
            ],
            [
             0
            ],
            [
             0
            ],
            [
             0
            ],
            [
             0
            ],
            [
             0
            ],
            [
             4
            ],
            [
             18
            ],
            [
             0
            ],
            [
             5
            ],
            [
             0
            ],
            [
             0
            ],
            [
             0
            ],
            [
             12
            ],
            [
             0
            ]
           ],
           "geo": "geo",
           "hoverlabel": {
            "namelength": 0
           },
           "hovertemplate": "Date=2020-02-02 00:00:00<br>Log Confirmed=%{marker.size}<br>Confirmed=%{customdata[0]}<br>Country/Region=%{location}",
           "legendgroup": "",
           "locationmode": "country names",
           "locations": [
            " Azerbaijan",
            "Afghanistan",
            "Albania",
            "Algeria",
            "Andorra",
            "Argentina",
            "Armenia",
            "Australia",
            "Austria",
            "Azerbaijan",
            "Bahrain",
            "Bangladesh",
            "Belarus",
            "Belgium",
            "Bhutan",
            "Bolivia",
            "Bosnia and Herzegovina",
            "Brazil",
            "Brunei",
            "Bulgaria",
            "Burkina Faso",
            "Cambodia",
            "Cameroon",
            "Canada",
            "Channel Islands",
            "Chile",
            "China",
            "Colombia",
            "Congo (Kinshasa)",
            "Costa Rica",
            "Cote d'Ivoire",
            "Croatia",
            "Cruise Ship",
            "Cuba",
            "Cyprus",
            "Czech Republic",
            "Czechia",
            "Denmark",
            "Dominican Republic",
            "Ecuador",
            "Egypt",
            "Estonia",
            "Faroe Islands",
            "Finland",
            "France",
            "French Guiana",
            "Georgia",
            "Germany",
            "Gibraltar",
            "Greece",
            "Guyana",
            "Holy See",
            "Honduras",
            "Hong Kong",
            "Hong Kong SAR",
            "Hungary",
            "Iceland",
            "India",
            "Indonesia",
            "Iran",
            "Iran (Islamic Republic of)",
            "Iraq",
            "Ireland",
            "Israel",
            "Italy",
            "Jamaica",
            "Japan",
            "Jordan",
            "Korea, South",
            "Kuwait",
            "Latvia",
            "Lebanon",
            "Liechtenstein",
            "Lithuania",
            "Luxembourg",
            "Macao SAR",
            "Macau",
            "Malaysia",
            "Maldives",
            "Malta",
            "Martinique",
            "Mexico",
            "Moldova",
            "Monaco",
            "Mongolia",
            "Morocco",
            "Nepal",
            "Netherlands",
            "New Zealand",
            "Nigeria",
            "North Ireland",
            "North Macedonia",
            "Norway",
            "Oman",
            "Others",
            "Pakistan",
            "Palestine",
            "Panama",
            "Paraguay",
            "Peru",
            "Philippines",
            "Poland",
            "Portugal",
            "Qatar",
            "Republic of Ireland",
            "Republic of Korea",
            "Republic of Moldova",
            "Reunion",
            "Romania",
            "Russia",
            "Russian Federation",
            "Saint Barthelemy",
            "Saint Martin",
            "San Marino",
            "Saudi Arabia",
            "Senegal",
            "Serbia",
            "Singapore",
            "Slovakia",
            "Slovenia",
            "South Africa",
            "South Korea",
            "Spain",
            "Sri Lanka",
            "St. Martin",
            "Sweden",
            "Switzerland",
            "Taipei and environs",
            "Taiwan",
            "Taiwan*",
            "Thailand",
            "Togo",
            "Tunisia",
            "Turkey",
            "UK",
            "US",
            "Ukraine",
            "United Arab Emirates",
            "United Kingdom",
            "Vatican City",
            "Viet Nam",
            "Vietnam",
            "occupied Palestinian territory"
           ],
           "marker": {
            "color": "#636efa",
            "size": [
             0,
             0,
             0,
             0,
             0,
             0,
             0,
             0.6989700043360189,
             0,
             0,
             0,
             0,
             0,
             0,
             0,
             0,
             0,
             0,
             0,
             0,
             0,
             0,
             0,
             0.9542425094393249,
             0,
             0,
             4.220291185665156,
             0,
             0,
             0,
             0,
             0,
             0,
             0,
             0,
             0,
             0,
             0,
             0,
             0,
             0,
             0,
             0,
             0,
             1.1139433523068367,
             0,
             0,
             1.0413926851582251,
             0,
             0,
             0,
             0,
             0,
             1.2041199826559248,
             0,
             0,
             0,
             0.47712125471966244,
             0,
             0,
             0,
             0,
             0,
             0,
             0,
             0,
             1.6127838567197355,
             0,
             0,
             0,
             0,
             0,
             0,
             0,
             0,
             0,
             0.9542425094393249,
             0,
             0,
             0,
             0,
             0,
             0,
             0,
             0,
             0,
             0,
             0,
             0,
             0,
             0,
             0,
             0,
             0,
             0,
             0,
             0,
             0,
             0,
             0,
             0.47712125471966244,
             0,
             0,
             0,
             0,
             0,
             0,
             0,
             0,
             0,
             0,
             0,
             0,
             0,
             0,
             0,
             0,
             1.2787536009528289,
             0,
             0,
             0,
             1.2041199826559248,
             0.47712125471966244,
             0,
             0,
             0.47712125471966244,
             0,
             0,
             0,
             0,
             0,
             0,
             0,
             0,
             0.6989700043360189,
             1.2787536009528289,
             0,
             0.7781512503836436,
             0,
             0,
             0,
             1.1139433523068367,
             0
            ],
            "sizemode": "area",
            "sizeref": 0.012270166519720165
           },
           "name": "",
           "showlegend": false,
           "type": "scattergeo"
          }
         ],
         "name": "2020-02-02 00:00:00"
        },
        {
         "data": [
          {
           "customdata": [
            [
             0
            ],
            [
             0
            ],
            [
             0
            ],
            [
             0
            ],
            [
             0
            ],
            [
             0
            ],
            [
             0
            ],
            [
             4
            ],
            [
             0
            ],
            [
             0
            ],
            [
             0
            ],
            [
             0
            ],
            [
             0
            ],
            [
             0
            ],
            [
             0
            ],
            [
             0
            ],
            [
             0
            ],
            [
             0
            ],
            [
             0
            ],
            [
             0
            ],
            [
             0
            ],
            [
             0
            ],
            [
             0
            ],
            [
             8
            ],
            [
             0
            ],
            [
             0
            ],
            [
             19692
            ],
            [
             0
            ],
            [
             0
            ],
            [
             0
            ],
            [
             0
            ],
            [
             0
            ],
            [
             0
            ],
            [
             0
            ],
            [
             0
            ],
            [
             0
            ],
            [
             0
            ],
            [
             0
            ],
            [
             0
            ],
            [
             0
            ],
            [
             0
            ],
            [
             0
            ],
            [
             0
            ],
            [
             0
            ],
            [
             12
            ],
            [
             0
            ],
            [
             0
            ],
            [
             12
            ],
            [
             0
            ],
            [
             0
            ],
            [
             0
            ],
            [
             0
            ],
            [
             0
            ],
            [
             15
            ],
            [
             0
            ],
            [
             0
            ],
            [
             0
            ],
            [
             3
            ],
            [
             0
            ],
            [
             0
            ],
            [
             0
            ],
            [
             0
            ],
            [
             0
            ],
            [
             0
            ],
            [
             0
            ],
            [
             0
            ],
            [
             40
            ],
            [
             0
            ],
            [
             0
            ],
            [
             0
            ],
            [
             0
            ],
            [
             0
            ],
            [
             0
            ],
            [
             0
            ],
            [
             0
            ],
            [
             0
            ],
            [
             8
            ],
            [
             0
            ],
            [
             0
            ],
            [
             0
            ],
            [
             0
            ],
            [
             0
            ],
            [
             0
            ],
            [
             0
            ],
            [
             0
            ],
            [
             0
            ],
            [
             0
            ],
            [
             0
            ],
            [
             0
            ],
            [
             0
            ],
            [
             0
            ],
            [
             0
            ],
            [
             0
            ],
            [
             0
            ],
            [
             0
            ],
            [
             0
            ],
            [
             0
            ],
            [
             0
            ],
            [
             0
            ],
            [
             0
            ],
            [
             2
            ],
            [
             0
            ],
            [
             0
            ],
            [
             0
            ],
            [
             0
            ],
            [
             0
            ],
            [
             0
            ],
            [
             0
            ],
            [
             0
            ],
            [
             0
            ],
            [
             0
            ],
            [
             0
            ],
            [
             0
            ],
            [
             0
            ],
            [
             0
            ],
            [
             0
            ],
            [
             0
            ],
            [
             18
            ],
            [
             0
            ],
            [
             0
            ],
            [
             0
            ],
            [
             15
            ],
            [
             2
            ],
            [
             0
            ],
            [
             0
            ],
            [
             2
            ],
            [
             0
            ],
            [
             0
            ],
            [
             0
            ],
            [
             0
            ],
            [
             0
            ],
            [
             0
            ],
            [
             0
            ],
            [
             0
            ],
            [
             4
            ],
            [
             6
            ],
            [
             0
            ],
            [
             5
            ],
            [
             0
            ],
            [
             0
            ],
            [
             0
            ],
            [
             8
            ],
            [
             0
            ]
           ],
           "geo": "geo",
           "hoverlabel": {
            "namelength": 0
           },
           "hovertemplate": "Date=2020-02-03 00:00:00<br>Log Confirmed=%{marker.size}<br>Confirmed=%{customdata[0]}<br>Country/Region=%{location}",
           "legendgroup": "",
           "locationmode": "country names",
           "locations": [
            " Azerbaijan",
            "Afghanistan",
            "Albania",
            "Algeria",
            "Andorra",
            "Argentina",
            "Armenia",
            "Australia",
            "Austria",
            "Azerbaijan",
            "Bahrain",
            "Bangladesh",
            "Belarus",
            "Belgium",
            "Bhutan",
            "Bolivia",
            "Bosnia and Herzegovina",
            "Brazil",
            "Brunei",
            "Bulgaria",
            "Burkina Faso",
            "Cambodia",
            "Cameroon",
            "Canada",
            "Channel Islands",
            "Chile",
            "China",
            "Colombia",
            "Congo (Kinshasa)",
            "Costa Rica",
            "Cote d'Ivoire",
            "Croatia",
            "Cruise Ship",
            "Cuba",
            "Cyprus",
            "Czech Republic",
            "Czechia",
            "Denmark",
            "Dominican Republic",
            "Ecuador",
            "Egypt",
            "Estonia",
            "Faroe Islands",
            "Finland",
            "France",
            "French Guiana",
            "Georgia",
            "Germany",
            "Gibraltar",
            "Greece",
            "Guyana",
            "Holy See",
            "Honduras",
            "Hong Kong",
            "Hong Kong SAR",
            "Hungary",
            "Iceland",
            "India",
            "Indonesia",
            "Iran",
            "Iran (Islamic Republic of)",
            "Iraq",
            "Ireland",
            "Israel",
            "Italy",
            "Jamaica",
            "Japan",
            "Jordan",
            "Korea, South",
            "Kuwait",
            "Latvia",
            "Lebanon",
            "Liechtenstein",
            "Lithuania",
            "Luxembourg",
            "Macao SAR",
            "Macau",
            "Malaysia",
            "Maldives",
            "Malta",
            "Martinique",
            "Mexico",
            "Moldova",
            "Monaco",
            "Mongolia",
            "Morocco",
            "Nepal",
            "Netherlands",
            "New Zealand",
            "Nigeria",
            "North Ireland",
            "North Macedonia",
            "Norway",
            "Oman",
            "Others",
            "Pakistan",
            "Palestine",
            "Panama",
            "Paraguay",
            "Peru",
            "Philippines",
            "Poland",
            "Portugal",
            "Qatar",
            "Republic of Ireland",
            "Republic of Korea",
            "Republic of Moldova",
            "Reunion",
            "Romania",
            "Russia",
            "Russian Federation",
            "Saint Barthelemy",
            "Saint Martin",
            "San Marino",
            "Saudi Arabia",
            "Senegal",
            "Serbia",
            "Singapore",
            "Slovakia",
            "Slovenia",
            "South Africa",
            "South Korea",
            "Spain",
            "Sri Lanka",
            "St. Martin",
            "Sweden",
            "Switzerland",
            "Taipei and environs",
            "Taiwan",
            "Taiwan*",
            "Thailand",
            "Togo",
            "Tunisia",
            "Turkey",
            "UK",
            "US",
            "Ukraine",
            "United Arab Emirates",
            "United Kingdom",
            "Vatican City",
            "Viet Nam",
            "Vietnam",
            "occupied Palestinian territory"
           ],
           "marker": {
            "color": "#636efa",
            "size": [
             0,
             0,
             0,
             0,
             0,
             0,
             0,
             0.6989700043360189,
             0,
             0,
             0,
             0,
             0,
             0,
             0,
             0,
             0,
             0,
             0,
             0,
             0,
             0,
             0,
             0.9542425094393249,
             0,
             0,
             4.294311880902013,
             0,
             0,
             0,
             0,
             0,
             0,
             0,
             0,
             0,
             0,
             0,
             0,
             0,
             0,
             0,
             0,
             0,
             1.1139433523068367,
             0,
             0,
             1.1139433523068367,
             0,
             0,
             0,
             0,
             0,
             1.2041199826559248,
             0,
             0,
             0,
             0.6020599913279624,
             0,
             0,
             0,
             0,
             0,
             0,
             0,
             0,
             1.6127838567197355,
             0,
             0,
             0,
             0,
             0,
             0,
             0,
             0,
             0,
             0.9542425094393249,
             0,
             0,
             0,
             0,
             0,
             0,
             0,
             0,
             0,
             0,
             0,
             0,
             0,
             0,
             0,
             0,
             0,
             0,
             0,
             0,
             0,
             0,
             0,
             0.47712125471966244,
             0,
             0,
             0,
             0,
             0,
             0,
             0,
             0,
             0,
             0,
             0,
             0,
             0,
             0,
             0,
             0,
             1.2787536009528289,
             0,
             0,
             0,
             1.2041199826559248,
             0.47712125471966244,
             0,
             0,
             0.47712125471966244,
             0,
             0,
             0,
             0,
             0,
             0,
             0,
             0,
             0.6989700043360189,
             0.8450980400142568,
             0,
             0.7781512503836436,
             0,
             0,
             0,
             0.9542425094393249,
             0
            ],
            "sizemode": "area",
            "sizeref": 0.012270166519720165
           },
           "name": "",
           "showlegend": false,
           "type": "scattergeo"
          }
         ],
         "name": "2020-02-03 00:00:00"
        },
        {
         "data": [
          {
           "customdata": [
            [
             0
            ],
            [
             0
            ],
            [
             0
            ],
            [
             0
            ],
            [
             0
            ],
            [
             0
            ],
            [
             0
            ],
            [
             3
            ],
            [
             0
            ],
            [
             0
            ],
            [
             0
            ],
            [
             0
            ],
            [
             0
            ],
            [
             1
            ],
            [
             0
            ],
            [
             0
            ],
            [
             0
            ],
            [
             0
            ],
            [
             0
            ],
            [
             0
            ],
            [
             0
            ],
            [
             0
            ],
            [
             0
            ],
            [
             3
            ],
            [
             0
            ],
            [
             0
            ],
            [
             23679
            ],
            [
             0
            ],
            [
             0
            ],
            [
             0
            ],
            [
             0
            ],
            [
             0
            ],
            [
             0
            ],
            [
             0
            ],
            [
             0
            ],
            [
             0
            ],
            [
             0
            ],
            [
             0
            ],
            [
             0
            ],
            [
             0
            ],
            [
             0
            ],
            [
             0
            ],
            [
             0
            ],
            [
             0
            ],
            [
             12
            ],
            [
             0
            ],
            [
             0
            ],
            [
             12
            ],
            [
             0
            ],
            [
             0
            ],
            [
             0
            ],
            [
             0
            ],
            [
             0
            ],
            [
             17
            ],
            [
             0
            ],
            [
             0
            ],
            [
             0
            ],
            [
             3
            ],
            [
             0
            ],
            [
             0
            ],
            [
             0
            ],
            [
             0
            ],
            [
             0
            ],
            [
             0
            ],
            [
             0
            ],
            [
             0
            ],
            [
             22
            ],
            [
             0
            ],
            [
             0
            ],
            [
             0
            ],
            [
             0
            ],
            [
             0
            ],
            [
             0
            ],
            [
             0
            ],
            [
             0
            ],
            [
             0
            ],
            [
             10
            ],
            [
             10
            ],
            [
             0
            ],
            [
             0
            ],
            [
             0
            ],
            [
             0
            ],
            [
             0
            ],
            [
             0
            ],
            [
             0
            ],
            [
             0
            ],
            [
             0
            ],
            [
             0
            ],
            [
             0
            ],
            [
             0
            ],
            [
             0
            ],
            [
             0
            ],
            [
             0
            ],
            [
             0
            ],
            [
             0
            ],
            [
             0
            ],
            [
             0
            ],
            [
             0
            ],
            [
             0
            ],
            [
             0
            ],
            [
             2
            ],
            [
             0
            ],
            [
             0
            ],
            [
             0
            ],
            [
             0
            ],
            [
             0
            ],
            [
             0
            ],
            [
             0
            ],
            [
             0
            ],
            [
             0
            ],
            [
             0
            ],
            [
             0
            ],
            [
             0
            ],
            [
             0
            ],
            [
             0
            ],
            [
             0
            ],
            [
             0
            ],
            [
             24
            ],
            [
             0
            ],
            [
             0
            ],
            [
             0
            ],
            [
             16
            ],
            [
             2
            ],
            [
             0
            ],
            [
             0
            ],
            [
             2
            ],
            [
             0
            ],
            [
             0
            ],
            [
             11
            ],
            [
             0
            ],
            [
             25
            ],
            [
             0
            ],
            [
             0
            ],
            [
             0
            ],
            [
             4
            ],
            [
             6
            ],
            [
             0
            ],
            [
             5
            ],
            [
             0
            ],
            [
             0
            ],
            [
             0
            ],
            [
             8
            ],
            [
             0
            ]
           ],
           "geo": "geo",
           "hoverlabel": {
            "namelength": 0
           },
           "hovertemplate": "Date=2020-02-04 00:00:00<br>Log Confirmed=%{marker.size}<br>Confirmed=%{customdata[0]}<br>Country/Region=%{location}",
           "legendgroup": "",
           "locationmode": "country names",
           "locations": [
            " Azerbaijan",
            "Afghanistan",
            "Albania",
            "Algeria",
            "Andorra",
            "Argentina",
            "Armenia",
            "Australia",
            "Austria",
            "Azerbaijan",
            "Bahrain",
            "Bangladesh",
            "Belarus",
            "Belgium",
            "Bhutan",
            "Bolivia",
            "Bosnia and Herzegovina",
            "Brazil",
            "Brunei",
            "Bulgaria",
            "Burkina Faso",
            "Cambodia",
            "Cameroon",
            "Canada",
            "Channel Islands",
            "Chile",
            "China",
            "Colombia",
            "Congo (Kinshasa)",
            "Costa Rica",
            "Cote d'Ivoire",
            "Croatia",
            "Cruise Ship",
            "Cuba",
            "Cyprus",
            "Czech Republic",
            "Czechia",
            "Denmark",
            "Dominican Republic",
            "Ecuador",
            "Egypt",
            "Estonia",
            "Faroe Islands",
            "Finland",
            "France",
            "French Guiana",
            "Georgia",
            "Germany",
            "Gibraltar",
            "Greece",
            "Guyana",
            "Holy See",
            "Honduras",
            "Hong Kong",
            "Hong Kong SAR",
            "Hungary",
            "Iceland",
            "India",
            "Indonesia",
            "Iran",
            "Iran (Islamic Republic of)",
            "Iraq",
            "Ireland",
            "Israel",
            "Italy",
            "Jamaica",
            "Japan",
            "Jordan",
            "Korea, South",
            "Kuwait",
            "Latvia",
            "Lebanon",
            "Liechtenstein",
            "Lithuania",
            "Luxembourg",
            "Macao SAR",
            "Macau",
            "Malaysia",
            "Maldives",
            "Malta",
            "Martinique",
            "Mexico",
            "Moldova",
            "Monaco",
            "Mongolia",
            "Morocco",
            "Nepal",
            "Netherlands",
            "New Zealand",
            "Nigeria",
            "North Ireland",
            "North Macedonia",
            "Norway",
            "Oman",
            "Others",
            "Pakistan",
            "Palestine",
            "Panama",
            "Paraguay",
            "Peru",
            "Philippines",
            "Poland",
            "Portugal",
            "Qatar",
            "Republic of Ireland",
            "Republic of Korea",
            "Republic of Moldova",
            "Reunion",
            "Romania",
            "Russia",
            "Russian Federation",
            "Saint Barthelemy",
            "Saint Martin",
            "San Marino",
            "Saudi Arabia",
            "Senegal",
            "Serbia",
            "Singapore",
            "Slovakia",
            "Slovenia",
            "South Africa",
            "South Korea",
            "Spain",
            "Sri Lanka",
            "St. Martin",
            "Sweden",
            "Switzerland",
            "Taipei and environs",
            "Taiwan",
            "Taiwan*",
            "Thailand",
            "Togo",
            "Tunisia",
            "Turkey",
            "UK",
            "US",
            "Ukraine",
            "United Arab Emirates",
            "United Kingdom",
            "Vatican City",
            "Viet Nam",
            "Vietnam",
            "occupied Palestinian territory"
           ],
           "marker": {
            "color": "#636efa",
            "size": [
             0,
             0,
             0,
             0,
             0,
             0,
             0,
             0.6020599913279624,
             0,
             0,
             0,
             0,
             0,
             0.3010299956639812,
             0,
             0,
             0,
             0,
             0,
             0,
             0,
             0,
             0,
             0.6020599913279624,
             0,
             0,
             4.3743816980508825,
             0,
             0,
             0,
             0,
             0,
             0,
             0,
             0,
             0,
             0,
             0,
             0,
             0,
             0,
             0,
             0,
             0,
             1.1139433523068367,
             0,
             0,
             1.1139433523068367,
             0,
             0,
             0,
             0,
             0,
             1.255272505103306,
             0,
             0,
             0,
             0.6020599913279624,
             0,
             0,
             0,
             0,
             0,
             0,
             0,
             0,
             1.3617278360175928,
             0,
             0,
             0,
             0,
             0,
             0,
             0,
             0,
             0,
             1.0413926851582251,
             1.0413926851582251,
             0,
             0,
             0,
             0,
             0,
             0,
             0,
             0,
             0,
             0,
             0,
             0,
             0,
             0,
             0,
             0,
             0,
             0,
             0,
             0,
             0,
             0,
             0.47712125471966244,
             0,
             0,
             0,
             0,
             0,
             0,
             0,
             0,
             0,
             0,
             0,
             0,
             0,
             0,
             0,
             0,
             1.3979400086720377,
             0,
             0,
             0,
             1.2304489213782739,
             0.47712125471966244,
             0,
             0,
             0.47712125471966244,
             0,
             0,
             1.0791812460476249,
             0,
             1.414973347970818,
             0,
             0,
             0,
             0.6989700043360189,
             0.8450980400142568,
             0,
             0.7781512503836436,
             0,
             0,
             0,
             0.9542425094393249,
             0
            ],
            "sizemode": "area",
            "sizeref": 0.012270166519720165
           },
           "name": "",
           "showlegend": false,
           "type": "scattergeo"
          }
         ],
         "name": "2020-02-04 00:00:00"
        },
        {
         "data": [
          {
           "customdata": [
            [
             0
            ],
            [
             0
            ],
            [
             0
            ],
            [
             0
            ],
            [
             0
            ],
            [
             0
            ],
            [
             0
            ],
            [
             3
            ],
            [
             0
            ],
            [
             0
            ],
            [
             0
            ],
            [
             0
            ],
            [
             0
            ],
            [
             1
            ],
            [
             0
            ],
            [
             0
            ],
            [
             0
            ],
            [
             0
            ],
            [
             0
            ],
            [
             0
            ],
            [
             0
            ],
            [
             0
            ],
            [
             0
            ],
            [
             2
            ],
            [
             0
            ],
            [
             0
            ],
            [
             27374
            ],
            [
             0
            ],
            [
             0
            ],
            [
             0
            ],
            [
             0
            ],
            [
             0
            ],
            [
             0
            ],
            [
             0
            ],
            [
             0
            ],
            [
             0
            ],
            [
             0
            ],
            [
             0
            ],
            [
             0
            ],
            [
             0
            ],
            [
             0
            ],
            [
             0
            ],
            [
             0
            ],
            [
             0
            ],
            [
             12
            ],
            [
             0
            ],
            [
             0
            ],
            [
             12
            ],
            [
             0
            ],
            [
             0
            ],
            [
             0
            ],
            [
             0
            ],
            [
             0
            ],
            [
             21
            ],
            [
             0
            ],
            [
             0
            ],
            [
             0
            ],
            [
             3
            ],
            [
             0
            ],
            [
             0
            ],
            [
             0
            ],
            [
             0
            ],
            [
             0
            ],
            [
             0
            ],
            [
             0
            ],
            [
             0
            ],
            [
             22
            ],
            [
             0
            ],
            [
             0
            ],
            [
             0
            ],
            [
             0
            ],
            [
             0
            ],
            [
             0
            ],
            [
             0
            ],
            [
             0
            ],
            [
             0
            ],
            [
             10
            ],
            [
             12
            ],
            [
             0
            ],
            [
             0
            ],
            [
             0
            ],
            [
             0
            ],
            [
             0
            ],
            [
             0
            ],
            [
             0
            ],
            [
             0
            ],
            [
             0
            ],
            [
             0
            ],
            [
             0
            ],
            [
             0
            ],
            [
             0
            ],
            [
             0
            ],
            [
             0
            ],
            [
             0
            ],
            [
             0
            ],
            [
             0
            ],
            [
             0
            ],
            [
             0
            ],
            [
             0
            ],
            [
             0
            ],
            [
             2
            ],
            [
             0
            ],
            [
             0
            ],
            [
             0
            ],
            [
             0
            ],
            [
             0
            ],
            [
             0
            ],
            [
             0
            ],
            [
             0
            ],
            [
             0
            ],
            [
             0
            ],
            [
             0
            ],
            [
             0
            ],
            [
             0
            ],
            [
             0
            ],
            [
             0
            ],
            [
             0
            ],
            [
             28
            ],
            [
             0
            ],
            [
             0
            ],
            [
             0
            ],
            [
             19
            ],
            [
             2
            ],
            [
             0
            ],
            [
             0
            ],
            [
             2
            ],
            [
             0
            ],
            [
             0
            ],
            [
             11
            ],
            [
             0
            ],
            [
             25
            ],
            [
             0
            ],
            [
             0
            ],
            [
             0
            ],
            [
             4
            ],
            [
             2
            ],
            [
             0
            ],
            [
             5
            ],
            [
             0
            ],
            [
             0
            ],
            [
             0
            ],
            [
             8
            ],
            [
             0
            ]
           ],
           "geo": "geo",
           "hoverlabel": {
            "namelength": 0
           },
           "hovertemplate": "Date=2020-02-05 00:00:00<br>Log Confirmed=%{marker.size}<br>Confirmed=%{customdata[0]}<br>Country/Region=%{location}",
           "legendgroup": "",
           "locationmode": "country names",
           "locations": [
            " Azerbaijan",
            "Afghanistan",
            "Albania",
            "Algeria",
            "Andorra",
            "Argentina",
            "Armenia",
            "Australia",
            "Austria",
            "Azerbaijan",
            "Bahrain",
            "Bangladesh",
            "Belarus",
            "Belgium",
            "Bhutan",
            "Bolivia",
            "Bosnia and Herzegovina",
            "Brazil",
            "Brunei",
            "Bulgaria",
            "Burkina Faso",
            "Cambodia",
            "Cameroon",
            "Canada",
            "Channel Islands",
            "Chile",
            "China",
            "Colombia",
            "Congo (Kinshasa)",
            "Costa Rica",
            "Cote d'Ivoire",
            "Croatia",
            "Cruise Ship",
            "Cuba",
            "Cyprus",
            "Czech Republic",
            "Czechia",
            "Denmark",
            "Dominican Republic",
            "Ecuador",
            "Egypt",
            "Estonia",
            "Faroe Islands",
            "Finland",
            "France",
            "French Guiana",
            "Georgia",
            "Germany",
            "Gibraltar",
            "Greece",
            "Guyana",
            "Holy See",
            "Honduras",
            "Hong Kong",
            "Hong Kong SAR",
            "Hungary",
            "Iceland",
            "India",
            "Indonesia",
            "Iran",
            "Iran (Islamic Republic of)",
            "Iraq",
            "Ireland",
            "Israel",
            "Italy",
            "Jamaica",
            "Japan",
            "Jordan",
            "Korea, South",
            "Kuwait",
            "Latvia",
            "Lebanon",
            "Liechtenstein",
            "Lithuania",
            "Luxembourg",
            "Macao SAR",
            "Macau",
            "Malaysia",
            "Maldives",
            "Malta",
            "Martinique",
            "Mexico",
            "Moldova",
            "Monaco",
            "Mongolia",
            "Morocco",
            "Nepal",
            "Netherlands",
            "New Zealand",
            "Nigeria",
            "North Ireland",
            "North Macedonia",
            "Norway",
            "Oman",
            "Others",
            "Pakistan",
            "Palestine",
            "Panama",
            "Paraguay",
            "Peru",
            "Philippines",
            "Poland",
            "Portugal",
            "Qatar",
            "Republic of Ireland",
            "Republic of Korea",
            "Republic of Moldova",
            "Reunion",
            "Romania",
            "Russia",
            "Russian Federation",
            "Saint Barthelemy",
            "Saint Martin",
            "San Marino",
            "Saudi Arabia",
            "Senegal",
            "Serbia",
            "Singapore",
            "Slovakia",
            "Slovenia",
            "South Africa",
            "South Korea",
            "Spain",
            "Sri Lanka",
            "St. Martin",
            "Sweden",
            "Switzerland",
            "Taipei and environs",
            "Taiwan",
            "Taiwan*",
            "Thailand",
            "Togo",
            "Tunisia",
            "Turkey",
            "UK",
            "US",
            "Ukraine",
            "United Arab Emirates",
            "United Kingdom",
            "Vatican City",
            "Viet Nam",
            "Vietnam",
            "occupied Palestinian territory"
           ],
           "marker": {
            "color": "#636efa",
            "size": [
             0,
             0,
             0,
             0,
             0,
             0,
             0,
             0.6020599913279624,
             0,
             0,
             0,
             0,
             0,
             0.3010299956639812,
             0,
             0,
             0,
             0,
             0,
             0,
             0,
             0,
             0,
             0.47712125471966244,
             0,
             0,
             4.437354127848175,
             0,
             0,
             0,
             0,
             0,
             0,
             0,
             0,
             0,
             0,
             0,
             0,
             0,
             0,
             0,
             0,
             0,
             1.1139433523068367,
             0,
             0,
             1.1139433523068367,
             0,
             0,
             0,
             0,
             0,
             1.3424226808222062,
             0,
             0,
             0,
             0.6020599913279624,
             0,
             0,
             0,
             0,
             0,
             0,
             0,
             0,
             1.3617278360175928,
             0,
             0,
             0,
             0,
             0,
             0,
             0,
             0,
             0,
             1.0413926851582251,
             1.1139433523068367,
             0,
             0,
             0,
             0,
             0,
             0,
             0,
             0,
             0,
             0,
             0,
             0,
             0,
             0,
             0,
             0,
             0,
             0,
             0,
             0,
             0,
             0,
             0.47712125471966244,
             0,
             0,
             0,
             0,
             0,
             0,
             0,
             0,
             0,
             0,
             0,
             0,
             0,
             0,
             0,
             0,
             1.462397997898956,
             0,
             0,
             0,
             1.3010299956639813,
             0.47712125471966244,
             0,
             0,
             0.47712125471966244,
             0,
             0,
             1.0791812460476249,
             0,
             1.414973347970818,
             0,
             0,
             0,
             0.6989700043360189,
             0.47712125471966244,
             0,
             0.7781512503836436,
             0,
             0,
             0,
             0.9542425094393249,
             0
            ],
            "sizemode": "area",
            "sizeref": 0.012270166519720165
           },
           "name": "",
           "showlegend": false,
           "type": "scattergeo"
          }
         ],
         "name": "2020-02-05 00:00:00"
        },
        {
         "data": [
          {
           "customdata": [
            [
             0
            ],
            [
             0
            ],
            [
             0
            ],
            [
             0
            ],
            [
             0
            ],
            [
             0
            ],
            [
             0
            ],
            [
             8
            ],
            [
             0
            ],
            [
             0
            ],
            [
             0
            ],
            [
             0
            ],
            [
             0
            ],
            [
             1
            ],
            [
             0
            ],
            [
             0
            ],
            [
             0
            ],
            [
             0
            ],
            [
             0
            ],
            [
             0
            ],
            [
             0
            ],
            [
             0
            ],
            [
             0
            ],
            [
             2
            ],
            [
             0
            ],
            [
             0
            ],
            [
             30490
            ],
            [
             0
            ],
            [
             0
            ],
            [
             0
            ],
            [
             0
            ],
            [
             0
            ],
            [
             0
            ],
            [
             0
            ],
            [
             0
            ],
            [
             0
            ],
            [
             0
            ],
            [
             0
            ],
            [
             0
            ],
            [
             0
            ],
            [
             0
            ],
            [
             0
            ],
            [
             0
            ],
            [
             0
            ],
            [
             12
            ],
            [
             0
            ],
            [
             0
            ],
            [
             12
            ],
            [
             0
            ],
            [
             0
            ],
            [
             0
            ],
            [
             0
            ],
            [
             0
            ],
            [
             24
            ],
            [
             0
            ],
            [
             0
            ],
            [
             0
            ],
            [
             3
            ],
            [
             0
            ],
            [
             0
            ],
            [
             0
            ],
            [
             0
            ],
            [
             0
            ],
            [
             0
            ],
            [
             0
            ],
            [
             0
            ],
            [
             45
            ],
            [
             0
            ],
            [
             0
            ],
            [
             0
            ],
            [
             0
            ],
            [
             0
            ],
            [
             0
            ],
            [
             0
            ],
            [
             0
            ],
            [
             0
            ],
            [
             10
            ],
            [
             12
            ],
            [
             0
            ],
            [
             0
            ],
            [
             0
            ],
            [
             0
            ],
            [
             0
            ],
            [
             0
            ],
            [
             0
            ],
            [
             0
            ],
            [
             0
            ],
            [
             0
            ],
            [
             0
            ],
            [
             0
            ],
            [
             0
            ],
            [
             0
            ],
            [
             0
            ],
            [
             0
            ],
            [
             0
            ],
            [
             0
            ],
            [
             0
            ],
            [
             0
            ],
            [
             0
            ],
            [
             0
            ],
            [
             2
            ],
            [
             0
            ],
            [
             0
            ],
            [
             0
            ],
            [
             0
            ],
            [
             0
            ],
            [
             0
            ],
            [
             0
            ],
            [
             0
            ],
            [
             0
            ],
            [
             0
            ],
            [
             0
            ],
            [
             0
            ],
            [
             0
            ],
            [
             0
            ],
            [
             0
            ],
            [
             0
            ],
            [
             28
            ],
            [
             0
            ],
            [
             0
            ],
            [
             0
            ],
            [
             23
            ],
            [
             2
            ],
            [
             0
            ],
            [
             0
            ],
            [
             2
            ],
            [
             0
            ],
            [
             0
            ],
            [
             16
            ],
            [
             0
            ],
            [
             25
            ],
            [
             0
            ],
            [
             0
            ],
            [
             0
            ],
            [
             4
            ],
            [
             2
            ],
            [
             0
            ],
            [
             5
            ],
            [
             0
            ],
            [
             0
            ],
            [
             0
            ],
            [
             10
            ],
            [
             0
            ]
           ],
           "geo": "geo",
           "hoverlabel": {
            "namelength": 0
           },
           "hovertemplate": "Date=2020-02-06 00:00:00<br>Log Confirmed=%{marker.size}<br>Confirmed=%{customdata[0]}<br>Country/Region=%{location}",
           "legendgroup": "",
           "locationmode": "country names",
           "locations": [
            " Azerbaijan",
            "Afghanistan",
            "Albania",
            "Algeria",
            "Andorra",
            "Argentina",
            "Armenia",
            "Australia",
            "Austria",
            "Azerbaijan",
            "Bahrain",
            "Bangladesh",
            "Belarus",
            "Belgium",
            "Bhutan",
            "Bolivia",
            "Bosnia and Herzegovina",
            "Brazil",
            "Brunei",
            "Bulgaria",
            "Burkina Faso",
            "Cambodia",
            "Cameroon",
            "Canada",
            "Channel Islands",
            "Chile",
            "China",
            "Colombia",
            "Congo (Kinshasa)",
            "Costa Rica",
            "Cote d'Ivoire",
            "Croatia",
            "Cruise Ship",
            "Cuba",
            "Cyprus",
            "Czech Republic",
            "Czechia",
            "Denmark",
            "Dominican Republic",
            "Ecuador",
            "Egypt",
            "Estonia",
            "Faroe Islands",
            "Finland",
            "France",
            "French Guiana",
            "Georgia",
            "Germany",
            "Gibraltar",
            "Greece",
            "Guyana",
            "Holy See",
            "Honduras",
            "Hong Kong",
            "Hong Kong SAR",
            "Hungary",
            "Iceland",
            "India",
            "Indonesia",
            "Iran",
            "Iran (Islamic Republic of)",
            "Iraq",
            "Ireland",
            "Israel",
            "Italy",
            "Jamaica",
            "Japan",
            "Jordan",
            "Korea, South",
            "Kuwait",
            "Latvia",
            "Lebanon",
            "Liechtenstein",
            "Lithuania",
            "Luxembourg",
            "Macao SAR",
            "Macau",
            "Malaysia",
            "Maldives",
            "Malta",
            "Martinique",
            "Mexico",
            "Moldova",
            "Monaco",
            "Mongolia",
            "Morocco",
            "Nepal",
            "Netherlands",
            "New Zealand",
            "Nigeria",
            "North Ireland",
            "North Macedonia",
            "Norway",
            "Oman",
            "Others",
            "Pakistan",
            "Palestine",
            "Panama",
            "Paraguay",
            "Peru",
            "Philippines",
            "Poland",
            "Portugal",
            "Qatar",
            "Republic of Ireland",
            "Republic of Korea",
            "Republic of Moldova",
            "Reunion",
            "Romania",
            "Russia",
            "Russian Federation",
            "Saint Barthelemy",
            "Saint Martin",
            "San Marino",
            "Saudi Arabia",
            "Senegal",
            "Serbia",
            "Singapore",
            "Slovakia",
            "Slovenia",
            "South Africa",
            "South Korea",
            "Spain",
            "Sri Lanka",
            "St. Martin",
            "Sweden",
            "Switzerland",
            "Taipei and environs",
            "Taiwan",
            "Taiwan*",
            "Thailand",
            "Togo",
            "Tunisia",
            "Turkey",
            "UK",
            "US",
            "Ukraine",
            "United Arab Emirates",
            "United Kingdom",
            "Vatican City",
            "Viet Nam",
            "Vietnam",
            "occupied Palestinian territory"
           ],
           "marker": {
            "color": "#636efa",
            "size": [
             0,
             0,
             0,
             0,
             0,
             0,
             0,
             0.9542425094393249,
             0,
             0,
             0,
             0,
             0,
             0.3010299956639812,
             0,
             0,
             0,
             0,
             0,
             0,
             0,
             0,
             0,
             0.47712125471966244,
             0,
             0,
             4.484171667965255,
             0,
             0,
             0,
             0,
             0,
             0,
             0,
             0,
             0,
             0,
             0,
             0,
             0,
             0,
             0,
             0,
             0,
             1.1139433523068367,
             0,
             0,
             1.1139433523068367,
             0,
             0,
             0,
             0,
             0,
             1.3979400086720377,
             0,
             0,
             0,
             0.6020599913279624,
             0,
             0,
             0,
             0,
             0,
             0,
             0,
             0,
             1.662757831681574,
             0,
             0,
             0,
             0,
             0,
             0,
             0,
             0,
             0,
             1.0413926851582251,
             1.1139433523068367,
             0,
             0,
             0,
             0,
             0,
             0,
             0,
             0,
             0,
             0,
             0,
             0,
             0,
             0,
             0,
             0,
             0,
             0,
             0,
             0,
             0,
             0,
             0.47712125471966244,
             0,
             0,
             0,
             0,
             0,
             0,
             0,
             0,
             0,
             0,
             0,
             0,
             0,
             0,
             0,
             0,
             1.462397997898956,
             0,
             0,
             0,
             1.380211241711606,
             0.47712125471966244,
             0,
             0,
             0.47712125471966244,
             0,
             0,
             1.2304489213782739,
             0,
             1.414973347970818,
             0,
             0,
             0,
             0.6989700043360189,
             0.47712125471966244,
             0,
             0.7781512503836436,
             0,
             0,
             0,
             1.0413926851582251,
             0
            ],
            "sizemode": "area",
            "sizeref": 0.012270166519720165
           },
           "name": "",
           "showlegend": false,
           "type": "scattergeo"
          }
         ],
         "name": "2020-02-06 00:00:00"
        },
        {
         "data": [
          {
           "customdata": [
            [
             0
            ],
            [
             0
            ],
            [
             0
            ],
            [
             0
            ],
            [
             0
            ],
            [
             0
            ],
            [
             0
            ],
            [
             5
            ],
            [
             0
            ],
            [
             0
            ],
            [
             0
            ],
            [
             0
            ],
            [
             0
            ],
            [
             1
            ],
            [
             0
            ],
            [
             0
            ],
            [
             0
            ],
            [
             0
            ],
            [
             0
            ],
            [
             0
            ],
            [
             0
            ],
            [
             0
            ],
            [
             0
            ],
            [
             4
            ],
            [
             0
            ],
            [
             0
            ],
            [
             34056
            ],
            [
             0
            ],
            [
             0
            ],
            [
             0
            ],
            [
             0
            ],
            [
             0
            ],
            [
             0
            ],
            [
             0
            ],
            [
             0
            ],
            [
             0
            ],
            [
             0
            ],
            [
             0
            ],
            [
             0
            ],
            [
             0
            ],
            [
             0
            ],
            [
             0
            ],
            [
             0
            ],
            [
             0
            ],
            [
             12
            ],
            [
             0
            ],
            [
             0
            ],
            [
             13
            ],
            [
             0
            ],
            [
             0
            ],
            [
             0
            ],
            [
             0
            ],
            [
             0
            ],
            [
             25
            ],
            [
             0
            ],
            [
             0
            ],
            [
             0
            ],
            [
             3
            ],
            [
             0
            ],
            [
             0
            ],
            [
             0
            ],
            [
             0
            ],
            [
             0
            ],
            [
             0
            ],
            [
             3
            ],
            [
             0
            ],
            [
             25
            ],
            [
             0
            ],
            [
             0
            ],
            [
             0
            ],
            [
             0
            ],
            [
             0
            ],
            [
             0
            ],
            [
             0
            ],
            [
             0
            ],
            [
             0
            ],
            [
             10
            ],
            [
             12
            ],
            [
             0
            ],
            [
             0
            ],
            [
             0
            ],
            [
             0
            ],
            [
             0
            ],
            [
             0
            ],
            [
             0
            ],
            [
             0
            ],
            [
             0
            ],
            [
             0
            ],
            [
             0
            ],
            [
             0
            ],
            [
             0
            ],
            [
             0
            ],
            [
             0
            ],
            [
             0
            ],
            [
             61
            ],
            [
             0
            ],
            [
             0
            ],
            [
             0
            ],
            [
             0
            ],
            [
             0
            ],
            [
             3
            ],
            [
             0
            ],
            [
             0
            ],
            [
             0
            ],
            [
             0
            ],
            [
             0
            ],
            [
             0
            ],
            [
             0
            ],
            [
             0
            ],
            [
             0
            ],
            [
             0
            ],
            [
             0
            ],
            [
             0
            ],
            [
             0
            ],
            [
             0
            ],
            [
             0
            ],
            [
             0
            ],
            [
             30
            ],
            [
             0
            ],
            [
             0
            ],
            [
             0
            ],
            [
             24
            ],
            [
             2
            ],
            [
             0
            ],
            [
             0
            ],
            [
             2
            ],
            [
             0
            ],
            [
             0
            ],
            [
             16
            ],
            [
             0
            ],
            [
             25
            ],
            [
             0
            ],
            [
             0
            ],
            [
             0
            ],
            [
             3
            ],
            [
             2
            ],
            [
             0
            ],
            [
             5
            ],
            [
             0
            ],
            [
             0
            ],
            [
             0
            ],
            [
             10
            ],
            [
             0
            ]
           ],
           "geo": "geo",
           "hoverlabel": {
            "namelength": 0
           },
           "hovertemplate": "Date=2020-02-07 00:00:00<br>Log Confirmed=%{marker.size}<br>Confirmed=%{customdata[0]}<br>Country/Region=%{location}",
           "legendgroup": "",
           "locationmode": "country names",
           "locations": [
            " Azerbaijan",
            "Afghanistan",
            "Albania",
            "Algeria",
            "Andorra",
            "Argentina",
            "Armenia",
            "Australia",
            "Austria",
            "Azerbaijan",
            "Bahrain",
            "Bangladesh",
            "Belarus",
            "Belgium",
            "Bhutan",
            "Bolivia",
            "Bosnia and Herzegovina",
            "Brazil",
            "Brunei",
            "Bulgaria",
            "Burkina Faso",
            "Cambodia",
            "Cameroon",
            "Canada",
            "Channel Islands",
            "Chile",
            "China",
            "Colombia",
            "Congo (Kinshasa)",
            "Costa Rica",
            "Cote d'Ivoire",
            "Croatia",
            "Cruise Ship",
            "Cuba",
            "Cyprus",
            "Czech Republic",
            "Czechia",
            "Denmark",
            "Dominican Republic",
            "Ecuador",
            "Egypt",
            "Estonia",
            "Faroe Islands",
            "Finland",
            "France",
            "French Guiana",
            "Georgia",
            "Germany",
            "Gibraltar",
            "Greece",
            "Guyana",
            "Holy See",
            "Honduras",
            "Hong Kong",
            "Hong Kong SAR",
            "Hungary",
            "Iceland",
            "India",
            "Indonesia",
            "Iran",
            "Iran (Islamic Republic of)",
            "Iraq",
            "Ireland",
            "Israel",
            "Italy",
            "Jamaica",
            "Japan",
            "Jordan",
            "Korea, South",
            "Kuwait",
            "Latvia",
            "Lebanon",
            "Liechtenstein",
            "Lithuania",
            "Luxembourg",
            "Macao SAR",
            "Macau",
            "Malaysia",
            "Maldives",
            "Malta",
            "Martinique",
            "Mexico",
            "Moldova",
            "Monaco",
            "Mongolia",
            "Morocco",
            "Nepal",
            "Netherlands",
            "New Zealand",
            "Nigeria",
            "North Ireland",
            "North Macedonia",
            "Norway",
            "Oman",
            "Others",
            "Pakistan",
            "Palestine",
            "Panama",
            "Paraguay",
            "Peru",
            "Philippines",
            "Poland",
            "Portugal",
            "Qatar",
            "Republic of Ireland",
            "Republic of Korea",
            "Republic of Moldova",
            "Reunion",
            "Romania",
            "Russia",
            "Russian Federation",
            "Saint Barthelemy",
            "Saint Martin",
            "San Marino",
            "Saudi Arabia",
            "Senegal",
            "Serbia",
            "Singapore",
            "Slovakia",
            "Slovenia",
            "South Africa",
            "South Korea",
            "Spain",
            "Sri Lanka",
            "St. Martin",
            "Sweden",
            "Switzerland",
            "Taipei and environs",
            "Taiwan",
            "Taiwan*",
            "Thailand",
            "Togo",
            "Tunisia",
            "Turkey",
            "UK",
            "US",
            "Ukraine",
            "United Arab Emirates",
            "United Kingdom",
            "Vatican City",
            "Viet Nam",
            "Vietnam",
            "occupied Palestinian territory"
           ],
           "marker": {
            "color": "#636efa",
            "size": [
             0,
             0,
             0,
             0,
             0,
             0,
             0,
             0.7781512503836436,
             0,
             0,
             0,
             0,
             0,
             0.3010299956639812,
             0,
             0,
             0,
             0,
             0,
             0,
             0,
             0,
             0,
             0.6989700043360189,
             0,
             0,
             4.53220638934508,
             0,
             0,
             0,
             0,
             0,
             0,
             0,
             0,
             0,
             0,
             0,
             0,
             0,
             0,
             0,
             0,
             0,
             1.1139433523068367,
             0,
             0,
             1.146128035678238,
             0,
             0,
             0,
             0,
             0,
             1.414973347970818,
             0,
             0,
             0,
             0.6020599913279624,
             0,
             0,
             0,
             0,
             0,
             0,
             0.6020599913279624,
             0,
             1.414973347970818,
             0,
             0,
             0,
             0,
             0,
             0,
             0,
             0,
             0,
             1.0413926851582251,
             1.1139433523068367,
             0,
             0,
             0,
             0,
             0,
             0,
             0,
             0,
             0,
             0,
             0,
             0,
             0,
             0,
             0,
             0,
             1.792391689498254,
             0,
             0,
             0,
             0,
             0,
             0.6020599913279624,
             0,
             0,
             0,
             0,
             0,
             0,
             0,
             0,
             0,
             0,
             0,
             0,
             0,
             0,
             0,
             0,
             1.4913616938342726,
             0,
             0,
             0,
             1.3979400086720377,
             0.47712125471966244,
             0,
             0,
             0.47712125471966244,
             0,
             0,
             1.2304489213782739,
             0,
             1.414973347970818,
             0,
             0,
             0,
             0.6020599913279624,
             0.47712125471966244,
             0,
             0.7781512503836436,
             0,
             0,
             0,
             1.0413926851582251,
             0
            ],
            "sizemode": "area",
            "sizeref": 0.012270166519720165
           },
           "name": "",
           "showlegend": false,
           "type": "scattergeo"
          }
         ],
         "name": "2020-02-07 00:00:00"
        },
        {
         "data": [
          {
           "customdata": [
            [
             0
            ],
            [
             0
            ],
            [
             0
            ],
            [
             0
            ],
            [
             0
            ],
            [
             0
            ],
            [
             0
            ],
            [
             5
            ],
            [
             0
            ],
            [
             0
            ],
            [
             0
            ],
            [
             0
            ],
            [
             0
            ],
            [
             1
            ],
            [
             0
            ],
            [
             0
            ],
            [
             0
            ],
            [
             0
            ],
            [
             0
            ],
            [
             0
            ],
            [
             0
            ],
            [
             0
            ],
            [
             0
            ],
            [
             4
            ],
            [
             0
            ],
            [
             0
            ],
            [
             36759
            ],
            [
             0
            ],
            [
             0
            ],
            [
             0
            ],
            [
             0
            ],
            [
             0
            ],
            [
             0
            ],
            [
             0
            ],
            [
             0
            ],
            [
             0
            ],
            [
             0
            ],
            [
             0
            ],
            [
             0
            ],
            [
             0
            ],
            [
             0
            ],
            [
             0
            ],
            [
             0
            ],
            [
             0
            ],
            [
             11
            ],
            [
             0
            ],
            [
             0
            ],
            [
             13
            ],
            [
             0
            ],
            [
             0
            ],
            [
             0
            ],
            [
             0
            ],
            [
             0
            ],
            [
             26
            ],
            [
             0
            ],
            [
             0
            ],
            [
             0
            ],
            [
             3
            ],
            [
             0
            ],
            [
             0
            ],
            [
             0
            ],
            [
             0
            ],
            [
             0
            ],
            [
             0
            ],
            [
             3
            ],
            [
             0
            ],
            [
             25
            ],
            [
             0
            ],
            [
             0
            ],
            [
             0
            ],
            [
             0
            ],
            [
             0
            ],
            [
             0
            ],
            [
             0
            ],
            [
             0
            ],
            [
             0
            ],
            [
             10
            ],
            [
             16
            ],
            [
             0
            ],
            [
             0
            ],
            [
             0
            ],
            [
             0
            ],
            [
             0
            ],
            [
             0
            ],
            [
             0
            ],
            [
             0
            ],
            [
             0
            ],
            [
             0
            ],
            [
             0
            ],
            [
             0
            ],
            [
             0
            ],
            [
             0
            ],
            [
             0
            ],
            [
             0
            ],
            [
             61
            ],
            [
             0
            ],
            [
             0
            ],
            [
             0
            ],
            [
             0
            ],
            [
             0
            ],
            [
             3
            ],
            [
             0
            ],
            [
             0
            ],
            [
             0
            ],
            [
             0
            ],
            [
             0
            ],
            [
             0
            ],
            [
             0
            ],
            [
             0
            ],
            [
             0
            ],
            [
             0
            ],
            [
             0
            ],
            [
             0
            ],
            [
             0
            ],
            [
             0
            ],
            [
             0
            ],
            [
             0
            ],
            [
             33
            ],
            [
             0
            ],
            [
             0
            ],
            [
             0
            ],
            [
             24
            ],
            [
             2
            ],
            [
             2
            ],
            [
             0
            ],
            [
             2
            ],
            [
             0
            ],
            [
             0
            ],
            [
             17
            ],
            [
             0
            ],
            [
             32
            ],
            [
             0
            ],
            [
             0
            ],
            [
             0
            ],
            [
             3
            ],
            [
             2
            ],
            [
             0
            ],
            [
             7
            ],
            [
             0
            ],
            [
             0
            ],
            [
             0
            ],
            [
             13
            ],
            [
             0
            ]
           ],
           "geo": "geo",
           "hoverlabel": {
            "namelength": 0
           },
           "hovertemplate": "Date=2020-02-08 00:00:00<br>Log Confirmed=%{marker.size}<br>Confirmed=%{customdata[0]}<br>Country/Region=%{location}",
           "legendgroup": "",
           "locationmode": "country names",
           "locations": [
            " Azerbaijan",
            "Afghanistan",
            "Albania",
            "Algeria",
            "Andorra",
            "Argentina",
            "Armenia",
            "Australia",
            "Austria",
            "Azerbaijan",
            "Bahrain",
            "Bangladesh",
            "Belarus",
            "Belgium",
            "Bhutan",
            "Bolivia",
            "Bosnia and Herzegovina",
            "Brazil",
            "Brunei",
            "Bulgaria",
            "Burkina Faso",
            "Cambodia",
            "Cameroon",
            "Canada",
            "Channel Islands",
            "Chile",
            "China",
            "Colombia",
            "Congo (Kinshasa)",
            "Costa Rica",
            "Cote d'Ivoire",
            "Croatia",
            "Cruise Ship",
            "Cuba",
            "Cyprus",
            "Czech Republic",
            "Czechia",
            "Denmark",
            "Dominican Republic",
            "Ecuador",
            "Egypt",
            "Estonia",
            "Faroe Islands",
            "Finland",
            "France",
            "French Guiana",
            "Georgia",
            "Germany",
            "Gibraltar",
            "Greece",
            "Guyana",
            "Holy See",
            "Honduras",
            "Hong Kong",
            "Hong Kong SAR",
            "Hungary",
            "Iceland",
            "India",
            "Indonesia",
            "Iran",
            "Iran (Islamic Republic of)",
            "Iraq",
            "Ireland",
            "Israel",
            "Italy",
            "Jamaica",
            "Japan",
            "Jordan",
            "Korea, South",
            "Kuwait",
            "Latvia",
            "Lebanon",
            "Liechtenstein",
            "Lithuania",
            "Luxembourg",
            "Macao SAR",
            "Macau",
            "Malaysia",
            "Maldives",
            "Malta",
            "Martinique",
            "Mexico",
            "Moldova",
            "Monaco",
            "Mongolia",
            "Morocco",
            "Nepal",
            "Netherlands",
            "New Zealand",
            "Nigeria",
            "North Ireland",
            "North Macedonia",
            "Norway",
            "Oman",
            "Others",
            "Pakistan",
            "Palestine",
            "Panama",
            "Paraguay",
            "Peru",
            "Philippines",
            "Poland",
            "Portugal",
            "Qatar",
            "Republic of Ireland",
            "Republic of Korea",
            "Republic of Moldova",
            "Reunion",
            "Romania",
            "Russia",
            "Russian Federation",
            "Saint Barthelemy",
            "Saint Martin",
            "San Marino",
            "Saudi Arabia",
            "Senegal",
            "Serbia",
            "Singapore",
            "Slovakia",
            "Slovenia",
            "South Africa",
            "South Korea",
            "Spain",
            "Sri Lanka",
            "St. Martin",
            "Sweden",
            "Switzerland",
            "Taipei and environs",
            "Taiwan",
            "Taiwan*",
            "Thailand",
            "Togo",
            "Tunisia",
            "Turkey",
            "UK",
            "US",
            "Ukraine",
            "United Arab Emirates",
            "United Kingdom",
            "Vatican City",
            "Viet Nam",
            "Vietnam",
            "occupied Palestinian territory"
           ],
           "marker": {
            "color": "#636efa",
            "size": [
             0,
             0,
             0,
             0,
             0,
             0,
             0,
             0.7781512503836436,
             0,
             0,
             0,
             0,
             0,
             0.3010299956639812,
             0,
             0,
             0,
             0,
             0,
             0,
             0,
             0,
             0,
             0.6989700043360189,
             0,
             0,
             4.565375502714073,
             0,
             0,
             0,
             0,
             0,
             0,
             0,
             0,
             0,
             0,
             0,
             0,
             0,
             0,
             0,
             0,
             0,
             1.0791812460476249,
             0,
             0,
             1.146128035678238,
             0,
             0,
             0,
             0,
             0,
             1.4313637641589874,
             0,
             0,
             0,
             0.6020599913279624,
             0,
             0,
             0,
             0,
             0,
             0,
             0.6020599913279624,
             0,
             1.414973347970818,
             0,
             0,
             0,
             0,
             0,
             0,
             0,
             0,
             0,
             1.0413926851582251,
             1.2304489213782739,
             0,
             0,
             0,
             0,
             0,
             0,
             0,
             0,
             0,
             0,
             0,
             0,
             0,
             0,
             0,
             0,
             1.792391689498254,
             0,
             0,
             0,
             0,
             0,
             0.6020599913279624,
             0,
             0,
             0,
             0,
             0,
             0,
             0,
             0,
             0,
             0,
             0,
             0,
             0,
             0,
             0,
             0,
             1.5314789170422551,
             0,
             0,
             0,
             1.3979400086720377,
             0.47712125471966244,
             0.47712125471966244,
             0,
             0.47712125471966244,
             0,
             0,
             1.255272505103306,
             0,
             1.5185139398778875,
             0,
             0,
             0,
             0.6020599913279624,
             0.47712125471966244,
             0,
             0.9030899869919435,
             0,
             0,
             0,
             1.146128035678238,
             0
            ],
            "sizemode": "area",
            "sizeref": 0.012270166519720165
           },
           "name": "",
           "showlegend": false,
           "type": "scattergeo"
          }
         ],
         "name": "2020-02-08 00:00:00"
        },
        {
         "data": [
          {
           "customdata": [
            [
             0
            ],
            [
             0
            ],
            [
             0
            ],
            [
             0
            ],
            [
             0
            ],
            [
             0
            ],
            [
             0
            ],
            [
             5
            ],
            [
             0
            ],
            [
             0
            ],
            [
             0
            ],
            [
             0
            ],
            [
             0
            ],
            [
             1
            ],
            [
             0
            ],
            [
             0
            ],
            [
             0
            ],
            [
             0
            ],
            [
             0
            ],
            [
             0
            ],
            [
             0
            ],
            [
             0
            ],
            [
             0
            ],
            [
             4
            ],
            [
             0
            ],
            [
             0
            ],
            [
             39771
            ],
            [
             0
            ],
            [
             0
            ],
            [
             0
            ],
            [
             0
            ],
            [
             0
            ],
            [
             0
            ],
            [
             0
            ],
            [
             0
            ],
            [
             0
            ],
            [
             0
            ],
            [
             0
            ],
            [
             0
            ],
            [
             0
            ],
            [
             0
            ],
            [
             0
            ],
            [
             0
            ],
            [
             0
            ],
            [
             11
            ],
            [
             0
            ],
            [
             0
            ],
            [
             14
            ],
            [
             0
            ],
            [
             0
            ],
            [
             0
            ],
            [
             0
            ],
            [
             0
            ],
            [
             29
            ],
            [
             0
            ],
            [
             0
            ],
            [
             0
            ],
            [
             3
            ],
            [
             0
            ],
            [
             0
            ],
            [
             0
            ],
            [
             0
            ],
            [
             0
            ],
            [
             0
            ],
            [
             3
            ],
            [
             0
            ],
            [
             26
            ],
            [
             0
            ],
            [
             0
            ],
            [
             0
            ],
            [
             0
            ],
            [
             0
            ],
            [
             0
            ],
            [
             0
            ],
            [
             0
            ],
            [
             0
            ],
            [
             10
            ],
            [
             16
            ],
            [
             0
            ],
            [
             0
            ],
            [
             0
            ],
            [
             0
            ],
            [
             0
            ],
            [
             0
            ],
            [
             0
            ],
            [
             0
            ],
            [
             0
            ],
            [
             0
            ],
            [
             0
            ],
            [
             0
            ],
            [
             0
            ],
            [
             0
            ],
            [
             0
            ],
            [
             0
            ],
            [
             64
            ],
            [
             0
            ],
            [
             0
            ],
            [
             0
            ],
            [
             0
            ],
            [
             0
            ],
            [
             3
            ],
            [
             0
            ],
            [
             0
            ],
            [
             0
            ],
            [
             0
            ],
            [
             0
            ],
            [
             0
            ],
            [
             0
            ],
            [
             0
            ],
            [
             0
            ],
            [
             0
            ],
            [
             0
            ],
            [
             0
            ],
            [
             0
            ],
            [
             0
            ],
            [
             0
            ],
            [
             0
            ],
            [
             40
            ],
            [
             0
            ],
            [
             0
            ],
            [
             0
            ],
            [
             25
            ],
            [
             2
            ],
            [
             2
            ],
            [
             0
            ],
            [
             2
            ],
            [
             0
            ],
            [
             0
            ],
            [
             18
            ],
            [
             0
            ],
            [
             32
            ],
            [
             0
            ],
            [
             0
            ],
            [
             0
            ],
            [
             3
            ],
            [
             3
            ],
            [
             0
            ],
            [
             7
            ],
            [
             0
            ],
            [
             0
            ],
            [
             0
            ],
            [
             13
            ],
            [
             0
            ]
           ],
           "geo": "geo",
           "hoverlabel": {
            "namelength": 0
           },
           "hovertemplate": "Date=2020-02-09 00:00:00<br>Log Confirmed=%{marker.size}<br>Confirmed=%{customdata[0]}<br>Country/Region=%{location}",
           "legendgroup": "",
           "locationmode": "country names",
           "locations": [
            " Azerbaijan",
            "Afghanistan",
            "Albania",
            "Algeria",
            "Andorra",
            "Argentina",
            "Armenia",
            "Australia",
            "Austria",
            "Azerbaijan",
            "Bahrain",
            "Bangladesh",
            "Belarus",
            "Belgium",
            "Bhutan",
            "Bolivia",
            "Bosnia and Herzegovina",
            "Brazil",
            "Brunei",
            "Bulgaria",
            "Burkina Faso",
            "Cambodia",
            "Cameroon",
            "Canada",
            "Channel Islands",
            "Chile",
            "China",
            "Colombia",
            "Congo (Kinshasa)",
            "Costa Rica",
            "Cote d'Ivoire",
            "Croatia",
            "Cruise Ship",
            "Cuba",
            "Cyprus",
            "Czech Republic",
            "Czechia",
            "Denmark",
            "Dominican Republic",
            "Ecuador",
            "Egypt",
            "Estonia",
            "Faroe Islands",
            "Finland",
            "France",
            "French Guiana",
            "Georgia",
            "Germany",
            "Gibraltar",
            "Greece",
            "Guyana",
            "Holy See",
            "Honduras",
            "Hong Kong",
            "Hong Kong SAR",
            "Hungary",
            "Iceland",
            "India",
            "Indonesia",
            "Iran",
            "Iran (Islamic Republic of)",
            "Iraq",
            "Ireland",
            "Israel",
            "Italy",
            "Jamaica",
            "Japan",
            "Jordan",
            "Korea, South",
            "Kuwait",
            "Latvia",
            "Lebanon",
            "Liechtenstein",
            "Lithuania",
            "Luxembourg",
            "Macao SAR",
            "Macau",
            "Malaysia",
            "Maldives",
            "Malta",
            "Martinique",
            "Mexico",
            "Moldova",
            "Monaco",
            "Mongolia",
            "Morocco",
            "Nepal",
            "Netherlands",
            "New Zealand",
            "Nigeria",
            "North Ireland",
            "North Macedonia",
            "Norway",
            "Oman",
            "Others",
            "Pakistan",
            "Palestine",
            "Panama",
            "Paraguay",
            "Peru",
            "Philippines",
            "Poland",
            "Portugal",
            "Qatar",
            "Republic of Ireland",
            "Republic of Korea",
            "Republic of Moldova",
            "Reunion",
            "Romania",
            "Russia",
            "Russian Federation",
            "Saint Barthelemy",
            "Saint Martin",
            "San Marino",
            "Saudi Arabia",
            "Senegal",
            "Serbia",
            "Singapore",
            "Slovakia",
            "Slovenia",
            "South Africa",
            "South Korea",
            "Spain",
            "Sri Lanka",
            "St. Martin",
            "Sweden",
            "Switzerland",
            "Taipei and environs",
            "Taiwan",
            "Taiwan*",
            "Thailand",
            "Togo",
            "Tunisia",
            "Turkey",
            "UK",
            "US",
            "Ukraine",
            "United Arab Emirates",
            "United Kingdom",
            "Vatican City",
            "Viet Nam",
            "Vietnam",
            "occupied Palestinian territory"
           ],
           "marker": {
            "color": "#636efa",
            "size": [
             0,
             0,
             0,
             0,
             0,
             0,
             0,
             0.7781512503836436,
             0,
             0,
             0,
             0,
             0,
             0.3010299956639812,
             0,
             0,
             0,
             0,
             0,
             0,
             0,
             0,
             0,
             0.6989700043360189,
             0,
             0,
             4.599577430742687,
             0,
             0,
             0,
             0,
             0,
             0,
             0,
             0,
             0,
             0,
             0,
             0,
             0,
             0,
             0,
             0,
             0,
             1.0791812460476249,
             0,
             0,
             1.1760912590556813,
             0,
             0,
             0,
             0,
             0,
             1.4771212547196624,
             0,
             0,
             0,
             0.6020599913279624,
             0,
             0,
             0,
             0,
             0,
             0,
             0.6020599913279624,
             0,
             1.4313637641589874,
             0,
             0,
             0,
             0,
             0,
             0,
             0,
             0,
             0,
             1.0413926851582251,
             1.2304489213782739,
             0,
             0,
             0,
             0,
             0,
             0,
             0,
             0,
             0,
             0,
             0,
             0,
             0,
             0,
             0,
             0,
             1.8129133566428555,
             0,
             0,
             0,
             0,
             0,
             0.6020599913279624,
             0,
             0,
             0,
             0,
             0,
             0,
             0,
             0,
             0,
             0,
             0,
             0,
             0,
             0,
             0,
             0,
             1.6127838567197355,
             0,
             0,
             0,
             1.414973347970818,
             0.47712125471966244,
             0.47712125471966244,
             0,
             0.47712125471966244,
             0,
             0,
             1.2787536009528289,
             0,
             1.5185139398778875,
             0,
             0,
             0,
             0.6020599913279624,
             0.6020599913279624,
             0,
             0.9030899869919435,
             0,
             0,
             0,
             1.146128035678238,
             0
            ],
            "sizemode": "area",
            "sizeref": 0.012270166519720165
           },
           "name": "",
           "showlegend": false,
           "type": "scattergeo"
          }
         ],
         "name": "2020-02-09 00:00:00"
        },
        {
         "data": [
          {
           "customdata": [
            [
             0
            ],
            [
             0
            ],
            [
             0
            ],
            [
             0
            ],
            [
             0
            ],
            [
             0
            ],
            [
             0
            ],
            [
             5
            ],
            [
             0
            ],
            [
             0
            ],
            [
             0
            ],
            [
             0
            ],
            [
             0
            ],
            [
             1
            ],
            [
             0
            ],
            [
             0
            ],
            [
             0
            ],
            [
             0
            ],
            [
             0
            ],
            [
             0
            ],
            [
             0
            ],
            [
             0
            ],
            [
             0
            ],
            [
             4
            ],
            [
             0
            ],
            [
             0
            ],
            [
             42168
            ],
            [
             0
            ],
            [
             0
            ],
            [
             0
            ],
            [
             0
            ],
            [
             0
            ],
            [
             0
            ],
            [
             0
            ],
            [
             0
            ],
            [
             0
            ],
            [
             0
            ],
            [
             0
            ],
            [
             0
            ],
            [
             0
            ],
            [
             0
            ],
            [
             0
            ],
            [
             0
            ],
            [
             0
            ],
            [
             11
            ],
            [
             0
            ],
            [
             0
            ],
            [
             14
            ],
            [
             0
            ],
            [
             0
            ],
            [
             0
            ],
            [
             0
            ],
            [
             0
            ],
            [
             38
            ],
            [
             0
            ],
            [
             0
            ],
            [
             0
            ],
            [
             3
            ],
            [
             0
            ],
            [
             0
            ],
            [
             0
            ],
            [
             0
            ],
            [
             0
            ],
            [
             0
            ],
            [
             3
            ],
            [
             0
            ],
            [
             26
            ],
            [
             0
            ],
            [
             0
            ],
            [
             0
            ],
            [
             0
            ],
            [
             0
            ],
            [
             0
            ],
            [
             0
            ],
            [
             0
            ],
            [
             0
            ],
            [
             10
            ],
            [
             18
            ],
            [
             0
            ],
            [
             0
            ],
            [
             0
            ],
            [
             0
            ],
            [
             0
            ],
            [
             0
            ],
            [
             0
            ],
            [
             0
            ],
            [
             0
            ],
            [
             0
            ],
            [
             0
            ],
            [
             0
            ],
            [
             0
            ],
            [
             0
            ],
            [
             0
            ],
            [
             0
            ],
            [
             135
            ],
            [
             0
            ],
            [
             0
            ],
            [
             0
            ],
            [
             0
            ],
            [
             0
            ],
            [
             3
            ],
            [
             0
            ],
            [
             0
            ],
            [
             0
            ],
            [
             0
            ],
            [
             0
            ],
            [
             0
            ],
            [
             0
            ],
            [
             0
            ],
            [
             0
            ],
            [
             0
            ],
            [
             0
            ],
            [
             0
            ],
            [
             0
            ],
            [
             0
            ],
            [
             0
            ],
            [
             0
            ],
            [
             45
            ],
            [
             0
            ],
            [
             0
            ],
            [
             0
            ],
            [
             27
            ],
            [
             2
            ],
            [
             2
            ],
            [
             0
            ],
            [
             2
            ],
            [
             0
            ],
            [
             0
            ],
            [
             18
            ],
            [
             0
            ],
            [
             32
            ],
            [
             0
            ],
            [
             0
            ],
            [
             0
            ],
            [
             8
            ],
            [
             3
            ],
            [
             0
            ],
            [
             8
            ],
            [
             0
            ],
            [
             0
            ],
            [
             0
            ],
            [
             14
            ],
            [
             0
            ]
           ],
           "geo": "geo",
           "hoverlabel": {
            "namelength": 0
           },
           "hovertemplate": "Date=2020-02-10 00:00:00<br>Log Confirmed=%{marker.size}<br>Confirmed=%{customdata[0]}<br>Country/Region=%{location}",
           "legendgroup": "",
           "locationmode": "country names",
           "locations": [
            " Azerbaijan",
            "Afghanistan",
            "Albania",
            "Algeria",
            "Andorra",
            "Argentina",
            "Armenia",
            "Australia",
            "Austria",
            "Azerbaijan",
            "Bahrain",
            "Bangladesh",
            "Belarus",
            "Belgium",
            "Bhutan",
            "Bolivia",
            "Bosnia and Herzegovina",
            "Brazil",
            "Brunei",
            "Bulgaria",
            "Burkina Faso",
            "Cambodia",
            "Cameroon",
            "Canada",
            "Channel Islands",
            "Chile",
            "China",
            "Colombia",
            "Congo (Kinshasa)",
            "Costa Rica",
            "Cote d'Ivoire",
            "Croatia",
            "Cruise Ship",
            "Cuba",
            "Cyprus",
            "Czech Republic",
            "Czechia",
            "Denmark",
            "Dominican Republic",
            "Ecuador",
            "Egypt",
            "Estonia",
            "Faroe Islands",
            "Finland",
            "France",
            "French Guiana",
            "Georgia",
            "Germany",
            "Gibraltar",
            "Greece",
            "Guyana",
            "Holy See",
            "Honduras",
            "Hong Kong",
            "Hong Kong SAR",
            "Hungary",
            "Iceland",
            "India",
            "Indonesia",
            "Iran",
            "Iran (Islamic Republic of)",
            "Iraq",
            "Ireland",
            "Israel",
            "Italy",
            "Jamaica",
            "Japan",
            "Jordan",
            "Korea, South",
            "Kuwait",
            "Latvia",
            "Lebanon",
            "Liechtenstein",
            "Lithuania",
            "Luxembourg",
            "Macao SAR",
            "Macau",
            "Malaysia",
            "Maldives",
            "Malta",
            "Martinique",
            "Mexico",
            "Moldova",
            "Monaco",
            "Mongolia",
            "Morocco",
            "Nepal",
            "Netherlands",
            "New Zealand",
            "Nigeria",
            "North Ireland",
            "North Macedonia",
            "Norway",
            "Oman",
            "Others",
            "Pakistan",
            "Palestine",
            "Panama",
            "Paraguay",
            "Peru",
            "Philippines",
            "Poland",
            "Portugal",
            "Qatar",
            "Republic of Ireland",
            "Republic of Korea",
            "Republic of Moldova",
            "Reunion",
            "Romania",
            "Russia",
            "Russian Federation",
            "Saint Barthelemy",
            "Saint Martin",
            "San Marino",
            "Saudi Arabia",
            "Senegal",
            "Serbia",
            "Singapore",
            "Slovakia",
            "Slovenia",
            "South Africa",
            "South Korea",
            "Spain",
            "Sri Lanka",
            "St. Martin",
            "Sweden",
            "Switzerland",
            "Taipei and environs",
            "Taiwan",
            "Taiwan*",
            "Thailand",
            "Togo",
            "Tunisia",
            "Turkey",
            "UK",
            "US",
            "Ukraine",
            "United Arab Emirates",
            "United Kingdom",
            "Vatican City",
            "Viet Nam",
            "Vietnam",
            "occupied Palestinian territory"
           ],
           "marker": {
            "color": "#636efa",
            "size": [
             0,
             0,
             0,
             0,
             0,
             0,
             0,
             0.7781512503836436,
             0,
             0,
             0,
             0,
             0,
             0.3010299956639812,
             0,
             0,
             0,
             0,
             0,
             0,
             0,
             0,
             0,
             0.6989700043360189,
             0,
             0,
             4.624993302232997,
             0,
             0,
             0,
             0,
             0,
             0,
             0,
             0,
             0,
             0,
             0,
             0,
             0,
             0,
             0,
             0,
             0,
             1.0791812460476249,
             0,
             0,
             1.1760912590556813,
             0,
             0,
             0,
             0,
             0,
             1.591064607026499,
             0,
             0,
             0,
             0.6020599913279624,
             0,
             0,
             0,
             0,
             0,
             0,
             0.6020599913279624,
             0,
             1.4313637641589874,
             0,
             0,
             0,
             0,
             0,
             0,
             0,
             0,
             0,
             1.0413926851582251,
             1.2787536009528289,
             0,
             0,
             0,
             0,
             0,
             0,
             0,
             0,
             0,
             0,
             0,
             0,
             0,
             0,
             0,
             0,
             2.1335389083702174,
             0,
             0,
             0,
             0,
             0,
             0.6020599913279624,
             0,
             0,
             0,
             0,
             0,
             0,
             0,
             0,
             0,
             0,
             0,
             0,
             0,
             0,
             0,
             0,
             1.662757831681574,
             0,
             0,
             0,
             1.4471580313422192,
             0.47712125471966244,
             0.47712125471966244,
             0,
             0.47712125471966244,
             0,
             0,
             1.2787536009528289,
             0,
             1.5185139398778875,
             0,
             0,
             0,
             0.9542425094393249,
             0.6020599913279624,
             0,
             0.9542425094393249,
             0,
             0,
             0,
             1.1760912590556813,
             0
            ],
            "sizemode": "area",
            "sizeref": 0.012270166519720165
           },
           "name": "",
           "showlegend": false,
           "type": "scattergeo"
          }
         ],
         "name": "2020-02-10 00:00:00"
        },
        {
         "data": [
          {
           "customdata": [
            [
             0
            ],
            [
             0
            ],
            [
             0
            ],
            [
             0
            ],
            [
             0
            ],
            [
             0
            ],
            [
             0
            ],
            [
             5
            ],
            [
             0
            ],
            [
             0
            ],
            [
             0
            ],
            [
             0
            ],
            [
             0
            ],
            [
             1
            ],
            [
             0
            ],
            [
             0
            ],
            [
             0
            ],
            [
             0
            ],
            [
             0
            ],
            [
             0
            ],
            [
             0
            ],
            [
             0
            ],
            [
             0
            ],
            [
             4
            ],
            [
             0
            ],
            [
             0
            ],
            [
             44268
            ],
            [
             0
            ],
            [
             0
            ],
            [
             0
            ],
            [
             0
            ],
            [
             0
            ],
            [
             0
            ],
            [
             0
            ],
            [
             0
            ],
            [
             0
            ],
            [
             0
            ],
            [
             0
            ],
            [
             0
            ],
            [
             0
            ],
            [
             0
            ],
            [
             0
            ],
            [
             0
            ],
            [
             0
            ],
            [
             11
            ],
            [
             0
            ],
            [
             0
            ],
            [
             16
            ],
            [
             0
            ],
            [
             0
            ],
            [
             0
            ],
            [
             0
            ],
            [
             0
            ],
            [
             49
            ],
            [
             0
            ],
            [
             0
            ],
            [
             0
            ],
            [
             3
            ],
            [
             0
            ],
            [
             0
            ],
            [
             0
            ],
            [
             0
            ],
            [
             0
            ],
            [
             0
            ],
            [
             3
            ],
            [
             0
            ],
            [
             26
            ],
            [
             0
            ],
            [
             0
            ],
            [
             0
            ],
            [
             0
            ],
            [
             0
            ],
            [
             0
            ],
            [
             0
            ],
            [
             0
            ],
            [
             0
            ],
            [
             10
            ],
            [
             18
            ],
            [
             0
            ],
            [
             0
            ],
            [
             0
            ],
            [
             0
            ],
            [
             0
            ],
            [
             0
            ],
            [
             0
            ],
            [
             0
            ],
            [
             0
            ],
            [
             0
            ],
            [
             0
            ],
            [
             0
            ],
            [
             0
            ],
            [
             0
            ],
            [
             0
            ],
            [
             0
            ],
            [
             135
            ],
            [
             0
            ],
            [
             0
            ],
            [
             0
            ],
            [
             0
            ],
            [
             0
            ],
            [
             3
            ],
            [
             0
            ],
            [
             0
            ],
            [
             0
            ],
            [
             0
            ],
            [
             0
            ],
            [
             0
            ],
            [
             0
            ],
            [
             0
            ],
            [
             0
            ],
            [
             0
            ],
            [
             0
            ],
            [
             0
            ],
            [
             0
            ],
            [
             0
            ],
            [
             0
            ],
            [
             0
            ],
            [
             47
            ],
            [
             0
            ],
            [
             0
            ],
            [
             0
            ],
            [
             28
            ],
            [
             2
            ],
            [
             2
            ],
            [
             0
            ],
            [
             2
            ],
            [
             0
            ],
            [
             0
            ],
            [
             18
            ],
            [
             0
            ],
            [
             33
            ],
            [
             0
            ],
            [
             0
            ],
            [
             0
            ],
            [
             8
            ],
            [
             1
            ],
            [
             0
            ],
            [
             8
            ],
            [
             0
            ],
            [
             0
            ],
            [
             0
            ],
            [
             15
            ],
            [
             0
            ]
           ],
           "geo": "geo",
           "hoverlabel": {
            "namelength": 0
           },
           "hovertemplate": "Date=2020-02-11 00:00:00<br>Log Confirmed=%{marker.size}<br>Confirmed=%{customdata[0]}<br>Country/Region=%{location}",
           "legendgroup": "",
           "locationmode": "country names",
           "locations": [
            " Azerbaijan",
            "Afghanistan",
            "Albania",
            "Algeria",
            "Andorra",
            "Argentina",
            "Armenia",
            "Australia",
            "Austria",
            "Azerbaijan",
            "Bahrain",
            "Bangladesh",
            "Belarus",
            "Belgium",
            "Bhutan",
            "Bolivia",
            "Bosnia and Herzegovina",
            "Brazil",
            "Brunei",
            "Bulgaria",
            "Burkina Faso",
            "Cambodia",
            "Cameroon",
            "Canada",
            "Channel Islands",
            "Chile",
            "China",
            "Colombia",
            "Congo (Kinshasa)",
            "Costa Rica",
            "Cote d'Ivoire",
            "Croatia",
            "Cruise Ship",
            "Cuba",
            "Cyprus",
            "Czech Republic",
            "Czechia",
            "Denmark",
            "Dominican Republic",
            "Ecuador",
            "Egypt",
            "Estonia",
            "Faroe Islands",
            "Finland",
            "France",
            "French Guiana",
            "Georgia",
            "Germany",
            "Gibraltar",
            "Greece",
            "Guyana",
            "Holy See",
            "Honduras",
            "Hong Kong",
            "Hong Kong SAR",
            "Hungary",
            "Iceland",
            "India",
            "Indonesia",
            "Iran",
            "Iran (Islamic Republic of)",
            "Iraq",
            "Ireland",
            "Israel",
            "Italy",
            "Jamaica",
            "Japan",
            "Jordan",
            "Korea, South",
            "Kuwait",
            "Latvia",
            "Lebanon",
            "Liechtenstein",
            "Lithuania",
            "Luxembourg",
            "Macao SAR",
            "Macau",
            "Malaysia",
            "Maldives",
            "Malta",
            "Martinique",
            "Mexico",
            "Moldova",
            "Monaco",
            "Mongolia",
            "Morocco",
            "Nepal",
            "Netherlands",
            "New Zealand",
            "Nigeria",
            "North Ireland",
            "North Macedonia",
            "Norway",
            "Oman",
            "Others",
            "Pakistan",
            "Palestine",
            "Panama",
            "Paraguay",
            "Peru",
            "Philippines",
            "Poland",
            "Portugal",
            "Qatar",
            "Republic of Ireland",
            "Republic of Korea",
            "Republic of Moldova",
            "Reunion",
            "Romania",
            "Russia",
            "Russian Federation",
            "Saint Barthelemy",
            "Saint Martin",
            "San Marino",
            "Saudi Arabia",
            "Senegal",
            "Serbia",
            "Singapore",
            "Slovakia",
            "Slovenia",
            "South Africa",
            "South Korea",
            "Spain",
            "Sri Lanka",
            "St. Martin",
            "Sweden",
            "Switzerland",
            "Taipei and environs",
            "Taiwan",
            "Taiwan*",
            "Thailand",
            "Togo",
            "Tunisia",
            "Turkey",
            "UK",
            "US",
            "Ukraine",
            "United Arab Emirates",
            "United Kingdom",
            "Vatican City",
            "Viet Nam",
            "Vietnam",
            "occupied Palestinian territory"
           ],
           "marker": {
            "color": "#636efa",
            "size": [
             0,
             0,
             0,
             0,
             0,
             0,
             0,
             0.7781512503836436,
             0,
             0,
             0,
             0,
             0,
             0.3010299956639812,
             0,
             0,
             0,
             0,
             0,
             0,
             0,
             0,
             0,
             0.6989700043360189,
             0,
             0,
             4.646099711737442,
             0,
             0,
             0,
             0,
             0,
             0,
             0,
             0,
             0,
             0,
             0,
             0,
             0,
             0,
             0,
             0,
             0,
             1.0791812460476249,
             0,
             0,
             1.2304489213782739,
             0,
             0,
             0,
             0,
             0,
             1.6989700043360187,
             0,
             0,
             0,
             0.6020599913279624,
             0,
             0,
             0,
             0,
             0,
             0,
             0.6020599913279624,
             0,
             1.4313637641589874,
             0,
             0,
             0,
             0,
             0,
             0,
             0,
             0,
             0,
             1.0413926851582251,
             1.2787536009528289,
             0,
             0,
             0,
             0,
             0,
             0,
             0,
             0,
             0,
             0,
             0,
             0,
             0,
             0,
             0,
             0,
             2.1335389083702174,
             0,
             0,
             0,
             0,
             0,
             0.6020599913279624,
             0,
             0,
             0,
             0,
             0,
             0,
             0,
             0,
             0,
             0,
             0,
             0,
             0,
             0,
             0,
             0,
             1.6812412373755872,
             0,
             0,
             0,
             1.462397997898956,
             0.47712125471966244,
             0.47712125471966244,
             0,
             0.47712125471966244,
             0,
             0,
             1.2787536009528289,
             0,
             1.5314789170422551,
             0,
             0,
             0,
             0.9542425094393249,
             0.3010299956639812,
             0,
             0.9542425094393249,
             0,
             0,
             0,
             1.2041199826559248,
             0
            ],
            "sizemode": "area",
            "sizeref": 0.012270166519720165
           },
           "name": "",
           "showlegend": false,
           "type": "scattergeo"
          }
         ],
         "name": "2020-02-11 00:00:00"
        },
        {
         "data": [
          {
           "customdata": [
            [
             0
            ],
            [
             0
            ],
            [
             0
            ],
            [
             0
            ],
            [
             0
            ],
            [
             0
            ],
            [
             0
            ],
            [
             5
            ],
            [
             0
            ],
            [
             0
            ],
            [
             0
            ],
            [
             0
            ],
            [
             0
            ],
            [
             1
            ],
            [
             0
            ],
            [
             0
            ],
            [
             0
            ],
            [
             0
            ],
            [
             0
            ],
            [
             0
            ],
            [
             0
            ],
            [
             2
            ],
            [
             0
            ],
            [
             2
            ],
            [
             0
            ],
            [
             0
            ],
            [
             44700
            ],
            [
             0
            ],
            [
             0
            ],
            [
             0
            ],
            [
             0
            ],
            [
             0
            ],
            [
             0
            ],
            [
             0
            ],
            [
             0
            ],
            [
             0
            ],
            [
             0
            ],
            [
             0
            ],
            [
             0
            ],
            [
             0
            ],
            [
             0
            ],
            [
             0
            ],
            [
             0
            ],
            [
             1
            ],
            [
             11
            ],
            [
             0
            ],
            [
             0
            ],
            [
             16
            ],
            [
             0
            ],
            [
             0
            ],
            [
             0
            ],
            [
             0
            ],
            [
             0
            ],
            [
             50
            ],
            [
             0
            ],
            [
             0
            ],
            [
             0
            ],
            [
             3
            ],
            [
             0
            ],
            [
             0
            ],
            [
             0
            ],
            [
             0
            ],
            [
             0
            ],
            [
             0
            ],
            [
             3
            ],
            [
             0
            ],
            [
             28
            ],
            [
             0
            ],
            [
             0
            ],
            [
             0
            ],
            [
             0
            ],
            [
             0
            ],
            [
             0
            ],
            [
             0
            ],
            [
             0
            ],
            [
             0
            ],
            [
             10
            ],
            [
             18
            ],
            [
             0
            ],
            [
             0
            ],
            [
             0
            ],
            [
             0
            ],
            [
             0
            ],
            [
             0
            ],
            [
             0
            ],
            [
             0
            ],
            [
             2
            ],
            [
             0
            ],
            [
             0
            ],
            [
             0
            ],
            [
             0
            ],
            [
             0
            ],
            [
             0
            ],
            [
             0
            ],
            [
             175
            ],
            [
             0
            ],
            [
             0
            ],
            [
             0
            ],
            [
             0
            ],
            [
             0
            ],
            [
             6
            ],
            [
             0
            ],
            [
             0
            ],
            [
             0
            ],
            [
             0
            ],
            [
             0
            ],
            [
             0
            ],
            [
             0
            ],
            [
             0
            ],
            [
             4
            ],
            [
             0
            ],
            [
             0
            ],
            [
             0
            ],
            [
             0
            ],
            [
             0
            ],
            [
             0
            ],
            [
             0
            ],
            [
             50
            ],
            [
             0
            ],
            [
             0
            ],
            [
             0
            ],
            [
             28
            ],
            [
             2
            ],
            [
             2
            ],
            [
             0
            ],
            [
             2
            ],
            [
             0
            ],
            [
             0
            ],
            [
             18
            ],
            [
             0
            ],
            [
             33
            ],
            [
             0
            ],
            [
             0
            ],
            [
             0
            ],
            [
             9
            ],
            [
             1
            ],
            [
             0
            ],
            [
             8
            ],
            [
             0
            ],
            [
             0
            ],
            [
             0
            ],
            [
             15
            ],
            [
             0
            ]
           ],
           "geo": "geo",
           "hoverlabel": {
            "namelength": 0
           },
           "hovertemplate": "Date=2020-02-12 00:00:00<br>Log Confirmed=%{marker.size}<br>Confirmed=%{customdata[0]}<br>Country/Region=%{location}",
           "legendgroup": "",
           "locationmode": "country names",
           "locations": [
            " Azerbaijan",
            "Afghanistan",
            "Albania",
            "Algeria",
            "Andorra",
            "Argentina",
            "Armenia",
            "Australia",
            "Austria",
            "Azerbaijan",
            "Bahrain",
            "Bangladesh",
            "Belarus",
            "Belgium",
            "Bhutan",
            "Bolivia",
            "Bosnia and Herzegovina",
            "Brazil",
            "Brunei",
            "Bulgaria",
            "Burkina Faso",
            "Cambodia",
            "Cameroon",
            "Canada",
            "Channel Islands",
            "Chile",
            "China",
            "Colombia",
            "Congo (Kinshasa)",
            "Costa Rica",
            "Cote d'Ivoire",
            "Croatia",
            "Cruise Ship",
            "Cuba",
            "Cyprus",
            "Czech Republic",
            "Czechia",
            "Denmark",
            "Dominican Republic",
            "Ecuador",
            "Egypt",
            "Estonia",
            "Faroe Islands",
            "Finland",
            "France",
            "French Guiana",
            "Georgia",
            "Germany",
            "Gibraltar",
            "Greece",
            "Guyana",
            "Holy See",
            "Honduras",
            "Hong Kong",
            "Hong Kong SAR",
            "Hungary",
            "Iceland",
            "India",
            "Indonesia",
            "Iran",
            "Iran (Islamic Republic of)",
            "Iraq",
            "Ireland",
            "Israel",
            "Italy",
            "Jamaica",
            "Japan",
            "Jordan",
            "Korea, South",
            "Kuwait",
            "Latvia",
            "Lebanon",
            "Liechtenstein",
            "Lithuania",
            "Luxembourg",
            "Macao SAR",
            "Macau",
            "Malaysia",
            "Maldives",
            "Malta",
            "Martinique",
            "Mexico",
            "Moldova",
            "Monaco",
            "Mongolia",
            "Morocco",
            "Nepal",
            "Netherlands",
            "New Zealand",
            "Nigeria",
            "North Ireland",
            "North Macedonia",
            "Norway",
            "Oman",
            "Others",
            "Pakistan",
            "Palestine",
            "Panama",
            "Paraguay",
            "Peru",
            "Philippines",
            "Poland",
            "Portugal",
            "Qatar",
            "Republic of Ireland",
            "Republic of Korea",
            "Republic of Moldova",
            "Reunion",
            "Romania",
            "Russia",
            "Russian Federation",
            "Saint Barthelemy",
            "Saint Martin",
            "San Marino",
            "Saudi Arabia",
            "Senegal",
            "Serbia",
            "Singapore",
            "Slovakia",
            "Slovenia",
            "South Africa",
            "South Korea",
            "Spain",
            "Sri Lanka",
            "St. Martin",
            "Sweden",
            "Switzerland",
            "Taipei and environs",
            "Taiwan",
            "Taiwan*",
            "Thailand",
            "Togo",
            "Tunisia",
            "Turkey",
            "UK",
            "US",
            "Ukraine",
            "United Arab Emirates",
            "United Kingdom",
            "Vatican City",
            "Viet Nam",
            "Vietnam",
            "occupied Palestinian territory"
           ],
           "marker": {
            "color": "#636efa",
            "size": [
             0,
             0,
             0,
             0,
             0,
             0,
             0,
             0.7781512503836436,
             0,
             0,
             0,
             0,
             0,
             0.3010299956639812,
             0,
             0,
             0,
             0,
             0,
             0,
             0,
             0.47712125471966244,
             0,
             0.47712125471966244,
             0,
             0,
             4.650317238783482,
             0,
             0,
             0,
             0,
             0,
             0,
             0,
             0,
             0,
             0,
             0,
             0,
             0,
             0,
             0,
             0,
             0.3010299956639812,
             1.0791812460476249,
             0,
             0,
             1.2304489213782739,
             0,
             0,
             0,
             0,
             0,
             1.7075701760979363,
             0,
             0,
             0,
             0.6020599913279624,
             0,
             0,
             0,
             0,
             0,
             0,
             0.6020599913279624,
             0,
             1.462397997898956,
             0,
             0,
             0,
             0,
             0,
             0,
             0,
             0,
             0,
             1.0413926851582251,
             1.2787536009528289,
             0,
             0,
             0,
             0,
             0,
             0,
             0,
             0,
             0.47712125471966244,
             0,
             0,
             0,
             0,
             0,
             0,
             0,
             2.24551266781415,
             0,
             0,
             0,
             0,
             0,
             0.8450980400142568,
             0,
             0,
             0,
             0,
             0,
             0,
             0,
             0,
             0.6989700043360189,
             0,
             0,
             0,
             0,
             0,
             0,
             0,
             1.7075701760979363,
             0,
             0,
             0,
             1.462397997898956,
             0.47712125471966244,
             0.47712125471966244,
             0,
             0.47712125471966244,
             0,
             0,
             1.2787536009528289,
             0,
             1.5314789170422551,
             0,
             0,
             0,
             1,
             0.3010299956639812,
             0,
             0.9542425094393249,
             0,
             0,
             0,
             1.2041199826559248,
             0
            ],
            "sizemode": "area",
            "sizeref": 0.012270166519720165
           },
           "name": "",
           "showlegend": false,
           "type": "scattergeo"
          }
         ],
         "name": "2020-02-12 00:00:00"
        },
        {
         "data": [
          {
           "customdata": [
            [
             0
            ],
            [
             0
            ],
            [
             0
            ],
            [
             0
            ],
            [
             0
            ],
            [
             0
            ],
            [
             0
            ],
            [
             8
            ],
            [
             0
            ],
            [
             0
            ],
            [
             0
            ],
            [
             0
            ],
            [
             0
            ],
            [
             1
            ],
            [
             0
            ],
            [
             0
            ],
            [
             0
            ],
            [
             0
            ],
            [
             0
            ],
            [
             0
            ],
            [
             0
            ],
            [
             2
            ],
            [
             0
            ],
            [
             2
            ],
            [
             0
            ],
            [
             0
            ],
            [
             59831
            ],
            [
             0
            ],
            [
             0
            ],
            [
             0
            ],
            [
             0
            ],
            [
             0
            ],
            [
             0
            ],
            [
             0
            ],
            [
             0
            ],
            [
             0
            ],
            [
             0
            ],
            [
             0
            ],
            [
             0
            ],
            [
             0
            ],
            [
             0
            ],
            [
             0
            ],
            [
             0
            ],
            [
             1
            ],
            [
             11
            ],
            [
             0
            ],
            [
             0
            ],
            [
             16
            ],
            [
             0
            ],
            [
             0
            ],
            [
             0
            ],
            [
             0
            ],
            [
             0
            ],
            [
             53
            ],
            [
             0
            ],
            [
             0
            ],
            [
             0
            ],
            [
             3
            ],
            [
             0
            ],
            [
             0
            ],
            [
             0
            ],
            [
             0
            ],
            [
             0
            ],
            [
             0
            ],
            [
             3
            ],
            [
             0
            ],
            [
             28
            ],
            [
             0
            ],
            [
             0
            ],
            [
             0
            ],
            [
             0
            ],
            [
             0
            ],
            [
             0
            ],
            [
             0
            ],
            [
             0
            ],
            [
             0
            ],
            [
             10
            ],
            [
             19
            ],
            [
             0
            ],
            [
             0
            ],
            [
             0
            ],
            [
             0
            ],
            [
             0
            ],
            [
             0
            ],
            [
             0
            ],
            [
             0
            ],
            [
             2
            ],
            [
             0
            ],
            [
             0
            ],
            [
             0
            ],
            [
             0
            ],
            [
             0
            ],
            [
             0
            ],
            [
             0
            ],
            [
             175
            ],
            [
             0
            ],
            [
             0
            ],
            [
             0
            ],
            [
             0
            ],
            [
             0
            ],
            [
             6
            ],
            [
             0
            ],
            [
             0
            ],
            [
             0
            ],
            [
             0
            ],
            [
             0
            ],
            [
             0
            ],
            [
             0
            ],
            [
             0
            ],
            [
             4
            ],
            [
             0
            ],
            [
             0
            ],
            [
             0
            ],
            [
             0
            ],
            [
             0
            ],
            [
             0
            ],
            [
             0
            ],
            [
             58
            ],
            [
             0
            ],
            [
             0
            ],
            [
             0
            ],
            [
             28
            ],
            [
             2
            ],
            [
             2
            ],
            [
             0
            ],
            [
             2
            ],
            [
             0
            ],
            [
             0
            ],
            [
             18
            ],
            [
             0
            ],
            [
             33
            ],
            [
             0
            ],
            [
             0
            ],
            [
             0
            ],
            [
             9
            ],
            [
             4
            ],
            [
             0
            ],
            [
             8
            ],
            [
             0
            ],
            [
             0
            ],
            [
             0
            ],
            [
             16
            ],
            [
             0
            ]
           ],
           "geo": "geo",
           "hoverlabel": {
            "namelength": 0
           },
           "hovertemplate": "Date=2020-02-13 00:00:00<br>Log Confirmed=%{marker.size}<br>Confirmed=%{customdata[0]}<br>Country/Region=%{location}",
           "legendgroup": "",
           "locationmode": "country names",
           "locations": [
            " Azerbaijan",
            "Afghanistan",
            "Albania",
            "Algeria",
            "Andorra",
            "Argentina",
            "Armenia",
            "Australia",
            "Austria",
            "Azerbaijan",
            "Bahrain",
            "Bangladesh",
            "Belarus",
            "Belgium",
            "Bhutan",
            "Bolivia",
            "Bosnia and Herzegovina",
            "Brazil",
            "Brunei",
            "Bulgaria",
            "Burkina Faso",
            "Cambodia",
            "Cameroon",
            "Canada",
            "Channel Islands",
            "Chile",
            "China",
            "Colombia",
            "Congo (Kinshasa)",
            "Costa Rica",
            "Cote d'Ivoire",
            "Croatia",
            "Cruise Ship",
            "Cuba",
            "Cyprus",
            "Czech Republic",
            "Czechia",
            "Denmark",
            "Dominican Republic",
            "Ecuador",
            "Egypt",
            "Estonia",
            "Faroe Islands",
            "Finland",
            "France",
            "French Guiana",
            "Georgia",
            "Germany",
            "Gibraltar",
            "Greece",
            "Guyana",
            "Holy See",
            "Honduras",
            "Hong Kong",
            "Hong Kong SAR",
            "Hungary",
            "Iceland",
            "India",
            "Indonesia",
            "Iran",
            "Iran (Islamic Republic of)",
            "Iraq",
            "Ireland",
            "Israel",
            "Italy",
            "Jamaica",
            "Japan",
            "Jordan",
            "Korea, South",
            "Kuwait",
            "Latvia",
            "Lebanon",
            "Liechtenstein",
            "Lithuania",
            "Luxembourg",
            "Macao SAR",
            "Macau",
            "Malaysia",
            "Maldives",
            "Malta",
            "Martinique",
            "Mexico",
            "Moldova",
            "Monaco",
            "Mongolia",
            "Morocco",
            "Nepal",
            "Netherlands",
            "New Zealand",
            "Nigeria",
            "North Ireland",
            "North Macedonia",
            "Norway",
            "Oman",
            "Others",
            "Pakistan",
            "Palestine",
            "Panama",
            "Paraguay",
            "Peru",
            "Philippines",
            "Poland",
            "Portugal",
            "Qatar",
            "Republic of Ireland",
            "Republic of Korea",
            "Republic of Moldova",
            "Reunion",
            "Romania",
            "Russia",
            "Russian Federation",
            "Saint Barthelemy",
            "Saint Martin",
            "San Marino",
            "Saudi Arabia",
            "Senegal",
            "Serbia",
            "Singapore",
            "Slovakia",
            "Slovenia",
            "South Africa",
            "South Korea",
            "Spain",
            "Sri Lanka",
            "St. Martin",
            "Sweden",
            "Switzerland",
            "Taipei and environs",
            "Taiwan",
            "Taiwan*",
            "Thailand",
            "Togo",
            "Tunisia",
            "Turkey",
            "UK",
            "US",
            "Ukraine",
            "United Arab Emirates",
            "United Kingdom",
            "Vatican City",
            "Viet Nam",
            "Vietnam",
            "occupied Palestinian territory"
           ],
           "marker": {
            "color": "#636efa",
            "size": [
             0,
             0,
             0,
             0,
             0,
             0,
             0,
             0.9542425094393249,
             0,
             0,
             0,
             0,
             0,
             0.3010299956639812,
             0,
             0,
             0,
             0,
             0,
             0,
             0,
             0.47712125471966244,
             0,
             0.47712125471966244,
             0,
             0,
             4.77693352021538,
             0,
             0,
             0,
             0,
             0,
             0,
             0,
             0,
             0,
             0,
             0,
             0,
             0,
             0,
             0,
             0,
             0.3010299956639812,
             1.0791812460476249,
             0,
             0,
             1.2304489213782739,
             0,
             0,
             0,
             0,
             0,
             1.7323937598229686,
             0,
             0,
             0,
             0.6020599913279624,
             0,
             0,
             0,
             0,
             0,
             0,
             0.6020599913279624,
             0,
             1.462397997898956,
             0,
             0,
             0,
             0,
             0,
             0,
             0,
             0,
             0,
             1.0413926851582251,
             1.3010299956639813,
             0,
             0,
             0,
             0,
             0,
             0,
             0,
             0,
             0.47712125471966244,
             0,
             0,
             0,
             0,
             0,
             0,
             0,
             2.24551266781415,
             0,
             0,
             0,
             0,
             0,
             0.8450980400142568,
             0,
             0,
             0,
             0,
             0,
             0,
             0,
             0,
             0.6989700043360189,
             0,
             0,
             0,
             0,
             0,
             0,
             0,
             1.7708520116421442,
             0,
             0,
             0,
             1.462397997898956,
             0.47712125471966244,
             0.47712125471966244,
             0,
             0.47712125471966244,
             0,
             0,
             1.2787536009528289,
             0,
             1.5314789170422551,
             0,
             0,
             0,
             1,
             0.6989700043360189,
             0,
             0.9542425094393249,
             0,
             0,
             0,
             1.2304489213782739,
             0
            ],
            "sizemode": "area",
            "sizeref": 0.012270166519720165
           },
           "name": "",
           "showlegend": false,
           "type": "scattergeo"
          }
         ],
         "name": "2020-02-13 00:00:00"
        },
        {
         "data": [
          {
           "customdata": [
            [
             0
            ],
            [
             0
            ],
            [
             0
            ],
            [
             0
            ],
            [
             0
            ],
            [
             0
            ],
            [
             0
            ],
            [
             8
            ],
            [
             0
            ],
            [
             0
            ],
            [
             0
            ],
            [
             0
            ],
            [
             0
            ],
            [
             1
            ],
            [
             0
            ],
            [
             0
            ],
            [
             0
            ],
            [
             0
            ],
            [
             0
            ],
            [
             0
            ],
            [
             0
            ],
            [
             2
            ],
            [
             0
            ],
            [
             2
            ],
            [
             0
            ],
            [
             0
            ],
            [
             66183
            ],
            [
             0
            ],
            [
             0
            ],
            [
             0
            ],
            [
             0
            ],
            [
             0
            ],
            [
             0
            ],
            [
             0
            ],
            [
             0
            ],
            [
             0
            ],
            [
             0
            ],
            [
             0
            ],
            [
             0
            ],
            [
             0
            ],
            [
             1
            ],
            [
             0
            ],
            [
             0
            ],
            [
             1
            ],
            [
             11
            ],
            [
             0
            ],
            [
             0
            ],
            [
             16
            ],
            [
             0
            ],
            [
             0
            ],
            [
             0
            ],
            [
             0
            ],
            [
             0
            ],
            [
             56
            ],
            [
             0
            ],
            [
             0
            ],
            [
             0
            ],
            [
             3
            ],
            [
             0
            ],
            [
             0
            ],
            [
             0
            ],
            [
             0
            ],
            [
             0
            ],
            [
             0
            ],
            [
             3
            ],
            [
             0
            ],
            [
             29
            ],
            [
             0
            ],
            [
             0
            ],
            [
             0
            ],
            [
             0
            ],
            [
             0
            ],
            [
             0
            ],
            [
             0
            ],
            [
             0
            ],
            [
             0
            ],
            [
             10
            ],
            [
             19
            ],
            [
             0
            ],
            [
             0
            ],
            [
             0
            ],
            [
             0
            ],
            [
             0
            ],
            [
             0
            ],
            [
             0
            ],
            [
             0
            ],
            [
             2
            ],
            [
             0
            ],
            [
             0
            ],
            [
             0
            ],
            [
             0
            ],
            [
             0
            ],
            [
             0
            ],
            [
             0
            ],
            [
             218
            ],
            [
             0
            ],
            [
             0
            ],
            [
             0
            ],
            [
             0
            ],
            [
             0
            ],
            [
             6
            ],
            [
             0
            ],
            [
             0
            ],
            [
             0
            ],
            [
             0
            ],
            [
             0
            ],
            [
             0
            ],
            [
             0
            ],
            [
             0
            ],
            [
             4
            ],
            [
             0
            ],
            [
             0
            ],
            [
             0
            ],
            [
             0
            ],
            [
             0
            ],
            [
             0
            ],
            [
             0
            ],
            [
             67
            ],
            [
             0
            ],
            [
             0
            ],
            [
             0
            ],
            [
             28
            ],
            [
             2
            ],
            [
             2
            ],
            [
             0
            ],
            [
             2
            ],
            [
             0
            ],
            [
             0
            ],
            [
             18
            ],
            [
             0
            ],
            [
             33
            ],
            [
             0
            ],
            [
             0
            ],
            [
             0
            ],
            [
             9
            ],
            [
             4
            ],
            [
             0
            ],
            [
             8
            ],
            [
             0
            ],
            [
             0
            ],
            [
             0
            ],
            [
             16
            ],
            [
             0
            ]
           ],
           "geo": "geo",
           "hoverlabel": {
            "namelength": 0
           },
           "hovertemplate": "Date=2020-02-14 00:00:00<br>Log Confirmed=%{marker.size}<br>Confirmed=%{customdata[0]}<br>Country/Region=%{location}",
           "legendgroup": "",
           "locationmode": "country names",
           "locations": [
            " Azerbaijan",
            "Afghanistan",
            "Albania",
            "Algeria",
            "Andorra",
            "Argentina",
            "Armenia",
            "Australia",
            "Austria",
            "Azerbaijan",
            "Bahrain",
            "Bangladesh",
            "Belarus",
            "Belgium",
            "Bhutan",
            "Bolivia",
            "Bosnia and Herzegovina",
            "Brazil",
            "Brunei",
            "Bulgaria",
            "Burkina Faso",
            "Cambodia",
            "Cameroon",
            "Canada",
            "Channel Islands",
            "Chile",
            "China",
            "Colombia",
            "Congo (Kinshasa)",
            "Costa Rica",
            "Cote d'Ivoire",
            "Croatia",
            "Cruise Ship",
            "Cuba",
            "Cyprus",
            "Czech Republic",
            "Czechia",
            "Denmark",
            "Dominican Republic",
            "Ecuador",
            "Egypt",
            "Estonia",
            "Faroe Islands",
            "Finland",
            "France",
            "French Guiana",
            "Georgia",
            "Germany",
            "Gibraltar",
            "Greece",
            "Guyana",
            "Holy See",
            "Honduras",
            "Hong Kong",
            "Hong Kong SAR",
            "Hungary",
            "Iceland",
            "India",
            "Indonesia",
            "Iran",
            "Iran (Islamic Republic of)",
            "Iraq",
            "Ireland",
            "Israel",
            "Italy",
            "Jamaica",
            "Japan",
            "Jordan",
            "Korea, South",
            "Kuwait",
            "Latvia",
            "Lebanon",
            "Liechtenstein",
            "Lithuania",
            "Luxembourg",
            "Macao SAR",
            "Macau",
            "Malaysia",
            "Maldives",
            "Malta",
            "Martinique",
            "Mexico",
            "Moldova",
            "Monaco",
            "Mongolia",
            "Morocco",
            "Nepal",
            "Netherlands",
            "New Zealand",
            "Nigeria",
            "North Ireland",
            "North Macedonia",
            "Norway",
            "Oman",
            "Others",
            "Pakistan",
            "Palestine",
            "Panama",
            "Paraguay",
            "Peru",
            "Philippines",
            "Poland",
            "Portugal",
            "Qatar",
            "Republic of Ireland",
            "Republic of Korea",
            "Republic of Moldova",
            "Reunion",
            "Romania",
            "Russia",
            "Russian Federation",
            "Saint Barthelemy",
            "Saint Martin",
            "San Marino",
            "Saudi Arabia",
            "Senegal",
            "Serbia",
            "Singapore",
            "Slovakia",
            "Slovenia",
            "South Africa",
            "South Korea",
            "Spain",
            "Sri Lanka",
            "St. Martin",
            "Sweden",
            "Switzerland",
            "Taipei and environs",
            "Taiwan",
            "Taiwan*",
            "Thailand",
            "Togo",
            "Tunisia",
            "Turkey",
            "UK",
            "US",
            "Ukraine",
            "United Arab Emirates",
            "United Kingdom",
            "Vatican City",
            "Viet Nam",
            "Vietnam",
            "occupied Palestinian territory"
           ],
           "marker": {
            "color": "#636efa",
            "size": [
             0,
             0,
             0,
             0,
             0,
             0,
             0,
             0.9542425094393249,
             0,
             0,
             0,
             0,
             0,
             0.3010299956639812,
             0,
             0,
             0,
             0,
             0,
             0,
             0,
             0.47712125471966244,
             0,
             0.47712125471966244,
             0,
             0,
             4.820753011319319,
             0,
             0,
             0,
             0,
             0,
             0,
             0,
             0,
             0,
             0,
             0,
             0,
             0,
             0.3010299956639812,
             0,
             0,
             0.3010299956639812,
             1.0791812460476249,
             0,
             0,
             1.2304489213782739,
             0,
             0,
             0,
             0,
             0,
             1.7558748556724915,
             0,
             0,
             0,
             0.6020599913279624,
             0,
             0,
             0,
             0,
             0,
             0,
             0.6020599913279624,
             0,
             1.4771212547196624,
             0,
             0,
             0,
             0,
             0,
             0,
             0,
             0,
             0,
             1.0413926851582251,
             1.3010299956639813,
             0,
             0,
             0,
             0,
             0,
             0,
             0,
             0,
             0.47712125471966244,
             0,
             0,
             0,
             0,
             0,
             0,
             0,
             2.3404441148401185,
             0,
             0,
             0,
             0,
             0,
             0.8450980400142568,
             0,
             0,
             0,
             0,
             0,
             0,
             0,
             0,
             0.6989700043360189,
             0,
             0,
             0,
             0,
             0,
             0,
             0,
             1.8325089127062364,
             0,
             0,
             0,
             1.462397997898956,
             0.47712125471966244,
             0.47712125471966244,
             0,
             0.47712125471966244,
             0,
             0,
             1.2787536009528289,
             0,
             1.5314789170422551,
             0,
             0,
             0,
             1,
             0.6989700043360189,
             0,
             0.9542425094393249,
             0,
             0,
             0,
             1.2304489213782739,
             0
            ],
            "sizemode": "area",
            "sizeref": 0.012270166519720165
           },
           "name": "",
           "showlegend": false,
           "type": "scattergeo"
          }
         ],
         "name": "2020-02-14 00:00:00"
        },
        {
         "data": [
          {
           "customdata": [
            [
             0
            ],
            [
             0
            ],
            [
             0
            ],
            [
             0
            ],
            [
             0
            ],
            [
             0
            ],
            [
             0
            ],
            [
             8
            ],
            [
             0
            ],
            [
             0
            ],
            [
             0
            ],
            [
             0
            ],
            [
             0
            ],
            [
             1
            ],
            [
             0
            ],
            [
             0
            ],
            [
             0
            ],
            [
             0
            ],
            [
             0
            ],
            [
             0
            ],
            [
             0
            ],
            [
             2
            ],
            [
             0
            ],
            [
             2
            ],
            [
             0
            ],
            [
             0
            ],
            [
             68346
            ],
            [
             0
            ],
            [
             0
            ],
            [
             0
            ],
            [
             0
            ],
            [
             0
            ],
            [
             0
            ],
            [
             0
            ],
            [
             0
            ],
            [
             0
            ],
            [
             0
            ],
            [
             0
            ],
            [
             0
            ],
            [
             0
            ],
            [
             1
            ],
            [
             0
            ],
            [
             0
            ],
            [
             1
            ],
            [
             12
            ],
            [
             0
            ],
            [
             0
            ],
            [
             16
            ],
            [
             0
            ],
            [
             0
            ],
            [
             0
            ],
            [
             0
            ],
            [
             0
            ],
            [
             56
            ],
            [
             0
            ],
            [
             0
            ],
            [
             0
            ],
            [
             3
            ],
            [
             0
            ],
            [
             0
            ],
            [
             0
            ],
            [
             0
            ],
            [
             0
            ],
            [
             0
            ],
            [
             3
            ],
            [
             0
            ],
            [
             43
            ],
            [
             0
            ],
            [
             0
            ],
            [
             0
            ],
            [
             0
            ],
            [
             0
            ],
            [
             0
            ],
            [
             0
            ],
            [
             0
            ],
            [
             0
            ],
            [
             10
            ],
            [
             22
            ],
            [
             0
            ],
            [
             0
            ],
            [
             0
            ],
            [
             0
            ],
            [
             0
            ],
            [
             0
            ],
            [
             0
            ],
            [
             0
            ],
            [
             2
            ],
            [
             0
            ],
            [
             0
            ],
            [
             0
            ],
            [
             0
            ],
            [
             0
            ],
            [
             0
            ],
            [
             0
            ],
            [
             285
            ],
            [
             0
            ],
            [
             0
            ],
            [
             0
            ],
            [
             0
            ],
            [
             0
            ],
            [
             6
            ],
            [
             0
            ],
            [
             0
            ],
            [
             0
            ],
            [
             0
            ],
            [
             0
            ],
            [
             0
            ],
            [
             0
            ],
            [
             0
            ],
            [
             4
            ],
            [
             0
            ],
            [
             0
            ],
            [
             0
            ],
            [
             0
            ],
            [
             0
            ],
            [
             0
            ],
            [
             0
            ],
            [
             72
            ],
            [
             0
            ],
            [
             0
            ],
            [
             0
            ],
            [
             28
            ],
            [
             2
            ],
            [
             2
            ],
            [
             0
            ],
            [
             2
            ],
            [
             0
            ],
            [
             0
            ],
            [
             18
            ],
            [
             0
            ],
            [
             33
            ],
            [
             0
            ],
            [
             0
            ],
            [
             0
            ],
            [
             9
            ],
            [
             4
            ],
            [
             0
            ],
            [
             8
            ],
            [
             0
            ],
            [
             0
            ],
            [
             0
            ],
            [
             16
            ],
            [
             0
            ]
           ],
           "geo": "geo",
           "hoverlabel": {
            "namelength": 0
           },
           "hovertemplate": "Date=2020-02-15 00:00:00<br>Log Confirmed=%{marker.size}<br>Confirmed=%{customdata[0]}<br>Country/Region=%{location}",
           "legendgroup": "",
           "locationmode": "country names",
           "locations": [
            " Azerbaijan",
            "Afghanistan",
            "Albania",
            "Algeria",
            "Andorra",
            "Argentina",
            "Armenia",
            "Australia",
            "Austria",
            "Azerbaijan",
            "Bahrain",
            "Bangladesh",
            "Belarus",
            "Belgium",
            "Bhutan",
            "Bolivia",
            "Bosnia and Herzegovina",
            "Brazil",
            "Brunei",
            "Bulgaria",
            "Burkina Faso",
            "Cambodia",
            "Cameroon",
            "Canada",
            "Channel Islands",
            "Chile",
            "China",
            "Colombia",
            "Congo (Kinshasa)",
            "Costa Rica",
            "Cote d'Ivoire",
            "Croatia",
            "Cruise Ship",
            "Cuba",
            "Cyprus",
            "Czech Republic",
            "Czechia",
            "Denmark",
            "Dominican Republic",
            "Ecuador",
            "Egypt",
            "Estonia",
            "Faroe Islands",
            "Finland",
            "France",
            "French Guiana",
            "Georgia",
            "Germany",
            "Gibraltar",
            "Greece",
            "Guyana",
            "Holy See",
            "Honduras",
            "Hong Kong",
            "Hong Kong SAR",
            "Hungary",
            "Iceland",
            "India",
            "Indonesia",
            "Iran",
            "Iran (Islamic Republic of)",
            "Iraq",
            "Ireland",
            "Israel",
            "Italy",
            "Jamaica",
            "Japan",
            "Jordan",
            "Korea, South",
            "Kuwait",
            "Latvia",
            "Lebanon",
            "Liechtenstein",
            "Lithuania",
            "Luxembourg",
            "Macao SAR",
            "Macau",
            "Malaysia",
            "Maldives",
            "Malta",
            "Martinique",
            "Mexico",
            "Moldova",
            "Monaco",
            "Mongolia",
            "Morocco",
            "Nepal",
            "Netherlands",
            "New Zealand",
            "Nigeria",
            "North Ireland",
            "North Macedonia",
            "Norway",
            "Oman",
            "Others",
            "Pakistan",
            "Palestine",
            "Panama",
            "Paraguay",
            "Peru",
            "Philippines",
            "Poland",
            "Portugal",
            "Qatar",
            "Republic of Ireland",
            "Republic of Korea",
            "Republic of Moldova",
            "Reunion",
            "Romania",
            "Russia",
            "Russian Federation",
            "Saint Barthelemy",
            "Saint Martin",
            "San Marino",
            "Saudi Arabia",
            "Senegal",
            "Serbia",
            "Singapore",
            "Slovakia",
            "Slovenia",
            "South Africa",
            "South Korea",
            "Spain",
            "Sri Lanka",
            "St. Martin",
            "Sweden",
            "Switzerland",
            "Taipei and environs",
            "Taiwan",
            "Taiwan*",
            "Thailand",
            "Togo",
            "Tunisia",
            "Turkey",
            "UK",
            "US",
            "Ukraine",
            "United Arab Emirates",
            "United Kingdom",
            "Vatican City",
            "Viet Nam",
            "Vietnam",
            "occupied Palestinian territory"
           ],
           "marker": {
            "color": "#636efa",
            "size": [
             0,
             0,
             0,
             0,
             0,
             0,
             0,
             0.9542425094393249,
             0,
             0,
             0,
             0,
             0,
             0.3010299956639812,
             0,
             0,
             0,
             0,
             0,
             0,
             0,
             0.47712125471966244,
             0,
             0.47712125471966244,
             0,
             0,
             4.834719456547741,
             0,
             0,
             0,
             0,
             0,
             0,
             0,
             0,
             0,
             0,
             0,
             0,
             0,
             0.3010299956639812,
             0,
             0,
             0.3010299956639812,
             1.1139433523068367,
             0,
             0,
             1.2304489213782739,
             0,
             0,
             0,
             0,
             0,
             1.7558748556724915,
             0,
             0,
             0,
             0.6020599913279624,
             0,
             0,
             0,
             0,
             0,
             0,
             0.6020599913279624,
             0,
             1.6434526764861874,
             0,
             0,
             0,
             0,
             0,
             0,
             0,
             0,
             0,
             1.0413926851582251,
             1.3617278360175928,
             0,
             0,
             0,
             0,
             0,
             0,
             0,
             0,
             0.47712125471966244,
             0,
             0,
             0,
             0,
             0,
             0,
             0,
             2.456366033129043,
             0,
             0,
             0,
             0,
             0,
             0.8450980400142568,
             0,
             0,
             0,
             0,
             0,
             0,
             0,
             0,
             0.6989700043360189,
             0,
             0,
             0,
             0,
             0,
             0,
             0,
             1.863322860120456,
             0,
             0,
             0,
             1.462397997898956,
             0.47712125471966244,
             0.47712125471966244,
             0,
             0.47712125471966244,
             0,
             0,
             1.2787536009528289,
             0,
             1.5314789170422551,
             0,
             0,
             0,
             1,
             0.6989700043360189,
             0,
             0.9542425094393249,
             0,
             0,
             0,
             1.2304489213782739,
             0
            ],
            "sizemode": "area",
            "sizeref": 0.012270166519720165
           },
           "name": "",
           "showlegend": false,
           "type": "scattergeo"
          }
         ],
         "name": "2020-02-15 00:00:00"
        },
        {
         "data": [
          {
           "customdata": [
            [
             0
            ],
            [
             0
            ],
            [
             0
            ],
            [
             0
            ],
            [
             0
            ],
            [
             0
            ],
            [
             0
            ],
            [
             8
            ],
            [
             0
            ],
            [
             0
            ],
            [
             0
            ],
            [
             0
            ],
            [
             0
            ],
            [
             1
            ],
            [
             0
            ],
            [
             0
            ],
            [
             0
            ],
            [
             0
            ],
            [
             0
            ],
            [
             0
            ],
            [
             0
            ],
            [
             2
            ],
            [
             0
            ],
            [
             2
            ],
            [
             0
            ],
            [
             0
            ],
            [
             70357
            ],
            [
             0
            ],
            [
             0
            ],
            [
             0
            ],
            [
             0
            ],
            [
             0
            ],
            [
             0
            ],
            [
             0
            ],
            [
             0
            ],
            [
             0
            ],
            [
             0
            ],
            [
             0
            ],
            [
             0
            ],
            [
             0
            ],
            [
             1
            ],
            [
             0
            ],
            [
             0
            ],
            [
             1
            ],
            [
             12
            ],
            [
             0
            ],
            [
             0
            ],
            [
             16
            ],
            [
             0
            ],
            [
             0
            ],
            [
             0
            ],
            [
             0
            ],
            [
             0
            ],
            [
             57
            ],
            [
             0
            ],
            [
             0
            ],
            [
             0
            ],
            [
             6
            ],
            [
             0
            ],
            [
             0
            ],
            [
             0
            ],
            [
             0
            ],
            [
             0
            ],
            [
             0
            ],
            [
             3
            ],
            [
             0
            ],
            [
             59
            ],
            [
             0
            ],
            [
             0
            ],
            [
             0
            ],
            [
             0
            ],
            [
             0
            ],
            [
             0
            ],
            [
             0
            ],
            [
             0
            ],
            [
             0
            ],
            [
             10
            ],
            [
             22
            ],
            [
             0
            ],
            [
             0
            ],
            [
             0
            ],
            [
             0
            ],
            [
             0
            ],
            [
             0
            ],
            [
             0
            ],
            [
             0
            ],
            [
             2
            ],
            [
             0
            ],
            [
             0
            ],
            [
             0
            ],
            [
             0
            ],
            [
             0
            ],
            [
             0
            ],
            [
             0
            ],
            [
             355
            ],
            [
             0
            ],
            [
             0
            ],
            [
             0
            ],
            [
             0
            ],
            [
             0
            ],
            [
             6
            ],
            [
             0
            ],
            [
             0
            ],
            [
             0
            ],
            [
             0
            ],
            [
             0
            ],
            [
             0
            ],
            [
             0
            ],
            [
             0
            ],
            [
             4
            ],
            [
             0
            ],
            [
             0
            ],
            [
             0
            ],
            [
             0
            ],
            [
             0
            ],
            [
             0
            ],
            [
             0
            ],
            [
             75
            ],
            [
             0
            ],
            [
             0
            ],
            [
             0
            ],
            [
             29
            ],
            [
             2
            ],
            [
             2
            ],
            [
             0
            ],
            [
             2
            ],
            [
             0
            ],
            [
             0
            ],
            [
             20
            ],
            [
             0
            ],
            [
             34
            ],
            [
             0
            ],
            [
             0
            ],
            [
             0
            ],
            [
             9
            ],
            [
             4
            ],
            [
             0
            ],
            [
             9
            ],
            [
             0
            ],
            [
             0
            ],
            [
             0
            ],
            [
             16
            ],
            [
             0
            ]
           ],
           "geo": "geo",
           "hoverlabel": {
            "namelength": 0
           },
           "hovertemplate": "Date=2020-02-16 00:00:00<br>Log Confirmed=%{marker.size}<br>Confirmed=%{customdata[0]}<br>Country/Region=%{location}",
           "legendgroup": "",
           "locationmode": "country names",
           "locations": [
            " Azerbaijan",
            "Afghanistan",
            "Albania",
            "Algeria",
            "Andorra",
            "Argentina",
            "Armenia",
            "Australia",
            "Austria",
            "Azerbaijan",
            "Bahrain",
            "Bangladesh",
            "Belarus",
            "Belgium",
            "Bhutan",
            "Bolivia",
            "Bosnia and Herzegovina",
            "Brazil",
            "Brunei",
            "Bulgaria",
            "Burkina Faso",
            "Cambodia",
            "Cameroon",
            "Canada",
            "Channel Islands",
            "Chile",
            "China",
            "Colombia",
            "Congo (Kinshasa)",
            "Costa Rica",
            "Cote d'Ivoire",
            "Croatia",
            "Cruise Ship",
            "Cuba",
            "Cyprus",
            "Czech Republic",
            "Czechia",
            "Denmark",
            "Dominican Republic",
            "Ecuador",
            "Egypt",
            "Estonia",
            "Faroe Islands",
            "Finland",
            "France",
            "French Guiana",
            "Georgia",
            "Germany",
            "Gibraltar",
            "Greece",
            "Guyana",
            "Holy See",
            "Honduras",
            "Hong Kong",
            "Hong Kong SAR",
            "Hungary",
            "Iceland",
            "India",
            "Indonesia",
            "Iran",
            "Iran (Islamic Republic of)",
            "Iraq",
            "Ireland",
            "Israel",
            "Italy",
            "Jamaica",
            "Japan",
            "Jordan",
            "Korea, South",
            "Kuwait",
            "Latvia",
            "Lebanon",
            "Liechtenstein",
            "Lithuania",
            "Luxembourg",
            "Macao SAR",
            "Macau",
            "Malaysia",
            "Maldives",
            "Malta",
            "Martinique",
            "Mexico",
            "Moldova",
            "Monaco",
            "Mongolia",
            "Morocco",
            "Nepal",
            "Netherlands",
            "New Zealand",
            "Nigeria",
            "North Ireland",
            "North Macedonia",
            "Norway",
            "Oman",
            "Others",
            "Pakistan",
            "Palestine",
            "Panama",
            "Paraguay",
            "Peru",
            "Philippines",
            "Poland",
            "Portugal",
            "Qatar",
            "Republic of Ireland",
            "Republic of Korea",
            "Republic of Moldova",
            "Reunion",
            "Romania",
            "Russia",
            "Russian Federation",
            "Saint Barthelemy",
            "Saint Martin",
            "San Marino",
            "Saudi Arabia",
            "Senegal",
            "Serbia",
            "Singapore",
            "Slovakia",
            "Slovenia",
            "South Africa",
            "South Korea",
            "Spain",
            "Sri Lanka",
            "St. Martin",
            "Sweden",
            "Switzerland",
            "Taipei and environs",
            "Taiwan",
            "Taiwan*",
            "Thailand",
            "Togo",
            "Tunisia",
            "Turkey",
            "UK",
            "US",
            "Ukraine",
            "United Arab Emirates",
            "United Kingdom",
            "Vatican City",
            "Viet Nam",
            "Vietnam",
            "occupied Palestinian territory"
           ],
           "marker": {
            "color": "#636efa",
            "size": [
             0,
             0,
             0,
             0,
             0,
             0,
             0,
             0.9542425094393249,
             0,
             0,
             0,
             0,
             0,
             0.3010299956639812,
             0,
             0,
             0,
             0,
             0,
             0,
             0,
             0.47712125471966244,
             0,
             0.47712125471966244,
             0,
             0,
             4.847313485684387,
             0,
             0,
             0,
             0,
             0,
             0,
             0,
             0,
             0,
             0,
             0,
             0,
             0,
             0.3010299956639812,
             0,
             0,
             0.3010299956639812,
             1.1139433523068367,
             0,
             0,
             1.2304489213782739,
             0,
             0,
             0,
             0,
             0,
             1.7634279935629373,
             0,
             0,
             0,
             0.8450980400142568,
             0,
             0,
             0,
             0,
             0,
             0,
             0.6020599913279624,
             0,
             1.7781512503836436,
             0,
             0,
             0,
             0,
             0,
             0,
             0,
             0,
             0,
             1.0413926851582251,
             1.3617278360175928,
             0,
             0,
             0,
             0,
             0,
             0,
             0,
             0,
             0.47712125471966244,
             0,
             0,
             0,
             0,
             0,
             0,
             0,
             2.5514499979728753,
             0,
             0,
             0,
             0,
             0,
             0.8450980400142568,
             0,
             0,
             0,
             0,
             0,
             0,
             0,
             0,
             0.6989700043360189,
             0,
             0,
             0,
             0,
             0,
             0,
             0,
             1.8808135922807914,
             0,
             0,
             0,
             1.4771212547196624,
             0.47712125471966244,
             0.47712125471966244,
             0,
             0.47712125471966244,
             0,
             0,
             1.3222192947339193,
             0,
             1.5440680443502757,
             0,
             0,
             0,
             1,
             0.6989700043360189,
             0,
             1,
             0,
             0,
             0,
             1.2304489213782739,
             0
            ],
            "sizemode": "area",
            "sizeref": 0.012270166519720165
           },
           "name": "",
           "showlegend": false,
           "type": "scattergeo"
          }
         ],
         "name": "2020-02-16 00:00:00"
        },
        {
         "data": [
          {
           "customdata": [
            [
             0
            ],
            [
             0
            ],
            [
             0
            ],
            [
             0
            ],
            [
             0
            ],
            [
             0
            ],
            [
             0
            ],
            [
             2
            ],
            [
             0
            ],
            [
             0
            ],
            [
             0
            ],
            [
             0
            ],
            [
             0
            ],
            [
             1
            ],
            [
             0
            ],
            [
             0
            ],
            [
             0
            ],
            [
             0
            ],
            [
             0
            ],
            [
             0
            ],
            [
             0
            ],
            [
             2
            ],
            [
             0
            ],
            [
             5
            ],
            [
             0
            ],
            [
             0
            ],
            [
             72345
            ],
            [
             0
            ],
            [
             0
            ],
            [
             0
            ],
            [
             0
            ],
            [
             0
            ],
            [
             0
            ],
            [
             0
            ],
            [
             0
            ],
            [
             0
            ],
            [
             0
            ],
            [
             0
            ],
            [
             0
            ],
            [
             0
            ],
            [
             1
            ],
            [
             0
            ],
            [
             0
            ],
            [
             1
            ],
            [
             12
            ],
            [
             0
            ],
            [
             0
            ],
            [
             16
            ],
            [
             0
            ],
            [
             0
            ],
            [
             0
            ],
            [
             0
            ],
            [
             0
            ],
            [
             60
            ],
            [
             0
            ],
            [
             0
            ],
            [
             0
            ],
            [
             6
            ],
            [
             0
            ],
            [
             0
            ],
            [
             0
            ],
            [
             0
            ],
            [
             0
            ],
            [
             0
            ],
            [
             3
            ],
            [
             0
            ],
            [
             66
            ],
            [
             0
            ],
            [
             0
            ],
            [
             0
            ],
            [
             0
            ],
            [
             0
            ],
            [
             0
            ],
            [
             0
            ],
            [
             0
            ],
            [
             0
            ],
            [
             10
            ],
            [
             22
            ],
            [
             0
            ],
            [
             0
            ],
            [
             0
            ],
            [
             0
            ],
            [
             0
            ],
            [
             0
            ],
            [
             0
            ],
            [
             0
            ],
            [
             2
            ],
            [
             0
            ],
            [
             0
            ],
            [
             0
            ],
            [
             0
            ],
            [
             0
            ],
            [
             0
            ],
            [
             0
            ],
            [
             454
            ],
            [
             0
            ],
            [
             0
            ],
            [
             0
            ],
            [
             0
            ],
            [
             0
            ],
            [
             6
            ],
            [
             0
            ],
            [
             0
            ],
            [
             0
            ],
            [
             0
            ],
            [
             0
            ],
            [
             0
            ],
            [
             0
            ],
            [
             0
            ],
            [
             4
            ],
            [
             0
            ],
            [
             0
            ],
            [
             0
            ],
            [
             0
            ],
            [
             0
            ],
            [
             0
            ],
            [
             0
            ],
            [
             77
            ],
            [
             0
            ],
            [
             0
            ],
            [
             0
            ],
            [
             30
            ],
            [
             2
            ],
            [
             2
            ],
            [
             0
            ],
            [
             2
            ],
            [
             0
            ],
            [
             0
            ],
            [
             22
            ],
            [
             0
            ],
            [
             35
            ],
            [
             0
            ],
            [
             0
            ],
            [
             0
            ],
            [
             9
            ],
            [
             4
            ],
            [
             0
            ],
            [
             9
            ],
            [
             0
            ],
            [
             0
            ],
            [
             0
            ],
            [
             16
            ],
            [
             0
            ]
           ],
           "geo": "geo",
           "hoverlabel": {
            "namelength": 0
           },
           "hovertemplate": "Date=2020-02-17 00:00:00<br>Log Confirmed=%{marker.size}<br>Confirmed=%{customdata[0]}<br>Country/Region=%{location}",
           "legendgroup": "",
           "locationmode": "country names",
           "locations": [
            " Azerbaijan",
            "Afghanistan",
            "Albania",
            "Algeria",
            "Andorra",
            "Argentina",
            "Armenia",
            "Australia",
            "Austria",
            "Azerbaijan",
            "Bahrain",
            "Bangladesh",
            "Belarus",
            "Belgium",
            "Bhutan",
            "Bolivia",
            "Bosnia and Herzegovina",
            "Brazil",
            "Brunei",
            "Bulgaria",
            "Burkina Faso",
            "Cambodia",
            "Cameroon",
            "Canada",
            "Channel Islands",
            "Chile",
            "China",
            "Colombia",
            "Congo (Kinshasa)",
            "Costa Rica",
            "Cote d'Ivoire",
            "Croatia",
            "Cruise Ship",
            "Cuba",
            "Cyprus",
            "Czech Republic",
            "Czechia",
            "Denmark",
            "Dominican Republic",
            "Ecuador",
            "Egypt",
            "Estonia",
            "Faroe Islands",
            "Finland",
            "France",
            "French Guiana",
            "Georgia",
            "Germany",
            "Gibraltar",
            "Greece",
            "Guyana",
            "Holy See",
            "Honduras",
            "Hong Kong",
            "Hong Kong SAR",
            "Hungary",
            "Iceland",
            "India",
            "Indonesia",
            "Iran",
            "Iran (Islamic Republic of)",
            "Iraq",
            "Ireland",
            "Israel",
            "Italy",
            "Jamaica",
            "Japan",
            "Jordan",
            "Korea, South",
            "Kuwait",
            "Latvia",
            "Lebanon",
            "Liechtenstein",
            "Lithuania",
            "Luxembourg",
            "Macao SAR",
            "Macau",
            "Malaysia",
            "Maldives",
            "Malta",
            "Martinique",
            "Mexico",
            "Moldova",
            "Monaco",
            "Mongolia",
            "Morocco",
            "Nepal",
            "Netherlands",
            "New Zealand",
            "Nigeria",
            "North Ireland",
            "North Macedonia",
            "Norway",
            "Oman",
            "Others",
            "Pakistan",
            "Palestine",
            "Panama",
            "Paraguay",
            "Peru",
            "Philippines",
            "Poland",
            "Portugal",
            "Qatar",
            "Republic of Ireland",
            "Republic of Korea",
            "Republic of Moldova",
            "Reunion",
            "Romania",
            "Russia",
            "Russian Federation",
            "Saint Barthelemy",
            "Saint Martin",
            "San Marino",
            "Saudi Arabia",
            "Senegal",
            "Serbia",
            "Singapore",
            "Slovakia",
            "Slovenia",
            "South Africa",
            "South Korea",
            "Spain",
            "Sri Lanka",
            "St. Martin",
            "Sweden",
            "Switzerland",
            "Taipei and environs",
            "Taiwan",
            "Taiwan*",
            "Thailand",
            "Togo",
            "Tunisia",
            "Turkey",
            "UK",
            "US",
            "Ukraine",
            "United Arab Emirates",
            "United Kingdom",
            "Vatican City",
            "Viet Nam",
            "Vietnam",
            "occupied Palestinian territory"
           ],
           "marker": {
            "color": "#636efa",
            "size": [
             0,
             0,
             0,
             0,
             0,
             0,
             0,
             0.47712125471966244,
             0,
             0,
             0,
             0,
             0,
             0.3010299956639812,
             0,
             0,
             0,
             0,
             0,
             0,
             0,
             0.47712125471966244,
             0,
             0.7781512503836436,
             0,
             0,
             4.8594145240390105,
             0,
             0,
             0,
             0,
             0,
             0,
             0,
             0,
             0,
             0,
             0,
             0,
             0,
             0.3010299956639812,
             0,
             0,
             0.3010299956639812,
             1.1139433523068367,
             0,
             0,
             1.2304489213782739,
             0,
             0,
             0,
             0,
             0,
             1.7853298350107671,
             0,
             0,
             0,
             0.8450980400142568,
             0,
             0,
             0,
             0,
             0,
             0,
             0.6020599913279624,
             0,
             1.8260748027008264,
             0,
             0,
             0,
             0,
             0,
             0,
             0,
             0,
             0,
             1.0413926851582251,
             1.3617278360175928,
             0,
             0,
             0,
             0,
             0,
             0,
             0,
             0,
             0.47712125471966244,
             0,
             0,
             0,
             0,
             0,
             0,
             0,
             2.6580113966571126,
             0,
             0,
             0,
             0,
             0,
             0.8450980400142568,
             0,
             0,
             0,
             0,
             0,
             0,
             0,
             0,
             0.6989700043360189,
             0,
             0,
             0,
             0,
             0,
             0,
             0,
             1.8920946026904804,
             0,
             0,
             0,
             1.4913616938342726,
             0.47712125471966244,
             0.47712125471966244,
             0,
             0.47712125471966244,
             0,
             0,
             1.3617278360175928,
             0,
             1.5563025007672873,
             0,
             0,
             0,
             1,
             0.6989700043360189,
             0,
             1,
             0,
             0,
             0,
             1.2304489213782739,
             0
            ],
            "sizemode": "area",
            "sizeref": 0.012270166519720165
           },
           "name": "",
           "showlegend": false,
           "type": "scattergeo"
          }
         ],
         "name": "2020-02-17 00:00:00"
        },
        {
         "data": [
          {
           "customdata": [
            [
             0
            ],
            [
             0
            ],
            [
             0
            ],
            [
             0
            ],
            [
             0
            ],
            [
             0
            ],
            [
             0
            ],
            [
             2
            ],
            [
             0
            ],
            [
             0
            ],
            [
             0
            ],
            [
             0
            ],
            [
             0
            ],
            [
             1
            ],
            [
             0
            ],
            [
             0
            ],
            [
             0
            ],
            [
             0
            ],
            [
             0
            ],
            [
             0
            ],
            [
             0
            ],
            [
             2
            ],
            [
             0
            ],
            [
             5
            ],
            [
             0
            ],
            [
             0
            ],
            [
             74138
            ],
            [
             0
            ],
            [
             0
            ],
            [
             0
            ],
            [
             0
            ],
            [
             0
            ],
            [
             0
            ],
            [
             0
            ],
            [
             0
            ],
            [
             0
            ],
            [
             0
            ],
            [
             0
            ],
            [
             0
            ],
            [
             0
            ],
            [
             1
            ],
            [
             0
            ],
            [
             0
            ],
            [
             1
            ],
            [
             12
            ],
            [
             0
            ],
            [
             0
            ],
            [
             16
            ],
            [
             0
            ],
            [
             0
            ],
            [
             0
            ],
            [
             0
            ],
            [
             0
            ],
            [
             62
            ],
            [
             0
            ],
            [
             0
            ],
            [
             0
            ],
            [
             6
            ],
            [
             0
            ],
            [
             0
            ],
            [
             0
            ],
            [
             0
            ],
            [
             0
            ],
            [
             0
            ],
            [
             3
            ],
            [
             0
            ],
            [
             74
            ],
            [
             0
            ],
            [
             0
            ],
            [
             0
            ],
            [
             0
            ],
            [
             0
            ],
            [
             0
            ],
            [
             0
            ],
            [
             0
            ],
            [
             0
            ],
            [
             10
            ],
            [
             22
            ],
            [
             0
            ],
            [
             0
            ],
            [
             0
            ],
            [
             0
            ],
            [
             0
            ],
            [
             0
            ],
            [
             0
            ],
            [
             0
            ],
            [
             2
            ],
            [
             0
            ],
            [
             0
            ],
            [
             0
            ],
            [
             0
            ],
            [
             0
            ],
            [
             0
            ],
            [
             0
            ],
            [
             542
            ],
            [
             0
            ],
            [
             0
            ],
            [
             0
            ],
            [
             0
            ],
            [
             0
            ],
            [
             6
            ],
            [
             0
            ],
            [
             0
            ],
            [
             0
            ],
            [
             0
            ],
            [
             0
            ],
            [
             0
            ],
            [
             0
            ],
            [
             0
            ],
            [
             4
            ],
            [
             0
            ],
            [
             0
            ],
            [
             0
            ],
            [
             0
            ],
            [
             0
            ],
            [
             0
            ],
            [
             0
            ],
            [
             81
            ],
            [
             0
            ],
            [
             0
            ],
            [
             0
            ],
            [
             31
            ],
            [
             2
            ],
            [
             2
            ],
            [
             0
            ],
            [
             2
            ],
            [
             0
            ],
            [
             0
            ],
            [
             22
            ],
            [
             0
            ],
            [
             35
            ],
            [
             0
            ],
            [
             0
            ],
            [
             0
            ],
            [
             9
            ],
            [
             4
            ],
            [
             0
            ],
            [
             9
            ],
            [
             0
            ],
            [
             0
            ],
            [
             0
            ],
            [
             16
            ],
            [
             0
            ]
           ],
           "geo": "geo",
           "hoverlabel": {
            "namelength": 0
           },
           "hovertemplate": "Date=2020-02-18 00:00:00<br>Log Confirmed=%{marker.size}<br>Confirmed=%{customdata[0]}<br>Country/Region=%{location}",
           "legendgroup": "",
           "locationmode": "country names",
           "locations": [
            " Azerbaijan",
            "Afghanistan",
            "Albania",
            "Algeria",
            "Andorra",
            "Argentina",
            "Armenia",
            "Australia",
            "Austria",
            "Azerbaijan",
            "Bahrain",
            "Bangladesh",
            "Belarus",
            "Belgium",
            "Bhutan",
            "Bolivia",
            "Bosnia and Herzegovina",
            "Brazil",
            "Brunei",
            "Bulgaria",
            "Burkina Faso",
            "Cambodia",
            "Cameroon",
            "Canada",
            "Channel Islands",
            "Chile",
            "China",
            "Colombia",
            "Congo (Kinshasa)",
            "Costa Rica",
            "Cote d'Ivoire",
            "Croatia",
            "Cruise Ship",
            "Cuba",
            "Cyprus",
            "Czech Republic",
            "Czechia",
            "Denmark",
            "Dominican Republic",
            "Ecuador",
            "Egypt",
            "Estonia",
            "Faroe Islands",
            "Finland",
            "France",
            "French Guiana",
            "Georgia",
            "Germany",
            "Gibraltar",
            "Greece",
            "Guyana",
            "Holy See",
            "Honduras",
            "Hong Kong",
            "Hong Kong SAR",
            "Hungary",
            "Iceland",
            "India",
            "Indonesia",
            "Iran",
            "Iran (Islamic Republic of)",
            "Iraq",
            "Ireland",
            "Israel",
            "Italy",
            "Jamaica",
            "Japan",
            "Jordan",
            "Korea, South",
            "Kuwait",
            "Latvia",
            "Lebanon",
            "Liechtenstein",
            "Lithuania",
            "Luxembourg",
            "Macao SAR",
            "Macau",
            "Malaysia",
            "Maldives",
            "Malta",
            "Martinique",
            "Mexico",
            "Moldova",
            "Monaco",
            "Mongolia",
            "Morocco",
            "Nepal",
            "Netherlands",
            "New Zealand",
            "Nigeria",
            "North Ireland",
            "North Macedonia",
            "Norway",
            "Oman",
            "Others",
            "Pakistan",
            "Palestine",
            "Panama",
            "Paraguay",
            "Peru",
            "Philippines",
            "Poland",
            "Portugal",
            "Qatar",
            "Republic of Ireland",
            "Republic of Korea",
            "Republic of Moldova",
            "Reunion",
            "Romania",
            "Russia",
            "Russian Federation",
            "Saint Barthelemy",
            "Saint Martin",
            "San Marino",
            "Saudi Arabia",
            "Senegal",
            "Serbia",
            "Singapore",
            "Slovakia",
            "Slovenia",
            "South Africa",
            "South Korea",
            "Spain",
            "Sri Lanka",
            "St. Martin",
            "Sweden",
            "Switzerland",
            "Taipei and environs",
            "Taiwan",
            "Taiwan*",
            "Thailand",
            "Togo",
            "Tunisia",
            "Turkey",
            "UK",
            "US",
            "Ukraine",
            "United Arab Emirates",
            "United Kingdom",
            "Vatican City",
            "Viet Nam",
            "Vietnam",
            "occupied Palestinian territory"
           ],
           "marker": {
            "color": "#636efa",
            "size": [
             0,
             0,
             0,
             0,
             0,
             0,
             0,
             0.47712125471966244,
             0,
             0,
             0,
             0,
             0,
             0.3010299956639812,
             0,
             0,
             0,
             0,
             0,
             0,
             0,
             0.47712125471966244,
             0,
             0.7781512503836436,
             0,
             0,
             4.870046723891942,
             0,
             0,
             0,
             0,
             0,
             0,
             0,
             0,
             0,
             0,
             0,
             0,
             0,
             0.3010299956639812,
             0,
             0,
             0.3010299956639812,
             1.1139433523068367,
             0,
             0,
             1.2304489213782739,
             0,
             0,
             0,
             0,
             0,
             1.7993405494535817,
             0,
             0,
             0,
             0.8450980400142568,
             0,
             0,
             0,
             0,
             0,
             0,
             0.6020599913279624,
             0,
             1.8750612633917,
             0,
             0,
             0,
             0,
             0,
             0,
             0,
             0,
             0,
             1.0413926851582251,
             1.3617278360175928,
             0,
             0,
             0,
             0,
             0,
             0,
             0,
             0,
             0.47712125471966244,
             0,
             0,
             0,
             0,
             0,
             0,
             0,
             2.734799829588847,
             0,
             0,
             0,
             0,
             0,
             0.8450980400142568,
             0,
             0,
             0,
             0,
             0,
             0,
             0,
             0,
             0.6989700043360189,
             0,
             0,
             0,
             0,
             0,
             0,
             0,
             1.9138138523837167,
             0,
             0,
             0,
             1.505149978319906,
             0.47712125471966244,
             0.47712125471966244,
             0,
             0.47712125471966244,
             0,
             0,
             1.3617278360175928,
             0,
             1.5563025007672873,
             0,
             0,
             0,
             1,
             0.6989700043360189,
             0,
             1,
             0,
             0,
             0,
             1.2304489213782739,
             0
            ],
            "sizemode": "area",
            "sizeref": 0.012270166519720165
           },
           "name": "",
           "showlegend": false,
           "type": "scattergeo"
          }
         ],
         "name": "2020-02-18 00:00:00"
        },
        {
         "data": [
          {
           "customdata": [
            [
             0
            ],
            [
             0
            ],
            [
             0
            ],
            [
             0
            ],
            [
             0
            ],
            [
             0
            ],
            [
             0
            ],
            [
             2
            ],
            [
             0
            ],
            [
             0
            ],
            [
             0
            ],
            [
             0
            ],
            [
             0
            ],
            [
             1
            ],
            [
             0
            ],
            [
             0
            ],
            [
             0
            ],
            [
             0
            ],
            [
             0
            ],
            [
             0
            ],
            [
             0
            ],
            [
             2
            ],
            [
             0
            ],
            [
             5
            ],
            [
             0
            ],
            [
             0
            ],
            [
             74545
            ],
            [
             0
            ],
            [
             0
            ],
            [
             0
            ],
            [
             0
            ],
            [
             0
            ],
            [
             0
            ],
            [
             0
            ],
            [
             0
            ],
            [
             0
            ],
            [
             0
            ],
            [
             0
            ],
            [
             0
            ],
            [
             0
            ],
            [
             1
            ],
            [
             0
            ],
            [
             0
            ],
            [
             1
            ],
            [
             12
            ],
            [
             0
            ],
            [
             0
            ],
            [
             16
            ],
            [
             0
            ],
            [
             0
            ],
            [
             0
            ],
            [
             0
            ],
            [
             0
            ],
            [
             63
            ],
            [
             0
            ],
            [
             0
            ],
            [
             0
            ],
            [
             6
            ],
            [
             0
            ],
            [
             2
            ],
            [
             0
            ],
            [
             0
            ],
            [
             0
            ],
            [
             0
            ],
            [
             3
            ],
            [
             0
            ],
            [
             84
            ],
            [
             0
            ],
            [
             0
            ],
            [
             0
            ],
            [
             0
            ],
            [
             0
            ],
            [
             0
            ],
            [
             0
            ],
            [
             0
            ],
            [
             0
            ],
            [
             10
            ],
            [
             22
            ],
            [
             0
            ],
            [
             0
            ],
            [
             0
            ],
            [
             0
            ],
            [
             0
            ],
            [
             0
            ],
            [
             0
            ],
            [
             0
            ],
            [
             2
            ],
            [
             0
            ],
            [
             0
            ],
            [
             0
            ],
            [
             0
            ],
            [
             0
            ],
            [
             0
            ],
            [
             0
            ],
            [
             621
            ],
            [
             0
            ],
            [
             0
            ],
            [
             0
            ],
            [
             0
            ],
            [
             0
            ],
            [
             6
            ],
            [
             0
            ],
            [
             0
            ],
            [
             0
            ],
            [
             0
            ],
            [
             0
            ],
            [
             0
            ],
            [
             0
            ],
            [
             0
            ],
            [
             4
            ],
            [
             0
            ],
            [
             0
            ],
            [
             0
            ],
            [
             0
            ],
            [
             0
            ],
            [
             0
            ],
            [
             0
            ],
            [
             84
            ],
            [
             0
            ],
            [
             0
            ],
            [
             0
            ],
            [
             31
            ],
            [
             2
            ],
            [
             2
            ],
            [
             0
            ],
            [
             2
            ],
            [
             0
            ],
            [
             0
            ],
            [
             23
            ],
            [
             0
            ],
            [
             35
            ],
            [
             0
            ],
            [
             0
            ],
            [
             0
            ],
            [
             9
            ],
            [
             4
            ],
            [
             0
            ],
            [
             9
            ],
            [
             0
            ],
            [
             0
            ],
            [
             0
            ],
            [
             16
            ],
            [
             0
            ]
           ],
           "geo": "geo",
           "hoverlabel": {
            "namelength": 0
           },
           "hovertemplate": "Date=2020-02-19 00:00:00<br>Log Confirmed=%{marker.size}<br>Confirmed=%{customdata[0]}<br>Country/Region=%{location}",
           "legendgroup": "",
           "locationmode": "country names",
           "locations": [
            " Azerbaijan",
            "Afghanistan",
            "Albania",
            "Algeria",
            "Andorra",
            "Argentina",
            "Armenia",
            "Australia",
            "Austria",
            "Azerbaijan",
            "Bahrain",
            "Bangladesh",
            "Belarus",
            "Belgium",
            "Bhutan",
            "Bolivia",
            "Bosnia and Herzegovina",
            "Brazil",
            "Brunei",
            "Bulgaria",
            "Burkina Faso",
            "Cambodia",
            "Cameroon",
            "Canada",
            "Channel Islands",
            "Chile",
            "China",
            "Colombia",
            "Congo (Kinshasa)",
            "Costa Rica",
            "Cote d'Ivoire",
            "Croatia",
            "Cruise Ship",
            "Cuba",
            "Cyprus",
            "Czech Republic",
            "Czechia",
            "Denmark",
            "Dominican Republic",
            "Ecuador",
            "Egypt",
            "Estonia",
            "Faroe Islands",
            "Finland",
            "France",
            "French Guiana",
            "Georgia",
            "Germany",
            "Gibraltar",
            "Greece",
            "Guyana",
            "Holy See",
            "Honduras",
            "Hong Kong",
            "Hong Kong SAR",
            "Hungary",
            "Iceland",
            "India",
            "Indonesia",
            "Iran",
            "Iran (Islamic Republic of)",
            "Iraq",
            "Ireland",
            "Israel",
            "Italy",
            "Jamaica",
            "Japan",
            "Jordan",
            "Korea, South",
            "Kuwait",
            "Latvia",
            "Lebanon",
            "Liechtenstein",
            "Lithuania",
            "Luxembourg",
            "Macao SAR",
            "Macau",
            "Malaysia",
            "Maldives",
            "Malta",
            "Martinique",
            "Mexico",
            "Moldova",
            "Monaco",
            "Mongolia",
            "Morocco",
            "Nepal",
            "Netherlands",
            "New Zealand",
            "Nigeria",
            "North Ireland",
            "North Macedonia",
            "Norway",
            "Oman",
            "Others",
            "Pakistan",
            "Palestine",
            "Panama",
            "Paraguay",
            "Peru",
            "Philippines",
            "Poland",
            "Portugal",
            "Qatar",
            "Republic of Ireland",
            "Republic of Korea",
            "Republic of Moldova",
            "Reunion",
            "Romania",
            "Russia",
            "Russian Federation",
            "Saint Barthelemy",
            "Saint Martin",
            "San Marino",
            "Saudi Arabia",
            "Senegal",
            "Serbia",
            "Singapore",
            "Slovakia",
            "Slovenia",
            "South Africa",
            "South Korea",
            "Spain",
            "Sri Lanka",
            "St. Martin",
            "Sweden",
            "Switzerland",
            "Taipei and environs",
            "Taiwan",
            "Taiwan*",
            "Thailand",
            "Togo",
            "Tunisia",
            "Turkey",
            "UK",
            "US",
            "Ukraine",
            "United Arab Emirates",
            "United Kingdom",
            "Vatican City",
            "Viet Nam",
            "Vietnam",
            "occupied Palestinian territory"
           ],
           "marker": {
            "color": "#636efa",
            "size": [
             0,
             0,
             0,
             0,
             0,
             0,
             0,
             0.47712125471966244,
             0,
             0,
             0,
             0,
             0,
             0.3010299956639812,
             0,
             0,
             0,
             0,
             0,
             0,
             0,
             0.47712125471966244,
             0,
             0.7781512503836436,
             0,
             0,
             4.872424344978367,
             0,
             0,
             0,
             0,
             0,
             0,
             0,
             0,
             0,
             0,
             0,
             0,
             0,
             0.3010299956639812,
             0,
             0,
             0.3010299956639812,
             1.1139433523068367,
             0,
             0,
             1.2304489213782739,
             0,
             0,
             0,
             0,
             0,
             1.806179973983887,
             0,
             0,
             0,
             0.8450980400142568,
             0,
             0.47712125471966244,
             0,
             0,
             0,
             0,
             0.6020599913279624,
             0,
             1.9294189257142926,
             0,
             0,
             0,
             0,
             0,
             0,
             0,
             0,
             0,
             1.0413926851582251,
             1.3617278360175928,
             0,
             0,
             0,
             0,
             0,
             0,
             0,
             0,
             0.47712125471966244,
             0,
             0,
             0,
             0,
             0,
             0,
             0,
             2.7937903846908188,
             0,
             0,
             0,
             0,
             0,
             0.8450980400142568,
             0,
             0,
             0,
             0,
             0,
             0,
             0,
             0,
             0.6989700043360189,
             0,
             0,
             0,
             0,
             0,
             0,
             0,
             1.9294189257142926,
             0,
             0,
             0,
             1.505149978319906,
             0.47712125471966244,
             0.47712125471966244,
             0,
             0.47712125471966244,
             0,
             0,
             1.380211241711606,
             0,
             1.5563025007672873,
             0,
             0,
             0,
             1,
             0.6989700043360189,
             0,
             1,
             0,
             0,
             0,
             1.2304489213782739,
             0
            ],
            "sizemode": "area",
            "sizeref": 0.012270166519720165
           },
           "name": "",
           "showlegend": false,
           "type": "scattergeo"
          }
         ],
         "name": "2020-02-19 00:00:00"
        },
        {
         "data": [
          {
           "customdata": [
            [
             0
            ],
            [
             0
            ],
            [
             0
            ],
            [
             0
            ],
            [
             0
            ],
            [
             0
            ],
            [
             0
            ],
            [
             2
            ],
            [
             0
            ],
            [
             0
            ],
            [
             0
            ],
            [
             0
            ],
            [
             0
            ],
            [
             1
            ],
            [
             0
            ],
            [
             0
            ],
            [
             0
            ],
            [
             0
            ],
            [
             0
            ],
            [
             0
            ],
            [
             0
            ],
            [
             2
            ],
            [
             0
            ],
            [
             5
            ],
            [
             0
            ],
            [
             0
            ],
            [
             74980
            ],
            [
             0
            ],
            [
             0
            ],
            [
             0
            ],
            [
             0
            ],
            [
             0
            ],
            [
             0
            ],
            [
             0
            ],
            [
             0
            ],
            [
             0
            ],
            [
             0
            ],
            [
             0
            ],
            [
             0
            ],
            [
             0
            ],
            [
             1
            ],
            [
             0
            ],
            [
             0
            ],
            [
             1
            ],
            [
             12
            ],
            [
             0
            ],
            [
             0
            ],
            [
             16
            ],
            [
             0
            ],
            [
             0
            ],
            [
             0
            ],
            [
             0
            ],
            [
             0
            ],
            [
             68
            ],
            [
             0
            ],
            [
             0
            ],
            [
             0
            ],
            [
             6
            ],
            [
             0
            ],
            [
             5
            ],
            [
             0
            ],
            [
             0
            ],
            [
             0
            ],
            [
             0
            ],
            [
             3
            ],
            [
             0
            ],
            [
             94
            ],
            [
             0
            ],
            [
             0
            ],
            [
             0
            ],
            [
             0
            ],
            [
             0
            ],
            [
             0
            ],
            [
             0
            ],
            [
             0
            ],
            [
             0
            ],
            [
             10
            ],
            [
             22
            ],
            [
             0
            ],
            [
             0
            ],
            [
             0
            ],
            [
             0
            ],
            [
             0
            ],
            [
             0
            ],
            [
             0
            ],
            [
             0
            ],
            [
             2
            ],
            [
             0
            ],
            [
             0
            ],
            [
             0
            ],
            [
             0
            ],
            [
             0
            ],
            [
             0
            ],
            [
             0
            ],
            [
             634
            ],
            [
             0
            ],
            [
             0
            ],
            [
             0
            ],
            [
             0
            ],
            [
             0
            ],
            [
             6
            ],
            [
             0
            ],
            [
             0
            ],
            [
             0
            ],
            [
             0
            ],
            [
             0
            ],
            [
             0
            ],
            [
             0
            ],
            [
             0
            ],
            [
             4
            ],
            [
             0
            ],
            [
             0
            ],
            [
             0
            ],
            [
             0
            ],
            [
             0
            ],
            [
             0
            ],
            [
             0
            ],
            [
             84
            ],
            [
             0
            ],
            [
             0
            ],
            [
             0
            ],
            [
             104
            ],
            [
             2
            ],
            [
             2
            ],
            [
             0
            ],
            [
             2
            ],
            [
             0
            ],
            [
             0
            ],
            [
             24
            ],
            [
             0
            ],
            [
             35
            ],
            [
             0
            ],
            [
             0
            ],
            [
             0
            ],
            [
             9
            ],
            [
             4
            ],
            [
             0
            ],
            [
             9
            ],
            [
             0
            ],
            [
             0
            ],
            [
             0
            ],
            [
             16
            ],
            [
             0
            ]
           ],
           "geo": "geo",
           "hoverlabel": {
            "namelength": 0
           },
           "hovertemplate": "Date=2020-02-20 00:00:00<br>Log Confirmed=%{marker.size}<br>Confirmed=%{customdata[0]}<br>Country/Region=%{location}",
           "legendgroup": "",
           "locationmode": "country names",
           "locations": [
            " Azerbaijan",
            "Afghanistan",
            "Albania",
            "Algeria",
            "Andorra",
            "Argentina",
            "Armenia",
            "Australia",
            "Austria",
            "Azerbaijan",
            "Bahrain",
            "Bangladesh",
            "Belarus",
            "Belgium",
            "Bhutan",
            "Bolivia",
            "Bosnia and Herzegovina",
            "Brazil",
            "Brunei",
            "Bulgaria",
            "Burkina Faso",
            "Cambodia",
            "Cameroon",
            "Canada",
            "Channel Islands",
            "Chile",
            "China",
            "Colombia",
            "Congo (Kinshasa)",
            "Costa Rica",
            "Cote d'Ivoire",
            "Croatia",
            "Cruise Ship",
            "Cuba",
            "Cyprus",
            "Czech Republic",
            "Czechia",
            "Denmark",
            "Dominican Republic",
            "Ecuador",
            "Egypt",
            "Estonia",
            "Faroe Islands",
            "Finland",
            "France",
            "French Guiana",
            "Georgia",
            "Germany",
            "Gibraltar",
            "Greece",
            "Guyana",
            "Holy See",
            "Honduras",
            "Hong Kong",
            "Hong Kong SAR",
            "Hungary",
            "Iceland",
            "India",
            "Indonesia",
            "Iran",
            "Iran (Islamic Republic of)",
            "Iraq",
            "Ireland",
            "Israel",
            "Italy",
            "Jamaica",
            "Japan",
            "Jordan",
            "Korea, South",
            "Kuwait",
            "Latvia",
            "Lebanon",
            "Liechtenstein",
            "Lithuania",
            "Luxembourg",
            "Macao SAR",
            "Macau",
            "Malaysia",
            "Maldives",
            "Malta",
            "Martinique",
            "Mexico",
            "Moldova",
            "Monaco",
            "Mongolia",
            "Morocco",
            "Nepal",
            "Netherlands",
            "New Zealand",
            "Nigeria",
            "North Ireland",
            "North Macedonia",
            "Norway",
            "Oman",
            "Others",
            "Pakistan",
            "Palestine",
            "Panama",
            "Paraguay",
            "Peru",
            "Philippines",
            "Poland",
            "Portugal",
            "Qatar",
            "Republic of Ireland",
            "Republic of Korea",
            "Republic of Moldova",
            "Reunion",
            "Romania",
            "Russia",
            "Russian Federation",
            "Saint Barthelemy",
            "Saint Martin",
            "San Marino",
            "Saudi Arabia",
            "Senegal",
            "Serbia",
            "Singapore",
            "Slovakia",
            "Slovenia",
            "South Africa",
            "South Korea",
            "Spain",
            "Sri Lanka",
            "St. Martin",
            "Sweden",
            "Switzerland",
            "Taipei and environs",
            "Taiwan",
            "Taiwan*",
            "Thailand",
            "Togo",
            "Tunisia",
            "Turkey",
            "UK",
            "US",
            "Ukraine",
            "United Arab Emirates",
            "United Kingdom",
            "Vatican City",
            "Viet Nam",
            "Vietnam",
            "occupied Palestinian territory"
           ],
           "marker": {
            "color": "#636efa",
            "size": [
             0,
             0,
             0,
             0,
             0,
             0,
             0,
             0.47712125471966244,
             0,
             0,
             0,
             0,
             0,
             0.3010299956639812,
             0,
             0,
             0,
             0,
             0,
             0,
             0,
             0.47712125471966244,
             0,
             0.7781512503836436,
             0,
             0,
             4.87495122818457,
             0,
             0,
             0,
             0,
             0,
             0,
             0,
             0,
             0,
             0,
             0,
             0,
             0,
             0.3010299956639812,
             0,
             0,
             0.3010299956639812,
             1.1139433523068367,
             0,
             0,
             1.2304489213782739,
             0,
             0,
             0,
             0,
             0,
             1.8388490907372552,
             0,
             0,
             0,
             0.8450980400142568,
             0,
             0.7781512503836436,
             0,
             0,
             0,
             0,
             0.6020599913279624,
             0,
             1.9777236052888478,
             0,
             0,
             0,
             0,
             0,
             0,
             0,
             0,
             0,
             1.0413926851582251,
             1.3617278360175928,
             0,
             0,
             0,
             0,
             0,
             0,
             0,
             0,
             0.47712125471966244,
             0,
             0,
             0,
             0,
             0,
             0,
             0,
             2.8027737252919755,
             0,
             0,
             0,
             0,
             0,
             0.8450980400142568,
             0,
             0,
             0,
             0,
             0,
             0,
             0,
             0,
             0.6989700043360189,
             0,
             0,
             0,
             0,
             0,
             0,
             0,
             1.9294189257142926,
             0,
             0,
             0,
             2.0211892990699383,
             0.47712125471966244,
             0.47712125471966244,
             0,
             0.47712125471966244,
             0,
             0,
             1.3979400086720377,
             0,
             1.5563025007672873,
             0,
             0,
             0,
             1,
             0.6989700043360189,
             0,
             1,
             0,
             0,
             0,
             1.2304489213782739,
             0
            ],
            "sizemode": "area",
            "sizeref": 0.012270166519720165
           },
           "name": "",
           "showlegend": false,
           "type": "scattergeo"
          }
         ],
         "name": "2020-02-20 00:00:00"
        },
        {
         "data": [
          {
           "customdata": [
            [
             0
            ],
            [
             0
            ],
            [
             0
            ],
            [
             0
            ],
            [
             0
            ],
            [
             0
            ],
            [
             0
            ],
            [
             9
            ],
            [
             0
            ],
            [
             0
            ],
            [
             0
            ],
            [
             0
            ],
            [
             0
            ],
            [
             1
            ],
            [
             0
            ],
            [
             0
            ],
            [
             0
            ],
            [
             0
            ],
            [
             0
            ],
            [
             0
            ],
            [
             0
            ],
            [
             2
            ],
            [
             0
            ],
            [
             8
            ],
            [
             0
            ],
            [
             0
            ],
            [
             75489
            ],
            [
             0
            ],
            [
             0
            ],
            [
             0
            ],
            [
             0
            ],
            [
             0
            ],
            [
             0
            ],
            [
             0
            ],
            [
             0
            ],
            [
             0
            ],
            [
             0
            ],
            [
             0
            ],
            [
             0
            ],
            [
             0
            ],
            [
             1
            ],
            [
             0
            ],
            [
             0
            ],
            [
             1
            ],
            [
             12
            ],
            [
             0
            ],
            [
             0
            ],
            [
             16
            ],
            [
             0
            ],
            [
             0
            ],
            [
             0
            ],
            [
             0
            ],
            [
             0
            ],
            [
             68
            ],
            [
             0
            ],
            [
             0
            ],
            [
             0
            ],
            [
             6
            ],
            [
             0
            ],
            [
             18
            ],
            [
             0
            ],
            [
             0
            ],
            [
             0
            ],
            [
             1
            ],
            [
             20
            ],
            [
             0
            ],
            [
             105
            ],
            [
             0
            ],
            [
             0
            ],
            [
             0
            ],
            [
             0
            ],
            [
             1
            ],
            [
             0
            ],
            [
             0
            ],
            [
             0
            ],
            [
             0
            ],
            [
             10
            ],
            [
             22
            ],
            [
             0
            ],
            [
             0
            ],
            [
             0
            ],
            [
             0
            ],
            [
             0
            ],
            [
             0
            ],
            [
             0
            ],
            [
             0
            ],
            [
             2
            ],
            [
             0
            ],
            [
             0
            ],
            [
             0
            ],
            [
             0
            ],
            [
             0
            ],
            [
             0
            ],
            [
             0
            ],
            [
             634
            ],
            [
             0
            ],
            [
             0
            ],
            [
             0
            ],
            [
             0
            ],
            [
             0
            ],
            [
             6
            ],
            [
             0
            ],
            [
             0
            ],
            [
             0
            ],
            [
             0
            ],
            [
             0
            ],
            [
             0
            ],
            [
             0
            ],
            [
             0
            ],
            [
             4
            ],
            [
             0
            ],
            [
             0
            ],
            [
             0
            ],
            [
             0
            ],
            [
             0
            ],
            [
             0
            ],
            [
             0
            ],
            [
             85
            ],
            [
             0
            ],
            [
             0
            ],
            [
             0
            ],
            [
             204
            ],
            [
             2
            ],
            [
             2
            ],
            [
             0
            ],
            [
             2
            ],
            [
             0
            ],
            [
             0
            ],
            [
             26
            ],
            [
             0
            ],
            [
             35
            ],
            [
             0
            ],
            [
             0
            ],
            [
             0
            ],
            [
             9
            ],
            [
             27
            ],
            [
             0
            ],
            [
             9
            ],
            [
             0
            ],
            [
             0
            ],
            [
             0
            ],
            [
             16
            ],
            [
             0
            ]
           ],
           "geo": "geo",
           "hoverlabel": {
            "namelength": 0
           },
           "hovertemplate": "Date=2020-02-21 00:00:00<br>Log Confirmed=%{marker.size}<br>Confirmed=%{customdata[0]}<br>Country/Region=%{location}",
           "legendgroup": "",
           "locationmode": "country names",
           "locations": [
            " Azerbaijan",
            "Afghanistan",
            "Albania",
            "Algeria",
            "Andorra",
            "Argentina",
            "Armenia",
            "Australia",
            "Austria",
            "Azerbaijan",
            "Bahrain",
            "Bangladesh",
            "Belarus",
            "Belgium",
            "Bhutan",
            "Bolivia",
            "Bosnia and Herzegovina",
            "Brazil",
            "Brunei",
            "Bulgaria",
            "Burkina Faso",
            "Cambodia",
            "Cameroon",
            "Canada",
            "Channel Islands",
            "Chile",
            "China",
            "Colombia",
            "Congo (Kinshasa)",
            "Costa Rica",
            "Cote d'Ivoire",
            "Croatia",
            "Cruise Ship",
            "Cuba",
            "Cyprus",
            "Czech Republic",
            "Czechia",
            "Denmark",
            "Dominican Republic",
            "Ecuador",
            "Egypt",
            "Estonia",
            "Faroe Islands",
            "Finland",
            "France",
            "French Guiana",
            "Georgia",
            "Germany",
            "Gibraltar",
            "Greece",
            "Guyana",
            "Holy See",
            "Honduras",
            "Hong Kong",
            "Hong Kong SAR",
            "Hungary",
            "Iceland",
            "India",
            "Indonesia",
            "Iran",
            "Iran (Islamic Republic of)",
            "Iraq",
            "Ireland",
            "Israel",
            "Italy",
            "Jamaica",
            "Japan",
            "Jordan",
            "Korea, South",
            "Kuwait",
            "Latvia",
            "Lebanon",
            "Liechtenstein",
            "Lithuania",
            "Luxembourg",
            "Macao SAR",
            "Macau",
            "Malaysia",
            "Maldives",
            "Malta",
            "Martinique",
            "Mexico",
            "Moldova",
            "Monaco",
            "Mongolia",
            "Morocco",
            "Nepal",
            "Netherlands",
            "New Zealand",
            "Nigeria",
            "North Ireland",
            "North Macedonia",
            "Norway",
            "Oman",
            "Others",
            "Pakistan",
            "Palestine",
            "Panama",
            "Paraguay",
            "Peru",
            "Philippines",
            "Poland",
            "Portugal",
            "Qatar",
            "Republic of Ireland",
            "Republic of Korea",
            "Republic of Moldova",
            "Reunion",
            "Romania",
            "Russia",
            "Russian Federation",
            "Saint Barthelemy",
            "Saint Martin",
            "San Marino",
            "Saudi Arabia",
            "Senegal",
            "Serbia",
            "Singapore",
            "Slovakia",
            "Slovenia",
            "South Africa",
            "South Korea",
            "Spain",
            "Sri Lanka",
            "St. Martin",
            "Sweden",
            "Switzerland",
            "Taipei and environs",
            "Taiwan",
            "Taiwan*",
            "Thailand",
            "Togo",
            "Tunisia",
            "Turkey",
            "UK",
            "US",
            "Ukraine",
            "United Arab Emirates",
            "United Kingdom",
            "Vatican City",
            "Viet Nam",
            "Vietnam",
            "occupied Palestinian territory"
           ],
           "marker": {
            "color": "#636efa",
            "size": [
             0,
             0,
             0,
             0,
             0,
             0,
             0,
             1,
             0,
             0,
             0,
             0,
             0,
             0.3010299956639812,
             0,
             0,
             0,
             0,
             0,
             0,
             0,
             0.47712125471966244,
             0,
             0.9542425094393249,
             0,
             0,
             4.877889425371484,
             0,
             0,
             0,
             0,
             0,
             0,
             0,
             0,
             0,
             0,
             0,
             0,
             0,
             0.3010299956639812,
             0,
             0,
             0.3010299956639812,
             1.1139433523068367,
             0,
             0,
             1.2304489213782739,
             0,
             0,
             0,
             0,
             0,
             1.8388490907372552,
             0,
             0,
             0,
             0.8450980400142568,
             0,
             1.2787536009528289,
             0,
             0,
             0,
             0.3010299956639812,
             1.3222192947339193,
             0,
             2.0253058652647704,
             0,
             0,
             0,
             0,
             0.3010299956639812,
             0,
             0,
             0,
             0,
             1.0413926851582251,
             1.3617278360175928,
             0,
             0,
             0,
             0,
             0,
             0,
             0,
             0,
             0.47712125471966244,
             0,
             0,
             0,
             0,
             0,
             0,
             0,
             2.8027737252919755,
             0,
             0,
             0,
             0,
             0,
             0.8450980400142568,
             0,
             0,
             0,
             0,
             0,
             0,
             0,
             0,
             0.6989700043360189,
             0,
             0,
             0,
             0,
             0,
             0,
             0,
             1.9344984512435677,
             0,
             0,
             0,
             2.311753861055754,
             0.47712125471966244,
             0.47712125471966244,
             0,
             0.47712125471966244,
             0,
             0,
             1.4313637641589874,
             0,
             1.5563025007672873,
             0,
             0,
             0,
             1,
             1.4471580313422192,
             0,
             1,
             0,
             0,
             0,
             1.2304489213782739,
             0
            ],
            "sizemode": "area",
            "sizeref": 0.012270166519720165
           },
           "name": "",
           "showlegend": false,
           "type": "scattergeo"
          }
         ],
         "name": "2020-02-21 00:00:00"
        },
        {
         "data": [
          {
           "customdata": [
            [
             0
            ],
            [
             0
            ],
            [
             0
            ],
            [
             0
            ],
            [
             0
            ],
            [
             0
            ],
            [
             0
            ],
            [
             7
            ],
            [
             0
            ],
            [
             0
            ],
            [
             0
            ],
            [
             0
            ],
            [
             0
            ],
            [
             1
            ],
            [
             0
            ],
            [
             0
            ],
            [
             0
            ],
            [
             0
            ],
            [
             0
            ],
            [
             0
            ],
            [
             0
            ],
            [
             2
            ],
            [
             0
            ],
            [
             8
            ],
            [
             0
            ],
            [
             0
            ],
            [
             76741
            ],
            [
             0
            ],
            [
             0
            ],
            [
             0
            ],
            [
             0
            ],
            [
             0
            ],
            [
             0
            ],
            [
             0
            ],
            [
             0
            ],
            [
             0
            ],
            [
             0
            ],
            [
             0
            ],
            [
             0
            ],
            [
             0
            ],
            [
             1
            ],
            [
             0
            ],
            [
             0
            ],
            [
             1
            ],
            [
             12
            ],
            [
             0
            ],
            [
             0
            ],
            [
             16
            ],
            [
             0
            ],
            [
             0
            ],
            [
             0
            ],
            [
             0
            ],
            [
             0
            ],
            [
             69
            ],
            [
             0
            ],
            [
             0
            ],
            [
             0
            ],
            [
             6
            ],
            [
             0
            ],
            [
             28
            ],
            [
             0
            ],
            [
             0
            ],
            [
             0
            ],
            [
             1
            ],
            [
             62
            ],
            [
             0
            ],
            [
             122
            ],
            [
             0
            ],
            [
             0
            ],
            [
             0
            ],
            [
             0
            ],
            [
             1
            ],
            [
             0
            ],
            [
             0
            ],
            [
             0
            ],
            [
             0
            ],
            [
             10
            ],
            [
             22
            ],
            [
             0
            ],
            [
             0
            ],
            [
             0
            ],
            [
             0
            ],
            [
             0
            ],
            [
             0
            ],
            [
             0
            ],
            [
             0
            ],
            [
             2
            ],
            [
             0
            ],
            [
             0
            ],
            [
             0
            ],
            [
             0
            ],
            [
             0
            ],
            [
             0
            ],
            [
             0
            ],
            [
             634
            ],
            [
             0
            ],
            [
             0
            ],
            [
             0
            ],
            [
             0
            ],
            [
             0
            ],
            [
             6
            ],
            [
             0
            ],
            [
             0
            ],
            [
             0
            ],
            [
             0
            ],
            [
             0
            ],
            [
             0
            ],
            [
             0
            ],
            [
             0
            ],
            [
             4
            ],
            [
             0
            ],
            [
             0
            ],
            [
             0
            ],
            [
             0
            ],
            [
             0
            ],
            [
             0
            ],
            [
             0
            ],
            [
             85
            ],
            [
             0
            ],
            [
             0
            ],
            [
             0
            ],
            [
             433
            ],
            [
             2
            ],
            [
             2
            ],
            [
             0
            ],
            [
             2
            ],
            [
             0
            ],
            [
             0
            ],
            [
             26
            ],
            [
             0
            ],
            [
             35
            ],
            [
             0
            ],
            [
             0
            ],
            [
             0
            ],
            [
             9
            ],
            [
             18
            ],
            [
             0
            ],
            [
             13
            ],
            [
             0
            ],
            [
             0
            ],
            [
             0
            ],
            [
             16
            ],
            [
             0
            ]
           ],
           "geo": "geo",
           "hoverlabel": {
            "namelength": 0
           },
           "hovertemplate": "Date=2020-02-22 00:00:00<br>Log Confirmed=%{marker.size}<br>Confirmed=%{customdata[0]}<br>Country/Region=%{location}",
           "legendgroup": "",
           "locationmode": "country names",
           "locations": [
            " Azerbaijan",
            "Afghanistan",
            "Albania",
            "Algeria",
            "Andorra",
            "Argentina",
            "Armenia",
            "Australia",
            "Austria",
            "Azerbaijan",
            "Bahrain",
            "Bangladesh",
            "Belarus",
            "Belgium",
            "Bhutan",
            "Bolivia",
            "Bosnia and Herzegovina",
            "Brazil",
            "Brunei",
            "Bulgaria",
            "Burkina Faso",
            "Cambodia",
            "Cameroon",
            "Canada",
            "Channel Islands",
            "Chile",
            "China",
            "Colombia",
            "Congo (Kinshasa)",
            "Costa Rica",
            "Cote d'Ivoire",
            "Croatia",
            "Cruise Ship",
            "Cuba",
            "Cyprus",
            "Czech Republic",
            "Czechia",
            "Denmark",
            "Dominican Republic",
            "Ecuador",
            "Egypt",
            "Estonia",
            "Faroe Islands",
            "Finland",
            "France",
            "French Guiana",
            "Georgia",
            "Germany",
            "Gibraltar",
            "Greece",
            "Guyana",
            "Holy See",
            "Honduras",
            "Hong Kong",
            "Hong Kong SAR",
            "Hungary",
            "Iceland",
            "India",
            "Indonesia",
            "Iran",
            "Iran (Islamic Republic of)",
            "Iraq",
            "Ireland",
            "Israel",
            "Italy",
            "Jamaica",
            "Japan",
            "Jordan",
            "Korea, South",
            "Kuwait",
            "Latvia",
            "Lebanon",
            "Liechtenstein",
            "Lithuania",
            "Luxembourg",
            "Macao SAR",
            "Macau",
            "Malaysia",
            "Maldives",
            "Malta",
            "Martinique",
            "Mexico",
            "Moldova",
            "Monaco",
            "Mongolia",
            "Morocco",
            "Nepal",
            "Netherlands",
            "New Zealand",
            "Nigeria",
            "North Ireland",
            "North Macedonia",
            "Norway",
            "Oman",
            "Others",
            "Pakistan",
            "Palestine",
            "Panama",
            "Paraguay",
            "Peru",
            "Philippines",
            "Poland",
            "Portugal",
            "Qatar",
            "Republic of Ireland",
            "Republic of Korea",
            "Republic of Moldova",
            "Reunion",
            "Romania",
            "Russia",
            "Russian Federation",
            "Saint Barthelemy",
            "Saint Martin",
            "San Marino",
            "Saudi Arabia",
            "Senegal",
            "Serbia",
            "Singapore",
            "Slovakia",
            "Slovenia",
            "South Africa",
            "South Korea",
            "Spain",
            "Sri Lanka",
            "St. Martin",
            "Sweden",
            "Switzerland",
            "Taipei and environs",
            "Taiwan",
            "Taiwan*",
            "Thailand",
            "Togo",
            "Tunisia",
            "Turkey",
            "UK",
            "US",
            "Ukraine",
            "United Arab Emirates",
            "United Kingdom",
            "Vatican City",
            "Viet Nam",
            "Vietnam",
            "occupied Palestinian territory"
           ],
           "marker": {
            "color": "#636efa",
            "size": [
             0,
             0,
             0,
             0,
             0,
             0,
             0,
             0.9030899869919435,
             0,
             0,
             0,
             0,
             0,
             0.3010299956639812,
             0,
             0,
             0,
             0,
             0,
             0,
             0,
             0.47712125471966244,
             0,
             0.9542425094393249,
             0,
             0,
             4.885033113309593,
             0,
             0,
             0,
             0,
             0,
             0,
             0,
             0,
             0,
             0,
             0,
             0,
             0,
             0.3010299956639812,
             0,
             0,
             0.3010299956639812,
             1.1139433523068367,
             0,
             0,
             1.2304489213782739,
             0,
             0,
             0,
             0,
             0,
             1.845098040014257,
             0,
             0,
             0,
             0.8450980400142568,
             0,
             1.462397997898956,
             0,
             0,
             0,
             0.3010299956639812,
             1.7993405494535817,
             0,
             2.089905111439398,
             0,
             0,
             0,
             0,
             0.3010299956639812,
             0,
             0,
             0,
             0,
             1.0413926851582251,
             1.3617278360175928,
             0,
             0,
             0,
             0,
             0,
             0,
             0,
             0,
             0.47712125471966244,
             0,
             0,
             0,
             0,
             0,
             0,
             0,
             2.8027737252919755,
             0,
             0,
             0,
             0,
             0,
             0.8450980400142568,
             0,
             0,
             0,
             0,
             0,
             0,
             0,
             0,
             0.6989700043360189,
             0,
             0,
             0,
             0,
             0,
             0,
             0,
             1.9344984512435677,
             0,
             0,
             0,
             2.637489729512511,
             0.47712125471966244,
             0.47712125471966244,
             0,
             0.47712125471966244,
             0,
             0,
             1.4313637641589874,
             0,
             1.5563025007672873,
             0,
             0,
             0,
             1,
             1.2787536009528289,
             0,
             1.146128035678238,
             0,
             0,
             0,
             1.2304489213782739,
             0
            ],
            "sizemode": "area",
            "sizeref": 0.012270166519720165
           },
           "name": "",
           "showlegend": false,
           "type": "scattergeo"
          }
         ],
         "name": "2020-02-22 00:00:00"
        },
        {
         "data": [
          {
           "customdata": [
            [
             0
            ],
            [
             0
            ],
            [
             0
            ],
            [
             0
            ],
            [
             0
            ],
            [
             0
            ],
            [
             0
            ],
            [
             7
            ],
            [
             0
            ],
            [
             0
            ],
            [
             0
            ],
            [
             0
            ],
            [
             0
            ],
            [
             1
            ],
            [
             0
            ],
            [
             0
            ],
            [
             0
            ],
            [
             0
            ],
            [
             0
            ],
            [
             0
            ],
            [
             0
            ],
            [
             2
            ],
            [
             0
            ],
            [
             8
            ],
            [
             0
            ],
            [
             0
            ],
            [
             76919
            ],
            [
             0
            ],
            [
             0
            ],
            [
             0
            ],
            [
             0
            ],
            [
             0
            ],
            [
             0
            ],
            [
             0
            ],
            [
             0
            ],
            [
             0
            ],
            [
             0
            ],
            [
             0
            ],
            [
             0
            ],
            [
             0
            ],
            [
             1
            ],
            [
             0
            ],
            [
             0
            ],
            [
             1
            ],
            [
             12
            ],
            [
             0
            ],
            [
             0
            ],
            [
             16
            ],
            [
             0
            ],
            [
             0
            ],
            [
             0
            ],
            [
             0
            ],
            [
             0
            ],
            [
             74
            ],
            [
             0
            ],
            [
             0
            ],
            [
             0
            ],
            [
             6
            ],
            [
             0
            ],
            [
             43
            ],
            [
             0
            ],
            [
             0
            ],
            [
             0
            ],
            [
             1
            ],
            [
             155
            ],
            [
             0
            ],
            [
             147
            ],
            [
             0
            ],
            [
             0
            ],
            [
             0
            ],
            [
             0
            ],
            [
             1
            ],
            [
             0
            ],
            [
             0
            ],
            [
             0
            ],
            [
             0
            ],
            [
             10
            ],
            [
             22
            ],
            [
             0
            ],
            [
             0
            ],
            [
             0
            ],
            [
             0
            ],
            [
             0
            ],
            [
             0
            ],
            [
             0
            ],
            [
             0
            ],
            [
             2
            ],
            [
             0
            ],
            [
             0
            ],
            [
             0
            ],
            [
             0
            ],
            [
             0
            ],
            [
             0
            ],
            [
             0
            ],
            [
             691
            ],
            [
             0
            ],
            [
             0
            ],
            [
             0
            ],
            [
             0
            ],
            [
             0
            ],
            [
             6
            ],
            [
             0
            ],
            [
             0
            ],
            [
             0
            ],
            [
             0
            ],
            [
             0
            ],
            [
             0
            ],
            [
             0
            ],
            [
             0
            ],
            [
             4
            ],
            [
             0
            ],
            [
             0
            ],
            [
             0
            ],
            [
             0
            ],
            [
             0
            ],
            [
             0
            ],
            [
             0
            ],
            [
             89
            ],
            [
             0
            ],
            [
             0
            ],
            [
             0
            ],
            [
             602
            ],
            [
             2
            ],
            [
             2
            ],
            [
             0
            ],
            [
             2
            ],
            [
             0
            ],
            [
             0
            ],
            [
             28
            ],
            [
             0
            ],
            [
             35
            ],
            [
             0
            ],
            [
             0
            ],
            [
             0
            ],
            [
             9
            ],
            [
             18
            ],
            [
             0
            ],
            [
             13
            ],
            [
             0
            ],
            [
             0
            ],
            [
             0
            ],
            [
             16
            ],
            [
             0
            ]
           ],
           "geo": "geo",
           "hoverlabel": {
            "namelength": 0
           },
           "hovertemplate": "Date=2020-02-23 00:00:00<br>Log Confirmed=%{marker.size}<br>Confirmed=%{customdata[0]}<br>Country/Region=%{location}",
           "legendgroup": "",
           "locationmode": "country names",
           "locations": [
            " Azerbaijan",
            "Afghanistan",
            "Albania",
            "Algeria",
            "Andorra",
            "Argentina",
            "Armenia",
            "Australia",
            "Austria",
            "Azerbaijan",
            "Bahrain",
            "Bangladesh",
            "Belarus",
            "Belgium",
            "Bhutan",
            "Bolivia",
            "Bosnia and Herzegovina",
            "Brazil",
            "Brunei",
            "Bulgaria",
            "Burkina Faso",
            "Cambodia",
            "Cameroon",
            "Canada",
            "Channel Islands",
            "Chile",
            "China",
            "Colombia",
            "Congo (Kinshasa)",
            "Costa Rica",
            "Cote d'Ivoire",
            "Croatia",
            "Cruise Ship",
            "Cuba",
            "Cyprus",
            "Czech Republic",
            "Czechia",
            "Denmark",
            "Dominican Republic",
            "Ecuador",
            "Egypt",
            "Estonia",
            "Faroe Islands",
            "Finland",
            "France",
            "French Guiana",
            "Georgia",
            "Germany",
            "Gibraltar",
            "Greece",
            "Guyana",
            "Holy See",
            "Honduras",
            "Hong Kong",
            "Hong Kong SAR",
            "Hungary",
            "Iceland",
            "India",
            "Indonesia",
            "Iran",
            "Iran (Islamic Republic of)",
            "Iraq",
            "Ireland",
            "Israel",
            "Italy",
            "Jamaica",
            "Japan",
            "Jordan",
            "Korea, South",
            "Kuwait",
            "Latvia",
            "Lebanon",
            "Liechtenstein",
            "Lithuania",
            "Luxembourg",
            "Macao SAR",
            "Macau",
            "Malaysia",
            "Maldives",
            "Malta",
            "Martinique",
            "Mexico",
            "Moldova",
            "Monaco",
            "Mongolia",
            "Morocco",
            "Nepal",
            "Netherlands",
            "New Zealand",
            "Nigeria",
            "North Ireland",
            "North Macedonia",
            "Norway",
            "Oman",
            "Others",
            "Pakistan",
            "Palestine",
            "Panama",
            "Paraguay",
            "Peru",
            "Philippines",
            "Poland",
            "Portugal",
            "Qatar",
            "Republic of Ireland",
            "Republic of Korea",
            "Republic of Moldova",
            "Reunion",
            "Romania",
            "Russia",
            "Russian Federation",
            "Saint Barthelemy",
            "Saint Martin",
            "San Marino",
            "Saudi Arabia",
            "Senegal",
            "Serbia",
            "Singapore",
            "Slovakia",
            "Slovenia",
            "South Africa",
            "South Korea",
            "Spain",
            "Sri Lanka",
            "St. Martin",
            "Sweden",
            "Switzerland",
            "Taipei and environs",
            "Taiwan",
            "Taiwan*",
            "Thailand",
            "Togo",
            "Tunisia",
            "Turkey",
            "UK",
            "US",
            "Ukraine",
            "United Arab Emirates",
            "United Kingdom",
            "Vatican City",
            "Viet Nam",
            "Vietnam",
            "occupied Palestinian territory"
           ],
           "marker": {
            "color": "#636efa",
            "size": [
             0,
             0,
             0,
             0,
             0,
             0,
             0,
             0.9030899869919435,
             0,
             0,
             0,
             0,
             0,
             0.3010299956639812,
             0,
             0,
             0,
             0,
             0,
             0,
             0,
             0.47712125471966244,
             0,
             0.9542425094393249,
             0,
             0,
             4.886039275566442,
             0,
             0,
             0,
             0,
             0,
             0,
             0,
             0,
             0,
             0,
             0,
             0,
             0,
             0.3010299956639812,
             0,
             0,
             0.3010299956639812,
             1.1139433523068367,
             0,
             0,
             1.2304489213782739,
             0,
             0,
             0,
             0,
             0,
             1.8750612633917,
             0,
             0,
             0,
             0.8450980400142568,
             0,
             1.6434526764861874,
             0,
             0,
             0,
             0.3010299956639812,
             2.1931245983544616,
             0,
             2.1702617153949575,
             0,
             0,
             0,
             0,
             0.3010299956639812,
             0,
             0,
             0,
             0,
             1.0413926851582251,
             1.3617278360175928,
             0,
             0,
             0,
             0,
             0,
             0,
             0,
             0,
             0.47712125471966244,
             0,
             0,
             0,
             0,
             0,
             0,
             0,
             2.840106094456758,
             0,
             0,
             0,
             0,
             0,
             0.8450980400142568,
             0,
             0,
             0,
             0,
             0,
             0,
             0,
             0,
             0.6989700043360189,
             0,
             0,
             0,
             0,
             0,
             0,
             0,
             1.954242509439325,
             0,
             0,
             0,
             2.780317312140151,
             0.47712125471966244,
             0.47712125471966244,
             0,
             0.47712125471966244,
             0,
             0,
             1.462397997898956,
             0,
             1.5563025007672873,
             0,
             0,
             0,
             1,
             1.2787536009528289,
             0,
             1.146128035678238,
             0,
             0,
             0,
             1.2304489213782739,
             0
            ],
            "sizemode": "area",
            "sizeref": 0.012270166519720165
           },
           "name": "",
           "showlegend": false,
           "type": "scattergeo"
          }
         ],
         "name": "2020-02-23 00:00:00"
        },
        {
         "data": [
          {
           "customdata": [
            [
             0
            ],
            [
             2
            ],
            [
             0
            ],
            [
             0
            ],
            [
             0
            ],
            [
             0
            ],
            [
             0
            ],
            [
             7
            ],
            [
             0
            ],
            [
             0
            ],
            [
             1
            ],
            [
             0
            ],
            [
             0
            ],
            [
             1
            ],
            [
             0
            ],
            [
             0
            ],
            [
             0
            ],
            [
             0
            ],
            [
             0
            ],
            [
             0
            ],
            [
             0
            ],
            [
             2
            ],
            [
             0
            ],
            [
             3
            ],
            [
             0
            ],
            [
             0
            ],
            [
             76987
            ],
            [
             0
            ],
            [
             0
            ],
            [
             0
            ],
            [
             0
            ],
            [
             0
            ],
            [
             0
            ],
            [
             0
            ],
            [
             0
            ],
            [
             0
            ],
            [
             0
            ],
            [
             0
            ],
            [
             0
            ],
            [
             0
            ],
            [
             1
            ],
            [
             0
            ],
            [
             0
            ],
            [
             1
            ],
            [
             12
            ],
            [
             0
            ],
            [
             0
            ],
            [
             16
            ],
            [
             0
            ],
            [
             0
            ],
            [
             0
            ],
            [
             0
            ],
            [
             0
            ],
            [
             79
            ],
            [
             0
            ],
            [
             0
            ],
            [
             0
            ],
            [
             6
            ],
            [
             0
            ],
            [
             61
            ],
            [
             0
            ],
            [
             1
            ],
            [
             0
            ],
            [
             1
            ],
            [
             229
            ],
            [
             0
            ],
            [
             159
            ],
            [
             0
            ],
            [
             0
            ],
            [
             1
            ],
            [
             0
            ],
            [
             1
            ],
            [
             0
            ],
            [
             0
            ],
            [
             0
            ],
            [
             0
            ],
            [
             10
            ],
            [
             22
            ],
            [
             0
            ],
            [
             0
            ],
            [
             0
            ],
            [
             0
            ],
            [
             0
            ],
            [
             0
            ],
            [
             0
            ],
            [
             0
            ],
            [
             2
            ],
            [
             0
            ],
            [
             0
            ],
            [
             0
            ],
            [
             0
            ],
            [
             0
            ],
            [
             0
            ],
            [
             2
            ],
            [
             691
            ],
            [
             0
            ],
            [
             0
            ],
            [
             0
            ],
            [
             0
            ],
            [
             0
            ],
            [
             6
            ],
            [
             0
            ],
            [
             0
            ],
            [
             0
            ],
            [
             0
            ],
            [
             0
            ],
            [
             0
            ],
            [
             0
            ],
            [
             0
            ],
            [
             4
            ],
            [
             0
            ],
            [
             0
            ],
            [
             0
            ],
            [
             0
            ],
            [
             0
            ],
            [
             0
            ],
            [
             0
            ],
            [
             89
            ],
            [
             0
            ],
            [
             0
            ],
            [
             0
            ],
            [
             833
            ],
            [
             2
            ],
            [
             2
            ],
            [
             0
            ],
            [
             2
            ],
            [
             0
            ],
            [
             0
            ],
            [
             30
            ],
            [
             0
            ],
            [
             35
            ],
            [
             0
            ],
            [
             0
            ],
            [
             0
            ],
            [
             13
            ],
            [
             36
            ],
            [
             0
            ],
            [
             13
            ],
            [
             0
            ],
            [
             0
            ],
            [
             0
            ],
            [
             16
            ],
            [
             0
            ]
           ],
           "geo": "geo",
           "hoverlabel": {
            "namelength": 0
           },
           "hovertemplate": "Date=2020-02-24 00:00:00<br>Log Confirmed=%{marker.size}<br>Confirmed=%{customdata[0]}<br>Country/Region=%{location}",
           "legendgroup": "",
           "locationmode": "country names",
           "locations": [
            " Azerbaijan",
            "Afghanistan",
            "Albania",
            "Algeria",
            "Andorra",
            "Argentina",
            "Armenia",
            "Australia",
            "Austria",
            "Azerbaijan",
            "Bahrain",
            "Bangladesh",
            "Belarus",
            "Belgium",
            "Bhutan",
            "Bolivia",
            "Bosnia and Herzegovina",
            "Brazil",
            "Brunei",
            "Bulgaria",
            "Burkina Faso",
            "Cambodia",
            "Cameroon",
            "Canada",
            "Channel Islands",
            "Chile",
            "China",
            "Colombia",
            "Congo (Kinshasa)",
            "Costa Rica",
            "Cote d'Ivoire",
            "Croatia",
            "Cruise Ship",
            "Cuba",
            "Cyprus",
            "Czech Republic",
            "Czechia",
            "Denmark",
            "Dominican Republic",
            "Ecuador",
            "Egypt",
            "Estonia",
            "Faroe Islands",
            "Finland",
            "France",
            "French Guiana",
            "Georgia",
            "Germany",
            "Gibraltar",
            "Greece",
            "Guyana",
            "Holy See",
            "Honduras",
            "Hong Kong",
            "Hong Kong SAR",
            "Hungary",
            "Iceland",
            "India",
            "Indonesia",
            "Iran",
            "Iran (Islamic Republic of)",
            "Iraq",
            "Ireland",
            "Israel",
            "Italy",
            "Jamaica",
            "Japan",
            "Jordan",
            "Korea, South",
            "Kuwait",
            "Latvia",
            "Lebanon",
            "Liechtenstein",
            "Lithuania",
            "Luxembourg",
            "Macao SAR",
            "Macau",
            "Malaysia",
            "Maldives",
            "Malta",
            "Martinique",
            "Mexico",
            "Moldova",
            "Monaco",
            "Mongolia",
            "Morocco",
            "Nepal",
            "Netherlands",
            "New Zealand",
            "Nigeria",
            "North Ireland",
            "North Macedonia",
            "Norway",
            "Oman",
            "Others",
            "Pakistan",
            "Palestine",
            "Panama",
            "Paraguay",
            "Peru",
            "Philippines",
            "Poland",
            "Portugal",
            "Qatar",
            "Republic of Ireland",
            "Republic of Korea",
            "Republic of Moldova",
            "Reunion",
            "Romania",
            "Russia",
            "Russian Federation",
            "Saint Barthelemy",
            "Saint Martin",
            "San Marino",
            "Saudi Arabia",
            "Senegal",
            "Serbia",
            "Singapore",
            "Slovakia",
            "Slovenia",
            "South Africa",
            "South Korea",
            "Spain",
            "Sri Lanka",
            "St. Martin",
            "Sweden",
            "Switzerland",
            "Taipei and environs",
            "Taiwan",
            "Taiwan*",
            "Thailand",
            "Togo",
            "Tunisia",
            "Turkey",
            "UK",
            "US",
            "Ukraine",
            "United Arab Emirates",
            "United Kingdom",
            "Vatican City",
            "Viet Nam",
            "Vietnam",
            "occupied Palestinian territory"
           ],
           "marker": {
            "color": "#636efa",
            "size": [
             0,
             0.47712125471966244,
             0,
             0,
             0,
             0,
             0,
             0.9030899869919435,
             0,
             0,
             0.3010299956639812,
             0,
             0,
             0.3010299956639812,
             0,
             0,
             0,
             0,
             0,
             0,
             0,
             0.47712125471966244,
             0,
             0.6020599913279624,
             0,
             0,
             4.886423037641072,
             0,
             0,
             0,
             0,
             0,
             0,
             0,
             0,
             0,
             0,
             0,
             0,
             0,
             0.3010299956639812,
             0,
             0,
             0.3010299956639812,
             1.1139433523068367,
             0,
             0,
             1.2304489213782739,
             0,
             0,
             0,
             0,
             0,
             1.9030899869919435,
             0,
             0,
             0,
             0.8450980400142568,
             0,
             1.792391689498254,
             0,
             0.3010299956639812,
             0,
             0.3010299956639812,
             2.361727836017593,
             0,
             2.2041199826559246,
             0,
             0,
             0.3010299956639812,
             0,
             0.3010299956639812,
             0,
             0,
             0,
             0,
             1.0413926851582251,
             1.3617278360175928,
             0,
             0,
             0,
             0,
             0,
             0,
             0,
             0,
             0.47712125471966244,
             0,
             0,
             0,
             0,
             0,
             0,
             0.47712125471966244,
             2.840106094456758,
             0,
             0,
             0,
             0,
             0,
             0.8450980400142568,
             0,
             0,
             0,
             0,
             0,
             0,
             0,
             0,
             0.6989700043360189,
             0,
             0,
             0,
             0,
             0,
             0,
             0,
             1.954242509439325,
             0,
             0,
             0,
             2.921166050637739,
             0.47712125471966244,
             0.47712125471966244,
             0,
             0.47712125471966244,
             0,
             0,
             1.4913616938342726,
             0,
             1.5563025007672873,
             0,
             0,
             0,
             1.146128035678238,
             1.568201724066995,
             0,
             1.146128035678238,
             0,
             0,
             0,
             1.2304489213782739,
             0
            ],
            "sizemode": "area",
            "sizeref": 0.012270166519720165
           },
           "name": "",
           "showlegend": false,
           "type": "scattergeo"
          }
         ],
         "name": "2020-02-24 00:00:00"
        },
        {
         "data": [
          {
           "customdata": [
            [
             0
            ],
            [
             2
            ],
            [
             0
            ],
            [
             2
            ],
            [
             0
            ],
            [
             0
            ],
            [
             0
            ],
            [
             7
            ],
            [
             2
            ],
            [
             0
            ],
            [
             23
            ],
            [
             0
            ],
            [
             0
            ],
            [
             1
            ],
            [
             0
            ],
            [
             0
            ],
            [
             0
            ],
            [
             0
            ],
            [
             0
            ],
            [
             0
            ],
            [
             0
            ],
            [
             2
            ],
            [
             0
            ],
            [
             7
            ],
            [
             0
            ],
            [
             0
            ],
            [
             77474
            ],
            [
             0
            ],
            [
             0
            ],
            [
             0
            ],
            [
             0
            ],
            [
             1
            ],
            [
             0
            ],
            [
             0
            ],
            [
             0
            ],
            [
             0
            ],
            [
             0
            ],
            [
             0
            ],
            [
             0
            ],
            [
             0
            ],
            [
             1
            ],
            [
             0
            ],
            [
             0
            ],
            [
             1
            ],
            [
             14
            ],
            [
             0
            ],
            [
             0
            ],
            [
             17
            ],
            [
             0
            ],
            [
             0
            ],
            [
             0
            ],
            [
             0
            ],
            [
             0
            ],
            [
             84
            ],
            [
             0
            ],
            [
             0
            ],
            [
             0
            ],
            [
             6
            ],
            [
             0
            ],
            [
             95
            ],
            [
             0
            ],
            [
             1
            ],
            [
             0
            ],
            [
             1
            ],
            [
             322
            ],
            [
             0
            ],
            [
             170
            ],
            [
             0
            ],
            [
             0
            ],
            [
             11
            ],
            [
             0
            ],
            [
             1
            ],
            [
             0
            ],
            [
             0
            ],
            [
             0
            ],
            [
             0
            ],
            [
             10
            ],
            [
             22
            ],
            [
             0
            ],
            [
             0
            ],
            [
             0
            ],
            [
             0
            ],
            [
             0
            ],
            [
             0
            ],
            [
             0
            ],
            [
             0
            ],
            [
             2
            ],
            [
             0
            ],
            [
             0
            ],
            [
             0
            ],
            [
             0
            ],
            [
             0
            ],
            [
             0
            ],
            [
             2
            ],
            [
             691
            ],
            [
             0
            ],
            [
             0
            ],
            [
             0
            ],
            [
             0
            ],
            [
             0
            ],
            [
             6
            ],
            [
             0
            ],
            [
             0
            ],
            [
             0
            ],
            [
             0
            ],
            [
             0
            ],
            [
             0
            ],
            [
             0
            ],
            [
             0
            ],
            [
             4
            ],
            [
             0
            ],
            [
             0
            ],
            [
             0
            ],
            [
             0
            ],
            [
             0
            ],
            [
             0
            ],
            [
             0
            ],
            [
             91
            ],
            [
             0
            ],
            [
             0
            ],
            [
             0
            ],
            [
             977
            ],
            [
             6
            ],
            [
             2
            ],
            [
             0
            ],
            [
             2
            ],
            [
             1
            ],
            [
             0
            ],
            [
             31
            ],
            [
             0
            ],
            [
             37
            ],
            [
             0
            ],
            [
             0
            ],
            [
             0
            ],
            [
             13
            ],
            [
             38
            ],
            [
             0
            ],
            [
             13
            ],
            [
             0
            ],
            [
             0
            ],
            [
             0
            ],
            [
             32
            ],
            [
             0
            ]
           ],
           "geo": "geo",
           "hoverlabel": {
            "namelength": 0
           },
           "hovertemplate": "Date=2020-02-25 00:00:00<br>Log Confirmed=%{marker.size}<br>Confirmed=%{customdata[0]}<br>Country/Region=%{location}",
           "legendgroup": "",
           "locationmode": "country names",
           "locations": [
            " Azerbaijan",
            "Afghanistan",
            "Albania",
            "Algeria",
            "Andorra",
            "Argentina",
            "Armenia",
            "Australia",
            "Austria",
            "Azerbaijan",
            "Bahrain",
            "Bangladesh",
            "Belarus",
            "Belgium",
            "Bhutan",
            "Bolivia",
            "Bosnia and Herzegovina",
            "Brazil",
            "Brunei",
            "Bulgaria",
            "Burkina Faso",
            "Cambodia",
            "Cameroon",
            "Canada",
            "Channel Islands",
            "Chile",
            "China",
            "Colombia",
            "Congo (Kinshasa)",
            "Costa Rica",
            "Cote d'Ivoire",
            "Croatia",
            "Cruise Ship",
            "Cuba",
            "Cyprus",
            "Czech Republic",
            "Czechia",
            "Denmark",
            "Dominican Republic",
            "Ecuador",
            "Egypt",
            "Estonia",
            "Faroe Islands",
            "Finland",
            "France",
            "French Guiana",
            "Georgia",
            "Germany",
            "Gibraltar",
            "Greece",
            "Guyana",
            "Holy See",
            "Honduras",
            "Hong Kong",
            "Hong Kong SAR",
            "Hungary",
            "Iceland",
            "India",
            "Indonesia",
            "Iran",
            "Iran (Islamic Republic of)",
            "Iraq",
            "Ireland",
            "Israel",
            "Italy",
            "Jamaica",
            "Japan",
            "Jordan",
            "Korea, South",
            "Kuwait",
            "Latvia",
            "Lebanon",
            "Liechtenstein",
            "Lithuania",
            "Luxembourg",
            "Macao SAR",
            "Macau",
            "Malaysia",
            "Maldives",
            "Malta",
            "Martinique",
            "Mexico",
            "Moldova",
            "Monaco",
            "Mongolia",
            "Morocco",
            "Nepal",
            "Netherlands",
            "New Zealand",
            "Nigeria",
            "North Ireland",
            "North Macedonia",
            "Norway",
            "Oman",
            "Others",
            "Pakistan",
            "Palestine",
            "Panama",
            "Paraguay",
            "Peru",
            "Philippines",
            "Poland",
            "Portugal",
            "Qatar",
            "Republic of Ireland",
            "Republic of Korea",
            "Republic of Moldova",
            "Reunion",
            "Romania",
            "Russia",
            "Russian Federation",
            "Saint Barthelemy",
            "Saint Martin",
            "San Marino",
            "Saudi Arabia",
            "Senegal",
            "Serbia",
            "Singapore",
            "Slovakia",
            "Slovenia",
            "South Africa",
            "South Korea",
            "Spain",
            "Sri Lanka",
            "St. Martin",
            "Sweden",
            "Switzerland",
            "Taipei and environs",
            "Taiwan",
            "Taiwan*",
            "Thailand",
            "Togo",
            "Tunisia",
            "Turkey",
            "UK",
            "US",
            "Ukraine",
            "United Arab Emirates",
            "United Kingdom",
            "Vatican City",
            "Viet Nam",
            "Vietnam",
            "occupied Palestinian territory"
           ],
           "marker": {
            "color": "#636efa",
            "size": [
             0,
             0.47712125471966244,
             0,
             0.47712125471966244,
             0,
             0,
             0,
             0.9030899869919435,
             0.47712125471966244,
             0,
             1.380211241711606,
             0,
             0,
             0.3010299956639812,
             0,
             0,
             0,
             0,
             0,
             0,
             0,
             0.47712125471966244,
             0,
             0.9030899869919435,
             0,
             0,
             4.889161584911321,
             0,
             0,
             0,
             0,
             0.3010299956639812,
             0,
             0,
             0,
             0,
             0,
             0,
             0,
             0,
             0.3010299956639812,
             0,
             0,
             0.3010299956639812,
             1.1760912590556813,
             0,
             0,
             1.255272505103306,
             0,
             0,
             0,
             0,
             0,
             1.9294189257142926,
             0,
             0,
             0,
             0.8450980400142568,
             0,
             1.9822712330395684,
             0,
             0.3010299956639812,
             0,
             0.3010299956639812,
             2.509202522331103,
             0,
             2.2329961103921536,
             0,
             0,
             1.0791812460476249,
             0,
             0.3010299956639812,
             0,
             0,
             0,
             0,
             1.0413926851582251,
             1.3617278360175928,
             0,
             0,
             0,
             0,
             0,
             0,
             0,
             0,
             0.47712125471966244,
             0,
             0,
             0,
             0,
             0,
             0,
             0.47712125471966244,
             2.840106094456758,
             0,
             0,
             0,
             0,
             0,
             0.8450980400142568,
             0,
             0,
             0,
             0,
             0,
             0,
             0,
             0,
             0.6989700043360189,
             0,
             0,
             0,
             0,
             0,
             0,
             0,
             1.9637878273455553,
             0,
             0,
             0,
             2.9903388547876015,
             0.8450980400142568,
             0.47712125471966244,
             0,
             0.47712125471966244,
             0.3010299956639812,
             0,
             1.505149978319906,
             0,
             1.5797835966168101,
             0,
             0,
             0,
             1.146128035678238,
             1.591064607026499,
             0,
             1.146128035678238,
             0,
             0,
             0,
             1.5185139398778875,
             0
            ],
            "sizemode": "area",
            "sizeref": 0.012270166519720165
           },
           "name": "",
           "showlegend": false,
           "type": "scattergeo"
          }
         ],
         "name": "2020-02-25 00:00:00"
        },
        {
         "data": [
          {
           "customdata": [
            [
             0
            ],
            [
             2
            ],
            [
             0
            ],
            [
             2
            ],
            [
             0
            ],
            [
             0
            ],
            [
             0
            ],
            [
             7
            ],
            [
             2
            ],
            [
             0
            ],
            [
             33
            ],
            [
             0
            ],
            [
             0
            ],
            [
             1
            ],
            [
             0
            ],
            [
             0
            ],
            [
             0
            ],
            [
             1
            ],
            [
             0
            ],
            [
             0
            ],
            [
             0
            ],
            [
             2
            ],
            [
             0
            ],
            [
             7
            ],
            [
             0
            ],
            [
             0
            ],
            [
             77900
            ],
            [
             0
            ],
            [
             0
            ],
            [
             0
            ],
            [
             0
            ],
            [
             3
            ],
            [
             0
            ],
            [
             0
            ],
            [
             0
            ],
            [
             0
            ],
            [
             0
            ],
            [
             0
            ],
            [
             0
            ],
            [
             0
            ],
            [
             1
            ],
            [
             0
            ],
            [
             0
            ],
            [
             2
            ],
            [
             18
            ],
            [
             0
            ],
            [
             1
            ],
            [
             27
            ],
            [
             0
            ],
            [
             1
            ],
            [
             0
            ],
            [
             0
            ],
            [
             0
            ],
            [
             91
            ],
            [
             0
            ],
            [
             0
            ],
            [
             0
            ],
            [
             6
            ],
            [
             0
            ],
            [
             139
            ],
            [
             0
            ],
            [
             5
            ],
            [
             0
            ],
            [
             2
            ],
            [
             453
            ],
            [
             0
            ],
            [
             189
            ],
            [
             0
            ],
            [
             0
            ],
            [
             26
            ],
            [
             0
            ],
            [
             2
            ],
            [
             0
            ],
            [
             0
            ],
            [
             0
            ],
            [
             0
            ],
            [
             10
            ],
            [
             22
            ],
            [
             0
            ],
            [
             0
            ],
            [
             0
            ],
            [
             0
            ],
            [
             0
            ],
            [
             0
            ],
            [
             0
            ],
            [
             0
            ],
            [
             2
            ],
            [
             0
            ],
            [
             0
            ],
            [
             0
            ],
            [
             0
            ],
            [
             1
            ],
            [
             1
            ],
            [
             4
            ],
            [
             705
            ],
            [
             2
            ],
            [
             0
            ],
            [
             0
            ],
            [
             0
            ],
            [
             0
            ],
            [
             6
            ],
            [
             0
            ],
            [
             0
            ],
            [
             0
            ],
            [
             0
            ],
            [
             0
            ],
            [
             0
            ],
            [
             0
            ],
            [
             1
            ],
            [
             4
            ],
            [
             0
            ],
            [
             0
            ],
            [
             0
            ],
            [
             0
            ],
            [
             0
            ],
            [
             0
            ],
            [
             0
            ],
            [
             93
            ],
            [
             0
            ],
            [
             0
            ],
            [
             0
            ],
            [
             1261
            ],
            [
             13
            ],
            [
             2
            ],
            [
             0
            ],
            [
             2
            ],
            [
             1
            ],
            [
             0
            ],
            [
             32
            ],
            [
             0
            ],
            [
             40
            ],
            [
             0
            ],
            [
             0
            ],
            [
             0
            ],
            [
             13
            ],
            [
             42
            ],
            [
             0
            ],
            [
             13
            ],
            [
             0
            ],
            [
             0
            ],
            [
             0
            ],
            [
             32
            ],
            [
             0
            ]
           ],
           "geo": "geo",
           "hoverlabel": {
            "namelength": 0
           },
           "hovertemplate": "Date=2020-02-26 00:00:00<br>Log Confirmed=%{marker.size}<br>Confirmed=%{customdata[0]}<br>Country/Region=%{location}",
           "legendgroup": "",
           "locationmode": "country names",
           "locations": [
            " Azerbaijan",
            "Afghanistan",
            "Albania",
            "Algeria",
            "Andorra",
            "Argentina",
            "Armenia",
            "Australia",
            "Austria",
            "Azerbaijan",
            "Bahrain",
            "Bangladesh",
            "Belarus",
            "Belgium",
            "Bhutan",
            "Bolivia",
            "Bosnia and Herzegovina",
            "Brazil",
            "Brunei",
            "Bulgaria",
            "Burkina Faso",
            "Cambodia",
            "Cameroon",
            "Canada",
            "Channel Islands",
            "Chile",
            "China",
            "Colombia",
            "Congo (Kinshasa)",
            "Costa Rica",
            "Cote d'Ivoire",
            "Croatia",
            "Cruise Ship",
            "Cuba",
            "Cyprus",
            "Czech Republic",
            "Czechia",
            "Denmark",
            "Dominican Republic",
            "Ecuador",
            "Egypt",
            "Estonia",
            "Faroe Islands",
            "Finland",
            "France",
            "French Guiana",
            "Georgia",
            "Germany",
            "Gibraltar",
            "Greece",
            "Guyana",
            "Holy See",
            "Honduras",
            "Hong Kong",
            "Hong Kong SAR",
            "Hungary",
            "Iceland",
            "India",
            "Indonesia",
            "Iran",
            "Iran (Islamic Republic of)",
            "Iraq",
            "Ireland",
            "Israel",
            "Italy",
            "Jamaica",
            "Japan",
            "Jordan",
            "Korea, South",
            "Kuwait",
            "Latvia",
            "Lebanon",
            "Liechtenstein",
            "Lithuania",
            "Luxembourg",
            "Macao SAR",
            "Macau",
            "Malaysia",
            "Maldives",
            "Malta",
            "Martinique",
            "Mexico",
            "Moldova",
            "Monaco",
            "Mongolia",
            "Morocco",
            "Nepal",
            "Netherlands",
            "New Zealand",
            "Nigeria",
            "North Ireland",
            "North Macedonia",
            "Norway",
            "Oman",
            "Others",
            "Pakistan",
            "Palestine",
            "Panama",
            "Paraguay",
            "Peru",
            "Philippines",
            "Poland",
            "Portugal",
            "Qatar",
            "Republic of Ireland",
            "Republic of Korea",
            "Republic of Moldova",
            "Reunion",
            "Romania",
            "Russia",
            "Russian Federation",
            "Saint Barthelemy",
            "Saint Martin",
            "San Marino",
            "Saudi Arabia",
            "Senegal",
            "Serbia",
            "Singapore",
            "Slovakia",
            "Slovenia",
            "South Africa",
            "South Korea",
            "Spain",
            "Sri Lanka",
            "St. Martin",
            "Sweden",
            "Switzerland",
            "Taipei and environs",
            "Taiwan",
            "Taiwan*",
            "Thailand",
            "Togo",
            "Tunisia",
            "Turkey",
            "UK",
            "US",
            "Ukraine",
            "United Arab Emirates",
            "United Kingdom",
            "Vatican City",
            "Viet Nam",
            "Vietnam",
            "occupied Palestinian territory"
           ],
           "marker": {
            "color": "#636efa",
            "size": [
             0,
             0.47712125471966244,
             0,
             0.47712125471966244,
             0,
             0,
             0,
             0.9030899869919435,
             0.47712125471966244,
             0,
             1.5314789170422551,
             0,
             0,
             0.3010299956639812,
             0,
             0,
             0,
             0.3010299956639812,
             0,
             0,
             0,
             0.47712125471966244,
             0,
             0.9030899869919435,
             0,
             0,
             4.891543032662224,
             0,
             0,
             0,
             0,
             0.6020599913279624,
             0,
             0,
             0,
             0,
             0,
             0,
             0,
             0,
             0.3010299956639812,
             0,
             0,
             0.47712125471966244,
             1.2787536009528289,
             0,
             0.3010299956639812,
             1.4471580313422192,
             0,
             0.3010299956639812,
             0,
             0,
             0,
             1.9637878273455553,
             0,
             0,
             0,
             0.8450980400142568,
             0,
             2.146128035678238,
             0,
             0.7781512503836436,
             0,
             0.47712125471966244,
             2.6570558528571038,
             0,
             2.278753600952829,
             0,
             0,
             1.4313637641589874,
             0,
             0.47712125471966244,
             0,
             0,
             0,
             0,
             1.0413926851582251,
             1.3617278360175928,
             0,
             0,
             0,
             0,
             0,
             0,
             0,
             0,
             0.47712125471966244,
             0,
             0,
             0,
             0,
             0.3010299956639812,
             0.3010299956639812,
             0.6989700043360189,
             2.8488047010518036,
             0.47712125471966244,
             0,
             0,
             0,
             0,
             0.8450980400142568,
             0,
             0,
             0,
             0,
             0,
             0,
             0,
             0.3010299956639812,
             0.6989700043360189,
             0,
             0,
             0,
             0,
             0,
             0,
             0,
             1.9731278535996986,
             0,
             0,
             0,
             3.1010593549081156,
             1.146128035678238,
             0.47712125471966244,
             0,
             0.47712125471966244,
             0.3010299956639812,
             0,
             1.5185139398778875,
             0,
             1.6127838567197355,
             0,
             0,
             0,
             1.146128035678238,
             1.6334684555795864,
             0,
             1.146128035678238,
             0,
             0,
             0,
             1.5185139398778875,
             0
            ],
            "sizemode": "area",
            "sizeref": 0.012270166519720165
           },
           "name": "",
           "showlegend": false,
           "type": "scattergeo"
          }
         ],
         "name": "2020-02-26 00:00:00"
        },
        {
         "data": [
          {
           "customdata": [
            [
             0
            ],
            [
             2
            ],
            [
             0
            ],
            [
             2
            ],
            [
             0
            ],
            [
             0
            ],
            [
             0
            ],
            [
             8
            ],
            [
             3
            ],
            [
             0
            ],
            [
             33
            ],
            [
             0
            ],
            [
             0
            ],
            [
             1
            ],
            [
             0
            ],
            [
             0
            ],
            [
             0
            ],
            [
             1
            ],
            [
             0
            ],
            [
             0
            ],
            [
             0
            ],
            [
             2
            ],
            [
             0
            ],
            [
             12
            ],
            [
             0
            ],
            [
             0
            ],
            [
             78534
            ],
            [
             0
            ],
            [
             0
            ],
            [
             0
            ],
            [
             0
            ],
            [
             3
            ],
            [
             0
            ],
            [
             0
            ],
            [
             0
            ],
            [
             0
            ],
            [
             0
            ],
            [
             1
            ],
            [
             0
            ],
            [
             0
            ],
            [
             1
            ],
            [
             2
            ],
            [
             0
            ],
            [
             2
            ],
            [
             38
            ],
            [
             0
            ],
            [
             1
            ],
            [
             46
            ],
            [
             0
            ],
            [
             3
            ],
            [
             0
            ],
            [
             0
            ],
            [
             0
            ],
            [
             92
            ],
            [
             0
            ],
            [
             0
            ],
            [
             0
            ],
            [
             6
            ],
            [
             0
            ],
            [
             245
            ],
            [
             0
            ],
            [
             7
            ],
            [
             0
            ],
            [
             3
            ],
            [
             655
            ],
            [
             0
            ],
            [
             214
            ],
            [
             0
            ],
            [
             0
            ],
            [
             43
            ],
            [
             0
            ],
            [
             2
            ],
            [
             0
            ],
            [
             0
            ],
            [
             0
            ],
            [
             0
            ],
            [
             20
            ],
            [
             23
            ],
            [
             0
            ],
            [
             0
            ],
            [
             0
            ],
            [
             0
            ],
            [
             0
            ],
            [
             0
            ],
            [
             0
            ],
            [
             0
            ],
            [
             2
            ],
            [
             1
            ],
            [
             0
            ],
            [
             0
            ],
            [
             0
            ],
            [
             2
            ],
            [
             1
            ],
            [
             4
            ],
            [
             705
            ],
            [
             2
            ],
            [
             0
            ],
            [
             0
            ],
            [
             0
            ],
            [
             0
            ],
            [
             6
            ],
            [
             0
            ],
            [
             0
            ],
            [
             0
            ],
            [
             0
            ],
            [
             0
            ],
            [
             0
            ],
            [
             0
            ],
            [
             1
            ],
            [
             4
            ],
            [
             0
            ],
            [
             0
            ],
            [
             0
            ],
            [
             1
            ],
            [
             0
            ],
            [
             0
            ],
            [
             0
            ],
            [
             93
            ],
            [
             0
            ],
            [
             0
            ],
            [
             0
            ],
            [
             1766
            ],
            [
             15
            ],
            [
             2
            ],
            [
             0
            ],
            [
             7
            ],
            [
             8
            ],
            [
             0
            ],
            [
             32
            ],
            [
             0
            ],
            [
             40
            ],
            [
             0
            ],
            [
             0
            ],
            [
             0
            ],
            [
             15
            ],
            [
             4
            ],
            [
             0
            ],
            [
             13
            ],
            [
             0
            ],
            [
             0
            ],
            [
             0
            ],
            [
             32
            ],
            [
             0
            ]
           ],
           "geo": "geo",
           "hoverlabel": {
            "namelength": 0
           },
           "hovertemplate": "Date=2020-02-27 00:00:00<br>Log Confirmed=%{marker.size}<br>Confirmed=%{customdata[0]}<br>Country/Region=%{location}",
           "legendgroup": "",
           "locationmode": "country names",
           "locations": [
            " Azerbaijan",
            "Afghanistan",
            "Albania",
            "Algeria",
            "Andorra",
            "Argentina",
            "Armenia",
            "Australia",
            "Austria",
            "Azerbaijan",
            "Bahrain",
            "Bangladesh",
            "Belarus",
            "Belgium",
            "Bhutan",
            "Bolivia",
            "Bosnia and Herzegovina",
            "Brazil",
            "Brunei",
            "Bulgaria",
            "Burkina Faso",
            "Cambodia",
            "Cameroon",
            "Canada",
            "Channel Islands",
            "Chile",
            "China",
            "Colombia",
            "Congo (Kinshasa)",
            "Costa Rica",
            "Cote d'Ivoire",
            "Croatia",
            "Cruise Ship",
            "Cuba",
            "Cyprus",
            "Czech Republic",
            "Czechia",
            "Denmark",
            "Dominican Republic",
            "Ecuador",
            "Egypt",
            "Estonia",
            "Faroe Islands",
            "Finland",
            "France",
            "French Guiana",
            "Georgia",
            "Germany",
            "Gibraltar",
            "Greece",
            "Guyana",
            "Holy See",
            "Honduras",
            "Hong Kong",
            "Hong Kong SAR",
            "Hungary",
            "Iceland",
            "India",
            "Indonesia",
            "Iran",
            "Iran (Islamic Republic of)",
            "Iraq",
            "Ireland",
            "Israel",
            "Italy",
            "Jamaica",
            "Japan",
            "Jordan",
            "Korea, South",
            "Kuwait",
            "Latvia",
            "Lebanon",
            "Liechtenstein",
            "Lithuania",
            "Luxembourg",
            "Macao SAR",
            "Macau",
            "Malaysia",
            "Maldives",
            "Malta",
            "Martinique",
            "Mexico",
            "Moldova",
            "Monaco",
            "Mongolia",
            "Morocco",
            "Nepal",
            "Netherlands",
            "New Zealand",
            "Nigeria",
            "North Ireland",
            "North Macedonia",
            "Norway",
            "Oman",
            "Others",
            "Pakistan",
            "Palestine",
            "Panama",
            "Paraguay",
            "Peru",
            "Philippines",
            "Poland",
            "Portugal",
            "Qatar",
            "Republic of Ireland",
            "Republic of Korea",
            "Republic of Moldova",
            "Reunion",
            "Romania",
            "Russia",
            "Russian Federation",
            "Saint Barthelemy",
            "Saint Martin",
            "San Marino",
            "Saudi Arabia",
            "Senegal",
            "Serbia",
            "Singapore",
            "Slovakia",
            "Slovenia",
            "South Africa",
            "South Korea",
            "Spain",
            "Sri Lanka",
            "St. Martin",
            "Sweden",
            "Switzerland",
            "Taipei and environs",
            "Taiwan",
            "Taiwan*",
            "Thailand",
            "Togo",
            "Tunisia",
            "Turkey",
            "UK",
            "US",
            "Ukraine",
            "United Arab Emirates",
            "United Kingdom",
            "Vatican City",
            "Viet Nam",
            "Vietnam",
            "occupied Palestinian territory"
           ],
           "marker": {
            "color": "#636efa",
            "size": [
             0,
             0.47712125471966244,
             0,
             0.47712125471966244,
             0,
             0,
             0,
             0.9542425094393249,
             0.6020599913279624,
             0,
             1.5314789170422551,
             0,
             0,
             0.3010299956639812,
             0,
             0,
             0,
             0.3010299956639812,
             0,
             0,
             0,
             0.47712125471966244,
             0,
             1.1139433523068367,
             0,
             0,
             4.895063248073534,
             0,
             0,
             0,
             0,
             0.6020599913279624,
             0,
             0,
             0,
             0,
             0,
             0.3010299956639812,
             0,
             0,
             0.3010299956639812,
             0.47712125471966244,
             0,
             0.47712125471966244,
             1.591064607026499,
             0,
             0.3010299956639812,
             1.6720978579357175,
             0,
             0.6020599913279624,
             0,
             0,
             0,
             1.968482948553935,
             0,
             0,
             0,
             0.8450980400142568,
             0,
             2.3909351071033793,
             0,
             0.9030899869919435,
             0,
             0.6020599913279624,
             2.8169038393756605,
             0,
             2.3324384599156054,
             0,
             0,
             1.6434526764861874,
             0,
             0.47712125471966244,
             0,
             0,
             0,
             0,
             1.3222192947339193,
             1.380211241711606,
             0,
             0,
             0,
             0,
             0,
             0,
             0,
             0,
             0.47712125471966244,
             0.3010299956639812,
             0,
             0,
             0,
             0.47712125471966244,
             0.3010299956639812,
             0.6989700043360189,
             2.8488047010518036,
             0.47712125471966244,
             0,
             0,
             0,
             0,
             0.8450980400142568,
             0,
             0,
             0,
             0,
             0,
             0,
             0,
             0.3010299956639812,
             0.6989700043360189,
             0,
             0,
             0,
             0.3010299956639812,
             0,
             0,
             0,
             1.9731278535996986,
             0,
             0,
             0,
             3.247236549506764,
             1.2041199826559248,
             0.47712125471966244,
             0,
             0.9030899869919435,
             0.9542425094393249,
             0,
             1.5185139398778875,
             0,
             1.6127838567197355,
             0,
             0,
             0,
             1.2041199826559248,
             0.6989700043360189,
             0,
             1.146128035678238,
             0,
             0,
             0,
             1.5185139398778875,
             0
            ],
            "sizemode": "area",
            "sizeref": 0.012270166519720165
           },
           "name": "",
           "showlegend": false,
           "type": "scattergeo"
          }
         ],
         "name": "2020-02-27 00:00:00"
        },
        {
         "data": [
          {
           "customdata": [
            [
             1
            ],
            [
             2
            ],
            [
             0
            ],
            [
             2
            ],
            [
             0
            ],
            [
             0
            ],
            [
             0
            ],
            [
             8
            ],
            [
             3
            ],
            [
             0
            ],
            [
             36
            ],
            [
             0
            ],
            [
             2
            ],
            [
             1
            ],
            [
             0
            ],
            [
             0
            ],
            [
             0
            ],
            [
             1
            ],
            [
             0
            ],
            [
             0
            ],
            [
             0
            ],
            [
             2
            ],
            [
             0
            ],
            [
             2
            ],
            [
             0
            ],
            [
             0
            ],
            [
             78330
            ],
            [
             0
            ],
            [
             0
            ],
            [
             0
            ],
            [
             0
            ],
            [
             5
            ],
            [
             0
            ],
            [
             0
            ],
            [
             0
            ],
            [
             0
            ],
            [
             0
            ],
            [
             1
            ],
            [
             0
            ],
            [
             0
            ],
            [
             1
            ],
            [
             2
            ],
            [
             0
            ],
            [
             2
            ],
            [
             57
            ],
            [
             0
            ],
            [
             1
            ],
            [
             48
            ],
            [
             0
            ],
            [
             4
            ],
            [
             0
            ],
            [
             0
            ],
            [
             0
            ],
            [
             94
            ],
            [
             0
            ],
            [
             0
            ],
            [
             1
            ],
            [
             6
            ],
            [
             0
            ],
            [
             388
            ],
            [
             0
            ],
            [
             7
            ],
            [
             0
            ],
            [
             4
            ],
            [
             888
            ],
            [
             0
            ],
            [
             228
            ],
            [
             0
            ],
            [
             0
            ],
            [
             90
            ],
            [
             0
            ],
            [
             2
            ],
            [
             0
            ],
            [
             2
            ],
            [
             0
            ],
            [
             0
            ],
            [
             20
            ],
            [
             23
            ],
            [
             0
            ],
            [
             0
            ],
            [
             0
            ],
            [
             1
            ],
            [
             0
            ],
            [
             0
            ],
            [
             0
            ],
            [
             0
            ],
            [
             2
            ],
            [
             1
            ],
            [
             2
            ],
            [
             2
            ],
            [
             1
            ],
            [
             2
            ],
            [
             6
            ],
            [
             4
            ],
            [
             705
            ],
            [
             2
            ],
            [
             0
            ],
            [
             0
            ],
            [
             0
            ],
            [
             0
            ],
            [
             6
            ],
            [
             0
            ],
            [
             0
            ],
            [
             0
            ],
            [
             0
            ],
            [
             0
            ],
            [
             0
            ],
            [
             0
            ],
            [
             6
            ],
            [
             4
            ],
            [
             0
            ],
            [
             0
            ],
            [
             0
            ],
            [
             1
            ],
            [
             0
            ],
            [
             0
            ],
            [
             0
            ],
            [
             93
            ],
            [
             0
            ],
            [
             0
            ],
            [
             0
            ],
            [
             2337
            ],
            [
             32
            ],
            [
             2
            ],
            [
             0
            ],
            [
             7
            ],
            [
             8
            ],
            [
             0
            ],
            [
             34
            ],
            [
             0
            ],
            [
             41
            ],
            [
             0
            ],
            [
             0
            ],
            [
             0
            ],
            [
             20
            ],
            [
             90
            ],
            [
             0
            ],
            [
             19
            ],
            [
             0
            ],
            [
             0
            ],
            [
             0
            ],
            [
             32
            ],
            [
             0
            ]
           ],
           "geo": "geo",
           "hoverlabel": {
            "namelength": 0
           },
           "hovertemplate": "Date=2020-02-28 00:00:00<br>Log Confirmed=%{marker.size}<br>Confirmed=%{customdata[0]}<br>Country/Region=%{location}",
           "legendgroup": "",
           "locationmode": "country names",
           "locations": [
            " Azerbaijan",
            "Afghanistan",
            "Albania",
            "Algeria",
            "Andorra",
            "Argentina",
            "Armenia",
            "Australia",
            "Austria",
            "Azerbaijan",
            "Bahrain",
            "Bangladesh",
            "Belarus",
            "Belgium",
            "Bhutan",
            "Bolivia",
            "Bosnia and Herzegovina",
            "Brazil",
            "Brunei",
            "Bulgaria",
            "Burkina Faso",
            "Cambodia",
            "Cameroon",
            "Canada",
            "Channel Islands",
            "Chile",
            "China",
            "Colombia",
            "Congo (Kinshasa)",
            "Costa Rica",
            "Cote d'Ivoire",
            "Croatia",
            "Cruise Ship",
            "Cuba",
            "Cyprus",
            "Czech Republic",
            "Czechia",
            "Denmark",
            "Dominican Republic",
            "Ecuador",
            "Egypt",
            "Estonia",
            "Faroe Islands",
            "Finland",
            "France",
            "French Guiana",
            "Georgia",
            "Germany",
            "Gibraltar",
            "Greece",
            "Guyana",
            "Holy See",
            "Honduras",
            "Hong Kong",
            "Hong Kong SAR",
            "Hungary",
            "Iceland",
            "India",
            "Indonesia",
            "Iran",
            "Iran (Islamic Republic of)",
            "Iraq",
            "Ireland",
            "Israel",
            "Italy",
            "Jamaica",
            "Japan",
            "Jordan",
            "Korea, South",
            "Kuwait",
            "Latvia",
            "Lebanon",
            "Liechtenstein",
            "Lithuania",
            "Luxembourg",
            "Macao SAR",
            "Macau",
            "Malaysia",
            "Maldives",
            "Malta",
            "Martinique",
            "Mexico",
            "Moldova",
            "Monaco",
            "Mongolia",
            "Morocco",
            "Nepal",
            "Netherlands",
            "New Zealand",
            "Nigeria",
            "North Ireland",
            "North Macedonia",
            "Norway",
            "Oman",
            "Others",
            "Pakistan",
            "Palestine",
            "Panama",
            "Paraguay",
            "Peru",
            "Philippines",
            "Poland",
            "Portugal",
            "Qatar",
            "Republic of Ireland",
            "Republic of Korea",
            "Republic of Moldova",
            "Reunion",
            "Romania",
            "Russia",
            "Russian Federation",
            "Saint Barthelemy",
            "Saint Martin",
            "San Marino",
            "Saudi Arabia",
            "Senegal",
            "Serbia",
            "Singapore",
            "Slovakia",
            "Slovenia",
            "South Africa",
            "South Korea",
            "Spain",
            "Sri Lanka",
            "St. Martin",
            "Sweden",
            "Switzerland",
            "Taipei and environs",
            "Taiwan",
            "Taiwan*",
            "Thailand",
            "Togo",
            "Tunisia",
            "Turkey",
            "UK",
            "US",
            "Ukraine",
            "United Arab Emirates",
            "United Kingdom",
            "Vatican City",
            "Viet Nam",
            "Vietnam",
            "occupied Palestinian territory"
           ],
           "marker": {
            "color": "#636efa",
            "size": [
             0.3010299956639812,
             0.47712125471966244,
             0,
             0.47712125471966244,
             0,
             0,
             0,
             0.9542425094393249,
             0.6020599913279624,
             0,
             1.568201724066995,
             0,
             0.47712125471966244,
             0.3010299956639812,
             0,
             0,
             0,
             0.3010299956639812,
             0,
             0,
             0,
             0.47712125471966244,
             0,
             0.47712125471966244,
             0,
             0,
             4.893933670928024,
             0,
             0,
             0,
             0,
             0.7781512503836436,
             0,
             0,
             0,
             0,
             0,
             0.3010299956639812,
             0,
             0,
             0.3010299956639812,
             0.47712125471966244,
             0,
             0.47712125471966244,
             1.7634279935629373,
             0,
             0.3010299956639812,
             1.6901960800285136,
             0,
             0.6989700043360189,
             0,
             0,
             0,
             1.9777236052888478,
             0,
             0,
             0.3010299956639812,
             0.8450980400142568,
             0,
             2.5899496013257077,
             0,
             0.9030899869919435,
             0,
             0.6989700043360189,
             2.9489017609702137,
             0,
             2.359835482339888,
             0,
             0,
             1.9590413923210936,
             0,
             0.47712125471966244,
             0,
             0.47712125471966244,
             0,
             0,
             1.3222192947339193,
             1.380211241711606,
             0,
             0,
             0,
             0.3010299956639812,
             0,
             0,
             0,
             0,
             0.47712125471966244,
             0.3010299956639812,
             0.47712125471966244,
             0.47712125471966244,
             0.3010299956639812,
             0.47712125471966244,
             0.8450980400142568,
             0.6989700043360189,
             2.8488047010518036,
             0.47712125471966244,
             0,
             0,
             0,
             0,
             0.8450980400142568,
             0,
             0,
             0,
             0,
             0,
             0,
             0,
             0.8450980400142568,
             0.6989700043360189,
             0,
             0,
             0,
             0.3010299956639812,
             0,
             0,
             0,
             1.9731278535996986,
             0,
             0,
             0,
             3.3688445068258215,
             1.5185139398778875,
             0.47712125471966244,
             0,
             0.9030899869919435,
             0.9542425094393249,
             0,
             1.5440680443502757,
             0,
             1.6232492903979006,
             0,
             0,
             0,
             1.3222192947339193,
             1.9590413923210936,
             0,
             1.3010299956639813,
             0,
             0,
             0,
             1.5185139398778875,
             0
            ],
            "sizemode": "area",
            "sizeref": 0.012270166519720165
           },
           "name": "",
           "showlegend": false,
           "type": "scattergeo"
          }
         ],
         "name": "2020-02-28 00:00:00"
        },
        {
         "data": [
          {
           "customdata": [
            [
             1
            ],
            [
             2
            ],
            [
             0
            ],
            [
             2
            ],
            [
             0
            ],
            [
             0
            ],
            [
             0
            ],
            [
             40
            ],
            [
             9
            ],
            [
             0
            ],
            [
             41
            ],
            [
             0
            ],
            [
             2
            ],
            [
             1
            ],
            [
             0
            ],
            [
             0
            ],
            [
             0
            ],
            [
             4
            ],
            [
             0
            ],
            [
             0
            ],
            [
             0
            ],
            [
             2
            ],
            [
             0
            ],
            [
             26
            ],
            [
             0
            ],
            [
             0
            ],
            [
             79068
            ],
            [
             0
            ],
            [
             0
            ],
            [
             0
            ],
            [
             0
            ],
            [
             6
            ],
            [
             0
            ],
            [
             0
            ],
            [
             0
            ],
            [
             0
            ],
            [
             0
            ],
            [
             3
            ],
            [
             0
            ],
            [
             0
            ],
            [
             1
            ],
            [
             2
            ],
            [
             0
            ],
            [
             3
            ],
            [
             100
            ],
            [
             0
            ],
            [
             1
            ],
            [
             79
            ],
            [
             0
            ],
            [
             4
            ],
            [
             0
            ],
            [
             0
            ],
            [
             0
            ],
            [
             95
            ],
            [
             0
            ],
            [
             0
            ],
            [
             1
            ],
            [
             6
            ],
            [
             0
            ],
            [
             593
            ],
            [
             0
            ],
            [
             13
            ],
            [
             1
            ],
            [
             7
            ],
            [
             1128
            ],
            [
             0
            ],
            [
             241
            ],
            [
             0
            ],
            [
             0
            ],
            [
             90
            ],
            [
             0
            ],
            [
             4
            ],
            [
             0
            ],
            [
             2
            ],
            [
             1
            ],
            [
             0
            ],
            [
             20
            ],
            [
             25
            ],
            [
             0
            ],
            [
             0
            ],
            [
             0
            ],
            [
             4
            ],
            [
             0
            ],
            [
             2
            ],
            [
             0
            ],
            [
             0
            ],
            [
             2
            ],
            [
             6
            ],
            [
             2
            ],
            [
             2
            ],
            [
             1
            ],
            [
             2
            ],
            [
             15
            ],
            [
             12
            ],
            [
             1410
            ],
            [
             8
            ],
            [
             0
            ],
            [
             0
            ],
            [
             0
            ],
            [
             0
            ],
            [
             6
            ],
            [
             0
            ],
            [
             0
            ],
            [
             1
            ],
            [
             0
            ],
            [
             0
            ],
            [
             0
            ],
            [
             0
            ],
            [
             6
            ],
            [
             4
            ],
            [
             0
            ],
            [
             0
            ],
            [
             0
            ],
            [
             1
            ],
            [
             0
            ],
            [
             0
            ],
            [
             0
            ],
            [
             102
            ],
            [
             0
            ],
            [
             0
            ],
            [
             0
            ],
            [
             3150
            ],
            [
             45
            ],
            [
             2
            ],
            [
             0
            ],
            [
             12
            ],
            [
             18
            ],
            [
             0
            ],
            [
             39
            ],
            [
             0
            ],
            [
             42
            ],
            [
             0
            ],
            [
             0
            ],
            [
             0
            ],
            [
             23
            ],
            [
             15
            ],
            [
             0
            ],
            [
             42
            ],
            [
             0
            ],
            [
             0
            ],
            [
             0
            ],
            [
             32
            ],
            [
             0
            ]
           ],
           "geo": "geo",
           "hoverlabel": {
            "namelength": 0
           },
           "hovertemplate": "Date=2020-02-29 00:00:00<br>Log Confirmed=%{marker.size}<br>Confirmed=%{customdata[0]}<br>Country/Region=%{location}",
           "legendgroup": "",
           "locationmode": "country names",
           "locations": [
            " Azerbaijan",
            "Afghanistan",
            "Albania",
            "Algeria",
            "Andorra",
            "Argentina",
            "Armenia",
            "Australia",
            "Austria",
            "Azerbaijan",
            "Bahrain",
            "Bangladesh",
            "Belarus",
            "Belgium",
            "Bhutan",
            "Bolivia",
            "Bosnia and Herzegovina",
            "Brazil",
            "Brunei",
            "Bulgaria",
            "Burkina Faso",
            "Cambodia",
            "Cameroon",
            "Canada",
            "Channel Islands",
            "Chile",
            "China",
            "Colombia",
            "Congo (Kinshasa)",
            "Costa Rica",
            "Cote d'Ivoire",
            "Croatia",
            "Cruise Ship",
            "Cuba",
            "Cyprus",
            "Czech Republic",
            "Czechia",
            "Denmark",
            "Dominican Republic",
            "Ecuador",
            "Egypt",
            "Estonia",
            "Faroe Islands",
            "Finland",
            "France",
            "French Guiana",
            "Georgia",
            "Germany",
            "Gibraltar",
            "Greece",
            "Guyana",
            "Holy See",
            "Honduras",
            "Hong Kong",
            "Hong Kong SAR",
            "Hungary",
            "Iceland",
            "India",
            "Indonesia",
            "Iran",
            "Iran (Islamic Republic of)",
            "Iraq",
            "Ireland",
            "Israel",
            "Italy",
            "Jamaica",
            "Japan",
            "Jordan",
            "Korea, South",
            "Kuwait",
            "Latvia",
            "Lebanon",
            "Liechtenstein",
            "Lithuania",
            "Luxembourg",
            "Macao SAR",
            "Macau",
            "Malaysia",
            "Maldives",
            "Malta",
            "Martinique",
            "Mexico",
            "Moldova",
            "Monaco",
            "Mongolia",
            "Morocco",
            "Nepal",
            "Netherlands",
            "New Zealand",
            "Nigeria",
            "North Ireland",
            "North Macedonia",
            "Norway",
            "Oman",
            "Others",
            "Pakistan",
            "Palestine",
            "Panama",
            "Paraguay",
            "Peru",
            "Philippines",
            "Poland",
            "Portugal",
            "Qatar",
            "Republic of Ireland",
            "Republic of Korea",
            "Republic of Moldova",
            "Reunion",
            "Romania",
            "Russia",
            "Russian Federation",
            "Saint Barthelemy",
            "Saint Martin",
            "San Marino",
            "Saudi Arabia",
            "Senegal",
            "Serbia",
            "Singapore",
            "Slovakia",
            "Slovenia",
            "South Africa",
            "South Korea",
            "Spain",
            "Sri Lanka",
            "St. Martin",
            "Sweden",
            "Switzerland",
            "Taipei and environs",
            "Taiwan",
            "Taiwan*",
            "Thailand",
            "Togo",
            "Tunisia",
            "Turkey",
            "UK",
            "US",
            "Ukraine",
            "United Arab Emirates",
            "United Kingdom",
            "Vatican City",
            "Viet Nam",
            "Vietnam",
            "occupied Palestinian territory"
           ],
           "marker": {
            "color": "#636efa",
            "size": [
             0.3010299956639812,
             0.47712125471966244,
             0,
             0.47712125471966244,
             0,
             0,
             0,
             1.6127838567197355,
             1,
             0,
             1.6232492903979006,
             0,
             0.47712125471966244,
             0.3010299956639812,
             0,
             0,
             0,
             0.6989700043360189,
             0,
             0,
             0,
             0.47712125471966244,
             0,
             1.4313637641589874,
             0,
             0,
             4.8980062462310645,
             0,
             0,
             0,
             0,
             0.8450980400142568,
             0,
             0,
             0,
             0,
             0,
             0.6020599913279624,
             0,
             0,
             0.3010299956639812,
             0.47712125471966244,
             0,
             0.6020599913279624,
             2.0043213737826426,
             0,
             0.3010299956639812,
             1.9030899869919435,
             0,
             0.6989700043360189,
             0,
             0,
             0,
             1.9822712330395684,
             0,
             0,
             0.3010299956639812,
             0.8450980400142568,
             0,
             2.7737864449811935,
             0,
             1.146128035678238,
             0.3010299956639812,
             0.9030899869919435,
             3.052693941924968,
             0,
             2.383815365980431,
             0,
             0,
             1.9590413923210936,
             0,
             0.6989700043360189,
             0,
             0.47712125471966244,
             0.3010299956639812,
             0,
             1.3222192947339193,
             1.414973347970818,
             0,
             0,
             0,
             0.6989700043360189,
             0,
             0.47712125471966244,
             0,
             0,
             0.47712125471966244,
             0.8450980400142568,
             0.47712125471966244,
             0.47712125471966244,
             0.3010299956639812,
             0.47712125471966244,
             1.2041199826559248,
             1.1139433523068367,
             3.149527013754348,
             0.9542425094393249,
             0,
             0,
             0,
             0,
             0.8450980400142568,
             0,
             0,
             0.3010299956639812,
             0,
             0,
             0,
             0,
             0.8450980400142568,
             0.6989700043360189,
             0,
             0,
             0,
             0.3010299956639812,
             0,
             0,
             0,
             2.012837224705172,
             0,
             0,
             0,
             3.4984484031739997,
             1.662757831681574,
             0.47712125471966244,
             0,
             1.1139433523068367,
             1.2787536009528289,
             0,
             1.6020599913279623,
             0,
             1.6334684555795864,
             0,
             0,
             0,
             1.380211241711606,
             1.2041199826559248,
             0,
             1.6334684555795864,
             0,
             0,
             0,
             1.5185139398778875,
             0
            ],
            "sizemode": "area",
            "sizeref": 0.012270166519720165
           },
           "name": "",
           "showlegend": false,
           "type": "scattergeo"
          }
         ],
         "name": "2020-02-29 00:00:00"
        },
        {
         "data": [
          {
           "customdata": [
            [
             1
            ],
            [
             2
            ],
            [
             0
            ],
            [
             2
            ],
            [
             0
            ],
            [
             0
            ],
            [
             1
            ],
            [
             8
            ],
            [
             14
            ],
            [
             3
            ],
            [
             47
            ],
            [
             0
            ],
            [
             2
            ],
            [
             2
            ],
            [
             0
            ],
            [
             0
            ],
            [
             0
            ],
            [
             4
            ],
            [
             0
            ],
            [
             0
            ],
            [
             0
            ],
            [
             2
            ],
            [
             0
            ],
            [
             14
            ],
            [
             0
            ],
            [
             0
            ],
            [
             79588
            ],
            [
             0
            ],
            [
             0
            ],
            [
             0
            ],
            [
             0
            ],
            [
             7
            ],
            [
             0
            ],
            [
             0
            ],
            [
             0
            ],
            [
             3
            ],
            [
             0
            ],
            [
             4
            ],
            [
             1
            ],
            [
             6
            ],
            [
             2
            ],
            [
             2
            ],
            [
             0
            ],
            [
             6
            ],
            [
             130
            ],
            [
             0
            ],
            [
             3
            ],
            [
             130
            ],
            [
             0
            ],
            [
             7
            ],
            [
             0
            ],
            [
             0
            ],
            [
             0
            ],
            [
             96
            ],
            [
             0
            ],
            [
             0
            ],
            [
             3
            ],
            [
             6
            ],
            [
             0
            ],
            [
             978
            ],
            [
             0
            ],
            [
             19
            ],
            [
             1
            ],
            [
             10
            ],
            [
             1694
            ],
            [
             0
            ],
            [
             256
            ],
            [
             0
            ],
            [
             0
            ],
            [
             90
            ],
            [
             0
            ],
            [
             10
            ],
            [
             0
            ],
            [
             2
            ],
            [
             1
            ],
            [
             0
            ],
            [
             20
            ],
            [
             29
            ],
            [
             0
            ],
            [
             0
            ],
            [
             0
            ],
            [
             5
            ],
            [
             0
            ],
            [
             2
            ],
            [
             0
            ],
            [
             0
            ],
            [
             2
            ],
            [
             10
            ],
            [
             2
            ],
            [
             2
            ],
            [
             1
            ],
            [
             2
            ],
            [
             19
            ],
            [
             12
            ],
            [
             1410
            ],
            [
             8
            ],
            [
             0
            ],
            [
             0
            ],
            [
             0
            ],
            [
             0
            ],
            [
             6
            ],
            [
             0
            ],
            [
             0
            ],
            [
             3
            ],
            [
             0
            ],
            [
             0
            ],
            [
             0
            ],
            [
             0
            ],
            [
             6
            ],
            [
             4
            ],
            [
             0
            ],
            [
             0
            ],
            [
             0
            ],
            [
             1
            ],
            [
             0
            ],
            [
             0
            ],
            [
             0
            ],
            [
             106
            ],
            [
             0
            ],
            [
             0
            ],
            [
             0
            ],
            [
             3736
            ],
            [
             84
            ],
            [
             2
            ],
            [
             0
            ],
            [
             14
            ],
            [
             27
            ],
            [
             0
            ],
            [
             40
            ],
            [
             0
            ],
            [
             42
            ],
            [
             0
            ],
            [
             0
            ],
            [
             0
            ],
            [
             36
            ],
            [
             15
            ],
            [
             0
            ],
            [
             42
            ],
            [
             0
            ],
            [
             0
            ],
            [
             0
            ],
            [
             32
            ],
            [
             0
            ]
           ],
           "geo": "geo",
           "hoverlabel": {
            "namelength": 0
           },
           "hovertemplate": "Date=2020-03-01 00:00:00<br>Log Confirmed=%{marker.size}<br>Confirmed=%{customdata[0]}<br>Country/Region=%{location}",
           "legendgroup": "",
           "locationmode": "country names",
           "locations": [
            " Azerbaijan",
            "Afghanistan",
            "Albania",
            "Algeria",
            "Andorra",
            "Argentina",
            "Armenia",
            "Australia",
            "Austria",
            "Azerbaijan",
            "Bahrain",
            "Bangladesh",
            "Belarus",
            "Belgium",
            "Bhutan",
            "Bolivia",
            "Bosnia and Herzegovina",
            "Brazil",
            "Brunei",
            "Bulgaria",
            "Burkina Faso",
            "Cambodia",
            "Cameroon",
            "Canada",
            "Channel Islands",
            "Chile",
            "China",
            "Colombia",
            "Congo (Kinshasa)",
            "Costa Rica",
            "Cote d'Ivoire",
            "Croatia",
            "Cruise Ship",
            "Cuba",
            "Cyprus",
            "Czech Republic",
            "Czechia",
            "Denmark",
            "Dominican Republic",
            "Ecuador",
            "Egypt",
            "Estonia",
            "Faroe Islands",
            "Finland",
            "France",
            "French Guiana",
            "Georgia",
            "Germany",
            "Gibraltar",
            "Greece",
            "Guyana",
            "Holy See",
            "Honduras",
            "Hong Kong",
            "Hong Kong SAR",
            "Hungary",
            "Iceland",
            "India",
            "Indonesia",
            "Iran",
            "Iran (Islamic Republic of)",
            "Iraq",
            "Ireland",
            "Israel",
            "Italy",
            "Jamaica",
            "Japan",
            "Jordan",
            "Korea, South",
            "Kuwait",
            "Latvia",
            "Lebanon",
            "Liechtenstein",
            "Lithuania",
            "Luxembourg",
            "Macao SAR",
            "Macau",
            "Malaysia",
            "Maldives",
            "Malta",
            "Martinique",
            "Mexico",
            "Moldova",
            "Monaco",
            "Mongolia",
            "Morocco",
            "Nepal",
            "Netherlands",
            "New Zealand",
            "Nigeria",
            "North Ireland",
            "North Macedonia",
            "Norway",
            "Oman",
            "Others",
            "Pakistan",
            "Palestine",
            "Panama",
            "Paraguay",
            "Peru",
            "Philippines",
            "Poland",
            "Portugal",
            "Qatar",
            "Republic of Ireland",
            "Republic of Korea",
            "Republic of Moldova",
            "Reunion",
            "Romania",
            "Russia",
            "Russian Federation",
            "Saint Barthelemy",
            "Saint Martin",
            "San Marino",
            "Saudi Arabia",
            "Senegal",
            "Serbia",
            "Singapore",
            "Slovakia",
            "Slovenia",
            "South Africa",
            "South Korea",
            "Spain",
            "Sri Lanka",
            "St. Martin",
            "Sweden",
            "Switzerland",
            "Taipei and environs",
            "Taiwan",
            "Taiwan*",
            "Thailand",
            "Togo",
            "Tunisia",
            "Turkey",
            "UK",
            "US",
            "Ukraine",
            "United Arab Emirates",
            "United Kingdom",
            "Vatican City",
            "Viet Nam",
            "Vietnam",
            "occupied Palestinian territory"
           ],
           "marker": {
            "color": "#636efa",
            "size": [
             0.3010299956639812,
             0.47712125471966244,
             0,
             0.47712125471966244,
             0,
             0,
             0.3010299956639812,
             0.9542425094393249,
             1.1760912590556813,
             0.6020599913279624,
             1.6812412373755872,
             0,
             0.47712125471966244,
             0.47712125471966244,
             0,
             0,
             0,
             0.6989700043360189,
             0,
             0,
             0,
             0.47712125471966244,
             0,
             1.1760912590556813,
             0,
             0,
             4.900853048021375,
             0,
             0,
             0,
             0,
             0.9030899869919435,
             0,
             0,
             0,
             0.6020599913279624,
             0,
             0.6989700043360189,
             0.3010299956639812,
             0.8450980400142568,
             0.47712125471966244,
             0.47712125471966244,
             0,
             0.8450980400142568,
             2.1172712956557644,
             0,
             0.6020599913279624,
             2.1172712956557644,
             0,
             0.9030899869919435,
             0,
             0,
             0,
             1.9867717342662448,
             0,
             0,
             0.6020599913279624,
             0.8450980400142568,
             0,
             2.9907826918031377,
             0,
             1.3010299956639813,
             0.3010299956639812,
             1.0413926851582251,
             3.229169702539101,
             0,
             2.4099331233312946,
             0,
             0,
             1.9590413923210936,
             0,
             1.0413926851582251,
             0,
             0.47712125471966244,
             0.3010299956639812,
             0,
             1.3222192947339193,
             1.4771212547196624,
             0,
             0,
             0,
             0.7781512503836436,
             0,
             0.47712125471966244,
             0,
             0,
             0.47712125471966244,
             1.0413926851582251,
             0.47712125471966244,
             0.47712125471966244,
             0.3010299956639812,
             0.47712125471966244,
             1.3010299956639813,
             1.1139433523068367,
             3.149527013754348,
             0.9542425094393249,
             0,
             0,
             0,
             0,
             0.8450980400142568,
             0,
             0,
             0.6020599913279624,
             0,
             0,
             0,
             0,
             0.8450980400142568,
             0.6989700043360189,
             0,
             0,
             0,
             0.3010299956639812,
             0,
             0,
             0,
             2.0293837776852097,
             0,
             0,
             0,
             3.5725230978496376,
             1.9294189257142926,
             0.47712125471966244,
             0,
             1.1760912590556813,
             1.4471580313422192,
             0,
             1.6127838567197355,
             0,
             1.6334684555795864,
             0,
             0,
             0,
             1.568201724066995,
             1.2041199826559248,
             0,
             1.6334684555795864,
             0,
             0,
             0,
             1.5185139398778875,
             0
            ],
            "sizemode": "area",
            "sizeref": 0.012270166519720165
           },
           "name": "",
           "showlegend": false,
           "type": "scattergeo"
          }
         ],
         "name": "2020-03-01 00:00:00"
        },
        {
         "data": [
          {
           "customdata": [
            [
             1
            ],
            [
             2
            ],
            [
             0
            ],
            [
             3
            ],
            [
             1
            ],
            [
             0
            ],
            [
             1
            ],
            [
             10
            ],
            [
             18
            ],
            [
             3
            ],
            [
             49
            ],
            [
             0
            ],
            [
             2
            ],
            [
             8
            ],
            [
             0
            ],
            [
             0
            ],
            [
             0
            ],
            [
             4
            ],
            [
             0
            ],
            [
             0
            ],
            [
             0
            ],
            [
             2
            ],
            [
             0
            ],
            [
             17
            ],
            [
             0
            ],
            [
             0
            ],
            [
             79749
            ],
            [
             0
            ],
            [
             0
            ],
            [
             0
            ],
            [
             0
            ],
            [
             7
            ],
            [
             0
            ],
            [
             0
            ],
            [
             0
            ],
            [
             3
            ],
            [
             0
            ],
            [
             4
            ],
            [
             1
            ],
            [
             6
            ],
            [
             2
            ],
            [
             2
            ],
            [
             0
            ],
            [
             6
            ],
            [
             191
            ],
            [
             0
            ],
            [
             3
            ],
            [
             159
            ],
            [
             0
            ],
            [
             7
            ],
            [
             0
            ],
            [
             0
            ],
            [
             0
            ],
            [
             100
            ],
            [
             0
            ],
            [
             0
            ],
            [
             6
            ],
            [
             5
            ],
            [
             2
            ],
            [
             1501
            ],
            [
             0
            ],
            [
             26
            ],
            [
             1
            ],
            [
             10
            ],
            [
             2036
            ],
            [
             0
            ],
            [
             274
            ],
            [
             0
            ],
            [
             0
            ],
            [
             56
            ],
            [
             1
            ],
            [
             13
            ],
            [
             0
            ],
            [
             2
            ],
            [
             1
            ],
            [
             0
            ],
            [
             20
            ],
            [
             29
            ],
            [
             0
            ],
            [
             0
            ],
            [
             0
            ],
            [
             5
            ],
            [
             0
            ],
            [
             2
            ],
            [
             0
            ],
            [
             1
            ],
            [
             2
            ],
            [
             18
            ],
            [
             2
            ],
            [
             2
            ],
            [
             1
            ],
            [
             2
            ],
            [
             25
            ],
            [
             12
            ],
            [
             705
            ],
            [
             8
            ],
            [
             0
            ],
            [
             0
            ],
            [
             0
            ],
            [
             0
            ],
            [
             6
            ],
            [
             0
            ],
            [
             2
            ],
            [
             3
            ],
            [
             0
            ],
            [
             0
            ],
            [
             0
            ],
            [
             0
            ],
            [
             6
            ],
            [
             3
            ],
            [
             0
            ],
            [
             0
            ],
            [
             0
            ],
            [
             8
            ],
            [
             1
            ],
            [
             1
            ],
            [
             0
            ],
            [
             108
            ],
            [
             0
            ],
            [
             0
            ],
            [
             0
            ],
            [
             4335
            ],
            [
             120
            ],
            [
             2
            ],
            [
             0
            ],
            [
             15
            ],
            [
             42
            ],
            [
             0
            ],
            [
             41
            ],
            [
             0
            ],
            [
             43
            ],
            [
             0
            ],
            [
             0
            ],
            [
             0
            ],
            [
             40
            ],
            [
             88
            ],
            [
             0
            ],
            [
             42
            ],
            [
             0
            ],
            [
             0
            ],
            [
             0
            ],
            [
             32
            ],
            [
             0
            ]
           ],
           "geo": "geo",
           "hoverlabel": {
            "namelength": 0
           },
           "hovertemplate": "Date=2020-03-02 00:00:00<br>Log Confirmed=%{marker.size}<br>Confirmed=%{customdata[0]}<br>Country/Region=%{location}",
           "legendgroup": "",
           "locationmode": "country names",
           "locations": [
            " Azerbaijan",
            "Afghanistan",
            "Albania",
            "Algeria",
            "Andorra",
            "Argentina",
            "Armenia",
            "Australia",
            "Austria",
            "Azerbaijan",
            "Bahrain",
            "Bangladesh",
            "Belarus",
            "Belgium",
            "Bhutan",
            "Bolivia",
            "Bosnia and Herzegovina",
            "Brazil",
            "Brunei",
            "Bulgaria",
            "Burkina Faso",
            "Cambodia",
            "Cameroon",
            "Canada",
            "Channel Islands",
            "Chile",
            "China",
            "Colombia",
            "Congo (Kinshasa)",
            "Costa Rica",
            "Cote d'Ivoire",
            "Croatia",
            "Cruise Ship",
            "Cuba",
            "Cyprus",
            "Czech Republic",
            "Czechia",
            "Denmark",
            "Dominican Republic",
            "Ecuador",
            "Egypt",
            "Estonia",
            "Faroe Islands",
            "Finland",
            "France",
            "French Guiana",
            "Georgia",
            "Germany",
            "Gibraltar",
            "Greece",
            "Guyana",
            "Holy See",
            "Honduras",
            "Hong Kong",
            "Hong Kong SAR",
            "Hungary",
            "Iceland",
            "India",
            "Indonesia",
            "Iran",
            "Iran (Islamic Republic of)",
            "Iraq",
            "Ireland",
            "Israel",
            "Italy",
            "Jamaica",
            "Japan",
            "Jordan",
            "Korea, South",
            "Kuwait",
            "Latvia",
            "Lebanon",
            "Liechtenstein",
            "Lithuania",
            "Luxembourg",
            "Macao SAR",
            "Macau",
            "Malaysia",
            "Maldives",
            "Malta",
            "Martinique",
            "Mexico",
            "Moldova",
            "Monaco",
            "Mongolia",
            "Morocco",
            "Nepal",
            "Netherlands",
            "New Zealand",
            "Nigeria",
            "North Ireland",
            "North Macedonia",
            "Norway",
            "Oman",
            "Others",
            "Pakistan",
            "Palestine",
            "Panama",
            "Paraguay",
            "Peru",
            "Philippines",
            "Poland",
            "Portugal",
            "Qatar",
            "Republic of Ireland",
            "Republic of Korea",
            "Republic of Moldova",
            "Reunion",
            "Romania",
            "Russia",
            "Russian Federation",
            "Saint Barthelemy",
            "Saint Martin",
            "San Marino",
            "Saudi Arabia",
            "Senegal",
            "Serbia",
            "Singapore",
            "Slovakia",
            "Slovenia",
            "South Africa",
            "South Korea",
            "Spain",
            "Sri Lanka",
            "St. Martin",
            "Sweden",
            "Switzerland",
            "Taipei and environs",
            "Taiwan",
            "Taiwan*",
            "Thailand",
            "Togo",
            "Tunisia",
            "Turkey",
            "UK",
            "US",
            "Ukraine",
            "United Arab Emirates",
            "United Kingdom",
            "Vatican City",
            "Viet Nam",
            "Vietnam",
            "occupied Palestinian territory"
           ],
           "marker": {
            "color": "#636efa",
            "size": [
             0.3010299956639812,
             0.47712125471966244,
             0,
             0.6020599913279624,
             0.3010299956639812,
             0,
             0.3010299956639812,
             1.0413926851582251,
             1.2787536009528289,
             0.6020599913279624,
             1.6989700043360187,
             0,
             0.47712125471966244,
             0.9542425094393249,
             0,
             0,
             0,
             0.6989700043360189,
             0,
             0,
             0,
             0.47712125471966244,
             0,
             1.255272505103306,
             0,
             0,
             4.9017306917292185,
             0,
             0,
             0,
             0,
             0.9030899869919435,
             0,
             0,
             0,
             0.6020599913279624,
             0,
             0.6989700043360189,
             0.3010299956639812,
             0.8450980400142568,
             0.47712125471966244,
             0.47712125471966244,
             0,
             0.8450980400142568,
             2.2833012287035497,
             0,
             0.6020599913279624,
             2.2041199826559246,
             0,
             0.9030899869919435,
             0,
             0,
             0,
             2.0043213737826426,
             0,
             0,
             0.8450980400142568,
             0.7781512503836436,
             0.47712125471966244,
             3.17666993266815,
             0,
             1.4313637641589874,
             0.3010299956639812,
             1.0413926851582251,
             3.3089910290001643,
             0,
             2.439332693830263,
             0,
             0,
             1.7558748556724915,
             0.3010299956639812,
             1.146128035678238,
             0,
             0.47712125471966244,
             0.3010299956639812,
             0,
             1.3222192947339193,
             1.4771212547196624,
             0,
             0,
             0,
             0.7781512503836436,
             0,
             0.47712125471966244,
             0,
             0.3010299956639812,
             0.47712125471966244,
             1.2787536009528289,
             0.47712125471966244,
             0.47712125471966244,
             0.3010299956639812,
             0.47712125471966244,
             1.414973347970818,
             1.1139433523068367,
             2.8488047010518036,
             0.9542425094393249,
             0,
             0,
             0,
             0,
             0.8450980400142568,
             0,
             0.47712125471966244,
             0.6020599913279624,
             0,
             0,
             0,
             0,
             0.8450980400142568,
             0.6020599913279624,
             0,
             0,
             0,
             0.9542425094393249,
             0.3010299956639812,
             0.3010299956639812,
             0,
             2.037426497940624,
             0,
             0,
             0,
             3.6370892735303304,
             2.0827853703164503,
             0.47712125471966244,
             0,
             1.2041199826559248,
             1.6334684555795864,
             0,
             1.6232492903979006,
             0,
             1.6434526764861874,
             0,
             0,
             0,
             1.6127838567197355,
             1.9493900066449128,
             0,
             1.6334684555795864,
             0,
             0,
             0,
             1.5185139398778875,
             0
            ],
            "sizemode": "area",
            "sizeref": 0.012270166519720165
           },
           "name": "",
           "showlegend": false,
           "type": "scattergeo"
          }
         ],
         "name": "2020-03-02 00:00:00"
        },
        {
         "data": [
          {
           "customdata": [
            [
             1
            ],
            [
             2
            ],
            [
             0
            ],
            [
             5
            ],
            [
             1
            ],
            [
             1
            ],
            [
             1
            ],
            [
             24
            ],
            [
             21
            ],
            [
             3
            ],
            [
             49
            ],
            [
             0
            ],
            [
             2
            ],
            [
             13
            ],
            [
             0
            ],
            [
             0
            ],
            [
             0
            ],
            [
             4
            ],
            [
             0
            ],
            [
             0
            ],
            [
             0
            ],
            [
             2
            ],
            [
             0
            ],
            [
             28
            ],
            [
             0
            ],
            [
             1
            ],
            [
             79574
            ],
            [
             0
            ],
            [
             0
            ],
            [
             0
            ],
            [
             0
            ],
            [
             9
            ],
            [
             0
            ],
            [
             0
            ],
            [
             0
            ],
            [
             5
            ],
            [
             0
            ],
            [
             6
            ],
            [
             1
            ],
            [
             7
            ],
            [
             2
            ],
            [
             2
            ],
            [
             0
            ],
            [
             6
            ],
            [
             204
            ],
            [
             0
            ],
            [
             3
            ],
            [
             196
            ],
            [
             0
            ],
            [
             7
            ],
            [
             0
            ],
            [
             0
            ],
            [
             0
            ],
            [
             100
            ],
            [
             0
            ],
            [
             0
            ],
            [
             11
            ],
            [
             5
            ],
            [
             2
            ],
            [
             2336
            ],
            [
             0
            ],
            [
             32
            ],
            [
             2
            ],
            [
             12
            ],
            [
             2502
            ],
            [
             0
            ],
            [
             293
            ],
            [
             1
            ],
            [
             0
            ],
            [
             56
            ],
            [
             1
            ],
            [
             13
            ],
            [
             0
            ],
            [
             2
            ],
            [
             1
            ],
            [
             0
            ],
            [
             10
            ],
            [
             36
            ],
            [
             0
            ],
            [
             0
            ],
            [
             0
            ],
            [
             5
            ],
            [
             0
            ],
            [
             2
            ],
            [
             0
            ],
            [
             1
            ],
            [
             2
            ],
            [
             24
            ],
            [
             2
            ],
            [
             2
            ],
            [
             1
            ],
            [
             2
            ],
            [
             32
            ],
            [
             12
            ],
            [
             706
            ],
            [
             5
            ],
            [
             0
            ],
            [
             0
            ],
            [
             0
            ],
            [
             0
            ],
            [
             6
            ],
            [
             0
            ],
            [
             2
            ],
            [
             7
            ],
            [
             0
            ],
            [
             0
            ],
            [
             0
            ],
            [
             0
            ],
            [
             3
            ],
            [
             3
            ],
            [
             0
            ],
            [
             0
            ],
            [
             0
            ],
            [
             10
            ],
            [
             1
            ],
            [
             2
            ],
            [
             0
            ],
            [
             110
            ],
            [
             0
            ],
            [
             0
            ],
            [
             0
            ],
            [
             5186
            ],
            [
             165
            ],
            [
             2
            ],
            [
             0
            ],
            [
             21
            ],
            [
             56
            ],
            [
             0
            ],
            [
             42
            ],
            [
             0
            ],
            [
             43
            ],
            [
             0
            ],
            [
             0
            ],
            [
             0
            ],
            [
             51
            ],
            [
             54
            ],
            [
             1
            ],
            [
             27
            ],
            [
             0
            ],
            [
             0
            ],
            [
             0
            ],
            [
             32
            ],
            [
             0
            ]
           ],
           "geo": "geo",
           "hoverlabel": {
            "namelength": 0
           },
           "hovertemplate": "Date=2020-03-03 00:00:00<br>Log Confirmed=%{marker.size}<br>Confirmed=%{customdata[0]}<br>Country/Region=%{location}",
           "legendgroup": "",
           "locationmode": "country names",
           "locations": [
            " Azerbaijan",
            "Afghanistan",
            "Albania",
            "Algeria",
            "Andorra",
            "Argentina",
            "Armenia",
            "Australia",
            "Austria",
            "Azerbaijan",
            "Bahrain",
            "Bangladesh",
            "Belarus",
            "Belgium",
            "Bhutan",
            "Bolivia",
            "Bosnia and Herzegovina",
            "Brazil",
            "Brunei",
            "Bulgaria",
            "Burkina Faso",
            "Cambodia",
            "Cameroon",
            "Canada",
            "Channel Islands",
            "Chile",
            "China",
            "Colombia",
            "Congo (Kinshasa)",
            "Costa Rica",
            "Cote d'Ivoire",
            "Croatia",
            "Cruise Ship",
            "Cuba",
            "Cyprus",
            "Czech Republic",
            "Czechia",
            "Denmark",
            "Dominican Republic",
            "Ecuador",
            "Egypt",
            "Estonia",
            "Faroe Islands",
            "Finland",
            "France",
            "French Guiana",
            "Georgia",
            "Germany",
            "Gibraltar",
            "Greece",
            "Guyana",
            "Holy See",
            "Honduras",
            "Hong Kong",
            "Hong Kong SAR",
            "Hungary",
            "Iceland",
            "India",
            "Indonesia",
            "Iran",
            "Iran (Islamic Republic of)",
            "Iraq",
            "Ireland",
            "Israel",
            "Italy",
            "Jamaica",
            "Japan",
            "Jordan",
            "Korea, South",
            "Kuwait",
            "Latvia",
            "Lebanon",
            "Liechtenstein",
            "Lithuania",
            "Luxembourg",
            "Macao SAR",
            "Macau",
            "Malaysia",
            "Maldives",
            "Malta",
            "Martinique",
            "Mexico",
            "Moldova",
            "Monaco",
            "Mongolia",
            "Morocco",
            "Nepal",
            "Netherlands",
            "New Zealand",
            "Nigeria",
            "North Ireland",
            "North Macedonia",
            "Norway",
            "Oman",
            "Others",
            "Pakistan",
            "Palestine",
            "Panama",
            "Paraguay",
            "Peru",
            "Philippines",
            "Poland",
            "Portugal",
            "Qatar",
            "Republic of Ireland",
            "Republic of Korea",
            "Republic of Moldova",
            "Reunion",
            "Romania",
            "Russia",
            "Russian Federation",
            "Saint Barthelemy",
            "Saint Martin",
            "San Marino",
            "Saudi Arabia",
            "Senegal",
            "Serbia",
            "Singapore",
            "Slovakia",
            "Slovenia",
            "South Africa",
            "South Korea",
            "Spain",
            "Sri Lanka",
            "St. Martin",
            "Sweden",
            "Switzerland",
            "Taipei and environs",
            "Taiwan",
            "Taiwan*",
            "Thailand",
            "Togo",
            "Tunisia",
            "Turkey",
            "UK",
            "US",
            "Ukraine",
            "United Arab Emirates",
            "United Kingdom",
            "Vatican City",
            "Viet Nam",
            "Vietnam",
            "occupied Palestinian territory"
           ],
           "marker": {
            "color": "#636efa",
            "size": [
             0.3010299956639812,
             0.47712125471966244,
             0,
             0.7781512503836436,
             0.3010299956639812,
             0.3010299956639812,
             0.3010299956639812,
             1.3979400086720377,
             1.3424226808222062,
             0.6020599913279624,
             1.6989700043360187,
             0,
             0.47712125471966244,
             1.146128035678238,
             0,
             0,
             0,
             0.6989700043360189,
             0,
             0,
             0,
             0.47712125471966244,
             0,
             1.462397997898956,
             0,
             0.3010299956639812,
             4.900776647293041,
             0,
             0,
             0,
             0,
             1,
             0,
             0,
             0,
             0.7781512503836436,
             0,
             0.8450980400142568,
             0.3010299956639812,
             0.9030899869919435,
             0.47712125471966244,
             0.47712125471966244,
             0,
             0.8450980400142568,
             2.311753861055754,
             0,
             0.6020599913279624,
             2.294466226161593,
             0,
             0.9030899869919435,
             0,
             0,
             0,
             2.0043213737826426,
             0,
             0,
             1.0791812460476249,
             0.7781512503836436,
             0.47712125471966244,
             3.368658712392227,
             0,
             1.5185139398778875,
             0.47712125471966244,
             1.1139433523068367,
             3.3984608496082234,
             0,
             2.4683473304121573,
             0.3010299956639812,
             0,
             1.7558748556724915,
             0.3010299956639812,
             1.146128035678238,
             0,
             0.47712125471966244,
             0.3010299956639812,
             0,
             1.0413926851582251,
             1.568201724066995,
             0,
             0,
             0,
             0.7781512503836436,
             0,
             0.47712125471966244,
             0,
             0.3010299956639812,
             0.47712125471966244,
             1.3979400086720377,
             0.47712125471966244,
             0.47712125471966244,
             0.3010299956639812,
             0.47712125471966244,
             1.5185139398778875,
             1.1139433523068367,
             2.8494194137968996,
             0.7781512503836436,
             0,
             0,
             0,
             0,
             0.8450980400142568,
             0,
             0.47712125471966244,
             0.9030899869919435,
             0,
             0,
             0,
             0,
             0.6020599913279624,
             0.6020599913279624,
             0,
             0,
             0,
             1.0413926851582251,
             0.3010299956639812,
             0.47712125471966244,
             0,
             2.0453229787866576,
             0,
             0,
             0,
             3.714916247993585,
             2.220108088040055,
             0.47712125471966244,
             0,
             1.3424226808222062,
             1.7558748556724915,
             0,
             1.6334684555795864,
             0,
             1.6434526764861874,
             0,
             0,
             0,
             1.7160033436347992,
             1.7403626894942439,
             0.3010299956639812,
             1.4471580313422192,
             0,
             0,
             0,
             1.5185139398778875,
             0
            ],
            "sizemode": "area",
            "sizeref": 0.012270166519720165
           },
           "name": "",
           "showlegend": false,
           "type": "scattergeo"
          }
         ],
         "name": "2020-03-03 00:00:00"
        },
        {
         "data": [
          {
           "customdata": [
            [
             1
            ],
            [
             2
            ],
            [
             0
            ],
            [
             12
            ],
            [
             1
            ],
            [
             1
            ],
            [
             1
            ],
            [
             38
            ],
            [
             29
            ],
            [
             3
            ],
            [
             52
            ],
            [
             0
            ],
            [
             6
            ],
            [
             23
            ],
            [
             0
            ],
            [
             0
            ],
            [
             0
            ],
            [
             4
            ],
            [
             0
            ],
            [
             0
            ],
            [
             0
            ],
            [
             2
            ],
            [
             0
            ],
            [
             12
            ],
            [
             0
            ],
            [
             1
            ],
            [
             79538
            ],
            [
             0
            ],
            [
             0
            ],
            [
             0
            ],
            [
             0
            ],
            [
             10
            ],
            [
             0
            ],
            [
             0
            ],
            [
             0
            ],
            [
             8
            ],
            [
             0
            ],
            [
             10
            ],
            [
             1
            ],
            [
             10
            ],
            [
             2
            ],
            [
             2
            ],
            [
             1
            ],
            [
             6
            ],
            [
             285
            ],
            [
             0
            ],
            [
             3
            ],
            [
             262
            ],
            [
             1
            ],
            [
             9
            ],
            [
             0
            ],
            [
             0
            ],
            [
             0
            ],
            [
             105
            ],
            [
             0
            ],
            [
             2
            ],
            [
             26
            ],
            [
             28
            ],
            [
             2
            ],
            [
             2922
            ],
            [
             0
            ],
            [
             35
            ],
            [
             6
            ],
            [
             15
            ],
            [
             3089
            ],
            [
             0
            ],
            [
             331
            ],
            [
             1
            ],
            [
             0
            ],
            [
             56
            ],
            [
             1
            ],
            [
             13
            ],
            [
             1
            ],
            [
             2
            ],
            [
             1
            ],
            [
             0
            ],
            [
             10
            ],
            [
             50
            ],
            [
             0
            ],
            [
             0
            ],
            [
             0
            ],
            [
             5
            ],
            [
             0
            ],
            [
             2
            ],
            [
             0
            ],
            [
             1
            ],
            [
             2
            ],
            [
             38
            ],
            [
             3
            ],
            [
             2
            ],
            [
             1
            ],
            [
             2
            ],
            [
             56
            ],
            [
             15
            ],
            [
             706
            ],
            [
             5
            ],
            [
             0
            ],
            [
             0
            ],
            [
             0
            ],
            [
             0
            ],
            [
             6
            ],
            [
             1
            ],
            [
             5
            ],
            [
             8
            ],
            [
             0
            ],
            [
             0
            ],
            [
             0
            ],
            [
             0
            ],
            [
             4
            ],
            [
             3
            ],
            [
             0
            ],
            [
             3
            ],
            [
             0
            ],
            [
             16
            ],
            [
             1
            ],
            [
             4
            ],
            [
             0
            ],
            [
             110
            ],
            [
             0
            ],
            [
             0
            ],
            [
             0
            ],
            [
             5621
            ],
            [
             222
            ],
            [
             2
            ],
            [
             0
            ],
            [
             35
            ],
            [
             90
            ],
            [
             0
            ],
            [
             42
            ],
            [
             0
            ],
            [
             43
            ],
            [
             0
            ],
            [
             1
            ],
            [
             0
            ],
            [
             85
            ],
            [
             62
            ],
            [
             1
            ],
            [
             27
            ],
            [
             0
            ],
            [
             0
            ],
            [
             0
            ],
            [
             32
            ],
            [
             0
            ]
           ],
           "geo": "geo",
           "hoverlabel": {
            "namelength": 0
           },
           "hovertemplate": "Date=2020-03-04 00:00:00<br>Log Confirmed=%{marker.size}<br>Confirmed=%{customdata[0]}<br>Country/Region=%{location}",
           "legendgroup": "",
           "locationmode": "country names",
           "locations": [
            " Azerbaijan",
            "Afghanistan",
            "Albania",
            "Algeria",
            "Andorra",
            "Argentina",
            "Armenia",
            "Australia",
            "Austria",
            "Azerbaijan",
            "Bahrain",
            "Bangladesh",
            "Belarus",
            "Belgium",
            "Bhutan",
            "Bolivia",
            "Bosnia and Herzegovina",
            "Brazil",
            "Brunei",
            "Bulgaria",
            "Burkina Faso",
            "Cambodia",
            "Cameroon",
            "Canada",
            "Channel Islands",
            "Chile",
            "China",
            "Colombia",
            "Congo (Kinshasa)",
            "Costa Rica",
            "Cote d'Ivoire",
            "Croatia",
            "Cruise Ship",
            "Cuba",
            "Cyprus",
            "Czech Republic",
            "Czechia",
            "Denmark",
            "Dominican Republic",
            "Ecuador",
            "Egypt",
            "Estonia",
            "Faroe Islands",
            "Finland",
            "France",
            "French Guiana",
            "Georgia",
            "Germany",
            "Gibraltar",
            "Greece",
            "Guyana",
            "Holy See",
            "Honduras",
            "Hong Kong",
            "Hong Kong SAR",
            "Hungary",
            "Iceland",
            "India",
            "Indonesia",
            "Iran",
            "Iran (Islamic Republic of)",
            "Iraq",
            "Ireland",
            "Israel",
            "Italy",
            "Jamaica",
            "Japan",
            "Jordan",
            "Korea, South",
            "Kuwait",
            "Latvia",
            "Lebanon",
            "Liechtenstein",
            "Lithuania",
            "Luxembourg",
            "Macao SAR",
            "Macau",
            "Malaysia",
            "Maldives",
            "Malta",
            "Martinique",
            "Mexico",
            "Moldova",
            "Monaco",
            "Mongolia",
            "Morocco",
            "Nepal",
            "Netherlands",
            "New Zealand",
            "Nigeria",
            "North Ireland",
            "North Macedonia",
            "Norway",
            "Oman",
            "Others",
            "Pakistan",
            "Palestine",
            "Panama",
            "Paraguay",
            "Peru",
            "Philippines",
            "Poland",
            "Portugal",
            "Qatar",
            "Republic of Ireland",
            "Republic of Korea",
            "Republic of Moldova",
            "Reunion",
            "Romania",
            "Russia",
            "Russian Federation",
            "Saint Barthelemy",
            "Saint Martin",
            "San Marino",
            "Saudi Arabia",
            "Senegal",
            "Serbia",
            "Singapore",
            "Slovakia",
            "Slovenia",
            "South Africa",
            "South Korea",
            "Spain",
            "Sri Lanka",
            "St. Martin",
            "Sweden",
            "Switzerland",
            "Taipei and environs",
            "Taiwan",
            "Taiwan*",
            "Thailand",
            "Togo",
            "Tunisia",
            "Turkey",
            "UK",
            "US",
            "Ukraine",
            "United Arab Emirates",
            "United Kingdom",
            "Vatican City",
            "Viet Nam",
            "Vietnam",
            "occupied Palestinian territory"
           ],
           "marker": {
            "color": "#636efa",
            "size": [
             0.3010299956639812,
             0.47712125471966244,
             0,
             1.1139433523068367,
             0.3010299956639812,
             0.3010299956639812,
             0.3010299956639812,
             1.591064607026499,
             1.4771212547196624,
             0.6020599913279624,
             1.724275869600789,
             0,
             0.8450980400142568,
             1.380211241711606,
             0,
             0,
             0,
             0.6989700043360189,
             0,
             0,
             0,
             0.47712125471966244,
             0,
             1.1139433523068367,
             0,
             0.3010299956639812,
             4.900580126539175,
             0,
             0,
             0,
             0,
             1.0413926851582251,
             0,
             0,
             0,
             0.9542425094393249,
             0,
             1.0413926851582251,
             0.3010299956639812,
             1.0413926851582251,
             0.47712125471966244,
             0.47712125471966244,
             0.3010299956639812,
             0.8450980400142568,
             2.456366033129043,
             0,
             0.6020599913279624,
             2.419955748489758,
             0.3010299956639812,
             1,
             0,
             0,
             0,
             2.0253058652647704,
             0,
             0.47712125471966244,
             1.4313637641589874,
             1.462397997898956,
             0.47712125471966244,
             3.4658288153574364,
             0,
             1.5563025007672873,
             0.8450980400142568,
             1.2041199826559248,
             3.4899584794248346,
             0,
             2.5211380837040362,
             0.3010299956639812,
             0,
             1.7558748556724915,
             0.3010299956639812,
             1.146128035678238,
             0.3010299956639812,
             0.47712125471966244,
             0.3010299956639812,
             0,
             1.0413926851582251,
             1.7075701760979363,
             0,
             0,
             0,
             0.7781512503836436,
             0,
             0.47712125471966244,
             0,
             0.3010299956639812,
             0.47712125471966244,
             1.591064607026499,
             0.6020599913279624,
             0.47712125471966244,
             0.3010299956639812,
             0.47712125471966244,
             1.7558748556724915,
             1.2041199826559248,
             2.8494194137968996,
             0.7781512503836436,
             0,
             0,
             0,
             0,
             0.8450980400142568,
             0.3010299956639812,
             0.7781512503836436,
             0.9542425094393249,
             0,
             0,
             0,
             0,
             0.6989700043360189,
             0.6020599913279624,
             0,
             0.6020599913279624,
             0,
             1.2304489213782739,
             0.3010299956639812,
             0.6989700043360189,
             0,
             2.0453229787866576,
             0,
             0,
             0,
             3.749890841271422,
             2.3483048630481607,
             0.47712125471966244,
             0,
             1.5563025007672873,
             1.9590413923210936,
             0,
             1.6334684555795864,
             0,
             1.6434526764861874,
             0,
             0.3010299956639812,
             0,
             1.9344984512435677,
             1.7993405494535817,
             0.3010299956639812,
             1.4471580313422192,
             0,
             0,
             0,
             1.5185139398778875,
             0
            ],
            "sizemode": "area",
            "sizeref": 0.012270166519720165
           },
           "name": "",
           "showlegend": false,
           "type": "scattergeo"
          }
         ],
         "name": "2020-03-04 00:00:00"
        },
        {
         "data": [
          {
           "customdata": [
            [
             1
            ],
            [
             2
            ],
            [
             0
            ],
            [
             12
            ],
            [
             1
            ],
            [
             1
            ],
            [
             1
            ],
            [
             26
            ],
            [
             41
            ],
            [
             6
            ],
            [
             55
            ],
            [
             0
            ],
            [
             6
            ],
            [
             50
            ],
            [
             0
            ],
            [
             0
            ],
            [
             2
            ],
            [
             4
            ],
            [
             0
            ],
            [
             0
            ],
            [
             0
            ],
            [
             2
            ],
            [
             0
            ],
            [
             36
            ],
            [
             0
            ],
            [
             4
            ],
            [
             79465
            ],
            [
             0
            ],
            [
             0
            ],
            [
             0
            ],
            [
             0
            ],
            [
             10
            ],
            [
             0
            ],
            [
             0
            ],
            [
             0
            ],
            [
             12
            ],
            [
             0
            ],
            [
             10
            ],
            [
             1
            ],
            [
             13
            ],
            [
             3
            ],
            [
             3
            ],
            [
             1
            ],
            [
             12
            ],
            [
             377
            ],
            [
             0
            ],
            [
             4
            ],
            [
             482
            ],
            [
             1
            ],
            [
             31
            ],
            [
             0
            ],
            [
             0
            ],
            [
             0
            ],
            [
             105
            ],
            [
             0
            ],
            [
             2
            ],
            [
             34
            ],
            [
             30
            ],
            [
             2
            ],
            [
             3513
            ],
            [
             0
            ],
            [
             35
            ],
            [
             6
            ],
            [
             16
            ],
            [
             3858
            ],
            [
             0
            ],
            [
             360
            ],
            [
             1
            ],
            [
             0
            ],
            [
             58
            ],
            [
             1
            ],
            [
             16
            ],
            [
             1
            ],
            [
             2
            ],
            [
             1
            ],
            [
             0
            ],
            [
             10
            ],
            [
             50
            ],
            [
             0
            ],
            [
             0
            ],
            [
             0
            ],
            [
             5
            ],
            [
             0
            ],
            [
             2
            ],
            [
             0
            ],
            [
             2
            ],
            [
             2
            ],
            [
             82
            ],
            [
             3
            ],
            [
             2
            ],
            [
             1
            ],
            [
             2
            ],
            [
             87
            ],
            [
             16
            ],
            [
             706
            ],
            [
             5
            ],
            [
             4
            ],
            [
             0
            ],
            [
             0
            ],
            [
             0
            ],
            [
             6
            ],
            [
             1
            ],
            [
             8
            ],
            [
             8
            ],
            [
             0
            ],
            [
             0
            ],
            [
             0
            ],
            [
             0
            ],
            [
             6
            ],
            [
             4
            ],
            [
             0
            ],
            [
             3
            ],
            [
             0
            ],
            [
             21
            ],
            [
             5
            ],
            [
             4
            ],
            [
             0
            ],
            [
             117
            ],
            [
             0
            ],
            [
             2
            ],
            [
             1
            ],
            [
             6088
            ],
            [
             259
            ],
            [
             2
            ],
            [
             0
            ],
            [
             94
            ],
            [
             114
            ],
            [
             0
            ],
            [
             44
            ],
            [
             0
            ],
            [
             47
            ],
            [
             0
            ],
            [
             1
            ],
            [
             0
            ],
            [
             115
            ],
            [
             142
            ],
            [
             1
            ],
            [
             29
            ],
            [
             0
            ],
            [
             0
            ],
            [
             0
            ],
            [
             32
            ],
            [
             0
            ]
           ],
           "geo": "geo",
           "hoverlabel": {
            "namelength": 0
           },
           "hovertemplate": "Date=2020-03-05 00:00:00<br>Log Confirmed=%{marker.size}<br>Confirmed=%{customdata[0]}<br>Country/Region=%{location}",
           "legendgroup": "",
           "locationmode": "country names",
           "locations": [
            " Azerbaijan",
            "Afghanistan",
            "Albania",
            "Algeria",
            "Andorra",
            "Argentina",
            "Armenia",
            "Australia",
            "Austria",
            "Azerbaijan",
            "Bahrain",
            "Bangladesh",
            "Belarus",
            "Belgium",
            "Bhutan",
            "Bolivia",
            "Bosnia and Herzegovina",
            "Brazil",
            "Brunei",
            "Bulgaria",
            "Burkina Faso",
            "Cambodia",
            "Cameroon",
            "Canada",
            "Channel Islands",
            "Chile",
            "China",
            "Colombia",
            "Congo (Kinshasa)",
            "Costa Rica",
            "Cote d'Ivoire",
            "Croatia",
            "Cruise Ship",
            "Cuba",
            "Cyprus",
            "Czech Republic",
            "Czechia",
            "Denmark",
            "Dominican Republic",
            "Ecuador",
            "Egypt",
            "Estonia",
            "Faroe Islands",
            "Finland",
            "France",
            "French Guiana",
            "Georgia",
            "Germany",
            "Gibraltar",
            "Greece",
            "Guyana",
            "Holy See",
            "Honduras",
            "Hong Kong",
            "Hong Kong SAR",
            "Hungary",
            "Iceland",
            "India",
            "Indonesia",
            "Iran",
            "Iran (Islamic Republic of)",
            "Iraq",
            "Ireland",
            "Israel",
            "Italy",
            "Jamaica",
            "Japan",
            "Jordan",
            "Korea, South",
            "Kuwait",
            "Latvia",
            "Lebanon",
            "Liechtenstein",
            "Lithuania",
            "Luxembourg",
            "Macao SAR",
            "Macau",
            "Malaysia",
            "Maldives",
            "Malta",
            "Martinique",
            "Mexico",
            "Moldova",
            "Monaco",
            "Mongolia",
            "Morocco",
            "Nepal",
            "Netherlands",
            "New Zealand",
            "Nigeria",
            "North Ireland",
            "North Macedonia",
            "Norway",
            "Oman",
            "Others",
            "Pakistan",
            "Palestine",
            "Panama",
            "Paraguay",
            "Peru",
            "Philippines",
            "Poland",
            "Portugal",
            "Qatar",
            "Republic of Ireland",
            "Republic of Korea",
            "Republic of Moldova",
            "Reunion",
            "Romania",
            "Russia",
            "Russian Federation",
            "Saint Barthelemy",
            "Saint Martin",
            "San Marino",
            "Saudi Arabia",
            "Senegal",
            "Serbia",
            "Singapore",
            "Slovakia",
            "Slovenia",
            "South Africa",
            "South Korea",
            "Spain",
            "Sri Lanka",
            "St. Martin",
            "Sweden",
            "Switzerland",
            "Taipei and environs",
            "Taiwan",
            "Taiwan*",
            "Thailand",
            "Togo",
            "Tunisia",
            "Turkey",
            "UK",
            "US",
            "Ukraine",
            "United Arab Emirates",
            "United Kingdom",
            "Vatican City",
            "Viet Nam",
            "Vietnam",
            "occupied Palestinian territory"
           ],
           "marker": {
            "color": "#636efa",
            "size": [
             0.3010299956639812,
             0.47712125471966244,
             0,
             1.1139433523068367,
             0.3010299956639812,
             0.3010299956639812,
             0.3010299956639812,
             1.4313637641589874,
             1.6232492903979006,
             0.8450980400142568,
             1.7481880270062005,
             0,
             0.8450980400142568,
             1.7075701760979363,
             0,
             0,
             0.47712125471966244,
             0.6989700043360189,
             0,
             0,
             0,
             0.47712125471966244,
             0,
             1.568201724066995,
             0,
             0.6989700043360189,
             4.900181352923171,
             0,
             0,
             0,
             0,
             1.0413926851582251,
             0,
             0,
             0,
             1.1139433523068367,
             0,
             1.0413926851582251,
             0.3010299956639812,
             1.146128035678238,
             0.6020599913279624,
             0.6020599913279624,
             0.3010299956639812,
             1.1139433523068367,
             2.5774917998372255,
             0,
             0.6989700043360189,
             2.683947130751512,
             0.3010299956639812,
             1.505149978319906,
             0,
             0,
             0,
             2.0253058652647704,
             0,
             0.47712125471966244,
             1.5440680443502757,
             1.4913616938342726,
             0.47712125471966244,
             3.545801757159276,
             0,
             1.5563025007672873,
             0.8450980400142568,
             1.2304489213782739,
             3.5864747785713966,
             0,
             2.5575072019056577,
             0.3010299956639812,
             0,
             1.7708520116421442,
             0.3010299956639812,
             1.2304489213782739,
             0.3010299956639812,
             0.47712125471966244,
             0.3010299956639812,
             0,
             1.0413926851582251,
             1.7075701760979363,
             0,
             0,
             0,
             0.7781512503836436,
             0,
             0.47712125471966244,
             0,
             0.47712125471966244,
             0.47712125471966244,
             1.919078092376074,
             0.6020599913279624,
             0.47712125471966244,
             0.3010299956639812,
             0.47712125471966244,
             1.9444826721501687,
             1.2304489213782739,
             2.8494194137968996,
             0.7781512503836436,
             0.6989700043360189,
             0,
             0,
             0,
             0.8450980400142568,
             0.3010299956639812,
             0.9542425094393249,
             0.9542425094393249,
             0,
             0,
             0,
             0,
             0.8450980400142568,
             0.6989700043360189,
             0,
             0.6020599913279624,
             0,
             1.3424226808222062,
             0.7781512503836436,
             0.6989700043360189,
             0,
             2.0718820073061255,
             0,
             0.47712125471966244,
             0.3010299956639812,
             3.7845459740545224,
             2.4149733479708178,
             0.47712125471966244,
             0,
             1.9777236052888478,
             2.060697840353612,
             0,
             1.6532125137753437,
             0,
             1.6812412373755872,
             0,
             0.3010299956639812,
             0,
             2.0644579892269186,
             2.155336037465062,
             0.3010299956639812,
             1.4771212547196624,
             0,
             0,
             0,
             1.5185139398778875,
             0
            ],
            "sizemode": "area",
            "sizeref": 0.012270166519720165
           },
           "name": "",
           "showlegend": false,
           "type": "scattergeo"
          }
         ],
         "name": "2020-03-05 00:00:00"
        },
        {
         "data": [
          {
           "customdata": [
            [
             1
            ],
            [
             2
            ],
            [
             0
            ],
            [
             17
            ],
            [
             1
            ],
            [
             2
            ],
            [
             1
            ],
            [
             33
            ],
            [
             55
            ],
            [
             6
            ],
            [
             60
            ],
            [
             0
            ],
            [
             6
            ],
            [
             109
            ],
            [
             1
            ],
            [
             0
            ],
            [
             2
            ],
            [
             13
            ],
            [
             0
            ],
            [
             0
            ],
            [
             0
            ],
            [
             2
            ],
            [
             1
            ],
            [
             46
            ],
            [
             0
            ],
            [
             4
            ],
            [
             79771
            ],
            [
             1
            ],
            [
             0
            ],
            [
             1
            ],
            [
             0
            ],
            [
             11
            ],
            [
             0
            ],
            [
             0
            ],
            [
             0
            ],
            [
             18
            ],
            [
             0
            ],
            [
             23
            ],
            [
             2
            ],
            [
             13
            ],
            [
             15
            ],
            [
             10
            ],
            [
             1
            ],
            [
             15
            ],
            [
             653
            ],
            [
             0
            ],
            [
             4
            ],
            [
             670
            ],
            [
             1
            ],
            [
             45
            ],
            [
             0
            ],
            [
             0
            ],
            [
             0
            ],
            [
             107
            ],
            [
             0
            ],
            [
             2
            ],
            [
             43
            ],
            [
             31
            ],
            [
             4
            ],
            [
             4747
            ],
            [
             0
            ],
            [
             40
            ],
            [
             18
            ],
            [
             21
            ],
            [
             4636
            ],
            [
             0
            ],
            [
             420
            ],
            [
             1
            ],
            [
             0
            ],
            [
             58
            ],
            [
             1
            ],
            [
             22
            ],
            [
             1
            ],
            [
             2
            ],
            [
             2
            ],
            [
             0
            ],
            [
             10
            ],
            [
             83
            ],
            [
             0
            ],
            [
             0
            ],
            [
             0
            ],
            [
             6
            ],
            [
             0
            ],
            [
             2
            ],
            [
             0
            ],
            [
             2
            ],
            [
             2
            ],
            [
             128
            ],
            [
             4
            ],
            [
             2
            ],
            [
             1
            ],
            [
             3
            ],
            [
             108
            ],
            [
             16
            ],
            [
             696
            ],
            [
             6
            ],
            [
             16
            ],
            [
             0
            ],
            [
             0
            ],
            [
             1
            ],
            [
             5
            ],
            [
             5
            ],
            [
             13
            ],
            [
             8
            ],
            [
             0
            ],
            [
             0
            ],
            [
             0
            ],
            [
             0
            ],
            [
             9
            ],
            [
             13
            ],
            [
             0
            ],
            [
             3
            ],
            [
             0
            ],
            [
             21
            ],
            [
             5
            ],
            [
             4
            ],
            [
             1
            ],
            [
             130
            ],
            [
             1
            ],
            [
             7
            ],
            [
             1
            ],
            [
             6593
            ],
            [
             400
            ],
            [
             2
            ],
            [
             0
            ],
            [
             101
            ],
            [
             214
            ],
            [
             0
            ],
            [
             45
            ],
            [
             0
            ],
            [
             48
            ],
            [
             1
            ],
            [
             1
            ],
            [
             0
            ],
            [
             163
            ],
            [
             168
            ],
            [
             1
            ],
            [
             29
            ],
            [
             0
            ],
            [
             1
            ],
            [
             0
            ],
            [
             32
            ],
            [
             0
            ]
           ],
           "geo": "geo",
           "hoverlabel": {
            "namelength": 0
           },
           "hovertemplate": "Date=2020-03-06 00:00:00<br>Log Confirmed=%{marker.size}<br>Confirmed=%{customdata[0]}<br>Country/Region=%{location}",
           "legendgroup": "",
           "locationmode": "country names",
           "locations": [
            " Azerbaijan",
            "Afghanistan",
            "Albania",
            "Algeria",
            "Andorra",
            "Argentina",
            "Armenia",
            "Australia",
            "Austria",
            "Azerbaijan",
            "Bahrain",
            "Bangladesh",
            "Belarus",
            "Belgium",
            "Bhutan",
            "Bolivia",
            "Bosnia and Herzegovina",
            "Brazil",
            "Brunei",
            "Bulgaria",
            "Burkina Faso",
            "Cambodia",
            "Cameroon",
            "Canada",
            "Channel Islands",
            "Chile",
            "China",
            "Colombia",
            "Congo (Kinshasa)",
            "Costa Rica",
            "Cote d'Ivoire",
            "Croatia",
            "Cruise Ship",
            "Cuba",
            "Cyprus",
            "Czech Republic",
            "Czechia",
            "Denmark",
            "Dominican Republic",
            "Ecuador",
            "Egypt",
            "Estonia",
            "Faroe Islands",
            "Finland",
            "France",
            "French Guiana",
            "Georgia",
            "Germany",
            "Gibraltar",
            "Greece",
            "Guyana",
            "Holy See",
            "Honduras",
            "Hong Kong",
            "Hong Kong SAR",
            "Hungary",
            "Iceland",
            "India",
            "Indonesia",
            "Iran",
            "Iran (Islamic Republic of)",
            "Iraq",
            "Ireland",
            "Israel",
            "Italy",
            "Jamaica",
            "Japan",
            "Jordan",
            "Korea, South",
            "Kuwait",
            "Latvia",
            "Lebanon",
            "Liechtenstein",
            "Lithuania",
            "Luxembourg",
            "Macao SAR",
            "Macau",
            "Malaysia",
            "Maldives",
            "Malta",
            "Martinique",
            "Mexico",
            "Moldova",
            "Monaco",
            "Mongolia",
            "Morocco",
            "Nepal",
            "Netherlands",
            "New Zealand",
            "Nigeria",
            "North Ireland",
            "North Macedonia",
            "Norway",
            "Oman",
            "Others",
            "Pakistan",
            "Palestine",
            "Panama",
            "Paraguay",
            "Peru",
            "Philippines",
            "Poland",
            "Portugal",
            "Qatar",
            "Republic of Ireland",
            "Republic of Korea",
            "Republic of Moldova",
            "Reunion",
            "Romania",
            "Russia",
            "Russian Federation",
            "Saint Barthelemy",
            "Saint Martin",
            "San Marino",
            "Saudi Arabia",
            "Senegal",
            "Serbia",
            "Singapore",
            "Slovakia",
            "Slovenia",
            "South Africa",
            "South Korea",
            "Spain",
            "Sri Lanka",
            "St. Martin",
            "Sweden",
            "Switzerland",
            "Taipei and environs",
            "Taiwan",
            "Taiwan*",
            "Thailand",
            "Togo",
            "Tunisia",
            "Turkey",
            "UK",
            "US",
            "Ukraine",
            "United Arab Emirates",
            "United Kingdom",
            "Vatican City",
            "Viet Nam",
            "Vietnam",
            "occupied Palestinian territory"
           ],
           "marker": {
            "color": "#636efa",
            "size": [
             0.3010299956639812,
             0.47712125471966244,
             0,
             1.255272505103306,
             0.3010299956639812,
             0.47712125471966244,
             0.3010299956639812,
             1.5314789170422551,
             1.7481880270062005,
             0.8450980400142568,
             1.7853298350107671,
             0,
             0.8450980400142568,
             2.041392685158225,
             0.3010299956639812,
             0,
             0.47712125471966244,
             1.146128035678238,
             0,
             0,
             0,
             0.47712125471966244,
             0.3010299956639812,
             1.6720978579357175,
             0,
             0.6989700043360189,
             4.901850480581696,
             0.3010299956639812,
             0,
             0.3010299956639812,
             0,
             1.0791812460476249,
             0,
             0,
             0,
             1.2787536009528289,
             0,
             1.380211241711606,
             0.47712125471966244,
             1.146128035678238,
             1.2041199826559248,
             1.0413926851582251,
             0.3010299956639812,
             1.2041199826559248,
             2.815577748324267,
             0,
             0.6989700043360189,
             2.826722520168992,
             0.3010299956639812,
             1.662757831681574,
             0,
             0,
             0,
             2.03342375548695,
             0,
             0.47712125471966244,
             1.6434526764861874,
             1.505149978319906,
             0.6989700043360189,
             3.6765107102825536,
             0,
             1.6127838567197355,
             1.2787536009528289,
             1.3424226808222062,
             3.6662370958958044,
             0,
             2.6242820958356683,
             0.3010299956639812,
             0,
             1.7708520116421442,
             0.3010299956639812,
             1.3617278360175928,
             0.3010299956639812,
             0.47712125471966244,
             0.47712125471966244,
             0,
             1.0413926851582251,
             1.9242792860618816,
             0,
             0,
             0,
             0.8450980400142568,
             0,
             0.47712125471966244,
             0,
             0.47712125471966244,
             0.47712125471966244,
             2.110589710299249,
             0.6989700043360189,
             0.47712125471966244,
             0.3010299956639812,
             0.6020599913279624,
             2.037426497940624,
             1.2304489213782739,
             2.8432327780980096,
             0.8450980400142568,
             1.2304489213782739,
             0,
             0,
             0.3010299956639812,
             0.7781512503836436,
             0.7781512503836436,
             1.146128035678238,
             0.9542425094393249,
             0,
             0,
             0,
             0,
             1,
             1.146128035678238,
             0,
             0.6020599913279624,
             0,
             1.3424226808222062,
             0.7781512503836436,
             0.6989700043360189,
             0.3010299956639812,
             2.1172712956557644,
             0.3010299956639812,
             0.9030899869919435,
             0.3010299956639812,
             3.8191489428071344,
             2.603144372620182,
             0.47712125471966244,
             0,
             2.0086001717619175,
             2.3324384599156054,
             0,
             1.662757831681574,
             0,
             1.6901960800285136,
             0.3010299956639812,
             0.3010299956639812,
             0,
             2.214843848047698,
             2.2278867046136734,
             0.3010299956639812,
             1.4771212547196624,
             0,
             0.3010299956639812,
             0,
             1.5185139398778875,
             0
            ],
            "sizemode": "area",
            "sizeref": 0.012270166519720165
           },
           "name": "",
           "showlegend": false,
           "type": "scattergeo"
          }
         ],
         "name": "2020-03-06 00:00:00"
        },
        {
         "data": [
          {
           "customdata": [
            [
             1
            ],
            [
             2
            ],
            [
             0
            ],
            [
             17
            ],
            [
             1
            ],
            [
             8
            ],
            [
             1
            ],
            [
             39
            ],
            [
             79
            ],
            [
             9
            ],
            [
             85
            ],
            [
             0
            ],
            [
             6
            ],
            [
             169
            ],
            [
             1
            ],
            [
             0
            ],
            [
             3
            ],
            [
             13
            ],
            [
             0
            ],
            [
             0
            ],
            [
             0
            ],
            [
             2
            ],
            [
             1
            ],
            [
             52
            ],
            [
             0
            ],
            [
             4
            ],
            [
             78619
            ],
            [
             1
            ],
            [
             0
            ],
            [
             1
            ],
            [
             0
            ],
            [
             12
            ],
            [
             0
            ],
            [
             0
            ],
            [
             0
            ],
            [
             19
            ],
            [
             0
            ],
            [
             23
            ],
            [
             2
            ],
            [
             13
            ],
            [
             15
            ],
            [
             10
            ],
            [
             1
            ],
            [
             15
            ],
            [
             949
            ],
            [
             5
            ],
            [
             4
            ],
            [
             799
            ],
            [
             1
            ],
            [
             46
            ],
            [
             0
            ],
            [
             0
            ],
            [
             0
            ],
            [
             108
            ],
            [
             0
            ],
            [
             4
            ],
            [
             50
            ],
            [
             34
            ],
            [
             4
            ],
            [
             5823
            ],
            [
             0
            ],
            [
             54
            ],
            [
             18
            ],
            [
             21
            ],
            [
             5883
            ],
            [
             0
            ],
            [
             461
            ],
            [
             1
            ],
            [
             0
            ],
            [
             61
            ],
            [
             1
            ],
            [
             22
            ],
            [
             1
            ],
            [
             2
            ],
            [
             2
            ],
            [
             0
            ],
            [
             10
            ],
            [
             93
            ],
            [
             0
            ],
            [
             3
            ],
            [
             2
            ],
            [
             6
            ],
            [
             0
            ],
            [
             2
            ],
            [
             0
            ],
            [
             2
            ],
            [
             2
            ],
            [
             188
            ],
            [
             5
            ],
            [
             2
            ],
            [
             1
            ],
            [
             3
            ],
            [
             147
            ],
            [
             16
            ],
            [
             696
            ],
            [
             6
            ],
            [
             22
            ],
            [
             0
            ],
            [
             0
            ],
            [
             1
            ],
            [
             6
            ],
            [
             5
            ],
            [
             20
            ],
            [
             8
            ],
            [
             0
            ],
            [
             0
            ],
            [
             0
            ],
            [
             0
            ],
            [
             9
            ],
            [
             13
            ],
            [
             0
            ],
            [
             3
            ],
            [
             0
            ],
            [
             23
            ],
            [
             5
            ],
            [
             4
            ],
            [
             1
            ],
            [
             138
            ],
            [
             1
            ],
            [
             7
            ],
            [
             1
            ],
            [
             7041
            ],
            [
             500
            ],
            [
             2
            ],
            [
             0
            ],
            [
             161
            ],
            [
             268
            ],
            [
             0
            ],
            [
             45
            ],
            [
             0
            ],
            [
             50
            ],
            [
             1
            ],
            [
             1
            ],
            [
             0
            ],
            [
             206
            ],
            [
             311
            ],
            [
             1
            ],
            [
             45
            ],
            [
             0
            ],
            [
             1
            ],
            [
             0
            ],
            [
             18
            ],
            [
             0
            ]
           ],
           "geo": "geo",
           "hoverlabel": {
            "namelength": 0
           },
           "hovertemplate": "Date=2020-03-07 00:00:00<br>Log Confirmed=%{marker.size}<br>Confirmed=%{customdata[0]}<br>Country/Region=%{location}",
           "legendgroup": "",
           "locationmode": "country names",
           "locations": [
            " Azerbaijan",
            "Afghanistan",
            "Albania",
            "Algeria",
            "Andorra",
            "Argentina",
            "Armenia",
            "Australia",
            "Austria",
            "Azerbaijan",
            "Bahrain",
            "Bangladesh",
            "Belarus",
            "Belgium",
            "Bhutan",
            "Bolivia",
            "Bosnia and Herzegovina",
            "Brazil",
            "Brunei",
            "Bulgaria",
            "Burkina Faso",
            "Cambodia",
            "Cameroon",
            "Canada",
            "Channel Islands",
            "Chile",
            "China",
            "Colombia",
            "Congo (Kinshasa)",
            "Costa Rica",
            "Cote d'Ivoire",
            "Croatia",
            "Cruise Ship",
            "Cuba",
            "Cyprus",
            "Czech Republic",
            "Czechia",
            "Denmark",
            "Dominican Republic",
            "Ecuador",
            "Egypt",
            "Estonia",
            "Faroe Islands",
            "Finland",
            "France",
            "French Guiana",
            "Georgia",
            "Germany",
            "Gibraltar",
            "Greece",
            "Guyana",
            "Holy See",
            "Honduras",
            "Hong Kong",
            "Hong Kong SAR",
            "Hungary",
            "Iceland",
            "India",
            "Indonesia",
            "Iran",
            "Iran (Islamic Republic of)",
            "Iraq",
            "Ireland",
            "Israel",
            "Italy",
            "Jamaica",
            "Japan",
            "Jordan",
            "Korea, South",
            "Kuwait",
            "Latvia",
            "Lebanon",
            "Liechtenstein",
            "Lithuania",
            "Luxembourg",
            "Macao SAR",
            "Macau",
            "Malaysia",
            "Maldives",
            "Malta",
            "Martinique",
            "Mexico",
            "Moldova",
            "Monaco",
            "Mongolia",
            "Morocco",
            "Nepal",
            "Netherlands",
            "New Zealand",
            "Nigeria",
            "North Ireland",
            "North Macedonia",
            "Norway",
            "Oman",
            "Others",
            "Pakistan",
            "Palestine",
            "Panama",
            "Paraguay",
            "Peru",
            "Philippines",
            "Poland",
            "Portugal",
            "Qatar",
            "Republic of Ireland",
            "Republic of Korea",
            "Republic of Moldova",
            "Reunion",
            "Romania",
            "Russia",
            "Russian Federation",
            "Saint Barthelemy",
            "Saint Martin",
            "San Marino",
            "Saudi Arabia",
            "Senegal",
            "Serbia",
            "Singapore",
            "Slovakia",
            "Slovenia",
            "South Africa",
            "South Korea",
            "Spain",
            "Sri Lanka",
            "St. Martin",
            "Sweden",
            "Switzerland",
            "Taipei and environs",
            "Taiwan",
            "Taiwan*",
            "Thailand",
            "Togo",
            "Tunisia",
            "Turkey",
            "UK",
            "US",
            "Ukraine",
            "United Arab Emirates",
            "United Kingdom",
            "Vatican City",
            "Viet Nam",
            "Vietnam",
            "occupied Palestinian territory"
           ],
           "marker": {
            "color": "#636efa",
            "size": [
             0.3010299956639812,
             0.47712125471966244,
             0,
             1.255272505103306,
             0.3010299956639812,
             0.9542425094393249,
             0.3010299956639812,
             1.6020599913279623,
             1.9030899869919435,
             1,
             1.9344984512435677,
             0,
             0.8450980400142568,
             2.230448921378274,
             0.3010299956639812,
             0,
             0.6020599913279624,
             1.146128035678238,
             0,
             0,
             0,
             0.47712125471966244,
             0.3010299956639812,
             1.724275869600789,
             0,
             0.6989700043360189,
             4.895533039484071,
             0.3010299956639812,
             0,
             0.3010299956639812,
             0,
             1.1139433523068367,
             0,
             0,
             0,
             1.3010299956639813,
             0,
             1.380211241711606,
             0.47712125471966244,
             1.146128035678238,
             1.2041199826559248,
             1.0413926851582251,
             0.3010299956639812,
             1.2041199826559248,
             2.9777236052888476,
             0.7781512503836436,
             0.6989700043360189,
             2.9030899869919438,
             0.3010299956639812,
             1.6720978579357175,
             0,
             0,
             0,
             2.037426497940624,
             0,
             0.6989700043360189,
             1.7075701760979363,
             1.5440680443502757,
             0.6989700043360189,
             3.765221366304981,
             0,
             1.7403626894942439,
             1.2787536009528289,
             1.3424226808222062,
             3.7696726640554923,
             0,
             2.6646419755561257,
             0.3010299956639812,
             0,
             1.792391689498254,
             0.3010299956639812,
             1.3617278360175928,
             0.3010299956639812,
             0.47712125471966244,
             0.47712125471966244,
             0,
             1.0413926851582251,
             1.9731278535996986,
             0,
             0.6020599913279624,
             0.47712125471966244,
             0.8450980400142568,
             0,
             0.47712125471966244,
             0,
             0.47712125471966244,
             0.47712125471966244,
             2.2764618041732443,
             0.7781512503836436,
             0.47712125471966244,
             0.3010299956639812,
             0.6020599913279624,
             2.1702617153949575,
             1.2304489213782739,
             2.8432327780980096,
             0.8450980400142568,
             1.3617278360175928,
             0,
             0,
             0.3010299956639812,
             0.8450980400142568,
             0.7781512503836436,
             1.3222192947339193,
             0.9542425094393249,
             0,
             0,
             0,
             0,
             1,
             1.146128035678238,
             0,
             0.6020599913279624,
             0,
             1.380211241711606,
             0.7781512503836436,
             0.6989700043360189,
             0.3010299956639812,
             2.143014800254095,
             0.3010299956639812,
             0.9030899869919435,
             0.3010299956639812,
             3.8476960207341655,
             2.699837725867246,
             0.47712125471966244,
             0,
             2.2095150145426308,
             2.429752280002408,
             0,
             1.662757831681574,
             0,
             1.7075701760979363,
             0.3010299956639812,
             0.3010299956639812,
             0,
             2.315970345456918,
             2.494154594018443,
             0.3010299956639812,
             1.662757831681574,
             0,
             0.3010299956639812,
             0,
             1.2787536009528289,
             0
            ],
            "sizemode": "area",
            "sizeref": 0.012270166519720165
           },
           "name": "",
           "showlegend": false,
           "type": "scattergeo"
          }
         ],
         "name": "2020-03-07 00:00:00"
        },
        {
         "data": [
          {
           "customdata": [
            [
             1
            ],
            [
             4
            ],
            [
             0
            ],
            [
             19
            ],
            [
             1
            ],
            [
             12
            ],
            [
             1
            ],
            [
             55
            ],
            [
             104
            ],
            [
             9
            ],
            [
             85
            ],
            [
             3
            ],
            [
             6
            ],
            [
             200
            ],
            [
             1
            ],
            [
             0
            ],
            [
             3
            ],
            [
             20
            ],
            [
             0
            ],
            [
             4
            ],
            [
             0
            ],
            [
             2
            ],
            [
             2
            ],
            [
             62
            ],
            [
             0
            ],
            [
             8
            ],
            [
             79455
            ],
            [
             1
            ],
            [
             0
            ],
            [
             5
            ],
            [
             0
            ],
            [
             12
            ],
            [
             0
            ],
            [
             0
            ],
            [
             0
            ],
            [
             31
            ],
            [
             0
            ],
            [
             35
            ],
            [
             5
            ],
            [
             14
            ],
            [
             49
            ],
            [
             10
            ],
            [
             2
            ],
            [
             23
            ],
            [
             1126
            ],
            [
             5
            ],
            [
             13
            ],
            [
             1040
            ],
            [
             1
            ],
            [
             73
            ],
            [
             0
            ],
            [
             0
            ],
            [
             0
            ],
            [
             114
            ],
            [
             0
            ],
            [
             7
            ],
            [
             50
            ],
            [
             39
            ],
            [
             6
            ],
            [
             6566
            ],
            [
             0
            ],
            [
             60
            ],
            [
             19
            ],
            [
             39
            ],
            [
             7375
            ],
            [
             0
            ],
            [
             502
            ],
            [
             1
            ],
            [
             0
            ],
            [
             64
            ],
            [
             2
            ],
            [
             32
            ],
            [
             1
            ],
            [
             2
            ],
            [
             3
            ],
            [
             0
            ],
            [
             10
            ],
            [
             99
            ],
            [
             4
            ],
            [
             3
            ],
            [
             2
            ],
            [
             7
            ],
            [
             1
            ],
            [
             2
            ],
            [
             0
            ],
            [
             2
            ],
            [
             2
            ],
            [
             265
            ],
            [
             5
            ],
            [
             2
            ],
            [
             1
            ],
            [
             3
            ],
            [
             176
            ],
            [
             16
            ],
            [
             696
            ],
            [
             6
            ],
            [
             22
            ],
            [
             0
            ],
            [
             1
            ],
            [
             6
            ],
            [
             10
            ],
            [
             11
            ],
            [
             30
            ],
            [
             15
            ],
            [
             21
            ],
            [
             0
            ],
            [
             0
            ],
            [
             0
            ],
            [
             15
            ],
            [
             17
            ],
            [
             0
            ],
            [
             3
            ],
            [
             0
            ],
            [
             36
            ],
            [
             11
            ],
            [
             4
            ],
            [
             1
            ],
            [
             150
            ],
            [
             3
            ],
            [
             16
            ],
            [
             3
            ],
            [
             7314
            ],
            [
             673
            ],
            [
             2
            ],
            [
             0
            ],
            [
             203
            ],
            [
             337
            ],
            [
             0
            ],
            [
             45
            ],
            [
             0
            ],
            [
             50
            ],
            [
             1
            ],
            [
             2
            ],
            [
             0
            ],
            [
             273
            ],
            [
             387
            ],
            [
             1
            ],
            [
             45
            ],
            [
             0
            ],
            [
             1
            ],
            [
             0
            ],
            [
             30
            ],
            [
             0
            ]
           ],
           "geo": "geo",
           "hoverlabel": {
            "namelength": 0
           },
           "hovertemplate": "Date=2020-03-08 00:00:00<br>Log Confirmed=%{marker.size}<br>Confirmed=%{customdata[0]}<br>Country/Region=%{location}",
           "legendgroup": "",
           "locationmode": "country names",
           "locations": [
            " Azerbaijan",
            "Afghanistan",
            "Albania",
            "Algeria",
            "Andorra",
            "Argentina",
            "Armenia",
            "Australia",
            "Austria",
            "Azerbaijan",
            "Bahrain",
            "Bangladesh",
            "Belarus",
            "Belgium",
            "Bhutan",
            "Bolivia",
            "Bosnia and Herzegovina",
            "Brazil",
            "Brunei",
            "Bulgaria",
            "Burkina Faso",
            "Cambodia",
            "Cameroon",
            "Canada",
            "Channel Islands",
            "Chile",
            "China",
            "Colombia",
            "Congo (Kinshasa)",
            "Costa Rica",
            "Cote d'Ivoire",
            "Croatia",
            "Cruise Ship",
            "Cuba",
            "Cyprus",
            "Czech Republic",
            "Czechia",
            "Denmark",
            "Dominican Republic",
            "Ecuador",
            "Egypt",
            "Estonia",
            "Faroe Islands",
            "Finland",
            "France",
            "French Guiana",
            "Georgia",
            "Germany",
            "Gibraltar",
            "Greece",
            "Guyana",
            "Holy See",
            "Honduras",
            "Hong Kong",
            "Hong Kong SAR",
            "Hungary",
            "Iceland",
            "India",
            "Indonesia",
            "Iran",
            "Iran (Islamic Republic of)",
            "Iraq",
            "Ireland",
            "Israel",
            "Italy",
            "Jamaica",
            "Japan",
            "Jordan",
            "Korea, South",
            "Kuwait",
            "Latvia",
            "Lebanon",
            "Liechtenstein",
            "Lithuania",
            "Luxembourg",
            "Macao SAR",
            "Macau",
            "Malaysia",
            "Maldives",
            "Malta",
            "Martinique",
            "Mexico",
            "Moldova",
            "Monaco",
            "Mongolia",
            "Morocco",
            "Nepal",
            "Netherlands",
            "New Zealand",
            "Nigeria",
            "North Ireland",
            "North Macedonia",
            "Norway",
            "Oman",
            "Others",
            "Pakistan",
            "Palestine",
            "Panama",
            "Paraguay",
            "Peru",
            "Philippines",
            "Poland",
            "Portugal",
            "Qatar",
            "Republic of Ireland",
            "Republic of Korea",
            "Republic of Moldova",
            "Reunion",
            "Romania",
            "Russia",
            "Russian Federation",
            "Saint Barthelemy",
            "Saint Martin",
            "San Marino",
            "Saudi Arabia",
            "Senegal",
            "Serbia",
            "Singapore",
            "Slovakia",
            "Slovenia",
            "South Africa",
            "South Korea",
            "Spain",
            "Sri Lanka",
            "St. Martin",
            "Sweden",
            "Switzerland",
            "Taipei and environs",
            "Taiwan",
            "Taiwan*",
            "Thailand",
            "Togo",
            "Tunisia",
            "Turkey",
            "UK",
            "US",
            "Ukraine",
            "United Arab Emirates",
            "United Kingdom",
            "Vatican City",
            "Viet Nam",
            "Vietnam",
            "occupied Palestinian territory"
           ],
           "marker": {
            "color": "#636efa",
            "size": [
             0.3010299956639812,
             0.6989700043360189,
             0,
             1.3010299956639813,
             0.3010299956639812,
             1.1139433523068367,
             0.3010299956639812,
             1.7481880270062005,
             2.0211892990699383,
             1,
             1.9344984512435677,
             0.6020599913279624,
             0.8450980400142568,
             2.303196057420489,
             0.3010299956639812,
             0,
             0.6020599913279624,
             1.3222192947339193,
             0,
             0.6989700043360189,
             0,
             0.47712125471966244,
             0.47712125471966244,
             1.7993405494535817,
             0,
             0.9542425094393249,
             4.90012669787447,
             0.3010299956639812,
             0,
             0.7781512503836436,
             0,
             1.1139433523068367,
             0,
             0,
             0,
             1.505149978319906,
             0,
             1.5563025007672873,
             0.7781512503836436,
             1.1760912590556813,
             1.6989700043360187,
             1.0413926851582251,
             0.47712125471966244,
             1.380211241711606,
             3.0519239160461065,
             0.7781512503836436,
             1.146128035678238,
             3.017450729510536,
             0.3010299956639812,
             1.8692317197309762,
             0,
             0,
             0,
             2.060697840353612,
             0,
             0.9030899869919435,
             1.7075701760979363,
             1.6020599913279623,
             0.8450980400142568,
             3.8173670162875943,
             0,
             1.7853298350107671,
             1.3010299956639813,
             1.6020599913279623,
             3.867820908045573,
             0,
             2.7015679850559273,
             0.3010299956639812,
             0,
             1.8129133566428555,
             0.47712125471966244,
             1.5185139398778875,
             0.3010299956639812,
             0.47712125471966244,
             0.6020599913279624,
             0,
             1.0413926851582251,
             2,
             0.6989700043360189,
             0.6020599913279624,
             0.47712125471966244,
             0.9030899869919435,
             0.3010299956639812,
             0.47712125471966244,
             0,
             0.47712125471966244,
             0.47712125471966244,
             2.424881636631067,
             0.7781512503836436,
             0.47712125471966244,
             0.3010299956639812,
             0.6020599913279624,
             2.247973266361807,
             1.2304489213782739,
             2.8432327780980096,
             0.8450980400142568,
             1.3617278360175928,
             0,
             0.3010299956639812,
             0.8450980400142568,
             1.0413926851582251,
             1.0791812460476249,
             1.4913616938342726,
             1.2041199826559248,
             1.3424226808222062,
             0,
             0,
             0,
             1.2041199826559248,
             1.255272505103306,
             0,
             0.6020599913279624,
             0,
             1.568201724066995,
             1.0791812460476249,
             0.6989700043360189,
             0.3010299956639812,
             2.1789769472931693,
             0.6020599913279624,
             1.2304489213782739,
             0.6020599913279624,
             3.8642143304613294,
             2.82865989653532,
             0.47712125471966244,
             0,
             2.3096301674258988,
             2.5289167002776547,
             0,
             1.662757831681574,
             0,
             1.7075701760979363,
             0.3010299956639812,
             0.47712125471966244,
             0,
             2.437750562820388,
             2.5888317255942073,
             0.3010299956639812,
             1.662757831681574,
             0,
             0.3010299956639812,
             0,
             1.4913616938342726,
             0
            ],
            "sizemode": "area",
            "sizeref": 0.012270166519720165
           },
           "name": "",
           "showlegend": false,
           "type": "scattergeo"
          }
         ],
         "name": "2020-03-08 00:00:00"
        },
        {
         "data": [
          {
           "customdata": [
            [
             1
            ],
            [
             4
            ],
            [
             2
            ],
            [
             20
            ],
            [
             1
            ],
            [
             12
            ],
            [
             1
            ],
            [
             67
            ],
            [
             131
            ],
            [
             9
            ],
            [
             95
            ],
            [
             3
            ],
            [
             6
            ],
            [
             239
            ],
            [
             1
            ],
            [
             0
            ],
            [
             3
            ],
            [
             25
            ],
            [
             1
            ],
            [
             4
            ],
            [
             0
            ],
            [
             2
            ],
            [
             2
            ],
            [
             76
            ],
            [
             0
            ],
            [
             8
            ],
            [
             76902
            ],
            [
             1
            ],
            [
             0
            ],
            [
             9
            ],
            [
             0
            ],
            [
             12
            ],
            [
             0
            ],
            [
             0
            ],
            [
             2
            ],
            [
             31
            ],
            [
             0
            ],
            [
             90
            ],
            [
             5
            ],
            [
             15
            ],
            [
             55
            ],
            [
             10
            ],
            [
             2
            ],
            [
             30
            ],
            [
             1209
            ],
            [
             5
            ],
            [
             15
            ],
            [
             1176
            ],
            [
             1
            ],
            [
             73
            ],
            [
             0
            ],
            [
             0
            ],
            [
             0
            ],
            [
             115
            ],
            [
             0
            ],
            [
             9
            ],
            [
             58
            ],
            [
             43
            ],
            [
             19
            ],
            [
             7161
            ],
            [
             0
            ],
            [
             60
            ],
            [
             21
            ],
            [
             39
            ],
            [
             9172
            ],
            [
             0
            ],
            [
             511
            ],
            [
             1
            ],
            [
             0
            ],
            [
             64
            ],
            [
             6
            ],
            [
             32
            ],
            [
             1
            ],
            [
             2
            ],
            [
             3
            ],
            [
             0
            ],
            [
             10
            ],
            [
             117
            ],
            [
             4
            ],
            [
             3
            ],
            [
             2
            ],
            [
             7
            ],
            [
             1
            ],
            [
             2
            ],
            [
             0
            ],
            [
             2
            ],
            [
             2
            ],
            [
             321
            ],
            [
             5
            ],
            [
             2
            ],
            [
             1
            ],
            [
             3
            ],
            [
             205
            ],
            [
             16
            ],
            [
             696
            ],
            [
             6
            ],
            [
             22
            ],
            [
             0
            ],
            [
             1
            ],
            [
             7
            ],
            [
             20
            ],
            [
             16
            ],
            [
             30
            ],
            [
             18
            ],
            [
             21
            ],
            [
             0
            ],
            [
             0
            ],
            [
             0
            ],
            [
             15
            ],
            [
             17
            ],
            [
             0
            ],
            [
             1
            ],
            [
             0
            ],
            [
             36
            ],
            [
             15
            ],
            [
             4
            ],
            [
             1
            ],
            [
             150
            ],
            [
             3
            ],
            [
             16
            ],
            [
             3
            ],
            [
             7478
            ],
            [
             1073
            ],
            [
             2
            ],
            [
             2
            ],
            [
             248
            ],
            [
             374
            ],
            [
             0
            ],
            [
             45
            ],
            [
             0
            ],
            [
             50
            ],
            [
             1
            ],
            [
             2
            ],
            [
             0
            ],
            [
             321
            ],
            [
             203
            ],
            [
             1
            ],
            [
             45
            ],
            [
             0
            ],
            [
             1
            ],
            [
             0
            ],
            [
             30
            ],
            [
             0
            ]
           ],
           "geo": "geo",
           "hoverlabel": {
            "namelength": 0
           },
           "hovertemplate": "Date=2020-03-09 00:00:00<br>Log Confirmed=%{marker.size}<br>Confirmed=%{customdata[0]}<br>Country/Region=%{location}",
           "legendgroup": "",
           "locationmode": "country names",
           "locations": [
            " Azerbaijan",
            "Afghanistan",
            "Albania",
            "Algeria",
            "Andorra",
            "Argentina",
            "Armenia",
            "Australia",
            "Austria",
            "Azerbaijan",
            "Bahrain",
            "Bangladesh",
            "Belarus",
            "Belgium",
            "Bhutan",
            "Bolivia",
            "Bosnia and Herzegovina",
            "Brazil",
            "Brunei",
            "Bulgaria",
            "Burkina Faso",
            "Cambodia",
            "Cameroon",
            "Canada",
            "Channel Islands",
            "Chile",
            "China",
            "Colombia",
            "Congo (Kinshasa)",
            "Costa Rica",
            "Cote d'Ivoire",
            "Croatia",
            "Cruise Ship",
            "Cuba",
            "Cyprus",
            "Czech Republic",
            "Czechia",
            "Denmark",
            "Dominican Republic",
            "Ecuador",
            "Egypt",
            "Estonia",
            "Faroe Islands",
            "Finland",
            "France",
            "French Guiana",
            "Georgia",
            "Germany",
            "Gibraltar",
            "Greece",
            "Guyana",
            "Holy See",
            "Honduras",
            "Hong Kong",
            "Hong Kong SAR",
            "Hungary",
            "Iceland",
            "India",
            "Indonesia",
            "Iran",
            "Iran (Islamic Republic of)",
            "Iraq",
            "Ireland",
            "Israel",
            "Italy",
            "Jamaica",
            "Japan",
            "Jordan",
            "Korea, South",
            "Kuwait",
            "Latvia",
            "Lebanon",
            "Liechtenstein",
            "Lithuania",
            "Luxembourg",
            "Macao SAR",
            "Macau",
            "Malaysia",
            "Maldives",
            "Malta",
            "Martinique",
            "Mexico",
            "Moldova",
            "Monaco",
            "Mongolia",
            "Morocco",
            "Nepal",
            "Netherlands",
            "New Zealand",
            "Nigeria",
            "North Ireland",
            "North Macedonia",
            "Norway",
            "Oman",
            "Others",
            "Pakistan",
            "Palestine",
            "Panama",
            "Paraguay",
            "Peru",
            "Philippines",
            "Poland",
            "Portugal",
            "Qatar",
            "Republic of Ireland",
            "Republic of Korea",
            "Republic of Moldova",
            "Reunion",
            "Romania",
            "Russia",
            "Russian Federation",
            "Saint Barthelemy",
            "Saint Martin",
            "San Marino",
            "Saudi Arabia",
            "Senegal",
            "Serbia",
            "Singapore",
            "Slovakia",
            "Slovenia",
            "South Africa",
            "South Korea",
            "Spain",
            "Sri Lanka",
            "St. Martin",
            "Sweden",
            "Switzerland",
            "Taipei and environs",
            "Taiwan",
            "Taiwan*",
            "Thailand",
            "Togo",
            "Tunisia",
            "Turkey",
            "UK",
            "US",
            "Ukraine",
            "United Arab Emirates",
            "United Kingdom",
            "Vatican City",
            "Viet Nam",
            "Vietnam",
            "occupied Palestinian territory"
           ],
           "marker": {
            "color": "#636efa",
            "size": [
             0.3010299956639812,
             0.6989700043360189,
             0.47712125471966244,
             1.3222192947339193,
             0.3010299956639812,
             1.1139433523068367,
             0.3010299956639812,
             1.8325089127062364,
             2.12057393120585,
             1,
             1.9822712330395684,
             0.6020599913279624,
             0.8450980400142568,
             2.380211241711606,
             0.3010299956639812,
             0,
             0.6020599913279624,
             1.414973347970818,
             0.3010299956639812,
             0.6989700043360189,
             0,
             0.47712125471966244,
             0.47712125471966244,
             1.8864907251724818,
             0,
             0.9542425094393249,
             4.885943282038525,
             0.3010299956639812,
             0,
             1,
             0,
             1.1139433523068367,
             0,
             0,
             0.47712125471966244,
             1.505149978319906,
             0,
             1.9590413923210936,
             0.7781512503836436,
             1.2041199826559248,
             1.7481880270062005,
             1.0413926851582251,
             0.47712125471966244,
             1.4913616938342726,
             3.0827853703164503,
             0.7781512503836436,
             1.2041199826559248,
             3.0707764628434346,
             0.3010299956639812,
             1.8692317197309762,
             0,
             0,
             0,
             2.0644579892269186,
             0,
             1,
             1.7708520116421442,
             1.6434526764861874,
             1.3010299956639813,
             3.855034316675884,
             0,
             1.7853298350107671,
             1.3424226808222062,
             1.6020599913279623,
             3.962511393507597,
             0,
             2.709269960975831,
             0.3010299956639812,
             0,
             1.8129133566428555,
             0.8450980400142568,
             1.5185139398778875,
             0.3010299956639812,
             0.47712125471966244,
             0.6020599913279624,
             0,
             1.0413926851582251,
             2.0718820073061255,
             0.6989700043360189,
             0.6020599913279624,
             0.47712125471966244,
             0.9030899869919435,
             0.3010299956639812,
             0.47712125471966244,
             0,
             0.47712125471966244,
             0.47712125471966244,
             2.507855871695831,
             0.7781512503836436,
             0.47712125471966244,
             0.3010299956639812,
             0.6020599913279624,
             2.3138672203691533,
             1.2304489213782739,
             2.8432327780980096,
             0.8450980400142568,
             1.3617278360175928,
             0,
             0.3010299956639812,
             0.9030899869919435,
             1.3222192947339193,
             1.2304489213782739,
             1.4913616938342726,
             1.2787536009528289,
             1.3424226808222062,
             0,
             0,
             0,
             1.2041199826559248,
             1.255272505103306,
             0,
             0.3010299956639812,
             0,
             1.568201724066995,
             1.2041199826559248,
             0.6989700043360189,
             0.3010299956639812,
             2.1789769472931693,
             0.6020599913279624,
             1.2304489213782739,
             0.6020599913279624,
             3.873843533223436,
             3.0310042813635367,
             0.47712125471966244,
             0.47712125471966244,
             2.3961993470957363,
             2.574031267727719,
             0,
             1.662757831681574,
             0,
             1.7075701760979363,
             0.3010299956639812,
             0.47712125471966244,
             0,
             2.507855871695831,
             2.3096301674258988,
             0.3010299956639812,
             1.662757831681574,
             0,
             0.3010299956639812,
             0,
             1.4913616938342726,
             0
            ],
            "sizemode": "area",
            "sizeref": 0.012270166519720165
           },
           "name": "",
           "showlegend": false,
           "type": "scattergeo"
          }
         ],
         "name": "2020-03-09 00:00:00"
        },
        {
         "data": [
          {
           "customdata": [
            [
             1
            ],
            [
             5
            ],
            [
             10
            ],
            [
             20
            ],
            [
             1
            ],
            [
             17
            ],
            [
             1
            ],
            [
             98
            ],
            [
             182
            ],
            [
             11
            ],
            [
             110
            ],
            [
             3
            ],
            [
             9
            ],
            [
             267
            ],
            [
             1
            ],
            [
             0
            ],
            [
             5
            ],
            [
             31
            ],
            [
             1
            ],
            [
             4
            ],
            [
             1
            ],
            [
             2
            ],
            [
             2
            ],
            [
             40
            ],
            [
             1
            ],
            [
             13
            ],
            [
             77201
            ],
            [
             3
            ],
            [
             0
            ],
            [
             9
            ],
            [
             0
            ],
            [
             14
            ],
            [
             0
            ],
            [
             0
            ],
            [
             3
            ],
            [
             41
            ],
            [
             0
            ],
            [
             262
            ],
            [
             5
            ],
            [
             15
            ],
            [
             59
            ],
            [
             12
            ],
            [
             2
            ],
            [
             40
            ],
            [
             1784
            ],
            [
             5
            ],
            [
             15
            ],
            [
             1457
            ],
            [
             1
            ],
            [
             89
            ],
            [
             0
            ],
            [
             1
            ],
            [
             0
            ],
            [
             115
            ],
            [
             120
            ],
            [
             9
            ],
            [
             69
            ],
            [
             56
            ],
            [
             27
            ],
            [
             7161
            ],
            [
             8042
            ],
            [
             71
            ],
            [
             34
            ],
            [
             58
            ],
            [
             10149
            ],
            [
             0
            ],
            [
             581
            ],
            [
             1
            ],
            [
             0
            ],
            [
             69
            ],
            [
             8
            ],
            [
             41
            ],
            [
             1
            ],
            [
             2
            ],
            [
             5
            ],
            [
             10
            ],
            [
             10
            ],
            [
             129
            ],
            [
             6
            ],
            [
             5
            ],
            [
             2
            ],
            [
             7
            ],
            [
             1
            ],
            [
             2
            ],
            [
             1
            ],
            [
             3
            ],
            [
             1
            ],
            [
             382
            ],
            [
             5
            ],
            [
             2
            ],
            [
             1
            ],
            [
             7
            ],
            [
             400
            ],
            [
             18
            ],
            [
             696
            ],
            [
             16
            ],
            [
             22
            ],
            [
             1
            ],
            [
             1
            ],
            [
             11
            ],
            [
             33
            ],
            [
             22
            ],
            [
             41
            ],
            [
             24
            ],
            [
             21
            ],
            [
             7513
            ],
            [
             3
            ],
            [
             0
            ],
            [
             25
            ],
            [
             17
            ],
            [
             10
            ],
            [
             1
            ],
            [
             2
            ],
            [
             51
            ],
            [
             20
            ],
            [
             4
            ],
            [
             5
            ],
            [
             160
            ],
            [
             7
            ],
            [
             31
            ],
            [
             7
            ],
            [
             7478
            ],
            [
             1695
            ],
            [
             1
            ],
            [
             2
            ],
            [
             355
            ],
            [
             491
            ],
            [
             47
            ],
            [
             45
            ],
            [
             0
            ],
            [
             53
            ],
            [
             1
            ],
            [
             5
            ],
            [
             0
            ],
            [
             382
            ],
            [
             959
            ],
            [
             1
            ],
            [
             74
            ],
            [
             0
            ],
            [
             1
            ],
            [
             31
            ],
            [
             30
            ],
            [
             25
            ]
           ],
           "geo": "geo",
           "hoverlabel": {
            "namelength": 0
           },
           "hovertemplate": "Date=2020-03-10 00:00:00<br>Log Confirmed=%{marker.size}<br>Confirmed=%{customdata[0]}<br>Country/Region=%{location}",
           "legendgroup": "",
           "locationmode": "country names",
           "locations": [
            " Azerbaijan",
            "Afghanistan",
            "Albania",
            "Algeria",
            "Andorra",
            "Argentina",
            "Armenia",
            "Australia",
            "Austria",
            "Azerbaijan",
            "Bahrain",
            "Bangladesh",
            "Belarus",
            "Belgium",
            "Bhutan",
            "Bolivia",
            "Bosnia and Herzegovina",
            "Brazil",
            "Brunei",
            "Bulgaria",
            "Burkina Faso",
            "Cambodia",
            "Cameroon",
            "Canada",
            "Channel Islands",
            "Chile",
            "China",
            "Colombia",
            "Congo (Kinshasa)",
            "Costa Rica",
            "Cote d'Ivoire",
            "Croatia",
            "Cruise Ship",
            "Cuba",
            "Cyprus",
            "Czech Republic",
            "Czechia",
            "Denmark",
            "Dominican Republic",
            "Ecuador",
            "Egypt",
            "Estonia",
            "Faroe Islands",
            "Finland",
            "France",
            "French Guiana",
            "Georgia",
            "Germany",
            "Gibraltar",
            "Greece",
            "Guyana",
            "Holy See",
            "Honduras",
            "Hong Kong",
            "Hong Kong SAR",
            "Hungary",
            "Iceland",
            "India",
            "Indonesia",
            "Iran",
            "Iran (Islamic Republic of)",
            "Iraq",
            "Ireland",
            "Israel",
            "Italy",
            "Jamaica",
            "Japan",
            "Jordan",
            "Korea, South",
            "Kuwait",
            "Latvia",
            "Lebanon",
            "Liechtenstein",
            "Lithuania",
            "Luxembourg",
            "Macao SAR",
            "Macau",
            "Malaysia",
            "Maldives",
            "Malta",
            "Martinique",
            "Mexico",
            "Moldova",
            "Monaco",
            "Mongolia",
            "Morocco",
            "Nepal",
            "Netherlands",
            "New Zealand",
            "Nigeria",
            "North Ireland",
            "North Macedonia",
            "Norway",
            "Oman",
            "Others",
            "Pakistan",
            "Palestine",
            "Panama",
            "Paraguay",
            "Peru",
            "Philippines",
            "Poland",
            "Portugal",
            "Qatar",
            "Republic of Ireland",
            "Republic of Korea",
            "Republic of Moldova",
            "Reunion",
            "Romania",
            "Russia",
            "Russian Federation",
            "Saint Barthelemy",
            "Saint Martin",
            "San Marino",
            "Saudi Arabia",
            "Senegal",
            "Serbia",
            "Singapore",
            "Slovakia",
            "Slovenia",
            "South Africa",
            "South Korea",
            "Spain",
            "Sri Lanka",
            "St. Martin",
            "Sweden",
            "Switzerland",
            "Taipei and environs",
            "Taiwan",
            "Taiwan*",
            "Thailand",
            "Togo",
            "Tunisia",
            "Turkey",
            "UK",
            "US",
            "Ukraine",
            "United Arab Emirates",
            "United Kingdom",
            "Vatican City",
            "Viet Nam",
            "Vietnam",
            "occupied Palestinian territory"
           ],
           "marker": {
            "color": "#636efa",
            "size": [
             0.3010299956639812,
             0.7781512503836436,
             1.0413926851582251,
             1.3222192947339193,
             0.3010299956639812,
             1.255272505103306,
             0.3010299956639812,
             1.99563519459755,
             2.2624510897304293,
             1.0791812460476249,
             2.0453229787866576,
             0.6020599913279624,
             1,
             2.428134794028789,
             0.3010299956639812,
             0,
             0.7781512503836436,
             1.505149978319906,
             0.3010299956639812,
             0.6989700043360189,
             0.3010299956639812,
             0.47712125471966244,
             0.47712125471966244,
             1.6127838567197355,
             0.3010299956639812,
             1.146128035678238,
             4.887628551342379,
             0.6020599913279624,
             0,
             1,
             0,
             1.1760912590556813,
             0,
             0,
             0.6020599913279624,
             1.6232492903979006,
             0,
             2.419955748489758,
             0.7781512503836436,
             1.2041199826559248,
             1.7781512503836436,
             1.1139433523068367,
             0.47712125471966244,
             1.6127838567197355,
             3.251638220448212,
             0.7781512503836436,
             1.2041199826559248,
             3.163757523981956,
             0.3010299956639812,
             1.954242509439325,
             0,
             0.3010299956639812,
             0,
             2.0644579892269186,
             2.0827853703164503,
             1,
             1.845098040014257,
             1.7558748556724915,
             1.4471580313422192,
             3.855034316675884,
             3.905418068702542,
             1.8573324964312685,
             1.5440680443502757,
             1.7708520116421442,
             4.006466042249231,
             0,
             2.7649229846498886,
             0.3010299956639812,
             0,
             1.845098040014257,
             0.9542425094393249,
             1.6232492903979006,
             0.3010299956639812,
             0.47712125471966244,
             0.7781512503836436,
             1.0413926851582251,
             1.0413926851582251,
             2.113943352306837,
             0.8450980400142568,
             0.7781512503836436,
             0.47712125471966244,
             0.9030899869919435,
             0.3010299956639812,
             0.47712125471966244,
             0.3010299956639812,
             0.6020599913279624,
             0.3010299956639812,
             2.583198773968623,
             0.7781512503836436,
             0.47712125471966244,
             0.3010299956639812,
             0.9030899869919435,
             2.603144372620182,
             1.2787536009528289,
             2.8432327780980096,
             1.2304489213782739,
             1.3617278360175928,
             0.3010299956639812,
             0.3010299956639812,
             1.0791812460476249,
             1.5314789170422551,
             1.3617278360175928,
             1.6232492903979006,
             1.3979400086720377,
             1.3424226808222062,
             3.875871190727366,
             0.6020599913279624,
             0,
             1.414973347970818,
             1.255272505103306,
             1.0413926851582251,
             0.3010299956639812,
             0.47712125471966244,
             1.7160033436347992,
             1.3222192947339193,
             0.6989700043360189,
             0.7781512503836436,
             2.2068258760318495,
             0.9030899869919435,
             1.505149978319906,
             0.9030899869919435,
             3.873843533223436,
             3.229425847920695,
             0.3010299956639812,
             0.47712125471966244,
             2.5514499979728753,
             2.69196510276736,
             1.6812412373755872,
             1.662757831681574,
             0,
             1.7323937598229686,
             0.3010299956639812,
             0.7781512503836436,
             0,
             2.583198773968623,
             2.9822712330395684,
             0.3010299956639812,
             1.8750612633917,
             0,
             0.3010299956639812,
             1.505149978319906,
             1.4913616938342726,
             1.414973347970818
            ],
            "sizemode": "area",
            "sizeref": 0.012270166519720165
           },
           "name": "",
           "showlegend": false,
           "type": "scattergeo"
          }
         ],
         "name": "2020-03-10 00:00:00"
        },
        {
         "data": [
          {
           "customdata": [
            [
             1
            ],
            [
             7
            ],
            [
             12
            ],
            [
             20
            ],
            [
             1
            ],
            [
             19
            ],
            [
             1
            ],
            [
             127
            ],
            [
             246
            ],
            [
             11
            ],
            [
             195
            ],
            [
             3
            ],
            [
             9
            ],
            [
             314
            ],
            [
             1
            ],
            [
             2
            ],
            [
             7
            ],
            [
             38
            ],
            [
             11
            ],
            [
             7
            ],
            [
             2
            ],
            [
             3
            ],
            [
             2
            ],
            [
             108
            ],
            [
             1
            ],
            [
             23
            ],
            [
             80921
            ],
            [
             9
            ],
            [
             1
            ],
            [
             13
            ],
            [
             1
            ],
            [
             19
            ],
            [
             696
            ],
            [
             0
            ],
            [
             6
            ],
            [
             41
            ],
            [
             91
            ],
            [
             444
            ],
            [
             5
            ],
            [
             17
            ],
            [
             60
            ],
            [
             16
            ],
            [
             2
            ],
            [
             59
            ],
            [
             2284
            ],
            [
             5
            ],
            [
             24
            ],
            [
             1908
            ],
            [
             1
            ],
            [
             99
            ],
            [
             0
            ],
            [
             1
            ],
            [
             2
            ],
            [
             115
            ],
            [
             120
            ],
            [
             13
            ],
            [
             85
            ],
            [
             62
            ],
            [
             34
            ],
            [
             9000
            ],
            [
             8042
            ],
            [
             71
            ],
            [
             43
            ],
            [
             109
            ],
            [
             12462
            ],
            [
             1
            ],
            [
             639
            ],
            [
             1
            ],
            [
             7755
            ],
            [
             72
            ],
            [
             10
            ],
            [
             61
            ],
            [
             1
            ],
            [
             3
            ],
            [
             7
            ],
            [
             10
            ],
            [
             10
            ],
            [
             149
            ],
            [
             8
            ],
            [
             6
            ],
            [
             3
            ],
            [
             8
            ],
            [
             3
            ],
            [
             2
            ],
            [
             1
            ],
            [
             5
            ],
            [
             1
            ],
            [
             503
            ],
            [
             5
            ],
            [
             2
            ],
            [
             1
            ],
            [
             7
            ],
            [
             598
            ],
            [
             18
            ],
            [
             696
            ],
            [
             19
            ],
            [
             22
            ],
            [
             8
            ],
            [
             5
            ],
            [
             11
            ],
            [
             49
            ],
            [
             31
            ],
            [
             59
            ],
            [
             262
            ],
            [
             21
            ],
            [
             7513
            ],
            [
             3
            ],
            [
             1
            ],
            [
             45
            ],
            [
             20
            ],
            [
             10
            ],
            [
             1
            ],
            [
             2
            ],
            [
             62
            ],
            [
             21
            ],
            [
             4
            ],
            [
             12
            ],
            [
             178
            ],
            [
             10
            ],
            [
             57
            ],
            [
             13
            ],
            [
             7478
            ],
            [
             2277
            ],
            [
             2
            ],
            [
             2
            ],
            [
             500
            ],
            [
             652
            ],
            [
             47
            ],
            [
             45
            ],
            [
             48
            ],
            [
             59
            ],
            [
             1
            ],
            [
             7
            ],
            [
             1
            ],
            [
             382
            ],
            [
             1200
            ],
            [
             1
            ],
            [
             74
            ],
            [
             459
            ],
            [
             1
            ],
            [
             31
            ],
            [
             38
            ],
            [
             0
            ]
           ],
           "geo": "geo",
           "hoverlabel": {
            "namelength": 0
           },
           "hovertemplate": "Date=2020-03-11 00:00:00<br>Log Confirmed=%{marker.size}<br>Confirmed=%{customdata[0]}<br>Country/Region=%{location}",
           "legendgroup": "",
           "locationmode": "country names",
           "locations": [
            " Azerbaijan",
            "Afghanistan",
            "Albania",
            "Algeria",
            "Andorra",
            "Argentina",
            "Armenia",
            "Australia",
            "Austria",
            "Azerbaijan",
            "Bahrain",
            "Bangladesh",
            "Belarus",
            "Belgium",
            "Bhutan",
            "Bolivia",
            "Bosnia and Herzegovina",
            "Brazil",
            "Brunei",
            "Bulgaria",
            "Burkina Faso",
            "Cambodia",
            "Cameroon",
            "Canada",
            "Channel Islands",
            "Chile",
            "China",
            "Colombia",
            "Congo (Kinshasa)",
            "Costa Rica",
            "Cote d'Ivoire",
            "Croatia",
            "Cruise Ship",
            "Cuba",
            "Cyprus",
            "Czech Republic",
            "Czechia",
            "Denmark",
            "Dominican Republic",
            "Ecuador",
            "Egypt",
            "Estonia",
            "Faroe Islands",
            "Finland",
            "France",
            "French Guiana",
            "Georgia",
            "Germany",
            "Gibraltar",
            "Greece",
            "Guyana",
            "Holy See",
            "Honduras",
            "Hong Kong",
            "Hong Kong SAR",
            "Hungary",
            "Iceland",
            "India",
            "Indonesia",
            "Iran",
            "Iran (Islamic Republic of)",
            "Iraq",
            "Ireland",
            "Israel",
            "Italy",
            "Jamaica",
            "Japan",
            "Jordan",
            "Korea, South",
            "Kuwait",
            "Latvia",
            "Lebanon",
            "Liechtenstein",
            "Lithuania",
            "Luxembourg",
            "Macao SAR",
            "Macau",
            "Malaysia",
            "Maldives",
            "Malta",
            "Martinique",
            "Mexico",
            "Moldova",
            "Monaco",
            "Mongolia",
            "Morocco",
            "Nepal",
            "Netherlands",
            "New Zealand",
            "Nigeria",
            "North Ireland",
            "North Macedonia",
            "Norway",
            "Oman",
            "Others",
            "Pakistan",
            "Palestine",
            "Panama",
            "Paraguay",
            "Peru",
            "Philippines",
            "Poland",
            "Portugal",
            "Qatar",
            "Republic of Ireland",
            "Republic of Korea",
            "Republic of Moldova",
            "Reunion",
            "Romania",
            "Russia",
            "Russian Federation",
            "Saint Barthelemy",
            "Saint Martin",
            "San Marino",
            "Saudi Arabia",
            "Senegal",
            "Serbia",
            "Singapore",
            "Slovakia",
            "Slovenia",
            "South Africa",
            "South Korea",
            "Spain",
            "Sri Lanka",
            "St. Martin",
            "Sweden",
            "Switzerland",
            "Taipei and environs",
            "Taiwan",
            "Taiwan*",
            "Thailand",
            "Togo",
            "Tunisia",
            "Turkey",
            "UK",
            "US",
            "Ukraine",
            "United Arab Emirates",
            "United Kingdom",
            "Vatican City",
            "Viet Nam",
            "Vietnam",
            "occupied Palestinian territory"
           ],
           "marker": {
            "color": "#636efa",
            "size": [
             0.3010299956639812,
             0.9030899869919435,
             1.1139433523068367,
             1.3222192947339193,
             0.3010299956639812,
             1.3010299956639813,
             0.3010299956639812,
             2.1072099696478683,
             2.392696953259666,
             1.0791812460476249,
             2.292256071356476,
             0.6020599913279624,
             1,
             2.4983105537896004,
             0.3010299956639812,
             0.47712125471966244,
             0.9030899869919435,
             1.591064607026499,
             1.0791812460476249,
             0.9030899869919435,
             0.47712125471966244,
             0.6020599913279624,
             0.47712125471966244,
             2.037426497940624,
             0.3010299956639812,
             1.380211241711606,
             4.908066607888066,
             1,
             0.3010299956639812,
             1.146128035678238,
             0.3010299956639812,
             1.3010299956639813,
             2.8432327780980096,
             0,
             0.8450980400142568,
             1.6232492903979006,
             1.9637878273455553,
             2.6483600109809315,
             0.7781512503836436,
             1.255272505103306,
             1.7853298350107671,
             1.2304489213782739,
             0.47712125471966244,
             1.7781512503836436,
             3.358886204405869,
             0.7781512503836436,
             1.3979400086720377,
             3.280805928393667,
             0.3010299956639812,
             2,
             0,
             0.3010299956639812,
             0.47712125471966244,
             2.0644579892269186,
             2.0827853703164503,
             1.146128035678238,
             1.9344984512435677,
             1.7993405494535817,
             1.5440680443502757,
             3.954290761701127,
             3.905418068702542,
             1.8573324964312685,
             1.6434526764861874,
             2.041392685158225,
             4.095622595021622,
             0.3010299956639812,
             2.806179973983887,
             0.3010299956639812,
             3.8896378004066676,
             1.863322860120456,
             1.0413926851582251,
             1.792391689498254,
             0.3010299956639812,
             0.6020599913279624,
             0.9030899869919435,
             1.0413926851582251,
             1.0413926851582251,
             2.1760912590556813,
             0.9542425094393249,
             0.8450980400142568,
             0.6020599913279624,
             0.9542425094393249,
             0.6020599913279624,
             0.47712125471966244,
             0.3010299956639812,
             0.7781512503836436,
             0.3010299956639812,
             2.7024305364455254,
             0.7781512503836436,
             0.47712125471966244,
             0.3010299956639812,
             0.9030899869919435,
             2.7774268223893115,
             1.2787536009528289,
             2.8432327780980096,
             1.3010299956639813,
             1.3617278360175928,
             0.9542425094393249,
             0.7781512503836436,
             1.0791812460476249,
             1.6989700043360187,
             1.505149978319906,
             1.7781512503836436,
             2.419955748489758,
             1.3424226808222062,
             3.875871190727366,
             0.6020599913279624,
             0.3010299956639812,
             1.662757831681574,
             1.3222192947339193,
             1.0413926851582251,
             0.3010299956639812,
             0.47712125471966244,
             1.7993405494535817,
             1.3424226808222062,
             0.6989700043360189,
             1.1139433523068367,
             2.2528530309798933,
             1.0413926851582251,
             1.7634279935629373,
             1.146128035678238,
             3.873843533223436,
             3.3575537197430814,
             0.47712125471966244,
             0.47712125471966244,
             2.699837725867246,
             2.814913181275074,
             1.6812412373755872,
             1.662757831681574,
             1.6901960800285136,
             1.7781512503836436,
             0.3010299956639812,
             0.9030899869919435,
             0.3010299956639812,
             2.583198773968623,
             3.079543007402906,
             0.3010299956639812,
             1.8750612633917,
             2.662757831681574,
             0.3010299956639812,
             1.505149978319906,
             1.591064607026499,
             0
            ],
            "sizemode": "area",
            "sizeref": 0.012270166519720165
           },
           "name": "",
           "showlegend": false,
           "type": "scattergeo"
          }
         ],
         "name": "2020-03-11 00:00:00"
        },
        {
         "data": [
          {
           "customdata": [
            [
             1
            ],
            [
             7
            ],
            [
             23
            ],
            [
             24
            ],
            [
             1
            ],
            [
             19
            ],
            [
             4
            ],
            [
             127
            ],
            [
             302
            ],
            [
             11
            ],
            [
             195
            ],
            [
             3
            ],
            [
             12
            ],
            [
             314
            ],
            [
             1
            ],
            [
             2
            ],
            [
             11
            ],
            [
             52
            ],
            [
             11
            ],
            [
             7
            ],
            [
             2
            ],
            [
             3
            ],
            [
             2
            ],
            [
             97
            ],
            [
             1
            ],
            [
             23
            ],
            [
             77817
            ],
            [
             9
            ],
            [
             1
            ],
            [
             22
            ],
            [
             1
            ],
            [
             19
            ],
            [
             696
            ],
            [
             3
            ],
            [
             6
            ],
            [
             41
            ],
            [
             94
            ],
            [
             615
            ],
            [
             5
            ],
            [
             17
            ],
            [
             67
            ],
            [
             16
            ],
            [
             2
            ],
            [
             59
            ],
            [
             2284
            ],
            [
             5
            ],
            [
             24
            ],
            [
             2078
            ],
            [
             1
            ],
            [
             99
            ],
            [
             1
            ],
            [
             1
            ],
            [
             2
            ],
            [
             115
            ],
            [
             120
            ],
            [
             13
            ],
            [
             103
            ],
            [
             73
            ],
            [
             34
            ],
            [
             10075
            ],
            [
             8042
            ],
            [
             71
            ],
            [
             43
            ],
            [
             131
            ],
            [
             12462
            ],
            [
             2
            ],
            [
             639
            ],
            [
             1
            ],
            [
             7869
            ],
            [
             80
            ],
            [
             10
            ],
            [
             61
            ],
            [
             1
            ],
            [
             3
            ],
            [
             19
            ],
            [
             10
            ],
            [
             10
            ],
            [
             149
            ],
            [
             8
            ],
            [
             6
            ],
            [
             3
            ],
            [
             12
            ],
            [
             3
            ],
            [
             2
            ],
            [
             1
            ],
            [
             6
            ],
            [
             1
            ],
            [
             503
            ],
            [
             5
            ],
            [
             2
            ],
            [
             1
            ],
            [
             7
            ],
            [
             702
            ],
            [
             18
            ],
            [
             696
            ],
            [
             20
            ],
            [
             22
            ],
            [
             11
            ],
            [
             5
            ],
            [
             15
            ],
            [
             52
            ],
            [
             49
            ],
            [
             59
            ],
            [
             262
            ],
            [
             21
            ],
            [
             7513
            ],
            [
             3
            ],
            [
             1
            ],
            [
             49
            ],
            [
             28
            ],
            [
             10
            ],
            [
             1
            ],
            [
             2
            ],
            [
             69
            ],
            [
             45
            ],
            [
             4
            ],
            [
             19
            ],
            [
             178
            ],
            [
             16
            ],
            [
             89
            ],
            [
             17
            ],
            [
             7478
            ],
            [
             2277
            ],
            [
             2
            ],
            [
             2
            ],
            [
             599
            ],
            [
             652
            ],
            [
             47
            ],
            [
             45
            ],
            [
             49
            ],
            [
             70
            ],
            [
             1
            ],
            [
             7
            ],
            [
             1
            ],
            [
             382
            ],
            [
             1554
            ],
            [
             1
            ],
            [
             85
            ],
            [
             459
            ],
            [
             1
            ],
            [
             31
            ],
            [
             39
            ],
            [
             0
            ]
           ],
           "geo": "geo",
           "hoverlabel": {
            "namelength": 0
           },
           "hovertemplate": "Date=2020-03-12 00:00:00<br>Log Confirmed=%{marker.size}<br>Confirmed=%{customdata[0]}<br>Country/Region=%{location}",
           "legendgroup": "",
           "locationmode": "country names",
           "locations": [
            " Azerbaijan",
            "Afghanistan",
            "Albania",
            "Algeria",
            "Andorra",
            "Argentina",
            "Armenia",
            "Australia",
            "Austria",
            "Azerbaijan",
            "Bahrain",
            "Bangladesh",
            "Belarus",
            "Belgium",
            "Bhutan",
            "Bolivia",
            "Bosnia and Herzegovina",
            "Brazil",
            "Brunei",
            "Bulgaria",
            "Burkina Faso",
            "Cambodia",
            "Cameroon",
            "Canada",
            "Channel Islands",
            "Chile",
            "China",
            "Colombia",
            "Congo (Kinshasa)",
            "Costa Rica",
            "Cote d'Ivoire",
            "Croatia",
            "Cruise Ship",
            "Cuba",
            "Cyprus",
            "Czech Republic",
            "Czechia",
            "Denmark",
            "Dominican Republic",
            "Ecuador",
            "Egypt",
            "Estonia",
            "Faroe Islands",
            "Finland",
            "France",
            "French Guiana",
            "Georgia",
            "Germany",
            "Gibraltar",
            "Greece",
            "Guyana",
            "Holy See",
            "Honduras",
            "Hong Kong",
            "Hong Kong SAR",
            "Hungary",
            "Iceland",
            "India",
            "Indonesia",
            "Iran",
            "Iran (Islamic Republic of)",
            "Iraq",
            "Ireland",
            "Israel",
            "Italy",
            "Jamaica",
            "Japan",
            "Jordan",
            "Korea, South",
            "Kuwait",
            "Latvia",
            "Lebanon",
            "Liechtenstein",
            "Lithuania",
            "Luxembourg",
            "Macao SAR",
            "Macau",
            "Malaysia",
            "Maldives",
            "Malta",
            "Martinique",
            "Mexico",
            "Moldova",
            "Monaco",
            "Mongolia",
            "Morocco",
            "Nepal",
            "Netherlands",
            "New Zealand",
            "Nigeria",
            "North Ireland",
            "North Macedonia",
            "Norway",
            "Oman",
            "Others",
            "Pakistan",
            "Palestine",
            "Panama",
            "Paraguay",
            "Peru",
            "Philippines",
            "Poland",
            "Portugal",
            "Qatar",
            "Republic of Ireland",
            "Republic of Korea",
            "Republic of Moldova",
            "Reunion",
            "Romania",
            "Russia",
            "Russian Federation",
            "Saint Barthelemy",
            "Saint Martin",
            "San Marino",
            "Saudi Arabia",
            "Senegal",
            "Serbia",
            "Singapore",
            "Slovakia",
            "Slovenia",
            "South Africa",
            "South Korea",
            "Spain",
            "Sri Lanka",
            "St. Martin",
            "Sweden",
            "Switzerland",
            "Taipei and environs",
            "Taiwan",
            "Taiwan*",
            "Thailand",
            "Togo",
            "Tunisia",
            "Turkey",
            "UK",
            "US",
            "Ukraine",
            "United Arab Emirates",
            "United Kingdom",
            "Vatican City",
            "Viet Nam",
            "Vietnam",
            "occupied Palestinian territory"
           ],
           "marker": {
            "color": "#636efa",
            "size": [
             0.3010299956639812,
             0.9030899869919435,
             1.380211241711606,
             1.3979400086720377,
             0.3010299956639812,
             1.3010299956639813,
             0.6989700043360189,
             2.1072099696478683,
             2.481442628502305,
             1.0791812460476249,
             2.292256071356476,
             0.6020599913279624,
             1.1139433523068367,
             2.4983105537896004,
             0.3010299956639812,
             0.47712125471966244,
             1.0791812460476249,
             1.724275869600789,
             1.0791812460476249,
             0.9030899869919435,
             0.47712125471966244,
             0.6020599913279624,
             0.47712125471966244,
             1.9912260756924949,
             0.3010299956639812,
             1.380211241711606,
             4.8910800648110095,
             1,
             0.3010299956639812,
             1.3617278360175928,
             0.3010299956639812,
             1.3010299956639813,
             2.8432327780980096,
             0.6020599913279624,
             0.8450980400142568,
             1.6232492903979006,
             1.9777236052888478,
             2.7895807121644256,
             0.7781512503836436,
             1.255272505103306,
             1.8325089127062364,
             1.2304489213782739,
             0.47712125471966244,
             1.7781512503836436,
             3.358886204405869,
             0.7781512503836436,
             1.3979400086720377,
             3.317854489331469,
             0.3010299956639812,
             2,
             0.3010299956639812,
             0.3010299956639812,
             0.47712125471966244,
             2.0644579892269186,
             2.0827853703164503,
             1.146128035678238,
             2.0170333392987803,
             1.8692317197309762,
             1.5440680443502757,
             4.003288158826075,
             3.905418068702542,
             1.8573324964312685,
             1.6434526764861874,
             2.12057393120585,
             4.095622595021622,
             0.47712125471966244,
             2.806179973983887,
             0.3010299956639812,
             3.8959747323590648,
             1.9084850188786497,
             1.0413926851582251,
             1.792391689498254,
             0.3010299956639812,
             0.6020599913279624,
             1.3010299956639813,
             1.0413926851582251,
             1.0413926851582251,
             2.1760912590556813,
             0.9542425094393249,
             0.8450980400142568,
             0.6020599913279624,
             1.1139433523068367,
             0.6020599913279624,
             0.47712125471966244,
             0.3010299956639812,
             0.8450980400142568,
             0.3010299956639812,
             2.7024305364455254,
             0.7781512503836436,
             0.47712125471966244,
             0.3010299956639812,
             0.9030899869919435,
             2.846955325019824,
             1.2787536009528289,
             2.8432327780980096,
             1.3222192947339193,
             1.3617278360175928,
             1.0791812460476249,
             0.7781512503836436,
             1.2041199826559248,
             1.724275869600789,
             1.6989700043360187,
             1.7781512503836436,
             2.419955748489758,
             1.3424226808222062,
             3.875871190727366,
             0.6020599913279624,
             0.3010299956639812,
             1.6989700043360187,
             1.462397997898956,
             1.0413926851582251,
             0.3010299956639812,
             0.47712125471966244,
             1.845098040014257,
             1.662757831681574,
             0.6989700043360189,
             1.3010299956639813,
             2.2528530309798933,
             1.2304489213782739,
             1.954242509439325,
             1.255272505103306,
             3.873843533223436,
             3.3575537197430814,
             0.47712125471966244,
             0.47712125471966244,
             2.7781512503836434,
             2.814913181275074,
             1.6812412373755872,
             1.662757831681574,
             1.6989700043360187,
             1.8512583487190752,
             0.3010299956639812,
             0.9030899869919435,
             0.3010299956639812,
             2.583198773968623,
             3.1917303933628562,
             0.3010299956639812,
             1.9344984512435677,
             2.662757831681574,
             0.3010299956639812,
             1.505149978319906,
             1.6020599913279623,
             0
            ],
            "sizemode": "area",
            "sizeref": 0.012270166519720165
           },
           "name": "",
           "showlegend": false,
           "type": "scattergeo"
          }
         ],
         "name": "2020-03-12 00:00:00"
        }
       ],
       "layout": {
        "geo": {
         "center": {},
         "domain": {
          "x": [
           0,
           1
          ],
          "y": [
           0,
           1
          ]
         }
        },
        "legend": {
         "itemsizing": "constant",
         "tracegroupgap": 0
        },
        "margin": {
         "t": 60
        },
        "sliders": [
         {
          "active": 0,
          "currentvalue": {
           "prefix": "Date="
          },
          "len": 0.9,
          "pad": {
           "b": 10,
           "t": 60
          },
          "steps": [
           {
            "args": [
             [
              "2020-02-01 00:00:00"
             ],
             {
              "frame": {
               "duration": 0,
               "redraw": true
              },
              "fromcurrent": true,
              "mode": "immediate",
              "transition": {
               "duration": 0,
               "easing": "linear"
              }
             }
            ],
            "label": "2020-02-01 00:00:00",
            "method": "animate"
           },
           {
            "args": [
             [
              "2020-02-02 00:00:00"
             ],
             {
              "frame": {
               "duration": 0,
               "redraw": true
              },
              "fromcurrent": true,
              "mode": "immediate",
              "transition": {
               "duration": 0,
               "easing": "linear"
              }
             }
            ],
            "label": "2020-02-02 00:00:00",
            "method": "animate"
           },
           {
            "args": [
             [
              "2020-02-03 00:00:00"
             ],
             {
              "frame": {
               "duration": 0,
               "redraw": true
              },
              "fromcurrent": true,
              "mode": "immediate",
              "transition": {
               "duration": 0,
               "easing": "linear"
              }
             }
            ],
            "label": "2020-02-03 00:00:00",
            "method": "animate"
           },
           {
            "args": [
             [
              "2020-02-04 00:00:00"
             ],
             {
              "frame": {
               "duration": 0,
               "redraw": true
              },
              "fromcurrent": true,
              "mode": "immediate",
              "transition": {
               "duration": 0,
               "easing": "linear"
              }
             }
            ],
            "label": "2020-02-04 00:00:00",
            "method": "animate"
           },
           {
            "args": [
             [
              "2020-02-05 00:00:00"
             ],
             {
              "frame": {
               "duration": 0,
               "redraw": true
              },
              "fromcurrent": true,
              "mode": "immediate",
              "transition": {
               "duration": 0,
               "easing": "linear"
              }
             }
            ],
            "label": "2020-02-05 00:00:00",
            "method": "animate"
           },
           {
            "args": [
             [
              "2020-02-06 00:00:00"
             ],
             {
              "frame": {
               "duration": 0,
               "redraw": true
              },
              "fromcurrent": true,
              "mode": "immediate",
              "transition": {
               "duration": 0,
               "easing": "linear"
              }
             }
            ],
            "label": "2020-02-06 00:00:00",
            "method": "animate"
           },
           {
            "args": [
             [
              "2020-02-07 00:00:00"
             ],
             {
              "frame": {
               "duration": 0,
               "redraw": true
              },
              "fromcurrent": true,
              "mode": "immediate",
              "transition": {
               "duration": 0,
               "easing": "linear"
              }
             }
            ],
            "label": "2020-02-07 00:00:00",
            "method": "animate"
           },
           {
            "args": [
             [
              "2020-02-08 00:00:00"
             ],
             {
              "frame": {
               "duration": 0,
               "redraw": true
              },
              "fromcurrent": true,
              "mode": "immediate",
              "transition": {
               "duration": 0,
               "easing": "linear"
              }
             }
            ],
            "label": "2020-02-08 00:00:00",
            "method": "animate"
           },
           {
            "args": [
             [
              "2020-02-09 00:00:00"
             ],
             {
              "frame": {
               "duration": 0,
               "redraw": true
              },
              "fromcurrent": true,
              "mode": "immediate",
              "transition": {
               "duration": 0,
               "easing": "linear"
              }
             }
            ],
            "label": "2020-02-09 00:00:00",
            "method": "animate"
           },
           {
            "args": [
             [
              "2020-02-10 00:00:00"
             ],
             {
              "frame": {
               "duration": 0,
               "redraw": true
              },
              "fromcurrent": true,
              "mode": "immediate",
              "transition": {
               "duration": 0,
               "easing": "linear"
              }
             }
            ],
            "label": "2020-02-10 00:00:00",
            "method": "animate"
           },
           {
            "args": [
             [
              "2020-02-11 00:00:00"
             ],
             {
              "frame": {
               "duration": 0,
               "redraw": true
              },
              "fromcurrent": true,
              "mode": "immediate",
              "transition": {
               "duration": 0,
               "easing": "linear"
              }
             }
            ],
            "label": "2020-02-11 00:00:00",
            "method": "animate"
           },
           {
            "args": [
             [
              "2020-02-12 00:00:00"
             ],
             {
              "frame": {
               "duration": 0,
               "redraw": true
              },
              "fromcurrent": true,
              "mode": "immediate",
              "transition": {
               "duration": 0,
               "easing": "linear"
              }
             }
            ],
            "label": "2020-02-12 00:00:00",
            "method": "animate"
           },
           {
            "args": [
             [
              "2020-02-13 00:00:00"
             ],
             {
              "frame": {
               "duration": 0,
               "redraw": true
              },
              "fromcurrent": true,
              "mode": "immediate",
              "transition": {
               "duration": 0,
               "easing": "linear"
              }
             }
            ],
            "label": "2020-02-13 00:00:00",
            "method": "animate"
           },
           {
            "args": [
             [
              "2020-02-14 00:00:00"
             ],
             {
              "frame": {
               "duration": 0,
               "redraw": true
              },
              "fromcurrent": true,
              "mode": "immediate",
              "transition": {
               "duration": 0,
               "easing": "linear"
              }
             }
            ],
            "label": "2020-02-14 00:00:00",
            "method": "animate"
           },
           {
            "args": [
             [
              "2020-02-15 00:00:00"
             ],
             {
              "frame": {
               "duration": 0,
               "redraw": true
              },
              "fromcurrent": true,
              "mode": "immediate",
              "transition": {
               "duration": 0,
               "easing": "linear"
              }
             }
            ],
            "label": "2020-02-15 00:00:00",
            "method": "animate"
           },
           {
            "args": [
             [
              "2020-02-16 00:00:00"
             ],
             {
              "frame": {
               "duration": 0,
               "redraw": true
              },
              "fromcurrent": true,
              "mode": "immediate",
              "transition": {
               "duration": 0,
               "easing": "linear"
              }
             }
            ],
            "label": "2020-02-16 00:00:00",
            "method": "animate"
           },
           {
            "args": [
             [
              "2020-02-17 00:00:00"
             ],
             {
              "frame": {
               "duration": 0,
               "redraw": true
              },
              "fromcurrent": true,
              "mode": "immediate",
              "transition": {
               "duration": 0,
               "easing": "linear"
              }
             }
            ],
            "label": "2020-02-17 00:00:00",
            "method": "animate"
           },
           {
            "args": [
             [
              "2020-02-18 00:00:00"
             ],
             {
              "frame": {
               "duration": 0,
               "redraw": true
              },
              "fromcurrent": true,
              "mode": "immediate",
              "transition": {
               "duration": 0,
               "easing": "linear"
              }
             }
            ],
            "label": "2020-02-18 00:00:00",
            "method": "animate"
           },
           {
            "args": [
             [
              "2020-02-19 00:00:00"
             ],
             {
              "frame": {
               "duration": 0,
               "redraw": true
              },
              "fromcurrent": true,
              "mode": "immediate",
              "transition": {
               "duration": 0,
               "easing": "linear"
              }
             }
            ],
            "label": "2020-02-19 00:00:00",
            "method": "animate"
           },
           {
            "args": [
             [
              "2020-02-20 00:00:00"
             ],
             {
              "frame": {
               "duration": 0,
               "redraw": true
              },
              "fromcurrent": true,
              "mode": "immediate",
              "transition": {
               "duration": 0,
               "easing": "linear"
              }
             }
            ],
            "label": "2020-02-20 00:00:00",
            "method": "animate"
           },
           {
            "args": [
             [
              "2020-02-21 00:00:00"
             ],
             {
              "frame": {
               "duration": 0,
               "redraw": true
              },
              "fromcurrent": true,
              "mode": "immediate",
              "transition": {
               "duration": 0,
               "easing": "linear"
              }
             }
            ],
            "label": "2020-02-21 00:00:00",
            "method": "animate"
           },
           {
            "args": [
             [
              "2020-02-22 00:00:00"
             ],
             {
              "frame": {
               "duration": 0,
               "redraw": true
              },
              "fromcurrent": true,
              "mode": "immediate",
              "transition": {
               "duration": 0,
               "easing": "linear"
              }
             }
            ],
            "label": "2020-02-22 00:00:00",
            "method": "animate"
           },
           {
            "args": [
             [
              "2020-02-23 00:00:00"
             ],
             {
              "frame": {
               "duration": 0,
               "redraw": true
              },
              "fromcurrent": true,
              "mode": "immediate",
              "transition": {
               "duration": 0,
               "easing": "linear"
              }
             }
            ],
            "label": "2020-02-23 00:00:00",
            "method": "animate"
           },
           {
            "args": [
             [
              "2020-02-24 00:00:00"
             ],
             {
              "frame": {
               "duration": 0,
               "redraw": true
              },
              "fromcurrent": true,
              "mode": "immediate",
              "transition": {
               "duration": 0,
               "easing": "linear"
              }
             }
            ],
            "label": "2020-02-24 00:00:00",
            "method": "animate"
           },
           {
            "args": [
             [
              "2020-02-25 00:00:00"
             ],
             {
              "frame": {
               "duration": 0,
               "redraw": true
              },
              "fromcurrent": true,
              "mode": "immediate",
              "transition": {
               "duration": 0,
               "easing": "linear"
              }
             }
            ],
            "label": "2020-02-25 00:00:00",
            "method": "animate"
           },
           {
            "args": [
             [
              "2020-02-26 00:00:00"
             ],
             {
              "frame": {
               "duration": 0,
               "redraw": true
              },
              "fromcurrent": true,
              "mode": "immediate",
              "transition": {
               "duration": 0,
               "easing": "linear"
              }
             }
            ],
            "label": "2020-02-26 00:00:00",
            "method": "animate"
           },
           {
            "args": [
             [
              "2020-02-27 00:00:00"
             ],
             {
              "frame": {
               "duration": 0,
               "redraw": true
              },
              "fromcurrent": true,
              "mode": "immediate",
              "transition": {
               "duration": 0,
               "easing": "linear"
              }
             }
            ],
            "label": "2020-02-27 00:00:00",
            "method": "animate"
           },
           {
            "args": [
             [
              "2020-02-28 00:00:00"
             ],
             {
              "frame": {
               "duration": 0,
               "redraw": true
              },
              "fromcurrent": true,
              "mode": "immediate",
              "transition": {
               "duration": 0,
               "easing": "linear"
              }
             }
            ],
            "label": "2020-02-28 00:00:00",
            "method": "animate"
           },
           {
            "args": [
             [
              "2020-02-29 00:00:00"
             ],
             {
              "frame": {
               "duration": 0,
               "redraw": true
              },
              "fromcurrent": true,
              "mode": "immediate",
              "transition": {
               "duration": 0,
               "easing": "linear"
              }
             }
            ],
            "label": "2020-02-29 00:00:00",
            "method": "animate"
           },
           {
            "args": [
             [
              "2020-03-01 00:00:00"
             ],
             {
              "frame": {
               "duration": 0,
               "redraw": true
              },
              "fromcurrent": true,
              "mode": "immediate",
              "transition": {
               "duration": 0,
               "easing": "linear"
              }
             }
            ],
            "label": "2020-03-01 00:00:00",
            "method": "animate"
           },
           {
            "args": [
             [
              "2020-03-02 00:00:00"
             ],
             {
              "frame": {
               "duration": 0,
               "redraw": true
              },
              "fromcurrent": true,
              "mode": "immediate",
              "transition": {
               "duration": 0,
               "easing": "linear"
              }
             }
            ],
            "label": "2020-03-02 00:00:00",
            "method": "animate"
           },
           {
            "args": [
             [
              "2020-03-03 00:00:00"
             ],
             {
              "frame": {
               "duration": 0,
               "redraw": true
              },
              "fromcurrent": true,
              "mode": "immediate",
              "transition": {
               "duration": 0,
               "easing": "linear"
              }
             }
            ],
            "label": "2020-03-03 00:00:00",
            "method": "animate"
           },
           {
            "args": [
             [
              "2020-03-04 00:00:00"
             ],
             {
              "frame": {
               "duration": 0,
               "redraw": true
              },
              "fromcurrent": true,
              "mode": "immediate",
              "transition": {
               "duration": 0,
               "easing": "linear"
              }
             }
            ],
            "label": "2020-03-04 00:00:00",
            "method": "animate"
           },
           {
            "args": [
             [
              "2020-03-05 00:00:00"
             ],
             {
              "frame": {
               "duration": 0,
               "redraw": true
              },
              "fromcurrent": true,
              "mode": "immediate",
              "transition": {
               "duration": 0,
               "easing": "linear"
              }
             }
            ],
            "label": "2020-03-05 00:00:00",
            "method": "animate"
           },
           {
            "args": [
             [
              "2020-03-06 00:00:00"
             ],
             {
              "frame": {
               "duration": 0,
               "redraw": true
              },
              "fromcurrent": true,
              "mode": "immediate",
              "transition": {
               "duration": 0,
               "easing": "linear"
              }
             }
            ],
            "label": "2020-03-06 00:00:00",
            "method": "animate"
           },
           {
            "args": [
             [
              "2020-03-07 00:00:00"
             ],
             {
              "frame": {
               "duration": 0,
               "redraw": true
              },
              "fromcurrent": true,
              "mode": "immediate",
              "transition": {
               "duration": 0,
               "easing": "linear"
              }
             }
            ],
            "label": "2020-03-07 00:00:00",
            "method": "animate"
           },
           {
            "args": [
             [
              "2020-03-08 00:00:00"
             ],
             {
              "frame": {
               "duration": 0,
               "redraw": true
              },
              "fromcurrent": true,
              "mode": "immediate",
              "transition": {
               "duration": 0,
               "easing": "linear"
              }
             }
            ],
            "label": "2020-03-08 00:00:00",
            "method": "animate"
           },
           {
            "args": [
             [
              "2020-03-09 00:00:00"
             ],
             {
              "frame": {
               "duration": 0,
               "redraw": true
              },
              "fromcurrent": true,
              "mode": "immediate",
              "transition": {
               "duration": 0,
               "easing": "linear"
              }
             }
            ],
            "label": "2020-03-09 00:00:00",
            "method": "animate"
           },
           {
            "args": [
             [
              "2020-03-10 00:00:00"
             ],
             {
              "frame": {
               "duration": 0,
               "redraw": true
              },
              "fromcurrent": true,
              "mode": "immediate",
              "transition": {
               "duration": 0,
               "easing": "linear"
              }
             }
            ],
            "label": "2020-03-10 00:00:00",
            "method": "animate"
           },
           {
            "args": [
             [
              "2020-03-11 00:00:00"
             ],
             {
              "frame": {
               "duration": 0,
               "redraw": true
              },
              "fromcurrent": true,
              "mode": "immediate",
              "transition": {
               "duration": 0,
               "easing": "linear"
              }
             }
            ],
            "label": "2020-03-11 00:00:00",
            "method": "animate"
           },
           {
            "args": [
             [
              "2020-03-12 00:00:00"
             ],
             {
              "frame": {
               "duration": 0,
               "redraw": true
              },
              "fromcurrent": true,
              "mode": "immediate",
              "transition": {
               "duration": 0,
               "easing": "linear"
              }
             }
            ],
            "label": "2020-03-12 00:00:00",
            "method": "animate"
           }
          ],
          "x": 0.1,
          "xanchor": "left",
          "y": 0,
          "yanchor": "top"
         }
        ],
        "template": {
         "data": {
          "bar": [
           {
            "error_x": {
             "color": "#2a3f5f"
            },
            "error_y": {
             "color": "#2a3f5f"
            },
            "marker": {
             "line": {
              "color": "#E5ECF6",
              "width": 0.5
             }
            },
            "type": "bar"
           }
          ],
          "barpolar": [
           {
            "marker": {
             "line": {
              "color": "#E5ECF6",
              "width": 0.5
             }
            },
            "type": "barpolar"
           }
          ],
          "carpet": [
           {
            "aaxis": {
             "endlinecolor": "#2a3f5f",
             "gridcolor": "white",
             "linecolor": "white",
             "minorgridcolor": "white",
             "startlinecolor": "#2a3f5f"
            },
            "baxis": {
             "endlinecolor": "#2a3f5f",
             "gridcolor": "white",
             "linecolor": "white",
             "minorgridcolor": "white",
             "startlinecolor": "#2a3f5f"
            },
            "type": "carpet"
           }
          ],
          "choropleth": [
           {
            "colorbar": {
             "outlinewidth": 0,
             "ticks": ""
            },
            "type": "choropleth"
           }
          ],
          "contour": [
           {
            "colorbar": {
             "outlinewidth": 0,
             "ticks": ""
            },
            "colorscale": [
             [
              0,
              "#0d0887"
             ],
             [
              0.1111111111111111,
              "#46039f"
             ],
             [
              0.2222222222222222,
              "#7201a8"
             ],
             [
              0.3333333333333333,
              "#9c179e"
             ],
             [
              0.4444444444444444,
              "#bd3786"
             ],
             [
              0.5555555555555556,
              "#d8576b"
             ],
             [
              0.6666666666666666,
              "#ed7953"
             ],
             [
              0.7777777777777778,
              "#fb9f3a"
             ],
             [
              0.8888888888888888,
              "#fdca26"
             ],
             [
              1,
              "#f0f921"
             ]
            ],
            "type": "contour"
           }
          ],
          "contourcarpet": [
           {
            "colorbar": {
             "outlinewidth": 0,
             "ticks": ""
            },
            "type": "contourcarpet"
           }
          ],
          "heatmap": [
           {
            "colorbar": {
             "outlinewidth": 0,
             "ticks": ""
            },
            "colorscale": [
             [
              0,
              "#0d0887"
             ],
             [
              0.1111111111111111,
              "#46039f"
             ],
             [
              0.2222222222222222,
              "#7201a8"
             ],
             [
              0.3333333333333333,
              "#9c179e"
             ],
             [
              0.4444444444444444,
              "#bd3786"
             ],
             [
              0.5555555555555556,
              "#d8576b"
             ],
             [
              0.6666666666666666,
              "#ed7953"
             ],
             [
              0.7777777777777778,
              "#fb9f3a"
             ],
             [
              0.8888888888888888,
              "#fdca26"
             ],
             [
              1,
              "#f0f921"
             ]
            ],
            "type": "heatmap"
           }
          ],
          "heatmapgl": [
           {
            "colorbar": {
             "outlinewidth": 0,
             "ticks": ""
            },
            "colorscale": [
             [
              0,
              "#0d0887"
             ],
             [
              0.1111111111111111,
              "#46039f"
             ],
             [
              0.2222222222222222,
              "#7201a8"
             ],
             [
              0.3333333333333333,
              "#9c179e"
             ],
             [
              0.4444444444444444,
              "#bd3786"
             ],
             [
              0.5555555555555556,
              "#d8576b"
             ],
             [
              0.6666666666666666,
              "#ed7953"
             ],
             [
              0.7777777777777778,
              "#fb9f3a"
             ],
             [
              0.8888888888888888,
              "#fdca26"
             ],
             [
              1,
              "#f0f921"
             ]
            ],
            "type": "heatmapgl"
           }
          ],
          "histogram": [
           {
            "marker": {
             "colorbar": {
              "outlinewidth": 0,
              "ticks": ""
             }
            },
            "type": "histogram"
           }
          ],
          "histogram2d": [
           {
            "colorbar": {
             "outlinewidth": 0,
             "ticks": ""
            },
            "colorscale": [
             [
              0,
              "#0d0887"
             ],
             [
              0.1111111111111111,
              "#46039f"
             ],
             [
              0.2222222222222222,
              "#7201a8"
             ],
             [
              0.3333333333333333,
              "#9c179e"
             ],
             [
              0.4444444444444444,
              "#bd3786"
             ],
             [
              0.5555555555555556,
              "#d8576b"
             ],
             [
              0.6666666666666666,
              "#ed7953"
             ],
             [
              0.7777777777777778,
              "#fb9f3a"
             ],
             [
              0.8888888888888888,
              "#fdca26"
             ],
             [
              1,
              "#f0f921"
             ]
            ],
            "type": "histogram2d"
           }
          ],
          "histogram2dcontour": [
           {
            "colorbar": {
             "outlinewidth": 0,
             "ticks": ""
            },
            "colorscale": [
             [
              0,
              "#0d0887"
             ],
             [
              0.1111111111111111,
              "#46039f"
             ],
             [
              0.2222222222222222,
              "#7201a8"
             ],
             [
              0.3333333333333333,
              "#9c179e"
             ],
             [
              0.4444444444444444,
              "#bd3786"
             ],
             [
              0.5555555555555556,
              "#d8576b"
             ],
             [
              0.6666666666666666,
              "#ed7953"
             ],
             [
              0.7777777777777778,
              "#fb9f3a"
             ],
             [
              0.8888888888888888,
              "#fdca26"
             ],
             [
              1,
              "#f0f921"
             ]
            ],
            "type": "histogram2dcontour"
           }
          ],
          "mesh3d": [
           {
            "colorbar": {
             "outlinewidth": 0,
             "ticks": ""
            },
            "type": "mesh3d"
           }
          ],
          "parcoords": [
           {
            "line": {
             "colorbar": {
              "outlinewidth": 0,
              "ticks": ""
             }
            },
            "type": "parcoords"
           }
          ],
          "pie": [
           {
            "automargin": true,
            "type": "pie"
           }
          ],
          "scatter": [
           {
            "marker": {
             "colorbar": {
              "outlinewidth": 0,
              "ticks": ""
             }
            },
            "type": "scatter"
           }
          ],
          "scatter3d": [
           {
            "line": {
             "colorbar": {
              "outlinewidth": 0,
              "ticks": ""
             }
            },
            "marker": {
             "colorbar": {
              "outlinewidth": 0,
              "ticks": ""
             }
            },
            "type": "scatter3d"
           }
          ],
          "scattercarpet": [
           {
            "marker": {
             "colorbar": {
              "outlinewidth": 0,
              "ticks": ""
             }
            },
            "type": "scattercarpet"
           }
          ],
          "scattergeo": [
           {
            "marker": {
             "colorbar": {
              "outlinewidth": 0,
              "ticks": ""
             }
            },
            "type": "scattergeo"
           }
          ],
          "scattergl": [
           {
            "marker": {
             "colorbar": {
              "outlinewidth": 0,
              "ticks": ""
             }
            },
            "type": "scattergl"
           }
          ],
          "scattermapbox": [
           {
            "marker": {
             "colorbar": {
              "outlinewidth": 0,
              "ticks": ""
             }
            },
            "type": "scattermapbox"
           }
          ],
          "scatterpolar": [
           {
            "marker": {
             "colorbar": {
              "outlinewidth": 0,
              "ticks": ""
             }
            },
            "type": "scatterpolar"
           }
          ],
          "scatterpolargl": [
           {
            "marker": {
             "colorbar": {
              "outlinewidth": 0,
              "ticks": ""
             }
            },
            "type": "scatterpolargl"
           }
          ],
          "scatterternary": [
           {
            "marker": {
             "colorbar": {
              "outlinewidth": 0,
              "ticks": ""
             }
            },
            "type": "scatterternary"
           }
          ],
          "surface": [
           {
            "colorbar": {
             "outlinewidth": 0,
             "ticks": ""
            },
            "colorscale": [
             [
              0,
              "#0d0887"
             ],
             [
              0.1111111111111111,
              "#46039f"
             ],
             [
              0.2222222222222222,
              "#7201a8"
             ],
             [
              0.3333333333333333,
              "#9c179e"
             ],
             [
              0.4444444444444444,
              "#bd3786"
             ],
             [
              0.5555555555555556,
              "#d8576b"
             ],
             [
              0.6666666666666666,
              "#ed7953"
             ],
             [
              0.7777777777777778,
              "#fb9f3a"
             ],
             [
              0.8888888888888888,
              "#fdca26"
             ],
             [
              1,
              "#f0f921"
             ]
            ],
            "type": "surface"
           }
          ],
          "table": [
           {
            "cells": {
             "fill": {
              "color": "#EBF0F8"
             },
             "line": {
              "color": "white"
             }
            },
            "header": {
             "fill": {
              "color": "#C8D4E3"
             },
             "line": {
              "color": "white"
             }
            },
            "type": "table"
           }
          ]
         },
         "layout": {
          "annotationdefaults": {
           "arrowcolor": "#2a3f5f",
           "arrowhead": 0,
           "arrowwidth": 1
          },
          "coloraxis": {
           "colorbar": {
            "outlinewidth": 0,
            "ticks": ""
           }
          },
          "colorscale": {
           "diverging": [
            [
             0,
             "#8e0152"
            ],
            [
             0.1,
             "#c51b7d"
            ],
            [
             0.2,
             "#de77ae"
            ],
            [
             0.3,
             "#f1b6da"
            ],
            [
             0.4,
             "#fde0ef"
            ],
            [
             0.5,
             "#f7f7f7"
            ],
            [
             0.6,
             "#e6f5d0"
            ],
            [
             0.7,
             "#b8e186"
            ],
            [
             0.8,
             "#7fbc41"
            ],
            [
             0.9,
             "#4d9221"
            ],
            [
             1,
             "#276419"
            ]
           ],
           "sequential": [
            [
             0,
             "#0d0887"
            ],
            [
             0.1111111111111111,
             "#46039f"
            ],
            [
             0.2222222222222222,
             "#7201a8"
            ],
            [
             0.3333333333333333,
             "#9c179e"
            ],
            [
             0.4444444444444444,
             "#bd3786"
            ],
            [
             0.5555555555555556,
             "#d8576b"
            ],
            [
             0.6666666666666666,
             "#ed7953"
            ],
            [
             0.7777777777777778,
             "#fb9f3a"
            ],
            [
             0.8888888888888888,
             "#fdca26"
            ],
            [
             1,
             "#f0f921"
            ]
           ],
           "sequentialminus": [
            [
             0,
             "#0d0887"
            ],
            [
             0.1111111111111111,
             "#46039f"
            ],
            [
             0.2222222222222222,
             "#7201a8"
            ],
            [
             0.3333333333333333,
             "#9c179e"
            ],
            [
             0.4444444444444444,
             "#bd3786"
            ],
            [
             0.5555555555555556,
             "#d8576b"
            ],
            [
             0.6666666666666666,
             "#ed7953"
            ],
            [
             0.7777777777777778,
             "#fb9f3a"
            ],
            [
             0.8888888888888888,
             "#fdca26"
            ],
            [
             1,
             "#f0f921"
            ]
           ]
          },
          "colorway": [
           "#636efa",
           "#EF553B",
           "#00cc96",
           "#ab63fa",
           "#FFA15A",
           "#19d3f3",
           "#FF6692",
           "#B6E880",
           "#FF97FF",
           "#FECB52"
          ],
          "font": {
           "color": "#2a3f5f"
          },
          "geo": {
           "bgcolor": "white",
           "lakecolor": "white",
           "landcolor": "#E5ECF6",
           "showlakes": true,
           "showland": true,
           "subunitcolor": "white"
          },
          "hoverlabel": {
           "align": "left"
          },
          "hovermode": "closest",
          "mapbox": {
           "style": "light"
          },
          "paper_bgcolor": "white",
          "plot_bgcolor": "#E5ECF6",
          "polar": {
           "angularaxis": {
            "gridcolor": "white",
            "linecolor": "white",
            "ticks": ""
           },
           "bgcolor": "#E5ECF6",
           "radialaxis": {
            "gridcolor": "white",
            "linecolor": "white",
            "ticks": ""
           }
          },
          "scene": {
           "xaxis": {
            "backgroundcolor": "#E5ECF6",
            "gridcolor": "white",
            "gridwidth": 2,
            "linecolor": "white",
            "showbackground": true,
            "ticks": "",
            "zerolinecolor": "white"
           },
           "yaxis": {
            "backgroundcolor": "#E5ECF6",
            "gridcolor": "white",
            "gridwidth": 2,
            "linecolor": "white",
            "showbackground": true,
            "ticks": "",
            "zerolinecolor": "white"
           },
           "zaxis": {
            "backgroundcolor": "#E5ECF6",
            "gridcolor": "white",
            "gridwidth": 2,
            "linecolor": "white",
            "showbackground": true,
            "ticks": "",
            "zerolinecolor": "white"
           }
          },
          "shapedefaults": {
           "line": {
            "color": "#2a3f5f"
           }
          },
          "ternary": {
           "aaxis": {
            "gridcolor": "white",
            "linecolor": "white",
            "ticks": ""
           },
           "baxis": {
            "gridcolor": "white",
            "linecolor": "white",
            "ticks": ""
           },
           "bgcolor": "#E5ECF6",
           "caxis": {
            "gridcolor": "white",
            "linecolor": "white",
            "ticks": ""
           }
          },
          "title": {
           "x": 0.05
          },
          "xaxis": {
           "automargin": true,
           "gridcolor": "white",
           "linecolor": "white",
           "ticks": "",
           "title": {
            "standoff": 15
           },
           "zerolinecolor": "white",
           "zerolinewidth": 2
          },
          "yaxis": {
           "automargin": true,
           "gridcolor": "white",
           "linecolor": "white",
           "ticks": "",
           "title": {
            "standoff": 15
           },
           "zerolinecolor": "white",
           "zerolinewidth": 2
          }
         }
        },
        "updatemenus": [
         {
          "buttons": [
           {
            "args": [
             null,
             {
              "frame": {
               "duration": 500,
               "redraw": true
              },
              "fromcurrent": true,
              "mode": "immediate",
              "transition": {
               "duration": 500,
               "easing": "linear"
              }
             }
            ],
            "label": "&#9654;",
            "method": "animate"
           },
           {
            "args": [
             [
              null
             ],
             {
              "frame": {
               "duration": 0,
               "redraw": true
              },
              "fromcurrent": true,
              "mode": "immediate",
              "transition": {
               "duration": 0,
               "easing": "linear"
              }
             }
            ],
            "label": "&#9724;",
            "method": "animate"
           }
          ],
          "direction": "left",
          "pad": {
           "r": 10,
           "t": 70
          },
          "showactive": false,
          "type": "buttons",
          "x": 0.1,
          "xanchor": "right",
          "y": 0,
          "yanchor": "top"
         }
        ]
       }
      },
      "text/html": [
       "<div>\n",
       "        \n",
       "        \n",
       "            <div id=\"6a595c18-e081-4994-89df-7b724e40538c\" class=\"plotly-graph-div\" style=\"height:525px; width:100%;\"></div>\n",
       "            <script type=\"text/javascript\">\n",
       "                require([\"plotly\"], function(Plotly) {\n",
       "                    window.PLOTLYENV=window.PLOTLYENV || {};\n",
       "                    \n",
       "                if (document.getElementById(\"6a595c18-e081-4994-89df-7b724e40538c\")) {\n",
       "                    Plotly.newPlot(\n",
       "                        '6a595c18-e081-4994-89df-7b724e40538c',\n",
       "                        [{\"customdata\": [[0.0], [0.0], [0.0], [0.0], [0.0], [0.0], [0.0], [20.0], [0.0], [0.0], [0.0], [0.0], [0.0], [0.0], [0.0], [0.0], [0.0], [0.0], [0.0], [0.0], [0.0], [0.0], [0.0], [8.0], [0.0], [0.0], [11843.0], [0.0], [0.0], [0.0], [0.0], [0.0], [0.0], [0.0], [0.0], [0.0], [0.0], [0.0], [0.0], [0.0], [0.0], [0.0], [0.0], [0.0], [12.0], [0.0], [0.0], [8.0], [0.0], [0.0], [0.0], [0.0], [0.0], [13.0], [0.0], [0.0], [0.0], [0.0], [0.0], [0.0], [0.0], [0.0], [0.0], [0.0], [0.0], [0.0], [40.0], [0.0], [0.0], [0.0], [0.0], [0.0], [0.0], [0.0], [0.0], [0.0], [0.0], [0.0], [0.0], [0.0], [0.0], [0.0], [0.0], [0.0], [0.0], [0.0], [0.0], [0.0], [0.0], [0.0], [0.0], [0.0], [0.0], [0.0], [0.0], [0.0], [0.0], [0.0], [0.0], [0.0], [1.0], [0.0], [0.0], [0.0], [0.0], [0.0], [0.0], [0.0], [0.0], [0.0], [0.0], [0.0], [0.0], [0.0], [0.0], [0.0], [0.0], [16.0], [0.0], [0.0], [0.0], [12.0], [2.0], [0.0], [0.0], [2.0], [0.0], [0.0], [0.0], [0.0], [0.0], [0.0], [0.0], [0.0], [4.0], [18.0], [0.0], [0.0], [0.0], [0.0], [0.0], [12.0], [0.0]], \"geo\": \"geo\", \"hoverlabel\": {\"namelength\": 0}, \"hovertemplate\": \"Date=2020-02-01 00:00:00<br>Log Confirmed=%{marker.size}<br>Confirmed=%{customdata[0]}<br>Country/Region=%{location}\", \"legendgroup\": \"\", \"locationmode\": \"country names\", \"locations\": [\" Azerbaijan\", \"Afghanistan\", \"Albania\", \"Algeria\", \"Andorra\", \"Argentina\", \"Armenia\", \"Australia\", \"Austria\", \"Azerbaijan\", \"Bahrain\", \"Bangladesh\", \"Belarus\", \"Belgium\", \"Bhutan\", \"Bolivia\", \"Bosnia and Herzegovina\", \"Brazil\", \"Brunei\", \"Bulgaria\", \"Burkina Faso\", \"Cambodia\", \"Cameroon\", \"Canada\", \"Channel Islands\", \"Chile\", \"China\", \"Colombia\", \"Congo (Kinshasa)\", \"Costa Rica\", \"Cote d'Ivoire\", \"Croatia\", \"Cruise Ship\", \"Cuba\", \"Cyprus\", \"Czech Republic\", \"Czechia\", \"Denmark\", \"Dominican Republic\", \"Ecuador\", \"Egypt\", \"Estonia\", \"Faroe Islands\", \"Finland\", \"France\", \"French Guiana\", \"Georgia\", \"Germany\", \"Gibraltar\", \"Greece\", \"Guyana\", \"Holy See\", \"Honduras\", \"Hong Kong\", \"Hong Kong SAR\", \"Hungary\", \"Iceland\", \"India\", \"Indonesia\", \"Iran\", \"Iran (Islamic Republic of)\", \"Iraq\", \"Ireland\", \"Israel\", \"Italy\", \"Jamaica\", \"Japan\", \"Jordan\", \"Korea, South\", \"Kuwait\", \"Latvia\", \"Lebanon\", \"Liechtenstein\", \"Lithuania\", \"Luxembourg\", \"Macao SAR\", \"Macau\", \"Malaysia\", \"Maldives\", \"Malta\", \"Martinique\", \"Mexico\", \"Moldova\", \"Monaco\", \"Mongolia\", \"Morocco\", \"Nepal\", \"Netherlands\", \"New Zealand\", \"Nigeria\", \"North Ireland\", \"North Macedonia\", \"Norway\", \"Oman\", \"Others\", \"Pakistan\", \"Palestine\", \"Panama\", \"Paraguay\", \"Peru\", \"Philippines\", \"Poland\", \"Portugal\", \"Qatar\", \"Republic of Ireland\", \"Republic of Korea\", \"Republic of Moldova\", \"Reunion\", \"Romania\", \"Russia\", \"Russian Federation\", \"Saint Barthelemy\", \"Saint Martin\", \"San Marino\", \"Saudi Arabia\", \"Senegal\", \"Serbia\", \"Singapore\", \"Slovakia\", \"Slovenia\", \"South Africa\", \"South Korea\", \"Spain\", \"Sri Lanka\", \"St. Martin\", \"Sweden\", \"Switzerland\", \"Taipei and environs\", \"Taiwan\", \"Taiwan*\", \"Thailand\", \"Togo\", \"Tunisia\", \"Turkey\", \"UK\", \"US\", \"Ukraine\", \"United Arab Emirates\", \"United Kingdom\", \"Vatican City\", \"Viet Nam\", \"Vietnam\", \"occupied Palestinian territory\"], \"marker\": {\"color\": \"#636efa\", \"size\": [0.0, 0.0, 0.0, 0.0, 0.0, 0.0, 0.0, 1.3222192947339193, 0.0, 0.0, 0.0, 0.0, 0.0, 0.0, 0.0, 0.0, 0.0, 0.0, 0.0, 0.0, 0.0, 0.0, 0.0, 0.9542425094393249, 0.0, 0.0, 4.073498398717262, 0.0, 0.0, 0.0, 0.0, 0.0, 0.0, 0.0, 0.0, 0.0, 0.0, 0.0, 0.0, 0.0, 0.0, 0.0, 0.0, 0.0, 1.1139433523068367, 0.0, 0.0, 0.9542425094393249, 0.0, 0.0, 0.0, 0.0, 0.0, 1.146128035678238, 0.0, 0.0, 0.0, 0.0, 0.0, 0.0, 0.0, 0.0, 0.0, 0.0, 0.0, 0.0, 1.6127838567197355, 0.0, 0.0, 0.0, 0.0, 0.0, 0.0, 0.0, 0.0, 0.0, 0.0, 0.0, 0.0, 0.0, 0.0, 0.0, 0.0, 0.0, 0.0, 0.0, 0.0, 0.0, 0.0, 0.0, 0.0, 0.0, 0.0, 0.0, 0.0, 0.0, 0.0, 0.0, 0.0, 0.0, 0.3010299956639812, 0.0, 0.0, 0.0, 0.0, 0.0, 0.0, 0.0, 0.0, 0.0, 0.0, 0.0, 0.0, 0.0, 0.0, 0.0, 0.0, 1.2304489213782739, 0.0, 0.0, 0.0, 1.1139433523068367, 0.47712125471966244, 0.0, 0.0, 0.47712125471966244, 0.0, 0.0, 0.0, 0.0, 0.0, 0.0, 0.0, 0.0, 0.6989700043360189, 1.2787536009528289, 0.0, 0.0, 0.0, 0.0, 0.0, 1.1139433523068367, 0.0], \"sizemode\": \"area\", \"sizeref\": 0.012270166519720165}, \"name\": \"\", \"showlegend\": false, \"type\": \"scattergeo\"}],\n",
       "                        {\"geo\": {\"center\": {}, \"domain\": {\"x\": [0.0, 1.0], \"y\": [0.0, 1.0]}}, \"legend\": {\"itemsizing\": \"constant\", \"tracegroupgap\": 0}, \"margin\": {\"t\": 60}, \"sliders\": [{\"active\": 0, \"currentvalue\": {\"prefix\": \"Date=\"}, \"len\": 0.9, \"pad\": {\"b\": 10, \"t\": 60}, \"steps\": [{\"args\": [[\"2020-02-01 00:00:00\"], {\"frame\": {\"duration\": 0, \"redraw\": true}, \"fromcurrent\": true, \"mode\": \"immediate\", \"transition\": {\"duration\": 0, \"easing\": \"linear\"}}], \"label\": \"2020-02-01 00:00:00\", \"method\": \"animate\"}, {\"args\": [[\"2020-02-02 00:00:00\"], {\"frame\": {\"duration\": 0, \"redraw\": true}, \"fromcurrent\": true, \"mode\": \"immediate\", \"transition\": {\"duration\": 0, \"easing\": \"linear\"}}], \"label\": \"2020-02-02 00:00:00\", \"method\": \"animate\"}, {\"args\": [[\"2020-02-03 00:00:00\"], {\"frame\": {\"duration\": 0, \"redraw\": true}, \"fromcurrent\": true, \"mode\": \"immediate\", \"transition\": {\"duration\": 0, \"easing\": \"linear\"}}], \"label\": \"2020-02-03 00:00:00\", \"method\": \"animate\"}, {\"args\": [[\"2020-02-04 00:00:00\"], {\"frame\": {\"duration\": 0, \"redraw\": true}, \"fromcurrent\": true, \"mode\": \"immediate\", \"transition\": {\"duration\": 0, \"easing\": \"linear\"}}], \"label\": \"2020-02-04 00:00:00\", \"method\": \"animate\"}, {\"args\": [[\"2020-02-05 00:00:00\"], {\"frame\": {\"duration\": 0, \"redraw\": true}, \"fromcurrent\": true, \"mode\": \"immediate\", \"transition\": {\"duration\": 0, \"easing\": \"linear\"}}], \"label\": \"2020-02-05 00:00:00\", \"method\": \"animate\"}, {\"args\": [[\"2020-02-06 00:00:00\"], {\"frame\": {\"duration\": 0, \"redraw\": true}, \"fromcurrent\": true, \"mode\": \"immediate\", \"transition\": {\"duration\": 0, \"easing\": \"linear\"}}], \"label\": \"2020-02-06 00:00:00\", \"method\": \"animate\"}, {\"args\": [[\"2020-02-07 00:00:00\"], {\"frame\": {\"duration\": 0, \"redraw\": true}, \"fromcurrent\": true, \"mode\": \"immediate\", \"transition\": {\"duration\": 0, \"easing\": \"linear\"}}], \"label\": \"2020-02-07 00:00:00\", \"method\": \"animate\"}, {\"args\": [[\"2020-02-08 00:00:00\"], {\"frame\": {\"duration\": 0, \"redraw\": true}, \"fromcurrent\": true, \"mode\": \"immediate\", \"transition\": {\"duration\": 0, \"easing\": \"linear\"}}], \"label\": \"2020-02-08 00:00:00\", \"method\": \"animate\"}, {\"args\": [[\"2020-02-09 00:00:00\"], {\"frame\": {\"duration\": 0, \"redraw\": true}, \"fromcurrent\": true, \"mode\": \"immediate\", \"transition\": {\"duration\": 0, \"easing\": \"linear\"}}], \"label\": \"2020-02-09 00:00:00\", \"method\": \"animate\"}, {\"args\": [[\"2020-02-10 00:00:00\"], {\"frame\": {\"duration\": 0, \"redraw\": true}, \"fromcurrent\": true, \"mode\": \"immediate\", \"transition\": {\"duration\": 0, \"easing\": \"linear\"}}], \"label\": \"2020-02-10 00:00:00\", \"method\": \"animate\"}, {\"args\": [[\"2020-02-11 00:00:00\"], {\"frame\": {\"duration\": 0, \"redraw\": true}, \"fromcurrent\": true, \"mode\": \"immediate\", \"transition\": {\"duration\": 0, \"easing\": \"linear\"}}], \"label\": \"2020-02-11 00:00:00\", \"method\": \"animate\"}, {\"args\": [[\"2020-02-12 00:00:00\"], {\"frame\": {\"duration\": 0, \"redraw\": true}, \"fromcurrent\": true, \"mode\": \"immediate\", \"transition\": {\"duration\": 0, \"easing\": \"linear\"}}], \"label\": \"2020-02-12 00:00:00\", \"method\": \"animate\"}, {\"args\": [[\"2020-02-13 00:00:00\"], {\"frame\": {\"duration\": 0, \"redraw\": true}, \"fromcurrent\": true, \"mode\": \"immediate\", \"transition\": {\"duration\": 0, \"easing\": \"linear\"}}], \"label\": \"2020-02-13 00:00:00\", \"method\": \"animate\"}, {\"args\": [[\"2020-02-14 00:00:00\"], {\"frame\": {\"duration\": 0, \"redraw\": true}, \"fromcurrent\": true, \"mode\": \"immediate\", \"transition\": {\"duration\": 0, \"easing\": \"linear\"}}], \"label\": \"2020-02-14 00:00:00\", \"method\": \"animate\"}, {\"args\": [[\"2020-02-15 00:00:00\"], {\"frame\": {\"duration\": 0, \"redraw\": true}, \"fromcurrent\": true, \"mode\": \"immediate\", \"transition\": {\"duration\": 0, \"easing\": \"linear\"}}], \"label\": \"2020-02-15 00:00:00\", \"method\": \"animate\"}, {\"args\": [[\"2020-02-16 00:00:00\"], {\"frame\": {\"duration\": 0, \"redraw\": true}, \"fromcurrent\": true, \"mode\": \"immediate\", \"transition\": {\"duration\": 0, \"easing\": \"linear\"}}], \"label\": \"2020-02-16 00:00:00\", \"method\": \"animate\"}, {\"args\": [[\"2020-02-17 00:00:00\"], {\"frame\": {\"duration\": 0, \"redraw\": true}, \"fromcurrent\": true, \"mode\": \"immediate\", \"transition\": {\"duration\": 0, \"easing\": \"linear\"}}], \"label\": \"2020-02-17 00:00:00\", \"method\": \"animate\"}, {\"args\": [[\"2020-02-18 00:00:00\"], {\"frame\": {\"duration\": 0, \"redraw\": true}, \"fromcurrent\": true, \"mode\": \"immediate\", \"transition\": {\"duration\": 0, \"easing\": \"linear\"}}], \"label\": \"2020-02-18 00:00:00\", \"method\": \"animate\"}, {\"args\": [[\"2020-02-19 00:00:00\"], {\"frame\": {\"duration\": 0, \"redraw\": true}, \"fromcurrent\": true, \"mode\": \"immediate\", \"transition\": {\"duration\": 0, \"easing\": \"linear\"}}], \"label\": \"2020-02-19 00:00:00\", \"method\": \"animate\"}, {\"args\": [[\"2020-02-20 00:00:00\"], {\"frame\": {\"duration\": 0, \"redraw\": true}, \"fromcurrent\": true, \"mode\": \"immediate\", \"transition\": {\"duration\": 0, \"easing\": \"linear\"}}], \"label\": \"2020-02-20 00:00:00\", \"method\": \"animate\"}, {\"args\": [[\"2020-02-21 00:00:00\"], {\"frame\": {\"duration\": 0, \"redraw\": true}, \"fromcurrent\": true, \"mode\": \"immediate\", \"transition\": {\"duration\": 0, \"easing\": \"linear\"}}], \"label\": \"2020-02-21 00:00:00\", \"method\": \"animate\"}, {\"args\": [[\"2020-02-22 00:00:00\"], {\"frame\": {\"duration\": 0, \"redraw\": true}, \"fromcurrent\": true, \"mode\": \"immediate\", \"transition\": {\"duration\": 0, \"easing\": \"linear\"}}], \"label\": \"2020-02-22 00:00:00\", \"method\": \"animate\"}, {\"args\": [[\"2020-02-23 00:00:00\"], {\"frame\": {\"duration\": 0, \"redraw\": true}, \"fromcurrent\": true, \"mode\": \"immediate\", \"transition\": {\"duration\": 0, \"easing\": \"linear\"}}], \"label\": \"2020-02-23 00:00:00\", \"method\": \"animate\"}, {\"args\": [[\"2020-02-24 00:00:00\"], {\"frame\": {\"duration\": 0, \"redraw\": true}, \"fromcurrent\": true, \"mode\": \"immediate\", \"transition\": {\"duration\": 0, \"easing\": \"linear\"}}], \"label\": \"2020-02-24 00:00:00\", \"method\": \"animate\"}, {\"args\": [[\"2020-02-25 00:00:00\"], {\"frame\": {\"duration\": 0, \"redraw\": true}, \"fromcurrent\": true, \"mode\": \"immediate\", \"transition\": {\"duration\": 0, \"easing\": \"linear\"}}], \"label\": \"2020-02-25 00:00:00\", \"method\": \"animate\"}, {\"args\": [[\"2020-02-26 00:00:00\"], {\"frame\": {\"duration\": 0, \"redraw\": true}, \"fromcurrent\": true, \"mode\": \"immediate\", \"transition\": {\"duration\": 0, \"easing\": \"linear\"}}], \"label\": \"2020-02-26 00:00:00\", \"method\": \"animate\"}, {\"args\": [[\"2020-02-27 00:00:00\"], {\"frame\": {\"duration\": 0, \"redraw\": true}, \"fromcurrent\": true, \"mode\": \"immediate\", \"transition\": {\"duration\": 0, \"easing\": \"linear\"}}], \"label\": \"2020-02-27 00:00:00\", \"method\": \"animate\"}, {\"args\": [[\"2020-02-28 00:00:00\"], {\"frame\": {\"duration\": 0, \"redraw\": true}, \"fromcurrent\": true, \"mode\": \"immediate\", \"transition\": {\"duration\": 0, \"easing\": \"linear\"}}], \"label\": \"2020-02-28 00:00:00\", \"method\": \"animate\"}, {\"args\": [[\"2020-02-29 00:00:00\"], {\"frame\": {\"duration\": 0, \"redraw\": true}, \"fromcurrent\": true, \"mode\": \"immediate\", \"transition\": {\"duration\": 0, \"easing\": \"linear\"}}], \"label\": \"2020-02-29 00:00:00\", \"method\": \"animate\"}, {\"args\": [[\"2020-03-01 00:00:00\"], {\"frame\": {\"duration\": 0, \"redraw\": true}, \"fromcurrent\": true, \"mode\": \"immediate\", \"transition\": {\"duration\": 0, \"easing\": \"linear\"}}], \"label\": \"2020-03-01 00:00:00\", \"method\": \"animate\"}, {\"args\": [[\"2020-03-02 00:00:00\"], {\"frame\": {\"duration\": 0, \"redraw\": true}, \"fromcurrent\": true, \"mode\": \"immediate\", \"transition\": {\"duration\": 0, \"easing\": \"linear\"}}], \"label\": \"2020-03-02 00:00:00\", \"method\": \"animate\"}, {\"args\": [[\"2020-03-03 00:00:00\"], {\"frame\": {\"duration\": 0, \"redraw\": true}, \"fromcurrent\": true, \"mode\": \"immediate\", \"transition\": {\"duration\": 0, \"easing\": \"linear\"}}], \"label\": \"2020-03-03 00:00:00\", \"method\": \"animate\"}, {\"args\": [[\"2020-03-04 00:00:00\"], {\"frame\": {\"duration\": 0, \"redraw\": true}, \"fromcurrent\": true, \"mode\": \"immediate\", \"transition\": {\"duration\": 0, \"easing\": \"linear\"}}], \"label\": \"2020-03-04 00:00:00\", \"method\": \"animate\"}, {\"args\": [[\"2020-03-05 00:00:00\"], {\"frame\": {\"duration\": 0, \"redraw\": true}, \"fromcurrent\": true, \"mode\": \"immediate\", \"transition\": {\"duration\": 0, \"easing\": \"linear\"}}], \"label\": \"2020-03-05 00:00:00\", \"method\": \"animate\"}, {\"args\": [[\"2020-03-06 00:00:00\"], {\"frame\": {\"duration\": 0, \"redraw\": true}, \"fromcurrent\": true, \"mode\": \"immediate\", \"transition\": {\"duration\": 0, \"easing\": \"linear\"}}], \"label\": \"2020-03-06 00:00:00\", \"method\": \"animate\"}, {\"args\": [[\"2020-03-07 00:00:00\"], {\"frame\": {\"duration\": 0, \"redraw\": true}, \"fromcurrent\": true, \"mode\": \"immediate\", \"transition\": {\"duration\": 0, \"easing\": \"linear\"}}], \"label\": \"2020-03-07 00:00:00\", \"method\": \"animate\"}, {\"args\": [[\"2020-03-08 00:00:00\"], {\"frame\": {\"duration\": 0, \"redraw\": true}, \"fromcurrent\": true, \"mode\": \"immediate\", \"transition\": {\"duration\": 0, \"easing\": \"linear\"}}], \"label\": \"2020-03-08 00:00:00\", \"method\": \"animate\"}, {\"args\": [[\"2020-03-09 00:00:00\"], {\"frame\": {\"duration\": 0, \"redraw\": true}, \"fromcurrent\": true, \"mode\": \"immediate\", \"transition\": {\"duration\": 0, \"easing\": \"linear\"}}], \"label\": \"2020-03-09 00:00:00\", \"method\": \"animate\"}, {\"args\": [[\"2020-03-10 00:00:00\"], {\"frame\": {\"duration\": 0, \"redraw\": true}, \"fromcurrent\": true, \"mode\": \"immediate\", \"transition\": {\"duration\": 0, \"easing\": \"linear\"}}], \"label\": \"2020-03-10 00:00:00\", \"method\": \"animate\"}, {\"args\": [[\"2020-03-11 00:00:00\"], {\"frame\": {\"duration\": 0, \"redraw\": true}, \"fromcurrent\": true, \"mode\": \"immediate\", \"transition\": {\"duration\": 0, \"easing\": \"linear\"}}], \"label\": \"2020-03-11 00:00:00\", \"method\": \"animate\"}, {\"args\": [[\"2020-03-12 00:00:00\"], {\"frame\": {\"duration\": 0, \"redraw\": true}, \"fromcurrent\": true, \"mode\": \"immediate\", \"transition\": {\"duration\": 0, \"easing\": \"linear\"}}], \"label\": \"2020-03-12 00:00:00\", \"method\": \"animate\"}], \"x\": 0.1, \"xanchor\": \"left\", \"y\": 0, \"yanchor\": \"top\"}], \"template\": {\"data\": {\"bar\": [{\"error_x\": {\"color\": \"#2a3f5f\"}, \"error_y\": {\"color\": \"#2a3f5f\"}, \"marker\": {\"line\": {\"color\": \"#E5ECF6\", \"width\": 0.5}}, \"type\": \"bar\"}], \"barpolar\": [{\"marker\": {\"line\": {\"color\": \"#E5ECF6\", \"width\": 0.5}}, \"type\": \"barpolar\"}], \"carpet\": [{\"aaxis\": {\"endlinecolor\": \"#2a3f5f\", \"gridcolor\": \"white\", \"linecolor\": \"white\", \"minorgridcolor\": \"white\", \"startlinecolor\": \"#2a3f5f\"}, \"baxis\": {\"endlinecolor\": \"#2a3f5f\", \"gridcolor\": \"white\", \"linecolor\": \"white\", \"minorgridcolor\": \"white\", \"startlinecolor\": \"#2a3f5f\"}, \"type\": \"carpet\"}], \"choropleth\": [{\"colorbar\": {\"outlinewidth\": 0, \"ticks\": \"\"}, \"type\": \"choropleth\"}], \"contour\": [{\"colorbar\": {\"outlinewidth\": 0, \"ticks\": \"\"}, \"colorscale\": [[0.0, \"#0d0887\"], [0.1111111111111111, \"#46039f\"], [0.2222222222222222, \"#7201a8\"], [0.3333333333333333, \"#9c179e\"], [0.4444444444444444, \"#bd3786\"], [0.5555555555555556, \"#d8576b\"], [0.6666666666666666, \"#ed7953\"], [0.7777777777777778, \"#fb9f3a\"], [0.8888888888888888, \"#fdca26\"], [1.0, \"#f0f921\"]], \"type\": \"contour\"}], \"contourcarpet\": [{\"colorbar\": {\"outlinewidth\": 0, \"ticks\": \"\"}, \"type\": \"contourcarpet\"}], \"heatmap\": [{\"colorbar\": {\"outlinewidth\": 0, \"ticks\": \"\"}, \"colorscale\": [[0.0, \"#0d0887\"], [0.1111111111111111, \"#46039f\"], [0.2222222222222222, \"#7201a8\"], [0.3333333333333333, \"#9c179e\"], [0.4444444444444444, \"#bd3786\"], [0.5555555555555556, \"#d8576b\"], [0.6666666666666666, \"#ed7953\"], [0.7777777777777778, \"#fb9f3a\"], [0.8888888888888888, \"#fdca26\"], [1.0, \"#f0f921\"]], \"type\": \"heatmap\"}], \"heatmapgl\": [{\"colorbar\": {\"outlinewidth\": 0, \"ticks\": \"\"}, \"colorscale\": [[0.0, \"#0d0887\"], [0.1111111111111111, \"#46039f\"], [0.2222222222222222, \"#7201a8\"], [0.3333333333333333, \"#9c179e\"], [0.4444444444444444, \"#bd3786\"], [0.5555555555555556, \"#d8576b\"], [0.6666666666666666, \"#ed7953\"], [0.7777777777777778, \"#fb9f3a\"], [0.8888888888888888, \"#fdca26\"], [1.0, \"#f0f921\"]], \"type\": \"heatmapgl\"}], \"histogram\": [{\"marker\": {\"colorbar\": {\"outlinewidth\": 0, \"ticks\": \"\"}}, \"type\": \"histogram\"}], \"histogram2d\": [{\"colorbar\": {\"outlinewidth\": 0, \"ticks\": \"\"}, \"colorscale\": [[0.0, \"#0d0887\"], [0.1111111111111111, \"#46039f\"], [0.2222222222222222, \"#7201a8\"], [0.3333333333333333, \"#9c179e\"], [0.4444444444444444, \"#bd3786\"], [0.5555555555555556, \"#d8576b\"], [0.6666666666666666, \"#ed7953\"], [0.7777777777777778, \"#fb9f3a\"], [0.8888888888888888, \"#fdca26\"], [1.0, \"#f0f921\"]], \"type\": \"histogram2d\"}], \"histogram2dcontour\": [{\"colorbar\": {\"outlinewidth\": 0, \"ticks\": \"\"}, \"colorscale\": [[0.0, \"#0d0887\"], [0.1111111111111111, \"#46039f\"], [0.2222222222222222, \"#7201a8\"], [0.3333333333333333, \"#9c179e\"], [0.4444444444444444, \"#bd3786\"], [0.5555555555555556, \"#d8576b\"], [0.6666666666666666, \"#ed7953\"], [0.7777777777777778, \"#fb9f3a\"], [0.8888888888888888, \"#fdca26\"], [1.0, \"#f0f921\"]], \"type\": \"histogram2dcontour\"}], \"mesh3d\": [{\"colorbar\": {\"outlinewidth\": 0, \"ticks\": \"\"}, \"type\": \"mesh3d\"}], \"parcoords\": [{\"line\": {\"colorbar\": {\"outlinewidth\": 0, \"ticks\": \"\"}}, \"type\": \"parcoords\"}], \"pie\": [{\"automargin\": true, \"type\": \"pie\"}], \"scatter\": [{\"marker\": {\"colorbar\": {\"outlinewidth\": 0, \"ticks\": \"\"}}, \"type\": \"scatter\"}], \"scatter3d\": [{\"line\": {\"colorbar\": {\"outlinewidth\": 0, \"ticks\": \"\"}}, \"marker\": {\"colorbar\": {\"outlinewidth\": 0, \"ticks\": \"\"}}, \"type\": \"scatter3d\"}], \"scattercarpet\": [{\"marker\": {\"colorbar\": {\"outlinewidth\": 0, \"ticks\": \"\"}}, \"type\": \"scattercarpet\"}], \"scattergeo\": [{\"marker\": {\"colorbar\": {\"outlinewidth\": 0, \"ticks\": \"\"}}, \"type\": \"scattergeo\"}], \"scattergl\": [{\"marker\": {\"colorbar\": {\"outlinewidth\": 0, \"ticks\": \"\"}}, \"type\": \"scattergl\"}], \"scattermapbox\": [{\"marker\": {\"colorbar\": {\"outlinewidth\": 0, \"ticks\": \"\"}}, \"type\": \"scattermapbox\"}], \"scatterpolar\": [{\"marker\": {\"colorbar\": {\"outlinewidth\": 0, \"ticks\": \"\"}}, \"type\": \"scatterpolar\"}], \"scatterpolargl\": [{\"marker\": {\"colorbar\": {\"outlinewidth\": 0, \"ticks\": \"\"}}, \"type\": \"scatterpolargl\"}], \"scatterternary\": [{\"marker\": {\"colorbar\": {\"outlinewidth\": 0, \"ticks\": \"\"}}, \"type\": \"scatterternary\"}], \"surface\": [{\"colorbar\": {\"outlinewidth\": 0, \"ticks\": \"\"}, \"colorscale\": [[0.0, \"#0d0887\"], [0.1111111111111111, \"#46039f\"], [0.2222222222222222, \"#7201a8\"], [0.3333333333333333, \"#9c179e\"], [0.4444444444444444, \"#bd3786\"], [0.5555555555555556, \"#d8576b\"], [0.6666666666666666, \"#ed7953\"], [0.7777777777777778, \"#fb9f3a\"], [0.8888888888888888, \"#fdca26\"], [1.0, \"#f0f921\"]], \"type\": \"surface\"}], \"table\": [{\"cells\": {\"fill\": {\"color\": \"#EBF0F8\"}, \"line\": {\"color\": \"white\"}}, \"header\": {\"fill\": {\"color\": \"#C8D4E3\"}, \"line\": {\"color\": \"white\"}}, \"type\": \"table\"}]}, \"layout\": {\"annotationdefaults\": {\"arrowcolor\": \"#2a3f5f\", \"arrowhead\": 0, \"arrowwidth\": 1}, \"coloraxis\": {\"colorbar\": {\"outlinewidth\": 0, \"ticks\": \"\"}}, \"colorscale\": {\"diverging\": [[0, \"#8e0152\"], [0.1, \"#c51b7d\"], [0.2, \"#de77ae\"], [0.3, \"#f1b6da\"], [0.4, \"#fde0ef\"], [0.5, \"#f7f7f7\"], [0.6, \"#e6f5d0\"], [0.7, \"#b8e186\"], [0.8, \"#7fbc41\"], [0.9, \"#4d9221\"], [1, \"#276419\"]], \"sequential\": [[0.0, \"#0d0887\"], [0.1111111111111111, \"#46039f\"], [0.2222222222222222, \"#7201a8\"], [0.3333333333333333, \"#9c179e\"], [0.4444444444444444, \"#bd3786\"], [0.5555555555555556, \"#d8576b\"], [0.6666666666666666, \"#ed7953\"], [0.7777777777777778, \"#fb9f3a\"], [0.8888888888888888, \"#fdca26\"], [1.0, \"#f0f921\"]], \"sequentialminus\": [[0.0, \"#0d0887\"], [0.1111111111111111, \"#46039f\"], [0.2222222222222222, \"#7201a8\"], [0.3333333333333333, \"#9c179e\"], [0.4444444444444444, \"#bd3786\"], [0.5555555555555556, \"#d8576b\"], [0.6666666666666666, \"#ed7953\"], [0.7777777777777778, \"#fb9f3a\"], [0.8888888888888888, \"#fdca26\"], [1.0, \"#f0f921\"]]}, \"colorway\": [\"#636efa\", \"#EF553B\", \"#00cc96\", \"#ab63fa\", \"#FFA15A\", \"#19d3f3\", \"#FF6692\", \"#B6E880\", \"#FF97FF\", \"#FECB52\"], \"font\": {\"color\": \"#2a3f5f\"}, \"geo\": {\"bgcolor\": \"white\", \"lakecolor\": \"white\", \"landcolor\": \"#E5ECF6\", \"showlakes\": true, \"showland\": true, \"subunitcolor\": \"white\"}, \"hoverlabel\": {\"align\": \"left\"}, \"hovermode\": \"closest\", \"mapbox\": {\"style\": \"light\"}, \"paper_bgcolor\": \"white\", \"plot_bgcolor\": \"#E5ECF6\", \"polar\": {\"angularaxis\": {\"gridcolor\": \"white\", \"linecolor\": \"white\", \"ticks\": \"\"}, \"bgcolor\": \"#E5ECF6\", \"radialaxis\": {\"gridcolor\": \"white\", \"linecolor\": \"white\", \"ticks\": \"\"}}, \"scene\": {\"xaxis\": {\"backgroundcolor\": \"#E5ECF6\", \"gridcolor\": \"white\", \"gridwidth\": 2, \"linecolor\": \"white\", \"showbackground\": true, \"ticks\": \"\", \"zerolinecolor\": \"white\"}, \"yaxis\": {\"backgroundcolor\": \"#E5ECF6\", \"gridcolor\": \"white\", \"gridwidth\": 2, \"linecolor\": \"white\", \"showbackground\": true, \"ticks\": \"\", \"zerolinecolor\": \"white\"}, \"zaxis\": {\"backgroundcolor\": \"#E5ECF6\", \"gridcolor\": \"white\", \"gridwidth\": 2, \"linecolor\": \"white\", \"showbackground\": true, \"ticks\": \"\", \"zerolinecolor\": \"white\"}}, \"shapedefaults\": {\"line\": {\"color\": \"#2a3f5f\"}}, \"ternary\": {\"aaxis\": {\"gridcolor\": \"white\", \"linecolor\": \"white\", \"ticks\": \"\"}, \"baxis\": {\"gridcolor\": \"white\", \"linecolor\": \"white\", \"ticks\": \"\"}, \"bgcolor\": \"#E5ECF6\", \"caxis\": {\"gridcolor\": \"white\", \"linecolor\": \"white\", \"ticks\": \"\"}}, \"title\": {\"x\": 0.05}, \"xaxis\": {\"automargin\": true, \"gridcolor\": \"white\", \"linecolor\": \"white\", \"ticks\": \"\", \"title\": {\"standoff\": 15}, \"zerolinecolor\": \"white\", \"zerolinewidth\": 2}, \"yaxis\": {\"automargin\": true, \"gridcolor\": \"white\", \"linecolor\": \"white\", \"ticks\": \"\", \"title\": {\"standoff\": 15}, \"zerolinecolor\": \"white\", \"zerolinewidth\": 2}}}, \"updatemenus\": [{\"buttons\": [{\"args\": [null, {\"frame\": {\"duration\": 500, \"redraw\": true}, \"fromcurrent\": true, \"mode\": \"immediate\", \"transition\": {\"duration\": 500, \"easing\": \"linear\"}}], \"label\": \"&#9654;\", \"method\": \"animate\"}, {\"args\": [[null], {\"frame\": {\"duration\": 0, \"redraw\": true}, \"fromcurrent\": true, \"mode\": \"immediate\", \"transition\": {\"duration\": 0, \"easing\": \"linear\"}}], \"label\": \"&#9724;\", \"method\": \"animate\"}], \"direction\": \"left\", \"pad\": {\"r\": 10, \"t\": 70}, \"showactive\": false, \"type\": \"buttons\", \"x\": 0.1, \"xanchor\": \"right\", \"y\": 0, \"yanchor\": \"top\"}]},\n",
       "                        {\"responsive\": true}\n",
       "                    ).then(function(){\n",
       "                            Plotly.addFrames('6a595c18-e081-4994-89df-7b724e40538c', [{\"data\": [{\"customdata\": [[0.0], [0.0], [0.0], [0.0], [0.0], [0.0], [0.0], [20.0], [0.0], [0.0], [0.0], [0.0], [0.0], [0.0], [0.0], [0.0], [0.0], [0.0], [0.0], [0.0], [0.0], [0.0], [0.0], [8.0], [0.0], [0.0], [11843.0], [0.0], [0.0], [0.0], [0.0], [0.0], [0.0], [0.0], [0.0], [0.0], [0.0], [0.0], [0.0], [0.0], [0.0], [0.0], [0.0], [0.0], [12.0], [0.0], [0.0], [8.0], [0.0], [0.0], [0.0], [0.0], [0.0], [13.0], [0.0], [0.0], [0.0], [0.0], [0.0], [0.0], [0.0], [0.0], [0.0], [0.0], [0.0], [0.0], [40.0], [0.0], [0.0], [0.0], [0.0], [0.0], [0.0], [0.0], [0.0], [0.0], [0.0], [0.0], [0.0], [0.0], [0.0], [0.0], [0.0], [0.0], [0.0], [0.0], [0.0], [0.0], [0.0], [0.0], [0.0], [0.0], [0.0], [0.0], [0.0], [0.0], [0.0], [0.0], [0.0], [0.0], [1.0], [0.0], [0.0], [0.0], [0.0], [0.0], [0.0], [0.0], [0.0], [0.0], [0.0], [0.0], [0.0], [0.0], [0.0], [0.0], [0.0], [16.0], [0.0], [0.0], [0.0], [12.0], [2.0], [0.0], [0.0], [2.0], [0.0], [0.0], [0.0], [0.0], [0.0], [0.0], [0.0], [0.0], [4.0], [18.0], [0.0], [0.0], [0.0], [0.0], [0.0], [12.0], [0.0]], \"geo\": \"geo\", \"hoverlabel\": {\"namelength\": 0}, \"hovertemplate\": \"Date=2020-02-01 00:00:00<br>Log Confirmed=%{marker.size}<br>Confirmed=%{customdata[0]}<br>Country/Region=%{location}\", \"legendgroup\": \"\", \"locationmode\": \"country names\", \"locations\": [\" Azerbaijan\", \"Afghanistan\", \"Albania\", \"Algeria\", \"Andorra\", \"Argentina\", \"Armenia\", \"Australia\", \"Austria\", \"Azerbaijan\", \"Bahrain\", \"Bangladesh\", \"Belarus\", \"Belgium\", \"Bhutan\", \"Bolivia\", \"Bosnia and Herzegovina\", \"Brazil\", \"Brunei\", \"Bulgaria\", \"Burkina Faso\", \"Cambodia\", \"Cameroon\", \"Canada\", \"Channel Islands\", \"Chile\", \"China\", \"Colombia\", \"Congo (Kinshasa)\", \"Costa Rica\", \"Cote d'Ivoire\", \"Croatia\", \"Cruise Ship\", \"Cuba\", \"Cyprus\", \"Czech Republic\", \"Czechia\", \"Denmark\", \"Dominican Republic\", \"Ecuador\", \"Egypt\", \"Estonia\", \"Faroe Islands\", \"Finland\", \"France\", \"French Guiana\", \"Georgia\", \"Germany\", \"Gibraltar\", \"Greece\", \"Guyana\", \"Holy See\", \"Honduras\", \"Hong Kong\", \"Hong Kong SAR\", \"Hungary\", \"Iceland\", \"India\", \"Indonesia\", \"Iran\", \"Iran (Islamic Republic of)\", \"Iraq\", \"Ireland\", \"Israel\", \"Italy\", \"Jamaica\", \"Japan\", \"Jordan\", \"Korea, South\", \"Kuwait\", \"Latvia\", \"Lebanon\", \"Liechtenstein\", \"Lithuania\", \"Luxembourg\", \"Macao SAR\", \"Macau\", \"Malaysia\", \"Maldives\", \"Malta\", \"Martinique\", \"Mexico\", \"Moldova\", \"Monaco\", \"Mongolia\", \"Morocco\", \"Nepal\", \"Netherlands\", \"New Zealand\", \"Nigeria\", \"North Ireland\", \"North Macedonia\", \"Norway\", \"Oman\", \"Others\", \"Pakistan\", \"Palestine\", \"Panama\", \"Paraguay\", \"Peru\", \"Philippines\", \"Poland\", \"Portugal\", \"Qatar\", \"Republic of Ireland\", \"Republic of Korea\", \"Republic of Moldova\", \"Reunion\", \"Romania\", \"Russia\", \"Russian Federation\", \"Saint Barthelemy\", \"Saint Martin\", \"San Marino\", \"Saudi Arabia\", \"Senegal\", \"Serbia\", \"Singapore\", \"Slovakia\", \"Slovenia\", \"South Africa\", \"South Korea\", \"Spain\", \"Sri Lanka\", \"St. Martin\", \"Sweden\", \"Switzerland\", \"Taipei and environs\", \"Taiwan\", \"Taiwan*\", \"Thailand\", \"Togo\", \"Tunisia\", \"Turkey\", \"UK\", \"US\", \"Ukraine\", \"United Arab Emirates\", \"United Kingdom\", \"Vatican City\", \"Viet Nam\", \"Vietnam\", \"occupied Palestinian territory\"], \"marker\": {\"color\": \"#636efa\", \"size\": [0.0, 0.0, 0.0, 0.0, 0.0, 0.0, 0.0, 1.3222192947339193, 0.0, 0.0, 0.0, 0.0, 0.0, 0.0, 0.0, 0.0, 0.0, 0.0, 0.0, 0.0, 0.0, 0.0, 0.0, 0.9542425094393249, 0.0, 0.0, 4.073498398717262, 0.0, 0.0, 0.0, 0.0, 0.0, 0.0, 0.0, 0.0, 0.0, 0.0, 0.0, 0.0, 0.0, 0.0, 0.0, 0.0, 0.0, 1.1139433523068367, 0.0, 0.0, 0.9542425094393249, 0.0, 0.0, 0.0, 0.0, 0.0, 1.146128035678238, 0.0, 0.0, 0.0, 0.0, 0.0, 0.0, 0.0, 0.0, 0.0, 0.0, 0.0, 0.0, 1.6127838567197355, 0.0, 0.0, 0.0, 0.0, 0.0, 0.0, 0.0, 0.0, 0.0, 0.0, 0.0, 0.0, 0.0, 0.0, 0.0, 0.0, 0.0, 0.0, 0.0, 0.0, 0.0, 0.0, 0.0, 0.0, 0.0, 0.0, 0.0, 0.0, 0.0, 0.0, 0.0, 0.0, 0.0, 0.3010299956639812, 0.0, 0.0, 0.0, 0.0, 0.0, 0.0, 0.0, 0.0, 0.0, 0.0, 0.0, 0.0, 0.0, 0.0, 0.0, 0.0, 1.2304489213782739, 0.0, 0.0, 0.0, 1.1139433523068367, 0.47712125471966244, 0.0, 0.0, 0.47712125471966244, 0.0, 0.0, 0.0, 0.0, 0.0, 0.0, 0.0, 0.0, 0.6989700043360189, 1.2787536009528289, 0.0, 0.0, 0.0, 0.0, 0.0, 1.1139433523068367, 0.0], \"sizemode\": \"area\", \"sizeref\": 0.012270166519720165}, \"name\": \"\", \"showlegend\": false, \"type\": \"scattergeo\"}], \"name\": \"2020-02-01 00:00:00\"}, {\"data\": [{\"customdata\": [[0.0], [0.0], [0.0], [0.0], [0.0], [0.0], [0.0], [4.0], [0.0], [0.0], [0.0], [0.0], [0.0], [0.0], [0.0], [0.0], [0.0], [0.0], [0.0], [0.0], [0.0], [0.0], [0.0], [8.0], [0.0], [0.0], [16606.0], [0.0], [0.0], [0.0], [0.0], [0.0], [0.0], [0.0], [0.0], [0.0], [0.0], [0.0], [0.0], [0.0], [0.0], [0.0], [0.0], [0.0], [12.0], [0.0], [0.0], [10.0], [0.0], [0.0], [0.0], [0.0], [0.0], [15.0], [0.0], [0.0], [0.0], [2.0], [0.0], [0.0], [0.0], [0.0], [0.0], [0.0], [0.0], [0.0], [40.0], [0.0], [0.0], [0.0], [0.0], [0.0], [0.0], [0.0], [0.0], [0.0], [8.0], [0.0], [0.0], [0.0], [0.0], [0.0], [0.0], [0.0], [0.0], [0.0], [0.0], [0.0], [0.0], [0.0], [0.0], [0.0], [0.0], [0.0], [0.0], [0.0], [0.0], [0.0], [0.0], [0.0], [2.0], [0.0], [0.0], [0.0], [0.0], [0.0], [0.0], [0.0], [0.0], [0.0], [0.0], [0.0], [0.0], [0.0], [0.0], [0.0], [0.0], [18.0], [0.0], [0.0], [0.0], [15.0], [2.0], [0.0], [0.0], [2.0], [0.0], [0.0], [0.0], [0.0], [0.0], [0.0], [0.0], [0.0], [4.0], [18.0], [0.0], [5.0], [0.0], [0.0], [0.0], [12.0], [0.0]], \"geo\": \"geo\", \"hoverlabel\": {\"namelength\": 0}, \"hovertemplate\": \"Date=2020-02-02 00:00:00<br>Log Confirmed=%{marker.size}<br>Confirmed=%{customdata[0]}<br>Country/Region=%{location}\", \"legendgroup\": \"\", \"locationmode\": \"country names\", \"locations\": [\" Azerbaijan\", \"Afghanistan\", \"Albania\", \"Algeria\", \"Andorra\", \"Argentina\", \"Armenia\", \"Australia\", \"Austria\", \"Azerbaijan\", \"Bahrain\", \"Bangladesh\", \"Belarus\", \"Belgium\", \"Bhutan\", \"Bolivia\", \"Bosnia and Herzegovina\", \"Brazil\", \"Brunei\", \"Bulgaria\", \"Burkina Faso\", \"Cambodia\", \"Cameroon\", \"Canada\", \"Channel Islands\", \"Chile\", \"China\", \"Colombia\", \"Congo (Kinshasa)\", \"Costa Rica\", \"Cote d'Ivoire\", \"Croatia\", \"Cruise Ship\", \"Cuba\", \"Cyprus\", \"Czech Republic\", \"Czechia\", \"Denmark\", \"Dominican Republic\", \"Ecuador\", \"Egypt\", \"Estonia\", \"Faroe Islands\", \"Finland\", \"France\", \"French Guiana\", \"Georgia\", \"Germany\", \"Gibraltar\", \"Greece\", \"Guyana\", \"Holy See\", \"Honduras\", \"Hong Kong\", \"Hong Kong SAR\", \"Hungary\", \"Iceland\", \"India\", \"Indonesia\", \"Iran\", \"Iran (Islamic Republic of)\", \"Iraq\", \"Ireland\", \"Israel\", \"Italy\", \"Jamaica\", \"Japan\", \"Jordan\", \"Korea, South\", \"Kuwait\", \"Latvia\", \"Lebanon\", \"Liechtenstein\", \"Lithuania\", \"Luxembourg\", \"Macao SAR\", \"Macau\", \"Malaysia\", \"Maldives\", \"Malta\", \"Martinique\", \"Mexico\", \"Moldova\", \"Monaco\", \"Mongolia\", \"Morocco\", \"Nepal\", \"Netherlands\", \"New Zealand\", \"Nigeria\", \"North Ireland\", \"North Macedonia\", \"Norway\", \"Oman\", \"Others\", \"Pakistan\", \"Palestine\", \"Panama\", \"Paraguay\", \"Peru\", \"Philippines\", \"Poland\", \"Portugal\", \"Qatar\", \"Republic of Ireland\", \"Republic of Korea\", \"Republic of Moldova\", \"Reunion\", \"Romania\", \"Russia\", \"Russian Federation\", \"Saint Barthelemy\", \"Saint Martin\", \"San Marino\", \"Saudi Arabia\", \"Senegal\", \"Serbia\", \"Singapore\", \"Slovakia\", \"Slovenia\", \"South Africa\", \"South Korea\", \"Spain\", \"Sri Lanka\", \"St. Martin\", \"Sweden\", \"Switzerland\", \"Taipei and environs\", \"Taiwan\", \"Taiwan*\", \"Thailand\", \"Togo\", \"Tunisia\", \"Turkey\", \"UK\", \"US\", \"Ukraine\", \"United Arab Emirates\", \"United Kingdom\", \"Vatican City\", \"Viet Nam\", \"Vietnam\", \"occupied Palestinian territory\"], \"marker\": {\"color\": \"#636efa\", \"size\": [0.0, 0.0, 0.0, 0.0, 0.0, 0.0, 0.0, 0.6989700043360189, 0.0, 0.0, 0.0, 0.0, 0.0, 0.0, 0.0, 0.0, 0.0, 0.0, 0.0, 0.0, 0.0, 0.0, 0.0, 0.9542425094393249, 0.0, 0.0, 4.220291185665156, 0.0, 0.0, 0.0, 0.0, 0.0, 0.0, 0.0, 0.0, 0.0, 0.0, 0.0, 0.0, 0.0, 0.0, 0.0, 0.0, 0.0, 1.1139433523068367, 0.0, 0.0, 1.0413926851582251, 0.0, 0.0, 0.0, 0.0, 0.0, 1.2041199826559248, 0.0, 0.0, 0.0, 0.47712125471966244, 0.0, 0.0, 0.0, 0.0, 0.0, 0.0, 0.0, 0.0, 1.6127838567197355, 0.0, 0.0, 0.0, 0.0, 0.0, 0.0, 0.0, 0.0, 0.0, 0.9542425094393249, 0.0, 0.0, 0.0, 0.0, 0.0, 0.0, 0.0, 0.0, 0.0, 0.0, 0.0, 0.0, 0.0, 0.0, 0.0, 0.0, 0.0, 0.0, 0.0, 0.0, 0.0, 0.0, 0.0, 0.47712125471966244, 0.0, 0.0, 0.0, 0.0, 0.0, 0.0, 0.0, 0.0, 0.0, 0.0, 0.0, 0.0, 0.0, 0.0, 0.0, 0.0, 1.2787536009528289, 0.0, 0.0, 0.0, 1.2041199826559248, 0.47712125471966244, 0.0, 0.0, 0.47712125471966244, 0.0, 0.0, 0.0, 0.0, 0.0, 0.0, 0.0, 0.0, 0.6989700043360189, 1.2787536009528289, 0.0, 0.7781512503836436, 0.0, 0.0, 0.0, 1.1139433523068367, 0.0], \"sizemode\": \"area\", \"sizeref\": 0.012270166519720165}, \"name\": \"\", \"showlegend\": false, \"type\": \"scattergeo\"}], \"name\": \"2020-02-02 00:00:00\"}, {\"data\": [{\"customdata\": [[0.0], [0.0], [0.0], [0.0], [0.0], [0.0], [0.0], [4.0], [0.0], [0.0], [0.0], [0.0], [0.0], [0.0], [0.0], [0.0], [0.0], [0.0], [0.0], [0.0], [0.0], [0.0], [0.0], [8.0], [0.0], [0.0], [19692.0], [0.0], [0.0], [0.0], [0.0], [0.0], [0.0], [0.0], [0.0], [0.0], [0.0], [0.0], [0.0], [0.0], [0.0], [0.0], [0.0], [0.0], [12.0], [0.0], [0.0], [12.0], [0.0], [0.0], [0.0], [0.0], [0.0], [15.0], [0.0], [0.0], [0.0], [3.0], [0.0], [0.0], [0.0], [0.0], [0.0], [0.0], [0.0], [0.0], [40.0], [0.0], [0.0], [0.0], [0.0], [0.0], [0.0], [0.0], [0.0], [0.0], [8.0], [0.0], [0.0], [0.0], [0.0], [0.0], [0.0], [0.0], [0.0], [0.0], [0.0], [0.0], [0.0], [0.0], [0.0], [0.0], [0.0], [0.0], [0.0], [0.0], [0.0], [0.0], [0.0], [0.0], [2.0], [0.0], [0.0], [0.0], [0.0], [0.0], [0.0], [0.0], [0.0], [0.0], [0.0], [0.0], [0.0], [0.0], [0.0], [0.0], [0.0], [18.0], [0.0], [0.0], [0.0], [15.0], [2.0], [0.0], [0.0], [2.0], [0.0], [0.0], [0.0], [0.0], [0.0], [0.0], [0.0], [0.0], [4.0], [6.0], [0.0], [5.0], [0.0], [0.0], [0.0], [8.0], [0.0]], \"geo\": \"geo\", \"hoverlabel\": {\"namelength\": 0}, \"hovertemplate\": \"Date=2020-02-03 00:00:00<br>Log Confirmed=%{marker.size}<br>Confirmed=%{customdata[0]}<br>Country/Region=%{location}\", \"legendgroup\": \"\", \"locationmode\": \"country names\", \"locations\": [\" Azerbaijan\", \"Afghanistan\", \"Albania\", \"Algeria\", \"Andorra\", \"Argentina\", \"Armenia\", \"Australia\", \"Austria\", \"Azerbaijan\", \"Bahrain\", \"Bangladesh\", \"Belarus\", \"Belgium\", \"Bhutan\", \"Bolivia\", \"Bosnia and Herzegovina\", \"Brazil\", \"Brunei\", \"Bulgaria\", \"Burkina Faso\", \"Cambodia\", \"Cameroon\", \"Canada\", \"Channel Islands\", \"Chile\", \"China\", \"Colombia\", \"Congo (Kinshasa)\", \"Costa Rica\", \"Cote d'Ivoire\", \"Croatia\", \"Cruise Ship\", \"Cuba\", \"Cyprus\", \"Czech Republic\", \"Czechia\", \"Denmark\", \"Dominican Republic\", \"Ecuador\", \"Egypt\", \"Estonia\", \"Faroe Islands\", \"Finland\", \"France\", \"French Guiana\", \"Georgia\", \"Germany\", \"Gibraltar\", \"Greece\", \"Guyana\", \"Holy See\", \"Honduras\", \"Hong Kong\", \"Hong Kong SAR\", \"Hungary\", \"Iceland\", \"India\", \"Indonesia\", \"Iran\", \"Iran (Islamic Republic of)\", \"Iraq\", \"Ireland\", \"Israel\", \"Italy\", \"Jamaica\", \"Japan\", \"Jordan\", \"Korea, South\", \"Kuwait\", \"Latvia\", \"Lebanon\", \"Liechtenstein\", \"Lithuania\", \"Luxembourg\", \"Macao SAR\", \"Macau\", \"Malaysia\", \"Maldives\", \"Malta\", \"Martinique\", \"Mexico\", \"Moldova\", \"Monaco\", \"Mongolia\", \"Morocco\", \"Nepal\", \"Netherlands\", \"New Zealand\", \"Nigeria\", \"North Ireland\", \"North Macedonia\", \"Norway\", \"Oman\", \"Others\", \"Pakistan\", \"Palestine\", \"Panama\", \"Paraguay\", \"Peru\", \"Philippines\", \"Poland\", \"Portugal\", \"Qatar\", \"Republic of Ireland\", \"Republic of Korea\", \"Republic of Moldova\", \"Reunion\", \"Romania\", \"Russia\", \"Russian Federation\", \"Saint Barthelemy\", \"Saint Martin\", \"San Marino\", \"Saudi Arabia\", \"Senegal\", \"Serbia\", \"Singapore\", \"Slovakia\", \"Slovenia\", \"South Africa\", \"South Korea\", \"Spain\", \"Sri Lanka\", \"St. Martin\", \"Sweden\", \"Switzerland\", \"Taipei and environs\", \"Taiwan\", \"Taiwan*\", \"Thailand\", \"Togo\", \"Tunisia\", \"Turkey\", \"UK\", \"US\", \"Ukraine\", \"United Arab Emirates\", \"United Kingdom\", \"Vatican City\", \"Viet Nam\", \"Vietnam\", \"occupied Palestinian territory\"], \"marker\": {\"color\": \"#636efa\", \"size\": [0.0, 0.0, 0.0, 0.0, 0.0, 0.0, 0.0, 0.6989700043360189, 0.0, 0.0, 0.0, 0.0, 0.0, 0.0, 0.0, 0.0, 0.0, 0.0, 0.0, 0.0, 0.0, 0.0, 0.0, 0.9542425094393249, 0.0, 0.0, 4.294311880902013, 0.0, 0.0, 0.0, 0.0, 0.0, 0.0, 0.0, 0.0, 0.0, 0.0, 0.0, 0.0, 0.0, 0.0, 0.0, 0.0, 0.0, 1.1139433523068367, 0.0, 0.0, 1.1139433523068367, 0.0, 0.0, 0.0, 0.0, 0.0, 1.2041199826559248, 0.0, 0.0, 0.0, 0.6020599913279624, 0.0, 0.0, 0.0, 0.0, 0.0, 0.0, 0.0, 0.0, 1.6127838567197355, 0.0, 0.0, 0.0, 0.0, 0.0, 0.0, 0.0, 0.0, 0.0, 0.9542425094393249, 0.0, 0.0, 0.0, 0.0, 0.0, 0.0, 0.0, 0.0, 0.0, 0.0, 0.0, 0.0, 0.0, 0.0, 0.0, 0.0, 0.0, 0.0, 0.0, 0.0, 0.0, 0.0, 0.0, 0.47712125471966244, 0.0, 0.0, 0.0, 0.0, 0.0, 0.0, 0.0, 0.0, 0.0, 0.0, 0.0, 0.0, 0.0, 0.0, 0.0, 0.0, 1.2787536009528289, 0.0, 0.0, 0.0, 1.2041199826559248, 0.47712125471966244, 0.0, 0.0, 0.47712125471966244, 0.0, 0.0, 0.0, 0.0, 0.0, 0.0, 0.0, 0.0, 0.6989700043360189, 0.8450980400142568, 0.0, 0.7781512503836436, 0.0, 0.0, 0.0, 0.9542425094393249, 0.0], \"sizemode\": \"area\", \"sizeref\": 0.012270166519720165}, \"name\": \"\", \"showlegend\": false, \"type\": \"scattergeo\"}], \"name\": \"2020-02-03 00:00:00\"}, {\"data\": [{\"customdata\": [[0.0], [0.0], [0.0], [0.0], [0.0], [0.0], [0.0], [3.0], [0.0], [0.0], [0.0], [0.0], [0.0], [1.0], [0.0], [0.0], [0.0], [0.0], [0.0], [0.0], [0.0], [0.0], [0.0], [3.0], [0.0], [0.0], [23679.0], [0.0], [0.0], [0.0], [0.0], [0.0], [0.0], [0.0], [0.0], [0.0], [0.0], [0.0], [0.0], [0.0], [0.0], [0.0], [0.0], [0.0], [12.0], [0.0], [0.0], [12.0], [0.0], [0.0], [0.0], [0.0], [0.0], [17.0], [0.0], [0.0], [0.0], [3.0], [0.0], [0.0], [0.0], [0.0], [0.0], [0.0], [0.0], [0.0], [22.0], [0.0], [0.0], [0.0], [0.0], [0.0], [0.0], [0.0], [0.0], [0.0], [10.0], [10.0], [0.0], [0.0], [0.0], [0.0], [0.0], [0.0], [0.0], [0.0], [0.0], [0.0], [0.0], [0.0], [0.0], [0.0], [0.0], [0.0], [0.0], [0.0], [0.0], [0.0], [0.0], [0.0], [2.0], [0.0], [0.0], [0.0], [0.0], [0.0], [0.0], [0.0], [0.0], [0.0], [0.0], [0.0], [0.0], [0.0], [0.0], [0.0], [0.0], [24.0], [0.0], [0.0], [0.0], [16.0], [2.0], [0.0], [0.0], [2.0], [0.0], [0.0], [11.0], [0.0], [25.0], [0.0], [0.0], [0.0], [4.0], [6.0], [0.0], [5.0], [0.0], [0.0], [0.0], [8.0], [0.0]], \"geo\": \"geo\", \"hoverlabel\": {\"namelength\": 0}, \"hovertemplate\": \"Date=2020-02-04 00:00:00<br>Log Confirmed=%{marker.size}<br>Confirmed=%{customdata[0]}<br>Country/Region=%{location}\", \"legendgroup\": \"\", \"locationmode\": \"country names\", \"locations\": [\" Azerbaijan\", \"Afghanistan\", \"Albania\", \"Algeria\", \"Andorra\", \"Argentina\", \"Armenia\", \"Australia\", \"Austria\", \"Azerbaijan\", \"Bahrain\", \"Bangladesh\", \"Belarus\", \"Belgium\", \"Bhutan\", \"Bolivia\", \"Bosnia and Herzegovina\", \"Brazil\", \"Brunei\", \"Bulgaria\", \"Burkina Faso\", \"Cambodia\", \"Cameroon\", \"Canada\", \"Channel Islands\", \"Chile\", \"China\", \"Colombia\", \"Congo (Kinshasa)\", \"Costa Rica\", \"Cote d'Ivoire\", \"Croatia\", \"Cruise Ship\", \"Cuba\", \"Cyprus\", \"Czech Republic\", \"Czechia\", \"Denmark\", \"Dominican Republic\", \"Ecuador\", \"Egypt\", \"Estonia\", \"Faroe Islands\", \"Finland\", \"France\", \"French Guiana\", \"Georgia\", \"Germany\", \"Gibraltar\", \"Greece\", \"Guyana\", \"Holy See\", \"Honduras\", \"Hong Kong\", \"Hong Kong SAR\", \"Hungary\", \"Iceland\", \"India\", \"Indonesia\", \"Iran\", \"Iran (Islamic Republic of)\", \"Iraq\", \"Ireland\", \"Israel\", \"Italy\", \"Jamaica\", \"Japan\", \"Jordan\", \"Korea, South\", \"Kuwait\", \"Latvia\", \"Lebanon\", \"Liechtenstein\", \"Lithuania\", \"Luxembourg\", \"Macao SAR\", \"Macau\", \"Malaysia\", \"Maldives\", \"Malta\", \"Martinique\", \"Mexico\", \"Moldova\", \"Monaco\", \"Mongolia\", \"Morocco\", \"Nepal\", \"Netherlands\", \"New Zealand\", \"Nigeria\", \"North Ireland\", \"North Macedonia\", \"Norway\", \"Oman\", \"Others\", \"Pakistan\", \"Palestine\", \"Panama\", \"Paraguay\", \"Peru\", \"Philippines\", \"Poland\", \"Portugal\", \"Qatar\", \"Republic of Ireland\", \"Republic of Korea\", \"Republic of Moldova\", \"Reunion\", \"Romania\", \"Russia\", \"Russian Federation\", \"Saint Barthelemy\", \"Saint Martin\", \"San Marino\", \"Saudi Arabia\", \"Senegal\", \"Serbia\", \"Singapore\", \"Slovakia\", \"Slovenia\", \"South Africa\", \"South Korea\", \"Spain\", \"Sri Lanka\", \"St. Martin\", \"Sweden\", \"Switzerland\", \"Taipei and environs\", \"Taiwan\", \"Taiwan*\", \"Thailand\", \"Togo\", \"Tunisia\", \"Turkey\", \"UK\", \"US\", \"Ukraine\", \"United Arab Emirates\", \"United Kingdom\", \"Vatican City\", \"Viet Nam\", \"Vietnam\", \"occupied Palestinian territory\"], \"marker\": {\"color\": \"#636efa\", \"size\": [0.0, 0.0, 0.0, 0.0, 0.0, 0.0, 0.0, 0.6020599913279624, 0.0, 0.0, 0.0, 0.0, 0.0, 0.3010299956639812, 0.0, 0.0, 0.0, 0.0, 0.0, 0.0, 0.0, 0.0, 0.0, 0.6020599913279624, 0.0, 0.0, 4.3743816980508825, 0.0, 0.0, 0.0, 0.0, 0.0, 0.0, 0.0, 0.0, 0.0, 0.0, 0.0, 0.0, 0.0, 0.0, 0.0, 0.0, 0.0, 1.1139433523068367, 0.0, 0.0, 1.1139433523068367, 0.0, 0.0, 0.0, 0.0, 0.0, 1.255272505103306, 0.0, 0.0, 0.0, 0.6020599913279624, 0.0, 0.0, 0.0, 0.0, 0.0, 0.0, 0.0, 0.0, 1.3617278360175928, 0.0, 0.0, 0.0, 0.0, 0.0, 0.0, 0.0, 0.0, 0.0, 1.0413926851582251, 1.0413926851582251, 0.0, 0.0, 0.0, 0.0, 0.0, 0.0, 0.0, 0.0, 0.0, 0.0, 0.0, 0.0, 0.0, 0.0, 0.0, 0.0, 0.0, 0.0, 0.0, 0.0, 0.0, 0.0, 0.47712125471966244, 0.0, 0.0, 0.0, 0.0, 0.0, 0.0, 0.0, 0.0, 0.0, 0.0, 0.0, 0.0, 0.0, 0.0, 0.0, 0.0, 1.3979400086720377, 0.0, 0.0, 0.0, 1.2304489213782739, 0.47712125471966244, 0.0, 0.0, 0.47712125471966244, 0.0, 0.0, 1.0791812460476249, 0.0, 1.414973347970818, 0.0, 0.0, 0.0, 0.6989700043360189, 0.8450980400142568, 0.0, 0.7781512503836436, 0.0, 0.0, 0.0, 0.9542425094393249, 0.0], \"sizemode\": \"area\", \"sizeref\": 0.012270166519720165}, \"name\": \"\", \"showlegend\": false, \"type\": \"scattergeo\"}], \"name\": \"2020-02-04 00:00:00\"}, {\"data\": [{\"customdata\": [[0.0], [0.0], [0.0], [0.0], [0.0], [0.0], [0.0], [3.0], [0.0], [0.0], [0.0], [0.0], [0.0], [1.0], [0.0], [0.0], [0.0], [0.0], [0.0], [0.0], [0.0], [0.0], [0.0], [2.0], [0.0], [0.0], [27374.0], [0.0], [0.0], [0.0], [0.0], [0.0], [0.0], [0.0], [0.0], [0.0], [0.0], [0.0], [0.0], [0.0], [0.0], [0.0], [0.0], [0.0], [12.0], [0.0], [0.0], [12.0], [0.0], [0.0], [0.0], [0.0], [0.0], [21.0], [0.0], [0.0], [0.0], [3.0], [0.0], [0.0], [0.0], [0.0], [0.0], [0.0], [0.0], [0.0], [22.0], [0.0], [0.0], [0.0], [0.0], [0.0], [0.0], [0.0], [0.0], [0.0], [10.0], [12.0], [0.0], [0.0], [0.0], [0.0], [0.0], [0.0], [0.0], [0.0], [0.0], [0.0], [0.0], [0.0], [0.0], [0.0], [0.0], [0.0], [0.0], [0.0], [0.0], [0.0], [0.0], [0.0], [2.0], [0.0], [0.0], [0.0], [0.0], [0.0], [0.0], [0.0], [0.0], [0.0], [0.0], [0.0], [0.0], [0.0], [0.0], [0.0], [0.0], [28.0], [0.0], [0.0], [0.0], [19.0], [2.0], [0.0], [0.0], [2.0], [0.0], [0.0], [11.0], [0.0], [25.0], [0.0], [0.0], [0.0], [4.0], [2.0], [0.0], [5.0], [0.0], [0.0], [0.0], [8.0], [0.0]], \"geo\": \"geo\", \"hoverlabel\": {\"namelength\": 0}, \"hovertemplate\": \"Date=2020-02-05 00:00:00<br>Log Confirmed=%{marker.size}<br>Confirmed=%{customdata[0]}<br>Country/Region=%{location}\", \"legendgroup\": \"\", \"locationmode\": \"country names\", \"locations\": [\" Azerbaijan\", \"Afghanistan\", \"Albania\", \"Algeria\", \"Andorra\", \"Argentina\", \"Armenia\", \"Australia\", \"Austria\", \"Azerbaijan\", \"Bahrain\", \"Bangladesh\", \"Belarus\", \"Belgium\", \"Bhutan\", \"Bolivia\", \"Bosnia and Herzegovina\", \"Brazil\", \"Brunei\", \"Bulgaria\", \"Burkina Faso\", \"Cambodia\", \"Cameroon\", \"Canada\", \"Channel Islands\", \"Chile\", \"China\", \"Colombia\", \"Congo (Kinshasa)\", \"Costa Rica\", \"Cote d'Ivoire\", \"Croatia\", \"Cruise Ship\", \"Cuba\", \"Cyprus\", \"Czech Republic\", \"Czechia\", \"Denmark\", \"Dominican Republic\", \"Ecuador\", \"Egypt\", \"Estonia\", \"Faroe Islands\", \"Finland\", \"France\", \"French Guiana\", \"Georgia\", \"Germany\", \"Gibraltar\", \"Greece\", \"Guyana\", \"Holy See\", \"Honduras\", \"Hong Kong\", \"Hong Kong SAR\", \"Hungary\", \"Iceland\", \"India\", \"Indonesia\", \"Iran\", \"Iran (Islamic Republic of)\", \"Iraq\", \"Ireland\", \"Israel\", \"Italy\", \"Jamaica\", \"Japan\", \"Jordan\", \"Korea, South\", \"Kuwait\", \"Latvia\", \"Lebanon\", \"Liechtenstein\", \"Lithuania\", \"Luxembourg\", \"Macao SAR\", \"Macau\", \"Malaysia\", \"Maldives\", \"Malta\", \"Martinique\", \"Mexico\", \"Moldova\", \"Monaco\", \"Mongolia\", \"Morocco\", \"Nepal\", \"Netherlands\", \"New Zealand\", \"Nigeria\", \"North Ireland\", \"North Macedonia\", \"Norway\", \"Oman\", \"Others\", \"Pakistan\", \"Palestine\", \"Panama\", \"Paraguay\", \"Peru\", \"Philippines\", \"Poland\", \"Portugal\", \"Qatar\", \"Republic of Ireland\", \"Republic of Korea\", \"Republic of Moldova\", \"Reunion\", \"Romania\", \"Russia\", \"Russian Federation\", \"Saint Barthelemy\", \"Saint Martin\", \"San Marino\", \"Saudi Arabia\", \"Senegal\", \"Serbia\", \"Singapore\", \"Slovakia\", \"Slovenia\", \"South Africa\", \"South Korea\", \"Spain\", \"Sri Lanka\", \"St. Martin\", \"Sweden\", \"Switzerland\", \"Taipei and environs\", \"Taiwan\", \"Taiwan*\", \"Thailand\", \"Togo\", \"Tunisia\", \"Turkey\", \"UK\", \"US\", \"Ukraine\", \"United Arab Emirates\", \"United Kingdom\", \"Vatican City\", \"Viet Nam\", \"Vietnam\", \"occupied Palestinian territory\"], \"marker\": {\"color\": \"#636efa\", \"size\": [0.0, 0.0, 0.0, 0.0, 0.0, 0.0, 0.0, 0.6020599913279624, 0.0, 0.0, 0.0, 0.0, 0.0, 0.3010299956639812, 0.0, 0.0, 0.0, 0.0, 0.0, 0.0, 0.0, 0.0, 0.0, 0.47712125471966244, 0.0, 0.0, 4.437354127848175, 0.0, 0.0, 0.0, 0.0, 0.0, 0.0, 0.0, 0.0, 0.0, 0.0, 0.0, 0.0, 0.0, 0.0, 0.0, 0.0, 0.0, 1.1139433523068367, 0.0, 0.0, 1.1139433523068367, 0.0, 0.0, 0.0, 0.0, 0.0, 1.3424226808222062, 0.0, 0.0, 0.0, 0.6020599913279624, 0.0, 0.0, 0.0, 0.0, 0.0, 0.0, 0.0, 0.0, 1.3617278360175928, 0.0, 0.0, 0.0, 0.0, 0.0, 0.0, 0.0, 0.0, 0.0, 1.0413926851582251, 1.1139433523068367, 0.0, 0.0, 0.0, 0.0, 0.0, 0.0, 0.0, 0.0, 0.0, 0.0, 0.0, 0.0, 0.0, 0.0, 0.0, 0.0, 0.0, 0.0, 0.0, 0.0, 0.0, 0.0, 0.47712125471966244, 0.0, 0.0, 0.0, 0.0, 0.0, 0.0, 0.0, 0.0, 0.0, 0.0, 0.0, 0.0, 0.0, 0.0, 0.0, 0.0, 1.462397997898956, 0.0, 0.0, 0.0, 1.3010299956639813, 0.47712125471966244, 0.0, 0.0, 0.47712125471966244, 0.0, 0.0, 1.0791812460476249, 0.0, 1.414973347970818, 0.0, 0.0, 0.0, 0.6989700043360189, 0.47712125471966244, 0.0, 0.7781512503836436, 0.0, 0.0, 0.0, 0.9542425094393249, 0.0], \"sizemode\": \"area\", \"sizeref\": 0.012270166519720165}, \"name\": \"\", \"showlegend\": false, \"type\": \"scattergeo\"}], \"name\": \"2020-02-05 00:00:00\"}, {\"data\": [{\"customdata\": [[0.0], [0.0], [0.0], [0.0], [0.0], [0.0], [0.0], [8.0], [0.0], [0.0], [0.0], [0.0], [0.0], [1.0], [0.0], [0.0], [0.0], [0.0], [0.0], [0.0], [0.0], [0.0], [0.0], [2.0], [0.0], [0.0], [30490.0], [0.0], [0.0], [0.0], [0.0], [0.0], [0.0], [0.0], [0.0], [0.0], [0.0], [0.0], [0.0], [0.0], [0.0], [0.0], [0.0], [0.0], [12.0], [0.0], [0.0], [12.0], [0.0], [0.0], [0.0], [0.0], [0.0], [24.0], [0.0], [0.0], [0.0], [3.0], [0.0], [0.0], [0.0], [0.0], [0.0], [0.0], [0.0], [0.0], [45.0], [0.0], [0.0], [0.0], [0.0], [0.0], [0.0], [0.0], [0.0], [0.0], [10.0], [12.0], [0.0], [0.0], [0.0], [0.0], [0.0], [0.0], [0.0], [0.0], [0.0], [0.0], [0.0], [0.0], [0.0], [0.0], [0.0], [0.0], [0.0], [0.0], [0.0], [0.0], [0.0], [0.0], [2.0], [0.0], [0.0], [0.0], [0.0], [0.0], [0.0], [0.0], [0.0], [0.0], [0.0], [0.0], [0.0], [0.0], [0.0], [0.0], [0.0], [28.0], [0.0], [0.0], [0.0], [23.0], [2.0], [0.0], [0.0], [2.0], [0.0], [0.0], [16.0], [0.0], [25.0], [0.0], [0.0], [0.0], [4.0], [2.0], [0.0], [5.0], [0.0], [0.0], [0.0], [10.0], [0.0]], \"geo\": \"geo\", \"hoverlabel\": {\"namelength\": 0}, \"hovertemplate\": \"Date=2020-02-06 00:00:00<br>Log Confirmed=%{marker.size}<br>Confirmed=%{customdata[0]}<br>Country/Region=%{location}\", \"legendgroup\": \"\", \"locationmode\": \"country names\", \"locations\": [\" Azerbaijan\", \"Afghanistan\", \"Albania\", \"Algeria\", \"Andorra\", \"Argentina\", \"Armenia\", \"Australia\", \"Austria\", \"Azerbaijan\", \"Bahrain\", \"Bangladesh\", \"Belarus\", \"Belgium\", \"Bhutan\", \"Bolivia\", \"Bosnia and Herzegovina\", \"Brazil\", \"Brunei\", \"Bulgaria\", \"Burkina Faso\", \"Cambodia\", \"Cameroon\", \"Canada\", \"Channel Islands\", \"Chile\", \"China\", \"Colombia\", \"Congo (Kinshasa)\", \"Costa Rica\", \"Cote d'Ivoire\", \"Croatia\", \"Cruise Ship\", \"Cuba\", \"Cyprus\", \"Czech Republic\", \"Czechia\", \"Denmark\", \"Dominican Republic\", \"Ecuador\", \"Egypt\", \"Estonia\", \"Faroe Islands\", \"Finland\", \"France\", \"French Guiana\", \"Georgia\", \"Germany\", \"Gibraltar\", \"Greece\", \"Guyana\", \"Holy See\", \"Honduras\", \"Hong Kong\", \"Hong Kong SAR\", \"Hungary\", \"Iceland\", \"India\", \"Indonesia\", \"Iran\", \"Iran (Islamic Republic of)\", \"Iraq\", \"Ireland\", \"Israel\", \"Italy\", \"Jamaica\", \"Japan\", \"Jordan\", \"Korea, South\", \"Kuwait\", \"Latvia\", \"Lebanon\", \"Liechtenstein\", \"Lithuania\", \"Luxembourg\", \"Macao SAR\", \"Macau\", \"Malaysia\", \"Maldives\", \"Malta\", \"Martinique\", \"Mexico\", \"Moldova\", \"Monaco\", \"Mongolia\", \"Morocco\", \"Nepal\", \"Netherlands\", \"New Zealand\", \"Nigeria\", \"North Ireland\", \"North Macedonia\", \"Norway\", \"Oman\", \"Others\", \"Pakistan\", \"Palestine\", \"Panama\", \"Paraguay\", \"Peru\", \"Philippines\", \"Poland\", \"Portugal\", \"Qatar\", \"Republic of Ireland\", \"Republic of Korea\", \"Republic of Moldova\", \"Reunion\", \"Romania\", \"Russia\", \"Russian Federation\", \"Saint Barthelemy\", \"Saint Martin\", \"San Marino\", \"Saudi Arabia\", \"Senegal\", \"Serbia\", \"Singapore\", \"Slovakia\", \"Slovenia\", \"South Africa\", \"South Korea\", \"Spain\", \"Sri Lanka\", \"St. Martin\", \"Sweden\", \"Switzerland\", \"Taipei and environs\", \"Taiwan\", \"Taiwan*\", \"Thailand\", \"Togo\", \"Tunisia\", \"Turkey\", \"UK\", \"US\", \"Ukraine\", \"United Arab Emirates\", \"United Kingdom\", \"Vatican City\", \"Viet Nam\", \"Vietnam\", \"occupied Palestinian territory\"], \"marker\": {\"color\": \"#636efa\", \"size\": [0.0, 0.0, 0.0, 0.0, 0.0, 0.0, 0.0, 0.9542425094393249, 0.0, 0.0, 0.0, 0.0, 0.0, 0.3010299956639812, 0.0, 0.0, 0.0, 0.0, 0.0, 0.0, 0.0, 0.0, 0.0, 0.47712125471966244, 0.0, 0.0, 4.484171667965255, 0.0, 0.0, 0.0, 0.0, 0.0, 0.0, 0.0, 0.0, 0.0, 0.0, 0.0, 0.0, 0.0, 0.0, 0.0, 0.0, 0.0, 1.1139433523068367, 0.0, 0.0, 1.1139433523068367, 0.0, 0.0, 0.0, 0.0, 0.0, 1.3979400086720377, 0.0, 0.0, 0.0, 0.6020599913279624, 0.0, 0.0, 0.0, 0.0, 0.0, 0.0, 0.0, 0.0, 1.662757831681574, 0.0, 0.0, 0.0, 0.0, 0.0, 0.0, 0.0, 0.0, 0.0, 1.0413926851582251, 1.1139433523068367, 0.0, 0.0, 0.0, 0.0, 0.0, 0.0, 0.0, 0.0, 0.0, 0.0, 0.0, 0.0, 0.0, 0.0, 0.0, 0.0, 0.0, 0.0, 0.0, 0.0, 0.0, 0.0, 0.47712125471966244, 0.0, 0.0, 0.0, 0.0, 0.0, 0.0, 0.0, 0.0, 0.0, 0.0, 0.0, 0.0, 0.0, 0.0, 0.0, 0.0, 1.462397997898956, 0.0, 0.0, 0.0, 1.380211241711606, 0.47712125471966244, 0.0, 0.0, 0.47712125471966244, 0.0, 0.0, 1.2304489213782739, 0.0, 1.414973347970818, 0.0, 0.0, 0.0, 0.6989700043360189, 0.47712125471966244, 0.0, 0.7781512503836436, 0.0, 0.0, 0.0, 1.0413926851582251, 0.0], \"sizemode\": \"area\", \"sizeref\": 0.012270166519720165}, \"name\": \"\", \"showlegend\": false, \"type\": \"scattergeo\"}], \"name\": \"2020-02-06 00:00:00\"}, {\"data\": [{\"customdata\": [[0.0], [0.0], [0.0], [0.0], [0.0], [0.0], [0.0], [5.0], [0.0], [0.0], [0.0], [0.0], [0.0], [1.0], [0.0], [0.0], [0.0], [0.0], [0.0], [0.0], [0.0], [0.0], [0.0], [4.0], [0.0], [0.0], [34056.0], [0.0], [0.0], [0.0], [0.0], [0.0], [0.0], [0.0], [0.0], [0.0], [0.0], [0.0], [0.0], [0.0], [0.0], [0.0], [0.0], [0.0], [12.0], [0.0], [0.0], [13.0], [0.0], [0.0], [0.0], [0.0], [0.0], [25.0], [0.0], [0.0], [0.0], [3.0], [0.0], [0.0], [0.0], [0.0], [0.0], [0.0], [3.0], [0.0], [25.0], [0.0], [0.0], [0.0], [0.0], [0.0], [0.0], [0.0], [0.0], [0.0], [10.0], [12.0], [0.0], [0.0], [0.0], [0.0], [0.0], [0.0], [0.0], [0.0], [0.0], [0.0], [0.0], [0.0], [0.0], [0.0], [0.0], [0.0], [61.0], [0.0], [0.0], [0.0], [0.0], [0.0], [3.0], [0.0], [0.0], [0.0], [0.0], [0.0], [0.0], [0.0], [0.0], [0.0], [0.0], [0.0], [0.0], [0.0], [0.0], [0.0], [0.0], [30.0], [0.0], [0.0], [0.0], [24.0], [2.0], [0.0], [0.0], [2.0], [0.0], [0.0], [16.0], [0.0], [25.0], [0.0], [0.0], [0.0], [3.0], [2.0], [0.0], [5.0], [0.0], [0.0], [0.0], [10.0], [0.0]], \"geo\": \"geo\", \"hoverlabel\": {\"namelength\": 0}, \"hovertemplate\": \"Date=2020-02-07 00:00:00<br>Log Confirmed=%{marker.size}<br>Confirmed=%{customdata[0]}<br>Country/Region=%{location}\", \"legendgroup\": \"\", \"locationmode\": \"country names\", \"locations\": [\" Azerbaijan\", \"Afghanistan\", \"Albania\", \"Algeria\", \"Andorra\", \"Argentina\", \"Armenia\", \"Australia\", \"Austria\", \"Azerbaijan\", \"Bahrain\", \"Bangladesh\", \"Belarus\", \"Belgium\", \"Bhutan\", \"Bolivia\", \"Bosnia and Herzegovina\", \"Brazil\", \"Brunei\", \"Bulgaria\", \"Burkina Faso\", \"Cambodia\", \"Cameroon\", \"Canada\", \"Channel Islands\", \"Chile\", \"China\", \"Colombia\", \"Congo (Kinshasa)\", \"Costa Rica\", \"Cote d'Ivoire\", \"Croatia\", \"Cruise Ship\", \"Cuba\", \"Cyprus\", \"Czech Republic\", \"Czechia\", \"Denmark\", \"Dominican Republic\", \"Ecuador\", \"Egypt\", \"Estonia\", \"Faroe Islands\", \"Finland\", \"France\", \"French Guiana\", \"Georgia\", \"Germany\", \"Gibraltar\", \"Greece\", \"Guyana\", \"Holy See\", \"Honduras\", \"Hong Kong\", \"Hong Kong SAR\", \"Hungary\", \"Iceland\", \"India\", \"Indonesia\", \"Iran\", \"Iran (Islamic Republic of)\", \"Iraq\", \"Ireland\", \"Israel\", \"Italy\", \"Jamaica\", \"Japan\", \"Jordan\", \"Korea, South\", \"Kuwait\", \"Latvia\", \"Lebanon\", \"Liechtenstein\", \"Lithuania\", \"Luxembourg\", \"Macao SAR\", \"Macau\", \"Malaysia\", \"Maldives\", \"Malta\", \"Martinique\", \"Mexico\", \"Moldova\", \"Monaco\", \"Mongolia\", \"Morocco\", \"Nepal\", \"Netherlands\", \"New Zealand\", \"Nigeria\", \"North Ireland\", \"North Macedonia\", \"Norway\", \"Oman\", \"Others\", \"Pakistan\", \"Palestine\", \"Panama\", \"Paraguay\", \"Peru\", \"Philippines\", \"Poland\", \"Portugal\", \"Qatar\", \"Republic of Ireland\", \"Republic of Korea\", \"Republic of Moldova\", \"Reunion\", \"Romania\", \"Russia\", \"Russian Federation\", \"Saint Barthelemy\", \"Saint Martin\", \"San Marino\", \"Saudi Arabia\", \"Senegal\", \"Serbia\", \"Singapore\", \"Slovakia\", \"Slovenia\", \"South Africa\", \"South Korea\", \"Spain\", \"Sri Lanka\", \"St. Martin\", \"Sweden\", \"Switzerland\", \"Taipei and environs\", \"Taiwan\", \"Taiwan*\", \"Thailand\", \"Togo\", \"Tunisia\", \"Turkey\", \"UK\", \"US\", \"Ukraine\", \"United Arab Emirates\", \"United Kingdom\", \"Vatican City\", \"Viet Nam\", \"Vietnam\", \"occupied Palestinian territory\"], \"marker\": {\"color\": \"#636efa\", \"size\": [0.0, 0.0, 0.0, 0.0, 0.0, 0.0, 0.0, 0.7781512503836436, 0.0, 0.0, 0.0, 0.0, 0.0, 0.3010299956639812, 0.0, 0.0, 0.0, 0.0, 0.0, 0.0, 0.0, 0.0, 0.0, 0.6989700043360189, 0.0, 0.0, 4.53220638934508, 0.0, 0.0, 0.0, 0.0, 0.0, 0.0, 0.0, 0.0, 0.0, 0.0, 0.0, 0.0, 0.0, 0.0, 0.0, 0.0, 0.0, 1.1139433523068367, 0.0, 0.0, 1.146128035678238, 0.0, 0.0, 0.0, 0.0, 0.0, 1.414973347970818, 0.0, 0.0, 0.0, 0.6020599913279624, 0.0, 0.0, 0.0, 0.0, 0.0, 0.0, 0.6020599913279624, 0.0, 1.414973347970818, 0.0, 0.0, 0.0, 0.0, 0.0, 0.0, 0.0, 0.0, 0.0, 1.0413926851582251, 1.1139433523068367, 0.0, 0.0, 0.0, 0.0, 0.0, 0.0, 0.0, 0.0, 0.0, 0.0, 0.0, 0.0, 0.0, 0.0, 0.0, 0.0, 1.792391689498254, 0.0, 0.0, 0.0, 0.0, 0.0, 0.6020599913279624, 0.0, 0.0, 0.0, 0.0, 0.0, 0.0, 0.0, 0.0, 0.0, 0.0, 0.0, 0.0, 0.0, 0.0, 0.0, 0.0, 1.4913616938342726, 0.0, 0.0, 0.0, 1.3979400086720377, 0.47712125471966244, 0.0, 0.0, 0.47712125471966244, 0.0, 0.0, 1.2304489213782739, 0.0, 1.414973347970818, 0.0, 0.0, 0.0, 0.6020599913279624, 0.47712125471966244, 0.0, 0.7781512503836436, 0.0, 0.0, 0.0, 1.0413926851582251, 0.0], \"sizemode\": \"area\", \"sizeref\": 0.012270166519720165}, \"name\": \"\", \"showlegend\": false, \"type\": \"scattergeo\"}], \"name\": \"2020-02-07 00:00:00\"}, {\"data\": [{\"customdata\": [[0.0], [0.0], [0.0], [0.0], [0.0], [0.0], [0.0], [5.0], [0.0], [0.0], [0.0], [0.0], [0.0], [1.0], [0.0], [0.0], [0.0], [0.0], [0.0], [0.0], [0.0], [0.0], [0.0], [4.0], [0.0], [0.0], [36759.0], [0.0], [0.0], [0.0], [0.0], [0.0], [0.0], [0.0], [0.0], [0.0], [0.0], [0.0], [0.0], [0.0], [0.0], [0.0], [0.0], [0.0], [11.0], [0.0], [0.0], [13.0], [0.0], [0.0], [0.0], [0.0], [0.0], [26.0], [0.0], [0.0], [0.0], [3.0], [0.0], [0.0], [0.0], [0.0], [0.0], [0.0], [3.0], [0.0], [25.0], [0.0], [0.0], [0.0], [0.0], [0.0], [0.0], [0.0], [0.0], [0.0], [10.0], [16.0], [0.0], [0.0], [0.0], [0.0], [0.0], [0.0], [0.0], [0.0], [0.0], [0.0], [0.0], [0.0], [0.0], [0.0], [0.0], [0.0], [61.0], [0.0], [0.0], [0.0], [0.0], [0.0], [3.0], [0.0], [0.0], [0.0], [0.0], [0.0], [0.0], [0.0], [0.0], [0.0], [0.0], [0.0], [0.0], [0.0], [0.0], [0.0], [0.0], [33.0], [0.0], [0.0], [0.0], [24.0], [2.0], [2.0], [0.0], [2.0], [0.0], [0.0], [17.0], [0.0], [32.0], [0.0], [0.0], [0.0], [3.0], [2.0], [0.0], [7.0], [0.0], [0.0], [0.0], [13.0], [0.0]], \"geo\": \"geo\", \"hoverlabel\": {\"namelength\": 0}, \"hovertemplate\": \"Date=2020-02-08 00:00:00<br>Log Confirmed=%{marker.size}<br>Confirmed=%{customdata[0]}<br>Country/Region=%{location}\", \"legendgroup\": \"\", \"locationmode\": \"country names\", \"locations\": [\" Azerbaijan\", \"Afghanistan\", \"Albania\", \"Algeria\", \"Andorra\", \"Argentina\", \"Armenia\", \"Australia\", \"Austria\", \"Azerbaijan\", \"Bahrain\", \"Bangladesh\", \"Belarus\", \"Belgium\", \"Bhutan\", \"Bolivia\", \"Bosnia and Herzegovina\", \"Brazil\", \"Brunei\", \"Bulgaria\", \"Burkina Faso\", \"Cambodia\", \"Cameroon\", \"Canada\", \"Channel Islands\", \"Chile\", \"China\", \"Colombia\", \"Congo (Kinshasa)\", \"Costa Rica\", \"Cote d'Ivoire\", \"Croatia\", \"Cruise Ship\", \"Cuba\", \"Cyprus\", \"Czech Republic\", \"Czechia\", \"Denmark\", \"Dominican Republic\", \"Ecuador\", \"Egypt\", \"Estonia\", \"Faroe Islands\", \"Finland\", \"France\", \"French Guiana\", \"Georgia\", \"Germany\", \"Gibraltar\", \"Greece\", \"Guyana\", \"Holy See\", \"Honduras\", \"Hong Kong\", \"Hong Kong SAR\", \"Hungary\", \"Iceland\", \"India\", \"Indonesia\", \"Iran\", \"Iran (Islamic Republic of)\", \"Iraq\", \"Ireland\", \"Israel\", \"Italy\", \"Jamaica\", \"Japan\", \"Jordan\", \"Korea, South\", \"Kuwait\", \"Latvia\", \"Lebanon\", \"Liechtenstein\", \"Lithuania\", \"Luxembourg\", \"Macao SAR\", \"Macau\", \"Malaysia\", \"Maldives\", \"Malta\", \"Martinique\", \"Mexico\", \"Moldova\", \"Monaco\", \"Mongolia\", \"Morocco\", \"Nepal\", \"Netherlands\", \"New Zealand\", \"Nigeria\", \"North Ireland\", \"North Macedonia\", \"Norway\", \"Oman\", \"Others\", \"Pakistan\", \"Palestine\", \"Panama\", \"Paraguay\", \"Peru\", \"Philippines\", \"Poland\", \"Portugal\", \"Qatar\", \"Republic of Ireland\", \"Republic of Korea\", \"Republic of Moldova\", \"Reunion\", \"Romania\", \"Russia\", \"Russian Federation\", \"Saint Barthelemy\", \"Saint Martin\", \"San Marino\", \"Saudi Arabia\", \"Senegal\", \"Serbia\", \"Singapore\", \"Slovakia\", \"Slovenia\", \"South Africa\", \"South Korea\", \"Spain\", \"Sri Lanka\", \"St. Martin\", \"Sweden\", \"Switzerland\", \"Taipei and environs\", \"Taiwan\", \"Taiwan*\", \"Thailand\", \"Togo\", \"Tunisia\", \"Turkey\", \"UK\", \"US\", \"Ukraine\", \"United Arab Emirates\", \"United Kingdom\", \"Vatican City\", \"Viet Nam\", \"Vietnam\", \"occupied Palestinian territory\"], \"marker\": {\"color\": \"#636efa\", \"size\": [0.0, 0.0, 0.0, 0.0, 0.0, 0.0, 0.0, 0.7781512503836436, 0.0, 0.0, 0.0, 0.0, 0.0, 0.3010299956639812, 0.0, 0.0, 0.0, 0.0, 0.0, 0.0, 0.0, 0.0, 0.0, 0.6989700043360189, 0.0, 0.0, 4.565375502714073, 0.0, 0.0, 0.0, 0.0, 0.0, 0.0, 0.0, 0.0, 0.0, 0.0, 0.0, 0.0, 0.0, 0.0, 0.0, 0.0, 0.0, 1.0791812460476249, 0.0, 0.0, 1.146128035678238, 0.0, 0.0, 0.0, 0.0, 0.0, 1.4313637641589874, 0.0, 0.0, 0.0, 0.6020599913279624, 0.0, 0.0, 0.0, 0.0, 0.0, 0.0, 0.6020599913279624, 0.0, 1.414973347970818, 0.0, 0.0, 0.0, 0.0, 0.0, 0.0, 0.0, 0.0, 0.0, 1.0413926851582251, 1.2304489213782739, 0.0, 0.0, 0.0, 0.0, 0.0, 0.0, 0.0, 0.0, 0.0, 0.0, 0.0, 0.0, 0.0, 0.0, 0.0, 0.0, 1.792391689498254, 0.0, 0.0, 0.0, 0.0, 0.0, 0.6020599913279624, 0.0, 0.0, 0.0, 0.0, 0.0, 0.0, 0.0, 0.0, 0.0, 0.0, 0.0, 0.0, 0.0, 0.0, 0.0, 0.0, 1.5314789170422551, 0.0, 0.0, 0.0, 1.3979400086720377, 0.47712125471966244, 0.47712125471966244, 0.0, 0.47712125471966244, 0.0, 0.0, 1.255272505103306, 0.0, 1.5185139398778875, 0.0, 0.0, 0.0, 0.6020599913279624, 0.47712125471966244, 0.0, 0.9030899869919435, 0.0, 0.0, 0.0, 1.146128035678238, 0.0], \"sizemode\": \"area\", \"sizeref\": 0.012270166519720165}, \"name\": \"\", \"showlegend\": false, \"type\": \"scattergeo\"}], \"name\": \"2020-02-08 00:00:00\"}, {\"data\": [{\"customdata\": [[0.0], [0.0], [0.0], [0.0], [0.0], [0.0], [0.0], [5.0], [0.0], [0.0], [0.0], [0.0], [0.0], [1.0], [0.0], [0.0], [0.0], [0.0], [0.0], [0.0], [0.0], [0.0], [0.0], [4.0], [0.0], [0.0], [39771.0], [0.0], [0.0], [0.0], [0.0], [0.0], [0.0], [0.0], [0.0], [0.0], [0.0], [0.0], [0.0], [0.0], [0.0], [0.0], [0.0], [0.0], [11.0], [0.0], [0.0], [14.0], [0.0], [0.0], [0.0], [0.0], [0.0], [29.0], [0.0], [0.0], [0.0], [3.0], [0.0], [0.0], [0.0], [0.0], [0.0], [0.0], [3.0], [0.0], [26.0], [0.0], [0.0], [0.0], [0.0], [0.0], [0.0], [0.0], [0.0], [0.0], [10.0], [16.0], [0.0], [0.0], [0.0], [0.0], [0.0], [0.0], [0.0], [0.0], [0.0], [0.0], [0.0], [0.0], [0.0], [0.0], [0.0], [0.0], [64.0], [0.0], [0.0], [0.0], [0.0], [0.0], [3.0], [0.0], [0.0], [0.0], [0.0], [0.0], [0.0], [0.0], [0.0], [0.0], [0.0], [0.0], [0.0], [0.0], [0.0], [0.0], [0.0], [40.0], [0.0], [0.0], [0.0], [25.0], [2.0], [2.0], [0.0], [2.0], [0.0], [0.0], [18.0], [0.0], [32.0], [0.0], [0.0], [0.0], [3.0], [3.0], [0.0], [7.0], [0.0], [0.0], [0.0], [13.0], [0.0]], \"geo\": \"geo\", \"hoverlabel\": {\"namelength\": 0}, \"hovertemplate\": \"Date=2020-02-09 00:00:00<br>Log Confirmed=%{marker.size}<br>Confirmed=%{customdata[0]}<br>Country/Region=%{location}\", \"legendgroup\": \"\", \"locationmode\": \"country names\", \"locations\": [\" Azerbaijan\", \"Afghanistan\", \"Albania\", \"Algeria\", \"Andorra\", \"Argentina\", \"Armenia\", \"Australia\", \"Austria\", \"Azerbaijan\", \"Bahrain\", \"Bangladesh\", \"Belarus\", \"Belgium\", \"Bhutan\", \"Bolivia\", \"Bosnia and Herzegovina\", \"Brazil\", \"Brunei\", \"Bulgaria\", \"Burkina Faso\", \"Cambodia\", \"Cameroon\", \"Canada\", \"Channel Islands\", \"Chile\", \"China\", \"Colombia\", \"Congo (Kinshasa)\", \"Costa Rica\", \"Cote d'Ivoire\", \"Croatia\", \"Cruise Ship\", \"Cuba\", \"Cyprus\", \"Czech Republic\", \"Czechia\", \"Denmark\", \"Dominican Republic\", \"Ecuador\", \"Egypt\", \"Estonia\", \"Faroe Islands\", \"Finland\", \"France\", \"French Guiana\", \"Georgia\", \"Germany\", \"Gibraltar\", \"Greece\", \"Guyana\", \"Holy See\", \"Honduras\", \"Hong Kong\", \"Hong Kong SAR\", \"Hungary\", \"Iceland\", \"India\", \"Indonesia\", \"Iran\", \"Iran (Islamic Republic of)\", \"Iraq\", \"Ireland\", \"Israel\", \"Italy\", \"Jamaica\", \"Japan\", \"Jordan\", \"Korea, South\", \"Kuwait\", \"Latvia\", \"Lebanon\", \"Liechtenstein\", \"Lithuania\", \"Luxembourg\", \"Macao SAR\", \"Macau\", \"Malaysia\", \"Maldives\", \"Malta\", \"Martinique\", \"Mexico\", \"Moldova\", \"Monaco\", \"Mongolia\", \"Morocco\", \"Nepal\", \"Netherlands\", \"New Zealand\", \"Nigeria\", \"North Ireland\", \"North Macedonia\", \"Norway\", \"Oman\", \"Others\", \"Pakistan\", \"Palestine\", \"Panama\", \"Paraguay\", \"Peru\", \"Philippines\", \"Poland\", \"Portugal\", \"Qatar\", \"Republic of Ireland\", \"Republic of Korea\", \"Republic of Moldova\", \"Reunion\", \"Romania\", \"Russia\", \"Russian Federation\", \"Saint Barthelemy\", \"Saint Martin\", \"San Marino\", \"Saudi Arabia\", \"Senegal\", \"Serbia\", \"Singapore\", \"Slovakia\", \"Slovenia\", \"South Africa\", \"South Korea\", \"Spain\", \"Sri Lanka\", \"St. Martin\", \"Sweden\", \"Switzerland\", \"Taipei and environs\", \"Taiwan\", \"Taiwan*\", \"Thailand\", \"Togo\", \"Tunisia\", \"Turkey\", \"UK\", \"US\", \"Ukraine\", \"United Arab Emirates\", \"United Kingdom\", \"Vatican City\", \"Viet Nam\", \"Vietnam\", \"occupied Palestinian territory\"], \"marker\": {\"color\": \"#636efa\", \"size\": [0.0, 0.0, 0.0, 0.0, 0.0, 0.0, 0.0, 0.7781512503836436, 0.0, 0.0, 0.0, 0.0, 0.0, 0.3010299956639812, 0.0, 0.0, 0.0, 0.0, 0.0, 0.0, 0.0, 0.0, 0.0, 0.6989700043360189, 0.0, 0.0, 4.599577430742687, 0.0, 0.0, 0.0, 0.0, 0.0, 0.0, 0.0, 0.0, 0.0, 0.0, 0.0, 0.0, 0.0, 0.0, 0.0, 0.0, 0.0, 1.0791812460476249, 0.0, 0.0, 1.1760912590556813, 0.0, 0.0, 0.0, 0.0, 0.0, 1.4771212547196624, 0.0, 0.0, 0.0, 0.6020599913279624, 0.0, 0.0, 0.0, 0.0, 0.0, 0.0, 0.6020599913279624, 0.0, 1.4313637641589874, 0.0, 0.0, 0.0, 0.0, 0.0, 0.0, 0.0, 0.0, 0.0, 1.0413926851582251, 1.2304489213782739, 0.0, 0.0, 0.0, 0.0, 0.0, 0.0, 0.0, 0.0, 0.0, 0.0, 0.0, 0.0, 0.0, 0.0, 0.0, 0.0, 1.8129133566428555, 0.0, 0.0, 0.0, 0.0, 0.0, 0.6020599913279624, 0.0, 0.0, 0.0, 0.0, 0.0, 0.0, 0.0, 0.0, 0.0, 0.0, 0.0, 0.0, 0.0, 0.0, 0.0, 0.0, 1.6127838567197355, 0.0, 0.0, 0.0, 1.414973347970818, 0.47712125471966244, 0.47712125471966244, 0.0, 0.47712125471966244, 0.0, 0.0, 1.2787536009528289, 0.0, 1.5185139398778875, 0.0, 0.0, 0.0, 0.6020599913279624, 0.6020599913279624, 0.0, 0.9030899869919435, 0.0, 0.0, 0.0, 1.146128035678238, 0.0], \"sizemode\": \"area\", \"sizeref\": 0.012270166519720165}, \"name\": \"\", \"showlegend\": false, \"type\": \"scattergeo\"}], \"name\": \"2020-02-09 00:00:00\"}, {\"data\": [{\"customdata\": [[0.0], [0.0], [0.0], [0.0], [0.0], [0.0], [0.0], [5.0], [0.0], [0.0], [0.0], [0.0], [0.0], [1.0], [0.0], [0.0], [0.0], [0.0], [0.0], [0.0], [0.0], [0.0], [0.0], [4.0], [0.0], [0.0], [42168.0], [0.0], [0.0], [0.0], [0.0], [0.0], [0.0], [0.0], [0.0], [0.0], [0.0], [0.0], [0.0], [0.0], [0.0], [0.0], [0.0], [0.0], [11.0], [0.0], [0.0], [14.0], [0.0], [0.0], [0.0], [0.0], [0.0], [38.0], [0.0], [0.0], [0.0], [3.0], [0.0], [0.0], [0.0], [0.0], [0.0], [0.0], [3.0], [0.0], [26.0], [0.0], [0.0], [0.0], [0.0], [0.0], [0.0], [0.0], [0.0], [0.0], [10.0], [18.0], [0.0], [0.0], [0.0], [0.0], [0.0], [0.0], [0.0], [0.0], [0.0], [0.0], [0.0], [0.0], [0.0], [0.0], [0.0], [0.0], [135.0], [0.0], [0.0], [0.0], [0.0], [0.0], [3.0], [0.0], [0.0], [0.0], [0.0], [0.0], [0.0], [0.0], [0.0], [0.0], [0.0], [0.0], [0.0], [0.0], [0.0], [0.0], [0.0], [45.0], [0.0], [0.0], [0.0], [27.0], [2.0], [2.0], [0.0], [2.0], [0.0], [0.0], [18.0], [0.0], [32.0], [0.0], [0.0], [0.0], [8.0], [3.0], [0.0], [8.0], [0.0], [0.0], [0.0], [14.0], [0.0]], \"geo\": \"geo\", \"hoverlabel\": {\"namelength\": 0}, \"hovertemplate\": \"Date=2020-02-10 00:00:00<br>Log Confirmed=%{marker.size}<br>Confirmed=%{customdata[0]}<br>Country/Region=%{location}\", \"legendgroup\": \"\", \"locationmode\": \"country names\", \"locations\": [\" Azerbaijan\", \"Afghanistan\", \"Albania\", \"Algeria\", \"Andorra\", \"Argentina\", \"Armenia\", \"Australia\", \"Austria\", \"Azerbaijan\", \"Bahrain\", \"Bangladesh\", \"Belarus\", \"Belgium\", \"Bhutan\", \"Bolivia\", \"Bosnia and Herzegovina\", \"Brazil\", \"Brunei\", \"Bulgaria\", \"Burkina Faso\", \"Cambodia\", \"Cameroon\", \"Canada\", \"Channel Islands\", \"Chile\", \"China\", \"Colombia\", \"Congo (Kinshasa)\", \"Costa Rica\", \"Cote d'Ivoire\", \"Croatia\", \"Cruise Ship\", \"Cuba\", \"Cyprus\", \"Czech Republic\", \"Czechia\", \"Denmark\", \"Dominican Republic\", \"Ecuador\", \"Egypt\", \"Estonia\", \"Faroe Islands\", \"Finland\", \"France\", \"French Guiana\", \"Georgia\", \"Germany\", \"Gibraltar\", \"Greece\", \"Guyana\", \"Holy See\", \"Honduras\", \"Hong Kong\", \"Hong Kong SAR\", \"Hungary\", \"Iceland\", \"India\", \"Indonesia\", \"Iran\", \"Iran (Islamic Republic of)\", \"Iraq\", \"Ireland\", \"Israel\", \"Italy\", \"Jamaica\", \"Japan\", \"Jordan\", \"Korea, South\", \"Kuwait\", \"Latvia\", \"Lebanon\", \"Liechtenstein\", \"Lithuania\", \"Luxembourg\", \"Macao SAR\", \"Macau\", \"Malaysia\", \"Maldives\", \"Malta\", \"Martinique\", \"Mexico\", \"Moldova\", \"Monaco\", \"Mongolia\", \"Morocco\", \"Nepal\", \"Netherlands\", \"New Zealand\", \"Nigeria\", \"North Ireland\", \"North Macedonia\", \"Norway\", \"Oman\", \"Others\", \"Pakistan\", \"Palestine\", \"Panama\", \"Paraguay\", \"Peru\", \"Philippines\", \"Poland\", \"Portugal\", \"Qatar\", \"Republic of Ireland\", \"Republic of Korea\", \"Republic of Moldova\", \"Reunion\", \"Romania\", \"Russia\", \"Russian Federation\", \"Saint Barthelemy\", \"Saint Martin\", \"San Marino\", \"Saudi Arabia\", \"Senegal\", \"Serbia\", \"Singapore\", \"Slovakia\", \"Slovenia\", \"South Africa\", \"South Korea\", \"Spain\", \"Sri Lanka\", \"St. Martin\", \"Sweden\", \"Switzerland\", \"Taipei and environs\", \"Taiwan\", \"Taiwan*\", \"Thailand\", \"Togo\", \"Tunisia\", \"Turkey\", \"UK\", \"US\", \"Ukraine\", \"United Arab Emirates\", \"United Kingdom\", \"Vatican City\", \"Viet Nam\", \"Vietnam\", \"occupied Palestinian territory\"], \"marker\": {\"color\": \"#636efa\", \"size\": [0.0, 0.0, 0.0, 0.0, 0.0, 0.0, 0.0, 0.7781512503836436, 0.0, 0.0, 0.0, 0.0, 0.0, 0.3010299956639812, 0.0, 0.0, 0.0, 0.0, 0.0, 0.0, 0.0, 0.0, 0.0, 0.6989700043360189, 0.0, 0.0, 4.624993302232997, 0.0, 0.0, 0.0, 0.0, 0.0, 0.0, 0.0, 0.0, 0.0, 0.0, 0.0, 0.0, 0.0, 0.0, 0.0, 0.0, 0.0, 1.0791812460476249, 0.0, 0.0, 1.1760912590556813, 0.0, 0.0, 0.0, 0.0, 0.0, 1.591064607026499, 0.0, 0.0, 0.0, 0.6020599913279624, 0.0, 0.0, 0.0, 0.0, 0.0, 0.0, 0.6020599913279624, 0.0, 1.4313637641589874, 0.0, 0.0, 0.0, 0.0, 0.0, 0.0, 0.0, 0.0, 0.0, 1.0413926851582251, 1.2787536009528289, 0.0, 0.0, 0.0, 0.0, 0.0, 0.0, 0.0, 0.0, 0.0, 0.0, 0.0, 0.0, 0.0, 0.0, 0.0, 0.0, 2.1335389083702174, 0.0, 0.0, 0.0, 0.0, 0.0, 0.6020599913279624, 0.0, 0.0, 0.0, 0.0, 0.0, 0.0, 0.0, 0.0, 0.0, 0.0, 0.0, 0.0, 0.0, 0.0, 0.0, 0.0, 1.662757831681574, 0.0, 0.0, 0.0, 1.4471580313422192, 0.47712125471966244, 0.47712125471966244, 0.0, 0.47712125471966244, 0.0, 0.0, 1.2787536009528289, 0.0, 1.5185139398778875, 0.0, 0.0, 0.0, 0.9542425094393249, 0.6020599913279624, 0.0, 0.9542425094393249, 0.0, 0.0, 0.0, 1.1760912590556813, 0.0], \"sizemode\": \"area\", \"sizeref\": 0.012270166519720165}, \"name\": \"\", \"showlegend\": false, \"type\": \"scattergeo\"}], \"name\": \"2020-02-10 00:00:00\"}, {\"data\": [{\"customdata\": [[0.0], [0.0], [0.0], [0.0], [0.0], [0.0], [0.0], [5.0], [0.0], [0.0], [0.0], [0.0], [0.0], [1.0], [0.0], [0.0], [0.0], [0.0], [0.0], [0.0], [0.0], [0.0], [0.0], [4.0], [0.0], [0.0], [44268.0], [0.0], [0.0], [0.0], [0.0], [0.0], [0.0], [0.0], [0.0], [0.0], [0.0], [0.0], [0.0], [0.0], [0.0], [0.0], [0.0], [0.0], [11.0], [0.0], [0.0], [16.0], [0.0], [0.0], [0.0], [0.0], [0.0], [49.0], [0.0], [0.0], [0.0], [3.0], [0.0], [0.0], [0.0], [0.0], [0.0], [0.0], [3.0], [0.0], [26.0], [0.0], [0.0], [0.0], [0.0], [0.0], [0.0], [0.0], [0.0], [0.0], [10.0], [18.0], [0.0], [0.0], [0.0], [0.0], [0.0], [0.0], [0.0], [0.0], [0.0], [0.0], [0.0], [0.0], [0.0], [0.0], [0.0], [0.0], [135.0], [0.0], [0.0], [0.0], [0.0], [0.0], [3.0], [0.0], [0.0], [0.0], [0.0], [0.0], [0.0], [0.0], [0.0], [0.0], [0.0], [0.0], [0.0], [0.0], [0.0], [0.0], [0.0], [47.0], [0.0], [0.0], [0.0], [28.0], [2.0], [2.0], [0.0], [2.0], [0.0], [0.0], [18.0], [0.0], [33.0], [0.0], [0.0], [0.0], [8.0], [1.0], [0.0], [8.0], [0.0], [0.0], [0.0], [15.0], [0.0]], \"geo\": \"geo\", \"hoverlabel\": {\"namelength\": 0}, \"hovertemplate\": \"Date=2020-02-11 00:00:00<br>Log Confirmed=%{marker.size}<br>Confirmed=%{customdata[0]}<br>Country/Region=%{location}\", \"legendgroup\": \"\", \"locationmode\": \"country names\", \"locations\": [\" Azerbaijan\", \"Afghanistan\", \"Albania\", \"Algeria\", \"Andorra\", \"Argentina\", \"Armenia\", \"Australia\", \"Austria\", \"Azerbaijan\", \"Bahrain\", \"Bangladesh\", \"Belarus\", \"Belgium\", \"Bhutan\", \"Bolivia\", \"Bosnia and Herzegovina\", \"Brazil\", \"Brunei\", \"Bulgaria\", \"Burkina Faso\", \"Cambodia\", \"Cameroon\", \"Canada\", \"Channel Islands\", \"Chile\", \"China\", \"Colombia\", \"Congo (Kinshasa)\", \"Costa Rica\", \"Cote d'Ivoire\", \"Croatia\", \"Cruise Ship\", \"Cuba\", \"Cyprus\", \"Czech Republic\", \"Czechia\", \"Denmark\", \"Dominican Republic\", \"Ecuador\", \"Egypt\", \"Estonia\", \"Faroe Islands\", \"Finland\", \"France\", \"French Guiana\", \"Georgia\", \"Germany\", \"Gibraltar\", \"Greece\", \"Guyana\", \"Holy See\", \"Honduras\", \"Hong Kong\", \"Hong Kong SAR\", \"Hungary\", \"Iceland\", \"India\", \"Indonesia\", \"Iran\", \"Iran (Islamic Republic of)\", \"Iraq\", \"Ireland\", \"Israel\", \"Italy\", \"Jamaica\", \"Japan\", \"Jordan\", \"Korea, South\", \"Kuwait\", \"Latvia\", \"Lebanon\", \"Liechtenstein\", \"Lithuania\", \"Luxembourg\", \"Macao SAR\", \"Macau\", \"Malaysia\", \"Maldives\", \"Malta\", \"Martinique\", \"Mexico\", \"Moldova\", \"Monaco\", \"Mongolia\", \"Morocco\", \"Nepal\", \"Netherlands\", \"New Zealand\", \"Nigeria\", \"North Ireland\", \"North Macedonia\", \"Norway\", \"Oman\", \"Others\", \"Pakistan\", \"Palestine\", \"Panama\", \"Paraguay\", \"Peru\", \"Philippines\", \"Poland\", \"Portugal\", \"Qatar\", \"Republic of Ireland\", \"Republic of Korea\", \"Republic of Moldova\", \"Reunion\", \"Romania\", \"Russia\", \"Russian Federation\", \"Saint Barthelemy\", \"Saint Martin\", \"San Marino\", \"Saudi Arabia\", \"Senegal\", \"Serbia\", \"Singapore\", \"Slovakia\", \"Slovenia\", \"South Africa\", \"South Korea\", \"Spain\", \"Sri Lanka\", \"St. Martin\", \"Sweden\", \"Switzerland\", \"Taipei and environs\", \"Taiwan\", \"Taiwan*\", \"Thailand\", \"Togo\", \"Tunisia\", \"Turkey\", \"UK\", \"US\", \"Ukraine\", \"United Arab Emirates\", \"United Kingdom\", \"Vatican City\", \"Viet Nam\", \"Vietnam\", \"occupied Palestinian territory\"], \"marker\": {\"color\": \"#636efa\", \"size\": [0.0, 0.0, 0.0, 0.0, 0.0, 0.0, 0.0, 0.7781512503836436, 0.0, 0.0, 0.0, 0.0, 0.0, 0.3010299956639812, 0.0, 0.0, 0.0, 0.0, 0.0, 0.0, 0.0, 0.0, 0.0, 0.6989700043360189, 0.0, 0.0, 4.646099711737442, 0.0, 0.0, 0.0, 0.0, 0.0, 0.0, 0.0, 0.0, 0.0, 0.0, 0.0, 0.0, 0.0, 0.0, 0.0, 0.0, 0.0, 1.0791812460476249, 0.0, 0.0, 1.2304489213782739, 0.0, 0.0, 0.0, 0.0, 0.0, 1.6989700043360187, 0.0, 0.0, 0.0, 0.6020599913279624, 0.0, 0.0, 0.0, 0.0, 0.0, 0.0, 0.6020599913279624, 0.0, 1.4313637641589874, 0.0, 0.0, 0.0, 0.0, 0.0, 0.0, 0.0, 0.0, 0.0, 1.0413926851582251, 1.2787536009528289, 0.0, 0.0, 0.0, 0.0, 0.0, 0.0, 0.0, 0.0, 0.0, 0.0, 0.0, 0.0, 0.0, 0.0, 0.0, 0.0, 2.1335389083702174, 0.0, 0.0, 0.0, 0.0, 0.0, 0.6020599913279624, 0.0, 0.0, 0.0, 0.0, 0.0, 0.0, 0.0, 0.0, 0.0, 0.0, 0.0, 0.0, 0.0, 0.0, 0.0, 0.0, 1.6812412373755872, 0.0, 0.0, 0.0, 1.462397997898956, 0.47712125471966244, 0.47712125471966244, 0.0, 0.47712125471966244, 0.0, 0.0, 1.2787536009528289, 0.0, 1.5314789170422551, 0.0, 0.0, 0.0, 0.9542425094393249, 0.3010299956639812, 0.0, 0.9542425094393249, 0.0, 0.0, 0.0, 1.2041199826559248, 0.0], \"sizemode\": \"area\", \"sizeref\": 0.012270166519720165}, \"name\": \"\", \"showlegend\": false, \"type\": \"scattergeo\"}], \"name\": \"2020-02-11 00:00:00\"}, {\"data\": [{\"customdata\": [[0.0], [0.0], [0.0], [0.0], [0.0], [0.0], [0.0], [5.0], [0.0], [0.0], [0.0], [0.0], [0.0], [1.0], [0.0], [0.0], [0.0], [0.0], [0.0], [0.0], [0.0], [2.0], [0.0], [2.0], [0.0], [0.0], [44700.0], [0.0], [0.0], [0.0], [0.0], [0.0], [0.0], [0.0], [0.0], [0.0], [0.0], [0.0], [0.0], [0.0], [0.0], [0.0], [0.0], [1.0], [11.0], [0.0], [0.0], [16.0], [0.0], [0.0], [0.0], [0.0], [0.0], [50.0], [0.0], [0.0], [0.0], [3.0], [0.0], [0.0], [0.0], [0.0], [0.0], [0.0], [3.0], [0.0], [28.0], [0.0], [0.0], [0.0], [0.0], [0.0], [0.0], [0.0], [0.0], [0.0], [10.0], [18.0], [0.0], [0.0], [0.0], [0.0], [0.0], [0.0], [0.0], [0.0], [2.0], [0.0], [0.0], [0.0], [0.0], [0.0], [0.0], [0.0], [175.0], [0.0], [0.0], [0.0], [0.0], [0.0], [6.0], [0.0], [0.0], [0.0], [0.0], [0.0], [0.0], [0.0], [0.0], [4.0], [0.0], [0.0], [0.0], [0.0], [0.0], [0.0], [0.0], [50.0], [0.0], [0.0], [0.0], [28.0], [2.0], [2.0], [0.0], [2.0], [0.0], [0.0], [18.0], [0.0], [33.0], [0.0], [0.0], [0.0], [9.0], [1.0], [0.0], [8.0], [0.0], [0.0], [0.0], [15.0], [0.0]], \"geo\": \"geo\", \"hoverlabel\": {\"namelength\": 0}, \"hovertemplate\": \"Date=2020-02-12 00:00:00<br>Log Confirmed=%{marker.size}<br>Confirmed=%{customdata[0]}<br>Country/Region=%{location}\", \"legendgroup\": \"\", \"locationmode\": \"country names\", \"locations\": [\" Azerbaijan\", \"Afghanistan\", \"Albania\", \"Algeria\", \"Andorra\", \"Argentina\", \"Armenia\", \"Australia\", \"Austria\", \"Azerbaijan\", \"Bahrain\", \"Bangladesh\", \"Belarus\", \"Belgium\", \"Bhutan\", \"Bolivia\", \"Bosnia and Herzegovina\", \"Brazil\", \"Brunei\", \"Bulgaria\", \"Burkina Faso\", \"Cambodia\", \"Cameroon\", \"Canada\", \"Channel Islands\", \"Chile\", \"China\", \"Colombia\", \"Congo (Kinshasa)\", \"Costa Rica\", \"Cote d'Ivoire\", \"Croatia\", \"Cruise Ship\", \"Cuba\", \"Cyprus\", \"Czech Republic\", \"Czechia\", \"Denmark\", \"Dominican Republic\", \"Ecuador\", \"Egypt\", \"Estonia\", \"Faroe Islands\", \"Finland\", \"France\", \"French Guiana\", \"Georgia\", \"Germany\", \"Gibraltar\", \"Greece\", \"Guyana\", \"Holy See\", \"Honduras\", \"Hong Kong\", \"Hong Kong SAR\", \"Hungary\", \"Iceland\", \"India\", \"Indonesia\", \"Iran\", \"Iran (Islamic Republic of)\", \"Iraq\", \"Ireland\", \"Israel\", \"Italy\", \"Jamaica\", \"Japan\", \"Jordan\", \"Korea, South\", \"Kuwait\", \"Latvia\", \"Lebanon\", \"Liechtenstein\", \"Lithuania\", \"Luxembourg\", \"Macao SAR\", \"Macau\", \"Malaysia\", \"Maldives\", \"Malta\", \"Martinique\", \"Mexico\", \"Moldova\", \"Monaco\", \"Mongolia\", \"Morocco\", \"Nepal\", \"Netherlands\", \"New Zealand\", \"Nigeria\", \"North Ireland\", \"North Macedonia\", \"Norway\", \"Oman\", \"Others\", \"Pakistan\", \"Palestine\", \"Panama\", \"Paraguay\", \"Peru\", \"Philippines\", \"Poland\", \"Portugal\", \"Qatar\", \"Republic of Ireland\", \"Republic of Korea\", \"Republic of Moldova\", \"Reunion\", \"Romania\", \"Russia\", \"Russian Federation\", \"Saint Barthelemy\", \"Saint Martin\", \"San Marino\", \"Saudi Arabia\", \"Senegal\", \"Serbia\", \"Singapore\", \"Slovakia\", \"Slovenia\", \"South Africa\", \"South Korea\", \"Spain\", \"Sri Lanka\", \"St. Martin\", \"Sweden\", \"Switzerland\", \"Taipei and environs\", \"Taiwan\", \"Taiwan*\", \"Thailand\", \"Togo\", \"Tunisia\", \"Turkey\", \"UK\", \"US\", \"Ukraine\", \"United Arab Emirates\", \"United Kingdom\", \"Vatican City\", \"Viet Nam\", \"Vietnam\", \"occupied Palestinian territory\"], \"marker\": {\"color\": \"#636efa\", \"size\": [0.0, 0.0, 0.0, 0.0, 0.0, 0.0, 0.0, 0.7781512503836436, 0.0, 0.0, 0.0, 0.0, 0.0, 0.3010299956639812, 0.0, 0.0, 0.0, 0.0, 0.0, 0.0, 0.0, 0.47712125471966244, 0.0, 0.47712125471966244, 0.0, 0.0, 4.650317238783482, 0.0, 0.0, 0.0, 0.0, 0.0, 0.0, 0.0, 0.0, 0.0, 0.0, 0.0, 0.0, 0.0, 0.0, 0.0, 0.0, 0.3010299956639812, 1.0791812460476249, 0.0, 0.0, 1.2304489213782739, 0.0, 0.0, 0.0, 0.0, 0.0, 1.7075701760979363, 0.0, 0.0, 0.0, 0.6020599913279624, 0.0, 0.0, 0.0, 0.0, 0.0, 0.0, 0.6020599913279624, 0.0, 1.462397997898956, 0.0, 0.0, 0.0, 0.0, 0.0, 0.0, 0.0, 0.0, 0.0, 1.0413926851582251, 1.2787536009528289, 0.0, 0.0, 0.0, 0.0, 0.0, 0.0, 0.0, 0.0, 0.47712125471966244, 0.0, 0.0, 0.0, 0.0, 0.0, 0.0, 0.0, 2.24551266781415, 0.0, 0.0, 0.0, 0.0, 0.0, 0.8450980400142568, 0.0, 0.0, 0.0, 0.0, 0.0, 0.0, 0.0, 0.0, 0.6989700043360189, 0.0, 0.0, 0.0, 0.0, 0.0, 0.0, 0.0, 1.7075701760979363, 0.0, 0.0, 0.0, 1.462397997898956, 0.47712125471966244, 0.47712125471966244, 0.0, 0.47712125471966244, 0.0, 0.0, 1.2787536009528289, 0.0, 1.5314789170422551, 0.0, 0.0, 0.0, 1.0, 0.3010299956639812, 0.0, 0.9542425094393249, 0.0, 0.0, 0.0, 1.2041199826559248, 0.0], \"sizemode\": \"area\", \"sizeref\": 0.012270166519720165}, \"name\": \"\", \"showlegend\": false, \"type\": \"scattergeo\"}], \"name\": \"2020-02-12 00:00:00\"}, {\"data\": [{\"customdata\": [[0.0], [0.0], [0.0], [0.0], [0.0], [0.0], [0.0], [8.0], [0.0], [0.0], [0.0], [0.0], [0.0], [1.0], [0.0], [0.0], [0.0], [0.0], [0.0], [0.0], [0.0], [2.0], [0.0], [2.0], [0.0], [0.0], [59831.0], [0.0], [0.0], [0.0], [0.0], [0.0], [0.0], [0.0], [0.0], [0.0], [0.0], [0.0], [0.0], [0.0], [0.0], [0.0], [0.0], [1.0], [11.0], [0.0], [0.0], [16.0], [0.0], [0.0], [0.0], [0.0], [0.0], [53.0], [0.0], [0.0], [0.0], [3.0], [0.0], [0.0], [0.0], [0.0], [0.0], [0.0], [3.0], [0.0], [28.0], [0.0], [0.0], [0.0], [0.0], [0.0], [0.0], [0.0], [0.0], [0.0], [10.0], [19.0], [0.0], [0.0], [0.0], [0.0], [0.0], [0.0], [0.0], [0.0], [2.0], [0.0], [0.0], [0.0], [0.0], [0.0], [0.0], [0.0], [175.0], [0.0], [0.0], [0.0], [0.0], [0.0], [6.0], [0.0], [0.0], [0.0], [0.0], [0.0], [0.0], [0.0], [0.0], [4.0], [0.0], [0.0], [0.0], [0.0], [0.0], [0.0], [0.0], [58.0], [0.0], [0.0], [0.0], [28.0], [2.0], [2.0], [0.0], [2.0], [0.0], [0.0], [18.0], [0.0], [33.0], [0.0], [0.0], [0.0], [9.0], [4.0], [0.0], [8.0], [0.0], [0.0], [0.0], [16.0], [0.0]], \"geo\": \"geo\", \"hoverlabel\": {\"namelength\": 0}, \"hovertemplate\": \"Date=2020-02-13 00:00:00<br>Log Confirmed=%{marker.size}<br>Confirmed=%{customdata[0]}<br>Country/Region=%{location}\", \"legendgroup\": \"\", \"locationmode\": \"country names\", \"locations\": [\" Azerbaijan\", \"Afghanistan\", \"Albania\", \"Algeria\", \"Andorra\", \"Argentina\", \"Armenia\", \"Australia\", \"Austria\", \"Azerbaijan\", \"Bahrain\", \"Bangladesh\", \"Belarus\", \"Belgium\", \"Bhutan\", \"Bolivia\", \"Bosnia and Herzegovina\", \"Brazil\", \"Brunei\", \"Bulgaria\", \"Burkina Faso\", \"Cambodia\", \"Cameroon\", \"Canada\", \"Channel Islands\", \"Chile\", \"China\", \"Colombia\", \"Congo (Kinshasa)\", \"Costa Rica\", \"Cote d'Ivoire\", \"Croatia\", \"Cruise Ship\", \"Cuba\", \"Cyprus\", \"Czech Republic\", \"Czechia\", \"Denmark\", \"Dominican Republic\", \"Ecuador\", \"Egypt\", \"Estonia\", \"Faroe Islands\", \"Finland\", \"France\", \"French Guiana\", \"Georgia\", \"Germany\", \"Gibraltar\", \"Greece\", \"Guyana\", \"Holy See\", \"Honduras\", \"Hong Kong\", \"Hong Kong SAR\", \"Hungary\", \"Iceland\", \"India\", \"Indonesia\", \"Iran\", \"Iran (Islamic Republic of)\", \"Iraq\", \"Ireland\", \"Israel\", \"Italy\", \"Jamaica\", \"Japan\", \"Jordan\", \"Korea, South\", \"Kuwait\", \"Latvia\", \"Lebanon\", \"Liechtenstein\", \"Lithuania\", \"Luxembourg\", \"Macao SAR\", \"Macau\", \"Malaysia\", \"Maldives\", \"Malta\", \"Martinique\", \"Mexico\", \"Moldova\", \"Monaco\", \"Mongolia\", \"Morocco\", \"Nepal\", \"Netherlands\", \"New Zealand\", \"Nigeria\", \"North Ireland\", \"North Macedonia\", \"Norway\", \"Oman\", \"Others\", \"Pakistan\", \"Palestine\", \"Panama\", \"Paraguay\", \"Peru\", \"Philippines\", \"Poland\", \"Portugal\", \"Qatar\", \"Republic of Ireland\", \"Republic of Korea\", \"Republic of Moldova\", \"Reunion\", \"Romania\", \"Russia\", \"Russian Federation\", \"Saint Barthelemy\", \"Saint Martin\", \"San Marino\", \"Saudi Arabia\", \"Senegal\", \"Serbia\", \"Singapore\", \"Slovakia\", \"Slovenia\", \"South Africa\", \"South Korea\", \"Spain\", \"Sri Lanka\", \"St. Martin\", \"Sweden\", \"Switzerland\", \"Taipei and environs\", \"Taiwan\", \"Taiwan*\", \"Thailand\", \"Togo\", \"Tunisia\", \"Turkey\", \"UK\", \"US\", \"Ukraine\", \"United Arab Emirates\", \"United Kingdom\", \"Vatican City\", \"Viet Nam\", \"Vietnam\", \"occupied Palestinian territory\"], \"marker\": {\"color\": \"#636efa\", \"size\": [0.0, 0.0, 0.0, 0.0, 0.0, 0.0, 0.0, 0.9542425094393249, 0.0, 0.0, 0.0, 0.0, 0.0, 0.3010299956639812, 0.0, 0.0, 0.0, 0.0, 0.0, 0.0, 0.0, 0.47712125471966244, 0.0, 0.47712125471966244, 0.0, 0.0, 4.77693352021538, 0.0, 0.0, 0.0, 0.0, 0.0, 0.0, 0.0, 0.0, 0.0, 0.0, 0.0, 0.0, 0.0, 0.0, 0.0, 0.0, 0.3010299956639812, 1.0791812460476249, 0.0, 0.0, 1.2304489213782739, 0.0, 0.0, 0.0, 0.0, 0.0, 1.7323937598229686, 0.0, 0.0, 0.0, 0.6020599913279624, 0.0, 0.0, 0.0, 0.0, 0.0, 0.0, 0.6020599913279624, 0.0, 1.462397997898956, 0.0, 0.0, 0.0, 0.0, 0.0, 0.0, 0.0, 0.0, 0.0, 1.0413926851582251, 1.3010299956639813, 0.0, 0.0, 0.0, 0.0, 0.0, 0.0, 0.0, 0.0, 0.47712125471966244, 0.0, 0.0, 0.0, 0.0, 0.0, 0.0, 0.0, 2.24551266781415, 0.0, 0.0, 0.0, 0.0, 0.0, 0.8450980400142568, 0.0, 0.0, 0.0, 0.0, 0.0, 0.0, 0.0, 0.0, 0.6989700043360189, 0.0, 0.0, 0.0, 0.0, 0.0, 0.0, 0.0, 1.7708520116421442, 0.0, 0.0, 0.0, 1.462397997898956, 0.47712125471966244, 0.47712125471966244, 0.0, 0.47712125471966244, 0.0, 0.0, 1.2787536009528289, 0.0, 1.5314789170422551, 0.0, 0.0, 0.0, 1.0, 0.6989700043360189, 0.0, 0.9542425094393249, 0.0, 0.0, 0.0, 1.2304489213782739, 0.0], \"sizemode\": \"area\", \"sizeref\": 0.012270166519720165}, \"name\": \"\", \"showlegend\": false, \"type\": \"scattergeo\"}], \"name\": \"2020-02-13 00:00:00\"}, {\"data\": [{\"customdata\": [[0.0], [0.0], [0.0], [0.0], [0.0], [0.0], [0.0], [8.0], [0.0], [0.0], [0.0], [0.0], [0.0], [1.0], [0.0], [0.0], [0.0], [0.0], [0.0], [0.0], [0.0], [2.0], [0.0], [2.0], [0.0], [0.0], [66183.0], [0.0], [0.0], [0.0], [0.0], [0.0], [0.0], [0.0], [0.0], [0.0], [0.0], [0.0], [0.0], [0.0], [1.0], [0.0], [0.0], [1.0], [11.0], [0.0], [0.0], [16.0], [0.0], [0.0], [0.0], [0.0], [0.0], [56.0], [0.0], [0.0], [0.0], [3.0], [0.0], [0.0], [0.0], [0.0], [0.0], [0.0], [3.0], [0.0], [29.0], [0.0], [0.0], [0.0], [0.0], [0.0], [0.0], [0.0], [0.0], [0.0], [10.0], [19.0], [0.0], [0.0], [0.0], [0.0], [0.0], [0.0], [0.0], [0.0], [2.0], [0.0], [0.0], [0.0], [0.0], [0.0], [0.0], [0.0], [218.0], [0.0], [0.0], [0.0], [0.0], [0.0], [6.0], [0.0], [0.0], [0.0], [0.0], [0.0], [0.0], [0.0], [0.0], [4.0], [0.0], [0.0], [0.0], [0.0], [0.0], [0.0], [0.0], [67.0], [0.0], [0.0], [0.0], [28.0], [2.0], [2.0], [0.0], [2.0], [0.0], [0.0], [18.0], [0.0], [33.0], [0.0], [0.0], [0.0], [9.0], [4.0], [0.0], [8.0], [0.0], [0.0], [0.0], [16.0], [0.0]], \"geo\": \"geo\", \"hoverlabel\": {\"namelength\": 0}, \"hovertemplate\": \"Date=2020-02-14 00:00:00<br>Log Confirmed=%{marker.size}<br>Confirmed=%{customdata[0]}<br>Country/Region=%{location}\", \"legendgroup\": \"\", \"locationmode\": \"country names\", \"locations\": [\" Azerbaijan\", \"Afghanistan\", \"Albania\", \"Algeria\", \"Andorra\", \"Argentina\", \"Armenia\", \"Australia\", \"Austria\", \"Azerbaijan\", \"Bahrain\", \"Bangladesh\", \"Belarus\", \"Belgium\", \"Bhutan\", \"Bolivia\", \"Bosnia and Herzegovina\", \"Brazil\", \"Brunei\", \"Bulgaria\", \"Burkina Faso\", \"Cambodia\", \"Cameroon\", \"Canada\", \"Channel Islands\", \"Chile\", \"China\", \"Colombia\", \"Congo (Kinshasa)\", \"Costa Rica\", \"Cote d'Ivoire\", \"Croatia\", \"Cruise Ship\", \"Cuba\", \"Cyprus\", \"Czech Republic\", \"Czechia\", \"Denmark\", \"Dominican Republic\", \"Ecuador\", \"Egypt\", \"Estonia\", \"Faroe Islands\", \"Finland\", \"France\", \"French Guiana\", \"Georgia\", \"Germany\", \"Gibraltar\", \"Greece\", \"Guyana\", \"Holy See\", \"Honduras\", \"Hong Kong\", \"Hong Kong SAR\", \"Hungary\", \"Iceland\", \"India\", \"Indonesia\", \"Iran\", \"Iran (Islamic Republic of)\", \"Iraq\", \"Ireland\", \"Israel\", \"Italy\", \"Jamaica\", \"Japan\", \"Jordan\", \"Korea, South\", \"Kuwait\", \"Latvia\", \"Lebanon\", \"Liechtenstein\", \"Lithuania\", \"Luxembourg\", \"Macao SAR\", \"Macau\", \"Malaysia\", \"Maldives\", \"Malta\", \"Martinique\", \"Mexico\", \"Moldova\", \"Monaco\", \"Mongolia\", \"Morocco\", \"Nepal\", \"Netherlands\", \"New Zealand\", \"Nigeria\", \"North Ireland\", \"North Macedonia\", \"Norway\", \"Oman\", \"Others\", \"Pakistan\", \"Palestine\", \"Panama\", \"Paraguay\", \"Peru\", \"Philippines\", \"Poland\", \"Portugal\", \"Qatar\", \"Republic of Ireland\", \"Republic of Korea\", \"Republic of Moldova\", \"Reunion\", \"Romania\", \"Russia\", \"Russian Federation\", \"Saint Barthelemy\", \"Saint Martin\", \"San Marino\", \"Saudi Arabia\", \"Senegal\", \"Serbia\", \"Singapore\", \"Slovakia\", \"Slovenia\", \"South Africa\", \"South Korea\", \"Spain\", \"Sri Lanka\", \"St. Martin\", \"Sweden\", \"Switzerland\", \"Taipei and environs\", \"Taiwan\", \"Taiwan*\", \"Thailand\", \"Togo\", \"Tunisia\", \"Turkey\", \"UK\", \"US\", \"Ukraine\", \"United Arab Emirates\", \"United Kingdom\", \"Vatican City\", \"Viet Nam\", \"Vietnam\", \"occupied Palestinian territory\"], \"marker\": {\"color\": \"#636efa\", \"size\": [0.0, 0.0, 0.0, 0.0, 0.0, 0.0, 0.0, 0.9542425094393249, 0.0, 0.0, 0.0, 0.0, 0.0, 0.3010299956639812, 0.0, 0.0, 0.0, 0.0, 0.0, 0.0, 0.0, 0.47712125471966244, 0.0, 0.47712125471966244, 0.0, 0.0, 4.820753011319319, 0.0, 0.0, 0.0, 0.0, 0.0, 0.0, 0.0, 0.0, 0.0, 0.0, 0.0, 0.0, 0.0, 0.3010299956639812, 0.0, 0.0, 0.3010299956639812, 1.0791812460476249, 0.0, 0.0, 1.2304489213782739, 0.0, 0.0, 0.0, 0.0, 0.0, 1.7558748556724915, 0.0, 0.0, 0.0, 0.6020599913279624, 0.0, 0.0, 0.0, 0.0, 0.0, 0.0, 0.6020599913279624, 0.0, 1.4771212547196624, 0.0, 0.0, 0.0, 0.0, 0.0, 0.0, 0.0, 0.0, 0.0, 1.0413926851582251, 1.3010299956639813, 0.0, 0.0, 0.0, 0.0, 0.0, 0.0, 0.0, 0.0, 0.47712125471966244, 0.0, 0.0, 0.0, 0.0, 0.0, 0.0, 0.0, 2.3404441148401185, 0.0, 0.0, 0.0, 0.0, 0.0, 0.8450980400142568, 0.0, 0.0, 0.0, 0.0, 0.0, 0.0, 0.0, 0.0, 0.6989700043360189, 0.0, 0.0, 0.0, 0.0, 0.0, 0.0, 0.0, 1.8325089127062364, 0.0, 0.0, 0.0, 1.462397997898956, 0.47712125471966244, 0.47712125471966244, 0.0, 0.47712125471966244, 0.0, 0.0, 1.2787536009528289, 0.0, 1.5314789170422551, 0.0, 0.0, 0.0, 1.0, 0.6989700043360189, 0.0, 0.9542425094393249, 0.0, 0.0, 0.0, 1.2304489213782739, 0.0], \"sizemode\": \"area\", \"sizeref\": 0.012270166519720165}, \"name\": \"\", \"showlegend\": false, \"type\": \"scattergeo\"}], \"name\": \"2020-02-14 00:00:00\"}, {\"data\": [{\"customdata\": [[0.0], [0.0], [0.0], [0.0], [0.0], [0.0], [0.0], [8.0], [0.0], [0.0], [0.0], [0.0], [0.0], [1.0], [0.0], [0.0], [0.0], [0.0], [0.0], [0.0], [0.0], [2.0], [0.0], [2.0], [0.0], [0.0], [68346.0], [0.0], [0.0], [0.0], [0.0], [0.0], [0.0], [0.0], [0.0], [0.0], [0.0], [0.0], [0.0], [0.0], [1.0], [0.0], [0.0], [1.0], [12.0], [0.0], [0.0], [16.0], [0.0], [0.0], [0.0], [0.0], [0.0], [56.0], [0.0], [0.0], [0.0], [3.0], [0.0], [0.0], [0.0], [0.0], [0.0], [0.0], [3.0], [0.0], [43.0], [0.0], [0.0], [0.0], [0.0], [0.0], [0.0], [0.0], [0.0], [0.0], [10.0], [22.0], [0.0], [0.0], [0.0], [0.0], [0.0], [0.0], [0.0], [0.0], [2.0], [0.0], [0.0], [0.0], [0.0], [0.0], [0.0], [0.0], [285.0], [0.0], [0.0], [0.0], [0.0], [0.0], [6.0], [0.0], [0.0], [0.0], [0.0], [0.0], [0.0], [0.0], [0.0], [4.0], [0.0], [0.0], [0.0], [0.0], [0.0], [0.0], [0.0], [72.0], [0.0], [0.0], [0.0], [28.0], [2.0], [2.0], [0.0], [2.0], [0.0], [0.0], [18.0], [0.0], [33.0], [0.0], [0.0], [0.0], [9.0], [4.0], [0.0], [8.0], [0.0], [0.0], [0.0], [16.0], [0.0]], \"geo\": \"geo\", \"hoverlabel\": {\"namelength\": 0}, \"hovertemplate\": \"Date=2020-02-15 00:00:00<br>Log Confirmed=%{marker.size}<br>Confirmed=%{customdata[0]}<br>Country/Region=%{location}\", \"legendgroup\": \"\", \"locationmode\": \"country names\", \"locations\": [\" Azerbaijan\", \"Afghanistan\", \"Albania\", \"Algeria\", \"Andorra\", \"Argentina\", \"Armenia\", \"Australia\", \"Austria\", \"Azerbaijan\", \"Bahrain\", \"Bangladesh\", \"Belarus\", \"Belgium\", \"Bhutan\", \"Bolivia\", \"Bosnia and Herzegovina\", \"Brazil\", \"Brunei\", \"Bulgaria\", \"Burkina Faso\", \"Cambodia\", \"Cameroon\", \"Canada\", \"Channel Islands\", \"Chile\", \"China\", \"Colombia\", \"Congo (Kinshasa)\", \"Costa Rica\", \"Cote d'Ivoire\", \"Croatia\", \"Cruise Ship\", \"Cuba\", \"Cyprus\", \"Czech Republic\", \"Czechia\", \"Denmark\", \"Dominican Republic\", \"Ecuador\", \"Egypt\", \"Estonia\", \"Faroe Islands\", \"Finland\", \"France\", \"French Guiana\", \"Georgia\", \"Germany\", \"Gibraltar\", \"Greece\", \"Guyana\", \"Holy See\", \"Honduras\", \"Hong Kong\", \"Hong Kong SAR\", \"Hungary\", \"Iceland\", \"India\", \"Indonesia\", \"Iran\", \"Iran (Islamic Republic of)\", \"Iraq\", \"Ireland\", \"Israel\", \"Italy\", \"Jamaica\", \"Japan\", \"Jordan\", \"Korea, South\", \"Kuwait\", \"Latvia\", \"Lebanon\", \"Liechtenstein\", \"Lithuania\", \"Luxembourg\", \"Macao SAR\", \"Macau\", \"Malaysia\", \"Maldives\", \"Malta\", \"Martinique\", \"Mexico\", \"Moldova\", \"Monaco\", \"Mongolia\", \"Morocco\", \"Nepal\", \"Netherlands\", \"New Zealand\", \"Nigeria\", \"North Ireland\", \"North Macedonia\", \"Norway\", \"Oman\", \"Others\", \"Pakistan\", \"Palestine\", \"Panama\", \"Paraguay\", \"Peru\", \"Philippines\", \"Poland\", \"Portugal\", \"Qatar\", \"Republic of Ireland\", \"Republic of Korea\", \"Republic of Moldova\", \"Reunion\", \"Romania\", \"Russia\", \"Russian Federation\", \"Saint Barthelemy\", \"Saint Martin\", \"San Marino\", \"Saudi Arabia\", \"Senegal\", \"Serbia\", \"Singapore\", \"Slovakia\", \"Slovenia\", \"South Africa\", \"South Korea\", \"Spain\", \"Sri Lanka\", \"St. Martin\", \"Sweden\", \"Switzerland\", \"Taipei and environs\", \"Taiwan\", \"Taiwan*\", \"Thailand\", \"Togo\", \"Tunisia\", \"Turkey\", \"UK\", \"US\", \"Ukraine\", \"United Arab Emirates\", \"United Kingdom\", \"Vatican City\", \"Viet Nam\", \"Vietnam\", \"occupied Palestinian territory\"], \"marker\": {\"color\": \"#636efa\", \"size\": [0.0, 0.0, 0.0, 0.0, 0.0, 0.0, 0.0, 0.9542425094393249, 0.0, 0.0, 0.0, 0.0, 0.0, 0.3010299956639812, 0.0, 0.0, 0.0, 0.0, 0.0, 0.0, 0.0, 0.47712125471966244, 0.0, 0.47712125471966244, 0.0, 0.0, 4.834719456547741, 0.0, 0.0, 0.0, 0.0, 0.0, 0.0, 0.0, 0.0, 0.0, 0.0, 0.0, 0.0, 0.0, 0.3010299956639812, 0.0, 0.0, 0.3010299956639812, 1.1139433523068367, 0.0, 0.0, 1.2304489213782739, 0.0, 0.0, 0.0, 0.0, 0.0, 1.7558748556724915, 0.0, 0.0, 0.0, 0.6020599913279624, 0.0, 0.0, 0.0, 0.0, 0.0, 0.0, 0.6020599913279624, 0.0, 1.6434526764861874, 0.0, 0.0, 0.0, 0.0, 0.0, 0.0, 0.0, 0.0, 0.0, 1.0413926851582251, 1.3617278360175928, 0.0, 0.0, 0.0, 0.0, 0.0, 0.0, 0.0, 0.0, 0.47712125471966244, 0.0, 0.0, 0.0, 0.0, 0.0, 0.0, 0.0, 2.456366033129043, 0.0, 0.0, 0.0, 0.0, 0.0, 0.8450980400142568, 0.0, 0.0, 0.0, 0.0, 0.0, 0.0, 0.0, 0.0, 0.6989700043360189, 0.0, 0.0, 0.0, 0.0, 0.0, 0.0, 0.0, 1.863322860120456, 0.0, 0.0, 0.0, 1.462397997898956, 0.47712125471966244, 0.47712125471966244, 0.0, 0.47712125471966244, 0.0, 0.0, 1.2787536009528289, 0.0, 1.5314789170422551, 0.0, 0.0, 0.0, 1.0, 0.6989700043360189, 0.0, 0.9542425094393249, 0.0, 0.0, 0.0, 1.2304489213782739, 0.0], \"sizemode\": \"area\", \"sizeref\": 0.012270166519720165}, \"name\": \"\", \"showlegend\": false, \"type\": \"scattergeo\"}], \"name\": \"2020-02-15 00:00:00\"}, {\"data\": [{\"customdata\": [[0.0], [0.0], [0.0], [0.0], [0.0], [0.0], [0.0], [8.0], [0.0], [0.0], [0.0], [0.0], [0.0], [1.0], [0.0], [0.0], [0.0], [0.0], [0.0], [0.0], [0.0], [2.0], [0.0], [2.0], [0.0], [0.0], [70357.0], [0.0], [0.0], [0.0], [0.0], [0.0], [0.0], [0.0], [0.0], [0.0], [0.0], [0.0], [0.0], [0.0], [1.0], [0.0], [0.0], [1.0], [12.0], [0.0], [0.0], [16.0], [0.0], [0.0], [0.0], [0.0], [0.0], [57.0], [0.0], [0.0], [0.0], [6.0], [0.0], [0.0], [0.0], [0.0], [0.0], [0.0], [3.0], [0.0], [59.0], [0.0], [0.0], [0.0], [0.0], [0.0], [0.0], [0.0], [0.0], [0.0], [10.0], [22.0], [0.0], [0.0], [0.0], [0.0], [0.0], [0.0], [0.0], [0.0], [2.0], [0.0], [0.0], [0.0], [0.0], [0.0], [0.0], [0.0], [355.0], [0.0], [0.0], [0.0], [0.0], [0.0], [6.0], [0.0], [0.0], [0.0], [0.0], [0.0], [0.0], [0.0], [0.0], [4.0], [0.0], [0.0], [0.0], [0.0], [0.0], [0.0], [0.0], [75.0], [0.0], [0.0], [0.0], [29.0], [2.0], [2.0], [0.0], [2.0], [0.0], [0.0], [20.0], [0.0], [34.0], [0.0], [0.0], [0.0], [9.0], [4.0], [0.0], [9.0], [0.0], [0.0], [0.0], [16.0], [0.0]], \"geo\": \"geo\", \"hoverlabel\": {\"namelength\": 0}, \"hovertemplate\": \"Date=2020-02-16 00:00:00<br>Log Confirmed=%{marker.size}<br>Confirmed=%{customdata[0]}<br>Country/Region=%{location}\", \"legendgroup\": \"\", \"locationmode\": \"country names\", \"locations\": [\" Azerbaijan\", \"Afghanistan\", \"Albania\", \"Algeria\", \"Andorra\", \"Argentina\", \"Armenia\", \"Australia\", \"Austria\", \"Azerbaijan\", \"Bahrain\", \"Bangladesh\", \"Belarus\", \"Belgium\", \"Bhutan\", \"Bolivia\", \"Bosnia and Herzegovina\", \"Brazil\", \"Brunei\", \"Bulgaria\", \"Burkina Faso\", \"Cambodia\", \"Cameroon\", \"Canada\", \"Channel Islands\", \"Chile\", \"China\", \"Colombia\", \"Congo (Kinshasa)\", \"Costa Rica\", \"Cote d'Ivoire\", \"Croatia\", \"Cruise Ship\", \"Cuba\", \"Cyprus\", \"Czech Republic\", \"Czechia\", \"Denmark\", \"Dominican Republic\", \"Ecuador\", \"Egypt\", \"Estonia\", \"Faroe Islands\", \"Finland\", \"France\", \"French Guiana\", \"Georgia\", \"Germany\", \"Gibraltar\", \"Greece\", \"Guyana\", \"Holy See\", \"Honduras\", \"Hong Kong\", \"Hong Kong SAR\", \"Hungary\", \"Iceland\", \"India\", \"Indonesia\", \"Iran\", \"Iran (Islamic Republic of)\", \"Iraq\", \"Ireland\", \"Israel\", \"Italy\", \"Jamaica\", \"Japan\", \"Jordan\", \"Korea, South\", \"Kuwait\", \"Latvia\", \"Lebanon\", \"Liechtenstein\", \"Lithuania\", \"Luxembourg\", \"Macao SAR\", \"Macau\", \"Malaysia\", \"Maldives\", \"Malta\", \"Martinique\", \"Mexico\", \"Moldova\", \"Monaco\", \"Mongolia\", \"Morocco\", \"Nepal\", \"Netherlands\", \"New Zealand\", \"Nigeria\", \"North Ireland\", \"North Macedonia\", \"Norway\", \"Oman\", \"Others\", \"Pakistan\", \"Palestine\", \"Panama\", \"Paraguay\", \"Peru\", \"Philippines\", \"Poland\", \"Portugal\", \"Qatar\", \"Republic of Ireland\", \"Republic of Korea\", \"Republic of Moldova\", \"Reunion\", \"Romania\", \"Russia\", \"Russian Federation\", \"Saint Barthelemy\", \"Saint Martin\", \"San Marino\", \"Saudi Arabia\", \"Senegal\", \"Serbia\", \"Singapore\", \"Slovakia\", \"Slovenia\", \"South Africa\", \"South Korea\", \"Spain\", \"Sri Lanka\", \"St. Martin\", \"Sweden\", \"Switzerland\", \"Taipei and environs\", \"Taiwan\", \"Taiwan*\", \"Thailand\", \"Togo\", \"Tunisia\", \"Turkey\", \"UK\", \"US\", \"Ukraine\", \"United Arab Emirates\", \"United Kingdom\", \"Vatican City\", \"Viet Nam\", \"Vietnam\", \"occupied Palestinian territory\"], \"marker\": {\"color\": \"#636efa\", \"size\": [0.0, 0.0, 0.0, 0.0, 0.0, 0.0, 0.0, 0.9542425094393249, 0.0, 0.0, 0.0, 0.0, 0.0, 0.3010299956639812, 0.0, 0.0, 0.0, 0.0, 0.0, 0.0, 0.0, 0.47712125471966244, 0.0, 0.47712125471966244, 0.0, 0.0, 4.847313485684387, 0.0, 0.0, 0.0, 0.0, 0.0, 0.0, 0.0, 0.0, 0.0, 0.0, 0.0, 0.0, 0.0, 0.3010299956639812, 0.0, 0.0, 0.3010299956639812, 1.1139433523068367, 0.0, 0.0, 1.2304489213782739, 0.0, 0.0, 0.0, 0.0, 0.0, 1.7634279935629373, 0.0, 0.0, 0.0, 0.8450980400142568, 0.0, 0.0, 0.0, 0.0, 0.0, 0.0, 0.6020599913279624, 0.0, 1.7781512503836436, 0.0, 0.0, 0.0, 0.0, 0.0, 0.0, 0.0, 0.0, 0.0, 1.0413926851582251, 1.3617278360175928, 0.0, 0.0, 0.0, 0.0, 0.0, 0.0, 0.0, 0.0, 0.47712125471966244, 0.0, 0.0, 0.0, 0.0, 0.0, 0.0, 0.0, 2.5514499979728753, 0.0, 0.0, 0.0, 0.0, 0.0, 0.8450980400142568, 0.0, 0.0, 0.0, 0.0, 0.0, 0.0, 0.0, 0.0, 0.6989700043360189, 0.0, 0.0, 0.0, 0.0, 0.0, 0.0, 0.0, 1.8808135922807914, 0.0, 0.0, 0.0, 1.4771212547196624, 0.47712125471966244, 0.47712125471966244, 0.0, 0.47712125471966244, 0.0, 0.0, 1.3222192947339193, 0.0, 1.5440680443502757, 0.0, 0.0, 0.0, 1.0, 0.6989700043360189, 0.0, 1.0, 0.0, 0.0, 0.0, 1.2304489213782739, 0.0], \"sizemode\": \"area\", \"sizeref\": 0.012270166519720165}, \"name\": \"\", \"showlegend\": false, \"type\": \"scattergeo\"}], \"name\": \"2020-02-16 00:00:00\"}, {\"data\": [{\"customdata\": [[0.0], [0.0], [0.0], [0.0], [0.0], [0.0], [0.0], [2.0], [0.0], [0.0], [0.0], [0.0], [0.0], [1.0], [0.0], [0.0], [0.0], [0.0], [0.0], [0.0], [0.0], [2.0], [0.0], [5.0], [0.0], [0.0], [72345.0], [0.0], [0.0], [0.0], [0.0], [0.0], [0.0], [0.0], [0.0], [0.0], [0.0], [0.0], [0.0], [0.0], [1.0], [0.0], [0.0], [1.0], [12.0], [0.0], [0.0], [16.0], [0.0], [0.0], [0.0], [0.0], [0.0], [60.0], [0.0], [0.0], [0.0], [6.0], [0.0], [0.0], [0.0], [0.0], [0.0], [0.0], [3.0], [0.0], [66.0], [0.0], [0.0], [0.0], [0.0], [0.0], [0.0], [0.0], [0.0], [0.0], [10.0], [22.0], [0.0], [0.0], [0.0], [0.0], [0.0], [0.0], [0.0], [0.0], [2.0], [0.0], [0.0], [0.0], [0.0], [0.0], [0.0], [0.0], [454.0], [0.0], [0.0], [0.0], [0.0], [0.0], [6.0], [0.0], [0.0], [0.0], [0.0], [0.0], [0.0], [0.0], [0.0], [4.0], [0.0], [0.0], [0.0], [0.0], [0.0], [0.0], [0.0], [77.0], [0.0], [0.0], [0.0], [30.0], [2.0], [2.0], [0.0], [2.0], [0.0], [0.0], [22.0], [0.0], [35.0], [0.0], [0.0], [0.0], [9.0], [4.0], [0.0], [9.0], [0.0], [0.0], [0.0], [16.0], [0.0]], \"geo\": \"geo\", \"hoverlabel\": {\"namelength\": 0}, \"hovertemplate\": \"Date=2020-02-17 00:00:00<br>Log Confirmed=%{marker.size}<br>Confirmed=%{customdata[0]}<br>Country/Region=%{location}\", \"legendgroup\": \"\", \"locationmode\": \"country names\", \"locations\": [\" Azerbaijan\", \"Afghanistan\", \"Albania\", \"Algeria\", \"Andorra\", \"Argentina\", \"Armenia\", \"Australia\", \"Austria\", \"Azerbaijan\", \"Bahrain\", \"Bangladesh\", \"Belarus\", \"Belgium\", \"Bhutan\", \"Bolivia\", \"Bosnia and Herzegovina\", \"Brazil\", \"Brunei\", \"Bulgaria\", \"Burkina Faso\", \"Cambodia\", \"Cameroon\", \"Canada\", \"Channel Islands\", \"Chile\", \"China\", \"Colombia\", \"Congo (Kinshasa)\", \"Costa Rica\", \"Cote d'Ivoire\", \"Croatia\", \"Cruise Ship\", \"Cuba\", \"Cyprus\", \"Czech Republic\", \"Czechia\", \"Denmark\", \"Dominican Republic\", \"Ecuador\", \"Egypt\", \"Estonia\", \"Faroe Islands\", \"Finland\", \"France\", \"French Guiana\", \"Georgia\", \"Germany\", \"Gibraltar\", \"Greece\", \"Guyana\", \"Holy See\", \"Honduras\", \"Hong Kong\", \"Hong Kong SAR\", \"Hungary\", \"Iceland\", \"India\", \"Indonesia\", \"Iran\", \"Iran (Islamic Republic of)\", \"Iraq\", \"Ireland\", \"Israel\", \"Italy\", \"Jamaica\", \"Japan\", \"Jordan\", \"Korea, South\", \"Kuwait\", \"Latvia\", \"Lebanon\", \"Liechtenstein\", \"Lithuania\", \"Luxembourg\", \"Macao SAR\", \"Macau\", \"Malaysia\", \"Maldives\", \"Malta\", \"Martinique\", \"Mexico\", \"Moldova\", \"Monaco\", \"Mongolia\", \"Morocco\", \"Nepal\", \"Netherlands\", \"New Zealand\", \"Nigeria\", \"North Ireland\", \"North Macedonia\", \"Norway\", \"Oman\", \"Others\", \"Pakistan\", \"Palestine\", \"Panama\", \"Paraguay\", \"Peru\", \"Philippines\", \"Poland\", \"Portugal\", \"Qatar\", \"Republic of Ireland\", \"Republic of Korea\", \"Republic of Moldova\", \"Reunion\", \"Romania\", \"Russia\", \"Russian Federation\", \"Saint Barthelemy\", \"Saint Martin\", \"San Marino\", \"Saudi Arabia\", \"Senegal\", \"Serbia\", \"Singapore\", \"Slovakia\", \"Slovenia\", \"South Africa\", \"South Korea\", \"Spain\", \"Sri Lanka\", \"St. Martin\", \"Sweden\", \"Switzerland\", \"Taipei and environs\", \"Taiwan\", \"Taiwan*\", \"Thailand\", \"Togo\", \"Tunisia\", \"Turkey\", \"UK\", \"US\", \"Ukraine\", \"United Arab Emirates\", \"United Kingdom\", \"Vatican City\", \"Viet Nam\", \"Vietnam\", \"occupied Palestinian territory\"], \"marker\": {\"color\": \"#636efa\", \"size\": [0.0, 0.0, 0.0, 0.0, 0.0, 0.0, 0.0, 0.47712125471966244, 0.0, 0.0, 0.0, 0.0, 0.0, 0.3010299956639812, 0.0, 0.0, 0.0, 0.0, 0.0, 0.0, 0.0, 0.47712125471966244, 0.0, 0.7781512503836436, 0.0, 0.0, 4.8594145240390105, 0.0, 0.0, 0.0, 0.0, 0.0, 0.0, 0.0, 0.0, 0.0, 0.0, 0.0, 0.0, 0.0, 0.3010299956639812, 0.0, 0.0, 0.3010299956639812, 1.1139433523068367, 0.0, 0.0, 1.2304489213782739, 0.0, 0.0, 0.0, 0.0, 0.0, 1.7853298350107671, 0.0, 0.0, 0.0, 0.8450980400142568, 0.0, 0.0, 0.0, 0.0, 0.0, 0.0, 0.6020599913279624, 0.0, 1.8260748027008264, 0.0, 0.0, 0.0, 0.0, 0.0, 0.0, 0.0, 0.0, 0.0, 1.0413926851582251, 1.3617278360175928, 0.0, 0.0, 0.0, 0.0, 0.0, 0.0, 0.0, 0.0, 0.47712125471966244, 0.0, 0.0, 0.0, 0.0, 0.0, 0.0, 0.0, 2.6580113966571126, 0.0, 0.0, 0.0, 0.0, 0.0, 0.8450980400142568, 0.0, 0.0, 0.0, 0.0, 0.0, 0.0, 0.0, 0.0, 0.6989700043360189, 0.0, 0.0, 0.0, 0.0, 0.0, 0.0, 0.0, 1.8920946026904804, 0.0, 0.0, 0.0, 1.4913616938342726, 0.47712125471966244, 0.47712125471966244, 0.0, 0.47712125471966244, 0.0, 0.0, 1.3617278360175928, 0.0, 1.5563025007672873, 0.0, 0.0, 0.0, 1.0, 0.6989700043360189, 0.0, 1.0, 0.0, 0.0, 0.0, 1.2304489213782739, 0.0], \"sizemode\": \"area\", \"sizeref\": 0.012270166519720165}, \"name\": \"\", \"showlegend\": false, \"type\": \"scattergeo\"}], \"name\": \"2020-02-17 00:00:00\"}, {\"data\": [{\"customdata\": [[0.0], [0.0], [0.0], [0.0], [0.0], [0.0], [0.0], [2.0], [0.0], [0.0], [0.0], [0.0], [0.0], [1.0], [0.0], [0.0], [0.0], [0.0], [0.0], [0.0], [0.0], [2.0], [0.0], [5.0], [0.0], [0.0], [74138.0], [0.0], [0.0], [0.0], [0.0], [0.0], [0.0], [0.0], [0.0], [0.0], [0.0], [0.0], [0.0], [0.0], [1.0], [0.0], [0.0], [1.0], [12.0], [0.0], [0.0], [16.0], [0.0], [0.0], [0.0], [0.0], [0.0], [62.0], [0.0], [0.0], [0.0], [6.0], [0.0], [0.0], [0.0], [0.0], [0.0], [0.0], [3.0], [0.0], [74.0], [0.0], [0.0], [0.0], [0.0], [0.0], [0.0], [0.0], [0.0], [0.0], [10.0], [22.0], [0.0], [0.0], [0.0], [0.0], [0.0], [0.0], [0.0], [0.0], [2.0], [0.0], [0.0], [0.0], [0.0], [0.0], [0.0], [0.0], [542.0], [0.0], [0.0], [0.0], [0.0], [0.0], [6.0], [0.0], [0.0], [0.0], [0.0], [0.0], [0.0], [0.0], [0.0], [4.0], [0.0], [0.0], [0.0], [0.0], [0.0], [0.0], [0.0], [81.0], [0.0], [0.0], [0.0], [31.0], [2.0], [2.0], [0.0], [2.0], [0.0], [0.0], [22.0], [0.0], [35.0], [0.0], [0.0], [0.0], [9.0], [4.0], [0.0], [9.0], [0.0], [0.0], [0.0], [16.0], [0.0]], \"geo\": \"geo\", \"hoverlabel\": {\"namelength\": 0}, \"hovertemplate\": \"Date=2020-02-18 00:00:00<br>Log Confirmed=%{marker.size}<br>Confirmed=%{customdata[0]}<br>Country/Region=%{location}\", \"legendgroup\": \"\", \"locationmode\": \"country names\", \"locations\": [\" Azerbaijan\", \"Afghanistan\", \"Albania\", \"Algeria\", \"Andorra\", \"Argentina\", \"Armenia\", \"Australia\", \"Austria\", \"Azerbaijan\", \"Bahrain\", \"Bangladesh\", \"Belarus\", \"Belgium\", \"Bhutan\", \"Bolivia\", \"Bosnia and Herzegovina\", \"Brazil\", \"Brunei\", \"Bulgaria\", \"Burkina Faso\", \"Cambodia\", \"Cameroon\", \"Canada\", \"Channel Islands\", \"Chile\", \"China\", \"Colombia\", \"Congo (Kinshasa)\", \"Costa Rica\", \"Cote d'Ivoire\", \"Croatia\", \"Cruise Ship\", \"Cuba\", \"Cyprus\", \"Czech Republic\", \"Czechia\", \"Denmark\", \"Dominican Republic\", \"Ecuador\", \"Egypt\", \"Estonia\", \"Faroe Islands\", \"Finland\", \"France\", \"French Guiana\", \"Georgia\", \"Germany\", \"Gibraltar\", \"Greece\", \"Guyana\", \"Holy See\", \"Honduras\", \"Hong Kong\", \"Hong Kong SAR\", \"Hungary\", \"Iceland\", \"India\", \"Indonesia\", \"Iran\", \"Iran (Islamic Republic of)\", \"Iraq\", \"Ireland\", \"Israel\", \"Italy\", \"Jamaica\", \"Japan\", \"Jordan\", \"Korea, South\", \"Kuwait\", \"Latvia\", \"Lebanon\", \"Liechtenstein\", \"Lithuania\", \"Luxembourg\", \"Macao SAR\", \"Macau\", \"Malaysia\", \"Maldives\", \"Malta\", \"Martinique\", \"Mexico\", \"Moldova\", \"Monaco\", \"Mongolia\", \"Morocco\", \"Nepal\", \"Netherlands\", \"New Zealand\", \"Nigeria\", \"North Ireland\", \"North Macedonia\", \"Norway\", \"Oman\", \"Others\", \"Pakistan\", \"Palestine\", \"Panama\", \"Paraguay\", \"Peru\", \"Philippines\", \"Poland\", \"Portugal\", \"Qatar\", \"Republic of Ireland\", \"Republic of Korea\", \"Republic of Moldova\", \"Reunion\", \"Romania\", \"Russia\", \"Russian Federation\", \"Saint Barthelemy\", \"Saint Martin\", \"San Marino\", \"Saudi Arabia\", \"Senegal\", \"Serbia\", \"Singapore\", \"Slovakia\", \"Slovenia\", \"South Africa\", \"South Korea\", \"Spain\", \"Sri Lanka\", \"St. Martin\", \"Sweden\", \"Switzerland\", \"Taipei and environs\", \"Taiwan\", \"Taiwan*\", \"Thailand\", \"Togo\", \"Tunisia\", \"Turkey\", \"UK\", \"US\", \"Ukraine\", \"United Arab Emirates\", \"United Kingdom\", \"Vatican City\", \"Viet Nam\", \"Vietnam\", \"occupied Palestinian territory\"], \"marker\": {\"color\": \"#636efa\", \"size\": [0.0, 0.0, 0.0, 0.0, 0.0, 0.0, 0.0, 0.47712125471966244, 0.0, 0.0, 0.0, 0.0, 0.0, 0.3010299956639812, 0.0, 0.0, 0.0, 0.0, 0.0, 0.0, 0.0, 0.47712125471966244, 0.0, 0.7781512503836436, 0.0, 0.0, 4.870046723891942, 0.0, 0.0, 0.0, 0.0, 0.0, 0.0, 0.0, 0.0, 0.0, 0.0, 0.0, 0.0, 0.0, 0.3010299956639812, 0.0, 0.0, 0.3010299956639812, 1.1139433523068367, 0.0, 0.0, 1.2304489213782739, 0.0, 0.0, 0.0, 0.0, 0.0, 1.7993405494535817, 0.0, 0.0, 0.0, 0.8450980400142568, 0.0, 0.0, 0.0, 0.0, 0.0, 0.0, 0.6020599913279624, 0.0, 1.8750612633917, 0.0, 0.0, 0.0, 0.0, 0.0, 0.0, 0.0, 0.0, 0.0, 1.0413926851582251, 1.3617278360175928, 0.0, 0.0, 0.0, 0.0, 0.0, 0.0, 0.0, 0.0, 0.47712125471966244, 0.0, 0.0, 0.0, 0.0, 0.0, 0.0, 0.0, 2.734799829588847, 0.0, 0.0, 0.0, 0.0, 0.0, 0.8450980400142568, 0.0, 0.0, 0.0, 0.0, 0.0, 0.0, 0.0, 0.0, 0.6989700043360189, 0.0, 0.0, 0.0, 0.0, 0.0, 0.0, 0.0, 1.9138138523837167, 0.0, 0.0, 0.0, 1.505149978319906, 0.47712125471966244, 0.47712125471966244, 0.0, 0.47712125471966244, 0.0, 0.0, 1.3617278360175928, 0.0, 1.5563025007672873, 0.0, 0.0, 0.0, 1.0, 0.6989700043360189, 0.0, 1.0, 0.0, 0.0, 0.0, 1.2304489213782739, 0.0], \"sizemode\": \"area\", \"sizeref\": 0.012270166519720165}, \"name\": \"\", \"showlegend\": false, \"type\": \"scattergeo\"}], \"name\": \"2020-02-18 00:00:00\"}, {\"data\": [{\"customdata\": [[0.0], [0.0], [0.0], [0.0], [0.0], [0.0], [0.0], [2.0], [0.0], [0.0], [0.0], [0.0], [0.0], [1.0], [0.0], [0.0], [0.0], [0.0], [0.0], [0.0], [0.0], [2.0], [0.0], [5.0], [0.0], [0.0], [74545.0], [0.0], [0.0], [0.0], [0.0], [0.0], [0.0], [0.0], [0.0], [0.0], [0.0], [0.0], [0.0], [0.0], [1.0], [0.0], [0.0], [1.0], [12.0], [0.0], [0.0], [16.0], [0.0], [0.0], [0.0], [0.0], [0.0], [63.0], [0.0], [0.0], [0.0], [6.0], [0.0], [2.0], [0.0], [0.0], [0.0], [0.0], [3.0], [0.0], [84.0], [0.0], [0.0], [0.0], [0.0], [0.0], [0.0], [0.0], [0.0], [0.0], [10.0], [22.0], [0.0], [0.0], [0.0], [0.0], [0.0], [0.0], [0.0], [0.0], [2.0], [0.0], [0.0], [0.0], [0.0], [0.0], [0.0], [0.0], [621.0], [0.0], [0.0], [0.0], [0.0], [0.0], [6.0], [0.0], [0.0], [0.0], [0.0], [0.0], [0.0], [0.0], [0.0], [4.0], [0.0], [0.0], [0.0], [0.0], [0.0], [0.0], [0.0], [84.0], [0.0], [0.0], [0.0], [31.0], [2.0], [2.0], [0.0], [2.0], [0.0], [0.0], [23.0], [0.0], [35.0], [0.0], [0.0], [0.0], [9.0], [4.0], [0.0], [9.0], [0.0], [0.0], [0.0], [16.0], [0.0]], \"geo\": \"geo\", \"hoverlabel\": {\"namelength\": 0}, \"hovertemplate\": \"Date=2020-02-19 00:00:00<br>Log Confirmed=%{marker.size}<br>Confirmed=%{customdata[0]}<br>Country/Region=%{location}\", \"legendgroup\": \"\", \"locationmode\": \"country names\", \"locations\": [\" Azerbaijan\", \"Afghanistan\", \"Albania\", \"Algeria\", \"Andorra\", \"Argentina\", \"Armenia\", \"Australia\", \"Austria\", \"Azerbaijan\", \"Bahrain\", \"Bangladesh\", \"Belarus\", \"Belgium\", \"Bhutan\", \"Bolivia\", \"Bosnia and Herzegovina\", \"Brazil\", \"Brunei\", \"Bulgaria\", \"Burkina Faso\", \"Cambodia\", \"Cameroon\", \"Canada\", \"Channel Islands\", \"Chile\", \"China\", \"Colombia\", \"Congo (Kinshasa)\", \"Costa Rica\", \"Cote d'Ivoire\", \"Croatia\", \"Cruise Ship\", \"Cuba\", \"Cyprus\", \"Czech Republic\", \"Czechia\", \"Denmark\", \"Dominican Republic\", \"Ecuador\", \"Egypt\", \"Estonia\", \"Faroe Islands\", \"Finland\", \"France\", \"French Guiana\", \"Georgia\", \"Germany\", \"Gibraltar\", \"Greece\", \"Guyana\", \"Holy See\", \"Honduras\", \"Hong Kong\", \"Hong Kong SAR\", \"Hungary\", \"Iceland\", \"India\", \"Indonesia\", \"Iran\", \"Iran (Islamic Republic of)\", \"Iraq\", \"Ireland\", \"Israel\", \"Italy\", \"Jamaica\", \"Japan\", \"Jordan\", \"Korea, South\", \"Kuwait\", \"Latvia\", \"Lebanon\", \"Liechtenstein\", \"Lithuania\", \"Luxembourg\", \"Macao SAR\", \"Macau\", \"Malaysia\", \"Maldives\", \"Malta\", \"Martinique\", \"Mexico\", \"Moldova\", \"Monaco\", \"Mongolia\", \"Morocco\", \"Nepal\", \"Netherlands\", \"New Zealand\", \"Nigeria\", \"North Ireland\", \"North Macedonia\", \"Norway\", \"Oman\", \"Others\", \"Pakistan\", \"Palestine\", \"Panama\", \"Paraguay\", \"Peru\", \"Philippines\", \"Poland\", \"Portugal\", \"Qatar\", \"Republic of Ireland\", \"Republic of Korea\", \"Republic of Moldova\", \"Reunion\", \"Romania\", \"Russia\", \"Russian Federation\", \"Saint Barthelemy\", \"Saint Martin\", \"San Marino\", \"Saudi Arabia\", \"Senegal\", \"Serbia\", \"Singapore\", \"Slovakia\", \"Slovenia\", \"South Africa\", \"South Korea\", \"Spain\", \"Sri Lanka\", \"St. Martin\", \"Sweden\", \"Switzerland\", \"Taipei and environs\", \"Taiwan\", \"Taiwan*\", \"Thailand\", \"Togo\", \"Tunisia\", \"Turkey\", \"UK\", \"US\", \"Ukraine\", \"United Arab Emirates\", \"United Kingdom\", \"Vatican City\", \"Viet Nam\", \"Vietnam\", \"occupied Palestinian territory\"], \"marker\": {\"color\": \"#636efa\", \"size\": [0.0, 0.0, 0.0, 0.0, 0.0, 0.0, 0.0, 0.47712125471966244, 0.0, 0.0, 0.0, 0.0, 0.0, 0.3010299956639812, 0.0, 0.0, 0.0, 0.0, 0.0, 0.0, 0.0, 0.47712125471966244, 0.0, 0.7781512503836436, 0.0, 0.0, 4.872424344978367, 0.0, 0.0, 0.0, 0.0, 0.0, 0.0, 0.0, 0.0, 0.0, 0.0, 0.0, 0.0, 0.0, 0.3010299956639812, 0.0, 0.0, 0.3010299956639812, 1.1139433523068367, 0.0, 0.0, 1.2304489213782739, 0.0, 0.0, 0.0, 0.0, 0.0, 1.806179973983887, 0.0, 0.0, 0.0, 0.8450980400142568, 0.0, 0.47712125471966244, 0.0, 0.0, 0.0, 0.0, 0.6020599913279624, 0.0, 1.9294189257142926, 0.0, 0.0, 0.0, 0.0, 0.0, 0.0, 0.0, 0.0, 0.0, 1.0413926851582251, 1.3617278360175928, 0.0, 0.0, 0.0, 0.0, 0.0, 0.0, 0.0, 0.0, 0.47712125471966244, 0.0, 0.0, 0.0, 0.0, 0.0, 0.0, 0.0, 2.7937903846908188, 0.0, 0.0, 0.0, 0.0, 0.0, 0.8450980400142568, 0.0, 0.0, 0.0, 0.0, 0.0, 0.0, 0.0, 0.0, 0.6989700043360189, 0.0, 0.0, 0.0, 0.0, 0.0, 0.0, 0.0, 1.9294189257142926, 0.0, 0.0, 0.0, 1.505149978319906, 0.47712125471966244, 0.47712125471966244, 0.0, 0.47712125471966244, 0.0, 0.0, 1.380211241711606, 0.0, 1.5563025007672873, 0.0, 0.0, 0.0, 1.0, 0.6989700043360189, 0.0, 1.0, 0.0, 0.0, 0.0, 1.2304489213782739, 0.0], \"sizemode\": \"area\", \"sizeref\": 0.012270166519720165}, \"name\": \"\", \"showlegend\": false, \"type\": \"scattergeo\"}], \"name\": \"2020-02-19 00:00:00\"}, {\"data\": [{\"customdata\": [[0.0], [0.0], [0.0], [0.0], [0.0], [0.0], [0.0], [2.0], [0.0], [0.0], [0.0], [0.0], [0.0], [1.0], [0.0], [0.0], [0.0], [0.0], [0.0], [0.0], [0.0], [2.0], [0.0], [5.0], [0.0], [0.0], [74980.0], [0.0], [0.0], [0.0], [0.0], [0.0], [0.0], [0.0], [0.0], [0.0], [0.0], [0.0], [0.0], [0.0], [1.0], [0.0], [0.0], [1.0], [12.0], [0.0], [0.0], [16.0], [0.0], [0.0], [0.0], [0.0], [0.0], [68.0], [0.0], [0.0], [0.0], [6.0], [0.0], [5.0], [0.0], [0.0], [0.0], [0.0], [3.0], [0.0], [94.0], [0.0], [0.0], [0.0], [0.0], [0.0], [0.0], [0.0], [0.0], [0.0], [10.0], [22.0], [0.0], [0.0], [0.0], [0.0], [0.0], [0.0], [0.0], [0.0], [2.0], [0.0], [0.0], [0.0], [0.0], [0.0], [0.0], [0.0], [634.0], [0.0], [0.0], [0.0], [0.0], [0.0], [6.0], [0.0], [0.0], [0.0], [0.0], [0.0], [0.0], [0.0], [0.0], [4.0], [0.0], [0.0], [0.0], [0.0], [0.0], [0.0], [0.0], [84.0], [0.0], [0.0], [0.0], [104.0], [2.0], [2.0], [0.0], [2.0], [0.0], [0.0], [24.0], [0.0], [35.0], [0.0], [0.0], [0.0], [9.0], [4.0], [0.0], [9.0], [0.0], [0.0], [0.0], [16.0], [0.0]], \"geo\": \"geo\", \"hoverlabel\": {\"namelength\": 0}, \"hovertemplate\": \"Date=2020-02-20 00:00:00<br>Log Confirmed=%{marker.size}<br>Confirmed=%{customdata[0]}<br>Country/Region=%{location}\", \"legendgroup\": \"\", \"locationmode\": \"country names\", \"locations\": [\" Azerbaijan\", \"Afghanistan\", \"Albania\", \"Algeria\", \"Andorra\", \"Argentina\", \"Armenia\", \"Australia\", \"Austria\", \"Azerbaijan\", \"Bahrain\", \"Bangladesh\", \"Belarus\", \"Belgium\", \"Bhutan\", \"Bolivia\", \"Bosnia and Herzegovina\", \"Brazil\", \"Brunei\", \"Bulgaria\", \"Burkina Faso\", \"Cambodia\", \"Cameroon\", \"Canada\", \"Channel Islands\", \"Chile\", \"China\", \"Colombia\", \"Congo (Kinshasa)\", \"Costa Rica\", \"Cote d'Ivoire\", \"Croatia\", \"Cruise Ship\", \"Cuba\", \"Cyprus\", \"Czech Republic\", \"Czechia\", \"Denmark\", \"Dominican Republic\", \"Ecuador\", \"Egypt\", \"Estonia\", \"Faroe Islands\", \"Finland\", \"France\", \"French Guiana\", \"Georgia\", \"Germany\", \"Gibraltar\", \"Greece\", \"Guyana\", \"Holy See\", \"Honduras\", \"Hong Kong\", \"Hong Kong SAR\", \"Hungary\", \"Iceland\", \"India\", \"Indonesia\", \"Iran\", \"Iran (Islamic Republic of)\", \"Iraq\", \"Ireland\", \"Israel\", \"Italy\", \"Jamaica\", \"Japan\", \"Jordan\", \"Korea, South\", \"Kuwait\", \"Latvia\", \"Lebanon\", \"Liechtenstein\", \"Lithuania\", \"Luxembourg\", \"Macao SAR\", \"Macau\", \"Malaysia\", \"Maldives\", \"Malta\", \"Martinique\", \"Mexico\", \"Moldova\", \"Monaco\", \"Mongolia\", \"Morocco\", \"Nepal\", \"Netherlands\", \"New Zealand\", \"Nigeria\", \"North Ireland\", \"North Macedonia\", \"Norway\", \"Oman\", \"Others\", \"Pakistan\", \"Palestine\", \"Panama\", \"Paraguay\", \"Peru\", \"Philippines\", \"Poland\", \"Portugal\", \"Qatar\", \"Republic of Ireland\", \"Republic of Korea\", \"Republic of Moldova\", \"Reunion\", \"Romania\", \"Russia\", \"Russian Federation\", \"Saint Barthelemy\", \"Saint Martin\", \"San Marino\", \"Saudi Arabia\", \"Senegal\", \"Serbia\", \"Singapore\", \"Slovakia\", \"Slovenia\", \"South Africa\", \"South Korea\", \"Spain\", \"Sri Lanka\", \"St. Martin\", \"Sweden\", \"Switzerland\", \"Taipei and environs\", \"Taiwan\", \"Taiwan*\", \"Thailand\", \"Togo\", \"Tunisia\", \"Turkey\", \"UK\", \"US\", \"Ukraine\", \"United Arab Emirates\", \"United Kingdom\", \"Vatican City\", \"Viet Nam\", \"Vietnam\", \"occupied Palestinian territory\"], \"marker\": {\"color\": \"#636efa\", \"size\": [0.0, 0.0, 0.0, 0.0, 0.0, 0.0, 0.0, 0.47712125471966244, 0.0, 0.0, 0.0, 0.0, 0.0, 0.3010299956639812, 0.0, 0.0, 0.0, 0.0, 0.0, 0.0, 0.0, 0.47712125471966244, 0.0, 0.7781512503836436, 0.0, 0.0, 4.87495122818457, 0.0, 0.0, 0.0, 0.0, 0.0, 0.0, 0.0, 0.0, 0.0, 0.0, 0.0, 0.0, 0.0, 0.3010299956639812, 0.0, 0.0, 0.3010299956639812, 1.1139433523068367, 0.0, 0.0, 1.2304489213782739, 0.0, 0.0, 0.0, 0.0, 0.0, 1.8388490907372552, 0.0, 0.0, 0.0, 0.8450980400142568, 0.0, 0.7781512503836436, 0.0, 0.0, 0.0, 0.0, 0.6020599913279624, 0.0, 1.9777236052888478, 0.0, 0.0, 0.0, 0.0, 0.0, 0.0, 0.0, 0.0, 0.0, 1.0413926851582251, 1.3617278360175928, 0.0, 0.0, 0.0, 0.0, 0.0, 0.0, 0.0, 0.0, 0.47712125471966244, 0.0, 0.0, 0.0, 0.0, 0.0, 0.0, 0.0, 2.8027737252919755, 0.0, 0.0, 0.0, 0.0, 0.0, 0.8450980400142568, 0.0, 0.0, 0.0, 0.0, 0.0, 0.0, 0.0, 0.0, 0.6989700043360189, 0.0, 0.0, 0.0, 0.0, 0.0, 0.0, 0.0, 1.9294189257142926, 0.0, 0.0, 0.0, 2.0211892990699383, 0.47712125471966244, 0.47712125471966244, 0.0, 0.47712125471966244, 0.0, 0.0, 1.3979400086720377, 0.0, 1.5563025007672873, 0.0, 0.0, 0.0, 1.0, 0.6989700043360189, 0.0, 1.0, 0.0, 0.0, 0.0, 1.2304489213782739, 0.0], \"sizemode\": \"area\", \"sizeref\": 0.012270166519720165}, \"name\": \"\", \"showlegend\": false, \"type\": \"scattergeo\"}], \"name\": \"2020-02-20 00:00:00\"}, {\"data\": [{\"customdata\": [[0.0], [0.0], [0.0], [0.0], [0.0], [0.0], [0.0], [9.0], [0.0], [0.0], [0.0], [0.0], [0.0], [1.0], [0.0], [0.0], [0.0], [0.0], [0.0], [0.0], [0.0], [2.0], [0.0], [8.0], [0.0], [0.0], [75489.0], [0.0], [0.0], [0.0], [0.0], [0.0], [0.0], [0.0], [0.0], [0.0], [0.0], [0.0], [0.0], [0.0], [1.0], [0.0], [0.0], [1.0], [12.0], [0.0], [0.0], [16.0], [0.0], [0.0], [0.0], [0.0], [0.0], [68.0], [0.0], [0.0], [0.0], [6.0], [0.0], [18.0], [0.0], [0.0], [0.0], [1.0], [20.0], [0.0], [105.0], [0.0], [0.0], [0.0], [0.0], [1.0], [0.0], [0.0], [0.0], [0.0], [10.0], [22.0], [0.0], [0.0], [0.0], [0.0], [0.0], [0.0], [0.0], [0.0], [2.0], [0.0], [0.0], [0.0], [0.0], [0.0], [0.0], [0.0], [634.0], [0.0], [0.0], [0.0], [0.0], [0.0], [6.0], [0.0], [0.0], [0.0], [0.0], [0.0], [0.0], [0.0], [0.0], [4.0], [0.0], [0.0], [0.0], [0.0], [0.0], [0.0], [0.0], [85.0], [0.0], [0.0], [0.0], [204.0], [2.0], [2.0], [0.0], [2.0], [0.0], [0.0], [26.0], [0.0], [35.0], [0.0], [0.0], [0.0], [9.0], [27.0], [0.0], [9.0], [0.0], [0.0], [0.0], [16.0], [0.0]], \"geo\": \"geo\", \"hoverlabel\": {\"namelength\": 0}, \"hovertemplate\": \"Date=2020-02-21 00:00:00<br>Log Confirmed=%{marker.size}<br>Confirmed=%{customdata[0]}<br>Country/Region=%{location}\", \"legendgroup\": \"\", \"locationmode\": \"country names\", \"locations\": [\" Azerbaijan\", \"Afghanistan\", \"Albania\", \"Algeria\", \"Andorra\", \"Argentina\", \"Armenia\", \"Australia\", \"Austria\", \"Azerbaijan\", \"Bahrain\", \"Bangladesh\", \"Belarus\", \"Belgium\", \"Bhutan\", \"Bolivia\", \"Bosnia and Herzegovina\", \"Brazil\", \"Brunei\", \"Bulgaria\", \"Burkina Faso\", \"Cambodia\", \"Cameroon\", \"Canada\", \"Channel Islands\", \"Chile\", \"China\", \"Colombia\", \"Congo (Kinshasa)\", \"Costa Rica\", \"Cote d'Ivoire\", \"Croatia\", \"Cruise Ship\", \"Cuba\", \"Cyprus\", \"Czech Republic\", \"Czechia\", \"Denmark\", \"Dominican Republic\", \"Ecuador\", \"Egypt\", \"Estonia\", \"Faroe Islands\", \"Finland\", \"France\", \"French Guiana\", \"Georgia\", \"Germany\", \"Gibraltar\", \"Greece\", \"Guyana\", \"Holy See\", \"Honduras\", \"Hong Kong\", \"Hong Kong SAR\", \"Hungary\", \"Iceland\", \"India\", \"Indonesia\", \"Iran\", \"Iran (Islamic Republic of)\", \"Iraq\", \"Ireland\", \"Israel\", \"Italy\", \"Jamaica\", \"Japan\", \"Jordan\", \"Korea, South\", \"Kuwait\", \"Latvia\", \"Lebanon\", \"Liechtenstein\", \"Lithuania\", \"Luxembourg\", \"Macao SAR\", \"Macau\", \"Malaysia\", \"Maldives\", \"Malta\", \"Martinique\", \"Mexico\", \"Moldova\", \"Monaco\", \"Mongolia\", \"Morocco\", \"Nepal\", \"Netherlands\", \"New Zealand\", \"Nigeria\", \"North Ireland\", \"North Macedonia\", \"Norway\", \"Oman\", \"Others\", \"Pakistan\", \"Palestine\", \"Panama\", \"Paraguay\", \"Peru\", \"Philippines\", \"Poland\", \"Portugal\", \"Qatar\", \"Republic of Ireland\", \"Republic of Korea\", \"Republic of Moldova\", \"Reunion\", \"Romania\", \"Russia\", \"Russian Federation\", \"Saint Barthelemy\", \"Saint Martin\", \"San Marino\", \"Saudi Arabia\", \"Senegal\", \"Serbia\", \"Singapore\", \"Slovakia\", \"Slovenia\", \"South Africa\", \"South Korea\", \"Spain\", \"Sri Lanka\", \"St. Martin\", \"Sweden\", \"Switzerland\", \"Taipei and environs\", \"Taiwan\", \"Taiwan*\", \"Thailand\", \"Togo\", \"Tunisia\", \"Turkey\", \"UK\", \"US\", \"Ukraine\", \"United Arab Emirates\", \"United Kingdom\", \"Vatican City\", \"Viet Nam\", \"Vietnam\", \"occupied Palestinian territory\"], \"marker\": {\"color\": \"#636efa\", \"size\": [0.0, 0.0, 0.0, 0.0, 0.0, 0.0, 0.0, 1.0, 0.0, 0.0, 0.0, 0.0, 0.0, 0.3010299956639812, 0.0, 0.0, 0.0, 0.0, 0.0, 0.0, 0.0, 0.47712125471966244, 0.0, 0.9542425094393249, 0.0, 0.0, 4.877889425371484, 0.0, 0.0, 0.0, 0.0, 0.0, 0.0, 0.0, 0.0, 0.0, 0.0, 0.0, 0.0, 0.0, 0.3010299956639812, 0.0, 0.0, 0.3010299956639812, 1.1139433523068367, 0.0, 0.0, 1.2304489213782739, 0.0, 0.0, 0.0, 0.0, 0.0, 1.8388490907372552, 0.0, 0.0, 0.0, 0.8450980400142568, 0.0, 1.2787536009528289, 0.0, 0.0, 0.0, 0.3010299956639812, 1.3222192947339193, 0.0, 2.0253058652647704, 0.0, 0.0, 0.0, 0.0, 0.3010299956639812, 0.0, 0.0, 0.0, 0.0, 1.0413926851582251, 1.3617278360175928, 0.0, 0.0, 0.0, 0.0, 0.0, 0.0, 0.0, 0.0, 0.47712125471966244, 0.0, 0.0, 0.0, 0.0, 0.0, 0.0, 0.0, 2.8027737252919755, 0.0, 0.0, 0.0, 0.0, 0.0, 0.8450980400142568, 0.0, 0.0, 0.0, 0.0, 0.0, 0.0, 0.0, 0.0, 0.6989700043360189, 0.0, 0.0, 0.0, 0.0, 0.0, 0.0, 0.0, 1.9344984512435677, 0.0, 0.0, 0.0, 2.311753861055754, 0.47712125471966244, 0.47712125471966244, 0.0, 0.47712125471966244, 0.0, 0.0, 1.4313637641589874, 0.0, 1.5563025007672873, 0.0, 0.0, 0.0, 1.0, 1.4471580313422192, 0.0, 1.0, 0.0, 0.0, 0.0, 1.2304489213782739, 0.0], \"sizemode\": \"area\", \"sizeref\": 0.012270166519720165}, \"name\": \"\", \"showlegend\": false, \"type\": \"scattergeo\"}], \"name\": \"2020-02-21 00:00:00\"}, {\"data\": [{\"customdata\": [[0.0], [0.0], [0.0], [0.0], [0.0], [0.0], [0.0], [7.0], [0.0], [0.0], [0.0], [0.0], [0.0], [1.0], [0.0], [0.0], [0.0], [0.0], [0.0], [0.0], [0.0], [2.0], [0.0], [8.0], [0.0], [0.0], [76741.0], [0.0], [0.0], [0.0], [0.0], [0.0], [0.0], [0.0], [0.0], [0.0], [0.0], [0.0], [0.0], [0.0], [1.0], [0.0], [0.0], [1.0], [12.0], [0.0], [0.0], [16.0], [0.0], [0.0], [0.0], [0.0], [0.0], [69.0], [0.0], [0.0], [0.0], [6.0], [0.0], [28.0], [0.0], [0.0], [0.0], [1.0], [62.0], [0.0], [122.0], [0.0], [0.0], [0.0], [0.0], [1.0], [0.0], [0.0], [0.0], [0.0], [10.0], [22.0], [0.0], [0.0], [0.0], [0.0], [0.0], [0.0], [0.0], [0.0], [2.0], [0.0], [0.0], [0.0], [0.0], [0.0], [0.0], [0.0], [634.0], [0.0], [0.0], [0.0], [0.0], [0.0], [6.0], [0.0], [0.0], [0.0], [0.0], [0.0], [0.0], [0.0], [0.0], [4.0], [0.0], [0.0], [0.0], [0.0], [0.0], [0.0], [0.0], [85.0], [0.0], [0.0], [0.0], [433.0], [2.0], [2.0], [0.0], [2.0], [0.0], [0.0], [26.0], [0.0], [35.0], [0.0], [0.0], [0.0], [9.0], [18.0], [0.0], [13.0], [0.0], [0.0], [0.0], [16.0], [0.0]], \"geo\": \"geo\", \"hoverlabel\": {\"namelength\": 0}, \"hovertemplate\": \"Date=2020-02-22 00:00:00<br>Log Confirmed=%{marker.size}<br>Confirmed=%{customdata[0]}<br>Country/Region=%{location}\", \"legendgroup\": \"\", \"locationmode\": \"country names\", \"locations\": [\" Azerbaijan\", \"Afghanistan\", \"Albania\", \"Algeria\", \"Andorra\", \"Argentina\", \"Armenia\", \"Australia\", \"Austria\", \"Azerbaijan\", \"Bahrain\", \"Bangladesh\", \"Belarus\", \"Belgium\", \"Bhutan\", \"Bolivia\", \"Bosnia and Herzegovina\", \"Brazil\", \"Brunei\", \"Bulgaria\", \"Burkina Faso\", \"Cambodia\", \"Cameroon\", \"Canada\", \"Channel Islands\", \"Chile\", \"China\", \"Colombia\", \"Congo (Kinshasa)\", \"Costa Rica\", \"Cote d'Ivoire\", \"Croatia\", \"Cruise Ship\", \"Cuba\", \"Cyprus\", \"Czech Republic\", \"Czechia\", \"Denmark\", \"Dominican Republic\", \"Ecuador\", \"Egypt\", \"Estonia\", \"Faroe Islands\", \"Finland\", \"France\", \"French Guiana\", \"Georgia\", \"Germany\", \"Gibraltar\", \"Greece\", \"Guyana\", \"Holy See\", \"Honduras\", \"Hong Kong\", \"Hong Kong SAR\", \"Hungary\", \"Iceland\", \"India\", \"Indonesia\", \"Iran\", \"Iran (Islamic Republic of)\", \"Iraq\", \"Ireland\", \"Israel\", \"Italy\", \"Jamaica\", \"Japan\", \"Jordan\", \"Korea, South\", \"Kuwait\", \"Latvia\", \"Lebanon\", \"Liechtenstein\", \"Lithuania\", \"Luxembourg\", \"Macao SAR\", \"Macau\", \"Malaysia\", \"Maldives\", \"Malta\", \"Martinique\", \"Mexico\", \"Moldova\", \"Monaco\", \"Mongolia\", \"Morocco\", \"Nepal\", \"Netherlands\", \"New Zealand\", \"Nigeria\", \"North Ireland\", \"North Macedonia\", \"Norway\", \"Oman\", \"Others\", \"Pakistan\", \"Palestine\", \"Panama\", \"Paraguay\", \"Peru\", \"Philippines\", \"Poland\", \"Portugal\", \"Qatar\", \"Republic of Ireland\", \"Republic of Korea\", \"Republic of Moldova\", \"Reunion\", \"Romania\", \"Russia\", \"Russian Federation\", \"Saint Barthelemy\", \"Saint Martin\", \"San Marino\", \"Saudi Arabia\", \"Senegal\", \"Serbia\", \"Singapore\", \"Slovakia\", \"Slovenia\", \"South Africa\", \"South Korea\", \"Spain\", \"Sri Lanka\", \"St. Martin\", \"Sweden\", \"Switzerland\", \"Taipei and environs\", \"Taiwan\", \"Taiwan*\", \"Thailand\", \"Togo\", \"Tunisia\", \"Turkey\", \"UK\", \"US\", \"Ukraine\", \"United Arab Emirates\", \"United Kingdom\", \"Vatican City\", \"Viet Nam\", \"Vietnam\", \"occupied Palestinian territory\"], \"marker\": {\"color\": \"#636efa\", \"size\": [0.0, 0.0, 0.0, 0.0, 0.0, 0.0, 0.0, 0.9030899869919435, 0.0, 0.0, 0.0, 0.0, 0.0, 0.3010299956639812, 0.0, 0.0, 0.0, 0.0, 0.0, 0.0, 0.0, 0.47712125471966244, 0.0, 0.9542425094393249, 0.0, 0.0, 4.885033113309593, 0.0, 0.0, 0.0, 0.0, 0.0, 0.0, 0.0, 0.0, 0.0, 0.0, 0.0, 0.0, 0.0, 0.3010299956639812, 0.0, 0.0, 0.3010299956639812, 1.1139433523068367, 0.0, 0.0, 1.2304489213782739, 0.0, 0.0, 0.0, 0.0, 0.0, 1.845098040014257, 0.0, 0.0, 0.0, 0.8450980400142568, 0.0, 1.462397997898956, 0.0, 0.0, 0.0, 0.3010299956639812, 1.7993405494535817, 0.0, 2.089905111439398, 0.0, 0.0, 0.0, 0.0, 0.3010299956639812, 0.0, 0.0, 0.0, 0.0, 1.0413926851582251, 1.3617278360175928, 0.0, 0.0, 0.0, 0.0, 0.0, 0.0, 0.0, 0.0, 0.47712125471966244, 0.0, 0.0, 0.0, 0.0, 0.0, 0.0, 0.0, 2.8027737252919755, 0.0, 0.0, 0.0, 0.0, 0.0, 0.8450980400142568, 0.0, 0.0, 0.0, 0.0, 0.0, 0.0, 0.0, 0.0, 0.6989700043360189, 0.0, 0.0, 0.0, 0.0, 0.0, 0.0, 0.0, 1.9344984512435677, 0.0, 0.0, 0.0, 2.637489729512511, 0.47712125471966244, 0.47712125471966244, 0.0, 0.47712125471966244, 0.0, 0.0, 1.4313637641589874, 0.0, 1.5563025007672873, 0.0, 0.0, 0.0, 1.0, 1.2787536009528289, 0.0, 1.146128035678238, 0.0, 0.0, 0.0, 1.2304489213782739, 0.0], \"sizemode\": \"area\", \"sizeref\": 0.012270166519720165}, \"name\": \"\", \"showlegend\": false, \"type\": \"scattergeo\"}], \"name\": \"2020-02-22 00:00:00\"}, {\"data\": [{\"customdata\": [[0.0], [0.0], [0.0], [0.0], [0.0], [0.0], [0.0], [7.0], [0.0], [0.0], [0.0], [0.0], [0.0], [1.0], [0.0], [0.0], [0.0], [0.0], [0.0], [0.0], [0.0], [2.0], [0.0], [8.0], [0.0], [0.0], [76919.0], [0.0], [0.0], [0.0], [0.0], [0.0], [0.0], [0.0], [0.0], [0.0], [0.0], [0.0], [0.0], [0.0], [1.0], [0.0], [0.0], [1.0], [12.0], [0.0], [0.0], [16.0], [0.0], [0.0], [0.0], [0.0], [0.0], [74.0], [0.0], [0.0], [0.0], [6.0], [0.0], [43.0], [0.0], [0.0], [0.0], [1.0], [155.0], [0.0], [147.0], [0.0], [0.0], [0.0], [0.0], [1.0], [0.0], [0.0], [0.0], [0.0], [10.0], [22.0], [0.0], [0.0], [0.0], [0.0], [0.0], [0.0], [0.0], [0.0], [2.0], [0.0], [0.0], [0.0], [0.0], [0.0], [0.0], [0.0], [691.0], [0.0], [0.0], [0.0], [0.0], [0.0], [6.0], [0.0], [0.0], [0.0], [0.0], [0.0], [0.0], [0.0], [0.0], [4.0], [0.0], [0.0], [0.0], [0.0], [0.0], [0.0], [0.0], [89.0], [0.0], [0.0], [0.0], [602.0], [2.0], [2.0], [0.0], [2.0], [0.0], [0.0], [28.0], [0.0], [35.0], [0.0], [0.0], [0.0], [9.0], [18.0], [0.0], [13.0], [0.0], [0.0], [0.0], [16.0], [0.0]], \"geo\": \"geo\", \"hoverlabel\": {\"namelength\": 0}, \"hovertemplate\": \"Date=2020-02-23 00:00:00<br>Log Confirmed=%{marker.size}<br>Confirmed=%{customdata[0]}<br>Country/Region=%{location}\", \"legendgroup\": \"\", \"locationmode\": \"country names\", \"locations\": [\" Azerbaijan\", \"Afghanistan\", \"Albania\", \"Algeria\", \"Andorra\", \"Argentina\", \"Armenia\", \"Australia\", \"Austria\", \"Azerbaijan\", \"Bahrain\", \"Bangladesh\", \"Belarus\", \"Belgium\", \"Bhutan\", \"Bolivia\", \"Bosnia and Herzegovina\", \"Brazil\", \"Brunei\", \"Bulgaria\", \"Burkina Faso\", \"Cambodia\", \"Cameroon\", \"Canada\", \"Channel Islands\", \"Chile\", \"China\", \"Colombia\", \"Congo (Kinshasa)\", \"Costa Rica\", \"Cote d'Ivoire\", \"Croatia\", \"Cruise Ship\", \"Cuba\", \"Cyprus\", \"Czech Republic\", \"Czechia\", \"Denmark\", \"Dominican Republic\", \"Ecuador\", \"Egypt\", \"Estonia\", \"Faroe Islands\", \"Finland\", \"France\", \"French Guiana\", \"Georgia\", \"Germany\", \"Gibraltar\", \"Greece\", \"Guyana\", \"Holy See\", \"Honduras\", \"Hong Kong\", \"Hong Kong SAR\", \"Hungary\", \"Iceland\", \"India\", \"Indonesia\", \"Iran\", \"Iran (Islamic Republic of)\", \"Iraq\", \"Ireland\", \"Israel\", \"Italy\", \"Jamaica\", \"Japan\", \"Jordan\", \"Korea, South\", \"Kuwait\", \"Latvia\", \"Lebanon\", \"Liechtenstein\", \"Lithuania\", \"Luxembourg\", \"Macao SAR\", \"Macau\", \"Malaysia\", \"Maldives\", \"Malta\", \"Martinique\", \"Mexico\", \"Moldova\", \"Monaco\", \"Mongolia\", \"Morocco\", \"Nepal\", \"Netherlands\", \"New Zealand\", \"Nigeria\", \"North Ireland\", \"North Macedonia\", \"Norway\", \"Oman\", \"Others\", \"Pakistan\", \"Palestine\", \"Panama\", \"Paraguay\", \"Peru\", \"Philippines\", \"Poland\", \"Portugal\", \"Qatar\", \"Republic of Ireland\", \"Republic of Korea\", \"Republic of Moldova\", \"Reunion\", \"Romania\", \"Russia\", \"Russian Federation\", \"Saint Barthelemy\", \"Saint Martin\", \"San Marino\", \"Saudi Arabia\", \"Senegal\", \"Serbia\", \"Singapore\", \"Slovakia\", \"Slovenia\", \"South Africa\", \"South Korea\", \"Spain\", \"Sri Lanka\", \"St. Martin\", \"Sweden\", \"Switzerland\", \"Taipei and environs\", \"Taiwan\", \"Taiwan*\", \"Thailand\", \"Togo\", \"Tunisia\", \"Turkey\", \"UK\", \"US\", \"Ukraine\", \"United Arab Emirates\", \"United Kingdom\", \"Vatican City\", \"Viet Nam\", \"Vietnam\", \"occupied Palestinian territory\"], \"marker\": {\"color\": \"#636efa\", \"size\": [0.0, 0.0, 0.0, 0.0, 0.0, 0.0, 0.0, 0.9030899869919435, 0.0, 0.0, 0.0, 0.0, 0.0, 0.3010299956639812, 0.0, 0.0, 0.0, 0.0, 0.0, 0.0, 0.0, 0.47712125471966244, 0.0, 0.9542425094393249, 0.0, 0.0, 4.886039275566442, 0.0, 0.0, 0.0, 0.0, 0.0, 0.0, 0.0, 0.0, 0.0, 0.0, 0.0, 0.0, 0.0, 0.3010299956639812, 0.0, 0.0, 0.3010299956639812, 1.1139433523068367, 0.0, 0.0, 1.2304489213782739, 0.0, 0.0, 0.0, 0.0, 0.0, 1.8750612633917, 0.0, 0.0, 0.0, 0.8450980400142568, 0.0, 1.6434526764861874, 0.0, 0.0, 0.0, 0.3010299956639812, 2.1931245983544616, 0.0, 2.1702617153949575, 0.0, 0.0, 0.0, 0.0, 0.3010299956639812, 0.0, 0.0, 0.0, 0.0, 1.0413926851582251, 1.3617278360175928, 0.0, 0.0, 0.0, 0.0, 0.0, 0.0, 0.0, 0.0, 0.47712125471966244, 0.0, 0.0, 0.0, 0.0, 0.0, 0.0, 0.0, 2.840106094456758, 0.0, 0.0, 0.0, 0.0, 0.0, 0.8450980400142568, 0.0, 0.0, 0.0, 0.0, 0.0, 0.0, 0.0, 0.0, 0.6989700043360189, 0.0, 0.0, 0.0, 0.0, 0.0, 0.0, 0.0, 1.954242509439325, 0.0, 0.0, 0.0, 2.780317312140151, 0.47712125471966244, 0.47712125471966244, 0.0, 0.47712125471966244, 0.0, 0.0, 1.462397997898956, 0.0, 1.5563025007672873, 0.0, 0.0, 0.0, 1.0, 1.2787536009528289, 0.0, 1.146128035678238, 0.0, 0.0, 0.0, 1.2304489213782739, 0.0], \"sizemode\": \"area\", \"sizeref\": 0.012270166519720165}, \"name\": \"\", \"showlegend\": false, \"type\": \"scattergeo\"}], \"name\": \"2020-02-23 00:00:00\"}, {\"data\": [{\"customdata\": [[0.0], [2.0], [0.0], [0.0], [0.0], [0.0], [0.0], [7.0], [0.0], [0.0], [1.0], [0.0], [0.0], [1.0], [0.0], [0.0], [0.0], [0.0], [0.0], [0.0], [0.0], [2.0], [0.0], [3.0], [0.0], [0.0], [76987.0], [0.0], [0.0], [0.0], [0.0], [0.0], [0.0], [0.0], [0.0], [0.0], [0.0], [0.0], [0.0], [0.0], [1.0], [0.0], [0.0], [1.0], [12.0], [0.0], [0.0], [16.0], [0.0], [0.0], [0.0], [0.0], [0.0], [79.0], [0.0], [0.0], [0.0], [6.0], [0.0], [61.0], [0.0], [1.0], [0.0], [1.0], [229.0], [0.0], [159.0], [0.0], [0.0], [1.0], [0.0], [1.0], [0.0], [0.0], [0.0], [0.0], [10.0], [22.0], [0.0], [0.0], [0.0], [0.0], [0.0], [0.0], [0.0], [0.0], [2.0], [0.0], [0.0], [0.0], [0.0], [0.0], [0.0], [2.0], [691.0], [0.0], [0.0], [0.0], [0.0], [0.0], [6.0], [0.0], [0.0], [0.0], [0.0], [0.0], [0.0], [0.0], [0.0], [4.0], [0.0], [0.0], [0.0], [0.0], [0.0], [0.0], [0.0], [89.0], [0.0], [0.0], [0.0], [833.0], [2.0], [2.0], [0.0], [2.0], [0.0], [0.0], [30.0], [0.0], [35.0], [0.0], [0.0], [0.0], [13.0], [36.0], [0.0], [13.0], [0.0], [0.0], [0.0], [16.0], [0.0]], \"geo\": \"geo\", \"hoverlabel\": {\"namelength\": 0}, \"hovertemplate\": \"Date=2020-02-24 00:00:00<br>Log Confirmed=%{marker.size}<br>Confirmed=%{customdata[0]}<br>Country/Region=%{location}\", \"legendgroup\": \"\", \"locationmode\": \"country names\", \"locations\": [\" Azerbaijan\", \"Afghanistan\", \"Albania\", \"Algeria\", \"Andorra\", \"Argentina\", \"Armenia\", \"Australia\", \"Austria\", \"Azerbaijan\", \"Bahrain\", \"Bangladesh\", \"Belarus\", \"Belgium\", \"Bhutan\", \"Bolivia\", \"Bosnia and Herzegovina\", \"Brazil\", \"Brunei\", \"Bulgaria\", \"Burkina Faso\", \"Cambodia\", \"Cameroon\", \"Canada\", \"Channel Islands\", \"Chile\", \"China\", \"Colombia\", \"Congo (Kinshasa)\", \"Costa Rica\", \"Cote d'Ivoire\", \"Croatia\", \"Cruise Ship\", \"Cuba\", \"Cyprus\", \"Czech Republic\", \"Czechia\", \"Denmark\", \"Dominican Republic\", \"Ecuador\", \"Egypt\", \"Estonia\", \"Faroe Islands\", \"Finland\", \"France\", \"French Guiana\", \"Georgia\", \"Germany\", \"Gibraltar\", \"Greece\", \"Guyana\", \"Holy See\", \"Honduras\", \"Hong Kong\", \"Hong Kong SAR\", \"Hungary\", \"Iceland\", \"India\", \"Indonesia\", \"Iran\", \"Iran (Islamic Republic of)\", \"Iraq\", \"Ireland\", \"Israel\", \"Italy\", \"Jamaica\", \"Japan\", \"Jordan\", \"Korea, South\", \"Kuwait\", \"Latvia\", \"Lebanon\", \"Liechtenstein\", \"Lithuania\", \"Luxembourg\", \"Macao SAR\", \"Macau\", \"Malaysia\", \"Maldives\", \"Malta\", \"Martinique\", \"Mexico\", \"Moldova\", \"Monaco\", \"Mongolia\", \"Morocco\", \"Nepal\", \"Netherlands\", \"New Zealand\", \"Nigeria\", \"North Ireland\", \"North Macedonia\", \"Norway\", \"Oman\", \"Others\", \"Pakistan\", \"Palestine\", \"Panama\", \"Paraguay\", \"Peru\", \"Philippines\", \"Poland\", \"Portugal\", \"Qatar\", \"Republic of Ireland\", \"Republic of Korea\", \"Republic of Moldova\", \"Reunion\", \"Romania\", \"Russia\", \"Russian Federation\", \"Saint Barthelemy\", \"Saint Martin\", \"San Marino\", \"Saudi Arabia\", \"Senegal\", \"Serbia\", \"Singapore\", \"Slovakia\", \"Slovenia\", \"South Africa\", \"South Korea\", \"Spain\", \"Sri Lanka\", \"St. Martin\", \"Sweden\", \"Switzerland\", \"Taipei and environs\", \"Taiwan\", \"Taiwan*\", \"Thailand\", \"Togo\", \"Tunisia\", \"Turkey\", \"UK\", \"US\", \"Ukraine\", \"United Arab Emirates\", \"United Kingdom\", \"Vatican City\", \"Viet Nam\", \"Vietnam\", \"occupied Palestinian territory\"], \"marker\": {\"color\": \"#636efa\", \"size\": [0.0, 0.47712125471966244, 0.0, 0.0, 0.0, 0.0, 0.0, 0.9030899869919435, 0.0, 0.0, 0.3010299956639812, 0.0, 0.0, 0.3010299956639812, 0.0, 0.0, 0.0, 0.0, 0.0, 0.0, 0.0, 0.47712125471966244, 0.0, 0.6020599913279624, 0.0, 0.0, 4.886423037641072, 0.0, 0.0, 0.0, 0.0, 0.0, 0.0, 0.0, 0.0, 0.0, 0.0, 0.0, 0.0, 0.0, 0.3010299956639812, 0.0, 0.0, 0.3010299956639812, 1.1139433523068367, 0.0, 0.0, 1.2304489213782739, 0.0, 0.0, 0.0, 0.0, 0.0, 1.9030899869919435, 0.0, 0.0, 0.0, 0.8450980400142568, 0.0, 1.792391689498254, 0.0, 0.3010299956639812, 0.0, 0.3010299956639812, 2.361727836017593, 0.0, 2.2041199826559246, 0.0, 0.0, 0.3010299956639812, 0.0, 0.3010299956639812, 0.0, 0.0, 0.0, 0.0, 1.0413926851582251, 1.3617278360175928, 0.0, 0.0, 0.0, 0.0, 0.0, 0.0, 0.0, 0.0, 0.47712125471966244, 0.0, 0.0, 0.0, 0.0, 0.0, 0.0, 0.47712125471966244, 2.840106094456758, 0.0, 0.0, 0.0, 0.0, 0.0, 0.8450980400142568, 0.0, 0.0, 0.0, 0.0, 0.0, 0.0, 0.0, 0.0, 0.6989700043360189, 0.0, 0.0, 0.0, 0.0, 0.0, 0.0, 0.0, 1.954242509439325, 0.0, 0.0, 0.0, 2.921166050637739, 0.47712125471966244, 0.47712125471966244, 0.0, 0.47712125471966244, 0.0, 0.0, 1.4913616938342726, 0.0, 1.5563025007672873, 0.0, 0.0, 0.0, 1.146128035678238, 1.568201724066995, 0.0, 1.146128035678238, 0.0, 0.0, 0.0, 1.2304489213782739, 0.0], \"sizemode\": \"area\", \"sizeref\": 0.012270166519720165}, \"name\": \"\", \"showlegend\": false, \"type\": \"scattergeo\"}], \"name\": \"2020-02-24 00:00:00\"}, {\"data\": [{\"customdata\": [[0.0], [2.0], [0.0], [2.0], [0.0], [0.0], [0.0], [7.0], [2.0], [0.0], [23.0], [0.0], [0.0], [1.0], [0.0], [0.0], [0.0], [0.0], [0.0], [0.0], [0.0], [2.0], [0.0], [7.0], [0.0], [0.0], [77474.0], [0.0], [0.0], [0.0], [0.0], [1.0], [0.0], [0.0], [0.0], [0.0], [0.0], [0.0], [0.0], [0.0], [1.0], [0.0], [0.0], [1.0], [14.0], [0.0], [0.0], [17.0], [0.0], [0.0], [0.0], [0.0], [0.0], [84.0], [0.0], [0.0], [0.0], [6.0], [0.0], [95.0], [0.0], [1.0], [0.0], [1.0], [322.0], [0.0], [170.0], [0.0], [0.0], [11.0], [0.0], [1.0], [0.0], [0.0], [0.0], [0.0], [10.0], [22.0], [0.0], [0.0], [0.0], [0.0], [0.0], [0.0], [0.0], [0.0], [2.0], [0.0], [0.0], [0.0], [0.0], [0.0], [0.0], [2.0], [691.0], [0.0], [0.0], [0.0], [0.0], [0.0], [6.0], [0.0], [0.0], [0.0], [0.0], [0.0], [0.0], [0.0], [0.0], [4.0], [0.0], [0.0], [0.0], [0.0], [0.0], [0.0], [0.0], [91.0], [0.0], [0.0], [0.0], [977.0], [6.0], [2.0], [0.0], [2.0], [1.0], [0.0], [31.0], [0.0], [37.0], [0.0], [0.0], [0.0], [13.0], [38.0], [0.0], [13.0], [0.0], [0.0], [0.0], [32.0], [0.0]], \"geo\": \"geo\", \"hoverlabel\": {\"namelength\": 0}, \"hovertemplate\": \"Date=2020-02-25 00:00:00<br>Log Confirmed=%{marker.size}<br>Confirmed=%{customdata[0]}<br>Country/Region=%{location}\", \"legendgroup\": \"\", \"locationmode\": \"country names\", \"locations\": [\" Azerbaijan\", \"Afghanistan\", \"Albania\", \"Algeria\", \"Andorra\", \"Argentina\", \"Armenia\", \"Australia\", \"Austria\", \"Azerbaijan\", \"Bahrain\", \"Bangladesh\", \"Belarus\", \"Belgium\", \"Bhutan\", \"Bolivia\", \"Bosnia and Herzegovina\", \"Brazil\", \"Brunei\", \"Bulgaria\", \"Burkina Faso\", \"Cambodia\", \"Cameroon\", \"Canada\", \"Channel Islands\", \"Chile\", \"China\", \"Colombia\", \"Congo (Kinshasa)\", \"Costa Rica\", \"Cote d'Ivoire\", \"Croatia\", \"Cruise Ship\", \"Cuba\", \"Cyprus\", \"Czech Republic\", \"Czechia\", \"Denmark\", \"Dominican Republic\", \"Ecuador\", \"Egypt\", \"Estonia\", \"Faroe Islands\", \"Finland\", \"France\", \"French Guiana\", \"Georgia\", \"Germany\", \"Gibraltar\", \"Greece\", \"Guyana\", \"Holy See\", \"Honduras\", \"Hong Kong\", \"Hong Kong SAR\", \"Hungary\", \"Iceland\", \"India\", \"Indonesia\", \"Iran\", \"Iran (Islamic Republic of)\", \"Iraq\", \"Ireland\", \"Israel\", \"Italy\", \"Jamaica\", \"Japan\", \"Jordan\", \"Korea, South\", \"Kuwait\", \"Latvia\", \"Lebanon\", \"Liechtenstein\", \"Lithuania\", \"Luxembourg\", \"Macao SAR\", \"Macau\", \"Malaysia\", \"Maldives\", \"Malta\", \"Martinique\", \"Mexico\", \"Moldova\", \"Monaco\", \"Mongolia\", \"Morocco\", \"Nepal\", \"Netherlands\", \"New Zealand\", \"Nigeria\", \"North Ireland\", \"North Macedonia\", \"Norway\", \"Oman\", \"Others\", \"Pakistan\", \"Palestine\", \"Panama\", \"Paraguay\", \"Peru\", \"Philippines\", \"Poland\", \"Portugal\", \"Qatar\", \"Republic of Ireland\", \"Republic of Korea\", \"Republic of Moldova\", \"Reunion\", \"Romania\", \"Russia\", \"Russian Federation\", \"Saint Barthelemy\", \"Saint Martin\", \"San Marino\", \"Saudi Arabia\", \"Senegal\", \"Serbia\", \"Singapore\", \"Slovakia\", \"Slovenia\", \"South Africa\", \"South Korea\", \"Spain\", \"Sri Lanka\", \"St. Martin\", \"Sweden\", \"Switzerland\", \"Taipei and environs\", \"Taiwan\", \"Taiwan*\", \"Thailand\", \"Togo\", \"Tunisia\", \"Turkey\", \"UK\", \"US\", \"Ukraine\", \"United Arab Emirates\", \"United Kingdom\", \"Vatican City\", \"Viet Nam\", \"Vietnam\", \"occupied Palestinian territory\"], \"marker\": {\"color\": \"#636efa\", \"size\": [0.0, 0.47712125471966244, 0.0, 0.47712125471966244, 0.0, 0.0, 0.0, 0.9030899869919435, 0.47712125471966244, 0.0, 1.380211241711606, 0.0, 0.0, 0.3010299956639812, 0.0, 0.0, 0.0, 0.0, 0.0, 0.0, 0.0, 0.47712125471966244, 0.0, 0.9030899869919435, 0.0, 0.0, 4.889161584911321, 0.0, 0.0, 0.0, 0.0, 0.3010299956639812, 0.0, 0.0, 0.0, 0.0, 0.0, 0.0, 0.0, 0.0, 0.3010299956639812, 0.0, 0.0, 0.3010299956639812, 1.1760912590556813, 0.0, 0.0, 1.255272505103306, 0.0, 0.0, 0.0, 0.0, 0.0, 1.9294189257142926, 0.0, 0.0, 0.0, 0.8450980400142568, 0.0, 1.9822712330395684, 0.0, 0.3010299956639812, 0.0, 0.3010299956639812, 2.509202522331103, 0.0, 2.2329961103921536, 0.0, 0.0, 1.0791812460476249, 0.0, 0.3010299956639812, 0.0, 0.0, 0.0, 0.0, 1.0413926851582251, 1.3617278360175928, 0.0, 0.0, 0.0, 0.0, 0.0, 0.0, 0.0, 0.0, 0.47712125471966244, 0.0, 0.0, 0.0, 0.0, 0.0, 0.0, 0.47712125471966244, 2.840106094456758, 0.0, 0.0, 0.0, 0.0, 0.0, 0.8450980400142568, 0.0, 0.0, 0.0, 0.0, 0.0, 0.0, 0.0, 0.0, 0.6989700043360189, 0.0, 0.0, 0.0, 0.0, 0.0, 0.0, 0.0, 1.9637878273455553, 0.0, 0.0, 0.0, 2.9903388547876015, 0.8450980400142568, 0.47712125471966244, 0.0, 0.47712125471966244, 0.3010299956639812, 0.0, 1.505149978319906, 0.0, 1.5797835966168101, 0.0, 0.0, 0.0, 1.146128035678238, 1.591064607026499, 0.0, 1.146128035678238, 0.0, 0.0, 0.0, 1.5185139398778875, 0.0], \"sizemode\": \"area\", \"sizeref\": 0.012270166519720165}, \"name\": \"\", \"showlegend\": false, \"type\": \"scattergeo\"}], \"name\": \"2020-02-25 00:00:00\"}, {\"data\": [{\"customdata\": [[0.0], [2.0], [0.0], [2.0], [0.0], [0.0], [0.0], [7.0], [2.0], [0.0], [33.0], [0.0], [0.0], [1.0], [0.0], [0.0], [0.0], [1.0], [0.0], [0.0], [0.0], [2.0], [0.0], [7.0], [0.0], [0.0], [77900.0], [0.0], [0.0], [0.0], [0.0], [3.0], [0.0], [0.0], [0.0], [0.0], [0.0], [0.0], [0.0], [0.0], [1.0], [0.0], [0.0], [2.0], [18.0], [0.0], [1.0], [27.0], [0.0], [1.0], [0.0], [0.0], [0.0], [91.0], [0.0], [0.0], [0.0], [6.0], [0.0], [139.0], [0.0], [5.0], [0.0], [2.0], [453.0], [0.0], [189.0], [0.0], [0.0], [26.0], [0.0], [2.0], [0.0], [0.0], [0.0], [0.0], [10.0], [22.0], [0.0], [0.0], [0.0], [0.0], [0.0], [0.0], [0.0], [0.0], [2.0], [0.0], [0.0], [0.0], [0.0], [1.0], [1.0], [4.0], [705.0], [2.0], [0.0], [0.0], [0.0], [0.0], [6.0], [0.0], [0.0], [0.0], [0.0], [0.0], [0.0], [0.0], [1.0], [4.0], [0.0], [0.0], [0.0], [0.0], [0.0], [0.0], [0.0], [93.0], [0.0], [0.0], [0.0], [1261.0], [13.0], [2.0], [0.0], [2.0], [1.0], [0.0], [32.0], [0.0], [40.0], [0.0], [0.0], [0.0], [13.0], [42.0], [0.0], [13.0], [0.0], [0.0], [0.0], [32.0], [0.0]], \"geo\": \"geo\", \"hoverlabel\": {\"namelength\": 0}, \"hovertemplate\": \"Date=2020-02-26 00:00:00<br>Log Confirmed=%{marker.size}<br>Confirmed=%{customdata[0]}<br>Country/Region=%{location}\", \"legendgroup\": \"\", \"locationmode\": \"country names\", \"locations\": [\" Azerbaijan\", \"Afghanistan\", \"Albania\", \"Algeria\", \"Andorra\", \"Argentina\", \"Armenia\", \"Australia\", \"Austria\", \"Azerbaijan\", \"Bahrain\", \"Bangladesh\", \"Belarus\", \"Belgium\", \"Bhutan\", \"Bolivia\", \"Bosnia and Herzegovina\", \"Brazil\", \"Brunei\", \"Bulgaria\", \"Burkina Faso\", \"Cambodia\", \"Cameroon\", \"Canada\", \"Channel Islands\", \"Chile\", \"China\", \"Colombia\", \"Congo (Kinshasa)\", \"Costa Rica\", \"Cote d'Ivoire\", \"Croatia\", \"Cruise Ship\", \"Cuba\", \"Cyprus\", \"Czech Republic\", \"Czechia\", \"Denmark\", \"Dominican Republic\", \"Ecuador\", \"Egypt\", \"Estonia\", \"Faroe Islands\", \"Finland\", \"France\", \"French Guiana\", \"Georgia\", \"Germany\", \"Gibraltar\", \"Greece\", \"Guyana\", \"Holy See\", \"Honduras\", \"Hong Kong\", \"Hong Kong SAR\", \"Hungary\", \"Iceland\", \"India\", \"Indonesia\", \"Iran\", \"Iran (Islamic Republic of)\", \"Iraq\", \"Ireland\", \"Israel\", \"Italy\", \"Jamaica\", \"Japan\", \"Jordan\", \"Korea, South\", \"Kuwait\", \"Latvia\", \"Lebanon\", \"Liechtenstein\", \"Lithuania\", \"Luxembourg\", \"Macao SAR\", \"Macau\", \"Malaysia\", \"Maldives\", \"Malta\", \"Martinique\", \"Mexico\", \"Moldova\", \"Monaco\", \"Mongolia\", \"Morocco\", \"Nepal\", \"Netherlands\", \"New Zealand\", \"Nigeria\", \"North Ireland\", \"North Macedonia\", \"Norway\", \"Oman\", \"Others\", \"Pakistan\", \"Palestine\", \"Panama\", \"Paraguay\", \"Peru\", \"Philippines\", \"Poland\", \"Portugal\", \"Qatar\", \"Republic of Ireland\", \"Republic of Korea\", \"Republic of Moldova\", \"Reunion\", \"Romania\", \"Russia\", \"Russian Federation\", \"Saint Barthelemy\", \"Saint Martin\", \"San Marino\", \"Saudi Arabia\", \"Senegal\", \"Serbia\", \"Singapore\", \"Slovakia\", \"Slovenia\", \"South Africa\", \"South Korea\", \"Spain\", \"Sri Lanka\", \"St. Martin\", \"Sweden\", \"Switzerland\", \"Taipei and environs\", \"Taiwan\", \"Taiwan*\", \"Thailand\", \"Togo\", \"Tunisia\", \"Turkey\", \"UK\", \"US\", \"Ukraine\", \"United Arab Emirates\", \"United Kingdom\", \"Vatican City\", \"Viet Nam\", \"Vietnam\", \"occupied Palestinian territory\"], \"marker\": {\"color\": \"#636efa\", \"size\": [0.0, 0.47712125471966244, 0.0, 0.47712125471966244, 0.0, 0.0, 0.0, 0.9030899869919435, 0.47712125471966244, 0.0, 1.5314789170422551, 0.0, 0.0, 0.3010299956639812, 0.0, 0.0, 0.0, 0.3010299956639812, 0.0, 0.0, 0.0, 0.47712125471966244, 0.0, 0.9030899869919435, 0.0, 0.0, 4.891543032662224, 0.0, 0.0, 0.0, 0.0, 0.6020599913279624, 0.0, 0.0, 0.0, 0.0, 0.0, 0.0, 0.0, 0.0, 0.3010299956639812, 0.0, 0.0, 0.47712125471966244, 1.2787536009528289, 0.0, 0.3010299956639812, 1.4471580313422192, 0.0, 0.3010299956639812, 0.0, 0.0, 0.0, 1.9637878273455553, 0.0, 0.0, 0.0, 0.8450980400142568, 0.0, 2.146128035678238, 0.0, 0.7781512503836436, 0.0, 0.47712125471966244, 2.6570558528571038, 0.0, 2.278753600952829, 0.0, 0.0, 1.4313637641589874, 0.0, 0.47712125471966244, 0.0, 0.0, 0.0, 0.0, 1.0413926851582251, 1.3617278360175928, 0.0, 0.0, 0.0, 0.0, 0.0, 0.0, 0.0, 0.0, 0.47712125471966244, 0.0, 0.0, 0.0, 0.0, 0.3010299956639812, 0.3010299956639812, 0.6989700043360189, 2.8488047010518036, 0.47712125471966244, 0.0, 0.0, 0.0, 0.0, 0.8450980400142568, 0.0, 0.0, 0.0, 0.0, 0.0, 0.0, 0.0, 0.3010299956639812, 0.6989700043360189, 0.0, 0.0, 0.0, 0.0, 0.0, 0.0, 0.0, 1.9731278535996986, 0.0, 0.0, 0.0, 3.1010593549081156, 1.146128035678238, 0.47712125471966244, 0.0, 0.47712125471966244, 0.3010299956639812, 0.0, 1.5185139398778875, 0.0, 1.6127838567197355, 0.0, 0.0, 0.0, 1.146128035678238, 1.6334684555795864, 0.0, 1.146128035678238, 0.0, 0.0, 0.0, 1.5185139398778875, 0.0], \"sizemode\": \"area\", \"sizeref\": 0.012270166519720165}, \"name\": \"\", \"showlegend\": false, \"type\": \"scattergeo\"}], \"name\": \"2020-02-26 00:00:00\"}, {\"data\": [{\"customdata\": [[0.0], [2.0], [0.0], [2.0], [0.0], [0.0], [0.0], [8.0], [3.0], [0.0], [33.0], [0.0], [0.0], [1.0], [0.0], [0.0], [0.0], [1.0], [0.0], [0.0], [0.0], [2.0], [0.0], [12.0], [0.0], [0.0], [78534.0], [0.0], [0.0], [0.0], [0.0], [3.0], [0.0], [0.0], [0.0], [0.0], [0.0], [1.0], [0.0], [0.0], [1.0], [2.0], [0.0], [2.0], [38.0], [0.0], [1.0], [46.0], [0.0], [3.0], [0.0], [0.0], [0.0], [92.0], [0.0], [0.0], [0.0], [6.0], [0.0], [245.0], [0.0], [7.0], [0.0], [3.0], [655.0], [0.0], [214.0], [0.0], [0.0], [43.0], [0.0], [2.0], [0.0], [0.0], [0.0], [0.0], [20.0], [23.0], [0.0], [0.0], [0.0], [0.0], [0.0], [0.0], [0.0], [0.0], [2.0], [1.0], [0.0], [0.0], [0.0], [2.0], [1.0], [4.0], [705.0], [2.0], [0.0], [0.0], [0.0], [0.0], [6.0], [0.0], [0.0], [0.0], [0.0], [0.0], [0.0], [0.0], [1.0], [4.0], [0.0], [0.0], [0.0], [1.0], [0.0], [0.0], [0.0], [93.0], [0.0], [0.0], [0.0], [1766.0], [15.0], [2.0], [0.0], [7.0], [8.0], [0.0], [32.0], [0.0], [40.0], [0.0], [0.0], [0.0], [15.0], [4.0], [0.0], [13.0], [0.0], [0.0], [0.0], [32.0], [0.0]], \"geo\": \"geo\", \"hoverlabel\": {\"namelength\": 0}, \"hovertemplate\": \"Date=2020-02-27 00:00:00<br>Log Confirmed=%{marker.size}<br>Confirmed=%{customdata[0]}<br>Country/Region=%{location}\", \"legendgroup\": \"\", \"locationmode\": \"country names\", \"locations\": [\" Azerbaijan\", \"Afghanistan\", \"Albania\", \"Algeria\", \"Andorra\", \"Argentina\", \"Armenia\", \"Australia\", \"Austria\", \"Azerbaijan\", \"Bahrain\", \"Bangladesh\", \"Belarus\", \"Belgium\", \"Bhutan\", \"Bolivia\", \"Bosnia and Herzegovina\", \"Brazil\", \"Brunei\", \"Bulgaria\", \"Burkina Faso\", \"Cambodia\", \"Cameroon\", \"Canada\", \"Channel Islands\", \"Chile\", \"China\", \"Colombia\", \"Congo (Kinshasa)\", \"Costa Rica\", \"Cote d'Ivoire\", \"Croatia\", \"Cruise Ship\", \"Cuba\", \"Cyprus\", \"Czech Republic\", \"Czechia\", \"Denmark\", \"Dominican Republic\", \"Ecuador\", \"Egypt\", \"Estonia\", \"Faroe Islands\", \"Finland\", \"France\", \"French Guiana\", \"Georgia\", \"Germany\", \"Gibraltar\", \"Greece\", \"Guyana\", \"Holy See\", \"Honduras\", \"Hong Kong\", \"Hong Kong SAR\", \"Hungary\", \"Iceland\", \"India\", \"Indonesia\", \"Iran\", \"Iran (Islamic Republic of)\", \"Iraq\", \"Ireland\", \"Israel\", \"Italy\", \"Jamaica\", \"Japan\", \"Jordan\", \"Korea, South\", \"Kuwait\", \"Latvia\", \"Lebanon\", \"Liechtenstein\", \"Lithuania\", \"Luxembourg\", \"Macao SAR\", \"Macau\", \"Malaysia\", \"Maldives\", \"Malta\", \"Martinique\", \"Mexico\", \"Moldova\", \"Monaco\", \"Mongolia\", \"Morocco\", \"Nepal\", \"Netherlands\", \"New Zealand\", \"Nigeria\", \"North Ireland\", \"North Macedonia\", \"Norway\", \"Oman\", \"Others\", \"Pakistan\", \"Palestine\", \"Panama\", \"Paraguay\", \"Peru\", \"Philippines\", \"Poland\", \"Portugal\", \"Qatar\", \"Republic of Ireland\", \"Republic of Korea\", \"Republic of Moldova\", \"Reunion\", \"Romania\", \"Russia\", \"Russian Federation\", \"Saint Barthelemy\", \"Saint Martin\", \"San Marino\", \"Saudi Arabia\", \"Senegal\", \"Serbia\", \"Singapore\", \"Slovakia\", \"Slovenia\", \"South Africa\", \"South Korea\", \"Spain\", \"Sri Lanka\", \"St. Martin\", \"Sweden\", \"Switzerland\", \"Taipei and environs\", \"Taiwan\", \"Taiwan*\", \"Thailand\", \"Togo\", \"Tunisia\", \"Turkey\", \"UK\", \"US\", \"Ukraine\", \"United Arab Emirates\", \"United Kingdom\", \"Vatican City\", \"Viet Nam\", \"Vietnam\", \"occupied Palestinian territory\"], \"marker\": {\"color\": \"#636efa\", \"size\": [0.0, 0.47712125471966244, 0.0, 0.47712125471966244, 0.0, 0.0, 0.0, 0.9542425094393249, 0.6020599913279624, 0.0, 1.5314789170422551, 0.0, 0.0, 0.3010299956639812, 0.0, 0.0, 0.0, 0.3010299956639812, 0.0, 0.0, 0.0, 0.47712125471966244, 0.0, 1.1139433523068367, 0.0, 0.0, 4.895063248073534, 0.0, 0.0, 0.0, 0.0, 0.6020599913279624, 0.0, 0.0, 0.0, 0.0, 0.0, 0.3010299956639812, 0.0, 0.0, 0.3010299956639812, 0.47712125471966244, 0.0, 0.47712125471966244, 1.591064607026499, 0.0, 0.3010299956639812, 1.6720978579357175, 0.0, 0.6020599913279624, 0.0, 0.0, 0.0, 1.968482948553935, 0.0, 0.0, 0.0, 0.8450980400142568, 0.0, 2.3909351071033793, 0.0, 0.9030899869919435, 0.0, 0.6020599913279624, 2.8169038393756605, 0.0, 2.3324384599156054, 0.0, 0.0, 1.6434526764861874, 0.0, 0.47712125471966244, 0.0, 0.0, 0.0, 0.0, 1.3222192947339193, 1.380211241711606, 0.0, 0.0, 0.0, 0.0, 0.0, 0.0, 0.0, 0.0, 0.47712125471966244, 0.3010299956639812, 0.0, 0.0, 0.0, 0.47712125471966244, 0.3010299956639812, 0.6989700043360189, 2.8488047010518036, 0.47712125471966244, 0.0, 0.0, 0.0, 0.0, 0.8450980400142568, 0.0, 0.0, 0.0, 0.0, 0.0, 0.0, 0.0, 0.3010299956639812, 0.6989700043360189, 0.0, 0.0, 0.0, 0.3010299956639812, 0.0, 0.0, 0.0, 1.9731278535996986, 0.0, 0.0, 0.0, 3.247236549506764, 1.2041199826559248, 0.47712125471966244, 0.0, 0.9030899869919435, 0.9542425094393249, 0.0, 1.5185139398778875, 0.0, 1.6127838567197355, 0.0, 0.0, 0.0, 1.2041199826559248, 0.6989700043360189, 0.0, 1.146128035678238, 0.0, 0.0, 0.0, 1.5185139398778875, 0.0], \"sizemode\": \"area\", \"sizeref\": 0.012270166519720165}, \"name\": \"\", \"showlegend\": false, \"type\": \"scattergeo\"}], \"name\": \"2020-02-27 00:00:00\"}, {\"data\": [{\"customdata\": [[1.0], [2.0], [0.0], [2.0], [0.0], [0.0], [0.0], [8.0], [3.0], [0.0], [36.0], [0.0], [2.0], [1.0], [0.0], [0.0], [0.0], [1.0], [0.0], [0.0], [0.0], [2.0], [0.0], [2.0], [0.0], [0.0], [78330.0], [0.0], [0.0], [0.0], [0.0], [5.0], [0.0], [0.0], [0.0], [0.0], [0.0], [1.0], [0.0], [0.0], [1.0], [2.0], [0.0], [2.0], [57.0], [0.0], [1.0], [48.0], [0.0], [4.0], [0.0], [0.0], [0.0], [94.0], [0.0], [0.0], [1.0], [6.0], [0.0], [388.0], [0.0], [7.0], [0.0], [4.0], [888.0], [0.0], [228.0], [0.0], [0.0], [90.0], [0.0], [2.0], [0.0], [2.0], [0.0], [0.0], [20.0], [23.0], [0.0], [0.0], [0.0], [1.0], [0.0], [0.0], [0.0], [0.0], [2.0], [1.0], [2.0], [2.0], [1.0], [2.0], [6.0], [4.0], [705.0], [2.0], [0.0], [0.0], [0.0], [0.0], [6.0], [0.0], [0.0], [0.0], [0.0], [0.0], [0.0], [0.0], [6.0], [4.0], [0.0], [0.0], [0.0], [1.0], [0.0], [0.0], [0.0], [93.0], [0.0], [0.0], [0.0], [2337.0], [32.0], [2.0], [0.0], [7.0], [8.0], [0.0], [34.0], [0.0], [41.0], [0.0], [0.0], [0.0], [20.0], [90.0], [0.0], [19.0], [0.0], [0.0], [0.0], [32.0], [0.0]], \"geo\": \"geo\", \"hoverlabel\": {\"namelength\": 0}, \"hovertemplate\": \"Date=2020-02-28 00:00:00<br>Log Confirmed=%{marker.size}<br>Confirmed=%{customdata[0]}<br>Country/Region=%{location}\", \"legendgroup\": \"\", \"locationmode\": \"country names\", \"locations\": [\" Azerbaijan\", \"Afghanistan\", \"Albania\", \"Algeria\", \"Andorra\", \"Argentina\", \"Armenia\", \"Australia\", \"Austria\", \"Azerbaijan\", \"Bahrain\", \"Bangladesh\", \"Belarus\", \"Belgium\", \"Bhutan\", \"Bolivia\", \"Bosnia and Herzegovina\", \"Brazil\", \"Brunei\", \"Bulgaria\", \"Burkina Faso\", \"Cambodia\", \"Cameroon\", \"Canada\", \"Channel Islands\", \"Chile\", \"China\", \"Colombia\", \"Congo (Kinshasa)\", \"Costa Rica\", \"Cote d'Ivoire\", \"Croatia\", \"Cruise Ship\", \"Cuba\", \"Cyprus\", \"Czech Republic\", \"Czechia\", \"Denmark\", \"Dominican Republic\", \"Ecuador\", \"Egypt\", \"Estonia\", \"Faroe Islands\", \"Finland\", \"France\", \"French Guiana\", \"Georgia\", \"Germany\", \"Gibraltar\", \"Greece\", \"Guyana\", \"Holy See\", \"Honduras\", \"Hong Kong\", \"Hong Kong SAR\", \"Hungary\", \"Iceland\", \"India\", \"Indonesia\", \"Iran\", \"Iran (Islamic Republic of)\", \"Iraq\", \"Ireland\", \"Israel\", \"Italy\", \"Jamaica\", \"Japan\", \"Jordan\", \"Korea, South\", \"Kuwait\", \"Latvia\", \"Lebanon\", \"Liechtenstein\", \"Lithuania\", \"Luxembourg\", \"Macao SAR\", \"Macau\", \"Malaysia\", \"Maldives\", \"Malta\", \"Martinique\", \"Mexico\", \"Moldova\", \"Monaco\", \"Mongolia\", \"Morocco\", \"Nepal\", \"Netherlands\", \"New Zealand\", \"Nigeria\", \"North Ireland\", \"North Macedonia\", \"Norway\", \"Oman\", \"Others\", \"Pakistan\", \"Palestine\", \"Panama\", \"Paraguay\", \"Peru\", \"Philippines\", \"Poland\", \"Portugal\", \"Qatar\", \"Republic of Ireland\", \"Republic of Korea\", \"Republic of Moldova\", \"Reunion\", \"Romania\", \"Russia\", \"Russian Federation\", \"Saint Barthelemy\", \"Saint Martin\", \"San Marino\", \"Saudi Arabia\", \"Senegal\", \"Serbia\", \"Singapore\", \"Slovakia\", \"Slovenia\", \"South Africa\", \"South Korea\", \"Spain\", \"Sri Lanka\", \"St. Martin\", \"Sweden\", \"Switzerland\", \"Taipei and environs\", \"Taiwan\", \"Taiwan*\", \"Thailand\", \"Togo\", \"Tunisia\", \"Turkey\", \"UK\", \"US\", \"Ukraine\", \"United Arab Emirates\", \"United Kingdom\", \"Vatican City\", \"Viet Nam\", \"Vietnam\", \"occupied Palestinian territory\"], \"marker\": {\"color\": \"#636efa\", \"size\": [0.3010299956639812, 0.47712125471966244, 0.0, 0.47712125471966244, 0.0, 0.0, 0.0, 0.9542425094393249, 0.6020599913279624, 0.0, 1.568201724066995, 0.0, 0.47712125471966244, 0.3010299956639812, 0.0, 0.0, 0.0, 0.3010299956639812, 0.0, 0.0, 0.0, 0.47712125471966244, 0.0, 0.47712125471966244, 0.0, 0.0, 4.893933670928024, 0.0, 0.0, 0.0, 0.0, 0.7781512503836436, 0.0, 0.0, 0.0, 0.0, 0.0, 0.3010299956639812, 0.0, 0.0, 0.3010299956639812, 0.47712125471966244, 0.0, 0.47712125471966244, 1.7634279935629373, 0.0, 0.3010299956639812, 1.6901960800285136, 0.0, 0.6989700043360189, 0.0, 0.0, 0.0, 1.9777236052888478, 0.0, 0.0, 0.3010299956639812, 0.8450980400142568, 0.0, 2.5899496013257077, 0.0, 0.9030899869919435, 0.0, 0.6989700043360189, 2.9489017609702137, 0.0, 2.359835482339888, 0.0, 0.0, 1.9590413923210936, 0.0, 0.47712125471966244, 0.0, 0.47712125471966244, 0.0, 0.0, 1.3222192947339193, 1.380211241711606, 0.0, 0.0, 0.0, 0.3010299956639812, 0.0, 0.0, 0.0, 0.0, 0.47712125471966244, 0.3010299956639812, 0.47712125471966244, 0.47712125471966244, 0.3010299956639812, 0.47712125471966244, 0.8450980400142568, 0.6989700043360189, 2.8488047010518036, 0.47712125471966244, 0.0, 0.0, 0.0, 0.0, 0.8450980400142568, 0.0, 0.0, 0.0, 0.0, 0.0, 0.0, 0.0, 0.8450980400142568, 0.6989700043360189, 0.0, 0.0, 0.0, 0.3010299956639812, 0.0, 0.0, 0.0, 1.9731278535996986, 0.0, 0.0, 0.0, 3.3688445068258215, 1.5185139398778875, 0.47712125471966244, 0.0, 0.9030899869919435, 0.9542425094393249, 0.0, 1.5440680443502757, 0.0, 1.6232492903979006, 0.0, 0.0, 0.0, 1.3222192947339193, 1.9590413923210936, 0.0, 1.3010299956639813, 0.0, 0.0, 0.0, 1.5185139398778875, 0.0], \"sizemode\": \"area\", \"sizeref\": 0.012270166519720165}, \"name\": \"\", \"showlegend\": false, \"type\": \"scattergeo\"}], \"name\": \"2020-02-28 00:00:00\"}, {\"data\": [{\"customdata\": [[1.0], [2.0], [0.0], [2.0], [0.0], [0.0], [0.0], [40.0], [9.0], [0.0], [41.0], [0.0], [2.0], [1.0], [0.0], [0.0], [0.0], [4.0], [0.0], [0.0], [0.0], [2.0], [0.0], [26.0], [0.0], [0.0], [79068.0], [0.0], [0.0], [0.0], [0.0], [6.0], [0.0], [0.0], [0.0], [0.0], [0.0], [3.0], [0.0], [0.0], [1.0], [2.0], [0.0], [3.0], [100.0], [0.0], [1.0], [79.0], [0.0], [4.0], [0.0], [0.0], [0.0], [95.0], [0.0], [0.0], [1.0], [6.0], [0.0], [593.0], [0.0], [13.0], [1.0], [7.0], [1128.0], [0.0], [241.0], [0.0], [0.0], [90.0], [0.0], [4.0], [0.0], [2.0], [1.0], [0.0], [20.0], [25.0], [0.0], [0.0], [0.0], [4.0], [0.0], [2.0], [0.0], [0.0], [2.0], [6.0], [2.0], [2.0], [1.0], [2.0], [15.0], [12.0], [1410.0], [8.0], [0.0], [0.0], [0.0], [0.0], [6.0], [0.0], [0.0], [1.0], [0.0], [0.0], [0.0], [0.0], [6.0], [4.0], [0.0], [0.0], [0.0], [1.0], [0.0], [0.0], [0.0], [102.0], [0.0], [0.0], [0.0], [3150.0], [45.0], [2.0], [0.0], [12.0], [18.0], [0.0], [39.0], [0.0], [42.0], [0.0], [0.0], [0.0], [23.0], [15.0], [0.0], [42.0], [0.0], [0.0], [0.0], [32.0], [0.0]], \"geo\": \"geo\", \"hoverlabel\": {\"namelength\": 0}, \"hovertemplate\": \"Date=2020-02-29 00:00:00<br>Log Confirmed=%{marker.size}<br>Confirmed=%{customdata[0]}<br>Country/Region=%{location}\", \"legendgroup\": \"\", \"locationmode\": \"country names\", \"locations\": [\" Azerbaijan\", \"Afghanistan\", \"Albania\", \"Algeria\", \"Andorra\", \"Argentina\", \"Armenia\", \"Australia\", \"Austria\", \"Azerbaijan\", \"Bahrain\", \"Bangladesh\", \"Belarus\", \"Belgium\", \"Bhutan\", \"Bolivia\", \"Bosnia and Herzegovina\", \"Brazil\", \"Brunei\", \"Bulgaria\", \"Burkina Faso\", \"Cambodia\", \"Cameroon\", \"Canada\", \"Channel Islands\", \"Chile\", \"China\", \"Colombia\", \"Congo (Kinshasa)\", \"Costa Rica\", \"Cote d'Ivoire\", \"Croatia\", \"Cruise Ship\", \"Cuba\", \"Cyprus\", \"Czech Republic\", \"Czechia\", \"Denmark\", \"Dominican Republic\", \"Ecuador\", \"Egypt\", \"Estonia\", \"Faroe Islands\", \"Finland\", \"France\", \"French Guiana\", \"Georgia\", \"Germany\", \"Gibraltar\", \"Greece\", \"Guyana\", \"Holy See\", \"Honduras\", \"Hong Kong\", \"Hong Kong SAR\", \"Hungary\", \"Iceland\", \"India\", \"Indonesia\", \"Iran\", \"Iran (Islamic Republic of)\", \"Iraq\", \"Ireland\", \"Israel\", \"Italy\", \"Jamaica\", \"Japan\", \"Jordan\", \"Korea, South\", \"Kuwait\", \"Latvia\", \"Lebanon\", \"Liechtenstein\", \"Lithuania\", \"Luxembourg\", \"Macao SAR\", \"Macau\", \"Malaysia\", \"Maldives\", \"Malta\", \"Martinique\", \"Mexico\", \"Moldova\", \"Monaco\", \"Mongolia\", \"Morocco\", \"Nepal\", \"Netherlands\", \"New Zealand\", \"Nigeria\", \"North Ireland\", \"North Macedonia\", \"Norway\", \"Oman\", \"Others\", \"Pakistan\", \"Palestine\", \"Panama\", \"Paraguay\", \"Peru\", \"Philippines\", \"Poland\", \"Portugal\", \"Qatar\", \"Republic of Ireland\", \"Republic of Korea\", \"Republic of Moldova\", \"Reunion\", \"Romania\", \"Russia\", \"Russian Federation\", \"Saint Barthelemy\", \"Saint Martin\", \"San Marino\", \"Saudi Arabia\", \"Senegal\", \"Serbia\", \"Singapore\", \"Slovakia\", \"Slovenia\", \"South Africa\", \"South Korea\", \"Spain\", \"Sri Lanka\", \"St. Martin\", \"Sweden\", \"Switzerland\", \"Taipei and environs\", \"Taiwan\", \"Taiwan*\", \"Thailand\", \"Togo\", \"Tunisia\", \"Turkey\", \"UK\", \"US\", \"Ukraine\", \"United Arab Emirates\", \"United Kingdom\", \"Vatican City\", \"Viet Nam\", \"Vietnam\", \"occupied Palestinian territory\"], \"marker\": {\"color\": \"#636efa\", \"size\": [0.3010299956639812, 0.47712125471966244, 0.0, 0.47712125471966244, 0.0, 0.0, 0.0, 1.6127838567197355, 1.0, 0.0, 1.6232492903979006, 0.0, 0.47712125471966244, 0.3010299956639812, 0.0, 0.0, 0.0, 0.6989700043360189, 0.0, 0.0, 0.0, 0.47712125471966244, 0.0, 1.4313637641589874, 0.0, 0.0, 4.8980062462310645, 0.0, 0.0, 0.0, 0.0, 0.8450980400142568, 0.0, 0.0, 0.0, 0.0, 0.0, 0.6020599913279624, 0.0, 0.0, 0.3010299956639812, 0.47712125471966244, 0.0, 0.6020599913279624, 2.0043213737826426, 0.0, 0.3010299956639812, 1.9030899869919435, 0.0, 0.6989700043360189, 0.0, 0.0, 0.0, 1.9822712330395684, 0.0, 0.0, 0.3010299956639812, 0.8450980400142568, 0.0, 2.7737864449811935, 0.0, 1.146128035678238, 0.3010299956639812, 0.9030899869919435, 3.052693941924968, 0.0, 2.383815365980431, 0.0, 0.0, 1.9590413923210936, 0.0, 0.6989700043360189, 0.0, 0.47712125471966244, 0.3010299956639812, 0.0, 1.3222192947339193, 1.414973347970818, 0.0, 0.0, 0.0, 0.6989700043360189, 0.0, 0.47712125471966244, 0.0, 0.0, 0.47712125471966244, 0.8450980400142568, 0.47712125471966244, 0.47712125471966244, 0.3010299956639812, 0.47712125471966244, 1.2041199826559248, 1.1139433523068367, 3.149527013754348, 0.9542425094393249, 0.0, 0.0, 0.0, 0.0, 0.8450980400142568, 0.0, 0.0, 0.3010299956639812, 0.0, 0.0, 0.0, 0.0, 0.8450980400142568, 0.6989700043360189, 0.0, 0.0, 0.0, 0.3010299956639812, 0.0, 0.0, 0.0, 2.012837224705172, 0.0, 0.0, 0.0, 3.4984484031739997, 1.662757831681574, 0.47712125471966244, 0.0, 1.1139433523068367, 1.2787536009528289, 0.0, 1.6020599913279623, 0.0, 1.6334684555795864, 0.0, 0.0, 0.0, 1.380211241711606, 1.2041199826559248, 0.0, 1.6334684555795864, 0.0, 0.0, 0.0, 1.5185139398778875, 0.0], \"sizemode\": \"area\", \"sizeref\": 0.012270166519720165}, \"name\": \"\", \"showlegend\": false, \"type\": \"scattergeo\"}], \"name\": \"2020-02-29 00:00:00\"}, {\"data\": [{\"customdata\": [[1.0], [2.0], [0.0], [2.0], [0.0], [0.0], [1.0], [8.0], [14.0], [3.0], [47.0], [0.0], [2.0], [2.0], [0.0], [0.0], [0.0], [4.0], [0.0], [0.0], [0.0], [2.0], [0.0], [14.0], [0.0], [0.0], [79588.0], [0.0], [0.0], [0.0], [0.0], [7.0], [0.0], [0.0], [0.0], [3.0], [0.0], [4.0], [1.0], [6.0], [2.0], [2.0], [0.0], [6.0], [130.0], [0.0], [3.0], [130.0], [0.0], [7.0], [0.0], [0.0], [0.0], [96.0], [0.0], [0.0], [3.0], [6.0], [0.0], [978.0], [0.0], [19.0], [1.0], [10.0], [1694.0], [0.0], [256.0], [0.0], [0.0], [90.0], [0.0], [10.0], [0.0], [2.0], [1.0], [0.0], [20.0], [29.0], [0.0], [0.0], [0.0], [5.0], [0.0], [2.0], [0.0], [0.0], [2.0], [10.0], [2.0], [2.0], [1.0], [2.0], [19.0], [12.0], [1410.0], [8.0], [0.0], [0.0], [0.0], [0.0], [6.0], [0.0], [0.0], [3.0], [0.0], [0.0], [0.0], [0.0], [6.0], [4.0], [0.0], [0.0], [0.0], [1.0], [0.0], [0.0], [0.0], [106.0], [0.0], [0.0], [0.0], [3736.0], [84.0], [2.0], [0.0], [14.0], [27.0], [0.0], [40.0], [0.0], [42.0], [0.0], [0.0], [0.0], [36.0], [15.0], [0.0], [42.0], [0.0], [0.0], [0.0], [32.0], [0.0]], \"geo\": \"geo\", \"hoverlabel\": {\"namelength\": 0}, \"hovertemplate\": \"Date=2020-03-01 00:00:00<br>Log Confirmed=%{marker.size}<br>Confirmed=%{customdata[0]}<br>Country/Region=%{location}\", \"legendgroup\": \"\", \"locationmode\": \"country names\", \"locations\": [\" Azerbaijan\", \"Afghanistan\", \"Albania\", \"Algeria\", \"Andorra\", \"Argentina\", \"Armenia\", \"Australia\", \"Austria\", \"Azerbaijan\", \"Bahrain\", \"Bangladesh\", \"Belarus\", \"Belgium\", \"Bhutan\", \"Bolivia\", \"Bosnia and Herzegovina\", \"Brazil\", \"Brunei\", \"Bulgaria\", \"Burkina Faso\", \"Cambodia\", \"Cameroon\", \"Canada\", \"Channel Islands\", \"Chile\", \"China\", \"Colombia\", \"Congo (Kinshasa)\", \"Costa Rica\", \"Cote d'Ivoire\", \"Croatia\", \"Cruise Ship\", \"Cuba\", \"Cyprus\", \"Czech Republic\", \"Czechia\", \"Denmark\", \"Dominican Republic\", \"Ecuador\", \"Egypt\", \"Estonia\", \"Faroe Islands\", \"Finland\", \"France\", \"French Guiana\", \"Georgia\", \"Germany\", \"Gibraltar\", \"Greece\", \"Guyana\", \"Holy See\", \"Honduras\", \"Hong Kong\", \"Hong Kong SAR\", \"Hungary\", \"Iceland\", \"India\", \"Indonesia\", \"Iran\", \"Iran (Islamic Republic of)\", \"Iraq\", \"Ireland\", \"Israel\", \"Italy\", \"Jamaica\", \"Japan\", \"Jordan\", \"Korea, South\", \"Kuwait\", \"Latvia\", \"Lebanon\", \"Liechtenstein\", \"Lithuania\", \"Luxembourg\", \"Macao SAR\", \"Macau\", \"Malaysia\", \"Maldives\", \"Malta\", \"Martinique\", \"Mexico\", \"Moldova\", \"Monaco\", \"Mongolia\", \"Morocco\", \"Nepal\", \"Netherlands\", \"New Zealand\", \"Nigeria\", \"North Ireland\", \"North Macedonia\", \"Norway\", \"Oman\", \"Others\", \"Pakistan\", \"Palestine\", \"Panama\", \"Paraguay\", \"Peru\", \"Philippines\", \"Poland\", \"Portugal\", \"Qatar\", \"Republic of Ireland\", \"Republic of Korea\", \"Republic of Moldova\", \"Reunion\", \"Romania\", \"Russia\", \"Russian Federation\", \"Saint Barthelemy\", \"Saint Martin\", \"San Marino\", \"Saudi Arabia\", \"Senegal\", \"Serbia\", \"Singapore\", \"Slovakia\", \"Slovenia\", \"South Africa\", \"South Korea\", \"Spain\", \"Sri Lanka\", \"St. Martin\", \"Sweden\", \"Switzerland\", \"Taipei and environs\", \"Taiwan\", \"Taiwan*\", \"Thailand\", \"Togo\", \"Tunisia\", \"Turkey\", \"UK\", \"US\", \"Ukraine\", \"United Arab Emirates\", \"United Kingdom\", \"Vatican City\", \"Viet Nam\", \"Vietnam\", \"occupied Palestinian territory\"], \"marker\": {\"color\": \"#636efa\", \"size\": [0.3010299956639812, 0.47712125471966244, 0.0, 0.47712125471966244, 0.0, 0.0, 0.3010299956639812, 0.9542425094393249, 1.1760912590556813, 0.6020599913279624, 1.6812412373755872, 0.0, 0.47712125471966244, 0.47712125471966244, 0.0, 0.0, 0.0, 0.6989700043360189, 0.0, 0.0, 0.0, 0.47712125471966244, 0.0, 1.1760912590556813, 0.0, 0.0, 4.900853048021375, 0.0, 0.0, 0.0, 0.0, 0.9030899869919435, 0.0, 0.0, 0.0, 0.6020599913279624, 0.0, 0.6989700043360189, 0.3010299956639812, 0.8450980400142568, 0.47712125471966244, 0.47712125471966244, 0.0, 0.8450980400142568, 2.1172712956557644, 0.0, 0.6020599913279624, 2.1172712956557644, 0.0, 0.9030899869919435, 0.0, 0.0, 0.0, 1.9867717342662448, 0.0, 0.0, 0.6020599913279624, 0.8450980400142568, 0.0, 2.9907826918031377, 0.0, 1.3010299956639813, 0.3010299956639812, 1.0413926851582251, 3.229169702539101, 0.0, 2.4099331233312946, 0.0, 0.0, 1.9590413923210936, 0.0, 1.0413926851582251, 0.0, 0.47712125471966244, 0.3010299956639812, 0.0, 1.3222192947339193, 1.4771212547196624, 0.0, 0.0, 0.0, 0.7781512503836436, 0.0, 0.47712125471966244, 0.0, 0.0, 0.47712125471966244, 1.0413926851582251, 0.47712125471966244, 0.47712125471966244, 0.3010299956639812, 0.47712125471966244, 1.3010299956639813, 1.1139433523068367, 3.149527013754348, 0.9542425094393249, 0.0, 0.0, 0.0, 0.0, 0.8450980400142568, 0.0, 0.0, 0.6020599913279624, 0.0, 0.0, 0.0, 0.0, 0.8450980400142568, 0.6989700043360189, 0.0, 0.0, 0.0, 0.3010299956639812, 0.0, 0.0, 0.0, 2.0293837776852097, 0.0, 0.0, 0.0, 3.5725230978496376, 1.9294189257142926, 0.47712125471966244, 0.0, 1.1760912590556813, 1.4471580313422192, 0.0, 1.6127838567197355, 0.0, 1.6334684555795864, 0.0, 0.0, 0.0, 1.568201724066995, 1.2041199826559248, 0.0, 1.6334684555795864, 0.0, 0.0, 0.0, 1.5185139398778875, 0.0], \"sizemode\": \"area\", \"sizeref\": 0.012270166519720165}, \"name\": \"\", \"showlegend\": false, \"type\": \"scattergeo\"}], \"name\": \"2020-03-01 00:00:00\"}, {\"data\": [{\"customdata\": [[1.0], [2.0], [0.0], [3.0], [1.0], [0.0], [1.0], [10.0], [18.0], [3.0], [49.0], [0.0], [2.0], [8.0], [0.0], [0.0], [0.0], [4.0], [0.0], [0.0], [0.0], [2.0], [0.0], [17.0], [0.0], [0.0], [79749.0], [0.0], [0.0], [0.0], [0.0], [7.0], [0.0], [0.0], [0.0], [3.0], [0.0], [4.0], [1.0], [6.0], [2.0], [2.0], [0.0], [6.0], [191.0], [0.0], [3.0], [159.0], [0.0], [7.0], [0.0], [0.0], [0.0], [100.0], [0.0], [0.0], [6.0], [5.0], [2.0], [1501.0], [0.0], [26.0], [1.0], [10.0], [2036.0], [0.0], [274.0], [0.0], [0.0], [56.0], [1.0], [13.0], [0.0], [2.0], [1.0], [0.0], [20.0], [29.0], [0.0], [0.0], [0.0], [5.0], [0.0], [2.0], [0.0], [1.0], [2.0], [18.0], [2.0], [2.0], [1.0], [2.0], [25.0], [12.0], [705.0], [8.0], [0.0], [0.0], [0.0], [0.0], [6.0], [0.0], [2.0], [3.0], [0.0], [0.0], [0.0], [0.0], [6.0], [3.0], [0.0], [0.0], [0.0], [8.0], [1.0], [1.0], [0.0], [108.0], [0.0], [0.0], [0.0], [4335.0], [120.0], [2.0], [0.0], [15.0], [42.0], [0.0], [41.0], [0.0], [43.0], [0.0], [0.0], [0.0], [40.0], [88.0], [0.0], [42.0], [0.0], [0.0], [0.0], [32.0], [0.0]], \"geo\": \"geo\", \"hoverlabel\": {\"namelength\": 0}, \"hovertemplate\": \"Date=2020-03-02 00:00:00<br>Log Confirmed=%{marker.size}<br>Confirmed=%{customdata[0]}<br>Country/Region=%{location}\", \"legendgroup\": \"\", \"locationmode\": \"country names\", \"locations\": [\" Azerbaijan\", \"Afghanistan\", \"Albania\", \"Algeria\", \"Andorra\", \"Argentina\", \"Armenia\", \"Australia\", \"Austria\", \"Azerbaijan\", \"Bahrain\", \"Bangladesh\", \"Belarus\", \"Belgium\", \"Bhutan\", \"Bolivia\", \"Bosnia and Herzegovina\", \"Brazil\", \"Brunei\", \"Bulgaria\", \"Burkina Faso\", \"Cambodia\", \"Cameroon\", \"Canada\", \"Channel Islands\", \"Chile\", \"China\", \"Colombia\", \"Congo (Kinshasa)\", \"Costa Rica\", \"Cote d'Ivoire\", \"Croatia\", \"Cruise Ship\", \"Cuba\", \"Cyprus\", \"Czech Republic\", \"Czechia\", \"Denmark\", \"Dominican Republic\", \"Ecuador\", \"Egypt\", \"Estonia\", \"Faroe Islands\", \"Finland\", \"France\", \"French Guiana\", \"Georgia\", \"Germany\", \"Gibraltar\", \"Greece\", \"Guyana\", \"Holy See\", \"Honduras\", \"Hong Kong\", \"Hong Kong SAR\", \"Hungary\", \"Iceland\", \"India\", \"Indonesia\", \"Iran\", \"Iran (Islamic Republic of)\", \"Iraq\", \"Ireland\", \"Israel\", \"Italy\", \"Jamaica\", \"Japan\", \"Jordan\", \"Korea, South\", \"Kuwait\", \"Latvia\", \"Lebanon\", \"Liechtenstein\", \"Lithuania\", \"Luxembourg\", \"Macao SAR\", \"Macau\", \"Malaysia\", \"Maldives\", \"Malta\", \"Martinique\", \"Mexico\", \"Moldova\", \"Monaco\", \"Mongolia\", \"Morocco\", \"Nepal\", \"Netherlands\", \"New Zealand\", \"Nigeria\", \"North Ireland\", \"North Macedonia\", \"Norway\", \"Oman\", \"Others\", \"Pakistan\", \"Palestine\", \"Panama\", \"Paraguay\", \"Peru\", \"Philippines\", \"Poland\", \"Portugal\", \"Qatar\", \"Republic of Ireland\", \"Republic of Korea\", \"Republic of Moldova\", \"Reunion\", \"Romania\", \"Russia\", \"Russian Federation\", \"Saint Barthelemy\", \"Saint Martin\", \"San Marino\", \"Saudi Arabia\", \"Senegal\", \"Serbia\", \"Singapore\", \"Slovakia\", \"Slovenia\", \"South Africa\", \"South Korea\", \"Spain\", \"Sri Lanka\", \"St. Martin\", \"Sweden\", \"Switzerland\", \"Taipei and environs\", \"Taiwan\", \"Taiwan*\", \"Thailand\", \"Togo\", \"Tunisia\", \"Turkey\", \"UK\", \"US\", \"Ukraine\", \"United Arab Emirates\", \"United Kingdom\", \"Vatican City\", \"Viet Nam\", \"Vietnam\", \"occupied Palestinian territory\"], \"marker\": {\"color\": \"#636efa\", \"size\": [0.3010299956639812, 0.47712125471966244, 0.0, 0.6020599913279624, 0.3010299956639812, 0.0, 0.3010299956639812, 1.0413926851582251, 1.2787536009528289, 0.6020599913279624, 1.6989700043360187, 0.0, 0.47712125471966244, 0.9542425094393249, 0.0, 0.0, 0.0, 0.6989700043360189, 0.0, 0.0, 0.0, 0.47712125471966244, 0.0, 1.255272505103306, 0.0, 0.0, 4.9017306917292185, 0.0, 0.0, 0.0, 0.0, 0.9030899869919435, 0.0, 0.0, 0.0, 0.6020599913279624, 0.0, 0.6989700043360189, 0.3010299956639812, 0.8450980400142568, 0.47712125471966244, 0.47712125471966244, 0.0, 0.8450980400142568, 2.2833012287035497, 0.0, 0.6020599913279624, 2.2041199826559246, 0.0, 0.9030899869919435, 0.0, 0.0, 0.0, 2.0043213737826426, 0.0, 0.0, 0.8450980400142568, 0.7781512503836436, 0.47712125471966244, 3.17666993266815, 0.0, 1.4313637641589874, 0.3010299956639812, 1.0413926851582251, 3.3089910290001643, 0.0, 2.439332693830263, 0.0, 0.0, 1.7558748556724915, 0.3010299956639812, 1.146128035678238, 0.0, 0.47712125471966244, 0.3010299956639812, 0.0, 1.3222192947339193, 1.4771212547196624, 0.0, 0.0, 0.0, 0.7781512503836436, 0.0, 0.47712125471966244, 0.0, 0.3010299956639812, 0.47712125471966244, 1.2787536009528289, 0.47712125471966244, 0.47712125471966244, 0.3010299956639812, 0.47712125471966244, 1.414973347970818, 1.1139433523068367, 2.8488047010518036, 0.9542425094393249, 0.0, 0.0, 0.0, 0.0, 0.8450980400142568, 0.0, 0.47712125471966244, 0.6020599913279624, 0.0, 0.0, 0.0, 0.0, 0.8450980400142568, 0.6020599913279624, 0.0, 0.0, 0.0, 0.9542425094393249, 0.3010299956639812, 0.3010299956639812, 0.0, 2.037426497940624, 0.0, 0.0, 0.0, 3.6370892735303304, 2.0827853703164503, 0.47712125471966244, 0.0, 1.2041199826559248, 1.6334684555795864, 0.0, 1.6232492903979006, 0.0, 1.6434526764861874, 0.0, 0.0, 0.0, 1.6127838567197355, 1.9493900066449128, 0.0, 1.6334684555795864, 0.0, 0.0, 0.0, 1.5185139398778875, 0.0], \"sizemode\": \"area\", \"sizeref\": 0.012270166519720165}, \"name\": \"\", \"showlegend\": false, \"type\": \"scattergeo\"}], \"name\": \"2020-03-02 00:00:00\"}, {\"data\": [{\"customdata\": [[1.0], [2.0], [0.0], [5.0], [1.0], [1.0], [1.0], [24.0], [21.0], [3.0], [49.0], [0.0], [2.0], [13.0], [0.0], [0.0], [0.0], [4.0], [0.0], [0.0], [0.0], [2.0], [0.0], [28.0], [0.0], [1.0], [79574.0], [0.0], [0.0], [0.0], [0.0], [9.0], [0.0], [0.0], [0.0], [5.0], [0.0], [6.0], [1.0], [7.0], [2.0], [2.0], [0.0], [6.0], [204.0], [0.0], [3.0], [196.0], [0.0], [7.0], [0.0], [0.0], [0.0], [100.0], [0.0], [0.0], [11.0], [5.0], [2.0], [2336.0], [0.0], [32.0], [2.0], [12.0], [2502.0], [0.0], [293.0], [1.0], [0.0], [56.0], [1.0], [13.0], [0.0], [2.0], [1.0], [0.0], [10.0], [36.0], [0.0], [0.0], [0.0], [5.0], [0.0], [2.0], [0.0], [1.0], [2.0], [24.0], [2.0], [2.0], [1.0], [2.0], [32.0], [12.0], [706.0], [5.0], [0.0], [0.0], [0.0], [0.0], [6.0], [0.0], [2.0], [7.0], [0.0], [0.0], [0.0], [0.0], [3.0], [3.0], [0.0], [0.0], [0.0], [10.0], [1.0], [2.0], [0.0], [110.0], [0.0], [0.0], [0.0], [5186.0], [165.0], [2.0], [0.0], [21.0], [56.0], [0.0], [42.0], [0.0], [43.0], [0.0], [0.0], [0.0], [51.0], [54.0], [1.0], [27.0], [0.0], [0.0], [0.0], [32.0], [0.0]], \"geo\": \"geo\", \"hoverlabel\": {\"namelength\": 0}, \"hovertemplate\": \"Date=2020-03-03 00:00:00<br>Log Confirmed=%{marker.size}<br>Confirmed=%{customdata[0]}<br>Country/Region=%{location}\", \"legendgroup\": \"\", \"locationmode\": \"country names\", \"locations\": [\" Azerbaijan\", \"Afghanistan\", \"Albania\", \"Algeria\", \"Andorra\", \"Argentina\", \"Armenia\", \"Australia\", \"Austria\", \"Azerbaijan\", \"Bahrain\", \"Bangladesh\", \"Belarus\", \"Belgium\", \"Bhutan\", \"Bolivia\", \"Bosnia and Herzegovina\", \"Brazil\", \"Brunei\", \"Bulgaria\", \"Burkina Faso\", \"Cambodia\", \"Cameroon\", \"Canada\", \"Channel Islands\", \"Chile\", \"China\", \"Colombia\", \"Congo (Kinshasa)\", \"Costa Rica\", \"Cote d'Ivoire\", \"Croatia\", \"Cruise Ship\", \"Cuba\", \"Cyprus\", \"Czech Republic\", \"Czechia\", \"Denmark\", \"Dominican Republic\", \"Ecuador\", \"Egypt\", \"Estonia\", \"Faroe Islands\", \"Finland\", \"France\", \"French Guiana\", \"Georgia\", \"Germany\", \"Gibraltar\", \"Greece\", \"Guyana\", \"Holy See\", \"Honduras\", \"Hong Kong\", \"Hong Kong SAR\", \"Hungary\", \"Iceland\", \"India\", \"Indonesia\", \"Iran\", \"Iran (Islamic Republic of)\", \"Iraq\", \"Ireland\", \"Israel\", \"Italy\", \"Jamaica\", \"Japan\", \"Jordan\", \"Korea, South\", \"Kuwait\", \"Latvia\", \"Lebanon\", \"Liechtenstein\", \"Lithuania\", \"Luxembourg\", \"Macao SAR\", \"Macau\", \"Malaysia\", \"Maldives\", \"Malta\", \"Martinique\", \"Mexico\", \"Moldova\", \"Monaco\", \"Mongolia\", \"Morocco\", \"Nepal\", \"Netherlands\", \"New Zealand\", \"Nigeria\", \"North Ireland\", \"North Macedonia\", \"Norway\", \"Oman\", \"Others\", \"Pakistan\", \"Palestine\", \"Panama\", \"Paraguay\", \"Peru\", \"Philippines\", \"Poland\", \"Portugal\", \"Qatar\", \"Republic of Ireland\", \"Republic of Korea\", \"Republic of Moldova\", \"Reunion\", \"Romania\", \"Russia\", \"Russian Federation\", \"Saint Barthelemy\", \"Saint Martin\", \"San Marino\", \"Saudi Arabia\", \"Senegal\", \"Serbia\", \"Singapore\", \"Slovakia\", \"Slovenia\", \"South Africa\", \"South Korea\", \"Spain\", \"Sri Lanka\", \"St. Martin\", \"Sweden\", \"Switzerland\", \"Taipei and environs\", \"Taiwan\", \"Taiwan*\", \"Thailand\", \"Togo\", \"Tunisia\", \"Turkey\", \"UK\", \"US\", \"Ukraine\", \"United Arab Emirates\", \"United Kingdom\", \"Vatican City\", \"Viet Nam\", \"Vietnam\", \"occupied Palestinian territory\"], \"marker\": {\"color\": \"#636efa\", \"size\": [0.3010299956639812, 0.47712125471966244, 0.0, 0.7781512503836436, 0.3010299956639812, 0.3010299956639812, 0.3010299956639812, 1.3979400086720377, 1.3424226808222062, 0.6020599913279624, 1.6989700043360187, 0.0, 0.47712125471966244, 1.146128035678238, 0.0, 0.0, 0.0, 0.6989700043360189, 0.0, 0.0, 0.0, 0.47712125471966244, 0.0, 1.462397997898956, 0.0, 0.3010299956639812, 4.900776647293041, 0.0, 0.0, 0.0, 0.0, 1.0, 0.0, 0.0, 0.0, 0.7781512503836436, 0.0, 0.8450980400142568, 0.3010299956639812, 0.9030899869919435, 0.47712125471966244, 0.47712125471966244, 0.0, 0.8450980400142568, 2.311753861055754, 0.0, 0.6020599913279624, 2.294466226161593, 0.0, 0.9030899869919435, 0.0, 0.0, 0.0, 2.0043213737826426, 0.0, 0.0, 1.0791812460476249, 0.7781512503836436, 0.47712125471966244, 3.368658712392227, 0.0, 1.5185139398778875, 0.47712125471966244, 1.1139433523068367, 3.3984608496082234, 0.0, 2.4683473304121573, 0.3010299956639812, 0.0, 1.7558748556724915, 0.3010299956639812, 1.146128035678238, 0.0, 0.47712125471966244, 0.3010299956639812, 0.0, 1.0413926851582251, 1.568201724066995, 0.0, 0.0, 0.0, 0.7781512503836436, 0.0, 0.47712125471966244, 0.0, 0.3010299956639812, 0.47712125471966244, 1.3979400086720377, 0.47712125471966244, 0.47712125471966244, 0.3010299956639812, 0.47712125471966244, 1.5185139398778875, 1.1139433523068367, 2.8494194137968996, 0.7781512503836436, 0.0, 0.0, 0.0, 0.0, 0.8450980400142568, 0.0, 0.47712125471966244, 0.9030899869919435, 0.0, 0.0, 0.0, 0.0, 0.6020599913279624, 0.6020599913279624, 0.0, 0.0, 0.0, 1.0413926851582251, 0.3010299956639812, 0.47712125471966244, 0.0, 2.0453229787866576, 0.0, 0.0, 0.0, 3.714916247993585, 2.220108088040055, 0.47712125471966244, 0.0, 1.3424226808222062, 1.7558748556724915, 0.0, 1.6334684555795864, 0.0, 1.6434526764861874, 0.0, 0.0, 0.0, 1.7160033436347992, 1.7403626894942439, 0.3010299956639812, 1.4471580313422192, 0.0, 0.0, 0.0, 1.5185139398778875, 0.0], \"sizemode\": \"area\", \"sizeref\": 0.012270166519720165}, \"name\": \"\", \"showlegend\": false, \"type\": \"scattergeo\"}], \"name\": \"2020-03-03 00:00:00\"}, {\"data\": [{\"customdata\": [[1.0], [2.0], [0.0], [12.0], [1.0], [1.0], [1.0], [38.0], [29.0], [3.0], [52.0], [0.0], [6.0], [23.0], [0.0], [0.0], [0.0], [4.0], [0.0], [0.0], [0.0], [2.0], [0.0], [12.0], [0.0], [1.0], [79538.0], [0.0], [0.0], [0.0], [0.0], [10.0], [0.0], [0.0], [0.0], [8.0], [0.0], [10.0], [1.0], [10.0], [2.0], [2.0], [1.0], [6.0], [285.0], [0.0], [3.0], [262.0], [1.0], [9.0], [0.0], [0.0], [0.0], [105.0], [0.0], [2.0], [26.0], [28.0], [2.0], [2922.0], [0.0], [35.0], [6.0], [15.0], [3089.0], [0.0], [331.0], [1.0], [0.0], [56.0], [1.0], [13.0], [1.0], [2.0], [1.0], [0.0], [10.0], [50.0], [0.0], [0.0], [0.0], [5.0], [0.0], [2.0], [0.0], [1.0], [2.0], [38.0], [3.0], [2.0], [1.0], [2.0], [56.0], [15.0], [706.0], [5.0], [0.0], [0.0], [0.0], [0.0], [6.0], [1.0], [5.0], [8.0], [0.0], [0.0], [0.0], [0.0], [4.0], [3.0], [0.0], [3.0], [0.0], [16.0], [1.0], [4.0], [0.0], [110.0], [0.0], [0.0], [0.0], [5621.0], [222.0], [2.0], [0.0], [35.0], [90.0], [0.0], [42.0], [0.0], [43.0], [0.0], [1.0], [0.0], [85.0], [62.0], [1.0], [27.0], [0.0], [0.0], [0.0], [32.0], [0.0]], \"geo\": \"geo\", \"hoverlabel\": {\"namelength\": 0}, \"hovertemplate\": \"Date=2020-03-04 00:00:00<br>Log Confirmed=%{marker.size}<br>Confirmed=%{customdata[0]}<br>Country/Region=%{location}\", \"legendgroup\": \"\", \"locationmode\": \"country names\", \"locations\": [\" Azerbaijan\", \"Afghanistan\", \"Albania\", \"Algeria\", \"Andorra\", \"Argentina\", \"Armenia\", \"Australia\", \"Austria\", \"Azerbaijan\", \"Bahrain\", \"Bangladesh\", \"Belarus\", \"Belgium\", \"Bhutan\", \"Bolivia\", \"Bosnia and Herzegovina\", \"Brazil\", \"Brunei\", \"Bulgaria\", \"Burkina Faso\", \"Cambodia\", \"Cameroon\", \"Canada\", \"Channel Islands\", \"Chile\", \"China\", \"Colombia\", \"Congo (Kinshasa)\", \"Costa Rica\", \"Cote d'Ivoire\", \"Croatia\", \"Cruise Ship\", \"Cuba\", \"Cyprus\", \"Czech Republic\", \"Czechia\", \"Denmark\", \"Dominican Republic\", \"Ecuador\", \"Egypt\", \"Estonia\", \"Faroe Islands\", \"Finland\", \"France\", \"French Guiana\", \"Georgia\", \"Germany\", \"Gibraltar\", \"Greece\", \"Guyana\", \"Holy See\", \"Honduras\", \"Hong Kong\", \"Hong Kong SAR\", \"Hungary\", \"Iceland\", \"India\", \"Indonesia\", \"Iran\", \"Iran (Islamic Republic of)\", \"Iraq\", \"Ireland\", \"Israel\", \"Italy\", \"Jamaica\", \"Japan\", \"Jordan\", \"Korea, South\", \"Kuwait\", \"Latvia\", \"Lebanon\", \"Liechtenstein\", \"Lithuania\", \"Luxembourg\", \"Macao SAR\", \"Macau\", \"Malaysia\", \"Maldives\", \"Malta\", \"Martinique\", \"Mexico\", \"Moldova\", \"Monaco\", \"Mongolia\", \"Morocco\", \"Nepal\", \"Netherlands\", \"New Zealand\", \"Nigeria\", \"North Ireland\", \"North Macedonia\", \"Norway\", \"Oman\", \"Others\", \"Pakistan\", \"Palestine\", \"Panama\", \"Paraguay\", \"Peru\", \"Philippines\", \"Poland\", \"Portugal\", \"Qatar\", \"Republic of Ireland\", \"Republic of Korea\", \"Republic of Moldova\", \"Reunion\", \"Romania\", \"Russia\", \"Russian Federation\", \"Saint Barthelemy\", \"Saint Martin\", \"San Marino\", \"Saudi Arabia\", \"Senegal\", \"Serbia\", \"Singapore\", \"Slovakia\", \"Slovenia\", \"South Africa\", \"South Korea\", \"Spain\", \"Sri Lanka\", \"St. Martin\", \"Sweden\", \"Switzerland\", \"Taipei and environs\", \"Taiwan\", \"Taiwan*\", \"Thailand\", \"Togo\", \"Tunisia\", \"Turkey\", \"UK\", \"US\", \"Ukraine\", \"United Arab Emirates\", \"United Kingdom\", \"Vatican City\", \"Viet Nam\", \"Vietnam\", \"occupied Palestinian territory\"], \"marker\": {\"color\": \"#636efa\", \"size\": [0.3010299956639812, 0.47712125471966244, 0.0, 1.1139433523068367, 0.3010299956639812, 0.3010299956639812, 0.3010299956639812, 1.591064607026499, 1.4771212547196624, 0.6020599913279624, 1.724275869600789, 0.0, 0.8450980400142568, 1.380211241711606, 0.0, 0.0, 0.0, 0.6989700043360189, 0.0, 0.0, 0.0, 0.47712125471966244, 0.0, 1.1139433523068367, 0.0, 0.3010299956639812, 4.900580126539175, 0.0, 0.0, 0.0, 0.0, 1.0413926851582251, 0.0, 0.0, 0.0, 0.9542425094393249, 0.0, 1.0413926851582251, 0.3010299956639812, 1.0413926851582251, 0.47712125471966244, 0.47712125471966244, 0.3010299956639812, 0.8450980400142568, 2.456366033129043, 0.0, 0.6020599913279624, 2.419955748489758, 0.3010299956639812, 1.0, 0.0, 0.0, 0.0, 2.0253058652647704, 0.0, 0.47712125471966244, 1.4313637641589874, 1.462397997898956, 0.47712125471966244, 3.4658288153574364, 0.0, 1.5563025007672873, 0.8450980400142568, 1.2041199826559248, 3.4899584794248346, 0.0, 2.5211380837040362, 0.3010299956639812, 0.0, 1.7558748556724915, 0.3010299956639812, 1.146128035678238, 0.3010299956639812, 0.47712125471966244, 0.3010299956639812, 0.0, 1.0413926851582251, 1.7075701760979363, 0.0, 0.0, 0.0, 0.7781512503836436, 0.0, 0.47712125471966244, 0.0, 0.3010299956639812, 0.47712125471966244, 1.591064607026499, 0.6020599913279624, 0.47712125471966244, 0.3010299956639812, 0.47712125471966244, 1.7558748556724915, 1.2041199826559248, 2.8494194137968996, 0.7781512503836436, 0.0, 0.0, 0.0, 0.0, 0.8450980400142568, 0.3010299956639812, 0.7781512503836436, 0.9542425094393249, 0.0, 0.0, 0.0, 0.0, 0.6989700043360189, 0.6020599913279624, 0.0, 0.6020599913279624, 0.0, 1.2304489213782739, 0.3010299956639812, 0.6989700043360189, 0.0, 2.0453229787866576, 0.0, 0.0, 0.0, 3.749890841271422, 2.3483048630481607, 0.47712125471966244, 0.0, 1.5563025007672873, 1.9590413923210936, 0.0, 1.6334684555795864, 0.0, 1.6434526764861874, 0.0, 0.3010299956639812, 0.0, 1.9344984512435677, 1.7993405494535817, 0.3010299956639812, 1.4471580313422192, 0.0, 0.0, 0.0, 1.5185139398778875, 0.0], \"sizemode\": \"area\", \"sizeref\": 0.012270166519720165}, \"name\": \"\", \"showlegend\": false, \"type\": \"scattergeo\"}], \"name\": \"2020-03-04 00:00:00\"}, {\"data\": [{\"customdata\": [[1.0], [2.0], [0.0], [12.0], [1.0], [1.0], [1.0], [26.0], [41.0], [6.0], [55.0], [0.0], [6.0], [50.0], [0.0], [0.0], [2.0], [4.0], [0.0], [0.0], [0.0], [2.0], [0.0], [36.0], [0.0], [4.0], [79465.0], [0.0], [0.0], [0.0], [0.0], [10.0], [0.0], [0.0], [0.0], [12.0], [0.0], [10.0], [1.0], [13.0], [3.0], [3.0], [1.0], [12.0], [377.0], [0.0], [4.0], [482.0], [1.0], [31.0], [0.0], [0.0], [0.0], [105.0], [0.0], [2.0], [34.0], [30.0], [2.0], [3513.0], [0.0], [35.0], [6.0], [16.0], [3858.0], [0.0], [360.0], [1.0], [0.0], [58.0], [1.0], [16.0], [1.0], [2.0], [1.0], [0.0], [10.0], [50.0], [0.0], [0.0], [0.0], [5.0], [0.0], [2.0], [0.0], [2.0], [2.0], [82.0], [3.0], [2.0], [1.0], [2.0], [87.0], [16.0], [706.0], [5.0], [4.0], [0.0], [0.0], [0.0], [6.0], [1.0], [8.0], [8.0], [0.0], [0.0], [0.0], [0.0], [6.0], [4.0], [0.0], [3.0], [0.0], [21.0], [5.0], [4.0], [0.0], [117.0], [0.0], [2.0], [1.0], [6088.0], [259.0], [2.0], [0.0], [94.0], [114.0], [0.0], [44.0], [0.0], [47.0], [0.0], [1.0], [0.0], [115.0], [142.0], [1.0], [29.0], [0.0], [0.0], [0.0], [32.0], [0.0]], \"geo\": \"geo\", \"hoverlabel\": {\"namelength\": 0}, \"hovertemplate\": \"Date=2020-03-05 00:00:00<br>Log Confirmed=%{marker.size}<br>Confirmed=%{customdata[0]}<br>Country/Region=%{location}\", \"legendgroup\": \"\", \"locationmode\": \"country names\", \"locations\": [\" Azerbaijan\", \"Afghanistan\", \"Albania\", \"Algeria\", \"Andorra\", \"Argentina\", \"Armenia\", \"Australia\", \"Austria\", \"Azerbaijan\", \"Bahrain\", \"Bangladesh\", \"Belarus\", \"Belgium\", \"Bhutan\", \"Bolivia\", \"Bosnia and Herzegovina\", \"Brazil\", \"Brunei\", \"Bulgaria\", \"Burkina Faso\", \"Cambodia\", \"Cameroon\", \"Canada\", \"Channel Islands\", \"Chile\", \"China\", \"Colombia\", \"Congo (Kinshasa)\", \"Costa Rica\", \"Cote d'Ivoire\", \"Croatia\", \"Cruise Ship\", \"Cuba\", \"Cyprus\", \"Czech Republic\", \"Czechia\", \"Denmark\", \"Dominican Republic\", \"Ecuador\", \"Egypt\", \"Estonia\", \"Faroe Islands\", \"Finland\", \"France\", \"French Guiana\", \"Georgia\", \"Germany\", \"Gibraltar\", \"Greece\", \"Guyana\", \"Holy See\", \"Honduras\", \"Hong Kong\", \"Hong Kong SAR\", \"Hungary\", \"Iceland\", \"India\", \"Indonesia\", \"Iran\", \"Iran (Islamic Republic of)\", \"Iraq\", \"Ireland\", \"Israel\", \"Italy\", \"Jamaica\", \"Japan\", \"Jordan\", \"Korea, South\", \"Kuwait\", \"Latvia\", \"Lebanon\", \"Liechtenstein\", \"Lithuania\", \"Luxembourg\", \"Macao SAR\", \"Macau\", \"Malaysia\", \"Maldives\", \"Malta\", \"Martinique\", \"Mexico\", \"Moldova\", \"Monaco\", \"Mongolia\", \"Morocco\", \"Nepal\", \"Netherlands\", \"New Zealand\", \"Nigeria\", \"North Ireland\", \"North Macedonia\", \"Norway\", \"Oman\", \"Others\", \"Pakistan\", \"Palestine\", \"Panama\", \"Paraguay\", \"Peru\", \"Philippines\", \"Poland\", \"Portugal\", \"Qatar\", \"Republic of Ireland\", \"Republic of Korea\", \"Republic of Moldova\", \"Reunion\", \"Romania\", \"Russia\", \"Russian Federation\", \"Saint Barthelemy\", \"Saint Martin\", \"San Marino\", \"Saudi Arabia\", \"Senegal\", \"Serbia\", \"Singapore\", \"Slovakia\", \"Slovenia\", \"South Africa\", \"South Korea\", \"Spain\", \"Sri Lanka\", \"St. Martin\", \"Sweden\", \"Switzerland\", \"Taipei and environs\", \"Taiwan\", \"Taiwan*\", \"Thailand\", \"Togo\", \"Tunisia\", \"Turkey\", \"UK\", \"US\", \"Ukraine\", \"United Arab Emirates\", \"United Kingdom\", \"Vatican City\", \"Viet Nam\", \"Vietnam\", \"occupied Palestinian territory\"], \"marker\": {\"color\": \"#636efa\", \"size\": [0.3010299956639812, 0.47712125471966244, 0.0, 1.1139433523068367, 0.3010299956639812, 0.3010299956639812, 0.3010299956639812, 1.4313637641589874, 1.6232492903979006, 0.8450980400142568, 1.7481880270062005, 0.0, 0.8450980400142568, 1.7075701760979363, 0.0, 0.0, 0.47712125471966244, 0.6989700043360189, 0.0, 0.0, 0.0, 0.47712125471966244, 0.0, 1.568201724066995, 0.0, 0.6989700043360189, 4.900181352923171, 0.0, 0.0, 0.0, 0.0, 1.0413926851582251, 0.0, 0.0, 0.0, 1.1139433523068367, 0.0, 1.0413926851582251, 0.3010299956639812, 1.146128035678238, 0.6020599913279624, 0.6020599913279624, 0.3010299956639812, 1.1139433523068367, 2.5774917998372255, 0.0, 0.6989700043360189, 2.683947130751512, 0.3010299956639812, 1.505149978319906, 0.0, 0.0, 0.0, 2.0253058652647704, 0.0, 0.47712125471966244, 1.5440680443502757, 1.4913616938342726, 0.47712125471966244, 3.545801757159276, 0.0, 1.5563025007672873, 0.8450980400142568, 1.2304489213782739, 3.5864747785713966, 0.0, 2.5575072019056577, 0.3010299956639812, 0.0, 1.7708520116421442, 0.3010299956639812, 1.2304489213782739, 0.3010299956639812, 0.47712125471966244, 0.3010299956639812, 0.0, 1.0413926851582251, 1.7075701760979363, 0.0, 0.0, 0.0, 0.7781512503836436, 0.0, 0.47712125471966244, 0.0, 0.47712125471966244, 0.47712125471966244, 1.919078092376074, 0.6020599913279624, 0.47712125471966244, 0.3010299956639812, 0.47712125471966244, 1.9444826721501687, 1.2304489213782739, 2.8494194137968996, 0.7781512503836436, 0.6989700043360189, 0.0, 0.0, 0.0, 0.8450980400142568, 0.3010299956639812, 0.9542425094393249, 0.9542425094393249, 0.0, 0.0, 0.0, 0.0, 0.8450980400142568, 0.6989700043360189, 0.0, 0.6020599913279624, 0.0, 1.3424226808222062, 0.7781512503836436, 0.6989700043360189, 0.0, 2.0718820073061255, 0.0, 0.47712125471966244, 0.3010299956639812, 3.7845459740545224, 2.4149733479708178, 0.47712125471966244, 0.0, 1.9777236052888478, 2.060697840353612, 0.0, 1.6532125137753437, 0.0, 1.6812412373755872, 0.0, 0.3010299956639812, 0.0, 2.0644579892269186, 2.155336037465062, 0.3010299956639812, 1.4771212547196624, 0.0, 0.0, 0.0, 1.5185139398778875, 0.0], \"sizemode\": \"area\", \"sizeref\": 0.012270166519720165}, \"name\": \"\", \"showlegend\": false, \"type\": \"scattergeo\"}], \"name\": \"2020-03-05 00:00:00\"}, {\"data\": [{\"customdata\": [[1.0], [2.0], [0.0], [17.0], [1.0], [2.0], [1.0], [33.0], [55.0], [6.0], [60.0], [0.0], [6.0], [109.0], [1.0], [0.0], [2.0], [13.0], [0.0], [0.0], [0.0], [2.0], [1.0], [46.0], [0.0], [4.0], [79771.0], [1.0], [0.0], [1.0], [0.0], [11.0], [0.0], [0.0], [0.0], [18.0], [0.0], [23.0], [2.0], [13.0], [15.0], [10.0], [1.0], [15.0], [653.0], [0.0], [4.0], [670.0], [1.0], [45.0], [0.0], [0.0], [0.0], [107.0], [0.0], [2.0], [43.0], [31.0], [4.0], [4747.0], [0.0], [40.0], [18.0], [21.0], [4636.0], [0.0], [420.0], [1.0], [0.0], [58.0], [1.0], [22.0], [1.0], [2.0], [2.0], [0.0], [10.0], [83.0], [0.0], [0.0], [0.0], [6.0], [0.0], [2.0], [0.0], [2.0], [2.0], [128.0], [4.0], [2.0], [1.0], [3.0], [108.0], [16.0], [696.0], [6.0], [16.0], [0.0], [0.0], [1.0], [5.0], [5.0], [13.0], [8.0], [0.0], [0.0], [0.0], [0.0], [9.0], [13.0], [0.0], [3.0], [0.0], [21.0], [5.0], [4.0], [1.0], [130.0], [1.0], [7.0], [1.0], [6593.0], [400.0], [2.0], [0.0], [101.0], [214.0], [0.0], [45.0], [0.0], [48.0], [1.0], [1.0], [0.0], [163.0], [168.0], [1.0], [29.0], [0.0], [1.0], [0.0], [32.0], [0.0]], \"geo\": \"geo\", \"hoverlabel\": {\"namelength\": 0}, \"hovertemplate\": \"Date=2020-03-06 00:00:00<br>Log Confirmed=%{marker.size}<br>Confirmed=%{customdata[0]}<br>Country/Region=%{location}\", \"legendgroup\": \"\", \"locationmode\": \"country names\", \"locations\": [\" Azerbaijan\", \"Afghanistan\", \"Albania\", \"Algeria\", \"Andorra\", \"Argentina\", \"Armenia\", \"Australia\", \"Austria\", \"Azerbaijan\", \"Bahrain\", \"Bangladesh\", \"Belarus\", \"Belgium\", \"Bhutan\", \"Bolivia\", \"Bosnia and Herzegovina\", \"Brazil\", \"Brunei\", \"Bulgaria\", \"Burkina Faso\", \"Cambodia\", \"Cameroon\", \"Canada\", \"Channel Islands\", \"Chile\", \"China\", \"Colombia\", \"Congo (Kinshasa)\", \"Costa Rica\", \"Cote d'Ivoire\", \"Croatia\", \"Cruise Ship\", \"Cuba\", \"Cyprus\", \"Czech Republic\", \"Czechia\", \"Denmark\", \"Dominican Republic\", \"Ecuador\", \"Egypt\", \"Estonia\", \"Faroe Islands\", \"Finland\", \"France\", \"French Guiana\", \"Georgia\", \"Germany\", \"Gibraltar\", \"Greece\", \"Guyana\", \"Holy See\", \"Honduras\", \"Hong Kong\", \"Hong Kong SAR\", \"Hungary\", \"Iceland\", \"India\", \"Indonesia\", \"Iran\", \"Iran (Islamic Republic of)\", \"Iraq\", \"Ireland\", \"Israel\", \"Italy\", \"Jamaica\", \"Japan\", \"Jordan\", \"Korea, South\", \"Kuwait\", \"Latvia\", \"Lebanon\", \"Liechtenstein\", \"Lithuania\", \"Luxembourg\", \"Macao SAR\", \"Macau\", \"Malaysia\", \"Maldives\", \"Malta\", \"Martinique\", \"Mexico\", \"Moldova\", \"Monaco\", \"Mongolia\", \"Morocco\", \"Nepal\", \"Netherlands\", \"New Zealand\", \"Nigeria\", \"North Ireland\", \"North Macedonia\", \"Norway\", \"Oman\", \"Others\", \"Pakistan\", \"Palestine\", \"Panama\", \"Paraguay\", \"Peru\", \"Philippines\", \"Poland\", \"Portugal\", \"Qatar\", \"Republic of Ireland\", \"Republic of Korea\", \"Republic of Moldova\", \"Reunion\", \"Romania\", \"Russia\", \"Russian Federation\", \"Saint Barthelemy\", \"Saint Martin\", \"San Marino\", \"Saudi Arabia\", \"Senegal\", \"Serbia\", \"Singapore\", \"Slovakia\", \"Slovenia\", \"South Africa\", \"South Korea\", \"Spain\", \"Sri Lanka\", \"St. Martin\", \"Sweden\", \"Switzerland\", \"Taipei and environs\", \"Taiwan\", \"Taiwan*\", \"Thailand\", \"Togo\", \"Tunisia\", \"Turkey\", \"UK\", \"US\", \"Ukraine\", \"United Arab Emirates\", \"United Kingdom\", \"Vatican City\", \"Viet Nam\", \"Vietnam\", \"occupied Palestinian territory\"], \"marker\": {\"color\": \"#636efa\", \"size\": [0.3010299956639812, 0.47712125471966244, 0.0, 1.255272505103306, 0.3010299956639812, 0.47712125471966244, 0.3010299956639812, 1.5314789170422551, 1.7481880270062005, 0.8450980400142568, 1.7853298350107671, 0.0, 0.8450980400142568, 2.041392685158225, 0.3010299956639812, 0.0, 0.47712125471966244, 1.146128035678238, 0.0, 0.0, 0.0, 0.47712125471966244, 0.3010299956639812, 1.6720978579357175, 0.0, 0.6989700043360189, 4.901850480581696, 0.3010299956639812, 0.0, 0.3010299956639812, 0.0, 1.0791812460476249, 0.0, 0.0, 0.0, 1.2787536009528289, 0.0, 1.380211241711606, 0.47712125471966244, 1.146128035678238, 1.2041199826559248, 1.0413926851582251, 0.3010299956639812, 1.2041199826559248, 2.815577748324267, 0.0, 0.6989700043360189, 2.826722520168992, 0.3010299956639812, 1.662757831681574, 0.0, 0.0, 0.0, 2.03342375548695, 0.0, 0.47712125471966244, 1.6434526764861874, 1.505149978319906, 0.6989700043360189, 3.6765107102825536, 0.0, 1.6127838567197355, 1.2787536009528289, 1.3424226808222062, 3.6662370958958044, 0.0, 2.6242820958356683, 0.3010299956639812, 0.0, 1.7708520116421442, 0.3010299956639812, 1.3617278360175928, 0.3010299956639812, 0.47712125471966244, 0.47712125471966244, 0.0, 1.0413926851582251, 1.9242792860618816, 0.0, 0.0, 0.0, 0.8450980400142568, 0.0, 0.47712125471966244, 0.0, 0.47712125471966244, 0.47712125471966244, 2.110589710299249, 0.6989700043360189, 0.47712125471966244, 0.3010299956639812, 0.6020599913279624, 2.037426497940624, 1.2304489213782739, 2.8432327780980096, 0.8450980400142568, 1.2304489213782739, 0.0, 0.0, 0.3010299956639812, 0.7781512503836436, 0.7781512503836436, 1.146128035678238, 0.9542425094393249, 0.0, 0.0, 0.0, 0.0, 1.0, 1.146128035678238, 0.0, 0.6020599913279624, 0.0, 1.3424226808222062, 0.7781512503836436, 0.6989700043360189, 0.3010299956639812, 2.1172712956557644, 0.3010299956639812, 0.9030899869919435, 0.3010299956639812, 3.8191489428071344, 2.603144372620182, 0.47712125471966244, 0.0, 2.0086001717619175, 2.3324384599156054, 0.0, 1.662757831681574, 0.0, 1.6901960800285136, 0.3010299956639812, 0.3010299956639812, 0.0, 2.214843848047698, 2.2278867046136734, 0.3010299956639812, 1.4771212547196624, 0.0, 0.3010299956639812, 0.0, 1.5185139398778875, 0.0], \"sizemode\": \"area\", \"sizeref\": 0.012270166519720165}, \"name\": \"\", \"showlegend\": false, \"type\": \"scattergeo\"}], \"name\": \"2020-03-06 00:00:00\"}, {\"data\": [{\"customdata\": [[1.0], [2.0], [0.0], [17.0], [1.0], [8.0], [1.0], [39.0], [79.0], [9.0], [85.0], [0.0], [6.0], [169.0], [1.0], [0.0], [3.0], [13.0], [0.0], [0.0], [0.0], [2.0], [1.0], [52.0], [0.0], [4.0], [78619.0], [1.0], [0.0], [1.0], [0.0], [12.0], [0.0], [0.0], [0.0], [19.0], [0.0], [23.0], [2.0], [13.0], [15.0], [10.0], [1.0], [15.0], [949.0], [5.0], [4.0], [799.0], [1.0], [46.0], [0.0], [0.0], [0.0], [108.0], [0.0], [4.0], [50.0], [34.0], [4.0], [5823.0], [0.0], [54.0], [18.0], [21.0], [5883.0], [0.0], [461.0], [1.0], [0.0], [61.0], [1.0], [22.0], [1.0], [2.0], [2.0], [0.0], [10.0], [93.0], [0.0], [3.0], [2.0], [6.0], [0.0], [2.0], [0.0], [2.0], [2.0], [188.0], [5.0], [2.0], [1.0], [3.0], [147.0], [16.0], [696.0], [6.0], [22.0], [0.0], [0.0], [1.0], [6.0], [5.0], [20.0], [8.0], [0.0], [0.0], [0.0], [0.0], [9.0], [13.0], [0.0], [3.0], [0.0], [23.0], [5.0], [4.0], [1.0], [138.0], [1.0], [7.0], [1.0], [7041.0], [500.0], [2.0], [0.0], [161.0], [268.0], [0.0], [45.0], [0.0], [50.0], [1.0], [1.0], [0.0], [206.0], [311.0], [1.0], [45.0], [0.0], [1.0], [0.0], [18.0], [0.0]], \"geo\": \"geo\", \"hoverlabel\": {\"namelength\": 0}, \"hovertemplate\": \"Date=2020-03-07 00:00:00<br>Log Confirmed=%{marker.size}<br>Confirmed=%{customdata[0]}<br>Country/Region=%{location}\", \"legendgroup\": \"\", \"locationmode\": \"country names\", \"locations\": [\" Azerbaijan\", \"Afghanistan\", \"Albania\", \"Algeria\", \"Andorra\", \"Argentina\", \"Armenia\", \"Australia\", \"Austria\", \"Azerbaijan\", \"Bahrain\", \"Bangladesh\", \"Belarus\", \"Belgium\", \"Bhutan\", \"Bolivia\", \"Bosnia and Herzegovina\", \"Brazil\", \"Brunei\", \"Bulgaria\", \"Burkina Faso\", \"Cambodia\", \"Cameroon\", \"Canada\", \"Channel Islands\", \"Chile\", \"China\", \"Colombia\", \"Congo (Kinshasa)\", \"Costa Rica\", \"Cote d'Ivoire\", \"Croatia\", \"Cruise Ship\", \"Cuba\", \"Cyprus\", \"Czech Republic\", \"Czechia\", \"Denmark\", \"Dominican Republic\", \"Ecuador\", \"Egypt\", \"Estonia\", \"Faroe Islands\", \"Finland\", \"France\", \"French Guiana\", \"Georgia\", \"Germany\", \"Gibraltar\", \"Greece\", \"Guyana\", \"Holy See\", \"Honduras\", \"Hong Kong\", \"Hong Kong SAR\", \"Hungary\", \"Iceland\", \"India\", \"Indonesia\", \"Iran\", \"Iran (Islamic Republic of)\", \"Iraq\", \"Ireland\", \"Israel\", \"Italy\", \"Jamaica\", \"Japan\", \"Jordan\", \"Korea, South\", \"Kuwait\", \"Latvia\", \"Lebanon\", \"Liechtenstein\", \"Lithuania\", \"Luxembourg\", \"Macao SAR\", \"Macau\", \"Malaysia\", \"Maldives\", \"Malta\", \"Martinique\", \"Mexico\", \"Moldova\", \"Monaco\", \"Mongolia\", \"Morocco\", \"Nepal\", \"Netherlands\", \"New Zealand\", \"Nigeria\", \"North Ireland\", \"North Macedonia\", \"Norway\", \"Oman\", \"Others\", \"Pakistan\", \"Palestine\", \"Panama\", \"Paraguay\", \"Peru\", \"Philippines\", \"Poland\", \"Portugal\", \"Qatar\", \"Republic of Ireland\", \"Republic of Korea\", \"Republic of Moldova\", \"Reunion\", \"Romania\", \"Russia\", \"Russian Federation\", \"Saint Barthelemy\", \"Saint Martin\", \"San Marino\", \"Saudi Arabia\", \"Senegal\", \"Serbia\", \"Singapore\", \"Slovakia\", \"Slovenia\", \"South Africa\", \"South Korea\", \"Spain\", \"Sri Lanka\", \"St. Martin\", \"Sweden\", \"Switzerland\", \"Taipei and environs\", \"Taiwan\", \"Taiwan*\", \"Thailand\", \"Togo\", \"Tunisia\", \"Turkey\", \"UK\", \"US\", \"Ukraine\", \"United Arab Emirates\", \"United Kingdom\", \"Vatican City\", \"Viet Nam\", \"Vietnam\", \"occupied Palestinian territory\"], \"marker\": {\"color\": \"#636efa\", \"size\": [0.3010299956639812, 0.47712125471966244, 0.0, 1.255272505103306, 0.3010299956639812, 0.9542425094393249, 0.3010299956639812, 1.6020599913279623, 1.9030899869919435, 1.0, 1.9344984512435677, 0.0, 0.8450980400142568, 2.230448921378274, 0.3010299956639812, 0.0, 0.6020599913279624, 1.146128035678238, 0.0, 0.0, 0.0, 0.47712125471966244, 0.3010299956639812, 1.724275869600789, 0.0, 0.6989700043360189, 4.895533039484071, 0.3010299956639812, 0.0, 0.3010299956639812, 0.0, 1.1139433523068367, 0.0, 0.0, 0.0, 1.3010299956639813, 0.0, 1.380211241711606, 0.47712125471966244, 1.146128035678238, 1.2041199826559248, 1.0413926851582251, 0.3010299956639812, 1.2041199826559248, 2.9777236052888476, 0.7781512503836436, 0.6989700043360189, 2.9030899869919438, 0.3010299956639812, 1.6720978579357175, 0.0, 0.0, 0.0, 2.037426497940624, 0.0, 0.6989700043360189, 1.7075701760979363, 1.5440680443502757, 0.6989700043360189, 3.765221366304981, 0.0, 1.7403626894942439, 1.2787536009528289, 1.3424226808222062, 3.7696726640554923, 0.0, 2.6646419755561257, 0.3010299956639812, 0.0, 1.792391689498254, 0.3010299956639812, 1.3617278360175928, 0.3010299956639812, 0.47712125471966244, 0.47712125471966244, 0.0, 1.0413926851582251, 1.9731278535996986, 0.0, 0.6020599913279624, 0.47712125471966244, 0.8450980400142568, 0.0, 0.47712125471966244, 0.0, 0.47712125471966244, 0.47712125471966244, 2.2764618041732443, 0.7781512503836436, 0.47712125471966244, 0.3010299956639812, 0.6020599913279624, 2.1702617153949575, 1.2304489213782739, 2.8432327780980096, 0.8450980400142568, 1.3617278360175928, 0.0, 0.0, 0.3010299956639812, 0.8450980400142568, 0.7781512503836436, 1.3222192947339193, 0.9542425094393249, 0.0, 0.0, 0.0, 0.0, 1.0, 1.146128035678238, 0.0, 0.6020599913279624, 0.0, 1.380211241711606, 0.7781512503836436, 0.6989700043360189, 0.3010299956639812, 2.143014800254095, 0.3010299956639812, 0.9030899869919435, 0.3010299956639812, 3.8476960207341655, 2.699837725867246, 0.47712125471966244, 0.0, 2.2095150145426308, 2.429752280002408, 0.0, 1.662757831681574, 0.0, 1.7075701760979363, 0.3010299956639812, 0.3010299956639812, 0.0, 2.315970345456918, 2.494154594018443, 0.3010299956639812, 1.662757831681574, 0.0, 0.3010299956639812, 0.0, 1.2787536009528289, 0.0], \"sizemode\": \"area\", \"sizeref\": 0.012270166519720165}, \"name\": \"\", \"showlegend\": false, \"type\": \"scattergeo\"}], \"name\": \"2020-03-07 00:00:00\"}, {\"data\": [{\"customdata\": [[1.0], [4.0], [0.0], [19.0], [1.0], [12.0], [1.0], [55.0], [104.0], [9.0], [85.0], [3.0], [6.0], [200.0], [1.0], [0.0], [3.0], [20.0], [0.0], [4.0], [0.0], [2.0], [2.0], [62.0], [0.0], [8.0], [79455.0], [1.0], [0.0], [5.0], [0.0], [12.0], [0.0], [0.0], [0.0], [31.0], [0.0], [35.0], [5.0], [14.0], [49.0], [10.0], [2.0], [23.0], [1126.0], [5.0], [13.0], [1040.0], [1.0], [73.0], [0.0], [0.0], [0.0], [114.0], [0.0], [7.0], [50.0], [39.0], [6.0], [6566.0], [0.0], [60.0], [19.0], [39.0], [7375.0], [0.0], [502.0], [1.0], [0.0], [64.0], [2.0], [32.0], [1.0], [2.0], [3.0], [0.0], [10.0], [99.0], [4.0], [3.0], [2.0], [7.0], [1.0], [2.0], [0.0], [2.0], [2.0], [265.0], [5.0], [2.0], [1.0], [3.0], [176.0], [16.0], [696.0], [6.0], [22.0], [0.0], [1.0], [6.0], [10.0], [11.0], [30.0], [15.0], [21.0], [0.0], [0.0], [0.0], [15.0], [17.0], [0.0], [3.0], [0.0], [36.0], [11.0], [4.0], [1.0], [150.0], [3.0], [16.0], [3.0], [7314.0], [673.0], [2.0], [0.0], [203.0], [337.0], [0.0], [45.0], [0.0], [50.0], [1.0], [2.0], [0.0], [273.0], [387.0], [1.0], [45.0], [0.0], [1.0], [0.0], [30.0], [0.0]], \"geo\": \"geo\", \"hoverlabel\": {\"namelength\": 0}, \"hovertemplate\": \"Date=2020-03-08 00:00:00<br>Log Confirmed=%{marker.size}<br>Confirmed=%{customdata[0]}<br>Country/Region=%{location}\", \"legendgroup\": \"\", \"locationmode\": \"country names\", \"locations\": [\" Azerbaijan\", \"Afghanistan\", \"Albania\", \"Algeria\", \"Andorra\", \"Argentina\", \"Armenia\", \"Australia\", \"Austria\", \"Azerbaijan\", \"Bahrain\", \"Bangladesh\", \"Belarus\", \"Belgium\", \"Bhutan\", \"Bolivia\", \"Bosnia and Herzegovina\", \"Brazil\", \"Brunei\", \"Bulgaria\", \"Burkina Faso\", \"Cambodia\", \"Cameroon\", \"Canada\", \"Channel Islands\", \"Chile\", \"China\", \"Colombia\", \"Congo (Kinshasa)\", \"Costa Rica\", \"Cote d'Ivoire\", \"Croatia\", \"Cruise Ship\", \"Cuba\", \"Cyprus\", \"Czech Republic\", \"Czechia\", \"Denmark\", \"Dominican Republic\", \"Ecuador\", \"Egypt\", \"Estonia\", \"Faroe Islands\", \"Finland\", \"France\", \"French Guiana\", \"Georgia\", \"Germany\", \"Gibraltar\", \"Greece\", \"Guyana\", \"Holy See\", \"Honduras\", \"Hong Kong\", \"Hong Kong SAR\", \"Hungary\", \"Iceland\", \"India\", \"Indonesia\", \"Iran\", \"Iran (Islamic Republic of)\", \"Iraq\", \"Ireland\", \"Israel\", \"Italy\", \"Jamaica\", \"Japan\", \"Jordan\", \"Korea, South\", \"Kuwait\", \"Latvia\", \"Lebanon\", \"Liechtenstein\", \"Lithuania\", \"Luxembourg\", \"Macao SAR\", \"Macau\", \"Malaysia\", \"Maldives\", \"Malta\", \"Martinique\", \"Mexico\", \"Moldova\", \"Monaco\", \"Mongolia\", \"Morocco\", \"Nepal\", \"Netherlands\", \"New Zealand\", \"Nigeria\", \"North Ireland\", \"North Macedonia\", \"Norway\", \"Oman\", \"Others\", \"Pakistan\", \"Palestine\", \"Panama\", \"Paraguay\", \"Peru\", \"Philippines\", \"Poland\", \"Portugal\", \"Qatar\", \"Republic of Ireland\", \"Republic of Korea\", \"Republic of Moldova\", \"Reunion\", \"Romania\", \"Russia\", \"Russian Federation\", \"Saint Barthelemy\", \"Saint Martin\", \"San Marino\", \"Saudi Arabia\", \"Senegal\", \"Serbia\", \"Singapore\", \"Slovakia\", \"Slovenia\", \"South Africa\", \"South Korea\", \"Spain\", \"Sri Lanka\", \"St. Martin\", \"Sweden\", \"Switzerland\", \"Taipei and environs\", \"Taiwan\", \"Taiwan*\", \"Thailand\", \"Togo\", \"Tunisia\", \"Turkey\", \"UK\", \"US\", \"Ukraine\", \"United Arab Emirates\", \"United Kingdom\", \"Vatican City\", \"Viet Nam\", \"Vietnam\", \"occupied Palestinian territory\"], \"marker\": {\"color\": \"#636efa\", \"size\": [0.3010299956639812, 0.6989700043360189, 0.0, 1.3010299956639813, 0.3010299956639812, 1.1139433523068367, 0.3010299956639812, 1.7481880270062005, 2.0211892990699383, 1.0, 1.9344984512435677, 0.6020599913279624, 0.8450980400142568, 2.303196057420489, 0.3010299956639812, 0.0, 0.6020599913279624, 1.3222192947339193, 0.0, 0.6989700043360189, 0.0, 0.47712125471966244, 0.47712125471966244, 1.7993405494535817, 0.0, 0.9542425094393249, 4.90012669787447, 0.3010299956639812, 0.0, 0.7781512503836436, 0.0, 1.1139433523068367, 0.0, 0.0, 0.0, 1.505149978319906, 0.0, 1.5563025007672873, 0.7781512503836436, 1.1760912590556813, 1.6989700043360187, 1.0413926851582251, 0.47712125471966244, 1.380211241711606, 3.0519239160461065, 0.7781512503836436, 1.146128035678238, 3.017450729510536, 0.3010299956639812, 1.8692317197309762, 0.0, 0.0, 0.0, 2.060697840353612, 0.0, 0.9030899869919435, 1.7075701760979363, 1.6020599913279623, 0.8450980400142568, 3.8173670162875943, 0.0, 1.7853298350107671, 1.3010299956639813, 1.6020599913279623, 3.867820908045573, 0.0, 2.7015679850559273, 0.3010299956639812, 0.0, 1.8129133566428555, 0.47712125471966244, 1.5185139398778875, 0.3010299956639812, 0.47712125471966244, 0.6020599913279624, 0.0, 1.0413926851582251, 2.0, 0.6989700043360189, 0.6020599913279624, 0.47712125471966244, 0.9030899869919435, 0.3010299956639812, 0.47712125471966244, 0.0, 0.47712125471966244, 0.47712125471966244, 2.424881636631067, 0.7781512503836436, 0.47712125471966244, 0.3010299956639812, 0.6020599913279624, 2.247973266361807, 1.2304489213782739, 2.8432327780980096, 0.8450980400142568, 1.3617278360175928, 0.0, 0.3010299956639812, 0.8450980400142568, 1.0413926851582251, 1.0791812460476249, 1.4913616938342726, 1.2041199826559248, 1.3424226808222062, 0.0, 0.0, 0.0, 1.2041199826559248, 1.255272505103306, 0.0, 0.6020599913279624, 0.0, 1.568201724066995, 1.0791812460476249, 0.6989700043360189, 0.3010299956639812, 2.1789769472931693, 0.6020599913279624, 1.2304489213782739, 0.6020599913279624, 3.8642143304613294, 2.82865989653532, 0.47712125471966244, 0.0, 2.3096301674258988, 2.5289167002776547, 0.0, 1.662757831681574, 0.0, 1.7075701760979363, 0.3010299956639812, 0.47712125471966244, 0.0, 2.437750562820388, 2.5888317255942073, 0.3010299956639812, 1.662757831681574, 0.0, 0.3010299956639812, 0.0, 1.4913616938342726, 0.0], \"sizemode\": \"area\", \"sizeref\": 0.012270166519720165}, \"name\": \"\", \"showlegend\": false, \"type\": \"scattergeo\"}], \"name\": \"2020-03-08 00:00:00\"}, {\"data\": [{\"customdata\": [[1.0], [4.0], [2.0], [20.0], [1.0], [12.0], [1.0], [67.0], [131.0], [9.0], [95.0], [3.0], [6.0], [239.0], [1.0], [0.0], [3.0], [25.0], [1.0], [4.0], [0.0], [2.0], [2.0], [76.0], [0.0], [8.0], [76902.0], [1.0], [0.0], [9.0], [0.0], [12.0], [0.0], [0.0], [2.0], [31.0], [0.0], [90.0], [5.0], [15.0], [55.0], [10.0], [2.0], [30.0], [1209.0], [5.0], [15.0], [1176.0], [1.0], [73.0], [0.0], [0.0], [0.0], [115.0], [0.0], [9.0], [58.0], [43.0], [19.0], [7161.0], [0.0], [60.0], [21.0], [39.0], [9172.0], [0.0], [511.0], [1.0], [0.0], [64.0], [6.0], [32.0], [1.0], [2.0], [3.0], [0.0], [10.0], [117.0], [4.0], [3.0], [2.0], [7.0], [1.0], [2.0], [0.0], [2.0], [2.0], [321.0], [5.0], [2.0], [1.0], [3.0], [205.0], [16.0], [696.0], [6.0], [22.0], [0.0], [1.0], [7.0], [20.0], [16.0], [30.0], [18.0], [21.0], [0.0], [0.0], [0.0], [15.0], [17.0], [0.0], [1.0], [0.0], [36.0], [15.0], [4.0], [1.0], [150.0], [3.0], [16.0], [3.0], [7478.0], [1073.0], [2.0], [2.0], [248.0], [374.0], [0.0], [45.0], [0.0], [50.0], [1.0], [2.0], [0.0], [321.0], [203.0], [1.0], [45.0], [0.0], [1.0], [0.0], [30.0], [0.0]], \"geo\": \"geo\", \"hoverlabel\": {\"namelength\": 0}, \"hovertemplate\": \"Date=2020-03-09 00:00:00<br>Log Confirmed=%{marker.size}<br>Confirmed=%{customdata[0]}<br>Country/Region=%{location}\", \"legendgroup\": \"\", \"locationmode\": \"country names\", \"locations\": [\" Azerbaijan\", \"Afghanistan\", \"Albania\", \"Algeria\", \"Andorra\", \"Argentina\", \"Armenia\", \"Australia\", \"Austria\", \"Azerbaijan\", \"Bahrain\", \"Bangladesh\", \"Belarus\", \"Belgium\", \"Bhutan\", \"Bolivia\", \"Bosnia and Herzegovina\", \"Brazil\", \"Brunei\", \"Bulgaria\", \"Burkina Faso\", \"Cambodia\", \"Cameroon\", \"Canada\", \"Channel Islands\", \"Chile\", \"China\", \"Colombia\", \"Congo (Kinshasa)\", \"Costa Rica\", \"Cote d'Ivoire\", \"Croatia\", \"Cruise Ship\", \"Cuba\", \"Cyprus\", \"Czech Republic\", \"Czechia\", \"Denmark\", \"Dominican Republic\", \"Ecuador\", \"Egypt\", \"Estonia\", \"Faroe Islands\", \"Finland\", \"France\", \"French Guiana\", \"Georgia\", \"Germany\", \"Gibraltar\", \"Greece\", \"Guyana\", \"Holy See\", \"Honduras\", \"Hong Kong\", \"Hong Kong SAR\", \"Hungary\", \"Iceland\", \"India\", \"Indonesia\", \"Iran\", \"Iran (Islamic Republic of)\", \"Iraq\", \"Ireland\", \"Israel\", \"Italy\", \"Jamaica\", \"Japan\", \"Jordan\", \"Korea, South\", \"Kuwait\", \"Latvia\", \"Lebanon\", \"Liechtenstein\", \"Lithuania\", \"Luxembourg\", \"Macao SAR\", \"Macau\", \"Malaysia\", \"Maldives\", \"Malta\", \"Martinique\", \"Mexico\", \"Moldova\", \"Monaco\", \"Mongolia\", \"Morocco\", \"Nepal\", \"Netherlands\", \"New Zealand\", \"Nigeria\", \"North Ireland\", \"North Macedonia\", \"Norway\", \"Oman\", \"Others\", \"Pakistan\", \"Palestine\", \"Panama\", \"Paraguay\", \"Peru\", \"Philippines\", \"Poland\", \"Portugal\", \"Qatar\", \"Republic of Ireland\", \"Republic of Korea\", \"Republic of Moldova\", \"Reunion\", \"Romania\", \"Russia\", \"Russian Federation\", \"Saint Barthelemy\", \"Saint Martin\", \"San Marino\", \"Saudi Arabia\", \"Senegal\", \"Serbia\", \"Singapore\", \"Slovakia\", \"Slovenia\", \"South Africa\", \"South Korea\", \"Spain\", \"Sri Lanka\", \"St. Martin\", \"Sweden\", \"Switzerland\", \"Taipei and environs\", \"Taiwan\", \"Taiwan*\", \"Thailand\", \"Togo\", \"Tunisia\", \"Turkey\", \"UK\", \"US\", \"Ukraine\", \"United Arab Emirates\", \"United Kingdom\", \"Vatican City\", \"Viet Nam\", \"Vietnam\", \"occupied Palestinian territory\"], \"marker\": {\"color\": \"#636efa\", \"size\": [0.3010299956639812, 0.6989700043360189, 0.47712125471966244, 1.3222192947339193, 0.3010299956639812, 1.1139433523068367, 0.3010299956639812, 1.8325089127062364, 2.12057393120585, 1.0, 1.9822712330395684, 0.6020599913279624, 0.8450980400142568, 2.380211241711606, 0.3010299956639812, 0.0, 0.6020599913279624, 1.414973347970818, 0.3010299956639812, 0.6989700043360189, 0.0, 0.47712125471966244, 0.47712125471966244, 1.8864907251724818, 0.0, 0.9542425094393249, 4.885943282038525, 0.3010299956639812, 0.0, 1.0, 0.0, 1.1139433523068367, 0.0, 0.0, 0.47712125471966244, 1.505149978319906, 0.0, 1.9590413923210936, 0.7781512503836436, 1.2041199826559248, 1.7481880270062005, 1.0413926851582251, 0.47712125471966244, 1.4913616938342726, 3.0827853703164503, 0.7781512503836436, 1.2041199826559248, 3.0707764628434346, 0.3010299956639812, 1.8692317197309762, 0.0, 0.0, 0.0, 2.0644579892269186, 0.0, 1.0, 1.7708520116421442, 1.6434526764861874, 1.3010299956639813, 3.855034316675884, 0.0, 1.7853298350107671, 1.3424226808222062, 1.6020599913279623, 3.962511393507597, 0.0, 2.709269960975831, 0.3010299956639812, 0.0, 1.8129133566428555, 0.8450980400142568, 1.5185139398778875, 0.3010299956639812, 0.47712125471966244, 0.6020599913279624, 0.0, 1.0413926851582251, 2.0718820073061255, 0.6989700043360189, 0.6020599913279624, 0.47712125471966244, 0.9030899869919435, 0.3010299956639812, 0.47712125471966244, 0.0, 0.47712125471966244, 0.47712125471966244, 2.507855871695831, 0.7781512503836436, 0.47712125471966244, 0.3010299956639812, 0.6020599913279624, 2.3138672203691533, 1.2304489213782739, 2.8432327780980096, 0.8450980400142568, 1.3617278360175928, 0.0, 0.3010299956639812, 0.9030899869919435, 1.3222192947339193, 1.2304489213782739, 1.4913616938342726, 1.2787536009528289, 1.3424226808222062, 0.0, 0.0, 0.0, 1.2041199826559248, 1.255272505103306, 0.0, 0.3010299956639812, 0.0, 1.568201724066995, 1.2041199826559248, 0.6989700043360189, 0.3010299956639812, 2.1789769472931693, 0.6020599913279624, 1.2304489213782739, 0.6020599913279624, 3.873843533223436, 3.0310042813635367, 0.47712125471966244, 0.47712125471966244, 2.3961993470957363, 2.574031267727719, 0.0, 1.662757831681574, 0.0, 1.7075701760979363, 0.3010299956639812, 0.47712125471966244, 0.0, 2.507855871695831, 2.3096301674258988, 0.3010299956639812, 1.662757831681574, 0.0, 0.3010299956639812, 0.0, 1.4913616938342726, 0.0], \"sizemode\": \"area\", \"sizeref\": 0.012270166519720165}, \"name\": \"\", \"showlegend\": false, \"type\": \"scattergeo\"}], \"name\": \"2020-03-09 00:00:00\"}, {\"data\": [{\"customdata\": [[1.0], [5.0], [10.0], [20.0], [1.0], [17.0], [1.0], [98.0], [182.0], [11.0], [110.0], [3.0], [9.0], [267.0], [1.0], [0.0], [5.0], [31.0], [1.0], [4.0], [1.0], [2.0], [2.0], [40.0], [1.0], [13.0], [77201.0], [3.0], [0.0], [9.0], [0.0], [14.0], [0.0], [0.0], [3.0], [41.0], [0.0], [262.0], [5.0], [15.0], [59.0], [12.0], [2.0], [40.0], [1784.0], [5.0], [15.0], [1457.0], [1.0], [89.0], [0.0], [1.0], [0.0], [115.0], [120.0], [9.0], [69.0], [56.0], [27.0], [7161.0], [8042.0], [71.0], [34.0], [58.0], [10149.0], [0.0], [581.0], [1.0], [0.0], [69.0], [8.0], [41.0], [1.0], [2.0], [5.0], [10.0], [10.0], [129.0], [6.0], [5.0], [2.0], [7.0], [1.0], [2.0], [1.0], [3.0], [1.0], [382.0], [5.0], [2.0], [1.0], [7.0], [400.0], [18.0], [696.0], [16.0], [22.0], [1.0], [1.0], [11.0], [33.0], [22.0], [41.0], [24.0], [21.0], [7513.0], [3.0], [0.0], [25.0], [17.0], [10.0], [1.0], [2.0], [51.0], [20.0], [4.0], [5.0], [160.0], [7.0], [31.0], [7.0], [7478.0], [1695.0], [1.0], [2.0], [355.0], [491.0], [47.0], [45.0], [0.0], [53.0], [1.0], [5.0], [0.0], [382.0], [959.0], [1.0], [74.0], [0.0], [1.0], [31.0], [30.0], [25.0]], \"geo\": \"geo\", \"hoverlabel\": {\"namelength\": 0}, \"hovertemplate\": \"Date=2020-03-10 00:00:00<br>Log Confirmed=%{marker.size}<br>Confirmed=%{customdata[0]}<br>Country/Region=%{location}\", \"legendgroup\": \"\", \"locationmode\": \"country names\", \"locations\": [\" Azerbaijan\", \"Afghanistan\", \"Albania\", \"Algeria\", \"Andorra\", \"Argentina\", \"Armenia\", \"Australia\", \"Austria\", \"Azerbaijan\", \"Bahrain\", \"Bangladesh\", \"Belarus\", \"Belgium\", \"Bhutan\", \"Bolivia\", \"Bosnia and Herzegovina\", \"Brazil\", \"Brunei\", \"Bulgaria\", \"Burkina Faso\", \"Cambodia\", \"Cameroon\", \"Canada\", \"Channel Islands\", \"Chile\", \"China\", \"Colombia\", \"Congo (Kinshasa)\", \"Costa Rica\", \"Cote d'Ivoire\", \"Croatia\", \"Cruise Ship\", \"Cuba\", \"Cyprus\", \"Czech Republic\", \"Czechia\", \"Denmark\", \"Dominican Republic\", \"Ecuador\", \"Egypt\", \"Estonia\", \"Faroe Islands\", \"Finland\", \"France\", \"French Guiana\", \"Georgia\", \"Germany\", \"Gibraltar\", \"Greece\", \"Guyana\", \"Holy See\", \"Honduras\", \"Hong Kong\", \"Hong Kong SAR\", \"Hungary\", \"Iceland\", \"India\", \"Indonesia\", \"Iran\", \"Iran (Islamic Republic of)\", \"Iraq\", \"Ireland\", \"Israel\", \"Italy\", \"Jamaica\", \"Japan\", \"Jordan\", \"Korea, South\", \"Kuwait\", \"Latvia\", \"Lebanon\", \"Liechtenstein\", \"Lithuania\", \"Luxembourg\", \"Macao SAR\", \"Macau\", \"Malaysia\", \"Maldives\", \"Malta\", \"Martinique\", \"Mexico\", \"Moldova\", \"Monaco\", \"Mongolia\", \"Morocco\", \"Nepal\", \"Netherlands\", \"New Zealand\", \"Nigeria\", \"North Ireland\", \"North Macedonia\", \"Norway\", \"Oman\", \"Others\", \"Pakistan\", \"Palestine\", \"Panama\", \"Paraguay\", \"Peru\", \"Philippines\", \"Poland\", \"Portugal\", \"Qatar\", \"Republic of Ireland\", \"Republic of Korea\", \"Republic of Moldova\", \"Reunion\", \"Romania\", \"Russia\", \"Russian Federation\", \"Saint Barthelemy\", \"Saint Martin\", \"San Marino\", \"Saudi Arabia\", \"Senegal\", \"Serbia\", \"Singapore\", \"Slovakia\", \"Slovenia\", \"South Africa\", \"South Korea\", \"Spain\", \"Sri Lanka\", \"St. Martin\", \"Sweden\", \"Switzerland\", \"Taipei and environs\", \"Taiwan\", \"Taiwan*\", \"Thailand\", \"Togo\", \"Tunisia\", \"Turkey\", \"UK\", \"US\", \"Ukraine\", \"United Arab Emirates\", \"United Kingdom\", \"Vatican City\", \"Viet Nam\", \"Vietnam\", \"occupied Palestinian territory\"], \"marker\": {\"color\": \"#636efa\", \"size\": [0.3010299956639812, 0.7781512503836436, 1.0413926851582251, 1.3222192947339193, 0.3010299956639812, 1.255272505103306, 0.3010299956639812, 1.99563519459755, 2.2624510897304293, 1.0791812460476249, 2.0453229787866576, 0.6020599913279624, 1.0, 2.428134794028789, 0.3010299956639812, 0.0, 0.7781512503836436, 1.505149978319906, 0.3010299956639812, 0.6989700043360189, 0.3010299956639812, 0.47712125471966244, 0.47712125471966244, 1.6127838567197355, 0.3010299956639812, 1.146128035678238, 4.887628551342379, 0.6020599913279624, 0.0, 1.0, 0.0, 1.1760912590556813, 0.0, 0.0, 0.6020599913279624, 1.6232492903979006, 0.0, 2.419955748489758, 0.7781512503836436, 1.2041199826559248, 1.7781512503836436, 1.1139433523068367, 0.47712125471966244, 1.6127838567197355, 3.251638220448212, 0.7781512503836436, 1.2041199826559248, 3.163757523981956, 0.3010299956639812, 1.954242509439325, 0.0, 0.3010299956639812, 0.0, 2.0644579892269186, 2.0827853703164503, 1.0, 1.845098040014257, 1.7558748556724915, 1.4471580313422192, 3.855034316675884, 3.905418068702542, 1.8573324964312685, 1.5440680443502757, 1.7708520116421442, 4.006466042249231, 0.0, 2.7649229846498886, 0.3010299956639812, 0.0, 1.845098040014257, 0.9542425094393249, 1.6232492903979006, 0.3010299956639812, 0.47712125471966244, 0.7781512503836436, 1.0413926851582251, 1.0413926851582251, 2.113943352306837, 0.8450980400142568, 0.7781512503836436, 0.47712125471966244, 0.9030899869919435, 0.3010299956639812, 0.47712125471966244, 0.3010299956639812, 0.6020599913279624, 0.3010299956639812, 2.583198773968623, 0.7781512503836436, 0.47712125471966244, 0.3010299956639812, 0.9030899869919435, 2.603144372620182, 1.2787536009528289, 2.8432327780980096, 1.2304489213782739, 1.3617278360175928, 0.3010299956639812, 0.3010299956639812, 1.0791812460476249, 1.5314789170422551, 1.3617278360175928, 1.6232492903979006, 1.3979400086720377, 1.3424226808222062, 3.875871190727366, 0.6020599913279624, 0.0, 1.414973347970818, 1.255272505103306, 1.0413926851582251, 0.3010299956639812, 0.47712125471966244, 1.7160033436347992, 1.3222192947339193, 0.6989700043360189, 0.7781512503836436, 2.2068258760318495, 0.9030899869919435, 1.505149978319906, 0.9030899869919435, 3.873843533223436, 3.229425847920695, 0.3010299956639812, 0.47712125471966244, 2.5514499979728753, 2.69196510276736, 1.6812412373755872, 1.662757831681574, 0.0, 1.7323937598229686, 0.3010299956639812, 0.7781512503836436, 0.0, 2.583198773968623, 2.9822712330395684, 0.3010299956639812, 1.8750612633917, 0.0, 0.3010299956639812, 1.505149978319906, 1.4913616938342726, 1.414973347970818], \"sizemode\": \"area\", \"sizeref\": 0.012270166519720165}, \"name\": \"\", \"showlegend\": false, \"type\": \"scattergeo\"}], \"name\": \"2020-03-10 00:00:00\"}, {\"data\": [{\"customdata\": [[1.0], [7.0], [12.0], [20.0], [1.0], [19.0], [1.0], [127.0], [246.0], [11.0], [195.0], [3.0], [9.0], [314.0], [1.0], [2.0], [7.0], [38.0], [11.0], [7.0], [2.0], [3.0], [2.0], [108.0], [1.0], [23.0], [80921.0], [9.0], [1.0], [13.0], [1.0], [19.0], [696.0], [0.0], [6.0], [41.0], [91.0], [444.0], [5.0], [17.0], [60.0], [16.0], [2.0], [59.0], [2284.0], [5.0], [24.0], [1908.0], [1.0], [99.0], [0.0], [1.0], [2.0], [115.0], [120.0], [13.0], [85.0], [62.0], [34.0], [9000.0], [8042.0], [71.0], [43.0], [109.0], [12462.0], [1.0], [639.0], [1.0], [7755.0], [72.0], [10.0], [61.0], [1.0], [3.0], [7.0], [10.0], [10.0], [149.0], [8.0], [6.0], [3.0], [8.0], [3.0], [2.0], [1.0], [5.0], [1.0], [503.0], [5.0], [2.0], [1.0], [7.0], [598.0], [18.0], [696.0], [19.0], [22.0], [8.0], [5.0], [11.0], [49.0], [31.0], [59.0], [262.0], [21.0], [7513.0], [3.0], [1.0], [45.0], [20.0], [10.0], [1.0], [2.0], [62.0], [21.0], [4.0], [12.0], [178.0], [10.0], [57.0], [13.0], [7478.0], [2277.0], [2.0], [2.0], [500.0], [652.0], [47.0], [45.0], [48.0], [59.0], [1.0], [7.0], [1.0], [382.0], [1200.0], [1.0], [74.0], [459.0], [1.0], [31.0], [38.0], [0.0]], \"geo\": \"geo\", \"hoverlabel\": {\"namelength\": 0}, \"hovertemplate\": \"Date=2020-03-11 00:00:00<br>Log Confirmed=%{marker.size}<br>Confirmed=%{customdata[0]}<br>Country/Region=%{location}\", \"legendgroup\": \"\", \"locationmode\": \"country names\", \"locations\": [\" Azerbaijan\", \"Afghanistan\", \"Albania\", \"Algeria\", \"Andorra\", \"Argentina\", \"Armenia\", \"Australia\", \"Austria\", \"Azerbaijan\", \"Bahrain\", \"Bangladesh\", \"Belarus\", \"Belgium\", \"Bhutan\", \"Bolivia\", \"Bosnia and Herzegovina\", \"Brazil\", \"Brunei\", \"Bulgaria\", \"Burkina Faso\", \"Cambodia\", \"Cameroon\", \"Canada\", \"Channel Islands\", \"Chile\", \"China\", \"Colombia\", \"Congo (Kinshasa)\", \"Costa Rica\", \"Cote d'Ivoire\", \"Croatia\", \"Cruise Ship\", \"Cuba\", \"Cyprus\", \"Czech Republic\", \"Czechia\", \"Denmark\", \"Dominican Republic\", \"Ecuador\", \"Egypt\", \"Estonia\", \"Faroe Islands\", \"Finland\", \"France\", \"French Guiana\", \"Georgia\", \"Germany\", \"Gibraltar\", \"Greece\", \"Guyana\", \"Holy See\", \"Honduras\", \"Hong Kong\", \"Hong Kong SAR\", \"Hungary\", \"Iceland\", \"India\", \"Indonesia\", \"Iran\", \"Iran (Islamic Republic of)\", \"Iraq\", \"Ireland\", \"Israel\", \"Italy\", \"Jamaica\", \"Japan\", \"Jordan\", \"Korea, South\", \"Kuwait\", \"Latvia\", \"Lebanon\", \"Liechtenstein\", \"Lithuania\", \"Luxembourg\", \"Macao SAR\", \"Macau\", \"Malaysia\", \"Maldives\", \"Malta\", \"Martinique\", \"Mexico\", \"Moldova\", \"Monaco\", \"Mongolia\", \"Morocco\", \"Nepal\", \"Netherlands\", \"New Zealand\", \"Nigeria\", \"North Ireland\", \"North Macedonia\", \"Norway\", \"Oman\", \"Others\", \"Pakistan\", \"Palestine\", \"Panama\", \"Paraguay\", \"Peru\", \"Philippines\", \"Poland\", \"Portugal\", \"Qatar\", \"Republic of Ireland\", \"Republic of Korea\", \"Republic of Moldova\", \"Reunion\", \"Romania\", \"Russia\", \"Russian Federation\", \"Saint Barthelemy\", \"Saint Martin\", \"San Marino\", \"Saudi Arabia\", \"Senegal\", \"Serbia\", \"Singapore\", \"Slovakia\", \"Slovenia\", \"South Africa\", \"South Korea\", \"Spain\", \"Sri Lanka\", \"St. Martin\", \"Sweden\", \"Switzerland\", \"Taipei and environs\", \"Taiwan\", \"Taiwan*\", \"Thailand\", \"Togo\", \"Tunisia\", \"Turkey\", \"UK\", \"US\", \"Ukraine\", \"United Arab Emirates\", \"United Kingdom\", \"Vatican City\", \"Viet Nam\", \"Vietnam\", \"occupied Palestinian territory\"], \"marker\": {\"color\": \"#636efa\", \"size\": [0.3010299956639812, 0.9030899869919435, 1.1139433523068367, 1.3222192947339193, 0.3010299956639812, 1.3010299956639813, 0.3010299956639812, 2.1072099696478683, 2.392696953259666, 1.0791812460476249, 2.292256071356476, 0.6020599913279624, 1.0, 2.4983105537896004, 0.3010299956639812, 0.47712125471966244, 0.9030899869919435, 1.591064607026499, 1.0791812460476249, 0.9030899869919435, 0.47712125471966244, 0.6020599913279624, 0.47712125471966244, 2.037426497940624, 0.3010299956639812, 1.380211241711606, 4.908066607888066, 1.0, 0.3010299956639812, 1.146128035678238, 0.3010299956639812, 1.3010299956639813, 2.8432327780980096, 0.0, 0.8450980400142568, 1.6232492903979006, 1.9637878273455553, 2.6483600109809315, 0.7781512503836436, 1.255272505103306, 1.7853298350107671, 1.2304489213782739, 0.47712125471966244, 1.7781512503836436, 3.358886204405869, 0.7781512503836436, 1.3979400086720377, 3.280805928393667, 0.3010299956639812, 2.0, 0.0, 0.3010299956639812, 0.47712125471966244, 2.0644579892269186, 2.0827853703164503, 1.146128035678238, 1.9344984512435677, 1.7993405494535817, 1.5440680443502757, 3.954290761701127, 3.905418068702542, 1.8573324964312685, 1.6434526764861874, 2.041392685158225, 4.095622595021622, 0.3010299956639812, 2.806179973983887, 0.3010299956639812, 3.8896378004066676, 1.863322860120456, 1.0413926851582251, 1.792391689498254, 0.3010299956639812, 0.6020599913279624, 0.9030899869919435, 1.0413926851582251, 1.0413926851582251, 2.1760912590556813, 0.9542425094393249, 0.8450980400142568, 0.6020599913279624, 0.9542425094393249, 0.6020599913279624, 0.47712125471966244, 0.3010299956639812, 0.7781512503836436, 0.3010299956639812, 2.7024305364455254, 0.7781512503836436, 0.47712125471966244, 0.3010299956639812, 0.9030899869919435, 2.7774268223893115, 1.2787536009528289, 2.8432327780980096, 1.3010299956639813, 1.3617278360175928, 0.9542425094393249, 0.7781512503836436, 1.0791812460476249, 1.6989700043360187, 1.505149978319906, 1.7781512503836436, 2.419955748489758, 1.3424226808222062, 3.875871190727366, 0.6020599913279624, 0.3010299956639812, 1.662757831681574, 1.3222192947339193, 1.0413926851582251, 0.3010299956639812, 0.47712125471966244, 1.7993405494535817, 1.3424226808222062, 0.6989700043360189, 1.1139433523068367, 2.2528530309798933, 1.0413926851582251, 1.7634279935629373, 1.146128035678238, 3.873843533223436, 3.3575537197430814, 0.47712125471966244, 0.47712125471966244, 2.699837725867246, 2.814913181275074, 1.6812412373755872, 1.662757831681574, 1.6901960800285136, 1.7781512503836436, 0.3010299956639812, 0.9030899869919435, 0.3010299956639812, 2.583198773968623, 3.079543007402906, 0.3010299956639812, 1.8750612633917, 2.662757831681574, 0.3010299956639812, 1.505149978319906, 1.591064607026499, 0.0], \"sizemode\": \"area\", \"sizeref\": 0.012270166519720165}, \"name\": \"\", \"showlegend\": false, \"type\": \"scattergeo\"}], \"name\": \"2020-03-11 00:00:00\"}, {\"data\": [{\"customdata\": [[1.0], [7.0], [23.0], [24.0], [1.0], [19.0], [4.0], [127.0], [302.0], [11.0], [195.0], [3.0], [12.0], [314.0], [1.0], [2.0], [11.0], [52.0], [11.0], [7.0], [2.0], [3.0], [2.0], [97.0], [1.0], [23.0], [77817.0], [9.0], [1.0], [22.0], [1.0], [19.0], [696.0], [3.0], [6.0], [41.0], [94.0], [615.0], [5.0], [17.0], [67.0], [16.0], [2.0], [59.0], [2284.0], [5.0], [24.0], [2078.0], [1.0], [99.0], [1.0], [1.0], [2.0], [115.0], [120.0], [13.0], [103.0], [73.0], [34.0], [10075.0], [8042.0], [71.0], [43.0], [131.0], [12462.0], [2.0], [639.0], [1.0], [7869.0], [80.0], [10.0], [61.0], [1.0], [3.0], [19.0], [10.0], [10.0], [149.0], [8.0], [6.0], [3.0], [12.0], [3.0], [2.0], [1.0], [6.0], [1.0], [503.0], [5.0], [2.0], [1.0], [7.0], [702.0], [18.0], [696.0], [20.0], [22.0], [11.0], [5.0], [15.0], [52.0], [49.0], [59.0], [262.0], [21.0], [7513.0], [3.0], [1.0], [49.0], [28.0], [10.0], [1.0], [2.0], [69.0], [45.0], [4.0], [19.0], [178.0], [16.0], [89.0], [17.0], [7478.0], [2277.0], [2.0], [2.0], [599.0], [652.0], [47.0], [45.0], [49.0], [70.0], [1.0], [7.0], [1.0], [382.0], [1554.0], [1.0], [85.0], [459.0], [1.0], [31.0], [39.0], [0.0]], \"geo\": \"geo\", \"hoverlabel\": {\"namelength\": 0}, \"hovertemplate\": \"Date=2020-03-12 00:00:00<br>Log Confirmed=%{marker.size}<br>Confirmed=%{customdata[0]}<br>Country/Region=%{location}\", \"legendgroup\": \"\", \"locationmode\": \"country names\", \"locations\": [\" Azerbaijan\", \"Afghanistan\", \"Albania\", \"Algeria\", \"Andorra\", \"Argentina\", \"Armenia\", \"Australia\", \"Austria\", \"Azerbaijan\", \"Bahrain\", \"Bangladesh\", \"Belarus\", \"Belgium\", \"Bhutan\", \"Bolivia\", \"Bosnia and Herzegovina\", \"Brazil\", \"Brunei\", \"Bulgaria\", \"Burkina Faso\", \"Cambodia\", \"Cameroon\", \"Canada\", \"Channel Islands\", \"Chile\", \"China\", \"Colombia\", \"Congo (Kinshasa)\", \"Costa Rica\", \"Cote d'Ivoire\", \"Croatia\", \"Cruise Ship\", \"Cuba\", \"Cyprus\", \"Czech Republic\", \"Czechia\", \"Denmark\", \"Dominican Republic\", \"Ecuador\", \"Egypt\", \"Estonia\", \"Faroe Islands\", \"Finland\", \"France\", \"French Guiana\", \"Georgia\", \"Germany\", \"Gibraltar\", \"Greece\", \"Guyana\", \"Holy See\", \"Honduras\", \"Hong Kong\", \"Hong Kong SAR\", \"Hungary\", \"Iceland\", \"India\", \"Indonesia\", \"Iran\", \"Iran (Islamic Republic of)\", \"Iraq\", \"Ireland\", \"Israel\", \"Italy\", \"Jamaica\", \"Japan\", \"Jordan\", \"Korea, South\", \"Kuwait\", \"Latvia\", \"Lebanon\", \"Liechtenstein\", \"Lithuania\", \"Luxembourg\", \"Macao SAR\", \"Macau\", \"Malaysia\", \"Maldives\", \"Malta\", \"Martinique\", \"Mexico\", \"Moldova\", \"Monaco\", \"Mongolia\", \"Morocco\", \"Nepal\", \"Netherlands\", \"New Zealand\", \"Nigeria\", \"North Ireland\", \"North Macedonia\", \"Norway\", \"Oman\", \"Others\", \"Pakistan\", \"Palestine\", \"Panama\", \"Paraguay\", \"Peru\", \"Philippines\", \"Poland\", \"Portugal\", \"Qatar\", \"Republic of Ireland\", \"Republic of Korea\", \"Republic of Moldova\", \"Reunion\", \"Romania\", \"Russia\", \"Russian Federation\", \"Saint Barthelemy\", \"Saint Martin\", \"San Marino\", \"Saudi Arabia\", \"Senegal\", \"Serbia\", \"Singapore\", \"Slovakia\", \"Slovenia\", \"South Africa\", \"South Korea\", \"Spain\", \"Sri Lanka\", \"St. Martin\", \"Sweden\", \"Switzerland\", \"Taipei and environs\", \"Taiwan\", \"Taiwan*\", \"Thailand\", \"Togo\", \"Tunisia\", \"Turkey\", \"UK\", \"US\", \"Ukraine\", \"United Arab Emirates\", \"United Kingdom\", \"Vatican City\", \"Viet Nam\", \"Vietnam\", \"occupied Palestinian territory\"], \"marker\": {\"color\": \"#636efa\", \"size\": [0.3010299956639812, 0.9030899869919435, 1.380211241711606, 1.3979400086720377, 0.3010299956639812, 1.3010299956639813, 0.6989700043360189, 2.1072099696478683, 2.481442628502305, 1.0791812460476249, 2.292256071356476, 0.6020599913279624, 1.1139433523068367, 2.4983105537896004, 0.3010299956639812, 0.47712125471966244, 1.0791812460476249, 1.724275869600789, 1.0791812460476249, 0.9030899869919435, 0.47712125471966244, 0.6020599913279624, 0.47712125471966244, 1.9912260756924949, 0.3010299956639812, 1.380211241711606, 4.8910800648110095, 1.0, 0.3010299956639812, 1.3617278360175928, 0.3010299956639812, 1.3010299956639813, 2.8432327780980096, 0.6020599913279624, 0.8450980400142568, 1.6232492903979006, 1.9777236052888478, 2.7895807121644256, 0.7781512503836436, 1.255272505103306, 1.8325089127062364, 1.2304489213782739, 0.47712125471966244, 1.7781512503836436, 3.358886204405869, 0.7781512503836436, 1.3979400086720377, 3.317854489331469, 0.3010299956639812, 2.0, 0.3010299956639812, 0.3010299956639812, 0.47712125471966244, 2.0644579892269186, 2.0827853703164503, 1.146128035678238, 2.0170333392987803, 1.8692317197309762, 1.5440680443502757, 4.003288158826075, 3.905418068702542, 1.8573324964312685, 1.6434526764861874, 2.12057393120585, 4.095622595021622, 0.47712125471966244, 2.806179973983887, 0.3010299956639812, 3.8959747323590648, 1.9084850188786497, 1.0413926851582251, 1.792391689498254, 0.3010299956639812, 0.6020599913279624, 1.3010299956639813, 1.0413926851582251, 1.0413926851582251, 2.1760912590556813, 0.9542425094393249, 0.8450980400142568, 0.6020599913279624, 1.1139433523068367, 0.6020599913279624, 0.47712125471966244, 0.3010299956639812, 0.8450980400142568, 0.3010299956639812, 2.7024305364455254, 0.7781512503836436, 0.47712125471966244, 0.3010299956639812, 0.9030899869919435, 2.846955325019824, 1.2787536009528289, 2.8432327780980096, 1.3222192947339193, 1.3617278360175928, 1.0791812460476249, 0.7781512503836436, 1.2041199826559248, 1.724275869600789, 1.6989700043360187, 1.7781512503836436, 2.419955748489758, 1.3424226808222062, 3.875871190727366, 0.6020599913279624, 0.3010299956639812, 1.6989700043360187, 1.462397997898956, 1.0413926851582251, 0.3010299956639812, 0.47712125471966244, 1.845098040014257, 1.662757831681574, 0.6989700043360189, 1.3010299956639813, 2.2528530309798933, 1.2304489213782739, 1.954242509439325, 1.255272505103306, 3.873843533223436, 3.3575537197430814, 0.47712125471966244, 0.47712125471966244, 2.7781512503836434, 2.814913181275074, 1.6812412373755872, 1.662757831681574, 1.6989700043360187, 1.8512583487190752, 0.3010299956639812, 0.9030899869919435, 0.3010299956639812, 2.583198773968623, 3.1917303933628562, 0.3010299956639812, 1.9344984512435677, 2.662757831681574, 0.3010299956639812, 1.505149978319906, 1.6020599913279623, 0.0], \"sizemode\": \"area\", \"sizeref\": 0.012270166519720165}, \"name\": \"\", \"showlegend\": false, \"type\": \"scattergeo\"}], \"name\": \"2020-03-12 00:00:00\"}]);\n",
       "                        }).then(function(){\n",
       "                            \n",
       "var gd = document.getElementById('6a595c18-e081-4994-89df-7b724e40538c');\n",
       "var x = new MutationObserver(function (mutations, observer) {{\n",
       "        var display = window.getComputedStyle(gd).display;\n",
       "        if (!display || display === 'none') {{\n",
       "            console.log([gd, 'removed!']);\n",
       "            Plotly.purge(gd);\n",
       "            observer.disconnect();\n",
       "        }}\n",
       "}});\n",
       "\n",
       "// Listen for the removal of the full notebook cells\n",
       "var notebookContainer = gd.closest('#notebook-container');\n",
       "if (notebookContainer) {{\n",
       "    x.observe(notebookContainer, {childList: true});\n",
       "}}\n",
       "\n",
       "// Listen for the clearing of the current output cell\n",
       "var outputEl = gd.closest('.output');\n",
       "if (outputEl) {{\n",
       "    x.observe(outputEl, {childList: true});\n",
       "}}\n",
       "\n",
       "                        })\n",
       "                };\n",
       "                });\n",
       "            </script>\n",
       "        </div>"
      ]
     },
     "metadata": {},
     "output_type": "display_data"
    }
   ],
   "source": [
    "fig = px.scatter_geo(grouped_df, locations='Country/Region', locationmode='country names',\n",
    "                     hover_data=['Confirmed'], size='Log Confirmed', animation_frame='Date')\n",
    "fig.show()"
   ]

  }
 ],
 "metadata": {
  "kernelspec": {
   "display_name": "Python 3",
   "language": "python",
   "name": "python3"
  },
  "language_info": {
   "codemirror_mode": {
    "name": "ipython",
    "version": 3
   },
   "file_extension": ".py",
   "mimetype": "text/x-python",
   "name": "python",
   "nbconvert_exporter": "python",
   "pygments_lexer": "ipython3",
   "version": "3.7.5"
  }
 },
 "nbformat": 4,
 "nbformat_minor": 2
}
