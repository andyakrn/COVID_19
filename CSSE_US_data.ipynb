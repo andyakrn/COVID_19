{
 "cells": [
  {
   "cell_type": "markdown",
   "metadata": {},
   "source": [
    "<h2><center>\n",
    "    Loading In Data\n",
    "    </center></h2>"
   ]
  },
  {
   "cell_type": "code",
   "execution_count": 21,
   "metadata": {},
   "outputs": [],
   "source": [
    "from github import Github\n",
    "import os\n",
    "import pickle\n",
    "import base64\n",
    "import pandas as pd\n",
    "import datetime as dt\n",
    "from os import listdir\n",
    "from os.path import isfile, join\n",
    "import numpy as np\n",
    "mypath = 'data_csse/'"
   ]
  },
  {
   "cell_type": "code",
   "execution_count": 22,
   "metadata": {},
   "outputs": [],
   "source": [
    "with open(\"data/github.txt\") as myfile:\n",
    "    firstNlines=myfile.readlines()[0:2]\n",
    "myfile.close()\n",
    "g = Github(firstNlines[0].strip(), firstNlines[1])\n",
    "repo=g.get_repo('CSSEGISandData/COVID-19')\n",
    "contents = repo.get_contents(\"\")"
   ]
  },
  {
   "cell_type": "code",
   "execution_count": 23,
   "metadata": {},
   "outputs": [],
   "source": [
    "def get_sha_for_tag(repository, tag):\n",
    "    branches = repository.get_branches()\n",
    "    matched_branches = [match for match in branches if match.name == tag]\n",
    "    if matched_branches:\n",
    "        return matched_branches[0].commit.sha\n",
    "\n",
    "    tags = repository.get_tags()\n",
    "    matched_tags = [match for match in tags if match.name == tag]\n",
    "    if not matched_tags:\n",
    "        raise ValueError('No Tag or Branch exists with that name')\n",
    "    return matched_tags[0].commit.sha"
   ]
  },
  {
   "cell_type": "code",
   "execution_count": 24,
   "metadata": {},
   "outputs": [],
   "source": [
    "def download_directory(repository, sha, server_path, local_path=mypath):\n",
    "    contents = repository.get_contents(server_path, ref=sha)\n",
    "    if not os.path.exists(local_path):\n",
    "        os.makedirs(local_path)\n",
    "    for content in contents:\n",
    "        if content.type == 'dir':\n",
    "            download_directory(repository, sha, content.path)\n",
    "        else:\n",
    "            try:\n",
    "                path = content.path\n",
    "                file_content = repository.get_contents(path, ref=sha)\n",
    "                file_data = base64.b64decode(file_content.content).decode('ascii')\n",
    "                file_out = open(local_path+content.name, \"w\")\n",
    "                file_out.write(local_path+file_data)\n",
    "                file_out.close()\n",
    "            except:\n",
    "                pass"
   ]
  },
  {
   "cell_type": "code",
   "execution_count": 25,
   "metadata": {},
   "outputs": [],
   "source": [
    "def is_non_zero_file(fpath):\n",
    "    return os.path.isfile(fpath) and os.path.getsize(fpath) > 0"
   ]
  },
  {
   "cell_type": "code",
   "execution_count": 26,
   "metadata": {},
   "outputs": [],
   "source": [
    "df_states_codes = pd.read_csv('https://raw.githubusercontent.com/jasonong/List-of-US-States/master/states.csv')\n",
    "df_states_codes=df_states_codes.rename(columns={'Abbreviation':'State_code'})\n",
    "df_states_codes=df_states_codes.set_index('State')\n",
    "state_dict= df_states_codes.to_dict()['State_code']"
   ]
  },
  {
   "cell_type": "code",
   "execution_count": 27,
   "metadata": {},
   "outputs": [],
   "source": [
    "def preprocess_df(df1, name):\n",
    "    df=df1.copy()\n",
    "    df=df.loc[df['iso2']=='US']\n",
    "    columns_drop= ['data_csse/UID','iso2', 'iso3', 'code3', 'FIPS', 'Admin2',\n",
    "                   'Country_Region', 'Lat', 'Long_', 'Combined_Key']\n",
    "    df.drop(columns=columns_drop, inplace=True)\n",
    "    if 'Population' in set(df.columns):\n",
    "        df.drop(columns='Population', inplace=True)\n",
    "    df = df.groupby(['Province_State']).agg('sum')\n",
    "    df = df.transpose().reset_index()\n",
    "    country_list = list(df.columns)[1:]\n",
    "    df = pd.melt(df, id_vars='index', value_vars=country_list)\n",
    "    df = df.rename(columns={'index':'Date', 'value':name, 'Province_State':'State'})\n",
    "    df['State_code']=df['State'].map(state_dict)\n",
    "    return df"
   ]
  },
  {
   "cell_type": "code",
   "execution_count": 28,
   "metadata": {},
   "outputs": [],
   "source": [
    "sha = get_sha_for_tag(repo, 'master')\n",
    "download_directory(repo, sha, 'csse_covid_19_data/csse_covid_19_time_series/')"
   ]
  },
  {
   "cell_type": "code",
   "execution_count": null,
   "metadata": {},
   "outputs": [],
   "source": []
  },
  {
   "cell_type": "code",
   "execution_count": 29,
   "metadata": {},
   "outputs": [],
   "source": [
    "confirmed_df_raw = pd.read_csv('data_csse/time_series_covid19_confirmed_US.csv')\n",
    "deaths_df_raw = pd.read_csv('data_csse/time_series_covid19_deaths_US.csv')\n",
    "#recovered_df = pd.read_csv('data_csse/time_series_covid19_recovered_global.csv')"
   ]
  },
  {
   "cell_type": "code",
   "execution_count": null,
   "metadata": {},
   "outputs": [],
   "source": []
  },
  {
   "cell_type": "code",
   "execution_count": 30,
   "metadata": {},
   "outputs": [],
   "source": [
    "confirmed_df = preprocess_df(confirmed_df_raw, 'Confirmed')\n",
    "deaths_df = preprocess_df(deaths_df_raw, 'Deaths')\n",
    "#recovered_df = preprocess_df(recovered_df, 'Recovered')"
   ]
  },
  {
   "cell_type": "markdown",
   "metadata": {},
   "source": [
    "<h2><center>\n",
    "    Preprocessing Data\n",
    "    </center></h2>"
   ]
  },
  {
   "cell_type": "code",
   "execution_count": 31,
   "metadata": {
    "scrolled": true
   },
   "outputs": [],
   "source": [
    "grouped_df = pd.merge(confirmed_df, deaths_df, how='inner', on=['Date', 'State', 'State_code'])\n",
    "#grouped_df = pd.merge(confirmed_and_deaths, recovered_df, how='inner', on=['Date', 'Country/Region'])\n",
    "#grouped_df['Active'] = grouped_df['Confirmed']-grouped_df['Deaths']-grouped_df['Recovered']\n",
    "grouped_df['Datetime'] = grouped_df['Date'].apply(lambda x: pd.to_datetime(x))"
   ]
  },
  {
   "cell_type": "code",
   "execution_count": 32,
   "metadata": {},
   "outputs": [],
   "source": [
    "grouped_df['New_Weekly_Cases'] = np.where(grouped_df['State']==grouped_df['State'].shift(7),\n",
    "                                          grouped_df['Confirmed']-grouped_df['Confirmed'].shift(7),grouped_df['Confirmed'])"
   ]
  },
  {
   "cell_type": "markdown",
   "metadata": {},
   "source": [
    "# Testing data\n"
   ]
  },
  {
   "cell_type": "code",
   "execution_count": 33,
   "metadata": {},
   "outputs": [],
   "source": [
    "test_df = pd.read_csv('https://covidtracking.com/api/states/daily.csv')\n",
    "test_df['date'] = test_df['date'].apply(lambda x: pd.to_datetime(str(x), format='%Y%m%d'))"
   ]
  },
  {
   "cell_type": "code",
   "execution_count": 34,
   "metadata": {},
   "outputs": [],
   "source": [
    "col_select = ['date', 'state','totalTestResults']\n",
    "df_tst_daily = test_df[col_select]"
   ]
  },
  {
   "cell_type": "code",
   "execution_count": 35,
   "metadata": {},
   "outputs": [],
   "source": [
    "grouped_df=grouped_df.merge(df_tst_daily,how='inner', left_on=['Datetime', 'State_code'], right_on=['date','state'])[['Date','Datetime',\n",
    "                                                                                                           'State','State_code',\n",
    "                                                                                                          'Confirmed','Deaths',\n",
    "                                                                                                           'New_Weekly_Cases',\n",
    "                                                                                                           'totalTestResults']]"
   ]
  },
  {
   "cell_type": "markdown",
   "metadata": {},
   "source": [
    "<h2><center>\n",
    "    Export Dataframe\n",
    "    </center></h2>"
   ]
  },
  {
   "cell_type": "code",
   "execution_count": null,
   "metadata": {},
   "outputs": [],
   "source": []
  },
  {
   "cell_type": "code",
   "execution_count": 36,
   "metadata": {},
   "outputs": [],
   "source": [
    "with open('Data/CSSE_US_df.pickle', 'wb') as pickle_out:\n",
    "    pickle.dump(grouped_df, pickle_out)"
   ]
  },
  {
   "cell_type": "code",
   "execution_count": 38,
   "metadata": {},
   "outputs": [
    {
     "ename": "FileNotFoundError",
     "evalue": "[Errno 2] No such file or directory: '../covid19app/CSSE_US_df.pickle'",
     "output_type": "error",
     "traceback": [
      "\u001b[1;31m---------------------------------------------------------------------------\u001b[0m",
      "\u001b[1;31mFileNotFoundError\u001b[0m                         Traceback (most recent call last)",
      "\u001b[1;32m<ipython-input-38-c05854966d7b>\u001b[0m in \u001b[0;36m<module>\u001b[1;34m\u001b[0m\n\u001b[1;32m----> 1\u001b[1;33m \u001b[1;32mwith\u001b[0m \u001b[0mopen\u001b[0m\u001b[1;33m(\u001b[0m\u001b[1;34m'../covid19app/CSSE_US_df.pickle'\u001b[0m\u001b[1;33m,\u001b[0m \u001b[1;34m'wb'\u001b[0m\u001b[1;33m)\u001b[0m \u001b[1;32mas\u001b[0m \u001b[0mpickle_out\u001b[0m\u001b[1;33m:\u001b[0m\u001b[1;33m\u001b[0m\u001b[1;33m\u001b[0m\u001b[0m\n\u001b[0m\u001b[0;32m      2\u001b[0m     \u001b[0mpickle\u001b[0m\u001b[1;33m.\u001b[0m\u001b[0mdump\u001b[0m\u001b[1;33m(\u001b[0m\u001b[0mgrouped_df\u001b[0m\u001b[1;33m,\u001b[0m \u001b[0mpickle_out\u001b[0m\u001b[1;33m)\u001b[0m\u001b[1;33m\u001b[0m\u001b[1;33m\u001b[0m\u001b[0m\n",
      "\u001b[1;31mFileNotFoundError\u001b[0m: [Errno 2] No such file or directory: '../covid19app/CSSE_US_df.pickle'"
     ]
    }
   ],
   "source": [
    "with open('../covid19app/CSSE_US_df.pickle', 'wb') as pickle_out:\n",
    "    pickle.dump(grouped_df, pickle_out)"
   ]
  },
  {
   "cell_type": "markdown",
   "metadata": {},
   "source": [
    "# Plots"
   ]
  },
  {
   "cell_type": "code",
   "execution_count": 39,
   "metadata": {},
   "outputs": [],
   "source": [
    "import pandas as pd \n",
    "import plotly.express as px\n",
    "from ipywidgets import interact\n",
    "grouped_df = pd.read_pickle('Data/CSSE_US_df.pickle')"
   ]
  },
  {
   "cell_type": "code",
   "execution_count": 40,
   "metadata": {},
   "outputs": [],
   "source": [
    "grouped_df.sort_values(by='Datetime',inplace=True)"
   ]
  },
  {
   "cell_type": "code",
   "execution_count": 41,
   "metadata": {},
   "outputs": [
    {
     "data": {
      "application/vnd.jupyter.widget-view+json": {
       "model_id": "94b7081ae6a9427bb6b2f6655d6f806a",
       "version_major": 2,
       "version_minor": 0
      },
      "text/plain": [
       "interactive(children=(Dropdown(description='Type', options=('Confirmed', 'Deaths', 'totalTestResults'), value=…"
      ]
     },
     "metadata": {},
     "output_type": "display_data"
    }
   ],
   "source": [
    "@interact(Type=['Confirmed','Deaths','totalTestResults'])\n",
    "\n",
    "def viz(Type):\n",
    "\n",
    "    status = Type\n",
    "    world_map_fig = px.choropleth(grouped_df,\n",
    "                                        locations='State_code',\n",
    "                                        locationmode='USA-states',\n",
    "                                        scope='usa',\n",
    "                                        color=status,\n",
    "                                        hover_name='State', \n",
    "                                        title='{} by Sate Over Time<br>(Hover for State Names)'.format(status),\n",
    "                                        color_continuous_scale=['green', 'yellow','orange', 'orangered', 'red'],\n",
    "                                        animation_frame='Date',\n",
    "                                        #range_color=[0, max_cases],\n",
    "                                        template='plotly_dark')\n",
    "    #world_map_fig.update_layout(font={'family': font['font'], 'color': colors['text']},\n",
    "    #                                    paper_bgcolor=colors['graph_background'],\n",
    "    #                                    plot_bgcolor=colors['graph_background'])\n",
    "\n",
    "\n",
    "    world_map_fig.show()"
   ]
  },
  {
   "cell_type": "code",
   "execution_count": 42,
   "metadata": {},
   "outputs": [
    {
     "data": {
      "application/vnd.plotly.v1+json": {
       "config": {
        "plotlyServerURL": "https://plot.ly"
       },
       "data": [
        {
         "hoverlabel": {
          "namelength": 0
         },
         "hovertemplate": "State=California<br>Confirmed=%{x}<br>New_Weekly_Cases=%{y}",
         "legendgroup": "State=California",
         "line": {
          "color": "#636efa",
          "dash": "solid"
         },
         "mode": "lines",
         "name": "State=California",
         "showlegend": true,
         "type": "scatter",
         "x": [
          35,
          51,
          59,
          81,
          95,
          101,
          144,
          178,
          221,
          281,
          372,
          373,
          557,
          700,
          828,
          1005,
          1243,
          1405,
          1646,
          2108,
          2538,
          2998,
          3899,
          4657,
          5095,
          5852,
          7138,
          8210,
          9399,
          10773,
          12004,
          12837,
          15034,
          16019,
          17351,
          18897
         ],
         "xaxis": "x",
         "y": [
          25,
          40,
          48,
          69,
          83,
          80,
          119,
          143,
          170,
          222,
          291,
          278,
          456,
          556,
          650,
          784,
          962,
          1033,
          1273,
          1551,
          1838,
          2170,
          2894,
          3414,
          3690,
          4206,
          5030,
          5672,
          6401,
          6874,
          7347,
          7742,
          9182,
          8881,
          9141,
          9498
         ],
         "yaxis": "y"
        },
        {
         "hoverlabel": {
          "namelength": 0
         },
         "hovertemplate": "State=Massachusetts<br>Confirmed=%{x}<br>New_Weekly_Cases=%{y}",
         "legendgroup": "State=Massachusetts",
         "line": {
          "color": "#EF553B",
          "dash": "solid"
         },
         "mode": "lines",
         "name": "State=Massachusetts",
         "showlegend": true,
         "type": "scatter",
         "x": [
          2,
          2,
          6,
          6,
          22,
          22,
          41,
          92,
          107,
          123,
          138,
          138,
          187,
          217,
          252,
          328,
          413,
          523,
          640,
          777,
          1159,
          1838,
          2417,
          3240,
          4257,
          4955,
          5752,
          6620,
          7738,
          8966,
          10402,
          11736,
          12500,
          13837,
          15202,
          16790
         ],
         "xaxis": "x",
         "y": [
          1,
          1,
          5,
          5,
          21,
          21,
          39,
          90,
          105,
          117,
          132,
          116,
          165,
          176,
          160,
          221,
          290,
          385,
          502,
          590,
          942,
          1586,
          2089,
          2827,
          3734,
          4315,
          4975,
          5461,
          5900,
          6549,
          7162,
          7479,
          7545,
          8085,
          8582,
          9052
         ],
         "yaxis": "y"
        },
        {
         "hoverlabel": {
          "namelength": 0
         },
         "hovertemplate": "State=Illinois<br>Confirmed=%{x}<br>New_Weekly_Cases=%{y}",
         "legendgroup": "State=Illinois",
         "line": {
          "color": "#00cc96",
          "dash": "solid"
         },
         "mode": "lines",
         "name": "State=Illinois",
         "showlegend": true,
         "type": "scatter",
         "x": [
          4,
          5,
          5,
          6,
          7,
          7,
          12,
          25,
          32,
          46,
          64,
          66,
          83,
          161,
          272,
          422,
          585,
          753,
          1049,
          1285,
          1537,
          1865,
          2538,
          3024,
          3491,
          4596,
          5056,
          5994,
          6980,
          7695,
          8904,
          10357,
          11259,
          12262,
          12271,
          15078
         ],
         "xaxis": "x",
         "y": [
          2,
          3,
          3,
          4,
          4,
          3,
          8,
          21,
          27,
          41,
          58,
          59,
          76,
          149,
          247,
          390,
          539,
          689,
          983,
          1202,
          1376,
          1593,
          2116,
          2439,
          2738,
          3547,
          3771,
          4457,
          5115,
          5157,
          5880,
          6866,
          6663,
          7206,
          6277,
          8098
         ],
         "yaxis": "y"
        },
        {
         "hoverlabel": {
          "namelength": 0
         },
         "hovertemplate": "State=Texas<br>Confirmed=%{x}<br>New_Weekly_Cases=%{y}",
         "legendgroup": "State=Texas",
         "line": {
          "color": "#ab63fa",
          "dash": "solid"
         },
         "mode": "lines",
         "name": "State=Texas",
         "showlegend": true,
         "type": "scatter",
         "x": [
          0,
          3,
          4,
          8,
          11,
          13,
          16,
          21,
          27,
          44,
          60,
          63,
          85,
          110,
          196,
          306,
          429,
          582,
          643,
          758,
          955,
          1229,
          1563,
          1937,
          2455,
          2792,
          3147,
          3809,
          4355,
          5069,
          5734,
          6556,
          7209,
          8043,
          8925,
          9777
         ],
         "xaxis": "x",
         "y": [
          0,
          3,
          4,
          8,
          11,
          13,
          16,
          21,
          24,
          40,
          52,
          52,
          72,
          94,
          175,
          279,
          385,
          522,
          580,
          673,
          845,
          1033,
          1257,
          1508,
          1873,
          2149,
          2389,
          2854,
          3126,
          3506,
          3797,
          4101,
          4417,
          4896,
          5116,
          5422
         ],
         "yaxis": "y"
        },
        {
         "hoverlabel": {
          "namelength": 0
         },
         "hovertemplate": "State=Georgia<br>Confirmed=%{x}<br>New_Weekly_Cases=%{y}",
         "legendgroup": "State=Georgia",
         "line": {
          "color": "#FFA15A",
          "dash": "solid"
         },
         "mode": "lines",
         "name": "State=Georgia",
         "showlegend": true,
         "type": "scatter",
         "x": [
          2,
          2,
          3,
          5,
          5,
          10,
          17,
          23,
          31,
          42,
          73,
          99,
          121,
          146,
          197,
          287,
          485,
          555,
          621,
          772,
          1026,
          1247,
          1525,
          2000,
          2366,
          2651,
          2808,
          3929,
          4638,
          5348,
          5831,
          6160,
          6647,
          7314,
          8822,
          9901
         ],
         "xaxis": "x",
         "y": [
          2,
          2,
          3,
          5,
          5,
          10,
          15,
          21,
          29,
          39,
          68,
          94,
          111,
          129,
          174,
          256,
          443,
          482,
          522,
          651,
          880,
          1050,
          1238,
          1515,
          1811,
          2030,
          2036,
          2903,
          3391,
          3823,
          3831,
          3794,
          3996,
          4506,
          4893,
          5263
         ],
         "yaxis": "y"
        },
        {
         "hoverlabel": {
          "namelength": 0
         },
         "hovertemplate": "State=Washington<br>Confirmed=%{x}<br>New_Weekly_Cases=%{y}",
         "legendgroup": "State=Washington",
         "line": {
          "color": "#19d3f3",
          "dash": "solid"
         },
         "mode": "lines",
         "name": "State=Washington",
         "showlegend": true,
         "type": "scatter",
         "x": [
          39,
          70,
          78,
          102,
          122,
          122,
          167,
          282,
          442,
          568,
          642,
          603,
          779,
          955,
          1022,
          1374,
          1524,
          1793,
          1997,
          2221,
          2328,
          2591,
          3207,
          3477,
          4030,
          4465,
          4923,
          5432,
          5608,
          6389,
          6846,
          7247,
          7825,
          8311,
          8692,
          9276
         ],
         "xaxis": "x",
         "y": [
          38,
          69,
          77,
          95,
          111,
          104,
          140,
          243,
          372,
          490,
          540,
          481,
          657,
          788,
          740,
          932,
          956,
          1151,
          1394,
          1442,
          1373,
          1569,
          1833,
          1953,
          2237,
          2468,
          2702,
          3104,
          3017,
          3182,
          3369,
          3217,
          3360,
          3388,
          3260,
          3668
         ],
         "yaxis": "y"
        },
        {
         "hoverlabel": {
          "namelength": 0
         },
         "hovertemplate": "State=Florida<br>Confirmed=%{x}<br>New_Weekly_Cases=%{y}",
         "legendgroup": "State=Florida",
         "line": {
          "color": "#FF6692",
          "dash": "solid"
         },
         "mode": "lines",
         "name": "State=Florida",
         "showlegend": true,
         "type": "scatter",
         "x": [
          2,
          3,
          3,
          7,
          10,
          13,
          15,
          24,
          30,
          50,
          76,
          100,
          101,
          190,
          306,
          432,
          564,
          763,
          1004,
          1227,
          1412,
          1682,
          2357,
          2900,
          3763,
          4246,
          5473,
          6741,
          6956,
          9008,
          10268,
          11545,
          12350,
          13324,
          14545,
          15456
         ],
         "xaxis": "x",
         "y": [
          2,
          3,
          3,
          7,
          10,
          12,
          13,
          22,
          27,
          47,
          69,
          90,
          88,
          175,
          282,
          402,
          514,
          687,
          904,
          1126,
          1222,
          1376,
          1925,
          2336,
          3000,
          3242,
          4246,
          5329,
          5274,
          6651,
          7368,
          7782,
          8104,
          7851,
          7804,
          8500
         ],
         "yaxis": "y"
        },
        {
         "hoverlabel": {
          "namelength": 0
         },
         "hovertemplate": "State=New York<br>Confirmed=%{x}<br>New_Weekly_Cases=%{y}",
         "legendgroup": "State=New York",
         "line": {
          "color": "#B6E880",
          "dash": "solid"
         },
         "mode": "lines",
         "name": "State=New York",
         "showlegend": true,
         "type": "scatter",
         "x": [
          11,
          23,
          31,
          76,
          106,
          142,
          150,
          220,
          327,
          421,
          613,
          615,
          967,
          1578,
          3038,
          5704,
          8403,
          11727,
          15800,
          20884,
          25681,
          30841,
          37877,
          44876,
          52410,
          59648,
          66663,
          75833,
          83948,
          92506,
          102987,
          113833,
          123160,
          131815,
          139875,
          151061
         ],
         "xaxis": "x",
         "y": [
          11,
          23,
          31,
          76,
          106,
          141,
          148,
          209,
          304,
          390,
          537,
          509,
          825,
          1428,
          2818,
          5377,
          7982,
          11114,
          15185,
          19917,
          24103,
          27803,
          32173,
          36473,
          40683,
          43848,
          45779,
          50152,
          53107,
          54629,
          58111,
          61423,
          63512,
          65152,
          64042,
          67113
         ],
         "yaxis": "y"
        },
        {
         "hoverlabel": {
          "namelength": 0
         },
         "hovertemplate": "State=New Jersey<br>Confirmed=%{x}<br>New_Weekly_Cases=%{y}",
         "legendgroup": "State=New Jersey",
         "line": {
          "color": "#FF97FF",
          "dash": "solid"
         },
         "mode": "lines",
         "name": "State=New Jersey",
         "showlegend": true,
         "type": "scatter",
         "x": [
          2,
          2,
          4,
          5,
          5,
          15,
          23,
          29,
          49,
          69,
          72,
          176,
          250,
          397,
          741,
          890,
          1327,
          1914,
          2844,
          3675,
          4402,
          6876,
          8825,
          11124,
          13386,
          16636,
          18696,
          22255,
          25590,
          29895,
          34124,
          37505,
          41090,
          44416,
          47437
         ],
         "xaxis": "x",
         "y": [
          2,
          2,
          4,
          5,
          5,
          15,
          23,
          27,
          47,
          65,
          67,
          171,
          235,
          374,
          712,
          841,
          1258,
          1842,
          2668,
          3425,
          4005,
          6135,
          7935,
          9797,
          11472,
          13792,
          15021,
          17853,
          18714,
          21070,
          23000,
          24119,
          24454,
          25720,
          25182
         ],
         "yaxis": "y"
        },
        {
         "hoverlabel": {
          "namelength": 0
         },
         "hovertemplate": "State=Michigan<br>Confirmed=%{x}<br>New_Weekly_Cases=%{y}",
         "legendgroup": "State=Michigan",
         "line": {
          "color": "#FECB52",
          "dash": "solid"
         },
         "mode": "lines",
         "name": "State=Michigan",
         "showlegend": true,
         "type": "scatter",
         "x": [
          0,
          0,
          0,
          0,
          0,
          0,
          2,
          2,
          16,
          25,
          32,
          54,
          63,
          119,
          259,
          402,
          540,
          1035,
          1329,
          1793,
          2296,
          2845,
          3634,
          4650,
          5488,
          6498,
          7615,
          9315,
          10791,
          12744,
          14225,
          15718,
          17221,
          18970,
          20346
         ],
         "xaxis": "x",
         "y": [
          0,
          0,
          0,
          0,
          0,
          0,
          2,
          2,
          16,
          25,
          32,
          54,
          63,
          117,
          257,
          386,
          515,
          1003,
          1275,
          1730,
          2177,
          2586,
          3232,
          4110,
          4453,
          5169,
          5822,
          7019,
          7946,
          9110,
          9575,
          10230,
          10723,
          11355,
          11031
         ],
         "yaxis": "y"
        },
        {
         "hoverlabel": {
          "namelength": 0
         },
         "hovertemplate": "State=Colorado<br>Confirmed=%{x}<br>New_Weekly_Cases=%{y}",
         "legendgroup": "State=Colorado",
         "line": {
          "color": "#636efa",
          "dash": "solid"
         },
         "mode": "lines",
         "name": "State=Colorado",
         "showlegend": true,
         "type": "scatter",
         "x": [
          0,
          3,
          7,
          7,
          7,
          14,
          30,
          45,
          76,
          101,
          99,
          132,
          167,
          218,
          277,
          363,
          475,
          591,
          704,
          723,
          1021,
          1430,
          1433,
          1740,
          2307,
          2311,
          2966,
          2982,
          3342,
          3742,
          4188,
          4950,
          5183,
          5429,
          5655
         ],
         "xaxis": "x",
         "y": [
          0,
          3,
          7,
          7,
          7,
          14,
          30,
          45,
          73,
          94,
          92,
          125,
          153,
          188,
          232,
          287,
          374,
          492,
          572,
          556,
          803,
          1153,
          1070,
          1265,
          1716,
          1607,
          2243,
          1961,
          1912,
          2309,
          2448,
          2643,
          2872,
          2463,
          2673
         ],
         "yaxis": "y"
        },
        {
         "hoverlabel": {
          "namelength": 0
         },
         "hovertemplate": "State=Indiana<br>Confirmed=%{x}<br>New_Weekly_Cases=%{y}",
         "legendgroup": "State=Indiana",
         "line": {
          "color": "#EF553B",
          "dash": "solid"
         },
         "mode": "lines",
         "name": "State=Indiana",
         "showlegend": true,
         "type": "scatter",
         "x": [
          1,
          1,
          2,
          3,
          6,
          11,
          13,
          13,
          16,
          20,
          25,
          30,
          38,
          60,
          86,
          128,
          204,
          270,
          368,
          477,
          645,
          979,
          1233,
          1513,
          1786,
          2158,
          2564,
          3038,
          3437,
          3953,
          4411,
          4956,
          5510,
          5943
         ],
         "xaxis": "x",
         "y": [
          1,
          1,
          2,
          3,
          6,
          11,
          13,
          12,
          15,
          18,
          22,
          24,
          27,
          47,
          73,
          112,
          184,
          245,
          338,
          439,
          585,
          893,
          1105,
          1309,
          1516,
          1790,
          2087,
          2393,
          2458,
          2720,
          2898,
          3170,
          3352,
          3379
         ],
         "yaxis": "y"
        },
        {
         "hoverlabel": {
          "namelength": 0
         },
         "hovertemplate": "State=Pennsylvania<br>Confirmed=%{x}<br>New_Weekly_Cases=%{y}",
         "legendgroup": "State=Pennsylvania",
         "line": {
          "color": "#00cc96",
          "dash": "solid"
         },
         "mode": "lines",
         "name": "State=Pennsylvania",
         "showlegend": true,
         "type": "scatter",
         "x": [
          2,
          2,
          6,
          7,
          12,
          16,
          22,
          41,
          47,
          47,
          79,
          112,
          155,
          206,
          311,
          399,
          509,
          698,
          946,
          1260,
          1795,
          2345,
          2845,
          3432,
          4155,
          4963,
          6009,
          7268,
          8570,
          10444,
          11589,
          13127,
          14853,
          16631
         ],
         "xaxis": "x",
         "y": [
          2,
          2,
          6,
          7,
          12,
          16,
          22,
          39,
          45,
          41,
          72,
          100,
          139,
          184,
          270,
          352,
          462,
          619,
          834,
          1105,
          1589,
          2034,
          2446,
          2923,
          3457,
          4017,
          4749,
          5473,
          6225,
          7599,
          8157,
          8972,
          9890,
          10622
         ],
         "yaxis": "y"
        },
        {
         "hoverlabel": {
          "namelength": 0
         },
         "hovertemplate": "State=Connecticut<br>Confirmed=%{x}<br>New_Weekly_Cases=%{y}",
         "legendgroup": "State=Connecticut",
         "line": {
          "color": "#ab63fa",
          "dash": "solid"
         },
         "mode": "lines",
         "name": "State=Connecticut",
         "showlegend": true,
         "type": "scatter",
         "x": [
          0,
          0,
          0,
          1,
          3,
          5,
          11,
          23,
          24,
          41,
          68,
          96,
          159,
          194,
          194,
          327,
          415,
          618,
          875,
          1012,
          1291,
          1524,
          1993,
          2571,
          3128,
          3557,
          3824,
          4914,
          5276,
          5675,
          6906,
          7781,
          7781
         ],
         "xaxis": "x",
         "y": [
          0,
          0,
          0,
          1,
          3,
          5,
          11,
          23,
          24,
          41,
          67,
          93,
          154,
          183,
          171,
          303,
          374,
          550,
          779,
          853,
          1097,
          1330,
          1666,
          2156,
          2510,
          2682,
          2812,
          3623,
          3752,
          3682,
          4335,
          4653,
          4224
         ],
         "yaxis": "y"
        },
        {
         "hoverlabel": {
          "namelength": 0
         },
         "hovertemplate": "State=Louisiana<br>Confirmed=%{x}<br>New_Weekly_Cases=%{y}",
         "legendgroup": "State=Louisiana",
         "line": {
          "color": "#FFA15A",
          "dash": "solid"
         },
         "mode": "lines",
         "name": "State=Louisiana",
         "showlegend": true,
         "type": "scatter",
         "x": [
          0,
          0,
          0,
          0,
          5,
          19,
          29,
          77,
          87,
          115,
          196,
          257,
          392,
          537,
          763,
          837,
          1172,
          1388,
          1795,
          2304,
          2744,
          3315,
          3540,
          4025,
          5237,
          6424,
          9159,
          10297,
          12496,
          13010,
          14867,
          16284,
          17030
         ],
         "xaxis": "x",
         "y": [
          0,
          0,
          0,
          0,
          5,
          19,
          29,
          77,
          87,
          115,
          196,
          252,
          373,
          508,
          686,
          750,
          1057,
          1192,
          1538,
          1912,
          2207,
          2552,
          2703,
          2853,
          3849,
          4629,
          6855,
          7553,
          9181,
          9470,
          10842,
          11047,
          10606
         ],
         "yaxis": "y"
        }
       ],
       "layout": {
        "legend": {
         "tracegroupgap": 0
        },
        "template": {
         "data": {
          "bar": [
           {
            "error_x": {
             "color": "#f2f5fa"
            },
            "error_y": {
             "color": "#f2f5fa"
            },
            "marker": {
             "line": {
              "color": "rgb(17,17,17)",
              "width": 0.5
             }
            },
            "type": "bar"
           }
          ],
          "barpolar": [
           {
            "marker": {
             "line": {
              "color": "rgb(17,17,17)",
              "width": 0.5
             }
            },
            "type": "barpolar"
           }
          ],
          "carpet": [
           {
            "aaxis": {
             "endlinecolor": "#A2B1C6",
             "gridcolor": "#506784",
             "linecolor": "#506784",
             "minorgridcolor": "#506784",
             "startlinecolor": "#A2B1C6"
            },
            "baxis": {
             "endlinecolor": "#A2B1C6",
             "gridcolor": "#506784",
             "linecolor": "#506784",
             "minorgridcolor": "#506784",
             "startlinecolor": "#A2B1C6"
            },
            "type": "carpet"
           }
          ],
          "choropleth": [
           {
            "colorbar": {
             "outlinewidth": 0,
             "ticks": ""
            },
            "type": "choropleth"
           }
          ],
          "contour": [
           {
            "colorbar": {
             "outlinewidth": 0,
             "ticks": ""
            },
            "colorscale": [
             [
              0,
              "#0d0887"
             ],
             [
              0.1111111111111111,
              "#46039f"
             ],
             [
              0.2222222222222222,
              "#7201a8"
             ],
             [
              0.3333333333333333,
              "#9c179e"
             ],
             [
              0.4444444444444444,
              "#bd3786"
             ],
             [
              0.5555555555555556,
              "#d8576b"
             ],
             [
              0.6666666666666666,
              "#ed7953"
             ],
             [
              0.7777777777777778,
              "#fb9f3a"
             ],
             [
              0.8888888888888888,
              "#fdca26"
             ],
             [
              1,
              "#f0f921"
             ]
            ],
            "type": "contour"
           }
          ],
          "contourcarpet": [
           {
            "colorbar": {
             "outlinewidth": 0,
             "ticks": ""
            },
            "type": "contourcarpet"
           }
          ],
          "heatmap": [
           {
            "colorbar": {
             "outlinewidth": 0,
             "ticks": ""
            },
            "colorscale": [
             [
              0,
              "#0d0887"
             ],
             [
              0.1111111111111111,
              "#46039f"
             ],
             [
              0.2222222222222222,
              "#7201a8"
             ],
             [
              0.3333333333333333,
              "#9c179e"
             ],
             [
              0.4444444444444444,
              "#bd3786"
             ],
             [
              0.5555555555555556,
              "#d8576b"
             ],
             [
              0.6666666666666666,
              "#ed7953"
             ],
             [
              0.7777777777777778,
              "#fb9f3a"
             ],
             [
              0.8888888888888888,
              "#fdca26"
             ],
             [
              1,
              "#f0f921"
             ]
            ],
            "type": "heatmap"
           }
          ],
          "heatmapgl": [
           {
            "colorbar": {
             "outlinewidth": 0,
             "ticks": ""
            },
            "colorscale": [
             [
              0,
              "#0d0887"
             ],
             [
              0.1111111111111111,
              "#46039f"
             ],
             [
              0.2222222222222222,
              "#7201a8"
             ],
             [
              0.3333333333333333,
              "#9c179e"
             ],
             [
              0.4444444444444444,
              "#bd3786"
             ],
             [
              0.5555555555555556,
              "#d8576b"
             ],
             [
              0.6666666666666666,
              "#ed7953"
             ],
             [
              0.7777777777777778,
              "#fb9f3a"
             ],
             [
              0.8888888888888888,
              "#fdca26"
             ],
             [
              1,
              "#f0f921"
             ]
            ],
            "type": "heatmapgl"
           }
          ],
          "histogram": [
           {
            "marker": {
             "colorbar": {
              "outlinewidth": 0,
              "ticks": ""
             }
            },
            "type": "histogram"
           }
          ],
          "histogram2d": [
           {
            "colorbar": {
             "outlinewidth": 0,
             "ticks": ""
            },
            "colorscale": [
             [
              0,
              "#0d0887"
             ],
             [
              0.1111111111111111,
              "#46039f"
             ],
             [
              0.2222222222222222,
              "#7201a8"
             ],
             [
              0.3333333333333333,
              "#9c179e"
             ],
             [
              0.4444444444444444,
              "#bd3786"
             ],
             [
              0.5555555555555556,
              "#d8576b"
             ],
             [
              0.6666666666666666,
              "#ed7953"
             ],
             [
              0.7777777777777778,
              "#fb9f3a"
             ],
             [
              0.8888888888888888,
              "#fdca26"
             ],
             [
              1,
              "#f0f921"
             ]
            ],
            "type": "histogram2d"
           }
          ],
          "histogram2dcontour": [
           {
            "colorbar": {
             "outlinewidth": 0,
             "ticks": ""
            },
            "colorscale": [
             [
              0,
              "#0d0887"
             ],
             [
              0.1111111111111111,
              "#46039f"
             ],
             [
              0.2222222222222222,
              "#7201a8"
             ],
             [
              0.3333333333333333,
              "#9c179e"
             ],
             [
              0.4444444444444444,
              "#bd3786"
             ],
             [
              0.5555555555555556,
              "#d8576b"
             ],
             [
              0.6666666666666666,
              "#ed7953"
             ],
             [
              0.7777777777777778,
              "#fb9f3a"
             ],
             [
              0.8888888888888888,
              "#fdca26"
             ],
             [
              1,
              "#f0f921"
             ]
            ],
            "type": "histogram2dcontour"
           }
          ],
          "mesh3d": [
           {
            "colorbar": {
             "outlinewidth": 0,
             "ticks": ""
            },
            "type": "mesh3d"
           }
          ],
          "parcoords": [
           {
            "line": {
             "colorbar": {
              "outlinewidth": 0,
              "ticks": ""
             }
            },
            "type": "parcoords"
           }
          ],
          "pie": [
           {
            "automargin": true,
            "type": "pie"
           }
          ],
          "scatter": [
           {
            "marker": {
             "line": {
              "color": "#283442"
             }
            },
            "type": "scatter"
           }
          ],
          "scatter3d": [
           {
            "line": {
             "colorbar": {
              "outlinewidth": 0,
              "ticks": ""
             }
            },
            "marker": {
             "colorbar": {
              "outlinewidth": 0,
              "ticks": ""
             }
            },
            "type": "scatter3d"
           }
          ],
          "scattercarpet": [
           {
            "marker": {
             "colorbar": {
              "outlinewidth": 0,
              "ticks": ""
             }
            },
            "type": "scattercarpet"
           }
          ],
          "scattergeo": [
           {
            "marker": {
             "colorbar": {
              "outlinewidth": 0,
              "ticks": ""
             }
            },
            "type": "scattergeo"
           }
          ],
          "scattergl": [
           {
            "marker": {
             "line": {
              "color": "#283442"
             }
            },
            "type": "scattergl"
           }
          ],
          "scattermapbox": [
           {
            "marker": {
             "colorbar": {
              "outlinewidth": 0,
              "ticks": ""
             }
            },
            "type": "scattermapbox"
           }
          ],
          "scatterpolar": [
           {
            "marker": {
             "colorbar": {
              "outlinewidth": 0,
              "ticks": ""
             }
            },
            "type": "scatterpolar"
           }
          ],
          "scatterpolargl": [
           {
            "marker": {
             "colorbar": {
              "outlinewidth": 0,
              "ticks": ""
             }
            },
            "type": "scatterpolargl"
           }
          ],
          "scatterternary": [
           {
            "marker": {
             "colorbar": {
              "outlinewidth": 0,
              "ticks": ""
             }
            },
            "type": "scatterternary"
           }
          ],
          "surface": [
           {
            "colorbar": {
             "outlinewidth": 0,
             "ticks": ""
            },
            "colorscale": [
             [
              0,
              "#0d0887"
             ],
             [
              0.1111111111111111,
              "#46039f"
             ],
             [
              0.2222222222222222,
              "#7201a8"
             ],
             [
              0.3333333333333333,
              "#9c179e"
             ],
             [
              0.4444444444444444,
              "#bd3786"
             ],
             [
              0.5555555555555556,
              "#d8576b"
             ],
             [
              0.6666666666666666,
              "#ed7953"
             ],
             [
              0.7777777777777778,
              "#fb9f3a"
             ],
             [
              0.8888888888888888,
              "#fdca26"
             ],
             [
              1,
              "#f0f921"
             ]
            ],
            "type": "surface"
           }
          ],
          "table": [
           {
            "cells": {
             "fill": {
              "color": "#506784"
             },
             "line": {
              "color": "rgb(17,17,17)"
             }
            },
            "header": {
             "fill": {
              "color": "#2a3f5f"
             },
             "line": {
              "color": "rgb(17,17,17)"
             }
            },
            "type": "table"
           }
          ]
         },
         "layout": {
          "annotationdefaults": {
           "arrowcolor": "#f2f5fa",
           "arrowhead": 0,
           "arrowwidth": 1
          },
          "coloraxis": {
           "colorbar": {
            "outlinewidth": 0,
            "ticks": ""
           }
          },
          "colorscale": {
           "diverging": [
            [
             0,
             "#8e0152"
            ],
            [
             0.1,
             "#c51b7d"
            ],
            [
             0.2,
             "#de77ae"
            ],
            [
             0.3,
             "#f1b6da"
            ],
            [
             0.4,
             "#fde0ef"
            ],
            [
             0.5,
             "#f7f7f7"
            ],
            [
             0.6,
             "#e6f5d0"
            ],
            [
             0.7,
             "#b8e186"
            ],
            [
             0.8,
             "#7fbc41"
            ],
            [
             0.9,
             "#4d9221"
            ],
            [
             1,
             "#276419"
            ]
           ],
           "sequential": [
            [
             0,
             "#0d0887"
            ],
            [
             0.1111111111111111,
             "#46039f"
            ],
            [
             0.2222222222222222,
             "#7201a8"
            ],
            [
             0.3333333333333333,
             "#9c179e"
            ],
            [
             0.4444444444444444,
             "#bd3786"
            ],
            [
             0.5555555555555556,
             "#d8576b"
            ],
            [
             0.6666666666666666,
             "#ed7953"
            ],
            [
             0.7777777777777778,
             "#fb9f3a"
            ],
            [
             0.8888888888888888,
             "#fdca26"
            ],
            [
             1,
             "#f0f921"
            ]
           ],
           "sequentialminus": [
            [
             0,
             "#0d0887"
            ],
            [
             0.1111111111111111,
             "#46039f"
            ],
            [
             0.2222222222222222,
             "#7201a8"
            ],
            [
             0.3333333333333333,
             "#9c179e"
            ],
            [
             0.4444444444444444,
             "#bd3786"
            ],
            [
             0.5555555555555556,
             "#d8576b"
            ],
            [
             0.6666666666666666,
             "#ed7953"
            ],
            [
             0.7777777777777778,
             "#fb9f3a"
            ],
            [
             0.8888888888888888,
             "#fdca26"
            ],
            [
             1,
             "#f0f921"
            ]
           ]
          },
          "colorway": [
           "#636efa",
           "#EF553B",
           "#00cc96",
           "#ab63fa",
           "#FFA15A",
           "#19d3f3",
           "#FF6692",
           "#B6E880",
           "#FF97FF",
           "#FECB52"
          ],
          "font": {
           "color": "#f2f5fa"
          },
          "geo": {
           "bgcolor": "rgb(17,17,17)",
           "lakecolor": "rgb(17,17,17)",
           "landcolor": "rgb(17,17,17)",
           "showlakes": true,
           "showland": true,
           "subunitcolor": "#506784"
          },
          "hoverlabel": {
           "align": "left"
          },
          "hovermode": "closest",
          "mapbox": {
           "style": "dark"
          },
          "paper_bgcolor": "rgb(17,17,17)",
          "plot_bgcolor": "rgb(17,17,17)",
          "polar": {
           "angularaxis": {
            "gridcolor": "#506784",
            "linecolor": "#506784",
            "ticks": ""
           },
           "bgcolor": "rgb(17,17,17)",
           "radialaxis": {
            "gridcolor": "#506784",
            "linecolor": "#506784",
            "ticks": ""
           }
          },
          "scene": {
           "xaxis": {
            "backgroundcolor": "rgb(17,17,17)",
            "gridcolor": "#506784",
            "gridwidth": 2,
            "linecolor": "#506784",
            "showbackground": true,
            "ticks": "",
            "zerolinecolor": "#C8D4E3"
           },
           "yaxis": {
            "backgroundcolor": "rgb(17,17,17)",
            "gridcolor": "#506784",
            "gridwidth": 2,
            "linecolor": "#506784",
            "showbackground": true,
            "ticks": "",
            "zerolinecolor": "#C8D4E3"
           },
           "zaxis": {
            "backgroundcolor": "rgb(17,17,17)",
            "gridcolor": "#506784",
            "gridwidth": 2,
            "linecolor": "#506784",
            "showbackground": true,
            "ticks": "",
            "zerolinecolor": "#C8D4E3"
           }
          },
          "shapedefaults": {
           "line": {
            "color": "#f2f5fa"
           }
          },
          "sliderdefaults": {
           "bgcolor": "#C8D4E3",
           "bordercolor": "rgb(17,17,17)",
           "borderwidth": 1,
           "tickwidth": 0
          },
          "ternary": {
           "aaxis": {
            "gridcolor": "#506784",
            "linecolor": "#506784",
            "ticks": ""
           },
           "baxis": {
            "gridcolor": "#506784",
            "linecolor": "#506784",
            "ticks": ""
           },
           "bgcolor": "rgb(17,17,17)",
           "caxis": {
            "gridcolor": "#506784",
            "linecolor": "#506784",
            "ticks": ""
           }
          },
          "title": {
           "x": 0.05
          },
          "updatemenudefaults": {
           "bgcolor": "#506784",
           "borderwidth": 0
          },
          "xaxis": {
           "automargin": true,
           "gridcolor": "#283442",
           "linecolor": "#506784",
           "ticks": "",
           "title": {
            "standoff": 15
           },
           "zerolinecolor": "#283442",
           "zerolinewidth": 2
          },
          "yaxis": {
           "automargin": true,
           "gridcolor": "#283442",
           "linecolor": "#506784",
           "ticks": "",
           "title": {
            "standoff": 15
           },
           "zerolinecolor": "#283442",
           "zerolinewidth": 2
          }
         }
        },
        "title": {
         "text": "New Cases to Confirmed Cases (Log Scale)"
        },
        "xaxis": {
         "anchor": "y",
         "domain": [
          0,
          1
         ],
         "title": {
          "text": "Confirmed"
         },
         "type": "log"
        },
        "yaxis": {
         "anchor": "x",
         "domain": [
          0,
          1
         ],
         "title": {
          "text": "New_Weekly_Cases"
         },
         "type": "log"
        }
       }
      },
      "text/html": [
       "<div>\n",
       "        \n",
       "        \n",
       "            <div id=\"0cdaa72d-baf6-472c-a29d-c7a40e406bb6\" class=\"plotly-graph-div\" style=\"height:525px; width:100%;\"></div>\n",
       "            <script type=\"text/javascript\">\n",
       "                require([\"plotly\"], function(Plotly) {\n",
       "                    window.PLOTLYENV=window.PLOTLYENV || {};\n",
       "                    \n",
       "                if (document.getElementById(\"0cdaa72d-baf6-472c-a29d-c7a40e406bb6\")) {\n",
       "                    Plotly.newPlot(\n",
       "                        '0cdaa72d-baf6-472c-a29d-c7a40e406bb6',\n",
       "                        [{\"hoverlabel\": {\"namelength\": 0}, \"hovertemplate\": \"State=California<br>Confirmed=%{x}<br>New_Weekly_Cases=%{y}\", \"legendgroup\": \"State=California\", \"line\": {\"color\": \"#636efa\", \"dash\": \"solid\"}, \"mode\": \"lines\", \"name\": \"State=California\", \"showlegend\": true, \"type\": \"scatter\", \"x\": [35, 51, 59, 81, 95, 101, 144, 178, 221, 281, 372, 373, 557, 700, 828, 1005, 1243, 1405, 1646, 2108, 2538, 2998, 3899, 4657, 5095, 5852, 7138, 8210, 9399, 10773, 12004, 12837, 15034, 16019, 17351, 18897], \"xaxis\": \"x\", \"y\": [25.0, 40.0, 48.0, 69.0, 83.0, 80.0, 119.0, 143.0, 170.0, 222.0, 291.0, 278.0, 456.0, 556.0, 650.0, 784.0, 962.0, 1033.0, 1273.0, 1551.0, 1838.0, 2170.0, 2894.0, 3414.0, 3690.0, 4206.0, 5030.0, 5672.0, 6401.0, 6874.0, 7347.0, 7742.0, 9182.0, 8881.0, 9141.0, 9498.0], \"yaxis\": \"y\"}, {\"hoverlabel\": {\"namelength\": 0}, \"hovertemplate\": \"State=Massachusetts<br>Confirmed=%{x}<br>New_Weekly_Cases=%{y}\", \"legendgroup\": \"State=Massachusetts\", \"line\": {\"color\": \"#EF553B\", \"dash\": \"solid\"}, \"mode\": \"lines\", \"name\": \"State=Massachusetts\", \"showlegend\": true, \"type\": \"scatter\", \"x\": [2, 2, 6, 6, 22, 22, 41, 92, 107, 123, 138, 138, 187, 217, 252, 328, 413, 523, 640, 777, 1159, 1838, 2417, 3240, 4257, 4955, 5752, 6620, 7738, 8966, 10402, 11736, 12500, 13837, 15202, 16790], \"xaxis\": \"x\", \"y\": [1.0, 1.0, 5.0, 5.0, 21.0, 21.0, 39.0, 90.0, 105.0, 117.0, 132.0, 116.0, 165.0, 176.0, 160.0, 221.0, 290.0, 385.0, 502.0, 590.0, 942.0, 1586.0, 2089.0, 2827.0, 3734.0, 4315.0, 4975.0, 5461.0, 5900.0, 6549.0, 7162.0, 7479.0, 7545.0, 8085.0, 8582.0, 9052.0], \"yaxis\": \"y\"}, {\"hoverlabel\": {\"namelength\": 0}, \"hovertemplate\": \"State=Illinois<br>Confirmed=%{x}<br>New_Weekly_Cases=%{y}\", \"legendgroup\": \"State=Illinois\", \"line\": {\"color\": \"#00cc96\", \"dash\": \"solid\"}, \"mode\": \"lines\", \"name\": \"State=Illinois\", \"showlegend\": true, \"type\": \"scatter\", \"x\": [4, 5, 5, 6, 7, 7, 12, 25, 32, 46, 64, 66, 83, 161, 272, 422, 585, 753, 1049, 1285, 1537, 1865, 2538, 3024, 3491, 4596, 5056, 5994, 6980, 7695, 8904, 10357, 11259, 12262, 12271, 15078], \"xaxis\": \"x\", \"y\": [2.0, 3.0, 3.0, 4.0, 4.0, 3.0, 8.0, 21.0, 27.0, 41.0, 58.0, 59.0, 76.0, 149.0, 247.0, 390.0, 539.0, 689.0, 983.0, 1202.0, 1376.0, 1593.0, 2116.0, 2439.0, 2738.0, 3547.0, 3771.0, 4457.0, 5115.0, 5157.0, 5880.0, 6866.0, 6663.0, 7206.0, 6277.0, 8098.0], \"yaxis\": \"y\"}, {\"hoverlabel\": {\"namelength\": 0}, \"hovertemplate\": \"State=Texas<br>Confirmed=%{x}<br>New_Weekly_Cases=%{y}\", \"legendgroup\": \"State=Texas\", \"line\": {\"color\": \"#ab63fa\", \"dash\": \"solid\"}, \"mode\": \"lines\", \"name\": \"State=Texas\", \"showlegend\": true, \"type\": \"scatter\", \"x\": [0, 3, 4, 8, 11, 13, 16, 21, 27, 44, 60, 63, 85, 110, 196, 306, 429, 582, 643, 758, 955, 1229, 1563, 1937, 2455, 2792, 3147, 3809, 4355, 5069, 5734, 6556, 7209, 8043, 8925, 9777], \"xaxis\": \"x\", \"y\": [0.0, 3.0, 4.0, 8.0, 11.0, 13.0, 16.0, 21.0, 24.0, 40.0, 52.0, 52.0, 72.0, 94.0, 175.0, 279.0, 385.0, 522.0, 580.0, 673.0, 845.0, 1033.0, 1257.0, 1508.0, 1873.0, 2149.0, 2389.0, 2854.0, 3126.0, 3506.0, 3797.0, 4101.0, 4417.0, 4896.0, 5116.0, 5422.0], \"yaxis\": \"y\"}, {\"hoverlabel\": {\"namelength\": 0}, \"hovertemplate\": \"State=Georgia<br>Confirmed=%{x}<br>New_Weekly_Cases=%{y}\", \"legendgroup\": \"State=Georgia\", \"line\": {\"color\": \"#FFA15A\", \"dash\": \"solid\"}, \"mode\": \"lines\", \"name\": \"State=Georgia\", \"showlegend\": true, \"type\": \"scatter\", \"x\": [2, 2, 3, 5, 5, 10, 17, 23, 31, 42, 73, 99, 121, 146, 197, 287, 485, 555, 621, 772, 1026, 1247, 1525, 2000, 2366, 2651, 2808, 3929, 4638, 5348, 5831, 6160, 6647, 7314, 8822, 9901], \"xaxis\": \"x\", \"y\": [2.0, 2.0, 3.0, 5.0, 5.0, 10.0, 15.0, 21.0, 29.0, 39.0, 68.0, 94.0, 111.0, 129.0, 174.0, 256.0, 443.0, 482.0, 522.0, 651.0, 880.0, 1050.0, 1238.0, 1515.0, 1811.0, 2030.0, 2036.0, 2903.0, 3391.0, 3823.0, 3831.0, 3794.0, 3996.0, 4506.0, 4893.0, 5263.0], \"yaxis\": \"y\"}, {\"hoverlabel\": {\"namelength\": 0}, \"hovertemplate\": \"State=Washington<br>Confirmed=%{x}<br>New_Weekly_Cases=%{y}\", \"legendgroup\": \"State=Washington\", \"line\": {\"color\": \"#19d3f3\", \"dash\": \"solid\"}, \"mode\": \"lines\", \"name\": \"State=Washington\", \"showlegend\": true, \"type\": \"scatter\", \"x\": [39, 70, 78, 102, 122, 122, 167, 282, 442, 568, 642, 603, 779, 955, 1022, 1374, 1524, 1793, 1997, 2221, 2328, 2591, 3207, 3477, 4030, 4465, 4923, 5432, 5608, 6389, 6846, 7247, 7825, 8311, 8692, 9276], \"xaxis\": \"x\", \"y\": [38.0, 69.0, 77.0, 95.0, 111.0, 104.0, 140.0, 243.0, 372.0, 490.0, 540.0, 481.0, 657.0, 788.0, 740.0, 932.0, 956.0, 1151.0, 1394.0, 1442.0, 1373.0, 1569.0, 1833.0, 1953.0, 2237.0, 2468.0, 2702.0, 3104.0, 3017.0, 3182.0, 3369.0, 3217.0, 3360.0, 3388.0, 3260.0, 3668.0], \"yaxis\": \"y\"}, {\"hoverlabel\": {\"namelength\": 0}, \"hovertemplate\": \"State=Florida<br>Confirmed=%{x}<br>New_Weekly_Cases=%{y}\", \"legendgroup\": \"State=Florida\", \"line\": {\"color\": \"#FF6692\", \"dash\": \"solid\"}, \"mode\": \"lines\", \"name\": \"State=Florida\", \"showlegend\": true, \"type\": \"scatter\", \"x\": [2, 3, 3, 7, 10, 13, 15, 24, 30, 50, 76, 100, 101, 190, 306, 432, 564, 763, 1004, 1227, 1412, 1682, 2357, 2900, 3763, 4246, 5473, 6741, 6956, 9008, 10268, 11545, 12350, 13324, 14545, 15456], \"xaxis\": \"x\", \"y\": [2.0, 3.0, 3.0, 7.0, 10.0, 12.0, 13.0, 22.0, 27.0, 47.0, 69.0, 90.0, 88.0, 175.0, 282.0, 402.0, 514.0, 687.0, 904.0, 1126.0, 1222.0, 1376.0, 1925.0, 2336.0, 3000.0, 3242.0, 4246.0, 5329.0, 5274.0, 6651.0, 7368.0, 7782.0, 8104.0, 7851.0, 7804.0, 8500.0], \"yaxis\": \"y\"}, {\"hoverlabel\": {\"namelength\": 0}, \"hovertemplate\": \"State=New York<br>Confirmed=%{x}<br>New_Weekly_Cases=%{y}\", \"legendgroup\": \"State=New York\", \"line\": {\"color\": \"#B6E880\", \"dash\": \"solid\"}, \"mode\": \"lines\", \"name\": \"State=New York\", \"showlegend\": true, \"type\": \"scatter\", \"x\": [11, 23, 31, 76, 106, 142, 150, 220, 327, 421, 613, 615, 967, 1578, 3038, 5704, 8403, 11727, 15800, 20884, 25681, 30841, 37877, 44876, 52410, 59648, 66663, 75833, 83948, 92506, 102987, 113833, 123160, 131815, 139875, 151061], \"xaxis\": \"x\", \"y\": [11.0, 23.0, 31.0, 76.0, 106.0, 141.0, 148.0, 209.0, 304.0, 390.0, 537.0, 509.0, 825.0, 1428.0, 2818.0, 5377.0, 7982.0, 11114.0, 15185.0, 19917.0, 24103.0, 27803.0, 32173.0, 36473.0, 40683.0, 43848.0, 45779.0, 50152.0, 53107.0, 54629.0, 58111.0, 61423.0, 63512.0, 65152.0, 64042.0, 67113.0], \"yaxis\": \"y\"}, {\"hoverlabel\": {\"namelength\": 0}, \"hovertemplate\": \"State=New Jersey<br>Confirmed=%{x}<br>New_Weekly_Cases=%{y}\", \"legendgroup\": \"State=New Jersey\", \"line\": {\"color\": \"#FF97FF\", \"dash\": \"solid\"}, \"mode\": \"lines\", \"name\": \"State=New Jersey\", \"showlegend\": true, \"type\": \"scatter\", \"x\": [2, 2, 4, 5, 5, 15, 23, 29, 49, 69, 72, 176, 250, 397, 741, 890, 1327, 1914, 2844, 3675, 4402, 6876, 8825, 11124, 13386, 16636, 18696, 22255, 25590, 29895, 34124, 37505, 41090, 44416, 47437], \"xaxis\": \"x\", \"y\": [2.0, 2.0, 4.0, 5.0, 5.0, 15.0, 23.0, 27.0, 47.0, 65.0, 67.0, 171.0, 235.0, 374.0, 712.0, 841.0, 1258.0, 1842.0, 2668.0, 3425.0, 4005.0, 6135.0, 7935.0, 9797.0, 11472.0, 13792.0, 15021.0, 17853.0, 18714.0, 21070.0, 23000.0, 24119.0, 24454.0, 25720.0, 25182.0], \"yaxis\": \"y\"}, {\"hoverlabel\": {\"namelength\": 0}, \"hovertemplate\": \"State=Michigan<br>Confirmed=%{x}<br>New_Weekly_Cases=%{y}\", \"legendgroup\": \"State=Michigan\", \"line\": {\"color\": \"#FECB52\", \"dash\": \"solid\"}, \"mode\": \"lines\", \"name\": \"State=Michigan\", \"showlegend\": true, \"type\": \"scatter\", \"x\": [0, 0, 0, 0, 0, 0, 2, 2, 16, 25, 32, 54, 63, 119, 259, 402, 540, 1035, 1329, 1793, 2296, 2845, 3634, 4650, 5488, 6498, 7615, 9315, 10791, 12744, 14225, 15718, 17221, 18970, 20346], \"xaxis\": \"x\", \"y\": [0.0, 0.0, 0.0, 0.0, 0.0, 0.0, 2.0, 2.0, 16.0, 25.0, 32.0, 54.0, 63.0, 117.0, 257.0, 386.0, 515.0, 1003.0, 1275.0, 1730.0, 2177.0, 2586.0, 3232.0, 4110.0, 4453.0, 5169.0, 5822.0, 7019.0, 7946.0, 9110.0, 9575.0, 10230.0, 10723.0, 11355.0, 11031.0], \"yaxis\": \"y\"}, {\"hoverlabel\": {\"namelength\": 0}, \"hovertemplate\": \"State=Colorado<br>Confirmed=%{x}<br>New_Weekly_Cases=%{y}\", \"legendgroup\": \"State=Colorado\", \"line\": {\"color\": \"#636efa\", \"dash\": \"solid\"}, \"mode\": \"lines\", \"name\": \"State=Colorado\", \"showlegend\": true, \"type\": \"scatter\", \"x\": [0, 3, 7, 7, 7, 14, 30, 45, 76, 101, 99, 132, 167, 218, 277, 363, 475, 591, 704, 723, 1021, 1430, 1433, 1740, 2307, 2311, 2966, 2982, 3342, 3742, 4188, 4950, 5183, 5429, 5655], \"xaxis\": \"x\", \"y\": [0.0, 3.0, 7.0, 7.0, 7.0, 14.0, 30.0, 45.0, 73.0, 94.0, 92.0, 125.0, 153.0, 188.0, 232.0, 287.0, 374.0, 492.0, 572.0, 556.0, 803.0, 1153.0, 1070.0, 1265.0, 1716.0, 1607.0, 2243.0, 1961.0, 1912.0, 2309.0, 2448.0, 2643.0, 2872.0, 2463.0, 2673.0], \"yaxis\": \"y\"}, {\"hoverlabel\": {\"namelength\": 0}, \"hovertemplate\": \"State=Indiana<br>Confirmed=%{x}<br>New_Weekly_Cases=%{y}\", \"legendgroup\": \"State=Indiana\", \"line\": {\"color\": \"#EF553B\", \"dash\": \"solid\"}, \"mode\": \"lines\", \"name\": \"State=Indiana\", \"showlegend\": true, \"type\": \"scatter\", \"x\": [1, 1, 2, 3, 6, 11, 13, 13, 16, 20, 25, 30, 38, 60, 86, 128, 204, 270, 368, 477, 645, 979, 1233, 1513, 1786, 2158, 2564, 3038, 3437, 3953, 4411, 4956, 5510, 5943], \"xaxis\": \"x\", \"y\": [1.0, 1.0, 2.0, 3.0, 6.0, 11.0, 13.0, 12.0, 15.0, 18.0, 22.0, 24.0, 27.0, 47.0, 73.0, 112.0, 184.0, 245.0, 338.0, 439.0, 585.0, 893.0, 1105.0, 1309.0, 1516.0, 1790.0, 2087.0, 2393.0, 2458.0, 2720.0, 2898.0, 3170.0, 3352.0, 3379.0], \"yaxis\": \"y\"}, {\"hoverlabel\": {\"namelength\": 0}, \"hovertemplate\": \"State=Pennsylvania<br>Confirmed=%{x}<br>New_Weekly_Cases=%{y}\", \"legendgroup\": \"State=Pennsylvania\", \"line\": {\"color\": \"#00cc96\", \"dash\": \"solid\"}, \"mode\": \"lines\", \"name\": \"State=Pennsylvania\", \"showlegend\": true, \"type\": \"scatter\", \"x\": [2, 2, 6, 7, 12, 16, 22, 41, 47, 47, 79, 112, 155, 206, 311, 399, 509, 698, 946, 1260, 1795, 2345, 2845, 3432, 4155, 4963, 6009, 7268, 8570, 10444, 11589, 13127, 14853, 16631], \"xaxis\": \"x\", \"y\": [2.0, 2.0, 6.0, 7.0, 12.0, 16.0, 22.0, 39.0, 45.0, 41.0, 72.0, 100.0, 139.0, 184.0, 270.0, 352.0, 462.0, 619.0, 834.0, 1105.0, 1589.0, 2034.0, 2446.0, 2923.0, 3457.0, 4017.0, 4749.0, 5473.0, 6225.0, 7599.0, 8157.0, 8972.0, 9890.0, 10622.0], \"yaxis\": \"y\"}, {\"hoverlabel\": {\"namelength\": 0}, \"hovertemplate\": \"State=Connecticut<br>Confirmed=%{x}<br>New_Weekly_Cases=%{y}\", \"legendgroup\": \"State=Connecticut\", \"line\": {\"color\": \"#ab63fa\", \"dash\": \"solid\"}, \"mode\": \"lines\", \"name\": \"State=Connecticut\", \"showlegend\": true, \"type\": \"scatter\", \"x\": [0, 0, 0, 1, 3, 5, 11, 23, 24, 41, 68, 96, 159, 194, 194, 327, 415, 618, 875, 1012, 1291, 1524, 1993, 2571, 3128, 3557, 3824, 4914, 5276, 5675, 6906, 7781, 7781], \"xaxis\": \"x\", \"y\": [0.0, 0.0, 0.0, 1.0, 3.0, 5.0, 11.0, 23.0, 24.0, 41.0, 67.0, 93.0, 154.0, 183.0, 171.0, 303.0, 374.0, 550.0, 779.0, 853.0, 1097.0, 1330.0, 1666.0, 2156.0, 2510.0, 2682.0, 2812.0, 3623.0, 3752.0, 3682.0, 4335.0, 4653.0, 4224.0], \"yaxis\": \"y\"}, {\"hoverlabel\": {\"namelength\": 0}, \"hovertemplate\": \"State=Louisiana<br>Confirmed=%{x}<br>New_Weekly_Cases=%{y}\", \"legendgroup\": \"State=Louisiana\", \"line\": {\"color\": \"#FFA15A\", \"dash\": \"solid\"}, \"mode\": \"lines\", \"name\": \"State=Louisiana\", \"showlegend\": true, \"type\": \"scatter\", \"x\": [0, 0, 0, 0, 5, 19, 29, 77, 87, 115, 196, 257, 392, 537, 763, 837, 1172, 1388, 1795, 2304, 2744, 3315, 3540, 4025, 5237, 6424, 9159, 10297, 12496, 13010, 14867, 16284, 17030], \"xaxis\": \"x\", \"y\": [0.0, 0.0, 0.0, 0.0, 5.0, 19.0, 29.0, 77.0, 87.0, 115.0, 196.0, 252.0, 373.0, 508.0, 686.0, 750.0, 1057.0, 1192.0, 1538.0, 1912.0, 2207.0, 2552.0, 2703.0, 2853.0, 3849.0, 4629.0, 6855.0, 7553.0, 9181.0, 9470.0, 10842.0, 11047.0, 10606.0], \"yaxis\": \"y\"}],\n",
       "                        {\"legend\": {\"tracegroupgap\": 0}, \"template\": {\"data\": {\"bar\": [{\"error_x\": {\"color\": \"#f2f5fa\"}, \"error_y\": {\"color\": \"#f2f5fa\"}, \"marker\": {\"line\": {\"color\": \"rgb(17,17,17)\", \"width\": 0.5}}, \"type\": \"bar\"}], \"barpolar\": [{\"marker\": {\"line\": {\"color\": \"rgb(17,17,17)\", \"width\": 0.5}}, \"type\": \"barpolar\"}], \"carpet\": [{\"aaxis\": {\"endlinecolor\": \"#A2B1C6\", \"gridcolor\": \"#506784\", \"linecolor\": \"#506784\", \"minorgridcolor\": \"#506784\", \"startlinecolor\": \"#A2B1C6\"}, \"baxis\": {\"endlinecolor\": \"#A2B1C6\", \"gridcolor\": \"#506784\", \"linecolor\": \"#506784\", \"minorgridcolor\": \"#506784\", \"startlinecolor\": \"#A2B1C6\"}, \"type\": \"carpet\"}], \"choropleth\": [{\"colorbar\": {\"outlinewidth\": 0, \"ticks\": \"\"}, \"type\": \"choropleth\"}], \"contour\": [{\"colorbar\": {\"outlinewidth\": 0, \"ticks\": \"\"}, \"colorscale\": [[0.0, \"#0d0887\"], [0.1111111111111111, \"#46039f\"], [0.2222222222222222, \"#7201a8\"], [0.3333333333333333, \"#9c179e\"], [0.4444444444444444, \"#bd3786\"], [0.5555555555555556, \"#d8576b\"], [0.6666666666666666, \"#ed7953\"], [0.7777777777777778, \"#fb9f3a\"], [0.8888888888888888, \"#fdca26\"], [1.0, \"#f0f921\"]], \"type\": \"contour\"}], \"contourcarpet\": [{\"colorbar\": {\"outlinewidth\": 0, \"ticks\": \"\"}, \"type\": \"contourcarpet\"}], \"heatmap\": [{\"colorbar\": {\"outlinewidth\": 0, \"ticks\": \"\"}, \"colorscale\": [[0.0, \"#0d0887\"], [0.1111111111111111, \"#46039f\"], [0.2222222222222222, \"#7201a8\"], [0.3333333333333333, \"#9c179e\"], [0.4444444444444444, \"#bd3786\"], [0.5555555555555556, \"#d8576b\"], [0.6666666666666666, \"#ed7953\"], [0.7777777777777778, \"#fb9f3a\"], [0.8888888888888888, \"#fdca26\"], [1.0, \"#f0f921\"]], \"type\": \"heatmap\"}], \"heatmapgl\": [{\"colorbar\": {\"outlinewidth\": 0, \"ticks\": \"\"}, \"colorscale\": [[0.0, \"#0d0887\"], [0.1111111111111111, \"#46039f\"], [0.2222222222222222, \"#7201a8\"], [0.3333333333333333, \"#9c179e\"], [0.4444444444444444, \"#bd3786\"], [0.5555555555555556, \"#d8576b\"], [0.6666666666666666, \"#ed7953\"], [0.7777777777777778, \"#fb9f3a\"], [0.8888888888888888, \"#fdca26\"], [1.0, \"#f0f921\"]], \"type\": \"heatmapgl\"}], \"histogram\": [{\"marker\": {\"colorbar\": {\"outlinewidth\": 0, \"ticks\": \"\"}}, \"type\": \"histogram\"}], \"histogram2d\": [{\"colorbar\": {\"outlinewidth\": 0, \"ticks\": \"\"}, \"colorscale\": [[0.0, \"#0d0887\"], [0.1111111111111111, \"#46039f\"], [0.2222222222222222, \"#7201a8\"], [0.3333333333333333, \"#9c179e\"], [0.4444444444444444, \"#bd3786\"], [0.5555555555555556, \"#d8576b\"], [0.6666666666666666, \"#ed7953\"], [0.7777777777777778, \"#fb9f3a\"], [0.8888888888888888, \"#fdca26\"], [1.0, \"#f0f921\"]], \"type\": \"histogram2d\"}], \"histogram2dcontour\": [{\"colorbar\": {\"outlinewidth\": 0, \"ticks\": \"\"}, \"colorscale\": [[0.0, \"#0d0887\"], [0.1111111111111111, \"#46039f\"], [0.2222222222222222, \"#7201a8\"], [0.3333333333333333, \"#9c179e\"], [0.4444444444444444, \"#bd3786\"], [0.5555555555555556, \"#d8576b\"], [0.6666666666666666, \"#ed7953\"], [0.7777777777777778, \"#fb9f3a\"], [0.8888888888888888, \"#fdca26\"], [1.0, \"#f0f921\"]], \"type\": \"histogram2dcontour\"}], \"mesh3d\": [{\"colorbar\": {\"outlinewidth\": 0, \"ticks\": \"\"}, \"type\": \"mesh3d\"}], \"parcoords\": [{\"line\": {\"colorbar\": {\"outlinewidth\": 0, \"ticks\": \"\"}}, \"type\": \"parcoords\"}], \"pie\": [{\"automargin\": true, \"type\": \"pie\"}], \"scatter\": [{\"marker\": {\"line\": {\"color\": \"#283442\"}}, \"type\": \"scatter\"}], \"scatter3d\": [{\"line\": {\"colorbar\": {\"outlinewidth\": 0, \"ticks\": \"\"}}, \"marker\": {\"colorbar\": {\"outlinewidth\": 0, \"ticks\": \"\"}}, \"type\": \"scatter3d\"}], \"scattercarpet\": [{\"marker\": {\"colorbar\": {\"outlinewidth\": 0, \"ticks\": \"\"}}, \"type\": \"scattercarpet\"}], \"scattergeo\": [{\"marker\": {\"colorbar\": {\"outlinewidth\": 0, \"ticks\": \"\"}}, \"type\": \"scattergeo\"}], \"scattergl\": [{\"marker\": {\"line\": {\"color\": \"#283442\"}}, \"type\": \"scattergl\"}], \"scattermapbox\": [{\"marker\": {\"colorbar\": {\"outlinewidth\": 0, \"ticks\": \"\"}}, \"type\": \"scattermapbox\"}], \"scatterpolar\": [{\"marker\": {\"colorbar\": {\"outlinewidth\": 0, \"ticks\": \"\"}}, \"type\": \"scatterpolar\"}], \"scatterpolargl\": [{\"marker\": {\"colorbar\": {\"outlinewidth\": 0, \"ticks\": \"\"}}, \"type\": \"scatterpolargl\"}], \"scatterternary\": [{\"marker\": {\"colorbar\": {\"outlinewidth\": 0, \"ticks\": \"\"}}, \"type\": \"scatterternary\"}], \"surface\": [{\"colorbar\": {\"outlinewidth\": 0, \"ticks\": \"\"}, \"colorscale\": [[0.0, \"#0d0887\"], [0.1111111111111111, \"#46039f\"], [0.2222222222222222, \"#7201a8\"], [0.3333333333333333, \"#9c179e\"], [0.4444444444444444, \"#bd3786\"], [0.5555555555555556, \"#d8576b\"], [0.6666666666666666, \"#ed7953\"], [0.7777777777777778, \"#fb9f3a\"], [0.8888888888888888, \"#fdca26\"], [1.0, \"#f0f921\"]], \"type\": \"surface\"}], \"table\": [{\"cells\": {\"fill\": {\"color\": \"#506784\"}, \"line\": {\"color\": \"rgb(17,17,17)\"}}, \"header\": {\"fill\": {\"color\": \"#2a3f5f\"}, \"line\": {\"color\": \"rgb(17,17,17)\"}}, \"type\": \"table\"}]}, \"layout\": {\"annotationdefaults\": {\"arrowcolor\": \"#f2f5fa\", \"arrowhead\": 0, \"arrowwidth\": 1}, \"coloraxis\": {\"colorbar\": {\"outlinewidth\": 0, \"ticks\": \"\"}}, \"colorscale\": {\"diverging\": [[0, \"#8e0152\"], [0.1, \"#c51b7d\"], [0.2, \"#de77ae\"], [0.3, \"#f1b6da\"], [0.4, \"#fde0ef\"], [0.5, \"#f7f7f7\"], [0.6, \"#e6f5d0\"], [0.7, \"#b8e186\"], [0.8, \"#7fbc41\"], [0.9, \"#4d9221\"], [1, \"#276419\"]], \"sequential\": [[0.0, \"#0d0887\"], [0.1111111111111111, \"#46039f\"], [0.2222222222222222, \"#7201a8\"], [0.3333333333333333, \"#9c179e\"], [0.4444444444444444, \"#bd3786\"], [0.5555555555555556, \"#d8576b\"], [0.6666666666666666, \"#ed7953\"], [0.7777777777777778, \"#fb9f3a\"], [0.8888888888888888, \"#fdca26\"], [1.0, \"#f0f921\"]], \"sequentialminus\": [[0.0, \"#0d0887\"], [0.1111111111111111, \"#46039f\"], [0.2222222222222222, \"#7201a8\"], [0.3333333333333333, \"#9c179e\"], [0.4444444444444444, \"#bd3786\"], [0.5555555555555556, \"#d8576b\"], [0.6666666666666666, \"#ed7953\"], [0.7777777777777778, \"#fb9f3a\"], [0.8888888888888888, \"#fdca26\"], [1.0, \"#f0f921\"]]}, \"colorway\": [\"#636efa\", \"#EF553B\", \"#00cc96\", \"#ab63fa\", \"#FFA15A\", \"#19d3f3\", \"#FF6692\", \"#B6E880\", \"#FF97FF\", \"#FECB52\"], \"font\": {\"color\": \"#f2f5fa\"}, \"geo\": {\"bgcolor\": \"rgb(17,17,17)\", \"lakecolor\": \"rgb(17,17,17)\", \"landcolor\": \"rgb(17,17,17)\", \"showlakes\": true, \"showland\": true, \"subunitcolor\": \"#506784\"}, \"hoverlabel\": {\"align\": \"left\"}, \"hovermode\": \"closest\", \"mapbox\": {\"style\": \"dark\"}, \"paper_bgcolor\": \"rgb(17,17,17)\", \"plot_bgcolor\": \"rgb(17,17,17)\", \"polar\": {\"angularaxis\": {\"gridcolor\": \"#506784\", \"linecolor\": \"#506784\", \"ticks\": \"\"}, \"bgcolor\": \"rgb(17,17,17)\", \"radialaxis\": {\"gridcolor\": \"#506784\", \"linecolor\": \"#506784\", \"ticks\": \"\"}}, \"scene\": {\"xaxis\": {\"backgroundcolor\": \"rgb(17,17,17)\", \"gridcolor\": \"#506784\", \"gridwidth\": 2, \"linecolor\": \"#506784\", \"showbackground\": true, \"ticks\": \"\", \"zerolinecolor\": \"#C8D4E3\"}, \"yaxis\": {\"backgroundcolor\": \"rgb(17,17,17)\", \"gridcolor\": \"#506784\", \"gridwidth\": 2, \"linecolor\": \"#506784\", \"showbackground\": true, \"ticks\": \"\", \"zerolinecolor\": \"#C8D4E3\"}, \"zaxis\": {\"backgroundcolor\": \"rgb(17,17,17)\", \"gridcolor\": \"#506784\", \"gridwidth\": 2, \"linecolor\": \"#506784\", \"showbackground\": true, \"ticks\": \"\", \"zerolinecolor\": \"#C8D4E3\"}}, \"shapedefaults\": {\"line\": {\"color\": \"#f2f5fa\"}}, \"sliderdefaults\": {\"bgcolor\": \"#C8D4E3\", \"bordercolor\": \"rgb(17,17,17)\", \"borderwidth\": 1, \"tickwidth\": 0}, \"ternary\": {\"aaxis\": {\"gridcolor\": \"#506784\", \"linecolor\": \"#506784\", \"ticks\": \"\"}, \"baxis\": {\"gridcolor\": \"#506784\", \"linecolor\": \"#506784\", \"ticks\": \"\"}, \"bgcolor\": \"rgb(17,17,17)\", \"caxis\": {\"gridcolor\": \"#506784\", \"linecolor\": \"#506784\", \"ticks\": \"\"}}, \"title\": {\"x\": 0.05}, \"updatemenudefaults\": {\"bgcolor\": \"#506784\", \"borderwidth\": 0}, \"xaxis\": {\"automargin\": true, \"gridcolor\": \"#283442\", \"linecolor\": \"#506784\", \"ticks\": \"\", \"title\": {\"standoff\": 15}, \"zerolinecolor\": \"#283442\", \"zerolinewidth\": 2}, \"yaxis\": {\"automargin\": true, \"gridcolor\": \"#283442\", \"linecolor\": \"#506784\", \"ticks\": \"\", \"title\": {\"standoff\": 15}, \"zerolinecolor\": \"#283442\", \"zerolinewidth\": 2}}}, \"title\": {\"text\": \"New Cases to Confirmed Cases (Log Scale)\"}, \"xaxis\": {\"anchor\": \"y\", \"domain\": [0.0, 1.0], \"title\": {\"text\": \"Confirmed\"}, \"type\": \"log\"}, \"yaxis\": {\"anchor\": \"x\", \"domain\": [0.0, 1.0], \"title\": {\"text\": \"New_Weekly_Cases\"}, \"type\": \"log\"}},\n",
       "                        {\"responsive\": true}\n",
       "                    ).then(function(){\n",
       "                            \n",
       "var gd = document.getElementById('0cdaa72d-baf6-472c-a29d-c7a40e406bb6');\n",
       "var x = new MutationObserver(function (mutations, observer) {{\n",
       "        var display = window.getComputedStyle(gd).display;\n",
       "        if (!display || display === 'none') {{\n",
       "            console.log([gd, 'removed!']);\n",
       "            Plotly.purge(gd);\n",
       "            observer.disconnect();\n",
       "        }}\n",
       "}});\n",
       "\n",
       "// Listen for the removal of the full notebook cells\n",
       "var notebookContainer = gd.closest('#notebook-container');\n",
       "if (notebookContainer) {{\n",
       "    x.observe(notebookContainer, {childList: true});\n",
       "}}\n",
       "\n",
       "// Listen for the clearing of the current output cell\n",
       "var outputEl = gd.closest('.output');\n",
       "if (outputEl) {{\n",
       "    x.observe(outputEl, {childList: true});\n",
       "}}\n",
       "\n",
       "                        })\n",
       "                };\n",
       "                });\n",
       "            </script>\n",
       "        </div>"
      ]
     },
     "metadata": {},
     "output_type": "display_data"
    }
   ],
   "source": [
    "hardest_hit_states = list(grouped_df.groupby('State').agg('max')['Confirmed'].sort_values(ascending=False)[0:15].index)\n",
    "\n",
    "new_log_cases = grouped_df.loc[grouped_df['State'].isin(hardest_hit_states)]\n",
    "px.line(new_log_cases,\n",
    "                        x='Confirmed',\n",
    "                        y='New_Weekly_Cases',\n",
    "                        log_x='True',\n",
    "                        log_y='True',\n",
    "                        template='plotly_dark',\n",
    "                        color='State',\n",
    "                        title='New Cases to Confirmed Cases (Log Scale)',\n",
    "                        )"
   ]
  },
  {
   "cell_type": "code",
   "execution_count": 43,
   "metadata": {},
   "outputs": [],
   "source": [
    "state_list = list(grouped_df.State.unique())"
   ]
  },
  {
   "cell_type": "code",
   "execution_count": 44,
   "metadata": {},
   "outputs": [
    {
     "data": {
      "application/vnd.jupyter.widget-view+json": {
       "model_id": "4da3146c749b4990b18cd2508295f858",
       "version_major": 2,
       "version_minor": 0
      },
      "text/plain": [
       "interactive(children=(Dropdown(description='Type', options=('Wisconsin', 'California', 'Arizona', 'Massachuset…"
      ]
     },
     "metadata": {},
     "output_type": "display_data"
    }
   ],
   "source": [
    "@interact(Type=state_list)\n",
    "def viz(Type):\n",
    "    state = Type\n",
    "    df_state = grouped_df[grouped_df['State']==state]\n",
    "    df_melt = pd.melt(df_state, id_vars =['Date'], \n",
    "                  value_vars=['Confirmed','Deaths','totalTestResults'],\n",
    "                 var_name = 'Status', value_name = 'Cases')\n",
    "    fig = px.line(df_melt,x='Date',y='Cases', color='Status',template='plotly_dark')\n",
    "    fig.show()"
   ]
  },
  {
   "cell_type": "code",
   "execution_count": 45,
   "metadata": {},
   "outputs": [
    {
     "data": {
      "text/html": [
       "<div>\n",
       "<style scoped>\n",
       "    .dataframe tbody tr th:only-of-type {\n",
       "        vertical-align: middle;\n",
       "    }\n",
       "\n",
       "    .dataframe tbody tr th {\n",
       "        vertical-align: top;\n",
       "    }\n",
       "\n",
       "    .dataframe thead th {\n",
       "        text-align: right;\n",
       "    }\n",
       "</style>\n",
       "<table border=\"1\" class=\"dataframe\">\n",
       "  <thead>\n",
       "    <tr style=\"text-align: right;\">\n",
       "      <th></th>\n",
       "      <th>Date</th>\n",
       "      <th>Datetime</th>\n",
       "      <th>State</th>\n",
       "      <th>State_code</th>\n",
       "      <th>Confirmed</th>\n",
       "      <th>Deaths</th>\n",
       "      <th>New_Weekly_Cases</th>\n",
       "      <th>totalTestResults</th>\n",
       "    </tr>\n",
       "  </thead>\n",
       "  <tbody>\n",
       "    <tr>\n",
       "      <th>1688</th>\n",
       "      <td>3/4/20</td>\n",
       "      <td>2020-03-04</td>\n",
       "      <td>Wisconsin</td>\n",
       "      <td>WI</td>\n",
       "      <td>0</td>\n",
       "      <td>0</td>\n",
       "      <td>0.0</td>\n",
       "      <td>20</td>\n",
       "    </tr>\n",
       "    <tr>\n",
       "      <th>137</th>\n",
       "      <td>3/4/20</td>\n",
       "      <td>2020-03-04</td>\n",
       "      <td>California</td>\n",
       "      <td>CA</td>\n",
       "      <td>35</td>\n",
       "      <td>1</td>\n",
       "      <td>25.0</td>\n",
       "      <td>515</td>\n",
       "    </tr>\n",
       "    <tr>\n",
       "      <th>67</th>\n",
       "      <td>3/4/20</td>\n",
       "      <td>2020-03-04</td>\n",
       "      <td>Arizona</td>\n",
       "      <td>AZ</td>\n",
       "      <td>1</td>\n",
       "      <td>0</td>\n",
       "      <td>0.0</td>\n",
       "      <td>29</td>\n",
       "    </tr>\n",
       "    <tr>\n",
       "      <th>721</th>\n",
       "      <td>3/4/20</td>\n",
       "      <td>2020-03-04</td>\n",
       "      <td>Massachusetts</td>\n",
       "      <td>MA</td>\n",
       "      <td>2</td>\n",
       "      <td>0</td>\n",
       "      <td>1.0</td>\n",
       "      <td>2</td>\n",
       "    </tr>\n",
       "    <tr>\n",
       "      <th>448</th>\n",
       "      <td>3/4/20</td>\n",
       "      <td>2020-03-04</td>\n",
       "      <td>Illinois</td>\n",
       "      <td>IL</td>\n",
       "      <td>4</td>\n",
       "      <td>0</td>\n",
       "      <td>2.0</td>\n",
       "      <td>128</td>\n",
       "    </tr>\n",
       "    <tr>\n",
       "      <th>...</th>\n",
       "      <td>...</td>\n",
       "      <td>...</td>\n",
       "      <td>...</td>\n",
       "      <td>...</td>\n",
       "      <td>...</td>\n",
       "      <td>...</td>\n",
       "      <td>...</td>\n",
       "      <td>...</td>\n",
       "    </tr>\n",
       "    <tr>\n",
       "      <th>652</th>\n",
       "      <td>4/8/20</td>\n",
       "      <td>2020-04-08</td>\n",
       "      <td>Louisiana</td>\n",
       "      <td>LA</td>\n",
       "      <td>17030</td>\n",
       "      <td>652</td>\n",
       "      <td>10606.0</td>\n",
       "      <td>81406</td>\n",
       "    </tr>\n",
       "    <tr>\n",
       "      <th>1308</th>\n",
       "      <td>4/8/20</td>\n",
       "      <td>2020-04-08</td>\n",
       "      <td>Oregon</td>\n",
       "      <td>OR</td>\n",
       "      <td>1181</td>\n",
       "      <td>33</td>\n",
       "      <td>445.0</td>\n",
       "      <td>24564</td>\n",
       "    </tr>\n",
       "    <tr>\n",
       "      <th>685</th>\n",
       "      <td>4/8/20</td>\n",
       "      <td>2020-04-08</td>\n",
       "      <td>Maine</td>\n",
       "      <td>ME</td>\n",
       "      <td>537</td>\n",
       "      <td>14</td>\n",
       "      <td>234.0</td>\n",
       "      <td>6625</td>\n",
       "    </tr>\n",
       "    <tr>\n",
       "      <th>447</th>\n",
       "      <td>4/8/20</td>\n",
       "      <td>2020-04-08</td>\n",
       "      <td>Idaho</td>\n",
       "      <td>ID</td>\n",
       "      <td>1210</td>\n",
       "      <td>15</td>\n",
       "      <td>644.0</td>\n",
       "      <td>11898</td>\n",
       "    </tr>\n",
       "    <tr>\n",
       "      <th>1756</th>\n",
       "      <td>4/8/20</td>\n",
       "      <td>2020-04-08</td>\n",
       "      <td>Wyoming</td>\n",
       "      <td>WY</td>\n",
       "      <td>221</td>\n",
       "      <td>0</td>\n",
       "      <td>91.0</td>\n",
       "      <td>4064</td>\n",
       "    </tr>\n",
       "  </tbody>\n",
       "</table>\n",
       "<p>1757 rows × 8 columns</p>\n",
       "</div>"
      ],
      "text/plain": [
       "        Date   Datetime          State State_code  Confirmed  Deaths  \\\n",
       "1688  3/4/20 2020-03-04      Wisconsin         WI          0       0   \n",
       "137   3/4/20 2020-03-04     California         CA         35       1   \n",
       "67    3/4/20 2020-03-04        Arizona         AZ          1       0   \n",
       "721   3/4/20 2020-03-04  Massachusetts         MA          2       0   \n",
       "448   3/4/20 2020-03-04       Illinois         IL          4       0   \n",
       "...      ...        ...            ...        ...        ...     ...   \n",
       "652   4/8/20 2020-04-08      Louisiana         LA      17030     652   \n",
       "1308  4/8/20 2020-04-08         Oregon         OR       1181      33   \n",
       "685   4/8/20 2020-04-08          Maine         ME        537      14   \n",
       "447   4/8/20 2020-04-08          Idaho         ID       1210      15   \n",
       "1756  4/8/20 2020-04-08        Wyoming         WY        221       0   \n",
       "\n",
       "      New_Weekly_Cases  totalTestResults  \n",
       "1688               0.0                20  \n",
       "137               25.0               515  \n",
       "67                 0.0                29  \n",
       "721                1.0                 2  \n",
       "448                2.0               128  \n",
       "...                ...               ...  \n",
       "652            10606.0             81406  \n",
       "1308             445.0             24564  \n",
       "685              234.0              6625  \n",
       "447              644.0             11898  \n",
       "1756              91.0              4064  \n",
       "\n",
       "[1757 rows x 8 columns]"
      ]
     },
     "execution_count": 45,
     "metadata": {},
     "output_type": "execute_result"
    }
   ],
   "source": [
    "grouped_df.lo"
   ]
  },
  {
   "cell_type": "code",
   "execution_count": 46,
   "metadata": {},
   "outputs": [
    {
     "name": "stdout",
     "output_type": "stream",
     "text": [
      "<class 'pandas.core.frame.DataFrame'>\n",
      "Int64Index: 1757 entries, 1688 to 1756\n",
      "Data columns (total 8 columns):\n",
      "Date                1757 non-null object\n",
      "Datetime            1757 non-null datetime64[ns]\n",
      "State               1757 non-null object\n",
      "State_code          1757 non-null object\n",
      "Confirmed           1757 non-null int64\n",
      "Deaths              1757 non-null int64\n",
      "New_Weekly_Cases    1757 non-null float64\n",
      "totalTestResults    1757 non-null int64\n",
      "dtypes: datetime64[ns](1), float64(1), int64(3), object(3)\n",
      "memory usage: 203.5+ KB\n"
     ]
    }
   ],
   "source": [
    "grouped_df.info()"
   ]
  },
  {
   "cell_type": "code",
   "execution_count": 60,
   "metadata": {},
   "outputs": [
    {
     "data": {
      "application/vnd.plotly.v1+json": {
       "config": {
        "plotlyServerURL": "https://plot.ly"
       },
       "data": [
        {
         "geo": "geo",
         "hoverlabel": {
          "namelength": 0
         },
         "hovertemplate": "State_code=%{location}",
         "locationmode": "USA-states",
         "locations": [
          "WI",
          "CA",
          "AZ",
          "MA",
          "IL",
          "TX",
          "OR",
          "GA",
          "SC",
          "NC",
          "WA",
          "FL",
          "NY",
          "NH",
          "WA",
          "CA",
          "TN",
          "AZ",
          "MD",
          "NJ",
          "MA",
          "IL",
          "NY",
          "TX",
          "OR",
          "MI",
          "GA",
          "CO",
          "SC",
          "WI",
          "NH",
          "OH",
          "NV",
          "DC",
          "VA",
          "NE",
          "NC",
          "FL",
          "IA",
          "IN",
          "CA",
          "WA",
          "AZ",
          "TN",
          "FL",
          "AR",
          "WI",
          "DE",
          "VA",
          "WV",
          "TX",
          "DC",
          "CO",
          "VT",
          "IL",
          "GA",
          "NM",
          "MN",
          "NJ",
          "NY",
          "NH",
          "NV",
          "NC",
          "NE",
          "OH",
          "SC",
          "AK",
          "MI",
          "OR",
          "MA",
          "KS",
          "MD",
          "PA",
          "KY",
          "MT",
          "VA",
          "DE",
          "KY",
          "NE",
          "NC",
          "IA",
          "NM",
          "NV",
          "TN",
          "ND",
          "WA",
          "CO",
          "NH",
          "NY",
          "WV",
          "CA",
          "KS",
          "NJ",
          "SD",
          "CT",
          "IN",
          "DC",
          "IL",
          "MD",
          "MA",
          "OR",
          "PA",
          "ME",
          "TX",
          "ID",
          "HI",
          "MO",
          "UT",
          "RI",
          "MI",
          "OK",
          "LA",
          "VT",
          "FL",
          "MN",
          "MS",
          "OH",
          "GA",
          "SC",
          "AL",
          "AK",
          "WI",
          "AZ",
          "WY",
          "AR",
          "MS",
          "AR",
          "AZ",
          "IN",
          "IA",
          "CT",
          "WA",
          "MN",
          "OK",
          "KS",
          "SC",
          "WY",
          "CO",
          "KY",
          "AL",
          "SD",
          "NH",
          "TN",
          "NY",
          "NC",
          "VT",
          "NV",
          "NE",
          "GA",
          "UT",
          "HI",
          "DC",
          "NJ",
          "MT",
          "VA",
          "ID",
          "TX",
          "IL",
          "MO",
          "OH",
          "DE",
          "WI",
          "ND",
          "MI",
          "FL",
          "OR",
          "PA",
          "LA",
          "MD",
          "ME",
          "NM",
          "MA",
          "WV",
          "RI",
          "AK",
          "CA",
          "WI",
          "MS",
          "ND",
          "CT",
          "PA",
          "OR",
          "MT",
          "IL",
          "WA",
          "IA",
          "VA",
          "NH",
          "RI",
          "TX",
          "AR",
          "ID",
          "CA",
          "TN",
          "MA",
          "NY",
          "MO",
          "OH",
          "ME",
          "AZ",
          "DE",
          "IN",
          "DC",
          "WV",
          "SD",
          "MI",
          "FL",
          "AL",
          "NC",
          "KY",
          "LA",
          "NJ",
          "CO",
          "VT",
          "NM",
          "WY",
          "NV",
          "NE",
          "GA",
          "SC",
          "HI",
          "MN",
          "MD",
          "AK",
          "KS",
          "OK",
          "UT",
          "VA",
          "MA",
          "HI",
          "MT",
          "FL",
          "AZ",
          "NC",
          "MO",
          "ID",
          "UT",
          "NM",
          "ND",
          "GA",
          "NV",
          "DC",
          "NE",
          "WI",
          "TX",
          "MD",
          "PA",
          "IL",
          "NY",
          "WY",
          "WA",
          "SC",
          "AR",
          "CT",
          "IA",
          "LA",
          "VT",
          "MS",
          "NJ",
          "KS",
          "MN",
          "IN",
          "CO",
          "RI",
          "SD",
          "OR",
          "CA",
          "TN",
          "OK",
          "KY",
          "AK",
          "MI",
          "NH",
          "AL",
          "OH",
          "ME",
          "WV",
          "DE",
          "MD",
          "OK",
          "KS",
          "MA",
          "NE",
          "WY",
          "NC",
          "MI",
          "FL",
          "SC",
          "GA",
          "SD",
          "LA",
          "ME",
          "AZ",
          "OH",
          "OR",
          "MO",
          "TN",
          "ID",
          "ND",
          "UT",
          "IN",
          "MS",
          "RI",
          "IA",
          "HI",
          "IL",
          "AK",
          "MN",
          "MT",
          "PA",
          "KY",
          "TX",
          "WI",
          "AL",
          "NJ",
          "VA",
          "NM",
          "NV",
          "AR",
          "CT",
          "DE",
          "CA",
          "WA",
          "CO",
          "NH",
          "VT",
          "NY",
          "WV",
          "DC",
          "UT",
          "MT",
          "ME",
          "IL",
          "GA",
          "DC",
          "KS",
          "OH",
          "AK",
          "IA",
          "WV",
          "OR",
          "SD",
          "TX",
          "MN",
          "NH",
          "PA",
          "HI",
          "MS",
          "WA",
          "VA",
          "IN",
          "ID",
          "OK",
          "MI",
          "LA",
          "DE",
          "VT",
          "FL",
          "AZ",
          "KY",
          "ND",
          "NY",
          "AR",
          "WY",
          "CO",
          "WI",
          "AL",
          "NC",
          "SC",
          "MD",
          "CA",
          "CT",
          "NE",
          "NV",
          "TN",
          "MA",
          "NM",
          "RI",
          "MO",
          "NJ",
          "SD",
          "ND",
          "LA",
          "DC",
          "TX",
          "VA",
          "MS",
          "NJ",
          "ID",
          "IN",
          "NH",
          "TN",
          "AZ",
          "CA",
          "MO",
          "NY",
          "MA",
          "IL",
          "OH",
          "ME",
          "DE",
          "CT",
          "AK",
          "GA",
          "KS",
          "NM",
          "NC",
          "OK",
          "NV",
          "WY",
          "NE",
          "MD",
          "SC",
          "CO",
          "AR",
          "FL",
          "VT",
          "KY",
          "MI",
          "OR",
          "AL",
          "UT",
          "MN",
          "WV",
          "RI",
          "PA",
          "WA",
          "MT",
          "HI",
          "IA",
          "WI",
          "IA",
          "LA",
          "SD",
          "CO",
          "IL",
          "MI",
          "KY",
          "AR",
          "RI",
          "CA",
          "CT",
          "OK",
          "TN",
          "MN",
          "KS",
          "MS",
          "WA",
          "AL",
          "NJ",
          "NH",
          "WY",
          "IN",
          "SC",
          "OH",
          "DE",
          "WI",
          "NC",
          "WV",
          "GA",
          "ME",
          "OR",
          "ID",
          "UT",
          "PA",
          "VA",
          "MT",
          "DC",
          "HI",
          "TX",
          "AK",
          "ND",
          "NV",
          "NE",
          "NM",
          "NY",
          "MD",
          "MO",
          "AZ",
          "FL",
          "MA",
          "VT",
          "MN",
          "DC",
          "MT",
          "OR",
          "NE",
          "VT",
          "FL",
          "HI",
          "AK",
          "WI",
          "KY",
          "PA",
          "IA",
          "UT",
          "NM",
          "WA",
          "RI",
          "WY",
          "CO",
          "GA",
          "MI",
          "MD",
          "ND",
          "KS",
          "AR",
          "NV",
          "NC",
          "SC",
          "OK",
          "SD",
          "DE",
          "ME",
          "AZ",
          "VA",
          "NY",
          "ID",
          "MS",
          "MO",
          "WV",
          "CA",
          "NJ",
          "TN",
          "CT",
          "IN",
          "AL",
          "TX",
          "OH",
          "IL",
          "MA",
          "LA",
          "NH",
          "NC",
          "NJ",
          "KS",
          "ND",
          "AZ",
          "NV",
          "AL",
          "SD",
          "NE",
          "TN",
          "CA",
          "MD",
          "CO",
          "VA",
          "VT",
          "MA",
          "OK",
          "OR",
          "FL",
          "IL",
          "MI",
          "DE",
          "SC",
          "MO",
          "AR",
          "DC",
          "HI",
          "CT",
          "PA",
          "IA",
          "WI",
          "MS",
          "GA",
          "MN",
          "ME",
          "IN",
          "UT",
          "LA",
          "MT",
          "NY",
          "WA",
          "AK",
          "WY",
          "ID",
          "RI",
          "OH",
          "NH",
          "WV",
          "TX",
          "NM",
          "KY",
          "WV",
          "PA",
          "OR",
          "CA",
          "AR",
          "MD",
          "LA",
          "ME",
          "NM",
          "NJ",
          "RI",
          "AK",
          "MA",
          "MI",
          "WI",
          "ND",
          "AL",
          "GA",
          "TX",
          "NC",
          "IA",
          "OH",
          "SD",
          "WY",
          "CT",
          "MT",
          "IN",
          "VA",
          "DC",
          "MS",
          "HI",
          "WA",
          "IL",
          "MN",
          "NH",
          "ID",
          "FL",
          "NY",
          "KY",
          "OK",
          "CO",
          "MO",
          "NV",
          "SC",
          "AZ",
          "KS",
          "NE",
          "DE",
          "UT",
          "VT",
          "TN",
          "WV",
          "TX",
          "NY",
          "ME",
          "OR",
          "PA",
          "OK",
          "AZ",
          "DC",
          "NJ",
          "ID",
          "NC",
          "GA",
          "AK",
          "NV",
          "UT",
          "VT",
          "NE",
          "MD",
          "FL",
          "WI",
          "HI",
          "MT",
          "DE",
          "SD",
          "WA",
          "MN",
          "NH",
          "IA",
          "OH",
          "KS",
          "ND",
          "NM",
          "LA",
          "IN",
          "CT",
          "CA",
          "SC",
          "MS",
          "IL",
          "MO",
          "AR",
          "TN",
          "KY",
          "AL",
          "MA",
          "RI",
          "MI",
          "WY",
          "CO",
          "VA",
          "AL",
          "NH",
          "NM",
          "OK",
          "MI",
          "NE",
          "ND",
          "OH",
          "NC",
          "MT",
          "NJ",
          "MS",
          "NV",
          "NY",
          "WY",
          "MA",
          "MO",
          "MN",
          "OR",
          "IA",
          "RI",
          "IN",
          "PA",
          "KS",
          "WV",
          "CT",
          "TX",
          "ID",
          "AR",
          "CA",
          "WA",
          "KY",
          "VT",
          "WI",
          "CO",
          "FL",
          "LA",
          "TN",
          "ME",
          "SC",
          "IL",
          "AZ",
          "UT",
          "HI",
          "DC",
          "SD",
          "GA",
          "DE",
          "MD",
          "AK",
          "VA",
          "MI",
          "IA",
          "AL",
          "IL",
          "WY",
          "MN",
          "NV",
          "OH",
          "SD",
          "VT",
          "SC",
          "WA",
          "OK",
          "KY",
          "DE",
          "CT",
          "VA",
          "MS",
          "CO",
          "KS",
          "DC",
          "IN",
          "NH",
          "WI",
          "TX",
          "NY",
          "ME",
          "UT",
          "PA",
          "RI",
          "AK",
          "WV",
          "AR",
          "MA",
          "CA",
          "AZ",
          "ID",
          "MD",
          "NJ",
          "NE",
          "ND",
          "OR",
          "TN",
          "GA",
          "MT",
          "NM",
          "FL",
          "LA",
          "MO",
          "NC",
          "HI",
          "NC",
          "GA",
          "NV",
          "SD",
          "MT",
          "OH",
          "AZ",
          "WY",
          "IN",
          "ND",
          "NY",
          "TN",
          "IL",
          "AL",
          "FL",
          "DC",
          "NE",
          "MO",
          "ID",
          "MS",
          "UT",
          "TX",
          "HI",
          "VT",
          "WI",
          "MN",
          "AR",
          "LA",
          "CT",
          "MI",
          "KY",
          "KS",
          "CO",
          "SC",
          "NJ",
          "WA",
          "NM",
          "AK",
          "NH",
          "OK",
          "VA",
          "MA",
          "IA",
          "MD",
          "PA",
          "OR",
          "DE",
          "RI",
          "ME",
          "WV",
          "CA",
          "OK",
          "TN",
          "FL",
          "NM",
          "MO",
          "LA",
          "WA",
          "NJ",
          "UT",
          "ME",
          "ID",
          "CA",
          "MA",
          "PA",
          "TX",
          "AK",
          "AZ",
          "NE",
          "RI",
          "CO",
          "ND",
          "NV",
          "OH",
          "DE",
          "MN",
          "NC",
          "WI",
          "IA",
          "SD",
          "VA",
          "MT",
          "DC",
          "GA",
          "IN",
          "MD",
          "SC",
          "KS",
          "AL",
          "HI",
          "OR",
          "WV",
          "IL",
          "NY",
          "CT",
          "NH",
          "MI",
          "MS",
          "AR",
          "VT",
          "KY",
          "WY",
          "NJ",
          "WV",
          "NV",
          "CA",
          "VA",
          "CT",
          "DC",
          "VT",
          "NH",
          "CO",
          "AZ",
          "NY",
          "NM",
          "DE",
          "FL",
          "NE",
          "WA",
          "UT",
          "AL",
          "NC",
          "AR",
          "IL",
          "MN",
          "IN",
          "OK",
          "MO",
          "ID",
          "ME",
          "PA",
          "OH",
          "WI",
          "TN",
          "ND",
          "MA",
          "SD",
          "LA",
          "AK",
          "MD",
          "IA",
          "RI",
          "MI",
          "KS",
          "MT",
          "GA",
          "SC",
          "OR",
          "KY",
          "TX",
          "WY",
          "MS",
          "HI",
          "WA",
          "DC",
          "IN",
          "LA",
          "KS",
          "NH",
          "SD",
          "MI",
          "VT",
          "OK",
          "SC",
          "RI",
          "CT",
          "WI",
          "NM",
          "VA",
          "OH",
          "KY",
          "NV",
          "AK",
          "MN",
          "IA",
          "DE",
          "NJ",
          "WY",
          "HI",
          "MD",
          "MO",
          "UT",
          "TX",
          "MS",
          "AZ",
          "ME",
          "FL",
          "WV",
          "NE",
          "ID",
          "GA",
          "AR",
          "CA",
          "IL",
          "CO",
          "NC",
          "NY",
          "PA",
          "OR",
          "MA",
          "ND",
          "AL",
          "TN",
          "MT",
          "OR",
          "AR",
          "WV",
          "CA",
          "KY",
          "RI",
          "NJ",
          "NM",
          "ME",
          "OK",
          "PA",
          "MA",
          "LA",
          "WA",
          "NH",
          "CO",
          "MD",
          "AK",
          "DC",
          "MI",
          "IL",
          "NY",
          "ND",
          "AL",
          "TN",
          "NE",
          "IN",
          "ID",
          "AZ",
          "UT",
          "MO",
          "HI",
          "WY",
          "TX",
          "GA",
          "NC",
          "FL",
          "SD",
          "MS",
          "NV",
          "KS",
          "CT",
          "VA",
          "SC",
          "WI",
          "MN",
          "MT",
          "DE",
          "IA",
          "OH",
          "VT",
          "PA",
          "WI",
          "TX",
          "WV",
          "SD",
          "VA",
          "WY",
          "WA",
          "OH",
          "SC",
          "UT",
          "OR",
          "RI",
          "OK",
          "ND",
          "TN",
          "NM",
          "VT",
          "NY",
          "NC",
          "MO",
          "KY",
          "NE",
          "AL",
          "MT",
          "MS",
          "MN",
          "AK",
          "MI",
          "MA",
          "MD",
          "ME",
          "LA",
          "KS",
          "AZ",
          "IA",
          "IN",
          "IL",
          "ID",
          "AR",
          "HI",
          "GA",
          "FL",
          "DC",
          "DE",
          "CT",
          "CO",
          "NV",
          "NH",
          "CA",
          "NJ",
          "ID",
          "GA",
          "LA",
          "VT",
          "WY",
          "AK",
          "SC",
          "IL",
          "OH",
          "NE",
          "MN",
          "AL",
          "UT",
          "IN",
          "AR",
          "NJ",
          "KY",
          "CA",
          "MS",
          "MT",
          "NM",
          "NC",
          "RI",
          "FL",
          "CO",
          "SD",
          "KS",
          "ND",
          "MO",
          "DC",
          "DE",
          "MI",
          "WV",
          "WI",
          "VA",
          "ME",
          "OR",
          "HI",
          "NH",
          "IA",
          "MD",
          "CT",
          "TX",
          "MA",
          "PA",
          "NV",
          "AZ",
          "OK",
          "TN",
          "NY",
          "WA",
          "ID",
          "SD",
          "MO",
          "ME",
          "DC",
          "RI",
          "MI",
          "ND",
          "WI",
          "OR",
          "GA",
          "HI",
          "WV",
          "CO",
          "OH",
          "IL",
          "PA",
          "NJ",
          "MN",
          "MA",
          "WA",
          "TX",
          "LA",
          "UT",
          "AZ",
          "KY",
          "CT",
          "MD",
          "MS",
          "OK",
          "TN",
          "AK",
          "FL",
          "NE",
          "NV",
          "MT",
          "DE",
          "VT",
          "KS",
          "NC",
          "IA",
          "NH",
          "AR",
          "WY",
          "SC",
          "CA",
          "AL",
          "VA",
          "NM",
          "IN",
          "NY",
          "AK",
          "IN",
          "SC",
          "LA",
          "IL",
          "MI",
          "OH",
          "GA",
          "NY",
          "DE",
          "OK",
          "VA",
          "ID",
          "ME",
          "HI",
          "OR",
          "CT",
          "NH",
          "CA",
          "AR",
          "MD",
          "IA",
          "TX",
          "MA",
          "TN",
          "NV",
          "WA",
          "NE",
          "WY",
          "WI",
          "PA",
          "AZ",
          "NM",
          "FL",
          "WV",
          "CO",
          "RI",
          "NC",
          "MS",
          "ND",
          "MT",
          "DC",
          "VT",
          "UT",
          "KS",
          "NJ",
          "SD",
          "MN",
          "AL",
          "MO",
          "KY",
          "NM",
          "WV",
          "AL",
          "MA",
          "NJ",
          "NV",
          "ME",
          "MO",
          "IN",
          "TX",
          "OR",
          "ND",
          "HI",
          "WI",
          "MD",
          "WY",
          "VT",
          "SD",
          "DC",
          "CT",
          "ID",
          "TN",
          "IA",
          "NC",
          "PA",
          "LA",
          "NH",
          "MT",
          "AZ",
          "DE",
          "CO",
          "MI",
          "UT",
          "VA",
          "NE",
          "MN",
          "FL",
          "IL",
          "OH",
          "KY",
          "SC",
          "KS",
          "AK",
          "NY",
          "WA",
          "GA",
          "MS",
          "CA",
          "AR",
          "RI",
          "OK",
          "TN",
          "KS",
          "PA",
          "ME",
          "IL",
          "RI",
          "IA",
          "SC",
          "AZ",
          "IN",
          "CO",
          "SD",
          "KY",
          "ID",
          "LA",
          "VA",
          "WI",
          "WA",
          "FL",
          "OH",
          "NH",
          "MN",
          "UT",
          "MS",
          "ND",
          "DC",
          "MO",
          "MI",
          "AL",
          "NC",
          "MT",
          "NE",
          "DE",
          "CA",
          "NY",
          "NV",
          "CT",
          "WY",
          "NM",
          "VT",
          "GA",
          "WV",
          "AK",
          "OR",
          "AR",
          "HI",
          "MD",
          "NJ",
          "TX",
          "OK",
          "MA",
          "KS",
          "TN",
          "AR",
          "NC",
          "MD",
          "AL",
          "MT",
          "CA",
          "MO",
          "VT",
          "DE",
          "NE",
          "ID",
          "OR",
          "NY",
          "SC",
          "HI",
          "NV",
          "IN",
          "VA",
          "CO",
          "CT",
          "WI",
          "WY",
          "ME",
          "IA",
          "NM",
          "DC",
          "MN",
          "PA",
          "OH",
          "KY",
          "AK",
          "TX",
          "SD",
          "UT",
          "NH",
          "MA",
          "MS",
          "FL",
          "WA",
          "NJ",
          "RI",
          "IL",
          "MI",
          "OK",
          "AZ",
          "ND",
          "LA",
          "GA",
          "WV",
          "CT",
          "HI",
          "GA",
          "IN",
          "WV",
          "SD",
          "TX",
          "UT",
          "DE",
          "VA",
          "TN",
          "VT",
          "AR",
          "NJ",
          "IL",
          "AZ",
          "DC",
          "FL",
          "ID",
          "NM",
          "PA",
          "OH",
          "AL",
          "RI",
          "KY",
          "WI",
          "MS",
          "NE",
          "AK",
          "CA",
          "ME",
          "NV",
          "WA",
          "NY",
          "OK",
          "LA",
          "OR",
          "MD",
          "NC",
          "MA",
          "MO",
          "CO",
          "SC",
          "IA",
          "MT",
          "ND",
          "NH",
          "KS",
          "MN",
          "WY",
          "MI",
          "NC",
          "TN",
          "WV",
          "OH",
          "OK",
          "MA",
          "TX",
          "NY",
          "AR",
          "WI",
          "ME",
          "FL",
          "NE",
          "MI",
          "OR",
          "VT",
          "NH",
          "MT",
          "CA",
          "DE",
          "HI",
          "MD",
          "AL",
          "LA",
          "IN",
          "NM",
          "SC",
          "IA",
          "MS",
          "DC",
          "NJ",
          "KS",
          "WY",
          "SD",
          "ND",
          "CO",
          "MN",
          "MO",
          "NV",
          "AK",
          "IL",
          "PA",
          "ID",
          "WA",
          "VA",
          "AZ",
          "CT",
          "UT",
          "KY",
          "RI",
          "GA",
          "UT",
          "VA",
          "FL",
          "WA",
          "DC",
          "NC",
          "ND",
          "OH",
          "VT",
          "MO",
          "MA",
          "MS",
          "MN",
          "AL",
          "MI",
          "CA",
          "WV",
          "LA",
          "PA",
          "GA",
          "ID",
          "WY",
          "CT",
          "NE",
          "AZ",
          "KS",
          "KY",
          "IL",
          "CO",
          "RI",
          "NV",
          "AR",
          "AK",
          "NJ",
          "NY",
          "IN",
          "TX",
          "OK",
          "WI",
          "MT",
          "SC",
          "MD",
          "NH",
          "OR",
          "DE",
          "HI",
          "IA",
          "ME",
          "NM",
          "TN",
          "SD",
          "NM",
          "NE",
          "MO",
          "CT",
          "NC",
          "NY",
          "MT",
          "DE",
          "VT",
          "NV",
          "IN",
          "WV",
          "MS",
          "NH",
          "AZ",
          "TN",
          "LA",
          "PA",
          "AR",
          "ID",
          "CO",
          "KY",
          "IL",
          "RI",
          "SD",
          "AK",
          "KS",
          "WY",
          "IA",
          "SC",
          "ME",
          "NJ",
          "CA",
          "OR",
          "UT",
          "MN",
          "OH",
          "FL",
          "HI",
          "MI",
          "MA",
          "TX",
          "WA",
          "OK",
          "ND",
          "WI",
          "GA",
          "MD",
          "DC",
          "AL",
          "VA",
          "VA",
          "CA",
          "CO",
          "WA",
          "AR",
          "WY",
          "AK",
          "VT",
          "LA",
          "ME",
          "OR",
          "MD",
          "WI",
          "OK",
          "MA",
          "MI",
          "OH",
          "CT",
          "MN",
          "ND",
          "MS",
          "MO",
          "NC",
          "MT",
          "NY",
          "NE",
          "NV",
          "NM",
          "AL",
          "NH",
          "PA",
          "RI",
          "WV",
          "FL",
          "HI",
          "UT",
          "KY",
          "AZ",
          "TN",
          "ID",
          "IL",
          "SD",
          "DC",
          "IN",
          "NJ",
          "SC",
          "IA",
          "DE",
          "KS",
          "TX",
          "GA",
          "AL",
          "WV",
          "AZ",
          "WI",
          "AK",
          "AR",
          "NJ",
          "SC",
          "KY",
          "NC",
          "ID",
          "IL",
          "MO",
          "SD",
          "WY",
          "IN",
          "MS",
          "IA",
          "ND",
          "KS",
          "MN",
          "RI",
          "OH",
          "PA",
          "LA",
          "ME",
          "MI",
          "OR",
          "MD",
          "MA",
          "MT",
          "HI",
          "TN",
          "VT",
          "WA",
          "CA",
          "CO",
          "NH",
          "VA",
          "CT",
          "NM",
          "DE",
          "DC",
          "NV",
          "OK",
          "UT",
          "GA",
          "FL",
          "TX",
          "NE",
          "NY",
          "MS",
          "MA",
          "NJ",
          "NC",
          "NH",
          "MI",
          "WI",
          "OH",
          "MO",
          "AL",
          "NM",
          "MN",
          "MT",
          "ND",
          "NV",
          "NE",
          "NY",
          "WA",
          "MD",
          "CA",
          "CO",
          "VA",
          "CT",
          "VT",
          "DE",
          "DC",
          "UT",
          "FL",
          "TX",
          "GA",
          "WV",
          "AZ",
          "HI",
          "OK",
          "TN",
          "SD",
          "IL",
          "IN",
          "SC",
          "AK",
          "IA",
          "KS",
          "RI",
          "AR",
          "KY",
          "PA",
          "LA",
          "OR",
          "ME",
          "ID",
          "WY"
         ],
         "name": "",
         "type": "choropleth"
        }
       ],
       "layout": {
        "geo": {
         "center": {},
         "domain": {
          "x": [
           0,
           1
          ],
          "y": [
           0,
           1
          ]
         },
         "scope": "usa"
        },
        "legend": {
         "tracegroupgap": 0
        },
        "margin": {
         "t": 60
        },
        "template": {
         "data": {
          "bar": [
           {
            "error_x": {
             "color": "#2a3f5f"
            },
            "error_y": {
             "color": "#2a3f5f"
            },
            "marker": {
             "line": {
              "color": "#E5ECF6",
              "width": 0.5
             }
            },
            "type": "bar"
           }
          ],
          "barpolar": [
           {
            "marker": {
             "line": {
              "color": "#E5ECF6",
              "width": 0.5
             }
            },
            "type": "barpolar"
           }
          ],
          "carpet": [
           {
            "aaxis": {
             "endlinecolor": "#2a3f5f",
             "gridcolor": "white",
             "linecolor": "white",
             "minorgridcolor": "white",
             "startlinecolor": "#2a3f5f"
            },
            "baxis": {
             "endlinecolor": "#2a3f5f",
             "gridcolor": "white",
             "linecolor": "white",
             "minorgridcolor": "white",
             "startlinecolor": "#2a3f5f"
            },
            "type": "carpet"
           }
          ],
          "choropleth": [
           {
            "colorbar": {
             "outlinewidth": 0,
             "ticks": ""
            },
            "type": "choropleth"
           }
          ],
          "contour": [
           {
            "colorbar": {
             "outlinewidth": 0,
             "ticks": ""
            },
            "colorscale": [
             [
              0,
              "#0d0887"
             ],
             [
              0.1111111111111111,
              "#46039f"
             ],
             [
              0.2222222222222222,
              "#7201a8"
             ],
             [
              0.3333333333333333,
              "#9c179e"
             ],
             [
              0.4444444444444444,
              "#bd3786"
             ],
             [
              0.5555555555555556,
              "#d8576b"
             ],
             [
              0.6666666666666666,
              "#ed7953"
             ],
             [
              0.7777777777777778,
              "#fb9f3a"
             ],
             [
              0.8888888888888888,
              "#fdca26"
             ],
             [
              1,
              "#f0f921"
             ]
            ],
            "type": "contour"
           }
          ],
          "contourcarpet": [
           {
            "colorbar": {
             "outlinewidth": 0,
             "ticks": ""
            },
            "type": "contourcarpet"
           }
          ],
          "heatmap": [
           {
            "colorbar": {
             "outlinewidth": 0,
             "ticks": ""
            },
            "colorscale": [
             [
              0,
              "#0d0887"
             ],
             [
              0.1111111111111111,
              "#46039f"
             ],
             [
              0.2222222222222222,
              "#7201a8"
             ],
             [
              0.3333333333333333,
              "#9c179e"
             ],
             [
              0.4444444444444444,
              "#bd3786"
             ],
             [
              0.5555555555555556,
              "#d8576b"
             ],
             [
              0.6666666666666666,
              "#ed7953"
             ],
             [
              0.7777777777777778,
              "#fb9f3a"
             ],
             [
              0.8888888888888888,
              "#fdca26"
             ],
             [
              1,
              "#f0f921"
             ]
            ],
            "type": "heatmap"
           }
          ],
          "heatmapgl": [
           {
            "colorbar": {
             "outlinewidth": 0,
             "ticks": ""
            },
            "colorscale": [
             [
              0,
              "#0d0887"
             ],
             [
              0.1111111111111111,
              "#46039f"
             ],
             [
              0.2222222222222222,
              "#7201a8"
             ],
             [
              0.3333333333333333,
              "#9c179e"
             ],
             [
              0.4444444444444444,
              "#bd3786"
             ],
             [
              0.5555555555555556,
              "#d8576b"
             ],
             [
              0.6666666666666666,
              "#ed7953"
             ],
             [
              0.7777777777777778,
              "#fb9f3a"
             ],
             [
              0.8888888888888888,
              "#fdca26"
             ],
             [
              1,
              "#f0f921"
             ]
            ],
            "type": "heatmapgl"
           }
          ],
          "histogram": [
           {
            "marker": {
             "colorbar": {
              "outlinewidth": 0,
              "ticks": ""
             }
            },
            "type": "histogram"
           }
          ],
          "histogram2d": [
           {
            "colorbar": {
             "outlinewidth": 0,
             "ticks": ""
            },
            "colorscale": [
             [
              0,
              "#0d0887"
             ],
             [
              0.1111111111111111,
              "#46039f"
             ],
             [
              0.2222222222222222,
              "#7201a8"
             ],
             [
              0.3333333333333333,
              "#9c179e"
             ],
             [
              0.4444444444444444,
              "#bd3786"
             ],
             [
              0.5555555555555556,
              "#d8576b"
             ],
             [
              0.6666666666666666,
              "#ed7953"
             ],
             [
              0.7777777777777778,
              "#fb9f3a"
             ],
             [
              0.8888888888888888,
              "#fdca26"
             ],
             [
              1,
              "#f0f921"
             ]
            ],
            "type": "histogram2d"
           }
          ],
          "histogram2dcontour": [
           {
            "colorbar": {
             "outlinewidth": 0,
             "ticks": ""
            },
            "colorscale": [
             [
              0,
              "#0d0887"
             ],
             [
              0.1111111111111111,
              "#46039f"
             ],
             [
              0.2222222222222222,
              "#7201a8"
             ],
             [
              0.3333333333333333,
              "#9c179e"
             ],
             [
              0.4444444444444444,
              "#bd3786"
             ],
             [
              0.5555555555555556,
              "#d8576b"
             ],
             [
              0.6666666666666666,
              "#ed7953"
             ],
             [
              0.7777777777777778,
              "#fb9f3a"
             ],
             [
              0.8888888888888888,
              "#fdca26"
             ],
             [
              1,
              "#f0f921"
             ]
            ],
            "type": "histogram2dcontour"
           }
          ],
          "mesh3d": [
           {
            "colorbar": {
             "outlinewidth": 0,
             "ticks": ""
            },
            "type": "mesh3d"
           }
          ],
          "parcoords": [
           {
            "line": {
             "colorbar": {
              "outlinewidth": 0,
              "ticks": ""
             }
            },
            "type": "parcoords"
           }
          ],
          "pie": [
           {
            "automargin": true,
            "type": "pie"
           }
          ],
          "scatter": [
           {
            "marker": {
             "colorbar": {
              "outlinewidth": 0,
              "ticks": ""
             }
            },
            "type": "scatter"
           }
          ],
          "scatter3d": [
           {
            "line": {
             "colorbar": {
              "outlinewidth": 0,
              "ticks": ""
             }
            },
            "marker": {
             "colorbar": {
              "outlinewidth": 0,
              "ticks": ""
             }
            },
            "type": "scatter3d"
           }
          ],
          "scattercarpet": [
           {
            "marker": {
             "colorbar": {
              "outlinewidth": 0,
              "ticks": ""
             }
            },
            "type": "scattercarpet"
           }
          ],
          "scattergeo": [
           {
            "marker": {
             "colorbar": {
              "outlinewidth": 0,
              "ticks": ""
             }
            },
            "type": "scattergeo"
           }
          ],
          "scattergl": [
           {
            "marker": {
             "colorbar": {
              "outlinewidth": 0,
              "ticks": ""
             }
            },
            "type": "scattergl"
           }
          ],
          "scattermapbox": [
           {
            "marker": {
             "colorbar": {
              "outlinewidth": 0,
              "ticks": ""
             }
            },
            "type": "scattermapbox"
           }
          ],
          "scatterpolar": [
           {
            "marker": {
             "colorbar": {
              "outlinewidth": 0,
              "ticks": ""
             }
            },
            "type": "scatterpolar"
           }
          ],
          "scatterpolargl": [
           {
            "marker": {
             "colorbar": {
              "outlinewidth": 0,
              "ticks": ""
             }
            },
            "type": "scatterpolargl"
           }
          ],
          "scatterternary": [
           {
            "marker": {
             "colorbar": {
              "outlinewidth": 0,
              "ticks": ""
             }
            },
            "type": "scatterternary"
           }
          ],
          "surface": [
           {
            "colorbar": {
             "outlinewidth": 0,
             "ticks": ""
            },
            "colorscale": [
             [
              0,
              "#0d0887"
             ],
             [
              0.1111111111111111,
              "#46039f"
             ],
             [
              0.2222222222222222,
              "#7201a8"
             ],
             [
              0.3333333333333333,
              "#9c179e"
             ],
             [
              0.4444444444444444,
              "#bd3786"
             ],
             [
              0.5555555555555556,
              "#d8576b"
             ],
             [
              0.6666666666666666,
              "#ed7953"
             ],
             [
              0.7777777777777778,
              "#fb9f3a"
             ],
             [
              0.8888888888888888,
              "#fdca26"
             ],
             [
              1,
              "#f0f921"
             ]
            ],
            "type": "surface"
           }
          ],
          "table": [
           {
            "cells": {
             "fill": {
              "color": "#EBF0F8"
             },
             "line": {
              "color": "white"
             }
            },
            "header": {
             "fill": {
              "color": "#C8D4E3"
             },
             "line": {
              "color": "white"
             }
            },
            "type": "table"
           }
          ]
         },
         "layout": {
          "annotationdefaults": {
           "arrowcolor": "#2a3f5f",
           "arrowhead": 0,
           "arrowwidth": 1
          },
          "coloraxis": {
           "colorbar": {
            "outlinewidth": 0,
            "ticks": ""
           }
          },
          "colorscale": {
           "diverging": [
            [
             0,
             "#8e0152"
            ],
            [
             0.1,
             "#c51b7d"
            ],
            [
             0.2,
             "#de77ae"
            ],
            [
             0.3,
             "#f1b6da"
            ],
            [
             0.4,
             "#fde0ef"
            ],
            [
             0.5,
             "#f7f7f7"
            ],
            [
             0.6,
             "#e6f5d0"
            ],
            [
             0.7,
             "#b8e186"
            ],
            [
             0.8,
             "#7fbc41"
            ],
            [
             0.9,
             "#4d9221"
            ],
            [
             1,
             "#276419"
            ]
           ],
           "sequential": [
            [
             0,
             "#0d0887"
            ],
            [
             0.1111111111111111,
             "#46039f"
            ],
            [
             0.2222222222222222,
             "#7201a8"
            ],
            [
             0.3333333333333333,
             "#9c179e"
            ],
            [
             0.4444444444444444,
             "#bd3786"
            ],
            [
             0.5555555555555556,
             "#d8576b"
            ],
            [
             0.6666666666666666,
             "#ed7953"
            ],
            [
             0.7777777777777778,
             "#fb9f3a"
            ],
            [
             0.8888888888888888,
             "#fdca26"
            ],
            [
             1,
             "#f0f921"
            ]
           ],
           "sequentialminus": [
            [
             0,
             "#0d0887"
            ],
            [
             0.1111111111111111,
             "#46039f"
            ],
            [
             0.2222222222222222,
             "#7201a8"
            ],
            [
             0.3333333333333333,
             "#9c179e"
            ],
            [
             0.4444444444444444,
             "#bd3786"
            ],
            [
             0.5555555555555556,
             "#d8576b"
            ],
            [
             0.6666666666666666,
             "#ed7953"
            ],
            [
             0.7777777777777778,
             "#fb9f3a"
            ],
            [
             0.8888888888888888,
             "#fdca26"
            ],
            [
             1,
             "#f0f921"
            ]
           ]
          },
          "colorway": [
           "#636efa",
           "#EF553B",
           "#00cc96",
           "#ab63fa",
           "#FFA15A",
           "#19d3f3",
           "#FF6692",
           "#B6E880",
           "#FF97FF",
           "#FECB52"
          ],
          "font": {
           "color": "#2a3f5f"
          },
          "geo": {
           "bgcolor": "white",
           "lakecolor": "white",
           "landcolor": "#E5ECF6",
           "showlakes": true,
           "showland": true,
           "subunitcolor": "white"
          },
          "hoverlabel": {
           "align": "left"
          },
          "hovermode": "closest",
          "mapbox": {
           "style": "light"
          },
          "paper_bgcolor": "white",
          "plot_bgcolor": "#E5ECF6",
          "polar": {
           "angularaxis": {
            "gridcolor": "white",
            "linecolor": "white",
            "ticks": ""
           },
           "bgcolor": "#E5ECF6",
           "radialaxis": {
            "gridcolor": "white",
            "linecolor": "white",
            "ticks": ""
           }
          },
          "scene": {
           "xaxis": {
            "backgroundcolor": "#E5ECF6",
            "gridcolor": "white",
            "gridwidth": 2,
            "linecolor": "white",
            "showbackground": true,
            "ticks": "",
            "zerolinecolor": "white"
           },
           "yaxis": {
            "backgroundcolor": "#E5ECF6",
            "gridcolor": "white",
            "gridwidth": 2,
            "linecolor": "white",
            "showbackground": true,
            "ticks": "",
            "zerolinecolor": "white"
           },
           "zaxis": {
            "backgroundcolor": "#E5ECF6",
            "gridcolor": "white",
            "gridwidth": 2,
            "linecolor": "white",
            "showbackground": true,
            "ticks": "",
            "zerolinecolor": "white"
           }
          },
          "shapedefaults": {
           "line": {
            "color": "#2a3f5f"
           }
          },
          "ternary": {
           "aaxis": {
            "gridcolor": "white",
            "linecolor": "white",
            "ticks": ""
           },
           "baxis": {
            "gridcolor": "white",
            "linecolor": "white",
            "ticks": ""
           },
           "bgcolor": "#E5ECF6",
           "caxis": {
            "gridcolor": "white",
            "linecolor": "white",
            "ticks": ""
           }
          },
          "title": {
           "x": 0.05
          },
          "xaxis": {
           "automargin": true,
           "gridcolor": "white",
           "linecolor": "white",
           "ticks": "",
           "title": {
            "standoff": 15
           },
           "zerolinecolor": "white",
           "zerolinewidth": 2
          },
          "yaxis": {
           "automargin": true,
           "gridcolor": "white",
           "linecolor": "white",
           "ticks": "",
           "title": {
            "standoff": 15
           },
           "zerolinecolor": "white",
           "zerolinewidth": 2
          }
         }
        }
       }
      },
      "text/html": [
       "<div>\n",
       "        \n",
       "        \n",
       "            <div id=\"fea31ae1-a114-44fc-85c5-7d0ca3e6c1af\" class=\"plotly-graph-div\" style=\"height:525px; width:100%;\"></div>\n",
       "            <script type=\"text/javascript\">\n",
       "                require([\"plotly\"], function(Plotly) {\n",
       "                    window.PLOTLYENV=window.PLOTLYENV || {};\n",
       "                    \n",
       "                if (document.getElementById(\"fea31ae1-a114-44fc-85c5-7d0ca3e6c1af\")) {\n",
       "                    Plotly.newPlot(\n",
       "                        'fea31ae1-a114-44fc-85c5-7d0ca3e6c1af',\n",
       "                        [{\"geo\": \"geo\", \"hoverlabel\": {\"namelength\": 0}, \"hovertemplate\": \"State_code=%{location}\", \"locationmode\": \"USA-states\", \"locations\": [\"WI\", \"CA\", \"AZ\", \"MA\", \"IL\", \"TX\", \"OR\", \"GA\", \"SC\", \"NC\", \"WA\", \"FL\", \"NY\", \"NH\", \"WA\", \"CA\", \"TN\", \"AZ\", \"MD\", \"NJ\", \"MA\", \"IL\", \"NY\", \"TX\", \"OR\", \"MI\", \"GA\", \"CO\", \"SC\", \"WI\", \"NH\", \"OH\", \"NV\", \"DC\", \"VA\", \"NE\", \"NC\", \"FL\", \"IA\", \"IN\", \"CA\", \"WA\", \"AZ\", \"TN\", \"FL\", \"AR\", \"WI\", \"DE\", \"VA\", \"WV\", \"TX\", \"DC\", \"CO\", \"VT\", \"IL\", \"GA\", \"NM\", \"MN\", \"NJ\", \"NY\", \"NH\", \"NV\", \"NC\", \"NE\", \"OH\", \"SC\", \"AK\", \"MI\", \"OR\", \"MA\", \"KS\", \"MD\", \"PA\", \"KY\", \"MT\", \"VA\", \"DE\", \"KY\", \"NE\", \"NC\", \"IA\", \"NM\", \"NV\", \"TN\", \"ND\", \"WA\", \"CO\", \"NH\", \"NY\", \"WV\", \"CA\", \"KS\", \"NJ\", \"SD\", \"CT\", \"IN\", \"DC\", \"IL\", \"MD\", \"MA\", \"OR\", \"PA\", \"ME\", \"TX\", \"ID\", \"HI\", \"MO\", \"UT\", \"RI\", \"MI\", \"OK\", \"LA\", \"VT\", \"FL\", \"MN\", \"MS\", \"OH\", \"GA\", \"SC\", \"AL\", \"AK\", \"WI\", \"AZ\", \"WY\", \"AR\", \"MS\", \"AR\", \"AZ\", \"IN\", \"IA\", \"CT\", \"WA\", \"MN\", \"OK\", \"KS\", \"SC\", \"WY\", \"CO\", \"KY\", \"AL\", \"SD\", \"NH\", \"TN\", \"NY\", \"NC\", \"VT\", \"NV\", \"NE\", \"GA\", \"UT\", \"HI\", \"DC\", \"NJ\", \"MT\", \"VA\", \"ID\", \"TX\", \"IL\", \"MO\", \"OH\", \"DE\", \"WI\", \"ND\", \"MI\", \"FL\", \"OR\", \"PA\", \"LA\", \"MD\", \"ME\", \"NM\", \"MA\", \"WV\", \"RI\", \"AK\", \"CA\", \"WI\", \"MS\", \"ND\", \"CT\", \"PA\", \"OR\", \"MT\", \"IL\", \"WA\", \"IA\", \"VA\", \"NH\", \"RI\", \"TX\", \"AR\", \"ID\", \"CA\", \"TN\", \"MA\", \"NY\", \"MO\", \"OH\", \"ME\", \"AZ\", \"DE\", \"IN\", \"DC\", \"WV\", \"SD\", \"MI\", \"FL\", \"AL\", \"NC\", \"KY\", \"LA\", \"NJ\", \"CO\", \"VT\", \"NM\", \"WY\", \"NV\", \"NE\", \"GA\", \"SC\", \"HI\", \"MN\", \"MD\", \"AK\", \"KS\", \"OK\", \"UT\", \"VA\", \"MA\", \"HI\", \"MT\", \"FL\", \"AZ\", \"NC\", \"MO\", \"ID\", \"UT\", \"NM\", \"ND\", \"GA\", \"NV\", \"DC\", \"NE\", \"WI\", \"TX\", \"MD\", \"PA\", \"IL\", \"NY\", \"WY\", \"WA\", \"SC\", \"AR\", \"CT\", \"IA\", \"LA\", \"VT\", \"MS\", \"NJ\", \"KS\", \"MN\", \"IN\", \"CO\", \"RI\", \"SD\", \"OR\", \"CA\", \"TN\", \"OK\", \"KY\", \"AK\", \"MI\", \"NH\", \"AL\", \"OH\", \"ME\", \"WV\", \"DE\", \"MD\", \"OK\", \"KS\", \"MA\", \"NE\", \"WY\", \"NC\", \"MI\", \"FL\", \"SC\", \"GA\", \"SD\", \"LA\", \"ME\", \"AZ\", \"OH\", \"OR\", \"MO\", \"TN\", \"ID\", \"ND\", \"UT\", \"IN\", \"MS\", \"RI\", \"IA\", \"HI\", \"IL\", \"AK\", \"MN\", \"MT\", \"PA\", \"KY\", \"TX\", \"WI\", \"AL\", \"NJ\", \"VA\", \"NM\", \"NV\", \"AR\", \"CT\", \"DE\", \"CA\", \"WA\", \"CO\", \"NH\", \"VT\", \"NY\", \"WV\", \"DC\", \"UT\", \"MT\", \"ME\", \"IL\", \"GA\", \"DC\", \"KS\", \"OH\", \"AK\", \"IA\", \"WV\", \"OR\", \"SD\", \"TX\", \"MN\", \"NH\", \"PA\", \"HI\", \"MS\", \"WA\", \"VA\", \"IN\", \"ID\", \"OK\", \"MI\", \"LA\", \"DE\", \"VT\", \"FL\", \"AZ\", \"KY\", \"ND\", \"NY\", \"AR\", \"WY\", \"CO\", \"WI\", \"AL\", \"NC\", \"SC\", \"MD\", \"CA\", \"CT\", \"NE\", \"NV\", \"TN\", \"MA\", \"NM\", \"RI\", \"MO\", \"NJ\", \"SD\", \"ND\", \"LA\", \"DC\", \"TX\", \"VA\", \"MS\", \"NJ\", \"ID\", \"IN\", \"NH\", \"TN\", \"AZ\", \"CA\", \"MO\", \"NY\", \"MA\", \"IL\", \"OH\", \"ME\", \"DE\", \"CT\", \"AK\", \"GA\", \"KS\", \"NM\", \"NC\", \"OK\", \"NV\", \"WY\", \"NE\", \"MD\", \"SC\", \"CO\", \"AR\", \"FL\", \"VT\", \"KY\", \"MI\", \"OR\", \"AL\", \"UT\", \"MN\", \"WV\", \"RI\", \"PA\", \"WA\", \"MT\", \"HI\", \"IA\", \"WI\", \"IA\", \"LA\", \"SD\", \"CO\", \"IL\", \"MI\", \"KY\", \"AR\", \"RI\", \"CA\", \"CT\", \"OK\", \"TN\", \"MN\", \"KS\", \"MS\", \"WA\", \"AL\", \"NJ\", \"NH\", \"WY\", \"IN\", \"SC\", \"OH\", \"DE\", \"WI\", \"NC\", \"WV\", \"GA\", \"ME\", \"OR\", \"ID\", \"UT\", \"PA\", \"VA\", \"MT\", \"DC\", \"HI\", \"TX\", \"AK\", \"ND\", \"NV\", \"NE\", \"NM\", \"NY\", \"MD\", \"MO\", \"AZ\", \"FL\", \"MA\", \"VT\", \"MN\", \"DC\", \"MT\", \"OR\", \"NE\", \"VT\", \"FL\", \"HI\", \"AK\", \"WI\", \"KY\", \"PA\", \"IA\", \"UT\", \"NM\", \"WA\", \"RI\", \"WY\", \"CO\", \"GA\", \"MI\", \"MD\", \"ND\", \"KS\", \"AR\", \"NV\", \"NC\", \"SC\", \"OK\", \"SD\", \"DE\", \"ME\", \"AZ\", \"VA\", \"NY\", \"ID\", \"MS\", \"MO\", \"WV\", \"CA\", \"NJ\", \"TN\", \"CT\", \"IN\", \"AL\", \"TX\", \"OH\", \"IL\", \"MA\", \"LA\", \"NH\", \"NC\", \"NJ\", \"KS\", \"ND\", \"AZ\", \"NV\", \"AL\", \"SD\", \"NE\", \"TN\", \"CA\", \"MD\", \"CO\", \"VA\", \"VT\", \"MA\", \"OK\", \"OR\", \"FL\", \"IL\", \"MI\", \"DE\", \"SC\", \"MO\", \"AR\", \"DC\", \"HI\", \"CT\", \"PA\", \"IA\", \"WI\", \"MS\", \"GA\", \"MN\", \"ME\", \"IN\", \"UT\", \"LA\", \"MT\", \"NY\", \"WA\", \"AK\", \"WY\", \"ID\", \"RI\", \"OH\", \"NH\", \"WV\", \"TX\", \"NM\", \"KY\", \"WV\", \"PA\", \"OR\", \"CA\", \"AR\", \"MD\", \"LA\", \"ME\", \"NM\", \"NJ\", \"RI\", \"AK\", \"MA\", \"MI\", \"WI\", \"ND\", \"AL\", \"GA\", \"TX\", \"NC\", \"IA\", \"OH\", \"SD\", \"WY\", \"CT\", \"MT\", \"IN\", \"VA\", \"DC\", \"MS\", \"HI\", \"WA\", \"IL\", \"MN\", \"NH\", \"ID\", \"FL\", \"NY\", \"KY\", \"OK\", \"CO\", \"MO\", \"NV\", \"SC\", \"AZ\", \"KS\", \"NE\", \"DE\", \"UT\", \"VT\", \"TN\", \"WV\", \"TX\", \"NY\", \"ME\", \"OR\", \"PA\", \"OK\", \"AZ\", \"DC\", \"NJ\", \"ID\", \"NC\", \"GA\", \"AK\", \"NV\", \"UT\", \"VT\", \"NE\", \"MD\", \"FL\", \"WI\", \"HI\", \"MT\", \"DE\", \"SD\", \"WA\", \"MN\", \"NH\", \"IA\", \"OH\", \"KS\", \"ND\", \"NM\", \"LA\", \"IN\", \"CT\", \"CA\", \"SC\", \"MS\", \"IL\", \"MO\", \"AR\", \"TN\", \"KY\", \"AL\", \"MA\", \"RI\", \"MI\", \"WY\", \"CO\", \"VA\", \"AL\", \"NH\", \"NM\", \"OK\", \"MI\", \"NE\", \"ND\", \"OH\", \"NC\", \"MT\", \"NJ\", \"MS\", \"NV\", \"NY\", \"WY\", \"MA\", \"MO\", \"MN\", \"OR\", \"IA\", \"RI\", \"IN\", \"PA\", \"KS\", \"WV\", \"CT\", \"TX\", \"ID\", \"AR\", \"CA\", \"WA\", \"KY\", \"VT\", \"WI\", \"CO\", \"FL\", \"LA\", \"TN\", \"ME\", \"SC\", \"IL\", \"AZ\", \"UT\", \"HI\", \"DC\", \"SD\", \"GA\", \"DE\", \"MD\", \"AK\", \"VA\", \"MI\", \"IA\", \"AL\", \"IL\", \"WY\", \"MN\", \"NV\", \"OH\", \"SD\", \"VT\", \"SC\", \"WA\", \"OK\", \"KY\", \"DE\", \"CT\", \"VA\", \"MS\", \"CO\", \"KS\", \"DC\", \"IN\", \"NH\", \"WI\", \"TX\", \"NY\", \"ME\", \"UT\", \"PA\", \"RI\", \"AK\", \"WV\", \"AR\", \"MA\", \"CA\", \"AZ\", \"ID\", \"MD\", \"NJ\", \"NE\", \"ND\", \"OR\", \"TN\", \"GA\", \"MT\", \"NM\", \"FL\", \"LA\", \"MO\", \"NC\", \"HI\", \"NC\", \"GA\", \"NV\", \"SD\", \"MT\", \"OH\", \"AZ\", \"WY\", \"IN\", \"ND\", \"NY\", \"TN\", \"IL\", \"AL\", \"FL\", \"DC\", \"NE\", \"MO\", \"ID\", \"MS\", \"UT\", \"TX\", \"HI\", \"VT\", \"WI\", \"MN\", \"AR\", \"LA\", \"CT\", \"MI\", \"KY\", \"KS\", \"CO\", \"SC\", \"NJ\", \"WA\", \"NM\", \"AK\", \"NH\", \"OK\", \"VA\", \"MA\", \"IA\", \"MD\", \"PA\", \"OR\", \"DE\", \"RI\", \"ME\", \"WV\", \"CA\", \"OK\", \"TN\", \"FL\", \"NM\", \"MO\", \"LA\", \"WA\", \"NJ\", \"UT\", \"ME\", \"ID\", \"CA\", \"MA\", \"PA\", \"TX\", \"AK\", \"AZ\", \"NE\", \"RI\", \"CO\", \"ND\", \"NV\", \"OH\", \"DE\", \"MN\", \"NC\", \"WI\", \"IA\", \"SD\", \"VA\", \"MT\", \"DC\", \"GA\", \"IN\", \"MD\", \"SC\", \"KS\", \"AL\", \"HI\", \"OR\", \"WV\", \"IL\", \"NY\", \"CT\", \"NH\", \"MI\", \"MS\", \"AR\", \"VT\", \"KY\", \"WY\", \"NJ\", \"WV\", \"NV\", \"CA\", \"VA\", \"CT\", \"DC\", \"VT\", \"NH\", \"CO\", \"AZ\", \"NY\", \"NM\", \"DE\", \"FL\", \"NE\", \"WA\", \"UT\", \"AL\", \"NC\", \"AR\", \"IL\", \"MN\", \"IN\", \"OK\", \"MO\", \"ID\", \"ME\", \"PA\", \"OH\", \"WI\", \"TN\", \"ND\", \"MA\", \"SD\", \"LA\", \"AK\", \"MD\", \"IA\", \"RI\", \"MI\", \"KS\", \"MT\", \"GA\", \"SC\", \"OR\", \"KY\", \"TX\", \"WY\", \"MS\", \"HI\", \"WA\", \"DC\", \"IN\", \"LA\", \"KS\", \"NH\", \"SD\", \"MI\", \"VT\", \"OK\", \"SC\", \"RI\", \"CT\", \"WI\", \"NM\", \"VA\", \"OH\", \"KY\", \"NV\", \"AK\", \"MN\", \"IA\", \"DE\", \"NJ\", \"WY\", \"HI\", \"MD\", \"MO\", \"UT\", \"TX\", \"MS\", \"AZ\", \"ME\", \"FL\", \"WV\", \"NE\", \"ID\", \"GA\", \"AR\", \"CA\", \"IL\", \"CO\", \"NC\", \"NY\", \"PA\", \"OR\", \"MA\", \"ND\", \"AL\", \"TN\", \"MT\", \"OR\", \"AR\", \"WV\", \"CA\", \"KY\", \"RI\", \"NJ\", \"NM\", \"ME\", \"OK\", \"PA\", \"MA\", \"LA\", \"WA\", \"NH\", \"CO\", \"MD\", \"AK\", \"DC\", \"MI\", \"IL\", \"NY\", \"ND\", \"AL\", \"TN\", \"NE\", \"IN\", \"ID\", \"AZ\", \"UT\", \"MO\", \"HI\", \"WY\", \"TX\", \"GA\", \"NC\", \"FL\", \"SD\", \"MS\", \"NV\", \"KS\", \"CT\", \"VA\", \"SC\", \"WI\", \"MN\", \"MT\", \"DE\", \"IA\", \"OH\", \"VT\", \"PA\", \"WI\", \"TX\", \"WV\", \"SD\", \"VA\", \"WY\", \"WA\", \"OH\", \"SC\", \"UT\", \"OR\", \"RI\", \"OK\", \"ND\", \"TN\", \"NM\", \"VT\", \"NY\", \"NC\", \"MO\", \"KY\", \"NE\", \"AL\", \"MT\", \"MS\", \"MN\", \"AK\", \"MI\", \"MA\", \"MD\", \"ME\", \"LA\", \"KS\", \"AZ\", \"IA\", \"IN\", \"IL\", \"ID\", \"AR\", \"HI\", \"GA\", \"FL\", \"DC\", \"DE\", \"CT\", \"CO\", \"NV\", \"NH\", \"CA\", \"NJ\", \"ID\", \"GA\", \"LA\", \"VT\", \"WY\", \"AK\", \"SC\", \"IL\", \"OH\", \"NE\", \"MN\", \"AL\", \"UT\", \"IN\", \"AR\", \"NJ\", \"KY\", \"CA\", \"MS\", \"MT\", \"NM\", \"NC\", \"RI\", \"FL\", \"CO\", \"SD\", \"KS\", \"ND\", \"MO\", \"DC\", \"DE\", \"MI\", \"WV\", \"WI\", \"VA\", \"ME\", \"OR\", \"HI\", \"NH\", \"IA\", \"MD\", \"CT\", \"TX\", \"MA\", \"PA\", \"NV\", \"AZ\", \"OK\", \"TN\", \"NY\", \"WA\", \"ID\", \"SD\", \"MO\", \"ME\", \"DC\", \"RI\", \"MI\", \"ND\", \"WI\", \"OR\", \"GA\", \"HI\", \"WV\", \"CO\", \"OH\", \"IL\", \"PA\", \"NJ\", \"MN\", \"MA\", \"WA\", \"TX\", \"LA\", \"UT\", \"AZ\", \"KY\", \"CT\", \"MD\", \"MS\", \"OK\", \"TN\", \"AK\", \"FL\", \"NE\", \"NV\", \"MT\", \"DE\", \"VT\", \"KS\", \"NC\", \"IA\", \"NH\", \"AR\", \"WY\", \"SC\", \"CA\", \"AL\", \"VA\", \"NM\", \"IN\", \"NY\", \"AK\", \"IN\", \"SC\", \"LA\", \"IL\", \"MI\", \"OH\", \"GA\", \"NY\", \"DE\", \"OK\", \"VA\", \"ID\", \"ME\", \"HI\", \"OR\", \"CT\", \"NH\", \"CA\", \"AR\", \"MD\", \"IA\", \"TX\", \"MA\", \"TN\", \"NV\", \"WA\", \"NE\", \"WY\", \"WI\", \"PA\", \"AZ\", \"NM\", \"FL\", \"WV\", \"CO\", \"RI\", \"NC\", \"MS\", \"ND\", \"MT\", \"DC\", \"VT\", \"UT\", \"KS\", \"NJ\", \"SD\", \"MN\", \"AL\", \"MO\", \"KY\", \"NM\", \"WV\", \"AL\", \"MA\", \"NJ\", \"NV\", \"ME\", \"MO\", \"IN\", \"TX\", \"OR\", \"ND\", \"HI\", \"WI\", \"MD\", \"WY\", \"VT\", \"SD\", \"DC\", \"CT\", \"ID\", \"TN\", \"IA\", \"NC\", \"PA\", \"LA\", \"NH\", \"MT\", \"AZ\", \"DE\", \"CO\", \"MI\", \"UT\", \"VA\", \"NE\", \"MN\", \"FL\", \"IL\", \"OH\", \"KY\", \"SC\", \"KS\", \"AK\", \"NY\", \"WA\", \"GA\", \"MS\", \"CA\", \"AR\", \"RI\", \"OK\", \"TN\", \"KS\", \"PA\", \"ME\", \"IL\", \"RI\", \"IA\", \"SC\", \"AZ\", \"IN\", \"CO\", \"SD\", \"KY\", \"ID\", \"LA\", \"VA\", \"WI\", \"WA\", \"FL\", \"OH\", \"NH\", \"MN\", \"UT\", \"MS\", \"ND\", \"DC\", \"MO\", \"MI\", \"AL\", \"NC\", \"MT\", \"NE\", \"DE\", \"CA\", \"NY\", \"NV\", \"CT\", \"WY\", \"NM\", \"VT\", \"GA\", \"WV\", \"AK\", \"OR\", \"AR\", \"HI\", \"MD\", \"NJ\", \"TX\", \"OK\", \"MA\", \"KS\", \"TN\", \"AR\", \"NC\", \"MD\", \"AL\", \"MT\", \"CA\", \"MO\", \"VT\", \"DE\", \"NE\", \"ID\", \"OR\", \"NY\", \"SC\", \"HI\", \"NV\", \"IN\", \"VA\", \"CO\", \"CT\", \"WI\", \"WY\", \"ME\", \"IA\", \"NM\", \"DC\", \"MN\", \"PA\", \"OH\", \"KY\", \"AK\", \"TX\", \"SD\", \"UT\", \"NH\", \"MA\", \"MS\", \"FL\", \"WA\", \"NJ\", \"RI\", \"IL\", \"MI\", \"OK\", \"AZ\", \"ND\", \"LA\", \"GA\", \"WV\", \"CT\", \"HI\", \"GA\", \"IN\", \"WV\", \"SD\", \"TX\", \"UT\", \"DE\", \"VA\", \"TN\", \"VT\", \"AR\", \"NJ\", \"IL\", \"AZ\", \"DC\", \"FL\", \"ID\", \"NM\", \"PA\", \"OH\", \"AL\", \"RI\", \"KY\", \"WI\", \"MS\", \"NE\", \"AK\", \"CA\", \"ME\", \"NV\", \"WA\", \"NY\", \"OK\", \"LA\", \"OR\", \"MD\", \"NC\", \"MA\", \"MO\", \"CO\", \"SC\", \"IA\", \"MT\", \"ND\", \"NH\", \"KS\", \"MN\", \"WY\", \"MI\", \"NC\", \"TN\", \"WV\", \"OH\", \"OK\", \"MA\", \"TX\", \"NY\", \"AR\", \"WI\", \"ME\", \"FL\", \"NE\", \"MI\", \"OR\", \"VT\", \"NH\", \"MT\", \"CA\", \"DE\", \"HI\", \"MD\", \"AL\", \"LA\", \"IN\", \"NM\", \"SC\", \"IA\", \"MS\", \"DC\", \"NJ\", \"KS\", \"WY\", \"SD\", \"ND\", \"CO\", \"MN\", \"MO\", \"NV\", \"AK\", \"IL\", \"PA\", \"ID\", \"WA\", \"VA\", \"AZ\", \"CT\", \"UT\", \"KY\", \"RI\", \"GA\", \"UT\", \"VA\", \"FL\", \"WA\", \"DC\", \"NC\", \"ND\", \"OH\", \"VT\", \"MO\", \"MA\", \"MS\", \"MN\", \"AL\", \"MI\", \"CA\", \"WV\", \"LA\", \"PA\", \"GA\", \"ID\", \"WY\", \"CT\", \"NE\", \"AZ\", \"KS\", \"KY\", \"IL\", \"CO\", \"RI\", \"NV\", \"AR\", \"AK\", \"NJ\", \"NY\", \"IN\", \"TX\", \"OK\", \"WI\", \"MT\", \"SC\", \"MD\", \"NH\", \"OR\", \"DE\", \"HI\", \"IA\", \"ME\", \"NM\", \"TN\", \"SD\", \"NM\", \"NE\", \"MO\", \"CT\", \"NC\", \"NY\", \"MT\", \"DE\", \"VT\", \"NV\", \"IN\", \"WV\", \"MS\", \"NH\", \"AZ\", \"TN\", \"LA\", \"PA\", \"AR\", \"ID\", \"CO\", \"KY\", \"IL\", \"RI\", \"SD\", \"AK\", \"KS\", \"WY\", \"IA\", \"SC\", \"ME\", \"NJ\", \"CA\", \"OR\", \"UT\", \"MN\", \"OH\", \"FL\", \"HI\", \"MI\", \"MA\", \"TX\", \"WA\", \"OK\", \"ND\", \"WI\", \"GA\", \"MD\", \"DC\", \"AL\", \"VA\", \"VA\", \"CA\", \"CO\", \"WA\", \"AR\", \"WY\", \"AK\", \"VT\", \"LA\", \"ME\", \"OR\", \"MD\", \"WI\", \"OK\", \"MA\", \"MI\", \"OH\", \"CT\", \"MN\", \"ND\", \"MS\", \"MO\", \"NC\", \"MT\", \"NY\", \"NE\", \"NV\", \"NM\", \"AL\", \"NH\", \"PA\", \"RI\", \"WV\", \"FL\", \"HI\", \"UT\", \"KY\", \"AZ\", \"TN\", \"ID\", \"IL\", \"SD\", \"DC\", \"IN\", \"NJ\", \"SC\", \"IA\", \"DE\", \"KS\", \"TX\", \"GA\", \"AL\", \"WV\", \"AZ\", \"WI\", \"AK\", \"AR\", \"NJ\", \"SC\", \"KY\", \"NC\", \"ID\", \"IL\", \"MO\", \"SD\", \"WY\", \"IN\", \"MS\", \"IA\", \"ND\", \"KS\", \"MN\", \"RI\", \"OH\", \"PA\", \"LA\", \"ME\", \"MI\", \"OR\", \"MD\", \"MA\", \"MT\", \"HI\", \"TN\", \"VT\", \"WA\", \"CA\", \"CO\", \"NH\", \"VA\", \"CT\", \"NM\", \"DE\", \"DC\", \"NV\", \"OK\", \"UT\", \"GA\", \"FL\", \"TX\", \"NE\", \"NY\", \"MS\", \"MA\", \"NJ\", \"NC\", \"NH\", \"MI\", \"WI\", \"OH\", \"MO\", \"AL\", \"NM\", \"MN\", \"MT\", \"ND\", \"NV\", \"NE\", \"NY\", \"WA\", \"MD\", \"CA\", \"CO\", \"VA\", \"CT\", \"VT\", \"DE\", \"DC\", \"UT\", \"FL\", \"TX\", \"GA\", \"WV\", \"AZ\", \"HI\", \"OK\", \"TN\", \"SD\", \"IL\", \"IN\", \"SC\", \"AK\", \"IA\", \"KS\", \"RI\", \"AR\", \"KY\", \"PA\", \"LA\", \"OR\", \"ME\", \"ID\", \"WY\"], \"name\": \"\", \"type\": \"choropleth\"}],\n",
       "                        {\"geo\": {\"center\": {}, \"domain\": {\"x\": [0.0, 1.0], \"y\": [0.0, 1.0]}, \"scope\": \"usa\"}, \"legend\": {\"tracegroupgap\": 0}, \"margin\": {\"t\": 60}, \"template\": {\"data\": {\"bar\": [{\"error_x\": {\"color\": \"#2a3f5f\"}, \"error_y\": {\"color\": \"#2a3f5f\"}, \"marker\": {\"line\": {\"color\": \"#E5ECF6\", \"width\": 0.5}}, \"type\": \"bar\"}], \"barpolar\": [{\"marker\": {\"line\": {\"color\": \"#E5ECF6\", \"width\": 0.5}}, \"type\": \"barpolar\"}], \"carpet\": [{\"aaxis\": {\"endlinecolor\": \"#2a3f5f\", \"gridcolor\": \"white\", \"linecolor\": \"white\", \"minorgridcolor\": \"white\", \"startlinecolor\": \"#2a3f5f\"}, \"baxis\": {\"endlinecolor\": \"#2a3f5f\", \"gridcolor\": \"white\", \"linecolor\": \"white\", \"minorgridcolor\": \"white\", \"startlinecolor\": \"#2a3f5f\"}, \"type\": \"carpet\"}], \"choropleth\": [{\"colorbar\": {\"outlinewidth\": 0, \"ticks\": \"\"}, \"type\": \"choropleth\"}], \"contour\": [{\"colorbar\": {\"outlinewidth\": 0, \"ticks\": \"\"}, \"colorscale\": [[0.0, \"#0d0887\"], [0.1111111111111111, \"#46039f\"], [0.2222222222222222, \"#7201a8\"], [0.3333333333333333, \"#9c179e\"], [0.4444444444444444, \"#bd3786\"], [0.5555555555555556, \"#d8576b\"], [0.6666666666666666, \"#ed7953\"], [0.7777777777777778, \"#fb9f3a\"], [0.8888888888888888, \"#fdca26\"], [1.0, \"#f0f921\"]], \"type\": \"contour\"}], \"contourcarpet\": [{\"colorbar\": {\"outlinewidth\": 0, \"ticks\": \"\"}, \"type\": \"contourcarpet\"}], \"heatmap\": [{\"colorbar\": {\"outlinewidth\": 0, \"ticks\": \"\"}, \"colorscale\": [[0.0, \"#0d0887\"], [0.1111111111111111, \"#46039f\"], [0.2222222222222222, \"#7201a8\"], [0.3333333333333333, \"#9c179e\"], [0.4444444444444444, \"#bd3786\"], [0.5555555555555556, \"#d8576b\"], [0.6666666666666666, \"#ed7953\"], [0.7777777777777778, \"#fb9f3a\"], [0.8888888888888888, \"#fdca26\"], [1.0, \"#f0f921\"]], \"type\": \"heatmap\"}], \"heatmapgl\": [{\"colorbar\": {\"outlinewidth\": 0, \"ticks\": \"\"}, \"colorscale\": [[0.0, \"#0d0887\"], [0.1111111111111111, \"#46039f\"], [0.2222222222222222, \"#7201a8\"], [0.3333333333333333, \"#9c179e\"], [0.4444444444444444, \"#bd3786\"], [0.5555555555555556, \"#d8576b\"], [0.6666666666666666, \"#ed7953\"], [0.7777777777777778, \"#fb9f3a\"], [0.8888888888888888, \"#fdca26\"], [1.0, \"#f0f921\"]], \"type\": \"heatmapgl\"}], \"histogram\": [{\"marker\": {\"colorbar\": {\"outlinewidth\": 0, \"ticks\": \"\"}}, \"type\": \"histogram\"}], \"histogram2d\": [{\"colorbar\": {\"outlinewidth\": 0, \"ticks\": \"\"}, \"colorscale\": [[0.0, \"#0d0887\"], [0.1111111111111111, \"#46039f\"], [0.2222222222222222, \"#7201a8\"], [0.3333333333333333, \"#9c179e\"], [0.4444444444444444, \"#bd3786\"], [0.5555555555555556, \"#d8576b\"], [0.6666666666666666, \"#ed7953\"], [0.7777777777777778, \"#fb9f3a\"], [0.8888888888888888, \"#fdca26\"], [1.0, \"#f0f921\"]], \"type\": \"histogram2d\"}], \"histogram2dcontour\": [{\"colorbar\": {\"outlinewidth\": 0, \"ticks\": \"\"}, \"colorscale\": [[0.0, \"#0d0887\"], [0.1111111111111111, \"#46039f\"], [0.2222222222222222, \"#7201a8\"], [0.3333333333333333, \"#9c179e\"], [0.4444444444444444, \"#bd3786\"], [0.5555555555555556, \"#d8576b\"], [0.6666666666666666, \"#ed7953\"], [0.7777777777777778, \"#fb9f3a\"], [0.8888888888888888, \"#fdca26\"], [1.0, \"#f0f921\"]], \"type\": \"histogram2dcontour\"}], \"mesh3d\": [{\"colorbar\": {\"outlinewidth\": 0, \"ticks\": \"\"}, \"type\": \"mesh3d\"}], \"parcoords\": [{\"line\": {\"colorbar\": {\"outlinewidth\": 0, \"ticks\": \"\"}}, \"type\": \"parcoords\"}], \"pie\": [{\"automargin\": true, \"type\": \"pie\"}], \"scatter\": [{\"marker\": {\"colorbar\": {\"outlinewidth\": 0, \"ticks\": \"\"}}, \"type\": \"scatter\"}], \"scatter3d\": [{\"line\": {\"colorbar\": {\"outlinewidth\": 0, \"ticks\": \"\"}}, \"marker\": {\"colorbar\": {\"outlinewidth\": 0, \"ticks\": \"\"}}, \"type\": \"scatter3d\"}], \"scattercarpet\": [{\"marker\": {\"colorbar\": {\"outlinewidth\": 0, \"ticks\": \"\"}}, \"type\": \"scattercarpet\"}], \"scattergeo\": [{\"marker\": {\"colorbar\": {\"outlinewidth\": 0, \"ticks\": \"\"}}, \"type\": \"scattergeo\"}], \"scattergl\": [{\"marker\": {\"colorbar\": {\"outlinewidth\": 0, \"ticks\": \"\"}}, \"type\": \"scattergl\"}], \"scattermapbox\": [{\"marker\": {\"colorbar\": {\"outlinewidth\": 0, \"ticks\": \"\"}}, \"type\": \"scattermapbox\"}], \"scatterpolar\": [{\"marker\": {\"colorbar\": {\"outlinewidth\": 0, \"ticks\": \"\"}}, \"type\": \"scatterpolar\"}], \"scatterpolargl\": [{\"marker\": {\"colorbar\": {\"outlinewidth\": 0, \"ticks\": \"\"}}, \"type\": \"scatterpolargl\"}], \"scatterternary\": [{\"marker\": {\"colorbar\": {\"outlinewidth\": 0, \"ticks\": \"\"}}, \"type\": \"scatterternary\"}], \"surface\": [{\"colorbar\": {\"outlinewidth\": 0, \"ticks\": \"\"}, \"colorscale\": [[0.0, \"#0d0887\"], [0.1111111111111111, \"#46039f\"], [0.2222222222222222, \"#7201a8\"], [0.3333333333333333, \"#9c179e\"], [0.4444444444444444, \"#bd3786\"], [0.5555555555555556, \"#d8576b\"], [0.6666666666666666, \"#ed7953\"], [0.7777777777777778, \"#fb9f3a\"], [0.8888888888888888, \"#fdca26\"], [1.0, \"#f0f921\"]], \"type\": \"surface\"}], \"table\": [{\"cells\": {\"fill\": {\"color\": \"#EBF0F8\"}, \"line\": {\"color\": \"white\"}}, \"header\": {\"fill\": {\"color\": \"#C8D4E3\"}, \"line\": {\"color\": \"white\"}}, \"type\": \"table\"}]}, \"layout\": {\"annotationdefaults\": {\"arrowcolor\": \"#2a3f5f\", \"arrowhead\": 0, \"arrowwidth\": 1}, \"coloraxis\": {\"colorbar\": {\"outlinewidth\": 0, \"ticks\": \"\"}}, \"colorscale\": {\"diverging\": [[0, \"#8e0152\"], [0.1, \"#c51b7d\"], [0.2, \"#de77ae\"], [0.3, \"#f1b6da\"], [0.4, \"#fde0ef\"], [0.5, \"#f7f7f7\"], [0.6, \"#e6f5d0\"], [0.7, \"#b8e186\"], [0.8, \"#7fbc41\"], [0.9, \"#4d9221\"], [1, \"#276419\"]], \"sequential\": [[0.0, \"#0d0887\"], [0.1111111111111111, \"#46039f\"], [0.2222222222222222, \"#7201a8\"], [0.3333333333333333, \"#9c179e\"], [0.4444444444444444, \"#bd3786\"], [0.5555555555555556, \"#d8576b\"], [0.6666666666666666, \"#ed7953\"], [0.7777777777777778, \"#fb9f3a\"], [0.8888888888888888, \"#fdca26\"], [1.0, \"#f0f921\"]], \"sequentialminus\": [[0.0, \"#0d0887\"], [0.1111111111111111, \"#46039f\"], [0.2222222222222222, \"#7201a8\"], [0.3333333333333333, \"#9c179e\"], [0.4444444444444444, \"#bd3786\"], [0.5555555555555556, \"#d8576b\"], [0.6666666666666666, \"#ed7953\"], [0.7777777777777778, \"#fb9f3a\"], [0.8888888888888888, \"#fdca26\"], [1.0, \"#f0f921\"]]}, \"colorway\": [\"#636efa\", \"#EF553B\", \"#00cc96\", \"#ab63fa\", \"#FFA15A\", \"#19d3f3\", \"#FF6692\", \"#B6E880\", \"#FF97FF\", \"#FECB52\"], \"font\": {\"color\": \"#2a3f5f\"}, \"geo\": {\"bgcolor\": \"white\", \"lakecolor\": \"white\", \"landcolor\": \"#E5ECF6\", \"showlakes\": true, \"showland\": true, \"subunitcolor\": \"white\"}, \"hoverlabel\": {\"align\": \"left\"}, \"hovermode\": \"closest\", \"mapbox\": {\"style\": \"light\"}, \"paper_bgcolor\": \"white\", \"plot_bgcolor\": \"#E5ECF6\", \"polar\": {\"angularaxis\": {\"gridcolor\": \"white\", \"linecolor\": \"white\", \"ticks\": \"\"}, \"bgcolor\": \"#E5ECF6\", \"radialaxis\": {\"gridcolor\": \"white\", \"linecolor\": \"white\", \"ticks\": \"\"}}, \"scene\": {\"xaxis\": {\"backgroundcolor\": \"#E5ECF6\", \"gridcolor\": \"white\", \"gridwidth\": 2, \"linecolor\": \"white\", \"showbackground\": true, \"ticks\": \"\", \"zerolinecolor\": \"white\"}, \"yaxis\": {\"backgroundcolor\": \"#E5ECF6\", \"gridcolor\": \"white\", \"gridwidth\": 2, \"linecolor\": \"white\", \"showbackground\": true, \"ticks\": \"\", \"zerolinecolor\": \"white\"}, \"zaxis\": {\"backgroundcolor\": \"#E5ECF6\", \"gridcolor\": \"white\", \"gridwidth\": 2, \"linecolor\": \"white\", \"showbackground\": true, \"ticks\": \"\", \"zerolinecolor\": \"white\"}}, \"shapedefaults\": {\"line\": {\"color\": \"#2a3f5f\"}}, \"ternary\": {\"aaxis\": {\"gridcolor\": \"white\", \"linecolor\": \"white\", \"ticks\": \"\"}, \"baxis\": {\"gridcolor\": \"white\", \"linecolor\": \"white\", \"ticks\": \"\"}, \"bgcolor\": \"#E5ECF6\", \"caxis\": {\"gridcolor\": \"white\", \"linecolor\": \"white\", \"ticks\": \"\"}}, \"title\": {\"x\": 0.05}, \"xaxis\": {\"automargin\": true, \"gridcolor\": \"white\", \"linecolor\": \"white\", \"ticks\": \"\", \"title\": {\"standoff\": 15}, \"zerolinecolor\": \"white\", \"zerolinewidth\": 2}, \"yaxis\": {\"automargin\": true, \"gridcolor\": \"white\", \"linecolor\": \"white\", \"ticks\": \"\", \"title\": {\"standoff\": 15}, \"zerolinecolor\": \"white\", \"zerolinewidth\": 2}}}},\n",
       "                        {\"responsive\": true}\n",
       "                    ).then(function(){\n",
       "                            \n",
       "var gd = document.getElementById('fea31ae1-a114-44fc-85c5-7d0ca3e6c1af');\n",
       "var x = new MutationObserver(function (mutations, observer) {{\n",
       "        var display = window.getComputedStyle(gd).display;\n",
       "        if (!display || display === 'none') {{\n",
       "            console.log([gd, 'removed!']);\n",
       "            Plotly.purge(gd);\n",
       "            observer.disconnect();\n",
       "        }}\n",
       "}});\n",
       "\n",
       "// Listen for the removal of the full notebook cells\n",
       "var notebookContainer = gd.closest('#notebook-container');\n",
       "if (notebookContainer) {{\n",
       "    x.observe(notebookContainer, {childList: true});\n",
       "}}\n",
       "\n",
       "// Listen for the clearing of the current output cell\n",
       "var outputEl = gd.closest('.output');\n",
       "if (outputEl) {{\n",
       "    x.observe(outputEl, {childList: true});\n",
       "}}\n",
       "\n",
       "                        })\n",
       "                };\n",
       "                });\n",
       "            </script>\n",
       "        </div>"
      ]
     },
     "metadata": {},
     "output_type": "display_data"
    }
   ],
   "source": [
    "us_map_fig = px.choropleth(grouped_df,\n",
    "                                    locations='State_code',\n",
    "                                    locationmode='USA-states',\n",
    "                                    scope='usa'\n",
    "                                    )\n",
    "us_map_fig.show()"
   ]
  }
 ],
 "metadata": {
  "kernelspec": {
   "display_name": "Python 3",
   "language": "python",
   "name": "python3"
  },
  "language_info": {
   "codemirror_mode": {
    "name": "ipython",
    "version": 3
   },
   "file_extension": ".py",
   "mimetype": "text/x-python",
   "name": "python",
   "nbconvert_exporter": "python",
   "pygments_lexer": "ipython3",
   "version": "3.7.4"
  }
 },
 "nbformat": 4,
 "nbformat_minor": 2
}
