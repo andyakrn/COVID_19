{
 "cells": [
  {
   "cell_type": "markdown",
   "metadata": {},
   "source": [
    "<h2><center>\n",
    "    Loading In Data\n",
    "    </center></h2>"
   ]
  },
  {
   "cell_type": "code",
   "execution_count": 69,
   "metadata": {},
   "outputs": [],
   "source": [
    "from github import Github\n",
    "import os\n",
    "import pickle\n",
    "import base64\n",
    "import pandas as pd\n",
    "import datetime as dt\n",
    "from os import listdir\n",
    "from os.path import isfile, join\n",
    "import numpy as np\n",
    "mypath = 'data_csse/'"
   ]
  },
  {
   "cell_type": "code",
   "execution_count": 70,
   "metadata": {},
   "outputs": [],
   "source": [
    "with open(\"data/github.txt\") as myfile:\n",
    "    firstNlines=myfile.readlines()[0:2]\n",
    "myfile.close()\n",
    "g = Github(firstNlines[0].strip(), firstNlines[1])\n",
    "repo=g.get_repo('CSSEGISandData/COVID-19')\n",
    "contents = repo.get_contents(\"\")"
   ]
  },
  {
   "cell_type": "code",
   "execution_count": 71,
   "metadata": {},
   "outputs": [],
   "source": [
    "def get_sha_for_tag(repository, tag):\n",
    "    branches = repository.get_branches()\n",
    "    matched_branches = [match for match in branches if match.name == tag]\n",
    "    if matched_branches:\n",
    "        return matched_branches[0].commit.sha\n",
    "\n",
    "    tags = repository.get_tags()\n",
    "    matched_tags = [match for match in tags if match.name == tag]\n",
    "    if not matched_tags:\n",
    "        raise ValueError('No Tag or Branch exists with that name')\n",
    "    return matched_tags[0].commit.sha"
   ]
  },
  {
   "cell_type": "code",
   "execution_count": 72,
   "metadata": {},
   "outputs": [],
   "source": [
    "def download_directory(repository, sha, server_path, local_path=mypath):\n",
    "    contents = repository.get_contents(server_path, ref=sha)\n",
    "    if not os.path.exists(local_path):\n",
    "        os.makedirs(local_path)\n",
    "    for content in contents:\n",
    "        if content.type == 'dir':\n",
    "            download_directory(repository, sha, content.path)\n",
    "        else:\n",
    "            try:\n",
    "                path = content.path\n",
    "                file_content = repository.get_contents(path, ref=sha)\n",
    "                file_data = base64.b64decode(file_content.content).decode('ascii')\n",
    "                file_out = open(local_path+content.name, \"w\")\n",
    "                file_out.write(local_path+file_data)\n",
    "                file_out.close()\n",
    "            except:\n",
    "                pass"
   ]
  },
  {
   "cell_type": "code",
   "execution_count": 73,
   "metadata": {},
   "outputs": [],
   "source": [
    "def is_non_zero_file(fpath):\n",
    "    return os.path.isfile(fpath) and os.path.getsize(fpath) > 0"
   ]
  },
  {
   "cell_type": "code",
   "execution_count": 74,
   "metadata": {},
   "outputs": [],
   "source": [
    "df_states_codes = pd.read_csv('https://raw.githubusercontent.com/jasonong/List-of-US-States/master/states.csv')\n",
    "df_states_codes=df_states_codes.rename(columns={'Abbreviation':'State_code'})\n",
    "df_states_codes=df_states_codes.set_index('State')\n",
    "state_dict= df_states_codes.to_dict()['State_code']"
   ]
  },
  {
   "cell_type": "code",
   "execution_count": 75,
   "metadata": {},
   "outputs": [],
   "source": [
    "def preprocess_df(df1, name):\n",
    "    df=df1.copy()\n",
    "    df=df.loc[df['iso2']=='US']\n",
    "    columns_drop= ['data_csse/UID','iso2', 'iso3', 'code3', 'FIPS', 'Admin2',\n",
    "                   'Country_Region', 'Lat', 'Long_', 'Combined_Key']\n",
    "    df.drop(columns=columns_drop, inplace=True)\n",
    "    if 'Population' in set(df.columns):\n",
    "        df.drop(columns='Population', inplace=True)\n",
    "    df = df.groupby(['Province_State']).agg('sum')\n",
    "    df = df.transpose().reset_index()\n",
    "    country_list = list(df.columns)[1:]\n",
    "    df = pd.melt(df, id_vars='index', value_vars=country_list)\n",
    "    df = df.rename(columns={'index':'Date', 'value':name, 'Province_State':'State'})\n",
    "    df['State_code']=df['State'].map(state_dict)\n",
    "    return df"
   ]
  },
  {
   "cell_type": "code",
   "execution_count": 76,
   "metadata": {},
   "outputs": [],
   "source": [
    "sha = get_sha_for_tag(repo, 'master')\n",
    "download_directory(repo, sha, 'csse_covid_19_data/csse_covid_19_time_series/')"
   ]
  },
  {
   "cell_type": "code",
   "execution_count": null,
   "metadata": {},
   "outputs": [],
   "source": []
  },
  {
   "cell_type": "code",
   "execution_count": 77,
   "metadata": {},
   "outputs": [],
   "source": [
    "confirmed_df_raw = pd.read_csv('data_csse/time_series_covid19_confirmed_US.csv')\n",
    "deaths_df_raw = pd.read_csv('data_csse/time_series_covid19_deaths_US.csv')\n",
    "#recovered_df = pd.read_csv('data_csse/time_series_covid19_recovered_global.csv')"
   ]
  },
  {
   "cell_type": "code",
   "execution_count": null,
   "metadata": {},
   "outputs": [],
   "source": []
  },
  {
   "cell_type": "code",
   "execution_count": 78,
   "metadata": {},
   "outputs": [],
   "source": [
    "confirmed_df = preprocess_df(confirmed_df_raw, 'Confirmed')\n",
    "deaths_df = preprocess_df(deaths_df_raw, 'Deaths')\n",
    "#recovered_df = preprocess_df(recovered_df, 'Recovered')"
   ]
  },
  {
   "cell_type": "markdown",
   "metadata": {},
   "source": [
    "<h2><center>\n",
    "    Preprocessing Data\n",
    "    </center></h2>"
   ]
  },
  {
   "cell_type": "code",
   "execution_count": 79,
   "metadata": {
    "scrolled": true
   },
   "outputs": [],
   "source": [
    "grouped_df = pd.merge(confirmed_df, deaths_df, how='inner', on=['Date', 'State', 'State_code'])\n",
    "#grouped_df = pd.merge(confirmed_and_deaths, recovered_df, how='inner', on=['Date', 'Country/Region'])\n",
    "#grouped_df['Active'] = grouped_df['Confirmed']-grouped_df['Deaths']-grouped_df['Recovered']\n",
    "grouped_df['Datetime'] = grouped_df['Date'].apply(lambda x: pd.to_datetime(x))"
   ]
  },
  {
   "cell_type": "code",
   "execution_count": 80,
   "metadata": {},
   "outputs": [],
   "source": [
    "grouped_df['New_Weekly_Cases'] = np.where(grouped_df['State']==grouped_df['State'].shift(7),\n",
    "                                          grouped_df['Confirmed']-grouped_df['Confirmed'].shift(7),grouped_df['Confirmed'])"
   ]
  },
  {
   "cell_type": "markdown",
   "metadata": {},
   "source": [
    "# Testing data\n"
   ]
  },
  {
   "cell_type": "code",
   "execution_count": 81,
   "metadata": {},
   "outputs": [],
   "source": [
    "test_df = pd.read_csv('https://covidtracking.com/api/states/daily.csv')\n",
    "test_df['date'] = test_df['date'].apply(lambda x: pd.to_datetime(str(x), format='%Y%m%d'))"
   ]
  },
  {
   "cell_type": "code",
   "execution_count": 82,
   "metadata": {},
   "outputs": [],
   "source": [
    "col_select = ['date', 'state','totalTestResults']\n",
    "df_tst_daily = test_df[col_select]"
   ]
  },
  {
   "cell_type": "code",
   "execution_count": 83,
   "metadata": {},
   "outputs": [],
   "source": [
    "grouped_df=grouped_df.merge(df_tst_daily,how='inner', left_on=['Datetime', 'State_code'], right_on=['date','state'])[['Date','Datetime',\n",
    "                                                                                                           'State','State_code',\n",
    "                                                                                                          'Confirmed','Deaths',\n",
    "                                                                                                           'New_Weekly_Cases',\n",
    "                                                                                                           'totalTestResults']]"
   ]
  },
  {
   "cell_type": "markdown",
   "metadata": {},
   "source": [
    "<h2><center>\n",
    "    Export Dataframe\n",
    "    </center></h2>"
   ]
  },
  {
   "cell_type": "code",
   "execution_count": 95,
   "metadata": {},
   "outputs": [],
   "source": [
    "grouped_df.sort_values(by='Date',inplace=True)"
   ]
  },
  {
   "cell_type": "code",
   "execution_count": 96,
   "metadata": {},
   "outputs": [],
   "source": [
    "with open('Data/CSSE_US_df.pickle', 'wb') as pickle_out:\n",
    "    pickle.dump(grouped_df, pickle_out)"
   ]
  },
  {
   "cell_type": "code",
   "execution_count": 97,
   "metadata": {},
   "outputs": [],
   "source": [
    "with open('../CSSE_US_df.pickle', 'wb') as pickle_out:\n",
    "    pickle.dump(grouped_df, pickle_out)"
   ]
  },
  {
   "cell_type": "markdown",
   "metadata": {},
   "source": [
    "# Plots"
   ]
  },
  {
   "cell_type": "code",
   "execution_count": 86,
   "metadata": {},
   "outputs": [],
   "source": [
    "import pandas as pd \n",
    "import plotly.express as px\n",
    "from ipywidgets import interact\n",
    "grouped_df = pd.read_pickle('Data/CSSE_US_df.pickle')"
   ]
  },
  {
   "cell_type": "code",
   "execution_count": 87,
   "metadata": {},
   "outputs": [],
   "source": [
    "grouped_df.sort_values(by='Datetime',inplace=True)"
   ]
  },
  {
   "cell_type": "code",
   "execution_count": 88,
   "metadata": {},
   "outputs": [
    {
     "data": {
      "application/vnd.jupyter.widget-view+json": {
       "model_id": "f8bd64df974e4442850aa80dec93a187",
       "version_major": 2,
       "version_minor": 0
      },
      "text/plain": [
       "interactive(children=(Dropdown(description='Type', options=('Confirmed', 'Deaths', 'totalTestResults'), value=…"
      ]
     },
     "metadata": {},
     "output_type": "display_data"
    }
   ],
   "source": [
    "@interact(Type=['Confirmed','Deaths','totalTestResults'])\n",
    "\n",
    "def viz(Type):\n",
    "\n",
    "    status = Type\n",
    "    world_map_fig = px.choropleth(grouped_df,\n",
    "                                        locations='State_code',\n",
    "                                        locationmode='USA-states',\n",
    "                                        scope='usa',\n",
    "                                        color=status,\n",
    "                                        hover_name='State', \n",
    "                                        title='{} by Sate Over Time<br>(Hover for State Names)'.format(status),\n",
    "                                        color_continuous_scale=['green', 'yellow','orange', 'orangered', 'red'],\n",
    "                                        animation_frame='Date',\n",
    "                                        #range_color=[0, max_cases],\n",
    "                                        template='plotly_dark')\n",
    "    #world_map_fig.update_layout(font={'family': font['font'], 'color': colors['text']},\n",
    "    #                                    paper_bgcolor=colors['graph_background'],\n",
    "    #                                    plot_bgcolor=colors['graph_background'])\n",
    "\n",
    "\n",
    "    world_map_fig.show()"
   ]
  },
  {
   "cell_type": "code",
   "execution_count": 89,
   "metadata": {},
   "outputs": [
    {
     "data": {
      "application/vnd.plotly.v1+json": {
       "config": {
        "plotlyServerURL": "https://plot.ly"
       },
       "data": [
        {
         "hoverlabel": {
          "namelength": 0
         },
         "hovertemplate": "State=Washington<br>Confirmed=%{x}<br>New_Weekly_Cases=%{y}",
         "legendgroup": "Washington",
         "line": {
          "color": "#636efa",
          "dash": "solid"
         },
         "mode": "lines",
         "name": "Washington",
         "showlegend": true,
         "type": "scatter",
         "x": [
          1,
          7,
          11,
          18,
          27,
          39,
          70,
          78,
          102,
          122,
          122,
          167,
          282,
          442,
          568,
          642,
          603,
          779,
          955,
          1022,
          1374,
          1524,
          1793,
          1997,
          2221,
          2328,
          2591,
          3207,
          3477,
          4030,
          4465,
          4923,
          5432,
          5608,
          6389,
          6846,
          7247,
          7825,
          8311,
          8692,
          9276,
          9639,
          10119,
          10434,
          10609,
          10635,
          10799,
          10942,
          11057,
          11517
         ],
         "xaxis": "x",
         "y": [
          0,
          6,
          10,
          17,
          26,
          38,
          69,
          77,
          95,
          111,
          104,
          140,
          243,
          372,
          490,
          540,
          481,
          657,
          788,
          740,
          932,
          956,
          1151,
          1394,
          1442,
          1373,
          1569,
          1833,
          1953,
          2237,
          2468,
          2702,
          3104,
          3017,
          3182,
          3369,
          3217,
          3360,
          3388,
          3260,
          3668,
          3250,
          3273,
          3187,
          2784,
          2324,
          2107,
          1666,
          1418,
          1398
         ],
         "yaxis": "y"
        },
        {
         "hoverlabel": {
          "namelength": 0
         },
         "hovertemplate": "State=Michigan<br>Confirmed=%{x}<br>New_Weekly_Cases=%{y}",
         "legendgroup": "Michigan",
         "line": {
          "color": "#EF553B",
          "dash": "solid"
         },
         "mode": "lines",
         "name": "Michigan",
         "showlegend": true,
         "type": "scatter",
         "x": [
          0,
          0,
          0,
          0,
          0,
          0,
          0,
          0,
          0,
          0,
          2,
          2,
          16,
          25,
          32,
          54,
          63,
          119,
          259,
          402,
          540,
          1035,
          1329,
          1793,
          2296,
          2845,
          3634,
          4650,
          5488,
          6498,
          7615,
          9315,
          10791,
          12744,
          14225,
          15718,
          17221,
          18970,
          20346,
          21504,
          22434,
          23605,
          24244,
          25635,
          27001,
          28059,
          28809,
          30023
         ],
         "xaxis": "x",
         "y": [
          0,
          0,
          0,
          0,
          0,
          0,
          0,
          0,
          0,
          0,
          2,
          2,
          16,
          25,
          32,
          54,
          63,
          117,
          257,
          386,
          515,
          1003,
          1275,
          1730,
          2177,
          2586,
          3232,
          4110,
          4453,
          5169,
          5822,
          7019,
          7946,
          9110,
          9575,
          10230,
          10723,
          11355,
          11031,
          10713,
          9690,
          9380,
          8526,
          8414,
          8031,
          7713,
          7305,
          7589
         ],
         "yaxis": "y"
        },
        {
         "hoverlabel": {
          "namelength": 0
         },
         "hovertemplate": "State=Texas<br>Confirmed=%{x}<br>New_Weekly_Cases=%{y}",
         "legendgroup": "Texas",
         "line": {
          "color": "#00cc96",
          "dash": "solid"
         },
         "mode": "lines",
         "name": "Texas",
         "showlegend": true,
         "type": "scatter",
         "x": [
          0,
          3,
          4,
          8,
          11,
          13,
          16,
          21,
          27,
          44,
          60,
          63,
          85,
          110,
          196,
          306,
          429,
          582,
          643,
          758,
          955,
          1229,
          1563,
          1937,
          2455,
          2792,
          3147,
          3809,
          4355,
          5069,
          5734,
          6567,
          7209,
          8043,
          8925,
          9777,
          11208,
          12105,
          13023,
          13677,
          14275,
          15006,
          15907,
          16876,
          17849
         ],
         "xaxis": "x",
         "y": [
          0,
          3,
          4,
          8,
          11,
          13,
          16,
          21,
          24,
          40,
          52,
          52,
          72,
          94,
          175,
          279,
          385,
          522,
          580,
          673,
          845,
          1033,
          1257,
          1508,
          1873,
          2149,
          2389,
          2854,
          3126,
          3506,
          3797,
          4112,
          4417,
          4896,
          5116,
          5422,
          6139,
          6371,
          6456,
          6468,
          6232,
          6081,
          6130,
          5668,
          5744
         ],
         "yaxis": "y"
        },
        {
         "hoverlabel": {
          "namelength": 0
         },
         "hovertemplate": "State=Florida<br>Confirmed=%{x}<br>New_Weekly_Cases=%{y}",
         "legendgroup": "Florida",
         "line": {
          "color": "#ab63fa",
          "dash": "solid"
         },
         "mode": "lines",
         "name": "Florida",
         "showlegend": true,
         "type": "scatter",
         "x": [
          2,
          3,
          3,
          7,
          10,
          13,
          15,
          24,
          30,
          50,
          76,
          100,
          101,
          190,
          306,
          432,
          564,
          763,
          1004,
          1227,
          1412,
          1682,
          2357,
          2900,
          3763,
          4246,
          5473,
          6741,
          6956,
          9008,
          10268,
          11537,
          12350,
          13324,
          14545,
          15456,
          16364,
          17531,
          18494,
          19895,
          21019,
          21628,
          22511,
          23343,
          24759
         ],
         "xaxis": "x",
         "y": [
          2,
          3,
          3,
          7,
          10,
          12,
          13,
          22,
          27,
          47,
          69,
          90,
          88,
          175,
          282,
          402,
          514,
          687,
          904,
          1126,
          1222,
          1376,
          1925,
          2336,
          3000,
          3242,
          4246,
          5329,
          5274,
          6651,
          7368,
          7774,
          8104,
          7851,
          7804,
          8500,
          7356,
          7263,
          6957,
          7545,
          7695,
          7083,
          7055,
          6979,
          7228
         ],
         "yaxis": "y"
        },
        {
         "hoverlabel": {
          "namelength": 0
         },
         "hovertemplate": "State=Illinois<br>Confirmed=%{x}<br>New_Weekly_Cases=%{y}",
         "legendgroup": "Illinois",
         "line": {
          "color": "#FFA15A",
          "dash": "solid"
         },
         "mode": "lines",
         "name": "Illinois",
         "showlegend": true,
         "type": "scatter",
         "x": [
          4,
          5,
          5,
          6,
          7,
          7,
          12,
          25,
          32,
          46,
          64,
          66,
          83,
          161,
          272,
          422,
          585,
          753,
          1049,
          1285,
          1537,
          1865,
          2538,
          3024,
          3491,
          4596,
          5056,
          5994,
          6980,
          7695,
          8904,
          10357,
          11259,
          12262,
          12271,
          15078,
          15079,
          17887,
          19180,
          20852,
          22025,
          23248,
          24593,
          25734,
          27578
         ],
         "xaxis": "x",
         "y": [
          2,
          3,
          3,
          4,
          4,
          3,
          8,
          21,
          27,
          41,
          58,
          59,
          76,
          149,
          247,
          390,
          539,
          689,
          983,
          1202,
          1376,
          1593,
          2116,
          2439,
          2738,
          3547,
          3771,
          4457,
          5115,
          5157,
          5880,
          6866,
          6663,
          7206,
          6277,
          8098,
          7384,
          8983,
          8823,
          9593,
          9763,
          10977,
          9515,
          10655,
          9691
         ],
         "yaxis": "y"
        },
        {
         "hoverlabel": {
          "namelength": 0
         },
         "hovertemplate": "State=California<br>Confirmed=%{x}<br>New_Weekly_Cases=%{y}",
         "legendgroup": "California",
         "line": {
          "color": "#19d3f3",
          "dash": "solid"
         },
         "mode": "lines",
         "name": "California",
         "showlegend": true,
         "type": "scatter",
         "x": [
          35,
          51,
          59,
          81,
          95,
          101,
          144,
          178,
          221,
          281,
          372,
          373,
          557,
          700,
          828,
          1005,
          1243,
          1405,
          1646,
          2108,
          2538,
          2998,
          3899,
          4657,
          5095,
          5852,
          7138,
          8210,
          9399,
          10773,
          12004,
          12837,
          15034,
          16019,
          17351,
          18897,
          19710,
          21081,
          21706,
          22795,
          23931,
          25356,
          26686,
          27677,
          29157
         ],
         "xaxis": "x",
         "y": [
          25,
          40,
          48,
          69,
          83,
          80,
          119,
          143,
          170,
          222,
          291,
          278,
          456,
          556,
          650,
          784,
          962,
          1033,
          1273,
          1551,
          1838,
          2170,
          2894,
          3414,
          3690,
          4206,
          5030,
          5672,
          6401,
          6874,
          7347,
          7742,
          9182,
          8881,
          9141,
          9498,
          8937,
          9077,
          8869,
          7761,
          7912,
          8005,
          7789,
          7967,
          8076
         ],
         "yaxis": "y"
        },
        {
         "hoverlabel": {
          "namelength": 0
         },
         "hovertemplate": "State=New York<br>Confirmed=%{x}<br>New_Weekly_Cases=%{y}",
         "legendgroup": "New York",
         "line": {
          "color": "#FF6692",
          "dash": "solid"
         },
         "mode": "lines",
         "name": "New York",
         "showlegend": true,
         "type": "scatter",
         "x": [
          11,
          23,
          31,
          76,
          106,
          142,
          150,
          220,
          327,
          421,
          613,
          615,
          967,
          1578,
          3038,
          5704,
          8403,
          11727,
          15800,
          20884,
          25681,
          30841,
          37877,
          44876,
          52410,
          59648,
          66663,
          75833,
          83948,
          92506,
          102987,
          113833,
          123160,
          131815,
          139875,
          151061,
          161779,
          172348,
          181026,
          189033,
          195749,
          203020,
          214454,
          223691,
          230597
         ],
         "xaxis": "x",
         "y": [
          11,
          23,
          31,
          76,
          106,
          141,
          148,
          209,
          304,
          390,
          537,
          509,
          825,
          1428,
          2818,
          5377,
          7982,
          11114,
          15185,
          19917,
          24103,
          27803,
          32173,
          36473,
          40683,
          43848,
          45779,
          50152,
          53107,
          54629,
          58111,
          61423,
          63512,
          65152,
          64042,
          67113,
          69273,
          69361,
          67193,
          65873,
          63934,
          63145,
          63393,
          61912,
          58249
         ],
         "yaxis": "y"
        },
        {
         "hoverlabel": {
          "namelength": 0
         },
         "hovertemplate": "State=Georgia<br>Confirmed=%{x}<br>New_Weekly_Cases=%{y}",
         "legendgroup": "Georgia",
         "line": {
          "color": "#B6E880",
          "dash": "solid"
         },
         "mode": "lines",
         "name": "Georgia",
         "showlegend": true,
         "type": "scatter",
         "x": [
          2,
          2,
          3,
          5,
          5,
          10,
          17,
          23,
          31,
          42,
          73,
          99,
          121,
          146,
          197,
          287,
          485,
          555,
          621,
          772,
          1026,
          1247,
          1525,
          2000,
          2366,
          2651,
          2808,
          3929,
          4638,
          5348,
          5831,
          6160,
          6647,
          7314,
          8822,
          9901,
          10566,
          11485,
          12159,
          12452,
          13315,
          14578,
          14987,
          15669,
          17194
         ],
         "xaxis": "x",
         "y": [
          2,
          2,
          3,
          5,
          5,
          10,
          15,
          21,
          29,
          39,
          68,
          94,
          111,
          129,
          174,
          256,
          443,
          482,
          522,
          651,
          880,
          1050,
          1238,
          1515,
          1811,
          2030,
          2036,
          2903,
          3391,
          3823,
          3831,
          3794,
          3996,
          4506,
          4893,
          5263,
          5218,
          5654,
          5999,
          5805,
          6001,
          5756,
          5086,
          5103,
          5709
         ],
         "yaxis": "y"
        },
        {
         "hoverlabel": {
          "namelength": 0
         },
         "hovertemplate": "State=Massachusetts<br>Confirmed=%{x}<br>New_Weekly_Cases=%{y}",
         "legendgroup": "Massachusetts",
         "line": {
          "color": "#FF97FF",
          "dash": "solid"
         },
         "mode": "lines",
         "name": "Massachusetts",
         "showlegend": true,
         "type": "scatter",
         "x": [
          2,
          2,
          6,
          6,
          22,
          22,
          41,
          92,
          107,
          123,
          138,
          138,
          187,
          217,
          252,
          328,
          413,
          523,
          640,
          777,
          1159,
          1838,
          2417,
          3240,
          4257,
          4955,
          5752,
          6620,
          7738,
          8966,
          10402,
          11736,
          12500,
          13837,
          15202,
          16790,
          18941,
          20974,
          22860,
          25475,
          26867,
          28164,
          29918,
          32181,
          34402
         ],
         "xaxis": "x",
         "y": [
          1,
          1,
          5,
          5,
          21,
          21,
          39,
          90,
          105,
          117,
          132,
          116,
          165,
          176,
          160,
          221,
          290,
          385,
          502,
          590,
          942,
          1586,
          2089,
          2827,
          3734,
          4315,
          4975,
          5461,
          5900,
          6549,
          7162,
          7479,
          7545,
          8085,
          8582,
          9052,
          9975,
          10572,
          11124,
          12975,
          13030,
          12962,
          13128,
          13240,
          13428
         ],
         "yaxis": "y"
        },
        {
         "hoverlabel": {
          "namelength": 0
         },
         "hovertemplate": "State=Maryland<br>Confirmed=%{x}<br>New_Weekly_Cases=%{y}",
         "legendgroup": "Maryland",
         "line": {
          "color": "#FECB52",
          "dash": "solid"
         },
         "mode": "lines",
         "name": "Maryland",
         "showlegend": true,
         "type": "scatter",
         "x": [
          0,
          3,
          3,
          5,
          5,
          8,
          9,
          12,
          18,
          27,
          24,
          42,
          60,
          85,
          107,
          149,
          193,
          244,
          290,
          349,
          425,
          583,
          775,
          995,
          1239,
          1413,
          1660,
          1986,
          2331,
          2758,
          3125,
          3617,
          4045,
          4371,
          5529,
          6185,
          6968,
          7694,
          8225,
          8936,
          9472,
          10032,
          10784,
          11572
         ],
         "xaxis": "x",
         "y": [
          0,
          3,
          3,
          5,
          5,
          8,
          9,
          12,
          15,
          24,
          19,
          37,
          52,
          76,
          95,
          131,
          166,
          220,
          248,
          289,
          340,
          476,
          626,
          802,
          995,
          1123,
          1311,
          1561,
          1748,
          1983,
          2130,
          2378,
          2632,
          2711,
          3543,
          3854,
          4210,
          4569,
          4608,
          4891,
          5101,
          4503,
          4599,
          4604
         ],
         "yaxis": "y"
        },
        {
         "hoverlabel": {
          "namelength": 0
         },
         "hovertemplate": "State=New Jersey<br>Confirmed=%{x}<br>New_Weekly_Cases=%{y}",
         "legendgroup": "New Jersey",
         "line": {
          "color": "#636efa",
          "dash": "solid"
         },
         "mode": "lines",
         "name": "New Jersey",
         "showlegend": true,
         "type": "scatter",
         "x": [
          2,
          2,
          4,
          5,
          5,
          15,
          23,
          29,
          49,
          69,
          72,
          176,
          250,
          397,
          741,
          890,
          1327,
          1914,
          2844,
          3675,
          4402,
          6876,
          8825,
          11124,
          13386,
          16636,
          18696,
          22255,
          25590,
          29895,
          34124,
          37505,
          41090,
          44416,
          47437,
          51027,
          54588,
          58151,
          61850,
          64584,
          68824,
          71030,
          75317,
          78467
         ],
         "xaxis": "x",
         "y": [
          2,
          2,
          4,
          5,
          5,
          15,
          23,
          27,
          47,
          65,
          67,
          171,
          235,
          374,
          712,
          841,
          1258,
          1842,
          2668,
          3425,
          4005,
          6135,
          7935,
          9797,
          11472,
          13792,
          15021,
          17853,
          18714,
          21070,
          23000,
          24119,
          24454,
          25720,
          25182,
          25437,
          24693,
          24027,
          24345,
          23494,
          24408,
          23593,
          24290,
          23879
         ],
         "yaxis": "y"
        },
        {
         "hoverlabel": {
          "namelength": 0
         },
         "hovertemplate": "State=Indiana<br>Confirmed=%{x}<br>New_Weekly_Cases=%{y}",
         "legendgroup": "Indiana",
         "line": {
          "color": "#EF553B",
          "dash": "solid"
         },
         "mode": "lines",
         "name": "Indiana",
         "showlegend": true,
         "type": "scatter",
         "x": [
          1,
          1,
          2,
          3,
          6,
          11,
          13,
          13,
          16,
          20,
          25,
          30,
          38,
          60,
          86,
          128,
          204,
          270,
          368,
          477,
          645,
          979,
          1233,
          1513,
          1786,
          2158,
          2564,
          3038,
          3437,
          3953,
          4411,
          4956,
          5510,
          5943,
          6351,
          6907,
          7435,
          7928,
          8359,
          8527,
          8960,
          9542,
          10154
         ],
         "xaxis": "x",
         "y": [
          1,
          1,
          2,
          3,
          6,
          11,
          13,
          12,
          15,
          18,
          22,
          24,
          27,
          47,
          73,
          112,
          184,
          245,
          338,
          439,
          585,
          893,
          1105,
          1309,
          1516,
          1790,
          2087,
          2393,
          2458,
          2720,
          2898,
          3170,
          3352,
          3379,
          3313,
          3470,
          3482,
          3517,
          3403,
          3017,
          3017,
          3191,
          3247
         ],
         "yaxis": "y"
        },
        {
         "hoverlabel": {
          "namelength": 0
         },
         "hovertemplate": "State=Pennsylvania<br>Confirmed=%{x}<br>New_Weekly_Cases=%{y}",
         "legendgroup": "Pennsylvania",
         "line": {
          "color": "#00cc96",
          "dash": "solid"
         },
         "mode": "lines",
         "name": "Pennsylvania",
         "showlegend": true,
         "type": "scatter",
         "x": [
          2,
          2,
          6,
          7,
          12,
          16,
          22,
          41,
          47,
          47,
          79,
          112,
          155,
          206,
          311,
          399,
          509,
          698,
          946,
          1260,
          1795,
          2345,
          2845,
          3432,
          4155,
          4963,
          6009,
          7268,
          8570,
          10444,
          11589,
          13127,
          14853,
          16631,
          18300,
          20051,
          21719,
          22938,
          24292,
          25465,
          26753,
          28258,
          29888
         ],
         "xaxis": "x",
         "y": [
          2,
          2,
          6,
          7,
          12,
          16,
          22,
          39,
          45,
          41,
          72,
          100,
          139,
          184,
          270,
          352,
          462,
          619,
          834,
          1105,
          1589,
          2034,
          2446,
          2923,
          3457,
          4017,
          4749,
          5473,
          6225,
          7599,
          8157,
          8972,
          9890,
          10622,
          11032,
          11481,
          11275,
          11349,
          11165,
          10612,
          10122,
          9958,
          9837
         ],
         "yaxis": "y"
        },
        {
         "hoverlabel": {
          "namelength": 0
         },
         "hovertemplate": "State=Connecticut<br>Confirmed=%{x}<br>New_Weekly_Cases=%{y}",
         "legendgroup": "Connecticut",
         "line": {
          "color": "#ab63fa",
          "dash": "solid"
         },
         "mode": "lines",
         "name": "Connecticut",
         "showlegend": true,
         "type": "scatter",
         "x": [
          0,
          0,
          0,
          1,
          3,
          5,
          11,
          23,
          24,
          41,
          68,
          96,
          159,
          194,
          194,
          327,
          415,
          618,
          875,
          1012,
          1291,
          1524,
          1993,
          2571,
          3128,
          3557,
          3824,
          4914,
          5276,
          5675,
          6906,
          7781,
          7781,
          9784,
          10538,
          11510,
          12035,
          13381,
          13989,
          14755,
          15884,
          16809
         ],
         "xaxis": "x",
         "y": [
          0,
          0,
          0,
          1,
          3,
          5,
          11,
          23,
          24,
          41,
          67,
          93,
          154,
          183,
          171,
          303,
          374,
          550,
          779,
          853,
          1097,
          1330,
          1666,
          2156,
          2510,
          2682,
          2812,
          3623,
          3752,
          3682,
          4335,
          4653,
          4224,
          5960,
          5624,
          6234,
          6360,
          6475,
          6208,
          6974,
          6100,
          6271
         ],
         "yaxis": "y"
        },
        {
         "hoverlabel": {
          "namelength": 0
         },
         "hovertemplate": "State=Louisiana<br>Confirmed=%{x}<br>New_Weekly_Cases=%{y}",
         "legendgroup": "Louisiana",
         "line": {
          "color": "#FFA15A",
          "dash": "solid"
         },
         "mode": "lines",
         "name": "Louisiana",
         "showlegend": true,
         "type": "scatter",
         "x": [
          0,
          0,
          0,
          0,
          5,
          19,
          29,
          77,
          87,
          115,
          196,
          257,
          392,
          537,
          763,
          837,
          1172,
          1388,
          1795,
          2304,
          2744,
          3315,
          3540,
          4025,
          5237,
          6424,
          9149,
          10297,
          12496,
          13010,
          14867,
          16284,
          17030,
          18283,
          19253,
          20014,
          20595,
          21016,
          21518,
          21951,
          22532,
          23118
         ],
         "xaxis": "x",
         "y": [
          0,
          0,
          0,
          0,
          5,
          19,
          29,
          77,
          87,
          115,
          196,
          252,
          373,
          508,
          686,
          750,
          1057,
          1192,
          1538,
          1912,
          2207,
          2552,
          2703,
          2853,
          3849,
          4629,
          6845,
          7553,
          9181,
          9470,
          10842,
          11047,
          10606,
          9134,
          8956,
          7518,
          7585,
          6149,
          5234,
          4921,
          4249,
          3865
         ],
         "yaxis": "y"
        }
       ],
       "layout": {
        "legend": {
         "title": {
          "text": "State"
         },
         "tracegroupgap": 0
        },
        "template": {
         "data": {
          "bar": [
           {
            "error_x": {
             "color": "#f2f5fa"
            },
            "error_y": {
             "color": "#f2f5fa"
            },
            "marker": {
             "line": {
              "color": "rgb(17,17,17)",
              "width": 0.5
             }
            },
            "type": "bar"
           }
          ],
          "barpolar": [
           {
            "marker": {
             "line": {
              "color": "rgb(17,17,17)",
              "width": 0.5
             }
            },
            "type": "barpolar"
           }
          ],
          "carpet": [
           {
            "aaxis": {
             "endlinecolor": "#A2B1C6",
             "gridcolor": "#506784",
             "linecolor": "#506784",
             "minorgridcolor": "#506784",
             "startlinecolor": "#A2B1C6"
            },
            "baxis": {
             "endlinecolor": "#A2B1C6",
             "gridcolor": "#506784",
             "linecolor": "#506784",
             "minorgridcolor": "#506784",
             "startlinecolor": "#A2B1C6"
            },
            "type": "carpet"
           }
          ],
          "choropleth": [
           {
            "colorbar": {
             "outlinewidth": 0,
             "ticks": ""
            },
            "type": "choropleth"
           }
          ],
          "contour": [
           {
            "colorbar": {
             "outlinewidth": 0,
             "ticks": ""
            },
            "colorscale": [
             [
              0,
              "#0d0887"
             ],
             [
              0.1111111111111111,
              "#46039f"
             ],
             [
              0.2222222222222222,
              "#7201a8"
             ],
             [
              0.3333333333333333,
              "#9c179e"
             ],
             [
              0.4444444444444444,
              "#bd3786"
             ],
             [
              0.5555555555555556,
              "#d8576b"
             ],
             [
              0.6666666666666666,
              "#ed7953"
             ],
             [
              0.7777777777777778,
              "#fb9f3a"
             ],
             [
              0.8888888888888888,
              "#fdca26"
             ],
             [
              1,
              "#f0f921"
             ]
            ],
            "type": "contour"
           }
          ],
          "contourcarpet": [
           {
            "colorbar": {
             "outlinewidth": 0,
             "ticks": ""
            },
            "type": "contourcarpet"
           }
          ],
          "heatmap": [
           {
            "colorbar": {
             "outlinewidth": 0,
             "ticks": ""
            },
            "colorscale": [
             [
              0,
              "#0d0887"
             ],
             [
              0.1111111111111111,
              "#46039f"
             ],
             [
              0.2222222222222222,
              "#7201a8"
             ],
             [
              0.3333333333333333,
              "#9c179e"
             ],
             [
              0.4444444444444444,
              "#bd3786"
             ],
             [
              0.5555555555555556,
              "#d8576b"
             ],
             [
              0.6666666666666666,
              "#ed7953"
             ],
             [
              0.7777777777777778,
              "#fb9f3a"
             ],
             [
              0.8888888888888888,
              "#fdca26"
             ],
             [
              1,
              "#f0f921"
             ]
            ],
            "type": "heatmap"
           }
          ],
          "heatmapgl": [
           {
            "colorbar": {
             "outlinewidth": 0,
             "ticks": ""
            },
            "colorscale": [
             [
              0,
              "#0d0887"
             ],
             [
              0.1111111111111111,
              "#46039f"
             ],
             [
              0.2222222222222222,
              "#7201a8"
             ],
             [
              0.3333333333333333,
              "#9c179e"
             ],
             [
              0.4444444444444444,
              "#bd3786"
             ],
             [
              0.5555555555555556,
              "#d8576b"
             ],
             [
              0.6666666666666666,
              "#ed7953"
             ],
             [
              0.7777777777777778,
              "#fb9f3a"
             ],
             [
              0.8888888888888888,
              "#fdca26"
             ],
             [
              1,
              "#f0f921"
             ]
            ],
            "type": "heatmapgl"
           }
          ],
          "histogram": [
           {
            "marker": {
             "colorbar": {
              "outlinewidth": 0,
              "ticks": ""
             }
            },
            "type": "histogram"
           }
          ],
          "histogram2d": [
           {
            "colorbar": {
             "outlinewidth": 0,
             "ticks": ""
            },
            "colorscale": [
             [
              0,
              "#0d0887"
             ],
             [
              0.1111111111111111,
              "#46039f"
             ],
             [
              0.2222222222222222,
              "#7201a8"
             ],
             [
              0.3333333333333333,
              "#9c179e"
             ],
             [
              0.4444444444444444,
              "#bd3786"
             ],
             [
              0.5555555555555556,
              "#d8576b"
             ],
             [
              0.6666666666666666,
              "#ed7953"
             ],
             [
              0.7777777777777778,
              "#fb9f3a"
             ],
             [
              0.8888888888888888,
              "#fdca26"
             ],
             [
              1,
              "#f0f921"
             ]
            ],
            "type": "histogram2d"
           }
          ],
          "histogram2dcontour": [
           {
            "colorbar": {
             "outlinewidth": 0,
             "ticks": ""
            },
            "colorscale": [
             [
              0,
              "#0d0887"
             ],
             [
              0.1111111111111111,
              "#46039f"
             ],
             [
              0.2222222222222222,
              "#7201a8"
             ],
             [
              0.3333333333333333,
              "#9c179e"
             ],
             [
              0.4444444444444444,
              "#bd3786"
             ],
             [
              0.5555555555555556,
              "#d8576b"
             ],
             [
              0.6666666666666666,
              "#ed7953"
             ],
             [
              0.7777777777777778,
              "#fb9f3a"
             ],
             [
              0.8888888888888888,
              "#fdca26"
             ],
             [
              1,
              "#f0f921"
             ]
            ],
            "type": "histogram2dcontour"
           }
          ],
          "mesh3d": [
           {
            "colorbar": {
             "outlinewidth": 0,
             "ticks": ""
            },
            "type": "mesh3d"
           }
          ],
          "parcoords": [
           {
            "line": {
             "colorbar": {
              "outlinewidth": 0,
              "ticks": ""
             }
            },
            "type": "parcoords"
           }
          ],
          "pie": [
           {
            "automargin": true,
            "type": "pie"
           }
          ],
          "scatter": [
           {
            "marker": {
             "line": {
              "color": "#283442"
             }
            },
            "type": "scatter"
           }
          ],
          "scatter3d": [
           {
            "line": {
             "colorbar": {
              "outlinewidth": 0,
              "ticks": ""
             }
            },
            "marker": {
             "colorbar": {
              "outlinewidth": 0,
              "ticks": ""
             }
            },
            "type": "scatter3d"
           }
          ],
          "scattercarpet": [
           {
            "marker": {
             "colorbar": {
              "outlinewidth": 0,
              "ticks": ""
             }
            },
            "type": "scattercarpet"
           }
          ],
          "scattergeo": [
           {
            "marker": {
             "colorbar": {
              "outlinewidth": 0,
              "ticks": ""
             }
            },
            "type": "scattergeo"
           }
          ],
          "scattergl": [
           {
            "marker": {
             "line": {
              "color": "#283442"
             }
            },
            "type": "scattergl"
           }
          ],
          "scattermapbox": [
           {
            "marker": {
             "colorbar": {
              "outlinewidth": 0,
              "ticks": ""
             }
            },
            "type": "scattermapbox"
           }
          ],
          "scatterpolar": [
           {
            "marker": {
             "colorbar": {
              "outlinewidth": 0,
              "ticks": ""
             }
            },
            "type": "scatterpolar"
           }
          ],
          "scatterpolargl": [
           {
            "marker": {
             "colorbar": {
              "outlinewidth": 0,
              "ticks": ""
             }
            },
            "type": "scatterpolargl"
           }
          ],
          "scatterternary": [
           {
            "marker": {
             "colorbar": {
              "outlinewidth": 0,
              "ticks": ""
             }
            },
            "type": "scatterternary"
           }
          ],
          "surface": [
           {
            "colorbar": {
             "outlinewidth": 0,
             "ticks": ""
            },
            "colorscale": [
             [
              0,
              "#0d0887"
             ],
             [
              0.1111111111111111,
              "#46039f"
             ],
             [
              0.2222222222222222,
              "#7201a8"
             ],
             [
              0.3333333333333333,
              "#9c179e"
             ],
             [
              0.4444444444444444,
              "#bd3786"
             ],
             [
              0.5555555555555556,
              "#d8576b"
             ],
             [
              0.6666666666666666,
              "#ed7953"
             ],
             [
              0.7777777777777778,
              "#fb9f3a"
             ],
             [
              0.8888888888888888,
              "#fdca26"
             ],
             [
              1,
              "#f0f921"
             ]
            ],
            "type": "surface"
           }
          ],
          "table": [
           {
            "cells": {
             "fill": {
              "color": "#506784"
             },
             "line": {
              "color": "rgb(17,17,17)"
             }
            },
            "header": {
             "fill": {
              "color": "#2a3f5f"
             },
             "line": {
              "color": "rgb(17,17,17)"
             }
            },
            "type": "table"
           }
          ]
         },
         "layout": {
          "annotationdefaults": {
           "arrowcolor": "#f2f5fa",
           "arrowhead": 0,
           "arrowwidth": 1
          },
          "coloraxis": {
           "colorbar": {
            "outlinewidth": 0,
            "ticks": ""
           }
          },
          "colorscale": {
           "diverging": [
            [
             0,
             "#8e0152"
            ],
            [
             0.1,
             "#c51b7d"
            ],
            [
             0.2,
             "#de77ae"
            ],
            [
             0.3,
             "#f1b6da"
            ],
            [
             0.4,
             "#fde0ef"
            ],
            [
             0.5,
             "#f7f7f7"
            ],
            [
             0.6,
             "#e6f5d0"
            ],
            [
             0.7,
             "#b8e186"
            ],
            [
             0.8,
             "#7fbc41"
            ],
            [
             0.9,
             "#4d9221"
            ],
            [
             1,
             "#276419"
            ]
           ],
           "sequential": [
            [
             0,
             "#0d0887"
            ],
            [
             0.1111111111111111,
             "#46039f"
            ],
            [
             0.2222222222222222,
             "#7201a8"
            ],
            [
             0.3333333333333333,
             "#9c179e"
            ],
            [
             0.4444444444444444,
             "#bd3786"
            ],
            [
             0.5555555555555556,
             "#d8576b"
            ],
            [
             0.6666666666666666,
             "#ed7953"
            ],
            [
             0.7777777777777778,
             "#fb9f3a"
            ],
            [
             0.8888888888888888,
             "#fdca26"
            ],
            [
             1,
             "#f0f921"
            ]
           ],
           "sequentialminus": [
            [
             0,
             "#0d0887"
            ],
            [
             0.1111111111111111,
             "#46039f"
            ],
            [
             0.2222222222222222,
             "#7201a8"
            ],
            [
             0.3333333333333333,
             "#9c179e"
            ],
            [
             0.4444444444444444,
             "#bd3786"
            ],
            [
             0.5555555555555556,
             "#d8576b"
            ],
            [
             0.6666666666666666,
             "#ed7953"
            ],
            [
             0.7777777777777778,
             "#fb9f3a"
            ],
            [
             0.8888888888888888,
             "#fdca26"
            ],
            [
             1,
             "#f0f921"
            ]
           ]
          },
          "colorway": [
           "#636efa",
           "#EF553B",
           "#00cc96",
           "#ab63fa",
           "#FFA15A",
           "#19d3f3",
           "#FF6692",
           "#B6E880",
           "#FF97FF",
           "#FECB52"
          ],
          "font": {
           "color": "#f2f5fa"
          },
          "geo": {
           "bgcolor": "rgb(17,17,17)",
           "lakecolor": "rgb(17,17,17)",
           "landcolor": "rgb(17,17,17)",
           "showlakes": true,
           "showland": true,
           "subunitcolor": "#506784"
          },
          "hoverlabel": {
           "align": "left"
          },
          "hovermode": "closest",
          "mapbox": {
           "style": "dark"
          },
          "paper_bgcolor": "rgb(17,17,17)",
          "plot_bgcolor": "rgb(17,17,17)",
          "polar": {
           "angularaxis": {
            "gridcolor": "#506784",
            "linecolor": "#506784",
            "ticks": ""
           },
           "bgcolor": "rgb(17,17,17)",
           "radialaxis": {
            "gridcolor": "#506784",
            "linecolor": "#506784",
            "ticks": ""
           }
          },
          "scene": {
           "xaxis": {
            "backgroundcolor": "rgb(17,17,17)",
            "gridcolor": "#506784",
            "gridwidth": 2,
            "linecolor": "#506784",
            "showbackground": true,
            "ticks": "",
            "zerolinecolor": "#C8D4E3"
           },
           "yaxis": {
            "backgroundcolor": "rgb(17,17,17)",
            "gridcolor": "#506784",
            "gridwidth": 2,
            "linecolor": "#506784",
            "showbackground": true,
            "ticks": "",
            "zerolinecolor": "#C8D4E3"
           },
           "zaxis": {
            "backgroundcolor": "rgb(17,17,17)",
            "gridcolor": "#506784",
            "gridwidth": 2,
            "linecolor": "#506784",
            "showbackground": true,
            "ticks": "",
            "zerolinecolor": "#C8D4E3"
           }
          },
          "shapedefaults": {
           "line": {
            "color": "#f2f5fa"
           }
          },
          "sliderdefaults": {
           "bgcolor": "#C8D4E3",
           "bordercolor": "rgb(17,17,17)",
           "borderwidth": 1,
           "tickwidth": 0
          },
          "ternary": {
           "aaxis": {
            "gridcolor": "#506784",
            "linecolor": "#506784",
            "ticks": ""
           },
           "baxis": {
            "gridcolor": "#506784",
            "linecolor": "#506784",
            "ticks": ""
           },
           "bgcolor": "rgb(17,17,17)",
           "caxis": {
            "gridcolor": "#506784",
            "linecolor": "#506784",
            "ticks": ""
           }
          },
          "title": {
           "x": 0.05
          },
          "updatemenudefaults": {
           "bgcolor": "#506784",
           "borderwidth": 0
          },
          "xaxis": {
           "automargin": true,
           "gridcolor": "#283442",
           "linecolor": "#506784",
           "ticks": "",
           "title": {
            "standoff": 15
           },
           "zerolinecolor": "#283442",
           "zerolinewidth": 2
          },
          "yaxis": {
           "automargin": true,
           "gridcolor": "#283442",
           "linecolor": "#506784",
           "ticks": "",
           "title": {
            "standoff": 15
           },
           "zerolinecolor": "#283442",
           "zerolinewidth": 2
          }
         }
        },
        "title": {
         "text": "New Cases to Confirmed Cases (Log Scale)"
        },
        "xaxis": {
         "anchor": "y",
         "domain": [
          0,
          1
         ],
         "title": {
          "text": "Confirmed"
         },
         "type": "log"
        },
        "yaxis": {
         "anchor": "x",
         "domain": [
          0,
          1
         ],
         "title": {
          "text": "New_Weekly_Cases"
         },
         "type": "log"
        }
       }
      },
      "text/html": [
       "<div>\n",
       "        \n",
       "        \n",
       "            <div id=\"2c6bf86a-5f2d-4378-b386-cea9b6ef8f4a\" class=\"plotly-graph-div\" style=\"height:525px; width:100%;\"></div>\n",
       "            <script type=\"text/javascript\">\n",
       "                require([\"plotly\"], function(Plotly) {\n",
       "                    window.PLOTLYENV=window.PLOTLYENV || {};\n",
       "                    \n",
       "                if (document.getElementById(\"2c6bf86a-5f2d-4378-b386-cea9b6ef8f4a\")) {\n",
       "                    Plotly.newPlot(\n",
       "                        '2c6bf86a-5f2d-4378-b386-cea9b6ef8f4a',\n",
       "                        [{\"hoverlabel\": {\"namelength\": 0}, \"hovertemplate\": \"State=Washington<br>Confirmed=%{x}<br>New_Weekly_Cases=%{y}\", \"legendgroup\": \"Washington\", \"line\": {\"color\": \"#636efa\", \"dash\": \"solid\"}, \"mode\": \"lines\", \"name\": \"Washington\", \"showlegend\": true, \"type\": \"scatter\", \"x\": [1, 7, 11, 18, 27, 39, 70, 78, 102, 122, 122, 167, 282, 442, 568, 642, 603, 779, 955, 1022, 1374, 1524, 1793, 1997, 2221, 2328, 2591, 3207, 3477, 4030, 4465, 4923, 5432, 5608, 6389, 6846, 7247, 7825, 8311, 8692, 9276, 9639, 10119, 10434, 10609, 10635, 10799, 10942, 11057, 11517], \"xaxis\": \"x\", \"y\": [0.0, 6.0, 10.0, 17.0, 26.0, 38.0, 69.0, 77.0, 95.0, 111.0, 104.0, 140.0, 243.0, 372.0, 490.0, 540.0, 481.0, 657.0, 788.0, 740.0, 932.0, 956.0, 1151.0, 1394.0, 1442.0, 1373.0, 1569.0, 1833.0, 1953.0, 2237.0, 2468.0, 2702.0, 3104.0, 3017.0, 3182.0, 3369.0, 3217.0, 3360.0, 3388.0, 3260.0, 3668.0, 3250.0, 3273.0, 3187.0, 2784.0, 2324.0, 2107.0, 1666.0, 1418.0, 1398.0], \"yaxis\": \"y\"}, {\"hoverlabel\": {\"namelength\": 0}, \"hovertemplate\": \"State=Michigan<br>Confirmed=%{x}<br>New_Weekly_Cases=%{y}\", \"legendgroup\": \"Michigan\", \"line\": {\"color\": \"#EF553B\", \"dash\": \"solid\"}, \"mode\": \"lines\", \"name\": \"Michigan\", \"showlegend\": true, \"type\": \"scatter\", \"x\": [0, 0, 0, 0, 0, 0, 0, 0, 0, 0, 2, 2, 16, 25, 32, 54, 63, 119, 259, 402, 540, 1035, 1329, 1793, 2296, 2845, 3634, 4650, 5488, 6498, 7615, 9315, 10791, 12744, 14225, 15718, 17221, 18970, 20346, 21504, 22434, 23605, 24244, 25635, 27001, 28059, 28809, 30023], \"xaxis\": \"x\", \"y\": [0.0, 0.0, 0.0, 0.0, 0.0, 0.0, 0.0, 0.0, 0.0, 0.0, 2.0, 2.0, 16.0, 25.0, 32.0, 54.0, 63.0, 117.0, 257.0, 386.0, 515.0, 1003.0, 1275.0, 1730.0, 2177.0, 2586.0, 3232.0, 4110.0, 4453.0, 5169.0, 5822.0, 7019.0, 7946.0, 9110.0, 9575.0, 10230.0, 10723.0, 11355.0, 11031.0, 10713.0, 9690.0, 9380.0, 8526.0, 8414.0, 8031.0, 7713.0, 7305.0, 7589.0], \"yaxis\": \"y\"}, {\"hoverlabel\": {\"namelength\": 0}, \"hovertemplate\": \"State=Texas<br>Confirmed=%{x}<br>New_Weekly_Cases=%{y}\", \"legendgroup\": \"Texas\", \"line\": {\"color\": \"#00cc96\", \"dash\": \"solid\"}, \"mode\": \"lines\", \"name\": \"Texas\", \"showlegend\": true, \"type\": \"scatter\", \"x\": [0, 3, 4, 8, 11, 13, 16, 21, 27, 44, 60, 63, 85, 110, 196, 306, 429, 582, 643, 758, 955, 1229, 1563, 1937, 2455, 2792, 3147, 3809, 4355, 5069, 5734, 6567, 7209, 8043, 8925, 9777, 11208, 12105, 13023, 13677, 14275, 15006, 15907, 16876, 17849], \"xaxis\": \"x\", \"y\": [0.0, 3.0, 4.0, 8.0, 11.0, 13.0, 16.0, 21.0, 24.0, 40.0, 52.0, 52.0, 72.0, 94.0, 175.0, 279.0, 385.0, 522.0, 580.0, 673.0, 845.0, 1033.0, 1257.0, 1508.0, 1873.0, 2149.0, 2389.0, 2854.0, 3126.0, 3506.0, 3797.0, 4112.0, 4417.0, 4896.0, 5116.0, 5422.0, 6139.0, 6371.0, 6456.0, 6468.0, 6232.0, 6081.0, 6130.0, 5668.0, 5744.0], \"yaxis\": \"y\"}, {\"hoverlabel\": {\"namelength\": 0}, \"hovertemplate\": \"State=Florida<br>Confirmed=%{x}<br>New_Weekly_Cases=%{y}\", \"legendgroup\": \"Florida\", \"line\": {\"color\": \"#ab63fa\", \"dash\": \"solid\"}, \"mode\": \"lines\", \"name\": \"Florida\", \"showlegend\": true, \"type\": \"scatter\", \"x\": [2, 3, 3, 7, 10, 13, 15, 24, 30, 50, 76, 100, 101, 190, 306, 432, 564, 763, 1004, 1227, 1412, 1682, 2357, 2900, 3763, 4246, 5473, 6741, 6956, 9008, 10268, 11537, 12350, 13324, 14545, 15456, 16364, 17531, 18494, 19895, 21019, 21628, 22511, 23343, 24759], \"xaxis\": \"x\", \"y\": [2.0, 3.0, 3.0, 7.0, 10.0, 12.0, 13.0, 22.0, 27.0, 47.0, 69.0, 90.0, 88.0, 175.0, 282.0, 402.0, 514.0, 687.0, 904.0, 1126.0, 1222.0, 1376.0, 1925.0, 2336.0, 3000.0, 3242.0, 4246.0, 5329.0, 5274.0, 6651.0, 7368.0, 7774.0, 8104.0, 7851.0, 7804.0, 8500.0, 7356.0, 7263.0, 6957.0, 7545.0, 7695.0, 7083.0, 7055.0, 6979.0, 7228.0], \"yaxis\": \"y\"}, {\"hoverlabel\": {\"namelength\": 0}, \"hovertemplate\": \"State=Illinois<br>Confirmed=%{x}<br>New_Weekly_Cases=%{y}\", \"legendgroup\": \"Illinois\", \"line\": {\"color\": \"#FFA15A\", \"dash\": \"solid\"}, \"mode\": \"lines\", \"name\": \"Illinois\", \"showlegend\": true, \"type\": \"scatter\", \"x\": [4, 5, 5, 6, 7, 7, 12, 25, 32, 46, 64, 66, 83, 161, 272, 422, 585, 753, 1049, 1285, 1537, 1865, 2538, 3024, 3491, 4596, 5056, 5994, 6980, 7695, 8904, 10357, 11259, 12262, 12271, 15078, 15079, 17887, 19180, 20852, 22025, 23248, 24593, 25734, 27578], \"xaxis\": \"x\", \"y\": [2.0, 3.0, 3.0, 4.0, 4.0, 3.0, 8.0, 21.0, 27.0, 41.0, 58.0, 59.0, 76.0, 149.0, 247.0, 390.0, 539.0, 689.0, 983.0, 1202.0, 1376.0, 1593.0, 2116.0, 2439.0, 2738.0, 3547.0, 3771.0, 4457.0, 5115.0, 5157.0, 5880.0, 6866.0, 6663.0, 7206.0, 6277.0, 8098.0, 7384.0, 8983.0, 8823.0, 9593.0, 9763.0, 10977.0, 9515.0, 10655.0, 9691.0], \"yaxis\": \"y\"}, {\"hoverlabel\": {\"namelength\": 0}, \"hovertemplate\": \"State=California<br>Confirmed=%{x}<br>New_Weekly_Cases=%{y}\", \"legendgroup\": \"California\", \"line\": {\"color\": \"#19d3f3\", \"dash\": \"solid\"}, \"mode\": \"lines\", \"name\": \"California\", \"showlegend\": true, \"type\": \"scatter\", \"x\": [35, 51, 59, 81, 95, 101, 144, 178, 221, 281, 372, 373, 557, 700, 828, 1005, 1243, 1405, 1646, 2108, 2538, 2998, 3899, 4657, 5095, 5852, 7138, 8210, 9399, 10773, 12004, 12837, 15034, 16019, 17351, 18897, 19710, 21081, 21706, 22795, 23931, 25356, 26686, 27677, 29157], \"xaxis\": \"x\", \"y\": [25.0, 40.0, 48.0, 69.0, 83.0, 80.0, 119.0, 143.0, 170.0, 222.0, 291.0, 278.0, 456.0, 556.0, 650.0, 784.0, 962.0, 1033.0, 1273.0, 1551.0, 1838.0, 2170.0, 2894.0, 3414.0, 3690.0, 4206.0, 5030.0, 5672.0, 6401.0, 6874.0, 7347.0, 7742.0, 9182.0, 8881.0, 9141.0, 9498.0, 8937.0, 9077.0, 8869.0, 7761.0, 7912.0, 8005.0, 7789.0, 7967.0, 8076.0], \"yaxis\": \"y\"}, {\"hoverlabel\": {\"namelength\": 0}, \"hovertemplate\": \"State=New York<br>Confirmed=%{x}<br>New_Weekly_Cases=%{y}\", \"legendgroup\": \"New York\", \"line\": {\"color\": \"#FF6692\", \"dash\": \"solid\"}, \"mode\": \"lines\", \"name\": \"New York\", \"showlegend\": true, \"type\": \"scatter\", \"x\": [11, 23, 31, 76, 106, 142, 150, 220, 327, 421, 613, 615, 967, 1578, 3038, 5704, 8403, 11727, 15800, 20884, 25681, 30841, 37877, 44876, 52410, 59648, 66663, 75833, 83948, 92506, 102987, 113833, 123160, 131815, 139875, 151061, 161779, 172348, 181026, 189033, 195749, 203020, 214454, 223691, 230597], \"xaxis\": \"x\", \"y\": [11.0, 23.0, 31.0, 76.0, 106.0, 141.0, 148.0, 209.0, 304.0, 390.0, 537.0, 509.0, 825.0, 1428.0, 2818.0, 5377.0, 7982.0, 11114.0, 15185.0, 19917.0, 24103.0, 27803.0, 32173.0, 36473.0, 40683.0, 43848.0, 45779.0, 50152.0, 53107.0, 54629.0, 58111.0, 61423.0, 63512.0, 65152.0, 64042.0, 67113.0, 69273.0, 69361.0, 67193.0, 65873.0, 63934.0, 63145.0, 63393.0, 61912.0, 58249.0], \"yaxis\": \"y\"}, {\"hoverlabel\": {\"namelength\": 0}, \"hovertemplate\": \"State=Georgia<br>Confirmed=%{x}<br>New_Weekly_Cases=%{y}\", \"legendgroup\": \"Georgia\", \"line\": {\"color\": \"#B6E880\", \"dash\": \"solid\"}, \"mode\": \"lines\", \"name\": \"Georgia\", \"showlegend\": true, \"type\": \"scatter\", \"x\": [2, 2, 3, 5, 5, 10, 17, 23, 31, 42, 73, 99, 121, 146, 197, 287, 485, 555, 621, 772, 1026, 1247, 1525, 2000, 2366, 2651, 2808, 3929, 4638, 5348, 5831, 6160, 6647, 7314, 8822, 9901, 10566, 11485, 12159, 12452, 13315, 14578, 14987, 15669, 17194], \"xaxis\": \"x\", \"y\": [2.0, 2.0, 3.0, 5.0, 5.0, 10.0, 15.0, 21.0, 29.0, 39.0, 68.0, 94.0, 111.0, 129.0, 174.0, 256.0, 443.0, 482.0, 522.0, 651.0, 880.0, 1050.0, 1238.0, 1515.0, 1811.0, 2030.0, 2036.0, 2903.0, 3391.0, 3823.0, 3831.0, 3794.0, 3996.0, 4506.0, 4893.0, 5263.0, 5218.0, 5654.0, 5999.0, 5805.0, 6001.0, 5756.0, 5086.0, 5103.0, 5709.0], \"yaxis\": \"y\"}, {\"hoverlabel\": {\"namelength\": 0}, \"hovertemplate\": \"State=Massachusetts<br>Confirmed=%{x}<br>New_Weekly_Cases=%{y}\", \"legendgroup\": \"Massachusetts\", \"line\": {\"color\": \"#FF97FF\", \"dash\": \"solid\"}, \"mode\": \"lines\", \"name\": \"Massachusetts\", \"showlegend\": true, \"type\": \"scatter\", \"x\": [2, 2, 6, 6, 22, 22, 41, 92, 107, 123, 138, 138, 187, 217, 252, 328, 413, 523, 640, 777, 1159, 1838, 2417, 3240, 4257, 4955, 5752, 6620, 7738, 8966, 10402, 11736, 12500, 13837, 15202, 16790, 18941, 20974, 22860, 25475, 26867, 28164, 29918, 32181, 34402], \"xaxis\": \"x\", \"y\": [1.0, 1.0, 5.0, 5.0, 21.0, 21.0, 39.0, 90.0, 105.0, 117.0, 132.0, 116.0, 165.0, 176.0, 160.0, 221.0, 290.0, 385.0, 502.0, 590.0, 942.0, 1586.0, 2089.0, 2827.0, 3734.0, 4315.0, 4975.0, 5461.0, 5900.0, 6549.0, 7162.0, 7479.0, 7545.0, 8085.0, 8582.0, 9052.0, 9975.0, 10572.0, 11124.0, 12975.0, 13030.0, 12962.0, 13128.0, 13240.0, 13428.0], \"yaxis\": \"y\"}, {\"hoverlabel\": {\"namelength\": 0}, \"hovertemplate\": \"State=Maryland<br>Confirmed=%{x}<br>New_Weekly_Cases=%{y}\", \"legendgroup\": \"Maryland\", \"line\": {\"color\": \"#FECB52\", \"dash\": \"solid\"}, \"mode\": \"lines\", \"name\": \"Maryland\", \"showlegend\": true, \"type\": \"scatter\", \"x\": [0, 3, 3, 5, 5, 8, 9, 12, 18, 27, 24, 42, 60, 85, 107, 149, 193, 244, 290, 349, 425, 583, 775, 995, 1239, 1413, 1660, 1986, 2331, 2758, 3125, 3617, 4045, 4371, 5529, 6185, 6968, 7694, 8225, 8936, 9472, 10032, 10784, 11572], \"xaxis\": \"x\", \"y\": [0.0, 3.0, 3.0, 5.0, 5.0, 8.0, 9.0, 12.0, 15.0, 24.0, 19.0, 37.0, 52.0, 76.0, 95.0, 131.0, 166.0, 220.0, 248.0, 289.0, 340.0, 476.0, 626.0, 802.0, 995.0, 1123.0, 1311.0, 1561.0, 1748.0, 1983.0, 2130.0, 2378.0, 2632.0, 2711.0, 3543.0, 3854.0, 4210.0, 4569.0, 4608.0, 4891.0, 5101.0, 4503.0, 4599.0, 4604.0], \"yaxis\": \"y\"}, {\"hoverlabel\": {\"namelength\": 0}, \"hovertemplate\": \"State=New Jersey<br>Confirmed=%{x}<br>New_Weekly_Cases=%{y}\", \"legendgroup\": \"New Jersey\", \"line\": {\"color\": \"#636efa\", \"dash\": \"solid\"}, \"mode\": \"lines\", \"name\": \"New Jersey\", \"showlegend\": true, \"type\": \"scatter\", \"x\": [2, 2, 4, 5, 5, 15, 23, 29, 49, 69, 72, 176, 250, 397, 741, 890, 1327, 1914, 2844, 3675, 4402, 6876, 8825, 11124, 13386, 16636, 18696, 22255, 25590, 29895, 34124, 37505, 41090, 44416, 47437, 51027, 54588, 58151, 61850, 64584, 68824, 71030, 75317, 78467], \"xaxis\": \"x\", \"y\": [2.0, 2.0, 4.0, 5.0, 5.0, 15.0, 23.0, 27.0, 47.0, 65.0, 67.0, 171.0, 235.0, 374.0, 712.0, 841.0, 1258.0, 1842.0, 2668.0, 3425.0, 4005.0, 6135.0, 7935.0, 9797.0, 11472.0, 13792.0, 15021.0, 17853.0, 18714.0, 21070.0, 23000.0, 24119.0, 24454.0, 25720.0, 25182.0, 25437.0, 24693.0, 24027.0, 24345.0, 23494.0, 24408.0, 23593.0, 24290.0, 23879.0], \"yaxis\": \"y\"}, {\"hoverlabel\": {\"namelength\": 0}, \"hovertemplate\": \"State=Indiana<br>Confirmed=%{x}<br>New_Weekly_Cases=%{y}\", \"legendgroup\": \"Indiana\", \"line\": {\"color\": \"#EF553B\", \"dash\": \"solid\"}, \"mode\": \"lines\", \"name\": \"Indiana\", \"showlegend\": true, \"type\": \"scatter\", \"x\": [1, 1, 2, 3, 6, 11, 13, 13, 16, 20, 25, 30, 38, 60, 86, 128, 204, 270, 368, 477, 645, 979, 1233, 1513, 1786, 2158, 2564, 3038, 3437, 3953, 4411, 4956, 5510, 5943, 6351, 6907, 7435, 7928, 8359, 8527, 8960, 9542, 10154], \"xaxis\": \"x\", \"y\": [1.0, 1.0, 2.0, 3.0, 6.0, 11.0, 13.0, 12.0, 15.0, 18.0, 22.0, 24.0, 27.0, 47.0, 73.0, 112.0, 184.0, 245.0, 338.0, 439.0, 585.0, 893.0, 1105.0, 1309.0, 1516.0, 1790.0, 2087.0, 2393.0, 2458.0, 2720.0, 2898.0, 3170.0, 3352.0, 3379.0, 3313.0, 3470.0, 3482.0, 3517.0, 3403.0, 3017.0, 3017.0, 3191.0, 3247.0], \"yaxis\": \"y\"}, {\"hoverlabel\": {\"namelength\": 0}, \"hovertemplate\": \"State=Pennsylvania<br>Confirmed=%{x}<br>New_Weekly_Cases=%{y}\", \"legendgroup\": \"Pennsylvania\", \"line\": {\"color\": \"#00cc96\", \"dash\": \"solid\"}, \"mode\": \"lines\", \"name\": \"Pennsylvania\", \"showlegend\": true, \"type\": \"scatter\", \"x\": [2, 2, 6, 7, 12, 16, 22, 41, 47, 47, 79, 112, 155, 206, 311, 399, 509, 698, 946, 1260, 1795, 2345, 2845, 3432, 4155, 4963, 6009, 7268, 8570, 10444, 11589, 13127, 14853, 16631, 18300, 20051, 21719, 22938, 24292, 25465, 26753, 28258, 29888], \"xaxis\": \"x\", \"y\": [2.0, 2.0, 6.0, 7.0, 12.0, 16.0, 22.0, 39.0, 45.0, 41.0, 72.0, 100.0, 139.0, 184.0, 270.0, 352.0, 462.0, 619.0, 834.0, 1105.0, 1589.0, 2034.0, 2446.0, 2923.0, 3457.0, 4017.0, 4749.0, 5473.0, 6225.0, 7599.0, 8157.0, 8972.0, 9890.0, 10622.0, 11032.0, 11481.0, 11275.0, 11349.0, 11165.0, 10612.0, 10122.0, 9958.0, 9837.0], \"yaxis\": \"y\"}, {\"hoverlabel\": {\"namelength\": 0}, \"hovertemplate\": \"State=Connecticut<br>Confirmed=%{x}<br>New_Weekly_Cases=%{y}\", \"legendgroup\": \"Connecticut\", \"line\": {\"color\": \"#ab63fa\", \"dash\": \"solid\"}, \"mode\": \"lines\", \"name\": \"Connecticut\", \"showlegend\": true, \"type\": \"scatter\", \"x\": [0, 0, 0, 1, 3, 5, 11, 23, 24, 41, 68, 96, 159, 194, 194, 327, 415, 618, 875, 1012, 1291, 1524, 1993, 2571, 3128, 3557, 3824, 4914, 5276, 5675, 6906, 7781, 7781, 9784, 10538, 11510, 12035, 13381, 13989, 14755, 15884, 16809], \"xaxis\": \"x\", \"y\": [0.0, 0.0, 0.0, 1.0, 3.0, 5.0, 11.0, 23.0, 24.0, 41.0, 67.0, 93.0, 154.0, 183.0, 171.0, 303.0, 374.0, 550.0, 779.0, 853.0, 1097.0, 1330.0, 1666.0, 2156.0, 2510.0, 2682.0, 2812.0, 3623.0, 3752.0, 3682.0, 4335.0, 4653.0, 4224.0, 5960.0, 5624.0, 6234.0, 6360.0, 6475.0, 6208.0, 6974.0, 6100.0, 6271.0], \"yaxis\": \"y\"}, {\"hoverlabel\": {\"namelength\": 0}, \"hovertemplate\": \"State=Louisiana<br>Confirmed=%{x}<br>New_Weekly_Cases=%{y}\", \"legendgroup\": \"Louisiana\", \"line\": {\"color\": \"#FFA15A\", \"dash\": \"solid\"}, \"mode\": \"lines\", \"name\": \"Louisiana\", \"showlegend\": true, \"type\": \"scatter\", \"x\": [0, 0, 0, 0, 5, 19, 29, 77, 87, 115, 196, 257, 392, 537, 763, 837, 1172, 1388, 1795, 2304, 2744, 3315, 3540, 4025, 5237, 6424, 9149, 10297, 12496, 13010, 14867, 16284, 17030, 18283, 19253, 20014, 20595, 21016, 21518, 21951, 22532, 23118], \"xaxis\": \"x\", \"y\": [0.0, 0.0, 0.0, 0.0, 5.0, 19.0, 29.0, 77.0, 87.0, 115.0, 196.0, 252.0, 373.0, 508.0, 686.0, 750.0, 1057.0, 1192.0, 1538.0, 1912.0, 2207.0, 2552.0, 2703.0, 2853.0, 3849.0, 4629.0, 6845.0, 7553.0, 9181.0, 9470.0, 10842.0, 11047.0, 10606.0, 9134.0, 8956.0, 7518.0, 7585.0, 6149.0, 5234.0, 4921.0, 4249.0, 3865.0], \"yaxis\": \"y\"}],\n",
       "                        {\"legend\": {\"title\": {\"text\": \"State\"}, \"tracegroupgap\": 0}, \"template\": {\"data\": {\"bar\": [{\"error_x\": {\"color\": \"#f2f5fa\"}, \"error_y\": {\"color\": \"#f2f5fa\"}, \"marker\": {\"line\": {\"color\": \"rgb(17,17,17)\", \"width\": 0.5}}, \"type\": \"bar\"}], \"barpolar\": [{\"marker\": {\"line\": {\"color\": \"rgb(17,17,17)\", \"width\": 0.5}}, \"type\": \"barpolar\"}], \"carpet\": [{\"aaxis\": {\"endlinecolor\": \"#A2B1C6\", \"gridcolor\": \"#506784\", \"linecolor\": \"#506784\", \"minorgridcolor\": \"#506784\", \"startlinecolor\": \"#A2B1C6\"}, \"baxis\": {\"endlinecolor\": \"#A2B1C6\", \"gridcolor\": \"#506784\", \"linecolor\": \"#506784\", \"minorgridcolor\": \"#506784\", \"startlinecolor\": \"#A2B1C6\"}, \"type\": \"carpet\"}], \"choropleth\": [{\"colorbar\": {\"outlinewidth\": 0, \"ticks\": \"\"}, \"type\": \"choropleth\"}], \"contour\": [{\"colorbar\": {\"outlinewidth\": 0, \"ticks\": \"\"}, \"colorscale\": [[0.0, \"#0d0887\"], [0.1111111111111111, \"#46039f\"], [0.2222222222222222, \"#7201a8\"], [0.3333333333333333, \"#9c179e\"], [0.4444444444444444, \"#bd3786\"], [0.5555555555555556, \"#d8576b\"], [0.6666666666666666, \"#ed7953\"], [0.7777777777777778, \"#fb9f3a\"], [0.8888888888888888, \"#fdca26\"], [1.0, \"#f0f921\"]], \"type\": \"contour\"}], \"contourcarpet\": [{\"colorbar\": {\"outlinewidth\": 0, \"ticks\": \"\"}, \"type\": \"contourcarpet\"}], \"heatmap\": [{\"colorbar\": {\"outlinewidth\": 0, \"ticks\": \"\"}, \"colorscale\": [[0.0, \"#0d0887\"], [0.1111111111111111, \"#46039f\"], [0.2222222222222222, \"#7201a8\"], [0.3333333333333333, \"#9c179e\"], [0.4444444444444444, \"#bd3786\"], [0.5555555555555556, \"#d8576b\"], [0.6666666666666666, \"#ed7953\"], [0.7777777777777778, \"#fb9f3a\"], [0.8888888888888888, \"#fdca26\"], [1.0, \"#f0f921\"]], \"type\": \"heatmap\"}], \"heatmapgl\": [{\"colorbar\": {\"outlinewidth\": 0, \"ticks\": \"\"}, \"colorscale\": [[0.0, \"#0d0887\"], [0.1111111111111111, \"#46039f\"], [0.2222222222222222, \"#7201a8\"], [0.3333333333333333, \"#9c179e\"], [0.4444444444444444, \"#bd3786\"], [0.5555555555555556, \"#d8576b\"], [0.6666666666666666, \"#ed7953\"], [0.7777777777777778, \"#fb9f3a\"], [0.8888888888888888, \"#fdca26\"], [1.0, \"#f0f921\"]], \"type\": \"heatmapgl\"}], \"histogram\": [{\"marker\": {\"colorbar\": {\"outlinewidth\": 0, \"ticks\": \"\"}}, \"type\": \"histogram\"}], \"histogram2d\": [{\"colorbar\": {\"outlinewidth\": 0, \"ticks\": \"\"}, \"colorscale\": [[0.0, \"#0d0887\"], [0.1111111111111111, \"#46039f\"], [0.2222222222222222, \"#7201a8\"], [0.3333333333333333, \"#9c179e\"], [0.4444444444444444, \"#bd3786\"], [0.5555555555555556, \"#d8576b\"], [0.6666666666666666, \"#ed7953\"], [0.7777777777777778, \"#fb9f3a\"], [0.8888888888888888, \"#fdca26\"], [1.0, \"#f0f921\"]], \"type\": \"histogram2d\"}], \"histogram2dcontour\": [{\"colorbar\": {\"outlinewidth\": 0, \"ticks\": \"\"}, \"colorscale\": [[0.0, \"#0d0887\"], [0.1111111111111111, \"#46039f\"], [0.2222222222222222, \"#7201a8\"], [0.3333333333333333, \"#9c179e\"], [0.4444444444444444, \"#bd3786\"], [0.5555555555555556, \"#d8576b\"], [0.6666666666666666, \"#ed7953\"], [0.7777777777777778, \"#fb9f3a\"], [0.8888888888888888, \"#fdca26\"], [1.0, \"#f0f921\"]], \"type\": \"histogram2dcontour\"}], \"mesh3d\": [{\"colorbar\": {\"outlinewidth\": 0, \"ticks\": \"\"}, \"type\": \"mesh3d\"}], \"parcoords\": [{\"line\": {\"colorbar\": {\"outlinewidth\": 0, \"ticks\": \"\"}}, \"type\": \"parcoords\"}], \"pie\": [{\"automargin\": true, \"type\": \"pie\"}], \"scatter\": [{\"marker\": {\"line\": {\"color\": \"#283442\"}}, \"type\": \"scatter\"}], \"scatter3d\": [{\"line\": {\"colorbar\": {\"outlinewidth\": 0, \"ticks\": \"\"}}, \"marker\": {\"colorbar\": {\"outlinewidth\": 0, \"ticks\": \"\"}}, \"type\": \"scatter3d\"}], \"scattercarpet\": [{\"marker\": {\"colorbar\": {\"outlinewidth\": 0, \"ticks\": \"\"}}, \"type\": \"scattercarpet\"}], \"scattergeo\": [{\"marker\": {\"colorbar\": {\"outlinewidth\": 0, \"ticks\": \"\"}}, \"type\": \"scattergeo\"}], \"scattergl\": [{\"marker\": {\"line\": {\"color\": \"#283442\"}}, \"type\": \"scattergl\"}], \"scattermapbox\": [{\"marker\": {\"colorbar\": {\"outlinewidth\": 0, \"ticks\": \"\"}}, \"type\": \"scattermapbox\"}], \"scatterpolar\": [{\"marker\": {\"colorbar\": {\"outlinewidth\": 0, \"ticks\": \"\"}}, \"type\": \"scatterpolar\"}], \"scatterpolargl\": [{\"marker\": {\"colorbar\": {\"outlinewidth\": 0, \"ticks\": \"\"}}, \"type\": \"scatterpolargl\"}], \"scatterternary\": [{\"marker\": {\"colorbar\": {\"outlinewidth\": 0, \"ticks\": \"\"}}, \"type\": \"scatterternary\"}], \"surface\": [{\"colorbar\": {\"outlinewidth\": 0, \"ticks\": \"\"}, \"colorscale\": [[0.0, \"#0d0887\"], [0.1111111111111111, \"#46039f\"], [0.2222222222222222, \"#7201a8\"], [0.3333333333333333, \"#9c179e\"], [0.4444444444444444, \"#bd3786\"], [0.5555555555555556, \"#d8576b\"], [0.6666666666666666, \"#ed7953\"], [0.7777777777777778, \"#fb9f3a\"], [0.8888888888888888, \"#fdca26\"], [1.0, \"#f0f921\"]], \"type\": \"surface\"}], \"table\": [{\"cells\": {\"fill\": {\"color\": \"#506784\"}, \"line\": {\"color\": \"rgb(17,17,17)\"}}, \"header\": {\"fill\": {\"color\": \"#2a3f5f\"}, \"line\": {\"color\": \"rgb(17,17,17)\"}}, \"type\": \"table\"}]}, \"layout\": {\"annotationdefaults\": {\"arrowcolor\": \"#f2f5fa\", \"arrowhead\": 0, \"arrowwidth\": 1}, \"coloraxis\": {\"colorbar\": {\"outlinewidth\": 0, \"ticks\": \"\"}}, \"colorscale\": {\"diverging\": [[0, \"#8e0152\"], [0.1, \"#c51b7d\"], [0.2, \"#de77ae\"], [0.3, \"#f1b6da\"], [0.4, \"#fde0ef\"], [0.5, \"#f7f7f7\"], [0.6, \"#e6f5d0\"], [0.7, \"#b8e186\"], [0.8, \"#7fbc41\"], [0.9, \"#4d9221\"], [1, \"#276419\"]], \"sequential\": [[0.0, \"#0d0887\"], [0.1111111111111111, \"#46039f\"], [0.2222222222222222, \"#7201a8\"], [0.3333333333333333, \"#9c179e\"], [0.4444444444444444, \"#bd3786\"], [0.5555555555555556, \"#d8576b\"], [0.6666666666666666, \"#ed7953\"], [0.7777777777777778, \"#fb9f3a\"], [0.8888888888888888, \"#fdca26\"], [1.0, \"#f0f921\"]], \"sequentialminus\": [[0.0, \"#0d0887\"], [0.1111111111111111, \"#46039f\"], [0.2222222222222222, \"#7201a8\"], [0.3333333333333333, \"#9c179e\"], [0.4444444444444444, \"#bd3786\"], [0.5555555555555556, \"#d8576b\"], [0.6666666666666666, \"#ed7953\"], [0.7777777777777778, \"#fb9f3a\"], [0.8888888888888888, \"#fdca26\"], [1.0, \"#f0f921\"]]}, \"colorway\": [\"#636efa\", \"#EF553B\", \"#00cc96\", \"#ab63fa\", \"#FFA15A\", \"#19d3f3\", \"#FF6692\", \"#B6E880\", \"#FF97FF\", \"#FECB52\"], \"font\": {\"color\": \"#f2f5fa\"}, \"geo\": {\"bgcolor\": \"rgb(17,17,17)\", \"lakecolor\": \"rgb(17,17,17)\", \"landcolor\": \"rgb(17,17,17)\", \"showlakes\": true, \"showland\": true, \"subunitcolor\": \"#506784\"}, \"hoverlabel\": {\"align\": \"left\"}, \"hovermode\": \"closest\", \"mapbox\": {\"style\": \"dark\"}, \"paper_bgcolor\": \"rgb(17,17,17)\", \"plot_bgcolor\": \"rgb(17,17,17)\", \"polar\": {\"angularaxis\": {\"gridcolor\": \"#506784\", \"linecolor\": \"#506784\", \"ticks\": \"\"}, \"bgcolor\": \"rgb(17,17,17)\", \"radialaxis\": {\"gridcolor\": \"#506784\", \"linecolor\": \"#506784\", \"ticks\": \"\"}}, \"scene\": {\"xaxis\": {\"backgroundcolor\": \"rgb(17,17,17)\", \"gridcolor\": \"#506784\", \"gridwidth\": 2, \"linecolor\": \"#506784\", \"showbackground\": true, \"ticks\": \"\", \"zerolinecolor\": \"#C8D4E3\"}, \"yaxis\": {\"backgroundcolor\": \"rgb(17,17,17)\", \"gridcolor\": \"#506784\", \"gridwidth\": 2, \"linecolor\": \"#506784\", \"showbackground\": true, \"ticks\": \"\", \"zerolinecolor\": \"#C8D4E3\"}, \"zaxis\": {\"backgroundcolor\": \"rgb(17,17,17)\", \"gridcolor\": \"#506784\", \"gridwidth\": 2, \"linecolor\": \"#506784\", \"showbackground\": true, \"ticks\": \"\", \"zerolinecolor\": \"#C8D4E3\"}}, \"shapedefaults\": {\"line\": {\"color\": \"#f2f5fa\"}}, \"sliderdefaults\": {\"bgcolor\": \"#C8D4E3\", \"bordercolor\": \"rgb(17,17,17)\", \"borderwidth\": 1, \"tickwidth\": 0}, \"ternary\": {\"aaxis\": {\"gridcolor\": \"#506784\", \"linecolor\": \"#506784\", \"ticks\": \"\"}, \"baxis\": {\"gridcolor\": \"#506784\", \"linecolor\": \"#506784\", \"ticks\": \"\"}, \"bgcolor\": \"rgb(17,17,17)\", \"caxis\": {\"gridcolor\": \"#506784\", \"linecolor\": \"#506784\", \"ticks\": \"\"}}, \"title\": {\"x\": 0.05}, \"updatemenudefaults\": {\"bgcolor\": \"#506784\", \"borderwidth\": 0}, \"xaxis\": {\"automargin\": true, \"gridcolor\": \"#283442\", \"linecolor\": \"#506784\", \"ticks\": \"\", \"title\": {\"standoff\": 15}, \"zerolinecolor\": \"#283442\", \"zerolinewidth\": 2}, \"yaxis\": {\"automargin\": true, \"gridcolor\": \"#283442\", \"linecolor\": \"#506784\", \"ticks\": \"\", \"title\": {\"standoff\": 15}, \"zerolinecolor\": \"#283442\", \"zerolinewidth\": 2}}}, \"title\": {\"text\": \"New Cases to Confirmed Cases (Log Scale)\"}, \"xaxis\": {\"anchor\": \"y\", \"domain\": [0.0, 1.0], \"title\": {\"text\": \"Confirmed\"}, \"type\": \"log\"}, \"yaxis\": {\"anchor\": \"x\", \"domain\": [0.0, 1.0], \"title\": {\"text\": \"New_Weekly_Cases\"}, \"type\": \"log\"}},\n",
       "                        {\"responsive\": true}\n",
       "                    ).then(function(){\n",
       "                            \n",
       "var gd = document.getElementById('2c6bf86a-5f2d-4378-b386-cea9b6ef8f4a');\n",
       "var x = new MutationObserver(function (mutations, observer) {{\n",
       "        var display = window.getComputedStyle(gd).display;\n",
       "        if (!display || display === 'none') {{\n",
       "            console.log([gd, 'removed!']);\n",
       "            Plotly.purge(gd);\n",
       "            observer.disconnect();\n",
       "        }}\n",
       "}});\n",
       "\n",
       "// Listen for the removal of the full notebook cells\n",
       "var notebookContainer = gd.closest('#notebook-container');\n",
       "if (notebookContainer) {{\n",
       "    x.observe(notebookContainer, {childList: true});\n",
       "}}\n",
       "\n",
       "// Listen for the clearing of the current output cell\n",
       "var outputEl = gd.closest('.output');\n",
       "if (outputEl) {{\n",
       "    x.observe(outputEl, {childList: true});\n",
       "}}\n",
       "\n",
       "                        })\n",
       "                };\n",
       "                });\n",
       "            </script>\n",
       "        </div>"
      ]
     },
     "metadata": {},
     "output_type": "display_data"
    }
   ],
   "source": [
    "hardest_hit_states = list(grouped_df.groupby('State').agg('max')['Confirmed'].sort_values(ascending=False)[0:15].index)\n",
    "\n",
    "new_log_cases = grouped_df.loc[grouped_df['State'].isin(hardest_hit_states)]\n",
    "px.line(new_log_cases,\n",
    "                        x='Confirmed',\n",
    "                        y='New_Weekly_Cases',\n",
    "                        log_x='True',\n",
    "                        log_y='True',\n",
    "                        template='plotly_dark',\n",
    "                        color='State',\n",
    "                        title='New Cases to Confirmed Cases (Log Scale)',\n",
    "                        )"
   ]
  },
  {
   "cell_type": "code",
   "execution_count": 90,
   "metadata": {},
   "outputs": [],
   "source": [
    "state_list = list(grouped_df.State.unique())"
   ]
  },
  {
   "cell_type": "code",
   "execution_count": 91,
   "metadata": {},
   "outputs": [
    {
     "data": {
      "application/vnd.jupyter.widget-view+json": {
       "model_id": "201d0d37458e4dd4ad3e61e3d6c26764",
       "version_major": 2,
       "version_minor": 0
      },
      "text/plain": [
       "interactive(children=(Dropdown(description='Type', options=('Washington', 'Rhode Island', 'Michigan', 'South C…"
      ]
     },
     "metadata": {},
     "output_type": "display_data"
    }
   ],
   "source": [
    "@interact(Type=state_list)\n",
    "def viz(Type):\n",
    "    state = Type\n",
    "    df_state = grouped_df[grouped_df['State']==state]\n",
    "    df_melt = pd.melt(df_state, id_vars =['Date'], \n",
    "                  value_vars=['Confirmed','Deaths','totalTestResults'],\n",
    "                 var_name = 'Status', value_name = 'Cases')\n",
    "    fig = px.line(df_melt,x='Date',y='Cases', color='Status',template='plotly_dark')\n",
    "    fig.show()"
   ]
  },
  {
   "cell_type": "code",
   "execution_count": null,
   "metadata": {},
   "outputs": [],
   "source": []
  },
  {
   "cell_type": "code",
   "execution_count": null,
   "metadata": {},
   "outputs": [],
   "source": []
  }
 ],
 "metadata": {
  "kernelspec": {
   "display_name": "Python 3",
   "language": "python",
   "name": "python3"
  },
  "language_info": {
   "codemirror_mode": {
    "name": "ipython",
    "version": 3
   },
   "file_extension": ".py",
   "mimetype": "text/x-python",
   "name": "python",
   "nbconvert_exporter": "python",
   "pygments_lexer": "ipython3",
   "version": "3.7.6"
  }
 },
 "nbformat": 4,
 "nbformat_minor": 2
}
