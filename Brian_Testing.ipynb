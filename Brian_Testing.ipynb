{
 "cells": [
  {
   "cell_type": "code",
   "execution_count": 2,
   "metadata": {
    "slideshow": {
     "slide_type": "subslide"
    }
   },
   "outputs": [],
   "source": [
    "import pandas as pd\n",
    "import numpy as np\n",
    "import plotly.express as px"
   ]
  },
  {
   "cell_type": "code",
   "execution_count": 3,
   "metadata": {},
   "outputs": [],
   "source": [
    "global_df = pd.read_pickle('data/COVID_Hopkins_df.pickle')"
   ]
  },
  {
   "cell_type": "code",
   "execution_count": 4,
   "metadata": {},
   "outputs": [
    {
     "data": {
      "text/html": [
       "<div>\n",
       "<style scoped>\n",
       "    .dataframe tbody tr th:only-of-type {\n",
       "        vertical-align: middle;\n",
       "    }\n",
       "\n",
       "    .dataframe tbody tr th {\n",
       "        vertical-align: top;\n",
       "    }\n",
       "\n",
       "    .dataframe thead th {\n",
       "        text-align: right;\n",
       "    }\n",
       "</style>\n",
       "<table border=\"1\" class=\"dataframe\">\n",
       "  <thead>\n",
       "    <tr style=\"text-align: right;\">\n",
       "      <th></th>\n",
       "      <th>Date</th>\n",
       "      <th>Country/Region</th>\n",
       "      <th>Confirmed</th>\n",
       "      <th>Deaths</th>\n",
       "      <th>Recovered</th>\n",
       "      <th>Active</th>\n",
       "      <th>Datetime</th>\n",
       "      <th>PopTotal</th>\n",
       "      <th>Confirmed Cases Per 1M</th>\n",
       "      <th>New Weekly Cases</th>\n",
       "    </tr>\n",
       "  </thead>\n",
       "  <tbody>\n",
       "    <tr>\n",
       "      <th>11845</th>\n",
       "      <td>4/1/20</td>\n",
       "      <td>Zimbabwe</td>\n",
       "      <td>8</td>\n",
       "      <td>1</td>\n",
       "      <td>0</td>\n",
       "      <td>7</td>\n",
       "      <td>2020-04-01</td>\n",
       "      <td>14862.927</td>\n",
       "      <td>0.538252</td>\n",
       "      <td>5.0</td>\n",
       "    </tr>\n",
       "    <tr>\n",
       "      <th>11846</th>\n",
       "      <td>4/2/20</td>\n",
       "      <td>Zimbabwe</td>\n",
       "      <td>9</td>\n",
       "      <td>1</td>\n",
       "      <td>0</td>\n",
       "      <td>8</td>\n",
       "      <td>2020-04-02</td>\n",
       "      <td>14862.927</td>\n",
       "      <td>0.605533</td>\n",
       "      <td>6.0</td>\n",
       "    </tr>\n",
       "    <tr>\n",
       "      <th>11847</th>\n",
       "      <td>4/3/20</td>\n",
       "      <td>Zimbabwe</td>\n",
       "      <td>9</td>\n",
       "      <td>1</td>\n",
       "      <td>0</td>\n",
       "      <td>8</td>\n",
       "      <td>2020-04-03</td>\n",
       "      <td>14862.927</td>\n",
       "      <td>0.605533</td>\n",
       "      <td>4.0</td>\n",
       "    </tr>\n",
       "    <tr>\n",
       "      <th>11848</th>\n",
       "      <td>4/4/20</td>\n",
       "      <td>Zimbabwe</td>\n",
       "      <td>9</td>\n",
       "      <td>1</td>\n",
       "      <td>0</td>\n",
       "      <td>8</td>\n",
       "      <td>2020-04-04</td>\n",
       "      <td>14862.927</td>\n",
       "      <td>0.605533</td>\n",
       "      <td>2.0</td>\n",
       "    </tr>\n",
       "    <tr>\n",
       "      <th>11849</th>\n",
       "      <td>4/5/20</td>\n",
       "      <td>Zimbabwe</td>\n",
       "      <td>9</td>\n",
       "      <td>1</td>\n",
       "      <td>0</td>\n",
       "      <td>8</td>\n",
       "      <td>2020-04-05</td>\n",
       "      <td>14862.927</td>\n",
       "      <td>0.605533</td>\n",
       "      <td>2.0</td>\n",
       "    </tr>\n",
       "  </tbody>\n",
       "</table>\n",
       "</div>"
      ],
      "text/plain": [
       "         Date Country/Region  Confirmed  Deaths  Recovered  Active   Datetime  \\\n",
       "11845  4/1/20       Zimbabwe          8       1          0       7 2020-04-01   \n",
       "11846  4/2/20       Zimbabwe          9       1          0       8 2020-04-02   \n",
       "11847  4/3/20       Zimbabwe          9       1          0       8 2020-04-03   \n",
       "11848  4/4/20       Zimbabwe          9       1          0       8 2020-04-04   \n",
       "11849  4/5/20       Zimbabwe          9       1          0       8 2020-04-05   \n",
       "\n",
       "        PopTotal  Confirmed Cases Per 1M  New Weekly Cases  \n",
       "11845  14862.927                0.538252               5.0  \n",
       "11846  14862.927                0.605533               6.0  \n",
       "11847  14862.927                0.605533               4.0  \n",
       "11848  14862.927                0.605533               2.0  \n",
       "11849  14862.927                0.605533               2.0  "
      ]
     },
     "execution_count": 4,
     "metadata": {},
     "output_type": "execute_result"
    }
   ],
   "source": [
    "global_df.tail()"
   ]
  },
  {
   "cell_type": "code",
   "execution_count": 5,
   "metadata": {},
   "outputs": [],
   "source": [
    "us_df = pd.read_pickle('data/CSSE_US_df.pickle')"
   ]
  },
  {
   "cell_type": "code",
   "execution_count": 6,
   "metadata": {},
   "outputs": [
    {
     "data": {
      "text/html": [
       "<div>\n",
       "<style scoped>\n",
       "    .dataframe tbody tr th:only-of-type {\n",
       "        vertical-align: middle;\n",
       "    }\n",
       "\n",
       "    .dataframe tbody tr th {\n",
       "        vertical-align: top;\n",
       "    }\n",
       "\n",
       "    .dataframe thead th {\n",
       "        text-align: right;\n",
       "    }\n",
       "</style>\n",
       "<table border=\"1\" class=\"dataframe\">\n",
       "  <thead>\n",
       "    <tr style=\"text-align: right;\">\n",
       "      <th></th>\n",
       "      <th>Date</th>\n",
       "      <th>State</th>\n",
       "      <th>Confirmed</th>\n",
       "      <th>State_code</th>\n",
       "      <th>Deaths</th>\n",
       "      <th>Datetime</th>\n",
       "      <th>New_Weekly_Cases</th>\n",
       "    </tr>\n",
       "  </thead>\n",
       "  <tbody>\n",
       "    <tr>\n",
       "      <th>3970</th>\n",
       "      <td>4/1/20</td>\n",
       "      <td>Wyoming</td>\n",
       "      <td>130</td>\n",
       "      <td>WY</td>\n",
       "      <td>0</td>\n",
       "      <td>2020-04-01</td>\n",
       "      <td>86.0</td>\n",
       "    </tr>\n",
       "    <tr>\n",
       "      <th>3971</th>\n",
       "      <td>4/2/20</td>\n",
       "      <td>Wyoming</td>\n",
       "      <td>150</td>\n",
       "      <td>WY</td>\n",
       "      <td>0</td>\n",
       "      <td>2020-04-02</td>\n",
       "      <td>97.0</td>\n",
       "    </tr>\n",
       "    <tr>\n",
       "      <th>3972</th>\n",
       "      <td>4/3/20</td>\n",
       "      <td>Wyoming</td>\n",
       "      <td>162</td>\n",
       "      <td>WY</td>\n",
       "      <td>0</td>\n",
       "      <td>2020-04-03</td>\n",
       "      <td>92.0</td>\n",
       "    </tr>\n",
       "    <tr>\n",
       "      <th>3973</th>\n",
       "      <td>4/4/20</td>\n",
       "      <td>Wyoming</td>\n",
       "      <td>187</td>\n",
       "      <td>WY</td>\n",
       "      <td>0</td>\n",
       "      <td>2020-04-04</td>\n",
       "      <td>105.0</td>\n",
       "    </tr>\n",
       "    <tr>\n",
       "      <th>3974</th>\n",
       "      <td>4/5/20</td>\n",
       "      <td>Wyoming</td>\n",
       "      <td>197</td>\n",
       "      <td>WY</td>\n",
       "      <td>0</td>\n",
       "      <td>2020-04-05</td>\n",
       "      <td>111.0</td>\n",
       "    </tr>\n",
       "  </tbody>\n",
       "</table>\n",
       "</div>"
      ],
      "text/plain": [
       "        Date    State  Confirmed State_code  Deaths   Datetime  \\\n",
       "3970  4/1/20  Wyoming        130         WY       0 2020-04-01   \n",
       "3971  4/2/20  Wyoming        150         WY       0 2020-04-02   \n",
       "3972  4/3/20  Wyoming        162         WY       0 2020-04-03   \n",
       "3973  4/4/20  Wyoming        187         WY       0 2020-04-04   \n",
       "3974  4/5/20  Wyoming        197         WY       0 2020-04-05   \n",
       "\n",
       "      New_Weekly_Cases  \n",
       "3970              86.0  \n",
       "3971              97.0  \n",
       "3972              92.0  \n",
       "3973             105.0  \n",
       "3974             111.0  "
      ]
     },
     "execution_count": 6,
     "metadata": {},
     "output_type": "execute_result"
    }
   ],
   "source": [
    "us_df.tail()"
   ]
  },
  {
   "cell_type": "code",
   "execution_count": 8,
   "metadata": {},
   "outputs": [
    {
     "ename": "TypeError",
     "evalue": "sunburst() got an unexpected keyword argument 'path'",
     "output_type": "error",
     "traceback": [
      "\u001b[1;31m---------------------------------------------------------------------------\u001b[0m",
      "\u001b[1;31mTypeError\u001b[0m                                 Traceback (most recent call last)",
      "\u001b[1;32m<ipython-input-8-d9447c21f44f>\u001b[0m in \u001b[0;36m<module>\u001b[1;34m\u001b[0m\n\u001b[1;32m----> 1\u001b[1;33m \u001b[0mfig\u001b[0m \u001b[1;33m=\u001b[0m \u001b[0mpx\u001b[0m\u001b[1;33m.\u001b[0m\u001b[0msunburst\u001b[0m\u001b[1;33m(\u001b[0m\u001b[0mus_df\u001b[0m\u001b[1;33m,\u001b[0m \u001b[0mpath\u001b[0m\u001b[1;33m=\u001b[0m\u001b[1;33m[\u001b[0m\u001b[1;34m'State'\u001b[0m\u001b[1;33m,\u001b[0m \u001b[1;34m'Date'\u001b[0m\u001b[1;33m]\u001b[0m\u001b[1;33m,\u001b[0m \u001b[0mvalues\u001b[0m\u001b[1;33m=\u001b[0m\u001b[1;34m'Confirmed'\u001b[0m\u001b[1;33m)\u001b[0m\u001b[1;33m\u001b[0m\u001b[1;33m\u001b[0m\u001b[0m\n\u001b[0m\u001b[0;32m      2\u001b[0m \u001b[0mfig\u001b[0m\u001b[1;33m.\u001b[0m\u001b[0mshow\u001b[0m\u001b[1;33m(\u001b[0m\u001b[1;33m)\u001b[0m\u001b[1;33m\u001b[0m\u001b[1;33m\u001b[0m\u001b[0m\n",
      "\u001b[1;31mTypeError\u001b[0m: sunburst() got an unexpected keyword argument 'path'"
     ]
    }
   ],
   "source": [
    "fig = px.sunburst(us_df, path=['Confirmed', 'Deaths'], values='Confirmed')\n",
    "fig.show()"
   ]
  }
 ],
 "metadata": {
  "kernelspec": {
   "display_name": "Python 3",
   "language": "python",
   "name": "python3"
  },
  "language_info": {
   "codemirror_mode": {
    "name": "ipython",
    "version": 3
   },
   "file_extension": ".py",
   "mimetype": "text/x-python",
   "name": "python",
   "nbconvert_exporter": "python",
   "pygments_lexer": "ipython3",
   "version": "3.7.4"
  }
 },
 "nbformat": 4,
 "nbformat_minor": 2
}
