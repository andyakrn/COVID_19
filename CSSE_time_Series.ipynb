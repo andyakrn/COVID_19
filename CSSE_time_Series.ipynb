{
 "cells": [
  {
   "cell_type": "markdown",
   "metadata": {},
   "source": [
    "<h2><center>\n",
    "    Loading In Data\n",
    "    </center></h2>"
   ]
  },
  {
   "cell_type": "code",
   "execution_count": 97,
   "metadata": {},
   "outputs": [],
   "source": [
    "from github import Github\n",
    "import os\n",
    "import pickle\n",
    "import base64\n",
    "import pandas as pd\n",
    "import datetime as dt\n",
    "from os import listdir\n",
    "from os.path import isfile, join\n",
    "\n",
    "mypath = 'data_csse/'"
   ]
  },
  {
   "cell_type": "code",
   "execution_count": 98,
   "metadata": {},
   "outputs": [],
   "source": [
    "with open(\"github.txt\") as myfile:\n",
    "    firstNlines=myfile.readlines()[0:2]\n",
    "myfile.close()\n",
    "g = Github(firstNlines[0].strip(), firstNlines[1])\n",
    "repo=g.get_repo('CSSEGISandData/COVID-19')\n",
    "contents = repo.get_contents(\"\")"
   ]
  },
  {
   "cell_type": "code",
   "execution_count": 99,
   "metadata": {},
   "outputs": [],
   "source": [
    "def get_sha_for_tag(repository, tag):\n",
    "    branches = repository.get_branches()\n",
    "    matched_branches = [match for match in branches if match.name == tag]\n",
    "    if matched_branches:\n",
    "        return matched_branches[0].commit.sha\n",
    "\n",
    "    tags = repository.get_tags()\n",
    "    matched_tags = [match for match in tags if match.name == tag]\n",
    "    if not matched_tags:\n",
    "        raise ValueError('No Tag or Branch exists with that name')\n",
    "    return matched_tags[0].commit.sha"
   ]
  },
  {
   "cell_type": "code",
   "execution_count": 100,
   "metadata": {},
   "outputs": [],
   "source": [
    "def download_directory(repository, sha, server_path, local_path=mypath):\n",
    "    contents = repository.get_contents(server_path, ref=sha)\n",
    "    if not os.path.exists(local_path):\n",
    "        os.makedirs(local_path)\n",
    "    for content in contents:\n",
    "        if content.type == 'dir':\n",
    "            download_directory(repository, sha, content.path)\n",
    "        else:\n",
    "            try:\n",
    "                path = content.path\n",
    "                file_content = repository.get_contents(path, ref=sha)\n",
    "                file_data = base64.b64decode(file_content.content).decode('ascii')\n",
    "                file_out = open(local_path+content.name, \"w\")\n",
    "                file_out.write(local_path+file_data)\n",
    "                file_out.close()\n",
    "            except:\n",
    "                pass"
   ]
  },
  {
   "cell_type": "code",
   "execution_count": 101,
   "metadata": {},
   "outputs": [],
   "source": [
    "def is_non_zero_file(fpath):\n",
    "    return os.path.isfile(fpath) and os.path.getsize(fpath) > 0"
   ]
  },
  {
   "cell_type": "code",
   "execution_count": 102,
   "metadata": {},
   "outputs": [],
   "source": [
    "def preprocess_df(df, name):\n",
    "    df.drop(columns=['data_csse/Province/State', 'Lat', 'Long'], inplace=True)\n",
    "    df = df.groupby(['Country/Region']).agg('sum')\n",
    "    df = df.transpose().reset_index()\n",
    "    country_list = list(df.columns)[1:]\n",
    "    df = pd.melt(df, id_vars='index', value_vars=country_list)\n",
    "    df = df.rename(columns={'index':'Date', 'value':name})\n",
    "    return df"
   ]
  },
  {
   "cell_type": "code",
   "execution_count": 103,
   "metadata": {},
   "outputs": [],
   "source": [
    "sha = get_sha_for_tag(repo, 'master')\n",
    "download_directory(repo, sha, 'csse_covid_19_data/csse_covid_19_time_series/')"
   ]
  },
  {
   "cell_type": "code",
   "execution_count": 104,
   "metadata": {},
   "outputs": [],
   "source": [
    "#onlyfiles = [f for f in listdir(mypath) if isfile(join(mypath, f))]\n",
    "\n",
    "# timeseries_files = []\n",
    "# for file in onlyfiles:\n",
    "#     if is_non_zero_file(mypath + file) and file[-10:]=='global.csv':\n",
    "#         timeseries_files.append(mypath + file)"
   ]
  },
  {
   "cell_type": "code",
   "execution_count": null,
   "metadata": {},
   "outputs": [],
   "source": []
  },
  {
   "cell_type": "code",
   "execution_count": 105,
   "metadata": {},
   "outputs": [],
   "source": [
    "confirmed_df = pd.read_csv('data_csse/time_series_covid19_confirmed_global.csv')\n",
    "deaths_df = pd.read_csv('data_csse/time_series_covid19_deaths_global.csv')\n",
    "recovered_df = pd.read_csv('data_csse/time_series_covid19_recovered_global.csv')"
   ]
  },
  {
   "cell_type": "code",
   "execution_count": 106,
   "metadata": {},
   "outputs": [],
   "source": [
    "confirmed_df = preprocess_df(confirmed_df, 'Confirmed')\n",
    "deaths_df = preprocess_df(deaths_df, 'Deaths')\n",
    "recovered_df = preprocess_df(recovered_df, 'Recovered')"
   ]
  },
  {
   "cell_type": "markdown",
   "metadata": {},
   "source": [
    "<h2><center>\n",
    "    Preprocessing Data\n",
    "    </center></h2>"
   ]
  },
  {
   "cell_type": "code",
   "execution_count": 107,
   "metadata": {
    "scrolled": true
   },
   "outputs": [],
   "source": [
    "confirmed_and_deaths = pd.merge(confirmed_df, deaths_df, how='inner', on=['Date', 'Country/Region'])\n",
    "grouped_df = pd.merge(confirmed_and_deaths, recovered_df, how='inner', on=['Date', 'Country/Region'])\n",
    "grouped_df['Active'] = grouped_df['Confirmed']-grouped_df['Deaths']-grouped_df['Recovered']\n",
    "grouped_df['Datetime'] = grouped_df['Date'].apply(lambda x: pd.to_datetime(x))"
   ]
  },
  {
   "cell_type": "code",
   "execution_count": 108,
   "metadata": {},
   "outputs": [],
   "source": [
    "pop_df = pd.read_csv('pop_df4.csv')\n",
    "pop_df['Country/Region'] = pop_df['Country/Region'].apply(lambda x: x.replace('Mainland China', 'China'))\n",
    "pop_df.drop(columns=['Unnamed: 0'], inplace=True)"
   ]
  },
  {
   "cell_type": "code",
   "execution_count": 109,
   "metadata": {},
   "outputs": [],
   "source": [
    "country_list=[('Mainland China', 'China'),\n",
    "('Hong Kong SAR', 'Hong Kong'),\n",
    "(['Korea, South', 'Republic of Korea'], 'South Korea'),\n",
    "('United Kingdom', 'UK'),\n",
    "(['Taiwan*', 'Taipei and environs'], 'Taiwan'),\n",
    "('Iran (Islamic Republic of)', 'Iran'),\n",
    "('Viet Nam', 'Vietnam'),\n",
    "('Macao SAR', 'Macau'),\n",
    "('Republic of Ireland', 'Ireland'),\n",
    "('Czechia', 'Czech Republic'),\n",
    "('occupied Palestinian territory', 'Palestine'),\n",
    "('Russian Federation', 'Russia'),\n",
    "(' Azerbaijan', 'Azerbaijan'),\n",
    "('Holy See', 'Vatican City'),\n",
    "('Republic of Moldova', 'Moldova'),\n",
    "('Saint Martin', 'St. Martin')]"
   ]
  },
  {
   "cell_type": "code",
   "execution_count": 110,
   "metadata": {},
   "outputs": [],
   "source": [
    "for name in country_list:\n",
    "    grouped_df['Country/Region']=grouped_df['Country/Region'].replace(name[0],name[1])"
   ]
  },
  {
   "cell_type": "code",
   "execution_count": 111,
   "metadata": {},
   "outputs": [],
   "source": [
    "if not 'PopTotal' in set(grouped_df.columns):\n",
    "    grouped_df = pd.merge(grouped_df, pop_df, on='Country/Region')\n",
    "grouped_df['Confirmed Cases Per 1M'] = grouped_df['Confirmed']*1000/grouped_df['PopTotal']\n",
    "grouped_df['Country/Region'] = grouped_df['Country/Region'].str.replace('US', 'United States')"
   ]
  },
  {
   "cell_type": "markdown",
   "metadata": {},
   "source": [
    "<h2><center>\n",
    "    Export Dataframe\n",
    "    </center></h2>"
   ]
  },
  {
   "cell_type": "code",
   "execution_count": 112,
   "metadata": {},
   "outputs": [],
   "source": [
    "with open('COVID_Hopkins_df.pickle', 'wb') as pickle_out:\n",
    "    pickle.dump(grouped_df, pickle_out)"
   ]
  },
  {
   "cell_type": "code",
   "execution_count": 113,
   "metadata": {},
   "outputs": [],
   "source": [
    "with open('../covid19app/COVID_Hopkins_df.pickle', 'wb') as pickle_out:\n",
    "    pickle.dump(grouped_df, pickle_out)"
   ]
  },
  {
   "cell_type": "code",
   "execution_count": 114,
   "metadata": {},
   "outputs": [],
   "source": [
    "grouped_df.to_csv('../covid_tableau/covid_data.csv')"
   ]
  },
  {
   "cell_type": "code",
   "execution_count": 115,
   "metadata": {},
   "outputs": [
    {
     "data": {
      "text/html": [
       "<div>\n",
       "<style scoped>\n",
       "    .dataframe tbody tr th:only-of-type {\n",
       "        vertical-align: middle;\n",
       "    }\n",
       "\n",
       "    .dataframe tbody tr th {\n",
       "        vertical-align: top;\n",
       "    }\n",
       "\n",
       "    .dataframe thead th {\n",
       "        text-align: right;\n",
       "    }\n",
       "</style>\n",
       "<table border=\"1\" class=\"dataframe\">\n",
       "  <thead>\n",
       "    <tr style=\"text-align: right;\">\n",
       "      <th></th>\n",
       "      <th>Date</th>\n",
       "      <th>Country/Region</th>\n",
       "      <th>Confirmed</th>\n",
       "      <th>Deaths</th>\n",
       "      <th>Recovered</th>\n",
       "      <th>Active</th>\n",
       "      <th>Datetime</th>\n",
       "      <th>PopTotal</th>\n",
       "      <th>Confirmed Cases Per 1M</th>\n",
       "    </tr>\n",
       "  </thead>\n",
       "  <tbody>\n",
       "    <tr>\n",
       "      <th>10897</th>\n",
       "      <td>3/26/20</td>\n",
       "      <td>Zimbabwe</td>\n",
       "      <td>3</td>\n",
       "      <td>1</td>\n",
       "      <td>0</td>\n",
       "      <td>2</td>\n",
       "      <td>2020-03-26</td>\n",
       "      <td>14862.927</td>\n",
       "      <td>0.201844</td>\n",
       "    </tr>\n",
       "    <tr>\n",
       "      <th>10898</th>\n",
       "      <td>3/27/20</td>\n",
       "      <td>Zimbabwe</td>\n",
       "      <td>5</td>\n",
       "      <td>1</td>\n",
       "      <td>0</td>\n",
       "      <td>4</td>\n",
       "      <td>2020-03-27</td>\n",
       "      <td>14862.927</td>\n",
       "      <td>0.336407</td>\n",
       "    </tr>\n",
       "    <tr>\n",
       "      <th>10899</th>\n",
       "      <td>3/28/20</td>\n",
       "      <td>Zimbabwe</td>\n",
       "      <td>7</td>\n",
       "      <td>1</td>\n",
       "      <td>0</td>\n",
       "      <td>6</td>\n",
       "      <td>2020-03-28</td>\n",
       "      <td>14862.927</td>\n",
       "      <td>0.470970</td>\n",
       "    </tr>\n",
       "    <tr>\n",
       "      <th>10900</th>\n",
       "      <td>3/29/20</td>\n",
       "      <td>Zimbabwe</td>\n",
       "      <td>7</td>\n",
       "      <td>1</td>\n",
       "      <td>0</td>\n",
       "      <td>6</td>\n",
       "      <td>2020-03-29</td>\n",
       "      <td>14862.927</td>\n",
       "      <td>0.470970</td>\n",
       "    </tr>\n",
       "    <tr>\n",
       "      <th>10901</th>\n",
       "      <td>3/30/20</td>\n",
       "      <td>Zimbabwe</td>\n",
       "      <td>7</td>\n",
       "      <td>1</td>\n",
       "      <td>0</td>\n",
       "      <td>6</td>\n",
       "      <td>2020-03-30</td>\n",
       "      <td>14862.927</td>\n",
       "      <td>0.470970</td>\n",
       "    </tr>\n",
       "  </tbody>\n",
       "</table>\n",
       "</div>"
      ],
      "text/plain": [
       "          Date Country/Region  Confirmed  Deaths  Recovered  Active  \\\n",
       "10897  3/26/20       Zimbabwe          3       1          0       2   \n",
       "10898  3/27/20       Zimbabwe          5       1          0       4   \n",
       "10899  3/28/20       Zimbabwe          7       1          0       6   \n",
       "10900  3/29/20       Zimbabwe          7       1          0       6   \n",
       "10901  3/30/20       Zimbabwe          7       1          0       6   \n",
       "\n",
       "        Datetime   PopTotal  Confirmed Cases Per 1M  \n",
       "10897 2020-03-26  14862.927                0.201844  \n",
       "10898 2020-03-27  14862.927                0.336407  \n",
       "10899 2020-03-28  14862.927                0.470970  \n",
       "10900 2020-03-29  14862.927                0.470970  \n",
       "10901 2020-03-30  14862.927                0.470970  "
      ]
     },
     "execution_count": 115,
     "metadata": {},
     "output_type": "execute_result"
    }
   ],
   "source": [
    "grouped_df.tail()"
   ]
  },
  {
   "cell_type": "code",
   "execution_count": null,
   "metadata": {},
   "outputs": [],
   "source": []
  }
 ],
 "metadata": {
  "kernelspec": {
   "display_name": "Python 3",
   "language": "python",
   "name": "python3"
  },
  "language_info": {
   "codemirror_mode": {
    "name": "ipython",
    "version": 3
   },
   "file_extension": ".py",
   "mimetype": "text/x-python",
   "name": "python",
   "nbconvert_exporter": "python",
   "pygments_lexer": "ipython3",
   "version": "3.7.5"
  }
 },
 "nbformat": 4,
 "nbformat_minor": 2
}
